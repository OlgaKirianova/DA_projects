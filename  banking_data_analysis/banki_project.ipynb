{
 "cells": [
  {
   "cell_type": "markdown",
   "metadata": {},
   "source": [
    "# Исследование надёжности заёмщиков\n",
    "\n",
    "Заказчик — кредитный отдел банка. Нужно разобраться, влияет ли семейное положение, количество детей, уровень дохода клиента и цель кредита на факт его погашения в срок. Входные данные от банка — статистика о платёжеспособности клиентов.\n",
    "\n",
    "Результаты исследования будут учтены при построении модели **кредитного скоринга** — специальной системы, которая оценивает способность потенциального заёмщика вернуть кредит банку."
   ]
  },
  {
   "cell_type": "markdown",
   "metadata": {},
   "source": [
    "# Описание данных\n",
    "\n",
    "* `children` — количество детей в семье\n",
    "* `days_employed` — общий трудовой стаж в днях\n",
    "* `dob_years` — возраст клиента в годах\n",
    "* `education` — уровень образования клиента\n",
    "* `education_id` — идентификатор уровня образования\n",
    "* `family_status` — семейное положение\n",
    "* `family_status_id` — идентификатор семейного положения\n",
    "* `gender` — пол клиента\n",
    "* `income_type` — тип занятости\n",
    "* `debt` — имел ли задолженность по возврату кредитов\n",
    "* `total_income` — ежемесячный доход\n",
    "* `purpose` — цель получения кредита"
   ]
  },
  {
   "cell_type": "markdown",
   "metadata": {},
   "source": [
    "## Загрузка и обзор данных"
   ]
  },
  {
   "cell_type": "code",
   "execution_count": 225,
   "metadata": {},
   "outputs": [],
   "source": [
    "import pandas as pd"
   ]
  },
  {
   "cell_type": "code",
   "execution_count": 226,
   "metadata": {
    "scrolled": true
   },
   "outputs": [
    {
     "name": "stdout",
     "output_type": "stream",
     "text": [
      "<class 'pandas.core.frame.DataFrame'>\n",
      "RangeIndex: 21525 entries, 0 to 21524\n",
      "Data columns (total 12 columns):\n",
      " #   Column            Non-Null Count  Dtype  \n",
      "---  ------            --------------  -----  \n",
      " 0   children          21525 non-null  int64  \n",
      " 1   days_employed     19351 non-null  float64\n",
      " 2   dob_years         21525 non-null  int64  \n",
      " 3   education         21525 non-null  object \n",
      " 4   education_id      21525 non-null  int64  \n",
      " 5   family_status     21525 non-null  object \n",
      " 6   family_status_id  21525 non-null  int64  \n",
      " 7   gender            21525 non-null  object \n",
      " 8   income_type       21525 non-null  object \n",
      " 9   debt              21525 non-null  int64  \n",
      " 10  total_income      19351 non-null  float64\n",
      " 11  purpose           21525 non-null  object \n",
      "dtypes: float64(2), int64(5), object(5)\n",
      "memory usage: 2.0+ MB\n"
     ]
    },
    {
     "data": {
      "text/html": [
       "<div>\n",
       "<style scoped>\n",
       "    .dataframe tbody tr th:only-of-type {\n",
       "        vertical-align: middle;\n",
       "    }\n",
       "\n",
       "    .dataframe tbody tr th {\n",
       "        vertical-align: top;\n",
       "    }\n",
       "\n",
       "    .dataframe thead th {\n",
       "        text-align: right;\n",
       "    }\n",
       "</style>\n",
       "<table border=\"1\" class=\"dataframe\">\n",
       "  <thead>\n",
       "    <tr style=\"text-align: right;\">\n",
       "      <th></th>\n",
       "      <th>children</th>\n",
       "      <th>days_employed</th>\n",
       "      <th>dob_years</th>\n",
       "      <th>education</th>\n",
       "      <th>education_id</th>\n",
       "      <th>family_status</th>\n",
       "      <th>family_status_id</th>\n",
       "      <th>gender</th>\n",
       "      <th>income_type</th>\n",
       "      <th>debt</th>\n",
       "      <th>total_income</th>\n",
       "      <th>purpose</th>\n",
       "    </tr>\n",
       "  </thead>\n",
       "  <tbody>\n",
       "    <tr>\n",
       "      <th>0</th>\n",
       "      <td>1</td>\n",
       "      <td>-8437.673028</td>\n",
       "      <td>42</td>\n",
       "      <td>высшее</td>\n",
       "      <td>0</td>\n",
       "      <td>женат / замужем</td>\n",
       "      <td>0</td>\n",
       "      <td>F</td>\n",
       "      <td>сотрудник</td>\n",
       "      <td>0</td>\n",
       "      <td>253875.639453</td>\n",
       "      <td>покупка жилья</td>\n",
       "    </tr>\n",
       "    <tr>\n",
       "      <th>1</th>\n",
       "      <td>1</td>\n",
       "      <td>-4024.803754</td>\n",
       "      <td>36</td>\n",
       "      <td>среднее</td>\n",
       "      <td>1</td>\n",
       "      <td>женат / замужем</td>\n",
       "      <td>0</td>\n",
       "      <td>F</td>\n",
       "      <td>сотрудник</td>\n",
       "      <td>0</td>\n",
       "      <td>112080.014102</td>\n",
       "      <td>приобретение автомобиля</td>\n",
       "    </tr>\n",
       "    <tr>\n",
       "      <th>2</th>\n",
       "      <td>0</td>\n",
       "      <td>-5623.422610</td>\n",
       "      <td>33</td>\n",
       "      <td>Среднее</td>\n",
       "      <td>1</td>\n",
       "      <td>женат / замужем</td>\n",
       "      <td>0</td>\n",
       "      <td>M</td>\n",
       "      <td>сотрудник</td>\n",
       "      <td>0</td>\n",
       "      <td>145885.952297</td>\n",
       "      <td>покупка жилья</td>\n",
       "    </tr>\n",
       "    <tr>\n",
       "      <th>3</th>\n",
       "      <td>3</td>\n",
       "      <td>-4124.747207</td>\n",
       "      <td>32</td>\n",
       "      <td>среднее</td>\n",
       "      <td>1</td>\n",
       "      <td>женат / замужем</td>\n",
       "      <td>0</td>\n",
       "      <td>M</td>\n",
       "      <td>сотрудник</td>\n",
       "      <td>0</td>\n",
       "      <td>267628.550329</td>\n",
       "      <td>дополнительное образование</td>\n",
       "    </tr>\n",
       "    <tr>\n",
       "      <th>4</th>\n",
       "      <td>0</td>\n",
       "      <td>340266.072047</td>\n",
       "      <td>53</td>\n",
       "      <td>среднее</td>\n",
       "      <td>1</td>\n",
       "      <td>гражданский брак</td>\n",
       "      <td>1</td>\n",
       "      <td>F</td>\n",
       "      <td>пенсионер</td>\n",
       "      <td>0</td>\n",
       "      <td>158616.077870</td>\n",
       "      <td>сыграть свадьбу</td>\n",
       "    </tr>\n",
       "    <tr>\n",
       "      <th>5</th>\n",
       "      <td>0</td>\n",
       "      <td>-926.185831</td>\n",
       "      <td>27</td>\n",
       "      <td>высшее</td>\n",
       "      <td>0</td>\n",
       "      <td>гражданский брак</td>\n",
       "      <td>1</td>\n",
       "      <td>M</td>\n",
       "      <td>компаньон</td>\n",
       "      <td>0</td>\n",
       "      <td>255763.565419</td>\n",
       "      <td>покупка жилья</td>\n",
       "    </tr>\n",
       "    <tr>\n",
       "      <th>6</th>\n",
       "      <td>0</td>\n",
       "      <td>-2879.202052</td>\n",
       "      <td>43</td>\n",
       "      <td>высшее</td>\n",
       "      <td>0</td>\n",
       "      <td>женат / замужем</td>\n",
       "      <td>0</td>\n",
       "      <td>F</td>\n",
       "      <td>компаньон</td>\n",
       "      <td>0</td>\n",
       "      <td>240525.971920</td>\n",
       "      <td>операции с жильем</td>\n",
       "    </tr>\n",
       "    <tr>\n",
       "      <th>7</th>\n",
       "      <td>0</td>\n",
       "      <td>-152.779569</td>\n",
       "      <td>50</td>\n",
       "      <td>СРЕДНЕЕ</td>\n",
       "      <td>1</td>\n",
       "      <td>женат / замужем</td>\n",
       "      <td>0</td>\n",
       "      <td>M</td>\n",
       "      <td>сотрудник</td>\n",
       "      <td>0</td>\n",
       "      <td>135823.934197</td>\n",
       "      <td>образование</td>\n",
       "    </tr>\n",
       "    <tr>\n",
       "      <th>8</th>\n",
       "      <td>2</td>\n",
       "      <td>-6929.865299</td>\n",
       "      <td>35</td>\n",
       "      <td>ВЫСШЕЕ</td>\n",
       "      <td>0</td>\n",
       "      <td>гражданский брак</td>\n",
       "      <td>1</td>\n",
       "      <td>F</td>\n",
       "      <td>сотрудник</td>\n",
       "      <td>0</td>\n",
       "      <td>95856.832424</td>\n",
       "      <td>на проведение свадьбы</td>\n",
       "    </tr>\n",
       "    <tr>\n",
       "      <th>9</th>\n",
       "      <td>0</td>\n",
       "      <td>-2188.756445</td>\n",
       "      <td>41</td>\n",
       "      <td>среднее</td>\n",
       "      <td>1</td>\n",
       "      <td>женат / замужем</td>\n",
       "      <td>0</td>\n",
       "      <td>M</td>\n",
       "      <td>сотрудник</td>\n",
       "      <td>0</td>\n",
       "      <td>144425.938277</td>\n",
       "      <td>покупка жилья для семьи</td>\n",
       "    </tr>\n",
       "  </tbody>\n",
       "</table>\n",
       "</div>"
      ],
      "text/plain": [
       "   children  days_employed  dob_years education  education_id  \\\n",
       "0         1   -8437.673028         42    высшее             0   \n",
       "1         1   -4024.803754         36   среднее             1   \n",
       "2         0   -5623.422610         33   Среднее             1   \n",
       "3         3   -4124.747207         32   среднее             1   \n",
       "4         0  340266.072047         53   среднее             1   \n",
       "5         0    -926.185831         27    высшее             0   \n",
       "6         0   -2879.202052         43    высшее             0   \n",
       "7         0    -152.779569         50   СРЕДНЕЕ             1   \n",
       "8         2   -6929.865299         35    ВЫСШЕЕ             0   \n",
       "9         0   -2188.756445         41   среднее             1   \n",
       "\n",
       "      family_status  family_status_id gender income_type  debt   total_income  \\\n",
       "0   женат / замужем                 0      F   сотрудник     0  253875.639453   \n",
       "1   женат / замужем                 0      F   сотрудник     0  112080.014102   \n",
       "2   женат / замужем                 0      M   сотрудник     0  145885.952297   \n",
       "3   женат / замужем                 0      M   сотрудник     0  267628.550329   \n",
       "4  гражданский брак                 1      F   пенсионер     0  158616.077870   \n",
       "5  гражданский брак                 1      M   компаньон     0  255763.565419   \n",
       "6   женат / замужем                 0      F   компаньон     0  240525.971920   \n",
       "7   женат / замужем                 0      M   сотрудник     0  135823.934197   \n",
       "8  гражданский брак                 1      F   сотрудник     0   95856.832424   \n",
       "9   женат / замужем                 0      M   сотрудник     0  144425.938277   \n",
       "\n",
       "                      purpose  \n",
       "0               покупка жилья  \n",
       "1     приобретение автомобиля  \n",
       "2               покупка жилья  \n",
       "3  дополнительное образование  \n",
       "4             сыграть свадьбу  \n",
       "5               покупка жилья  \n",
       "6           операции с жильем  \n",
       "7                 образование  \n",
       "8       на проведение свадьбы  \n",
       "9     покупка жилья для семьи  "
      ]
     },
     "metadata": {},
     "output_type": "display_data"
    }
   ],
   "source": [
    "data = pd.read_csv('/datasets/data.csv')\n",
    "\n",
    "data.info()\n",
    "display(data.head(10)) # получим общую информацию\n"
   ]
  },
  {
   "cell_type": "code",
   "execution_count": 227,
   "metadata": {},
   "outputs": [
    {
     "data": {
      "text/plain": [
       "children              int64\n",
       "days_employed       float64\n",
       "dob_years             int64\n",
       "education            object\n",
       "education_id          int64\n",
       "family_status        object\n",
       "family_status_id      int64\n",
       "gender               object\n",
       "income_type          object\n",
       "debt                  int64\n",
       "total_income        float64\n",
       "purpose              object\n",
       "dtype: object"
      ]
     },
     "execution_count": 227,
     "metadata": {},
     "output_type": "execute_result"
    }
   ],
   "source": [
    "data.dtypes # посмотрим типы данных"
   ]
  },
  {
   "cell_type": "code",
   "execution_count": 228,
   "metadata": {
    "scrolled": true
   },
   "outputs": [
    {
     "data": {
      "text/html": [
       "<div>\n",
       "<style scoped>\n",
       "    .dataframe tbody tr th:only-of-type {\n",
       "        vertical-align: middle;\n",
       "    }\n",
       "\n",
       "    .dataframe tbody tr th {\n",
       "        vertical-align: top;\n",
       "    }\n",
       "\n",
       "    .dataframe thead th {\n",
       "        text-align: right;\n",
       "    }\n",
       "</style>\n",
       "<table border=\"1\" class=\"dataframe\">\n",
       "  <thead>\n",
       "    <tr style=\"text-align: right;\">\n",
       "      <th></th>\n",
       "      <th>children</th>\n",
       "      <th>days_employed</th>\n",
       "      <th>dob_years</th>\n",
       "      <th>education_id</th>\n",
       "      <th>family_status_id</th>\n",
       "      <th>debt</th>\n",
       "      <th>total_income</th>\n",
       "    </tr>\n",
       "  </thead>\n",
       "  <tbody>\n",
       "    <tr>\n",
       "      <th>count</th>\n",
       "      <td>21525.000000</td>\n",
       "      <td>19351.000000</td>\n",
       "      <td>21525.000000</td>\n",
       "      <td>21525.000000</td>\n",
       "      <td>21525.000000</td>\n",
       "      <td>21525.000000</td>\n",
       "      <td>1.935100e+04</td>\n",
       "    </tr>\n",
       "    <tr>\n",
       "      <th>mean</th>\n",
       "      <td>0.538908</td>\n",
       "      <td>63046.497661</td>\n",
       "      <td>43.293380</td>\n",
       "      <td>0.817236</td>\n",
       "      <td>0.972544</td>\n",
       "      <td>0.080883</td>\n",
       "      <td>1.674223e+05</td>\n",
       "    </tr>\n",
       "    <tr>\n",
       "      <th>std</th>\n",
       "      <td>1.381587</td>\n",
       "      <td>140827.311974</td>\n",
       "      <td>12.574584</td>\n",
       "      <td>0.548138</td>\n",
       "      <td>1.420324</td>\n",
       "      <td>0.272661</td>\n",
       "      <td>1.029716e+05</td>\n",
       "    </tr>\n",
       "    <tr>\n",
       "      <th>min</th>\n",
       "      <td>-1.000000</td>\n",
       "      <td>-18388.949901</td>\n",
       "      <td>0.000000</td>\n",
       "      <td>0.000000</td>\n",
       "      <td>0.000000</td>\n",
       "      <td>0.000000</td>\n",
       "      <td>2.066726e+04</td>\n",
       "    </tr>\n",
       "    <tr>\n",
       "      <th>25%</th>\n",
       "      <td>0.000000</td>\n",
       "      <td>-2747.423625</td>\n",
       "      <td>33.000000</td>\n",
       "      <td>1.000000</td>\n",
       "      <td>0.000000</td>\n",
       "      <td>0.000000</td>\n",
       "      <td>1.030532e+05</td>\n",
       "    </tr>\n",
       "    <tr>\n",
       "      <th>50%</th>\n",
       "      <td>0.000000</td>\n",
       "      <td>-1203.369529</td>\n",
       "      <td>42.000000</td>\n",
       "      <td>1.000000</td>\n",
       "      <td>0.000000</td>\n",
       "      <td>0.000000</td>\n",
       "      <td>1.450179e+05</td>\n",
       "    </tr>\n",
       "    <tr>\n",
       "      <th>75%</th>\n",
       "      <td>1.000000</td>\n",
       "      <td>-291.095954</td>\n",
       "      <td>53.000000</td>\n",
       "      <td>1.000000</td>\n",
       "      <td>1.000000</td>\n",
       "      <td>0.000000</td>\n",
       "      <td>2.034351e+05</td>\n",
       "    </tr>\n",
       "    <tr>\n",
       "      <th>max</th>\n",
       "      <td>20.000000</td>\n",
       "      <td>401755.400475</td>\n",
       "      <td>75.000000</td>\n",
       "      <td>4.000000</td>\n",
       "      <td>4.000000</td>\n",
       "      <td>1.000000</td>\n",
       "      <td>2.265604e+06</td>\n",
       "    </tr>\n",
       "  </tbody>\n",
       "</table>\n",
       "</div>"
      ],
      "text/plain": [
       "           children  days_employed     dob_years  education_id  \\\n",
       "count  21525.000000   19351.000000  21525.000000  21525.000000   \n",
       "mean       0.538908   63046.497661     43.293380      0.817236   \n",
       "std        1.381587  140827.311974     12.574584      0.548138   \n",
       "min       -1.000000  -18388.949901      0.000000      0.000000   \n",
       "25%        0.000000   -2747.423625     33.000000      1.000000   \n",
       "50%        0.000000   -1203.369529     42.000000      1.000000   \n",
       "75%        1.000000    -291.095954     53.000000      1.000000   \n",
       "max       20.000000  401755.400475     75.000000      4.000000   \n",
       "\n",
       "       family_status_id          debt  total_income  \n",
       "count      21525.000000  21525.000000  1.935100e+04  \n",
       "mean           0.972544      0.080883  1.674223e+05  \n",
       "std            1.420324      0.272661  1.029716e+05  \n",
       "min            0.000000      0.000000  2.066726e+04  \n",
       "25%            0.000000      0.000000  1.030532e+05  \n",
       "50%            0.000000      0.000000  1.450179e+05  \n",
       "75%            1.000000      0.000000  2.034351e+05  \n",
       "max            4.000000      1.000000  2.265604e+06  "
      ]
     },
     "execution_count": 228,
     "metadata": {},
     "output_type": "execute_result"
    }
   ],
   "source": [
    "data.describe() # посмотрим статистическую информацию"
   ]
  },
  {
   "cell_type": "markdown",
   "metadata": {},
   "source": [
    "**Вывод**\n",
    "\n",
    "В таблице 12 столбцов, нарушений в стиле и синтаксисе заголовков нет. В числовых данных видны следующие аномалии, дубликаты и пропущенные значения:\n",
    "\n",
    "- пропуски в `days_employed` и `total_income` \n",
    "- аномальные значения количества детей (-1 и 20) в `children`\n",
    "- отрицательное значение дней трудового стажа в `days_employed`\n",
    "- вместо возраста в `dob_years` в некотрых строках 0\n",
    "- разный регистр букв в столбце `education`\n",
    "- разные формы записи одной и той же цели кредита в столбце `purpose`\n",
    "\n",
    "Также в предобработке необходимо проверить колонки типа object на предмет проблем с данными"
   ]
  },
  {
   "cell_type": "markdown",
   "metadata": {},
   "source": [
    "## Предобработка данных"
   ]
  },
  {
   "cell_type": "markdown",
   "metadata": {},
   "source": [
    "### Обработка пропусков"
   ]
  },
  {
   "cell_type": "code",
   "execution_count": 229,
   "metadata": {
    "scrolled": true
   },
   "outputs": [
    {
     "data": {
      "text/plain": [
       "children               0\n",
       "days_employed       2174\n",
       "dob_years              0\n",
       "education              0\n",
       "education_id           0\n",
       "family_status          0\n",
       "family_status_id       0\n",
       "gender                 0\n",
       "income_type            0\n",
       "debt                   0\n",
       "total_income        2174\n",
       "purpose                0\n",
       "dtype: int64"
      ]
     },
     "execution_count": 229,
     "metadata": {},
     "output_type": "execute_result"
    }
   ],
   "source": [
    "data.isna().sum() # количество пропущенных значений"
   ]
  },
  {
   "cell_type": "code",
   "execution_count": 230,
   "metadata": {
    "scrolled": true
   },
   "outputs": [
    {
     "data": {
      "text/html": [
       "<div>\n",
       "<style scoped>\n",
       "    .dataframe tbody tr th:only-of-type {\n",
       "        vertical-align: middle;\n",
       "    }\n",
       "\n",
       "    .dataframe tbody tr th {\n",
       "        vertical-align: top;\n",
       "    }\n",
       "\n",
       "    .dataframe thead th {\n",
       "        text-align: right;\n",
       "    }\n",
       "</style>\n",
       "<table border=\"1\" class=\"dataframe\">\n",
       "  <thead>\n",
       "    <tr style=\"text-align: right;\">\n",
       "      <th></th>\n",
       "      <th>children</th>\n",
       "      <th>days_employed</th>\n",
       "      <th>dob_years</th>\n",
       "      <th>education</th>\n",
       "      <th>education_id</th>\n",
       "      <th>family_status</th>\n",
       "      <th>family_status_id</th>\n",
       "      <th>gender</th>\n",
       "      <th>income_type</th>\n",
       "      <th>debt</th>\n",
       "      <th>total_income</th>\n",
       "      <th>purpose</th>\n",
       "    </tr>\n",
       "  </thead>\n",
       "  <tbody>\n",
       "    <tr>\n",
       "      <th>12</th>\n",
       "      <td>0</td>\n",
       "      <td>NaN</td>\n",
       "      <td>65</td>\n",
       "      <td>среднее</td>\n",
       "      <td>1</td>\n",
       "      <td>гражданский брак</td>\n",
       "      <td>1</td>\n",
       "      <td>M</td>\n",
       "      <td>пенсионер</td>\n",
       "      <td>0</td>\n",
       "      <td>NaN</td>\n",
       "      <td>сыграть свадьбу</td>\n",
       "    </tr>\n",
       "    <tr>\n",
       "      <th>26</th>\n",
       "      <td>0</td>\n",
       "      <td>NaN</td>\n",
       "      <td>41</td>\n",
       "      <td>среднее</td>\n",
       "      <td>1</td>\n",
       "      <td>женат / замужем</td>\n",
       "      <td>0</td>\n",
       "      <td>M</td>\n",
       "      <td>госслужащий</td>\n",
       "      <td>0</td>\n",
       "      <td>NaN</td>\n",
       "      <td>образование</td>\n",
       "    </tr>\n",
       "    <tr>\n",
       "      <th>29</th>\n",
       "      <td>0</td>\n",
       "      <td>NaN</td>\n",
       "      <td>63</td>\n",
       "      <td>среднее</td>\n",
       "      <td>1</td>\n",
       "      <td>Не женат / не замужем</td>\n",
       "      <td>4</td>\n",
       "      <td>F</td>\n",
       "      <td>пенсионер</td>\n",
       "      <td>0</td>\n",
       "      <td>NaN</td>\n",
       "      <td>строительство жилой недвижимости</td>\n",
       "    </tr>\n",
       "    <tr>\n",
       "      <th>41</th>\n",
       "      <td>0</td>\n",
       "      <td>NaN</td>\n",
       "      <td>50</td>\n",
       "      <td>среднее</td>\n",
       "      <td>1</td>\n",
       "      <td>женат / замужем</td>\n",
       "      <td>0</td>\n",
       "      <td>F</td>\n",
       "      <td>госслужащий</td>\n",
       "      <td>0</td>\n",
       "      <td>NaN</td>\n",
       "      <td>сделка с подержанным автомобилем</td>\n",
       "    </tr>\n",
       "    <tr>\n",
       "      <th>55</th>\n",
       "      <td>0</td>\n",
       "      <td>NaN</td>\n",
       "      <td>54</td>\n",
       "      <td>среднее</td>\n",
       "      <td>1</td>\n",
       "      <td>гражданский брак</td>\n",
       "      <td>1</td>\n",
       "      <td>F</td>\n",
       "      <td>пенсионер</td>\n",
       "      <td>1</td>\n",
       "      <td>NaN</td>\n",
       "      <td>сыграть свадьбу</td>\n",
       "    </tr>\n",
       "    <tr>\n",
       "      <th>...</th>\n",
       "      <td>...</td>\n",
       "      <td>...</td>\n",
       "      <td>...</td>\n",
       "      <td>...</td>\n",
       "      <td>...</td>\n",
       "      <td>...</td>\n",
       "      <td>...</td>\n",
       "      <td>...</td>\n",
       "      <td>...</td>\n",
       "      <td>...</td>\n",
       "      <td>...</td>\n",
       "      <td>...</td>\n",
       "    </tr>\n",
       "    <tr>\n",
       "      <th>21489</th>\n",
       "      <td>2</td>\n",
       "      <td>NaN</td>\n",
       "      <td>47</td>\n",
       "      <td>Среднее</td>\n",
       "      <td>1</td>\n",
       "      <td>женат / замужем</td>\n",
       "      <td>0</td>\n",
       "      <td>M</td>\n",
       "      <td>компаньон</td>\n",
       "      <td>0</td>\n",
       "      <td>NaN</td>\n",
       "      <td>сделка с автомобилем</td>\n",
       "    </tr>\n",
       "    <tr>\n",
       "      <th>21495</th>\n",
       "      <td>1</td>\n",
       "      <td>NaN</td>\n",
       "      <td>50</td>\n",
       "      <td>среднее</td>\n",
       "      <td>1</td>\n",
       "      <td>гражданский брак</td>\n",
       "      <td>1</td>\n",
       "      <td>F</td>\n",
       "      <td>сотрудник</td>\n",
       "      <td>0</td>\n",
       "      <td>NaN</td>\n",
       "      <td>свадьба</td>\n",
       "    </tr>\n",
       "    <tr>\n",
       "      <th>21497</th>\n",
       "      <td>0</td>\n",
       "      <td>NaN</td>\n",
       "      <td>48</td>\n",
       "      <td>ВЫСШЕЕ</td>\n",
       "      <td>0</td>\n",
       "      <td>женат / замужем</td>\n",
       "      <td>0</td>\n",
       "      <td>F</td>\n",
       "      <td>компаньон</td>\n",
       "      <td>0</td>\n",
       "      <td>NaN</td>\n",
       "      <td>строительство недвижимости</td>\n",
       "    </tr>\n",
       "    <tr>\n",
       "      <th>21502</th>\n",
       "      <td>1</td>\n",
       "      <td>NaN</td>\n",
       "      <td>42</td>\n",
       "      <td>среднее</td>\n",
       "      <td>1</td>\n",
       "      <td>женат / замужем</td>\n",
       "      <td>0</td>\n",
       "      <td>F</td>\n",
       "      <td>сотрудник</td>\n",
       "      <td>0</td>\n",
       "      <td>NaN</td>\n",
       "      <td>строительство жилой недвижимости</td>\n",
       "    </tr>\n",
       "    <tr>\n",
       "      <th>21510</th>\n",
       "      <td>2</td>\n",
       "      <td>NaN</td>\n",
       "      <td>28</td>\n",
       "      <td>среднее</td>\n",
       "      <td>1</td>\n",
       "      <td>женат / замужем</td>\n",
       "      <td>0</td>\n",
       "      <td>F</td>\n",
       "      <td>сотрудник</td>\n",
       "      <td>0</td>\n",
       "      <td>NaN</td>\n",
       "      <td>приобретение автомобиля</td>\n",
       "    </tr>\n",
       "  </tbody>\n",
       "</table>\n",
       "<p>2174 rows × 12 columns</p>\n",
       "</div>"
      ],
      "text/plain": [
       "       children  days_employed  dob_years education  education_id  \\\n",
       "12            0            NaN         65   среднее             1   \n",
       "26            0            NaN         41   среднее             1   \n",
       "29            0            NaN         63   среднее             1   \n",
       "41            0            NaN         50   среднее             1   \n",
       "55            0            NaN         54   среднее             1   \n",
       "...         ...            ...        ...       ...           ...   \n",
       "21489         2            NaN         47   Среднее             1   \n",
       "21495         1            NaN         50   среднее             1   \n",
       "21497         0            NaN         48    ВЫСШЕЕ             0   \n",
       "21502         1            NaN         42   среднее             1   \n",
       "21510         2            NaN         28   среднее             1   \n",
       "\n",
       "               family_status  family_status_id gender  income_type  debt  \\\n",
       "12          гражданский брак                 1      M    пенсионер     0   \n",
       "26           женат / замужем                 0      M  госслужащий     0   \n",
       "29     Не женат / не замужем                 4      F    пенсионер     0   \n",
       "41           женат / замужем                 0      F  госслужащий     0   \n",
       "55          гражданский брак                 1      F    пенсионер     1   \n",
       "...                      ...               ...    ...          ...   ...   \n",
       "21489        женат / замужем                 0      M    компаньон     0   \n",
       "21495       гражданский брак                 1      F    сотрудник     0   \n",
       "21497        женат / замужем                 0      F    компаньон     0   \n",
       "21502        женат / замужем                 0      F    сотрудник     0   \n",
       "21510        женат / замужем                 0      F    сотрудник     0   \n",
       "\n",
       "       total_income                           purpose  \n",
       "12              NaN                   сыграть свадьбу  \n",
       "26              NaN                       образование  \n",
       "29              NaN  строительство жилой недвижимости  \n",
       "41              NaN  сделка с подержанным автомобилем  \n",
       "55              NaN                   сыграть свадьбу  \n",
       "...             ...                               ...  \n",
       "21489           NaN              сделка с автомобилем  \n",
       "21495           NaN                           свадьба  \n",
       "21497           NaN        строительство недвижимости  \n",
       "21502           NaN  строительство жилой недвижимости  \n",
       "21510           NaN           приобретение автомобиля  \n",
       "\n",
       "[2174 rows x 12 columns]"
      ]
     },
     "execution_count": 230,
     "metadata": {},
     "output_type": "execute_result"
    }
   ],
   "source": [
    "# посмотрим строки, где пропущены значения одновременно в двух столбцах\n",
    "\n",
    "data[(data['days_employed'].isna()) & (data['total_income'].isna())]"
   ]
  },
  {
   "cell_type": "markdown",
   "metadata": {},
   "source": [
    "Пропуски в столбцах `days_employed` и `total_income` совпадают для каждого заемщика, возможно, эта ошибка произошла при выгрузке, либо данные не были внесены изначально. Это могут быть зарплатные клиенты или просто те, кто давно пользуются услугами данного банка: в системе есть информация о движениях средств на их счете, для них уже готово одобренное предложения с пониженной процентной ставкой и подтверждение дохода не требуется. Либо не требуется оно, если заявка на кредит ниже определенной суммы - во многих банках довольно лояльные условия и можно получить небольшой займ без справки о доходах.\n",
    "\n",
    "Пропуски составляют примерно 1/10 всей таблицы, поэтому при удалении мы потеряем большое количество данных в других нужных нам колонках. Пропущенные значения в графе дохода можно заполнить медианными по типу занятости."
   ]
  },
  {
   "cell_type": "code",
   "execution_count": 231,
   "metadata": {
    "scrolled": true
   },
   "outputs": [
    {
     "data": {
      "text/plain": [
       "children               0\n",
       "days_employed       2174\n",
       "dob_years              0\n",
       "education              0\n",
       "education_id           0\n",
       "family_status          0\n",
       "family_status_id       0\n",
       "gender                 0\n",
       "income_type            0\n",
       "debt                   0\n",
       "total_income           0\n",
       "purpose                0\n",
       "dtype: int64"
      ]
     },
     "execution_count": 231,
     "metadata": {},
     "output_type": "execute_result"
    }
   ],
   "source": [
    "# группируем по типу занятости, находим характерное значение для каждой группы, заполняем с помощью лямбда-функции\n",
    "\n",
    "data['total_income'] = data.groupby(\n",
    "    'income_type')['total_income'].apply(lambda x: x.fillna(x.median()))\n",
    "\n",
    "data.isna().sum()"
   ]
  },
  {
   "cell_type": "code",
   "execution_count": 232,
   "metadata": {},
   "outputs": [],
   "source": [
    "# конвертируем отрицательные значения стажа в положительные\n",
    "\n",
    "data['days_employed'] = data['days_employed'].fillna(0).abs()"
   ]
  },
  {
   "cell_type": "code",
   "execution_count": 233,
   "metadata": {
    "scrolled": false
   },
   "outputs": [
    {
     "data": {
      "text/html": [
       "<div>\n",
       "<style scoped>\n",
       "    .dataframe tbody tr th:only-of-type {\n",
       "        vertical-align: middle;\n",
       "    }\n",
       "\n",
       "    .dataframe tbody tr th {\n",
       "        vertical-align: top;\n",
       "    }\n",
       "\n",
       "    .dataframe thead th {\n",
       "        text-align: right;\n",
       "    }\n",
       "</style>\n",
       "<table border=\"1\" class=\"dataframe\">\n",
       "  <thead>\n",
       "    <tr style=\"text-align: right;\">\n",
       "      <th></th>\n",
       "      <th>count</th>\n",
       "      <th>mean</th>\n",
       "      <th>std</th>\n",
       "      <th>min</th>\n",
       "      <th>25%</th>\n",
       "      <th>50%</th>\n",
       "      <th>75%</th>\n",
       "      <th>max</th>\n",
       "    </tr>\n",
       "    <tr>\n",
       "      <th>income_type</th>\n",
       "      <th></th>\n",
       "      <th></th>\n",
       "      <th></th>\n",
       "      <th></th>\n",
       "      <th></th>\n",
       "      <th></th>\n",
       "      <th></th>\n",
       "      <th></th>\n",
       "    </tr>\n",
       "  </thead>\n",
       "  <tbody>\n",
       "    <tr>\n",
       "      <th>безработный</th>\n",
       "      <td>2.0</td>\n",
       "      <td>366413.652744</td>\n",
       "      <td>40855.478519</td>\n",
       "      <td>337524.466835</td>\n",
       "      <td>351969.059790</td>\n",
       "      <td>366413.652744</td>\n",
       "      <td>380858.245699</td>\n",
       "      <td>395302.838654</td>\n",
       "    </tr>\n",
       "    <tr>\n",
       "      <th>в декрете</th>\n",
       "      <td>1.0</td>\n",
       "      <td>3296.759962</td>\n",
       "      <td>NaN</td>\n",
       "      <td>3296.759962</td>\n",
       "      <td>3296.759962</td>\n",
       "      <td>3296.759962</td>\n",
       "      <td>3296.759962</td>\n",
       "      <td>3296.759962</td>\n",
       "    </tr>\n",
       "    <tr>\n",
       "      <th>госслужащий</th>\n",
       "      <td>1459.0</td>\n",
       "      <td>3057.343890</td>\n",
       "      <td>2835.336816</td>\n",
       "      <td>0.000000</td>\n",
       "      <td>854.364241</td>\n",
       "      <td>2385.358043</td>\n",
       "      <td>4454.221934</td>\n",
       "      <td>15193.032201</td>\n",
       "    </tr>\n",
       "    <tr>\n",
       "      <th>компаньон</th>\n",
       "      <td>5085.0</td>\n",
       "      <td>1900.579581</td>\n",
       "      <td>2043.979915</td>\n",
       "      <td>0.000000</td>\n",
       "      <td>451.152387</td>\n",
       "      <td>1311.128244</td>\n",
       "      <td>2672.323106</td>\n",
       "      <td>17615.563266</td>\n",
       "    </tr>\n",
       "    <tr>\n",
       "      <th>пенсионер</th>\n",
       "      <td>3856.0</td>\n",
       "      <td>325909.496980</td>\n",
       "      <td>114633.231469</td>\n",
       "      <td>0.000000</td>\n",
       "      <td>340199.573133</td>\n",
       "      <td>360505.668544</td>\n",
       "      <td>380751.301140</td>\n",
       "      <td>401755.400475</td>\n",
       "    </tr>\n",
       "    <tr>\n",
       "      <th>предприниматель</th>\n",
       "      <td>2.0</td>\n",
       "      <td>260.424042</td>\n",
       "      <td>368.295212</td>\n",
       "      <td>0.000000</td>\n",
       "      <td>130.212021</td>\n",
       "      <td>260.424042</td>\n",
       "      <td>390.636063</td>\n",
       "      <td>520.848083</td>\n",
       "    </tr>\n",
       "    <tr>\n",
       "      <th>сотрудник</th>\n",
       "      <td>11119.0</td>\n",
       "      <td>2095.293025</td>\n",
       "      <td>2298.175038</td>\n",
       "      <td>0.000000</td>\n",
       "      <td>505.391128</td>\n",
       "      <td>1360.363902</td>\n",
       "      <td>2895.108262</td>\n",
       "      <td>18388.949901</td>\n",
       "    </tr>\n",
       "    <tr>\n",
       "      <th>студент</th>\n",
       "      <td>1.0</td>\n",
       "      <td>578.751554</td>\n",
       "      <td>NaN</td>\n",
       "      <td>578.751554</td>\n",
       "      <td>578.751554</td>\n",
       "      <td>578.751554</td>\n",
       "      <td>578.751554</td>\n",
       "      <td>578.751554</td>\n",
       "    </tr>\n",
       "  </tbody>\n",
       "</table>\n",
       "</div>"
      ],
      "text/plain": [
       "                   count           mean            std            min  \\\n",
       "income_type                                                             \n",
       "безработный          2.0  366413.652744   40855.478519  337524.466835   \n",
       "в декрете            1.0    3296.759962            NaN    3296.759962   \n",
       "госслужащий       1459.0    3057.343890    2835.336816       0.000000   \n",
       "компаньон         5085.0    1900.579581    2043.979915       0.000000   \n",
       "пенсионер         3856.0  325909.496980  114633.231469       0.000000   \n",
       "предприниматель      2.0     260.424042     368.295212       0.000000   \n",
       "сотрудник        11119.0    2095.293025    2298.175038       0.000000   \n",
       "студент              1.0     578.751554            NaN     578.751554   \n",
       "\n",
       "                           25%            50%            75%            max  \n",
       "income_type                                                                  \n",
       "безработный      351969.059790  366413.652744  380858.245699  395302.838654  \n",
       "в декрете          3296.759962    3296.759962    3296.759962    3296.759962  \n",
       "госслужащий         854.364241    2385.358043    4454.221934   15193.032201  \n",
       "компаньон           451.152387    1311.128244    2672.323106   17615.563266  \n",
       "пенсионер        340199.573133  360505.668544  380751.301140  401755.400475  \n",
       "предприниматель     130.212021     260.424042     390.636063     520.848083  \n",
       "сотрудник           505.391128    1360.363902    2895.108262   18388.949901  \n",
       "студент             578.751554     578.751554     578.751554     578.751554  "
      ]
     },
     "execution_count": 233,
     "metadata": {},
     "output_type": "execute_result"
    }
   ],
   "source": [
    "# посмотрим статистику трудового стажа по типу занятости\n",
    "\n",
    "data.groupby('income_type')['days_employed'].describe()\n"
   ]
  },
  {
   "cell_type": "markdown",
   "metadata": {},
   "source": [
    "Интересно, что предпренимателей, студентов, безработных и декретников считанные единицы - видимо банк не выдает кредиты лицам без фиксированного дохода. При этом компаньонов достаточно - возможно это созаемщики или предаставляющие справку о доходах супруга. Помимо пропусков в колонке `days_employed` отрицательные значения и неправдоподобно большие у пенсионеров и безработных. Вероятно, это некорректный расчет количества дней по датам приема/увольнения. Вообще для одобрения заявки трудовой стаж не нужен, за исключением ипотечных кредитов. В этом случае запрос отправляется в пенсионный фонд, поэтому возможны ошибки или другой формат записи. \n",
    "\n",
    "Данные об общем стаже никак не фигурируют в тех задании и не влияют на исследование - как видно из статистического описания, кредиты выдавались и тем, чье количество трудовых дней равно нулю (видимо информация не вносилась за ненадобностью) Поэтому эту колонку в данном случае допустимо удалить. В ином варианте стоит обратиться к заказчику за уточнением и с указанием проблемы в этих данных."
   ]
  },
  {
   "cell_type": "code",
   "execution_count": 234,
   "metadata": {},
   "outputs": [],
   "source": [
    "# удаляем столбец с трудовым стажем \n",
    "\n",
    "data = data.drop(columns='days_employed') "
   ]
  },
  {
   "cell_type": "markdown",
   "metadata": {},
   "source": [
    "### Замена типа данных\n",
    "\n",
    "Значения в колонке `total_income` имеют тип данных float, для расчетов нам не нужно такое количество знаков после точки, так как копейки не играют никакой роли, поэтому приведем данные к целочисленному типу int."
   ]
  },
  {
   "cell_type": "code",
   "execution_count": 235,
   "metadata": {},
   "outputs": [
    {
     "name": "stdout",
     "output_type": "stream",
     "text": [
      "<class 'pandas.core.frame.DataFrame'>\n",
      "RangeIndex: 21525 entries, 0 to 21524\n",
      "Data columns (total 11 columns):\n",
      " #   Column            Non-Null Count  Dtype \n",
      "---  ------            --------------  ----- \n",
      " 0   children          21525 non-null  int64 \n",
      " 1   dob_years         21525 non-null  int64 \n",
      " 2   education         21525 non-null  object\n",
      " 3   education_id      21525 non-null  int64 \n",
      " 4   family_status     21525 non-null  object\n",
      " 5   family_status_id  21525 non-null  int64 \n",
      " 6   gender            21525 non-null  object\n",
      " 7   income_type       21525 non-null  object\n",
      " 8   debt              21525 non-null  int64 \n",
      " 9   total_income      21525 non-null  int64 \n",
      " 10  purpose           21525 non-null  object\n",
      "dtypes: int64(6), object(5)\n",
      "memory usage: 1.8+ MB\n"
     ]
    }
   ],
   "source": [
    "data['total_income'] = data['total_income'].astype('int') \n",
    "\n",
    "data.info()"
   ]
  },
  {
   "cell_type": "markdown",
   "metadata": {},
   "source": [
    "### Обработка дубликатов\n"
   ]
  },
  {
   "cell_type": "code",
   "execution_count": 236,
   "metadata": {
    "scrolled": true
   },
   "outputs": [
    {
     "name": "stdout",
     "output_type": "stream",
     "text": [
      "54\n"
     ]
    }
   ],
   "source": [
    "print(data.duplicated().sum()) # посчитаем явные дубликаты в таблице.\n"
   ]
  },
  {
   "cell_type": "markdown",
   "metadata": {},
   "source": [
    "Количество строк-дубликатов в таблице - 54, это примерно 0,2%\n",
    "\n",
    "Есть вероятность, что это не дубликаты, так как уникальные значения в столбце ежемесячного дохода, которые могли бы точно указать дубликаты, заменены при обработке пропусков медианой. Это вполне могут быть разные заемщики с одинаковым набором распрорстраненных данных - пол, статус, дети и т.д. Поэтому эти строки мы удалять не будем. А в случае если это все же дубликаты, 0,2% не повлиют на итоги.\n",
    "\n",
    "Далее найдем уникальные значения столбцов `education` и `family_status`, так как при получении общей информации о таблице видно, что данные внесены с использованием прописных и строчных букв.\n",
    "Приведем символы к нижнему регистру, чтобы избавиться от дубликатов, а в случае с колонкой `family_status` - чтобы исключить ошибку при обращении к ячейке датафрема."
   ]
  },
  {
   "cell_type": "code",
   "execution_count": 237,
   "metadata": {
    "scrolled": true
   },
   "outputs": [
    {
     "name": "stdout",
     "output_type": "stream",
     "text": [
      "['ВЫСШЕЕ' 'Высшее' 'НАЧАЛЬНОЕ' 'НЕОКОНЧЕННОЕ ВЫСШЕЕ' 'Начальное'\n",
      " 'Неоконченное высшее' 'СРЕДНЕЕ' 'Среднее' 'УЧЕНАЯ СТЕПЕНЬ'\n",
      " 'Ученая степень' 'высшее' 'начальное' 'неоконченное высшее' 'среднее'\n",
      " 'ученая степень']\n",
      "['Не женат / не замужем' 'в разводе' 'вдовец / вдова' 'гражданский брак'\n",
      " 'женат / замужем']\n"
     ]
    }
   ],
   "source": [
    "print(data['education'].sort_values().unique()) # получаем уникальные значения\n",
    "\n",
    "print(data['family_status'].sort_values().unique())\n"
   ]
  },
  {
   "cell_type": "code",
   "execution_count": 238,
   "metadata": {},
   "outputs": [],
   "source": [
    "data['education'] = data['education'].str.lower() # приводим к нижнему регистру\n",
    "\n",
    "data['family_status'] = data['family_status'].str.lower()"
   ]
  },
  {
   "cell_type": "markdown",
   "metadata": {},
   "source": [
    "Проверим, что все прописные символы в столбцах переведены в строчные."
   ]
  },
  {
   "cell_type": "code",
   "execution_count": 239,
   "metadata": {},
   "outputs": [
    {
     "name": "stdout",
     "output_type": "stream",
     "text": [
      "['высшее' 'начальное' 'неоконченное высшее' 'среднее' 'ученая степень']\n",
      "['в разводе' 'вдовец / вдова' 'гражданский брак' 'женат / замужем'\n",
      " 'не женат / не замужем']\n"
     ]
    }
   ],
   "source": [
    "print(data['education'].sort_values().unique())\n",
    "\n",
    "print(data['family_status'].sort_values().unique())"
   ]
  },
  {
   "cell_type": "markdown",
   "metadata": {},
   "source": [
    "### Другие проблемы в данных"
   ]
  },
  {
   "cell_type": "markdown",
   "metadata": {},
   "source": [
    "Были выявлены другие проблемы в записи данных: в столбце `children` есть нереалистичные показатели - отрицательное значение \"-1\" и очень высокий показатель - 20 детей."
   ]
  },
  {
   "cell_type": "code",
   "execution_count": 240,
   "metadata": {
    "scrolled": true
   },
   "outputs": [
    {
     "data": {
      "text/plain": [
       " 0     14149\n",
       " 1      4818\n",
       " 2      2055\n",
       " 3       330\n",
       " 20       76\n",
       "-1        47\n",
       " 4        41\n",
       " 5         9\n",
       "Name: children, dtype: int64"
      ]
     },
     "execution_count": 240,
     "metadata": {},
     "output_type": "execute_result"
    }
   ],
   "source": [
    "data['children'].value_counts() # посмотрим количество уникальных значений"
   ]
  },
  {
   "cell_type": "markdown",
   "metadata": {},
   "source": [
    "Отрицательное значение вероятно появилось при вводе данных в разном формате: в бинарном виде -1 означает 0 или \"нет\". Очевидно таким образом были маркированы клиенты без детей, а всех с детьми маркировали как 1. Двадцать детей можно было бы допустить у одного-двух заемщиков, но не у 76, к тому же в данных присутствовали бы другие многодетные семьи, например 10 или 15 детей. \n",
    "Поэтому 20 - скорей всего ошибка при вводе, клавиши 2 и 0 на numlock соседние, поэтому приведем к наиболее вероятному варианту - \"2\""
   ]
  },
  {
   "cell_type": "code",
   "execution_count": 255,
   "metadata": {
    "scrolled": false
   },
   "outputs": [],
   "source": [
    "data['children'] = data['children'].replace(-1, 0) # заменяем значения\n",
    "\n",
    "data['children'] = data['children'].replace(20, 2)"
   ]
  },
  {
   "cell_type": "code",
   "execution_count": 256,
   "metadata": {
    "scrolled": false
   },
   "outputs": [
    {
     "data": {
      "text/plain": [
       "0    14196\n",
       "1     4818\n",
       "2     2131\n",
       "3      330\n",
       "4       41\n",
       "5        9\n",
       "Name: children, dtype: int64"
      ]
     },
     "execution_count": 256,
     "metadata": {},
     "output_type": "execute_result"
    }
   ],
   "source": [
    "data['children'].value_counts() # проверяем результат"
   ]
  },
  {
   "cell_type": "markdown",
   "metadata": {},
   "source": [
    "При обзоре данных было также обнаружено, что вместо возраста у некотрых клиентов стоит 0, видимо таким образом заполнили отсутствующие данные. Зависимости возврата кредита в срок от возраста в запросах нет, но в случае если в дальнейшем придется обратиться к этой колонке, заменим на 'unknown' во избежание ошибок"
   ]
  },
  {
   "cell_type": "code",
   "execution_count": 243,
   "metadata": {},
   "outputs": [],
   "source": [
    "data['dob_years'] = data['dob_years'].replace(0, 'unknown') # заменяем нулевой возраст на неизвестный"
   ]
  },
  {
   "cell_type": "markdown",
   "metadata": {},
   "source": [
    "### Лемматизация\n",
    "\n",
    "Получим список уникальных значений столбца `purpose`. Одни и те же цели получения кредита записаны в разных выражениях, чтобы в дальнейшем сгруппировать заемщиков по данному призанку, необходимо привести лемматизацию.\n"
   ]
  },
  {
   "cell_type": "code",
   "execution_count": 244,
   "metadata": {},
   "outputs": [
    {
     "data": {
      "text/plain": [
       "свадьба                                   797\n",
       "на проведение свадьбы                     777\n",
       "сыграть свадьбу                           774\n",
       "операции с недвижимостью                  676\n",
       "покупка коммерческой недвижимости         664\n",
       "операции с жильем                         653\n",
       "покупка жилья для сдачи                   653\n",
       "операции с коммерческой недвижимостью     651\n",
       "жилье                                     647\n",
       "покупка жилья                             647\n",
       "покупка жилья для семьи                   641\n",
       "строительство собственной недвижимости    635\n",
       "недвижимость                              634\n",
       "операции со своей недвижимостью           630\n",
       "строительство жилой недвижимости          626\n",
       "покупка недвижимости                      624\n",
       "строительство недвижимости                620\n",
       "покупка своего жилья                      620\n",
       "ремонт жилью                              612\n",
       "покупка жилой недвижимости                607\n",
       "на покупку своего автомобиля              505\n",
       "заняться высшим образованием              496\n",
       "автомобиль                                495\n",
       "сделка с подержанным автомобилем          489\n",
       "свой автомобиль                           480\n",
       "на покупку подержанного автомобиля        479\n",
       "автомобили                                478\n",
       "на покупку автомобиля                     472\n",
       "приобретение автомобиля                   462\n",
       "дополнительное образование                462\n",
       "сделка с автомобилем                      455\n",
       "высшее образование                        453\n",
       "получение дополнительного образования     447\n",
       "образование                               447\n",
       "получение образования                     443\n",
       "профильное образование                    436\n",
       "получение высшего образования             426\n",
       "заняться образованием                     412\n",
       "Name: purpose, dtype: int64"
      ]
     },
     "execution_count": 244,
     "metadata": {},
     "output_type": "execute_result"
    }
   ],
   "source": [
    "data['purpose'].value_counts() # посчитаем количество целей"
   ]
  },
  {
   "cell_type": "code",
   "execution_count": 245,
   "metadata": {
    "scrolled": true
   },
   "outputs": [],
   "source": [
    "from pymystem3 import Mystem # загружаем модуль\n",
    "m = Mystem() \n",
    "\n",
    "data['purpose_lemm'] = data['purpose'].apply(m.lemmatize) # добавим столбец с леммами\n",
    "\n",
    "data['purpose_lemm']\n",
    "\n",
    "def purpose_group(purpose_lemm):\n",
    "    if 'образование'in purpose_lemm:\n",
    "        return 'образование'\n",
    "    if 'свадьба'in purpose_lemm:\n",
    "        return 'свадьба'\n",
    "    if 'автомобиль'in purpose_lemm:\n",
    "        return 'автомобиль'\n",
    "    if 'жилье' or 'недвижимость'in purpose_lemm:\n",
    "        return 'недвижимость'\n",
    "\n",
    "\n",
    "data['purpose_group'] = data['purpose_lemm'].apply(purpose_group) # добавляем столбец с целями по группам\n"
   ]
  },
  {
   "cell_type": "code",
   "execution_count": 246,
   "metadata": {
    "scrolled": false
   },
   "outputs": [
    {
     "data": {
      "text/plain": [
       "недвижимость    10840\n",
       "автомобиль       4315\n",
       "образование      4022\n",
       "свадьба          2348\n",
       "Name: purpose_group, dtype: int64"
      ]
     },
     "execution_count": 246,
     "metadata": {},
     "output_type": "execute_result"
    }
   ],
   "source": [
    "data['purpose_group'].value_counts() # проверяем результат\n"
   ]
  },
  {
   "cell_type": "code",
   "execution_count": 247,
   "metadata": {
    "scrolled": true
   },
   "outputs": [
    {
     "data": {
      "text/html": [
       "<div>\n",
       "<style scoped>\n",
       "    .dataframe tbody tr th:only-of-type {\n",
       "        vertical-align: middle;\n",
       "    }\n",
       "\n",
       "    .dataframe tbody tr th {\n",
       "        vertical-align: top;\n",
       "    }\n",
       "\n",
       "    .dataframe thead th {\n",
       "        text-align: right;\n",
       "    }\n",
       "</style>\n",
       "<table border=\"1\" class=\"dataframe\">\n",
       "  <thead>\n",
       "    <tr style=\"text-align: right;\">\n",
       "      <th></th>\n",
       "      <th>children</th>\n",
       "      <th>dob_years</th>\n",
       "      <th>education</th>\n",
       "      <th>education_id</th>\n",
       "      <th>family_status</th>\n",
       "      <th>family_status_id</th>\n",
       "      <th>gender</th>\n",
       "      <th>income_type</th>\n",
       "      <th>debt</th>\n",
       "      <th>total_income</th>\n",
       "      <th>purpose</th>\n",
       "      <th>purpose_group</th>\n",
       "    </tr>\n",
       "  </thead>\n",
       "  <tbody>\n",
       "    <tr>\n",
       "      <th>0</th>\n",
       "      <td>1</td>\n",
       "      <td>42</td>\n",
       "      <td>высшее</td>\n",
       "      <td>0</td>\n",
       "      <td>женат / замужем</td>\n",
       "      <td>0</td>\n",
       "      <td>F</td>\n",
       "      <td>сотрудник</td>\n",
       "      <td>0</td>\n",
       "      <td>253875</td>\n",
       "      <td>покупка жилья</td>\n",
       "      <td>недвижимость</td>\n",
       "    </tr>\n",
       "    <tr>\n",
       "      <th>1</th>\n",
       "      <td>1</td>\n",
       "      <td>36</td>\n",
       "      <td>среднее</td>\n",
       "      <td>1</td>\n",
       "      <td>женат / замужем</td>\n",
       "      <td>0</td>\n",
       "      <td>F</td>\n",
       "      <td>сотрудник</td>\n",
       "      <td>0</td>\n",
       "      <td>112080</td>\n",
       "      <td>приобретение автомобиля</td>\n",
       "      <td>автомобиль</td>\n",
       "    </tr>\n",
       "    <tr>\n",
       "      <th>2</th>\n",
       "      <td>0</td>\n",
       "      <td>33</td>\n",
       "      <td>среднее</td>\n",
       "      <td>1</td>\n",
       "      <td>женат / замужем</td>\n",
       "      <td>0</td>\n",
       "      <td>M</td>\n",
       "      <td>сотрудник</td>\n",
       "      <td>0</td>\n",
       "      <td>145885</td>\n",
       "      <td>покупка жилья</td>\n",
       "      <td>недвижимость</td>\n",
       "    </tr>\n",
       "    <tr>\n",
       "      <th>3</th>\n",
       "      <td>3</td>\n",
       "      <td>32</td>\n",
       "      <td>среднее</td>\n",
       "      <td>1</td>\n",
       "      <td>женат / замужем</td>\n",
       "      <td>0</td>\n",
       "      <td>M</td>\n",
       "      <td>сотрудник</td>\n",
       "      <td>0</td>\n",
       "      <td>267628</td>\n",
       "      <td>дополнительное образование</td>\n",
       "      <td>образование</td>\n",
       "    </tr>\n",
       "    <tr>\n",
       "      <th>4</th>\n",
       "      <td>0</td>\n",
       "      <td>53</td>\n",
       "      <td>среднее</td>\n",
       "      <td>1</td>\n",
       "      <td>гражданский брак</td>\n",
       "      <td>1</td>\n",
       "      <td>F</td>\n",
       "      <td>пенсионер</td>\n",
       "      <td>0</td>\n",
       "      <td>158616</td>\n",
       "      <td>сыграть свадьбу</td>\n",
       "      <td>свадьба</td>\n",
       "    </tr>\n",
       "  </tbody>\n",
       "</table>\n",
       "</div>"
      ],
      "text/plain": [
       "   children dob_years education  education_id     family_status  \\\n",
       "0         1        42    высшее             0   женат / замужем   \n",
       "1         1        36   среднее             1   женат / замужем   \n",
       "2         0        33   среднее             1   женат / замужем   \n",
       "3         3        32   среднее             1   женат / замужем   \n",
       "4         0        53   среднее             1  гражданский брак   \n",
       "\n",
       "   family_status_id gender income_type  debt  total_income  \\\n",
       "0                 0      F   сотрудник     0        253875   \n",
       "1                 0      F   сотрудник     0        112080   \n",
       "2                 0      M   сотрудник     0        145885   \n",
       "3                 0      M   сотрудник     0        267628   \n",
       "4                 1      F   пенсионер     0        158616   \n",
       "\n",
       "                      purpose purpose_group  \n",
       "0               покупка жилья  недвижимость  \n",
       "1     приобретение автомобиля    автомобиль  \n",
       "2               покупка жилья  недвижимость  \n",
       "3  дополнительное образование   образование  \n",
       "4             сыграть свадьбу       свадьба  "
      ]
     },
     "execution_count": 247,
     "metadata": {},
     "output_type": "execute_result"
    }
   ],
   "source": [
    "data = data.drop(columns='purpose_lemm') # удалим столбец с леммами, он больше не нужен\n",
    "\n",
    "data.head()"
   ]
  },
  {
   "cell_type": "markdown",
   "metadata": {},
   "source": [
    "Чаще всего берут кредиты на различные операции с недвижимостью - почти половина данных в датасете так или иначе связана с покупкой, ремонтом или строительством. Удивительно, что займы на образование почти также распространены, как автокредиты. А вот на свадьбу подают заявки реже всего."
   ]
  },
  {
   "cell_type": "markdown",
   "metadata": {},
   "source": [
    "### Категоризация данных\n",
    "\n",
    "Для дальнейшего анализа и ответов на вопросы о зависимости уровня дохода и наличия детей и возвратом кредита в срок необходимо категоризировать эти данные."
   ]
  },
  {
   "cell_type": "markdown",
   "metadata": {},
   "source": [
    "Сведения о детях можно разделить на три категории: \n",
    "- бездетные \n",
    "- с детьми - 1-2 ребенка\n",
    "- многодетные - три и более\n"
   ]
  },
  {
   "cell_type": "code",
   "execution_count": 258,
   "metadata": {
    "scrolled": true
   },
   "outputs": [
    {
     "data": {
      "text/plain": [
       "бездетные      14196\n",
       "с детьми        6949\n",
       "многодетные      380\n",
       "Name: children_group, dtype: int64"
      ]
     },
     "execution_count": 258,
     "metadata": {},
     "output_type": "execute_result"
    }
   ],
   "source": [
    "def children_group(children): # функция, которая распределит по группам согласно условию \n",
    "    if children == 0:\n",
    "        return 'бездетные'\n",
    "    if children <= 2:\n",
    "        return 'с детьми'\n",
    "    return 'многодетные'\n",
    "\n",
    "data['children_group'] = data['children'].apply(children_group) # добавляем колонку с категорией\n",
    "\n",
    "\n",
    "data['children_group'].value_counts() # проверяем результат\n"
   ]
  },
  {
   "cell_type": "markdown",
   "metadata": {},
   "source": [
    "Если бы в услових проекта было указано, что все предоставленные данные заемщиков например из Москвы, то можно было бы ориентироваться на уровень зарплат конкретно этого города. Но поскольку город не указан, предположим, что это данные по всей стране, а значит возьмем за основу цифры Росстата, согласно которым среднемесячная зарплата по итогам 2020 года составляет 51000. \n",
    "\n",
    "Соответственно, все что ниже этой планки принимается как низкий доход. Все, что больше 200000 - высокий. Отдельная категория - от пятиста тысяч, это заемщики с очень высоким уровнем дохода."
   ]
  },
  {
   "cell_type": "code",
   "execution_count": 259,
   "metadata": {
    "scrolled": true
   },
   "outputs": [],
   "source": [
    "def income_group(total_income):  # функия присваивает категорию согласно условиям\n",
    "    if total_income <= 51000:\n",
    "        return 'низкий'\n",
    "    if total_income <= 200000:\n",
    "        return 'средний'\n",
    "    if total_income <= 500000:\n",
    "        return 'высокий'\n",
    "    return 'очень высокий'\n",
    "\n",
    "data['income_group'] = data['total_income'].apply(income_group) # добавляем колонку с категориями"
   ]
  },
  {
   "cell_type": "code",
   "execution_count": 260,
   "metadata": {
    "scrolled": true
   },
   "outputs": [
    {
     "data": {
      "text/plain": [
       "средний          16050\n",
       "высокий           4845\n",
       "низкий             408\n",
       "очень высокий      222\n",
       "Name: income_group, dtype: int64"
      ]
     },
     "execution_count": 260,
     "metadata": {},
     "output_type": "execute_result"
    }
   ],
   "source": [
    "data['income_group'].value_counts() # проверим результат\n"
   ]
  },
  {
   "cell_type": "markdown",
   "metadata": {},
   "source": [
    "У очень богатых кредиты менее востребованы, как и у тех, чей доход ниже среднего. Возможно последним их просто реже дают. Чаще всего к банку обращаются люди среднего класса с доходом от 50000 до 200000 рублей. "
   ]
  },
  {
   "cell_type": "markdown",
   "metadata": {},
   "source": [
    "## Ответы на вопросы"
   ]
  },
  {
   "cell_type": "markdown",
   "metadata": {},
   "source": [
    "### Есть ли зависимость между наличием детей и возвратом кредита в срок?\n",
    "\n"
   ]
  },
  {
   "cell_type": "code",
   "execution_count": 277,
   "metadata": {},
   "outputs": [
    {
     "data": {
      "text/html": [
       "<div>\n",
       "<style scoped>\n",
       "    .dataframe tbody tr th:only-of-type {\n",
       "        vertical-align: middle;\n",
       "    }\n",
       "\n",
       "    .dataframe tbody tr th {\n",
       "        vertical-align: top;\n",
       "    }\n",
       "\n",
       "    .dataframe thead th {\n",
       "        text-align: right;\n",
       "    }\n",
       "</style>\n",
       "<table border=\"1\" class=\"dataframe\">\n",
       "  <thead>\n",
       "    <tr style=\"text-align: right;\">\n",
       "      <th>debt</th>\n",
       "      <th>0</th>\n",
       "      <th>1</th>\n",
       "      <th>ratio</th>\n",
       "    </tr>\n",
       "    <tr>\n",
       "      <th>children_group</th>\n",
       "      <th></th>\n",
       "      <th></th>\n",
       "      <th></th>\n",
       "    </tr>\n",
       "  </thead>\n",
       "  <tbody>\n",
       "    <tr>\n",
       "      <th>бездетные</th>\n",
       "      <td>13132</td>\n",
       "      <td>1064</td>\n",
       "      <td>0.074951</td>\n",
       "    </tr>\n",
       "    <tr>\n",
       "      <th>многодетные</th>\n",
       "      <td>349</td>\n",
       "      <td>31</td>\n",
       "      <td>0.081579</td>\n",
       "    </tr>\n",
       "    <tr>\n",
       "      <th>с детьми</th>\n",
       "      <td>6303</td>\n",
       "      <td>646</td>\n",
       "      <td>0.092963</td>\n",
       "    </tr>\n",
       "  </tbody>\n",
       "</table>\n",
       "</div>"
      ],
      "text/plain": [
       "debt                0     1     ratio\n",
       "children_group                       \n",
       "бездетные       13132  1064  0.074951\n",
       "многодетные       349    31  0.081579\n",
       "с детьми         6303   646  0.092963"
      ]
     },
     "metadata": {},
     "output_type": "display_data"
    },
    {
     "name": "stdout",
     "output_type": "stream",
     "text": [
      "Доля должников среди заемщиков без детей равна 7.5%\n",
      "Доля должников среди заемщиков с тремя детьми и более равна 8.2%\n",
      "Доля должников среди заемщиков с 1-2 ребенком равна 9.3%\n"
     ]
    }
   ],
   "source": [
    "# выводим сводную таблицу, где видно кол-во должников и тех, кто платил вовремя\n",
    "data_pivot_children = data.pivot_table(\n",
    "    index=['children_group'], columns='debt',\n",
    "    values='gender', aggfunc='count')\n",
    " \n",
    "# добавляем колонку с % просроченных кредитов        \n",
    "data_pivot_children['ratio'] = data_pivot_children[1] / (\n",
    "    data_pivot_children[1] + data_pivot_children[0]) \n",
    "\n",
    "\n",
    "display(data_pivot_children)\n",
    "\n",
    "print('Доля должников среди заемщиков без детей равна {:.1%}'.format(\n",
    "    data_pivot_children.loc[('бездетные'), 'ratio']))\n",
    "\n",
    "print('Доля должников среди заемщиков с тремя детьми и более равна {:.1%}'.format(\n",
    "    data_pivot_children.loc[('многодетные'), 'ratio']))\n",
    "\n",
    "print('Доля должников среди заемщиков с 1-2 ребенком равна {:.1%}'.format(\n",
    "    data_pivot_children.loc[('с детьми'), 'ratio']))\n",
    "\n",
    "                                       "
   ]
  },
  {
   "cell_type": "markdown",
   "metadata": {},
   "source": [
    "Бездетные заемщики выглядят самыми дисциплинированными очевидно по причине более низкой финансовой нагрузки, а вот многодетные просрачивают платежи реже, чем те, у кого один или два ребенка."
   ]
  },
  {
   "cell_type": "markdown",
   "metadata": {},
   "source": [
    "### Есть ли зависимость между семейным положением и возвратом кредита в срок?\n",
    "\n"
   ]
  },
  {
   "cell_type": "code",
   "execution_count": 292,
   "metadata": {},
   "outputs": [
    {
     "data": {
      "text/html": [
       "<div>\n",
       "<style scoped>\n",
       "    .dataframe tbody tr th:only-of-type {\n",
       "        vertical-align: middle;\n",
       "    }\n",
       "\n",
       "    .dataframe tbody tr th {\n",
       "        vertical-align: top;\n",
       "    }\n",
       "\n",
       "    .dataframe thead th {\n",
       "        text-align: right;\n",
       "    }\n",
       "</style>\n",
       "<table border=\"1\" class=\"dataframe\">\n",
       "  <thead>\n",
       "    <tr style=\"text-align: right;\">\n",
       "      <th>debt</th>\n",
       "      <th>0</th>\n",
       "      <th>1</th>\n",
       "      <th>ratio</th>\n",
       "    </tr>\n",
       "    <tr>\n",
       "      <th>family_status</th>\n",
       "      <th></th>\n",
       "      <th></th>\n",
       "      <th></th>\n",
       "    </tr>\n",
       "  </thead>\n",
       "  <tbody>\n",
       "    <tr>\n",
       "      <th>вдовец / вдова</th>\n",
       "      <td>897</td>\n",
       "      <td>63</td>\n",
       "      <td>0.065625</td>\n",
       "    </tr>\n",
       "    <tr>\n",
       "      <th>в разводе</th>\n",
       "      <td>1110</td>\n",
       "      <td>85</td>\n",
       "      <td>0.071130</td>\n",
       "    </tr>\n",
       "    <tr>\n",
       "      <th>женат / замужем</th>\n",
       "      <td>11449</td>\n",
       "      <td>931</td>\n",
       "      <td>0.075202</td>\n",
       "    </tr>\n",
       "    <tr>\n",
       "      <th>гражданский брак</th>\n",
       "      <td>3789</td>\n",
       "      <td>388</td>\n",
       "      <td>0.092890</td>\n",
       "    </tr>\n",
       "    <tr>\n",
       "      <th>не женат / не замужем</th>\n",
       "      <td>2539</td>\n",
       "      <td>274</td>\n",
       "      <td>0.097405</td>\n",
       "    </tr>\n",
       "  </tbody>\n",
       "</table>\n",
       "</div>"
      ],
      "text/plain": [
       "debt                       0    1     ratio\n",
       "family_status                              \n",
       "вдовец / вдова           897   63  0.065625\n",
       "в разводе               1110   85  0.071130\n",
       "женат / замужем        11449  931  0.075202\n",
       "гражданский брак        3789  388  0.092890\n",
       "не женат / не замужем   2539  274  0.097405"
      ]
     },
     "metadata": {},
     "output_type": "display_data"
    },
    {
     "name": "stdout",
     "output_type": "stream",
     "text": [
      "Доля должников среди овдовевших равна 6.6%\n",
      "Доля должников среди разведенных равна 7.1%\n",
      "Доля должников среди состоящих в браке равна 7.5%\n",
      "Доля должников среди состоящих в гражданском браке равна 9.3%\n",
      "Доля должников среди не состоящих в браке равна 9.7%\n"
     ]
    }
   ],
   "source": [
    "# сводная таблица кол-ва должников \n",
    "data_pivot_family = data.pivot_table(\n",
    "    index=['family_status'], columns='debt',\n",
    "    values='children', aggfunc='count')\n",
    "\n",
    "# добавляем колонку с % просроченных кредитов\n",
    "data_pivot_family['ratio'] = data_pivot_family[1] / (\n",
    "    data_pivot_family[1] + data_pivot_family[0])\n",
    "\n",
    "# выводим и сортируем по %\n",
    "display(data_pivot_family.sort_values(by='ratio'))\n",
    "\n",
    "print(('Доля должников среди овдовевших равна {:.1%}'.format(\n",
    "    data_pivot_family.loc[('вдовец / вдова'), 'ratio'])))\n",
    "\n",
    "print(('Доля должников среди разведенных равна {:.1%}'.format(\n",
    "    data_pivot_family.loc[('в разводе'), 'ratio'])))\n",
    "\n",
    "print(('Доля должников среди состоящих в браке равна {:.1%}'.format(\n",
    "    data_pivot_family.loc[('женат / замужем'), 'ratio'])))\n",
    "\n",
    "print(('Доля должников среди состоящих в гражданском браке равна {:.1%}'.format(\n",
    "    data_pivot_family.loc[('гражданский брак'), 'ratio'])))\n",
    "\n",
    "print(('Доля должников среди не состоящих в браке равна {:.1%}'.format(\n",
    "    data_pivot_family.loc[('не женат / не замужем'), 'ratio'])))\n"
   ]
  },
  {
   "cell_type": "markdown",
   "metadata": {},
   "source": [
    "Неженатые/не замужние наименее благонадежные заемщики, а также те, кто состоит в гражданском браке. Видимо, в случае гражданского брака сложнее рассчитывать на поддержку партнера в случае необходимости, чем в законном. Вдовствующие и разведенные реже допускают просрочки, однако их количество в датасете сильно меньше остальных, чтобы говорить о заметных различиях."
   ]
  },
  {
   "cell_type": "markdown",
   "metadata": {},
   "source": [
    "###  Есть ли зависимость между уровнем дохода и возвратом кредита в срок?\n",
    "\n"
   ]
  },
  {
   "cell_type": "code",
   "execution_count": 295,
   "metadata": {},
   "outputs": [
    {
     "data": {
      "text/html": [
       "<div>\n",
       "<style scoped>\n",
       "    .dataframe tbody tr th:only-of-type {\n",
       "        vertical-align: middle;\n",
       "    }\n",
       "\n",
       "    .dataframe tbody tr th {\n",
       "        vertical-align: top;\n",
       "    }\n",
       "\n",
       "    .dataframe thead th {\n",
       "        text-align: right;\n",
       "    }\n",
       "</style>\n",
       "<table border=\"1\" class=\"dataframe\">\n",
       "  <thead>\n",
       "    <tr style=\"text-align: right;\">\n",
       "      <th>debt</th>\n",
       "      <th>0</th>\n",
       "      <th>1</th>\n",
       "      <th>ratio</th>\n",
       "    </tr>\n",
       "    <tr>\n",
       "      <th>income_group</th>\n",
       "      <th></th>\n",
       "      <th></th>\n",
       "      <th></th>\n",
       "    </tr>\n",
       "  </thead>\n",
       "  <tbody>\n",
       "    <tr>\n",
       "      <th>очень высокий</th>\n",
       "      <td>208</td>\n",
       "      <td>14</td>\n",
       "      <td>0.063063</td>\n",
       "    </tr>\n",
       "    <tr>\n",
       "      <th>низкий</th>\n",
       "      <td>382</td>\n",
       "      <td>26</td>\n",
       "      <td>0.063725</td>\n",
       "    </tr>\n",
       "    <tr>\n",
       "      <th>высокий</th>\n",
       "      <td>4501</td>\n",
       "      <td>344</td>\n",
       "      <td>0.071001</td>\n",
       "    </tr>\n",
       "    <tr>\n",
       "      <th>средний</th>\n",
       "      <td>14693</td>\n",
       "      <td>1357</td>\n",
       "      <td>0.084548</td>\n",
       "    </tr>\n",
       "  </tbody>\n",
       "</table>\n",
       "</div>"
      ],
      "text/plain": [
       "debt               0     1     ratio\n",
       "income_group                        \n",
       "очень высокий    208    14  0.063063\n",
       "низкий           382    26  0.063725\n",
       "высокий         4501   344  0.071001\n",
       "средний        14693  1357  0.084548"
      ]
     },
     "metadata": {},
     "output_type": "display_data"
    },
    {
     "name": "stdout",
     "output_type": "stream",
     "text": [
      "Доля должников среди заемщиков с доходом от 500 000 равна 6.3%\n",
      "Доля должников среди заемщиков с доходом до 51 000 равна 6.4%\n",
      "Доля должников среди заемщиков с доходом от 200 000 до 500 000 равна 7.1%\n",
      "Доля должников среди заемщиков с доходом от 51 000 до 200 000 равна 8.5%\n"
     ]
    }
   ],
   "source": [
    "# считаем кол-во должников и платящих вовремя по категориям дохода\n",
    "data_pivot_income = data.pivot_table(\n",
    "    index=['income_group'], columns='debt',\n",
    "    values='children', aggfunc='count')\n",
    "\n",
    "# добавляем % просрочек\n",
    "data_pivot_income['ratio'] = data_pivot_income[1] / (\n",
    "    data_pivot_income[1] + data_pivot_income[0]) \n",
    "\n",
    "# выводим результат с сортировкой по % просрочек\n",
    "display(data_pivot_income.sort_values(by='ratio'))\n",
    "\n",
    "print(('Доля должников среди заемщиков с доходом от 500 000 равна {:.1%}'.format(\n",
    "    data_pivot_income.loc[('очень высокий'), 'ratio'])))\n",
    "\n",
    "print(('Доля должников среди заемщиков с доходом до 51 000 равна {:.1%}'.format(\n",
    "    data_pivot_income.loc[('низкий'), 'ratio'])))\n",
    "\n",
    "print(('Доля должников среди заемщиков с доходом от 200 000 до 500 000 равна {:.1%}'.format(\n",
    "    data_pivot_income.loc[('высокий'), 'ratio'])))\n",
    "\n",
    "print(('Доля должников среди заемщиков с доходом от 51 000 до 200 000 равна {:.1%}'.format(\n",
    "    data_pivot_income.loc[('средний'), 'ratio'])))"
   ]
  },
  {
   "cell_type": "markdown",
   "metadata": {},
   "source": [
    "В целом различия между группами не такие большие, чтобы говорить о заметной тенденции. Люди с очень высоким доходом реже всего допускают просрочки, но при этом и кредиты для них не так актуальны - их заметно меньше, чем заемщиков со средним или выше среднего доходами. В категории \"низкий доход\" также небольшой % должников, однако их тоже меньше, вероятно по причине более жестких требований кредиты им одобряют значительно реже или ставят менее выгодные условия. В группе риска самый распространенный средний класс, клиенты с доходом от 51000 до 200000 чаще всего не следят за графиком платежей.\n"
   ]
  },
  {
   "cell_type": "markdown",
   "metadata": {},
   "source": [
    "### Как разные цели кредита влияют на его возврат в срок?"
   ]
  },
  {
   "cell_type": "code",
   "execution_count": 298,
   "metadata": {},
   "outputs": [
    {
     "data": {
      "text/html": [
       "<div>\n",
       "<style scoped>\n",
       "    .dataframe tbody tr th:only-of-type {\n",
       "        vertical-align: middle;\n",
       "    }\n",
       "\n",
       "    .dataframe tbody tr th {\n",
       "        vertical-align: top;\n",
       "    }\n",
       "\n",
       "    .dataframe thead th {\n",
       "        text-align: right;\n",
       "    }\n",
       "</style>\n",
       "<table border=\"1\" class=\"dataframe\">\n",
       "  <thead>\n",
       "    <tr style=\"text-align: right;\">\n",
       "      <th>debt</th>\n",
       "      <th>0</th>\n",
       "      <th>1</th>\n",
       "      <th>ratio</th>\n",
       "    </tr>\n",
       "    <tr>\n",
       "      <th>purpose_group</th>\n",
       "      <th></th>\n",
       "      <th></th>\n",
       "      <th></th>\n",
       "    </tr>\n",
       "  </thead>\n",
       "  <tbody>\n",
       "    <tr>\n",
       "      <th>недвижимость</th>\n",
       "      <td>10058</td>\n",
       "      <td>782</td>\n",
       "      <td>0.072140</td>\n",
       "    </tr>\n",
       "    <tr>\n",
       "      <th>свадьба</th>\n",
       "      <td>2162</td>\n",
       "      <td>186</td>\n",
       "      <td>0.079216</td>\n",
       "    </tr>\n",
       "    <tr>\n",
       "      <th>образование</th>\n",
       "      <td>3652</td>\n",
       "      <td>370</td>\n",
       "      <td>0.091994</td>\n",
       "    </tr>\n",
       "    <tr>\n",
       "      <th>автомобиль</th>\n",
       "      <td>3912</td>\n",
       "      <td>403</td>\n",
       "      <td>0.093395</td>\n",
       "    </tr>\n",
       "  </tbody>\n",
       "</table>\n",
       "</div>"
      ],
      "text/plain": [
       "debt               0    1     ratio\n",
       "purpose_group                      \n",
       "недвижимость   10058  782  0.072140\n",
       "свадьба         2162  186  0.079216\n",
       "образование     3652  370  0.091994\n",
       "автомобиль      3912  403  0.093395"
      ]
     },
     "metadata": {},
     "output_type": "display_data"
    },
    {
     "name": "stdout",
     "output_type": "stream",
     "text": [
      "Процент должников среди кредитов на недвижимость, строительство и ремонт - 7.2%\n",
      "Процент должников среди кредитов на свадьбу - 7.9%\n",
      "Процент должников среди кредитов на образование - 9.2%\n",
      "Процент должников среди автокредитов - 9.3%\n"
     ]
    }
   ],
   "source": [
    "# сводная таблица в разбивке по целям \n",
    "data_pivot_purpose = data.pivot_table(\n",
    "    index=['purpose_group'], columns='debt',\n",
    "    values='children', aggfunc='count')\n",
    "\n",
    "# добавляем % должников\n",
    "data_pivot_purpose['ratio'] = data_pivot_purpose[1] / (\n",
    "    data_pivot_purpose[1] + data_pivot_purpose[0]) \n",
    "\n",
    "# выводим результат с сортировкой по %\n",
    "display(data_pivot_purpose.sort_values(by='ratio'))\n",
    "\n",
    "print(('Процент должников среди кредитов на недвижимость, строительство и ремонт - {:.1%}'.format(\n",
    "    data_pivot_purpose.loc[('недвижимость'), 'ratio'])))\n",
    "\n",
    "print(('Процент должников среди кредитов на свадьбу - {:.1%}'.format(\n",
    "    data_pivot_purpose.loc[('свадьба'), 'ratio'])))\n",
    "\n",
    "print(('Процент должников среди кредитов на образование - {:.1%}'.format(\n",
    "    data_pivot_purpose.loc[('образование'), 'ratio'])))\n",
    "\n",
    "print(('Процент должников среди автокредитов - {:.1%}'.format(\n",
    "    data_pivot_purpose.loc[('автомобиль'), 'ratio'])))\n"
   ]
  },
  {
   "cell_type": "markdown",
   "metadata": {},
   "source": [
    "Кредиты на приобретение жилья, строительство и ремонт чаще других выплачиваются вовремя. Однако у нас здесь нет информации, это в том числе ипотечные кредиты или потребительски с указанием цели на изменение жилищных условий. Было бы интересно также посмотреть отдельно на коммерческую недвижимость - такая же там статистика как по жилой, или отличается. Удивительно, что доля просроченных кредитов на свадьбу всего около 8% - вероятно супруги гасят его уже совместными усилиями, либо закрывают досрочно подаренными по случаю свадьбы деньгами. Автокредиты и кредиты на образование чаще других просрачиваются плательщиками."
   ]
  },
  {
   "cell_type": "markdown",
   "metadata": {},
   "source": [
    "## Общий вывод"
   ]
  },
  {
   "cell_type": "markdown",
   "metadata": {},
   "source": [
    "Самыми неблагонадежными заемщиками выглядят люди, не состоящие в браке и имеющие 1-2 детей, это предсказуемый результат, так как их финансовая нагрузка в случае наличия детей выше и при этом нет помощи от партнера/она незначительная. Более выгодным клиентом являются бездетные, но при этом состоящие в официальном браке и оформляющие кредит на покупку/ремонт/строительство недвижимости.\n",
    "\n",
    "Многодетные и люди с низким доходом вопреки ожиданиям не входят в группу риска и реже других допускают просрочки платежей -  к таким заемщикам банки устанавливают более высокие требования, более строго проверяют перед одобрением кредита. Возможно поэтому они более дисциплинированные, так как в их случае просрочка может обернуться существенными для их бюджета процентами.\n",
    "\n",
    "То, что кредиты на недвижимость чаще других выплачиваются вовремя, выглядит достаточно правдоподобно, так как они менее импульсивные - люди обычно тщательно просчитывают будущие траты, прежде чем ввязываться в операции с недвижимостью. \n",
    "А вот результат с кредитами на свадьбу удивил, ведь известно, что в течение первых двух лет в России распадается каждый второй брак, а значит, что в случае оформления кредита и последующего развода обязательство по его выплате скорее всего ложится на плечи только одного из партнеров. Но видимо, этот тип кредитов успевают погасить и платят более исправно.\n",
    "\n",
    "Однако разница должников в разных группах колеблется в пределах 1%-3%, что вряд ли позволяет записать определенную категорию людей в гарантированно ненадежные или наоборот, в потенциально стабильные и заслуживающие доверия. А вот совпадение нескольких факторов уже делает способность потенциального заёмщика вернуть/просрочить кредит банку более предсказуемой.\n",
    "\n",
    "Для более показательных результатов было бы здорово иметь более детальные данные о просрочках - это единичный случай или повторяющееся явление. Одна просрочка платежа в кредитной истории не делает заемщика злостным неплательщиком, так как могла произойти вследствие например невнимательности и в дальнейшем не повториться. А вот регулярные задержки уже бы указывали на тенденцию и позволили бы дать более точный прогноз."
   ]
  },
  {
   "cell_type": "code",
   "execution_count": null,
   "metadata": {},
   "outputs": [],
   "source": []
  }
 ],
 "metadata": {
  "ExecuteTimeLog": [
   {
    "duration": 851,
    "start_time": "2022-01-24T19:34:39.745Z"
   },
   {
    "duration": 86,
    "start_time": "2022-01-24T19:34:57.275Z"
   },
   {
    "duration": 75,
    "start_time": "2022-01-24T19:35:05.918Z"
   },
   {
    "duration": 78,
    "start_time": "2022-01-24T19:36:59.076Z"
   },
   {
    "duration": 87,
    "start_time": "2022-01-24T19:38:34.206Z"
   },
   {
    "duration": 424,
    "start_time": "2022-01-24T20:00:14.459Z"
   },
   {
    "duration": 108,
    "start_time": "2022-01-24T20:01:11.510Z"
   },
   {
    "duration": 90,
    "start_time": "2022-01-24T20:01:57.857Z"
   },
   {
    "duration": 13,
    "start_time": "2022-01-24T20:11:23.658Z"
   },
   {
    "duration": 96,
    "start_time": "2022-01-24T20:31:34.753Z"
   },
   {
    "duration": 88,
    "start_time": "2022-01-24T20:32:45.710Z"
   },
   {
    "duration": 19,
    "start_time": "2022-01-24T20:56:07.483Z"
   },
   {
    "duration": 18,
    "start_time": "2022-01-24T20:56:27.842Z"
   },
   {
    "duration": 99,
    "start_time": "2022-01-24T20:59:52.061Z"
   },
   {
    "duration": 13,
    "start_time": "2022-01-24T20:59:58.653Z"
   },
   {
    "duration": 94,
    "start_time": "2022-01-24T21:00:23.389Z"
   },
   {
    "duration": 23,
    "start_time": "2022-01-24T21:00:29.798Z"
   },
   {
    "duration": 12,
    "start_time": "2022-01-24T21:01:04.674Z"
   },
   {
    "duration": 19,
    "start_time": "2022-01-24T21:10:50.398Z"
   },
   {
    "duration": 23,
    "start_time": "2022-01-24T21:13:37.896Z"
   },
   {
    "duration": 337,
    "start_time": "2022-01-25T20:01:05.479Z"
   },
   {
    "duration": 659,
    "start_time": "2022-01-25T20:01:15.416Z"
   },
   {
    "duration": 16,
    "start_time": "2022-01-25T20:01:16.077Z"
   },
   {
    "duration": 17,
    "start_time": "2022-01-25T20:02:55.061Z"
   },
   {
    "duration": 21,
    "start_time": "2022-01-25T20:48:42.209Z"
   },
   {
    "duration": 4,
    "start_time": "2022-01-25T21:03:20.677Z"
   },
   {
    "duration": 4,
    "start_time": "2022-01-25T21:03:23.336Z"
   },
   {
    "duration": 4,
    "start_time": "2022-01-25T21:03:39.035Z"
   },
   {
    "duration": 4,
    "start_time": "2022-01-25T21:04:05.219Z"
   },
   {
    "duration": 5,
    "start_time": "2022-01-25T21:04:49.842Z"
   },
   {
    "duration": 16,
    "start_time": "2022-01-25T21:24:40.329Z"
   },
   {
    "duration": 63,
    "start_time": "2022-01-25T21:24:52.853Z"
   },
   {
    "duration": 15,
    "start_time": "2022-01-25T21:24:52.918Z"
   },
   {
    "duration": 4,
    "start_time": "2022-01-25T21:24:52.934Z"
   },
   {
    "duration": 22,
    "start_time": "2022-01-25T21:25:38.441Z"
   },
   {
    "duration": 430,
    "start_time": "2022-01-25T21:32:24.432Z"
   },
   {
    "duration": 360,
    "start_time": "2022-01-25T21:32:38.986Z"
   },
   {
    "duration": 358,
    "start_time": "2022-01-25T21:33:02.655Z"
   },
   {
    "duration": 370,
    "start_time": "2022-01-25T21:33:16.071Z"
   },
   {
    "duration": 349,
    "start_time": "2022-01-25T21:33:34.653Z"
   },
   {
    "duration": 17,
    "start_time": "2022-01-25T21:49:23.099Z"
   },
   {
    "duration": 275,
    "start_time": "2022-01-25T21:57:39.912Z"
   },
   {
    "duration": 63,
    "start_time": "2022-01-25T21:57:52.227Z"
   },
   {
    "duration": 25,
    "start_time": "2022-01-25T21:58:47.817Z"
   },
   {
    "duration": 24,
    "start_time": "2022-01-25T21:58:52.111Z"
   },
   {
    "duration": 288,
    "start_time": "2022-01-26T18:55:03.804Z"
   },
   {
    "duration": 779,
    "start_time": "2022-01-26T18:55:18.403Z"
   },
   {
    "duration": 29,
    "start_time": "2022-01-26T18:55:19.184Z"
   },
   {
    "duration": 6,
    "start_time": "2022-01-26T18:55:19.215Z"
   },
   {
    "duration": 3210,
    "start_time": "2022-01-26T19:08:45.243Z"
   },
   {
    "duration": 74,
    "start_time": "2022-01-26T19:08:56.930Z"
   },
   {
    "duration": 23,
    "start_time": "2022-01-26T19:08:57.006Z"
   },
   {
    "duration": 3350,
    "start_time": "2022-01-26T19:08:57.031Z"
   },
   {
    "duration": -19,
    "start_time": "2022-01-26T19:09:00.402Z"
   },
   {
    "duration": 14,
    "start_time": "2022-01-26T19:09:18.683Z"
   },
   {
    "duration": 16,
    "start_time": "2022-01-26T19:10:14.265Z"
   },
   {
    "duration": 5,
    "start_time": "2022-01-26T19:20:22.775Z"
   },
   {
    "duration": 4,
    "start_time": "2022-01-26T19:20:37.877Z"
   },
   {
    "duration": 334,
    "start_time": "2022-01-26T19:22:06.993Z"
   },
   {
    "duration": 225,
    "start_time": "2022-01-26T19:22:12.325Z"
   },
   {
    "duration": 256,
    "start_time": "2022-01-26T19:22:22.841Z"
   },
   {
    "duration": 3,
    "start_time": "2022-01-26T19:22:37.367Z"
   },
   {
    "duration": 5,
    "start_time": "2022-01-26T19:28:20.056Z"
   },
   {
    "duration": 11,
    "start_time": "2022-01-26T19:31:59.533Z"
   },
   {
    "duration": 9,
    "start_time": "2022-01-26T19:32:06.953Z"
   },
   {
    "duration": 6,
    "start_time": "2022-01-26T19:32:06.957Z"
   },
   {
    "duration": 6,
    "start_time": "2022-01-26T19:32:06.958Z"
   },
   {
    "duration": 4,
    "start_time": "2022-01-26T19:32:06.961Z"
   },
   {
    "duration": 6,
    "start_time": "2022-01-26T19:32:13.629Z"
   },
   {
    "duration": 7,
    "start_time": "2022-01-26T19:32:37.738Z"
   },
   {
    "duration": 10,
    "start_time": "2022-01-26T19:32:46.420Z"
   },
   {
    "duration": 18,
    "start_time": "2022-01-26T19:35:04.155Z"
   },
   {
    "duration": 17,
    "start_time": "2022-01-26T19:35:12.080Z"
   },
   {
    "duration": 16,
    "start_time": "2022-01-26T19:35:20.716Z"
   },
   {
    "duration": 17,
    "start_time": "2022-01-26T19:35:26.860Z"
   },
   {
    "duration": 8,
    "start_time": "2022-01-26T19:36:20.791Z"
   },
   {
    "duration": 13,
    "start_time": "2022-01-26T19:38:06.788Z"
   },
   {
    "duration": 20,
    "start_time": "2022-01-26T19:38:19.822Z"
   },
   {
    "duration": 17,
    "start_time": "2022-01-26T19:41:30.755Z"
   },
   {
    "duration": 18,
    "start_time": "2022-01-26T19:43:32.309Z"
   },
   {
    "duration": 22,
    "start_time": "2022-01-26T19:48:31.609Z"
   },
   {
    "duration": 20,
    "start_time": "2022-01-26T19:51:15.034Z"
   },
   {
    "duration": 77,
    "start_time": "2022-01-26T19:54:43.667Z"
   },
   {
    "duration": 310,
    "start_time": "2022-01-26T20:02:22.186Z"
   },
   {
    "duration": 232,
    "start_time": "2022-01-26T20:02:28.309Z"
   },
   {
    "duration": 78,
    "start_time": "2022-01-26T20:02:54.876Z"
   },
   {
    "duration": 82,
    "start_time": "2022-01-26T20:03:18.578Z"
   },
   {
    "duration": 82,
    "start_time": "2022-01-26T20:03:27.659Z"
   },
   {
    "duration": 17,
    "start_time": "2022-01-26T20:13:41.205Z"
   },
   {
    "duration": 18,
    "start_time": "2022-01-26T20:14:23.673Z"
   },
   {
    "duration": 18,
    "start_time": "2022-01-26T20:14:32.980Z"
   },
   {
    "duration": 74,
    "start_time": "2022-01-26T20:14:35.775Z"
   },
   {
    "duration": 21,
    "start_time": "2022-01-26T20:14:35.851Z"
   },
   {
    "duration": 9,
    "start_time": "2022-01-26T20:14:35.875Z"
   },
   {
    "duration": 27,
    "start_time": "2022-01-26T20:14:35.886Z"
   },
   {
    "duration": 16,
    "start_time": "2022-01-26T20:18:10.021Z"
   },
   {
    "duration": 17,
    "start_time": "2022-01-26T20:18:33.312Z"
   },
   {
    "duration": 16,
    "start_time": "2022-01-26T20:18:47.770Z"
   },
   {
    "duration": 15,
    "start_time": "2022-01-26T20:19:20.669Z"
   },
   {
    "duration": 14,
    "start_time": "2022-01-26T20:19:44.220Z"
   },
   {
    "duration": 17,
    "start_time": "2022-01-26T20:20:04.634Z"
   },
   {
    "duration": 70,
    "start_time": "2022-01-26T20:21:14.700Z"
   },
   {
    "duration": 75,
    "start_time": "2022-01-26T20:21:29.219Z"
   },
   {
    "duration": 72,
    "start_time": "2022-01-26T20:22:25.832Z"
   },
   {
    "duration": 13,
    "start_time": "2022-01-26T20:22:53.353Z"
   },
   {
    "duration": -3,
    "start_time": "2022-01-26T20:23:49.075Z"
   },
   {
    "duration": 18,
    "start_time": "2022-01-26T20:23:53.466Z"
   },
   {
    "duration": 14,
    "start_time": "2022-01-26T20:24:13.366Z"
   },
   {
    "duration": 15,
    "start_time": "2022-01-26T20:24:36.269Z"
   },
   {
    "duration": 86,
    "start_time": "2022-01-26T20:24:58.450Z"
   },
   {
    "duration": 257,
    "start_time": "2022-01-26T20:25:07.969Z"
   },
   {
    "duration": 263,
    "start_time": "2022-01-26T20:25:16.667Z"
   },
   {
    "duration": 71,
    "start_time": "2022-01-26T20:25:29.681Z"
   },
   {
    "duration": 20,
    "start_time": "2022-01-26T20:25:29.754Z"
   },
   {
    "duration": 5,
    "start_time": "2022-01-26T20:25:29.776Z"
   },
   {
    "duration": 28,
    "start_time": "2022-01-26T20:25:29.783Z"
   },
   {
    "duration": 5,
    "start_time": "2022-01-26T20:25:36.475Z"
   },
   {
    "duration": 15,
    "start_time": "2022-01-26T20:26:04.475Z"
   },
   {
    "duration": 6,
    "start_time": "2022-01-26T20:26:11.223Z"
   },
   {
    "duration": 25,
    "start_time": "2022-01-26T20:27:51.108Z"
   },
   {
    "duration": 45,
    "start_time": "2022-01-26T20:34:06.471Z"
   },
   {
    "duration": 44,
    "start_time": "2022-01-26T20:34:42.303Z"
   },
   {
    "duration": 56,
    "start_time": "2022-01-26T20:35:15.469Z"
   },
   {
    "duration": 43,
    "start_time": "2022-01-26T20:38:21.117Z"
   },
   {
    "duration": 28,
    "start_time": "2022-01-26T20:39:29.169Z"
   },
   {
    "duration": 23,
    "start_time": "2022-01-26T20:49:44.752Z"
   },
   {
    "duration": 21,
    "start_time": "2022-01-26T20:50:05.532Z"
   },
   {
    "duration": 262,
    "start_time": "2022-01-26T20:54:46.546Z"
   },
   {
    "duration": 198,
    "start_time": "2022-01-26T20:55:04.262Z"
   },
   {
    "duration": 271,
    "start_time": "2022-01-26T20:55:08.556Z"
   },
   {
    "duration": 27,
    "start_time": "2022-01-26T20:57:14.446Z"
   },
   {
    "duration": 30,
    "start_time": "2022-01-26T20:57:28.727Z"
   },
   {
    "duration": 24,
    "start_time": "2022-01-26T20:58:16.343Z"
   },
   {
    "duration": 25,
    "start_time": "2022-01-26T20:58:30.718Z"
   },
   {
    "duration": 243,
    "start_time": "2022-01-26T20:58:41.088Z"
   },
   {
    "duration": 23,
    "start_time": "2022-01-26T20:58:49.562Z"
   },
   {
    "duration": 27,
    "start_time": "2022-01-26T21:06:51.260Z"
   },
   {
    "duration": 33,
    "start_time": "2022-01-26T21:13:39.319Z"
   },
   {
    "duration": 26,
    "start_time": "2022-01-26T21:15:59.220Z"
   },
   {
    "duration": 29,
    "start_time": "2022-01-26T21:17:11.128Z"
   },
   {
    "duration": 29,
    "start_time": "2022-01-26T21:17:37.759Z"
   },
   {
    "duration": 27,
    "start_time": "2022-01-26T21:18:04.485Z"
   },
   {
    "duration": 11,
    "start_time": "2022-01-26T21:33:21.037Z"
   },
   {
    "duration": 47,
    "start_time": "2022-01-26T21:37:04.829Z"
   },
   {
    "duration": 47,
    "start_time": "2022-01-26T21:37:17.679Z"
   },
   {
    "duration": 44,
    "start_time": "2022-01-26T21:38:20.242Z"
   },
   {
    "duration": 83,
    "start_time": "2022-01-26T21:38:57.411Z"
   },
   {
    "duration": 55,
    "start_time": "2022-01-26T21:39:12.045Z"
   },
   {
    "duration": 40,
    "start_time": "2022-01-26T21:41:13.711Z"
   },
   {
    "duration": 42,
    "start_time": "2022-01-26T21:43:06.724Z"
   },
   {
    "duration": 72,
    "start_time": "2022-01-26T21:43:10.978Z"
   },
   {
    "duration": 231,
    "start_time": "2022-01-26T21:43:11.052Z"
   },
   {
    "duration": 53,
    "start_time": "2022-01-26T21:43:11.232Z"
   },
   {
    "duration": 53,
    "start_time": "2022-01-26T21:43:11.233Z"
   },
   {
    "duration": 47,
    "start_time": "2022-01-26T21:43:18.809Z"
   },
   {
    "duration": 72,
    "start_time": "2022-01-26T21:43:36.445Z"
   },
   {
    "duration": 20,
    "start_time": "2022-01-26T21:43:36.519Z"
   },
   {
    "duration": 5,
    "start_time": "2022-01-26T21:43:36.541Z"
   },
   {
    "duration": 59,
    "start_time": "2022-01-26T21:43:36.548Z"
   },
   {
    "duration": 10,
    "start_time": "2022-01-26T21:43:36.609Z"
   },
   {
    "duration": 16,
    "start_time": "2022-01-26T22:06:11.717Z"
   },
   {
    "duration": 15,
    "start_time": "2022-01-26T22:06:16.549Z"
   },
   {
    "duration": 11,
    "start_time": "2022-01-26T22:06:41.808Z"
   },
   {
    "duration": 12,
    "start_time": "2022-01-26T22:07:12.682Z"
   },
   {
    "duration": 250,
    "start_time": "2022-01-26T22:07:33.438Z"
   },
   {
    "duration": 11,
    "start_time": "2022-01-26T22:07:53.052Z"
   },
   {
    "duration": 11,
    "start_time": "2022-01-26T22:10:33.321Z"
   },
   {
    "duration": 14,
    "start_time": "2022-01-26T22:11:26.697Z"
   },
   {
    "duration": 13,
    "start_time": "2022-01-26T22:11:54.680Z"
   },
   {
    "duration": 365,
    "start_time": "2022-01-27T12:21:13.022Z"
   },
   {
    "duration": 674,
    "start_time": "2022-01-27T12:22:01.270Z"
   },
   {
    "duration": 18,
    "start_time": "2022-01-27T12:22:01.946Z"
   },
   {
    "duration": 4,
    "start_time": "2022-01-27T12:22:01.966Z"
   },
   {
    "duration": 45,
    "start_time": "2022-01-27T12:22:01.972Z"
   },
   {
    "duration": 10,
    "start_time": "2022-01-27T12:22:02.018Z"
   },
   {
    "duration": 357,
    "start_time": "2022-01-27T12:22:02.029Z"
   },
   {
    "duration": 304,
    "start_time": "2022-01-27T12:22:07.737Z"
   },
   {
    "duration": 3398,
    "start_time": "2022-01-27T12:25:52.413Z"
   },
   {
    "duration": 94,
    "start_time": "2022-01-27T12:41:15.071Z"
   },
   {
    "duration": 66,
    "start_time": "2022-01-27T12:41:16.684Z"
   },
   {
    "duration": 17,
    "start_time": "2022-01-27T12:41:16.751Z"
   },
   {
    "duration": 10,
    "start_time": "2022-01-27T12:41:16.770Z"
   },
   {
    "duration": 53,
    "start_time": "2022-01-27T12:41:16.782Z"
   },
   {
    "duration": 10,
    "start_time": "2022-01-27T12:41:16.837Z"
   },
   {
    "duration": 3775,
    "start_time": "2022-01-27T12:41:16.849Z"
   },
   {
    "duration": 90,
    "start_time": "2022-01-27T12:41:38.297Z"
   },
   {
    "duration": 66,
    "start_time": "2022-01-27T12:41:38.625Z"
   },
   {
    "duration": 19,
    "start_time": "2022-01-27T12:41:38.693Z"
   },
   {
    "duration": 5,
    "start_time": "2022-01-27T12:41:38.714Z"
   },
   {
    "duration": 55,
    "start_time": "2022-01-27T12:41:38.720Z"
   },
   {
    "duration": 12,
    "start_time": "2022-01-27T12:41:38.777Z"
   },
   {
    "duration": 3729,
    "start_time": "2022-01-27T12:41:38.790Z"
   },
   {
    "duration": 3262,
    "start_time": "2022-01-27T12:41:57.187Z"
   },
   {
    "duration": 3312,
    "start_time": "2022-01-27T12:42:15.836Z"
   },
   {
    "duration": 70,
    "start_time": "2022-01-27T12:42:29.759Z"
   },
   {
    "duration": 19,
    "start_time": "2022-01-27T12:42:29.831Z"
   },
   {
    "duration": 21,
    "start_time": "2022-01-27T12:42:29.851Z"
   },
   {
    "duration": 34,
    "start_time": "2022-01-27T12:42:29.873Z"
   },
   {
    "duration": 10,
    "start_time": "2022-01-27T12:42:29.909Z"
   },
   {
    "duration": 3575,
    "start_time": "2022-01-27T12:42:29.920Z"
   },
   {
    "duration": 36411,
    "start_time": "2022-01-27T12:44:12.128Z"
   },
   {
    "duration": 355,
    "start_time": "2022-01-27T13:03:38.217Z"
   },
   {
    "duration": 302,
    "start_time": "2022-01-27T13:03:52.117Z"
   },
   {
    "duration": 689,
    "start_time": "2022-01-27T13:04:01.845Z"
   },
   {
    "duration": 19,
    "start_time": "2022-01-27T13:04:02.535Z"
   },
   {
    "duration": 18,
    "start_time": "2022-01-27T13:04:02.556Z"
   },
   {
    "duration": 46,
    "start_time": "2022-01-27T13:04:02.575Z"
   },
   {
    "duration": 12,
    "start_time": "2022-01-27T13:04:02.623Z"
   },
   {
    "duration": 3123,
    "start_time": "2022-01-27T13:04:02.637Z"
   },
   {
    "duration": -34,
    "start_time": "2022-01-27T13:04:45.754Z"
   },
   {
    "duration": -19,
    "start_time": "2022-01-27T13:05:04.983Z"
   },
   {
    "duration": -20,
    "start_time": "2022-01-27T13:05:04.985Z"
   },
   {
    "duration": -19,
    "start_time": "2022-01-27T13:05:04.986Z"
   },
   {
    "duration": -19,
    "start_time": "2022-01-27T13:05:04.987Z"
   },
   {
    "duration": -20,
    "start_time": "2022-01-27T13:05:04.989Z"
   },
   {
    "duration": -21,
    "start_time": "2022-01-27T13:05:04.991Z"
   },
   {
    "duration": 4682,
    "start_time": "2022-01-27T13:05:22.685Z"
   },
   {
    "duration": 3352,
    "start_time": "2022-01-27T13:05:32.747Z"
   },
   {
    "duration": 3147,
    "start_time": "2022-01-27T13:05:36.253Z"
   },
   {
    "duration": 67,
    "start_time": "2022-01-27T14:22:48.325Z"
   },
   {
    "duration": 18,
    "start_time": "2022-01-27T14:22:48.394Z"
   },
   {
    "duration": 7,
    "start_time": "2022-01-27T14:22:48.414Z"
   },
   {
    "duration": 49,
    "start_time": "2022-01-27T14:22:48.423Z"
   },
   {
    "duration": 11,
    "start_time": "2022-01-27T14:22:48.475Z"
   },
   {
    "duration": 3194,
    "start_time": "2022-01-27T14:22:48.487Z"
   },
   {
    "duration": 3259,
    "start_time": "2022-01-27T14:23:38.168Z"
   },
   {
    "duration": 3420,
    "start_time": "2022-01-27T14:23:41.621Z"
   },
   {
    "duration": 3244,
    "start_time": "2022-01-27T14:23:48.945Z"
   },
   {
    "duration": 3348,
    "start_time": "2022-01-27T14:25:44.638Z"
   },
   {
    "duration": 93,
    "start_time": "2022-01-27T14:35:37.412Z"
   },
   {
    "duration": 22,
    "start_time": "2022-01-27T14:35:37.507Z"
   },
   {
    "duration": 5,
    "start_time": "2022-01-27T14:35:37.531Z"
   },
   {
    "duration": 61,
    "start_time": "2022-01-27T14:35:37.537Z"
   },
   {
    "duration": 13,
    "start_time": "2022-01-27T14:35:37.600Z"
   },
   {
    "duration": 3606,
    "start_time": "2022-01-27T14:35:37.615Z"
   },
   {
    "duration": 3577,
    "start_time": "2022-01-27T14:36:28.244Z"
   },
   {
    "duration": 3480,
    "start_time": "2022-01-27T14:36:38.294Z"
   },
   {
    "duration": 3481,
    "start_time": "2022-01-27T14:37:40.680Z"
   },
   {
    "duration": 3269,
    "start_time": "2022-01-27T14:39:33.029Z"
   },
   {
    "duration": 3366,
    "start_time": "2022-01-27T14:39:47.012Z"
   },
   {
    "duration": 65,
    "start_time": "2022-01-27T14:42:06.585Z"
   },
   {
    "duration": 4335,
    "start_time": "2022-01-27T14:42:28.603Z"
   },
   {
    "duration": 3562,
    "start_time": "2022-01-27T14:43:01.764Z"
   },
   {
    "duration": 3865,
    "start_time": "2022-01-27T14:45:05.585Z"
   },
   {
    "duration": 80,
    "start_time": "2022-01-27T14:45:23.933Z"
   },
   {
    "duration": 4051,
    "start_time": "2022-01-27T14:45:33.908Z"
   },
   {
    "duration": -9020,
    "start_time": "2022-01-27T14:46:20.739Z"
   },
   {
    "duration": 3980,
    "start_time": "2022-01-27T14:46:23.459Z"
   },
   {
    "duration": 3574,
    "start_time": "2022-01-27T14:46:49.155Z"
   },
   {
    "duration": 24,
    "start_time": "2022-01-27T14:47:41.816Z"
   },
   {
    "duration": 3350,
    "start_time": "2022-01-27T14:58:10.599Z"
   },
   {
    "duration": 3596,
    "start_time": "2022-01-27T15:02:05.952Z"
   },
   {
    "duration": -217,
    "start_time": "2022-01-27T15:08:13.453Z"
   },
   {
    "duration": 3566,
    "start_time": "2022-01-27T15:09:22.859Z"
   },
   {
    "duration": 3502,
    "start_time": "2022-01-27T15:10:38.295Z"
   },
   {
    "duration": 3348,
    "start_time": "2022-01-27T15:10:54.249Z"
   },
   {
    "duration": 3547,
    "start_time": "2022-01-27T15:14:19.154Z"
   },
   {
    "duration": 66,
    "start_time": "2022-01-27T15:14:42.525Z"
   },
   {
    "duration": 17,
    "start_time": "2022-01-27T15:14:42.593Z"
   },
   {
    "duration": 4,
    "start_time": "2022-01-27T15:14:42.612Z"
   },
   {
    "duration": 34,
    "start_time": "2022-01-27T15:14:42.617Z"
   },
   {
    "duration": 10,
    "start_time": "2022-01-27T15:14:42.671Z"
   },
   {
    "duration": 3469,
    "start_time": "2022-01-27T15:14:42.683Z"
   },
   {
    "duration": 3651,
    "start_time": "2022-01-27T15:22:34.943Z"
   },
   {
    "duration": 284,
    "start_time": "2022-01-28T10:19:45.034Z"
   },
   {
    "duration": 686,
    "start_time": "2022-01-28T10:19:57.653Z"
   },
   {
    "duration": 22,
    "start_time": "2022-01-28T10:19:58.341Z"
   },
   {
    "duration": 4,
    "start_time": "2022-01-28T10:19:58.365Z"
   },
   {
    "duration": 60,
    "start_time": "2022-01-28T10:19:58.371Z"
   },
   {
    "duration": 13,
    "start_time": "2022-01-28T10:19:58.433Z"
   },
   {
    "duration": 4678,
    "start_time": "2022-01-28T10:19:58.448Z"
   },
   {
    "duration": 3982,
    "start_time": "2022-01-28T10:23:06.394Z"
   },
   {
    "duration": 76,
    "start_time": "2022-01-28T10:23:51.237Z"
   },
   {
    "duration": 4032,
    "start_time": "2022-01-28T10:23:58.897Z"
   },
   {
    "duration": 4978,
    "start_time": "2022-01-28T10:29:05.969Z"
   },
   {
    "duration": 4859,
    "start_time": "2022-01-28T10:29:36.223Z"
   },
   {
    "duration": 3815,
    "start_time": "2022-01-28T10:31:38.630Z"
   },
   {
    "duration": 4082,
    "start_time": "2022-01-28T10:32:22.187Z"
   },
   {
    "duration": 4211,
    "start_time": "2022-01-28T10:34:09.229Z"
   },
   {
    "duration": 4096,
    "start_time": "2022-01-28T10:34:57.614Z"
   },
   {
    "duration": 3882,
    "start_time": "2022-01-28T10:35:52.861Z"
   },
   {
    "duration": 4119,
    "start_time": "2022-01-28T10:36:10.226Z"
   },
   {
    "duration": 3921,
    "start_time": "2022-01-28T10:37:03.690Z"
   },
   {
    "duration": 4658,
    "start_time": "2022-01-28T10:38:42.914Z"
   },
   {
    "duration": 4413,
    "start_time": "2022-01-28T10:39:30.238Z"
   },
   {
    "duration": 4791,
    "start_time": "2022-01-28T10:39:46.916Z"
   },
   {
    "duration": 4649,
    "start_time": "2022-01-28T10:41:17.028Z"
   },
   {
    "duration": 4253,
    "start_time": "2022-01-28T10:43:25.030Z"
   },
   {
    "duration": 4103,
    "start_time": "2022-01-28T10:44:53.629Z"
   },
   {
    "duration": 3941,
    "start_time": "2022-01-28T10:55:57.541Z"
   },
   {
    "duration": 8,
    "start_time": "2022-01-28T12:02:45.587Z"
   },
   {
    "duration": 88,
    "start_time": "2022-01-28T12:06:42.011Z"
   },
   {
    "duration": 86,
    "start_time": "2022-01-28T12:06:48.597Z"
   },
   {
    "duration": 81,
    "start_time": "2022-01-28T12:07:24.112Z"
   },
   {
    "duration": 5,
    "start_time": "2022-01-28T12:11:04.012Z"
   },
   {
    "duration": 297,
    "start_time": "2022-01-28T12:12:00.161Z"
   },
   {
    "duration": 7,
    "start_time": "2022-01-28T12:13:18.627Z"
   },
   {
    "duration": 7,
    "start_time": "2022-01-28T12:34:53.794Z"
   },
   {
    "duration": 8,
    "start_time": "2022-01-28T12:35:08.919Z"
   },
   {
    "duration": 6,
    "start_time": "2022-01-28T12:38:25.741Z"
   },
   {
    "duration": 6,
    "start_time": "2022-01-28T12:38:39.072Z"
   },
   {
    "duration": 13,
    "start_time": "2022-01-28T12:52:32.697Z"
   },
   {
    "duration": 12,
    "start_time": "2022-01-28T12:52:41.480Z"
   },
   {
    "duration": 13,
    "start_time": "2022-01-28T12:52:50.430Z"
   },
   {
    "duration": 13,
    "start_time": "2022-01-28T12:55:45.262Z"
   },
   {
    "duration": 12,
    "start_time": "2022-01-28T12:57:39.512Z"
   },
   {
    "duration": 268,
    "start_time": "2022-01-28T13:12:22.142Z"
   },
   {
    "duration": 269,
    "start_time": "2022-01-28T13:12:31.130Z"
   },
   {
    "duration": 34,
    "start_time": "2022-01-28T13:12:39.151Z"
   },
   {
    "duration": 260,
    "start_time": "2022-01-28T13:42:52.011Z"
   },
   {
    "duration": 15,
    "start_time": "2022-01-28T13:42:59.191Z"
   },
   {
    "duration": 254,
    "start_time": "2022-01-28T13:43:30.474Z"
   },
   {
    "duration": 13,
    "start_time": "2022-01-28T13:43:55.559Z"
   },
   {
    "duration": 37,
    "start_time": "2022-01-28T13:45:49.799Z"
   },
   {
    "duration": 39,
    "start_time": "2022-01-28T13:46:00.571Z"
   },
   {
    "duration": 63,
    "start_time": "2022-01-28T13:59:27.812Z"
   },
   {
    "duration": 46,
    "start_time": "2022-01-28T14:00:00.116Z"
   },
   {
    "duration": 38,
    "start_time": "2022-01-28T14:00:17.644Z"
   },
   {
    "duration": 141,
    "start_time": "2022-01-28T14:13:11.216Z"
   },
   {
    "duration": 83,
    "start_time": "2022-01-28T14:14:20.544Z"
   },
   {
    "duration": 97,
    "start_time": "2022-01-28T14:49:33.717Z"
   },
   {
    "duration": 80,
    "start_time": "2022-01-28T14:49:43.625Z"
   },
   {
    "duration": 85,
    "start_time": "2022-01-28T14:49:55.175Z"
   },
   {
    "duration": 451,
    "start_time": "2022-01-28T14:50:03.171Z"
   },
   {
    "duration": 83,
    "start_time": "2022-01-28T14:50:14.228Z"
   },
   {
    "duration": 87,
    "start_time": "2022-01-28T14:50:31.539Z"
   },
   {
    "duration": 66,
    "start_time": "2022-01-28T14:51:07.734Z"
   },
   {
    "duration": 72,
    "start_time": "2022-01-28T14:51:59.946Z"
   },
   {
    "duration": 652,
    "start_time": "2022-01-28T14:52:55.419Z"
   },
   {
    "duration": 50,
    "start_time": "2022-01-28T14:54:54.322Z"
   },
   {
    "duration": 57,
    "start_time": "2022-01-28T14:59:19.160Z"
   },
   {
    "duration": 51,
    "start_time": "2022-01-28T15:08:38.871Z"
   },
   {
    "duration": 352,
    "start_time": "2022-01-28T15:24:41.605Z"
   },
   {
    "duration": 272,
    "start_time": "2022-01-28T15:24:59.333Z"
   },
   {
    "duration": 59,
    "start_time": "2022-01-28T15:25:26.034Z"
   },
   {
    "duration": 116,
    "start_time": "2022-01-28T15:33:53.103Z"
   },
   {
    "duration": 54,
    "start_time": "2022-01-28T15:33:59.669Z"
   },
   {
    "duration": 54,
    "start_time": "2022-01-28T15:37:18.941Z"
   },
   {
    "duration": 52,
    "start_time": "2022-01-28T15:41:56.993Z"
   },
   {
    "duration": 74,
    "start_time": "2022-01-28T15:56:14.896Z"
   },
   {
    "duration": 259,
    "start_time": "2022-01-28T16:39:38.101Z"
   },
   {
    "duration": 336,
    "start_time": "2022-01-28T16:40:11.308Z"
   },
   {
    "duration": 251,
    "start_time": "2022-01-28T16:40:29.977Z"
   },
   {
    "duration": 242,
    "start_time": "2022-01-28T16:40:43.353Z"
   },
   {
    "duration": 81,
    "start_time": "2022-01-28T16:47:59.481Z"
   },
   {
    "duration": 257,
    "start_time": "2022-01-28T16:48:09.741Z"
   },
   {
    "duration": 244,
    "start_time": "2022-01-28T16:48:26.429Z"
   },
   {
    "duration": 248,
    "start_time": "2022-01-28T16:48:42.905Z"
   },
   {
    "duration": 280,
    "start_time": "2022-01-28T16:49:11.888Z"
   },
   {
    "duration": 256,
    "start_time": "2022-01-28T16:49:42.739Z"
   },
   {
    "duration": 309,
    "start_time": "2022-01-28T16:51:19.572Z"
   },
   {
    "duration": 298,
    "start_time": "2022-01-28T16:51:30.368Z"
   },
   {
    "duration": 262,
    "start_time": "2022-01-28T16:52:30.331Z"
   },
   {
    "duration": 254,
    "start_time": "2022-01-28T16:54:06.967Z"
   },
   {
    "duration": 337,
    "start_time": "2022-01-28T16:56:07.626Z"
   },
   {
    "duration": 303,
    "start_time": "2022-01-28T16:56:21.420Z"
   },
   {
    "duration": 251,
    "start_time": "2022-01-28T16:58:44.233Z"
   },
   {
    "duration": 236,
    "start_time": "2022-01-28T16:58:51.680Z"
   },
   {
    "duration": 257,
    "start_time": "2022-01-28T17:04:04.746Z"
   },
   {
    "duration": 281,
    "start_time": "2022-01-28T17:04:29.968Z"
   },
   {
    "duration": 253,
    "start_time": "2022-01-28T17:05:57.366Z"
   },
   {
    "duration": 256,
    "start_time": "2022-01-28T17:07:06.514Z"
   },
   {
    "duration": 249,
    "start_time": "2022-01-28T17:07:33.263Z"
   },
   {
    "duration": 71,
    "start_time": "2022-01-28T17:07:37.291Z"
   },
   {
    "duration": 20,
    "start_time": "2022-01-28T17:07:37.364Z"
   },
   {
    "duration": 24,
    "start_time": "2022-01-28T17:07:37.386Z"
   },
   {
    "duration": 41,
    "start_time": "2022-01-28T17:07:37.412Z"
   },
   {
    "duration": 12,
    "start_time": "2022-01-28T17:07:37.456Z"
   },
   {
    "duration": 4108,
    "start_time": "2022-01-28T17:07:37.470Z"
   },
   {
    "duration": 78,
    "start_time": "2022-01-28T17:07:41.581Z"
   },
   {
    "duration": 50,
    "start_time": "2022-01-28T17:07:41.662Z"
   },
   {
    "duration": 23,
    "start_time": "2022-01-28T17:08:56.132Z"
   },
   {
    "duration": -123,
    "start_time": "2022-01-28T17:18:45.334Z"
   },
   {
    "duration": 74,
    "start_time": "2022-01-28T17:18:56.562Z"
   },
   {
    "duration": 21,
    "start_time": "2022-01-28T17:18:56.637Z"
   },
   {
    "duration": 5,
    "start_time": "2022-01-28T17:18:56.661Z"
   },
   {
    "duration": 58,
    "start_time": "2022-01-28T17:18:56.668Z"
   },
   {
    "duration": 13,
    "start_time": "2022-01-28T17:18:56.729Z"
   },
   {
    "duration": 3943,
    "start_time": "2022-01-28T17:18:56.744Z"
   },
   {
    "duration": 71,
    "start_time": "2022-01-28T17:19:00.689Z"
   },
   {
    "duration": 4656,
    "start_time": "2022-01-28T17:19:00.762Z"
   },
   {
    "duration": 19,
    "start_time": "2022-01-28T17:19:21.562Z"
   },
   {
    "duration": 17,
    "start_time": "2022-01-28T17:20:11.456Z"
   },
   {
    "duration": 5156,
    "start_time": "2022-01-28T17:21:36.113Z"
   },
   {
    "duration": 18,
    "start_time": "2022-01-28T17:34:35.927Z"
   },
   {
    "duration": 19,
    "start_time": "2022-01-28T17:34:44.979Z"
   },
   {
    "duration": 20,
    "start_time": "2022-01-28T17:36:31.259Z"
   },
   {
    "duration": 19,
    "start_time": "2022-01-28T17:57:24.107Z"
   },
   {
    "duration": 366,
    "start_time": "2022-01-29T10:17:02.171Z"
   },
   {
    "duration": 942,
    "start_time": "2022-01-29T10:17:10.115Z"
   },
   {
    "duration": 29,
    "start_time": "2022-01-29T10:17:11.059Z"
   },
   {
    "duration": 5,
    "start_time": "2022-01-29T10:17:11.091Z"
   },
   {
    "duration": 88,
    "start_time": "2022-01-29T10:17:11.099Z"
   },
   {
    "duration": 42,
    "start_time": "2022-01-29T10:17:11.189Z"
   },
   {
    "duration": 5262,
    "start_time": "2022-01-29T10:17:11.234Z"
   },
   {
    "duration": 110,
    "start_time": "2022-01-29T10:17:16.499Z"
   },
   {
    "duration": 52,
    "start_time": "2022-01-29T10:17:16.611Z"
   },
   {
    "duration": 26,
    "start_time": "2022-01-29T10:17:16.667Z"
   },
   {
    "duration": 49,
    "start_time": "2022-01-29T10:17:16.724Z"
   },
   {
    "duration": 27,
    "start_time": "2022-01-29T10:17:16.775Z"
   },
   {
    "duration": 1099,
    "start_time": "2022-01-29T10:20:10.569Z"
   },
   {
    "duration": 404,
    "start_time": "2022-01-29T10:21:35.591Z"
   },
   {
    "duration": 114,
    "start_time": "2022-01-29T10:23:21.533Z"
   },
   {
    "duration": 2180,
    "start_time": "2022-01-29T10:27:22.170Z"
   },
   {
    "duration": 133,
    "start_time": "2022-01-29T10:27:48.114Z"
   },
   {
    "duration": 76,
    "start_time": "2022-01-29T10:29:04.038Z"
   },
   {
    "duration": 90,
    "start_time": "2022-01-29T10:29:12.310Z"
   },
   {
    "duration": 41,
    "start_time": "2022-01-29T10:29:12.403Z"
   },
   {
    "duration": 5,
    "start_time": "2022-01-29T10:29:12.447Z"
   },
   {
    "duration": 72,
    "start_time": "2022-01-29T10:29:12.455Z"
   },
   {
    "duration": 19,
    "start_time": "2022-01-29T10:29:12.531Z"
   },
   {
    "duration": 4970,
    "start_time": "2022-01-29T10:29:12.554Z"
   },
   {
    "duration": 106,
    "start_time": "2022-01-29T10:29:17.529Z"
   },
   {
    "duration": 31,
    "start_time": "2022-01-29T10:29:17.639Z"
   },
   {
    "duration": 59,
    "start_time": "2022-01-29T10:29:17.673Z"
   },
   {
    "duration": 26,
    "start_time": "2022-01-29T10:29:17.735Z"
   },
   {
    "duration": 26,
    "start_time": "2022-01-29T10:29:17.763Z"
   },
   {
    "duration": 33,
    "start_time": "2022-01-29T10:31:02.754Z"
   },
   {
    "duration": 30,
    "start_time": "2022-01-29T10:31:12.619Z"
   },
   {
    "duration": 27,
    "start_time": "2022-01-29T10:31:16.063Z"
   },
   {
    "duration": 29,
    "start_time": "2022-01-29T10:31:28.162Z"
   },
   {
    "duration": 28,
    "start_time": "2022-01-29T10:31:45.255Z"
   },
   {
    "duration": 30,
    "start_time": "2022-01-29T10:35:49.158Z"
   },
   {
    "duration": 28,
    "start_time": "2022-01-29T10:52:54.848Z"
   },
   {
    "duration": 32,
    "start_time": "2022-01-29T10:53:06.009Z"
   },
   {
    "duration": 35,
    "start_time": "2022-01-29T10:54:34.012Z"
   },
   {
    "duration": 36,
    "start_time": "2022-01-29T10:55:43.336Z"
   },
   {
    "duration": 41,
    "start_time": "2022-01-29T10:56:37.743Z"
   },
   {
    "duration": 29,
    "start_time": "2022-01-29T10:56:47.362Z"
   },
   {
    "duration": 394,
    "start_time": "2022-01-29T11:09:22.851Z"
   },
   {
    "duration": 335,
    "start_time": "2022-01-29T11:13:26.920Z"
   },
   {
    "duration": 343,
    "start_time": "2022-01-29T11:14:19.942Z"
   },
   {
    "duration": 795,
    "start_time": "2022-01-29T11:14:26.686Z"
   },
   {
    "duration": 31,
    "start_time": "2022-01-29T11:14:33.661Z"
   },
   {
    "duration": 30,
    "start_time": "2022-01-29T11:14:50.606Z"
   },
   {
    "duration": 46,
    "start_time": "2022-01-29T11:16:03.316Z"
   },
   {
    "duration": 53,
    "start_time": "2022-01-29T11:16:34.934Z"
   },
   {
    "duration": 334,
    "start_time": "2022-01-29T11:17:14.603Z"
   },
   {
    "duration": 361,
    "start_time": "2022-01-29T11:17:20.657Z"
   },
   {
    "duration": 39,
    "start_time": "2022-01-29T11:17:30.036Z"
   },
   {
    "duration": 471,
    "start_time": "2022-01-29T11:24:18.143Z"
   },
   {
    "duration": 41,
    "start_time": "2022-01-29T11:24:39.320Z"
   },
   {
    "duration": 41,
    "start_time": "2022-01-29T11:24:58.518Z"
   },
   {
    "duration": 35,
    "start_time": "2022-01-29T11:25:11.336Z"
   },
   {
    "duration": 31,
    "start_time": "2022-01-29T11:26:54.006Z"
   },
   {
    "duration": 31,
    "start_time": "2022-01-29T11:54:06.052Z"
   },
   {
    "duration": 31,
    "start_time": "2022-01-29T11:54:17.605Z"
   },
   {
    "duration": 30,
    "start_time": "2022-01-29T11:54:34.742Z"
   },
   {
    "duration": 46,
    "start_time": "2022-01-29T11:54:40.448Z"
   },
   {
    "duration": 26,
    "start_time": "2022-01-29T11:54:59.389Z"
   },
   {
    "duration": 35,
    "start_time": "2022-01-29T11:55:16.762Z"
   },
   {
    "duration": 37,
    "start_time": "2022-01-29T11:59:43.611Z"
   },
   {
    "duration": 114,
    "start_time": "2022-01-29T12:01:01.462Z"
   },
   {
    "duration": 35,
    "start_time": "2022-01-29T12:01:07.717Z"
   },
   {
    "duration": 34,
    "start_time": "2022-01-29T12:01:25.697Z"
   },
   {
    "duration": 109,
    "start_time": "2022-01-29T12:01:50.160Z"
   },
   {
    "duration": 33,
    "start_time": "2022-01-29T12:01:55.776Z"
   },
   {
    "duration": 31,
    "start_time": "2022-01-29T12:06:23.992Z"
   },
   {
    "duration": 37,
    "start_time": "2022-01-29T12:06:36.341Z"
   },
   {
    "duration": 99,
    "start_time": "2022-01-29T12:06:48.899Z"
   },
   {
    "duration": 99,
    "start_time": "2022-01-29T12:06:58.872Z"
   },
   {
    "duration": 31,
    "start_time": "2022-01-29T12:07:11.257Z"
   },
   {
    "duration": 32,
    "start_time": "2022-01-29T12:07:25.379Z"
   },
   {
    "duration": 32,
    "start_time": "2022-01-29T12:07:35.458Z"
   },
   {
    "duration": 34,
    "start_time": "2022-01-29T12:08:16.692Z"
   },
   {
    "duration": 95,
    "start_time": "2022-01-29T12:14:23.619Z"
   },
   {
    "duration": 847,
    "start_time": "2022-01-29T12:23:07.667Z"
   },
   {
    "duration": 86,
    "start_time": "2022-01-29T12:23:18.009Z"
   },
   {
    "duration": 47,
    "start_time": "2022-01-29T12:23:18.097Z"
   },
   {
    "duration": 7,
    "start_time": "2022-01-29T12:23:18.147Z"
   },
   {
    "duration": 83,
    "start_time": "2022-01-29T12:23:18.156Z"
   },
   {
    "duration": 17,
    "start_time": "2022-01-29T12:23:18.241Z"
   },
   {
    "duration": 5654,
    "start_time": "2022-01-29T12:23:18.260Z"
   },
   {
    "duration": 86,
    "start_time": "2022-01-29T12:23:23.923Z"
   },
   {
    "duration": 41,
    "start_time": "2022-01-29T12:23:24.027Z"
   },
   {
    "duration": 58,
    "start_time": "2022-01-29T12:23:24.071Z"
   },
   {
    "duration": 30,
    "start_time": "2022-01-29T12:23:24.131Z"
   },
   {
    "duration": 27,
    "start_time": "2022-01-29T12:23:24.164Z"
   },
   {
    "duration": 35,
    "start_time": "2022-01-29T12:23:48.421Z"
   },
   {
    "duration": 40,
    "start_time": "2022-01-29T12:23:53.035Z"
   },
   {
    "duration": 31,
    "start_time": "2022-01-29T12:25:13.587Z"
   },
   {
    "duration": 31,
    "start_time": "2022-01-29T12:25:19.137Z"
   },
   {
    "duration": 32,
    "start_time": "2022-01-29T12:28:02.593Z"
   },
   {
    "duration": 30,
    "start_time": "2022-01-29T12:28:12.595Z"
   },
   {
    "duration": 7781,
    "start_time": "2022-01-29T12:32:14.975Z"
   },
   {
    "duration": 33,
    "start_time": "2022-01-29T12:32:29.811Z"
   },
   {
    "duration": 32,
    "start_time": "2022-01-29T12:32:47.177Z"
   },
   {
    "duration": 31,
    "start_time": "2022-01-29T12:34:03.587Z"
   },
   {
    "duration": 35,
    "start_time": "2022-01-29T12:34:52.144Z"
   },
   {
    "duration": 39,
    "start_time": "2022-01-29T12:35:29.709Z"
   },
   {
    "duration": 42,
    "start_time": "2022-01-29T12:40:51.278Z"
   },
   {
    "duration": 31,
    "start_time": "2022-01-29T12:40:58.447Z"
   },
   {
    "duration": 39,
    "start_time": "2022-01-29T12:42:09.060Z"
   },
   {
    "duration": 34,
    "start_time": "2022-01-29T12:44:57.769Z"
   },
   {
    "duration": 30,
    "start_time": "2022-01-29T12:47:42.203Z"
   },
   {
    "duration": 31,
    "start_time": "2022-01-29T12:48:59.039Z"
   },
   {
    "duration": 6790,
    "start_time": "2022-01-29T12:50:51.239Z"
   },
   {
    "duration": 33,
    "start_time": "2022-01-29T12:51:25.433Z"
   },
   {
    "duration": 47,
    "start_time": "2022-01-29T12:54:34.434Z"
   },
   {
    "duration": 30,
    "start_time": "2022-01-29T12:54:49.562Z"
   },
   {
    "duration": 31,
    "start_time": "2022-01-29T12:55:06.826Z"
   },
   {
    "duration": 33,
    "start_time": "2022-01-29T12:55:32.649Z"
   },
   {
    "duration": 76,
    "start_time": "2022-01-29T13:25:50.911Z"
   },
   {
    "duration": 34,
    "start_time": "2022-01-29T13:26:11.255Z"
   },
   {
    "duration": 74,
    "start_time": "2022-01-29T13:27:14.999Z"
   },
   {
    "duration": 35,
    "start_time": "2022-01-29T13:27:32.589Z"
   },
   {
    "duration": 81,
    "start_time": "2022-01-29T13:28:38.556Z"
   },
   {
    "duration": 76,
    "start_time": "2022-01-29T13:33:35.682Z"
   },
   {
    "duration": 32,
    "start_time": "2022-01-29T13:34:15.685Z"
   },
   {
    "duration": 78,
    "start_time": "2022-01-29T13:34:50.000Z"
   },
   {
    "duration": 34,
    "start_time": "2022-01-29T13:34:56.279Z"
   },
   {
    "duration": 33,
    "start_time": "2022-01-29T13:35:25.828Z"
   },
   {
    "duration": 75,
    "start_time": "2022-01-29T13:36:43.788Z"
   },
   {
    "duration": 31,
    "start_time": "2022-01-29T13:37:04.195Z"
   },
   {
    "duration": 33,
    "start_time": "2022-01-29T13:49:00.222Z"
   },
   {
    "duration": 46,
    "start_time": "2022-01-29T14:15:40.145Z"
   },
   {
    "duration": 28,
    "start_time": "2022-01-29T14:16:08.417Z"
   },
   {
    "duration": 29,
    "start_time": "2022-01-29T14:16:13.479Z"
   },
   {
    "duration": 341,
    "start_time": "2022-01-29T14:16:17.271Z"
   },
   {
    "duration": 29,
    "start_time": "2022-01-29T14:16:17.615Z"
   },
   {
    "duration": 6,
    "start_time": "2022-01-29T14:16:17.647Z"
   },
   {
    "duration": 76,
    "start_time": "2022-01-29T14:16:17.656Z"
   },
   {
    "duration": 15,
    "start_time": "2022-01-29T14:16:17.734Z"
   },
   {
    "duration": 4949,
    "start_time": "2022-01-29T14:16:17.752Z"
   },
   {
    "duration": 90,
    "start_time": "2022-01-29T14:16:22.704Z"
   },
   {
    "duration": 50,
    "start_time": "2022-01-29T14:16:22.797Z"
   },
   {
    "duration": 31,
    "start_time": "2022-01-29T14:16:22.850Z"
   },
   {
    "duration": 56,
    "start_time": "2022-01-29T14:16:22.883Z"
   },
   {
    "duration": 32,
    "start_time": "2022-01-29T14:16:22.941Z"
   },
   {
    "duration": 97,
    "start_time": "2022-01-29T14:21:10.974Z"
   },
   {
    "duration": 84,
    "start_time": "2022-01-29T14:21:48.983Z"
   },
   {
    "duration": 93,
    "start_time": "2022-01-29T14:21:58.240Z"
   },
   {
    "duration": 30,
    "start_time": "2022-01-29T14:22:54.110Z"
   },
   {
    "duration": 30,
    "start_time": "2022-01-29T14:23:16.420Z"
   },
   {
    "duration": 1547,
    "start_time": "2022-01-29T14:23:42.162Z"
   },
   {
    "duration": 39,
    "start_time": "2022-01-29T14:23:43.712Z"
   },
   {
    "duration": 6,
    "start_time": "2022-01-29T14:23:43.754Z"
   },
   {
    "duration": 75,
    "start_time": "2022-01-29T14:23:43.763Z"
   },
   {
    "duration": 16,
    "start_time": "2022-01-29T14:23:43.841Z"
   },
   {
    "duration": 4942,
    "start_time": "2022-01-29T14:23:43.859Z"
   },
   {
    "duration": 99,
    "start_time": "2022-01-29T14:23:48.805Z"
   },
   {
    "duration": 38,
    "start_time": "2022-01-29T14:23:48.924Z"
   },
   {
    "duration": 65,
    "start_time": "2022-01-29T14:23:48.966Z"
   },
   {
    "duration": 34,
    "start_time": "2022-01-29T14:23:49.034Z"
   },
   {
    "duration": 65,
    "start_time": "2022-01-29T14:23:49.072Z"
   },
   {
    "duration": 113,
    "start_time": "2022-01-29T14:24:04.689Z"
   },
   {
    "duration": 41,
    "start_time": "2022-01-29T14:24:04.804Z"
   },
   {
    "duration": 7,
    "start_time": "2022-01-29T14:24:04.848Z"
   },
   {
    "duration": 77,
    "start_time": "2022-01-29T14:24:04.858Z"
   },
   {
    "duration": 15,
    "start_time": "2022-01-29T14:24:04.937Z"
   },
   {
    "duration": 4958,
    "start_time": "2022-01-29T14:24:04.955Z"
   },
   {
    "duration": 84,
    "start_time": "2022-01-29T14:24:09.915Z"
   },
   {
    "duration": 53,
    "start_time": "2022-01-29T14:24:10.002Z"
   },
   {
    "duration": 65,
    "start_time": "2022-01-29T14:24:10.058Z"
   },
   {
    "duration": 33,
    "start_time": "2022-01-29T14:24:10.125Z"
   },
   {
    "duration": 32,
    "start_time": "2022-01-29T14:24:10.161Z"
   },
   {
    "duration": 113,
    "start_time": "2022-01-29T14:25:42.310Z"
   },
   {
    "duration": 50,
    "start_time": "2022-01-29T14:25:42.426Z"
   },
   {
    "duration": 43,
    "start_time": "2022-01-29T14:25:42.480Z"
   },
   {
    "duration": 54,
    "start_time": "2022-01-29T14:25:42.526Z"
   },
   {
    "duration": 16,
    "start_time": "2022-01-29T14:25:42.583Z"
   },
   {
    "duration": 5257,
    "start_time": "2022-01-29T14:25:42.625Z"
   },
   {
    "duration": 103,
    "start_time": "2022-01-29T14:25:47.885Z"
   },
   {
    "duration": 62,
    "start_time": "2022-01-29T14:25:47.991Z"
   },
   {
    "duration": 39,
    "start_time": "2022-01-29T14:25:48.058Z"
   },
   {
    "duration": 56,
    "start_time": "2022-01-29T14:25:48.100Z"
   },
   {
    "duration": 85,
    "start_time": "2022-01-29T14:25:48.159Z"
   },
   {
    "duration": 98,
    "start_time": "2022-01-29T14:26:13.757Z"
   },
   {
    "duration": 41,
    "start_time": "2022-01-29T14:26:13.858Z"
   },
   {
    "duration": 7,
    "start_time": "2022-01-29T14:26:13.923Z"
   },
   {
    "duration": 47,
    "start_time": "2022-01-29T14:26:13.933Z"
   },
   {
    "duration": 40,
    "start_time": "2022-01-29T14:26:13.983Z"
   },
   {
    "duration": 5709,
    "start_time": "2022-01-29T14:26:14.025Z"
   },
   {
    "duration": 101,
    "start_time": "2022-01-29T14:26:19.737Z"
   },
   {
    "duration": 38,
    "start_time": "2022-01-29T14:26:19.840Z"
   },
   {
    "duration": 60,
    "start_time": "2022-01-29T14:26:19.881Z"
   },
   {
    "duration": 33,
    "start_time": "2022-01-29T14:26:19.943Z"
   },
   {
    "duration": 63,
    "start_time": "2022-01-29T14:26:19.978Z"
   },
   {
    "duration": 98,
    "start_time": "2022-01-29T14:28:24.549Z"
   },
   {
    "duration": 34,
    "start_time": "2022-01-29T14:28:24.650Z"
   },
   {
    "duration": 36,
    "start_time": "2022-01-29T14:28:24.687Z"
   },
   {
    "duration": 48,
    "start_time": "2022-01-29T14:28:24.726Z"
   },
   {
    "duration": 49,
    "start_time": "2022-01-29T14:28:24.777Z"
   },
   {
    "duration": 5373,
    "start_time": "2022-01-29T14:28:24.828Z"
   },
   {
    "duration": 93,
    "start_time": "2022-01-29T14:28:30.204Z"
   },
   {
    "duration": 55,
    "start_time": "2022-01-29T14:28:30.299Z"
   },
   {
    "duration": 34,
    "start_time": "2022-01-29T14:28:30.357Z"
   },
   {
    "duration": 56,
    "start_time": "2022-01-29T14:28:30.394Z"
   },
   {
    "duration": 34,
    "start_time": "2022-01-29T14:28:30.452Z"
   },
   {
    "duration": 106,
    "start_time": "2022-01-29T14:29:09.354Z"
   },
   {
    "duration": 32,
    "start_time": "2022-01-29T14:29:09.462Z"
   },
   {
    "duration": 26,
    "start_time": "2022-01-29T14:29:09.497Z"
   },
   {
    "duration": 49,
    "start_time": "2022-01-29T14:29:09.526Z"
   },
   {
    "duration": 16,
    "start_time": "2022-01-29T14:29:09.577Z"
   },
   {
    "duration": 5361,
    "start_time": "2022-01-29T14:29:09.623Z"
   },
   {
    "duration": 102,
    "start_time": "2022-01-29T14:29:14.987Z"
   },
   {
    "duration": 48,
    "start_time": "2022-01-29T14:29:15.092Z"
   },
   {
    "duration": 33,
    "start_time": "2022-01-29T14:29:15.144Z"
   },
   {
    "duration": 60,
    "start_time": "2022-01-29T14:29:15.180Z"
   },
   {
    "duration": 34,
    "start_time": "2022-01-29T14:29:15.242Z"
   },
   {
    "duration": 108,
    "start_time": "2022-01-29T14:29:37.617Z"
   },
   {
    "duration": 97,
    "start_time": "2022-01-29T14:30:07.425Z"
   },
   {
    "duration": 53,
    "start_time": "2022-01-29T14:30:07.526Z"
   },
   {
    "duration": 7,
    "start_time": "2022-01-29T14:30:07.584Z"
   },
   {
    "duration": 50,
    "start_time": "2022-01-29T14:30:07.623Z"
   },
   {
    "duration": 16,
    "start_time": "2022-01-29T14:30:07.676Z"
   },
   {
    "duration": 5581,
    "start_time": "2022-01-29T14:30:07.695Z"
   },
   {
    "duration": 101,
    "start_time": "2022-01-29T14:30:13.278Z"
   },
   {
    "duration": 52,
    "start_time": "2022-01-29T14:30:13.381Z"
   },
   {
    "duration": 35,
    "start_time": "2022-01-29T14:30:13.437Z"
   },
   {
    "duration": 61,
    "start_time": "2022-01-29T14:30:13.474Z"
   },
   {
    "duration": 32,
    "start_time": "2022-01-29T14:30:13.538Z"
   },
   {
    "duration": 37,
    "start_time": "2022-01-29T14:30:24.074Z"
   },
   {
    "duration": 44,
    "start_time": "2022-01-29T14:30:33.739Z"
   },
   {
    "duration": 102,
    "start_time": "2022-01-29T14:30:40.657Z"
   },
   {
    "duration": 37,
    "start_time": "2022-01-29T14:30:40.762Z"
   },
   {
    "duration": 23,
    "start_time": "2022-01-29T14:30:40.803Z"
   },
   {
    "duration": 53,
    "start_time": "2022-01-29T14:30:40.829Z"
   },
   {
    "duration": 43,
    "start_time": "2022-01-29T14:30:40.885Z"
   },
   {
    "duration": 6795,
    "start_time": "2022-01-29T14:30:40.932Z"
   },
   {
    "duration": 100,
    "start_time": "2022-01-29T14:30:47.729Z"
   },
   {
    "duration": 38,
    "start_time": "2022-01-29T14:30:47.832Z"
   },
   {
    "duration": 67,
    "start_time": "2022-01-29T14:30:47.875Z"
   },
   {
    "duration": 33,
    "start_time": "2022-01-29T14:30:47.946Z"
   },
   {
    "duration": 77,
    "start_time": "2022-01-29T14:30:47.982Z"
   },
   {
    "duration": 12,
    "start_time": "2022-01-29T14:33:53.272Z"
   },
   {
    "duration": 24,
    "start_time": "2022-01-29T14:36:26.101Z"
   },
   {
    "duration": 91,
    "start_time": "2022-01-29T14:36:30.717Z"
   },
   {
    "duration": 31,
    "start_time": "2022-01-29T14:36:30.811Z"
   },
   {
    "duration": 19,
    "start_time": "2022-01-29T14:36:30.845Z"
   },
   {
    "duration": 6,
    "start_time": "2022-01-29T14:36:30.867Z"
   },
   {
    "duration": 81,
    "start_time": "2022-01-29T14:36:30.876Z"
   },
   {
    "duration": 17,
    "start_time": "2022-01-29T14:36:30.959Z"
   },
   {
    "duration": 5445,
    "start_time": "2022-01-29T14:36:30.978Z"
   },
   {
    "duration": 113,
    "start_time": "2022-01-29T14:36:36.426Z"
   },
   {
    "duration": 44,
    "start_time": "2022-01-29T14:36:36.542Z"
   },
   {
    "duration": 55,
    "start_time": "2022-01-29T14:36:36.588Z"
   },
   {
    "duration": 50,
    "start_time": "2022-01-29T14:36:36.646Z"
   },
   {
    "duration": 69,
    "start_time": "2022-01-29T14:36:36.699Z"
   },
   {
    "duration": 92,
    "start_time": "2022-01-29T14:42:15.380Z"
   },
   {
    "duration": 21,
    "start_time": "2022-01-29T14:42:15.474Z"
   },
   {
    "duration": 40,
    "start_time": "2022-01-29T14:42:15.500Z"
   },
   {
    "duration": 887,
    "start_time": "2022-01-29T14:42:15.543Z"
   },
   {
    "duration": -40,
    "start_time": "2022-01-29T14:42:16.472Z"
   },
   {
    "duration": -40,
    "start_time": "2022-01-29T14:42:16.474Z"
   },
   {
    "duration": -41,
    "start_time": "2022-01-29T14:42:16.476Z"
   },
   {
    "duration": -40,
    "start_time": "2022-01-29T14:42:16.477Z"
   },
   {
    "duration": -40,
    "start_time": "2022-01-29T14:42:16.479Z"
   },
   {
    "duration": -43,
    "start_time": "2022-01-29T14:42:16.484Z"
   },
   {
    "duration": -43,
    "start_time": "2022-01-29T14:42:16.485Z"
   },
   {
    "duration": -43,
    "start_time": "2022-01-29T14:42:16.487Z"
   },
   {
    "duration": -43,
    "start_time": "2022-01-29T14:42:16.488Z"
   },
   {
    "duration": 22,
    "start_time": "2022-01-29T14:42:35.690Z"
   },
   {
    "duration": 85,
    "start_time": "2022-01-29T14:42:50.699Z"
   },
   {
    "duration": 25,
    "start_time": "2022-01-29T14:42:50.787Z"
   },
   {
    "duration": 17,
    "start_time": "2022-01-29T14:42:50.825Z"
   },
   {
    "duration": 376,
    "start_time": "2022-01-29T14:42:50.845Z"
   },
   {
    "duration": -55,
    "start_time": "2022-01-29T14:42:51.279Z"
   },
   {
    "duration": -55,
    "start_time": "2022-01-29T14:42:51.281Z"
   },
   {
    "duration": -55,
    "start_time": "2022-01-29T14:42:51.283Z"
   },
   {
    "duration": -54,
    "start_time": "2022-01-29T14:42:51.284Z"
   },
   {
    "duration": -66,
    "start_time": "2022-01-29T14:42:51.298Z"
   },
   {
    "duration": -68,
    "start_time": "2022-01-29T14:42:51.302Z"
   },
   {
    "duration": -67,
    "start_time": "2022-01-29T14:42:51.303Z"
   },
   {
    "duration": -66,
    "start_time": "2022-01-29T14:42:51.304Z"
   },
   {
    "duration": -66,
    "start_time": "2022-01-29T14:42:51.306Z"
   },
   {
    "duration": 85,
    "start_time": "2022-01-29T14:44:13.632Z"
   },
   {
    "duration": 24,
    "start_time": "2022-01-29T14:44:13.724Z"
   },
   {
    "duration": 26,
    "start_time": "2022-01-29T14:44:13.753Z"
   },
   {
    "duration": 308,
    "start_time": "2022-01-29T14:44:13.783Z"
   },
   {
    "duration": 10,
    "start_time": "2022-01-29T14:44:14.085Z"
   },
   {
    "duration": 11,
    "start_time": "2022-01-29T14:44:14.086Z"
   },
   {
    "duration": 11,
    "start_time": "2022-01-29T14:44:14.088Z"
   },
   {
    "duration": 14,
    "start_time": "2022-01-29T14:44:14.089Z"
   },
   {
    "duration": 11,
    "start_time": "2022-01-29T14:44:14.094Z"
   },
   {
    "duration": 11,
    "start_time": "2022-01-29T14:44:14.096Z"
   },
   {
    "duration": 12,
    "start_time": "2022-01-29T14:44:14.097Z"
   },
   {
    "duration": 13,
    "start_time": "2022-01-29T14:44:14.098Z"
   },
   {
    "duration": 14,
    "start_time": "2022-01-29T14:44:14.099Z"
   },
   {
    "duration": 126,
    "start_time": "2022-01-29T14:44:38.879Z"
   },
   {
    "duration": 37,
    "start_time": "2022-01-29T14:44:39.009Z"
   },
   {
    "duration": 24,
    "start_time": "2022-01-29T14:44:39.051Z"
   },
   {
    "duration": 45,
    "start_time": "2022-01-29T14:44:39.079Z"
   },
   {
    "duration": 6,
    "start_time": "2022-01-29T14:44:39.127Z"
   },
   {
    "duration": 49,
    "start_time": "2022-01-29T14:44:39.135Z"
   },
   {
    "duration": 41,
    "start_time": "2022-01-29T14:44:39.187Z"
   },
   {
    "duration": 5503,
    "start_time": "2022-01-29T14:44:39.230Z"
   },
   {
    "duration": 100,
    "start_time": "2022-01-29T14:44:44.737Z"
   },
   {
    "duration": 36,
    "start_time": "2022-01-29T14:44:44.840Z"
   },
   {
    "duration": 67,
    "start_time": "2022-01-29T14:44:44.879Z"
   },
   {
    "duration": 31,
    "start_time": "2022-01-29T14:44:44.949Z"
   },
   {
    "duration": 65,
    "start_time": "2022-01-29T14:44:44.982Z"
   },
   {
    "duration": 92,
    "start_time": "2022-01-29T14:53:04.109Z"
   },
   {
    "duration": 33,
    "start_time": "2022-01-29T14:53:04.205Z"
   },
   {
    "duration": 18,
    "start_time": "2022-01-29T14:53:04.241Z"
   },
   {
    "duration": 12,
    "start_time": "2022-01-29T14:53:04.261Z"
   },
   {
    "duration": 50,
    "start_time": "2022-01-29T14:53:04.276Z"
   },
   {
    "duration": 55,
    "start_time": "2022-01-29T14:53:04.328Z"
   },
   {
    "duration": 42,
    "start_time": "2022-01-29T14:53:04.386Z"
   },
   {
    "duration": 5892,
    "start_time": "2022-01-29T14:53:04.431Z"
   },
   {
    "duration": 136,
    "start_time": "2022-01-29T14:53:10.329Z"
   },
   {
    "duration": 68,
    "start_time": "2022-01-29T14:53:10.469Z"
   },
   {
    "duration": 50,
    "start_time": "2022-01-29T14:53:10.541Z"
   },
   {
    "duration": 68,
    "start_time": "2022-01-29T14:53:10.595Z"
   },
   {
    "duration": 71,
    "start_time": "2022-01-29T14:53:10.667Z"
   },
   {
    "duration": 408,
    "start_time": "2022-01-29T14:54:41.296Z"
   },
   {
    "duration": 24,
    "start_time": "2022-01-29T14:54:49.056Z"
   },
   {
    "duration": 89,
    "start_time": "2022-01-29T14:54:52.659Z"
   },
   {
    "duration": 20,
    "start_time": "2022-01-29T14:54:52.750Z"
   },
   {
    "duration": 50,
    "start_time": "2022-01-29T14:54:52.773Z"
   },
   {
    "duration": 14,
    "start_time": "2022-01-29T14:54:52.826Z"
   },
   {
    "duration": 17,
    "start_time": "2022-01-29T14:54:52.842Z"
   },
   {
    "duration": 77,
    "start_time": "2022-01-29T14:54:52.861Z"
   },
   {
    "duration": 17,
    "start_time": "2022-01-29T14:54:52.940Z"
   },
   {
    "duration": 5608,
    "start_time": "2022-01-29T14:54:52.959Z"
   },
   {
    "duration": 85,
    "start_time": "2022-01-29T14:54:58.571Z"
   },
   {
    "duration": 39,
    "start_time": "2022-01-29T14:54:58.658Z"
   },
   {
    "duration": 42,
    "start_time": "2022-01-29T14:54:58.700Z"
   },
   {
    "duration": 32,
    "start_time": "2022-01-29T14:54:58.744Z"
   },
   {
    "duration": 56,
    "start_time": "2022-01-29T14:54:58.779Z"
   },
   {
    "duration": 1980,
    "start_time": "2022-01-29T14:56:14.334Z"
   },
   {
    "duration": 104,
    "start_time": "2022-01-29T14:56:36.173Z"
   },
   {
    "duration": 49,
    "start_time": "2022-01-29T14:56:36.280Z"
   },
   {
    "duration": 26,
    "start_time": "2022-01-29T14:56:36.333Z"
   },
   {
    "duration": 19,
    "start_time": "2022-01-29T14:56:36.363Z"
   },
   {
    "duration": 60,
    "start_time": "2022-01-29T14:56:36.385Z"
   },
   {
    "duration": 28,
    "start_time": "2022-01-29T14:56:36.448Z"
   },
   {
    "duration": 69,
    "start_time": "2022-01-29T14:56:36.479Z"
   },
   {
    "duration": 178,
    "start_time": "2022-01-29T14:56:36.551Z"
   },
   {
    "duration": 5427,
    "start_time": "2022-01-29T14:56:36.734Z"
   },
   {
    "duration": 98,
    "start_time": "2022-01-29T14:56:42.165Z"
   },
   {
    "duration": 63,
    "start_time": "2022-01-29T14:56:42.266Z"
   },
   {
    "duration": 38,
    "start_time": "2022-01-29T14:56:42.332Z"
   },
   {
    "duration": 60,
    "start_time": "2022-01-29T14:56:42.373Z"
   },
   {
    "duration": 33,
    "start_time": "2022-01-29T14:56:42.436Z"
   },
   {
    "duration": 96,
    "start_time": "2022-01-29T15:13:07.185Z"
   },
   {
    "duration": 41,
    "start_time": "2022-01-29T15:13:07.284Z"
   },
   {
    "duration": 18,
    "start_time": "2022-01-29T15:13:07.329Z"
   },
   {
    "duration": 13,
    "start_time": "2022-01-29T15:13:07.350Z"
   },
   {
    "duration": 18,
    "start_time": "2022-01-29T15:13:07.365Z"
   },
   {
    "duration": 54,
    "start_time": "2022-01-29T15:13:07.385Z"
   },
   {
    "duration": 27,
    "start_time": "2022-01-29T15:13:07.442Z"
   },
   {
    "duration": 20,
    "start_time": "2022-01-29T15:13:07.473Z"
   },
   {
    "duration": 5420,
    "start_time": "2022-01-29T15:13:07.524Z"
   },
   {
    "duration": 98,
    "start_time": "2022-01-29T15:13:12.947Z"
   },
   {
    "duration": 36,
    "start_time": "2022-01-29T15:13:13.047Z"
   },
   {
    "duration": 68,
    "start_time": "2022-01-29T15:13:13.086Z"
   },
   {
    "duration": 37,
    "start_time": "2022-01-29T15:13:13.157Z"
   },
   {
    "duration": 34,
    "start_time": "2022-01-29T15:13:13.224Z"
   },
   {
    "duration": 511,
    "start_time": "2022-01-29T15:13:41.094Z"
   },
   {
    "duration": 28,
    "start_time": "2022-01-29T15:13:41.609Z"
   },
   {
    "duration": 25,
    "start_time": "2022-01-29T15:13:41.642Z"
   },
   {
    "duration": 16,
    "start_time": "2022-01-29T15:13:41.671Z"
   },
   {
    "duration": 56,
    "start_time": "2022-01-29T15:13:41.689Z"
   },
   {
    "duration": 20,
    "start_time": "2022-01-29T15:13:41.747Z"
   },
   {
    "duration": 27,
    "start_time": "2022-01-29T15:13:41.770Z"
   },
   {
    "duration": 37,
    "start_time": "2022-01-29T15:13:41.799Z"
   },
   {
    "duration": 5361,
    "start_time": "2022-01-29T15:13:41.840Z"
   },
   {
    "duration": 88,
    "start_time": "2022-01-29T15:13:47.204Z"
   },
   {
    "duration": 58,
    "start_time": "2022-01-29T15:13:47.294Z"
   },
   {
    "duration": 41,
    "start_time": "2022-01-29T15:13:47.354Z"
   },
   {
    "duration": 54,
    "start_time": "2022-01-29T15:13:47.397Z"
   },
   {
    "duration": 33,
    "start_time": "2022-01-29T15:13:47.455Z"
   },
   {
    "duration": 118,
    "start_time": "2022-01-29T15:17:36.643Z"
   },
   {
    "duration": 21,
    "start_time": "2022-01-29T15:17:36.764Z"
   },
   {
    "duration": 48,
    "start_time": "2022-01-29T15:17:36.788Z"
   },
   {
    "duration": 12,
    "start_time": "2022-01-29T15:17:36.840Z"
   },
   {
    "duration": 24,
    "start_time": "2022-01-29T15:17:36.854Z"
   },
   {
    "duration": 68,
    "start_time": "2022-01-29T15:17:36.881Z"
   },
   {
    "duration": 47,
    "start_time": "2022-01-29T15:17:36.952Z"
   },
   {
    "duration": 41,
    "start_time": "2022-01-29T15:17:37.004Z"
   },
   {
    "duration": 5920,
    "start_time": "2022-01-29T15:17:37.048Z"
   },
   {
    "duration": 118,
    "start_time": "2022-01-29T15:17:42.971Z"
   },
   {
    "duration": 68,
    "start_time": "2022-01-29T15:17:43.092Z"
   },
   {
    "duration": 61,
    "start_time": "2022-01-29T15:17:43.164Z"
   },
   {
    "duration": 47,
    "start_time": "2022-01-29T15:17:43.228Z"
   },
   {
    "duration": 64,
    "start_time": "2022-01-29T15:17:43.279Z"
   },
   {
    "duration": 92,
    "start_time": "2022-01-29T15:33:07.715Z"
   },
   {
    "duration": 20,
    "start_time": "2022-01-29T15:33:07.824Z"
   },
   {
    "duration": 18,
    "start_time": "2022-01-29T15:33:07.848Z"
   },
   {
    "duration": 12,
    "start_time": "2022-01-29T15:33:07.869Z"
   },
   {
    "duration": 53,
    "start_time": "2022-01-29T15:33:07.883Z"
   },
   {
    "duration": 20,
    "start_time": "2022-01-29T15:33:07.939Z"
   },
   {
    "duration": 93,
    "start_time": "2022-01-29T15:33:07.962Z"
   },
   {
    "duration": 15,
    "start_time": "2022-01-29T15:33:08.058Z"
   },
   {
    "duration": 5324,
    "start_time": "2022-01-29T15:33:08.077Z"
   },
   {
    "duration": 120,
    "start_time": "2022-01-29T15:33:13.405Z"
   },
   {
    "duration": 38,
    "start_time": "2022-01-29T15:33:13.528Z"
   },
   {
    "duration": 72,
    "start_time": "2022-01-29T15:33:13.569Z"
   },
   {
    "duration": 33,
    "start_time": "2022-01-29T15:33:13.644Z"
   },
   {
    "duration": 63,
    "start_time": "2022-01-29T15:33:13.679Z"
   },
   {
    "duration": 165,
    "start_time": "2022-01-29T15:33:28.121Z"
   },
   {
    "duration": 85,
    "start_time": "2022-01-29T15:33:32.711Z"
   },
   {
    "duration": 38,
    "start_time": "2022-01-29T15:33:32.799Z"
   },
   {
    "duration": 18,
    "start_time": "2022-01-29T15:33:32.840Z"
   },
   {
    "duration": 12,
    "start_time": "2022-01-29T15:33:32.860Z"
   },
   {
    "duration": 56,
    "start_time": "2022-01-29T15:33:32.875Z"
   },
   {
    "duration": 28,
    "start_time": "2022-01-29T15:33:32.934Z"
   },
   {
    "duration": 121,
    "start_time": "2022-01-29T15:33:32.965Z"
   },
   {
    "duration": 18,
    "start_time": "2022-01-29T15:33:33.089Z"
   },
   {
    "duration": 6255,
    "start_time": "2022-01-29T15:33:33.126Z"
   },
   {
    "duration": 106,
    "start_time": "2022-01-29T15:33:39.384Z"
   },
   {
    "duration": 54,
    "start_time": "2022-01-29T15:33:39.492Z"
   },
   {
    "duration": 35,
    "start_time": "2022-01-29T15:33:39.549Z"
   },
   {
    "duration": 59,
    "start_time": "2022-01-29T15:33:39.586Z"
   },
   {
    "duration": 32,
    "start_time": "2022-01-29T15:33:39.647Z"
   },
   {
    "duration": 111,
    "start_time": "2022-01-29T15:33:50.169Z"
   },
   {
    "duration": 28,
    "start_time": "2022-01-29T15:33:50.283Z"
   },
   {
    "duration": 21,
    "start_time": "2022-01-29T15:33:50.324Z"
   },
   {
    "duration": 14,
    "start_time": "2022-01-29T15:33:50.348Z"
   },
   {
    "duration": 21,
    "start_time": "2022-01-29T15:33:50.365Z"
   },
   {
    "duration": 54,
    "start_time": "2022-01-29T15:33:50.389Z"
   },
   {
    "duration": 122,
    "start_time": "2022-01-29T15:33:50.446Z"
   },
   {
    "duration": 18,
    "start_time": "2022-01-29T15:33:50.573Z"
   },
   {
    "duration": 6262,
    "start_time": "2022-01-29T15:33:50.594Z"
   },
   {
    "duration": 138,
    "start_time": "2022-01-29T15:33:56.859Z"
   },
   {
    "duration": 65,
    "start_time": "2022-01-29T15:33:57.000Z"
   },
   {
    "duration": 57,
    "start_time": "2022-01-29T15:33:57.067Z"
   },
   {
    "duration": 33,
    "start_time": "2022-01-29T15:33:57.126Z"
   },
   {
    "duration": 30,
    "start_time": "2022-01-29T15:33:57.161Z"
   },
   {
    "duration": 90,
    "start_time": "2022-01-29T15:34:23.645Z"
   },
   {
    "duration": 22,
    "start_time": "2022-01-29T15:34:23.738Z"
   },
   {
    "duration": 18,
    "start_time": "2022-01-29T15:34:23.763Z"
   },
   {
    "duration": 40,
    "start_time": "2022-01-29T15:34:23.784Z"
   },
   {
    "duration": 16,
    "start_time": "2022-01-29T15:34:23.827Z"
   },
   {
    "duration": 26,
    "start_time": "2022-01-29T15:34:23.845Z"
   },
   {
    "duration": 95,
    "start_time": "2022-01-29T15:34:23.874Z"
   },
   {
    "duration": 22,
    "start_time": "2022-01-29T15:34:23.972Z"
   },
   {
    "duration": 5771,
    "start_time": "2022-01-29T15:34:23.998Z"
   },
   {
    "duration": 93,
    "start_time": "2022-01-29T15:34:29.772Z"
   },
   {
    "duration": 56,
    "start_time": "2022-01-29T15:34:29.867Z"
   },
   {
    "duration": 37,
    "start_time": "2022-01-29T15:34:29.926Z"
   },
   {
    "duration": 62,
    "start_time": "2022-01-29T15:34:29.965Z"
   },
   {
    "duration": 33,
    "start_time": "2022-01-29T15:34:30.029Z"
   },
   {
    "duration": 26,
    "start_time": "2022-01-29T15:52:07.432Z"
   },
   {
    "duration": 26,
    "start_time": "2022-01-29T15:52:54.668Z"
   },
   {
    "duration": 94,
    "start_time": "2022-01-29T15:53:04.261Z"
   },
   {
    "duration": 19,
    "start_time": "2022-01-29T15:53:04.358Z"
   },
   {
    "duration": 44,
    "start_time": "2022-01-29T15:53:04.380Z"
   },
   {
    "duration": 11,
    "start_time": "2022-01-29T15:53:04.427Z"
   },
   {
    "duration": 29,
    "start_time": "2022-01-29T15:53:04.440Z"
   },
   {
    "duration": 18,
    "start_time": "2022-01-29T15:53:04.471Z"
   },
   {
    "duration": 77,
    "start_time": "2022-01-29T15:53:04.491Z"
   },
   {
    "duration": 16,
    "start_time": "2022-01-29T15:53:04.572Z"
   },
   {
    "duration": 40,
    "start_time": "2022-01-29T15:53:04.591Z"
   },
   {
    "duration": 4920,
    "start_time": "2022-01-29T15:53:04.634Z"
   },
   {
    "duration": 87,
    "start_time": "2022-01-29T15:53:09.557Z"
   },
   {
    "duration": 37,
    "start_time": "2022-01-29T15:53:09.646Z"
   },
   {
    "duration": 69,
    "start_time": "2022-01-29T15:53:09.686Z"
   },
   {
    "duration": 29,
    "start_time": "2022-01-29T15:53:09.758Z"
   },
   {
    "duration": 58,
    "start_time": "2022-01-29T15:53:09.789Z"
   },
   {
    "duration": 89,
    "start_time": "2022-01-29T15:54:58.002Z"
   },
   {
    "duration": 30,
    "start_time": "2022-01-29T15:54:58.094Z"
   },
   {
    "duration": 18,
    "start_time": "2022-01-29T15:54:58.128Z"
   },
   {
    "duration": 12,
    "start_time": "2022-01-29T15:54:58.149Z"
   },
   {
    "duration": 17,
    "start_time": "2022-01-29T15:54:58.164Z"
   },
   {
    "duration": 21,
    "start_time": "2022-01-29T15:54:58.223Z"
   },
   {
    "duration": 81,
    "start_time": "2022-01-29T15:54:58.246Z"
   },
   {
    "duration": 93,
    "start_time": "2022-01-29T15:54:58.329Z"
   },
   {
    "duration": 17,
    "start_time": "2022-01-29T15:54:58.427Z"
   },
   {
    "duration": 4904,
    "start_time": "2022-01-29T15:54:58.447Z"
   },
   {
    "duration": 104,
    "start_time": "2022-01-29T15:55:03.353Z"
   },
   {
    "duration": 39,
    "start_time": "2022-01-29T15:55:03.460Z"
   },
   {
    "duration": 33,
    "start_time": "2022-01-29T15:55:03.524Z"
   },
   {
    "duration": 29,
    "start_time": "2022-01-29T15:55:03.560Z"
   },
   {
    "duration": 33,
    "start_time": "2022-01-29T15:55:03.624Z"
   },
   {
    "duration": 94,
    "start_time": "2022-01-29T16:02:46.380Z"
   },
   {
    "duration": 19,
    "start_time": "2022-01-29T16:02:46.477Z"
   },
   {
    "duration": 39,
    "start_time": "2022-01-29T16:02:46.499Z"
   },
   {
    "duration": 13,
    "start_time": "2022-01-29T16:02:46.540Z"
   },
   {
    "duration": 19,
    "start_time": "2022-01-29T16:02:46.557Z"
   },
   {
    "duration": 59,
    "start_time": "2022-01-29T16:02:46.579Z"
   },
   {
    "duration": 93,
    "start_time": "2022-01-29T16:02:46.641Z"
   },
   {
    "duration": 91,
    "start_time": "2022-01-29T16:02:46.738Z"
   },
   {
    "duration": 12,
    "start_time": "2022-01-29T16:02:46.834Z"
   },
   {
    "duration": 6124,
    "start_time": "2022-01-29T16:02:46.849Z"
   },
   {
    "duration": 92,
    "start_time": "2022-01-29T16:02:52.976Z"
   },
   {
    "duration": 53,
    "start_time": "2022-01-29T16:02:53.070Z"
   },
   {
    "duration": 36,
    "start_time": "2022-01-29T16:02:53.126Z"
   },
   {
    "duration": 65,
    "start_time": "2022-01-29T16:02:53.165Z"
   },
   {
    "duration": 32,
    "start_time": "2022-01-29T16:02:53.233Z"
   },
   {
    "duration": 139,
    "start_time": "2022-01-29T16:07:04.517Z"
   },
   {
    "duration": 29,
    "start_time": "2022-01-29T16:07:04.660Z"
   },
   {
    "duration": 53,
    "start_time": "2022-01-29T16:07:04.693Z"
   },
   {
    "duration": 19,
    "start_time": "2022-01-29T16:07:04.749Z"
   },
   {
    "duration": 25,
    "start_time": "2022-01-29T16:07:04.771Z"
   },
   {
    "duration": 28,
    "start_time": "2022-01-29T16:07:04.824Z"
   },
   {
    "duration": 81,
    "start_time": "2022-01-29T16:07:04.855Z"
   },
   {
    "duration": 70,
    "start_time": "2022-01-29T16:07:04.938Z"
   },
   {
    "duration": 11,
    "start_time": "2022-01-29T16:07:05.025Z"
   },
   {
    "duration": 8,
    "start_time": "2022-01-29T16:07:05.039Z"
   },
   {
    "duration": 5653,
    "start_time": "2022-01-29T16:07:05.050Z"
   },
   {
    "duration": 95,
    "start_time": "2022-01-29T16:07:10.706Z"
   },
   {
    "duration": 36,
    "start_time": "2022-01-29T16:07:10.823Z"
   },
   {
    "duration": 32,
    "start_time": "2022-01-29T16:07:10.862Z"
   },
   {
    "duration": 31,
    "start_time": "2022-01-29T16:07:10.924Z"
   },
   {
    "duration": 66,
    "start_time": "2022-01-29T16:07:10.957Z"
   },
   {
    "duration": 98,
    "start_time": "2022-01-29T16:07:24.034Z"
   },
   {
    "duration": 20,
    "start_time": "2022-01-29T16:07:24.134Z"
   },
   {
    "duration": 18,
    "start_time": "2022-01-29T16:07:24.157Z"
   },
   {
    "duration": 45,
    "start_time": "2022-01-29T16:07:24.178Z"
   },
   {
    "duration": 17,
    "start_time": "2022-01-29T16:07:24.226Z"
   },
   {
    "duration": 19,
    "start_time": "2022-01-29T16:07:24.246Z"
   },
   {
    "duration": 98,
    "start_time": "2022-01-29T16:07:24.268Z"
   },
   {
    "duration": 86,
    "start_time": "2022-01-29T16:07:24.369Z"
   },
   {
    "duration": 10,
    "start_time": "2022-01-29T16:07:24.457Z"
   },
   {
    "duration": 10,
    "start_time": "2022-01-29T16:07:24.470Z"
   },
   {
    "duration": 5690,
    "start_time": "2022-01-29T16:07:24.483Z"
   },
   {
    "duration": 99,
    "start_time": "2022-01-29T16:07:30.175Z"
   },
   {
    "duration": 54,
    "start_time": "2022-01-29T16:07:30.276Z"
   },
   {
    "duration": 34,
    "start_time": "2022-01-29T16:07:30.333Z"
   },
   {
    "duration": 66,
    "start_time": "2022-01-29T16:07:30.369Z"
   },
   {
    "duration": 37,
    "start_time": "2022-01-29T16:07:30.437Z"
   },
   {
    "duration": 105,
    "start_time": "2022-01-29T16:11:25.741Z"
   },
   {
    "duration": 20,
    "start_time": "2022-01-29T16:11:25.848Z"
   },
   {
    "duration": 18,
    "start_time": "2022-01-29T16:11:25.872Z"
   },
   {
    "duration": 38,
    "start_time": "2022-01-29T16:11:25.893Z"
   },
   {
    "duration": 20,
    "start_time": "2022-01-29T16:11:25.934Z"
   },
   {
    "duration": 23,
    "start_time": "2022-01-29T16:11:25.957Z"
   },
   {
    "duration": 103,
    "start_time": "2022-01-29T16:11:25.984Z"
   },
   {
    "duration": 98,
    "start_time": "2022-01-29T16:11:26.090Z"
   },
   {
    "duration": 32,
    "start_time": "2022-01-29T16:11:26.192Z"
   },
   {
    "duration": 10,
    "start_time": "2022-01-29T16:11:26.226Z"
   },
   {
    "duration": 6687,
    "start_time": "2022-01-29T16:11:26.238Z"
   },
   {
    "duration": 131,
    "start_time": "2022-01-29T16:11:32.929Z"
   },
   {
    "duration": 64,
    "start_time": "2022-01-29T16:11:33.064Z"
   },
   {
    "duration": 59,
    "start_time": "2022-01-29T16:11:33.131Z"
   },
   {
    "duration": 55,
    "start_time": "2022-01-29T16:11:33.194Z"
   },
   {
    "duration": 77,
    "start_time": "2022-01-29T16:11:33.252Z"
   },
   {
    "duration": 93,
    "start_time": "2022-01-29T16:14:26.500Z"
   },
   {
    "duration": 31,
    "start_time": "2022-01-29T16:14:26.595Z"
   },
   {
    "duration": 18,
    "start_time": "2022-01-29T16:14:26.629Z"
   },
   {
    "duration": 12,
    "start_time": "2022-01-29T16:14:26.649Z"
   },
   {
    "duration": 60,
    "start_time": "2022-01-29T16:14:26.663Z"
   },
   {
    "duration": 19,
    "start_time": "2022-01-29T16:14:26.725Z"
   },
   {
    "duration": 82,
    "start_time": "2022-01-29T16:14:26.746Z"
   },
   {
    "duration": 69,
    "start_time": "2022-01-29T16:14:26.832Z"
   },
   {
    "duration": 10,
    "start_time": "2022-01-29T16:14:26.924Z"
   },
   {
    "duration": 12,
    "start_time": "2022-01-29T16:14:26.936Z"
   },
   {
    "duration": 6092,
    "start_time": "2022-01-29T16:14:26.950Z"
   },
   {
    "duration": 44,
    "start_time": "2022-01-29T16:14:33.046Z"
   },
   {
    "duration": 108,
    "start_time": "2022-01-29T16:14:33.093Z"
   },
   {
    "duration": 54,
    "start_time": "2022-01-29T16:14:33.203Z"
   },
   {
    "duration": 36,
    "start_time": "2022-01-29T16:14:33.260Z"
   },
   {
    "duration": 35,
    "start_time": "2022-01-29T16:14:33.324Z"
   },
   {
    "duration": 64,
    "start_time": "2022-01-29T16:14:33.362Z"
   },
   {
    "duration": 136,
    "start_time": "2022-01-29T16:16:29.263Z"
   },
   {
    "duration": 33,
    "start_time": "2022-01-29T16:16:29.403Z"
   },
   {
    "duration": 44,
    "start_time": "2022-01-29T16:16:29.440Z"
   },
   {
    "duration": 45,
    "start_time": "2022-01-29T16:16:29.488Z"
   },
   {
    "duration": 28,
    "start_time": "2022-01-29T16:16:29.535Z"
   },
   {
    "duration": 22,
    "start_time": "2022-01-29T16:16:29.566Z"
   },
   {
    "duration": 83,
    "start_time": "2022-01-29T16:16:29.590Z"
   },
   {
    "duration": 85,
    "start_time": "2022-01-29T16:16:29.676Z"
   },
   {
    "duration": 9,
    "start_time": "2022-01-29T16:16:29.765Z"
   },
   {
    "duration": 8,
    "start_time": "2022-01-29T16:16:29.777Z"
   },
   {
    "duration": 6041,
    "start_time": "2022-01-29T16:16:29.824Z"
   },
   {
    "duration": 30,
    "start_time": "2022-01-29T16:16:35.869Z"
   },
   {
    "duration": 100,
    "start_time": "2022-01-29T16:16:35.901Z"
   },
   {
    "duration": 50,
    "start_time": "2022-01-29T16:16:36.003Z"
   },
   {
    "duration": 33,
    "start_time": "2022-01-29T16:16:36.055Z"
   },
   {
    "duration": 62,
    "start_time": "2022-01-29T16:16:36.090Z"
   },
   {
    "duration": 33,
    "start_time": "2022-01-29T16:16:36.155Z"
   },
   {
    "duration": 17,
    "start_time": "2022-01-29T16:19:03.040Z"
   },
   {
    "duration": 60,
    "start_time": "2022-01-29T16:19:50.227Z"
   },
   {
    "duration": 95,
    "start_time": "2022-01-29T16:19:52.991Z"
   },
   {
    "duration": 34,
    "start_time": "2022-01-29T16:19:53.089Z"
   },
   {
    "duration": 18,
    "start_time": "2022-01-29T16:19:53.127Z"
   },
   {
    "duration": 14,
    "start_time": "2022-01-29T16:19:53.148Z"
   },
   {
    "duration": 20,
    "start_time": "2022-01-29T16:19:53.164Z"
   },
   {
    "duration": 55,
    "start_time": "2022-01-29T16:19:53.186Z"
   },
   {
    "duration": 83,
    "start_time": "2022-01-29T16:19:53.244Z"
   },
   {
    "duration": 72,
    "start_time": "2022-01-29T16:19:53.330Z"
   },
   {
    "duration": 9,
    "start_time": "2022-01-29T16:19:53.424Z"
   },
   {
    "duration": 9,
    "start_time": "2022-01-29T16:19:53.436Z"
   },
   {
    "duration": 5663,
    "start_time": "2022-01-29T16:19:53.447Z"
   },
   {
    "duration": 39,
    "start_time": "2022-01-29T16:19:59.113Z"
   },
   {
    "duration": 31,
    "start_time": "2022-01-29T16:19:59.155Z"
   },
   {
    "duration": 95,
    "start_time": "2022-01-29T16:19:59.189Z"
   },
   {
    "duration": 61,
    "start_time": "2022-01-29T16:19:59.287Z"
   },
   {
    "duration": 42,
    "start_time": "2022-01-29T16:19:59.351Z"
   },
   {
    "duration": 71,
    "start_time": "2022-01-29T16:19:59.396Z"
   },
   {
    "duration": 73,
    "start_time": "2022-01-29T16:19:59.470Z"
   },
   {
    "duration": 16,
    "start_time": "2022-01-29T16:26:50.236Z"
   },
   {
    "duration": 115,
    "start_time": "2022-01-29T16:30:51.108Z"
   },
   {
    "duration": 23,
    "start_time": "2022-01-29T16:30:51.227Z"
   },
   {
    "duration": 21,
    "start_time": "2022-01-29T16:30:51.253Z"
   },
   {
    "duration": 48,
    "start_time": "2022-01-29T16:30:51.278Z"
   },
   {
    "duration": 28,
    "start_time": "2022-01-29T16:30:51.329Z"
   },
   {
    "duration": 63,
    "start_time": "2022-01-29T16:30:51.360Z"
   },
   {
    "duration": 111,
    "start_time": "2022-01-29T16:30:51.427Z"
   },
   {
    "duration": 85,
    "start_time": "2022-01-29T16:30:51.540Z"
   },
   {
    "duration": 10,
    "start_time": "2022-01-29T16:30:51.629Z"
   },
   {
    "duration": 15,
    "start_time": "2022-01-29T16:30:51.642Z"
   },
   {
    "duration": 5640,
    "start_time": "2022-01-29T16:30:51.661Z"
   },
   {
    "duration": 50,
    "start_time": "2022-01-29T16:30:57.305Z"
   },
   {
    "duration": 25,
    "start_time": "2022-01-29T16:30:57.359Z"
   },
   {
    "duration": 97,
    "start_time": "2022-01-29T16:30:57.387Z"
   },
   {
    "duration": 47,
    "start_time": "2022-01-29T16:30:57.486Z"
   },
   {
    "duration": 34,
    "start_time": "2022-01-29T16:30:57.536Z"
   },
   {
    "duration": 62,
    "start_time": "2022-01-29T16:30:57.572Z"
   },
   {
    "duration": 34,
    "start_time": "2022-01-29T16:30:57.637Z"
   },
   {
    "duration": 93,
    "start_time": "2022-01-29T16:32:30.364Z"
   },
   {
    "duration": 20,
    "start_time": "2022-01-29T16:32:30.459Z"
   },
   {
    "duration": 44,
    "start_time": "2022-01-29T16:32:30.483Z"
   },
   {
    "duration": 13,
    "start_time": "2022-01-29T16:32:30.530Z"
   },
   {
    "duration": 26,
    "start_time": "2022-01-29T16:32:30.546Z"
   },
   {
    "duration": 21,
    "start_time": "2022-01-29T16:32:30.575Z"
   },
   {
    "duration": 84,
    "start_time": "2022-01-29T16:32:30.598Z"
   },
   {
    "duration": 88,
    "start_time": "2022-01-29T16:32:30.684Z"
   },
   {
    "duration": 10,
    "start_time": "2022-01-29T16:32:30.776Z"
   },
   {
    "duration": 35,
    "start_time": "2022-01-29T16:32:30.789Z"
   },
   {
    "duration": 6101,
    "start_time": "2022-01-29T16:32:30.827Z"
   },
   {
    "duration": 27,
    "start_time": "2022-01-29T16:32:36.931Z"
   },
   {
    "duration": 20,
    "start_time": "2022-01-29T16:32:36.960Z"
   },
   {
    "duration": 80,
    "start_time": "2022-01-29T16:32:36.983Z"
   },
   {
    "duration": 61,
    "start_time": "2022-01-29T16:32:37.065Z"
   },
   {
    "duration": 51,
    "start_time": "2022-01-29T16:32:37.129Z"
   },
   {
    "duration": 77,
    "start_time": "2022-01-29T16:32:37.183Z"
   },
   {
    "duration": 78,
    "start_time": "2022-01-29T16:32:37.263Z"
   },
   {
    "duration": 138,
    "start_time": "2022-01-29T16:33:10.085Z"
   },
   {
    "duration": 31,
    "start_time": "2022-01-29T16:33:10.226Z"
   },
   {
    "duration": 26,
    "start_time": "2022-01-29T16:33:10.260Z"
   },
   {
    "duration": 46,
    "start_time": "2022-01-29T16:33:10.290Z"
   },
   {
    "duration": 26,
    "start_time": "2022-01-29T16:33:10.338Z"
   },
   {
    "duration": 27,
    "start_time": "2022-01-29T16:33:10.367Z"
   },
   {
    "duration": 106,
    "start_time": "2022-01-29T16:33:10.425Z"
   },
   {
    "duration": 90,
    "start_time": "2022-01-29T16:33:10.533Z"
   },
   {
    "duration": 9,
    "start_time": "2022-01-29T16:33:10.627Z"
   },
   {
    "duration": 9,
    "start_time": "2022-01-29T16:33:10.639Z"
   },
   {
    "duration": 5458,
    "start_time": "2022-01-29T16:33:10.651Z"
   },
   {
    "duration": 48,
    "start_time": "2022-01-29T16:33:16.112Z"
   },
   {
    "duration": 25,
    "start_time": "2022-01-29T16:33:16.163Z"
   },
   {
    "duration": 45,
    "start_time": "2022-01-29T16:33:16.191Z"
   },
   {
    "duration": 55,
    "start_time": "2022-01-29T16:33:16.239Z"
   },
   {
    "duration": 72,
    "start_time": "2022-01-29T16:33:16.298Z"
   },
   {
    "duration": 67,
    "start_time": "2022-01-29T16:33:16.373Z"
   },
   {
    "duration": 48,
    "start_time": "2022-01-29T16:33:16.443Z"
   },
   {
    "duration": 12,
    "start_time": "2022-01-29T16:34:04.065Z"
   },
   {
    "duration": 137,
    "start_time": "2022-01-29T18:57:02.714Z"
   },
   {
    "duration": 24,
    "start_time": "2022-01-29T18:57:02.854Z"
   },
   {
    "duration": 53,
    "start_time": "2022-01-29T18:57:02.882Z"
   },
   {
    "duration": 18,
    "start_time": "2022-01-29T18:57:02.939Z"
   },
   {
    "duration": 26,
    "start_time": "2022-01-29T18:57:02.960Z"
   },
   {
    "duration": 62,
    "start_time": "2022-01-29T18:57:02.989Z"
   },
   {
    "duration": 118,
    "start_time": "2022-01-29T18:57:03.055Z"
   },
   {
    "duration": 113,
    "start_time": "2022-01-29T18:57:03.176Z"
   },
   {
    "duration": 31,
    "start_time": "2022-01-29T18:57:03.293Z"
   },
   {
    "duration": 41,
    "start_time": "2022-01-29T18:57:03.328Z"
   },
   {
    "duration": 6279,
    "start_time": "2022-01-29T18:57:03.372Z"
   },
   {
    "duration": 27,
    "start_time": "2022-01-29T18:57:09.655Z"
   },
   {
    "duration": 28,
    "start_time": "2022-01-29T18:57:09.684Z"
   },
   {
    "duration": 25,
    "start_time": "2022-01-29T18:57:09.727Z"
   },
   {
    "duration": 8,
    "start_time": "2022-01-29T18:57:09.755Z"
   },
   {
    "duration": 68,
    "start_time": "2022-01-29T18:57:09.765Z"
   },
   {
    "duration": 51,
    "start_time": "2022-01-29T18:57:09.838Z"
   },
   {
    "duration": 85,
    "start_time": "2022-01-29T18:57:09.892Z"
   },
   {
    "duration": 67,
    "start_time": "2022-01-29T18:57:09.980Z"
   },
   {
    "duration": 33,
    "start_time": "2022-01-29T19:00:47.944Z"
   },
   {
    "duration": 90,
    "start_time": "2022-01-29T19:01:06.504Z"
   },
   {
    "duration": 31,
    "start_time": "2022-01-29T19:01:06.597Z"
   },
   {
    "duration": 17,
    "start_time": "2022-01-29T19:01:06.631Z"
   },
   {
    "duration": 13,
    "start_time": "2022-01-29T19:01:06.650Z"
   },
   {
    "duration": 19,
    "start_time": "2022-01-29T19:01:06.665Z"
   },
   {
    "duration": 54,
    "start_time": "2022-01-29T19:01:06.686Z"
   },
   {
    "duration": 59,
    "start_time": "2022-01-29T19:01:06.742Z"
   },
   {
    "duration": 70,
    "start_time": "2022-01-29T19:01:06.823Z"
   },
   {
    "duration": 28,
    "start_time": "2022-01-29T19:01:06.897Z"
   },
   {
    "duration": 9,
    "start_time": "2022-01-29T19:01:06.928Z"
   },
   {
    "duration": 4951,
    "start_time": "2022-01-29T19:01:06.940Z"
   },
   {
    "duration": 38,
    "start_time": "2022-01-29T19:01:11.894Z"
   },
   {
    "duration": 17,
    "start_time": "2022-01-29T19:01:11.935Z"
   },
   {
    "duration": 12,
    "start_time": "2022-01-29T19:01:11.955Z"
   },
   {
    "duration": 8,
    "start_time": "2022-01-29T19:01:11.970Z"
   },
   {
    "duration": 78,
    "start_time": "2022-01-29T19:01:11.981Z"
   },
   {
    "duration": 32,
    "start_time": "2022-01-29T19:01:12.062Z"
   },
   {
    "duration": 56,
    "start_time": "2022-01-29T19:01:12.096Z"
   },
   {
    "duration": 32,
    "start_time": "2022-01-29T19:01:12.155Z"
   },
   {
    "duration": 35,
    "start_time": "2022-01-29T19:04:05.900Z"
   },
   {
    "duration": 93,
    "start_time": "2022-01-29T19:04:52.967Z"
   },
   {
    "duration": 21,
    "start_time": "2022-01-29T19:04:53.064Z"
   },
   {
    "duration": 43,
    "start_time": "2022-01-29T19:04:53.090Z"
   },
   {
    "duration": 13,
    "start_time": "2022-01-29T19:04:53.136Z"
   },
   {
    "duration": 23,
    "start_time": "2022-01-29T19:04:53.152Z"
   },
   {
    "duration": 65,
    "start_time": "2022-01-29T19:04:53.178Z"
   },
   {
    "duration": 77,
    "start_time": "2022-01-29T19:04:53.246Z"
   },
   {
    "duration": 69,
    "start_time": "2022-01-29T19:04:53.325Z"
   },
   {
    "duration": 27,
    "start_time": "2022-01-29T19:04:53.399Z"
   },
   {
    "duration": 10,
    "start_time": "2022-01-29T19:04:53.430Z"
   },
   {
    "duration": 4761,
    "start_time": "2022-01-29T19:04:53.443Z"
   },
   {
    "duration": 38,
    "start_time": "2022-01-29T19:04:58.206Z"
   },
   {
    "duration": 17,
    "start_time": "2022-01-29T19:04:58.247Z"
   },
   {
    "duration": 13,
    "start_time": "2022-01-29T19:04:58.267Z"
   },
   {
    "duration": 45,
    "start_time": "2022-01-29T19:04:58.283Z"
   },
   {
    "duration": 45,
    "start_time": "2022-01-29T19:04:58.331Z"
   },
   {
    "duration": 67,
    "start_time": "2022-01-29T19:04:58.379Z"
   },
   {
    "duration": 32,
    "start_time": "2022-01-29T19:04:58.448Z"
   },
   {
    "duration": 59,
    "start_time": "2022-01-29T19:04:58.482Z"
   },
   {
    "duration": 11,
    "start_time": "2022-01-29T19:05:34.487Z"
   },
   {
    "duration": 11,
    "start_time": "2022-01-29T19:05:41.407Z"
   },
   {
    "duration": 2197,
    "start_time": "2022-01-29T19:08:54.386Z"
   },
   {
    "duration": 85,
    "start_time": "2022-01-29T19:09:01.233Z"
   },
   {
    "duration": 19,
    "start_time": "2022-01-29T19:09:01.323Z"
   },
   {
    "duration": 20,
    "start_time": "2022-01-29T19:09:01.345Z"
   },
   {
    "duration": 12,
    "start_time": "2022-01-29T19:09:01.368Z"
   },
   {
    "duration": 54,
    "start_time": "2022-01-29T19:09:01.383Z"
   },
   {
    "duration": 21,
    "start_time": "2022-01-29T19:09:01.440Z"
   },
   {
    "duration": 96,
    "start_time": "2022-01-29T19:09:01.463Z"
   },
   {
    "duration": 89,
    "start_time": "2022-01-29T19:09:01.562Z"
   },
   {
    "duration": 11,
    "start_time": "2022-01-29T19:09:01.656Z"
   },
   {
    "duration": 16,
    "start_time": "2022-01-29T19:09:01.670Z"
   },
   {
    "duration": 5710,
    "start_time": "2022-01-29T19:09:01.688Z"
   },
   {
    "duration": 40,
    "start_time": "2022-01-29T19:09:07.401Z"
   },
   {
    "duration": 18,
    "start_time": "2022-01-29T19:09:07.444Z"
   },
   {
    "duration": 13,
    "start_time": "2022-01-29T19:09:07.464Z"
   },
   {
    "duration": 48,
    "start_time": "2022-01-29T19:09:07.480Z"
   },
   {
    "duration": 41,
    "start_time": "2022-01-29T19:09:07.531Z"
   },
   {
    "duration": 63,
    "start_time": "2022-01-29T19:09:07.575Z"
   },
   {
    "duration": 32,
    "start_time": "2022-01-29T19:09:07.641Z"
   },
   {
    "duration": 65,
    "start_time": "2022-01-29T19:09:07.675Z"
   },
   {
    "duration": 36,
    "start_time": "2022-01-29T19:12:11.659Z"
   },
   {
    "duration": 91,
    "start_time": "2022-01-29T19:12:34.843Z"
   },
   {
    "duration": 18,
    "start_time": "2022-01-29T19:12:34.937Z"
   },
   {
    "duration": 17,
    "start_time": "2022-01-29T19:12:34.958Z"
   },
   {
    "duration": 12,
    "start_time": "2022-01-29T19:12:34.978Z"
   },
   {
    "duration": 18,
    "start_time": "2022-01-29T19:12:35.024Z"
   },
   {
    "duration": 19,
    "start_time": "2022-01-29T19:12:35.044Z"
   },
   {
    "duration": 92,
    "start_time": "2022-01-29T19:12:35.065Z"
   },
   {
    "duration": 84,
    "start_time": "2022-01-29T19:12:35.160Z"
   },
   {
    "duration": 9,
    "start_time": "2022-01-29T19:12:35.248Z"
   },
   {
    "duration": 10,
    "start_time": "2022-01-29T19:12:35.260Z"
   },
   {
    "duration": 4812,
    "start_time": "2022-01-29T19:12:35.273Z"
   },
   {
    "duration": 37,
    "start_time": "2022-01-29T19:12:40.087Z"
   },
   {
    "duration": 17,
    "start_time": "2022-01-29T19:12:40.126Z"
   },
   {
    "duration": 13,
    "start_time": "2022-01-29T19:12:40.145Z"
   },
   {
    "duration": 8,
    "start_time": "2022-01-29T19:12:40.161Z"
   },
   {
    "duration": 85,
    "start_time": "2022-01-29T19:12:40.172Z"
   },
   {
    "duration": 35,
    "start_time": "2022-01-29T19:12:40.259Z"
   },
   {
    "duration": 53,
    "start_time": "2022-01-29T19:12:40.296Z"
   },
   {
    "duration": 31,
    "start_time": "2022-01-29T19:12:40.352Z"
   },
   {
    "duration": 36,
    "start_time": "2022-01-29T19:42:59.070Z"
   },
   {
    "duration": 554,
    "start_time": "2022-01-29T19:44:04.655Z"
   },
   {
    "duration": 42,
    "start_time": "2022-01-29T19:44:24.155Z"
   },
   {
    "duration": 41,
    "start_time": "2022-01-29T19:45:54.487Z"
   },
   {
    "duration": 34,
    "start_time": "2022-01-29T19:47:06.767Z"
   },
   {
    "duration": 339,
    "start_time": "2022-01-29T19:47:14.559Z"
   },
   {
    "duration": 33,
    "start_time": "2022-01-29T19:47:27.759Z"
   },
   {
    "duration": 29,
    "start_time": "2022-01-29T19:50:29.017Z"
   },
   {
    "duration": 33,
    "start_time": "2022-01-29T19:50:55.847Z"
   },
   {
    "duration": 91,
    "start_time": "2022-01-29T19:52:14.587Z"
   },
   {
    "duration": 20,
    "start_time": "2022-01-29T19:52:14.680Z"
   },
   {
    "duration": 37,
    "start_time": "2022-01-29T19:52:14.703Z"
   },
   {
    "duration": 13,
    "start_time": "2022-01-29T19:52:14.743Z"
   },
   {
    "duration": 17,
    "start_time": "2022-01-29T19:52:14.759Z"
   },
   {
    "duration": 52,
    "start_time": "2022-01-29T19:52:14.779Z"
   },
   {
    "duration": 59,
    "start_time": "2022-01-29T19:52:14.834Z"
   },
   {
    "duration": 87,
    "start_time": "2022-01-29T19:52:14.895Z"
   },
   {
    "duration": 9,
    "start_time": "2022-01-29T19:52:14.986Z"
   },
   {
    "duration": 9,
    "start_time": "2022-01-29T19:52:15.024Z"
   },
   {
    "duration": 5175,
    "start_time": "2022-01-29T19:52:15.036Z"
   },
   {
    "duration": 35,
    "start_time": "2022-01-29T19:52:20.214Z"
   },
   {
    "duration": 17,
    "start_time": "2022-01-29T19:52:20.251Z"
   },
   {
    "duration": 15,
    "start_time": "2022-01-29T19:52:20.270Z"
   },
   {
    "duration": 43,
    "start_time": "2022-01-29T19:52:20.287Z"
   },
   {
    "duration": 41,
    "start_time": "2022-01-29T19:52:20.333Z"
   },
   {
    "duration": 67,
    "start_time": "2022-01-29T19:52:20.377Z"
   },
   {
    "duration": 31,
    "start_time": "2022-01-29T19:52:20.447Z"
   },
   {
    "duration": 57,
    "start_time": "2022-01-29T19:52:20.481Z"
   },
   {
    "duration": 33,
    "start_time": "2022-01-29T19:53:33.864Z"
   },
   {
    "duration": 37,
    "start_time": "2022-01-29T19:55:32.012Z"
   },
   {
    "duration": 113,
    "start_time": "2022-01-29T20:05:02.376Z"
   },
   {
    "duration": 47,
    "start_time": "2022-01-29T20:05:02.492Z"
   },
   {
    "duration": 21,
    "start_time": "2022-01-29T20:05:02.543Z"
   },
   {
    "duration": 18,
    "start_time": "2022-01-29T20:05:02.568Z"
   },
   {
    "duration": 55,
    "start_time": "2022-01-29T20:05:02.589Z"
   },
   {
    "duration": 42,
    "start_time": "2022-01-29T20:05:02.646Z"
   },
   {
    "duration": 96,
    "start_time": "2022-01-29T20:05:02.690Z"
   },
   {
    "duration": 95,
    "start_time": "2022-01-29T20:05:02.788Z"
   },
   {
    "duration": 10,
    "start_time": "2022-01-29T20:05:02.887Z"
   },
   {
    "duration": 51,
    "start_time": "2022-01-29T20:05:02.900Z"
   },
   {
    "duration": 5564,
    "start_time": "2022-01-29T20:05:02.954Z"
   },
   {
    "duration": 29,
    "start_time": "2022-01-29T20:05:08.533Z"
   },
   {
    "duration": 16,
    "start_time": "2022-01-29T20:05:08.565Z"
   },
   {
    "duration": 44,
    "start_time": "2022-01-29T20:05:08.584Z"
   },
   {
    "duration": 15,
    "start_time": "2022-01-29T20:05:08.633Z"
   },
   {
    "duration": 44,
    "start_time": "2022-01-29T20:05:08.651Z"
   },
   {
    "duration": 65,
    "start_time": "2022-01-29T20:05:08.699Z"
   },
   {
    "duration": 32,
    "start_time": "2022-01-29T20:05:08.767Z"
   },
   {
    "duration": 54,
    "start_time": "2022-01-29T20:05:08.801Z"
   },
   {
    "duration": 120,
    "start_time": "2022-01-29T20:05:40.608Z"
   },
   {
    "duration": 29,
    "start_time": "2022-01-29T20:05:40.731Z"
   },
   {
    "duration": 19,
    "start_time": "2022-01-29T20:05:40.763Z"
   },
   {
    "duration": 50,
    "start_time": "2022-01-29T20:05:40.784Z"
   },
   {
    "duration": 36,
    "start_time": "2022-01-29T20:05:40.837Z"
   },
   {
    "duration": 20,
    "start_time": "2022-01-29T20:05:40.876Z"
   },
   {
    "duration": 95,
    "start_time": "2022-01-29T20:05:40.898Z"
   },
   {
    "duration": 104,
    "start_time": "2022-01-29T20:05:40.995Z"
   },
   {
    "duration": 23,
    "start_time": "2022-01-29T20:05:41.104Z"
   },
   {
    "duration": 29,
    "start_time": "2022-01-29T20:05:41.133Z"
   },
   {
    "duration": 6038,
    "start_time": "2022-01-29T20:05:41.165Z"
   },
   {
    "duration": 39,
    "start_time": "2022-01-29T20:05:47.205Z"
   },
   {
    "duration": 36,
    "start_time": "2022-01-29T20:05:47.247Z"
   },
   {
    "duration": 43,
    "start_time": "2022-01-29T20:05:47.286Z"
   },
   {
    "duration": 13,
    "start_time": "2022-01-29T20:05:47.332Z"
   },
   {
    "duration": 84,
    "start_time": "2022-01-29T20:05:47.348Z"
   },
   {
    "duration": 51,
    "start_time": "2022-01-29T20:05:47.435Z"
   },
   {
    "duration": 73,
    "start_time": "2022-01-29T20:05:47.490Z"
   },
   {
    "duration": 73,
    "start_time": "2022-01-29T20:05:47.566Z"
   },
   {
    "duration": 12,
    "start_time": "2022-01-29T20:08:52.966Z"
   },
   {
    "duration": 27,
    "start_time": "2022-01-29T20:09:29.200Z"
   },
   {
    "duration": 48,
    "start_time": "2022-01-29T20:13:36.808Z"
   },
   {
    "duration": 36,
    "start_time": "2022-01-29T20:14:10.732Z"
   },
   {
    "duration": 37,
    "start_time": "2022-01-29T20:14:33.078Z"
   },
   {
    "duration": 33,
    "start_time": "2022-01-29T20:14:58.583Z"
   },
   {
    "duration": 389,
    "start_time": "2022-01-29T20:15:15.944Z"
   },
   {
    "duration": 35,
    "start_time": "2022-01-29T20:15:31.097Z"
   },
   {
    "duration": 42,
    "start_time": "2022-01-29T20:16:06.146Z"
   },
   {
    "duration": 476,
    "start_time": "2022-01-29T20:16:29.781Z"
   },
   {
    "duration": 38,
    "start_time": "2022-01-29T20:16:41.684Z"
   },
   {
    "duration": 51,
    "start_time": "2022-01-29T20:17:16.939Z"
   },
   {
    "duration": 38,
    "start_time": "2022-01-29T20:17:34.302Z"
   },
   {
    "duration": 35,
    "start_time": "2022-01-29T20:17:46.128Z"
   },
   {
    "duration": 37,
    "start_time": "2022-01-29T20:17:54.731Z"
   },
   {
    "duration": 33,
    "start_time": "2022-01-29T20:18:36.396Z"
   },
   {
    "duration": 34,
    "start_time": "2022-01-29T20:19:09.332Z"
   },
   {
    "duration": 49,
    "start_time": "2022-01-29T20:20:08.454Z"
   },
   {
    "duration": 36,
    "start_time": "2022-01-29T20:20:19.407Z"
   },
   {
    "duration": 632,
    "start_time": "2022-02-07T16:23:52.247Z"
   },
   {
    "duration": 16,
    "start_time": "2022-02-07T16:23:52.881Z"
   },
   {
    "duration": 24,
    "start_time": "2022-02-07T16:23:52.900Z"
   },
   {
    "duration": 11,
    "start_time": "2022-02-07T16:23:52.925Z"
   },
   {
    "duration": 14,
    "start_time": "2022-02-07T16:23:52.938Z"
   },
   {
    "duration": 16,
    "start_time": "2022-02-07T16:23:52.954Z"
   },
   {
    "duration": 77,
    "start_time": "2022-02-07T16:23:52.971Z"
   },
   {
    "duration": 70,
    "start_time": "2022-02-07T16:23:53.050Z"
   },
   {
    "duration": 8,
    "start_time": "2022-02-07T16:23:53.123Z"
   },
   {
    "duration": 8,
    "start_time": "2022-02-07T16:23:53.133Z"
   },
   {
    "duration": 4127,
    "start_time": "2022-02-07T16:23:53.143Z"
   },
   {
    "duration": 24,
    "start_time": "2022-02-07T16:23:57.272Z"
   },
   {
    "duration": 24,
    "start_time": "2022-02-07T16:23:57.298Z"
   },
   {
    "duration": 10,
    "start_time": "2022-02-07T16:23:57.324Z"
   },
   {
    "duration": 14,
    "start_time": "2022-02-07T16:23:57.336Z"
   },
   {
    "duration": 63,
    "start_time": "2022-02-07T16:23:57.352Z"
   },
   {
    "duration": 27,
    "start_time": "2022-02-07T16:23:57.417Z"
   },
   {
    "duration": 26,
    "start_time": "2022-02-07T16:23:57.446Z"
   },
   {
    "duration": 57,
    "start_time": "2022-02-07T16:23:57.475Z"
   },
   {
    "duration": 673,
    "start_time": "2022-02-07T16:53:29.517Z"
   },
   {
    "duration": 22,
    "start_time": "2022-02-07T16:53:30.191Z"
   },
   {
    "duration": 11,
    "start_time": "2022-02-07T16:53:30.215Z"
   },
   {
    "duration": 27,
    "start_time": "2022-02-07T16:53:30.227Z"
   },
   {
    "duration": 13,
    "start_time": "2022-02-07T16:53:30.255Z"
   },
   {
    "duration": 28,
    "start_time": "2022-02-07T16:53:30.270Z"
   },
   {
    "duration": 44,
    "start_time": "2022-02-07T16:53:30.300Z"
   },
   {
    "duration": 55,
    "start_time": "2022-02-07T16:53:30.346Z"
   },
   {
    "duration": 13,
    "start_time": "2022-02-07T16:53:30.402Z"
   },
   {
    "duration": 21,
    "start_time": "2022-02-07T16:53:30.417Z"
   },
   {
    "duration": 3560,
    "start_time": "2022-02-07T16:53:30.439Z"
   },
   {
    "duration": 26,
    "start_time": "2022-02-07T16:53:34.001Z"
   },
   {
    "duration": 11,
    "start_time": "2022-02-07T16:53:34.029Z"
   },
   {
    "duration": 10,
    "start_time": "2022-02-07T16:53:34.041Z"
   },
   {
    "duration": 10,
    "start_time": "2022-02-07T16:53:34.052Z"
   },
   {
    "duration": 59,
    "start_time": "2022-02-07T16:53:34.063Z"
   },
   {
    "duration": 22,
    "start_time": "2022-02-07T16:53:34.124Z"
   },
   {
    "duration": 20,
    "start_time": "2022-02-07T16:53:34.148Z"
   },
   {
    "duration": 48,
    "start_time": "2022-02-07T16:53:34.169Z"
   },
   {
    "duration": 890,
    "start_time": "2022-02-08T17:27:16.327Z"
   },
   {
    "duration": 21,
    "start_time": "2022-02-08T17:27:17.220Z"
   },
   {
    "duration": 36,
    "start_time": "2022-02-08T17:27:17.244Z"
   },
   {
    "duration": 13,
    "start_time": "2022-02-08T17:27:17.283Z"
   },
   {
    "duration": 22,
    "start_time": "2022-02-08T17:27:17.299Z"
   },
   {
    "duration": 54,
    "start_time": "2022-02-08T17:27:17.324Z"
   },
   {
    "duration": 66,
    "start_time": "2022-02-08T17:27:17.381Z"
   },
   {
    "duration": 89,
    "start_time": "2022-02-08T17:27:17.449Z"
   },
   {
    "duration": 27,
    "start_time": "2022-02-08T17:27:17.542Z"
   },
   {
    "duration": 8,
    "start_time": "2022-02-08T17:27:17.572Z"
   },
   {
    "duration": 5350,
    "start_time": "2022-02-08T17:27:17.583Z"
   },
   {
    "duration": 38,
    "start_time": "2022-02-08T17:27:22.935Z"
   },
   {
    "duration": 32,
    "start_time": "2022-02-08T17:27:22.976Z"
   },
   {
    "duration": 24,
    "start_time": "2022-02-08T17:27:23.010Z"
   },
   {
    "duration": 23,
    "start_time": "2022-02-08T17:27:23.036Z"
   },
   {
    "duration": 59,
    "start_time": "2022-02-08T17:27:23.062Z"
   },
   {
    "duration": 57,
    "start_time": "2022-02-08T17:27:23.124Z"
   },
   {
    "duration": 35,
    "start_time": "2022-02-08T17:27:23.184Z"
   },
   {
    "duration": 73,
    "start_time": "2022-02-08T17:27:23.222Z"
   },
   {
    "duration": 94,
    "start_time": "2022-02-08T17:37:12.118Z"
   },
   {
    "duration": 21,
    "start_time": "2022-02-08T17:37:12.215Z"
   },
   {
    "duration": 42,
    "start_time": "2022-02-08T17:37:12.240Z"
   },
   {
    "duration": 16,
    "start_time": "2022-02-08T17:37:12.285Z"
   },
   {
    "duration": 20,
    "start_time": "2022-02-08T17:37:12.304Z"
   },
   {
    "duration": 60,
    "start_time": "2022-02-08T17:37:12.327Z"
   },
   {
    "duration": 86,
    "start_time": "2022-02-08T17:37:12.390Z"
   },
   {
    "duration": 94,
    "start_time": "2022-02-08T17:37:12.482Z"
   },
   {
    "duration": 13,
    "start_time": "2022-02-08T17:37:12.580Z"
   },
   {
    "duration": 10,
    "start_time": "2022-02-08T17:37:12.595Z"
   },
   {
    "duration": 5290,
    "start_time": "2022-02-08T17:37:12.608Z"
   },
   {
    "duration": 29,
    "start_time": "2022-02-08T17:37:17.901Z"
   },
   {
    "duration": 47,
    "start_time": "2022-02-08T17:37:17.933Z"
   },
   {
    "duration": 13,
    "start_time": "2022-02-08T17:37:17.982Z"
   },
   {
    "duration": 10,
    "start_time": "2022-02-08T17:37:17.998Z"
   },
   {
    "duration": 73,
    "start_time": "2022-02-08T17:37:18.010Z"
   },
   {
    "duration": 34,
    "start_time": "2022-02-08T17:37:18.085Z"
   },
   {
    "duration": 60,
    "start_time": "2022-02-08T17:37:18.121Z"
   },
   {
    "duration": 33,
    "start_time": "2022-02-08T17:37:18.184Z"
   },
   {
    "duration": 96,
    "start_time": "2022-02-08T17:52:56.014Z"
   },
   {
    "duration": 19,
    "start_time": "2022-02-08T17:52:56.113Z"
   },
   {
    "duration": 88,
    "start_time": "2022-02-08T17:52:56.135Z"
   },
   {
    "duration": -21,
    "start_time": "2022-02-08T17:52:56.247Z"
   },
   {
    "duration": -20,
    "start_time": "2022-02-08T17:52:56.248Z"
   },
   {
    "duration": -21,
    "start_time": "2022-02-08T17:52:56.250Z"
   },
   {
    "duration": -21,
    "start_time": "2022-02-08T17:52:56.251Z"
   },
   {
    "duration": -21,
    "start_time": "2022-02-08T17:52:56.252Z"
   },
   {
    "duration": -20,
    "start_time": "2022-02-08T17:52:56.253Z"
   },
   {
    "duration": -28,
    "start_time": "2022-02-08T17:52:56.262Z"
   },
   {
    "duration": -29,
    "start_time": "2022-02-08T17:52:56.264Z"
   },
   {
    "duration": -29,
    "start_time": "2022-02-08T17:52:56.265Z"
   },
   {
    "duration": -29,
    "start_time": "2022-02-08T17:52:56.266Z"
   },
   {
    "duration": -28,
    "start_time": "2022-02-08T17:52:56.267Z"
   },
   {
    "duration": -28,
    "start_time": "2022-02-08T17:52:56.268Z"
   },
   {
    "duration": -28,
    "start_time": "2022-02-08T17:52:56.269Z"
   },
   {
    "duration": -28,
    "start_time": "2022-02-08T17:52:56.270Z"
   },
   {
    "duration": -30,
    "start_time": "2022-02-08T17:52:56.274Z"
   },
   {
    "duration": -30,
    "start_time": "2022-02-08T17:52:56.275Z"
   },
   {
    "duration": -30,
    "start_time": "2022-02-08T17:52:56.276Z"
   },
   {
    "duration": 83,
    "start_time": "2022-02-08T17:53:13.286Z"
   },
   {
    "duration": 20,
    "start_time": "2022-02-08T17:53:13.372Z"
   },
   {
    "duration": 87,
    "start_time": "2022-02-08T17:53:13.394Z"
   },
   {
    "duration": -18,
    "start_time": "2022-02-08T17:53:13.502Z"
   },
   {
    "duration": -17,
    "start_time": "2022-02-08T17:53:13.503Z"
   },
   {
    "duration": -17,
    "start_time": "2022-02-08T17:53:13.504Z"
   },
   {
    "duration": -17,
    "start_time": "2022-02-08T17:53:13.505Z"
   },
   {
    "duration": -18,
    "start_time": "2022-02-08T17:53:13.508Z"
   },
   {
    "duration": -19,
    "start_time": "2022-02-08T17:53:13.510Z"
   },
   {
    "duration": -19,
    "start_time": "2022-02-08T17:53:13.511Z"
   },
   {
    "duration": -19,
    "start_time": "2022-02-08T17:53:13.513Z"
   },
   {
    "duration": -27,
    "start_time": "2022-02-08T17:53:13.522Z"
   },
   {
    "duration": -27,
    "start_time": "2022-02-08T17:53:13.524Z"
   },
   {
    "duration": -27,
    "start_time": "2022-02-08T17:53:13.526Z"
   },
   {
    "duration": -27,
    "start_time": "2022-02-08T17:53:13.527Z"
   },
   {
    "duration": -26,
    "start_time": "2022-02-08T17:53:13.528Z"
   },
   {
    "duration": -26,
    "start_time": "2022-02-08T17:53:13.529Z"
   },
   {
    "duration": -26,
    "start_time": "2022-02-08T17:53:13.530Z"
   },
   {
    "duration": -26,
    "start_time": "2022-02-08T17:53:13.531Z"
   },
   {
    "duration": -25,
    "start_time": "2022-02-08T17:53:13.532Z"
   },
   {
    "duration": 91,
    "start_time": "2022-02-08T17:53:37.616Z"
   },
   {
    "duration": 21,
    "start_time": "2022-02-08T17:53:37.709Z"
   },
   {
    "duration": 84,
    "start_time": "2022-02-08T17:53:37.732Z"
   },
   {
    "duration": -14,
    "start_time": "2022-02-08T17:53:37.833Z"
   },
   {
    "duration": -13,
    "start_time": "2022-02-08T17:53:37.834Z"
   },
   {
    "duration": -16,
    "start_time": "2022-02-08T17:53:37.838Z"
   },
   {
    "duration": -22,
    "start_time": "2022-02-08T17:53:37.845Z"
   },
   {
    "duration": -22,
    "start_time": "2022-02-08T17:53:37.847Z"
   },
   {
    "duration": -22,
    "start_time": "2022-02-08T17:53:37.848Z"
   },
   {
    "duration": -21,
    "start_time": "2022-02-08T17:53:37.849Z"
   },
   {
    "duration": -25,
    "start_time": "2022-02-08T17:53:37.854Z"
   },
   {
    "duration": -27,
    "start_time": "2022-02-08T17:53:37.857Z"
   },
   {
    "duration": -26,
    "start_time": "2022-02-08T17:53:37.858Z"
   },
   {
    "duration": -28,
    "start_time": "2022-02-08T17:53:37.861Z"
   },
   {
    "duration": -26,
    "start_time": "2022-02-08T17:53:37.861Z"
   },
   {
    "duration": -26,
    "start_time": "2022-02-08T17:53:37.862Z"
   },
   {
    "duration": -26,
    "start_time": "2022-02-08T17:53:37.863Z"
   },
   {
    "duration": -25,
    "start_time": "2022-02-08T17:53:37.864Z"
   },
   {
    "duration": -25,
    "start_time": "2022-02-08T17:53:37.865Z"
   },
   {
    "duration": -25,
    "start_time": "2022-02-08T17:53:37.866Z"
   },
   {
    "duration": 95,
    "start_time": "2022-02-08T17:54:39.669Z"
   },
   {
    "duration": 105,
    "start_time": "2022-02-08T17:55:10.881Z"
   },
   {
    "duration": 28,
    "start_time": "2022-02-08T17:55:10.989Z"
   },
   {
    "duration": 103,
    "start_time": "2022-02-08T17:55:11.021Z"
   },
   {
    "duration": -16,
    "start_time": "2022-02-08T17:55:11.145Z"
   },
   {
    "duration": -16,
    "start_time": "2022-02-08T17:55:11.146Z"
   },
   {
    "duration": -19,
    "start_time": "2022-02-08T17:55:11.151Z"
   },
   {
    "duration": -26,
    "start_time": "2022-02-08T17:55:11.160Z"
   },
   {
    "duration": -26,
    "start_time": "2022-02-08T17:55:11.162Z"
   },
   {
    "duration": -25,
    "start_time": "2022-02-08T17:55:11.163Z"
   },
   {
    "duration": -24,
    "start_time": "2022-02-08T17:55:11.164Z"
   },
   {
    "duration": -24,
    "start_time": "2022-02-08T17:55:11.167Z"
   },
   {
    "duration": -25,
    "start_time": "2022-02-08T17:55:11.170Z"
   },
   {
    "duration": -27,
    "start_time": "2022-02-08T17:55:11.174Z"
   },
   {
    "duration": -27,
    "start_time": "2022-02-08T17:55:11.176Z"
   },
   {
    "duration": -26,
    "start_time": "2022-02-08T17:55:11.177Z"
   },
   {
    "duration": -27,
    "start_time": "2022-02-08T17:55:11.180Z"
   },
   {
    "duration": -27,
    "start_time": "2022-02-08T17:55:11.182Z"
   },
   {
    "duration": -26,
    "start_time": "2022-02-08T17:55:11.183Z"
   },
   {
    "duration": -28,
    "start_time": "2022-02-08T17:55:11.187Z"
   },
   {
    "duration": -27,
    "start_time": "2022-02-08T17:55:11.188Z"
   },
   {
    "duration": 84,
    "start_time": "2022-02-08T17:55:23.582Z"
   },
   {
    "duration": 20,
    "start_time": "2022-02-08T17:55:23.670Z"
   },
   {
    "duration": 99,
    "start_time": "2022-02-08T17:55:23.693Z"
   },
   {
    "duration": -21,
    "start_time": "2022-02-08T17:55:23.816Z"
   },
   {
    "duration": -20,
    "start_time": "2022-02-08T17:55:23.817Z"
   },
   {
    "duration": -20,
    "start_time": "2022-02-08T17:55:23.818Z"
   },
   {
    "duration": -25,
    "start_time": "2022-02-08T17:55:23.824Z"
   },
   {
    "duration": -24,
    "start_time": "2022-02-08T17:55:23.825Z"
   },
   {
    "duration": -24,
    "start_time": "2022-02-08T17:55:23.826Z"
   },
   {
    "duration": -30,
    "start_time": "2022-02-08T17:55:23.834Z"
   },
   {
    "duration": -29,
    "start_time": "2022-02-08T17:55:23.835Z"
   },
   {
    "duration": -29,
    "start_time": "2022-02-08T17:55:23.836Z"
   },
   {
    "duration": -29,
    "start_time": "2022-02-08T17:55:23.837Z"
   },
   {
    "duration": -27,
    "start_time": "2022-02-08T17:55:23.837Z"
   },
   {
    "duration": -26,
    "start_time": "2022-02-08T17:55:23.838Z"
   },
   {
    "duration": -25,
    "start_time": "2022-02-08T17:55:23.839Z"
   },
   {
    "duration": -26,
    "start_time": "2022-02-08T17:55:23.842Z"
   },
   {
    "duration": -26,
    "start_time": "2022-02-08T17:55:23.844Z"
   },
   {
    "duration": -26,
    "start_time": "2022-02-08T17:55:23.845Z"
   },
   {
    "duration": -27,
    "start_time": "2022-02-08T17:55:23.848Z"
   },
   {
    "duration": 96,
    "start_time": "2022-02-08T17:56:38.568Z"
   },
   {
    "duration": 35,
    "start_time": "2022-02-08T17:56:38.670Z"
   },
   {
    "duration": 416,
    "start_time": "2022-02-08T17:56:38.709Z"
   },
   {
    "duration": -126,
    "start_time": "2022-02-08T17:56:39.254Z"
   },
   {
    "duration": -127,
    "start_time": "2022-02-08T17:56:39.256Z"
   },
   {
    "duration": -140,
    "start_time": "2022-02-08T17:56:39.271Z"
   },
   {
    "duration": -144,
    "start_time": "2022-02-08T17:56:39.276Z"
   },
   {
    "duration": -143,
    "start_time": "2022-02-08T17:56:39.277Z"
   },
   {
    "duration": -144,
    "start_time": "2022-02-08T17:56:39.279Z"
   },
   {
    "duration": -143,
    "start_time": "2022-02-08T17:56:39.280Z"
   },
   {
    "duration": -144,
    "start_time": "2022-02-08T17:56:39.282Z"
   },
   {
    "duration": -145,
    "start_time": "2022-02-08T17:56:39.284Z"
   },
   {
    "duration": -144,
    "start_time": "2022-02-08T17:56:39.285Z"
   },
   {
    "duration": -144,
    "start_time": "2022-02-08T17:56:39.287Z"
   },
   {
    "duration": -144,
    "start_time": "2022-02-08T17:56:39.288Z"
   },
   {
    "duration": -144,
    "start_time": "2022-02-08T17:56:39.290Z"
   },
   {
    "duration": -144,
    "start_time": "2022-02-08T17:56:39.291Z"
   },
   {
    "duration": -143,
    "start_time": "2022-02-08T17:56:39.292Z"
   },
   {
    "duration": -143,
    "start_time": "2022-02-08T17:56:39.293Z"
   },
   {
    "duration": -143,
    "start_time": "2022-02-08T17:56:39.295Z"
   },
   {
    "duration": 100,
    "start_time": "2022-02-08T17:56:56.673Z"
   },
   {
    "duration": 20,
    "start_time": "2022-02-08T17:56:56.776Z"
   },
   {
    "duration": 93,
    "start_time": "2022-02-08T17:56:56.799Z"
   },
   {
    "duration": -18,
    "start_time": "2022-02-08T17:56:56.914Z"
   },
   {
    "duration": -18,
    "start_time": "2022-02-08T17:56:56.916Z"
   },
   {
    "duration": -18,
    "start_time": "2022-02-08T17:56:56.917Z"
   },
   {
    "duration": -21,
    "start_time": "2022-02-08T17:56:56.921Z"
   },
   {
    "duration": -20,
    "start_time": "2022-02-08T17:56:56.922Z"
   },
   {
    "duration": -27,
    "start_time": "2022-02-08T17:56:56.930Z"
   },
   {
    "duration": -30,
    "start_time": "2022-02-08T17:56:56.934Z"
   },
   {
    "duration": -29,
    "start_time": "2022-02-08T17:56:56.935Z"
   },
   {
    "duration": -30,
    "start_time": "2022-02-08T17:56:56.937Z"
   },
   {
    "duration": -29,
    "start_time": "2022-02-08T17:56:56.938Z"
   },
   {
    "duration": -29,
    "start_time": "2022-02-08T17:56:56.939Z"
   },
   {
    "duration": -31,
    "start_time": "2022-02-08T17:56:56.942Z"
   },
   {
    "duration": -31,
    "start_time": "2022-02-08T17:56:56.944Z"
   },
   {
    "duration": -30,
    "start_time": "2022-02-08T17:56:56.944Z"
   },
   {
    "duration": -31,
    "start_time": "2022-02-08T17:56:56.946Z"
   },
   {
    "duration": -31,
    "start_time": "2022-02-08T17:56:56.947Z"
   },
   {
    "duration": -31,
    "start_time": "2022-02-08T17:56:56.949Z"
   },
   {
    "duration": 88,
    "start_time": "2022-02-08T17:57:09.287Z"
   },
   {
    "duration": 21,
    "start_time": "2022-02-08T17:57:09.378Z"
   },
   {
    "duration": 309,
    "start_time": "2022-02-08T17:57:09.402Z"
   },
   {
    "duration": -68,
    "start_time": "2022-02-08T17:57:09.783Z"
   },
   {
    "duration": -72,
    "start_time": "2022-02-08T17:57:09.788Z"
   },
   {
    "duration": -73,
    "start_time": "2022-02-08T17:57:09.790Z"
   },
   {
    "duration": -73,
    "start_time": "2022-02-08T17:57:09.792Z"
   },
   {
    "duration": -73,
    "start_time": "2022-02-08T17:57:09.793Z"
   },
   {
    "duration": -73,
    "start_time": "2022-02-08T17:57:09.795Z"
   },
   {
    "duration": -72,
    "start_time": "2022-02-08T17:57:09.796Z"
   },
   {
    "duration": -73,
    "start_time": "2022-02-08T17:57:09.798Z"
   },
   {
    "duration": -72,
    "start_time": "2022-02-08T17:57:09.799Z"
   },
   {
    "duration": -73,
    "start_time": "2022-02-08T17:57:09.801Z"
   },
   {
    "duration": -74,
    "start_time": "2022-02-08T17:57:09.803Z"
   },
   {
    "duration": -73,
    "start_time": "2022-02-08T17:57:09.804Z"
   },
   {
    "duration": -73,
    "start_time": "2022-02-08T17:57:09.805Z"
   },
   {
    "duration": -74,
    "start_time": "2022-02-08T17:57:09.807Z"
   },
   {
    "duration": -73,
    "start_time": "2022-02-08T17:57:09.808Z"
   },
   {
    "duration": -73,
    "start_time": "2022-02-08T17:57:09.809Z"
   },
   {
    "duration": -73,
    "start_time": "2022-02-08T17:57:09.811Z"
   },
   {
    "duration": 20,
    "start_time": "2022-02-08T18:02:28.449Z"
   },
   {
    "duration": 297,
    "start_time": "2022-02-08T18:03:30.029Z"
   },
   {
    "duration": 6,
    "start_time": "2022-02-08T18:05:11.593Z"
   },
   {
    "duration": 20,
    "start_time": "2022-02-08T18:05:21.557Z"
   },
   {
    "duration": 24,
    "start_time": "2022-02-08T18:06:13.798Z"
   },
   {
    "duration": 47,
    "start_time": "2022-02-08T18:06:26.661Z"
   },
   {
    "duration": 271,
    "start_time": "2022-02-08T18:06:51.893Z"
   },
   {
    "duration": 331,
    "start_time": "2022-02-08T18:09:40.305Z"
   },
   {
    "duration": 12,
    "start_time": "2022-02-08T18:09:46.043Z"
   },
   {
    "duration": 107,
    "start_time": "2022-02-08T19:10:47.215Z"
   },
   {
    "duration": 88,
    "start_time": "2022-02-08T19:11:14.580Z"
   },
   {
    "duration": 346,
    "start_time": "2022-02-08T19:11:36.895Z"
   },
   {
    "duration": 123,
    "start_time": "2022-02-08T19:11:55.912Z"
   },
   {
    "duration": 129,
    "start_time": "2022-02-08T19:12:13.607Z"
   },
   {
    "duration": 84,
    "start_time": "2022-02-08T19:15:09.391Z"
   },
   {
    "duration": 19,
    "start_time": "2022-02-08T19:30:32.539Z"
   },
   {
    "duration": 135,
    "start_time": "2022-02-08T19:36:19.047Z"
   },
   {
    "duration": 63,
    "start_time": "2022-02-08T19:36:37.746Z"
   },
   {
    "duration": 5,
    "start_time": "2022-02-08T19:38:29.011Z"
   },
   {
    "duration": 84,
    "start_time": "2022-02-08T19:54:12.165Z"
   },
   {
    "duration": 35,
    "start_time": "2022-02-08T19:54:12.252Z"
   },
   {
    "duration": 13,
    "start_time": "2022-02-08T19:54:12.290Z"
   },
   {
    "duration": 29,
    "start_time": "2022-02-08T19:54:12.306Z"
   },
   {
    "duration": 37,
    "start_time": "2022-02-08T19:54:12.338Z"
   },
   {
    "duration": 5,
    "start_time": "2022-02-08T19:54:12.378Z"
   },
   {
    "duration": 18,
    "start_time": "2022-02-08T19:54:12.385Z"
   },
   {
    "duration": 20,
    "start_time": "2022-02-08T19:54:12.406Z"
   },
   {
    "duration": 104,
    "start_time": "2022-02-08T19:54:12.430Z"
   },
   {
    "duration": 99,
    "start_time": "2022-02-08T19:54:12.538Z"
   },
   {
    "duration": 34,
    "start_time": "2022-02-08T19:54:12.641Z"
   },
   {
    "duration": 10,
    "start_time": "2022-02-08T19:54:12.678Z"
   },
   {
    "duration": 5332,
    "start_time": "2022-02-08T19:54:12.692Z"
   },
   {
    "duration": 25,
    "start_time": "2022-02-08T19:54:18.026Z"
   },
   {
    "duration": 18,
    "start_time": "2022-02-08T19:54:18.070Z"
   },
   {
    "duration": 13,
    "start_time": "2022-02-08T19:54:18.090Z"
   },
   {
    "duration": 10,
    "start_time": "2022-02-08T19:54:18.106Z"
   },
   {
    "duration": 85,
    "start_time": "2022-02-08T19:54:18.118Z"
   },
   {
    "duration": 35,
    "start_time": "2022-02-08T19:54:18.205Z"
   },
   {
    "duration": 56,
    "start_time": "2022-02-08T19:54:18.243Z"
   },
   {
    "duration": 40,
    "start_time": "2022-02-08T19:54:18.301Z"
   },
   {
    "duration": 98,
    "start_time": "2022-02-08T19:57:26.352Z"
   },
   {
    "duration": 96,
    "start_time": "2022-02-08T19:57:48.059Z"
   },
   {
    "duration": 29,
    "start_time": "2022-02-08T19:57:48.157Z"
   },
   {
    "duration": 8,
    "start_time": "2022-02-08T19:57:48.189Z"
   },
   {
    "duration": 21,
    "start_time": "2022-02-08T19:57:48.201Z"
   },
   {
    "duration": 57,
    "start_time": "2022-02-08T19:57:48.224Z"
   },
   {
    "duration": 107,
    "start_time": "2022-02-08T19:57:48.283Z"
   },
   {
    "duration": 59,
    "start_time": "2022-02-08T19:57:48.334Z"
   },
   {
    "duration": 58,
    "start_time": "2022-02-08T19:57:48.336Z"
   },
   {
    "duration": 58,
    "start_time": "2022-02-08T19:57:48.338Z"
   },
   {
    "duration": 58,
    "start_time": "2022-02-08T19:57:48.339Z"
   },
   {
    "duration": 49,
    "start_time": "2022-02-08T19:57:48.350Z"
   },
   {
    "duration": 48,
    "start_time": "2022-02-08T19:57:48.352Z"
   },
   {
    "duration": 39,
    "start_time": "2022-02-08T19:57:48.362Z"
   },
   {
    "duration": 40,
    "start_time": "2022-02-08T19:57:48.363Z"
   },
   {
    "duration": 40,
    "start_time": "2022-02-08T19:57:48.364Z"
   },
   {
    "duration": 41,
    "start_time": "2022-02-08T19:57:48.365Z"
   },
   {
    "duration": 41,
    "start_time": "2022-02-08T19:57:48.366Z"
   },
   {
    "duration": 41,
    "start_time": "2022-02-08T19:57:48.368Z"
   },
   {
    "duration": 38,
    "start_time": "2022-02-08T19:57:48.372Z"
   },
   {
    "duration": 38,
    "start_time": "2022-02-08T19:57:48.373Z"
   },
   {
    "duration": 34,
    "start_time": "2022-02-08T19:57:48.379Z"
   },
   {
    "duration": 27,
    "start_time": "2022-02-08T19:58:06.170Z"
   },
   {
    "duration": 42,
    "start_time": "2022-02-08T19:58:16.669Z"
   },
   {
    "duration": 315,
    "start_time": "2022-02-08T20:11:28.634Z"
   },
   {
    "duration": 100,
    "start_time": "2022-02-08T20:11:32.073Z"
   },
   {
    "duration": 21,
    "start_time": "2022-02-08T20:11:32.175Z"
   },
   {
    "duration": 19,
    "start_time": "2022-02-08T20:11:32.199Z"
   },
   {
    "duration": 331,
    "start_time": "2022-02-08T20:11:32.221Z"
   },
   {
    "duration": 21,
    "start_time": "2022-02-08T20:11:32.534Z"
   },
   {
    "duration": 19,
    "start_time": "2022-02-08T20:11:32.537Z"
   },
   {
    "duration": 19,
    "start_time": "2022-02-08T20:11:32.538Z"
   },
   {
    "duration": 19,
    "start_time": "2022-02-08T20:11:32.540Z"
   },
   {
    "duration": 19,
    "start_time": "2022-02-08T20:11:32.541Z"
   },
   {
    "duration": 18,
    "start_time": "2022-02-08T20:11:32.543Z"
   },
   {
    "duration": 19,
    "start_time": "2022-02-08T20:11:32.544Z"
   },
   {
    "duration": 18,
    "start_time": "2022-02-08T20:11:32.546Z"
   },
   {
    "duration": 17,
    "start_time": "2022-02-08T20:11:32.548Z"
   },
   {
    "duration": 17,
    "start_time": "2022-02-08T20:11:32.549Z"
   },
   {
    "duration": 16,
    "start_time": "2022-02-08T20:11:32.551Z"
   },
   {
    "duration": 17,
    "start_time": "2022-02-08T20:11:32.552Z"
   },
   {
    "duration": 13,
    "start_time": "2022-02-08T20:11:32.557Z"
   },
   {
    "duration": 13,
    "start_time": "2022-02-08T20:11:32.559Z"
   },
   {
    "duration": 13,
    "start_time": "2022-02-08T20:11:32.560Z"
   },
   {
    "duration": 10,
    "start_time": "2022-02-08T20:11:32.564Z"
   },
   {
    "duration": 11,
    "start_time": "2022-02-08T20:11:32.565Z"
   },
   {
    "duration": 357,
    "start_time": "2022-02-08T20:11:53.589Z"
   },
   {
    "duration": 20,
    "start_time": "2022-02-08T20:12:04.389Z"
   },
   {
    "duration": 56,
    "start_time": "2022-02-08T20:12:49.343Z"
   },
   {
    "duration": 19,
    "start_time": "2022-02-08T20:13:03.238Z"
   },
   {
    "duration": 25,
    "start_time": "2022-02-08T20:13:46.550Z"
   },
   {
    "duration": 55,
    "start_time": "2022-02-08T20:37:54.441Z"
   },
   {
    "duration": 55,
    "start_time": "2022-02-08T20:39:43.381Z"
   },
   {
    "duration": 57,
    "start_time": "2022-02-08T20:43:35.901Z"
   },
   {
    "duration": 318,
    "start_time": "2022-02-08T20:43:56.833Z"
   },
   {
    "duration": 60,
    "start_time": "2022-02-08T20:44:10.277Z"
   },
   {
    "duration": 332,
    "start_time": "2022-02-08T20:44:27.821Z"
   },
   {
    "duration": 63,
    "start_time": "2022-02-08T20:44:36.309Z"
   },
   {
    "duration": 122,
    "start_time": "2022-02-08T20:45:37.693Z"
   },
   {
    "duration": 63,
    "start_time": "2022-02-08T20:45:55.793Z"
   },
   {
    "duration": 61,
    "start_time": "2022-02-08T20:46:12.977Z"
   },
   {
    "duration": 58,
    "start_time": "2022-02-08T20:48:35.042Z"
   },
   {
    "duration": 94,
    "start_time": "2022-02-08T20:51:54.517Z"
   },
   {
    "duration": 87,
    "start_time": "2022-02-08T20:52:16.977Z"
   },
   {
    "duration": 59,
    "start_time": "2022-02-08T20:53:37.328Z"
   },
   {
    "duration": 93,
    "start_time": "2022-02-08T21:11:57.629Z"
   },
   {
    "duration": 64,
    "start_time": "2022-02-08T21:12:05.201Z"
   },
   {
    "duration": 72,
    "start_time": "2022-02-08T21:15:33.513Z"
   },
   {
    "duration": 59,
    "start_time": "2022-02-08T21:20:46.585Z"
   },
   {
    "duration": 889,
    "start_time": "2022-02-08T21:22:01.377Z"
   },
   {
    "duration": 346,
    "start_time": "2022-02-08T21:25:04.113Z"
   },
   {
    "duration": 62,
    "start_time": "2022-02-08T21:25:28.489Z"
   },
   {
    "duration": 57,
    "start_time": "2022-02-08T21:26:05.569Z"
   },
   {
    "duration": 646,
    "start_time": "2022-02-09T05:23:45.655Z"
   },
   {
    "duration": 16,
    "start_time": "2022-02-09T05:23:46.304Z"
   },
   {
    "duration": 24,
    "start_time": "2022-02-09T05:23:46.322Z"
   },
   {
    "duration": 61,
    "start_time": "2022-02-09T05:23:46.348Z"
   },
   {
    "duration": 10,
    "start_time": "2022-02-09T05:23:46.412Z"
   },
   {
    "duration": 14,
    "start_time": "2022-02-09T05:23:46.423Z"
   },
   {
    "duration": 15,
    "start_time": "2022-02-09T05:23:46.439Z"
   },
   {
    "duration": 78,
    "start_time": "2022-02-09T05:23:46.457Z"
   },
   {
    "duration": 76,
    "start_time": "2022-02-09T05:23:46.538Z"
   },
   {
    "duration": 9,
    "start_time": "2022-02-09T05:23:46.616Z"
   },
   {
    "duration": 8,
    "start_time": "2022-02-09T05:23:46.627Z"
   },
   {
    "duration": 4453,
    "start_time": "2022-02-09T05:23:46.637Z"
   },
   {
    "duration": 33,
    "start_time": "2022-02-09T05:23:51.093Z"
   },
   {
    "duration": 14,
    "start_time": "2022-02-09T05:23:51.129Z"
   },
   {
    "duration": 16,
    "start_time": "2022-02-09T05:23:51.146Z"
   },
   {
    "duration": 12,
    "start_time": "2022-02-09T05:23:51.164Z"
   },
   {
    "duration": 68,
    "start_time": "2022-02-09T05:23:51.178Z"
   },
   {
    "duration": 31,
    "start_time": "2022-02-09T05:23:51.249Z"
   },
   {
    "duration": 30,
    "start_time": "2022-02-09T05:23:51.309Z"
   },
   {
    "duration": 36,
    "start_time": "2022-02-09T05:23:51.342Z"
   },
   {
    "duration": 10,
    "start_time": "2022-02-09T05:32:55.253Z"
   },
   {
    "duration": 73,
    "start_time": "2022-02-09T05:33:02.842Z"
   },
   {
    "duration": 17,
    "start_time": "2022-02-09T05:33:02.917Z"
   },
   {
    "duration": 31,
    "start_time": "2022-02-09T05:33:02.936Z"
   },
   {
    "duration": 55,
    "start_time": "2022-02-09T05:33:02.969Z"
   },
   {
    "duration": 10,
    "start_time": "2022-02-09T05:33:03.026Z"
   },
   {
    "duration": 17,
    "start_time": "2022-02-09T05:33:03.038Z"
   },
   {
    "duration": 15,
    "start_time": "2022-02-09T05:33:03.057Z"
   },
   {
    "duration": 75,
    "start_time": "2022-02-09T05:33:03.074Z"
   },
   {
    "duration": 75,
    "start_time": "2022-02-09T05:33:03.152Z"
   },
   {
    "duration": 9,
    "start_time": "2022-02-09T05:33:03.229Z"
   },
   {
    "duration": 10,
    "start_time": "2022-02-09T05:33:03.240Z"
   },
   {
    "duration": 4165,
    "start_time": "2022-02-09T05:33:03.252Z"
   },
   {
    "duration": 21,
    "start_time": "2022-02-09T05:33:07.420Z"
   },
   {
    "duration": 20,
    "start_time": "2022-02-09T05:33:07.443Z"
   },
   {
    "duration": 17,
    "start_time": "2022-02-09T05:33:07.465Z"
   },
   {
    "duration": 27,
    "start_time": "2022-02-09T05:33:07.484Z"
   },
   {
    "duration": 39,
    "start_time": "2022-02-09T05:33:07.512Z"
   },
   {
    "duration": 26,
    "start_time": "2022-02-09T05:33:07.553Z"
   },
   {
    "duration": 41,
    "start_time": "2022-02-09T05:33:07.581Z"
   },
   {
    "duration": 40,
    "start_time": "2022-02-09T05:33:07.624Z"
   },
   {
    "duration": 325,
    "start_time": "2022-02-09T17:07:32.375Z"
   },
   {
    "duration": 866,
    "start_time": "2022-02-09T17:07:37.203Z"
   },
   {
    "duration": 30,
    "start_time": "2022-02-09T17:07:38.072Z"
   },
   {
    "duration": 56,
    "start_time": "2022-02-09T17:07:38.105Z"
   },
   {
    "duration": 333,
    "start_time": "2022-02-09T17:07:38.164Z"
   },
   {
    "duration": 34,
    "start_time": "2022-02-09T17:07:38.465Z"
   },
   {
    "duration": 34,
    "start_time": "2022-02-09T17:07:38.467Z"
   },
   {
    "duration": 33,
    "start_time": "2022-02-09T17:07:38.469Z"
   },
   {
    "duration": 32,
    "start_time": "2022-02-09T17:07:38.471Z"
   },
   {
    "duration": 32,
    "start_time": "2022-02-09T17:07:38.473Z"
   },
   {
    "duration": 31,
    "start_time": "2022-02-09T17:07:38.475Z"
   },
   {
    "duration": 31,
    "start_time": "2022-02-09T17:07:38.476Z"
   },
   {
    "duration": 30,
    "start_time": "2022-02-09T17:07:38.478Z"
   },
   {
    "duration": 26,
    "start_time": "2022-02-09T17:07:38.483Z"
   },
   {
    "duration": 26,
    "start_time": "2022-02-09T17:07:38.485Z"
   },
   {
    "duration": 25,
    "start_time": "2022-02-09T17:07:38.487Z"
   },
   {
    "duration": 26,
    "start_time": "2022-02-09T17:07:38.488Z"
   },
   {
    "duration": 26,
    "start_time": "2022-02-09T17:07:38.489Z"
   },
   {
    "duration": 26,
    "start_time": "2022-02-09T17:07:38.491Z"
   },
   {
    "duration": 26,
    "start_time": "2022-02-09T17:07:38.492Z"
   },
   {
    "duration": 27,
    "start_time": "2022-02-09T17:07:38.493Z"
   },
   {
    "duration": 300,
    "start_time": "2022-02-09T17:28:11.446Z"
   },
   {
    "duration": 76,
    "start_time": "2022-02-09T17:28:21.746Z"
   },
   {
    "duration": 62,
    "start_time": "2022-02-09T17:28:27.978Z"
   },
   {
    "duration": 84,
    "start_time": "2022-02-09T17:51:23.875Z"
   },
   {
    "duration": 76,
    "start_time": "2022-02-09T17:51:52.603Z"
   },
   {
    "duration": 85,
    "start_time": "2022-02-09T17:52:36.588Z"
   },
   {
    "duration": 21,
    "start_time": "2022-02-09T17:52:36.675Z"
   },
   {
    "duration": 62,
    "start_time": "2022-02-09T17:52:36.699Z"
   },
   {
    "duration": 99,
    "start_time": "2022-02-09T17:52:36.764Z"
   },
   {
    "duration": 12,
    "start_time": "2022-02-09T17:52:36.865Z"
   },
   {
    "duration": 17,
    "start_time": "2022-02-09T17:52:36.879Z"
   },
   {
    "duration": 48,
    "start_time": "2022-02-09T17:52:36.899Z"
   },
   {
    "duration": 83,
    "start_time": "2022-02-09T17:52:36.951Z"
   },
   {
    "duration": 96,
    "start_time": "2022-02-09T17:52:37.036Z"
   },
   {
    "duration": 13,
    "start_time": "2022-02-09T17:52:37.134Z"
   },
   {
    "duration": 8,
    "start_time": "2022-02-09T17:52:37.150Z"
   },
   {
    "duration": 6435,
    "start_time": "2022-02-09T17:52:37.160Z"
   },
   {
    "duration": 38,
    "start_time": "2022-02-09T17:52:43.601Z"
   },
   {
    "duration": 19,
    "start_time": "2022-02-09T17:52:43.642Z"
   },
   {
    "duration": 19,
    "start_time": "2022-02-09T17:52:43.664Z"
   },
   {
    "duration": 14,
    "start_time": "2022-02-09T17:52:43.686Z"
   },
   {
    "duration": 54,
    "start_time": "2022-02-09T17:52:43.733Z"
   },
   {
    "duration": 56,
    "start_time": "2022-02-09T17:52:43.790Z"
   },
   {
    "duration": 34,
    "start_time": "2022-02-09T17:52:43.849Z"
   },
   {
    "duration": 61,
    "start_time": "2022-02-09T17:52:43.886Z"
   },
   {
    "duration": 67,
    "start_time": "2022-02-09T17:55:38.895Z"
   },
   {
    "duration": 80,
    "start_time": "2022-02-09T17:56:50.398Z"
   },
   {
    "duration": 61,
    "start_time": "2022-02-09T17:58:14.594Z"
   },
   {
    "duration": 25,
    "start_time": "2022-02-09T17:59:24.298Z"
   },
   {
    "duration": 92,
    "start_time": "2022-02-09T17:59:32.655Z"
   },
   {
    "duration": 21,
    "start_time": "2022-02-09T17:59:32.749Z"
   },
   {
    "duration": 69,
    "start_time": "2022-02-09T17:59:32.773Z"
   },
   {
    "duration": 97,
    "start_time": "2022-02-09T17:59:32.846Z"
   },
   {
    "duration": 27,
    "start_time": "2022-02-09T17:59:32.946Z"
   },
   {
    "duration": 15,
    "start_time": "2022-02-09T17:59:32.976Z"
   },
   {
    "duration": 55,
    "start_time": "2022-02-09T17:59:32.994Z"
   },
   {
    "duration": 22,
    "start_time": "2022-02-09T17:59:33.054Z"
   },
   {
    "duration": 92,
    "start_time": "2022-02-09T17:59:33.079Z"
   },
   {
    "duration": 100,
    "start_time": "2022-02-09T17:59:33.174Z"
   },
   {
    "duration": 12,
    "start_time": "2022-02-09T17:59:33.277Z"
   },
   {
    "duration": 20,
    "start_time": "2022-02-09T17:59:33.291Z"
   },
   {
    "duration": 6652,
    "start_time": "2022-02-09T17:59:33.313Z"
   },
   {
    "duration": 29,
    "start_time": "2022-02-09T17:59:39.968Z"
   },
   {
    "duration": 44,
    "start_time": "2022-02-09T17:59:40.001Z"
   },
   {
    "duration": 15,
    "start_time": "2022-02-09T17:59:40.047Z"
   },
   {
    "duration": 22,
    "start_time": "2022-02-09T17:59:40.065Z"
   },
   {
    "duration": 65,
    "start_time": "2022-02-09T17:59:40.091Z"
   },
   {
    "duration": 36,
    "start_time": "2022-02-09T17:59:40.158Z"
   },
   {
    "duration": 61,
    "start_time": "2022-02-09T17:59:40.197Z"
   },
   {
    "duration": 36,
    "start_time": "2022-02-09T17:59:40.261Z"
   },
   {
    "duration": 94,
    "start_time": "2022-02-09T18:01:49.623Z"
   },
   {
    "duration": 64,
    "start_time": "2022-02-09T18:03:53.459Z"
   },
   {
    "duration": 101,
    "start_time": "2022-02-09T18:04:02.777Z"
   },
   {
    "duration": 22,
    "start_time": "2022-02-09T18:04:02.882Z"
   },
   {
    "duration": 56,
    "start_time": "2022-02-09T18:04:02.908Z"
   },
   {
    "duration": 80,
    "start_time": "2022-02-09T18:04:02.967Z"
   },
   {
    "duration": 26,
    "start_time": "2022-02-09T18:04:03.049Z"
   },
   {
    "duration": 12,
    "start_time": "2022-02-09T18:04:03.077Z"
   },
   {
    "duration": 55,
    "start_time": "2022-02-09T18:04:03.091Z"
   },
   {
    "duration": 19,
    "start_time": "2022-02-09T18:04:03.148Z"
   },
   {
    "duration": 95,
    "start_time": "2022-02-09T18:04:03.171Z"
   },
   {
    "duration": 88,
    "start_time": "2022-02-09T18:04:03.268Z"
   },
   {
    "duration": 13,
    "start_time": "2022-02-09T18:04:03.359Z"
   },
   {
    "duration": 10,
    "start_time": "2022-02-09T18:04:03.374Z"
   },
   {
    "duration": 7512,
    "start_time": "2022-02-09T18:04:03.386Z"
   },
   {
    "duration": 40,
    "start_time": "2022-02-09T18:04:10.902Z"
   },
   {
    "duration": 26,
    "start_time": "2022-02-09T18:04:10.946Z"
   },
   {
    "duration": 18,
    "start_time": "2022-02-09T18:04:10.975Z"
   },
   {
    "duration": 8,
    "start_time": "2022-02-09T18:04:10.996Z"
   },
   {
    "duration": 60,
    "start_time": "2022-02-09T18:04:11.034Z"
   },
   {
    "duration": 66,
    "start_time": "2022-02-09T18:04:11.097Z"
   },
   {
    "duration": 33,
    "start_time": "2022-02-09T18:04:11.166Z"
   },
   {
    "duration": 67,
    "start_time": "2022-02-09T18:04:11.202Z"
   },
   {
    "duration": 28,
    "start_time": "2022-02-09T18:08:22.002Z"
   },
   {
    "duration": 91,
    "start_time": "2022-02-09T18:08:29.262Z"
   },
   {
    "duration": 19,
    "start_time": "2022-02-09T18:08:29.356Z"
   },
   {
    "duration": 58,
    "start_time": "2022-02-09T18:08:29.378Z"
   },
   {
    "duration": 99,
    "start_time": "2022-02-09T18:08:29.440Z"
   },
   {
    "duration": 37,
    "start_time": "2022-02-09T18:08:29.542Z"
   },
   {
    "duration": 19,
    "start_time": "2022-02-09T18:08:29.582Z"
   },
   {
    "duration": 51,
    "start_time": "2022-02-09T18:08:29.604Z"
   },
   {
    "duration": 30,
    "start_time": "2022-02-09T18:08:29.661Z"
   },
   {
    "duration": 92,
    "start_time": "2022-02-09T18:08:29.694Z"
   },
   {
    "duration": 94,
    "start_time": "2022-02-09T18:08:29.788Z"
   },
   {
    "duration": 14,
    "start_time": "2022-02-09T18:08:29.885Z"
   },
   {
    "duration": 34,
    "start_time": "2022-02-09T18:08:29.902Z"
   },
   {
    "duration": 6221,
    "start_time": "2022-02-09T18:08:29.939Z"
   },
   {
    "duration": 31,
    "start_time": "2022-02-09T18:08:36.163Z"
   },
   {
    "duration": 37,
    "start_time": "2022-02-09T18:08:36.197Z"
   },
   {
    "duration": 14,
    "start_time": "2022-02-09T18:08:36.237Z"
   },
   {
    "duration": 16,
    "start_time": "2022-02-09T18:08:36.254Z"
   },
   {
    "duration": 86,
    "start_time": "2022-02-09T18:08:36.273Z"
   },
   {
    "duration": 70,
    "start_time": "2022-02-09T18:08:36.362Z"
   },
   {
    "duration": 47,
    "start_time": "2022-02-09T18:08:36.435Z"
   },
   {
    "duration": 69,
    "start_time": "2022-02-09T18:08:36.485Z"
   },
   {
    "duration": 196,
    "start_time": "2022-02-09T18:38:42.536Z"
   },
   {
    "duration": 20,
    "start_time": "2022-02-09T18:38:42.736Z"
   },
   {
    "duration": 89,
    "start_time": "2022-02-09T18:38:42.759Z"
   },
   {
    "duration": 122,
    "start_time": "2022-02-09T18:38:42.850Z"
   },
   {
    "duration": 89,
    "start_time": "2022-02-09T18:38:42.975Z"
   },
   {
    "duration": 71,
    "start_time": "2022-02-09T18:38:43.067Z"
   },
   {
    "duration": 18,
    "start_time": "2022-02-09T18:38:43.141Z"
   },
   {
    "duration": 20,
    "start_time": "2022-02-09T18:38:43.162Z"
   },
   {
    "duration": 90,
    "start_time": "2022-02-09T18:38:43.184Z"
   },
   {
    "duration": 96,
    "start_time": "2022-02-09T18:38:43.277Z"
   },
   {
    "duration": 13,
    "start_time": "2022-02-09T18:38:43.376Z"
   },
   {
    "duration": 9,
    "start_time": "2022-02-09T18:38:43.392Z"
   },
   {
    "duration": 4825,
    "start_time": "2022-02-09T18:38:43.432Z"
   },
   {
    "duration": 28,
    "start_time": "2022-02-09T18:38:48.260Z"
   },
   {
    "duration": 16,
    "start_time": "2022-02-09T18:38:48.290Z"
   },
   {
    "duration": 17,
    "start_time": "2022-02-09T18:38:48.332Z"
   },
   {
    "duration": 8,
    "start_time": "2022-02-09T18:38:48.351Z"
   },
   {
    "duration": 45,
    "start_time": "2022-02-09T18:38:48.361Z"
   },
   {
    "duration": 54,
    "start_time": "2022-02-09T18:38:48.408Z"
   },
   {
    "duration": 33,
    "start_time": "2022-02-09T18:38:48.464Z"
   },
   {
    "duration": 62,
    "start_time": "2022-02-09T18:38:48.499Z"
   },
   {
    "duration": 109,
    "start_time": "2022-02-09T18:39:40.528Z"
   },
   {
    "duration": 25,
    "start_time": "2022-02-09T18:39:40.639Z"
   },
   {
    "duration": 33,
    "start_time": "2022-02-09T18:39:40.668Z"
   },
   {
    "duration": 151,
    "start_time": "2022-02-09T18:39:40.704Z"
   },
   {
    "duration": 91,
    "start_time": "2022-02-09T18:39:40.858Z"
   },
   {
    "duration": 14,
    "start_time": "2022-02-09T18:39:40.952Z"
   },
   {
    "duration": 82,
    "start_time": "2022-02-09T18:39:40.969Z"
   },
   {
    "duration": 30,
    "start_time": "2022-02-09T18:39:41.054Z"
   },
   {
    "duration": 129,
    "start_time": "2022-02-09T18:39:41.133Z"
   },
   {
    "duration": 185,
    "start_time": "2022-02-09T18:39:41.265Z"
   },
   {
    "duration": 12,
    "start_time": "2022-02-09T18:39:41.452Z"
   },
   {
    "duration": 69,
    "start_time": "2022-02-09T18:39:41.467Z"
   },
   {
    "duration": 5316,
    "start_time": "2022-02-09T18:39:41.538Z"
   },
   {
    "duration": 25,
    "start_time": "2022-02-09T18:39:46.857Z"
   },
   {
    "duration": 18,
    "start_time": "2022-02-09T18:39:46.885Z"
   },
   {
    "duration": 49,
    "start_time": "2022-02-09T18:39:46.905Z"
   },
   {
    "duration": 11,
    "start_time": "2022-02-09T18:39:46.956Z"
   },
   {
    "duration": 44,
    "start_time": "2022-02-09T18:39:46.969Z"
   },
   {
    "duration": 54,
    "start_time": "2022-02-09T18:39:47.016Z"
   },
   {
    "duration": 62,
    "start_time": "2022-02-09T18:39:47.073Z"
   },
   {
    "duration": 35,
    "start_time": "2022-02-09T18:39:47.140Z"
   },
   {
    "duration": 22,
    "start_time": "2022-02-09T18:44:16.594Z"
   },
   {
    "duration": 7,
    "start_time": "2022-02-09T18:44:16.610Z"
   },
   {
    "duration": 6,
    "start_time": "2022-02-09T18:44:16.613Z"
   },
   {
    "duration": 6,
    "start_time": "2022-02-09T18:44:16.615Z"
   },
   {
    "duration": 6,
    "start_time": "2022-02-09T18:44:16.617Z"
   },
   {
    "duration": 6,
    "start_time": "2022-02-09T18:44:16.619Z"
   },
   {
    "duration": 6,
    "start_time": "2022-02-09T18:44:16.621Z"
   },
   {
    "duration": 5,
    "start_time": "2022-02-09T18:44:16.623Z"
   },
   {
    "duration": 5,
    "start_time": "2022-02-09T18:44:16.625Z"
   },
   {
    "duration": 5,
    "start_time": "2022-02-09T18:44:16.626Z"
   },
   {
    "duration": 5,
    "start_time": "2022-02-09T18:44:16.628Z"
   },
   {
    "duration": 6,
    "start_time": "2022-02-09T18:44:16.629Z"
   },
   {
    "duration": 5,
    "start_time": "2022-02-09T18:44:16.631Z"
   },
   {
    "duration": 5,
    "start_time": "2022-02-09T18:44:16.632Z"
   },
   {
    "duration": 5,
    "start_time": "2022-02-09T18:44:16.634Z"
   },
   {
    "duration": 2,
    "start_time": "2022-02-09T18:44:16.639Z"
   },
   {
    "duration": 1,
    "start_time": "2022-02-09T18:44:16.641Z"
   },
   {
    "duration": 1,
    "start_time": "2022-02-09T18:44:16.642Z"
   },
   {
    "duration": 2,
    "start_time": "2022-02-09T18:44:16.643Z"
   },
   {
    "duration": 1,
    "start_time": "2022-02-09T18:44:16.645Z"
   },
   {
    "duration": 2,
    "start_time": "2022-02-09T18:44:16.646Z"
   },
   {
    "duration": 23,
    "start_time": "2022-02-09T18:44:41.050Z"
   },
   {
    "duration": 99,
    "start_time": "2022-02-09T18:44:47.977Z"
   },
   {
    "duration": 20,
    "start_time": "2022-02-09T18:44:48.078Z"
   },
   {
    "duration": 54,
    "start_time": "2022-02-09T18:44:48.101Z"
   },
   {
    "duration": 53,
    "start_time": "2022-02-09T18:44:48.157Z"
   },
   {
    "duration": 26,
    "start_time": "2022-02-09T18:44:48.233Z"
   },
   {
    "duration": 11,
    "start_time": "2022-02-09T18:44:48.262Z"
   },
   {
    "duration": 17,
    "start_time": "2022-02-09T18:44:48.276Z"
   },
   {
    "duration": 53,
    "start_time": "2022-02-09T18:44:48.295Z"
   },
   {
    "duration": 61,
    "start_time": "2022-02-09T18:44:48.352Z"
   },
   {
    "duration": 69,
    "start_time": "2022-02-09T18:44:48.432Z"
   },
   {
    "duration": 32,
    "start_time": "2022-02-09T18:44:48.503Z"
   },
   {
    "duration": 8,
    "start_time": "2022-02-09T18:44:48.538Z"
   },
   {
    "duration": 5570,
    "start_time": "2022-02-09T18:44:48.548Z"
   },
   {
    "duration": 0,
    "start_time": "2022-02-09T18:44:54.121Z"
   },
   {
    "duration": 0,
    "start_time": "2022-02-09T18:44:54.122Z"
   },
   {
    "duration": -4,
    "start_time": "2022-02-09T18:44:54.128Z"
   },
   {
    "duration": -4,
    "start_time": "2022-02-09T18:44:54.130Z"
   },
   {
    "duration": -4,
    "start_time": "2022-02-09T18:44:54.131Z"
   },
   {
    "duration": -4,
    "start_time": "2022-02-09T18:44:54.133Z"
   },
   {
    "duration": -4,
    "start_time": "2022-02-09T18:44:54.134Z"
   },
   {
    "duration": -3,
    "start_time": "2022-02-09T18:44:54.135Z"
   },
   {
    "duration": 4872,
    "start_time": "2022-02-09T18:45:03.589Z"
   },
   {
    "duration": 113,
    "start_time": "2022-02-09T18:46:44.075Z"
   },
   {
    "duration": 52,
    "start_time": "2022-02-09T18:46:44.192Z"
   },
   {
    "duration": 38,
    "start_time": "2022-02-09T18:46:44.247Z"
   },
   {
    "duration": 87,
    "start_time": "2022-02-09T18:46:44.288Z"
   },
   {
    "duration": 34,
    "start_time": "2022-02-09T18:46:44.377Z"
   },
   {
    "duration": 32,
    "start_time": "2022-02-09T18:46:44.413Z"
   },
   {
    "duration": 20,
    "start_time": "2022-02-09T18:46:44.449Z"
   },
   {
    "duration": 25,
    "start_time": "2022-02-09T18:46:44.472Z"
   },
   {
    "duration": 95,
    "start_time": "2022-02-09T18:46:44.500Z"
   },
   {
    "duration": 96,
    "start_time": "2022-02-09T18:46:44.597Z"
   },
   {
    "duration": 37,
    "start_time": "2022-02-09T18:46:44.696Z"
   },
   {
    "duration": 12,
    "start_time": "2022-02-09T18:46:44.736Z"
   },
   {
    "duration": 6101,
    "start_time": "2022-02-09T18:46:44.750Z"
   },
   {
    "duration": 26,
    "start_time": "2022-02-09T18:46:50.854Z"
   },
   {
    "duration": 18,
    "start_time": "2022-02-09T18:46:50.883Z"
   },
   {
    "duration": 37,
    "start_time": "2022-02-09T18:46:50.904Z"
   },
   {
    "duration": 15,
    "start_time": "2022-02-09T18:46:50.944Z"
   },
   {
    "duration": 45,
    "start_time": "2022-02-09T18:46:50.961Z"
   },
   {
    "duration": 56,
    "start_time": "2022-02-09T18:46:51.008Z"
   },
   {
    "duration": 33,
    "start_time": "2022-02-09T18:46:51.067Z"
   },
   {
    "duration": 33,
    "start_time": "2022-02-09T18:46:51.133Z"
   },
   {
    "duration": 5899,
    "start_time": "2022-02-09T18:47:04.461Z"
   },
   {
    "duration": 966,
    "start_time": "2022-02-10T15:09:59.782Z"
   },
   {
    "duration": 29,
    "start_time": "2022-02-10T15:10:00.756Z"
   },
   {
    "duration": 80,
    "start_time": "2022-02-10T15:10:00.788Z"
   },
   {
    "duration": 55,
    "start_time": "2022-02-10T15:10:00.870Z"
   },
   {
    "duration": 45,
    "start_time": "2022-02-10T15:10:00.927Z"
   },
   {
    "duration": 14,
    "start_time": "2022-02-10T15:10:00.975Z"
   },
   {
    "duration": 21,
    "start_time": "2022-02-10T15:10:00.992Z"
   },
   {
    "duration": 52,
    "start_time": "2022-02-10T15:10:01.017Z"
   },
   {
    "duration": 89,
    "start_time": "2022-02-10T15:10:01.071Z"
   },
   {
    "duration": 68,
    "start_time": "2022-02-10T15:10:01.163Z"
   },
   {
    "duration": 12,
    "start_time": "2022-02-10T15:10:01.250Z"
   },
   {
    "duration": 29,
    "start_time": "2022-02-10T15:10:01.265Z"
   },
   {
    "duration": 5297,
    "start_time": "2022-02-10T15:10:01.297Z"
   },
   {
    "duration": 52,
    "start_time": "2022-02-10T15:10:06.598Z"
   },
   {
    "duration": 24,
    "start_time": "2022-02-10T15:10:06.654Z"
   },
   {
    "duration": 20,
    "start_time": "2022-02-10T15:10:06.681Z"
   },
   {
    "duration": 12,
    "start_time": "2022-02-10T15:10:06.704Z"
   },
   {
    "duration": 68,
    "start_time": "2022-02-10T15:10:06.749Z"
   },
   {
    "duration": 69,
    "start_time": "2022-02-10T15:10:06.820Z"
   },
   {
    "duration": 69,
    "start_time": "2022-02-10T15:10:06.892Z"
   },
   {
    "duration": 47,
    "start_time": "2022-02-10T15:10:06.965Z"
   },
   {
    "duration": 422,
    "start_time": "2022-02-10T15:24:03.082Z"
   },
   {
    "duration": 38,
    "start_time": "2022-02-10T15:24:06.871Z"
   },
   {
    "duration": 7,
    "start_time": "2022-02-10T15:24:17.418Z"
   },
   {
    "duration": 6,
    "start_time": "2022-02-10T15:24:22.623Z"
   },
   {
    "duration": 854,
    "start_time": "2022-02-10T15:34:39.756Z"
   },
   {
    "duration": 38,
    "start_time": "2022-02-10T15:34:40.613Z"
   },
   {
    "duration": 36,
    "start_time": "2022-02-10T15:34:40.654Z"
   },
   {
    "duration": 177,
    "start_time": "2022-02-10T15:34:40.694Z"
   },
   {
    "duration": 88,
    "start_time": "2022-02-10T15:34:40.879Z"
   },
   {
    "duration": 48,
    "start_time": "2022-02-10T15:34:40.981Z"
   },
   {
    "duration": 160,
    "start_time": "2022-02-10T15:34:41.039Z"
   },
   {
    "duration": 230,
    "start_time": "2022-02-10T15:34:41.212Z"
   },
   {
    "duration": 169,
    "start_time": "2022-02-10T15:34:41.453Z"
   },
   {
    "duration": 81,
    "start_time": "2022-02-10T15:34:41.625Z"
   },
   {
    "duration": 14,
    "start_time": "2022-02-10T15:34:41.709Z"
   },
   {
    "duration": 13,
    "start_time": "2022-02-10T15:34:41.750Z"
   },
   {
    "duration": 6082,
    "start_time": "2022-02-10T15:34:41.766Z"
   },
   {
    "duration": 27,
    "start_time": "2022-02-10T15:34:47.852Z"
   },
   {
    "duration": 29,
    "start_time": "2022-02-10T15:34:47.881Z"
   },
   {
    "duration": 46,
    "start_time": "2022-02-10T15:34:47.913Z"
   },
   {
    "duration": 27,
    "start_time": "2022-02-10T15:34:47.962Z"
   },
   {
    "duration": 103,
    "start_time": "2022-02-10T15:34:47.992Z"
   },
   {
    "duration": 57,
    "start_time": "2022-02-10T15:34:48.099Z"
   },
   {
    "duration": 47,
    "start_time": "2022-02-10T15:34:48.159Z"
   },
   {
    "duration": 76,
    "start_time": "2022-02-10T15:34:48.209Z"
   },
   {
    "duration": 1486,
    "start_time": "2022-02-10T15:36:17.365Z"
   },
   {
    "duration": 22,
    "start_time": "2022-02-10T15:36:18.854Z"
   },
   {
    "duration": 76,
    "start_time": "2022-02-10T15:36:18.879Z"
   },
   {
    "duration": 70,
    "start_time": "2022-02-10T15:36:18.958Z"
   },
   {
    "duration": 43,
    "start_time": "2022-02-10T15:36:19.031Z"
   },
   {
    "duration": 16,
    "start_time": "2022-02-10T15:36:19.078Z"
   },
   {
    "duration": 55,
    "start_time": "2022-02-10T15:36:19.096Z"
   },
   {
    "duration": 22,
    "start_time": "2022-02-10T15:36:19.153Z"
   },
   {
    "duration": 90,
    "start_time": "2022-02-10T15:36:19.181Z"
   },
   {
    "duration": 99,
    "start_time": "2022-02-10T15:36:19.274Z"
   },
   {
    "duration": 14,
    "start_time": "2022-02-10T15:36:19.375Z"
   },
   {
    "duration": 25,
    "start_time": "2022-02-10T15:36:19.392Z"
   },
   {
    "duration": 6006,
    "start_time": "2022-02-10T15:36:19.420Z"
   },
   {
    "duration": 39,
    "start_time": "2022-02-10T15:36:25.429Z"
   },
   {
    "duration": 19,
    "start_time": "2022-02-10T15:36:25.472Z"
   },
   {
    "duration": 12,
    "start_time": "2022-02-10T15:36:25.494Z"
   },
   {
    "duration": 47,
    "start_time": "2022-02-10T15:36:25.509Z"
   },
   {
    "duration": 51,
    "start_time": "2022-02-10T15:36:25.559Z"
   },
   {
    "duration": 56,
    "start_time": "2022-02-10T15:36:25.613Z"
   },
   {
    "duration": 36,
    "start_time": "2022-02-10T15:36:25.672Z"
   },
   {
    "duration": 66,
    "start_time": "2022-02-10T15:36:25.711Z"
   },
   {
    "duration": 802,
    "start_time": "2022-02-13T17:36:33.580Z"
   },
   {
    "duration": 29,
    "start_time": "2022-02-13T17:36:34.386Z"
   },
   {
    "duration": 36,
    "start_time": "2022-02-13T17:36:34.433Z"
   },
   {
    "duration": 76,
    "start_time": "2022-02-13T17:36:34.472Z"
   },
   {
    "duration": 325,
    "start_time": "2022-02-13T17:36:34.550Z"
   },
   {
    "duration": 17,
    "start_time": "2022-02-13T17:36:34.862Z"
   },
   {
    "duration": 17,
    "start_time": "2022-02-13T17:36:34.864Z"
   },
   {
    "duration": 17,
    "start_time": "2022-02-13T17:36:34.866Z"
   },
   {
    "duration": 16,
    "start_time": "2022-02-13T17:36:34.869Z"
   },
   {
    "duration": 13,
    "start_time": "2022-02-13T17:36:34.874Z"
   },
   {
    "duration": 14,
    "start_time": "2022-02-13T17:36:34.876Z"
   },
   {
    "duration": 14,
    "start_time": "2022-02-13T17:36:34.878Z"
   },
   {
    "duration": 15,
    "start_time": "2022-02-13T17:36:34.879Z"
   },
   {
    "duration": 13,
    "start_time": "2022-02-13T17:36:34.883Z"
   },
   {
    "duration": 15,
    "start_time": "2022-02-13T17:36:34.884Z"
   },
   {
    "duration": 15,
    "start_time": "2022-02-13T17:36:34.886Z"
   },
   {
    "duration": 16,
    "start_time": "2022-02-13T17:36:34.887Z"
   },
   {
    "duration": 16,
    "start_time": "2022-02-13T17:36:34.889Z"
   },
   {
    "duration": 15,
    "start_time": "2022-02-13T17:36:34.892Z"
   },
   {
    "duration": 14,
    "start_time": "2022-02-13T17:36:34.896Z"
   },
   {
    "duration": 12,
    "start_time": "2022-02-13T17:36:34.900Z"
   },
   {
    "duration": 13,
    "start_time": "2022-02-13T17:36:34.901Z"
   },
   {
    "duration": 20,
    "start_time": "2022-02-13T17:37:06.320Z"
   },
   {
    "duration": 51,
    "start_time": "2022-04-04T18:01:27.147Z"
   },
   {
    "duration": 519,
    "start_time": "2022-04-04T18:01:30.632Z"
   },
   {
    "duration": 19,
    "start_time": "2022-04-04T18:01:31.154Z"
   },
   {
    "duration": 45,
    "start_time": "2022-04-04T18:01:31.176Z"
   },
   {
    "duration": 46,
    "start_time": "2022-04-04T18:01:31.222Z"
   },
   {
    "duration": 14,
    "start_time": "2022-04-04T18:01:31.271Z"
   },
   {
    "duration": 45,
    "start_time": "2022-04-04T18:01:31.287Z"
   },
   {
    "duration": 12,
    "start_time": "2022-04-04T18:01:31.334Z"
   },
   {
    "duration": 32,
    "start_time": "2022-04-04T18:01:31.347Z"
   },
   {
    "duration": 26,
    "start_time": "2022-04-04T18:01:31.381Z"
   },
   {
    "duration": 52,
    "start_time": "2022-04-04T18:01:31.408Z"
   },
   {
    "duration": 43,
    "start_time": "2022-04-04T18:01:31.462Z"
   },
   {
    "duration": 27,
    "start_time": "2022-04-04T18:01:31.507Z"
   },
   {
    "duration": 8,
    "start_time": "2022-04-04T18:01:31.535Z"
   },
   {
    "duration": 5430,
    "start_time": "2022-04-04T18:01:31.546Z"
   },
   {
    "duration": 19,
    "start_time": "2022-04-04T18:01:36.978Z"
   },
   {
    "duration": 33,
    "start_time": "2022-04-04T18:01:36.999Z"
   },
   {
    "duration": 9,
    "start_time": "2022-04-04T18:01:37.034Z"
   },
   {
    "duration": 9,
    "start_time": "2022-04-04T18:01:37.045Z"
   },
   {
    "duration": 34,
    "start_time": "2022-04-04T18:01:37.056Z"
   },
   {
    "duration": 44,
    "start_time": "2022-04-04T18:01:37.092Z"
   },
   {
    "duration": 22,
    "start_time": "2022-04-04T18:01:37.138Z"
   },
   {
    "duration": 26,
    "start_time": "2022-04-04T18:01:37.161Z"
   },
   {
    "duration": 356,
    "start_time": "2023-01-03T13:32:49.627Z"
   },
   {
    "duration": 149,
    "start_time": "2023-01-03T13:32:54.048Z"
   },
   {
    "duration": 108,
    "start_time": "2023-01-03T13:46:18.092Z"
   },
   {
    "duration": 31,
    "start_time": "2023-01-03T13:46:34.452Z"
   },
   {
    "duration": 85,
    "start_time": "2023-01-03T14:43:57.591Z"
   },
   {
    "duration": 30,
    "start_time": "2023-01-03T14:52:27.136Z"
   },
   {
    "duration": 24,
    "start_time": "2023-01-03T15:08:56.551Z"
   },
   {
    "duration": 36,
    "start_time": "2023-01-03T15:09:05.707Z"
   },
   {
    "duration": 5,
    "start_time": "2023-01-03T15:09:17.338Z"
   },
   {
    "duration": 5,
    "start_time": "2023-01-03T15:09:38.837Z"
   },
   {
    "duration": 11,
    "start_time": "2023-01-03T15:21:16.581Z"
   },
   {
    "duration": 20,
    "start_time": "2023-01-03T15:21:57.609Z"
   },
   {
    "duration": 61,
    "start_time": "2023-01-03T15:46:02.111Z"
   },
   {
    "duration": 8,
    "start_time": "2023-01-03T15:47:12.249Z"
   },
   {
    "duration": 8,
    "start_time": "2023-01-03T15:48:12.432Z"
   },
   {
    "duration": 13,
    "start_time": "2023-01-03T16:03:59.471Z"
   },
   {
    "duration": 22,
    "start_time": "2023-01-03T16:04:37.116Z"
   },
   {
    "duration": 12,
    "start_time": "2023-01-03T16:07:54.906Z"
   },
   {
    "duration": 4,
    "start_time": "2023-01-03T16:08:09.026Z"
   },
   {
    "duration": 4,
    "start_time": "2023-01-03T16:08:21.859Z"
   },
   {
    "duration": 5,
    "start_time": "2023-01-03T16:10:01.456Z"
   },
   {
    "duration": 6,
    "start_time": "2023-01-03T16:13:03.512Z"
   },
   {
    "duration": 1117,
    "start_time": "2023-01-03T16:13:23.879Z"
   },
   {
    "duration": 12,
    "start_time": "2023-01-03T16:13:34.287Z"
   },
   {
    "duration": 9,
    "start_time": "2023-01-03T16:14:25.715Z"
   },
   {
    "duration": 17,
    "start_time": "2023-01-03T16:14:37.303Z"
   },
   {
    "duration": 7,
    "start_time": "2023-01-03T16:14:58.513Z"
   },
   {
    "duration": 7,
    "start_time": "2023-01-03T16:25:24.938Z"
   },
   {
    "duration": 57,
    "start_time": "2023-01-04T13:09:01.519Z"
   },
   {
    "duration": 399,
    "start_time": "2023-01-04T13:09:11.100Z"
   },
   {
    "duration": 342,
    "start_time": "2023-01-04T13:09:11.671Z"
   },
   {
    "duration": 5,
    "start_time": "2023-01-04T13:09:12.879Z"
   },
   {
    "duration": 39,
    "start_time": "2023-01-04T13:09:13.323Z"
   },
   {
    "duration": 10,
    "start_time": "2023-01-04T13:09:14.812Z"
   },
   {
    "duration": 22,
    "start_time": "2023-01-04T13:09:15.051Z"
   },
   {
    "duration": 23,
    "start_time": "2023-01-04T13:09:15.551Z"
   },
   {
    "duration": 8,
    "start_time": "2023-01-04T13:09:15.859Z"
   },
   {
    "duration": 46,
    "start_time": "2023-01-04T13:09:18.514Z"
   },
   {
    "duration": 10,
    "start_time": "2023-01-04T13:09:48.051Z"
   },
   {
    "duration": 8,
    "start_time": "2023-01-04T13:10:22.239Z"
   },
   {
    "duration": 418,
    "start_time": "2023-01-04T13:15:59.001Z"
   },
   {
    "duration": 106,
    "start_time": "2023-01-04T13:15:59.421Z"
   },
   {
    "duration": 6,
    "start_time": "2023-01-04T13:15:59.529Z"
   },
   {
    "duration": 43,
    "start_time": "2023-01-04T13:15:59.538Z"
   },
   {
    "duration": 30,
    "start_time": "2023-01-04T13:15:59.583Z"
   },
   {
    "duration": 30,
    "start_time": "2023-01-04T13:15:59.615Z"
   },
   {
    "duration": 23,
    "start_time": "2023-01-04T13:15:59.647Z"
   },
   {
    "duration": 28,
    "start_time": "2023-01-04T13:15:59.671Z"
   },
   {
    "duration": 48,
    "start_time": "2023-01-04T13:15:59.701Z"
   },
   {
    "duration": 21,
    "start_time": "2023-01-04T13:15:59.752Z"
   },
   {
    "duration": 40,
    "start_time": "2023-01-04T13:15:59.775Z"
   },
   {
    "duration": 29,
    "start_time": "2023-01-04T13:15:59.817Z"
   },
   {
    "duration": 20,
    "start_time": "2023-01-04T13:15:59.848Z"
   },
   {
    "duration": 21,
    "start_time": "2023-01-04T13:15:59.870Z"
   },
   {
    "duration": 57,
    "start_time": "2023-01-04T13:15:59.892Z"
   },
   {
    "duration": 42,
    "start_time": "2023-01-04T13:15:59.950Z"
   },
   {
    "duration": 13,
    "start_time": "2023-01-04T13:15:59.993Z"
   },
   {
    "duration": 19,
    "start_time": "2023-01-04T13:16:00.007Z"
   },
   {
    "duration": 4131,
    "start_time": "2023-01-04T13:16:00.027Z"
   },
   {
    "duration": 19,
    "start_time": "2023-01-04T13:16:04.160Z"
   },
   {
    "duration": 35,
    "start_time": "2023-01-04T13:16:04.236Z"
   },
   {
    "duration": 18,
    "start_time": "2023-01-04T13:16:04.274Z"
   },
   {
    "duration": 10,
    "start_time": "2023-01-04T13:16:04.336Z"
   },
   {
    "duration": 91,
    "start_time": "2023-01-04T13:16:04.347Z"
   },
   {
    "duration": 25,
    "start_time": "2023-01-04T13:16:04.440Z"
   },
   {
    "duration": 82,
    "start_time": "2023-01-04T13:16:04.467Z"
   },
   {
    "duration": 88,
    "start_time": "2023-01-04T13:16:04.552Z"
   },
   {
    "duration": 32,
    "start_time": "2023-01-04T13:41:41.040Z"
   },
   {
    "duration": 7,
    "start_time": "2023-01-04T13:42:44.900Z"
   },
   {
    "duration": 14,
    "start_time": "2023-01-04T13:42:58.603Z"
   },
   {
    "duration": 15,
    "start_time": "2023-01-04T13:43:56.891Z"
   },
   {
    "duration": 15,
    "start_time": "2023-01-04T13:45:40.172Z"
   },
   {
    "duration": 413,
    "start_time": "2023-01-04T13:47:36.553Z"
   },
   {
    "duration": 114,
    "start_time": "2023-01-04T13:47:36.968Z"
   },
   {
    "duration": 6,
    "start_time": "2023-01-04T13:47:37.084Z"
   },
   {
    "duration": 50,
    "start_time": "2023-01-04T13:47:37.092Z"
   },
   {
    "duration": 11,
    "start_time": "2023-01-04T13:47:37.145Z"
   },
   {
    "duration": 34,
    "start_time": "2023-01-04T13:47:37.158Z"
   },
   {
    "duration": 21,
    "start_time": "2023-01-04T13:47:37.194Z"
   },
   {
    "duration": 47,
    "start_time": "2023-01-04T13:47:37.217Z"
   },
   {
    "duration": 33,
    "start_time": "2023-01-04T13:47:37.266Z"
   },
   {
    "duration": 13,
    "start_time": "2023-01-04T13:47:37.301Z"
   },
   {
    "duration": 34,
    "start_time": "2023-01-04T13:47:37.335Z"
   },
   {
    "duration": 15,
    "start_time": "2023-01-04T13:47:37.371Z"
   },
   {
    "duration": 41,
    "start_time": "2023-01-04T13:47:37.388Z"
   },
   {
    "duration": 25,
    "start_time": "2023-01-04T13:47:37.432Z"
   },
   {
    "duration": 45,
    "start_time": "2023-01-04T13:47:37.459Z"
   },
   {
    "duration": 44,
    "start_time": "2023-01-04T13:47:37.506Z"
   },
   {
    "duration": 7,
    "start_time": "2023-01-04T13:47:37.552Z"
   },
   {
    "duration": 24,
    "start_time": "2023-01-04T13:47:37.560Z"
   },
   {
    "duration": 3600,
    "start_time": "2023-01-04T13:47:37.586Z"
   },
   {
    "duration": 18,
    "start_time": "2023-01-04T13:47:41.188Z"
   },
   {
    "duration": 28,
    "start_time": "2023-01-04T13:47:41.207Z"
   },
   {
    "duration": 11,
    "start_time": "2023-01-04T13:47:41.237Z"
   },
   {
    "duration": 16,
    "start_time": "2023-01-04T13:47:41.250Z"
   },
   {
    "duration": 42,
    "start_time": "2023-01-04T13:47:41.267Z"
   },
   {
    "duration": 38,
    "start_time": "2023-01-04T13:47:41.311Z"
   },
   {
    "duration": 20,
    "start_time": "2023-01-04T13:47:41.351Z"
   },
   {
    "duration": 23,
    "start_time": "2023-01-04T13:47:41.373Z"
   },
   {
    "duration": 22,
    "start_time": "2023-01-04T13:51:15.625Z"
   },
   {
    "duration": 26,
    "start_time": "2023-01-04T13:51:34.993Z"
   },
   {
    "duration": 47,
    "start_time": "2023-01-04T17:50:38.705Z"
   },
   {
    "duration": 374,
    "start_time": "2023-01-04T17:50:43.835Z"
   },
   {
    "duration": 321,
    "start_time": "2023-01-04T17:50:44.211Z"
   },
   {
    "duration": 6,
    "start_time": "2023-01-04T17:50:44.533Z"
   },
   {
    "duration": 47,
    "start_time": "2023-01-04T17:50:44.540Z"
   },
   {
    "duration": 10,
    "start_time": "2023-01-04T17:50:44.591Z"
   },
   {
    "duration": 35,
    "start_time": "2023-01-04T17:50:44.602Z"
   },
   {
    "duration": 21,
    "start_time": "2023-01-04T17:50:44.638Z"
   },
   {
    "duration": 45,
    "start_time": "2023-01-04T17:50:44.660Z"
   },
   {
    "duration": 20,
    "start_time": "2023-01-04T17:50:44.707Z"
   },
   {
    "duration": 52,
    "start_time": "2023-01-04T17:50:44.728Z"
   },
   {
    "duration": 13,
    "start_time": "2023-01-04T17:50:44.781Z"
   },
   {
    "duration": 42,
    "start_time": "2023-01-04T17:50:44.796Z"
   },
   {
    "duration": 9,
    "start_time": "2023-01-04T17:50:44.840Z"
   },
   {
    "duration": 34,
    "start_time": "2023-01-04T17:50:44.851Z"
   },
   {
    "duration": 15,
    "start_time": "2023-01-04T17:50:44.887Z"
   },
   {
    "duration": 52,
    "start_time": "2023-01-04T17:50:44.904Z"
   },
   {
    "duration": 39,
    "start_time": "2023-01-04T17:50:44.957Z"
   },
   {
    "duration": 8,
    "start_time": "2023-01-04T17:50:44.998Z"
   },
   {
    "duration": 24,
    "start_time": "2023-01-04T17:50:45.007Z"
   },
   {
    "duration": 3821,
    "start_time": "2023-01-04T17:50:45.033Z"
   },
   {
    "duration": 32,
    "start_time": "2023-01-04T17:50:48.856Z"
   },
   {
    "duration": 15,
    "start_time": "2023-01-04T17:50:48.890Z"
   },
   {
    "duration": 8,
    "start_time": "2023-01-04T17:50:48.906Z"
   },
   {
    "duration": 5,
    "start_time": "2023-01-04T17:50:48.916Z"
   },
   {
    "duration": 58,
    "start_time": "2023-01-04T17:50:48.923Z"
   },
   {
    "duration": 25,
    "start_time": "2023-01-04T17:50:48.983Z"
   },
   {
    "duration": 23,
    "start_time": "2023-01-04T17:50:49.010Z"
   },
   {
    "duration": 57,
    "start_time": "2023-01-04T17:50:49.034Z"
   },
   {
    "duration": 4,
    "start_time": "2023-01-04T18:46:57.720Z"
   },
   {
    "duration": 32,
    "start_time": "2023-01-04T18:46:59.661Z"
   },
   {
    "duration": 26,
    "start_time": "2023-01-04T18:54:41.275Z"
   },
   {
    "duration": 9,
    "start_time": "2023-01-04T18:54:58.203Z"
   },
   {
    "duration": 17,
    "start_time": "2023-01-04T18:55:02.498Z"
   },
   {
    "duration": 65,
    "start_time": "2023-01-05T17:34:28.626Z"
   },
   {
    "duration": 443,
    "start_time": "2023-01-05T17:34:36.114Z"
   },
   {
    "duration": 324,
    "start_time": "2023-01-05T17:34:36.559Z"
   },
   {
    "duration": 5,
    "start_time": "2023-01-05T17:34:36.885Z"
   },
   {
    "duration": 45,
    "start_time": "2023-01-05T17:34:36.893Z"
   },
   {
    "duration": 12,
    "start_time": "2023-01-05T17:34:36.941Z"
   },
   {
    "duration": 27,
    "start_time": "2023-01-05T17:34:36.955Z"
   },
   {
    "duration": 48,
    "start_time": "2023-01-05T17:34:36.984Z"
   },
   {
    "duration": 4,
    "start_time": "2023-01-05T17:34:37.034Z"
   },
   {
    "duration": 47,
    "start_time": "2023-01-05T17:34:37.041Z"
   },
   {
    "duration": 23,
    "start_time": "2023-01-05T17:34:37.092Z"
   },
   {
    "duration": 27,
    "start_time": "2023-01-05T17:34:37.117Z"
   },
   {
    "duration": 9,
    "start_time": "2023-01-05T17:34:37.146Z"
   },
   {
    "duration": 771,
    "start_time": "2023-01-05T17:34:37.157Z"
   },
   {
    "duration": 0,
    "start_time": "2023-01-05T17:34:37.930Z"
   },
   {
    "duration": 0,
    "start_time": "2023-01-05T17:34:37.932Z"
   },
   {
    "duration": 0,
    "start_time": "2023-01-05T17:34:37.933Z"
   },
   {
    "duration": 0,
    "start_time": "2023-01-05T17:34:37.935Z"
   },
   {
    "duration": 0,
    "start_time": "2023-01-05T17:34:37.936Z"
   },
   {
    "duration": 0,
    "start_time": "2023-01-05T17:34:37.937Z"
   },
   {
    "duration": 0,
    "start_time": "2023-01-05T17:34:37.939Z"
   },
   {
    "duration": 0,
    "start_time": "2023-01-05T17:34:37.941Z"
   },
   {
    "duration": 0,
    "start_time": "2023-01-05T17:34:37.942Z"
   },
   {
    "duration": 0,
    "start_time": "2023-01-05T17:34:37.944Z"
   },
   {
    "duration": 0,
    "start_time": "2023-01-05T17:34:37.945Z"
   },
   {
    "duration": 0,
    "start_time": "2023-01-05T17:34:37.947Z"
   },
   {
    "duration": 0,
    "start_time": "2023-01-05T17:34:37.948Z"
   },
   {
    "duration": 0,
    "start_time": "2023-01-05T17:34:37.950Z"
   },
   {
    "duration": 16,
    "start_time": "2023-01-05T17:55:11.860Z"
   },
   {
    "duration": 15,
    "start_time": "2023-01-05T17:59:41.070Z"
   },
   {
    "duration": 64,
    "start_time": "2023-01-05T18:03:08.446Z"
   },
   {
    "duration": 48,
    "start_time": "2023-01-05T18:07:06.558Z"
   },
   {
    "duration": 50,
    "start_time": "2023-01-05T18:08:25.331Z"
   },
   {
    "duration": 32,
    "start_time": "2023-01-05T18:08:36.354Z"
   },
   {
    "duration": 12,
    "start_time": "2023-01-05T18:10:43.160Z"
   },
   {
    "duration": 23,
    "start_time": "2023-01-05T18:10:54.313Z"
   },
   {
    "duration": 454,
    "start_time": "2023-01-05T18:12:39.700Z"
   },
   {
    "duration": 106,
    "start_time": "2023-01-05T18:12:40.156Z"
   },
   {
    "duration": 5,
    "start_time": "2023-01-05T18:12:40.264Z"
   },
   {
    "duration": 53,
    "start_time": "2023-01-05T18:12:40.271Z"
   },
   {
    "duration": 14,
    "start_time": "2023-01-05T18:12:40.327Z"
   },
   {
    "duration": 25,
    "start_time": "2023-01-05T18:12:40.343Z"
   },
   {
    "duration": 46,
    "start_time": "2023-01-05T18:12:40.369Z"
   },
   {
    "duration": 5,
    "start_time": "2023-01-05T18:12:40.416Z"
   },
   {
    "duration": 33,
    "start_time": "2023-01-05T18:12:40.422Z"
   },
   {
    "duration": 5,
    "start_time": "2023-01-05T18:12:40.457Z"
   },
   {
    "duration": 24,
    "start_time": "2023-01-05T18:12:40.464Z"
   },
   {
    "duration": 21,
    "start_time": "2023-01-05T18:12:40.513Z"
   },
   {
    "duration": 31,
    "start_time": "2023-01-05T18:12:40.536Z"
   },
   {
    "duration": 52,
    "start_time": "2023-01-05T18:12:40.570Z"
   },
   {
    "duration": 40,
    "start_time": "2023-01-05T18:12:40.624Z"
   },
   {
    "duration": 11,
    "start_time": "2023-01-05T18:12:40.666Z"
   },
   {
    "duration": 37,
    "start_time": "2023-01-05T18:12:40.679Z"
   },
   {
    "duration": 5005,
    "start_time": "2023-01-05T18:12:40.718Z"
   },
   {
    "duration": 16,
    "start_time": "2023-01-05T18:12:45.725Z"
   },
   {
    "duration": 11,
    "start_time": "2023-01-05T18:12:45.743Z"
   },
   {
    "duration": 14,
    "start_time": "2023-01-05T18:12:45.756Z"
   },
   {
    "duration": 5,
    "start_time": "2023-01-05T18:12:45.772Z"
   },
   {
    "duration": 67,
    "start_time": "2023-01-05T18:12:45.779Z"
   },
   {
    "duration": 21,
    "start_time": "2023-01-05T18:12:45.847Z"
   },
   {
    "duration": 20,
    "start_time": "2023-01-05T18:12:45.870Z"
   },
   {
    "duration": 22,
    "start_time": "2023-01-05T18:12:45.913Z"
   },
   {
    "duration": 8,
    "start_time": "2023-01-05T18:30:06.874Z"
   },
   {
    "duration": 518,
    "start_time": "2023-01-06T09:58:44.089Z"
   },
   {
    "duration": 530,
    "start_time": "2023-01-06T09:58:44.613Z"
   },
   {
    "duration": 11,
    "start_time": "2023-01-06T09:58:45.149Z"
   },
   {
    "duration": 63,
    "start_time": "2023-01-06T09:58:45.167Z"
   },
   {
    "duration": 30,
    "start_time": "2023-01-06T09:58:45.239Z"
   },
   {
    "duration": 207,
    "start_time": "2023-01-06T09:58:45.275Z"
   },
   {
    "duration": 102,
    "start_time": "2023-01-06T09:58:45.492Z"
   },
   {
    "duration": 105,
    "start_time": "2023-01-06T09:58:45.601Z"
   },
   {
    "duration": 65,
    "start_time": "2023-01-06T09:58:45.712Z"
   },
   {
    "duration": 42,
    "start_time": "2023-01-06T09:58:45.783Z"
   },
   {
    "duration": 160,
    "start_time": "2023-01-06T09:58:45.832Z"
   },
   {
    "duration": 102,
    "start_time": "2023-01-06T09:58:46.005Z"
   },
   {
    "duration": 115,
    "start_time": "2023-01-06T09:58:46.113Z"
   },
   {
    "duration": 108,
    "start_time": "2023-01-06T09:58:46.235Z"
   },
   {
    "duration": 84,
    "start_time": "2023-01-06T09:58:46.345Z"
   },
   {
    "duration": 19,
    "start_time": "2023-01-06T09:58:46.436Z"
   },
   {
    "duration": 27,
    "start_time": "2023-01-06T09:58:46.463Z"
   },
   {
    "duration": 49,
    "start_time": "2023-01-06T09:58:46.497Z"
   },
   {
    "duration": 140,
    "start_time": "2023-01-06T09:58:46.557Z"
   },
   {
    "duration": 7948,
    "start_time": "2023-01-06T09:58:46.702Z"
   },
   {
    "duration": 24,
    "start_time": "2023-01-06T09:58:54.657Z"
   },
   {
    "duration": 116,
    "start_time": "2023-01-06T09:58:54.683Z"
   },
   {
    "duration": 23,
    "start_time": "2023-01-06T09:58:54.803Z"
   },
   {
    "duration": 50,
    "start_time": "2023-01-06T09:58:54.828Z"
   },
   {
    "duration": 106,
    "start_time": "2023-01-06T09:58:54.880Z"
   },
   {
    "duration": 56,
    "start_time": "2023-01-06T09:58:54.988Z"
   },
   {
    "duration": 32,
    "start_time": "2023-01-06T09:58:55.046Z"
   },
   {
    "duration": 132,
    "start_time": "2023-01-06T09:58:55.080Z"
   },
   {
    "duration": 2205,
    "start_time": "2023-01-06T09:59:14.407Z"
   },
   {
    "duration": 20,
    "start_time": "2023-01-06T09:59:39.875Z"
   },
   {
    "duration": 2749,
    "start_time": "2023-01-06T09:59:53.398Z"
   },
   {
    "duration": 717,
    "start_time": "2023-01-06T10:00:25.514Z"
   },
   {
    "duration": 1735,
    "start_time": "2023-01-06T10:04:23.978Z"
   },
   {
    "duration": 1632,
    "start_time": "2023-01-06T10:04:58.790Z"
   },
   {
    "duration": 1101,
    "start_time": "2023-01-06T10:05:13.560Z"
   },
   {
    "duration": 17,
    "start_time": "2023-01-06T10:11:12.539Z"
   },
   {
    "duration": 18,
    "start_time": "2023-01-06T10:11:34.420Z"
   },
   {
    "duration": 11,
    "start_time": "2023-01-06T10:12:19.580Z"
   },
   {
    "duration": 89,
    "start_time": "2023-01-06T10:12:54.722Z"
   },
   {
    "duration": 65,
    "start_time": "2023-01-06T10:13:11.842Z"
   },
   {
    "duration": 30,
    "start_time": "2023-01-06T10:13:23.612Z"
   },
   {
    "duration": 14,
    "start_time": "2023-01-06T10:13:35.923Z"
   },
   {
    "duration": 4,
    "start_time": "2023-01-06T10:14:49.648Z"
   },
   {
    "duration": 10,
    "start_time": "2023-01-06T10:14:59.843Z"
   },
   {
    "duration": 5,
    "start_time": "2023-01-06T10:15:02.972Z"
   },
   {
    "duration": 11,
    "start_time": "2023-01-06T10:15:08.119Z"
   },
   {
    "duration": 112,
    "start_time": "2023-01-06T10:15:08.135Z"
   },
   {
    "duration": 6,
    "start_time": "2023-01-06T10:15:08.249Z"
   },
   {
    "duration": 75,
    "start_time": "2023-01-06T10:15:08.257Z"
   },
   {
    "duration": 13,
    "start_time": "2023-01-06T10:15:08.334Z"
   },
   {
    "duration": 26,
    "start_time": "2023-01-06T10:15:08.349Z"
   },
   {
    "duration": 20,
    "start_time": "2023-01-06T10:15:08.377Z"
   },
   {
    "duration": 28,
    "start_time": "2023-01-06T10:15:08.399Z"
   },
   {
    "duration": 35,
    "start_time": "2023-01-06T10:15:08.433Z"
   },
   {
    "duration": 5,
    "start_time": "2023-01-06T10:15:08.471Z"
   },
   {
    "duration": 35,
    "start_time": "2023-01-06T10:15:08.478Z"
   },
   {
    "duration": 28,
    "start_time": "2023-01-06T10:15:08.516Z"
   },
   {
    "duration": 37,
    "start_time": "2023-01-06T10:15:08.546Z"
   },
   {
    "duration": 21,
    "start_time": "2023-01-06T10:15:08.585Z"
   },
   {
    "duration": 71,
    "start_time": "2023-01-06T10:15:08.607Z"
   },
   {
    "duration": 7,
    "start_time": "2023-01-06T10:15:08.681Z"
   },
   {
    "duration": 10,
    "start_time": "2023-01-06T10:15:08.689Z"
   },
   {
    "duration": 31,
    "start_time": "2023-01-06T10:15:08.701Z"
   },
   {
    "duration": 22,
    "start_time": "2023-01-06T10:15:08.734Z"
   },
   {
    "duration": 5600,
    "start_time": "2023-01-06T10:15:08.758Z"
   },
   {
    "duration": 31,
    "start_time": "2023-01-06T10:15:14.360Z"
   },
   {
    "duration": 52,
    "start_time": "2023-01-06T10:15:14.393Z"
   },
   {
    "duration": 24,
    "start_time": "2023-01-06T10:15:14.453Z"
   },
   {
    "duration": 33,
    "start_time": "2023-01-06T10:15:14.480Z"
   },
   {
    "duration": 1427,
    "start_time": "2023-01-06T10:15:14.516Z"
   },
   {
    "duration": 0,
    "start_time": "2023-01-06T10:15:15.946Z"
   },
   {
    "duration": 0,
    "start_time": "2023-01-06T10:15:15.947Z"
   },
   {
    "duration": 0,
    "start_time": "2023-01-06T10:15:15.948Z"
   },
   {
    "duration": 7,
    "start_time": "2023-01-06T10:15:38.776Z"
   },
   {
    "duration": 6,
    "start_time": "2023-01-06T10:19:35.917Z"
   },
   {
    "duration": 11,
    "start_time": "2023-01-06T10:20:09.014Z"
   },
   {
    "duration": 5,
    "start_time": "2023-01-06T10:20:21.431Z"
   },
   {
    "duration": 120,
    "start_time": "2023-01-06T10:20:21.441Z"
   },
   {
    "duration": 5,
    "start_time": "2023-01-06T10:20:21.563Z"
   },
   {
    "duration": 55,
    "start_time": "2023-01-06T10:20:21.570Z"
   },
   {
    "duration": 16,
    "start_time": "2023-01-06T10:20:21.628Z"
   },
   {
    "duration": 32,
    "start_time": "2023-01-06T10:20:21.646Z"
   },
   {
    "duration": 26,
    "start_time": "2023-01-06T10:20:21.680Z"
   },
   {
    "duration": 9,
    "start_time": "2023-01-06T10:20:21.723Z"
   },
   {
    "duration": 41,
    "start_time": "2023-01-06T10:20:21.735Z"
   },
   {
    "duration": 4,
    "start_time": "2023-01-06T10:20:21.778Z"
   },
   {
    "duration": 21,
    "start_time": "2023-01-06T10:20:21.784Z"
   },
   {
    "duration": 30,
    "start_time": "2023-01-06T10:20:21.807Z"
   },
   {
    "duration": 42,
    "start_time": "2023-01-06T10:20:21.841Z"
   },
   {
    "duration": 32,
    "start_time": "2023-01-06T10:20:21.886Z"
   },
   {
    "duration": 67,
    "start_time": "2023-01-06T10:20:21.923Z"
   },
   {
    "duration": 6,
    "start_time": "2023-01-06T10:20:21.992Z"
   },
   {
    "duration": 14,
    "start_time": "2023-01-06T10:20:22.000Z"
   },
   {
    "duration": 35,
    "start_time": "2023-01-06T10:20:22.015Z"
   },
   {
    "duration": 13,
    "start_time": "2023-01-06T10:20:22.052Z"
   },
   {
    "duration": 10,
    "start_time": "2023-01-06T10:20:22.066Z"
   },
   {
    "duration": 5263,
    "start_time": "2023-01-06T10:20:22.078Z"
   },
   {
    "duration": 16,
    "start_time": "2023-01-06T10:20:27.343Z"
   },
   {
    "duration": 16,
    "start_time": "2023-01-06T10:20:27.361Z"
   },
   {
    "duration": 16,
    "start_time": "2023-01-06T10:20:27.379Z"
   },
   {
    "duration": 8,
    "start_time": "2023-01-06T10:20:27.397Z"
   },
   {
    "duration": 1338,
    "start_time": "2023-01-06T10:20:27.407Z"
   },
   {
    "duration": 0,
    "start_time": "2023-01-06T10:20:28.747Z"
   },
   {
    "duration": 0,
    "start_time": "2023-01-06T10:20:28.749Z"
   },
   {
    "duration": 0,
    "start_time": "2023-01-06T10:20:28.750Z"
   },
   {
    "duration": 7,
    "start_time": "2023-01-06T10:21:41.217Z"
   },
   {
    "duration": 7,
    "start_time": "2023-01-06T10:22:03.089Z"
   },
   {
    "duration": 8,
    "start_time": "2023-01-06T10:22:52.596Z"
   },
   {
    "duration": 6466,
    "start_time": "2023-01-06T10:23:31.897Z"
   },
   {
    "duration": 13,
    "start_time": "2023-01-06T10:23:41.168Z"
   },
   {
    "duration": 11,
    "start_time": "2023-01-06T10:24:38.379Z"
   },
   {
    "duration": 29,
    "start_time": "2023-01-06T10:25:26.424Z"
   },
   {
    "duration": 10,
    "start_time": "2023-01-06T10:25:46.493Z"
   },
   {
    "duration": 81,
    "start_time": "2023-01-06T10:26:02.513Z"
   },
   {
    "duration": 4,
    "start_time": "2023-01-06T10:26:22.587Z"
   },
   {
    "duration": 8,
    "start_time": "2023-01-06T10:26:31.454Z"
   },
   {
    "duration": 6,
    "start_time": "2023-01-06T10:26:41.404Z"
   },
   {
    "duration": 6,
    "start_time": "2023-01-06T10:28:06.470Z"
   },
   {
    "duration": 15,
    "start_time": "2023-01-06T10:28:14.641Z"
   },
   {
    "duration": 6,
    "start_time": "2023-01-06T10:28:24.089Z"
   },
   {
    "duration": 13,
    "start_time": "2023-01-06T10:28:31.593Z"
   },
   {
    "duration": 4,
    "start_time": "2023-01-06T10:28:37.994Z"
   },
   {
    "duration": 1264,
    "start_time": "2023-01-06T10:29:37.028Z"
   },
   {
    "duration": 35,
    "start_time": "2023-01-06T10:31:18.335Z"
   },
   {
    "duration": 5,
    "start_time": "2023-01-06T10:31:28.149Z"
   },
   {
    "duration": 1426,
    "start_time": "2023-01-06T10:31:36.309Z"
   },
   {
    "duration": 1531,
    "start_time": "2023-01-06T10:32:34.794Z"
   },
   {
    "duration": 6,
    "start_time": "2023-01-06T10:41:29.569Z"
   },
   {
    "duration": 17,
    "start_time": "2023-01-06T10:41:49.083Z"
   },
   {
    "duration": 14,
    "start_time": "2023-01-06T10:42:05.051Z"
   },
   {
    "duration": 12,
    "start_time": "2023-01-06T10:42:23.086Z"
   },
   {
    "duration": 9,
    "start_time": "2023-01-06T10:42:53.455Z"
   },
   {
    "duration": 22,
    "start_time": "2023-01-06T10:42:59.443Z"
   },
   {
    "duration": 23,
    "start_time": "2023-01-06T10:43:07.846Z"
   },
   {
    "duration": 10,
    "start_time": "2023-01-06T11:04:37.193Z"
   },
   {
    "duration": 24,
    "start_time": "2023-01-06T11:05:36.871Z"
   },
   {
    "duration": 22,
    "start_time": "2023-01-06T11:11:57.987Z"
   },
   {
    "duration": 9,
    "start_time": "2023-01-06T11:12:24.077Z"
   },
   {
    "duration": 19,
    "start_time": "2023-01-06T11:13:25.312Z"
   },
   {
    "duration": 19,
    "start_time": "2023-01-06T11:13:44.254Z"
   },
   {
    "duration": 15,
    "start_time": "2023-01-06T11:13:54.882Z"
   },
   {
    "duration": 4,
    "start_time": "2023-01-06T11:14:06.692Z"
   },
   {
    "duration": 118,
    "start_time": "2023-01-06T11:14:06.699Z"
   },
   {
    "duration": 33,
    "start_time": "2023-01-06T11:14:06.819Z"
   },
   {
    "duration": 43,
    "start_time": "2023-01-06T11:14:06.854Z"
   },
   {
    "duration": 11,
    "start_time": "2023-01-06T11:14:06.898Z"
   },
   {
    "duration": 30,
    "start_time": "2023-01-06T11:14:06.910Z"
   },
   {
    "duration": 36,
    "start_time": "2023-01-06T11:14:06.942Z"
   },
   {
    "duration": 4,
    "start_time": "2023-01-06T11:14:06.980Z"
   },
   {
    "duration": 56,
    "start_time": "2023-01-06T11:14:06.987Z"
   },
   {
    "duration": 10,
    "start_time": "2023-01-06T11:14:07.052Z"
   },
   {
    "duration": 17,
    "start_time": "2023-01-06T11:14:07.063Z"
   },
   {
    "duration": 14,
    "start_time": "2023-01-06T11:14:07.081Z"
   },
   {
    "duration": 43,
    "start_time": "2023-01-06T11:14:07.098Z"
   },
   {
    "duration": 27,
    "start_time": "2023-01-06T11:14:07.143Z"
   },
   {
    "duration": 38,
    "start_time": "2023-01-06T11:14:07.172Z"
   },
   {
    "duration": 21,
    "start_time": "2023-01-06T11:14:07.221Z"
   },
   {
    "duration": 19,
    "start_time": "2023-01-06T11:14:07.247Z"
   },
   {
    "duration": 9,
    "start_time": "2023-01-06T11:14:07.268Z"
   },
   {
    "duration": 11,
    "start_time": "2023-01-06T11:14:07.278Z"
   },
   {
    "duration": 7,
    "start_time": "2023-01-06T11:14:07.291Z"
   },
   {
    "duration": 4055,
    "start_time": "2023-01-06T11:14:07.300Z"
   },
   {
    "duration": 21,
    "start_time": "2023-01-06T11:14:11.357Z"
   },
   {
    "duration": 51,
    "start_time": "2023-01-06T11:14:11.381Z"
   },
   {
    "duration": 68,
    "start_time": "2023-01-06T11:14:11.441Z"
   },
   {
    "duration": 73,
    "start_time": "2023-01-06T11:14:11.512Z"
   },
   {
    "duration": 81,
    "start_time": "2023-01-06T11:14:11.587Z"
   },
   {
    "duration": 1513,
    "start_time": "2023-01-06T11:14:11.670Z"
   },
   {
    "duration": 0,
    "start_time": "2023-01-06T11:14:13.185Z"
   },
   {
    "duration": 0,
    "start_time": "2023-01-06T11:14:13.186Z"
   },
   {
    "duration": 0,
    "start_time": "2023-01-06T11:14:13.187Z"
   },
   {
    "duration": 12,
    "start_time": "2023-01-06T11:14:44.997Z"
   },
   {
    "duration": 4,
    "start_time": "2023-01-06T11:14:54.397Z"
   },
   {
    "duration": 137,
    "start_time": "2023-01-06T11:14:54.404Z"
   },
   {
    "duration": 9,
    "start_time": "2023-01-06T11:14:54.542Z"
   },
   {
    "duration": 47,
    "start_time": "2023-01-06T11:14:54.557Z"
   },
   {
    "duration": 10,
    "start_time": "2023-01-06T11:14:54.606Z"
   },
   {
    "duration": 40,
    "start_time": "2023-01-06T11:14:54.618Z"
   },
   {
    "duration": 39,
    "start_time": "2023-01-06T11:14:54.660Z"
   },
   {
    "duration": 5,
    "start_time": "2023-01-06T11:14:54.701Z"
   },
   {
    "duration": 52,
    "start_time": "2023-01-06T11:14:54.708Z"
   },
   {
    "duration": 8,
    "start_time": "2023-01-06T11:14:54.762Z"
   },
   {
    "duration": 25,
    "start_time": "2023-01-06T11:14:54.772Z"
   },
   {
    "duration": 27,
    "start_time": "2023-01-06T11:14:54.798Z"
   },
   {
    "duration": 36,
    "start_time": "2023-01-06T11:14:54.829Z"
   },
   {
    "duration": 23,
    "start_time": "2023-01-06T11:14:54.868Z"
   },
   {
    "duration": 65,
    "start_time": "2023-01-06T11:14:54.892Z"
   },
   {
    "duration": 12,
    "start_time": "2023-01-06T11:14:54.960Z"
   },
   {
    "duration": 13,
    "start_time": "2023-01-06T11:14:54.975Z"
   },
   {
    "duration": 15,
    "start_time": "2023-01-06T11:14:54.990Z"
   },
   {
    "duration": 56,
    "start_time": "2023-01-06T11:14:55.007Z"
   },
   {
    "duration": 51,
    "start_time": "2023-01-06T11:14:55.064Z"
   },
   {
    "duration": 5568,
    "start_time": "2023-01-06T11:14:55.118Z"
   },
   {
    "duration": 8,
    "start_time": "2023-01-06T11:15:00.688Z"
   },
   {
    "duration": 103,
    "start_time": "2023-01-06T11:15:00.698Z"
   },
   {
    "duration": 17,
    "start_time": "2023-01-06T11:15:00.803Z"
   },
   {
    "duration": 43,
    "start_time": "2023-01-06T11:15:00.825Z"
   },
   {
    "duration": 29,
    "start_time": "2023-01-06T11:15:00.870Z"
   },
   {
    "duration": 1626,
    "start_time": "2023-01-06T11:15:00.901Z"
   },
   {
    "duration": 0,
    "start_time": "2023-01-06T11:15:02.529Z"
   },
   {
    "duration": 0,
    "start_time": "2023-01-06T11:15:02.532Z"
   },
   {
    "duration": 0,
    "start_time": "2023-01-06T11:15:02.533Z"
   },
   {
    "duration": 15,
    "start_time": "2023-01-06T11:15:39.073Z"
   },
   {
    "duration": 2,
    "start_time": "2023-01-06T11:15:46.473Z"
   },
   {
    "duration": 114,
    "start_time": "2023-01-06T11:15:46.477Z"
   },
   {
    "duration": 5,
    "start_time": "2023-01-06T11:15:46.592Z"
   },
   {
    "duration": 44,
    "start_time": "2023-01-06T11:15:46.599Z"
   },
   {
    "duration": 12,
    "start_time": "2023-01-06T11:15:46.648Z"
   },
   {
    "duration": 24,
    "start_time": "2023-01-06T11:15:46.662Z"
   },
   {
    "duration": 53,
    "start_time": "2023-01-06T11:15:46.688Z"
   },
   {
    "duration": 4,
    "start_time": "2023-01-06T11:15:46.748Z"
   },
   {
    "duration": 48,
    "start_time": "2023-01-06T11:15:46.754Z"
   },
   {
    "duration": 6,
    "start_time": "2023-01-06T11:15:46.804Z"
   },
   {
    "duration": 39,
    "start_time": "2023-01-06T11:15:46.811Z"
   },
   {
    "duration": 23,
    "start_time": "2023-01-06T11:15:46.852Z"
   },
   {
    "duration": 25,
    "start_time": "2023-01-06T11:15:46.878Z"
   },
   {
    "duration": 39,
    "start_time": "2023-01-06T11:15:46.905Z"
   },
   {
    "duration": 39,
    "start_time": "2023-01-06T11:15:46.952Z"
   },
   {
    "duration": 5,
    "start_time": "2023-01-06T11:15:46.993Z"
   },
   {
    "duration": 20,
    "start_time": "2023-01-06T11:15:47.000Z"
   },
   {
    "duration": 31,
    "start_time": "2023-01-06T11:15:47.029Z"
   },
   {
    "duration": 8,
    "start_time": "2023-01-06T11:15:47.061Z"
   },
   {
    "duration": 9,
    "start_time": "2023-01-06T11:15:47.071Z"
   },
   {
    "duration": 5112,
    "start_time": "2023-01-06T11:15:47.082Z"
   },
   {
    "duration": 9,
    "start_time": "2023-01-06T11:15:52.195Z"
   },
   {
    "duration": 69,
    "start_time": "2023-01-06T11:15:52.205Z"
   },
   {
    "duration": 11,
    "start_time": "2023-01-06T11:15:52.276Z"
   },
   {
    "duration": 15,
    "start_time": "2023-01-06T11:15:52.288Z"
   },
   {
    "duration": 14,
    "start_time": "2023-01-06T11:15:52.305Z"
   },
   {
    "duration": 1475,
    "start_time": "2023-01-06T11:15:52.322Z"
   },
   {
    "duration": 0,
    "start_time": "2023-01-06T11:15:53.799Z"
   },
   {
    "duration": 0,
    "start_time": "2023-01-06T11:15:53.800Z"
   },
   {
    "duration": 0,
    "start_time": "2023-01-06T11:15:53.801Z"
   },
   {
    "duration": 15,
    "start_time": "2023-01-06T11:16:17.252Z"
   },
   {
    "duration": 5,
    "start_time": "2023-01-06T11:17:58.672Z"
   },
   {
    "duration": 5,
    "start_time": "2023-01-06T11:17:59.293Z"
   },
   {
    "duration": 5,
    "start_time": "2023-01-06T11:18:07.757Z"
   },
   {
    "duration": 5,
    "start_time": "2023-01-06T11:18:10.858Z"
   },
   {
    "duration": 6,
    "start_time": "2023-01-06T11:18:25.049Z"
   },
   {
    "duration": 6,
    "start_time": "2023-01-06T11:18:28.724Z"
   },
   {
    "duration": 113,
    "start_time": "2023-01-06T11:18:28.746Z"
   },
   {
    "duration": 5,
    "start_time": "2023-01-06T11:18:28.861Z"
   },
   {
    "duration": 39,
    "start_time": "2023-01-06T11:18:28.867Z"
   },
   {
    "duration": 31,
    "start_time": "2023-01-06T11:18:28.907Z"
   },
   {
    "duration": 30,
    "start_time": "2023-01-06T11:18:28.949Z"
   },
   {
    "duration": 20,
    "start_time": "2023-01-06T11:18:28.980Z"
   },
   {
    "duration": 4,
    "start_time": "2023-01-06T11:18:29.001Z"
   },
   {
    "duration": 48,
    "start_time": "2023-01-06T11:18:29.006Z"
   },
   {
    "duration": 5,
    "start_time": "2023-01-06T11:18:29.057Z"
   },
   {
    "duration": 26,
    "start_time": "2023-01-06T11:18:29.064Z"
   },
   {
    "duration": 34,
    "start_time": "2023-01-06T11:18:29.092Z"
   },
   {
    "duration": 39,
    "start_time": "2023-01-06T11:18:29.127Z"
   },
   {
    "duration": 28,
    "start_time": "2023-01-06T11:18:29.167Z"
   },
   {
    "duration": 57,
    "start_time": "2023-01-06T11:18:29.198Z"
   },
   {
    "duration": 7,
    "start_time": "2023-01-06T11:18:29.257Z"
   },
   {
    "duration": 15,
    "start_time": "2023-01-06T11:18:29.266Z"
   },
   {
    "duration": 21,
    "start_time": "2023-01-06T11:18:29.283Z"
   },
   {
    "duration": 13,
    "start_time": "2023-01-06T11:18:29.306Z"
   },
   {
    "duration": 39,
    "start_time": "2023-01-06T11:18:29.321Z"
   },
   {
    "duration": 5302,
    "start_time": "2023-01-06T11:18:29.361Z"
   },
   {
    "duration": 8,
    "start_time": "2023-01-06T11:18:34.665Z"
   },
   {
    "duration": 29,
    "start_time": "2023-01-06T11:18:34.674Z"
   },
   {
    "duration": 33,
    "start_time": "2023-01-06T11:18:34.705Z"
   },
   {
    "duration": 25,
    "start_time": "2023-01-06T11:18:34.740Z"
   },
   {
    "duration": 10,
    "start_time": "2023-01-06T11:18:34.766Z"
   },
   {
    "duration": 28,
    "start_time": "2023-01-06T11:18:34.778Z"
   },
   {
    "duration": 28,
    "start_time": "2023-01-06T11:18:34.808Z"
   },
   {
    "duration": 38,
    "start_time": "2023-01-06T11:18:34.839Z"
   },
   {
    "duration": 21,
    "start_time": "2023-01-06T11:18:34.879Z"
   },
   {
    "duration": 10,
    "start_time": "2023-01-06T11:19:07.455Z"
   },
   {
    "duration": 7,
    "start_time": "2023-01-06T11:19:08.266Z"
   },
   {
    "duration": 10,
    "start_time": "2023-01-06T11:19:26.788Z"
   },
   {
    "duration": 11,
    "start_time": "2023-01-06T11:21:13.364Z"
   },
   {
    "duration": 8,
    "start_time": "2023-01-06T11:25:35.565Z"
   },
   {
    "duration": 8,
    "start_time": "2023-01-06T11:28:14.912Z"
   },
   {
    "duration": 23,
    "start_time": "2023-01-06T11:49:30.256Z"
   },
   {
    "duration": 23,
    "start_time": "2023-01-06T11:49:46.982Z"
   },
   {
    "duration": 17,
    "start_time": "2023-01-06T12:13:53.710Z"
   },
   {
    "duration": 19,
    "start_time": "2023-01-06T12:14:02.761Z"
   },
   {
    "duration": 14,
    "start_time": "2023-01-06T12:14:26.963Z"
   },
   {
    "duration": 93,
    "start_time": "2023-01-06T12:14:52.947Z"
   },
   {
    "duration": 23,
    "start_time": "2023-01-06T12:15:08.985Z"
   },
   {
    "duration": 32,
    "start_time": "2023-01-06T13:02:30.519Z"
   },
   {
    "duration": 32,
    "start_time": "2023-01-06T13:03:54.783Z"
   },
   {
    "duration": 628,
    "start_time": "2023-01-06T13:04:30.982Z"
   },
   {
    "duration": 28,
    "start_time": "2023-01-06T13:09:29.895Z"
   },
   {
    "duration": 24,
    "start_time": "2023-01-06T13:09:42.049Z"
   },
   {
    "duration": 38,
    "start_time": "2023-01-06T13:11:09.368Z"
   },
   {
    "duration": 30,
    "start_time": "2023-01-06T13:11:29.167Z"
   },
   {
    "duration": 92,
    "start_time": "2023-01-06T13:12:42.974Z"
   },
   {
    "duration": 30,
    "start_time": "2023-01-06T13:12:48.133Z"
   },
   {
    "duration": 23,
    "start_time": "2023-01-06T13:15:36.666Z"
   },
   {
    "duration": 48,
    "start_time": "2023-01-06T13:18:06.165Z"
   },
   {
    "duration": 35,
    "start_time": "2023-01-06T13:18:48.294Z"
   },
   {
    "duration": 56,
    "start_time": "2023-01-06T13:19:42.697Z"
   },
   {
    "duration": 78,
    "start_time": "2023-01-06T13:19:58.518Z"
   },
   {
    "duration": 76,
    "start_time": "2023-01-06T13:20:12.906Z"
   },
   {
    "duration": 40,
    "start_time": "2023-01-06T13:20:20.020Z"
   },
   {
    "duration": 51,
    "start_time": "2023-01-06T13:20:41.974Z"
   },
   {
    "duration": 81,
    "start_time": "2023-01-06T13:21:03.731Z"
   },
   {
    "duration": 49,
    "start_time": "2023-01-06T13:21:08.365Z"
   },
   {
    "duration": 32,
    "start_time": "2023-01-06T13:21:45.880Z"
   },
   {
    "duration": 85,
    "start_time": "2023-01-06T13:22:30.670Z"
   },
   {
    "duration": 36,
    "start_time": "2023-01-06T13:22:40.018Z"
   },
   {
    "duration": 79,
    "start_time": "2023-01-06T13:22:51.520Z"
   },
   {
    "duration": 34,
    "start_time": "2023-01-06T13:22:59.853Z"
   },
   {
    "duration": 33,
    "start_time": "2023-01-06T13:23:55.296Z"
   },
   {
    "duration": 32,
    "start_time": "2023-01-06T13:31:20.808Z"
   },
   {
    "duration": 39,
    "start_time": "2023-01-06T13:32:28.015Z"
   },
   {
    "duration": 32,
    "start_time": "2023-01-06T13:38:01.744Z"
   },
   {
    "duration": 27,
    "start_time": "2023-01-06T13:50:20.805Z"
   },
   {
    "duration": 29,
    "start_time": "2023-01-06T13:51:10.939Z"
   },
   {
    "duration": 29,
    "start_time": "2023-01-06T13:52:45.858Z"
   }
  ],
  "kernelspec": {
   "display_name": "Python 3 (ipykernel)",
   "language": "python",
   "name": "python3"
  },
  "language_info": {
   "codemirror_mode": {
    "name": "ipython",
    "version": 3
   },
   "file_extension": ".py",
   "mimetype": "text/x-python",
   "name": "python",
   "nbconvert_exporter": "python",
   "pygments_lexer": "ipython3",
   "version": "3.9.5"
  },
  "toc": {
   "base_numbering": 1,
   "nav_menu": {},
   "number_sections": true,
   "sideBar": true,
   "skip_h1_title": true,
   "title_cell": "Table of Contents",
   "title_sidebar": "Contents",
   "toc_cell": false,
   "toc_position": {
    "height": "calc(100% - 180px)",
    "left": "10px",
    "top": "150px",
    "width": "165px"
   },
   "toc_section_display": true,
   "toc_window_display": true
  }
 },
 "nbformat": 4,
 "nbformat_minor": 2
}
