{
 "cells": [
  {
   "cell_type": "markdown",
   "metadata": {},
   "source": [
    "# Описание проекта"
   ]
  },
  {
   "cell_type": "markdown",
   "metadata": {},
   "source": [
    "Вы решили открыть небольшое кафе в Москве. Оно оригинальное — гостей должны обслуживать роботы. Проект многообещающий, но дорогой. Вместе с партнёрами вы решились обратиться к инвесторам. Их интересует текущее положение дел на рынке — сможете ли вы снискать популярность на долгое время, когда все зеваки насмотрятся на роботов-официантов?\n",
    "\n",
    "Вы — гуру аналитики, и партнёры просят вас подготовить исследование рынка. У вас есть открытые данные о заведениях общественного питания в Москве.\n"
   ]
  },
  {
   "cell_type": "markdown",
   "metadata": {},
   "source": [
    "**Описание данных**"
   ]
  },
  {
   "cell_type": "markdown",
   "metadata": {},
   "source": [
    "Таблица `rest_data`\n",
    "\n",
    "- id — идентификатор объекта;\n",
    "- object_name — название объекта общественного питания;\n",
    "- chain — сетевой ресторан;\n",
    "- object_type — тип объекта общественного питания;\n",
    "- address — адрес;\n",
    "- number — количество посадочных мест."
   ]
  },
  {
   "cell_type": "markdown",
   "metadata": {},
   "source": [
    "**Этапы выполнения проекта**\n",
    "\n",
    "1. Загрузка данных и подготовка их к анализу\n",
    "\n",
    "2. Анализ данных:\n",
    "- исследование соотношения видов объектов общественного питания по количеству\n",
    "- исследование соотношение сетевых и несетевых заведений по количеству\n",
    "- для какого вида объекта общественного питания характерно сетевое распространение?\n",
    "- что характерно для сетевых заведений: много заведений с небольшим числом посадочных мест в каждом или мало заведений с большим количеством посадочных мест?\n",
    "- среднее количество посадочных мест для каждого вида объекта общественного питания. Какой вид предоставляет в среднем самое большое количество посадочных мест? \n",
    "- добавление в отдельный столбец информации об улице из столбца address.\n",
    "- топ-10 улиц по количеству объектов общественного питания. В каких районах Москвы находятся эти улицы?\n",
    "- число улиц с одним объектом общественного питания. В каких районах Москвы находятся эти улицы?\n",
    "- распределение количества посадочных мест для улиц с большим количеством объектов общественного питания. \n",
    "\n",
    "\n",
    "Сделать общий вывод и рекомендации о виде заведения, количестве посадочных мест, а также районе расположения. Прокомментировать возможность развития сети.\n"
   ]
  },
  {
   "cell_type": "markdown",
   "metadata": {},
   "source": [
    "## Загрузка данных, импорт библиотек, предобработка"
   ]
  },
  {
   "cell_type": "code",
   "execution_count": 1,
   "metadata": {},
   "outputs": [],
   "source": [
    "import pandas as pd\n",
    "import datetime as dt\n",
    "import numpy as np\n",
    "import matplotlib.pyplot as plt\n",
    "import seaborn as sns\n",
    "import plotly.express as px\n",
    "\n",
    "import warnings\n",
    "warnings.filterwarnings(\"ignore\")\n",
    "\n",
    "from io import BytesIO\n",
    "import requests\n",
    "\n",
    "pd.set_option('display.max_colwidth', None)"
   ]
  },
  {
   "cell_type": "code",
   "execution_count": 2,
   "metadata": {},
   "outputs": [],
   "source": [
    "rest = pd.read_csv('/datasets/rest_data.csv')"
   ]
  },
  {
   "cell_type": "code",
   "execution_count": 3,
   "metadata": {},
   "outputs": [
    {
     "data": {
      "text/html": [
       "<div>\n",
       "<style scoped>\n",
       "    .dataframe tbody tr th:only-of-type {\n",
       "        vertical-align: middle;\n",
       "    }\n",
       "\n",
       "    .dataframe tbody tr th {\n",
       "        vertical-align: top;\n",
       "    }\n",
       "\n",
       "    .dataframe thead th {\n",
       "        text-align: right;\n",
       "    }\n",
       "</style>\n",
       "<table border=\"1\" class=\"dataframe\">\n",
       "  <thead>\n",
       "    <tr style=\"text-align: right;\">\n",
       "      <th></th>\n",
       "      <th>ID</th>\n",
       "      <th>Name</th>\n",
       "      <th>global_id</th>\n",
       "      <th>IsNetObject</th>\n",
       "      <th>OperatingCompany</th>\n",
       "      <th>TypeObject</th>\n",
       "      <th>AdmArea</th>\n",
       "      <th>District</th>\n",
       "      <th>Address</th>\n",
       "      <th>PublicPhone</th>\n",
       "      <th>SeatsCount</th>\n",
       "      <th>SocialPrivileges</th>\n",
       "      <th>Longitude_WGS84</th>\n",
       "      <th>Latitude_WGS84</th>\n",
       "    </tr>\n",
       "  </thead>\n",
       "  <tbody>\n",
       "    <tr>\n",
       "      <th>14417</th>\n",
       "      <td>320288</td>\n",
       "      <td>Рублевский базар</td>\n",
       "      <td>1146358563</td>\n",
       "      <td>нет</td>\n",
       "      <td>NaN</td>\n",
       "      <td>кафе</td>\n",
       "      <td>Западный административный округ</td>\n",
       "      <td>район Кунцево</td>\n",
       "      <td>город Москва, 2-я Мякининская улица, дом 50, строение 2</td>\n",
       "      <td>PublicPhone:(985) 436-55-82\\n\\n</td>\n",
       "      <td>8</td>\n",
       "      <td>нет</td>\n",
       "      <td>37.375793</td>\n",
       "      <td>55.809015</td>\n",
       "    </tr>\n",
       "  </tbody>\n",
       "</table>\n",
       "</div>"
      ],
      "text/plain": [
       "           ID              Name   global_id IsNetObject OperatingCompany  \\\n",
       "14417  320288  Рублевский базар  1146358563         нет              NaN   \n",
       "\n",
       "      TypeObject                          AdmArea       District  \\\n",
       "14417       кафе  Западный административный округ  район Кунцево   \n",
       "\n",
       "                                                       Address  \\\n",
       "14417  город Москва, 2-я Мякининская улица, дом 50, строение 2   \n",
       "\n",
       "                           PublicPhone  SeatsCount SocialPrivileges  \\\n",
       "14417  PublicPhone:(985) 436-55-82\\n\\n           8              нет   \n",
       "\n",
       "       Longitude_WGS84  Latitude_WGS84  \n",
       "14417        37.375793       55.809015  "
      ]
     },
     "execution_count": 3,
     "metadata": {},
     "output_type": "execute_result"
    }
   ],
   "source": [
    "# загрузка внешних данных для определения района\n",
    "\n",
    "spreadsheet_id = '1cjBlPdIlLanPJmlZHssAxSVaDiVtClGmGv9KU2Ic48E'\n",
    "file_name = 'https://docs.google.com/spreadsheets/d/{}/export?format=csv'.format(spreadsheet_id)\n",
    "r = requests.get(file_name)\n",
    "rest_msc = pd.read_csv(BytesIO(r.content))\n",
    "rest_msc.sample()"
   ]
  },
  {
   "cell_type": "code",
   "execution_count": 4,
   "metadata": {
    "scrolled": true
   },
   "outputs": [
    {
     "name": "stdout",
     "output_type": "stream",
     "text": [
      "<class 'pandas.core.frame.DataFrame'>\n",
      "RangeIndex: 15366 entries, 0 to 15365\n",
      "Data columns (total 6 columns):\n",
      " #   Column       Non-Null Count  Dtype \n",
      "---  ------       --------------  ----- \n",
      " 0   id           15366 non-null  int64 \n",
      " 1   object_name  15366 non-null  object\n",
      " 2   chain        15366 non-null  object\n",
      " 3   object_type  15366 non-null  object\n",
      " 4   address      15366 non-null  object\n",
      " 5   number       15366 non-null  int64 \n",
      "dtypes: int64(2), object(4)\n",
      "memory usage: 720.4+ KB\n"
     ]
    },
    {
     "data": {
      "text/html": [
       "<div>\n",
       "<style scoped>\n",
       "    .dataframe tbody tr th:only-of-type {\n",
       "        vertical-align: middle;\n",
       "    }\n",
       "\n",
       "    .dataframe tbody tr th {\n",
       "        vertical-align: top;\n",
       "    }\n",
       "\n",
       "    .dataframe thead th {\n",
       "        text-align: right;\n",
       "    }\n",
       "</style>\n",
       "<table border=\"1\" class=\"dataframe\">\n",
       "  <thead>\n",
       "    <tr style=\"text-align: right;\">\n",
       "      <th></th>\n",
       "      <th>id</th>\n",
       "      <th>object_name</th>\n",
       "      <th>chain</th>\n",
       "      <th>object_type</th>\n",
       "      <th>address</th>\n",
       "      <th>number</th>\n",
       "    </tr>\n",
       "  </thead>\n",
       "  <tbody>\n",
       "    <tr>\n",
       "      <th>2973</th>\n",
       "      <td>22736</td>\n",
       "      <td>Луна</td>\n",
       "      <td>нет</td>\n",
       "      <td>кафе</td>\n",
       "      <td>город Москва, Михалковская улица, дом 38, строение 6</td>\n",
       "      <td>40</td>\n",
       "    </tr>\n",
       "    <tr>\n",
       "      <th>2593</th>\n",
       "      <td>29065</td>\n",
       "      <td>Столовая ГБОУ 45 Гимназия имени Л.И. Мильграмма</td>\n",
       "      <td>нет</td>\n",
       "      <td>столовая</td>\n",
       "      <td>город Москва, улица Гримау, дом 8</td>\n",
       "      <td>300</td>\n",
       "    </tr>\n",
       "  </tbody>\n",
       "</table>\n",
       "</div>"
      ],
      "text/plain": [
       "         id                                      object_name chain  \\\n",
       "2973  22736                                             Луна   нет   \n",
       "2593  29065  Столовая ГБОУ 45 Гимназия имени Л.И. Мильграмма   нет   \n",
       "\n",
       "     object_type                                               address  number  \n",
       "2973        кафе  город Москва, Михалковская улица, дом 38, строение 6      40  \n",
       "2593    столовая                     город Москва, улица Гримау, дом 8     300  "
      ]
     },
     "execution_count": 4,
     "metadata": {},
     "output_type": "execute_result"
    }
   ],
   "source": [
    "# общая инфо и пара рандомных строк\n",
    "rest.info() \n",
    "rest.sample(n=2, random_state=1)"
   ]
  },
  {
   "cell_type": "code",
   "execution_count": 5,
   "metadata": {
    "scrolled": false
   },
   "outputs": [
    {
     "data": {
      "text/plain": [
       "82"
      ]
     },
     "execution_count": 5,
     "metadata": {},
     "output_type": "execute_result"
    }
   ],
   "source": [
    "# проверим на наличие дубликатов, исключив колонку с уникальными id\n",
    "\n",
    "rest[['object_name', 'chain', 'object_type', 'address', 'number']].duplicated().sum()"
   ]
  },
  {
   "cell_type": "code",
   "execution_count": 6,
   "metadata": {
    "scrolled": false
   },
   "outputs": [
    {
     "data": {
      "text/html": [
       "<div>\n",
       "<style scoped>\n",
       "    .dataframe tbody tr th:only-of-type {\n",
       "        vertical-align: middle;\n",
       "    }\n",
       "\n",
       "    .dataframe tbody tr th {\n",
       "        vertical-align: top;\n",
       "    }\n",
       "\n",
       "    .dataframe thead th {\n",
       "        text-align: right;\n",
       "    }\n",
       "</style>\n",
       "<table border=\"1\" class=\"dataframe\">\n",
       "  <thead>\n",
       "    <tr style=\"text-align: right;\">\n",
       "      <th></th>\n",
       "      <th>id</th>\n",
       "      <th>object_name</th>\n",
       "      <th>chain</th>\n",
       "      <th>object_type</th>\n",
       "      <th>address</th>\n",
       "      <th>number</th>\n",
       "    </tr>\n",
       "  </thead>\n",
       "  <tbody>\n",
       "    <tr>\n",
       "      <th>5186</th>\n",
       "      <td>107574</td>\n",
       "      <td>Кафе</td>\n",
       "      <td>нет</td>\n",
       "      <td>кафе</td>\n",
       "      <td>город Москва, 1-я Останкинская улица, дом 55</td>\n",
       "      <td>10</td>\n",
       "    </tr>\n",
       "    <tr>\n",
       "      <th>5190</th>\n",
       "      <td>107480</td>\n",
       "      <td>Кафе</td>\n",
       "      <td>нет</td>\n",
       "      <td>кафе</td>\n",
       "      <td>город Москва, 1-я Останкинская улица, дом 55</td>\n",
       "      <td>5</td>\n",
       "    </tr>\n",
       "    <tr>\n",
       "      <th>5188</th>\n",
       "      <td>107466</td>\n",
       "      <td>Кафе</td>\n",
       "      <td>нет</td>\n",
       "      <td>кафе</td>\n",
       "      <td>город Москва, 1-я Останкинская улица, дом 55</td>\n",
       "      <td>5</td>\n",
       "    </tr>\n",
       "    <tr>\n",
       "      <th>5185</th>\n",
       "      <td>107442</td>\n",
       "      <td>Кафе</td>\n",
       "      <td>нет</td>\n",
       "      <td>кафе</td>\n",
       "      <td>город Москва, 1-я Останкинская улица, дом 55</td>\n",
       "      <td>20</td>\n",
       "    </tr>\n",
       "    <tr>\n",
       "      <th>2381</th>\n",
       "      <td>28611</td>\n",
       "      <td>КОМБИНАТ ПИТАНИЯ МГТУ ИМ.Н.Э.БАУМАНА</td>\n",
       "      <td>нет</td>\n",
       "      <td>столовая</td>\n",
       "      <td>город Москва, 2-я Бауманская улица, дом 5, строение 1</td>\n",
       "      <td>100</td>\n",
       "    </tr>\n",
       "  </tbody>\n",
       "</table>\n",
       "</div>"
      ],
      "text/plain": [
       "          id                           object_name chain object_type  \\\n",
       "5186  107574                                  Кафе   нет        кафе   \n",
       "5190  107480                                  Кафе   нет        кафе   \n",
       "5188  107466                                  Кафе   нет        кафе   \n",
       "5185  107442                                  Кафе   нет        кафе   \n",
       "2381   28611  КОМБИНАТ ПИТАНИЯ МГТУ ИМ.Н.Э.БАУМАНА   нет    столовая   \n",
       "\n",
       "                                                    address  number  \n",
       "5186           город Москва, 1-я Останкинская улица, дом 55      10  \n",
       "5190           город Москва, 1-я Останкинская улица, дом 55       5  \n",
       "5188           город Москва, 1-я Останкинская улица, дом 55       5  \n",
       "5185           город Москва, 1-я Останкинская улица, дом 55      20  \n",
       "2381  город Москва, 2-я Бауманская улица, дом 5, строение 1     100  "
      ]
     },
     "execution_count": 6,
     "metadata": {},
     "output_type": "execute_result"
    }
   ],
   "source": [
    "# посмотрим дубликаты без учета id\n",
    "rest[rest[['object_name', \n",
    "           'chain', \n",
    "           'object_type', \n",
    "           'address', \n",
    "           'number']].duplicated()].sort_values(by='address').head()"
   ]
  },
  {
   "cell_type": "code",
   "execution_count": 7,
   "metadata": {},
   "outputs": [],
   "source": [
    "# удалим найденные дубликаты\n",
    "\n",
    "rest = rest.drop_duplicates(subset=['object_name', 'chain', 'object_type', 'address', 'number']) "
   ]
  },
  {
   "cell_type": "code",
   "execution_count": 8,
   "metadata": {
    "scrolled": false
   },
   "outputs": [
    {
     "data": {
      "text/plain": [
       "count    15284.000000\n",
       "mean        59.784350\n",
       "std         74.838657\n",
       "min          0.000000\n",
       "25%         14.000000\n",
       "50%         40.000000\n",
       "75%         80.000000\n",
       "max       1700.000000\n",
       "Name: number, dtype: float64"
      ]
     },
     "execution_count": 8,
     "metadata": {},
     "output_type": "execute_result"
    }
   ],
   "source": [
    "# числовое описание количества посадочных \n",
    "\n",
    "rest['number'].describe()"
   ]
  },
  {
   "cell_type": "code",
   "execution_count": 9,
   "metadata": {},
   "outputs": [
    {
     "data": {
      "text/html": [
       "<div>\n",
       "<style scoped>\n",
       "    .dataframe tbody tr th:only-of-type {\n",
       "        vertical-align: middle;\n",
       "    }\n",
       "\n",
       "    .dataframe tbody tr th {\n",
       "        vertical-align: top;\n",
       "    }\n",
       "\n",
       "    .dataframe thead th {\n",
       "        text-align: right;\n",
       "    }\n",
       "</style>\n",
       "<table border=\"1\" class=\"dataframe\">\n",
       "  <thead>\n",
       "    <tr style=\"text-align: right;\">\n",
       "      <th></th>\n",
       "      <th>id</th>\n",
       "      <th>object_name</th>\n",
       "      <th>chain</th>\n",
       "      <th>object_type</th>\n",
       "      <th>address</th>\n",
       "      <th>number</th>\n",
       "    </tr>\n",
       "  </thead>\n",
       "  <tbody>\n",
       "    <tr>\n",
       "      <th>2313</th>\n",
       "      <td>26560</td>\n",
       "      <td>Ресторан «АЛЬФА»</td>\n",
       "      <td>нет</td>\n",
       "      <td>ресторан</td>\n",
       "      <td>город Москва, Измайловское шоссе, дом 71, корпус А</td>\n",
       "      <td>1040</td>\n",
       "    </tr>\n",
       "    <tr>\n",
       "      <th>3686</th>\n",
       "      <td>27026</td>\n",
       "      <td>РУМ СЕРВИС</td>\n",
       "      <td>нет</td>\n",
       "      <td>ресторан</td>\n",
       "      <td>город Москва, площадь Европы, дом 2</td>\n",
       "      <td>1200</td>\n",
       "    </tr>\n",
       "    <tr>\n",
       "      <th>4480</th>\n",
       "      <td>27024</td>\n",
       "      <td>РУМ СЕРВИС</td>\n",
       "      <td>нет</td>\n",
       "      <td>ресторан</td>\n",
       "      <td>город Москва, Кутузовский проспект, дом 2/1, строение 1</td>\n",
       "      <td>1200</td>\n",
       "    </tr>\n",
       "    <tr>\n",
       "      <th>8148</th>\n",
       "      <td>80291</td>\n",
       "      <td>Банкетный зал Шелк</td>\n",
       "      <td>нет</td>\n",
       "      <td>ресторан</td>\n",
       "      <td>город Москва, Большой Саввинский переулок, дом 12, строение 10Г</td>\n",
       "      <td>1500</td>\n",
       "    </tr>\n",
       "    <tr>\n",
       "      <th>8345</th>\n",
       "      <td>27750</td>\n",
       "      <td>СТОЛОВАЯ-БУФЕТ</td>\n",
       "      <td>нет</td>\n",
       "      <td>столовая</td>\n",
       "      <td>город Москва, улица Волхонка, дом 15</td>\n",
       "      <td>1400</td>\n",
       "    </tr>\n",
       "  </tbody>\n",
       "</table>\n",
       "</div>"
      ],
      "text/plain": [
       "         id         object_name chain object_type  \\\n",
       "2313  26560    Ресторан «АЛЬФА»   нет    ресторан   \n",
       "3686  27026          РУМ СЕРВИС   нет    ресторан   \n",
       "4480  27024          РУМ СЕРВИС   нет    ресторан   \n",
       "8148  80291  Банкетный зал Шелк   нет    ресторан   \n",
       "8345  27750      СТОЛОВАЯ-БУФЕТ   нет    столовая   \n",
       "\n",
       "                                                              address  number  \n",
       "2313               город Москва, Измайловское шоссе, дом 71, корпус А    1040  \n",
       "3686                              город Москва, площадь Европы, дом 2    1200  \n",
       "4480          город Москва, Кутузовский проспект, дом 2/1, строение 1    1200  \n",
       "8148  город Москва, Большой Саввинский переулок, дом 12, строение 10Г    1500  \n",
       "8345                             город Москва, улица Волхонка, дом 15    1400  "
      ]
     },
     "execution_count": 9,
     "metadata": {},
     "output_type": "execute_result"
    }
   ],
   "source": [
    "# посмотрим объекты с большим количеством посадочных мест\n",
    "\n",
    "rest[rest['number'] > 1000].head()"
   ]
  },
  {
   "cell_type": "code",
   "execution_count": 10,
   "metadata": {},
   "outputs": [
    {
     "data": {
      "text/html": [
       "<div>\n",
       "<style scoped>\n",
       "    .dataframe tbody tr th:only-of-type {\n",
       "        vertical-align: middle;\n",
       "    }\n",
       "\n",
       "    .dataframe tbody tr th {\n",
       "        vertical-align: top;\n",
       "    }\n",
       "\n",
       "    .dataframe thead th {\n",
       "        text-align: right;\n",
       "    }\n",
       "</style>\n",
       "<table border=\"1\" class=\"dataframe\">\n",
       "  <thead>\n",
       "    <tr style=\"text-align: right;\">\n",
       "      <th></th>\n",
       "      <th>id</th>\n",
       "      <th>object_name</th>\n",
       "      <th>chain</th>\n",
       "      <th>object_type</th>\n",
       "      <th>address</th>\n",
       "      <th>number</th>\n",
       "    </tr>\n",
       "  </thead>\n",
       "  <tbody>\n",
       "    <tr>\n",
       "      <th>137</th>\n",
       "      <td>115498</td>\n",
       "      <td>Пекарня &amp; Донер</td>\n",
       "      <td>нет</td>\n",
       "      <td>закусочная</td>\n",
       "      <td>город Москва, Бутырская улица, дом 9, корпус 2</td>\n",
       "      <td>0</td>\n",
       "    </tr>\n",
       "    <tr>\n",
       "      <th>154</th>\n",
       "      <td>152556</td>\n",
       "      <td>Шаурма в пите</td>\n",
       "      <td>нет</td>\n",
       "      <td>предприятие быстрого обслуживания</td>\n",
       "      <td>город Москва, Варшавское шоссе, дом 72, корпус 2</td>\n",
       "      <td>0</td>\n",
       "    </tr>\n",
       "    <tr>\n",
       "      <th>157</th>\n",
       "      <td>149568</td>\n",
       "      <td>Суши</td>\n",
       "      <td>нет</td>\n",
       "      <td>предприятие быстрого обслуживания</td>\n",
       "      <td>город Москва, улица Маршала Василевского, дом 3, корпус 1</td>\n",
       "      <td>0</td>\n",
       "    </tr>\n",
       "    <tr>\n",
       "      <th>190</th>\n",
       "      <td>126956</td>\n",
       "      <td>Шаурма, куры-гриль</td>\n",
       "      <td>нет</td>\n",
       "      <td>предприятие быстрого обслуживания</td>\n",
       "      <td>город Москва, 1-я Владимирская улица, дом 21</td>\n",
       "      <td>0</td>\n",
       "    </tr>\n",
       "    <tr>\n",
       "      <th>195</th>\n",
       "      <td>149531</td>\n",
       "      <td>Шаурма, куры-гриль</td>\n",
       "      <td>нет</td>\n",
       "      <td>предприятие быстрого обслуживания</td>\n",
       "      <td>город Москва, 2-я Владимирская улица, дом 44/10</td>\n",
       "      <td>0</td>\n",
       "    </tr>\n",
       "  </tbody>\n",
       "</table>\n",
       "</div>"
      ],
      "text/plain": [
       "         id         object_name chain                        object_type  \\\n",
       "137  115498     Пекарня & Донер   нет                         закусочная   \n",
       "154  152556       Шаурма в пите   нет  предприятие быстрого обслуживания   \n",
       "157  149568                Суши   нет  предприятие быстрого обслуживания   \n",
       "190  126956  Шаурма, куры-гриль   нет  предприятие быстрого обслуживания   \n",
       "195  149531  Шаурма, куры-гриль   нет  предприятие быстрого обслуживания   \n",
       "\n",
       "                                                       address  number  \n",
       "137             город Москва, Бутырская улица, дом 9, корпус 2       0  \n",
       "154           город Москва, Варшавское шоссе, дом 72, корпус 2       0  \n",
       "157  город Москва, улица Маршала Василевского, дом 3, корпус 1       0  \n",
       "190               город Москва, 1-я Владимирская улица, дом 21       0  \n",
       "195            город Москва, 2-я Владимирская улица, дом 44/10       0  "
      ]
     },
     "execution_count": 10,
     "metadata": {},
     "output_type": "execute_result"
    }
   ],
   "source": [
    "# объекты без посадочных мест\n",
    "\n",
    "rest[rest['number'] == 0].head()"
   ]
  },
  {
   "cell_type": "markdown",
   "metadata": {},
   "source": [
    "Большое количество посадочных мест не выглядит аномальными, это фуд-моллы, банкетные залы, столовые на крупных предприятиях, большие отели. Ноль посадочных - заведения в формате \"с собой\" без столиков, либо работающие исключительно на доставку. "
   ]
  },
  {
   "cell_type": "code",
   "execution_count": 11,
   "metadata": {
    "scrolled": true
   },
   "outputs": [
    {
     "data": {
      "text/plain": [
       "array(['кафе', 'столовая', 'закусочная',\n",
       "       'предприятие быстрого обслуживания', 'ресторан', 'кафетерий',\n",
       "       'буфет', 'бар', 'магазин (отдел кулинарии)'], dtype=object)"
      ]
     },
     "execution_count": 11,
     "metadata": {},
     "output_type": "execute_result"
    }
   ],
   "source": [
    "# посмотрим типы заведений\n",
    "\n",
    "rest['object_type'].unique()\n"
   ]
  },
  {
   "cell_type": "code",
   "execution_count": 12,
   "metadata": {},
   "outputs": [],
   "source": [
    "# заменим названия классификации заведений на более понятные \n",
    "\n",
    "rest['object_type'] = rest['object_type'].replace({'предприятие быстрого обслуживания': 'фастфуд',\n",
    "                                                   'магазин (отдел кулинарии)': 'кулинария'})"
   ]
  },
  {
   "cell_type": "code",
   "execution_count": 13,
   "metadata": {},
   "outputs": [],
   "source": [
    "# переименуем принадлежность объекта к сети\n",
    "\n",
    "rest['chain'] = rest['chain'].replace({'да': 'сеть', 'нет': 'несетевое'})"
   ]
  },
  {
   "cell_type": "code",
   "execution_count": 14,
   "metadata": {},
   "outputs": [],
   "source": [
    "# переименуем столбец с количеством посадочных мест\n",
    "\n",
    "rest = rest.rename(columns={'number':'seats'})"
   ]
  },
  {
   "cell_type": "code",
   "execution_count": 15,
   "metadata": {
    "scrolled": true
   },
   "outputs": [
    {
     "data": {
      "text/html": [
       "<div>\n",
       "<style scoped>\n",
       "    .dataframe tbody tr th:only-of-type {\n",
       "        vertical-align: middle;\n",
       "    }\n",
       "\n",
       "    .dataframe tbody tr th {\n",
       "        vertical-align: top;\n",
       "    }\n",
       "\n",
       "    .dataframe thead th {\n",
       "        text-align: right;\n",
       "    }\n",
       "</style>\n",
       "<table border=\"1\" class=\"dataframe\">\n",
       "  <thead>\n",
       "    <tr style=\"text-align: right;\">\n",
       "      <th></th>\n",
       "      <th>id</th>\n",
       "      <th>object_name</th>\n",
       "      <th>chain</th>\n",
       "      <th>object_type</th>\n",
       "      <th>address</th>\n",
       "      <th>seats</th>\n",
       "    </tr>\n",
       "  </thead>\n",
       "  <tbody>\n",
       "    <tr>\n",
       "      <th>0</th>\n",
       "      <td>151635</td>\n",
       "      <td>СМЕТАНА</td>\n",
       "      <td>несетевое</td>\n",
       "      <td>кафе</td>\n",
       "      <td>город Москва, улица Егора Абакумова, дом 9</td>\n",
       "      <td>48</td>\n",
       "    </tr>\n",
       "    <tr>\n",
       "      <th>1</th>\n",
       "      <td>77874</td>\n",
       "      <td>Родник</td>\n",
       "      <td>несетевое</td>\n",
       "      <td>кафе</td>\n",
       "      <td>город Москва, улица Талалихина, дом 2/1, корпус 1</td>\n",
       "      <td>35</td>\n",
       "    </tr>\n",
       "    <tr>\n",
       "      <th>2</th>\n",
       "      <td>24309</td>\n",
       "      <td>Кафе «Академия»</td>\n",
       "      <td>несетевое</td>\n",
       "      <td>кафе</td>\n",
       "      <td>город Москва, Абельмановская улица, дом 6</td>\n",
       "      <td>95</td>\n",
       "    </tr>\n",
       "    <tr>\n",
       "      <th>3</th>\n",
       "      <td>21894</td>\n",
       "      <td>ПИЦЦЕТОРИЯ</td>\n",
       "      <td>сеть</td>\n",
       "      <td>кафе</td>\n",
       "      <td>город Москва, Абрамцевская улица, дом 1</td>\n",
       "      <td>40</td>\n",
       "    </tr>\n",
       "    <tr>\n",
       "      <th>4</th>\n",
       "      <td>119365</td>\n",
       "      <td>Кафе «Вишневая метель»</td>\n",
       "      <td>несетевое</td>\n",
       "      <td>кафе</td>\n",
       "      <td>город Москва, Абрамцевская улица, дом 9, корпус 1</td>\n",
       "      <td>50</td>\n",
       "    </tr>\n",
       "  </tbody>\n",
       "</table>\n",
       "</div>"
      ],
      "text/plain": [
       "       id             object_name      chain object_type  \\\n",
       "0  151635                 СМЕТАНА  несетевое        кафе   \n",
       "1   77874                  Родник  несетевое        кафе   \n",
       "2   24309         Кафе «Академия»  несетевое        кафе   \n",
       "3   21894              ПИЦЦЕТОРИЯ       сеть        кафе   \n",
       "4  119365  Кафе «Вишневая метель»  несетевое        кафе   \n",
       "\n",
       "                                             address  seats  \n",
       "0         город Москва, улица Егора Абакумова, дом 9     48  \n",
       "1  город Москва, улица Талалихина, дом 2/1, корпус 1     35  \n",
       "2          город Москва, Абельмановская улица, дом 6     95  \n",
       "3            город Москва, Абрамцевская улица, дом 1     40  \n",
       "4  город Москва, Абрамцевская улица, дом 9, корпус 1     50  "
      ]
     },
     "execution_count": 15,
     "metadata": {},
     "output_type": "execute_result"
    }
   ],
   "source": [
    "rest.head()"
   ]
  },
  {
   "cell_type": "markdown",
   "metadata": {},
   "source": [
    "Аномальных значений и пропусков в таблице не обнаружено. Найдено и удалено 82 дубликата. Два названия в типах заведения переименованы для лучшего восприятия, также переименован столбец с количеством посадочных мест `number` в более понятный `seats`. Маркировки *да/нет* в колонке принадлежности к сети заменена на *сеть/несетевое* для более наглядной визуализации в дальнейшем."
   ]
  },
  {
   "cell_type": "markdown",
   "metadata": {},
   "source": [
    "## Анализ данных"
   ]
  },
  {
   "cell_type": "markdown",
   "metadata": {},
   "source": [
    "### Соотношение видов объектов общественного питания по количеству. "
   ]
  },
  {
   "cell_type": "code",
   "execution_count": 16,
   "metadata": {
    "scrolled": false
   },
   "outputs": [
    {
     "data": {
      "text/html": [
       "<div>\n",
       "<style scoped>\n",
       "    .dataframe tbody tr th:only-of-type {\n",
       "        vertical-align: middle;\n",
       "    }\n",
       "\n",
       "    .dataframe tbody tr th {\n",
       "        vertical-align: top;\n",
       "    }\n",
       "\n",
       "    .dataframe thead th {\n",
       "        text-align: right;\n",
       "    }\n",
       "</style>\n",
       "<table border=\"1\" class=\"dataframe\">\n",
       "  <thead>\n",
       "    <tr style=\"text-align: right;\">\n",
       "      <th></th>\n",
       "      <th>count</th>\n",
       "    </tr>\n",
       "    <tr>\n",
       "      <th>object_type</th>\n",
       "      <th></th>\n",
       "    </tr>\n",
       "  </thead>\n",
       "  <tbody>\n",
       "    <tr>\n",
       "      <th>кафе</th>\n",
       "      <td>6071</td>\n",
       "    </tr>\n",
       "    <tr>\n",
       "      <th>столовая</th>\n",
       "      <td>2584</td>\n",
       "    </tr>\n",
       "    <tr>\n",
       "      <th>ресторан</th>\n",
       "      <td>2282</td>\n",
       "    </tr>\n",
       "    <tr>\n",
       "      <th>фастфуд</th>\n",
       "      <td>1898</td>\n",
       "    </tr>\n",
       "    <tr>\n",
       "      <th>бар</th>\n",
       "      <td>855</td>\n",
       "    </tr>\n",
       "    <tr>\n",
       "      <th>буфет</th>\n",
       "      <td>577</td>\n",
       "    </tr>\n",
       "    <tr>\n",
       "      <th>кафетерий</th>\n",
       "      <td>395</td>\n",
       "    </tr>\n",
       "    <tr>\n",
       "      <th>закусочная</th>\n",
       "      <td>349</td>\n",
       "    </tr>\n",
       "    <tr>\n",
       "      <th>кулинария</th>\n",
       "      <td>273</td>\n",
       "    </tr>\n",
       "  </tbody>\n",
       "</table>\n",
       "</div>"
      ],
      "text/plain": [
       "             count\n",
       "object_type       \n",
       "кафе          6071\n",
       "столовая      2584\n",
       "ресторан      2282\n",
       "фастфуд       1898\n",
       "бар            855\n",
       "буфет          577\n",
       "кафетерий      395\n",
       "закусочная     349\n",
       "кулинария      273"
      ]
     },
     "execution_count": 16,
     "metadata": {},
     "output_type": "execute_result"
    }
   ],
   "source": [
    "# посчитаем количество заведений разного типа \n",
    "\n",
    "count_type = rest.groupby('object_type').agg(\n",
    "    {'id': 'count'}).rename(columns={'id':'count'}).sort_values(\n",
    "    by='count', ascending=False).reset_index().set_index('object_type')\n",
    "\n",
    "count_type\n"
   ]
  },
  {
   "cell_type": "code",
   "execution_count": 17,
   "metadata": {
    "scrolled": true
   },
   "outputs": [
    {
     "data": {
      "image/png": "[encoded data removed]",
      "text/plain": [
       "<Figure size 504x504 with 1 Axes>"
      ]
     },
     "metadata": {},
     "output_type": "display_data"
    }
   ],
   "source": [
    "# зададим цветовую палитру\n",
    "colors = ['#f0932b','#f9ca24','#7ed6df','#22a6b3','#be2edd','#e056fd','#686de0','#4834d4','#95afc0']\n",
    "\n",
    "count_type.plot(y='count', kind='pie', \n",
    "                autopct = '%.0f%%', figsize=(7, 7), colors=colors)\n",
    "plt.title('Соотношение заведений общественного питания по типу')\n",
    "plt.show()\n"
   ]
  },
  {
   "cell_type": "markdown",
   "metadata": {},
   "source": [
    "Значительную часть доли рынка - 40% занимают кафе, что понятно, поскольку это наиболее распространенный тип объекта общественного питания. На втором месте столовые, которые включают столовые при предприятиях, учебных заведениях, бизнес-центрах и т.д. - поэтому их так много. Ресторан - самая высокая категория, занимает 3е место. У фастфуда - всего 13% доли рынка всех заведений Москвы. Кулинарии, закусочные и кафетерии составляют совсем незначительную часть общепита, так как это достаточно узконаправленные заведения.\n",
    "\n",
    "\n"
   ]
  },
  {
   "cell_type": "markdown",
   "metadata": {},
   "source": [
    "### Cоотношение сетевых и несетевых заведений по количеству. "
   ]
  },
  {
   "cell_type": "code",
   "execution_count": 18,
   "metadata": {},
   "outputs": [
    {
     "data": {
      "text/html": [
       "<div>\n",
       "<style scoped>\n",
       "    .dataframe tbody tr th:only-of-type {\n",
       "        vertical-align: middle;\n",
       "    }\n",
       "\n",
       "    .dataframe tbody tr th {\n",
       "        vertical-align: top;\n",
       "    }\n",
       "\n",
       "    .dataframe thead th {\n",
       "        text-align: right;\n",
       "    }\n",
       "</style>\n",
       "<table border=\"1\" class=\"dataframe\">\n",
       "  <thead>\n",
       "    <tr style=\"text-align: right;\">\n",
       "      <th></th>\n",
       "      <th>count</th>\n",
       "      <th>ratio%</th>\n",
       "    </tr>\n",
       "    <tr>\n",
       "      <th>chain</th>\n",
       "      <th></th>\n",
       "      <th></th>\n",
       "    </tr>\n",
       "  </thead>\n",
       "  <tbody>\n",
       "    <tr>\n",
       "      <th>несетевое</th>\n",
       "      <td>12320</td>\n",
       "      <td>81.0</td>\n",
       "    </tr>\n",
       "    <tr>\n",
       "      <th>сеть</th>\n",
       "      <td>2964</td>\n",
       "      <td>19.0</td>\n",
       "    </tr>\n",
       "  </tbody>\n",
       "</table>\n",
       "</div>"
      ],
      "text/plain": [
       "           count  ratio%\n",
       "chain                   \n",
       "несетевое  12320    81.0\n",
       "сеть        2964    19.0"
      ]
     },
     "execution_count": 18,
     "metadata": {},
     "output_type": "execute_result"
    }
   ],
   "source": [
    "# сгруппируем заведения по типу и посчитаем процент\n",
    "\n",
    "chain = rest.groupby('chain').agg(\n",
    "    {'object_name':'count'}).reset_index().rename(columns={'object_name':'count'}).set_index('chain')\n",
    "\n",
    "\n",
    "chain['ratio%'] = (chain['count'] / (chain['count'].sum()) * 100).round()\n",
    "\n",
    "chain"
   ]
  },
  {
   "cell_type": "code",
   "execution_count": 19,
   "metadata": {},
   "outputs": [
    {
     "data": {
      "image/png": "[encoded data removed]",
      "text/plain": [
       "<Figure size 360x360 with 1 Axes>"
      ]
     },
     "metadata": {},
     "output_type": "display_data"
    }
   ],
   "source": [
    "chain.plot(y='count', kind='pie', autopct = '%.0f%%', \n",
    "           figsize=(5, 5), colors=['#7ed6df', '#f9ca24'])\n",
    "\n",
    "plt.title('Соотношение заведений общественного питания по типу')\n",
    "plt.show()"
   ]
  },
  {
   "cell_type": "markdown",
   "metadata": {},
   "source": [
    "\n",
    "Количество несетевых заведений значительно превосходит сетевые. Интересно посмотреть, как изменится распределение для разных категорий заведений. Наверняка фастфуды преимущественно сетевого типа. "
   ]
  },
  {
   "cell_type": "markdown",
   "metadata": {},
   "source": [
    "### Принадлежность к сети по типу обектов"
   ]
  },
  {
   "cell_type": "code",
   "execution_count": 20,
   "metadata": {
    "scrolled": true
   },
   "outputs": [
    {
     "data": {
      "text/html": [
       "<div>\n",
       "<style scoped>\n",
       "    .dataframe tbody tr th:only-of-type {\n",
       "        vertical-align: middle;\n",
       "    }\n",
       "\n",
       "    .dataframe tbody tr th {\n",
       "        vertical-align: top;\n",
       "    }\n",
       "\n",
       "    .dataframe thead th {\n",
       "        text-align: right;\n",
       "    }\n",
       "</style>\n",
       "<table border=\"1\" class=\"dataframe\">\n",
       "  <thead>\n",
       "    <tr style=\"text-align: right;\">\n",
       "      <th>chain</th>\n",
       "      <th>object_type</th>\n",
       "      <th>несетевое</th>\n",
       "      <th>сеть</th>\n",
       "      <th>chain%</th>\n",
       "    </tr>\n",
       "  </thead>\n",
       "  <tbody>\n",
       "    <tr>\n",
       "      <th>8</th>\n",
       "      <td>фастфуд</td>\n",
       "      <td>1110</td>\n",
       "      <td>788</td>\n",
       "      <td>41.52</td>\n",
       "    </tr>\n",
       "    <tr>\n",
       "      <th>5</th>\n",
       "      <td>кулинария</td>\n",
       "      <td>195</td>\n",
       "      <td>78</td>\n",
       "      <td>28.57</td>\n",
       "    </tr>\n",
       "    <tr>\n",
       "      <th>6</th>\n",
       "      <td>ресторан</td>\n",
       "      <td>1739</td>\n",
       "      <td>543</td>\n",
       "      <td>23.79</td>\n",
       "    </tr>\n",
       "    <tr>\n",
       "      <th>3</th>\n",
       "      <td>кафе</td>\n",
       "      <td>4675</td>\n",
       "      <td>1396</td>\n",
       "      <td>22.99</td>\n",
       "    </tr>\n",
       "    <tr>\n",
       "      <th>2</th>\n",
       "      <td>закусочная</td>\n",
       "      <td>293</td>\n",
       "      <td>56</td>\n",
       "      <td>16.05</td>\n",
       "    </tr>\n",
       "    <tr>\n",
       "      <th>4</th>\n",
       "      <td>кафетерий</td>\n",
       "      <td>343</td>\n",
       "      <td>52</td>\n",
       "      <td>13.16</td>\n",
       "    </tr>\n",
       "    <tr>\n",
       "      <th>0</th>\n",
       "      <td>бар</td>\n",
       "      <td>818</td>\n",
       "      <td>37</td>\n",
       "      <td>4.33</td>\n",
       "    </tr>\n",
       "    <tr>\n",
       "      <th>1</th>\n",
       "      <td>буфет</td>\n",
       "      <td>566</td>\n",
       "      <td>11</td>\n",
       "      <td>1.91</td>\n",
       "    </tr>\n",
       "    <tr>\n",
       "      <th>7</th>\n",
       "      <td>столовая</td>\n",
       "      <td>2581</td>\n",
       "      <td>3</td>\n",
       "      <td>0.12</td>\n",
       "    </tr>\n",
       "  </tbody>\n",
       "</table>\n",
       "</div>"
      ],
      "text/plain": [
       "chain object_type  несетевое  сеть  chain%\n",
       "8         фастфуд       1110   788   41.52\n",
       "5       кулинария        195    78   28.57\n",
       "6        ресторан       1739   543   23.79\n",
       "3            кафе       4675  1396   22.99\n",
       "2      закусочная        293    56   16.05\n",
       "4       кафетерий        343    52   13.16\n",
       "0             бар        818    37    4.33\n",
       "1           буфет        566    11    1.91\n",
       "7        столовая       2581     3    0.12"
      ]
     },
     "execution_count": 20,
     "metadata": {},
     "output_type": "execute_result"
    }
   ],
   "source": [
    "# создаем сводную таблицу заведений по типу и количеству сетевых/несетевых\n",
    "\n",
    "rest_chain = rest.pivot_table(\n",
    "    index=['object_type'], columns='chain', \n",
    "    values='id', aggfunc='count').reset_index().sort_values(by='сеть', ascending=False)\n",
    "\n",
    "# добавим колонку с долей сетевых заведений в % от общего\n",
    "rest_chain['chain%'] = (rest_chain['сеть'] / \n",
    "                        (rest_chain['несетевое'] + rest_chain['сеть']) * 100).round(2)\n",
    "\n",
    "rest_chain.sort_values(by='chain%', ascending=False)"
   ]
  },
  {
   "cell_type": "code",
   "execution_count": 21,
   "metadata": {},
   "outputs": [
    {
     "data": {
      "image/png": "[encoded data removed]",
      "text/plain": [
       "<Figure size 720x288 with 1 Axes>"
      ]
     },
     "metadata": {
      "needs_background": "light"
     },
     "output_type": "display_data"
    }
   ],
   "source": [
    "plt.figure(figsize = (10, 4))\n",
    "\n",
    "ax = sns.barplot(x='chain%', y='object_type', data=(rest_chain).sort_values(\n",
    "    by='chain%', ascending=False), palette='BuPu_r')\n",
    "ax.set_title('Соотношение сетевых объектов общественного питания по типам')\n",
    "ax.set_xlabel('Доля объектов, %')\n",
    "plt.show()"
   ]
  },
  {
   "cell_type": "markdown",
   "metadata": {},
   "source": [
    "Действительно, для фастфудов наиболее характерно сетевая принадлежность -чуть больше 40% всех фастфудов имеют принадлежность к какой-либо сети. Также кафе, рестораны и кулинарии чаще других типов заведений общественного питания оказываются сетевыми."
   ]
  },
  {
   "cell_type": "markdown",
   "metadata": {},
   "source": [
    "### Характеристика сетевых заведений по количеству посадочных мест"
   ]
  },
  {
   "cell_type": "code",
   "execution_count": 22,
   "metadata": {},
   "outputs": [
    {
     "data": {
      "image/png": "[encoded data removed]",
      "text/plain": [
       "<Figure size 720x288 with 1 Axes>"
      ]
     },
     "metadata": {
      "needs_background": "light"
     },
     "output_type": "display_data"
    }
   ],
   "source": [
    "# срез для сетевых заведений\n",
    "rest.query('chain == \"сеть\"')['seats'].hist(bins=50, grid=False, \n",
    "                                            figsize=(10,4), color='#22a6b3', rwidth=0.8)\n",
    "plt.xlabel('Посадочные места')\n",
    "plt.title('Распределение посадочных мест в сетевых заведениях')\n",
    "plt.xlim(0, 300)\n",
    "plt.show()\n"
   ]
  },
  {
   "cell_type": "markdown",
   "metadata": {},
   "source": [
    "Для сетевых заведений более характерно небольшое количество посадочных мест. Есть всплески  с местами в количестве около 150 и 200 штук на заведение, но это все же исключения. В городе больше всего заведений различных сетей, где число мест не превышает 10."
   ]
  },
  {
   "cell_type": "code",
   "execution_count": 23,
   "metadata": {
    "scrolled": false
   },
   "outputs": [
    {
     "data": {
      "text/plain": [
       "array(['Beverly Hills Diner', 'Bierloga', 'Black & White', 'Bocconcino',\n",
       "       'BooBo', 'Bubbleology', 'Burger Club', 'COFIX', 'CORREAS',\n",
       "       'CoffeeShop', 'Coffeeshop Company', 'Cofix', 'Cookhouse',\n",
       "       'Correas', 'Costa Coffee', 'Deli by Prime Прайм-кафе',\n",
       "       'Dunkin Donuts', 'FRIDAYS', 'Florentini', 'Fridays KFC',\n",
       "       'GRAND УРЮК', 'GlowSubs Sandwiches', 'Goodman Гудман', 'Grand Cru',\n",
       "       'HEALTHY Food', 'Healthy Food', 'Healthy food',\n",
       "       'IL Forno Иль Форно', 'Jeffreys Coffee', 'Jeffreys coffee', 'KFC',\n",
       "       'KFC Волгоградский', 'Krispy Creme', 'Krispy Krem', 'LAVKALAVKA',\n",
       "       'Luciano', 'M Cafe Хинкальная', 'Maki Maki', 'Marmalato',\n",
       "       'Marrakesh Хинкальная', 'MosKalyan', 'Movenpick', 'My box',\n",
       "       'Osteria Mario', 'PAUL Поль', 'PRIME STAR Прайм стар',\n",
       "       'PRIME Прайм стар Прайм-кафе', 'Panda Express', 'Pizengof99 СПБ',\n",
       "       'Prime Прайм стар', 'STARBUCKS COFFEE', 'SUBWAY', 'Starbucks',\n",
       "       'Starbucks Старбакс', 'Starbucks кофе', 'Starbucks, СТАРБАКС КОФЕ',\n",
       "       'Starlite Diner', 'Subway', 'Sushilka', 'TAJJ MAHAL',\n",
       "       'TGI FRIDAYS', 'TGI Fridays', 'TUTTI FRUTTI FROZEN YOGURT',\n",
       "       'The Terrace', 'Tokyo bay', 'Torro Grill Торро Гриль',\n",
       "       'Travelers Coffe', 'Travelers Coffee', 'Tutti frutti',\n",
       "       'UPSIDE DOWN CAKE', 'Upside Down', 'Upside Down Cake',\n",
       "       'Van Wok Ванвок', 'Vanwok Ванвок', 'VietCafe Вьеткафе',\n",
       "       'White Rabbite (Белый кролик)', 'Wok & Box', 'Wokker',\n",
       "       'Yogurt Frenzy', '«Кафе «Кулинарная лавка братьев Караваевых»',\n",
       "       '«Кафе «Кулинарная лавка братьев Караваевых»»', 'Ёрш',\n",
       "       'АВ-Дейли Азбука Вкуса', 'АКАДЕМИЯ', 'АЛЛО ПИЦЦА', 'АНДЕРСОН',\n",
       "       'АРИАНА', 'Азбука Вкуса', 'Азбука вкуса', 'Академия', 'Алло Пицца',\n",
       "       'Алло Пицца 2', 'Американ Сити Пицца ЦЕХ ПО ИЗГОТОВЛЕНИЮ ПИЦЦЫ',\n",
       "       'АндерСон', 'Андерсон', 'Анти-кафе кальянная «MosKalyan»',\n",
       "       'БАКИНСКИЙ БУЛЬВАР', 'БАР Азбука Вкуса',\n",
       "       'ББ энд БУРГЕРС В&В Бургер', 'БИСТРО ПРОНТО', 'БОТИК ПЕТРА',\n",
       "       'БРАВА Коста кофе', 'БРУСНИКА', 'БУРГЕР КИНГ', 'Бабай Клаб',\n",
       "       'Бакинский бульвар', 'Бар «Суши Wok»', 'Бар Боулинг-Космик',\n",
       "       'Бар Мята Lounge', 'Бар- буфет «Николай»', 'Бар-буфет Николай',\n",
       "       'Баракат', 'Барашка', 'Барбарис', 'Барбекю', 'Баскин Роббинс',\n",
       "       'Бенто WOK', 'Билла', 'Бир Хаус Паб', 'Бир хаус', 'Блинная',\n",
       "       'Бодрый день Кофе с собой', 'Ботик Петра', 'Братья Караваевы',\n",
       "       'Братья Караваевых', 'Брудер', 'Брусника', 'Бургер Кинг',\n",
       "       'Бургер Кинг Burger King', 'Бургер Клаб', 'Бургер кинг',\n",
       "       'Бургер клаб', 'Бутчер Бизон', 'В&В Бургер',\n",
       "       'Вlack Burger Чайхона №1', 'ВГости. Урюк', 'ВЕНЕЦИЯ', 'ВОККЕР',\n",
       "       'Ваби-Саби', 'Ваби-саби', 'Ванвок', 'Вареничная №1', 'Васаби',\n",
       "       'Венеция', 'Виват-Пицца', 'Виктория', 'Вкусняшка', 'Воккер',\n",
       "       'Волконский', 'Восточный базар', 'ВьетКафе', 'Вьеткафе',\n",
       "       'ГЕНАЦВАЛИ', 'ГРАБЛИ', 'Газпромнефтьцентр', 'Гамбринус',\n",
       "       'Ганс и Марта', 'Гино-но-таки', 'Городские автокофейни', 'Готика',\n",
       "       'Готовые блюда Милти', 'Грабли', 'Граци рагацци Зю Кафе',\n",
       "       'Грузинская кухня ЭZО Хинкальная', 'Грузинские каникулы Барбарис',\n",
       "       'Гудман', 'Гудман Гудвин', 'Гурман', 'Гурмания', 'ДАНКИН ДОНАТС',\n",
       "       'ДВЕ ПАЛОЧКИ', 'ДЕТСКИЙ КЛУБ «АНДЕРСОН»',\n",
       "       'ДЕТСКОЕ КАФЕ «АНДЕРСОН»', 'ДЖОН ДЖОЛИ', 'ДОДО ПИЦЦА',\n",
       "       'ДОДО Пицца', 'ДОДО пицца', \"ДОМИНО'С ПИЦЦА\", 'Да Пино',\n",
       "       'Да Пино (Da Pino)', 'Дабл Би', 'Дабл Би блэк', 'Дабл би',\n",
       "       'Данкин Донатс', 'Две палочки', 'Де Марко',\n",
       "       'Детское кафе «Космик»', 'Джаганнат', 'Джон Джоли', 'ДоДо Пицца',\n",
       "       'ДоДо пицца', 'Добрынинский и партнёры', 'Додо Пицца',\n",
       "       'Додо пицца', 'Домашнее Кафе сеть городских кафе',\n",
       "       \"Домино'с Пицца\", \"Домино'с Пицца Domino,s Pizza\",\n",
       "       \"Домино'с пицца\", 'Дорогая я перезвоню', 'Дюшес', 'Елки-Палки',\n",
       "       'Жан Жак', 'ЗОЛОТАЯ ВОБЛА', 'Закусочная KFC', 'Закусочная «KFC»',\n",
       "       'Закусочная «Американ Сити Пицца»',\n",
       "       'Закусочная «Баскин Роббинс & Стардогс»',\n",
       "       'Закусочная «Бургер Кинг»', 'Закусочная «Крошка Картошка»',\n",
       "       'Закусочная «Пицца Хат»', 'Закусочная «СтардогS»',\n",
       "       'Закусочная «СушиШоп»', 'Закусочная «Теремок»', 'Зодиак',\n",
       "       'Золотая вобла', 'Зю Кафе', 'ИЛЬ ПАТИО', 'ИЛЬ ФОРНО', 'Изба',\n",
       "       'Икура Паб', 'Иль Патио', 'Иль Патио Планета Суши', 'Иль Форно',\n",
       "       'Иль-патио', 'Илья Муромец', 'Ирландский Паб', 'Ичибан Боши',\n",
       "       'КАКТУС', 'КАРО', 'КАФЕ KFC', 'КАФЕ Starbucks', 'КАФЕ «Андерсон»',\n",
       "       'КАФЕ «Восточный базар»', 'КАФЕ «МАКДОНАЛДС»', 'КАФЕ «МУ-МУ»',\n",
       "       'КАФЕ «ТЕРЕМОК»', 'КАФЕ «Теремок»', 'КАФЕ «Хлеб насущный»',\n",
       "       'КАФЕ «ШТОЛЛЕ»', 'КАФЕ «Шоколадница»', 'КАФЕ «ЯКИТОРИЯ»',\n",
       "       'КАФЕ Кофе-Хаус', 'КАФЕ МАКДОНАЛДС', 'КАФЕ-ПЕКАРЕЯ «ВОЛКОНСКИЙ»',\n",
       "       'КОЛБАСОФФ', 'КОРЧМА «ТАРАС БУЛЬБА»', 'КОРЧМА ТАРАС БУЛЬБА',\n",
       "       'КОФЕ С СОБОЙ', 'КОФЕ ХАУС', 'КОФЕ ХАУС. ЭКСПРЕССО И КАПУЧИНО БАР',\n",
       "       'КОФЕЙНЯ «Costa Coffee»', 'КОФЕЙНЯ «ДЕ МАРКО»',\n",
       "       'КОФЕЙНЯ «ШОКОЛАДНИЦА»', 'КОФЕМАНИЯ', 'КОФЕПОРТ',\n",
       "       'КРОШКА КАРТОШКА', 'КРУЖКА', 'КУЛИНАРНАЯ ЛАВКА БРАТЬЕВ КАРАВАЕВЫХ',\n",
       "       'КУЛИНАРНОЕ БЮРО', 'Кальян- бар «Мята Lounge»',\n",
       "       'Кальян-бар MosKalyan', 'Кальян-бар «Мята Lounge»',\n",
       "       'Кальянная F-lounge', 'Кальянная «Мята Lounge»',\n",
       "       'Кальянная Мята Lounge', 'Кафе PRIME Прайм стар',\n",
       "       'Кафе Prime Прайм стар Прайм-кафе', 'Кафе «Costa coffee»',\n",
       "       'Кафе «KFC»', 'Кафе «PRIME» Прайм стар',\n",
       "       'Кафе «Prime» (Прайм стар)', 'Кафе «Prime» Прайм стар',\n",
       "       'Кафе «SUBWAY»', 'Кафе «Starbucks»', 'Кафе «Subway»',\n",
       "       'Кафе «АндерСон»', 'Кафе «Андерсон»', 'Кафе «БУРГЕР КИНГ»',\n",
       "       'Кафе «Баскин Роббинс»', 'Кафе «Бургер Кинг»', 'Кафе «Ваби-Саби»',\n",
       "       'Кафе «Данкин Донатс»', \"Кафе «Домино'с Пицца»\",\n",
       "       'Кафе «Иль Патио»', 'Кафе «Кофе Хаус»', 'Кафе «Кофейня Старбакс»',\n",
       "       'Кафе «Крошка Картошка»', 'Кафе «Кружка»',\n",
       "       'Кафе «Кулинарная лавка братьев Караваевых»',\n",
       "       'Кафе «Кулинарное бюро»', 'Кафе «МАКДОНАЛДС»', 'Кафе «МЕЛЕНКА»',\n",
       "       'Кафе «Макдоналдс»', 'Кафе «Марукамэ»', 'Кафе «Менза»',\n",
       "       'Кафе «Му-Му»', 'Кафе «Му-му»', 'Кафе «Нияма»',\n",
       "       'Кафе «Папа Джонс»', 'Кафе «Пицца Фабрика»', 'Кафе «Пицца Хат»',\n",
       "       'Кафе «Поль Бейкери»', 'Кафе «Прайм Стар»',\n",
       "       'Кафе «Сабвей» Старбакс', 'Кафе «Сим-Сим»', 'Кафе «Старбакс»',\n",
       "       'Кафе «Суши Wok»', 'Кафе «Суши Вок»', 'Кафе «Суши Сет»',\n",
       "       'Кафе «ТО ДА СЁ»', 'Кафе «Тануки»', 'Кафе «Тапчан»',\n",
       "       'Кафе «Теремок»', 'Кафе «То Да Сё»', 'Кафе «Торнадо»',\n",
       "       'Кафе «Урюк» Хивинская чайхона', 'Кафе «Хинкальная»',\n",
       "       'Кафе «Чайхана Тапчан»', 'Кафе «Шоколадница»', 'Кафе «Штолле»',\n",
       "       'Кафе «Якитория»', 'Кафе БУРГЕР КИНГ', 'Кафе Бургер Кинг',\n",
       "       'Кафе Волконский пекарня', 'Кафе Иль Патио «Il Patio»',\n",
       "       'Кафе КОФЕ ТУН', 'Кафе Космик', 'Кафе Кофемания', 'Кафе МУ-МУ',\n",
       "       'Кафе ПРОНТО', 'Кафе Пекарня Хачапури', 'Кафе Песто и Митлес',\n",
       "       'Кафе Пронто', 'Кафе Рецептор', 'Кафе Суши Wok', 'Кафе Чайхона №1',\n",
       "       'Кафе Штолле', 'Кафе Якитория', 'Кафе быстрого питания Му-му',\n",
       "       'Кафе мороженного «Tutti Frutti»', 'Кафе при АЗС',\n",
       "       'Кафе при АЗС «BP»', 'Кафе при АЗС Газпромнефть',\n",
       "       'Кафе при АЗС Лукойл', 'Кафе теремок', 'Кафе шоколад',\n",
       "       'Кафе-закусочная «Бургер Кинг»', 'Каффе «Wokker»', 'Квартира 44',\n",
       "       'Кебаб Хаус', 'Кебаб хаус', 'Колбасофф',\n",
       "       'Кондитерия Тирольские пироги', 'Кондитерская Волконский',\n",
       "       'Кондитерская-пекарня Волконский', 'Корчма Тарас Бульба', 'Космик',\n",
       "       'Коста Кофе', 'Кофе', 'Кофе Хаус', 'Кофе Хаус,Экспресс',\n",
       "       'Кофе с Собой', 'Кофе с собой', 'Кофе с собой Gate 42',\n",
       "       'Кофе с собой «Кофейня»', 'Кофе тун', 'Кофе-Бин', 'Кофе-Хаус',\n",
       "       'Кофейня «Дабл Би»', 'Кофейня «Кофе Хаус»', 'Кофейня «Кофе хаус»',\n",
       "       'Кофейня «СТАРБАКС КОФЕ»', 'Кофейня «Старбакс»',\n",
       "       'Кофейня «Шоколадница»', 'Кофейня Кофемания, пиццерия Бармалини',\n",
       "       'Кофейня ШОКОЛАДНИЦА', 'Кофейня Шоколадница', 'Кофемания',\n",
       "       'Кофемания Starbucks', 'Кофепорт', 'Кофетун',\n",
       "       'Кофешоп Coffeeshop Company', 'Крепери де Пари', 'Крепери де пари',\n",
       "       'Крошка Картошка', 'Крошка картошка', 'Кружка',\n",
       "       'Кулинарная Лавка Братьев Караваевых Братья Караваевы',\n",
       "       'Кулинарная лавка братьев Караваевых',\n",
       "       'Кулинарная лавка братьев Караваевых Братья Караваевы',\n",
       "       'Кулинарное бюро', 'Кулинарное бюро Kitchen',\n",
       "       'Кулинарное бюро Китчен', 'Лаундж-бар «Мята Lounge»', 'Лепешка',\n",
       "       'Лето', 'Ливан-Хаус', 'Ливан-хаус', 'Лукойл',\n",
       "       'Лукойл-Центрнефтьпродукт', 'МАГНОЛИЯ', 'МАКДОНАЛДС', 'МАКИ-МАКИ',\n",
       "       'МЕНЗА', 'МИ ПЬЯЧЕ', 'МИЛТИ', 'МИМИНО', 'МОСКВА - МАКДОНАЛДС',\n",
       "       'МСК Московская сеть кальянных',\n",
       "       'МСК Московская сеть кальянных на Шаболовке', 'МУ-МУ', 'МЯСОROOB',\n",
       "       'МагБургер', 'Магазин готовой еды «Милти»',\n",
       "       'Магазин-кулинария «Суши Сет»', 'Магбургер', 'Магбургер АЗС №16',\n",
       "       'Магбургер АЗС №17', 'Макдоналдс', 'Маки-Маки', 'Маки-маки',\n",
       "       'Макс Бреннер', 'Марчеллис', 'Меленка', 'Менза', 'Метро К&К',\n",
       "       'Ми Пьяче', 'Милано пицца', 'Милти', 'Мимино', 'Мимино Хинкальная',\n",
       "       'Мираторг', 'Мистер Картошка', 'Молли гвинз', 'Му-Му', 'Му-му',\n",
       "       'Мюнгер', 'МясоROOB', 'Мята', 'Мята Lounge',\n",
       "       'Мята Lounge Автозаводская', 'Мята Lounge Октябрьская',\n",
       "       'Мята Lounge Шаболовка', 'Мята lounge', 'НИЯМА', 'Николай',\n",
       "       'Нияма', 'Нияма Пицца Пи', 'Нияма. Пицца Пи', 'Ньокки',\n",
       "       'Обжорный ряд', 'Оникс', 'ПАПА ДЖОНС', 'ПАПА ДЖОНС ПИЦЦА',\n",
       "       'ПБО «KFC Покрышкина»', 'ПБО «KFC»', 'ПБО «Теремок»', 'ПИВКО',\n",
       "       'ПИЛЗНЕР', 'ПИРОГИ ШТОЛЛЕ', 'ПИЦЦЕРИЯ «Папа Джонс»', 'ПИЦЦЕТОРИЯ',\n",
       "       'ПОМИДОР', 'ПРАВDА Кофе', 'ПРАЙМ', 'ПРАЙМ СТАР',\n",
       "       'ПРАЙМкафе Прайм стар', 'ПРИМАВЕРА', 'ПРОНТО', 'Паб Кружка',\n",
       "       'Павлин Мавлин Чайхона №1', 'Павлин-Мавлин', 'Панчо Пицца',\n",
       "       'Папа Джонс', 'Перекресток', 'ПивКо', 'Пикколо', 'Пиппони',\n",
       "       'Пироговая Штолле', 'Пицерия «Папа Джонс»', 'Пицца Pomodoro',\n",
       "       'Пицца Pomodoro и Суши Дзен', 'Пицца «Паоло»', 'Пицца ПИПОНИ',\n",
       "       'Пицца Паоло', 'Пицца Паоло и Бенто WOK', 'Пицца Пипони',\n",
       "       'Пицца Фабрика', 'Пицца Хат', 'Пицца Экспресс', 'Пицца хат',\n",
       "       'Пицца экспресс', 'Пиццерия «АКАДЕМИЯ»', 'Пиццерия «Додо Пицца»',\n",
       "       \"Пиццерия «Домино'с Пицца»\", 'Пиццерия «ПАПА ДЖОНС»',\n",
       "       'Пиццерия «Папа Джонс»', 'Пиццерия «Пицца Паоло»',\n",
       "       'Пиццерия «Пицца Хат»', 'Пиццерия Донателло',\n",
       "       'Пиццерия Папа Джонс', 'Пиццерия Пиу дель Чибо', 'Пиццетория',\n",
       "       'Планета Суши', 'Планета суши', 'Поль Бейкери',\n",
       "       'Пончиковое кафе ИКЕА Ikea', 'Порто Мальтезе', 'Пражечка', 'Прайм',\n",
       "       'Прайм Стар', 'Прайм Стар кафе', 'Прайм стар', 'Прайм-кафе',\n",
       "       'Прайм-кафе Прайм стар', 'Праймстар',\n",
       "       'Предприятие быстрого обслуживания «KFC»',\n",
       "       'Предприятие быстрого обслуживания «Бенто WOK»',\n",
       "       'Предприятие быстрого обслуживания «Бургер Кинг»',\n",
       "       'Предприятие быстрого обслуживания «ДОДО Пицца»',\n",
       "       \"Предприятие быстрого обслуживания «Домино'с Пицца»\",\n",
       "       'Предприятие быстрого обслуживания «Крошка Картошка»',\n",
       "       'Предприятие быстрого обслуживания «Магбургер»',\n",
       "       'Предприятие быстрого обслуживания «Макдоналдс»',\n",
       "       'Предприятие быстрого обслуживания «Милти»',\n",
       "       'Предприятие быстрого обслуживания «СушиШоп»',\n",
       "       'Предприятие быстрого обслуживания «Теремок»',\n",
       "       'Предприятие быстрого питания «Крошка Картошка»', 'Примавера',\n",
       "       'Пронто', 'Простые Вещи', 'Простые вещи', 'РЕСТОРАН «ДЖОН ДЖОЛИ»',\n",
       "       'РЕСТОРАН «Космик»', 'РЕСТОРАН «ТАНУКИ»', 'РЕСТОРАН «Тануки»',\n",
       "       'РЕСТОРАН «УРЮК»', 'РЕСТОРАН «ЧАЙХОНА №1»',\n",
       "       'РЕСТОРАН «Чайхона №1»', 'РЕСТОРАН«МАКДОНАЛДС»', 'РОСТИКС KFC',\n",
       "       'Ресторан KFC', 'Ресторан «Florentini»', 'Ресторан «KFC»',\n",
       "       'Ресторан «Ёрш»', 'Ресторан «БРУДЕР»', 'Ресторан «БУРГЕР КИНГ»',\n",
       "       'Ресторан «Бакинский бульвар»', 'Ресторан «Брудер»',\n",
       "       'Ресторан «Бургер Кинг»', 'Ресторан «Вареничная №1»',\n",
       "       'Ресторан «Вьеткафе»', 'Ресторан «Джардино Да Пино»',\n",
       "       'Ресторан «Джон Джоли»', \"Ресторан «Домино'с Пицца»\",\n",
       "       'Ресторан «Золотая Вобла»', 'Ресторан «ИЛЬ ПАТИО»',\n",
       "       'Ресторан «Иль Патио»', 'Ресторан «Илья Муромец»',\n",
       "       'Ресторан «Колбасофф»', 'Ресторан «Корчма Тарас Бульба»',\n",
       "       'Ресторан «Космик»', 'Ресторан «Макдоналдс»', 'Ресторан «Ньокки»',\n",
       "       'Ресторан «Пицца Хат»', 'Ресторан «Планета Суши»',\n",
       "       'Ресторан «Пронто»', 'Ресторан «ТАНУКИ»', 'Ресторан «Тануки»',\n",
       "       'Ресторан «Темпл Бар»', 'Ресторан «Теремок»',\n",
       "       'Ресторан «Территория»', 'Ресторан «Урюк»',\n",
       "       'Ресторан «Хинкальная»', 'Ресторан «Чайхана Урюк»',\n",
       "       'Ресторан «Чайхона №1»', 'Ресторан «ЯКИТОРИЯ»',\n",
       "       'Ресторан «Якитория»', 'Ресторан «Ян Примус»',\n",
       "       'Ресторан Джон Джоли', 'Ресторан ИКЕА Ikea', 'Ресторан Маки-Маки',\n",
       "       'Ресторан ТАНУКИ', 'Ресторан Тануки', 'Ресторан Торро Гриль',\n",
       "       'Ресторан Хинкальная', 'Ресторан быстрого питания KFC',\n",
       "       'Ресторан быстрого питания «Крошка Картошка»',\n",
       "       'Ресторан японской кухни «Маки-Маки»', 'Ресторан«ВьетКафе»',\n",
       "       'Рецептор', 'Роллофф', 'Роснефть', 'Ростикс KFC', 'Руккола',\n",
       "       'САБВЕЙ', 'СПБ', 'СТАРИНА МЮЛЛЕР Старина Миллер',\n",
       "       'СТЕЙК-ХАУС ГУДМАН', 'СУШИ WOK', 'СУШИ ВОК', 'Сабвей',\n",
       "       'Сабвей Subway', 'Сабвей СушиВок', 'Сбарро', 'Сварня',\n",
       "       'Семейное кафе Андерсон',\n",
       "       'Семейное кафе и кондитерская «Андерсон»',\n",
       "       'Семейный ресторан «Космик»', 'Сеть магазинов «Суши Wok»', 'Сити',\n",
       "       'Сити Пицца', 'Сказка', 'Советские времена',\n",
       "       'Советские времена Чебуречная СССР', 'Спорт-бар «Космик»',\n",
       "       'Старбакс', 'Старбакс Starbucks', 'Старбакс Кофе', 'СтардогS',\n",
       "       'СтардогS и шаурма', 'Стардогs', 'Стардогс СтардогS',\n",
       "       'Старина Миллер', 'Стейк Хаус ГУДМАН', 'Сувлаки', 'Суп Кафе',\n",
       "       'Суши WOK', 'Суши WoK', 'Суши Wok', 'Суши «Маки-Маки»', 'Суши Вок',\n",
       "       'Суши Сет', 'Суши бар «Маки-маки»', 'Суши вок', 'Суши сет',\n",
       "       'Суши тун', 'Суши тун, Хруст pizza, Кофе тун', 'СушиМан',\n",
       "       'СушиШоп', 'Сытая Утка', 'ТАНУКИ', 'ТАШИР ПИЦЦА', 'ТЕРЕМОК',\n",
       "       'ТЕРЕМОК ИНВЕСТ', 'ТЕРРИТОРИЯ ЯСЕНЕВО', 'Тайм Авеню',\n",
       "       'Тамаси Суши', 'Тануки', 'Тапчан', 'Ташир пицца', 'Темпл Бар',\n",
       "       'Темпл бар', 'Теремок', 'Теремок-Инвест', 'Территория',\n",
       "       'Территория TIMBIGFAMILY', 'Тирольские пироги', 'То Да Сё',\n",
       "       'Торро Гриль', 'Точка продажи готовой еды Милти',\n",
       "       'Тратория Semplice', 'Траттория Примавера', 'УРЮК', 'Урожай',\n",
       "       'Урюк', 'Урюк Вавилова', 'ФАНТОЦЦИ РУС',\n",
       "       'ФИТНЕС-БАР «WORLD CLASS»', 'Французская выпечка', 'ХАЧАПУРИ',\n",
       "       'ХИНКАЛЬНАЯ', 'ХЛЕБ НАСУЩНЫЙ', 'Хачапури',\n",
       "       'Хачапури, Одесса -мама', 'Хижина', 'Хинкальная',\n",
       "       'Хинкальная City', 'Хинкальная КИНТО', 'Хинкальная №1',\n",
       "       'Хлеб Насущный', 'Хлеб насущный', 'Хлеб&Co', 'Хлебница пекарня',\n",
       "       'Цинандали Хинкальная', 'ЧАЙХОНА №1', 'Чайхона №1',\n",
       "       'Чайхона №1 Бутово', 'Чебуречная СССР',\n",
       "       'Чешская пивная «Козловица»', 'Чешская пивная «Пилзнер»',\n",
       "       'Чешская пивная ПИЛЗНЕР', 'Чин Чин', 'ШАНТИМЕЛЬ', 'ШАШЛЫК-МАШЛЫК',\n",
       "       'ШВАРЦВАЛЬД', 'ШОКОЛАДНИЦА', 'ШТОЛЛЕ', 'Шантимель',\n",
       "       'Шантимель (кондитерские)', 'Шикари Иль Патио', 'Шоколад',\n",
       "       'Шоколадница', 'Шоколадница Кофе Хаус', 'Шоколадница Кофемания',\n",
       "       'Штирбирлиц', 'Штолле', 'Югос', 'ЯКИТОРИЯ', 'ЯКИТОРИЯ И СПОРТ БАР',\n",
       "       'ЯММИ МИКС', 'ЯПОША', 'Якитория', 'Якитория и Ян Примус',\n",
       "       'Ян Примус', 'Японский ресторан «Ваби-Саби»', 'Япоша',\n",
       "       'кафе «Му-Му»', 'кафе «Нияма»', 'кафе «Папа Джонс»',\n",
       "       'кафе «Старбакс»', 'кафе «Шоколадница»', 'ресторан «Брудер»',\n",
       "       'ресторан «Якитория»'], dtype=object)"
      ]
     },
     "execution_count": 23,
     "metadata": {},
     "output_type": "execute_result"
    }
   ],
   "source": [
    "# выделим сетевые заведения и посмотрим уникальные названия\n",
    "\n",
    "chains = rest.query('chain == \"сеть\"')\n",
    "\n",
    "chains['object_name'].sort_values().unique()\n"
   ]
  },
  {
   "cell_type": "markdown",
   "metadata": {},
   "source": [
    "Очень много неоднозначных дубликатов в разных формах, здесь требуется тщательная обработка, чтобы подсчитать все заведения. Как минимум стоит привести хотя бы к нижнему регистру и посчитать кол-во получившихся уникальных сетей "
   ]
  },
  {
   "cell_type": "code",
   "execution_count": 24,
   "metadata": {
    "scrolled": true
   },
   "outputs": [
    {
     "data": {
      "text/plain": [
       "шоколадница        157\n",
       "kfc                155\n",
       "макдоналдс         150\n",
       "бургер кинг        137\n",
       "теремок             94\n",
       "домино'с пицца      90\n",
       "крошка картошка     90\n",
       "милти               72\n",
       "суши wok            72\n",
       "папа джонс          51\n",
       "Name: object_name, dtype: int64"
      ]
     },
     "execution_count": 24,
     "metadata": {},
     "output_type": "execute_result"
    }
   ],
   "source": [
    "chains['object_name'] = chains['object_name'].str.lower()\n",
    "\n",
    "chains['object_name'].value_counts().head(10)"
   ]
  },
  {
   "cell_type": "markdown",
   "metadata": {},
   "source": [
    "Процент погрешности конечно довольно высокий, но такого количества разных сетевых заведений в целом будет достаточно для сравнения, возьмем несколько крупных разного типа "
   ]
  },
  {
   "cell_type": "code",
   "execution_count": 25,
   "metadata": {
    "scrolled": true
   },
   "outputs": [
    {
     "data": {
      "text/html": [
       "<div>\n",
       "<style scoped>\n",
       "    .dataframe tbody tr th:only-of-type {\n",
       "        vertical-align: middle;\n",
       "    }\n",
       "\n",
       "    .dataframe tbody tr th {\n",
       "        vertical-align: top;\n",
       "    }\n",
       "\n",
       "    .dataframe thead th {\n",
       "        text-align: right;\n",
       "    }\n",
       "</style>\n",
       "<table border=\"1\" class=\"dataframe\">\n",
       "  <thead>\n",
       "    <tr style=\"text-align: right;\">\n",
       "      <th></th>\n",
       "      <th>id</th>\n",
       "      <th>object_name</th>\n",
       "      <th>chain</th>\n",
       "      <th>object_type</th>\n",
       "      <th>address</th>\n",
       "      <th>seats</th>\n",
       "    </tr>\n",
       "  </thead>\n",
       "  <tbody>\n",
       "    <tr>\n",
       "      <th>16</th>\n",
       "      <td>144107</td>\n",
       "      <td>суши wok</td>\n",
       "      <td>сеть</td>\n",
       "      <td>фастфуд</td>\n",
       "      <td>город Москва, Азовская улица, дом 3</td>\n",
       "      <td>7</td>\n",
       "    </tr>\n",
       "    <tr>\n",
       "      <th>33</th>\n",
       "      <td>69243</td>\n",
       "      <td>суши wok</td>\n",
       "      <td>сеть</td>\n",
       "      <td>кафе</td>\n",
       "      <td>город Москва, проспект Андропова, дом 30</td>\n",
       "      <td>4</td>\n",
       "    </tr>\n",
       "    <tr>\n",
       "      <th>45</th>\n",
       "      <td>21723</td>\n",
       "      <td>шоколадница</td>\n",
       "      <td>сеть</td>\n",
       "      <td>кафе</td>\n",
       "      <td>город Москва, улица Арбат, дом 29</td>\n",
       "      <td>40</td>\n",
       "    </tr>\n",
       "    <tr>\n",
       "      <th>47</th>\n",
       "      <td>24973</td>\n",
       "      <td>теремок</td>\n",
       "      <td>сеть</td>\n",
       "      <td>кафе</td>\n",
       "      <td>город Москва, улица Арбат, дом 32</td>\n",
       "      <td>22</td>\n",
       "    </tr>\n",
       "    <tr>\n",
       "      <th>72</th>\n",
       "      <td>21830</td>\n",
       "      <td>шоколадница</td>\n",
       "      <td>сеть</td>\n",
       "      <td>кафе</td>\n",
       "      <td>город Москва, Бауманская улица, дом 33/2, строение 1</td>\n",
       "      <td>48</td>\n",
       "    </tr>\n",
       "  </tbody>\n",
       "</table>\n",
       "</div>"
      ],
      "text/plain": [
       "        id  object_name chain object_type  \\\n",
       "16  144107     суши wok  сеть     фастфуд   \n",
       "33   69243     суши wok  сеть        кафе   \n",
       "45   21723  шоколадница  сеть        кафе   \n",
       "47   24973      теремок  сеть        кафе   \n",
       "72   21830  шоколадница  сеть        кафе   \n",
       "\n",
       "                                                 address  seats  \n",
       "16                   город Москва, Азовская улица, дом 3      7  \n",
       "33              город Москва, проспект Андропова, дом 30      4  \n",
       "45                     город Москва, улица Арбат, дом 29     40  \n",
       "47                     город Москва, улица Арбат, дом 32     22  \n",
       "72  город Москва, Бауманская улица, дом 33/2, строение 1     48  "
      ]
     },
     "execution_count": 25,
     "metadata": {},
     "output_type": "execute_result"
    }
   ],
   "source": [
    "# создадим список и сделаем срез этих сетей \n",
    "\n",
    "chain_list = ['шоколадница', 'kfc', 'макдоналдс', 'бургер кинг', \n",
    "              'теремок', 'суши wok', 'крошка картошка', 'папа джонс']\n",
    "\n",
    "top_chains = chains.query('object_name in @chain_list')\n",
    "\n",
    "top_chains.head(5)"
   ]
  },
  {
   "cell_type": "code",
   "execution_count": 26,
   "metadata": {
    "scrolled": false
   },
   "outputs": [
    {
     "data": {
      "image/png": "[encoded data removed]",
      "text/plain": [
       "<Figure size 864x360 with 1 Axes>"
      ]
     },
     "metadata": {
      "needs_background": "light"
     },
     "output_type": "display_data"
    }
   ],
   "source": [
    "plt.figure(figsize=(12, 5))\n",
    "ax = sns.boxplot(x='object_name', y='seats', data=top_chains, palette='RdPu')\n",
    "plt.xticks(rotation=60)\n",
    "ax.set_ylim(0, 250)\n",
    "ax.set_title('Распределение количества посадочных мест для топ-сетей')\n",
    "plt.show()"
   ]
  },
  {
   "cell_type": "markdown",
   "metadata": {},
   "source": [
    "Лидер по количеству посадочных мест - Макдональдс, есть выбросы свыше 200 мест. Меньше всего - у Суши Wok. Интересно, что среднее число одинаково для KFC и Бургер Кинга, но KFC сильнее тяготеет в сторону большего количества мест. У Шоколадницы единственной из всех минимальное количество больше нуля, кафе этого типа совсем без столиков не существует. Вообще на этом графике видно, что число мест обусловлено спецификой употребления продукции - Макдональдс считает себя \"рестораном быстрого обслуживания\", поэтому ему нужно много посадочных, а например Суши Wok или Папа Джонс - заведения, ориентированные прежде всего на доставку, поэтому столики у них могут быть номинальными или вообще отсутствовать."
   ]
  },
  {
   "cell_type": "markdown",
   "metadata": {},
   "source": [
    "### Cреднее количество посадочных мест  на каждый вид объекта общественного питания? "
   ]
  },
  {
   "cell_type": "code",
   "execution_count": 27,
   "metadata": {},
   "outputs": [
    {
     "data": {
      "text/html": [
       "<div>\n",
       "<style scoped>\n",
       "    .dataframe tbody tr th:only-of-type {\n",
       "        vertical-align: middle;\n",
       "    }\n",
       "\n",
       "    .dataframe tbody tr th {\n",
       "        vertical-align: top;\n",
       "    }\n",
       "\n",
       "    .dataframe thead th {\n",
       "        text-align: right;\n",
       "    }\n",
       "</style>\n",
       "<table border=\"1\" class=\"dataframe\">\n",
       "  <thead>\n",
       "    <tr style=\"text-align: right;\">\n",
       "      <th></th>\n",
       "      <th>object_type</th>\n",
       "      <th>count</th>\n",
       "      <th>seats</th>\n",
       "    </tr>\n",
       "  </thead>\n",
       "  <tbody>\n",
       "    <tr>\n",
       "      <th>0</th>\n",
       "      <td>столовая</td>\n",
       "      <td>2584</td>\n",
       "      <td>130.0</td>\n",
       "    </tr>\n",
       "    <tr>\n",
       "      <th>1</th>\n",
       "      <td>ресторан</td>\n",
       "      <td>2282</td>\n",
       "      <td>97.0</td>\n",
       "    </tr>\n",
       "    <tr>\n",
       "      <th>2</th>\n",
       "      <td>буфет</td>\n",
       "      <td>577</td>\n",
       "      <td>52.0</td>\n",
       "    </tr>\n",
       "    <tr>\n",
       "      <th>3</th>\n",
       "      <td>бар</td>\n",
       "      <td>855</td>\n",
       "      <td>44.0</td>\n",
       "    </tr>\n",
       "    <tr>\n",
       "      <th>4</th>\n",
       "      <td>кафе</td>\n",
       "      <td>6071</td>\n",
       "      <td>40.0</td>\n",
       "    </tr>\n",
       "    <tr>\n",
       "      <th>5</th>\n",
       "      <td>фастфуд</td>\n",
       "      <td>1898</td>\n",
       "      <td>21.0</td>\n",
       "    </tr>\n",
       "    <tr>\n",
       "      <th>6</th>\n",
       "      <td>кафетерий</td>\n",
       "      <td>395</td>\n",
       "      <td>9.0</td>\n",
       "    </tr>\n",
       "    <tr>\n",
       "      <th>7</th>\n",
       "      <td>закусочная</td>\n",
       "      <td>349</td>\n",
       "      <td>8.0</td>\n",
       "    </tr>\n",
       "    <tr>\n",
       "      <th>8</th>\n",
       "      <td>кулинария</td>\n",
       "      <td>273</td>\n",
       "      <td>6.0</td>\n",
       "    </tr>\n",
       "  </tbody>\n",
       "</table>\n",
       "</div>"
      ],
      "text/plain": [
       "  object_type  count  seats\n",
       "0    столовая   2584  130.0\n",
       "1    ресторан   2282   97.0\n",
       "2       буфет    577   52.0\n",
       "3         бар    855   44.0\n",
       "4        кафе   6071   40.0\n",
       "5     фастфуд   1898   21.0\n",
       "6   кафетерий    395    9.0\n",
       "7  закусочная    349    8.0\n",
       "8   кулинария    273    6.0"
      ]
     },
     "execution_count": 27,
     "metadata": {},
     "output_type": "execute_result"
    }
   ],
   "source": [
    "# сгруппируем заведения по типу и посчитаем их количество и среднее кол-во посадочных мест\n",
    "seats = rest.groupby('object_type').agg(\n",
    "    {'id': 'count', 'seats': 'mean'}).round().rename(columns={'id':'count'}).sort_values(\n",
    "    by='seats', ascending=False).reset_index()\n",
    "\n",
    "seats"
   ]
  },
  {
   "cell_type": "code",
   "execution_count": 28,
   "metadata": {
    "scrolled": true
   },
   "outputs": [
    {
     "data": {
      "image/png": "[encoded data removed]",
      "text/plain": [
       "<Figure size 864x360 with 1 Axes>"
      ]
     },
     "metadata": {
      "needs_background": "light"
     },
     "output_type": "display_data"
    }
   ],
   "source": [
    "ax = plt.subplots(figsize=(12,5))\n",
    "ax = sns.barplot(data=seats, y='object_type', x='seats', palette='BuPu_r')\n",
    "ax.set_xlim(0,150)\n",
    "ax.set_title('Среднее количество посадочных мест по типам заведений')\n",
    "plt.show()\n"
   ]
  },
  {
   "cell_type": "markdown",
   "metadata": {},
   "source": [
    "На первом месте по количеству посадочных мест столовые. Очевидно, что это обусловлено не коммерческой окупаемостью такого типа заведений, а спецификой их назначения. Столовые характерны для объектов, требующих одновременного обслуживания большого количества человек в обеденное время - бизнес-центров, учебных заведений, производственных предприятий и т.д. Поэтому не будем рассматривать столовые как наиболее предпочтительный тип заведения для открытия нового проекта. \n",
    "\n",
    "Среднее кол-во посадочных для фастфуда неожиданно мало - всего 20 мест. Обычно фастфуды ассоциируются с довольно большими прощадями типа Макдональдса или KFC. На ситуацию видимо влияют места, где вообще отсутствуют столики, вроде уличных киосков с блинами или шаурмой, работающие только на формат take away\n",
    "\n",
    "Меньше всего посадочных мест характерно для кафетериев, закусочных и кулинарий. Последние в основном предназначены для покупки готовой еды домой. И для всех трех типов свойственно небольшое меню, продажа уже приготовленных блюд и поэтому отсутствие ожидания, быстрое употребление, часто стоячие места за высокими столиками и небольшая площадь. "
   ]
  },
  {
   "cell_type": "markdown",
   "metadata": {},
   "source": [
    "### Добавление информации об улице "
   ]
  },
  {
   "cell_type": "code",
   "execution_count": 29,
   "metadata": {
    "scrolled": true
   },
   "outputs": [
    {
     "data": {
      "text/plain": [
       "['город Москва, улица Егора Абакумова, дом 9',\n",
       " 'город Москва, улица Талалихина, дом 2/1, корпус 1',\n",
       " 'город Москва, Абельмановская улица, дом 6',\n",
       " 'город Москва, Абрамцевская улица, дом 1',\n",
       " 'город Москва, Абрамцевская улица, дом 9, корпус 1',\n",
       " 'город Москва, Абрамцевская улица, дом 15, корпус 1',\n",
       " 'город Москва, переулок Сивцев Вражек, дом 6/2',\n",
       " 'город Москва, Авиамоторная улица, дом 8, строение 1',\n",
       " 'город Москва, Авиамоторная улица, дом 8, строение 1',\n",
       " 'город Москва, Авиамоторная улица, дом 8, строение 1',\n",
       " 'город Москва, Авиамоторная улица, дом 47',\n",
       " 'город Москва, Авиамоторная улица, дом 49/1',\n",
       " 'город Москва, Авиамоторная улица, дом 51',\n",
       " 'город Москва, улица Авиаторов, дом 14',\n",
       " 'город Москва, улица Авиаторов, дом 16',\n",
       " 'город Москва, улица Авиаторов, дом 18',\n",
       " 'город Москва, Азовская улица, дом 3',\n",
       " 'город Москва, Азовская улица, дом 4',\n",
       " 'город Москва, Большая Академическая улица, дом 65',\n",
       " 'город Москва, Филипповский переулок, дом 15/5',\n",
       " 'город Москва, Алтайская улица, дом 33/7',\n",
       " 'город Москва, Алтуфьевское шоссе, дом 14',\n",
       " 'город Москва, Алтуфьевское шоссе, дом 14',\n",
       " 'город Москва, Алтуфьевское шоссе, дом 42Б',\n",
       " 'город Москва, Алтуфьевское шоссе, дом 56',\n",
       " 'город Москва, Алтуфьевское шоссе, дом 56',\n",
       " 'город Москва, Алтуфьевское шоссе, дом 102Б',\n",
       " 'город Москва, улица Амундсена, дом 10',\n",
       " 'город Москва, Анадырский проезд, дом 55',\n",
       " 'город Москва, Ангарская улица, дом 1, корпус 2',\n",
       " 'город Москва, Ангарская улица, дом 39',\n",
       " 'город Москва, проспект Андропова, дом 17, корпус 2',\n",
       " 'город Москва, проспект Андропова, дом 26',\n",
       " 'город Москва, проспект Андропова, дом 30',\n",
       " 'город Москва, проспект Андропова, дом 35А',\n",
       " 'город Москва, проспект Андропова, дом 38, корпус 2',\n",
       " 'город Москва, улица Арбат, дом 4, строение 1',\n",
       " 'город Москва, улица Арбат, дом 4, строение 1',\n",
       " 'город Москва, улица Арбат, дом 6/2',\n",
       " 'город Москва, улица Арбат, дом 6/2',\n",
       " 'город Москва, улица Арбат, дом 23, строение 1',\n",
       " 'город Москва, улица Арбат, дом 23, строение 1',\n",
       " 'город Москва, улица Арбат, дом 25/36',\n",
       " 'город Москва, улица Арбат, дом 25/36',\n",
       " 'город Москва, улица Арбат, дом 29',\n",
       " 'город Москва, улица Арбат, дом 29',\n",
       " 'город Москва, улица Арбат, дом 31',\n",
       " 'город Москва, улица Арбат, дом 32',\n",
       " 'город Москва, улица Арбат, дом 32',\n",
       " 'город Москва, улица Арбат, дом 36/2, строение 1',\n",
       " 'город Москва, улица Арбат, дом 36/2, строение 1',\n",
       " 'город Москва, улица Арбат, дом 36/2, строение 1',\n",
       " 'город Москва, улица Арбат, дом 36/2, строение 1',\n",
       " 'город Москва, улица Арбат, дом 45/24',\n",
       " 'город Москва, улица Арбат, дом 45/24',\n",
       " 'город Москва, улица Арбат, дом 47/23',\n",
       " 'город Москва, улица Арбат, дом 47/23',\n",
       " 'город Москва, улица Артамонова, дом 7',\n",
       " 'город Москва, Астраханский переулок, дом 1/15',\n",
       " 'город Москва, Астраханский переулок, дом 5/9',\n",
       " 'город Москва, Аэродромная улица, дом 9',\n",
       " 'город Москва, Бабаевская улица, дом 3',\n",
       " 'город Москва, улица Ивана Бабушкина, дом 15, корпус 1-2',\n",
       " 'город Москва, улица Ивана Бабушкина, дом 17, корпус 1',\n",
       " 'город Москва, Байкальская улица, дом 29',\n",
       " 'город Москва, Байкальская улица, дом 31',\n",
       " 'город Москва, Бакинская улица, дом 29',\n",
       " 'город Москва, Балаклавский проспект, дом 48, корпус 1',\n",
       " 'город Москва, Балаклавский проспект, дом 54',\n",
       " 'город Москва, 1-й Балтийский переулок, дом 3/25',\n",
       " 'город Москва, улица Барклая, дом 16, корпус 1',\n",
       " 'город Москва, Новая Басманная улица, дом 12, строение 2',\n",
       " 'город Москва, Бауманская улица, дом 33/2, строение 1',\n",
       " 'город Москва, Бауманская улица, дом 35/1',\n",
       " 'город Москва, Татарская улица, дом 14',\n",
       " 'город Москва, Башиловская улица, дом 3, корпус 1',\n",
       " 'город Москва, Башиловская улица, дом 19',\n",
       " 'город Москва, Башиловская улица, дом 21',\n",
       " 'город Москва, Беговая улица, дом 7',\n",
       " 'город Москва, Беговая улица, дом 17, корпус 1',\n",
       " 'город Москва, Беговая улица, дом 28',\n",
       " 'город Москва, улица Демьяна Бедного, дом 4',\n",
       " 'город Москва, Белореченская улица, дом 13, корпус 1',\n",
       " 'город Москва, Белореченская улица, дом 17',\n",
       " 'город Москва, Бережковская набережная, дом 8',\n",
       " 'город Москва, Бережковская набережная, дом 14',\n",
       " 'город Москва, улица Берзарина, дом 8',\n",
       " 'город Москва, Бескудниковский бульвар, дом 40, корпус 3',\n",
       " 'город Москва, Бескудниковский бульвар, дом 57, корпус 1',\n",
       " 'город Москва, улица Бестужевых, дом 23',\n",
       " 'город Москва, Бибиревская улица, дом 7, корпус 1',\n",
       " 'город Москва, улица Маршала Бирюзова, дом 4, корпус 1',\n",
       " 'город Москва, улица Маршала Бирюзова, дом 4, корпус 2',\n",
       " 'город Москва, улица Маршала Бирюзова, дом 9',\n",
       " 'город Москва, улица Маршала Бирюзова, дом 12',\n",
       " 'город Москва, улица Маршала Бирюзова, дом 13',\n",
       " 'город Москва, улица Маршала Бирюзова, дом 16',\n",
       " 'город Москва, улица Маршала Бирюзова, дом 19',\n",
       " 'город Москва, улица Маршала Бирюзова, дом 19',\n",
       " 'город Москва, улица Маршала Бирюзова, дом 21',\n",
       " 'город Москва, улица Маршала Бирюзова, дом 22, корпус 1',\n",
       " 'город Москва, улица Маршала Бирюзова, дом 28',\n",
       " 'город Москва, улица Маршала Бирюзова, дом 28',\n",
       " 'город Москва, Бойцовая улица, дом 17, корпус 1',\n",
       " 'город Москва, Болотниковская улица, дом 47, корпус 1',\n",
       " 'город Москва, Коктебельская улица, дом 11, строение 3',\n",
       " 'город Москва, Ботаническая улица, дом 11',\n",
       " 'город Москва, 1-й Боткинский проезд, дом 2/6',\n",
       " 'город Москва, улица Академика Бочвара, дом 7, корпус 1',\n",
       " 'город Москва, улица Академика Бочвара, дом 7, корпус 1',\n",
       " 'город Москва, улица Бочкова, дом 5',\n",
       " 'город Москва, 2-я Брестская улица, дом 24/15',\n",
       " 'город Москва, 2-я Брестская улица, дом 43',\n",
       " 'город Москва, Бригадирский переулок, дом 3-5',\n",
       " 'город Москва, Бригадирский переулок, дом 3-5',\n",
       " 'город Москва, Бригадирский переулок, дом 3-5',\n",
       " 'город Москва, Большая Бронная улица, дом 2/6',\n",
       " 'город Москва, Большая Бронная улица, дом 27/4',\n",
       " 'город Москва, Большая Бронная улица, дом 27/4',\n",
       " 'город Москва, Большая Бронная улица, дом 27/4',\n",
       " 'город Москва, Большая Бронная улица, дом 29',\n",
       " 'город Москва, Малая Бронная улица, дом 4',\n",
       " 'город Москва, Малая Бронная улица, дом 4',\n",
       " 'город Москва, Малая Бронная улица, дом 10, строение 1',\n",
       " 'город Москва, Малая Бронная улица, дом 10, строение 1',\n",
       " 'город Москва, Малая Бронная улица, дом 20, строение 1',\n",
       " 'город Москва, Малая Бронная улица, дом 20, строение 1',\n",
       " 'город Москва, Малая Бронная улица, дом 20А',\n",
       " 'город Москва, Малая Бронная улица, дом 21/13, строение 1',\n",
       " 'город Москва, Малая Бронная улица, дом 22, строение 1',\n",
       " 'город Москва, Малая Бронная улица, дом 27/14',\n",
       " 'город Москва, Будайская улица, дом 3',\n",
       " 'город Москва, проспект Будённого, дом 1/1',\n",
       " 'город Москва, проспект Будённого, дом 24, корпус 1',\n",
       " 'город Москва, Булатниковская улица, дом 5, корпус 4',\n",
       " 'город Москва, улица Бутлерова, дом 22',\n",
       " 'город Москва, Бутырская улица, дом 7',\n",
       " 'город Москва, Бутырская улица, дом 9, корпус 2',\n",
       " 'город Москва, Бутырская улица, дом 11',\n",
       " 'город Москва, Бутырская улица, дом 79',\n",
       " 'город Москва, Бутырская улица, дом 84',\n",
       " 'город Москва, Бутырская улица, дом 89',\n",
       " 'город Москва, Бутырская улица, дом 89',\n",
       " 'город Москва, улица Вавилова, дом 72/13',\n",
       " 'город Москва, улица Вавилова, дом 81',\n",
       " 'город Москва, Нахимовский проспект, владение 75А',\n",
       " 'город Москва, Валовая улица, дом 2-4/44, строение 1',\n",
       " 'город Москва, Валовая улица, дом 6',\n",
       " 'город Москва, Валовая улица, дом 8/18',\n",
       " 'город Москва, Валовая улица, дом 11/19',\n",
       " 'город Москва, Варсонофьевский переулок, дом 6',\n",
       " 'город Москва, Варшавское шоссе, дом 2',\n",
       " 'город Москва, Варшавское шоссе, дом 7, корпус 1',\n",
       " 'город Москва, Варшавское шоссе, дом 29',\n",
       " 'город Москва, Варшавское шоссе, дом 72, корпус 2',\n",
       " 'город Москва, Варшавское шоссе, дом 100',\n",
       " 'город Москва, Варшавское шоссе, дом 143А',\n",
       " 'город Москва, улица Маршала Василевского, дом 3, корпус 1',\n",
       " 'город Москва, улица Маршала Василевского, дом 11, корпус 1',\n",
       " 'город Москва, улица Маршала Василевского, дом 17',\n",
       " 'город Москва, Васильевская улица, дом 2, корпус 1',\n",
       " 'город Москва, Васильевская улица, дом 4',\n",
       " 'город Москва, Велозаводская улица, дом 6',\n",
       " 'город Москва, Велозаводская улица, дом 6',\n",
       " 'город Москва, Вельяминовская улица, дом 6',\n",
       " 'город Москва, проспект Вернадского, дом 9/10',\n",
       " 'город Москва, проспект Вернадского, дом 11/19',\n",
       " 'город Москва, проспект Вернадского, дом 11/19',\n",
       " 'город Москва, проспект Вернадского, дом 11/19',\n",
       " 'город Москва, проспект Вернадского, дом 11/19',\n",
       " 'город Москва, проспект Вернадского, дом 13',\n",
       " 'город Москва, улица Кравченко, дом 24/35',\n",
       " 'город Москва, проспект Вернадского, дом 37',\n",
       " 'город Москва, проспект Вернадского, дом 86, строение 1',\n",
       " 'город Москва, проспект Вернадского, дом 93',\n",
       " 'город Москва, проспект Вернадского, дом 97, корпус 1',\n",
       " 'город Москва, проспект Вернадского, дом 97, корпус 1',\n",
       " 'город Москва, проспект Вернадского, дом 103, корпус 1',\n",
       " 'город Москва, проспект Вернадского, дом 125',\n",
       " 'город Москва, Верхняя улица, дом 3, корпус 2',\n",
       " 'город Москва, Весковский переулок, дом 4',\n",
       " 'город Москва, Глазовский переулок, дом 5',\n",
       " 'город Москва, улица Вешних Вод, дом 6, корпус 1',\n",
       " 'город Москва, улица Вешних Вод, дом 8, корпус 2',\n",
       " 'город Москва, Вешняковская улица, дом 2',\n",
       " 'город Москва, Вешняковская улица, дом 2',\n",
       " 'город Москва, улица Вилиса Лациса, дом 23, корпус 1',\n",
       " 'город Москва, улица Вилиса Лациса, дом 33, корпус 1',\n",
       " 'город Москва, 1-я Владимирская улица, дом 9',\n",
       " 'город Москва, 1-я Владимирская улица, дом 14',\n",
       " 'город Москва, 1-я Владимирская улица, дом 21',\n",
       " 'город Москва, 1-я Владимирская улица, дом 39/12',\n",
       " 'город Москва, 2-я Владимирская улица, дом 22',\n",
       " 'город Москва, 2-я Владимирская улица, дом 36',\n",
       " 'город Москва, 2-я Владимирская улица, дом 36',\n",
       " 'город Москва, 2-я Владимирская улица, дом 44/10',\n",
       " 'город Москва, 2-я Владимирская улица, дом 52, корпус 2',\n",
       " 'город Москва, 3-я Владимирская улица, дом 6',\n",
       " 'город Москва, 3-я Владимирская улица, дом 27',\n",
       " 'город Москва, 3-я Владимирская улица, дом 29',\n",
       " 'город Москва, улица Архитектора Власова, дом 11, корпус 1',\n",
       " 'город Москва, улица Архитектора Власова, дом 47',\n",
       " 'город Москва, улица Академика Волгина, дом 6',\n",
       " 'город Москва, улица Академика Волгина, дом 29, корпус 1',\n",
       " 'город Москва, Волгоградский проспект, дом 4',\n",
       " 'город Москва, Волгоградский проспект, дом 15',\n",
       " 'город Москва, Волгоградский проспект, дом 17, строение 1',\n",
       " 'город Москва, Волгоградский проспект, дом 17, строение 1',\n",
       " 'город Москва, Волгоградский проспект, дом 17',\n",
       " 'город Москва, Волгоградский проспект, дом 17',\n",
       " 'город Москва, Волгоградский проспект, дом 66, корпус 4',\n",
       " 'город Москва, Волгоградский проспект, дом 103, корпус 6',\n",
       " 'город Москва, Волгоградский проспект, дом 157, корпус 4',\n",
       " 'город Москва, Ферганская улица, дом 12',\n",
       " 'город Москва, Волоколамское шоссе, дом 3',\n",
       " 'город Москва, Волоколамское шоссе, дом 13',\n",
       " 'город Москва, Волоколамское шоссе, дом 13',\n",
       " 'город Москва, Волоколамское шоссе, дом 15/22',\n",
       " 'город Москва, Волоколамское шоссе, дом 15/22',\n",
       " 'город Москва, Волоколамское шоссе, дом 92',\n",
       " 'город Москва, улица Волхонка, дом 6',\n",
       " 'город Москва, улица Волхонка, дом 7/6',\n",
       " 'город Москва, Воронежская улица, дом 26, корпус 4',\n",
       " 'город Москва, Воронцовская улица, дом 13/14, строение 3',\n",
       " 'город Москва, Воронцовская улица, дом 36, строение 1',\n",
       " 'город Москва, Воронцовская улица, дом 48',\n",
       " 'город Москва, Воронцовская улица, дом 48',\n",
       " 'город Москва, Воронцовская улица, дом 48',\n",
       " 'город Москва, Воротниковский переулок, дом 11, строение 1',\n",
       " 'город Москва, Кудринская площадь, дом 1',\n",
       " 'город Москва, Кудринская площадь, дом 1',\n",
       " 'город Москва, Кудринская площадь, дом 1',\n",
       " 'город Москва, Кудринская площадь, дом 1',\n",
       " 'город Москва, Кудринская площадь, дом 1',\n",
       " 'город Москва, улица 8 Марта, дом 15',\n",
       " 'город Москва, 2-й Вышеславцев переулок, дом 17',\n",
       " 'город Москва, улица Бориса Галушкина, дом 5',\n",
       " 'город Москва, улица Бориса Галушкина, дом 10',\n",
       " 'город Москва, улица Бориса Галушкина, дом 26',\n",
       " 'город Москва, улица Гастелло, дом 37',\n",
       " 'город Москва, улица Гастелло, дом 37',\n",
       " 'город Москва, Гвардейская улица, дом 15, корпус 1',\n",
       " 'город Москва, улица Героев Панфиловцев, дом 1, корпус 1',\n",
       " 'город Москва, улица Героев Панфиловцев, дом 13, корпус 1',\n",
       " 'город Москва, улица Героев Панфиловцев, дом 16, корпус 1',\n",
       " 'город Москва, улица Героев Панфиловцев, дом 51',\n",
       " 'город Москва, Большая Никитская улица, дом 24/1, строение 1',\n",
       " 'город Москва, Большая Никитская улица, дом 24/1, строение 1',\n",
       " 'город Москва, Большая Никитская улица, дом 35',\n",
       " 'город Москва, улица Гиляровского, дом 17',\n",
       " 'город Москва, улица Гиляровского, дом 60, строение 1',\n",
       " 'город Москва, Глебовская улица, дом 10',\n",
       " 'город Москва, Большой Гнездниковский переулок, дом 10',\n",
       " 'город Москва, Малый Гнездниковский переулок, дом 9, строение 7',\n",
       " 'город Москва, Малый Гнездниковский переулок, дом 9, строение 7',\n",
       " 'город Москва, Малый Гнездниковский переулок, дом 9, строение 7',\n",
       " 'город Москва, Гоголевский бульвар, дом 8',\n",
       " 'город Москва, Гоголевский бульвар, дом 23',\n",
       " 'город Москва, Гоголевский бульвар, дом 25, строение 1',\n",
       " 'город Москва, Гоголевский бульвар, дом 33/1',\n",
       " 'город Москва, улица Маршала Голованова, дом 19',\n",
       " 'город Москва, Городецкая улица, дом 3',\n",
       " 'город Москва, Тверская улица, дом 6, строение 1',\n",
       " 'город Москва, Тверская улица, дом 12, строение 1',\n",
       " 'город Москва, Тверская улица, дом 12, строение 2',\n",
       " 'город Москва, Тверская улица, дом 12, строение 7',\n",
       " 'город Москва, Тверская улица, дом 12, строение 8',\n",
       " 'город Москва, Тверская улица, дом 14',\n",
       " 'город Москва, Тверская улица, дом 15',\n",
       " 'город Москва, Тверская улица, дом 15',\n",
       " 'город Москва, Тверская улица, дом 15',\n",
       " 'город Москва, Тверская улица, дом 17',\n",
       " 'город Москва, Тверская улица, дом 17',\n",
       " 'город Москва, Тверская улица, дом 17',\n",
       " 'город Москва, Тверская улица, дом 17',\n",
       " 'город Москва, Тверская улица, дом 19',\n",
       " 'город Москва, Тверская улица, дом 19А',\n",
       " 'город Москва, Тверская улица, дом 27, строение 1',\n",
       " 'город Москва, Тверская улица, дом 27, строение 1',\n",
       " 'город Москва, Тверская улица, дом 27, строение 2',\n",
       " 'город Москва, Тверская улица, дом 27, строение 2',\n",
       " 'город Москва, Тверская улица, дом 30/2, строение 1',\n",
       " 'город Москва, Тверская улица, дом 30/2, строение 1',\n",
       " 'город Москва, 1-я Тверская-Ямская улица, дом 4',\n",
       " 'город Москва, 1-я Тверская-Ямская улица, дом 7',\n",
       " 'город Москва, 1-я Тверская-Ямская улица, дом 7',\n",
       " 'город Москва, 1-я Тверская-Ямская улица, дом 7',\n",
       " 'город Москва, 1-я Тверская-Ямская улица, дом 9',\n",
       " 'город Москва, 1-я Тверская-Ямская улица, дом 8',\n",
       " 'город Москва, 1-я Тверская-Ямская улица, дом 11',\n",
       " 'город Москва, 1-я Тверская-Ямская улица, дом 13, строение 1',\n",
       " 'город Москва, 1-я Тверская-Ямская улица, дом 13, строение 1',\n",
       " 'город Москва, 1-я Тверская-Ямская улица, дом 12',\n",
       " 'город Москва, улица Госпитальный Вал, дом 22/2',\n",
       " 'город Москва, улица Чаянова, дом 12',\n",
       " 'город Москва, Кутузовский проспект, дом 71',\n",
       " 'город Москва, Большая Грузинская улица, дом 39',\n",
       " 'город Москва, Большая Грузинская улица, дом 39',\n",
       " 'город Москва, улица Грузинский Вал, дом 26, строение 1',\n",
       " 'город Москва, улица Грузинский Вал, дом 26, строение 1',\n",
       " 'город Москва, улица Грузинский Вал, дом 28/45',\n",
       " 'город Москва, улица Грузинский Вал, дом 28/45',\n",
       " 'город Москва, Грузинский переулок, дом 4',\n",
       " 'город Москва, Грузинский переулок, дом 14',\n",
       " 'город Москва, Гурьевский проезд, дом 25, корпус 1',\n",
       " 'город Москва, Гурьевский проезд, дом 31, корпус 1',\n",
       " 'город Москва, Даев переулок, дом 2',\n",
       " 'город Москва, улица 26-ти Бакинских Комиссаров, дом 7, корпус 6',\n",
       " 'город Москва, улица Девятая Рота, дом 14',\n",
       " 'город Москва, проезд Дежнёва, дом 11, корпус 1',\n",
       " 'город Москва, улица Мусы Джалиля, дом 4, корпус 6',\n",
       " 'город Москва, улица Большая Лубянка, дом 26/17, строение 1',\n",
       " 'город Москва, улица Большая Якиманка, дом 19',\n",
       " 'город Москва, улица Большая Якиманка, дом 32',\n",
       " 'город Москва, улица Большая Якиманка, дом 32',\n",
       " 'город Москва, улица Большая Якиманка, дом 32',\n",
       " 'город Москва, улица Большая Якиманка, дом 52',\n",
       " 'город Москва, улица Большая Якиманка, дом 54',\n",
       " 'город Москва, улица Большая Якиманка, дом 56',\n",
       " 'город Москва, улица Большая Якиманка, дом 58/2',\n",
       " 'город Москва, улица Большая Якиманка, дом 58/2',\n",
       " 'город Москва, Дмитровское шоссе, дом 5, корпус 1',\n",
       " 'город Москва, Дмитровское шоссе, дом 15, корпус 1',\n",
       " 'город Москва, Дмитровское шоссе, дом 45, корпус 1',\n",
       " 'город Москва, Дмитровское шоссе, дом 46, корпус 1',\n",
       " 'город Москва, Дмитровское шоссе, дом 47',\n",
       " 'город Москва, Дмитровское шоссе, дом 48, корпус 1',\n",
       " 'город Москва, Дмитровское шоссе, дом 64, корпус 3',\n",
       " 'город Москва, Дмитровское шоссе, дом 89, корпус 4',\n",
       " 'город Москва, Дмитровское шоссе, дом 95, корпус 1',\n",
       " 'город Москва, Днепропетровская улица, дом 3, корпус 1',\n",
       " 'город Москва, улица Коровий Вал, дом 7, строение 1',\n",
       " 'город Москва, улица Доватора, дом 11, корпус 1',\n",
       " 'город Москва, улица Доватора, дом 13',\n",
       " 'город Москва, улица Докукина, дом 5, корпус 1',\n",
       " 'город Москва, Домодедовская улица, дом 24, корпус 4',\n",
       " 'город Москва, Большая Дорогомиловская улица, дом 11',\n",
       " 'город Москва, Дубнинская улица, дом 4, корпус 1',\n",
       " 'город Москва, Дубнинская улица, дом 10, корпус 1',\n",
       " 'город Москва, Дубнинская улица, дом 30, корпус 1',\n",
       " 'город Москва, Дубосековская улица, дом 7',\n",
       " 'город Москва, Дубосековская улица, дом 9',\n",
       " 'город Москва, Дубосековская улица, дом 13',\n",
       " 'город Москва, 1-я Дубровская улица, дом 6',\n",
       " 'город Москва, 1-я Дубровская улица, дом 13',\n",
       " 'город Москва, улица Дудинка, дом 1',\n",
       " 'город Москва, улица Дурова, дом 3/13',\n",
       " 'город Москва, улица Дыбенко, дом 44',\n",
       " 'город Москва, Енисейская улица, дом 11',\n",
       " 'город Москва, Енисейская улица, дом 19',\n",
       " 'город Москва, улица Генерала Ермолова, дом 4',\n",
       " 'город Москва, Большой Каретный переулок, дом 6',\n",
       " 'город Москва, улица Жебрунова, дом 4',\n",
       " 'город Москва, бульвар Матроса Железняка, дом 7/20',\n",
       " 'город Москва, улица Бориса Жигулёнкова, дом 15',\n",
       " 'город Москва, Житная улица, дом 10',\n",
       " 'город Москва, проспект Маршала Жукова, дом 17',\n",
       " 'город Москва, проспект Маршала Жукова, дом 19, корпус 1',\n",
       " 'город Москва, проспект Маршала Жукова, дом 35, корпус 1',\n",
       " 'город Москва, улица Жуковского, дом 5',\n",
       " 'город Москва, Заревый проезд, дом 12',\n",
       " 'город Москва, Заревый проезд, дом 12',\n",
       " 'город Москва, Заревый проезд, дом 14/12',\n",
       " 'город Москва, улица Зацепский Вал, дом 6/13, строение 1',\n",
       " 'город Москва, Зеленодольская улица, дом 33, корпус 3',\n",
       " 'город Москва, Зелёный проспект, дом 6, корпус 2',\n",
       " 'город Москва, 1-я Владимирская улица, дом 37/15',\n",
       " 'город Москва, 1-я Владимирская улица, дом 37/15',\n",
       " 'город Москва, Зелёный проспект, дом 62А',\n",
       " 'город Москва, Зелёный проспект, дом 74',\n",
       " 'город Москва, Зубовский бульвар, дом 16-20, строение 1',\n",
       " 'город Москва, Зубовский бульвар, дом 25',\n",
       " 'город Москва, Зубовский бульвар, дом 25',\n",
       " 'город Москва, улица Ибрагимова, дом 5А',\n",
       " 'город Москва, Измайловский бульвар, дом 47',\n",
       " 'город Москва, Измайловский бульвар, дом 47',\n",
       " 'город Москва, Измайловский бульвар, дом 75',\n",
       " 'город Москва, Изумрудная улица, дом 13, корпус 1',\n",
       " 'город Москва, улица Исаковского, дом 2, корпус 1',\n",
       " 'город Москва, улица Исаковского, дом 31',\n",
       " 'город Москва, улица Исаковского, дом 33, корпус 3',\n",
       " 'город Москва, 2-я Кабельная улица, дом 10',\n",
       " 'город Москва, Кавказский бульвар, дом 16, корпус 2',\n",
       " 'город Москва, улица Казакова, дом 8А',\n",
       " 'город Москва, улица Казакова, дом 10/2, строение 1',\n",
       " 'город Москва, улица Новый Арбат, дом 22',\n",
       " 'город Москва, улица Новый Арбат, дом 22',\n",
       " 'город Москва, улица Новый Арбат, дом 22',\n",
       " 'город Москва, Долгоруковская улица, дом 5',\n",
       " 'город Москва, Долгоруковская улица, дом 39/6',\n",
       " 'город Москва, Долгоруковская улица, дом 39/6',\n",
       " 'город Москва, улица Большие Каменщики, дом 21/8',\n",
       " 'город Москва, Пролетарский проспект, дом 14/49, корпус 1',\n",
       " 'город Москва, Кантемировская улица, дом 17, корпус 1',\n",
       " 'город Москва, 2-й квартал Капотня, дом 1',\n",
       " 'город Москва, Старая Басманная улица, дом 5, строение 1',\n",
       " 'город Москва, Старая Басманная улица, дом 9, корпус 1',\n",
       " 'город Москва, Кастанаевская улица, дом 11',\n",
       " 'город Москва, Кастанаевская улица, дом 54',\n",
       " 'город Москва, улица Каховка, дом 8, корпус 1',\n",
       " 'город Москва, улица Каховка, дом 12, корпус 2',\n",
       " 'город Москва, Малая Никитская улица, дом 2/1, строение 1',\n",
       " 'город Москва, Малая Никитская улица, дом 2/1, строение 1',\n",
       " 'город Москва, Малая Никитская улица, дом 10',\n",
       " 'город Москва, Малая Никитская улица, дом 16/5',\n",
       " 'город Москва, Каширское шоссе, дом 5, корпус 1',\n",
       " 'город Москва, Каширское шоссе, дом 13, корпус 1',\n",
       " 'город Москва, Каширское шоссе, дом 46, корпус 1',\n",
       " 'город Москва, Каширское шоссе, дом 56, корпус 2',\n",
       " 'город Москва, Каширское шоссе, дом 60, корпус 2',\n",
       " 'город Москва, Керченская улица, дом 1, корпус 1',\n",
       " 'город Москва, Керченская улица, дом 1А, корпус 3',\n",
       " 'город Москва, улица Кибальчича, дом 2, корпус 1',\n",
       " 'город Москва, Киевская улица, дом 20',\n",
       " 'город Москва, Киевская улица, дом 20',\n",
       " 'город Москва, Мясницкая улица, дом 15',\n",
       " 'город Москва, Мясницкая улица, дом 22, строение 1',\n",
       " 'город Москва, Мясницкая улица, дом 22, строение 1',\n",
       " 'город Москва, Мясницкая улица, дом 24/7, строение 1',\n",
       " 'город Москва, Мясницкая улица, дом 24/7, строение 1',\n",
       " 'город Москва, Мясницкая улица, дом 24/7, строение 1',\n",
       " 'город Москва, Мясницкая улица, дом 24/7, строение 1',\n",
       " 'город Москва, Мясницкая улица, дом 24/7, строение 1',\n",
       " 'город Москва, Мясницкая улица, дом 24/7, строение 2',\n",
       " 'город Москва, Мясницкая улица, дом 24/7, строение 2',\n",
       " 'город Москва, Мясницкая улица, дом 30/1/2, строение 1',\n",
       " 'город Москва, Мясницкая улица, дом 30/1/2, строение 1',\n",
       " 'город Москва, Мясницкая улица, дом 30/1/2, строение 2',\n",
       " 'город Москва, Мясницкая улица, дом 40А',\n",
       " 'город Москва, Кировоградская улица, дом 11',\n",
       " 'город Москва, Кировоградская улица, дом 11',\n",
       " 'город Москва, Кировоградская улица, дом 25, корпус 1',\n",
       " 'город Москва, Рождественский бульвар, дом 10/7, строение 1',\n",
       " 'город Москва, Кожевническая улица, дом 5',\n",
       " 'город Москва, 5-я Кожуховская улица, дом 10, корпус 1',\n",
       " 'город Москва, Малый Козихинский переулок, дом 10, строение 1',\n",
       " 'город Москва, Большой Козловский переулок, дом 3/2',\n",
       " 'город Москва, 2-й Колобовский переулок, дом 12',\n",
       " 'город Москва, Коломенская улица, дом 5',\n",
       " 'город Москва, Большая Сухаревская площадь, дом 16/18, строение 1',\n",
       " 'город Москва, Большая Сухаревская площадь, дом 16/18, строение 2',\n",
       " 'город Москва, Малая Сухаревская площадь, дом 8',\n",
       " 'город Москва, улица Коминтерна, дом 16',\n",
       " 'город Москва, Большой Златоустинский переулок, дом 3/5, строение 1',\n",
       " 'город Москва, Фрунзенская набережная, дом 12',\n",
       " 'город Москва, Комсомольский проспект, дом 5/2',\n",
       " 'город Москва, Комсомольский проспект, дом 5/2',\n",
       " 'город Москва, Комсомольский проспект, дом 7, строение 1',\n",
       " 'город Москва, Комсомольский проспект, дом 14/1, корпус 1',\n",
       " 'город Москва, Комсомольский проспект, дом 14/1, корпус 2',\n",
       " 'город Москва, Комсомольский проспект, дом 14/1, корпус 2',\n",
       " 'город Москва, Комсомольский проспект, дом 17',\n",
       " 'город Москва, Комсомольский проспект, дом 21/10',\n",
       " 'город Москва, Комсомольский проспект, дом 21/10',\n",
       " 'город Москва, Комсомольский проспект, дом 21/10',\n",
       " 'город Москва, Комсомольский проспект, дом 21/10',\n",
       " 'город Москва, Комсомольский проспект, дом 29',\n",
       " 'город Москва, Комсомольский проспект, дом 30',\n",
       " 'город Москва, 3-я Фрунзенская улица, дом 14/37',\n",
       " 'город Москва, Комсомольский проспект, дом 45',\n",
       " 'город Москва, улица Конёнкова, дом 14',\n",
       " 'город Москва, улица Коновалова, дом 16А',\n",
       " 'город Москва, Конюшковская улица, дом 32',\n",
       " 'город Москва, Кооперативная улица, дом 2, корпус 13',\n",
       " 'город Москва, Коптевская улица, дом 22',\n",
       " 'город Москва, улица Корнейчука, дом 37',\n",
       " 'город Москва, улица Академика Королёва, дом 3',\n",
       " 'город Москва, улица Академика Королёва, дом 28, корпус 1',\n",
       " 'город Москва, улица Павла Корчагина, дом 13',\n",
       " 'город Москва, Большая Косинская улица, дом 24А',\n",
       " 'город Москва, улица Космонавтов, дом 2',\n",
       " 'город Москва, улица Космонавтов, дом 2',\n",
       " 'город Москва, улица Космонавтов, дом 12',\n",
       " 'город Москва, улица Космонавтов, дом 13',\n",
       " 'город Москва, улица Барклая, дом 15, корпус 1',\n",
       " 'город Москва, улица Костякова, дом 6/5',\n",
       " 'город Москва, улица Косыгина, дом 5',\n",
       " 'город Москва, Кочновский проезд, дом 7, корпус 1',\n",
       " 'город Москва, улица Коштоянца, дом 1/83',\n",
       " 'город Москва, улица Коштоянца, дом 1А',\n",
       " 'город Москва, улица Кравченко, дом 8',\n",
       " 'город Москва, улица Красина, дом 7, строение 1',\n",
       " 'город Москва, улица Красина, дом 21',\n",
       " 'город Москва, улица Красная Пресня, дом 11',\n",
       " 'город Москва, улица Красная Пресня, дом 29',\n",
       " 'город Москва, улица Красная Пресня, дом 29',\n",
       " 'город Москва, улица Красная Пресня, дом 29',\n",
       " 'город Москва, Красноармейская улица, дом 5',\n",
       " 'город Москва, Краснобогатырская улица, дом 21',\n",
       " 'город Москва, Краснодарская улица, дом 46',\n",
       " 'город Москва, Краснодарская улица, дом 51, корпус 2',\n",
       " 'город Москва, Краснодонская улица, дом 2, корпус 1',\n",
       " 'город Москва, Красноказарменная улица, дом 16',\n",
       " 'город Москва, Краснопрудная улица, дом 1',\n",
       " 'город Москва, Краснопрудная улица, дом 3-5, строение 1',\n",
       " 'город Москва, Краснопрудная улица, дом 7-9',\n",
       " 'город Москва, Краснопрудная улица, дом 22-24',\n",
       " 'город Москва, Краснопрудная улица, дом 22-24',\n",
       " 'город Москва, Краснопрудная улица, дом 22-24',\n",
       " 'город Москва, Краснопрудная улица, дом 26',\n",
       " 'город Москва, Верхняя Красносельская улица, дом 8, корпус 3',\n",
       " 'город Москва, Верхняя Красносельская улица, дом 34',\n",
       " 'город Москва, Малая Красносельская улица, дом 14',\n",
       " 'город Москва, Краснохолмская набережная, дом 1/15',\n",
       " 'город Москва, Краснохолмская набережная, дом 13, строение 1',\n",
       " 'город Москва, улица Красный Казанец, дом 17',\n",
       " 'город Москва, улица Красного Маяка, дом 1, корпус 1',\n",
       " 'город Москва, улица Красного Маяка, дом 2',\n",
       " 'город Москва, улица Кржижановского, дом 1/19',\n",
       " 'город Москва, улица Кржижановского, дом 15, корпус 3',\n",
       " 'город Москва, улица Кржижановского, дом 18, корпус 1',\n",
       " 'город Москва, улица Кржижановского, дом 18, корпус 2',\n",
       " 'город Москва, улица Кржижановского, дом 24/35, корпус 3',\n",
       " 'город Москва, улица Кржижановского, дом 24/35, корпус 3',\n",
       " 'город Москва, Кривоколенный переулок, дом 10, строение 2',\n",
       " 'город Москва, Кронштадтский бульвар, дом 15, корпус 1',\n",
       " 'город Москва, Гоголевский бульвар, дом 3',\n",
       " 'город Москва, Гоголевский бульвар, дом 3',\n",
       " 'город Москва, улица Пречистенка, дом 31/16',\n",
       " 'город Москва, 3-й Крутицкий переулок, дом 13',\n",
       " 'город Москва, 1-й Обыденский переулок, дом 9/12',\n",
       " 'город Москва, улица Кулакова, дом 25, корпус 2',\n",
       " 'город Москва, Кунцевская улица, дом 10',\n",
       " 'город Москва, Кусковская улица, дом 1',\n",
       " 'город Москва, Кусковская улица, дом 47',\n",
       " 'город Москва, Кутузовский проспект, дом 2/1, корпус 1А',\n",
       " 'город Москва, Кутузовский проспект, дом 2/1, корпус 1А',\n",
       " 'город Москва, Кутузовский проспект, дом 2/1, корпус 1А',\n",
       " 'город Москва, Кутузовский проспект, дом 4/2',\n",
       " 'город Москва, Кутузовский проспект, дом 8',\n",
       " 'город Москва, Кутузовский проспект, дом 17',\n",
       " 'город Москва, Кутузовский проспект, дом 21',\n",
       " 'город Москва, Кутузовский проспект, дом 30',\n",
       " 'город Москва, Кутузовский проспект, дом 30',\n",
       " 'город Москва, Кутузовский проспект, дом 41',\n",
       " 'город Москва, Ладожская улица, дом 2/37',\n",
       " 'город Москва, Лазаревский переулок, дом 4',\n",
       " 'город Москва, Лазаревский переулок, дом 4',\n",
       " 'город Москва, улица Лапина, дом 3',\n",
       " 'город Москва, Лебедянская улица, дом 28, корпус 1',\n",
       " 'город Москва, Малый Лёвшинский переулок, дом 14/9, строение 1',\n",
       " 'город Москва, Ленинградский проспект, дом 2',\n",
       " 'город Москва, Ленинградский проспект, дом 10',\n",
       " 'город Москва, Ленинградский проспект, дом 11',\n",
       " 'город Москва, Ленинградский проспект, дом 12',\n",
       " 'город Москва, Ленинградский проспект, дом 12',\n",
       " 'город Москва, Ленинградский проспект, дом 24',\n",
       " 'город Москва, Ленинградский проспект, дом 24',\n",
       " 'город Москва, Ленинградский проспект, дом 33, корпус 3',\n",
       " 'город Москва, Ленинградский проспект, дом 33, корпус 4',\n",
       " 'город Москва, Ленинградский проспект, дом 35',\n",
       " 'город Москва, Ленинградский проспект, дом 48',\n",
       " 'город Москва, Ленинградский проспект, дом 48',\n",
       " 'город Москва, Ленинградский проспект, дом 48',\n",
       " 'город Москва, Ленинградский проспект, дом 56',\n",
       " 'город Москва, Ленинградский проспект, дом 60, корпус 1',\n",
       " 'город Москва, Ленинградский проспект, дом 62',\n",
       " 'город Москва, Ленинградский проспект, дом 62',\n",
       " 'город Москва, Ленинградский проспект, дом 62',\n",
       " 'город Москва, Ленинградский проспект, дом 66',\n",
       " 'город Москва, Ленинградский проспект, дом 66',\n",
       " 'город Москва, Ленинградский проспект, дом 74, корпус 1',\n",
       " 'город Москва, Ленинградский проспект, дом 74, корпус 1',\n",
       " 'город Москва, Ленинградский проспект, дом 74, корпус 1',\n",
       " 'город Москва, Ленинградский проспект, дом 74, корпус 6',\n",
       " 'город Москва, Ленинградский проспект, дом 77, корпус 2',\n",
       " 'город Москва, Ленинградский проспект, дом 78, корпус 1',\n",
       " 'город Москва, Ленинградский проспект, дом 78, корпус 1',\n",
       " 'город Москва, Ленинградское шоссе, дом 3, строение 1',\n",
       " 'город Москва, Ленинградское шоссе, дом 8, корпус 2',\n",
       " 'город Москва, Ленинградское шоссе, дом 9, корпус 1',\n",
       " 'город Москва, Ленинградское шоссе, дом 44',\n",
       " 'город Москва, улица Зацепский Вал, дом 5',\n",
       " 'город Москва, Павелецкая площадь, дом 1',\n",
       " 'город Москва, Павелецкая площадь, дом 1',\n",
       " 'город Москва, Павелецкая площадь, дом 1',\n",
       " 'город Москва, Павелецкая площадь, дом 1',\n",
       " 'город Москва, Павелецкая площадь, дом 1А, строение 1',\n",
       " 'город Москва, Павелецкая площадь, дом 1',\n",
       " 'город Москва, Павелецкая площадь, дом 1',\n",
       " 'город Москва, Павелецкая площадь, дом 1',\n",
       " 'город Москва, Павелецкая площадь, дом 1',\n",
       " 'город Москва, Ленинский проспект, дом 2А',\n",
       " 'город Москва, Ленинский проспект, дом 11, строение 1',\n",
       " 'город Москва, Ленинский проспект, дом 13',\n",
       " 'город Москва, Ленинский проспект, дом 28',\n",
       " 'город Москва, Ленинский проспект, дом 34/1',\n",
       " 'город Москва, Ленинский проспект, дом 37',\n",
       " 'город Москва, Ленинский проспект, дом 37',\n",
       " 'город Москва, Ленинский проспект, дом 37',\n",
       " 'город Москва, Ленинский проспект, дом 37',\n",
       " 'город Москва, Ленинский проспект, дом 37А',\n",
       " 'город Москва, Ленинский проспект, дом 43',\n",
       " 'город Москва, Ленинский проспект, дом 43',\n",
       " 'город Москва, Ленинский проспект, дом 57',\n",
       " 'город Москва, Ленинский проспект, дом 57',\n",
       " 'город Москва, Ленинский проспект, дом 61/1',\n",
       " 'город Москва, Ленинский проспект, дом 68/10',\n",
       " 'город Москва, Ленинский проспект, дом 68/10',\n",
       " 'город Москва, Ленинский проспект, дом 68/10',\n",
       " 'город Москва, Ленинский проспект, дом 68/10',\n",
       " 'город Москва, Ленинский проспект, дом 68/10',\n",
       " 'город Москва, Ленинский проспект, дом 82/2',\n",
       " 'город Москва, Ленинский проспект, дом 87',\n",
       " 'город Москва, Ленинский проспект, дом 91',\n",
       " 'город Москва, Ленинский проспект, дом 95',\n",
       " 'город Москва, Ленинский проспект, дом 99',\n",
       " 'город Москва, Ленинский проспект, дом 99',\n",
       " 'город Москва, Ленинский проспект, дом 148',\n",
       " 'город Москва, улица Лескова, дом 3А',\n",
       " 'город Москва, улица Лескова, дом 5',\n",
       " 'город Москва, улица Лескова, дом 6',\n",
       " 'город Москва, Лесная улица, дом 10-16',\n",
       " 'город Москва, Лесная улица, дом 20, строение 1',\n",
       " 'город Москва, Лесная улица, дом 20, строение 1',\n",
       " 'город Москва, Лесная улица, дом 45',\n",
       " 'город Москва, улица Лестева, дом 21/61, корпус 1',\n",
       " 'город Москва, Лиственничная аллея, дом 2Б',\n",
       " 'город Москва, Лиственничная аллея, дом 2А',\n",
       " 'город Москва, Лиственничная аллея, дом 2А',\n",
       " 'город Москва, Лиственничная аллея, дом 12, строение 2',\n",
       " 'город Москва, 3-й Нижнелихоборский проезд, дом 15/27',\n",
       " 'город Москва, Ломоносовский проспект, дом 3, корпус 1',\n",
       " 'город Москва, Ломоносовский проспект, дом 7, корпус 1',\n",
       " 'город Москва, Ломоносовский проспект, дом 31, корпус 5',\n",
       " 'город Москва, Лосиноостровская улица, дом 2, строение 1',\n",
       " 'город Москва, улица Малая Лубянка, дом 16',\n",
       " 'город Москва, Лужнецкий проезд, дом 1',\n",
       " 'город Москва, Люсиновская улица, дом 36/50',\n",
       " 'город Москва, Люсиновская улица, дом 41, строение 1',\n",
       " 'город Москва, Люсиновская улица, дом 53',\n",
       " 'город Москва, Люсиновская улица, дом 55',\n",
       " 'город Москва, Лялин переулок, дом 7/2, строение 1',\n",
       " 'город Москва, Магнитогорская улица, дом 7',\n",
       " 'город Москва, Магнитогорская улица, дом 19',\n",
       " 'город Москва, улица Макаренко, дом 2/21, строение 1',\n",
       " 'город Москва, улица Макаренко, дом 2/21, строение 1',\n",
       " 'город Москва, Космодамианская набережная, дом 40-42, строение 3',\n",
       " 'город Москва, Мантулинская улица, дом 10',\n",
       " 'город Москва, Мантулинская улица, дом 18',\n",
       " 'город Москва, Мантулинская улица, дом 18',\n",
       " 'город Москва, Люблинская улица, дом 121/1',\n",
       " 'город Москва, Малый Знаменский переулок, дом 7/10, строение 2',\n",
       " 'город Москва, Марксистская улица, дом 5',\n",
       " 'город Москва, Марксистская улица, дом 9',\n",
       " 'город Москва, Марксистская улица, дом 9',\n",
       " 'город Москва, Мартеновская улица, дом 9/13',\n",
       " 'город Москва, Милютинский переулок, дом 3',\n",
       " 'город Москва, Милютинский переулок, дом 19/4, строение 2',\n",
       " 'город Москва, улица Верхняя Масловка, дом 21',\n",
       " 'город Москва, улица Верхняя Масловка, дом 29',\n",
       " 'город Москва, улица Нижняя Масловка, дом 5, корпус 1',\n",
       " 'город Москва, улица Нижняя Масловка, дом 5, корпус 1',\n",
       " 'город Москва, улица Нижняя Масловка, дом 5, корпус 5',\n",
       " 'город Москва, улица Нижняя Масловка, дом 14',\n",
       " 'город Москва, улица Мастеркова, дом 3',\n",
       " 'город Москва, Матвеевская улица, дом 20, корпус 1',\n",
       " 'город Москва, улица Матросская Тишина, дом 23/7, корпус 1',\n",
       " 'город Москва, улица Покровка, дом 41, строение 1',\n",
       " 'город Москва, улица Машкова, дом 22',\n",
       " 'город Москва, Медынская улица, дом 5, корпус 1',\n",
       " 'город Москва, улица Менжинского, дом 3',\n",
       " 'город Москва, улица Металлургов, дом 7/18',\n",
       " 'город Москва, улица Металлургов, дом 29',\n",
       " 'город Москва, Мещанская улица, дом 12',\n",
       " 'город Москва, улица Миклухо-Маклая, дом 3',\n",
       " 'город Москва, улица Миклухо-Маклая, дом 5',\n",
       " 'город Москва, улица Миклухо-Маклая, дом 9',\n",
       " 'город Москва, улица Миклухо-Маклая, дом 9',\n",
       " 'город Москва, улица Миклухо-Маклая, дом 13',\n",
       " 'город Москва, улица Миклухо-Маклая, дом 13',\n",
       " 'город Москва, улица Миклухо-Маклая, дом 15',\n",
       " 'город Москва, улица Миклухо-Маклая, дом 17',\n",
       " 'город Москва, улица Миклухо-Маклая, дом 19',\n",
       " 'город Москва, улица Миклухо-Маклая, дом 21, корпус 1',\n",
       " 'город Москва, улица Миклухо-Маклая, дом 21, корпус 1',\n",
       " 'город Москва, улица Миклухо-Маклая, дом 21, корпус 3',\n",
       " 'город Москва, улица Миклухо-Маклая, дом 55',\n",
       " 'город Москва, улица Миклухо-Маклая, дом 55',\n",
       " 'город Москва, улица Милашенкова, дом 10',\n",
       " 'город Москва, улица Академика Миллионщикова, дом 7, корпус 1',\n",
       " 'город Москва, проспект Мира, дом 5, корпус 1',\n",
       " 'город Москва, проспект Мира, дом 29',\n",
       " 'город Москва, проспект Мира, дом 29',\n",
       " 'город Москва, проспект Мира, дом 31',\n",
       " 'город Москва, проспект Мира, дом 40',\n",
       " 'город Москва, проспект Мира, дом 47, строение 1',\n",
       " 'город Москва, проспект Мира, дом 48, строение 6',\n",
       " 'город Москва, проспект Мира, дом 49',\n",
       " 'город Москва, проспект Мира, дом 49',\n",
       " 'город Москва, проспект Мира, дом 54',\n",
       " 'город Москва, проспект Мира, дом 56, строение 2',\n",
       " 'город Москва, проспект Мира, дом 58',\n",
       " 'город Москва, проспект Мира, дом 70',\n",
       " 'город Москва, проспект Мира, дом 77, корпус 1',\n",
       " 'город Москва, проспект Мира, дом 77, корпус 2',\n",
       " 'город Москва, проспект Мира, дом 91, корпус 1',\n",
       " 'город Москва, проспект Мира, дом 91, корпус 3',\n",
       " 'город Москва, проспект Мира, дом 97',\n",
       " 'город Москва, проспект Мира, дом 97',\n",
       " 'город Москва, проспект Мира, дом 97',\n",
       " 'город Москва, проспект Мира, дом 112',\n",
       " 'город Москва, проспект Мира, дом 114Б',\n",
       " 'город Москва, проспект Мира, дом 116',\n",
       " 'город Москва, проспект Мира, дом 118',\n",
       " 'город Москва, проспект Мира, дом 118',\n",
       " 'город Москва, проспект Мира, дом 118',\n",
       " 'город Москва, проспект Мира, дом 120',\n",
       " 'город Москва, проспект Мира, дом 124, корпус 4',\n",
       " 'город Москва, проспект Мира, дом 180',\n",
       " 'город Москва, проспект Мира, дом 186, корпус 1',\n",
       " 'город Москва, Мирской переулок, дом 5',\n",
       " 'город Москва, улица Михайлова, дом 29, корпус 3',\n",
       " 'город Москва, 2-й Верхний Михайловский проезд, дом 2',\n",
       " 'город Москва, Михалковская улица, дом 7',\n",
       " 'город Москва, Михалковская улица, дом 8',\n",
       " 'город Москва, Михалковская улица, дом 9',\n",
       " 'город Москва, Михалковская улица, дом 13',\n",
       " 'город Москва, Большой Патриарший переулок, дом 4',\n",
       " 'город Москва, Большой Патриарший переулок, дом 10',\n",
       " 'город Москва, Большой Патриарший переулок, дом 12, строение 1',\n",
       " 'город Москва, Большой Патриарший переулок, дом 12, строение 1',\n",
       " 'город Москва, улица Мнёвники, дом 7, корпус 2',\n",
       " 'город Москва, Можайское шоссе, дом 11',\n",
       " 'город Москва, Можайское шоссе, дом 30',\n",
       " 'город Москва, Можайское шоссе, дом 31, корпус 1',\n",
       " 'город Москва, Можайское шоссе, дом 39',\n",
       " 'город Москва, Можайское шоссе, дом 39',\n",
       " 'город Москва, Молодогвардейская улица, дом 26, корпус 1',\n",
       " 'город Москва, Молодогвардейская улица, дом 28, корпус 1',\n",
       " 'город Москва, улица Большая Молчановка, дом 15/12',\n",
       " 'город Москва, Мосфильмовская улица, дом 17/25',\n",
       " 'город Москва, Мосфильмовская улица, дом 22',\n",
       " 'город Москва, Мосфильмовская улица, дом 23',\n",
       " 'город Москва, Мурановская улица, дом 6',\n",
       " 'город Москва, улица Мусоргского, дом 11А',\n",
       " 'город Москва, Мытная улица, дом 58',\n",
       " 'город Москва, Большой Афанасьевский переулок, дом 3, строение 3',\n",
       " 'город Москва, Нагатинская набережная, дом 12, корпус 3',\n",
       " 'город Москва, Нагатинская улица, дом 13, корпус 1',\n",
       " 'город Москва, Нагатинская улица, дом 33',\n",
       " 'город Москва, Нагорная улица, владение 25, строение 1',\n",
       " 'город Москва, Нагорный бульвар, дом 5, корпус 1',\n",
       " 'город Москва, улица Народного Ополчения, дом 22, корпус 1',\n",
       " 'город Москва, улица Народного Ополчения, дом 22, корпус 2',\n",
       " 'город Москва, улица Народного Ополчения, дом 28, корпус 1',\n",
       " 'город Москва, улица Народного Ополчения, дом 43, корпус 1',\n",
       " 'город Москва, улица Народного Ополчения, дом 48, корпус 1',\n",
       " 'город Москва, улица Народного Ополчения, дом 48, корпус 1',\n",
       " 'город Москва, улица Народного Ополчения, дом 49, корпус 1',\n",
       " 'город Москва, улица Народного Ополчения, дом 49, корпус 1',\n",
       " 'город Москва, Нахимовский проспект, дом 4',\n",
       " 'город Москва, Нахимовский проспект, дом 4',\n",
       " 'город Москва, Неглинная улица, дом 16/2, строение 4',\n",
       " 'город Москва, Неглинная улица, дом 16/2, строение 4',\n",
       " 'город Москва, Неглинная улица, дом 18, строение 1',\n",
       " 'город Москва, Звонарский переулок, дом 5',\n",
       " 'город Москва, Нижний Кисельный переулок, дом 3, строение 1',\n",
       " 'город Москва, Брюсов переулок, дом 2/14, строение 1',\n",
       " 'город Москва, Брюсов переулок, дом 2/14, строение 6',\n",
       " 'город Москва, Брюсов переулок, дом 8-10, строение 2',\n",
       " 'город Москва, Брюсов переулок, дом 8-10, строение 2',\n",
       " 'город Москва, Нежинская улица, дом 5Б',\n",
       " 'город Москва, Нижегородская улица, дом 2, корпус 1',\n",
       " 'город Москва, Нижегородская улица, дом 2, корпус 1',\n",
       " 'город Москва, Нижегородская улица, дом 58, корпус 3',\n",
       " 'город Москва, Нижегородская улица, дом 70, корпус 1',\n",
       " 'город Москва, Новгородская улица, дом 10',\n",
       " 'город Москва, Новгородская улица, дом 26',\n",
       " 'город Москва, улица Новинки, дом 31',\n",
       " 'город Москва, 1-я Новокузьминская улица, дом 3',\n",
       " 'город Москва, Новогиреевская улица, дом 20/34, корпус 1',\n",
       " 'город Москва, Новогиреевская улица, дом 20/34, корпус 3',\n",
       " 'город Москва, Новогиреевская улица, дом 31/45',\n",
       " 'город Москва, Новодевичий проезд, дом 2',\n",
       " 'город Москва, Новодевичий проезд, дом 4',\n",
       " 'город Москва, Новозаводская улица, дом 25, корпус 6',\n",
       " 'город Москва, Новокузнецкая улица, дом 13, строение 1',\n",
       " 'город Москва, Новокузнецкая улица, дом 33, строение 1',\n",
       " 'город Москва, 1-й Новокузнецкий переулок, дом 5-7',\n",
       " 'город Москва, Новопетровская улица, дом 14',\n",
       " 'город Москва, Новорязанская улица, дом 2/7',\n",
       " 'город Москва, Новорязанская улица, дом 38',\n",
       " 'город Москва, Новосибирская улица, дом 8',\n",
       " 'город Москва, Новослободская улица, дом 5, строение 1',\n",
       " 'город Москва, Новослободская улица, дом 10, строение 1',\n",
       " 'город Москва, Новослободская улица, дом 10, строение 1',\n",
       " 'город Москва, Сущёвская улица, дом 9',\n",
       " 'город Москва, Сущёвская улица, дом 9',\n",
       " 'город Москва, Новослободская улица, дом 14/19, строение 1',\n",
       " 'город Москва, Новослободская улица, дом 14/19, строение 1',\n",
       " 'город Москва, Новослободская улица, дом 14/19, строение 8',\n",
       " 'город Москва, Новослободская улица, дом 33',\n",
       " 'город Москва, Новослободская улица, дом 36/1, строение 1',\n",
       " 'город Москва, Новослободская улица, дом 36/1, строение 1',\n",
       " 'город Москва, Новослободская улица, дом 46',\n",
       " 'город Москва, Новослободская улица, дом 50/1, строение 2',\n",
       " 'город Москва, Новослободская улица, дом 54/56',\n",
       " 'город Москва, Новослободская улица, дом 67/69',\n",
       " 'город Москва, Новослободская улица, дом 50/1, строение 2',\n",
       " 'город Москва, улица Образцова, дом 22',\n",
       " 'город Москва, улица Воронцово Поле, дом 18',\n",
       " 'город Москва, Овчинниковская набережная, дом 22/24, строение 1',\n",
       " 'город Москва, Окружной проезд, дом 15',\n",
       " 'город Москва, Окская улица, дом 16, корпус 3',\n",
       " 'город Москва, Октябрьская улица, дом 5',\n",
       " 'город Москва, Октябрьская улица, дом 9/1',\n",
       " 'город Москва, Октябрьская улица, дом 18',\n",
       " 'город Москва, Октябрьская улица, дом 38, корпус 1',\n",
       " 'город Москва, Октябрьская улица, дом 38, корпус 1',\n",
       " 'город Москва, Октябрьская улица, дом 105, корпус 2',\n",
       " 'город Москва, Октябрьский переулок, дом 12',\n",
       " 'город Москва, Олимпийский проспект, дом 22',\n",
       " 'город Москва, улица Орджоникидзе, дом 9, корпус 1',\n",
       " 'город Москва, улица Большая Ордынка, дом 7',\n",
       " 'город Москва, улица Большая Ордынка, дом 7',\n",
       " 'город Москва, Ореховый бульвар, дом 47/33',\n",
       " 'город Москва, Орликов переулок, дом 8',\n",
       " 'город Москва, Оружейный переулок, дом 25, строение 1',\n",
       " 'город Москва, Садовническая улица, дом 42, строение 1',\n",
       " 'город Москва, Садовническая улица, дом 42, строение 1',\n",
       " 'город Москва, Садовническая улица, дом 51, строение 1',\n",
       " 'город Москва, Осташковская улица, дом 30',\n",
       " 'город Москва, улица Остоженка, дом 1/9',\n",
       " 'город Москва, улица Остоженка, дом 3/14',\n",
       " 'город Москва, улица Остоженка, дом 3/14',\n",
       " 'город Москва, улица Остоженка, дом 7, строение 1',\n",
       " 'город Москва, улица Остоженка, дом 7, строение 1',\n",
       " 'город Москва, улица Остоженка, дом 14/2',\n",
       " 'город Москва, улица Остоженка, дом 14/2',\n",
       " 'город Москва, улица Остоженка, дом 42/2',\n",
       " 'город Москва, улица Островитянова, дом 16, корпус 5',\n",
       " 'город Москва, Большой Козихинский переулок, дом 4',\n",
       " 'город Москва, Большой Козихинский переулок, дом 10',\n",
       " 'город Москва, Большой Козихинский переулок, дом 12/2',\n",
       " 'город Москва, Малый Козихинский переулок, дом 8/18',\n",
       " 'город Москва, Открытое шоссе, дом 22',\n",
       " 'город Москва, Открытое шоссе, дом 24, корпус 11',\n",
       " 'город Москва, Открытое шоссе, дом 24, корпус 11',\n",
       " 'город Москва, Открытое шоссе, дом 24, корпус 11',\n",
       " 'город Москва, Открытое шоссе, дом 29, корпус 1',\n",
       " 'город Москва, Отрадная улица, дом 7',\n",
       " 'город Москва, Отрадная улица, дом 11А',\n",
       " 'город Москва, Рябиновая улица, дом 40А',\n",
       " 'город Москва, улица Панфилова, дом 12',\n",
       " 'город Москва, улица Панфилова, дом 12',\n",
       " 'город Москва, улица Панфилова, дом 16',\n",
       " 'город Москва, улица Панфилова, дом 18, корпус 1',\n",
       " 'город Москва, 3-я Парковая улица, дом 4',\n",
       " 'город Москва, 5-я Парковая улица, дом 25',\n",
       " 'город Москва, 7-я Парковая улица, дом 27',\n",
       " 'город Москва, 7-я Парковая улица, дом 33, корпус 5',\n",
       " 'город Москва, 7-я Парковая улица, дом 33, корпус 5',\n",
       " 'город Москва, 9-я Парковая улица, дом 30',\n",
       " 'город Москва, 9-я Парковая улица, дом 30',\n",
       " 'город Москва, 9-я Парковая улица, дом 32',\n",
       " 'город Москва, 9-я Парковая улица, владение 61А, строение 1',\n",
       " 'город Москва, 16-я Парковая улица, дом 16',\n",
       " 'город Москва, 16-я Парковая улица, дом 45',\n",
       " 'Партизанская улица, дом 30',\n",
       " 'Партизанская улица, дом 30',\n",
       " 'город Москва, Первомайская улица, дом 14',\n",
       " 'город Москва, Первомайская улица, дом 19',\n",
       " 'город Москва, Первомайская улица, дом 35/18',\n",
       " 'город Москва, Первомайская улица, дом 43',\n",
       " 'город Москва, Первомайская улица, дом 47/19',\n",
       " 'город Москва, Первомайская улица, дом 77',\n",
       " 'город Москва, Первомайская улица, дом 86/18',\n",
       " 'город Москва, Первомайская улица, дом 87',\n",
       " 'город Москва, Первомайская улица, дом 88',\n",
       " 'город Москва, Первомайская улица, дом 94',\n",
       " 'город Москва, Первомайская улица, дом 105',\n",
       " 'город Москва, Средняя Первомайская улица, дом 46',\n",
       " 'город Москва, Большая Переяславская улица, дом 10',\n",
       " 'город Москва, Большая Переяславская улица, дом 50, строение 1',\n",
       " 'город Москва, Перовская улица, дом 62',\n",
       " 'город Москва, Перовская улица, дом 73, строение 1',\n",
       " 'город Москва, улица Петровка, дом 17, строение 2',\n",
       " 'город Москва, улица Петровка, дом 17, строение 3',\n",
       " 'город Москва, улица Петровка, дом 20/1',\n",
       " 'город Москва, улица Петровка, дом 20/1',\n",
       " 'город Москва, улица Петровка, дом 28, строение 1',\n",
       " 'город Москва, улица Петровка, дом 30/7',\n",
       " 'город Москва, улица Петровка, дом 30/7',\n",
       " 'город Москва, улица Петровка, дом 30/7',\n",
       " 'город Москва, улица Петровка, дом 30/7',\n",
       " 'город Москва, улица Шаболовка, дом 30/12',\n",
       " 'город Москва, улица Шаболовка, дом 30/12',\n",
       " 'город Москва, Петровский бульвар, дом 17/1',\n",
       " 'город Москва, Петровско-Разумовский проезд, дом 10',\n",
       " 'город Москва, Петровско-Разумовский проезд, дом 16',\n",
       " 'город Москва, Петровско-Разумовский проезд, дом 16',\n",
       " 'город Москва, Старый Петровско-Разумовский проезд, дом 5-13',\n",
       " 'город Москва, Петрозаводская улица, дом 1',\n",
       " 'город Москва, Петрозаводская улица, дом 11, корпус 1',\n",
       " 'город Москва, улица Пивченкова, дом 7',\n",
       " 'город Москва, Большая Пироговская улица, дом 37-43, корпус А',\n",
       " 'город Москва, Большая Пироговская улица, дом 37-43, корпус А',\n",
       " 'город Москва, Большая Пироговская улица, дом 53',\n",
       " 'город Москва, Платовская улица, дом 4',\n",
       " 'город Москва, улица Плеханова, дом 20',\n",
       " 'город Москва, улица Плющиха, дом 16, строение 1',\n",
       " 'город Москва, улица Плющиха, дом 20/2',\n",
       " 'город Москва, улица Плющиха, дом 53/25, строение 1',\n",
       " 'город Москва, площадь Победы, дом 1, корпус Б',\n",
       " 'город Москва, Погонный проезд, дом 12, корпус 1',\n",
       " 'город Москва, Ивантеевская улица, дом 4, корпус 1',\n",
       " 'город Москва, Ивантеевская улица, дом 32, корпус 2',\n",
       " 'город Москва, 3-й проезд Подбельского, дом 22, корпус 3',\n",
       " 'город Москва, улица Пресненский Вал, дом 4/29',\n",
       " 'город Москва, Подсосенский переулок, дом 8, строение 2',\n",
       " 'город Москва, Поклонная улица, дом 10',\n",
       " 'город Москва, Покровский бульвар, дом 14/6',\n",
       " 'город Москва, улица Фёдора Полетаева, дом 7',\n",
       " 'город Москва, улица Большая Полянка, дом 1/3',\n",
       " 'город Москва, улица Большая Полянка, дом 1/3',\n",
       " 'город Москва, улица Большая Полянка, дом 28, корпус 1',\n",
       " 'город Москва, улица Большая Полянка, дом 28, корпус 1',\n",
       " 'город Москва, улица Большая Полянка, дом 30',\n",
       " 'город Москва, улица Большая Полянка, дом 30',\n",
       " 'город Москва, улица Большая Полянка, дом 30',\n",
       " 'город Москва, Полярная улица, дом 7, корпус 1',\n",
       " 'город Москва, Попутная улица, дом 5',\n",
       " 'город Москва, улица Маши Порываевой, дом 38',\n",
       " 'город Москва, улица Правды, дом 3/1',\n",
       " 'город Москва, Преображенская улица, дом 5/7',\n",
       " 'город Москва, Преображенская улица, дом 2',\n",
       " 'город Москва, Преображенская улица, дом 2',\n",
       " 'город Москва, улица Преображенский Вал, дом 14',\n",
       " 'город Москва, улица Пресненский Вал, дом 3',\n",
       " 'город Москва, улица Пресненский Вал, дом 38, строение 1',\n",
       " 'город Москва, улица Пришвина, дом 3',\n",
       " 'город Москва, улица Пришвина, дом 9/2',\n",
       " 'город Москва, улица Пришвина, дом 9/2',\n",
       " 'город Москва, улица Пришвина, дом 17',\n",
       " 'город Москва, Пролетарский проспект, дом 4',\n",
       " 'город Москва, Пролетарский проспект, дом 19, корпус 3',\n",
       " 'город Москва, Просторная улица, дом 6',\n",
       " 'город Москва, Профсоюзная улица, дом 2/22',\n",
       " 'город Москва, Профсоюзная улица, дом 9',\n",
       " 'город Москва, Профсоюзная улица, дом 13/12',\n",
       " 'город Москва, Профсоюзная улица, дом 15',\n",
       " 'город Москва, Профсоюзная улица, дом 16/10',\n",
       " 'город Москва, Профсоюзная улица, дом 16/10',\n",
       " 'город Москва, Профсоюзная улица, дом 19',\n",
       " 'город Москва, Профсоюзная улица, дом 24, корпус 1',\n",
       " 'город Москва, Профсоюзная улица, дом 33, строение 1',\n",
       " 'город Москва, Профсоюзная улица, дом 40, корпус 1',\n",
       " 'город Москва, Профсоюзная улица, дом 58/32, корпус 1',\n",
       " 'город Москва, Профсоюзная улица, дом 98, корпус 10',\n",
       " 'город Москва, Профсоюзная улица, дом 113, корпус 1',\n",
       " 'город Москва, Профсоюзная улица, дом 132, корпус 7',\n",
       " 'город Москва, Профсоюзная улица, дом 132, корпус 8',\n",
       " 'город Москва, улица Проходчиков, дом 3',\n",
       " 'город Москва, улица Пудовкина, дом 3',\n",
       " 'город Москва, улица Большая Дмитровка, дом 7/5, строение 1',\n",
       " 'город Москва, улица Большая Дмитровка, дом 7/5, строение 1',\n",
       " 'город Москва, улица Большая Дмитровка, дом 7/5, строение 1',\n",
       " 'город Москва, улица Большая Дмитровка, дом 7/5, строение 1',\n",
       " 'город Москва, улица Большая Дмитровка, дом 7/5, строение 1',\n",
       " 'город Москва, улица Большая Дмитровка, дом 12/1, строение 1',\n",
       " 'город Москва, улица Большая Дмитровка, дом 20, строение 1',\n",
       " 'город Москва, улица Большая Дмитровка, дом 20, строение 1',\n",
       " 'город Москва, улица Большая Дмитровка, дом 22, строение 1',\n",
       " 'город Москва, Петровский переулок, дом 1/30, строение 1',\n",
       " 'город Москва, Петровский переулок, дом 1/30, строение 1',\n",
       " 'город Москва, улица Пырьева, дом 5А',\n",
       " 'город Москва, Пятницкая улица, дом 5, строение 1',\n",
       " 'город Москва, Пятницкая улица, дом 6/1, строение 1',\n",
       " 'город Москва, Пятницкая улица, дом 6/1, строение 1',\n",
       " 'город Москва, Пятницкая улица, дом 6/1, строение 1',\n",
       " 'город Москва, Пятницкая улица, дом 6/1, строение 1',\n",
       " 'город Москва, Пятницкая улица, дом 6/1, строение 1',\n",
       " 'город Москва, Пятницкая улица, дом 9/28, строение 1',\n",
       " 'город Москва, Пятницкая улица, дом 10, строение 1',\n",
       " 'город Москва, Пятницкая улица, дом 10, строение 1',\n",
       " 'город Москва, Пятницкая улица, дом 20, строение 1',\n",
       " 'город Москва, Пятницкая улица, дом 20, строение 2',\n",
       " 'город Москва, Пятницкая улица, дом 22, строение 1',\n",
       " 'город Москва, Пятницкая улица, дом 53/18, строение 1',\n",
       " 'город Москва, Пятницкая улица, дом 53/18, строение 1',\n",
       " 'город Москва, Пятницкая улица, дом 54, строение 1',\n",
       " 'город Москва, Пятницкая улица, дом 59/19, строение 5',\n",
       " 'город Москва, Пятницкий переулок, дом 3',\n",
       " 'город Москва, бульвар Яна Райниса, дом 2, корпус 1',\n",
       " 'город Москва, улица Расковой, дом 1',\n",
       " 'город Москва, улица Расковой, дом 14',\n",
       " 'город Москва, Реутовская улица, дом 2',\n",
       " 'город Москва, улица Речников, дом 28, корпус 1',\n",
       " 'город Москва, площадь Рогожская Застава, дом 2/1, строение 1',\n",
       " 'город Москва, улица Рогожский Посёлок, дом 3',\n",
       " 'город Москва, Рождественский бульвар, дом 22/23, строение 1',\n",
       " 'город Москва, Рождественский бульвар, дом 22/23, строение 1',\n",
       " 'город Москва, улица Петра Романова, дом 6',\n",
       " 'город Москва, Рочдельская улица, дом 11/5',\n",
       " 'город Москва, Рублёвское шоссе, дом 28, корпус 1',\n",
       " 'город Москва, Рублёвское шоссе, дом 91, корпус 4',\n",
       " 'город Москва, Смоленская-Сенная площадь, дом 23/25',\n",
       " 'город Москва, Русаковская улица, дом 22',\n",
       " 'город Москва, Русаковская улица, дом 27',\n",
       " ...]"
      ]
     },
     "execution_count": 29,
     "metadata": {},
     "output_type": "execute_result"
    }
   ],
   "source": [
    "# посмотрим, какие есть типы улиц в списке адресов\n",
    "\n",
    "streets = rest['address'].to_list()\n",
    "\n",
    "streets \n"
   ]
  },
  {
   "cell_type": "code",
   "execution_count": 30,
   "metadata": {
    "scrolled": true
   },
   "outputs": [],
   "source": [
    "# выделим типы улиц в отдельный список и напишем функцию по извлечению улицы из адреса\n",
    "\n",
    "def select_street(rest):\n",
    "    street_type = ['улица', 'переулок', 'шоссе', 'проезд',\n",
    "                  'набережная', 'бульвар', 'проспект', 'площадь', \n",
    "                   'аллея', 'линия', 'тупик', 'квартал', 'микрорайон', \n",
    "                   'километр', 'территория', 'просек', 'посёлок']\n",
    "    for street in rest:\n",
    "        for element in street_type:\n",
    "            if element in street:\n",
    "                return street\n",
    "            \n",
    "rest['street'] = rest['address'].str.split(', ').apply(select_street)  \n",
    "  "
   ]
  },
  {
   "cell_type": "code",
   "execution_count": 31,
   "metadata": {
    "scrolled": true
   },
   "outputs": [
    {
     "data": {
      "text/plain": [
       "['город Москва, город Зеленоград, корпус 401',\n",
       " 'город Москва, город Зеленоград, корпус 435',\n",
       " 'город Москва, город Зеленоград, корпус 436',\n",
       " 'город Москва, город Зеленоград, корпус 438',\n",
       " 'город Москва, город Зеленоград, корпус 438',\n",
       " 'город Москва, город Зеленоград, корпус 834А',\n",
       " 'город Москва, город Зеленоград, корпус 1106',\n",
       " 'город Москва, город Зеленоград, корпус 1449',\n",
       " 'город Москва, город Зеленоград, корпус 1456',\n",
       " 'город Москва, город Зеленоград, корпус 1456',\n",
       " 'город Москва, город Зеленоград, корпус 1805',\n",
       " 'город Москва, город Зеленоград, корпус 533',\n",
       " 'город Москва, город Зеленоград, корпус 826',\n",
       " 'город Москва, город Зеленоград, корпус 126',\n",
       " 'город Москва, город Зеленоград, корпус 330',\n",
       " 'город Москва, поселение Вороновское, село Вороново, дом 110',\n",
       " 'город Москва, поселение Внуковское, деревня Ликова, дом 1А',\n",
       " 'город Москва, поселение Десеновское, деревня Десна, дом 144УЧ',\n",
       " 'город Москва, поселение Московский, деревня Говорово, дом 1Б/Н',\n",
       " 'город Москва, поселение Московский, деревня Говорово, дом 1Б/Н',\n",
       " 'город Москва, поселение Московский, деревня Говорово, дом 1Б/Н',\n",
       " 'город Москва, поселение Щаповское, деревня Троицкое, дом 38Б',\n",
       " 'город Москва, поселение Краснопахорское, село Красная Пахра, дом 2',\n",
       " 'город Москва, поселение Краснопахорское, село Красная Пахра, дом 6',\n",
       " 'город Москва, поселение Краснопахорское, село Красная Пахра, дом 9',\n",
       " 'город Москва, поселение Щаповское, деревня Овечкино, дом 42',\n",
       " 'город Москва, поселение Внуковское, деревня Пыхтино, дом 46А',\n",
       " 'город Москва, поселение Роговское, деревня Бунчиха, владение 1',\n",
       " 'город Москва, поселение Филимонковское, деревня Верхнее Валуево, дом 21А',\n",
       " 'город Москва, поселение Новофедоровское, деревня Яковлевское, дом 132',\n",
       " 'город Москва, поселение Московский, деревня Лапшинка, дом 2Б',\n",
       " 'город Москва, поселение Краснопахорское, село Красная Пахра, дом 8',\n",
       " 'город Москва, город Зеленоград, корпус 317А, строение 1',\n",
       " 'город Москва, город Зеленоград, корпус 317А, строение 1',\n",
       " 'город Москва, город Зеленоград, корпус 1004А',\n",
       " 'город Москва, город Зеленоград, корпус 855',\n",
       " 'город Москва, город Зеленоград, корпус 1468',\n",
       " 'город Москва, город Зеленоград, корпус 817',\n",
       " 'город Москва, город Зеленоград, корпус 921А',\n",
       " 'город Москва, город Зеленоград, корпус 1016',\n",
       " 'город Москва, город Зеленоград, корпус 912',\n",
       " 'город Москва, город Зеленоград, корпус 1214',\n",
       " 'город Москва, город Зеленоград, корпус 1017',\n",
       " 'город Москва, город Зеленоград, корпус 1128',\n",
       " 'город Москва, город Зеленоград, корпус 1122',\n",
       " 'город Москва, город Зеленоград, корпус 403А',\n",
       " 'город Москва, город Зеленоград, корпус 1604',\n",
       " 'город Москва, город Зеленоград, корпус 123',\n",
       " 'город Москва, город Зеленоград, корпус 929А',\n",
       " 'город Москва, город Зеленоград, корпус 124, строение 1',\n",
       " 'город Москва, город Зеленоград, корпус 124, строение 1',\n",
       " 'город Москва, город Зеленоград, корпус 124, строение 1',\n",
       " 'город Москва, город Зеленоград, корпус 818',\n",
       " 'город Москва, город Зеленоград, корпус 913А',\n",
       " 'город Москва, город Зеленоград, корпус 1464',\n",
       " 'город Москва, город Зеленоград, корпус 1115',\n",
       " 'город Москва, город Зеленоград, корпус 1641',\n",
       " 'город Москва, город Зеленоград, корпус 844',\n",
       " 'город Москва, город Зеленоград, корпус 509',\n",
       " 'город Москва, город Зеленоград, корпус 1138',\n",
       " 'город Москва, город Зеленоград, корпус 822',\n",
       " 'город Москва, город Зеленоград, корпус 1106Е',\n",
       " 'город Москва, город Зеленоград, корпус 514, строение 2',\n",
       " 'город Москва, город Зеленоград, Проезд № 4806, дом 7, строение 1',\n",
       " 'город Москва, город Зеленоград, корпус 1446',\n",
       " 'город Москва, город Зеленоград, корпус 1624Б',\n",
       " 'город Москва, город Зеленоград, корпус 1634, строение 3',\n",
       " 'город Москва, город Зеленоград, корпус 1637',\n",
       " 'город Москва, город Зеленоград, корпус 1549',\n",
       " 'город Москва, город Зеленоград, корпус 159',\n",
       " 'город Москва, город Зеленоград, корпус 159',\n",
       " 'город Москва, город Зеленоград, корпус 1550',\n",
       " 'город Москва, город Зеленоград, корпус 2011',\n",
       " 'город Москва, город Зеленоград, корпус 864',\n",
       " 'город Москва, город Зеленоград, корпус 2031',\n",
       " 'город Москва, город Зеленоград, корпус 305',\n",
       " 'город Москва, город Зеленоград, корпус 405А',\n",
       " 'город Москва, город Зеленоград, корпус 405А',\n",
       " 'город Москва, поселение Московский, деревня Лапшинка, владение 8, корпус 1',\n",
       " 'город Москва, поселение Московский, деревня Лапшинка, владение 8, корпус 1',\n",
       " 'город Москва, поселение Московский, деревня Лапшинка, владение 8, корпус 1',\n",
       " 'город Москва, поселение Сосенское, деревня Сосенки, дом 190',\n",
       " 'город Москва, поселение Внуковское, деревня Внуково, дом 155',\n",
       " 'город Москва, поселение Краснопахорское, село Красная Пахра, дом 24А',\n",
       " 'город Москва, поселение Вороновское, село Вороново, дом 31, строение 1',\n",
       " 'город Москва, поселение Вороновское, деревня Ясенки, дом 1',\n",
       " 'город Москва, поселение Марушкинское, деревня Давыдково, дом 116А',\n",
       " 'город Москва, поселение Вороновское, деревня Голохвастово, дом 2Г',\n",
       " 'город Москва, поселение Сосенское, деревня Сосенки, дом 126',\n",
       " 'город Москва, поселение Щаповское, вблизи деревни Троицкое, дом 1Б/Н',\n",
       " 'город Москва, поселение Новофедоровское, деревня Руднево, дом 1Б/Н',\n",
       " 'город Москва, поселение Новофедоровское, деревня Руднево, дом 1Б/Н',\n",
       " 'город Москва, поселение Щаповское, вблизи пос.Курилово, дом 1Б/Н',\n",
       " 'город Москва, поселение Сосенское, деревня Сосенки, дом 37',\n",
       " 'город Москва, город Зеленоград, корпус 2312',\n",
       " 'город Москва, город Зеленоград, корпус 1651',\n",
       " 'город Москва, город Зеленоград, корпус 2309А',\n",
       " 'город Москва, город Зеленоград, корпус 2309А',\n",
       " 'город Москва, город Зеленоград, корпус 2309А',\n",
       " 'город Москва, поселение \"Мосрентген\", деревня Дудкино, дом 66',\n",
       " 'поселение Сосенское, деревня Столбово, дом 1',\n",
       " 'поселение Марушкинское, деревня Давыдково, дом 101',\n",
       " 'поселение Михайлово-Ярцевское, деревня Сенькино-Секерино, дом 154А',\n",
       " 'город Москва, поселение Вороновское, деревня Бабенки, дом 1',\n",
       " 'город Москва, поселение Сосенское, деревня Сосенки, дом 133Б',\n",
       " 'город Москва, город Зеленоград, корпус 1204',\n",
       " 'город Москва, город Зеленоград, корпус 435А',\n",
       " 'город Москва, город Зеленоград, корпус 1215',\n",
       " 'город Москва, город Зеленоград, корпус 1650',\n",
       " 'город Москва, поселение Краснопахорское, село Былово, дом 1',\n",
       " 'город Москва, город Зеленоград, корпус 1140',\n",
       " 'город Москва, город Зеленоград, корпус 426А, строение 2',\n",
       " 'город Москва, поселение Щаповское, деревня Троицкое, дом 47Б',\n",
       " 'город Москва, город Зеленоград, корпус 317А, строение 1',\n",
       " 'город Москва, город Зеленоград, корпус 425',\n",
       " 'город Москва, город Зеленоград, корпус 429',\n",
       " 'город Москва, город Зеленоград, корпус 607',\n",
       " 'город Москва, город Зеленоград, корпус 618',\n",
       " 'город Москва, город Зеленоград, корпус 1204',\n",
       " 'город Москва, город Зеленоград, корпус 1519',\n",
       " 'город Москва, город Зеленоград, корпус 2014',\n",
       " 'город Москва, поселение Роговское, деревня Каменка, дом 1Б/Н',\n",
       " 'город Москва, город Зеленоград, корпус 315',\n",
       " 'город Москва, город Зеленоград, корпус 1816',\n",
       " 'город Москва, город Зеленоград, корпус 507',\n",
       " 'город Москва, город Зеленоград, корпус 430А',\n",
       " 'город Москва, город Зеленоград, корпус 341А',\n",
       " 'город Москва, город Зеленоград, корпус 314',\n",
       " 'город Москва, город Зеленоград, корпус 163',\n",
       " 'город Москва, город Зеленоград, корпус 428А',\n",
       " 'город Москва, город Зеленоград, корпус 621А',\n",
       " 'город Москва, город Зеленоград, корпус 344А',\n",
       " 'город Москва, город Зеленоград, корпус 142',\n",
       " 'город Москва, город Зеленоград, корпус 711',\n",
       " 'город Москва, город Зеленоград, корпус 421А',\n",
       " 'город Москва, город Зеленоград, корпус 205А',\n",
       " 'город Москва, город Зеленоград, корпус 1548',\n",
       " 'город Москва, город Зеленоград, корпус 1543',\n",
       " 'город Москва, город Зеленоград, корпус 1543',\n",
       " 'город Москва, город Зеленоград, корпус 1555',\n",
       " 'город Москва, город Зеленоград, корпус 1609',\n",
       " 'город Москва, город Зеленоград, корпус 1426',\n",
       " 'город Москва, город Зеленоград, корпус 1632',\n",
       " 'город Москва, город Зеленоград, корпус 1469',\n",
       " 'город Москва, город Зеленоград, корпус 1611',\n",
       " 'город Москва, город Зеленоград, корпус 1440',\n",
       " 'город Москва, город Зеленоград, корпус 1556',\n",
       " 'город Москва, город Зеленоград, корпус 1642',\n",
       " 'город Москва, город Зеленоград, корпус 529',\n",
       " 'город Москва, город Зеленоград, корпус 1530',\n",
       " 'город Москва, город Зеленоград, корпус 317А, строение 1',\n",
       " 'город Москва, город Зеленоград, корпус 1549',\n",
       " 'город Москва, город Зеленоград, корпус 222А, строение 1',\n",
       " 'город Москва, город Зеленоград, корпус 1550',\n",
       " 'город Москва, поселение Московский, деревня Саларьево, владение 3, строение 1',\n",
       " 'город Москва, поселение Московский, деревня Саларьево, владение 3, строение 1',\n",
       " 'город Москва, поселение Московский, деревня Саларьево, владение 3, строение 1',\n",
       " 'город Москва, поселение Московский, деревня Саларьево, владение 3, строение 1',\n",
       " 'город Москва, поселение Московский, деревня Саларьево, владение 3, строение 1',\n",
       " 'город Москва, поселение Щаповское, деревня Троицкое, домовладение 66, корпус 2',\n",
       " 'город Москва, поселение Марушкинское, вблизи деревни Крекшино, дом 14Б/Н',\n",
       " 'город Москва, поселение Вороновское, вблизи деревни Безобразово, дом 1Б/Н',\n",
       " 'город Москва, поселение Сосенское, деревня Сосенки, дом 55А',\n",
       " 'город Москва, поселение Сосенское, деревня Сосенки, дом 55А',\n",
       " 'город Москва, город Зеленоград, корпус 118',\n",
       " 'город Москва, город Зеленоград, корпус 1805',\n",
       " 'город Москва, город Зеленоград, корпус 1455',\n",
       " 'город Москва, поселение Щаповское, деревня Троицкое, дом 3Б/Н',\n",
       " 'город Москва, город Зеленоград, корпус 834В',\n",
       " 'город Москва, город Зеленоград, корпус 1130',\n",
       " 'город Москва, город Зеленоград, корпус 1805',\n",
       " 'город Москва, поселение Сосенское, деревня Сосенки, дом 39',\n",
       " 'город Москва, поселение Московский, деревня Говорово, дом 1Б/Н',\n",
       " 'город Москва, поселение Московский, деревня Говорово, дом 1Б/Н',\n",
       " 'город Москва, поселение Щаповское, деревня Шаганино, дом 8',\n",
       " 'город Москва, город Зеленоград, корпус 1215',\n",
       " 'город Москва, город Зеленоград, корпус 2045',\n",
       " 'город Москва, поселение Сосенское, деревня Сосенки, дом 126',\n",
       " 'город Москва, поселение Десеновское, деревня Ватутинки, дом 46А',\n",
       " 'город Москва, поселение Сосенское, деревня Сосенки, дом 73',\n",
       " 'город Москва, поселение Сосенское, деревня Сосенки, владение 121',\n",
       " 'город Москва, поселение Щаповское, деревня Овечкино, владение 7',\n",
       " 'город Москва, поселение Сосенское, деревня Сосенки, дом 25Б',\n",
       " 'город Москва, поселение Московский, деревня Говорово, дом 1Б/Н',\n",
       " 'город Москва, поселение Московский, деревня Говорово, дом 1Б/Н',\n",
       " 'город Москва, город Зеленоград, корпус 1106',\n",
       " 'город Москва, город Зеленоград, корпус 533',\n",
       " 'город Москва, поселение Сосенское, деревня Сосенки, дом 39',\n",
       " 'город Москва, поселение Краснопахорское, село Красная Пахра, дом 5',\n",
       " 'город Москва, город Зеленоград, корпус 1410',\n",
       " 'город Москва, город Зеленоград, корпус 617А',\n",
       " 'город Москва, город Зеленоград, корпус 1628',\n",
       " 'город Москва, город Зеленоград, корпус 1106Е',\n",
       " 'город Москва, город Зеленоград, корпус 1627',\n",
       " 'город Москва, город Зеленоград, корпус 1602А',\n",
       " 'город Москва, город Зеленоград, корпус 532',\n",
       " 'город Москва, поселение Щаповское, деревня Троицкое, дом 2Б',\n",
       " 'город Москва, поселение Воскресенское, деревня Ямонтово, владение 71',\n",
       " 'город Москва, поселение Воскресенское, деревня Ямонтово, владение 71',\n",
       " 'город Москва, поселение Десеновское, деревня Ватутинки, дом 34',\n",
       " 'город Москва, поселение Десеновское, деревня Ватутинки, владение 10',\n",
       " 'город Москва, поселение Десеновское, деревня Ватутинки, владение 15',\n",
       " 'поселение \"Мосрентген\", деревня Дудкино, владение 1',\n",
       " 'город Москва, город Зеленоград, Проезд № 4806, дом 3',\n",
       " 'город Москва, город Зеленоград, корпус 1627']"
      ]
     },
     "execution_count": 31,
     "metadata": {},
     "output_type": "execute_result"
    }
   ],
   "source": [
    "# посмотрим, какие адреса не вошли в список\n",
    "\n",
    "no_street = rest[rest['street'].isna()]\n",
    "no_street['address'].to_list()\n"
   ]
  },
  {
   "cell_type": "markdown",
   "metadata": {},
   "source": [
    "Все типы улиц обработаны и выделены в отдельную колонку. В список намеренно не включен Зеленоград, хоть он и считается округом Москвы, но вряд ли представляет интерес для инвестирования в такой затратный объект из-за своей удаленности.\n"
   ]
  },
  {
   "cell_type": "markdown",
   "metadata": {},
   "source": [
    "### Топ-10 улиц по количеству объектов общественного питания. "
   ]
  },
  {
   "cell_type": "code",
   "execution_count": 32,
   "metadata": {
    "scrolled": true
   },
   "outputs": [
    {
     "data": {
      "text/html": [
       "<div>\n",
       "<style scoped>\n",
       "    .dataframe tbody tr th:only-of-type {\n",
       "        vertical-align: middle;\n",
       "    }\n",
       "\n",
       "    .dataframe tbody tr th {\n",
       "        vertical-align: top;\n",
       "    }\n",
       "\n",
       "    .dataframe thead th {\n",
       "        text-align: right;\n",
       "    }\n",
       "</style>\n",
       "<table border=\"1\" class=\"dataframe\">\n",
       "  <thead>\n",
       "    <tr style=\"text-align: right;\">\n",
       "      <th></th>\n",
       "      <th>street</th>\n",
       "      <th>count</th>\n",
       "    </tr>\n",
       "  </thead>\n",
       "  <tbody>\n",
       "    <tr>\n",
       "      <th>0</th>\n",
       "      <td>проспект Мира</td>\n",
       "      <td>204</td>\n",
       "    </tr>\n",
       "    <tr>\n",
       "      <th>1</th>\n",
       "      <td>Профсоюзная улица</td>\n",
       "      <td>182</td>\n",
       "    </tr>\n",
       "    <tr>\n",
       "      <th>2</th>\n",
       "      <td>Ленинградский проспект</td>\n",
       "      <td>172</td>\n",
       "    </tr>\n",
       "    <tr>\n",
       "      <th>3</th>\n",
       "      <td>Пресненская набережная</td>\n",
       "      <td>167</td>\n",
       "    </tr>\n",
       "    <tr>\n",
       "      <th>4</th>\n",
       "      <td>Варшавское шоссе</td>\n",
       "      <td>165</td>\n",
       "    </tr>\n",
       "    <tr>\n",
       "      <th>5</th>\n",
       "      <td>Ленинский проспект</td>\n",
       "      <td>148</td>\n",
       "    </tr>\n",
       "    <tr>\n",
       "      <th>6</th>\n",
       "      <td>проспект Вернадского</td>\n",
       "      <td>128</td>\n",
       "    </tr>\n",
       "    <tr>\n",
       "      <th>7</th>\n",
       "      <td>Кутузовский проспект</td>\n",
       "      <td>114</td>\n",
       "    </tr>\n",
       "    <tr>\n",
       "      <th>8</th>\n",
       "      <td>Каширское шоссе</td>\n",
       "      <td>111</td>\n",
       "    </tr>\n",
       "    <tr>\n",
       "      <th>9</th>\n",
       "      <td>Кировоградская улица</td>\n",
       "      <td>108</td>\n",
       "    </tr>\n",
       "  </tbody>\n",
       "</table>\n",
       "</div>"
      ],
      "text/plain": [
       "                   street  count\n",
       "0           проспект Мира    204\n",
       "1       Профсоюзная улица    182\n",
       "2  Ленинградский проспект    172\n",
       "3  Пресненская набережная    167\n",
       "4        Варшавское шоссе    165\n",
       "5      Ленинский проспект    148\n",
       "6    проспект Вернадского    128\n",
       "7    Кутузовский проспект    114\n",
       "8         Каширское шоссе    111\n",
       "9    Кировоградская улица    108"
      ]
     },
     "execution_count": 32,
     "metadata": {},
     "output_type": "execute_result"
    }
   ],
   "source": [
    "# составим топ-10 улиц по количеству заведений\n",
    "\n",
    "top_streets = rest.groupby('street').agg(\n",
    "    {'id': 'count'}).sort_values(by='id', ascending=False).rename(\n",
    "    columns={'id': 'count'}).reset_index()\n",
    "\n",
    "top_streets.head(10)"
   ]
  },
  {
   "cell_type": "code",
   "execution_count": 33,
   "metadata": {
    "scrolled": true
   },
   "outputs": [
    {
     "data": {
      "image/png": "[encoded data removed]",
      "text/plain": [
       "<Figure size 576x432 with 1 Axes>"
      ]
     },
     "metadata": {
      "needs_background": "light"
     },
     "output_type": "display_data"
    }
   ],
   "source": [
    "ax = plt.subplots(figsize=(8,6))\n",
    "ax = sns.barplot(data=top_streets.head(10), y='street', x='count', palette='YlGnBu_r')\n",
    "ax.set_title('Топ-10 улиц по количеству объектов питания')\n",
    "ax.set_xlabel('количество заведений')\n",
    "plt.show()\n"
   ]
  },
  {
   "cell_type": "markdown",
   "metadata": {},
   "source": [
    "Лидер по количеству заведений - проспект Мира. Что вполне понятно, ведь это довольно длинная улица от самого Садового кольца и до Ярославского шоссе, проходящая через несколько районов. Вообще все улицы в топе оказались там в основном из-за своей большой протяженности, а не высокой концентрации заведений. Так называемые \"ресторанные\" улицы с большой наполненностью типа Мясницкой или Пятницкой в рейтинг не вошли. Исключение составляет пожалуй Пресненская набережная - она достаточно короткая, но это локация Москвы-сити, поэтому там много офисов и соответсвенно различных точек питания."
   ]
  },
  {
   "cell_type": "code",
   "execution_count": 34,
   "metadata": {},
   "outputs": [
    {
     "data": {
      "text/html": [
       "<div>\n",
       "<style scoped>\n",
       "    .dataframe tbody tr th:only-of-type {\n",
       "        vertical-align: middle;\n",
       "    }\n",
       "\n",
       "    .dataframe tbody tr th {\n",
       "        vertical-align: top;\n",
       "    }\n",
       "\n",
       "    .dataframe thead th {\n",
       "        text-align: right;\n",
       "    }\n",
       "</style>\n",
       "<table border=\"1\" class=\"dataframe\">\n",
       "  <thead>\n",
       "    <tr style=\"text-align: right;\">\n",
       "      <th></th>\n",
       "      <th>ID</th>\n",
       "      <th>Name</th>\n",
       "      <th>global_id</th>\n",
       "      <th>IsNetObject</th>\n",
       "      <th>OperatingCompany</th>\n",
       "      <th>TypeObject</th>\n",
       "      <th>AdmArea</th>\n",
       "      <th>District</th>\n",
       "      <th>Address</th>\n",
       "      <th>PublicPhone</th>\n",
       "      <th>SeatsCount</th>\n",
       "      <th>SocialPrivileges</th>\n",
       "      <th>Longitude_WGS84</th>\n",
       "      <th>Latitude_WGS84</th>\n",
       "    </tr>\n",
       "  </thead>\n",
       "  <tbody>\n",
       "    <tr>\n",
       "      <th>0</th>\n",
       "      <td>151635</td>\n",
       "      <td>СМЕТАНА</td>\n",
       "      <td>637376221</td>\n",
       "      <td>нет</td>\n",
       "      <td>NaN</td>\n",
       "      <td>кафе</td>\n",
       "      <td>Северо-Восточный административный округ</td>\n",
       "      <td>Ярославский район</td>\n",
       "      <td>город Москва, улица Егора Абакумова, дом 9</td>\n",
       "      <td>PublicPhone:(499) 183-14-10\\n\\n</td>\n",
       "      <td>48</td>\n",
       "      <td>нет</td>\n",
       "      <td>37.714565</td>\n",
       "      <td>55.879002</td>\n",
       "    </tr>\n",
       "    <tr>\n",
       "      <th>1</th>\n",
       "      <td>77874</td>\n",
       "      <td>Родник</td>\n",
       "      <td>637376331</td>\n",
       "      <td>нет</td>\n",
       "      <td>NaN</td>\n",
       "      <td>кафе</td>\n",
       "      <td>Центральный административный округ</td>\n",
       "      <td>Таганский район</td>\n",
       "      <td>город Москва, улица Талалихина, дом 2/1, корпус 1</td>\n",
       "      <td>PublicPhone:(495) 676-55-35\\n\\n</td>\n",
       "      <td>35</td>\n",
       "      <td>нет</td>\n",
       "      <td>37.673306</td>\n",
       "      <td>55.738239</td>\n",
       "    </tr>\n",
       "    <tr>\n",
       "      <th>2</th>\n",
       "      <td>24309</td>\n",
       "      <td>Кафе «Академия»</td>\n",
       "      <td>637376349</td>\n",
       "      <td>нет</td>\n",
       "      <td>NaN</td>\n",
       "      <td>ресторан</td>\n",
       "      <td>Центральный административный округ</td>\n",
       "      <td>Таганский район</td>\n",
       "      <td>Российская Федерация, город Москва, внутригородская территория муниципальный округ Таганский, Абельмановская улица, дом 6</td>\n",
       "      <td>PublicPhone:(495) 662-30-10\\n\\n</td>\n",
       "      <td>95</td>\n",
       "      <td>нет</td>\n",
       "      <td>37.669648</td>\n",
       "      <td>55.735511</td>\n",
       "    </tr>\n",
       "  </tbody>\n",
       "</table>\n",
       "</div>"
      ],
      "text/plain": [
       "       ID             Name  global_id IsNetObject OperatingCompany TypeObject  \\\n",
       "0  151635          СМЕТАНА  637376221         нет              NaN       кафе   \n",
       "1   77874           Родник  637376331         нет              NaN       кафе   \n",
       "2   24309  Кафе «Академия»  637376349         нет              NaN   ресторан   \n",
       "\n",
       "                                   AdmArea           District  \\\n",
       "0  Северо-Восточный административный округ  Ярославский район   \n",
       "1       Центральный административный округ    Таганский район   \n",
       "2       Центральный административный округ    Таганский район   \n",
       "\n",
       "                                                                                                                     Address  \\\n",
       "0                                                                                 город Москва, улица Егора Абакумова, дом 9   \n",
       "1                                                                          город Москва, улица Талалихина, дом 2/1, корпус 1   \n",
       "2  Российская Федерация, город Москва, внутригородская территория муниципальный округ Таганский, Абельмановская улица, дом 6   \n",
       "\n",
       "                       PublicPhone  SeatsCount SocialPrivileges  \\\n",
       "0  PublicPhone:(499) 183-14-10\\n\\n          48              нет   \n",
       "1  PublicPhone:(495) 676-55-35\\n\\n          35              нет   \n",
       "2  PublicPhone:(495) 662-30-10\\n\\n          95              нет   \n",
       "\n",
       "   Longitude_WGS84  Latitude_WGS84  \n",
       "0        37.714565       55.879002  \n",
       "1        37.673306       55.738239  \n",
       "2        37.669648       55.735511  "
      ]
     },
     "execution_count": 34,
     "metadata": {},
     "output_type": "execute_result"
    }
   ],
   "source": [
    "# ранее загруженный файл с инфо о районах\n",
    "\n",
    "rest_msc.head(3)"
   ]
  },
  {
   "cell_type": "code",
   "execution_count": 35,
   "metadata": {
    "scrolled": true
   },
   "outputs": [
    {
     "data": {
      "text/html": [
       "<div>\n",
       "<style scoped>\n",
       "    .dataframe tbody tr th:only-of-type {\n",
       "        vertical-align: middle;\n",
       "    }\n",
       "\n",
       "    .dataframe tbody tr th {\n",
       "        vertical-align: top;\n",
       "    }\n",
       "\n",
       "    .dataframe thead th {\n",
       "        text-align: right;\n",
       "    }\n",
       "</style>\n",
       "<table border=\"1\" class=\"dataframe\">\n",
       "  <thead>\n",
       "    <tr style=\"text-align: right;\">\n",
       "      <th></th>\n",
       "      <th>id</th>\n",
       "      <th>district</th>\n",
       "    </tr>\n",
       "  </thead>\n",
       "  <tbody>\n",
       "    <tr>\n",
       "      <th>0</th>\n",
       "      <td>151635</td>\n",
       "      <td>Ярославский район</td>\n",
       "    </tr>\n",
       "    <tr>\n",
       "      <th>1</th>\n",
       "      <td>77874</td>\n",
       "      <td>Таганский район</td>\n",
       "    </tr>\n",
       "    <tr>\n",
       "      <th>2</th>\n",
       "      <td>24309</td>\n",
       "      <td>Таганский район</td>\n",
       "    </tr>\n",
       "    <tr>\n",
       "      <th>3</th>\n",
       "      <td>27429</td>\n",
       "      <td>район Лианозово</td>\n",
       "    </tr>\n",
       "    <tr>\n",
       "      <th>4</th>\n",
       "      <td>148815</td>\n",
       "      <td>район Арбат</td>\n",
       "    </tr>\n",
       "  </tbody>\n",
       "</table>\n",
       "</div>"
      ],
      "text/plain": [
       "       id           district\n",
       "0  151635  Ярославский район\n",
       "1   77874    Таганский район\n",
       "2   24309    Таганский район\n",
       "3   27429    район Лианозово\n",
       "4  148815        район Арбат"
      ]
     },
     "execution_count": 35,
     "metadata": {},
     "output_type": "execute_result"
    }
   ],
   "source": [
    "# выделим нужные колонки с id заведения и соответствующим районом, приведем к нижнему регистру\n",
    "\n",
    "rest_msc = rest_msc[['ID', 'District']]\n",
    "\n",
    "rest_msc.columns = rest_msc.columns.str.lower()\n",
    "\n",
    "rest_msc.head()"
   ]
  },
  {
   "cell_type": "code",
   "execution_count": 36,
   "metadata": {
    "scrolled": true
   },
   "outputs": [
    {
     "data": {
      "text/plain": [
       "id          0\n",
       "district    0\n",
       "dtype: int64"
      ]
     },
     "execution_count": 36,
     "metadata": {},
     "output_type": "execute_result"
    }
   ],
   "source": [
    "rest_msc.isna().sum() # проверим на пропуски"
   ]
  },
  {
   "cell_type": "code",
   "execution_count": 37,
   "metadata": {},
   "outputs": [],
   "source": [
    "# присоединим к основной таблице датасет с районами\n",
    "\n",
    "rest_district = rest.merge(rest_msc, on='id', how='left')"
   ]
  },
  {
   "cell_type": "code",
   "execution_count": 38,
   "metadata": {
    "scrolled": true
   },
   "outputs": [
    {
     "data": {
      "text/html": [
       "<div>\n",
       "<style scoped>\n",
       "    .dataframe tbody tr th:only-of-type {\n",
       "        vertical-align: middle;\n",
       "    }\n",
       "\n",
       "    .dataframe tbody tr th {\n",
       "        vertical-align: top;\n",
       "    }\n",
       "\n",
       "    .dataframe thead th {\n",
       "        text-align: right;\n",
       "    }\n",
       "</style>\n",
       "<table border=\"1\" class=\"dataframe\">\n",
       "  <thead>\n",
       "    <tr style=\"text-align: right;\">\n",
       "      <th></th>\n",
       "      <th>id</th>\n",
       "      <th>object_name</th>\n",
       "      <th>chain</th>\n",
       "      <th>object_type</th>\n",
       "      <th>address</th>\n",
       "      <th>seats</th>\n",
       "      <th>street</th>\n",
       "      <th>district</th>\n",
       "    </tr>\n",
       "  </thead>\n",
       "  <tbody>\n",
       "    <tr>\n",
       "      <th>14020</th>\n",
       "      <td>204881</td>\n",
       "      <td>Базар-Вокзал</td>\n",
       "      <td>несетевое</td>\n",
       "      <td>кафе</td>\n",
       "      <td>город Москва, Краснопрудная улица, дом 3/5, строение 1</td>\n",
       "      <td>30</td>\n",
       "      <td>Краснопрудная улица</td>\n",
       "      <td>NaN</td>\n",
       "    </tr>\n",
       "  </tbody>\n",
       "</table>\n",
       "</div>"
      ],
      "text/plain": [
       "           id   object_name      chain object_type  \\\n",
       "14020  204881  Базар-Вокзал  несетевое        кафе   \n",
       "\n",
       "                                                      address  seats  \\\n",
       "14020  город Москва, Краснопрудная улица, дом 3/5, строение 1     30   \n",
       "\n",
       "                    street district  \n",
       "14020  Краснопрудная улица      NaN  "
      ]
     },
     "execution_count": 38,
     "metadata": {},
     "output_type": "execute_result"
    }
   ],
   "source": [
    "rest_district.sample()"
   ]
  },
  {
   "cell_type": "code",
   "execution_count": 39,
   "metadata": {
    "scrolled": false
   },
   "outputs": [
    {
     "data": {
      "text/plain": [
       "['проспект Мира',\n",
       " 'Профсоюзная улица',\n",
       " 'Ленинградский проспект',\n",
       " 'Пресненская набережная',\n",
       " 'Варшавское шоссе',\n",
       " 'Ленинский проспект',\n",
       " 'проспект Вернадского',\n",
       " 'Кутузовский проспект',\n",
       " 'Каширское шоссе',\n",
       " 'Кировоградская улица']"
      ]
     },
     "execution_count": 39,
     "metadata": {},
     "output_type": "execute_result"
    }
   ],
   "source": [
    "# создадим список с топ-10 улиц\n",
    "\n",
    "top_list = top_streets['street'].head(10).to_list()\n",
    "top_list"
   ]
  },
  {
   "cell_type": "code",
   "execution_count": 40,
   "metadata": {
    "scrolled": true
   },
   "outputs": [
    {
     "data": {
      "text/plain": [
       "array([nan, 'Донской район', 'Нагорный район', 'Ломоносовский район',\n",
       "       'район Тропарёво-Никулино', 'район Москворечье-Сабурово',\n",
       "       'район Дорогомилово', 'район Беговой', 'район Аэропорт',\n",
       "       'район Якиманка', 'Гагаринский район', 'Обручевский район',\n",
       "       'Мещанский район', 'Останкинский район', 'Алексеевский район',\n",
       "       'Академический район', 'район Черёмушки', 'район Тёплый Стан',\n",
       "       'район Сокол', 'район Орехово-Борисово Южное',\n",
       "       'район Чертаново Южное', 'район Коньково',\n",
       "       'район Чертаново Центральное', 'район Чертаново Северное',\n",
       "       'район Проспект Вернадского', 'Хорошёвский район',\n",
       "       'район Фили-Давыдково', 'район Нагатино-Садовники',\n",
       "       'поселение Вороновское', 'район Свиблово', 'район Ростокино',\n",
       "       'район Ясенево', 'район Южное Бутово', 'район Раменки',\n",
       "       'район Орехово-Борисово Северное', 'Пресненский район',\n",
       "       'поселение Щербинка', 'поселение Краснопахорское'], dtype=object)"
      ]
     },
     "execution_count": 40,
     "metadata": {},
     "output_type": "execute_result"
    }
   ],
   "source": [
    "# проверим, в какие районы входят эти улицы\n",
    "\n",
    "area = rest_district.query('street in @top_list')[['street', 'district']]\n",
    "area['district'].unique()"
   ]
  },
  {
   "cell_type": "markdown",
   "metadata": {
    "scrolled": false
   },
   "source": [
    "Одна и та же улица может захватывать  несколько районов из-за своей большой протяженности. Поэтому этот список не стоит рассматривать как прямое руководство к действию - вряд ли поселение  Краснопахо́рское или Щербинка в Новой Москве выглядят перспективным с точки зрения развития сети. При этом к некоторым районам, расположенным близко к центру или центральным можно присмотреться - например Дорогомиловскому или Пресненскому, Якиманке. Интересно, что в списке совсем нет районов ВАО и ЮВАО - Сокольники, Лефортово, Преображенское, Печатники и др."
   ]
  },
  {
   "cell_type": "markdown",
   "metadata": {},
   "source": [
    "### Количество улиц с одним объектом общественного питания"
   ]
  },
  {
   "cell_type": "code",
   "execution_count": 41,
   "metadata": {
    "scrolled": true
   },
   "outputs": [],
   "source": [
    "# воспользуемся предыдущей таблицей с группировкой количества заведений и найдем улицы где их число = 1\n",
    "\n",
    "one = top_streets[top_streets['count'] == 1]\n"
   ]
  },
  {
   "cell_type": "code",
   "execution_count": 42,
   "metadata": {},
   "outputs": [
    {
     "name": "stdout",
     "output_type": "stream",
     "text": [
      "Число улиц с одним объектом общественного питания: 571\n"
     ]
    }
   ],
   "source": [
    "print('Число улиц с одним объектом общественного питания: {}'.format(\n",
    "    one['street'].count()))"
   ]
  },
  {
   "cell_type": "code",
   "execution_count": 43,
   "metadata": {
    "scrolled": true
   },
   "outputs": [
    {
     "data": {
      "text/plain": [
       "['улица Инессы Арманд',\n",
       " 'улица Жуковского',\n",
       " 'улица Жебрунова',\n",
       " '1-я Напрудная улица',\n",
       " 'улица Никитина',\n",
       " 'Курганская улица',\n",
       " '26-й километр Московской Кольцевой Автодороги',\n",
       " 'улица Екатерины Будановой',\n",
       " '1-й Лучевой просек',\n",
       " '2-я улица Энтузиастов',\n",
       " 'Миллионная улица',\n",
       " '1-й Коптельский переулок',\n",
       " '2-я улица Марьиной Рощи',\n",
       " 'улица Фадеева',\n",
       " 'улица Евгения Родионова',\n",
       " 'Минаевский переулок',\n",
       " '1-й Кожуховский проезд',\n",
       " '1-й Кожевнический переулок',\n",
       " 'Кооперативная улица',\n",
       " 'улица Уткина',\n",
       " 'Мерзляковский переулок',\n",
       " 'улица Капотня',\n",
       " '1-й Котельнический переулок',\n",
       " '3-й Кожуховский проезд',\n",
       " '3-й Дорожный проезд',\n",
       " '3-й Лихачёвский переулок',\n",
       " '2-й Вышеславцев переулок',\n",
       " 'Малая Андроньевская улица',\n",
       " 'улица Недорубова',\n",
       " '3-й Лучевой просек',\n",
       " 'Машкинское шоссе',\n",
       " '1-й Курьяновский проезд',\n",
       " 'улица Немчинова',\n",
       " '1-й Краснокурсантский проезд',\n",
       " 'улица Николаева',\n",
       " 'улица Полины Осипенко',\n",
       " 'улица Знаменские Садки',\n",
       " 'Международная улица',\n",
       " 'улица Зенитчиков',\n",
       " 'улица Каманина',\n",
       " '3-й Кадашёвский переулок',\n",
       " 'улица Захарьинские Дворики',\n",
       " 'Коптевский бульвар',\n",
       " '1-я Пугачёвская улица',\n",
       " 'улица Фонвизина',\n",
       " 'Кондрашёвский тупик',\n",
       " 'Малая Тульская улица',\n",
       " '1-й Вешняковский проезд',\n",
       " '3-й проезд Подбельского',\n",
       " 'Миусская площадь',\n",
       " '3-я Железногорская улица',\n",
       " 'улица Шумилова',\n",
       " 'улица Шумкина',\n",
       " 'Михневский проезд',\n",
       " 'Лефортовский переулок',\n",
       " 'Ландышевая улица',\n",
       " 'улица Павла Андреева',\n",
       " 'Малая Переяславская улица',\n",
       " 'улица Гончарова',\n",
       " 'улица Дубки',\n",
       " '3-я Новоостанкинская улица',\n",
       " 'улица Щорса',\n",
       " 'Мишина улица',\n",
       " '104-й километр Московской Кольцевой Автодороги',\n",
       " '1-й Ботанический проезд',\n",
       " '1-й Басманный переулок',\n",
       " '12-й проезд Марьиной Рощи',\n",
       " '11-я Парковая улица',\n",
       " '3-я Песчаная улица',\n",
       " '1-й Балтийский переулок',\n",
       " 'шоссе Фрезер',\n",
       " 'улица Паперника',\n",
       " '14-я Парковая улица',\n",
       " 'улица Девятая Рота',\n",
       " '17-й проезд Марьиной Рощи',\n",
       " 'улица Школа-интернат',\n",
       " 'Мирской переулок',\n",
       " '1-й Кирпичный переулок',\n",
       " 'улица Достоевского',\n",
       " 'Кучин переулок',\n",
       " '2-й Верхний Михайловский проезд',\n",
       " '2-я улица Бухвостова',\n",
       " 'улица Подвойского',\n",
       " '3-й Павловский переулок',\n",
       " '1-й Зачатьевский переулок',\n",
       " 'улица Новая Дорога',\n",
       " '1-й Заречный переулок',\n",
       " '2-й Боткинский проезд',\n",
       " '3-й Стрелецкий проезд',\n",
       " 'Линейный проезд',\n",
       " 'улица Дмитрия Рябинкина',\n",
       " '3-й Угрешский проезд',\n",
       " 'Красноказарменный проезд',\n",
       " '2-й Балтийский переулок',\n",
       " '1-я Чоботовская аллея',\n",
       " 'улица Демьяна Бедного',\n",
       " '1-я линия Хорошёвского Серебряного Бора',\n",
       " 'улица Пивченкова',\n",
       " '1-й Голутвинский переулок',\n",
       " 'Лечебная улица',\n",
       " 'улица Шеногина',\n",
       " 'Малый Власьевский переулок',\n",
       " 'Малый Лёвшинский переулок',\n",
       " '2-я Ямская улица',\n",
       " 'улица Саляма Адиля',\n",
       " '2-й Стрелецкий проезд',\n",
       " 'Малый Конюшковский переулок',\n",
       " 'улица Ротерта',\n",
       " 'Кремлёвская набережная',\n",
       " 'улица Льва Яшина',\n",
       " 'Малый Путинковский переулок',\n",
       " 'улица Рудневой',\n",
       " 'Малый Саввинский переулок',\n",
       " '1-я Аэропортовская улица',\n",
       " 'улица Савельева',\n",
       " 'улица Сайкина',\n",
       " 'Лужнецкий проезд',\n",
       " 'Магаданская улица',\n",
       " 'улица Кутузова',\n",
       " '2-й Магистральный тупик',\n",
       " 'улица Линии Октябрьской Железной Дороги',\n",
       " 'улица Лефортовский Вал',\n",
       " '1-й проезд Марьиной Рощи',\n",
       " '2-й Лучевой просек',\n",
       " '2-й Хуторской переулок',\n",
       " '2-й Щемиловский переулок',\n",
       " 'улица Лапина',\n",
       " 'Малый Каретный переулок',\n",
       " 'улица Кухмистерова',\n",
       " '2-я Барышевская улица',\n",
       " 'Малый Казённый переулок',\n",
       " 'улица Рословка',\n",
       " 'улица Рокотова',\n",
       " 'улица Раевского',\n",
       " 'Малый Полуярославский переулок',\n",
       " 'улица Маршала Мерецкова',\n",
       " 'улица Рассудовское Лесничество',\n",
       " '2-й Новокузнецкий переулок',\n",
       " '2-й Новоподмосковный переулок',\n",
       " 'улица Ращупкина',\n",
       " 'улица Ремизова',\n",
       " '2-й Обыденский переулок',\n",
       " 'Лыщиков переулок',\n",
       " 'Малый Николопесковский переулок',\n",
       " '2-й Полевой переулок',\n",
       " '1-я Гражданская улица',\n",
       " 'улица Малые Каменщики',\n",
       " '2-й Рощинский проезд',\n",
       " 'улица Рогова',\n",
       " '2-й Неопалимовский переулок',\n",
       " '2-й Сельскохозяйственный проезд',\n",
       " 'Малый Коптевский проезд',\n",
       " 'улица Малая Ордынка',\n",
       " '1-я Ватутинская улица',\n",
       " 'улица Рогожский Посёлок',\n",
       " '1-я Боевская улица',\n",
       " 'Кривоарбатский переулок',\n",
       " '2-й Сетуньский проезд',\n",
       " '1-я Карачаровская улица',\n",
       " 'улица Максимова',\n",
       " 'улица Медведева',\n",
       " 'улица Медиков',\n",
       " '1-я Миусская улица',\n",
       " '1-й Николощеповский переулок',\n",
       " '1-й Рижский переулок',\n",
       " '1-й Обыденский переулок',\n",
       " '1-й Новокузнецкий переулок',\n",
       " 'Малый Знаменский переулок',\n",
       " 'улица Старые Кузьминки',\n",
       " 'Мансуровский переулок',\n",
       " 'Лонгиновская улица',\n",
       " 'Малый Златоустинский переулок',\n",
       " 'улица Корнея Чуковского',\n",
       " 'Костомаровская набережная',\n",
       " 'Мариупольская улица',\n",
       " 'улица Степана Шутова',\n",
       " 'улица Константинова',\n",
       " '2-й Курьяновский проезд',\n",
       " '2-й Колобовский переулок',\n",
       " 'улица Пржевальского',\n",
       " 'улица Можайский Вал',\n",
       " 'Кунцевская улица',\n",
       " '1-й Монетчиковский переулок',\n",
       " '2-й Кадашёвский переулок',\n",
       " '2-й Кабельный проезд',\n",
       " 'улица Маршала Новикова',\n",
       " 'улица Клочкова',\n",
       " '1-й Магистральный тупик',\n",
       " '2-й Иртышский проезд',\n",
       " '1-й Люсиновский переулок',\n",
       " '1-й Саратовский проезд',\n",
       " '2-я Филёвская улица',\n",
       " '1-й Сельскохозяйственный проезд',\n",
       " '1-й Сетуньский проезд',\n",
       " '2-я Гражданская улица',\n",
       " 'улица Кубинка',\n",
       " '2-я Дубровская улица',\n",
       " 'Малый Татарский переулок',\n",
       " 'улица Крутицкий Вал',\n",
       " 'Кузьминская улица',\n",
       " 'Малый Толмачёвский переулок',\n",
       " '2-я Квесисская улица',\n",
       " 'улица Красных Зорь',\n",
       " 'Мажоров переулок',\n",
       " 'Кулаков переулок',\n",
       " '2-я Напрудная улица',\n",
       " 'Малый Ивановский переулок',\n",
       " 'Красногвардейский бульвар',\n",
       " '1-й Тушинский проезд',\n",
       " 'Лосевская улица',\n",
       " '2-я Прядильная улица',\n",
       " '1-й Спасоналивковский переулок',\n",
       " 'улица Слобода',\n",
       " 'улица Советской Армии',\n",
       " '2-й Красносельский переулок',\n",
       " 'улица Кошкина',\n",
       " '2-я Сокольническая улица',\n",
       " 'Мамоновский переулок',\n",
       " '1-й Силикатный проезд',\n",
       " '3-я Подрезковская улица',\n",
       " 'улица 9 Мая',\n",
       " 'Конаковский проезд',\n",
       " 'Брошевский переулок',\n",
       " 'Бутиковский переулок',\n",
       " 'Таганрогская улица',\n",
       " 'Зарайская улица',\n",
       " 'Будайский проезд',\n",
       " 'Будайская улица',\n",
       " 'Таможенный проезд',\n",
       " 'Тарусская улица',\n",
       " 'Тарханская улица',\n",
       " 'Таёжная улица',\n",
       " 'Вагоноремонтная улица',\n",
       " 'Бродников переулок',\n",
       " 'Театральная аллея',\n",
       " 'Орехово-Зуевский проезд',\n",
       " 'Оренбургская улица',\n",
       " 'Тенистый проезд',\n",
       " 'Тессинский переулок',\n",
       " 'Тестовская улица',\n",
       " 'Тетеринский переулок',\n",
       " 'Сумская улица',\n",
       " 'Варсонофьевский переулок',\n",
       " 'Тимирязевский проезд',\n",
       " 'Староникольская улица',\n",
       " 'Стандартная улица',\n",
       " 'Староалексеевская улица',\n",
       " 'Парусный проезд',\n",
       " 'Жуков проезд',\n",
       " 'Верхняя улица',\n",
       " 'Парковая улица',\n",
       " 'Старомарьинское шоссе',\n",
       " 'Старомонетный переулок',\n",
       " 'Старослободская улица',\n",
       " 'Отрадный проезд',\n",
       " 'Верхний Золоторожский переулок',\n",
       " 'Столовый переулок',\n",
       " 'Вербная улица',\n",
       " 'Стрелецкая улица',\n",
       " 'Стрельбищенский переулок',\n",
       " 'Заводской проезд',\n",
       " 'Стройковская улица',\n",
       " 'Стромынский переулок',\n",
       " 'Ботанический переулок',\n",
       " 'Тихая улица',\n",
       " 'Винницкая улица',\n",
       " 'Большой Кисельный переулок',\n",
       " 'Федоскинская улица',\n",
       " 'Феодосийская улица',\n",
       " 'Большой Николопесковский переулок',\n",
       " 'Физическая улица',\n",
       " 'Филипповский переулок',\n",
       " 'Зюзинская улица',\n",
       " 'Фролов переулок',\n",
       " 'Фруктовая улица',\n",
       " 'Иваньковское шоссе',\n",
       " 'Учинская улица',\n",
       " 'Хавская улица',\n",
       " 'Норильская улица',\n",
       " 'Хвалынский бульвар',\n",
       " 'Большой Казённый переулок',\n",
       " 'Большой Знаменский переулок',\n",
       " 'Хилков переулок',\n",
       " 'Ижорский проезд',\n",
       " 'Хитровский переулок',\n",
       " 'Фармацевтический проезд',\n",
       " 'Утренняя улица',\n",
       " 'Звонарский переулок',\n",
       " 'Троицкий бульвар',\n",
       " 'Тихвинский переулок',\n",
       " 'Тихий тупик',\n",
       " 'Боровский проезд',\n",
       " 'Боровая улица',\n",
       " 'Большой Трёхсвятительский переулок',\n",
       " 'Триумфальная площадь',\n",
       " 'Троилинский переулок',\n",
       " 'Троицкая улица',\n",
       " 'Олонецкий проезд',\n",
       " 'Озёрная аллея',\n",
       " 'Тургеневская площадь',\n",
       " 'Большой Строченовский переулок',\n",
       " 'Большой Симоновский переулок',\n",
       " 'Зубарев переулок',\n",
       " 'Большой Предтеченский переулок',\n",
       " 'Уржумская улица',\n",
       " 'Большой Полуярославский переулок',\n",
       " 'Успенский переулок',\n",
       " 'Сретенский тупик',\n",
       " 'Педагогическая улица',\n",
       " 'улица Генерала Ермолова',\n",
       " 'Гранатный переулок',\n",
       " 'Дегтярный переулок',\n",
       " 'Пожарский переулок',\n",
       " 'Ростокинская улица',\n",
       " 'Рубцов переулок',\n",
       " 'Подсосенский переулок',\n",
       " 'Русаковская набережная',\n",
       " 'Подольская улица',\n",
       " 'Гродненская улица',\n",
       " 'Елоховский проезд',\n",
       " 'Родниковая улица',\n",
       " 'Госпитальный переулок',\n",
       " 'Плетешковский переулок',\n",
       " 'Гончарная набережная',\n",
       " 'Садовнический проезд',\n",
       " 'Гольяновская улица',\n",
       " 'Платовская улица',\n",
       " 'Сверчков переулок',\n",
       " 'Глинищевский переулок',\n",
       " 'Егорьевский проезд',\n",
       " 'Делегатская улица',\n",
       " 'Глебовская улица',\n",
       " 'Прохладная улица',\n",
       " 'Докучаев переулок',\n",
       " 'Прибрежный проезд',\n",
       " 'Причальный проезд',\n",
       " 'Проектируемый проезд N 5231',\n",
       " 'Производственная улица',\n",
       " 'Прокатная улица',\n",
       " 'Посланников переулок',\n",
       " 'Проточный переулок',\n",
       " 'Пуговишников переулок',\n",
       " 'Рижский проезд',\n",
       " 'Пулковская улица',\n",
       " 'Попов проезд',\n",
       " 'Полтавская улица',\n",
       " 'Пыжёвский переулок',\n",
       " 'Пяловская улица',\n",
       " 'Дмитровский переулок',\n",
       " 'Дивизионная улица',\n",
       " 'Денежный переулок',\n",
       " 'Глинистый переулок',\n",
       " 'Глазовский переулок',\n",
       " 'Средняя Калитниковская улица',\n",
       " 'Сормовский проезд',\n",
       " 'Перовский проезд',\n",
       " 'Врачебный проезд',\n",
       " 'Соймоновский проезд',\n",
       " 'Воротниковский переулок',\n",
       " 'Есенинский бульвар',\n",
       " 'Солнечная аллея',\n",
       " 'Солнечногорский проезд',\n",
       " 'Живарев переулок',\n",
       " 'Волоцкой переулок',\n",
       " 'Пестовский переулок',\n",
       " 'Союзный проспект',\n",
       " 'Жигулёвская улица',\n",
       " 'Спартаковский переулок',\n",
       " 'Пенягинская улица',\n",
       " 'Спортивная улица',\n",
       " 'Спортивный проезд',\n",
       " 'Средний Кондратьевский переулок',\n",
       " 'Средний Овчинниковский переулок',\n",
       " 'Выползов переулок',\n",
       " 'Песчаная улица',\n",
       " 'Северодвинская улица',\n",
       " 'Синельниковская улица',\n",
       " 'Гжельский переулок',\n",
       " 'Гжатская улица',\n",
       " 'Сеченовский переулок',\n",
       " 'Сибирский проезд',\n",
       " 'Сивашская улица',\n",
       " 'Гвардейская улица',\n",
       " 'Симферопольский проезд',\n",
       " 'Гаражная улица',\n",
       " 'Пионерская улица',\n",
       " 'Высокая улица',\n",
       " 'Скатертный переулок',\n",
       " 'Печорская улица',\n",
       " 'Газгольдерная улица',\n",
       " 'Петровско-Разумовская аллея',\n",
       " 'Скорняжный переулок',\n",
       " 'Вяземская улица',\n",
       " 'Петроверигский переулок',\n",
       " 'Песчаный переулок',\n",
       " 'Хлебный переулок',\n",
       " 'Новохорошёвский проезд',\n",
       " 'Хлыновский тупик',\n",
       " 'улица Айвазовского',\n",
       " '6-я улица Новые Сады',\n",
       " 'улица Авиаконструктора Микояна',\n",
       " 'Несвижский переулок',\n",
       " '6-я улица Лазенки',\n",
       " 'Неманский проезд',\n",
       " 'Нелидовская улица',\n",
       " '6-я Кожуховская улица',\n",
       " '6-й Лучевой просек',\n",
       " '56-й километр Московской Кольцевой Автодороги',\n",
       " 'Нижний Журавлёв переулок',\n",
       " 'улица Академика Арцимовича',\n",
       " 'Кирпичная улица',\n",
       " 'Научный проезд',\n",
       " 'улица Академика Комарова',\n",
       " 'Народный проспект',\n",
       " 'улица Академика Опарина',\n",
       " 'улица Академика Павлова',\n",
       " 'улица Академика Петровского',\n",
       " '65-й километр Московской Кольцевой Автодороги',\n",
       " '67-й километр Московской Кольцевой Автодороги',\n",
       " 'улица Академика Понтрягина',\n",
       " '8-я улица Соколиной Горы',\n",
       " 'проезд Досфлота',\n",
       " 'проезд Нансена',\n",
       " 'Карельский бульвар',\n",
       " 'проезд Черепановых',\n",
       " '80-й километр Московской Кольцевой Автодороги',\n",
       " 'проезд Якушкина',\n",
       " 'проектируемый проезд № 1980',\n",
       " 'проспект 40 лет Октября',\n",
       " '8-й проезд Марьиной Рощи',\n",
       " '7-й Ростовский переулок',\n",
       " '78-й километр Московской Кольцевой Автодороги',\n",
       " 'Нижний Таганский тупик',\n",
       " '7-я улица Лазенки',\n",
       " 'Каскадная улица',\n",
       " '7-я Северная линия',\n",
       " 'территория ТСЖ \"Лесная поляна-2\"',\n",
       " 'улица 1-й километр Объездной Дороги',\n",
       " 'Нижний Кисельный переулок',\n",
       " 'Наро-Фоминская улица',\n",
       " 'улица Академика Семёнова',\n",
       " 'Хованская улица',\n",
       " '31-й километр Московской Кольцевой Автодороги',\n",
       " 'улица Брусилова',\n",
       " '4-й Кожевнический переулок',\n",
       " '4-й Вятский переулок',\n",
       " 'улица Васильцовский Стан',\n",
       " '4-й Вешняковский проезд',\n",
       " '39-й километр Калужского шоссе',\n",
       " '38-й километр Московской Кольцевой Автодороги',\n",
       " '34-й километр Московской Кольцевой Автодороги',\n",
       " '30-й километр Московской Кольцевой Автодороги',\n",
       " 'улица Бориса Жигулёнкова',\n",
       " 'Мрузовский переулок',\n",
       " 'улица Вторая Пятилетка',\n",
       " '3-я Черепковская улица',\n",
       " 'улица Высоцкого',\n",
       " 'улица Гамалеи',\n",
       " '3-я Северная линия',\n",
       " 'Молодёжная улица',\n",
       " 'Композиторская улица',\n",
       " '4-й Рощинский проезд',\n",
       " '4-я Гражданская улица',\n",
       " 'Нарвская улица',\n",
       " 'улица Атарбекова',\n",
       " '5-й проезд Подбельского',\n",
       " 'Напрудный переулок',\n",
       " '5-й проезд Марьиной Рощи',\n",
       " 'улица Алексея Дикого',\n",
       " 'Нагорный бульвар',\n",
       " 'улица Анатолия Живова',\n",
       " 'улица Артюхиной',\n",
       " '5-й Рощинский проезд',\n",
       " '5-й Монетчиковский переулок',\n",
       " '4-я Кабельная улица',\n",
       " '44-й километр',\n",
       " '43-й километр МКАД',\n",
       " '42-й километр Московской Кольцевой Автодороги',\n",
       " 'улица Благуша',\n",
       " 'улица Богданова',\n",
       " 'улица Богородский Вал',\n",
       " 'Кожевнический проезд',\n",
       " 'Козицкий переулок',\n",
       " 'проезд Донелайтиса',\n",
       " 'Никитский переулок',\n",
       " 'Авиационный переулок',\n",
       " 'Шубинский переулок',\n",
       " 'Шепелюгинская улица',\n",
       " 'Больничный переулок',\n",
       " 'Богоявленский переулок',\n",
       " 'Новопресненский переулок',\n",
       " 'Библиотечная улица',\n",
       " 'Бескудниковский проезд',\n",
       " 'Бескудниковский переулок',\n",
       " 'Штурвальная улица',\n",
       " 'Берниковская набережная',\n",
       " 'Чуксин тупик',\n",
       " 'Щёлковский проезд',\n",
       " 'Электрический переулок',\n",
       " 'Новоостаповская улица',\n",
       " 'Икшинская улица',\n",
       " 'Басовская улица',\n",
       " 'Барабанный переулок',\n",
       " 'Банный проезд',\n",
       " 'Балтийская улица',\n",
       " 'Большая Бутовская улица',\n",
       " 'Чукотский проезд',\n",
       " 'Канатчиковский проезд',\n",
       " 'Измайловская площадь',\n",
       " 'Изваринская улица',\n",
       " 'Большой Афанасьевский переулок',\n",
       " 'Большая Юшуньская улица',\n",
       " 'Хохловский переулок',\n",
       " 'Большая Ширяевская улица',\n",
       " 'Цветочная улица',\n",
       " 'Центральный проспект',\n",
       " 'Известковый переулок',\n",
       " 'Челюскинская улица',\n",
       " 'Большая Внуковская улица',\n",
       " 'Большая Октябрьская улица',\n",
       " 'Новосибирская улица',\n",
       " 'Чермянская улица',\n",
       " 'Чермянский проезд',\n",
       " 'Черниговский переулок',\n",
       " 'Черницынский проезд',\n",
       " 'Черноморский бульвар',\n",
       " 'Новорублёвская улица',\n",
       " 'Юрловский проезд',\n",
       " 'Новолучанская улица',\n",
       " 'Якиманский переулок',\n",
       " 'Алымов переулок',\n",
       " 'переулок Хользунова',\n",
       " 'Армавирская улица',\n",
       " 'Анненский проезд',\n",
       " 'площадь Журавлёва',\n",
       " 'Анненская улица',\n",
       " 'Калашный переулок',\n",
       " 'Андроньевская площадь',\n",
       " 'Андреево-Забелинская улица',\n",
       " 'посёлок Акулово',\n",
       " 'Ялтинская улица',\n",
       " 'Калибровская улица',\n",
       " 'посёлок Газопровод',\n",
       " 'посёлок ДСК \"Мичуринец\"',\n",
       " 'Калошин переулок',\n",
       " 'посёлок Курилово',\n",
       " 'посёлок Остафьево',\n",
       " 'посёлок Первомайское',\n",
       " 'Автомобильный проезд',\n",
       " 'Новобутовский проезд',\n",
       " 'переулок Расковой',\n",
       " 'переулок Маяковского',\n",
       " 'переулок Красина',\n",
       " 'Янтарный проезд',\n",
       " 'Базовая улица',\n",
       " 'Бабаевская улица',\n",
       " 'Аэрофлотская улица',\n",
       " 'Ясногорская улица',\n",
       " 'Яузский бульвар',\n",
       " 'Яхромская улица',\n",
       " 'Ащеулов переулок',\n",
       " 'Астрадамский проезд',\n",
       " 'Институтский переулок',\n",
       " 'Интернациональная улица',\n",
       " 'Архангельский переулок',\n",
       " 'квартал № 30',\n",
       " 'квартал № 80',\n",
       " 'Нововладыкинский проезд',\n",
       " 'Армейская улица',\n",
       " 'переулок Васнецова',\n",
       " 'Лениногорская улица']"
      ]
     },
     "execution_count": 43,
     "metadata": {},
     "output_type": "execute_result"
    }
   ],
   "source": [
    "# создадим список с улицами, где количество заведений = 1\n",
    "\n",
    "only_one_list = one['street'].to_list()\n",
    "\n",
    "only_one_list"
   ]
  },
  {
   "cell_type": "code",
   "execution_count": 44,
   "metadata": {
    "scrolled": true
   },
   "outputs": [
    {
     "data": {
      "text/plain": [
       "array(['район Арбат', nan, 'район Хорошёво-Мнёвники', 'район Беговой',\n",
       "       'район Хамовники', 'Тверской район', 'район Марьина Роща',\n",
       "       'Можайский район', 'район Богородское', 'район Преображенское',\n",
       "       'район Сокольники', 'район Соколиная Гора', 'район Лефортово',\n",
       "       'Донской район', 'район Котловка', 'район Замоскворечье',\n",
       "       'район Гольяново', 'район Дорогомилово', 'Нижегородский район',\n",
       "       'район Раменки', 'район Свиблово', 'Таганский район',\n",
       "       'Красносельский район', 'район Южное Бутово', 'район Якиманка',\n",
       "       'Рязанский район', 'поселение Десеновское', 'поселение Щербинка',\n",
       "       'поселение Московский', 'поселение Кленовское',\n",
       "       'Головинский район', 'Лосиноостровский район', 'район Аэропорт',\n",
       "       'Останкинский район', 'Пресненский район',\n",
       "       'район Косино-Ухтомский', 'Бутырский район', 'район Метрогородок',\n",
       "       'Басманный район', 'район Внуково', 'район Чертаново Южное',\n",
       "       'район Ясенево', 'район Зюзино', 'Алтуфьевский район',\n",
       "       'Тимирязевский район', 'Дмитровский район',\n",
       "       'Бескудниковский район', 'район Сокол', 'район Левобережный',\n",
       "       'район Солнцево', 'Нагорный район', 'район Южное Тушино',\n",
       "       'район Северное Измайлово', 'район Восточное Измайлово',\n",
       "       'район Измайлово', 'район Савёлки', 'район Очаково-Матвеевское',\n",
       "       'район Новогиреево', 'район Нагатино-Садовники',\n",
       "       'Южнопортовый район', 'Бабушкинский район', 'Ярославский район',\n",
       "       'Алексеевский район', 'Мещанский район', 'район Кунцево',\n",
       "       'район Северное Бутово', 'район Северное Медведково',\n",
       "       'район Отрадное', 'район Ростокино', 'район Восточный',\n",
       "       'район Кузьминки', 'район Выхино-Жулебино', 'район Капотня',\n",
       "       'район Тёплый Стан', 'район Черёмушки', 'район Коньково',\n",
       "       'Обручевский район', 'район Митино', 'район Строгино',\n",
       "       'район Куркино', 'район Крюково', 'район Старое Крюково',\n",
       "       'Даниловский район', 'район Бирюлёво Восточное',\n",
       "       'район Москворечье-Сабурово', 'район Ново-Переделкино',\n",
       "       'поселение Троицк', 'поселение Внуковское', 'поселение Сосенское',\n",
       "       'район Северный', 'поселение \"Мосрентген\"',\n",
       "       'район Бирюлёво Западное', 'поселение Краснопахорское',\n",
       "       'Хорошёвский район', 'район Щукино', 'Савёловский район',\n",
       "       'район Филёвский Парк', 'район Некрасовка', 'район Печатники'],\n",
       "      dtype=object)"
      ]
     },
     "execution_count": 44,
     "metadata": {},
     "output_type": "execute_result"
    }
   ],
   "source": [
    "# проверим, в какие районы входят эти улицы\n",
    "\n",
    "area_one = rest_district.query('street in @only_one_list')[['street', 'district']]\n",
    "\n",
    "area_one['district'].unique()\n"
   ]
  },
  {
   "cell_type": "markdown",
   "metadata": {},
   "source": [
    "В список вошли некоторые районы, что и в перечень районов для топ-10 улиц. Ну и попадание например района Арбат в этот список не делает его бесперспективным. Одназначно не стоит использовать его как стоп-лист для выбора района будущего заведения."
   ]
  },
  {
   "cell_type": "markdown",
   "metadata": {},
   "source": [
    "### Распределение количества посадочных мест для улиц с большим количеством объектов общественного питания. "
   ]
  },
  {
   "cell_type": "code",
   "execution_count": 45,
   "metadata": {
    "scrolled": true
   },
   "outputs": [
    {
     "data": {
      "text/html": [
       "<div>\n",
       "<style scoped>\n",
       "    .dataframe tbody tr th:only-of-type {\n",
       "        vertical-align: middle;\n",
       "    }\n",
       "\n",
       "    .dataframe tbody tr th {\n",
       "        vertical-align: top;\n",
       "    }\n",
       "\n",
       "    .dataframe thead th {\n",
       "        text-align: right;\n",
       "    }\n",
       "</style>\n",
       "<table border=\"1\" class=\"dataframe\">\n",
       "  <thead>\n",
       "    <tr style=\"text-align: right;\">\n",
       "      <th></th>\n",
       "      <th>street</th>\n",
       "      <th>count</th>\n",
       "      <th>seats</th>\n",
       "    </tr>\n",
       "  </thead>\n",
       "  <tbody>\n",
       "    <tr>\n",
       "      <th>7</th>\n",
       "      <td>Кутузовский проспект</td>\n",
       "      <td>114</td>\n",
       "      <td>85.0</td>\n",
       "    </tr>\n",
       "    <tr>\n",
       "      <th>6</th>\n",
       "      <td>проспект Вернадского</td>\n",
       "      <td>128</td>\n",
       "      <td>69.0</td>\n",
       "    </tr>\n",
       "    <tr>\n",
       "      <th>0</th>\n",
       "      <td>проспект Мира</td>\n",
       "      <td>204</td>\n",
       "      <td>63.0</td>\n",
       "    </tr>\n",
       "    <tr>\n",
       "      <th>5</th>\n",
       "      <td>Ленинский проспект</td>\n",
       "      <td>148</td>\n",
       "      <td>63.0</td>\n",
       "    </tr>\n",
       "    <tr>\n",
       "      <th>9</th>\n",
       "      <td>Кировоградская улица</td>\n",
       "      <td>108</td>\n",
       "      <td>60.0</td>\n",
       "    </tr>\n",
       "    <tr>\n",
       "      <th>8</th>\n",
       "      <td>Каширское шоссе</td>\n",
       "      <td>111</td>\n",
       "      <td>56.0</td>\n",
       "    </tr>\n",
       "    <tr>\n",
       "      <th>2</th>\n",
       "      <td>Ленинградский проспект</td>\n",
       "      <td>172</td>\n",
       "      <td>52.0</td>\n",
       "    </tr>\n",
       "    <tr>\n",
       "      <th>4</th>\n",
       "      <td>Варшавское шоссе</td>\n",
       "      <td>165</td>\n",
       "      <td>52.0</td>\n",
       "    </tr>\n",
       "    <tr>\n",
       "      <th>1</th>\n",
       "      <td>Профсоюзная улица</td>\n",
       "      <td>182</td>\n",
       "      <td>48.0</td>\n",
       "    </tr>\n",
       "    <tr>\n",
       "      <th>3</th>\n",
       "      <td>Пресненская набережная</td>\n",
       "      <td>167</td>\n",
       "      <td>46.0</td>\n",
       "    </tr>\n",
       "  </tbody>\n",
       "</table>\n",
       "</div>"
      ],
      "text/plain": [
       "                   street  count  seats\n",
       "7    Кутузовский проспект    114   85.0\n",
       "6    проспект Вернадского    128   69.0\n",
       "0           проспект Мира    204   63.0\n",
       "5      Ленинский проспект    148   63.0\n",
       "9    Кировоградская улица    108   60.0\n",
       "8         Каширское шоссе    111   56.0\n",
       "2  Ленинградский проспект    172   52.0\n",
       "4        Варшавское шоссе    165   52.0\n",
       "1       Профсоюзная улица    182   48.0\n",
       "3  Пресненская набережная    167   46.0"
      ]
     },
     "execution_count": 45,
     "metadata": {},
     "output_type": "execute_result"
    }
   ],
   "source": [
    "# посмотрим на среднее количество посадочных мест для топ-10 улиц \n",
    "\n",
    "top_streets_seats = rest.groupby('street').agg(\n",
    "    {'id': 'count', 'seats': 'mean'}).round().sort_values(by='id', ascending=False).rename(\n",
    "    columns={'id': 'count'}).reset_index()\n",
    "\n",
    "top_streets_seats.head(10).sort_values(by='seats', ascending=False)"
   ]
  },
  {
   "cell_type": "code",
   "execution_count": 46,
   "metadata": {},
   "outputs": [
    {
     "data": {
      "image/png": "[encoded data removed]",
      "text/plain": [
       "<Figure size 864x360 with 1 Axes>"
      ]
     },
     "metadata": {
      "needs_background": "light"
     },
     "output_type": "display_data"
    }
   ],
   "source": [
    "streets_seats = rest_district.query('street in @top_list')\n",
    "\n",
    "plt.figure(figsize=(12, 5))\n",
    "ax = sns.boxplot(x='street', y='seats', data=streets_seats, palette='summer')\n",
    "plt.xticks(rotation=60)\n",
    "ax.set_ylim(0, 250)\n",
    "ax.set_title('Распределение числа посадочных мест для топ-10 улиц по количеству объектов')\n",
    "plt.show()\n"
   ]
  },
  {
   "cell_type": "markdown",
   "metadata": {},
   "source": [
    "Есть выбросы выше 100-200 мест для всех улиц, но в целом средняя температура по больнице плюс-минус одинаковая - среднее количество посадочных мест для топ-10 улиц не доходит до 50 и составляет от 20 до 40"
   ]
  },
  {
   "cell_type": "markdown",
   "metadata": {},
   "source": [
    "## Вывод и рекомендации"
   ]
  },
  {
   "cell_type": "markdown",
   "metadata": {},
   "source": [
    "Оптимальным решением будет открыть заведение со следующими характеристиками:\n",
    "\n",
    "- `Кафе`\n",
    "\n",
    "Самый распространенный тип заведений общественного питания в Москве. Подразумевает и полноценное меню, и обслуживание столиков официантами, что в целом соответсвует концепции проекта. Другие распространенные виды заведения не подходят по следующим причинам: столовые предусматривают линию раздачи и самообслуживание, а для ресторанов главной идеей должна быть кухня и концепция блюд с полным сложным циклом приготовления еды без использования полуфабрикатов например.\n",
    " \n",
    " - `Количество посадочных в диапазоне 20-40 мест`\n",
    " \n",
    "Такое число в среднем характерно для кафе. При условии быстрого обслуживания и хорошей локации даже небольшое количество посадочных обеспечит высокую доходность. А в случае открытия заведения в центре важно учитывать также высокую стоимость аренды коммерческого помещения. Большое количество посадочных мест не является необходимостью, чтобы разместить всех желающих - можно работать по системе предварительной брони с ограничением по времени.\n",
    "\n",
    " - `Районы, на котрые стоит обратить внимание: Мещанский, Дорогомилово, Беговой, Якиманка`\n",
    " \n",
    "В список районов, в которые входят топ-10 улиц по количеству заведений попали довольно неоднозначные - например, много удаленных от центра за счет большой протяженности этих самых улиц. Поэтому я бы в первую очередь рекомендовала рассматривать зоны, прилегающие к Садовому кольцу и не выходящие за пределы ТТК. Именно через вышеуказанные районы проходят улицы-рекордсмены: Проспект Мира-Мещанский, Кутузовский проспект-Дорогомилово, Ленинградский проспект-Беговой, Ленинский проспект-Якиманка.\n",
    "При этом например Пресненский район не включен в этот список, так как основная концентрация предприятий общественного питания приходится на бизнес-центры в Сити и не подходит для идеи проекта.\n",
    "\n",
    "Что касается возможности развития сети, то потенциал есть, так как для кафе в целом характерно и сетевое распространение, и небольшое количество посадочных мест. Однако необходимо больше данных например об окупаемости уже существующих заведений, средней стоимости квадратного метра в выбранном районе и количества предполагаемых инвестиций, чтобы делать более точные прогнозы"
   ]
  },
  {
   "cell_type": "code",
   "execution_count": null,
   "metadata": {},
   "outputs": [],
   "source": []
  }
 ],
 "metadata": {
  "ExecuteTimeLog": [
   {
    "duration": 76,
    "start_time": "2022-05-02T18:00:06.675Z"
   },
   {
    "duration": 513,
    "start_time": "2022-05-02T18:00:11.534Z"
   },
   {
    "duration": 107,
    "start_time": "2022-05-02T18:00:12.127Z"
   },
   {
    "duration": 4,
    "start_time": "2022-05-02T18:00:42.316Z"
   },
   {
    "duration": 270,
    "start_time": "2022-05-02T18:00:42.803Z"
   },
   {
    "duration": 106,
    "start_time": "2022-05-02T18:00:52.254Z"
   },
   {
    "duration": 18,
    "start_time": "2022-05-02T18:01:10.097Z"
   },
   {
    "duration": 48,
    "start_time": "2022-05-02T18:02:16.585Z"
   },
   {
    "duration": 4,
    "start_time": "2022-05-02T18:07:38.159Z"
   },
   {
    "duration": 153,
    "start_time": "2022-05-02T18:07:40.141Z"
   },
   {
    "duration": 36,
    "start_time": "2022-05-02T18:07:41.664Z"
   },
   {
    "duration": 25,
    "start_time": "2022-05-02T18:08:25.644Z"
   },
   {
    "duration": 77,
    "start_time": "2022-05-02T18:08:48.484Z"
   },
   {
    "duration": 24,
    "start_time": "2022-05-02T18:08:56.883Z"
   },
   {
    "duration": 8,
    "start_time": "2022-05-02T18:09:09.661Z"
   },
   {
    "duration": 14,
    "start_time": "2022-05-02T18:11:01.460Z"
   },
   {
    "duration": 9,
    "start_time": "2022-05-02T18:11:06.641Z"
   },
   {
    "duration": 30,
    "start_time": "2022-05-02T18:25:32.042Z"
   },
   {
    "duration": 28,
    "start_time": "2022-05-02T18:27:43.168Z"
   },
   {
    "duration": 30,
    "start_time": "2022-05-02T18:28:55.990Z"
   },
   {
    "duration": 27,
    "start_time": "2022-05-02T18:29:02.519Z"
   },
   {
    "duration": 36,
    "start_time": "2022-05-02T18:43:04.951Z"
   },
   {
    "duration": 9,
    "start_time": "2022-05-02T18:43:25.384Z"
   },
   {
    "duration": 11,
    "start_time": "2022-05-02T18:43:52.003Z"
   },
   {
    "duration": 9,
    "start_time": "2022-05-02T18:46:23.315Z"
   },
   {
    "duration": 7,
    "start_time": "2022-05-02T18:46:29.574Z"
   },
   {
    "duration": 24,
    "start_time": "2022-05-02T18:46:37.416Z"
   },
   {
    "duration": 54,
    "start_time": "2022-05-02T18:47:28.442Z"
   },
   {
    "duration": 51,
    "start_time": "2022-05-03T18:38:02.421Z"
   },
   {
    "duration": 440,
    "start_time": "2022-05-03T18:38:09.043Z"
   },
   {
    "duration": 184,
    "start_time": "2022-05-03T18:38:09.485Z"
   },
   {
    "duration": 31,
    "start_time": "2022-05-03T18:38:09.671Z"
   },
   {
    "duration": 8,
    "start_time": "2022-05-03T18:38:10.777Z"
   },
   {
    "duration": 9,
    "start_time": "2022-05-03T18:38:12.002Z"
   },
   {
    "duration": 19,
    "start_time": "2022-05-03T18:38:31.396Z"
   },
   {
    "duration": 6,
    "start_time": "2022-05-03T18:41:28.751Z"
   },
   {
    "duration": 14,
    "start_time": "2022-05-03T18:41:31.640Z"
   },
   {
    "duration": 4,
    "start_time": "2022-05-03T18:44:26.786Z"
   },
   {
    "duration": 8,
    "start_time": "2022-05-03T18:44:27.318Z"
   },
   {
    "duration": 9,
    "start_time": "2022-05-03T18:44:31.652Z"
   },
   {
    "duration": 13,
    "start_time": "2022-05-03T18:44:34.114Z"
   },
   {
    "duration": 19,
    "start_time": "2022-05-03T18:44:43.531Z"
   },
   {
    "duration": 9,
    "start_time": "2022-05-03T18:44:44.062Z"
   },
   {
    "duration": 8,
    "start_time": "2022-05-03T18:46:41.478Z"
   },
   {
    "duration": 20,
    "start_time": "2022-05-03T18:46:42.218Z"
   },
   {
    "duration": 9,
    "start_time": "2022-05-03T18:46:46.834Z"
   },
   {
    "duration": 19,
    "start_time": "2022-05-03T18:53:04.402Z"
   },
   {
    "duration": 12,
    "start_time": "2022-05-03T18:53:05.361Z"
   },
   {
    "duration": 17,
    "start_time": "2022-05-03T18:53:08.399Z"
   },
   {
    "duration": 8,
    "start_time": "2022-05-03T18:54:42.060Z"
   },
   {
    "duration": 9,
    "start_time": "2022-05-03T18:54:42.627Z"
   },
   {
    "duration": 5,
    "start_time": "2022-05-03T18:55:00.479Z"
   },
   {
    "duration": 12,
    "start_time": "2022-05-03T18:55:01.228Z"
   },
   {
    "duration": 8,
    "start_time": "2022-05-03T18:55:23.093Z"
   },
   {
    "duration": 11,
    "start_time": "2022-05-03T18:55:23.835Z"
   },
   {
    "duration": 44,
    "start_time": "2022-05-04T07:52:20.129Z"
   },
   {
    "duration": 384,
    "start_time": "2022-05-04T07:52:25.608Z"
   },
   {
    "duration": 122,
    "start_time": "2022-05-04T07:52:26.015Z"
   },
   {
    "duration": 25,
    "start_time": "2022-05-04T07:52:26.374Z"
   },
   {
    "duration": 17,
    "start_time": "2022-05-04T07:53:09.988Z"
   },
   {
    "duration": 3,
    "start_time": "2022-05-04T07:55:29.126Z"
   },
   {
    "duration": 11,
    "start_time": "2022-05-04T07:55:29.513Z"
   },
   {
    "duration": 18,
    "start_time": "2022-05-04T07:56:49.337Z"
   },
   {
    "duration": 29,
    "start_time": "2022-05-04T07:58:17.378Z"
   },
   {
    "duration": 17,
    "start_time": "2022-05-04T07:58:24.361Z"
   },
   {
    "duration": 13,
    "start_time": "2022-05-04T07:58:41.712Z"
   },
   {
    "duration": 18,
    "start_time": "2022-05-04T08:00:04.029Z"
   },
   {
    "duration": 19,
    "start_time": "2022-05-04T08:00:18.425Z"
   },
   {
    "duration": 5,
    "start_time": "2022-05-04T08:01:00.268Z"
   },
   {
    "duration": 8,
    "start_time": "2022-05-04T08:28:04.841Z"
   },
   {
    "duration": 3,
    "start_time": "2022-05-04T08:28:23.693Z"
   },
   {
    "duration": 21,
    "start_time": "2022-05-04T08:28:35.986Z"
   },
   {
    "duration": 14,
    "start_time": "2022-05-04T08:28:56.584Z"
   },
   {
    "duration": 19,
    "start_time": "2022-05-04T08:30:15.951Z"
   },
   {
    "duration": 14,
    "start_time": "2022-05-04T08:30:23.781Z"
   },
   {
    "duration": 5,
    "start_time": "2022-05-04T08:31:02.920Z"
   },
   {
    "duration": 6,
    "start_time": "2022-05-04T08:31:44.090Z"
   },
   {
    "duration": 5,
    "start_time": "2022-05-04T08:31:54.660Z"
   },
   {
    "duration": 9,
    "start_time": "2022-05-04T08:46:35.665Z"
   },
   {
    "duration": 16,
    "start_time": "2022-05-04T08:52:22.063Z"
   },
   {
    "duration": 15,
    "start_time": "2022-05-04T08:53:07.892Z"
   },
   {
    "duration": 8,
    "start_time": "2022-05-04T08:53:21.148Z"
   },
   {
    "duration": 10,
    "start_time": "2022-05-04T08:57:04.194Z"
   },
   {
    "duration": 7,
    "start_time": "2022-05-04T09:21:37.887Z"
   },
   {
    "duration": 13,
    "start_time": "2022-05-04T09:21:54.581Z"
   },
   {
    "duration": 8,
    "start_time": "2022-05-04T09:22:03.478Z"
   },
   {
    "duration": 12,
    "start_time": "2022-05-04T10:51:53.059Z"
   },
   {
    "duration": 15,
    "start_time": "2022-05-04T10:52:54.410Z"
   },
   {
    "duration": 16,
    "start_time": "2022-05-04T10:53:13.398Z"
   },
   {
    "duration": 14,
    "start_time": "2022-05-04T10:53:35.906Z"
   },
   {
    "duration": 14,
    "start_time": "2022-05-04T10:53:43.986Z"
   },
   {
    "duration": 12,
    "start_time": "2022-05-04T10:53:52.663Z"
   },
   {
    "duration": 10,
    "start_time": "2022-05-04T10:55:59.604Z"
   },
   {
    "duration": 181,
    "start_time": "2022-05-04T10:57:23.669Z"
   },
   {
    "duration": 10,
    "start_time": "2022-05-04T10:57:48.326Z"
   },
   {
    "duration": 11,
    "start_time": "2022-05-04T10:57:59.821Z"
   },
   {
    "duration": 12,
    "start_time": "2022-05-04T10:58:22.216Z"
   },
   {
    "duration": 13,
    "start_time": "2022-05-04T10:58:42.391Z"
   },
   {
    "duration": 188,
    "start_time": "2022-05-04T10:59:42.278Z"
   },
   {
    "duration": 8,
    "start_time": "2022-05-04T11:00:25.640Z"
   },
   {
    "duration": 9,
    "start_time": "2022-05-04T11:00:28.951Z"
   },
   {
    "duration": 7,
    "start_time": "2022-05-04T11:00:36.207Z"
   },
   {
    "duration": 12,
    "start_time": "2022-05-04T11:00:58.390Z"
   },
   {
    "duration": 11,
    "start_time": "2022-05-04T11:01:07.608Z"
   },
   {
    "duration": 676,
    "start_time": "2022-05-04T11:03:42.406Z"
   },
   {
    "duration": 22,
    "start_time": "2022-05-04T11:06:15.546Z"
   },
   {
    "duration": 12,
    "start_time": "2022-05-04T11:06:33.974Z"
   },
   {
    "duration": 244,
    "start_time": "2022-05-04T11:06:36.455Z"
   },
   {
    "duration": 8,
    "start_time": "2022-05-04T11:09:19.924Z"
   },
   {
    "duration": 3,
    "start_time": "2022-05-04T11:09:46.906Z"
   },
   {
    "duration": 2472,
    "start_time": "2022-05-04T11:09:51.753Z"
   },
   {
    "duration": 239,
    "start_time": "2022-05-04T11:15:58.776Z"
   },
   {
    "duration": 292,
    "start_time": "2022-05-04T11:18:20.456Z"
   },
   {
    "duration": 240,
    "start_time": "2022-05-04T11:18:53.584Z"
   },
   {
    "duration": 233,
    "start_time": "2022-05-04T11:19:18.503Z"
   },
   {
    "duration": 243,
    "start_time": "2022-05-04T11:23:05.934Z"
   },
   {
    "duration": 281,
    "start_time": "2022-05-04T11:23:24.756Z"
   },
   {
    "duration": 249,
    "start_time": "2022-05-04T11:23:45.122Z"
   },
   {
    "duration": 239,
    "start_time": "2022-05-04T11:24:15.188Z"
   },
   {
    "duration": 240,
    "start_time": "2022-05-04T11:25:02.939Z"
   },
   {
    "duration": 245,
    "start_time": "2022-05-04T11:34:42.677Z"
   },
   {
    "duration": 252,
    "start_time": "2022-05-04T11:35:27.736Z"
   },
   {
    "duration": 244,
    "start_time": "2022-05-04T11:36:10.879Z"
   },
   {
    "duration": 317,
    "start_time": "2022-05-04T11:36:34.945Z"
   },
   {
    "duration": 234,
    "start_time": "2022-05-04T11:36:59.009Z"
   },
   {
    "duration": 253,
    "start_time": "2022-05-04T11:37:17.135Z"
   },
   {
    "duration": 250,
    "start_time": "2022-05-04T11:37:41.517Z"
   },
   {
    "duration": 235,
    "start_time": "2022-05-04T11:38:15.543Z"
   },
   {
    "duration": 241,
    "start_time": "2022-05-04T11:39:14.360Z"
   },
   {
    "duration": 237,
    "start_time": "2022-05-04T11:39:58.414Z"
   },
   {
    "duration": 264,
    "start_time": "2022-05-04T11:40:15.421Z"
   },
   {
    "duration": 254,
    "start_time": "2022-05-04T11:40:35.299Z"
   },
   {
    "duration": 257,
    "start_time": "2022-05-04T11:41:16.343Z"
   },
   {
    "duration": 255,
    "start_time": "2022-05-04T11:41:44.160Z"
   },
   {
    "duration": 401,
    "start_time": "2022-05-04T11:42:07.859Z"
   },
   {
    "duration": 68,
    "start_time": "2022-05-05T08:18:59.431Z"
   },
   {
    "duration": 1149,
    "start_time": "2022-05-05T08:19:03.760Z"
   },
   {
    "duration": 183,
    "start_time": "2022-05-05T08:19:04.912Z"
   },
   {
    "duration": 33,
    "start_time": "2022-05-05T08:19:05.097Z"
   },
   {
    "duration": 29,
    "start_time": "2022-05-05T08:19:05.133Z"
   },
   {
    "duration": 32,
    "start_time": "2022-05-05T08:19:05.165Z"
   },
   {
    "duration": 7,
    "start_time": "2022-05-05T08:19:05.199Z"
   },
   {
    "duration": 9,
    "start_time": "2022-05-05T08:19:05.208Z"
   },
   {
    "duration": 9,
    "start_time": "2022-05-05T08:19:05.219Z"
   },
   {
    "duration": 15,
    "start_time": "2022-05-05T08:19:05.230Z"
   },
   {
    "duration": 18,
    "start_time": "2022-05-05T08:19:05.292Z"
   },
   {
    "duration": 422,
    "start_time": "2022-05-05T08:19:05.312Z"
   },
   {
    "duration": 418,
    "start_time": "2022-05-05T08:20:31.023Z"
   },
   {
    "duration": 51,
    "start_time": "2022-05-05T08:22:20.068Z"
   },
   {
    "duration": 399,
    "start_time": "2022-05-05T08:28:56.216Z"
   },
   {
    "duration": 411,
    "start_time": "2022-05-05T08:30:02.067Z"
   },
   {
    "duration": 455,
    "start_time": "2022-05-05T08:30:08.048Z"
   },
   {
    "duration": 398,
    "start_time": "2022-05-05T08:31:13.377Z"
   },
   {
    "duration": 410,
    "start_time": "2022-05-05T08:31:32.402Z"
   },
   {
    "duration": 427,
    "start_time": "2022-05-05T08:32:08.999Z"
   },
   {
    "duration": 444,
    "start_time": "2022-05-05T08:32:31.223Z"
   },
   {
    "duration": 393,
    "start_time": "2022-05-05T08:32:57.741Z"
   },
   {
    "duration": 396,
    "start_time": "2022-05-05T08:34:22.957Z"
   },
   {
    "duration": 422,
    "start_time": "2022-05-05T08:36:15.920Z"
   },
   {
    "duration": 579,
    "start_time": "2022-05-05T08:37:00.106Z"
   },
   {
    "duration": 414,
    "start_time": "2022-05-05T08:37:25.053Z"
   },
   {
    "duration": 18,
    "start_time": "2022-05-05T08:39:07.797Z"
   },
   {
    "duration": 388,
    "start_time": "2022-05-05T08:39:08.591Z"
   },
   {
    "duration": 18,
    "start_time": "2022-05-05T08:39:40.104Z"
   },
   {
    "duration": 489,
    "start_time": "2022-05-05T08:39:40.622Z"
   },
   {
    "duration": 420,
    "start_time": "2022-05-05T08:40:20.067Z"
   },
   {
    "duration": 578,
    "start_time": "2022-05-05T08:45:01.584Z"
   },
   {
    "duration": 90,
    "start_time": "2022-05-05T08:46:46.476Z"
   },
   {
    "duration": 413,
    "start_time": "2022-05-05T08:48:06.683Z"
   },
   {
    "duration": 7,
    "start_time": "2022-05-05T08:52:48.420Z"
   },
   {
    "duration": 7,
    "start_time": "2022-05-05T08:52:58.769Z"
   },
   {
    "duration": 9,
    "start_time": "2022-05-05T08:53:05.695Z"
   },
   {
    "duration": 7,
    "start_time": "2022-05-05T08:53:48.241Z"
   },
   {
    "duration": 58,
    "start_time": "2022-05-05T08:53:53.213Z"
   },
   {
    "duration": 16,
    "start_time": "2022-05-05T08:53:57.644Z"
   },
   {
    "duration": 6,
    "start_time": "2022-05-05T08:54:13.684Z"
   },
   {
    "duration": 16,
    "start_time": "2022-05-05T08:54:27.711Z"
   },
   {
    "duration": 7,
    "start_time": "2022-05-05T08:54:31.576Z"
   },
   {
    "duration": 482,
    "start_time": "2022-05-05T08:54:39.055Z"
   },
   {
    "duration": 669,
    "start_time": "2022-05-05T08:54:47.362Z"
   },
   {
    "duration": 570,
    "start_time": "2022-05-05T08:55:04.576Z"
   },
   {
    "duration": 9,
    "start_time": "2022-05-05T08:56:00.818Z"
   },
   {
    "duration": 4,
    "start_time": "2022-05-05T08:56:49.837Z"
   },
   {
    "duration": 5,
    "start_time": "2022-05-05T08:56:53.342Z"
   },
   {
    "duration": 8,
    "start_time": "2022-05-05T08:57:05.485Z"
   },
   {
    "duration": 262,
    "start_time": "2022-05-05T08:57:48.533Z"
   },
   {
    "duration": 675,
    "start_time": "2022-05-05T08:58:05.541Z"
   },
   {
    "duration": 411,
    "start_time": "2022-05-05T08:58:26.119Z"
   },
   {
    "duration": 5,
    "start_time": "2022-05-05T08:58:39.103Z"
   },
   {
    "duration": 189,
    "start_time": "2022-05-05T08:58:39.110Z"
   },
   {
    "duration": 40,
    "start_time": "2022-05-05T08:58:39.302Z"
   },
   {
    "duration": 65,
    "start_time": "2022-05-05T08:58:39.345Z"
   },
   {
    "duration": 13,
    "start_time": "2022-05-05T08:58:39.414Z"
   },
   {
    "duration": 9,
    "start_time": "2022-05-05T08:58:39.430Z"
   },
   {
    "duration": 10,
    "start_time": "2022-05-05T08:58:39.441Z"
   },
   {
    "duration": 49,
    "start_time": "2022-05-05T08:58:39.454Z"
   },
   {
    "duration": 17,
    "start_time": "2022-05-05T08:58:39.505Z"
   },
   {
    "duration": 17,
    "start_time": "2022-05-05T08:58:39.525Z"
   },
   {
    "duration": 7,
    "start_time": "2022-05-05T08:58:39.544Z"
   },
   {
    "duration": 633,
    "start_time": "2022-05-05T08:58:39.553Z"
   },
   {
    "duration": 1723,
    "start_time": "2022-05-05T08:58:56.491Z"
   },
   {
    "duration": 182,
    "start_time": "2022-05-05T08:58:58.218Z"
   },
   {
    "duration": 32,
    "start_time": "2022-05-05T08:58:58.402Z"
   },
   {
    "duration": 31,
    "start_time": "2022-05-05T08:58:58.437Z"
   },
   {
    "duration": 13,
    "start_time": "2022-05-05T08:58:58.495Z"
   },
   {
    "duration": 21,
    "start_time": "2022-05-05T08:58:58.510Z"
   },
   {
    "duration": 8,
    "start_time": "2022-05-05T08:58:58.533Z"
   },
   {
    "duration": 18,
    "start_time": "2022-05-05T08:58:58.544Z"
   },
   {
    "duration": 40,
    "start_time": "2022-05-05T08:58:58.565Z"
   },
   {
    "duration": 18,
    "start_time": "2022-05-05T08:58:58.608Z"
   },
   {
    "duration": 8,
    "start_time": "2022-05-05T08:58:58.629Z"
   },
   {
    "duration": 477,
    "start_time": "2022-05-05T08:58:58.639Z"
   },
   {
    "duration": 437,
    "start_time": "2022-05-05T08:59:34.767Z"
   },
   {
    "duration": 437,
    "start_time": "2022-05-05T09:01:58.804Z"
   },
   {
    "duration": 427,
    "start_time": "2022-05-05T09:02:23.715Z"
   },
   {
    "duration": 433,
    "start_time": "2022-05-05T09:02:47.854Z"
   },
   {
    "duration": 428,
    "start_time": "2022-05-05T09:03:10.092Z"
   },
   {
    "duration": 430,
    "start_time": "2022-05-05T09:03:30.107Z"
   },
   {
    "duration": 414,
    "start_time": "2022-05-05T09:04:09.940Z"
   },
   {
    "duration": 598,
    "start_time": "2022-05-05T09:04:45.939Z"
   },
   {
    "duration": 442,
    "start_time": "2022-05-05T09:05:09.587Z"
   },
   {
    "duration": 493,
    "start_time": "2022-05-05T09:05:26.037Z"
   },
   {
    "duration": 457,
    "start_time": "2022-05-05T09:05:38.004Z"
   },
   {
    "duration": 421,
    "start_time": "2022-05-05T09:05:59.037Z"
   },
   {
    "duration": 428,
    "start_time": "2022-05-05T09:06:25.198Z"
   },
   {
    "duration": 435,
    "start_time": "2022-05-05T09:06:48.801Z"
   },
   {
    "duration": 534,
    "start_time": "2022-05-05T09:07:31.601Z"
   },
   {
    "duration": 598,
    "start_time": "2022-05-05T09:07:58.701Z"
   },
   {
    "duration": 417,
    "start_time": "2022-05-05T09:09:23.553Z"
   },
   {
    "duration": 420,
    "start_time": "2022-05-05T09:10:55.316Z"
   },
   {
    "duration": 542,
    "start_time": "2022-05-05T09:11:12.135Z"
   },
   {
    "duration": 427,
    "start_time": "2022-05-05T09:11:32.959Z"
   },
   {
    "duration": 435,
    "start_time": "2022-05-05T09:12:00.750Z"
   },
   {
    "duration": 520,
    "start_time": "2022-05-05T09:13:08.335Z"
   },
   {
    "duration": 418,
    "start_time": "2022-05-05T09:13:37.783Z"
   },
   {
    "duration": 419,
    "start_time": "2022-05-05T09:13:56.535Z"
   },
   {
    "duration": 414,
    "start_time": "2022-05-05T09:14:20.530Z"
   },
   {
    "duration": 435,
    "start_time": "2022-05-05T09:14:44.340Z"
   },
   {
    "duration": 432,
    "start_time": "2022-05-05T09:15:10.483Z"
   },
   {
    "duration": 520,
    "start_time": "2022-05-05T09:15:41.732Z"
   },
   {
    "duration": 436,
    "start_time": "2022-05-05T09:17:30.732Z"
   },
   {
    "duration": 419,
    "start_time": "2022-05-05T09:18:16.625Z"
   },
   {
    "duration": 445,
    "start_time": "2022-05-05T09:34:43.295Z"
   },
   {
    "duration": 11,
    "start_time": "2022-05-05T09:35:52.921Z"
   },
   {
    "duration": 11,
    "start_time": "2022-05-05T09:38:09.833Z"
   },
   {
    "duration": 10,
    "start_time": "2022-05-05T09:38:27.644Z"
   },
   {
    "duration": 12,
    "start_time": "2022-05-05T09:38:39.138Z"
   },
   {
    "duration": 291,
    "start_time": "2022-05-05T10:21:25.030Z"
   },
   {
    "duration": 3,
    "start_time": "2022-05-05T10:22:13.357Z"
   },
   {
    "duration": 13,
    "start_time": "2022-05-05T10:22:13.746Z"
   },
   {
    "duration": 5,
    "start_time": "2022-05-05T10:27:39.144Z"
   },
   {
    "duration": 13,
    "start_time": "2022-05-05T10:27:39.860Z"
   },
   {
    "duration": 5,
    "start_time": "2022-05-05T10:27:47.246Z"
   },
   {
    "duration": 18,
    "start_time": "2022-05-05T10:27:47.254Z"
   },
   {
    "duration": 1530,
    "start_time": "2022-05-05T10:28:04.184Z"
   },
   {
    "duration": 234,
    "start_time": "2022-05-05T10:28:05.717Z"
   },
   {
    "duration": 40,
    "start_time": "2022-05-05T10:28:05.953Z"
   },
   {
    "duration": 31,
    "start_time": "2022-05-05T10:28:05.995Z"
   },
   {
    "duration": 12,
    "start_time": "2022-05-05T10:28:06.029Z"
   },
   {
    "duration": 7,
    "start_time": "2022-05-05T10:28:06.043Z"
   },
   {
    "duration": 44,
    "start_time": "2022-05-05T10:28:06.052Z"
   },
   {
    "duration": 3,
    "start_time": "2022-05-05T10:28:06.098Z"
   },
   {
    "duration": 13,
    "start_time": "2022-05-05T10:28:06.103Z"
   },
   {
    "duration": 16,
    "start_time": "2022-05-05T10:28:06.118Z"
   },
   {
    "duration": 18,
    "start_time": "2022-05-05T10:28:06.136Z"
   },
   {
    "duration": 476,
    "start_time": "2022-05-05T10:28:06.156Z"
   },
   {
    "duration": 11,
    "start_time": "2022-05-05T10:28:06.635Z"
   },
   {
    "duration": 267,
    "start_time": "2022-05-05T10:28:06.649Z"
   },
   {
    "duration": 162,
    "start_time": "2022-05-05T10:28:34.528Z"
   },
   {
    "duration": 148,
    "start_time": "2022-05-05T10:29:13.887Z"
   },
   {
    "duration": 181,
    "start_time": "2022-05-05T10:29:25.361Z"
   },
   {
    "duration": 294,
    "start_time": "2022-05-05T10:31:09.418Z"
   },
   {
    "duration": 271,
    "start_time": "2022-05-05T10:31:18.752Z"
   },
   {
    "duration": 179,
    "start_time": "2022-05-05T10:32:02.560Z"
   },
   {
    "duration": 174,
    "start_time": "2022-05-05T10:32:15.539Z"
   },
   {
    "duration": 235,
    "start_time": "2022-05-05T10:32:42.248Z"
   },
   {
    "duration": 8,
    "start_time": "2022-05-05T10:35:24.337Z"
   },
   {
    "duration": 23,
    "start_time": "2022-05-05T10:35:24.348Z"
   },
   {
    "duration": 21,
    "start_time": "2022-05-05T10:35:24.374Z"
   },
   {
    "duration": 655,
    "start_time": "2022-05-05T10:35:24.397Z"
   },
   {
    "duration": 12,
    "start_time": "2022-05-05T10:35:25.056Z"
   },
   {
    "duration": 10,
    "start_time": "2022-05-05T10:38:53.832Z"
   },
   {
    "duration": 11,
    "start_time": "2022-05-05T10:39:18.145Z"
   },
   {
    "duration": 10,
    "start_time": "2022-05-05T10:40:14.716Z"
   },
   {
    "duration": 13,
    "start_time": "2022-05-05T10:40:22.525Z"
   },
   {
    "duration": 218,
    "start_time": "2022-05-05T10:44:57.446Z"
   },
   {
    "duration": 8,
    "start_time": "2022-05-05T10:45:03.819Z"
   },
   {
    "duration": 15,
    "start_time": "2022-05-05T10:46:28.396Z"
   },
   {
    "duration": 18,
    "start_time": "2022-05-05T10:46:46.117Z"
   },
   {
    "duration": 265,
    "start_time": "2022-05-05T10:49:54.650Z"
   },
   {
    "duration": 502,
    "start_time": "2022-05-05T10:50:17.278Z"
   },
   {
    "duration": 25,
    "start_time": "2022-05-05T10:50:28.219Z"
   },
   {
    "duration": 47,
    "start_time": "2022-05-05T10:51:08.989Z"
   },
   {
    "duration": 26,
    "start_time": "2022-05-05T10:51:34.806Z"
   },
   {
    "duration": 18,
    "start_time": "2022-05-05T10:52:07.309Z"
   },
   {
    "duration": 22,
    "start_time": "2022-05-05T10:52:20.366Z"
   },
   {
    "duration": 17,
    "start_time": "2022-05-05T10:52:46.089Z"
   },
   {
    "duration": 34,
    "start_time": "2022-05-05T10:53:38.703Z"
   },
   {
    "duration": 18,
    "start_time": "2022-05-05T10:54:07.732Z"
   },
   {
    "duration": 19,
    "start_time": "2022-05-05T10:54:17.165Z"
   },
   {
    "duration": 25,
    "start_time": "2022-05-05T10:54:22.636Z"
   },
   {
    "duration": 18,
    "start_time": "2022-05-05T10:54:27.997Z"
   },
   {
    "duration": 35,
    "start_time": "2022-05-05T10:56:17.441Z"
   },
   {
    "duration": 28,
    "start_time": "2022-05-05T10:56:28.255Z"
   },
   {
    "duration": 17,
    "start_time": "2022-05-05T10:56:47.155Z"
   },
   {
    "duration": 41,
    "start_time": "2022-05-05T10:57:38.883Z"
   },
   {
    "duration": 22,
    "start_time": "2022-05-05T10:57:51.514Z"
   },
   {
    "duration": 17,
    "start_time": "2022-05-05T10:58:08.871Z"
   },
   {
    "duration": 3596,
    "start_time": "2022-05-05T10:59:34.611Z"
   },
   {
    "duration": 13,
    "start_time": "2022-05-05T11:00:14.986Z"
   },
   {
    "duration": 36,
    "start_time": "2022-05-05T11:01:14.451Z"
   },
   {
    "duration": 16,
    "start_time": "2022-05-05T11:01:43.427Z"
   },
   {
    "duration": 17,
    "start_time": "2022-05-05T11:05:35.073Z"
   },
   {
    "duration": 21,
    "start_time": "2022-05-05T11:06:04.687Z"
   },
   {
    "duration": 13,
    "start_time": "2022-05-05T11:06:13.578Z"
   },
   {
    "duration": 21,
    "start_time": "2022-05-05T11:07:28.307Z"
   },
   {
    "duration": 19,
    "start_time": "2022-05-05T11:07:42.208Z"
   },
   {
    "duration": 19,
    "start_time": "2022-05-05T11:08:07.770Z"
   },
   {
    "duration": 26,
    "start_time": "2022-05-05T11:09:50.631Z"
   },
   {
    "duration": 21,
    "start_time": "2022-05-05T11:10:14.810Z"
   },
   {
    "duration": 12,
    "start_time": "2022-05-05T11:10:32.155Z"
   },
   {
    "duration": 14,
    "start_time": "2022-05-05T11:10:46.982Z"
   },
   {
    "duration": 15,
    "start_time": "2022-05-05T11:10:53.923Z"
   },
   {
    "duration": 22,
    "start_time": "2022-05-05T11:11:05.615Z"
   },
   {
    "duration": 0,
    "start_time": "2022-05-05T11:13:25.566Z"
   },
   {
    "duration": 26,
    "start_time": "2022-05-05T11:14:05.335Z"
   },
   {
    "duration": 1556,
    "start_time": "2022-05-05T11:14:36.677Z"
   },
   {
    "duration": 24,
    "start_time": "2022-05-05T11:15:16.929Z"
   },
   {
    "duration": 37,
    "start_time": "2022-05-05T11:16:07.029Z"
   },
   {
    "duration": 22,
    "start_time": "2022-05-05T11:16:20.902Z"
   },
   {
    "duration": 20,
    "start_time": "2022-05-05T11:19:00.960Z"
   },
   {
    "duration": 22,
    "start_time": "2022-05-05T11:19:27.068Z"
   },
   {
    "duration": 15,
    "start_time": "2022-05-05T11:20:56.162Z"
   },
   {
    "duration": 365,
    "start_time": "2022-05-05T11:22:06.485Z"
   },
   {
    "duration": 14,
    "start_time": "2022-05-05T11:23:14.155Z"
   },
   {
    "duration": 252,
    "start_time": "2022-05-05T11:23:20.253Z"
   },
   {
    "duration": 29,
    "start_time": "2022-05-05T11:31:21.969Z"
   },
   {
    "duration": 23,
    "start_time": "2022-05-05T11:32:00.016Z"
   },
   {
    "duration": 32,
    "start_time": "2022-05-05T11:32:48.736Z"
   },
   {
    "duration": 33,
    "start_time": "2022-05-05T11:33:32.648Z"
   },
   {
    "duration": 31,
    "start_time": "2022-05-05T11:33:53.765Z"
   },
   {
    "duration": 28,
    "start_time": "2022-05-05T11:34:02.614Z"
   },
   {
    "duration": 28,
    "start_time": "2022-05-05T11:34:11.354Z"
   },
   {
    "duration": 23,
    "start_time": "2022-05-05T11:34:25.163Z"
   },
   {
    "duration": 20,
    "start_time": "2022-05-05T11:34:43.821Z"
   },
   {
    "duration": 47,
    "start_time": "2022-05-05T11:39:51.429Z"
   },
   {
    "duration": 267,
    "start_time": "2022-05-05T11:40:18.164Z"
   },
   {
    "duration": 36,
    "start_time": "2022-05-05T11:40:40.366Z"
   },
   {
    "duration": 355,
    "start_time": "2022-05-05T11:40:43.700Z"
   },
   {
    "duration": 262,
    "start_time": "2022-05-05T11:42:06.273Z"
   },
   {
    "duration": 257,
    "start_time": "2022-05-05T11:43:09.515Z"
   },
   {
    "duration": 254,
    "start_time": "2022-05-05T11:45:07.380Z"
   },
   {
    "duration": 268,
    "start_time": "2022-05-05T11:46:13.877Z"
   },
   {
    "duration": 249,
    "start_time": "2022-05-05T11:47:10.599Z"
   },
   {
    "duration": 273,
    "start_time": "2022-05-05T11:47:45.871Z"
   },
   {
    "duration": 5,
    "start_time": "2022-05-05T11:51:25.254Z"
   },
   {
    "duration": 222,
    "start_time": "2022-05-05T11:51:25.262Z"
   },
   {
    "duration": 54,
    "start_time": "2022-05-05T11:51:25.487Z"
   },
   {
    "duration": 58,
    "start_time": "2022-05-05T11:51:25.545Z"
   },
   {
    "duration": 12,
    "start_time": "2022-05-05T11:51:25.606Z"
   },
   {
    "duration": 8,
    "start_time": "2022-05-05T11:51:25.621Z"
   },
   {
    "duration": 11,
    "start_time": "2022-05-05T11:51:25.632Z"
   },
   {
    "duration": 47,
    "start_time": "2022-05-05T11:51:25.646Z"
   },
   {
    "duration": 19,
    "start_time": "2022-05-05T11:51:25.696Z"
   },
   {
    "duration": 19,
    "start_time": "2022-05-05T11:51:25.717Z"
   },
   {
    "duration": 27,
    "start_time": "2022-05-05T11:51:25.738Z"
   },
   {
    "duration": 492,
    "start_time": "2022-05-05T11:51:25.768Z"
   },
   {
    "duration": 45,
    "start_time": "2022-05-05T11:51:26.262Z"
   },
   {
    "duration": 392,
    "start_time": "2022-05-05T11:51:26.313Z"
   },
   {
    "duration": 68,
    "start_time": "2022-05-06T07:28:09.667Z"
   },
   {
    "duration": 1905,
    "start_time": "2022-05-06T07:28:17.577Z"
   },
   {
    "duration": 191,
    "start_time": "2022-05-06T07:28:19.484Z"
   },
   {
    "duration": 34,
    "start_time": "2022-05-06T07:28:19.677Z"
   },
   {
    "duration": 31,
    "start_time": "2022-05-06T07:28:19.713Z"
   },
   {
    "duration": 13,
    "start_time": "2022-05-06T07:28:19.747Z"
   },
   {
    "duration": 36,
    "start_time": "2022-05-06T07:28:19.762Z"
   },
   {
    "duration": 9,
    "start_time": "2022-05-06T07:28:19.800Z"
   },
   {
    "duration": 4,
    "start_time": "2022-05-06T07:28:19.811Z"
   },
   {
    "duration": 9,
    "start_time": "2022-05-06T07:28:19.818Z"
   },
   {
    "duration": 14,
    "start_time": "2022-05-06T07:28:19.830Z"
   },
   {
    "duration": 18,
    "start_time": "2022-05-06T07:28:19.894Z"
   },
   {
    "duration": 484,
    "start_time": "2022-05-06T07:28:19.914Z"
   },
   {
    "duration": 22,
    "start_time": "2022-05-06T07:28:20.400Z"
   },
   {
    "duration": 289,
    "start_time": "2022-05-06T07:28:20.425Z"
   },
   {
    "duration": 25,
    "start_time": "2022-05-06T07:28:20.716Z"
   },
   {
    "duration": 25,
    "start_time": "2022-05-06T07:28:41.326Z"
   },
   {
    "duration": 23,
    "start_time": "2022-05-06T07:28:56.424Z"
   },
   {
    "duration": 24,
    "start_time": "2022-05-06T07:29:14.168Z"
   },
   {
    "duration": 26,
    "start_time": "2022-05-06T07:29:31.408Z"
   },
   {
    "duration": 36,
    "start_time": "2022-05-06T07:30:01.150Z"
   },
   {
    "duration": 27,
    "start_time": "2022-05-06T07:31:00.210Z"
   },
   {
    "duration": 19,
    "start_time": "2022-05-06T07:31:12.326Z"
   },
   {
    "duration": 285,
    "start_time": "2022-05-06T07:44:36.605Z"
   },
   {
    "duration": 101,
    "start_time": "2022-05-06T07:44:49.264Z"
   },
   {
    "duration": 17,
    "start_time": "2022-05-06T07:44:59.303Z"
   },
   {
    "duration": 21,
    "start_time": "2022-05-06T07:46:06.875Z"
   },
   {
    "duration": 20,
    "start_time": "2022-05-06T07:46:12.268Z"
   },
   {
    "duration": 1052,
    "start_time": "2022-05-06T07:46:18.884Z"
   },
   {
    "duration": 209,
    "start_time": "2022-05-06T07:46:54.773Z"
   },
   {
    "duration": 1126,
    "start_time": "2022-05-06T07:47:01.834Z"
   },
   {
    "duration": 725,
    "start_time": "2022-05-06T07:47:44.677Z"
   },
   {
    "duration": 126,
    "start_time": "2022-05-06T07:50:32.432Z"
   },
   {
    "duration": 44,
    "start_time": "2022-05-06T07:52:05.131Z"
   },
   {
    "duration": 535,
    "start_time": "2022-05-06T07:52:22.132Z"
   },
   {
    "duration": 560,
    "start_time": "2022-05-06T07:52:34.973Z"
   },
   {
    "duration": 502,
    "start_time": "2022-05-06T07:55:50.908Z"
   },
   {
    "duration": 18,
    "start_time": "2022-05-06T07:57:03.622Z"
   },
   {
    "duration": 294,
    "start_time": "2022-05-06T07:57:12.275Z"
   },
   {
    "duration": 188,
    "start_time": "2022-05-06T07:57:32.535Z"
   },
   {
    "duration": 303,
    "start_time": "2022-05-06T07:57:41.614Z"
   },
   {
    "duration": 26,
    "start_time": "2022-05-06T07:58:00.822Z"
   },
   {
    "duration": 391,
    "start_time": "2022-05-06T08:11:28.851Z"
   },
   {
    "duration": 352,
    "start_time": "2022-05-06T08:11:40.104Z"
   },
   {
    "duration": 0,
    "start_time": "2022-05-06T08:17:31.549Z"
   },
   {
    "duration": 0,
    "start_time": "2022-05-06T08:17:31.551Z"
   },
   {
    "duration": 0,
    "start_time": "2022-05-06T08:17:31.552Z"
   },
   {
    "duration": 0,
    "start_time": "2022-05-06T08:17:31.554Z"
   },
   {
    "duration": 0,
    "start_time": "2022-05-06T08:17:31.555Z"
   },
   {
    "duration": 0,
    "start_time": "2022-05-06T08:17:31.556Z"
   },
   {
    "duration": 0,
    "start_time": "2022-05-06T08:17:31.558Z"
   },
   {
    "duration": 0,
    "start_time": "2022-05-06T08:17:31.560Z"
   },
   {
    "duration": 0,
    "start_time": "2022-05-06T08:17:31.604Z"
   },
   {
    "duration": 0,
    "start_time": "2022-05-06T08:17:31.606Z"
   },
   {
    "duration": 0,
    "start_time": "2022-05-06T08:17:31.608Z"
   },
   {
    "duration": 0,
    "start_time": "2022-05-06T08:17:31.609Z"
   },
   {
    "duration": 0,
    "start_time": "2022-05-06T08:17:31.611Z"
   },
   {
    "duration": 0,
    "start_time": "2022-05-06T08:17:31.612Z"
   },
   {
    "duration": 0,
    "start_time": "2022-05-06T08:17:31.614Z"
   },
   {
    "duration": 0,
    "start_time": "2022-05-06T08:17:31.616Z"
   },
   {
    "duration": 25,
    "start_time": "2022-05-06T08:18:15.516Z"
   },
   {
    "duration": 13,
    "start_time": "2022-05-06T08:18:16.009Z"
   },
   {
    "duration": 415,
    "start_time": "2022-05-06T08:18:31.207Z"
   },
   {
    "duration": 19,
    "start_time": "2022-05-06T08:19:06.842Z"
   },
   {
    "duration": 329,
    "start_time": "2022-05-06T08:19:13.233Z"
   },
   {
    "duration": 367,
    "start_time": "2022-05-06T08:19:40.709Z"
   },
   {
    "duration": 378,
    "start_time": "2022-05-06T08:19:55.605Z"
   },
   {
    "duration": 349,
    "start_time": "2022-05-06T08:22:32.489Z"
   },
   {
    "duration": 3647,
    "start_time": "2022-05-06T08:22:49.514Z"
   },
   {
    "duration": 335,
    "start_time": "2022-05-06T08:23:06.080Z"
   },
   {
    "duration": 356,
    "start_time": "2022-05-06T08:23:41.183Z"
   },
   {
    "duration": 12,
    "start_time": "2022-05-06T08:24:12.640Z"
   },
   {
    "duration": 319,
    "start_time": "2022-05-06T08:24:29.270Z"
   },
   {
    "duration": 341,
    "start_time": "2022-05-06T08:24:41.007Z"
   },
   {
    "duration": 327,
    "start_time": "2022-05-06T08:32:48.320Z"
   },
   {
    "duration": 387,
    "start_time": "2022-05-06T08:33:07.068Z"
   },
   {
    "duration": 414,
    "start_time": "2022-05-06T08:33:18.387Z"
   },
   {
    "duration": 383,
    "start_time": "2022-05-06T08:33:29.893Z"
   },
   {
    "duration": 382,
    "start_time": "2022-05-06T08:33:36.743Z"
   },
   {
    "duration": 20,
    "start_time": "2022-05-06T08:34:28.754Z"
   },
   {
    "duration": 22,
    "start_time": "2022-05-06T08:35:13.859Z"
   },
   {
    "duration": 22,
    "start_time": "2022-05-06T08:35:36.024Z"
   },
   {
    "duration": 28,
    "start_time": "2022-05-06T08:35:44.185Z"
   },
   {
    "duration": 21,
    "start_time": "2022-05-06T08:35:53.214Z"
   },
   {
    "duration": 367,
    "start_time": "2022-05-06T08:35:59.302Z"
   },
   {
    "duration": 21,
    "start_time": "2022-05-06T08:36:25.527Z"
   },
   {
    "duration": 333,
    "start_time": "2022-05-06T08:36:28.972Z"
   },
   {
    "duration": 21,
    "start_time": "2022-05-06T08:36:50.932Z"
   },
   {
    "duration": 348,
    "start_time": "2022-05-06T08:36:53.783Z"
   },
   {
    "duration": 23,
    "start_time": "2022-05-06T08:37:21.494Z"
   },
   {
    "duration": 329,
    "start_time": "2022-05-06T08:37:22.160Z"
   },
   {
    "duration": 243,
    "start_time": "2022-05-06T08:38:03.311Z"
   },
   {
    "duration": 232,
    "start_time": "2022-05-06T08:38:14.985Z"
   },
   {
    "duration": 196,
    "start_time": "2022-05-06T08:38:21.852Z"
   },
   {
    "duration": 343,
    "start_time": "2022-05-06T08:38:30.690Z"
   },
   {
    "duration": 206,
    "start_time": "2022-05-06T08:42:00.665Z"
   },
   {
    "duration": 21,
    "start_time": "2022-05-06T08:42:09.235Z"
   },
   {
    "duration": 202,
    "start_time": "2022-05-06T08:42:31.677Z"
   },
   {
    "duration": 329,
    "start_time": "2022-05-06T08:42:43.557Z"
   },
   {
    "duration": 17,
    "start_time": "2022-05-06T08:43:10.520Z"
   },
   {
    "duration": 3409,
    "start_time": "2022-05-06T08:43:22.180Z"
   },
   {
    "duration": 203,
    "start_time": "2022-05-06T08:43:36.679Z"
   },
   {
    "duration": 324,
    "start_time": "2022-05-06T08:43:44.746Z"
   },
   {
    "duration": 22,
    "start_time": "2022-05-06T08:44:26.711Z"
   },
   {
    "duration": 329,
    "start_time": "2022-05-06T08:44:32.348Z"
   },
   {
    "duration": 359,
    "start_time": "2022-05-06T08:48:45.249Z"
   },
   {
    "duration": 300,
    "start_time": "2022-05-06T08:49:11.757Z"
   },
   {
    "duration": 378,
    "start_time": "2022-05-06T08:49:25.185Z"
   },
   {
    "duration": 4,
    "start_time": "2022-05-06T08:56:19.750Z"
   },
   {
    "duration": 165,
    "start_time": "2022-05-06T08:56:19.757Z"
   },
   {
    "duration": 31,
    "start_time": "2022-05-06T08:56:19.924Z"
   },
   {
    "duration": 56,
    "start_time": "2022-05-06T08:56:19.958Z"
   },
   {
    "duration": 11,
    "start_time": "2022-05-06T08:56:20.016Z"
   },
   {
    "duration": 11,
    "start_time": "2022-05-06T08:56:20.029Z"
   },
   {
    "duration": 11,
    "start_time": "2022-05-06T08:56:20.042Z"
   },
   {
    "duration": 4,
    "start_time": "2022-05-06T08:56:20.056Z"
   },
   {
    "duration": 9,
    "start_time": "2022-05-06T08:56:20.094Z"
   },
   {
    "duration": 19,
    "start_time": "2022-05-06T08:56:20.105Z"
   },
   {
    "duration": 24,
    "start_time": "2022-05-06T08:56:20.126Z"
   },
   {
    "duration": 477,
    "start_time": "2022-05-06T08:56:20.153Z"
   },
   {
    "duration": 21,
    "start_time": "2022-05-06T08:56:20.632Z"
   },
   {
    "duration": 291,
    "start_time": "2022-05-06T08:56:20.655Z"
   },
   {
    "duration": 20,
    "start_time": "2022-05-06T08:56:20.949Z"
   },
   {
    "duration": 355,
    "start_time": "2022-05-06T08:56:20.971Z"
   },
   {
    "duration": 206,
    "start_time": "2022-05-06T08:57:34.606Z"
   },
   {
    "duration": 24,
    "start_time": "2022-05-06T08:57:39.508Z"
   },
   {
    "duration": 402,
    "start_time": "2022-05-06T08:57:51.091Z"
   },
   {
    "duration": 502,
    "start_time": "2022-05-06T08:58:07.482Z"
   },
   {
    "duration": 337,
    "start_time": "2022-05-06T09:02:58.807Z"
   },
   {
    "duration": 327,
    "start_time": "2022-05-06T09:03:12.584Z"
   },
   {
    "duration": 326,
    "start_time": "2022-05-06T09:03:28.267Z"
   },
   {
    "duration": 1103,
    "start_time": "2022-05-06T09:05:55.610Z"
   },
   {
    "duration": 407,
    "start_time": "2022-05-06T09:06:25.375Z"
   },
   {
    "duration": 353,
    "start_time": "2022-05-06T09:06:47.574Z"
   },
   {
    "duration": 244,
    "start_time": "2022-05-06T09:07:34.492Z"
   },
   {
    "duration": 577,
    "start_time": "2022-05-06T09:07:49.183Z"
   },
   {
    "duration": 5,
    "start_time": "2022-05-06T09:08:28.933Z"
   },
   {
    "duration": 235,
    "start_time": "2022-05-06T09:08:36.216Z"
   },
   {
    "duration": 420,
    "start_time": "2022-05-06T09:08:49.017Z"
   },
   {
    "duration": 31,
    "start_time": "2022-05-06T09:09:46.052Z"
   },
   {
    "duration": 348,
    "start_time": "2022-05-06T09:09:46.943Z"
   },
   {
    "duration": 518,
    "start_time": "2022-05-06T09:09:48.251Z"
   },
   {
    "duration": 17,
    "start_time": "2022-05-06T09:11:17.016Z"
   },
   {
    "duration": 16,
    "start_time": "2022-05-06T09:11:23.282Z"
   },
   {
    "duration": 462,
    "start_time": "2022-05-06T09:11:30.147Z"
   },
   {
    "duration": 16,
    "start_time": "2022-05-06T09:12:41.630Z"
   },
   {
    "duration": 207,
    "start_time": "2022-05-06T09:12:53.394Z"
   },
   {
    "duration": 235,
    "start_time": "2022-05-06T09:13:00.920Z"
   },
   {
    "duration": 345,
    "start_time": "2022-05-06T09:13:12.389Z"
   },
   {
    "duration": 19,
    "start_time": "2022-05-06T09:14:21.538Z"
   },
   {
    "duration": 22,
    "start_time": "2022-05-06T09:15:29.402Z"
   },
   {
    "duration": 22,
    "start_time": "2022-05-06T09:15:39.070Z"
   },
   {
    "duration": 359,
    "start_time": "2022-05-06T09:16:11.943Z"
   },
   {
    "duration": 301,
    "start_time": "2022-05-06T09:17:53.392Z"
   },
   {
    "duration": 379,
    "start_time": "2022-05-06T09:18:03.423Z"
   },
   {
    "duration": 290,
    "start_time": "2022-05-06T09:18:20.369Z"
   },
   {
    "duration": 17,
    "start_time": "2022-05-06T09:18:39.216Z"
   },
   {
    "duration": 15,
    "start_time": "2022-05-06T09:18:47.770Z"
   },
   {
    "duration": 379,
    "start_time": "2022-05-06T09:23:15.383Z"
   },
   {
    "duration": 39,
    "start_time": "2022-05-06T09:24:50.901Z"
   },
   {
    "duration": 17,
    "start_time": "2022-05-06T09:26:16.104Z"
   },
   {
    "duration": 49,
    "start_time": "2022-05-06T12:16:13.097Z"
   },
   {
    "duration": 1450,
    "start_time": "2022-05-06T12:16:17.700Z"
   },
   {
    "duration": 123,
    "start_time": "2022-05-06T12:16:19.153Z"
   },
   {
    "duration": 25,
    "start_time": "2022-05-06T12:16:19.278Z"
   },
   {
    "duration": 22,
    "start_time": "2022-05-06T12:16:19.306Z"
   },
   {
    "duration": 30,
    "start_time": "2022-05-06T12:16:19.330Z"
   },
   {
    "duration": 5,
    "start_time": "2022-05-06T12:16:19.362Z"
   },
   {
    "duration": 21,
    "start_time": "2022-05-06T12:16:19.369Z"
   },
   {
    "duration": 15,
    "start_time": "2022-05-06T12:16:19.392Z"
   },
   {
    "duration": 27,
    "start_time": "2022-05-06T12:16:19.409Z"
   },
   {
    "duration": 16,
    "start_time": "2022-05-06T12:16:19.438Z"
   },
   {
    "duration": 25,
    "start_time": "2022-05-06T12:16:19.456Z"
   },
   {
    "duration": 287,
    "start_time": "2022-05-06T12:16:19.483Z"
   },
   {
    "duration": 16,
    "start_time": "2022-05-06T12:16:19.771Z"
   },
   {
    "duration": 170,
    "start_time": "2022-05-06T12:16:19.789Z"
   },
   {
    "duration": 16,
    "start_time": "2022-05-06T12:16:19.960Z"
   },
   {
    "duration": 209,
    "start_time": "2022-05-06T12:16:19.978Z"
   },
   {
    "duration": 219,
    "start_time": "2022-05-06T12:16:20.189Z"
   },
   {
    "duration": 218,
    "start_time": "2022-05-06T12:20:26.600Z"
   },
   {
    "duration": 204,
    "start_time": "2022-05-06T12:20:39.209Z"
   },
   {
    "duration": 208,
    "start_time": "2022-05-06T12:25:05.854Z"
   },
   {
    "duration": 283,
    "start_time": "2022-05-06T12:25:58.014Z"
   },
   {
    "duration": 86,
    "start_time": "2022-05-06T12:26:55.805Z"
   },
   {
    "duration": 203,
    "start_time": "2022-05-06T12:27:26.046Z"
   },
   {
    "duration": 155,
    "start_time": "2022-05-06T12:27:52.331Z"
   },
   {
    "duration": 27,
    "start_time": "2022-05-06T12:28:10.592Z"
   },
   {
    "duration": 205,
    "start_time": "2022-05-06T12:28:28.059Z"
   },
   {
    "duration": 27,
    "start_time": "2022-05-06T12:30:33.126Z"
   },
   {
    "duration": 26,
    "start_time": "2022-05-06T12:31:11.390Z"
   },
   {
    "duration": 208,
    "start_time": "2022-05-06T12:31:43.593Z"
   },
   {
    "duration": 205,
    "start_time": "2022-05-06T12:32:13.710Z"
   },
   {
    "duration": 199,
    "start_time": "2022-05-06T12:32:34.293Z"
   },
   {
    "duration": 203,
    "start_time": "2022-05-06T12:33:00.586Z"
   },
   {
    "duration": 297,
    "start_time": "2022-05-06T12:33:38.185Z"
   },
   {
    "duration": 152,
    "start_time": "2022-05-06T12:34:20.849Z"
   },
   {
    "duration": 195,
    "start_time": "2022-05-06T12:34:26.323Z"
   },
   {
    "duration": 207,
    "start_time": "2022-05-06T12:34:45.006Z"
   },
   {
    "duration": 205,
    "start_time": "2022-05-06T12:37:02.747Z"
   },
   {
    "duration": 215,
    "start_time": "2022-05-06T12:38:19.950Z"
   },
   {
    "duration": 197,
    "start_time": "2022-05-06T12:39:03.694Z"
   },
   {
    "duration": 201,
    "start_time": "2022-05-06T12:39:31.748Z"
   },
   {
    "duration": 225,
    "start_time": "2022-05-06T12:39:53.720Z"
   },
   {
    "duration": 200,
    "start_time": "2022-05-06T12:40:00.498Z"
   },
   {
    "duration": 308,
    "start_time": "2022-05-06T12:40:31.161Z"
   },
   {
    "duration": 206,
    "start_time": "2022-05-06T12:40:37.430Z"
   },
   {
    "duration": 313,
    "start_time": "2022-05-06T12:40:57.265Z"
   },
   {
    "duration": 213,
    "start_time": "2022-05-06T12:43:30.445Z"
   },
   {
    "duration": 211,
    "start_time": "2022-05-06T12:43:38.615Z"
   },
   {
    "duration": 16,
    "start_time": "2022-05-06T13:10:08.466Z"
   },
   {
    "duration": 292,
    "start_time": "2022-05-06T13:10:49.801Z"
   },
   {
    "duration": 155,
    "start_time": "2022-05-06T13:26:47.566Z"
   },
   {
    "duration": 4,
    "start_time": "2022-05-06T13:28:56.705Z"
   },
   {
    "duration": 137,
    "start_time": "2022-05-06T13:31:34.563Z"
   },
   {
    "duration": 303,
    "start_time": "2022-05-06T13:31:43.428Z"
   },
   {
    "duration": 214,
    "start_time": "2022-05-06T13:31:58.052Z"
   },
   {
    "duration": 230,
    "start_time": "2022-05-06T13:32:07.041Z"
   },
   {
    "duration": 207,
    "start_time": "2022-05-06T13:32:32.903Z"
   },
   {
    "duration": 216,
    "start_time": "2022-05-06T13:33:07.851Z"
   },
   {
    "duration": 276,
    "start_time": "2022-05-06T13:33:51.956Z"
   },
   {
    "duration": 211,
    "start_time": "2022-05-06T13:34:09.672Z"
   },
   {
    "duration": 215,
    "start_time": "2022-05-06T13:34:15.776Z"
   },
   {
    "duration": 14,
    "start_time": "2022-05-06T13:34:25.724Z"
   },
   {
    "duration": 210,
    "start_time": "2022-05-06T13:34:26.673Z"
   },
   {
    "duration": 217,
    "start_time": "2022-05-06T13:34:37.196Z"
   },
   {
    "duration": 17,
    "start_time": "2022-05-06T13:40:11.636Z"
   },
   {
    "duration": 343,
    "start_time": "2022-05-06T13:40:50.534Z"
   },
   {
    "duration": 25,
    "start_time": "2022-05-06T13:44:52.043Z"
   },
   {
    "duration": 12,
    "start_time": "2022-05-06T13:46:11.198Z"
   },
   {
    "duration": 15,
    "start_time": "2022-05-06T13:46:31.622Z"
   },
   {
    "duration": 226,
    "start_time": "2022-05-06T13:46:59.097Z"
   },
   {
    "duration": 18,
    "start_time": "2022-05-06T13:47:11.227Z"
   },
   {
    "duration": 15,
    "start_time": "2022-05-06T13:47:27.148Z"
   },
   {
    "duration": 20,
    "start_time": "2022-05-06T13:47:42.543Z"
   },
   {
    "duration": 22,
    "start_time": "2022-05-06T13:50:39.979Z"
   },
   {
    "duration": 382,
    "start_time": "2022-05-06T13:51:30.559Z"
   },
   {
    "duration": 271,
    "start_time": "2022-05-06T13:51:36.227Z"
   },
   {
    "duration": 157,
    "start_time": "2022-05-06T13:52:14.032Z"
   },
   {
    "duration": 194,
    "start_time": "2022-05-06T13:52:27.443Z"
   },
   {
    "duration": 145,
    "start_time": "2022-05-06T13:52:35.568Z"
   },
   {
    "duration": 148,
    "start_time": "2022-05-06T13:53:39.836Z"
   },
   {
    "duration": 167,
    "start_time": "2022-05-06T13:53:50.926Z"
   },
   {
    "duration": 145,
    "start_time": "2022-05-06T13:53:57.975Z"
   },
   {
    "duration": 162,
    "start_time": "2022-05-06T13:54:10.434Z"
   },
   {
    "duration": 17,
    "start_time": "2022-05-06T13:56:00.992Z"
   },
   {
    "duration": 16,
    "start_time": "2022-05-06T13:57:23.088Z"
   },
   {
    "duration": 359,
    "start_time": "2022-05-06T13:58:12.715Z"
   },
   {
    "duration": 117,
    "start_time": "2022-05-06T13:59:06.246Z"
   },
   {
    "duration": 17,
    "start_time": "2022-05-06T14:00:07.423Z"
   },
   {
    "duration": 222,
    "start_time": "2022-05-06T14:00:26.911Z"
   },
   {
    "duration": 231,
    "start_time": "2022-05-06T14:00:30.591Z"
   },
   {
    "duration": 157,
    "start_time": "2022-05-06T14:01:02.123Z"
   },
   {
    "duration": 3,
    "start_time": "2022-05-06T14:07:12.963Z"
   },
   {
    "duration": 123,
    "start_time": "2022-05-06T14:07:12.968Z"
   },
   {
    "duration": 19,
    "start_time": "2022-05-06T14:07:13.093Z"
   },
   {
    "duration": 22,
    "start_time": "2022-05-06T14:07:13.113Z"
   },
   {
    "duration": 8,
    "start_time": "2022-05-06T14:07:13.155Z"
   },
   {
    "duration": 5,
    "start_time": "2022-05-06T14:07:13.165Z"
   },
   {
    "duration": 9,
    "start_time": "2022-05-06T14:07:13.172Z"
   },
   {
    "duration": 4,
    "start_time": "2022-05-06T14:07:13.183Z"
   },
   {
    "duration": 10,
    "start_time": "2022-05-06T14:07:13.188Z"
   },
   {
    "duration": 4,
    "start_time": "2022-05-06T14:07:13.200Z"
   },
   {
    "duration": 10,
    "start_time": "2022-05-06T14:07:13.206Z"
   },
   {
    "duration": 43,
    "start_time": "2022-05-06T14:07:13.217Z"
   },
   {
    "duration": 281,
    "start_time": "2022-05-06T14:07:13.262Z"
   },
   {
    "duration": 20,
    "start_time": "2022-05-06T14:07:13.545Z"
   },
   {
    "duration": 168,
    "start_time": "2022-05-06T14:07:13.567Z"
   },
   {
    "duration": 24,
    "start_time": "2022-05-06T14:07:13.736Z"
   },
   {
    "duration": 226,
    "start_time": "2022-05-06T14:07:13.762Z"
   },
   {
    "duration": 2297,
    "start_time": "2022-05-06T14:07:13.989Z"
   },
   {
    "duration": 137,
    "start_time": "2022-05-06T14:07:27.427Z"
   },
   {
    "duration": 131,
    "start_time": "2022-05-06T14:07:59.626Z"
   },
   {
    "duration": 134,
    "start_time": "2022-05-06T14:10:35.024Z"
   },
   {
    "duration": 154,
    "start_time": "2022-05-06T14:12:10.751Z"
   },
   {
    "duration": 324,
    "start_time": "2022-05-06T14:13:08.488Z"
   },
   {
    "duration": 161,
    "start_time": "2022-05-06T14:13:19.882Z"
   },
   {
    "duration": 161,
    "start_time": "2022-05-06T14:13:28.164Z"
   },
   {
    "duration": 288,
    "start_time": "2022-05-06T14:18:27.531Z"
   },
   {
    "duration": 178,
    "start_time": "2022-05-06T14:18:58.544Z"
   },
   {
    "duration": 152,
    "start_time": "2022-05-06T14:19:10.843Z"
   },
   {
    "duration": 153,
    "start_time": "2022-05-06T14:21:52.754Z"
   },
   {
    "duration": 158,
    "start_time": "2022-05-06T14:21:57.877Z"
   },
   {
    "duration": 158,
    "start_time": "2022-05-06T14:22:34.890Z"
   },
   {
    "duration": 151,
    "start_time": "2022-05-06T14:24:53.599Z"
   },
   {
    "duration": 154,
    "start_time": "2022-05-06T14:25:12.943Z"
   },
   {
    "duration": 155,
    "start_time": "2022-05-06T14:25:50.042Z"
   },
   {
    "duration": 16,
    "start_time": "2022-05-06T14:26:51.767Z"
   },
   {
    "duration": 151,
    "start_time": "2022-05-06T14:27:01.331Z"
   },
   {
    "duration": 149,
    "start_time": "2022-05-06T14:28:10.843Z"
   },
   {
    "duration": 148,
    "start_time": "2022-05-06T14:29:08.851Z"
   },
   {
    "duration": 338,
    "start_time": "2022-05-06T14:29:22.241Z"
   },
   {
    "duration": 183,
    "start_time": "2022-05-06T14:29:38.357Z"
   },
   {
    "duration": 160,
    "start_time": "2022-05-06T14:30:06.299Z"
   },
   {
    "duration": 154,
    "start_time": "2022-05-06T14:33:05.723Z"
   },
   {
    "duration": 191,
    "start_time": "2022-05-06T14:33:52.247Z"
   },
   {
    "duration": 191,
    "start_time": "2022-05-06T14:35:44.803Z"
   },
   {
    "duration": 180,
    "start_time": "2022-05-06T14:36:47.009Z"
   },
   {
    "duration": 177,
    "start_time": "2022-05-06T14:36:54.503Z"
   },
   {
    "duration": 138,
    "start_time": "2022-05-06T14:45:56.172Z"
   },
   {
    "duration": 229,
    "start_time": "2022-05-06T14:46:07.783Z"
   },
   {
    "duration": 264,
    "start_time": "2022-05-06T14:46:18.440Z"
   },
   {
    "duration": 260,
    "start_time": "2022-05-06T14:46:50.396Z"
   },
   {
    "duration": 285,
    "start_time": "2022-05-06T14:46:59.154Z"
   },
   {
    "duration": 575,
    "start_time": "2022-05-06T14:47:07.342Z"
   },
   {
    "duration": 272,
    "start_time": "2022-05-06T14:47:21.499Z"
   },
   {
    "duration": 272,
    "start_time": "2022-05-06T14:47:48.967Z"
   },
   {
    "duration": 251,
    "start_time": "2022-05-06T14:48:02.403Z"
   },
   {
    "duration": 250,
    "start_time": "2022-05-06T14:49:06.982Z"
   },
   {
    "duration": 262,
    "start_time": "2022-05-06T14:49:35.611Z"
   },
   {
    "duration": 114,
    "start_time": "2022-05-06T14:50:26.905Z"
   },
   {
    "duration": 421,
    "start_time": "2022-05-06T14:51:01.964Z"
   },
   {
    "duration": 68,
    "start_time": "2022-05-06T19:20:04.654Z"
   },
   {
    "duration": 1899,
    "start_time": "2022-05-06T19:20:08.641Z"
   },
   {
    "duration": 571,
    "start_time": "2022-05-06T19:20:10.543Z"
   },
   {
    "duration": 97,
    "start_time": "2022-05-06T19:20:11.116Z"
   },
   {
    "duration": 81,
    "start_time": "2022-05-06T19:20:11.215Z"
   },
   {
    "duration": 11,
    "start_time": "2022-05-06T19:20:11.299Z"
   },
   {
    "duration": 8,
    "start_time": "2022-05-06T19:20:11.312Z"
   },
   {
    "duration": 11,
    "start_time": "2022-05-06T19:20:11.322Z"
   },
   {
    "duration": 9,
    "start_time": "2022-05-06T19:20:11.335Z"
   },
   {
    "duration": 52,
    "start_time": "2022-05-06T19:20:11.346Z"
   },
   {
    "duration": 22,
    "start_time": "2022-05-06T19:20:11.400Z"
   },
   {
    "duration": 17,
    "start_time": "2022-05-06T19:20:11.424Z"
   },
   {
    "duration": 72,
    "start_time": "2022-05-06T19:20:11.443Z"
   },
   {
    "duration": 904,
    "start_time": "2022-05-06T19:20:11.518Z"
   },
   {
    "duration": 73,
    "start_time": "2022-05-06T19:20:12.425Z"
   },
   {
    "duration": 501,
    "start_time": "2022-05-06T19:20:12.500Z"
   },
   {
    "duration": 19,
    "start_time": "2022-05-06T19:20:13.004Z"
   },
   {
    "duration": 630,
    "start_time": "2022-05-06T19:20:13.025Z"
   },
   {
    "duration": 307,
    "start_time": "2022-05-06T19:20:13.657Z"
   },
   {
    "duration": 499,
    "start_time": "2022-05-06T19:20:13.966Z"
   },
   {
    "duration": 440,
    "start_time": "2022-05-06T19:20:24.807Z"
   },
   {
    "duration": 372,
    "start_time": "2022-05-06T19:20:56.925Z"
   },
   {
    "duration": 381,
    "start_time": "2022-05-06T19:24:06.945Z"
   },
   {
    "duration": 204,
    "start_time": "2022-05-06T19:24:21.613Z"
   },
   {
    "duration": 371,
    "start_time": "2022-05-06T19:24:29.578Z"
   },
   {
    "duration": 215,
    "start_time": "2022-05-06T19:24:58.721Z"
   },
   {
    "duration": 140,
    "start_time": "2022-05-06T19:25:36.540Z"
   },
   {
    "duration": 177,
    "start_time": "2022-05-06T19:25:52.834Z"
   },
   {
    "duration": 362,
    "start_time": "2022-05-06T19:26:16.935Z"
   },
   {
    "duration": 14,
    "start_time": "2022-05-06T19:35:31.305Z"
   },
   {
    "duration": 18,
    "start_time": "2022-05-06T19:35:43.132Z"
   },
   {
    "duration": 367,
    "start_time": "2022-05-06T19:35:53.191Z"
   },
   {
    "duration": 545,
    "start_time": "2022-05-06T19:36:53.789Z"
   },
   {
    "duration": 210,
    "start_time": "2022-05-06T19:39:34.598Z"
   },
   {
    "duration": 27,
    "start_time": "2022-05-06T19:40:18.131Z"
   },
   {
    "duration": 589,
    "start_time": "2022-05-06T19:41:06.449Z"
   },
   {
    "duration": 237,
    "start_time": "2022-05-06T19:41:30.272Z"
   },
   {
    "duration": 179,
    "start_time": "2022-05-06T19:42:13.119Z"
   },
   {
    "duration": 391,
    "start_time": "2022-05-06T19:42:20.119Z"
   },
   {
    "duration": 581,
    "start_time": "2022-05-06T19:42:35.279Z"
   },
   {
    "duration": 355,
    "start_time": "2022-05-06T19:44:18.528Z"
   },
   {
    "duration": 373,
    "start_time": "2022-05-06T19:44:46.909Z"
   },
   {
    "duration": 368,
    "start_time": "2022-05-06T19:44:56.276Z"
   },
   {
    "duration": 511,
    "start_time": "2022-05-06T19:45:25.444Z"
   },
   {
    "duration": 360,
    "start_time": "2022-05-06T19:47:45.942Z"
   },
   {
    "duration": 567,
    "start_time": "2022-05-06T19:47:55.385Z"
   },
   {
    "duration": 574,
    "start_time": "2022-05-06T19:48:03.099Z"
   },
   {
    "duration": 404,
    "start_time": "2022-05-06T19:49:36.826Z"
   },
   {
    "duration": 416,
    "start_time": "2022-05-06T19:49:53.525Z"
   },
   {
    "duration": 436,
    "start_time": "2022-05-06T19:50:12.201Z"
   },
   {
    "duration": 410,
    "start_time": "2022-05-06T19:50:22.709Z"
   },
   {
    "duration": 577,
    "start_time": "2022-05-06T19:50:38.427Z"
   },
   {
    "duration": 399,
    "start_time": "2022-05-06T19:50:49.625Z"
   },
   {
    "duration": 401,
    "start_time": "2022-05-06T19:50:56.746Z"
   },
   {
    "duration": 509,
    "start_time": "2022-05-06T19:52:02.465Z"
   },
   {
    "duration": 666,
    "start_time": "2022-05-06T19:53:03.992Z"
   },
   {
    "duration": 398,
    "start_time": "2022-05-06T19:53:37.866Z"
   },
   {
    "duration": 409,
    "start_time": "2022-05-06T19:54:11.564Z"
   },
   {
    "duration": 278,
    "start_time": "2022-05-06T19:54:25.128Z"
   },
   {
    "duration": 575,
    "start_time": "2022-05-06T19:54:56.753Z"
   },
   {
    "duration": 631,
    "start_time": "2022-05-06T19:57:32.327Z"
   },
   {
    "duration": 403,
    "start_time": "2022-05-06T19:58:15.265Z"
   },
   {
    "duration": 401,
    "start_time": "2022-05-06T19:58:49.515Z"
   },
   {
    "duration": 411,
    "start_time": "2022-05-06T19:59:17.790Z"
   },
   {
    "duration": 412,
    "start_time": "2022-05-06T19:59:38.354Z"
   },
   {
    "duration": 404,
    "start_time": "2022-05-06T20:02:49.863Z"
   },
   {
    "duration": 411,
    "start_time": "2022-05-06T20:03:39.961Z"
   },
   {
    "duration": 406,
    "start_time": "2022-05-06T20:04:16.370Z"
   },
   {
    "duration": 558,
    "start_time": "2022-05-06T20:04:31.953Z"
   },
   {
    "duration": 414,
    "start_time": "2022-05-06T20:04:49.587Z"
   },
   {
    "duration": 409,
    "start_time": "2022-05-06T20:06:06.952Z"
   },
   {
    "duration": 414,
    "start_time": "2022-05-06T20:08:14.847Z"
   },
   {
    "duration": 397,
    "start_time": "2022-05-06T20:08:21.253Z"
   },
   {
    "duration": 27,
    "start_time": "2022-05-06T20:10:22.629Z"
   },
   {
    "duration": 26,
    "start_time": "2022-05-06T20:10:39.260Z"
   },
   {
    "duration": 27,
    "start_time": "2022-05-06T20:10:51.313Z"
   },
   {
    "duration": 730,
    "start_time": "2022-05-06T20:17:45.793Z"
   },
   {
    "duration": 500,
    "start_time": "2022-05-06T20:18:29.861Z"
   },
   {
    "duration": 833,
    "start_time": "2022-05-06T20:19:01.860Z"
   },
   {
    "duration": 703,
    "start_time": "2022-05-06T20:19:13.658Z"
   },
   {
    "duration": 734,
    "start_time": "2022-05-06T20:19:29.766Z"
   },
   {
    "duration": 745,
    "start_time": "2022-05-06T20:19:44.267Z"
   },
   {
    "duration": 796,
    "start_time": "2022-05-06T20:20:16.290Z"
   },
   {
    "duration": 314,
    "start_time": "2022-05-06T20:20:45.824Z"
   },
   {
    "duration": 314,
    "start_time": "2022-05-06T20:21:00.209Z"
   },
   {
    "duration": 1041,
    "start_time": "2022-05-06T20:24:52.774Z"
   },
   {
    "duration": 328,
    "start_time": "2022-05-06T20:25:36.256Z"
   },
   {
    "duration": 763,
    "start_time": "2022-05-06T20:25:53.156Z"
   },
   {
    "duration": 315,
    "start_time": "2022-05-06T20:30:47.152Z"
   },
   {
    "duration": 336,
    "start_time": "2022-05-06T20:31:00.577Z"
   },
   {
    "duration": 358,
    "start_time": "2022-05-06T20:31:11.422Z"
   },
   {
    "duration": 3239,
    "start_time": "2022-05-06T20:31:57.101Z"
   },
   {
    "duration": 5,
    "start_time": "2022-05-06T20:32:31.859Z"
   },
   {
    "duration": 50,
    "start_time": "2022-05-06T20:32:39.132Z"
   },
   {
    "duration": 14,
    "start_time": "2022-05-06T20:34:27.792Z"
   },
   {
    "duration": 11,
    "start_time": "2022-05-06T20:35:02.883Z"
   },
   {
    "duration": 14,
    "start_time": "2022-05-06T20:35:38.064Z"
   },
   {
    "duration": 69,
    "start_time": "2022-05-07T16:38:06.451Z"
   },
   {
    "duration": 1877,
    "start_time": "2022-05-07T16:38:10.974Z"
   },
   {
    "duration": 162,
    "start_time": "2022-05-07T16:38:12.854Z"
   },
   {
    "duration": 25,
    "start_time": "2022-05-07T16:38:13.018Z"
   },
   {
    "duration": 23,
    "start_time": "2022-05-07T16:38:13.045Z"
   },
   {
    "duration": 25,
    "start_time": "2022-05-07T16:38:13.070Z"
   },
   {
    "duration": 8,
    "start_time": "2022-05-07T16:38:13.097Z"
   },
   {
    "duration": 6,
    "start_time": "2022-05-07T16:38:13.107Z"
   },
   {
    "duration": 3,
    "start_time": "2022-05-07T16:38:13.115Z"
   },
   {
    "duration": 9,
    "start_time": "2022-05-07T16:38:13.120Z"
   },
   {
    "duration": 5,
    "start_time": "2022-05-07T16:38:13.130Z"
   },
   {
    "duration": 12,
    "start_time": "2022-05-07T16:38:13.136Z"
   },
   {
    "duration": 52,
    "start_time": "2022-05-07T16:38:13.149Z"
   },
   {
    "duration": 298,
    "start_time": "2022-05-07T16:38:13.203Z"
   },
   {
    "duration": 13,
    "start_time": "2022-05-07T16:38:13.504Z"
   },
   {
    "duration": 166,
    "start_time": "2022-05-07T16:38:13.519Z"
   },
   {
    "duration": 18,
    "start_time": "2022-05-07T16:38:13.686Z"
   },
   {
    "duration": 250,
    "start_time": "2022-05-07T16:38:13.705Z"
   },
   {
    "duration": 260,
    "start_time": "2022-05-07T16:38:13.957Z"
   },
   {
    "duration": 14,
    "start_time": "2022-05-07T16:38:14.219Z"
   },
   {
    "duration": 572,
    "start_time": "2022-05-07T16:38:14.235Z"
   },
   {
    "duration": 216,
    "start_time": "2022-05-07T16:38:14.809Z"
   },
   {
    "duration": 11,
    "start_time": "2022-05-07T16:38:34.814Z"
   },
   {
    "duration": 9,
    "start_time": "2022-05-07T16:38:42.882Z"
   },
   {
    "duration": 2144,
    "start_time": "2022-05-07T16:41:16.384Z"
   },
   {
    "duration": 10,
    "start_time": "2022-05-07T16:41:25.715Z"
   },
   {
    "duration": 10,
    "start_time": "2022-05-07T16:41:31.357Z"
   },
   {
    "duration": 3,
    "start_time": "2022-05-07T16:42:59.724Z"
   },
   {
    "duration": 51,
    "start_time": "2022-05-07T16:43:06.655Z"
   },
   {
    "duration": 72,
    "start_time": "2022-05-07T18:42:02.062Z"
   },
   {
    "duration": 2794,
    "start_time": "2022-05-07T18:42:05.410Z"
   },
   {
    "duration": 294,
    "start_time": "2022-05-07T18:42:08.207Z"
   },
   {
    "duration": 103,
    "start_time": "2022-05-07T18:42:08.503Z"
   },
   {
    "duration": 30,
    "start_time": "2022-05-07T18:42:08.609Z"
   },
   {
    "duration": 11,
    "start_time": "2022-05-07T18:42:08.692Z"
   },
   {
    "duration": 6,
    "start_time": "2022-05-07T18:42:08.706Z"
   },
   {
    "duration": 8,
    "start_time": "2022-05-07T18:42:08.714Z"
   },
   {
    "duration": 6,
    "start_time": "2022-05-07T18:42:08.724Z"
   },
   {
    "duration": 65,
    "start_time": "2022-05-07T18:42:08.731Z"
   },
   {
    "duration": 5,
    "start_time": "2022-05-07T18:42:08.799Z"
   },
   {
    "duration": 19,
    "start_time": "2022-05-07T18:42:08.807Z"
   },
   {
    "duration": 70,
    "start_time": "2022-05-07T18:42:08.829Z"
   },
   {
    "duration": 908,
    "start_time": "2022-05-07T18:42:08.901Z"
   },
   {
    "duration": 21,
    "start_time": "2022-05-07T18:42:09.813Z"
   },
   {
    "duration": 563,
    "start_time": "2022-05-07T18:42:09.836Z"
   },
   {
    "duration": 21,
    "start_time": "2022-05-07T18:42:10.401Z"
   },
   {
    "duration": 774,
    "start_time": "2022-05-07T18:42:10.424Z"
   },
   {
    "duration": 319,
    "start_time": "2022-05-07T18:42:11.201Z"
   },
   {
    "duration": 21,
    "start_time": "2022-05-07T18:42:11.523Z"
   },
   {
    "duration": 335,
    "start_time": "2022-05-07T18:42:11.546Z"
   },
   {
    "duration": 59,
    "start_time": "2022-05-07T18:42:11.883Z"
   },
   {
    "duration": 150,
    "start_time": "2022-05-07T18:42:11.945Z"
   },
   {
    "duration": 142,
    "start_time": "2022-05-07T18:43:53.429Z"
   },
   {
    "duration": 167,
    "start_time": "2022-05-07T18:44:04.778Z"
   },
   {
    "duration": 152,
    "start_time": "2022-05-07T18:44:11.687Z"
   },
   {
    "duration": 154,
    "start_time": "2022-05-07T18:45:20.617Z"
   },
   {
    "duration": 96,
    "start_time": "2022-05-07T18:46:26.470Z"
   },
   {
    "duration": 99,
    "start_time": "2022-05-07T18:46:31.350Z"
   },
   {
    "duration": 1311,
    "start_time": "2022-05-09T09:24:49.278Z"
   },
   {
    "duration": 126,
    "start_time": "2022-05-09T09:24:50.590Z"
   },
   {
    "duration": 27,
    "start_time": "2022-05-09T09:24:50.718Z"
   },
   {
    "duration": 21,
    "start_time": "2022-05-09T09:24:50.747Z"
   },
   {
    "duration": 8,
    "start_time": "2022-05-09T09:24:50.770Z"
   },
   {
    "duration": 7,
    "start_time": "2022-05-09T09:24:50.780Z"
   },
   {
    "duration": 20,
    "start_time": "2022-05-09T09:24:50.788Z"
   },
   {
    "duration": 15,
    "start_time": "2022-05-09T09:24:50.809Z"
   },
   {
    "duration": 9,
    "start_time": "2022-05-09T09:24:50.825Z"
   },
   {
    "duration": 15,
    "start_time": "2022-05-09T09:24:50.836Z"
   },
   {
    "duration": 12,
    "start_time": "2022-05-09T09:24:50.852Z"
   },
   {
    "duration": 13,
    "start_time": "2022-05-09T09:24:50.866Z"
   },
   {
    "duration": 294,
    "start_time": "2022-05-09T09:24:50.880Z"
   },
   {
    "duration": 14,
    "start_time": "2022-05-09T09:24:51.176Z"
   },
   {
    "duration": 176,
    "start_time": "2022-05-09T09:24:51.191Z"
   },
   {
    "duration": 14,
    "start_time": "2022-05-09T09:24:51.369Z"
   },
   {
    "duration": 239,
    "start_time": "2022-05-09T09:24:51.385Z"
   },
   {
    "duration": 190,
    "start_time": "2022-05-09T09:24:51.626Z"
   },
   {
    "duration": 24,
    "start_time": "2022-05-09T09:24:51.817Z"
   },
   {
    "duration": 184,
    "start_time": "2022-05-09T09:24:51.843Z"
   },
   {
    "duration": 50,
    "start_time": "2022-05-09T09:24:52.030Z"
   },
   {
    "duration": 72,
    "start_time": "2022-05-09T09:24:52.082Z"
   },
   {
    "duration": 131,
    "start_time": "2022-05-09T09:24:52.156Z"
   },
   {
    "duration": 2255,
    "start_time": "2022-05-09T09:40:56.629Z"
   },
   {
    "duration": 108,
    "start_time": "2022-05-09T09:41:05.999Z"
   },
   {
    "duration": 18,
    "start_time": "2022-05-09T09:41:14.216Z"
   },
   {
    "duration": 14,
    "start_time": "2022-05-09T09:41:29.899Z"
   },
   {
    "duration": 36,
    "start_time": "2022-05-09T09:41:58.840Z"
   },
   {
    "duration": 15,
    "start_time": "2022-05-09T09:42:00.179Z"
   },
   {
    "duration": 37,
    "start_time": "2022-05-09T09:45:02.847Z"
   },
   {
    "duration": 15,
    "start_time": "2022-05-09T09:45:03.491Z"
   },
   {
    "duration": 37,
    "start_time": "2022-05-09T09:45:10.755Z"
   },
   {
    "duration": 18,
    "start_time": "2022-05-09T09:45:12.821Z"
   },
   {
    "duration": 34,
    "start_time": "2022-05-09T09:45:24.057Z"
   },
   {
    "duration": 15,
    "start_time": "2022-05-09T09:45:24.658Z"
   },
   {
    "duration": 34,
    "start_time": "2022-05-09T09:45:43.355Z"
   },
   {
    "duration": 13,
    "start_time": "2022-05-09T09:45:43.688Z"
   },
   {
    "duration": 89,
    "start_time": "2022-05-09T09:46:08.571Z"
   },
   {
    "duration": 13,
    "start_time": "2022-05-09T09:46:10.056Z"
   },
   {
    "duration": 44,
    "start_time": "2022-05-09T09:46:24.817Z"
   },
   {
    "duration": 14,
    "start_time": "2022-05-09T09:46:25.356Z"
   },
   {
    "duration": 42,
    "start_time": "2022-05-09T09:46:45.321Z"
   },
   {
    "duration": 14,
    "start_time": "2022-05-09T09:46:46.192Z"
   },
   {
    "duration": 6,
    "start_time": "2022-05-09T09:47:23.099Z"
   },
   {
    "duration": 20,
    "start_time": "2022-05-09T09:47:37.566Z"
   },
   {
    "duration": 36,
    "start_time": "2022-05-09T09:47:58.773Z"
   },
   {
    "duration": 15,
    "start_time": "2022-05-09T09:48:00.302Z"
   },
   {
    "duration": 17,
    "start_time": "2022-05-09T09:48:11.405Z"
   },
   {
    "duration": 14,
    "start_time": "2022-05-09T09:49:17.411Z"
   },
   {
    "duration": 22,
    "start_time": "2022-05-09T09:49:26.119Z"
   },
   {
    "duration": 24,
    "start_time": "2022-05-09T09:50:26.160Z"
   },
   {
    "duration": 20,
    "start_time": "2022-05-09T09:50:35.118Z"
   },
   {
    "duration": 13,
    "start_time": "2022-05-09T09:50:47.133Z"
   },
   {
    "duration": 16,
    "start_time": "2022-05-09T09:50:52.293Z"
   },
   {
    "duration": 17,
    "start_time": "2022-05-09T09:51:58.321Z"
   },
   {
    "duration": 36,
    "start_time": "2022-05-09T09:52:48.058Z"
   },
   {
    "duration": 14,
    "start_time": "2022-05-09T09:52:48.975Z"
   },
   {
    "duration": 16,
    "start_time": "2022-05-09T09:52:49.825Z"
   },
   {
    "duration": 41,
    "start_time": "2022-05-09T09:53:07.895Z"
   },
   {
    "duration": 13,
    "start_time": "2022-05-09T09:53:08.464Z"
   },
   {
    "duration": 108,
    "start_time": "2022-05-09T09:53:30.954Z"
   },
   {
    "duration": 15,
    "start_time": "2022-05-09T09:53:31.503Z"
   },
   {
    "duration": 12,
    "start_time": "2022-05-09T09:53:33.404Z"
   },
   {
    "duration": 12,
    "start_time": "2022-05-09T09:54:03.359Z"
   },
   {
    "duration": 10,
    "start_time": "2022-05-09T09:54:04.612Z"
   },
   {
    "duration": 40,
    "start_time": "2022-05-09T09:54:40.510Z"
   },
   {
    "duration": 14,
    "start_time": "2022-05-09T09:54:41.061Z"
   },
   {
    "duration": 9,
    "start_time": "2022-05-09T09:54:42.297Z"
   },
   {
    "duration": 50,
    "start_time": "2022-05-09T09:55:39.119Z"
   },
   {
    "duration": 14,
    "start_time": "2022-05-09T09:55:40.705Z"
   },
   {
    "duration": 9,
    "start_time": "2022-05-09T09:56:00.094Z"
   },
   {
    "duration": 14,
    "start_time": "2022-05-09T09:57:39.750Z"
   },
   {
    "duration": 43,
    "start_time": "2022-05-09T09:57:40.362Z"
   },
   {
    "duration": 41,
    "start_time": "2022-05-09T09:58:46.868Z"
   },
   {
    "duration": 14,
    "start_time": "2022-05-09T09:58:47.660Z"
   },
   {
    "duration": 19,
    "start_time": "2022-05-09T10:00:28.351Z"
   },
   {
    "duration": 45,
    "start_time": "2022-05-09T10:02:57.754Z"
   },
   {
    "duration": 21,
    "start_time": "2022-05-09T10:02:58.315Z"
   },
   {
    "duration": 7,
    "start_time": "2022-05-09T10:03:00.397Z"
   },
   {
    "duration": 14,
    "start_time": "2022-05-09T10:03:27.640Z"
   },
   {
    "duration": 16,
    "start_time": "2022-05-09T10:13:43.116Z"
   },
   {
    "duration": 15,
    "start_time": "2022-05-09T10:14:22.265Z"
   },
   {
    "duration": 22,
    "start_time": "2022-05-09T10:14:50.314Z"
   },
   {
    "duration": 109,
    "start_time": "2022-05-09T10:15:10.869Z"
   },
   {
    "duration": 14,
    "start_time": "2022-05-09T10:15:11.368Z"
   },
   {
    "duration": 19,
    "start_time": "2022-05-09T10:15:15.111Z"
   },
   {
    "duration": 120,
    "start_time": "2022-05-09T10:15:43.649Z"
   },
   {
    "duration": 13,
    "start_time": "2022-05-09T10:16:29.193Z"
   },
   {
    "duration": 20,
    "start_time": "2022-05-09T10:16:44.388Z"
   },
   {
    "duration": 134,
    "start_time": "2022-05-09T10:17:24.375Z"
   },
   {
    "duration": 15,
    "start_time": "2022-05-09T10:17:45.458Z"
   },
   {
    "duration": 17,
    "start_time": "2022-05-09T10:22:21.615Z"
   },
   {
    "duration": 298,
    "start_time": "2022-05-09T10:22:28.292Z"
   },
   {
    "duration": 116,
    "start_time": "2022-05-09T10:22:49.730Z"
   },
   {
    "duration": 114,
    "start_time": "2022-05-09T10:23:03.599Z"
   },
   {
    "duration": 186,
    "start_time": "2022-05-09T10:24:19.438Z"
   },
   {
    "duration": 193,
    "start_time": "2022-05-09T10:24:27.863Z"
   },
   {
    "duration": 198,
    "start_time": "2022-05-09T10:25:48.493Z"
   },
   {
    "duration": 197,
    "start_time": "2022-05-09T10:27:01.092Z"
   },
   {
    "duration": 189,
    "start_time": "2022-05-09T10:27:08.881Z"
   },
   {
    "duration": 204,
    "start_time": "2022-05-09T10:27:49.934Z"
   },
   {
    "duration": 299,
    "start_time": "2022-05-09T10:28:25.692Z"
   },
   {
    "duration": 181,
    "start_time": "2022-05-09T10:28:39.489Z"
   },
   {
    "duration": 197,
    "start_time": "2022-05-09T10:28:49.875Z"
   },
   {
    "duration": 192,
    "start_time": "2022-05-09T10:29:57.055Z"
   },
   {
    "duration": 20,
    "start_time": "2022-05-09T10:35:06.635Z"
   },
   {
    "duration": 13,
    "start_time": "2022-05-09T10:36:43.873Z"
   },
   {
    "duration": 8,
    "start_time": "2022-05-09T10:37:16.673Z"
   },
   {
    "duration": 8,
    "start_time": "2022-05-09T10:37:46.804Z"
   },
   {
    "duration": 16,
    "start_time": "2022-05-09T10:38:07.679Z"
   },
   {
    "duration": 7,
    "start_time": "2022-05-09T10:38:29.594Z"
   },
   {
    "duration": 16,
    "start_time": "2022-05-09T10:39:57.407Z"
   },
   {
    "duration": 198,
    "start_time": "2022-05-09T10:39:58.007Z"
   },
   {
    "duration": 22,
    "start_time": "2022-05-09T11:43:56.079Z"
   },
   {
    "duration": 2543,
    "start_time": "2022-05-09T11:44:14.734Z"
   },
   {
    "duration": 13,
    "start_time": "2022-05-09T11:44:24.622Z"
   },
   {
    "duration": 14,
    "start_time": "2022-05-09T11:45:42.278Z"
   },
   {
    "duration": 5,
    "start_time": "2022-05-09T11:45:52.524Z"
   },
   {
    "duration": 14,
    "start_time": "2022-05-09T11:46:22.164Z"
   },
   {
    "duration": 2861,
    "start_time": "2022-05-09T11:46:34.595Z"
   },
   {
    "duration": 9,
    "start_time": "2022-05-09T11:47:14.541Z"
   },
   {
    "duration": 8,
    "start_time": "2022-05-09T11:47:25.545Z"
   },
   {
    "duration": 30,
    "start_time": "2022-05-09T11:48:56.967Z"
   },
   {
    "duration": 2458,
    "start_time": "2022-05-09T11:49:32.053Z"
   },
   {
    "duration": 31,
    "start_time": "2022-05-09T11:56:43.613Z"
   },
   {
    "duration": 272,
    "start_time": "2022-05-09T11:57:05.160Z"
   },
   {
    "duration": 249,
    "start_time": "2022-05-09T11:57:21.155Z"
   },
   {
    "duration": 2645,
    "start_time": "2022-05-09T12:06:43.290Z"
   },
   {
    "duration": 2530,
    "start_time": "2022-05-09T12:07:31.818Z"
   },
   {
    "duration": 32,
    "start_time": "2022-05-09T12:07:40.291Z"
   },
   {
    "duration": 2598,
    "start_time": "2022-05-09T12:08:06.854Z"
   },
   {
    "duration": 2433,
    "start_time": "2022-05-09T12:15:46.691Z"
   },
   {
    "duration": 289,
    "start_time": "2022-05-09T12:19:34.685Z"
   },
   {
    "duration": 374,
    "start_time": "2022-05-09T12:21:44.040Z"
   },
   {
    "duration": 12,
    "start_time": "2022-05-09T12:24:39.859Z"
   },
   {
    "duration": 12,
    "start_time": "2022-05-09T12:24:47.066Z"
   },
   {
    "duration": 3,
    "start_time": "2022-05-09T12:24:50.638Z"
   },
   {
    "duration": 120,
    "start_time": "2022-05-09T12:24:50.643Z"
   },
   {
    "duration": 19,
    "start_time": "2022-05-09T12:24:50.764Z"
   },
   {
    "duration": 21,
    "start_time": "2022-05-09T12:24:50.785Z"
   },
   {
    "duration": 9,
    "start_time": "2022-05-09T12:24:50.824Z"
   },
   {
    "duration": 5,
    "start_time": "2022-05-09T12:24:50.834Z"
   },
   {
    "duration": 5,
    "start_time": "2022-05-09T12:24:50.841Z"
   },
   {
    "duration": 5,
    "start_time": "2022-05-09T12:24:50.847Z"
   },
   {
    "duration": 8,
    "start_time": "2022-05-09T12:24:50.853Z"
   },
   {
    "duration": 5,
    "start_time": "2022-05-09T12:24:50.862Z"
   },
   {
    "duration": 13,
    "start_time": "2022-05-09T12:24:50.869Z"
   },
   {
    "duration": 43,
    "start_time": "2022-05-09T12:24:50.883Z"
   },
   {
    "duration": 280,
    "start_time": "2022-05-09T12:24:50.927Z"
   },
   {
    "duration": 18,
    "start_time": "2022-05-09T12:24:51.210Z"
   },
   {
    "duration": 156,
    "start_time": "2022-05-09T12:24:51.230Z"
   },
   {
    "duration": 15,
    "start_time": "2022-05-09T12:24:51.388Z"
   },
   {
    "duration": 233,
    "start_time": "2022-05-09T12:24:51.405Z"
   },
   {
    "duration": 174,
    "start_time": "2022-05-09T12:24:51.640Z"
   },
   {
    "duration": 18,
    "start_time": "2022-05-09T12:24:51.815Z"
   },
   {
    "duration": 178,
    "start_time": "2022-05-09T12:24:51.834Z"
   },
   {
    "duration": 15,
    "start_time": "2022-05-09T12:24:52.013Z"
   },
   {
    "duration": 152,
    "start_time": "2022-05-09T12:24:52.030Z"
   },
   {
    "duration": 14,
    "start_time": "2022-05-09T12:24:52.184Z"
   },
   {
    "duration": 25,
    "start_time": "2022-05-09T12:24:52.200Z"
   },
   {
    "duration": 16,
    "start_time": "2022-05-09T12:24:52.227Z"
   },
   {
    "duration": 34469,
    "start_time": "2022-05-09T12:24:52.245Z"
   },
   {
    "duration": 305,
    "start_time": "2022-05-09T12:25:26.715Z"
   },
   {
    "duration": 187,
    "start_time": "2022-05-09T12:25:55.137Z"
   },
   {
    "duration": 6,
    "start_time": "2022-05-09T12:26:45.880Z"
   },
   {
    "duration": 6,
    "start_time": "2022-05-09T12:27:27.969Z"
   },
   {
    "duration": 4,
    "start_time": "2022-05-09T12:27:39.262Z"
   },
   {
    "duration": 6,
    "start_time": "2022-05-09T12:28:05.695Z"
   },
   {
    "duration": 10,
    "start_time": "2022-05-09T12:28:36.712Z"
   },
   {
    "duration": 7,
    "start_time": "2022-05-09T12:29:08.903Z"
   },
   {
    "duration": 376,
    "start_time": "2022-05-09T12:33:29.577Z"
   },
   {
    "duration": 320,
    "start_time": "2022-05-09T12:33:46.175Z"
   },
   {
    "duration": 231,
    "start_time": "2022-05-09T12:35:09.426Z"
   },
   {
    "duration": 27,
    "start_time": "2022-05-09T12:37:12.856Z"
   },
   {
    "duration": 18,
    "start_time": "2022-05-09T12:37:22.824Z"
   },
   {
    "duration": 35,
    "start_time": "2022-05-09T12:37:55.168Z"
   },
   {
    "duration": 17,
    "start_time": "2022-05-09T12:37:57.294Z"
   },
   {
    "duration": 32,
    "start_time": "2022-05-09T12:38:03.038Z"
   },
   {
    "duration": 17,
    "start_time": "2022-05-09T12:38:03.625Z"
   },
   {
    "duration": 352,
    "start_time": "2022-05-09T12:38:43.482Z"
   },
   {
    "duration": 12,
    "start_time": "2022-05-09T12:40:52.007Z"
   },
   {
    "duration": 150,
    "start_time": "2022-05-09T12:41:52.047Z"
   },
   {
    "duration": 17,
    "start_time": "2022-05-09T12:42:12.663Z"
   },
   {
    "duration": 15,
    "start_time": "2022-05-09T12:42:37.780Z"
   },
   {
    "duration": 17,
    "start_time": "2022-05-09T12:42:56.088Z"
   },
   {
    "duration": 12,
    "start_time": "2022-05-09T12:43:02.771Z"
   },
   {
    "duration": 4,
    "start_time": "2022-05-09T12:43:09.471Z"
   },
   {
    "duration": 134,
    "start_time": "2022-05-09T12:43:09.478Z"
   },
   {
    "duration": 27,
    "start_time": "2022-05-09T12:43:09.615Z"
   },
   {
    "duration": 24,
    "start_time": "2022-05-09T12:43:09.644Z"
   },
   {
    "duration": 10,
    "start_time": "2022-05-09T12:43:09.671Z"
   },
   {
    "duration": 5,
    "start_time": "2022-05-09T12:43:09.683Z"
   },
   {
    "duration": 39,
    "start_time": "2022-05-09T12:43:09.690Z"
   },
   {
    "duration": 7,
    "start_time": "2022-05-09T12:43:09.731Z"
   },
   {
    "duration": 7,
    "start_time": "2022-05-09T12:43:09.740Z"
   },
   {
    "duration": 14,
    "start_time": "2022-05-09T12:43:09.749Z"
   },
   {
    "duration": 11,
    "start_time": "2022-05-09T12:43:09.765Z"
   },
   {
    "duration": 13,
    "start_time": "2022-05-09T12:43:09.777Z"
   },
   {
    "duration": 284,
    "start_time": "2022-05-09T12:43:09.792Z"
   },
   {
    "duration": 14,
    "start_time": "2022-05-09T12:43:10.079Z"
   },
   {
    "duration": 167,
    "start_time": "2022-05-09T12:43:10.094Z"
   },
   {
    "duration": 14,
    "start_time": "2022-05-09T12:43:10.263Z"
   },
   {
    "duration": 593,
    "start_time": "2022-05-09T12:43:10.279Z"
   },
   {
    "duration": 185,
    "start_time": "2022-05-09T12:43:10.874Z"
   },
   {
    "duration": 14,
    "start_time": "2022-05-09T12:43:11.060Z"
   },
   {
    "duration": 193,
    "start_time": "2022-05-09T12:43:11.076Z"
   },
   {
    "duration": 15,
    "start_time": "2022-05-09T12:43:11.271Z"
   },
   {
    "duration": 59,
    "start_time": "2022-05-09T12:43:11.288Z"
   },
   {
    "duration": 16,
    "start_time": "2022-05-09T12:43:11.348Z"
   },
   {
    "duration": 11,
    "start_time": "2022-05-09T12:43:11.366Z"
   },
   {
    "duration": 20,
    "start_time": "2022-05-09T12:43:11.379Z"
   },
   {
    "duration": 281,
    "start_time": "2022-05-09T12:43:11.424Z"
   },
   {
    "duration": 18,
    "start_time": "2022-05-09T12:43:11.707Z"
   },
   {
    "duration": 326,
    "start_time": "2022-05-09T12:43:11.727Z"
   },
   {
    "duration": 11,
    "start_time": "2022-05-09T12:43:12.055Z"
   },
   {
    "duration": 55,
    "start_time": "2022-05-09T12:43:12.068Z"
   },
   {
    "duration": 13,
    "start_time": "2022-05-09T12:43:55.630Z"
   },
   {
    "duration": 3,
    "start_time": "2022-05-09T12:43:59.457Z"
   },
   {
    "duration": 104,
    "start_time": "2022-05-09T12:43:59.463Z"
   },
   {
    "duration": 20,
    "start_time": "2022-05-09T12:43:59.568Z"
   },
   {
    "duration": 35,
    "start_time": "2022-05-09T12:43:59.591Z"
   },
   {
    "duration": 9,
    "start_time": "2022-05-09T12:43:59.629Z"
   },
   {
    "duration": 6,
    "start_time": "2022-05-09T12:43:59.639Z"
   },
   {
    "duration": 11,
    "start_time": "2022-05-09T12:43:59.647Z"
   },
   {
    "duration": 4,
    "start_time": "2022-05-09T12:43:59.659Z"
   },
   {
    "duration": 10,
    "start_time": "2022-05-09T12:43:59.665Z"
   },
   {
    "duration": 8,
    "start_time": "2022-05-09T12:43:59.677Z"
   },
   {
    "duration": 15,
    "start_time": "2022-05-09T12:43:59.687Z"
   },
   {
    "duration": 13,
    "start_time": "2022-05-09T12:43:59.724Z"
   },
   {
    "duration": 288,
    "start_time": "2022-05-09T12:43:59.739Z"
   },
   {
    "duration": 16,
    "start_time": "2022-05-09T12:44:00.030Z"
   },
   {
    "duration": 168,
    "start_time": "2022-05-09T12:44:00.047Z"
   },
   {
    "duration": 14,
    "start_time": "2022-05-09T12:44:00.217Z"
   },
   {
    "duration": 227,
    "start_time": "2022-05-09T12:44:00.233Z"
   },
   {
    "duration": 194,
    "start_time": "2022-05-09T12:44:00.462Z"
   },
   {
    "duration": 14,
    "start_time": "2022-05-09T12:44:00.658Z"
   },
   {
    "duration": 190,
    "start_time": "2022-05-09T12:44:00.674Z"
   },
   {
    "duration": 16,
    "start_time": "2022-05-09T12:44:00.866Z"
   },
   {
    "duration": 62,
    "start_time": "2022-05-09T12:44:00.884Z"
   },
   {
    "duration": 16,
    "start_time": "2022-05-09T12:44:00.948Z"
   },
   {
    "duration": 12,
    "start_time": "2022-05-09T12:44:00.966Z"
   },
   {
    "duration": 26,
    "start_time": "2022-05-09T12:44:00.980Z"
   },
   {
    "duration": 296,
    "start_time": "2022-05-09T12:44:01.023Z"
   },
   {
    "duration": 9,
    "start_time": "2022-05-09T12:44:01.324Z"
   },
   {
    "duration": 314,
    "start_time": "2022-05-09T12:44:01.335Z"
   },
   {
    "duration": 14,
    "start_time": "2022-05-09T12:44:01.651Z"
   },
   {
    "duration": 58,
    "start_time": "2022-05-09T12:44:01.666Z"
   },
   {
    "duration": 17,
    "start_time": "2022-05-09T12:44:29.900Z"
   },
   {
    "duration": 17,
    "start_time": "2022-05-09T12:44:37.783Z"
   },
   {
    "duration": 31,
    "start_time": "2022-05-09T12:45:11.887Z"
   },
   {
    "duration": 18,
    "start_time": "2022-05-09T12:45:12.524Z"
   },
   {
    "duration": 3,
    "start_time": "2022-05-09T12:45:57.613Z"
   },
   {
    "duration": 118,
    "start_time": "2022-05-09T12:45:57.619Z"
   },
   {
    "duration": 17,
    "start_time": "2022-05-09T12:45:57.739Z"
   },
   {
    "duration": 23,
    "start_time": "2022-05-09T12:45:57.757Z"
   },
   {
    "duration": 7,
    "start_time": "2022-05-09T12:45:57.782Z"
   },
   {
    "duration": 7,
    "start_time": "2022-05-09T12:45:57.791Z"
   },
   {
    "duration": 28,
    "start_time": "2022-05-09T12:45:57.800Z"
   },
   {
    "duration": 6,
    "start_time": "2022-05-09T12:45:57.830Z"
   },
   {
    "duration": 14,
    "start_time": "2022-05-09T12:45:57.837Z"
   },
   {
    "duration": 7,
    "start_time": "2022-05-09T12:45:57.853Z"
   },
   {
    "duration": 12,
    "start_time": "2022-05-09T12:45:57.861Z"
   },
   {
    "duration": 13,
    "start_time": "2022-05-09T12:45:57.875Z"
   },
   {
    "duration": 281,
    "start_time": "2022-05-09T12:45:57.890Z"
   },
   {
    "duration": 14,
    "start_time": "2022-05-09T12:45:58.174Z"
   },
   {
    "duration": 165,
    "start_time": "2022-05-09T12:45:58.190Z"
   },
   {
    "duration": 15,
    "start_time": "2022-05-09T12:45:58.357Z"
   },
   {
    "duration": 223,
    "start_time": "2022-05-09T12:45:58.374Z"
   },
   {
    "duration": 182,
    "start_time": "2022-05-09T12:45:58.599Z"
   },
   {
    "duration": 15,
    "start_time": "2022-05-09T12:45:58.784Z"
   },
   {
    "duration": 187,
    "start_time": "2022-05-09T12:45:58.800Z"
   },
   {
    "duration": 15,
    "start_time": "2022-05-09T12:45:58.988Z"
   },
   {
    "duration": 53,
    "start_time": "2022-05-09T12:45:59.004Z"
   },
   {
    "duration": 14,
    "start_time": "2022-05-09T12:45:59.059Z"
   },
   {
    "duration": 12,
    "start_time": "2022-05-09T12:45:59.075Z"
   },
   {
    "duration": 41,
    "start_time": "2022-05-09T12:45:59.089Z"
   },
   {
    "duration": 297,
    "start_time": "2022-05-09T12:45:59.132Z"
   },
   {
    "duration": 9,
    "start_time": "2022-05-09T12:45:59.431Z"
   },
   {
    "duration": 370,
    "start_time": "2022-05-09T12:45:59.442Z"
   },
   {
    "duration": 17,
    "start_time": "2022-05-09T12:45:59.814Z"
   },
   {
    "duration": 42,
    "start_time": "2022-05-09T12:45:59.833Z"
   },
   {
    "duration": 18,
    "start_time": "2022-05-09T12:45:59.877Z"
   },
   {
    "duration": 10,
    "start_time": "2022-05-09T12:48:19.051Z"
   },
   {
    "duration": 8,
    "start_time": "2022-05-09T12:49:06.272Z"
   },
   {
    "duration": 15,
    "start_time": "2022-05-09T12:49:37.454Z"
   },
   {
    "duration": 16,
    "start_time": "2022-05-09T12:49:38.071Z"
   },
   {
    "duration": 358,
    "start_time": "2022-05-09T12:51:04.845Z"
   },
   {
    "duration": 14,
    "start_time": "2022-05-09T12:51:05.391Z"
   },
   {
    "duration": 16,
    "start_time": "2022-05-09T12:51:05.527Z"
   },
   {
    "duration": 17,
    "start_time": "2022-05-09T12:51:06.061Z"
   },
   {
    "duration": 16,
    "start_time": "2022-05-09T12:51:52.669Z"
   },
   {
    "duration": 16,
    "start_time": "2022-05-09T12:52:52.668Z"
   },
   {
    "duration": 16,
    "start_time": "2022-05-09T12:53:17.932Z"
   },
   {
    "duration": 19,
    "start_time": "2022-05-09T12:54:07.645Z"
   },
   {
    "duration": 19,
    "start_time": "2022-05-09T12:54:37.614Z"
   },
   {
    "duration": 20,
    "start_time": "2022-05-09T12:54:45.124Z"
   },
   {
    "duration": 21,
    "start_time": "2022-05-09T12:55:13.999Z"
   },
   {
    "duration": 20,
    "start_time": "2022-05-09T12:55:27.263Z"
   },
   {
    "duration": 13,
    "start_time": "2022-05-09T12:55:50.967Z"
   },
   {
    "duration": 296,
    "start_time": "2022-05-09T12:55:59.528Z"
   },
   {
    "duration": 11,
    "start_time": "2022-05-09T12:56:00.064Z"
   },
   {
    "duration": 15,
    "start_time": "2022-05-09T12:56:03.503Z"
   },
   {
    "duration": 17,
    "start_time": "2022-05-09T12:56:04.327Z"
   },
   {
    "duration": 19,
    "start_time": "2022-05-09T12:56:29.404Z"
   },
   {
    "duration": 13,
    "start_time": "2022-05-09T12:56:51.746Z"
   },
   {
    "duration": 19,
    "start_time": "2022-05-09T12:56:59.448Z"
   },
   {
    "duration": 333,
    "start_time": "2022-05-09T12:57:20.917Z"
   },
   {
    "duration": 11,
    "start_time": "2022-05-09T12:57:21.575Z"
   },
   {
    "duration": 377,
    "start_time": "2022-05-09T12:57:28.729Z"
   },
   {
    "duration": 12,
    "start_time": "2022-05-09T12:57:30.324Z"
   },
   {
    "duration": 11,
    "start_time": "2022-05-09T13:00:08.588Z"
   },
   {
    "duration": 17,
    "start_time": "2022-05-09T13:00:16.828Z"
   },
   {
    "duration": 11,
    "start_time": "2022-05-09T13:00:24.360Z"
   },
   {
    "duration": 8,
    "start_time": "2022-05-09T13:00:30.978Z"
   },
   {
    "duration": 23,
    "start_time": "2022-05-09T13:00:53.929Z"
   },
   {
    "duration": 23,
    "start_time": "2022-05-09T13:01:18.028Z"
   },
   {
    "duration": 14,
    "start_time": "2022-05-09T13:02:39.670Z"
   },
   {
    "duration": 7,
    "start_time": "2022-05-09T13:02:50.945Z"
   },
   {
    "duration": 14,
    "start_time": "2022-05-09T13:03:52.227Z"
   },
   {
    "duration": 4,
    "start_time": "2022-05-09T13:03:57.305Z"
   },
   {
    "duration": 125,
    "start_time": "2022-05-09T13:03:57.311Z"
   },
   {
    "duration": 21,
    "start_time": "2022-05-09T13:03:57.438Z"
   },
   {
    "duration": 29,
    "start_time": "2022-05-09T13:03:57.461Z"
   },
   {
    "duration": 24,
    "start_time": "2022-05-09T13:03:57.492Z"
   },
   {
    "duration": 20,
    "start_time": "2022-05-09T13:03:57.518Z"
   },
   {
    "duration": 30,
    "start_time": "2022-05-09T13:03:57.539Z"
   },
   {
    "duration": 21,
    "start_time": "2022-05-09T13:03:57.572Z"
   },
   {
    "duration": 23,
    "start_time": "2022-05-09T13:03:57.595Z"
   },
   {
    "duration": 20,
    "start_time": "2022-05-09T13:03:57.620Z"
   },
   {
    "duration": 33,
    "start_time": "2022-05-09T13:03:57.642Z"
   },
   {
    "duration": 16,
    "start_time": "2022-05-09T13:03:57.677Z"
   },
   {
    "duration": 318,
    "start_time": "2022-05-09T13:03:57.695Z"
   },
   {
    "duration": 19,
    "start_time": "2022-05-09T13:03:58.017Z"
   },
   {
    "duration": 242,
    "start_time": "2022-05-09T13:03:58.038Z"
   },
   {
    "duration": 20,
    "start_time": "2022-05-09T13:03:58.282Z"
   },
   {
    "duration": 326,
    "start_time": "2022-05-09T13:03:58.304Z"
   },
   {
    "duration": 295,
    "start_time": "2022-05-09T13:03:58.632Z"
   },
   {
    "duration": 18,
    "start_time": "2022-05-09T13:03:58.930Z"
   },
   {
    "duration": 205,
    "start_time": "2022-05-09T13:03:58.951Z"
   },
   {
    "duration": 15,
    "start_time": "2022-05-09T13:03:59.158Z"
   },
   {
    "duration": 80,
    "start_time": "2022-05-09T13:03:59.174Z"
   },
   {
    "duration": 16,
    "start_time": "2022-05-09T13:03:59.256Z"
   },
   {
    "duration": 20,
    "start_time": "2022-05-09T13:03:59.274Z"
   },
   {
    "duration": 29,
    "start_time": "2022-05-09T13:03:59.296Z"
   },
   {
    "duration": 221,
    "start_time": "2022-05-09T13:03:59.327Z"
   },
   {
    "duration": 354,
    "start_time": "2022-05-09T13:03:59.550Z"
   },
   {
    "duration": 18,
    "start_time": "2022-05-09T13:03:59.906Z"
   },
   {
    "duration": 10,
    "start_time": "2022-05-09T13:03:59.927Z"
   },
   {
    "duration": 18,
    "start_time": "2022-05-09T13:03:59.939Z"
   },
   {
    "duration": 23,
    "start_time": "2022-05-09T13:03:59.959Z"
   },
   {
    "duration": 41,
    "start_time": "2022-05-09T13:03:59.984Z"
   },
   {
    "duration": 16,
    "start_time": "2022-05-09T13:04:40.904Z"
   },
   {
    "duration": 18,
    "start_time": "2022-05-09T13:04:42.040Z"
   },
   {
    "duration": 17,
    "start_time": "2022-05-09T13:07:23.254Z"
   },
   {
    "duration": 19,
    "start_time": "2022-05-09T13:07:32.708Z"
   },
   {
    "duration": 17,
    "start_time": "2022-05-09T13:07:44.024Z"
   },
   {
    "duration": 17,
    "start_time": "2022-05-09T13:08:15.520Z"
   },
   {
    "duration": 16,
    "start_time": "2022-05-09T13:08:23.070Z"
   },
   {
    "duration": 18,
    "start_time": "2022-05-09T13:08:33.692Z"
   },
   {
    "duration": 20,
    "start_time": "2022-05-09T13:08:35.152Z"
   },
   {
    "duration": 14,
    "start_time": "2022-05-09T13:12:57.320Z"
   },
   {
    "duration": 24,
    "start_time": "2022-05-09T13:13:07.883Z"
   },
   {
    "duration": 15,
    "start_time": "2022-05-09T13:23:11.751Z"
   },
   {
    "duration": 139,
    "start_time": "2022-05-09T13:25:08.684Z"
   },
   {
    "duration": 14,
    "start_time": "2022-05-09T13:25:34.063Z"
   },
   {
    "duration": 12,
    "start_time": "2022-05-09T13:25:41.140Z"
   },
   {
    "duration": 12,
    "start_time": "2022-05-09T13:26:01.715Z"
   },
   {
    "duration": 12,
    "start_time": "2022-05-09T13:26:39.638Z"
   },
   {
    "duration": 13,
    "start_time": "2022-05-09T13:27:01.696Z"
   },
   {
    "duration": 9,
    "start_time": "2022-05-09T13:27:21.687Z"
   },
   {
    "duration": 10,
    "start_time": "2022-05-09T13:27:29.763Z"
   },
   {
    "duration": 13,
    "start_time": "2022-05-09T13:29:24.820Z"
   },
   {
    "duration": 21,
    "start_time": "2022-05-09T13:29:31.669Z"
   },
   {
    "duration": 14,
    "start_time": "2022-05-09T13:30:06.044Z"
   },
   {
    "duration": 10,
    "start_time": "2022-05-09T13:30:30.444Z"
   },
   {
    "duration": 16,
    "start_time": "2022-05-09T13:32:09.584Z"
   },
   {
    "duration": 10,
    "start_time": "2022-05-09T13:33:13.944Z"
   },
   {
    "duration": 11,
    "start_time": "2022-05-09T13:33:28.866Z"
   },
   {
    "duration": 29,
    "start_time": "2022-05-09T13:36:48.816Z"
   },
   {
    "duration": 10,
    "start_time": "2022-05-09T13:37:41.070Z"
   },
   {
    "duration": 17,
    "start_time": "2022-05-09T13:38:45.156Z"
   },
   {
    "duration": 12,
    "start_time": "2022-05-09T13:39:03.731Z"
   },
   {
    "duration": 12,
    "start_time": "2022-05-09T13:39:35.741Z"
   },
   {
    "duration": 7,
    "start_time": "2022-05-09T13:39:57.956Z"
   },
   {
    "duration": 17,
    "start_time": "2022-05-09T13:40:06.389Z"
   },
   {
    "duration": 10,
    "start_time": "2022-05-09T13:40:58.990Z"
   },
   {
    "duration": 9,
    "start_time": "2022-05-09T13:41:53.359Z"
   },
   {
    "duration": 17,
    "start_time": "2022-05-09T13:43:44.092Z"
   },
   {
    "duration": 195,
    "start_time": "2022-05-09T13:43:44.789Z"
   },
   {
    "duration": 8,
    "start_time": "2022-05-09T13:47:27.438Z"
   },
   {
    "duration": 14,
    "start_time": "2022-05-09T13:47:43.301Z"
   },
   {
    "duration": 13,
    "start_time": "2022-05-09T13:47:55.102Z"
   },
   {
    "duration": 21,
    "start_time": "2022-05-09T13:50:56.824Z"
   },
   {
    "duration": 14,
    "start_time": "2022-05-09T13:52:53.365Z"
   },
   {
    "duration": 12,
    "start_time": "2022-05-09T13:53:29.797Z"
   },
   {
    "duration": 24,
    "start_time": "2022-05-09T13:53:37.768Z"
   },
   {
    "duration": 13,
    "start_time": "2022-05-09T13:53:38.385Z"
   },
   {
    "duration": 462,
    "start_time": "2022-05-09T13:53:46.709Z"
   },
   {
    "duration": 14,
    "start_time": "2022-05-09T13:53:49.617Z"
   },
   {
    "duration": 14,
    "start_time": "2022-05-09T13:54:01.419Z"
   },
   {
    "duration": 8,
    "start_time": "2022-05-09T13:54:01.814Z"
   },
   {
    "duration": 16,
    "start_time": "2022-05-09T13:54:03.868Z"
   },
   {
    "duration": 187,
    "start_time": "2022-05-09T13:54:04.867Z"
   },
   {
    "duration": 372,
    "start_time": "2022-05-09T13:54:06.902Z"
   },
   {
    "duration": 11,
    "start_time": "2022-05-09T13:54:07.553Z"
   },
   {
    "duration": 7,
    "start_time": "2022-05-09T13:54:09.424Z"
   },
   {
    "duration": 12,
    "start_time": "2022-05-09T13:54:10.169Z"
   },
   {
    "duration": 16,
    "start_time": "2022-05-09T13:54:11.076Z"
   },
   {
    "duration": 12,
    "start_time": "2022-05-09T13:54:12.477Z"
   },
   {
    "duration": 13,
    "start_time": "2022-05-09T13:54:19.602Z"
   },
   {
    "duration": 10,
    "start_time": "2022-05-09T13:54:24.227Z"
   },
   {
    "duration": 16,
    "start_time": "2022-05-09T13:54:27.324Z"
   },
   {
    "duration": 15,
    "start_time": "2022-05-09T13:54:54.661Z"
   },
   {
    "duration": 14,
    "start_time": "2022-05-09T13:55:05.266Z"
   },
   {
    "duration": 8,
    "start_time": "2022-05-09T13:55:06.382Z"
   },
   {
    "duration": 3,
    "start_time": "2022-05-09T13:55:10.538Z"
   },
   {
    "duration": 123,
    "start_time": "2022-05-09T13:55:10.543Z"
   },
   {
    "duration": 18,
    "start_time": "2022-05-09T13:55:10.668Z"
   },
   {
    "duration": 21,
    "start_time": "2022-05-09T13:55:10.687Z"
   },
   {
    "duration": 9,
    "start_time": "2022-05-09T13:55:10.723Z"
   },
   {
    "duration": 15,
    "start_time": "2022-05-09T13:55:10.734Z"
   },
   {
    "duration": 7,
    "start_time": "2022-05-09T13:55:10.751Z"
   },
   {
    "duration": 4,
    "start_time": "2022-05-09T13:55:10.760Z"
   },
   {
    "duration": 7,
    "start_time": "2022-05-09T13:55:10.766Z"
   },
   {
    "duration": 8,
    "start_time": "2022-05-09T13:55:10.775Z"
   },
   {
    "duration": 11,
    "start_time": "2022-05-09T13:55:10.784Z"
   },
   {
    "duration": 45,
    "start_time": "2022-05-09T13:55:10.797Z"
   },
   {
    "duration": 267,
    "start_time": "2022-05-09T13:55:10.844Z"
   },
   {
    "duration": 24,
    "start_time": "2022-05-09T13:55:11.114Z"
   },
   {
    "duration": 149,
    "start_time": "2022-05-09T13:55:11.140Z"
   },
   {
    "duration": 15,
    "start_time": "2022-05-09T13:55:11.291Z"
   },
   {
    "duration": 233,
    "start_time": "2022-05-09T13:55:11.308Z"
   },
   {
    "duration": 172,
    "start_time": "2022-05-09T13:55:11.543Z"
   },
   {
    "duration": 17,
    "start_time": "2022-05-09T13:55:11.717Z"
   },
   {
    "duration": 190,
    "start_time": "2022-05-09T13:55:11.735Z"
   },
   {
    "duration": 15,
    "start_time": "2022-05-09T13:55:11.928Z"
   },
   {
    "duration": 45,
    "start_time": "2022-05-09T13:55:11.945Z"
   },
   {
    "duration": 40,
    "start_time": "2022-05-09T13:55:11.992Z"
   },
   {
    "duration": 23,
    "start_time": "2022-05-09T13:55:12.034Z"
   },
   {
    "duration": 24,
    "start_time": "2022-05-09T13:55:12.059Z"
   },
   {
    "duration": 229,
    "start_time": "2022-05-09T13:55:12.085Z"
   },
   {
    "duration": 371,
    "start_time": "2022-05-09T13:55:12.316Z"
   },
   {
    "duration": 35,
    "start_time": "2022-05-09T13:55:12.689Z"
   },
   {
    "duration": 6,
    "start_time": "2022-05-09T13:55:12.726Z"
   },
   {
    "duration": 15,
    "start_time": "2022-05-09T13:55:12.734Z"
   },
   {
    "duration": 17,
    "start_time": "2022-05-09T13:55:12.751Z"
   },
   {
    "duration": 29,
    "start_time": "2022-05-09T13:55:12.824Z"
   },
   {
    "duration": 17,
    "start_time": "2022-05-09T13:55:27.037Z"
   },
   {
    "duration": 185,
    "start_time": "2022-05-09T13:55:27.406Z"
   },
   {
    "duration": 292,
    "start_time": "2022-05-09T13:55:31.700Z"
   },
   {
    "duration": 11,
    "start_time": "2022-05-09T13:55:36.333Z"
   },
   {
    "duration": 6,
    "start_time": "2022-05-09T13:55:37.476Z"
   },
   {
    "duration": 13,
    "start_time": "2022-05-09T13:55:39.541Z"
   },
   {
    "duration": 15,
    "start_time": "2022-05-09T13:55:40.492Z"
   },
   {
    "duration": 8,
    "start_time": "2022-05-09T13:55:45.249Z"
   },
   {
    "duration": 12,
    "start_time": "2022-05-09T13:56:03.763Z"
   },
   {
    "duration": 24,
    "start_time": "2022-05-09T13:57:24.116Z"
   },
   {
    "duration": 12,
    "start_time": "2022-05-09T13:57:50.871Z"
   },
   {
    "duration": 9,
    "start_time": "2022-05-09T13:58:04.419Z"
   },
   {
    "duration": 18,
    "start_time": "2022-05-09T14:00:36.548Z"
   },
   {
    "duration": 13,
    "start_time": "2022-05-09T14:00:56.993Z"
   },
   {
    "duration": 14,
    "start_time": "2022-05-09T14:01:05.951Z"
   },
   {
    "duration": 13,
    "start_time": "2022-05-09T14:01:13.459Z"
   },
   {
    "duration": 13,
    "start_time": "2022-05-09T14:01:36.428Z"
   },
   {
    "duration": 4,
    "start_time": "2022-05-09T14:01:43.552Z"
   },
   {
    "duration": 142,
    "start_time": "2022-05-09T14:01:43.559Z"
   },
   {
    "duration": 22,
    "start_time": "2022-05-09T14:01:43.702Z"
   },
   {
    "duration": 30,
    "start_time": "2022-05-09T14:01:43.727Z"
   },
   {
    "duration": 9,
    "start_time": "2022-05-09T14:01:43.759Z"
   },
   {
    "duration": 5,
    "start_time": "2022-05-09T14:01:43.770Z"
   },
   {
    "duration": 6,
    "start_time": "2022-05-09T14:01:43.777Z"
   },
   {
    "duration": 4,
    "start_time": "2022-05-09T14:01:43.785Z"
   },
   {
    "duration": 35,
    "start_time": "2022-05-09T14:01:43.791Z"
   },
   {
    "duration": 5,
    "start_time": "2022-05-09T14:01:43.830Z"
   },
   {
    "duration": 12,
    "start_time": "2022-05-09T14:01:43.837Z"
   },
   {
    "duration": 18,
    "start_time": "2022-05-09T14:01:43.850Z"
   },
   {
    "duration": 298,
    "start_time": "2022-05-09T14:01:43.870Z"
   },
   {
    "duration": 14,
    "start_time": "2022-05-09T14:01:44.169Z"
   },
   {
    "duration": 166,
    "start_time": "2022-05-09T14:01:44.185Z"
   },
   {
    "duration": 14,
    "start_time": "2022-05-09T14:01:44.352Z"
   },
   {
    "duration": 241,
    "start_time": "2022-05-09T14:01:44.368Z"
   },
   {
    "duration": 185,
    "start_time": "2022-05-09T14:01:44.611Z"
   },
   {
    "duration": 14,
    "start_time": "2022-05-09T14:01:44.798Z"
   },
   {
    "duration": 186,
    "start_time": "2022-05-09T14:01:44.824Z"
   },
   {
    "duration": 19,
    "start_time": "2022-05-09T14:01:45.012Z"
   },
   {
    "duration": 41,
    "start_time": "2022-05-09T14:01:45.033Z"
   },
   {
    "duration": 12,
    "start_time": "2022-05-09T14:01:45.076Z"
   },
   {
    "duration": 35,
    "start_time": "2022-05-09T14:01:45.090Z"
   },
   {
    "duration": 16,
    "start_time": "2022-05-09T14:01:45.126Z"
   },
   {
    "duration": 314,
    "start_time": "2022-05-09T14:01:45.143Z"
   },
   {
    "duration": 411,
    "start_time": "2022-05-09T14:01:45.458Z"
   },
   {
    "duration": 61,
    "start_time": "2022-05-09T14:01:45.872Z"
   },
   {
    "duration": 14,
    "start_time": "2022-05-09T14:01:45.935Z"
   },
   {
    "duration": 14,
    "start_time": "2022-05-09T14:01:45.951Z"
   },
   {
    "duration": 60,
    "start_time": "2022-05-09T14:01:45.967Z"
   },
   {
    "duration": 8,
    "start_time": "2022-05-09T14:01:46.029Z"
   },
   {
    "duration": 11,
    "start_time": "2022-05-09T14:02:17.528Z"
   },
   {
    "duration": 12,
    "start_time": "2022-05-09T14:02:22.865Z"
   },
   {
    "duration": 11,
    "start_time": "2022-05-09T14:02:25.983Z"
   },
   {
    "duration": 41,
    "start_time": "2022-05-09T14:05:12.151Z"
   },
   {
    "duration": 269,
    "start_time": "2022-05-09T14:05:36.077Z"
   },
   {
    "duration": 7,
    "start_time": "2022-05-09T14:06:56.227Z"
   },
   {
    "duration": 8,
    "start_time": "2022-05-09T14:08:40.190Z"
   },
   {
    "duration": 6,
    "start_time": "2022-05-09T14:08:42.974Z"
   },
   {
    "duration": 4,
    "start_time": "2022-05-09T14:08:43.602Z"
   },
   {
    "duration": 4,
    "start_time": "2022-05-09T14:08:57.350Z"
   },
   {
    "duration": 8,
    "start_time": "2022-05-09T14:08:57.940Z"
   },
   {
    "duration": 10,
    "start_time": "2022-05-09T14:09:01.366Z"
   },
   {
    "duration": 19,
    "start_time": "2022-05-09T14:10:14.338Z"
   },
   {
    "duration": 28,
    "start_time": "2022-05-09T14:10:28.817Z"
   },
   {
    "duration": 12,
    "start_time": "2022-05-09T14:10:38.047Z"
   },
   {
    "duration": 16,
    "start_time": "2022-05-09T14:10:54.468Z"
   },
   {
    "duration": 17,
    "start_time": "2022-05-09T14:11:02.484Z"
   },
   {
    "duration": 13,
    "start_time": "2022-05-09T14:11:58.834Z"
   },
   {
    "duration": 18,
    "start_time": "2022-05-09T14:14:52.468Z"
   },
   {
    "duration": 42,
    "start_time": "2022-05-09T14:15:44.522Z"
   },
   {
    "duration": 13,
    "start_time": "2022-05-09T14:15:45.347Z"
   },
   {
    "duration": 8,
    "start_time": "2022-05-09T14:15:46.830Z"
   },
   {
    "duration": 17,
    "start_time": "2022-05-09T14:16:20.974Z"
   },
   {
    "duration": 185,
    "start_time": "2022-05-09T14:16:21.831Z"
   },
   {
    "duration": 416,
    "start_time": "2022-05-09T14:16:28.671Z"
   },
   {
    "duration": 9,
    "start_time": "2022-05-09T14:16:29.475Z"
   },
   {
    "duration": 8,
    "start_time": "2022-05-09T14:16:30.957Z"
   },
   {
    "duration": 17,
    "start_time": "2022-05-09T14:16:59.717Z"
   },
   {
    "duration": 8,
    "start_time": "2022-05-09T14:26:14.979Z"
   },
   {
    "duration": 15,
    "start_time": "2022-05-09T14:26:20.454Z"
   },
   {
    "duration": 6,
    "start_time": "2022-05-09T14:26:59.846Z"
   },
   {
    "duration": 10,
    "start_time": "2022-05-09T14:27:35.255Z"
   },
   {
    "duration": 3,
    "start_time": "2022-05-09T14:27:38.714Z"
   },
   {
    "duration": 5,
    "start_time": "2022-05-09T14:27:39.223Z"
   },
   {
    "duration": 8,
    "start_time": "2022-05-09T14:28:17.612Z"
   },
   {
    "duration": 37,
    "start_time": "2022-05-09T14:29:50.702Z"
   },
   {
    "duration": 26,
    "start_time": "2022-05-09T14:30:29.260Z"
   },
   {
    "duration": 4,
    "start_time": "2022-05-09T14:30:38.665Z"
   },
   {
    "duration": 19,
    "start_time": "2022-05-09T14:30:39.441Z"
   },
   {
    "duration": 9,
    "start_time": "2022-05-09T14:31:05.794Z"
   },
   {
    "duration": 132,
    "start_time": "2022-05-09T14:31:25.015Z"
   },
   {
    "duration": 13,
    "start_time": "2022-05-09T14:31:34.284Z"
   },
   {
    "duration": 14,
    "start_time": "2022-05-09T14:31:52.352Z"
   },
   {
    "duration": 14,
    "start_time": "2022-05-09T14:31:57.843Z"
   },
   {
    "duration": 10,
    "start_time": "2022-05-09T14:32:30.054Z"
   },
   {
    "duration": 9,
    "start_time": "2022-05-09T14:32:39.601Z"
   },
   {
    "duration": 14,
    "start_time": "2022-05-09T14:32:58.554Z"
   },
   {
    "duration": 14,
    "start_time": "2022-05-09T14:33:27.503Z"
   },
   {
    "duration": 2106,
    "start_time": "2022-05-09T14:33:49.416Z"
   },
   {
    "duration": 6,
    "start_time": "2022-05-09T14:34:02.031Z"
   },
   {
    "duration": 2093,
    "start_time": "2022-05-09T14:34:02.637Z"
   },
   {
    "duration": 4,
    "start_time": "2022-05-09T14:34:09.835Z"
   },
   {
    "duration": 135,
    "start_time": "2022-05-09T14:34:09.841Z"
   },
   {
    "duration": 17,
    "start_time": "2022-05-09T14:34:09.978Z"
   },
   {
    "duration": 33,
    "start_time": "2022-05-09T14:34:09.997Z"
   },
   {
    "duration": 10,
    "start_time": "2022-05-09T14:34:10.034Z"
   },
   {
    "duration": 5,
    "start_time": "2022-05-09T14:34:10.047Z"
   },
   {
    "duration": 7,
    "start_time": "2022-05-09T14:34:10.053Z"
   },
   {
    "duration": 3,
    "start_time": "2022-05-09T14:34:10.062Z"
   },
   {
    "duration": 8,
    "start_time": "2022-05-09T14:34:10.067Z"
   },
   {
    "duration": 5,
    "start_time": "2022-05-09T14:34:10.076Z"
   },
   {
    "duration": 9,
    "start_time": "2022-05-09T14:34:10.083Z"
   },
   {
    "duration": 39,
    "start_time": "2022-05-09T14:34:10.094Z"
   },
   {
    "duration": 419,
    "start_time": "2022-05-09T14:34:10.136Z"
   },
   {
    "duration": 14,
    "start_time": "2022-05-09T14:34:10.558Z"
   },
   {
    "duration": 178,
    "start_time": "2022-05-09T14:34:10.574Z"
   },
   {
    "duration": 15,
    "start_time": "2022-05-09T14:34:10.754Z"
   },
   {
    "duration": 237,
    "start_time": "2022-05-09T14:34:10.770Z"
   },
   {
    "duration": 189,
    "start_time": "2022-05-09T14:34:11.009Z"
   },
   {
    "duration": 27,
    "start_time": "2022-05-09T14:34:11.200Z"
   },
   {
    "duration": 202,
    "start_time": "2022-05-09T14:34:11.229Z"
   },
   {
    "duration": 19,
    "start_time": "2022-05-09T14:34:11.434Z"
   },
   {
    "duration": 38,
    "start_time": "2022-05-09T14:34:11.455Z"
   },
   {
    "duration": 13,
    "start_time": "2022-05-09T14:34:11.494Z"
   },
   {
    "duration": 15,
    "start_time": "2022-05-09T14:34:11.527Z"
   },
   {
    "duration": 17,
    "start_time": "2022-05-09T14:34:11.544Z"
   },
   {
    "duration": 202,
    "start_time": "2022-05-09T14:34:11.563Z"
   },
   {
    "duration": 400,
    "start_time": "2022-05-09T14:34:11.767Z"
   },
   {
    "duration": 9,
    "start_time": "2022-05-09T14:34:12.169Z"
   },
   {
    "duration": 19,
    "start_time": "2022-05-09T14:34:12.180Z"
   },
   {
    "duration": 29,
    "start_time": "2022-05-09T14:34:12.201Z"
   },
   {
    "duration": 27,
    "start_time": "2022-05-09T14:34:12.232Z"
   },
   {
    "duration": 14,
    "start_time": "2022-05-09T14:34:12.260Z"
   },
   {
    "duration": 2095,
    "start_time": "2022-05-09T14:34:12.275Z"
   },
   {
    "duration": 0,
    "start_time": "2022-05-09T14:34:14.372Z"
   },
   {
    "duration": 0,
    "start_time": "2022-05-09T14:34:14.374Z"
   },
   {
    "duration": 0,
    "start_time": "2022-05-09T14:34:14.375Z"
   },
   {
    "duration": 0,
    "start_time": "2022-05-09T14:34:14.376Z"
   },
   {
    "duration": 14,
    "start_time": "2022-05-09T14:34:34.100Z"
   },
   {
    "duration": 17,
    "start_time": "2022-05-09T14:35:04.904Z"
   },
   {
    "duration": 8,
    "start_time": "2022-05-09T14:35:24.856Z"
   },
   {
    "duration": 11,
    "start_time": "2022-05-09T14:35:29.118Z"
   },
   {
    "duration": 5,
    "start_time": "2022-05-09T14:35:55.915Z"
   },
   {
    "duration": 4,
    "start_time": "2022-05-09T14:36:04.984Z"
   },
   {
    "duration": 4,
    "start_time": "2022-05-09T14:36:12.933Z"
   },
   {
    "duration": 8,
    "start_time": "2022-05-09T14:36:48.257Z"
   },
   {
    "duration": 14,
    "start_time": "2022-05-09T14:37:43.524Z"
   },
   {
    "duration": 21,
    "start_time": "2022-05-09T14:38:05.196Z"
   },
   {
    "duration": 5,
    "start_time": "2022-05-09T14:38:20.150Z"
   },
   {
    "duration": 4,
    "start_time": "2022-05-09T14:38:33.542Z"
   },
   {
    "duration": 7,
    "start_time": "2022-05-09T14:38:41.264Z"
   },
   {
    "duration": 9,
    "start_time": "2022-05-09T14:38:55.451Z"
   },
   {
    "duration": 11,
    "start_time": "2022-05-09T14:39:45.467Z"
   },
   {
    "duration": 6,
    "start_time": "2022-05-09T14:39:57.257Z"
   },
   {
    "duration": 18,
    "start_time": "2022-05-09T14:41:08.719Z"
   },
   {
    "duration": 17,
    "start_time": "2022-05-09T14:46:15.386Z"
   },
   {
    "duration": 31,
    "start_time": "2022-05-09T14:46:29.052Z"
   },
   {
    "duration": 26,
    "start_time": "2022-05-09T14:46:42.019Z"
   },
   {
    "duration": 22,
    "start_time": "2022-05-09T14:47:02.283Z"
   },
   {
    "duration": 18,
    "start_time": "2022-05-09T14:47:17.600Z"
   },
   {
    "duration": 21,
    "start_time": "2022-05-09T14:47:36.684Z"
   },
   {
    "duration": 15,
    "start_time": "2022-05-09T14:56:29.565Z"
   },
   {
    "duration": 23,
    "start_time": "2022-05-09T14:56:54.535Z"
   },
   {
    "duration": 30,
    "start_time": "2022-05-09T14:57:15.397Z"
   },
   {
    "duration": 22,
    "start_time": "2022-05-09T14:57:41.155Z"
   },
   {
    "duration": 18,
    "start_time": "2022-05-09T14:57:48.678Z"
   },
   {
    "duration": 11,
    "start_time": "2022-05-09T14:57:53.547Z"
   },
   {
    "duration": 16,
    "start_time": "2022-05-09T15:00:55.667Z"
   },
   {
    "duration": 25,
    "start_time": "2022-05-09T15:01:08.294Z"
   },
   {
    "duration": 26,
    "start_time": "2022-05-09T15:01:37.294Z"
   },
   {
    "duration": 15,
    "start_time": "2022-05-09T15:01:43.662Z"
   },
   {
    "duration": 18,
    "start_time": "2022-05-09T15:01:59.153Z"
   },
   {
    "duration": 18,
    "start_time": "2022-05-09T15:02:12.298Z"
   },
   {
    "duration": 16,
    "start_time": "2022-05-09T15:02:49.942Z"
   },
   {
    "duration": 20,
    "start_time": "2022-05-09T15:03:25.315Z"
   },
   {
    "duration": 18,
    "start_time": "2022-05-09T15:03:48.329Z"
   },
   {
    "duration": 28,
    "start_time": "2022-05-09T15:03:57.937Z"
   },
   {
    "duration": 17,
    "start_time": "2022-05-09T15:05:16.345Z"
   },
   {
    "duration": 11,
    "start_time": "2022-05-09T15:05:23.093Z"
   },
   {
    "duration": 4,
    "start_time": "2022-05-09T15:09:58.305Z"
   },
   {
    "duration": 15,
    "start_time": "2022-05-09T15:11:23.930Z"
   },
   {
    "duration": 8,
    "start_time": "2022-05-09T15:11:48.590Z"
   },
   {
    "duration": 8,
    "start_time": "2022-05-09T15:12:02.720Z"
   },
   {
    "duration": 9,
    "start_time": "2022-05-09T15:12:38.606Z"
   },
   {
    "duration": 8,
    "start_time": "2022-05-09T15:12:48.065Z"
   },
   {
    "duration": 5,
    "start_time": "2022-05-09T15:13:05.938Z"
   },
   {
    "duration": 8,
    "start_time": "2022-05-09T15:13:45.647Z"
   },
   {
    "duration": 4,
    "start_time": "2022-05-09T15:14:49.248Z"
   },
   {
    "duration": 8,
    "start_time": "2022-05-09T15:14:52.294Z"
   },
   {
    "duration": 9,
    "start_time": "2022-05-09T15:14:52.782Z"
   },
   {
    "duration": 4,
    "start_time": "2022-05-09T15:15:08.854Z"
   },
   {
    "duration": 4,
    "start_time": "2022-05-09T15:15:19.773Z"
   },
   {
    "duration": 14,
    "start_time": "2022-05-09T15:15:55.524Z"
   },
   {
    "duration": 12,
    "start_time": "2022-05-09T15:16:20.561Z"
   },
   {
    "duration": 11,
    "start_time": "2022-05-09T15:16:32.485Z"
   },
   {
    "duration": 11,
    "start_time": "2022-05-09T15:16:50.337Z"
   },
   {
    "duration": 14,
    "start_time": "2022-05-09T15:19:14.536Z"
   },
   {
    "duration": 14,
    "start_time": "2022-05-09T15:19:20.801Z"
   },
   {
    "duration": 12,
    "start_time": "2022-05-09T15:19:35.692Z"
   },
   {
    "duration": 8,
    "start_time": "2022-05-09T15:19:56.543Z"
   },
   {
    "duration": 9,
    "start_time": "2022-05-09T15:20:29.010Z"
   },
   {
    "duration": 8,
    "start_time": "2022-05-09T15:20:56.620Z"
   },
   {
    "duration": 19,
    "start_time": "2022-05-09T15:21:37.783Z"
   },
   {
    "duration": 12,
    "start_time": "2022-05-09T15:21:50.152Z"
   },
   {
    "duration": 7,
    "start_time": "2022-05-09T15:22:11.568Z"
   },
   {
    "duration": 12,
    "start_time": "2022-05-09T15:22:12.163Z"
   },
   {
    "duration": 12,
    "start_time": "2022-05-09T15:22:52.075Z"
   },
   {
    "duration": 11,
    "start_time": "2022-05-09T15:23:19.874Z"
   },
   {
    "duration": 10,
    "start_time": "2022-05-09T15:23:42.608Z"
   },
   {
    "duration": 5,
    "start_time": "2022-05-09T15:23:50.980Z"
   },
   {
    "duration": 9,
    "start_time": "2022-05-09T15:24:31.140Z"
   },
   {
    "duration": 3,
    "start_time": "2022-05-09T15:24:44.707Z"
   },
   {
    "duration": 4,
    "start_time": "2022-05-09T15:24:49.140Z"
   },
   {
    "duration": 7,
    "start_time": "2022-05-09T15:28:10.718Z"
   },
   {
    "duration": 17,
    "start_time": "2022-05-09T15:28:14.599Z"
   },
   {
    "duration": 129,
    "start_time": "2022-05-09T15:28:54.570Z"
   },
   {
    "duration": 12,
    "start_time": "2022-05-09T15:28:57.473Z"
   },
   {
    "duration": 13,
    "start_time": "2022-05-09T15:29:54.217Z"
   },
   {
    "duration": 9,
    "start_time": "2022-05-09T15:31:19.142Z"
   },
   {
    "duration": 53,
    "start_time": "2022-05-09T17:22:11.768Z"
   },
   {
    "duration": 6,
    "start_time": "2022-05-09T17:22:12.266Z"
   },
   {
    "duration": 1495,
    "start_time": "2022-05-09T17:22:14.917Z"
   },
   {
    "duration": 187,
    "start_time": "2022-05-09T17:22:16.414Z"
   },
   {
    "duration": 26,
    "start_time": "2022-05-09T17:22:16.602Z"
   },
   {
    "duration": 24,
    "start_time": "2022-05-09T17:22:16.631Z"
   },
   {
    "duration": 9,
    "start_time": "2022-05-09T17:22:16.657Z"
   },
   {
    "duration": 6,
    "start_time": "2022-05-09T17:22:16.668Z"
   },
   {
    "duration": 6,
    "start_time": "2022-05-09T17:22:16.675Z"
   },
   {
    "duration": 4,
    "start_time": "2022-05-09T17:22:16.683Z"
   },
   {
    "duration": 8,
    "start_time": "2022-05-09T17:22:16.689Z"
   },
   {
    "duration": 36,
    "start_time": "2022-05-09T17:22:16.700Z"
   },
   {
    "duration": 13,
    "start_time": "2022-05-09T17:22:16.738Z"
   },
   {
    "duration": 13,
    "start_time": "2022-05-09T17:22:16.753Z"
   },
   {
    "duration": 346,
    "start_time": "2022-05-09T17:22:16.768Z"
   },
   {
    "duration": 25,
    "start_time": "2022-05-09T17:22:17.116Z"
   },
   {
    "duration": 182,
    "start_time": "2022-05-09T17:22:17.143Z"
   },
   {
    "duration": 21,
    "start_time": "2022-05-09T17:22:17.327Z"
   },
   {
    "duration": 255,
    "start_time": "2022-05-09T17:22:17.350Z"
   },
   {
    "duration": 213,
    "start_time": "2022-05-09T17:22:17.607Z"
   },
   {
    "duration": 23,
    "start_time": "2022-05-09T17:22:17.821Z"
   },
   {
    "duration": 207,
    "start_time": "2022-05-09T17:22:17.845Z"
   },
   {
    "duration": 36,
    "start_time": "2022-05-09T17:22:18.054Z"
   },
   {
    "duration": 46,
    "start_time": "2022-05-09T17:22:18.091Z"
   },
   {
    "duration": 24,
    "start_time": "2022-05-09T17:22:18.138Z"
   },
   {
    "duration": 10,
    "start_time": "2022-05-09T17:22:18.164Z"
   },
   {
    "duration": 16,
    "start_time": "2022-05-09T17:22:18.176Z"
   },
   {
    "duration": 305,
    "start_time": "2022-05-09T17:22:18.193Z"
   },
   {
    "duration": 454,
    "start_time": "2022-05-09T17:22:18.499Z"
   },
   {
    "duration": 9,
    "start_time": "2022-05-09T17:22:18.956Z"
   },
   {
    "duration": 8,
    "start_time": "2022-05-09T17:22:18.967Z"
   },
   {
    "duration": 13,
    "start_time": "2022-05-09T17:22:18.977Z"
   },
   {
    "duration": 12,
    "start_time": "2022-05-09T17:22:18.992Z"
   },
   {
    "duration": 29,
    "start_time": "2022-05-09T17:22:19.006Z"
   },
   {
    "duration": 12,
    "start_time": "2022-05-09T17:22:19.037Z"
   },
   {
    "duration": 18,
    "start_time": "2022-05-09T17:22:19.050Z"
   },
   {
    "duration": 7,
    "start_time": "2022-05-09T17:22:19.069Z"
   },
   {
    "duration": 10,
    "start_time": "2022-05-09T17:22:19.077Z"
   },
   {
    "duration": 11,
    "start_time": "2022-05-09T17:22:19.089Z"
   },
   {
    "duration": 4,
    "start_time": "2022-05-09T17:22:53.590Z"
   },
   {
    "duration": 7,
    "start_time": "2022-05-09T17:22:54.058Z"
   },
   {
    "duration": 9,
    "start_time": "2022-05-09T17:24:21.681Z"
   },
   {
    "duration": 70,
    "start_time": "2022-05-09T17:25:15.942Z"
   },
   {
    "duration": 4,
    "start_time": "2022-05-09T17:25:29.770Z"
   },
   {
    "duration": 10,
    "start_time": "2022-05-09T17:26:14.794Z"
   },
   {
    "duration": 11,
    "start_time": "2022-05-09T17:26:59.376Z"
   },
   {
    "duration": 14,
    "start_time": "2022-05-09T17:30:39.952Z"
   },
   {
    "duration": 56148,
    "start_time": "2022-05-09T17:31:01.938Z"
   },
   {
    "duration": 19,
    "start_time": "2022-05-09T17:32:42.332Z"
   },
   {
    "duration": 18,
    "start_time": "2022-05-09T17:33:00.028Z"
   },
   {
    "duration": 17,
    "start_time": "2022-05-09T17:33:11.478Z"
   },
   {
    "duration": 3,
    "start_time": "2022-05-09T17:40:47.975Z"
   },
   {
    "duration": 160,
    "start_time": "2022-05-09T17:40:47.980Z"
   },
   {
    "duration": 20,
    "start_time": "2022-05-09T17:40:48.141Z"
   },
   {
    "duration": 22,
    "start_time": "2022-05-09T17:40:48.163Z"
   },
   {
    "duration": 9,
    "start_time": "2022-05-09T17:40:48.187Z"
   },
   {
    "duration": 5,
    "start_time": "2022-05-09T17:40:48.198Z"
   },
   {
    "duration": 45,
    "start_time": "2022-05-09T17:40:48.204Z"
   },
   {
    "duration": 10,
    "start_time": "2022-05-09T17:40:48.250Z"
   },
   {
    "duration": 13,
    "start_time": "2022-05-09T17:40:48.262Z"
   },
   {
    "duration": 15,
    "start_time": "2022-05-09T17:40:48.277Z"
   },
   {
    "duration": 17,
    "start_time": "2022-05-09T17:40:48.294Z"
   },
   {
    "duration": 13,
    "start_time": "2022-05-09T17:40:48.315Z"
   },
   {
    "duration": 300,
    "start_time": "2022-05-09T17:40:48.329Z"
   },
   {
    "duration": 15,
    "start_time": "2022-05-09T17:40:48.633Z"
   },
   {
    "duration": 186,
    "start_time": "2022-05-09T17:40:48.650Z"
   },
   {
    "duration": 16,
    "start_time": "2022-05-09T17:40:48.838Z"
   },
   {
    "duration": 259,
    "start_time": "2022-05-09T17:40:48.856Z"
   },
   {
    "duration": 207,
    "start_time": "2022-05-09T17:40:49.117Z"
   },
   {
    "duration": 18,
    "start_time": "2022-05-09T17:40:49.325Z"
   },
   {
    "duration": 207,
    "start_time": "2022-05-09T17:40:49.345Z"
   },
   {
    "duration": 15,
    "start_time": "2022-05-09T17:40:49.554Z"
   },
   {
    "duration": 64,
    "start_time": "2022-05-09T17:40:49.571Z"
   },
   {
    "duration": 15,
    "start_time": "2022-05-09T17:40:49.637Z"
   },
   {
    "duration": 11,
    "start_time": "2022-05-09T17:40:49.654Z"
   },
   {
    "duration": 25,
    "start_time": "2022-05-09T17:40:49.666Z"
   },
   {
    "duration": 242,
    "start_time": "2022-05-09T17:40:49.693Z"
   },
   {
    "duration": 627,
    "start_time": "2022-05-09T17:40:49.937Z"
   },
   {
    "duration": 9,
    "start_time": "2022-05-09T17:40:50.566Z"
   },
   {
    "duration": 7,
    "start_time": "2022-05-09T17:40:50.577Z"
   },
   {
    "duration": 19,
    "start_time": "2022-05-09T17:40:50.586Z"
   },
   {
    "duration": 31,
    "start_time": "2022-05-09T17:40:50.607Z"
   },
   {
    "duration": 5,
    "start_time": "2022-05-09T17:40:50.640Z"
   },
   {
    "duration": 11,
    "start_time": "2022-05-09T17:40:50.647Z"
   },
   {
    "duration": 4,
    "start_time": "2022-05-09T17:40:50.659Z"
   },
   {
    "duration": 13,
    "start_time": "2022-05-09T17:40:50.665Z"
   },
   {
    "duration": 13,
    "start_time": "2022-05-09T17:40:50.680Z"
   },
   {
    "duration": 41,
    "start_time": "2022-05-09T17:40:50.694Z"
   },
   {
    "duration": 18,
    "start_time": "2022-05-09T17:40:50.737Z"
   },
   {
    "duration": 57916,
    "start_time": "2022-05-09T17:40:50.757Z"
   },
   {
    "duration": 17,
    "start_time": "2022-05-09T17:45:15.841Z"
   },
   {
    "duration": 19,
    "start_time": "2022-05-09T17:45:39.424Z"
   },
   {
    "duration": 19,
    "start_time": "2022-05-09T17:45:51.864Z"
   },
   {
    "duration": 18,
    "start_time": "2022-05-09T17:46:07.823Z"
   },
   {
    "duration": 20,
    "start_time": "2022-05-09T17:46:32.431Z"
   },
   {
    "duration": 19,
    "start_time": "2022-05-09T17:46:46.726Z"
   },
   {
    "duration": 18,
    "start_time": "2022-05-09T17:47:26.466Z"
   },
   {
    "duration": 21,
    "start_time": "2022-05-09T17:47:44.083Z"
   },
   {
    "duration": 43519,
    "start_time": "2022-05-09T17:48:31.006Z"
   },
   {
    "duration": 39820,
    "start_time": "2022-05-09T17:49:28.511Z"
   },
   {
    "duration": 139,
    "start_time": "2022-05-09T17:50:58.626Z"
   },
   {
    "duration": 194,
    "start_time": "2022-05-09T17:51:06.109Z"
   },
   {
    "duration": 256,
    "start_time": "2022-05-09T17:51:29.589Z"
   },
   {
    "duration": 193,
    "start_time": "2022-05-09T17:51:35.718Z"
   },
   {
    "duration": 18,
    "start_time": "2022-05-09T17:52:38.625Z"
   },
   {
    "duration": 255,
    "start_time": "2022-05-09T17:52:39.425Z"
   },
   {
    "duration": 255,
    "start_time": "2022-05-09T17:52:43.565Z"
   },
   {
    "duration": 187,
    "start_time": "2022-05-09T17:53:02.286Z"
   },
   {
    "duration": 20,
    "start_time": "2022-05-09T17:53:10.785Z"
   },
   {
    "duration": 188,
    "start_time": "2022-05-09T17:53:14.448Z"
   },
   {
    "duration": 9,
    "start_time": "2022-05-09T17:56:59.688Z"
   },
   {
    "duration": 5,
    "start_time": "2022-05-09T17:57:04.012Z"
   },
   {
    "duration": 14,
    "start_time": "2022-05-09T17:57:04.845Z"
   },
   {
    "duration": 9,
    "start_time": "2022-05-09T17:57:20.433Z"
   },
   {
    "duration": 275,
    "start_time": "2022-05-09T18:00:01.617Z"
   },
   {
    "duration": 278,
    "start_time": "2022-05-09T18:00:14.500Z"
   },
   {
    "duration": 18,
    "start_time": "2022-05-09T18:00:28.375Z"
   },
   {
    "duration": 181,
    "start_time": "2022-05-09T18:00:29.170Z"
   },
   {
    "duration": 275,
    "start_time": "2022-05-09T18:00:30.316Z"
   },
   {
    "duration": 262,
    "start_time": "2022-05-09T18:00:34.858Z"
   },
   {
    "duration": 19,
    "start_time": "2022-05-09T18:00:51.778Z"
   },
   {
    "duration": 266,
    "start_time": "2022-05-09T18:03:29.941Z"
   },
   {
    "duration": 19,
    "start_time": "2022-05-09T18:03:49.560Z"
   },
   {
    "duration": 255,
    "start_time": "2022-05-09T18:03:50.887Z"
   },
   {
    "duration": 177,
    "start_time": "2022-05-09T18:04:12.872Z"
   },
   {
    "duration": 21,
    "start_time": "2022-05-09T18:04:26.113Z"
   },
   {
    "duration": 192,
    "start_time": "2022-05-09T18:04:31.319Z"
   },
   {
    "duration": 20,
    "start_time": "2022-05-09T18:08:54.161Z"
   },
   {
    "duration": 12,
    "start_time": "2022-05-09T18:10:04.869Z"
   },
   {
    "duration": 13,
    "start_time": "2022-05-09T18:10:12.615Z"
   },
   {
    "duration": 19,
    "start_time": "2022-05-09T18:10:22.615Z"
   },
   {
    "duration": 196,
    "start_time": "2022-05-09T18:10:22.916Z"
   },
   {
    "duration": 12,
    "start_time": "2022-05-09T18:10:23.129Z"
   },
   {
    "duration": 9,
    "start_time": "2022-05-09T18:14:23.045Z"
   },
   {
    "duration": 2747,
    "start_time": "2022-05-09T18:14:36.345Z"
   },
   {
    "duration": 183,
    "start_time": "2022-05-09T18:14:50.379Z"
   },
   {
    "duration": 297,
    "start_time": "2022-05-09T18:23:30.729Z"
   },
   {
    "duration": 282,
    "start_time": "2022-05-09T18:23:58.603Z"
   },
   {
    "duration": 276,
    "start_time": "2022-05-09T18:24:14.306Z"
   },
   {
    "duration": 276,
    "start_time": "2022-05-09T18:24:27.636Z"
   },
   {
    "duration": 279,
    "start_time": "2022-05-09T18:24:36.803Z"
   },
   {
    "duration": 294,
    "start_time": "2022-05-09T18:25:01.099Z"
   },
   {
    "duration": 280,
    "start_time": "2022-05-09T18:25:13.328Z"
   },
   {
    "duration": 3,
    "start_time": "2022-05-09T18:25:21.690Z"
   },
   {
    "duration": 140,
    "start_time": "2022-05-09T18:25:21.695Z"
   },
   {
    "duration": 20,
    "start_time": "2022-05-09T18:25:21.837Z"
   },
   {
    "duration": 23,
    "start_time": "2022-05-09T18:25:21.859Z"
   },
   {
    "duration": 8,
    "start_time": "2022-05-09T18:25:21.885Z"
   },
   {
    "duration": 6,
    "start_time": "2022-05-09T18:25:21.894Z"
   },
   {
    "duration": 35,
    "start_time": "2022-05-09T18:25:21.901Z"
   },
   {
    "duration": 4,
    "start_time": "2022-05-09T18:25:21.938Z"
   },
   {
    "duration": 8,
    "start_time": "2022-05-09T18:25:21.943Z"
   },
   {
    "duration": 5,
    "start_time": "2022-05-09T18:25:21.953Z"
   },
   {
    "duration": 12,
    "start_time": "2022-05-09T18:25:21.959Z"
   },
   {
    "duration": 18,
    "start_time": "2022-05-09T18:25:21.972Z"
   },
   {
    "duration": 359,
    "start_time": "2022-05-09T18:25:21.992Z"
   },
   {
    "duration": 15,
    "start_time": "2022-05-09T18:25:22.355Z"
   },
   {
    "duration": 178,
    "start_time": "2022-05-09T18:25:22.372Z"
   },
   {
    "duration": 15,
    "start_time": "2022-05-09T18:25:22.551Z"
   },
   {
    "duration": 242,
    "start_time": "2022-05-09T18:25:22.567Z"
   },
   {
    "duration": 206,
    "start_time": "2022-05-09T18:25:22.811Z"
   },
   {
    "duration": 19,
    "start_time": "2022-05-09T18:25:23.018Z"
   },
   {
    "duration": 213,
    "start_time": "2022-05-09T18:25:23.039Z"
   },
   {
    "duration": 16,
    "start_time": "2022-05-09T18:25:23.253Z"
   },
   {
    "duration": 80,
    "start_time": "2022-05-09T18:25:23.271Z"
   },
   {
    "duration": 16,
    "start_time": "2022-05-09T18:25:23.353Z"
   },
   {
    "duration": 15,
    "start_time": "2022-05-09T18:25:23.370Z"
   },
   {
    "duration": 18,
    "start_time": "2022-05-09T18:25:23.387Z"
   },
   {
    "duration": 302,
    "start_time": "2022-05-09T18:25:23.407Z"
   },
   {
    "duration": 425,
    "start_time": "2022-05-09T18:25:23.710Z"
   },
   {
    "duration": 8,
    "start_time": "2022-05-09T18:25:24.137Z"
   },
   {
    "duration": 9,
    "start_time": "2022-05-09T18:25:24.147Z"
   },
   {
    "duration": 17,
    "start_time": "2022-05-09T18:25:24.157Z"
   },
   {
    "duration": 12,
    "start_time": "2022-05-09T18:25:24.177Z"
   },
   {
    "duration": 5,
    "start_time": "2022-05-09T18:25:24.191Z"
   },
   {
    "duration": 41,
    "start_time": "2022-05-09T18:25:24.197Z"
   },
   {
    "duration": 11,
    "start_time": "2022-05-09T18:25:24.240Z"
   },
   {
    "duration": 18,
    "start_time": "2022-05-09T18:25:24.253Z"
   },
   {
    "duration": 12,
    "start_time": "2022-05-09T18:25:24.273Z"
   },
   {
    "duration": 13,
    "start_time": "2022-05-09T18:25:24.287Z"
   },
   {
    "duration": 38,
    "start_time": "2022-05-09T18:25:24.302Z"
   },
   {
    "duration": 210,
    "start_time": "2022-05-09T18:25:24.341Z"
   },
   {
    "duration": 134,
    "start_time": "2022-05-09T18:25:24.553Z"
   },
   {
    "duration": 123,
    "start_time": "2022-05-09T18:25:33.365Z"
   },
   {
    "duration": 295,
    "start_time": "2022-05-09T18:26:17.669Z"
   },
   {
    "duration": 280,
    "start_time": "2022-05-09T18:26:28.966Z"
   },
   {
    "duration": 289,
    "start_time": "2022-05-09T18:26:49.719Z"
   },
   {
    "duration": 305,
    "start_time": "2022-05-09T18:26:59.527Z"
   },
   {
    "duration": 82,
    "start_time": "2022-05-10T10:52:55.419Z"
   },
   {
    "duration": 1346,
    "start_time": "2022-05-10T10:52:58.817Z"
   },
   {
    "duration": 139,
    "start_time": "2022-05-10T10:53:00.166Z"
   },
   {
    "duration": 23,
    "start_time": "2022-05-10T10:53:00.306Z"
   },
   {
    "duration": 27,
    "start_time": "2022-05-10T10:53:00.330Z"
   },
   {
    "duration": 32,
    "start_time": "2022-05-10T10:53:00.360Z"
   },
   {
    "duration": 5,
    "start_time": "2022-05-10T10:53:00.393Z"
   },
   {
    "duration": 11,
    "start_time": "2022-05-10T10:53:00.400Z"
   },
   {
    "duration": 10,
    "start_time": "2022-05-10T10:53:00.413Z"
   },
   {
    "duration": 24,
    "start_time": "2022-05-10T10:53:00.424Z"
   },
   {
    "duration": 14,
    "start_time": "2022-05-10T10:53:00.450Z"
   },
   {
    "duration": 29,
    "start_time": "2022-05-10T10:53:00.465Z"
   },
   {
    "duration": 18,
    "start_time": "2022-05-10T10:53:00.496Z"
   },
   {
    "duration": 281,
    "start_time": "2022-05-10T10:53:00.516Z"
   },
   {
    "duration": 15,
    "start_time": "2022-05-10T10:53:00.800Z"
   },
   {
    "duration": 171,
    "start_time": "2022-05-10T10:53:00.816Z"
   },
   {
    "duration": 15,
    "start_time": "2022-05-10T10:53:00.992Z"
   },
   {
    "duration": 236,
    "start_time": "2022-05-10T10:53:01.009Z"
   },
   {
    "duration": 194,
    "start_time": "2022-05-10T10:53:01.247Z"
   },
   {
    "duration": 15,
    "start_time": "2022-05-10T10:53:01.443Z"
   },
   {
    "duration": 194,
    "start_time": "2022-05-10T10:53:01.460Z"
   },
   {
    "duration": 38,
    "start_time": "2022-05-10T10:53:01.656Z"
   },
   {
    "duration": 51,
    "start_time": "2022-05-10T10:53:01.695Z"
   },
   {
    "duration": 33,
    "start_time": "2022-05-10T10:53:01.748Z"
   },
   {
    "duration": 35,
    "start_time": "2022-05-10T10:53:01.782Z"
   },
   {
    "duration": 49,
    "start_time": "2022-05-10T10:53:01.819Z"
   },
   {
    "duration": 269,
    "start_time": "2022-05-10T10:53:01.869Z"
   },
   {
    "duration": 415,
    "start_time": "2022-05-10T10:53:02.140Z"
   },
   {
    "duration": 12,
    "start_time": "2022-05-10T10:53:02.556Z"
   },
   {
    "duration": 10,
    "start_time": "2022-05-10T10:53:02.569Z"
   },
   {
    "duration": 22,
    "start_time": "2022-05-10T10:53:02.581Z"
   },
   {
    "duration": 12,
    "start_time": "2022-05-10T10:53:02.605Z"
   },
   {
    "duration": 5,
    "start_time": "2022-05-10T10:53:02.618Z"
   },
   {
    "duration": 23,
    "start_time": "2022-05-10T10:53:02.625Z"
   },
   {
    "duration": 5,
    "start_time": "2022-05-10T10:53:02.650Z"
   },
   {
    "duration": 26,
    "start_time": "2022-05-10T10:53:02.656Z"
   },
   {
    "duration": 33,
    "start_time": "2022-05-10T10:53:02.685Z"
   },
   {
    "duration": 24,
    "start_time": "2022-05-10T10:53:02.720Z"
   },
   {
    "duration": 20,
    "start_time": "2022-05-10T10:53:02.746Z"
   },
   {
    "duration": 247,
    "start_time": "2022-05-10T10:53:02.768Z"
   },
   {
    "duration": 176,
    "start_time": "2022-05-10T10:56:01.141Z"
   },
   {
    "duration": 15,
    "start_time": "2022-05-10T10:56:29.238Z"
   },
   {
    "duration": 13,
    "start_time": "2022-05-10T10:56:33.240Z"
   },
   {
    "duration": 13,
    "start_time": "2022-05-10T10:56:39.184Z"
   },
   {
    "duration": 17,
    "start_time": "2022-05-10T10:58:58.644Z"
   },
   {
    "duration": 252,
    "start_time": "2022-05-10T10:59:11.324Z"
   },
   {
    "duration": 111,
    "start_time": "2022-05-10T10:59:36.983Z"
   },
   {
    "duration": 132,
    "start_time": "2022-05-10T10:59:52.492Z"
   },
   {
    "duration": 104,
    "start_time": "2022-05-10T11:00:02.948Z"
   },
   {
    "duration": 115,
    "start_time": "2022-05-10T11:00:14.057Z"
   },
   {
    "duration": 122,
    "start_time": "2022-05-10T11:00:26.171Z"
   },
   {
    "duration": 120,
    "start_time": "2022-05-10T11:00:53.200Z"
   },
   {
    "duration": 327,
    "start_time": "2022-05-10T11:01:07.705Z"
   },
   {
    "duration": 232,
    "start_time": "2022-05-10T11:01:29.779Z"
   },
   {
    "duration": 101,
    "start_time": "2022-05-10T11:15:58.272Z"
   },
   {
    "duration": 165,
    "start_time": "2022-05-10T11:16:15.138Z"
   },
   {
    "duration": 322,
    "start_time": "2022-05-10T11:18:03.419Z"
   },
   {
    "duration": 230,
    "start_time": "2022-05-10T11:18:15.119Z"
   },
   {
    "duration": 223,
    "start_time": "2022-05-10T11:18:22.218Z"
   },
   {
    "duration": 306,
    "start_time": "2022-05-10T11:19:05.661Z"
   },
   {
    "duration": 225,
    "start_time": "2022-05-10T11:19:27.835Z"
   },
   {
    "duration": 226,
    "start_time": "2022-05-10T11:19:39.947Z"
   },
   {
    "duration": 448,
    "start_time": "2022-05-10T11:19:51.456Z"
   },
   {
    "duration": 239,
    "start_time": "2022-05-10T11:21:29.485Z"
   },
   {
    "duration": 252,
    "start_time": "2022-05-10T11:22:06.995Z"
   },
   {
    "duration": 344,
    "start_time": "2022-05-10T11:23:27.584Z"
   },
   {
    "duration": 408,
    "start_time": "2022-05-10T11:23:40.266Z"
   },
   {
    "duration": 419,
    "start_time": "2022-05-10T11:23:49.655Z"
   },
   {
    "duration": 192,
    "start_time": "2022-05-10T11:24:07.665Z"
   },
   {
    "duration": 359,
    "start_time": "2022-05-10T11:24:16.100Z"
   },
   {
    "duration": 254,
    "start_time": "2022-05-10T11:26:33.631Z"
   },
   {
    "duration": 243,
    "start_time": "2022-05-10T11:26:59.656Z"
   },
   {
    "duration": 250,
    "start_time": "2022-05-10T11:27:08.547Z"
   },
   {
    "duration": 249,
    "start_time": "2022-05-10T11:27:43.546Z"
   },
   {
    "duration": 268,
    "start_time": "2022-05-10T11:28:53.982Z"
   },
   {
    "duration": 249,
    "start_time": "2022-05-10T11:30:04.181Z"
   },
   {
    "duration": 362,
    "start_time": "2022-05-10T11:31:21.261Z"
   },
   {
    "duration": 247,
    "start_time": "2022-05-10T11:32:16.495Z"
   },
   {
    "duration": 246,
    "start_time": "2022-05-10T11:33:04.038Z"
   },
   {
    "duration": 302,
    "start_time": "2022-05-10T11:33:12.274Z"
   },
   {
    "duration": 237,
    "start_time": "2022-05-10T11:33:39.324Z"
   },
   {
    "duration": 258,
    "start_time": "2022-05-10T11:34:01.691Z"
   },
   {
    "duration": 250,
    "start_time": "2022-05-10T11:35:36.380Z"
   },
   {
    "duration": 368,
    "start_time": "2022-05-10T11:35:54.845Z"
   },
   {
    "duration": 259,
    "start_time": "2022-05-10T11:36:14.940Z"
   },
   {
    "duration": 53,
    "start_time": "2022-05-10T11:39:56.899Z"
   },
   {
    "duration": 19,
    "start_time": "2022-05-10T11:39:59.334Z"
   },
   {
    "duration": 11,
    "start_time": "2022-05-10T11:42:05.501Z"
   },
   {
    "duration": 5,
    "start_time": "2022-05-10T11:42:18.814Z"
   },
   {
    "duration": 2,
    "start_time": "2022-05-10T11:42:19.386Z"
   },
   {
    "duration": 6,
    "start_time": "2022-05-10T11:42:19.811Z"
   },
   {
    "duration": 4,
    "start_time": "2022-05-10T11:42:20.277Z"
   },
   {
    "duration": 8,
    "start_time": "2022-05-10T11:42:20.818Z"
   },
   {
    "duration": 11,
    "start_time": "2022-05-10T11:42:22.887Z"
   },
   {
    "duration": 275,
    "start_time": "2022-05-10T11:42:45.382Z"
   },
   {
    "duration": 14,
    "start_time": "2022-05-10T11:43:57.286Z"
   },
   {
    "duration": 141,
    "start_time": "2022-05-10T11:44:04.154Z"
   },
   {
    "duration": 141,
    "start_time": "2022-05-10T11:44:25.932Z"
   },
   {
    "duration": 14,
    "start_time": "2022-05-10T11:45:51.100Z"
   },
   {
    "duration": 219,
    "start_time": "2022-05-10T11:46:13.479Z"
   },
   {
    "duration": 165,
    "start_time": "2022-05-10T11:46:37.889Z"
   },
   {
    "duration": 13,
    "start_time": "2022-05-10T11:52:26.555Z"
   },
   {
    "duration": 217,
    "start_time": "2022-05-10T11:52:27.942Z"
   },
   {
    "duration": 172,
    "start_time": "2022-05-10T11:52:42.244Z"
   },
   {
    "duration": 2173,
    "start_time": "2022-05-10T11:54:39.611Z"
   },
   {
    "duration": 2053,
    "start_time": "2022-05-10T11:54:46.971Z"
   },
   {
    "duration": 79,
    "start_time": "2022-05-10T11:54:53.762Z"
   },
   {
    "duration": 17,
    "start_time": "2022-05-10T11:54:54.804Z"
   },
   {
    "duration": 11,
    "start_time": "2022-05-10T11:54:55.663Z"
   },
   {
    "duration": 202,
    "start_time": "2022-05-10T11:56:12.978Z"
   },
   {
    "duration": 469,
    "start_time": "2022-05-10T12:10:07.879Z"
   },
   {
    "duration": 9,
    "start_time": "2022-05-10T12:10:18.868Z"
   },
   {
    "duration": 18,
    "start_time": "2022-05-10T12:11:02.310Z"
   },
   {
    "duration": 13,
    "start_time": "2022-05-10T12:11:07.049Z"
   },
   {
    "duration": 426,
    "start_time": "2022-05-10T12:11:16.833Z"
   },
   {
    "duration": 10,
    "start_time": "2022-05-10T12:11:18.729Z"
   },
   {
    "duration": 12,
    "start_time": "2022-05-10T12:14:16.318Z"
   },
   {
    "duration": 12,
    "start_time": "2022-05-10T12:14:19.432Z"
   },
   {
    "duration": 442,
    "start_time": "2022-05-10T12:14:42.389Z"
   },
   {
    "duration": 20,
    "start_time": "2022-05-10T12:14:43.888Z"
   },
   {
    "duration": 8,
    "start_time": "2022-05-10T12:14:54.762Z"
   },
   {
    "duration": 12,
    "start_time": "2022-05-10T12:16:22.502Z"
   },
   {
    "duration": 14,
    "start_time": "2022-05-10T12:16:42.606Z"
   },
   {
    "duration": 14,
    "start_time": "2022-05-10T12:16:46.560Z"
   },
   {
    "duration": 351,
    "start_time": "2022-05-10T12:16:48.789Z"
   },
   {
    "duration": 10,
    "start_time": "2022-05-10T12:16:49.722Z"
   },
   {
    "duration": 7,
    "start_time": "2022-05-10T12:16:53.962Z"
   },
   {
    "duration": 15,
    "start_time": "2022-05-10T12:16:55.120Z"
   },
   {
    "duration": 14,
    "start_time": "2022-05-10T12:16:58.812Z"
   },
   {
    "duration": 15,
    "start_time": "2022-05-10T12:17:40.836Z"
   },
   {
    "duration": 19,
    "start_time": "2022-05-10T12:17:41.486Z"
   },
   {
    "duration": 5,
    "start_time": "2022-05-10T12:17:43.146Z"
   },
   {
    "duration": 10,
    "start_time": "2022-05-10T12:17:46.261Z"
   },
   {
    "duration": 9,
    "start_time": "2022-05-10T12:17:49.063Z"
   },
   {
    "duration": 10,
    "start_time": "2022-05-10T12:17:51.813Z"
   },
   {
    "duration": 12,
    "start_time": "2022-05-10T12:17:54.527Z"
   },
   {
    "duration": 16,
    "start_time": "2022-05-10T12:23:08.259Z"
   },
   {
    "duration": 470,
    "start_time": "2022-05-10T12:23:11.095Z"
   },
   {
    "duration": 10,
    "start_time": "2022-05-10T12:23:11.703Z"
   },
   {
    "duration": 7,
    "start_time": "2022-05-10T12:23:18.528Z"
   },
   {
    "duration": 14,
    "start_time": "2022-05-10T12:23:19.351Z"
   },
   {
    "duration": 13,
    "start_time": "2022-05-10T12:23:20.375Z"
   },
   {
    "duration": 306,
    "start_time": "2022-05-10T12:23:38.704Z"
   },
   {
    "duration": 8,
    "start_time": "2022-05-10T12:23:39.274Z"
   },
   {
    "duration": 6,
    "start_time": "2022-05-10T12:23:40.016Z"
   },
   {
    "duration": 15,
    "start_time": "2022-05-10T12:23:40.843Z"
   },
   {
    "duration": 13,
    "start_time": "2022-05-10T12:23:41.725Z"
   },
   {
    "duration": 5,
    "start_time": "2022-05-10T12:23:44.333Z"
   },
   {
    "duration": 5,
    "start_time": "2022-05-10T12:51:26.514Z"
   },
   {
    "duration": 10,
    "start_time": "2022-05-10T12:54:19.697Z"
   },
   {
    "duration": 256,
    "start_time": "2022-05-10T12:54:58.878Z"
   },
   {
    "duration": 3,
    "start_time": "2022-05-10T12:55:08.287Z"
   },
   {
    "duration": 15,
    "start_time": "2022-05-10T12:58:53.420Z"
   },
   {
    "duration": 56,
    "start_time": "2022-05-10T15:38:33.711Z"
   },
   {
    "duration": 1492,
    "start_time": "2022-05-10T15:38:38.950Z"
   },
   {
    "duration": 88,
    "start_time": "2022-05-10T15:38:40.445Z"
   },
   {
    "duration": 33,
    "start_time": "2022-05-10T15:38:40.535Z"
   },
   {
    "duration": 34,
    "start_time": "2022-05-10T15:38:40.571Z"
   },
   {
    "duration": 11,
    "start_time": "2022-05-10T15:38:40.607Z"
   },
   {
    "duration": 5,
    "start_time": "2022-05-10T15:38:40.620Z"
   },
   {
    "duration": 7,
    "start_time": "2022-05-10T15:38:40.626Z"
   },
   {
    "duration": 5,
    "start_time": "2022-05-10T15:38:40.635Z"
   },
   {
    "duration": 9,
    "start_time": "2022-05-10T15:38:40.641Z"
   },
   {
    "duration": 7,
    "start_time": "2022-05-10T15:38:40.653Z"
   },
   {
    "duration": 47,
    "start_time": "2022-05-10T15:38:40.661Z"
   },
   {
    "duration": 25,
    "start_time": "2022-05-10T15:38:40.711Z"
   },
   {
    "duration": 428,
    "start_time": "2022-05-10T15:38:40.738Z"
   },
   {
    "duration": 14,
    "start_time": "2022-05-10T15:38:41.168Z"
   },
   {
    "duration": 174,
    "start_time": "2022-05-10T15:38:41.184Z"
   },
   {
    "duration": 14,
    "start_time": "2022-05-10T15:38:41.360Z"
   },
   {
    "duration": 251,
    "start_time": "2022-05-10T15:38:41.375Z"
   },
   {
    "duration": 203,
    "start_time": "2022-05-10T15:38:41.628Z"
   },
   {
    "duration": 15,
    "start_time": "2022-05-10T15:38:41.832Z"
   },
   {
    "duration": 200,
    "start_time": "2022-05-10T15:38:41.849Z"
   },
   {
    "duration": 55,
    "start_time": "2022-05-10T15:38:42.050Z"
   },
   {
    "duration": 51,
    "start_time": "2022-05-10T15:38:42.108Z"
   },
   {
    "duration": 15,
    "start_time": "2022-05-10T15:38:42.160Z"
   },
   {
    "duration": 17,
    "start_time": "2022-05-10T15:38:42.177Z"
   },
   {
    "duration": 33,
    "start_time": "2022-05-10T15:38:42.196Z"
   },
   {
    "duration": 304,
    "start_time": "2022-05-10T15:38:42.231Z"
   },
   {
    "duration": 405,
    "start_time": "2022-05-10T15:38:42.537Z"
   },
   {
    "duration": 8,
    "start_time": "2022-05-10T15:38:42.947Z"
   },
   {
    "duration": 8,
    "start_time": "2022-05-10T15:38:42.957Z"
   },
   {
    "duration": 35,
    "start_time": "2022-05-10T15:38:42.966Z"
   },
   {
    "duration": 17,
    "start_time": "2022-05-10T15:38:43.003Z"
   },
   {
    "duration": 6,
    "start_time": "2022-05-10T15:38:43.022Z"
   },
   {
    "duration": 11,
    "start_time": "2022-05-10T15:38:43.030Z"
   },
   {
    "duration": 4,
    "start_time": "2022-05-10T15:38:43.043Z"
   },
   {
    "duration": 10,
    "start_time": "2022-05-10T15:38:43.048Z"
   },
   {
    "duration": 17,
    "start_time": "2022-05-10T15:38:43.095Z"
   },
   {
    "duration": 106,
    "start_time": "2022-05-10T15:38:43.114Z"
   },
   {
    "duration": 0,
    "start_time": "2022-05-10T15:38:43.222Z"
   },
   {
    "duration": 0,
    "start_time": "2022-05-10T15:38:43.223Z"
   },
   {
    "duration": 45,
    "start_time": "2022-05-10T15:39:04.929Z"
   },
   {
    "duration": 14,
    "start_time": "2022-05-10T15:39:23.876Z"
   },
   {
    "duration": 22,
    "start_time": "2022-05-10T15:40:38.049Z"
   },
   {
    "duration": 12,
    "start_time": "2022-05-10T15:40:57.610Z"
   },
   {
    "duration": 17,
    "start_time": "2022-05-10T15:41:05.837Z"
   },
   {
    "duration": 13,
    "start_time": "2022-05-10T15:41:06.449Z"
   },
   {
    "duration": 57363,
    "start_time": "2022-05-10T15:43:16.289Z"
   },
   {
    "duration": 258,
    "start_time": "2022-05-10T15:45:21.309Z"
   },
   {
    "duration": 3,
    "start_time": "2022-05-10T16:24:46.220Z"
   },
   {
    "duration": 60,
    "start_time": "2022-05-10T16:24:46.225Z"
   },
   {
    "duration": 26,
    "start_time": "2022-05-10T16:24:46.287Z"
   },
   {
    "duration": 33,
    "start_time": "2022-05-10T16:24:46.316Z"
   },
   {
    "duration": 8,
    "start_time": "2022-05-10T16:24:46.351Z"
   },
   {
    "duration": 13,
    "start_time": "2022-05-10T16:24:46.361Z"
   },
   {
    "duration": 15,
    "start_time": "2022-05-10T16:24:46.393Z"
   },
   {
    "duration": 14,
    "start_time": "2022-05-10T16:24:46.411Z"
   },
   {
    "duration": 12,
    "start_time": "2022-05-10T16:24:46.427Z"
   },
   {
    "duration": 19,
    "start_time": "2022-05-10T16:24:46.442Z"
   },
   {
    "duration": 12,
    "start_time": "2022-05-10T16:24:46.463Z"
   },
   {
    "duration": 22,
    "start_time": "2022-05-10T16:24:46.476Z"
   },
   {
    "duration": 322,
    "start_time": "2022-05-10T16:24:46.501Z"
   },
   {
    "duration": 16,
    "start_time": "2022-05-10T16:24:46.825Z"
   },
   {
    "duration": 205,
    "start_time": "2022-05-10T16:24:46.843Z"
   },
   {
    "duration": 16,
    "start_time": "2022-05-10T16:24:47.050Z"
   },
   {
    "duration": 262,
    "start_time": "2022-05-10T16:24:47.069Z"
   },
   {
    "duration": 1374,
    "start_time": "2022-05-10T16:24:47.333Z"
   },
   {
    "duration": 20,
    "start_time": "2022-05-10T16:24:48.710Z"
   },
   {
    "duration": 391,
    "start_time": "2022-05-10T16:24:48.732Z"
   },
   {
    "duration": 80,
    "start_time": "2022-05-10T16:24:49.124Z"
   },
   {
    "duration": 118,
    "start_time": "2022-05-10T16:24:49.207Z"
   },
   {
    "duration": 92,
    "start_time": "2022-05-10T16:24:49.327Z"
   },
   {
    "duration": 80,
    "start_time": "2022-05-10T16:24:49.421Z"
   },
   {
    "duration": 25,
    "start_time": "2022-05-10T16:24:49.504Z"
   },
   {
    "duration": 693,
    "start_time": "2022-05-10T16:24:49.531Z"
   },
   {
    "duration": 729,
    "start_time": "2022-05-10T16:24:50.227Z"
   },
   {
    "duration": 10,
    "start_time": "2022-05-10T16:24:50.961Z"
   },
   {
    "duration": 45,
    "start_time": "2022-05-10T16:24:50.973Z"
   },
   {
    "duration": 33,
    "start_time": "2022-05-10T16:24:51.020Z"
   },
   {
    "duration": 13,
    "start_time": "2022-05-10T16:24:51.055Z"
   },
   {
    "duration": 8,
    "start_time": "2022-05-10T16:24:51.070Z"
   },
   {
    "duration": 16,
    "start_time": "2022-05-10T16:24:51.080Z"
   },
   {
    "duration": 19,
    "start_time": "2022-05-10T16:24:51.099Z"
   },
   {
    "duration": 20,
    "start_time": "2022-05-10T16:24:51.120Z"
   },
   {
    "duration": 18,
    "start_time": "2022-05-10T16:24:51.142Z"
   },
   {
    "duration": 18,
    "start_time": "2022-05-10T16:24:51.162Z"
   },
   {
    "duration": 38,
    "start_time": "2022-05-10T16:24:51.182Z"
   },
   {
    "duration": 62494,
    "start_time": "2022-05-10T16:24:51.222Z"
   },
   {
    "duration": 287,
    "start_time": "2022-05-10T16:31:03.973Z"
   },
   {
    "duration": 283,
    "start_time": "2022-05-10T16:34:36.532Z"
   },
   {
    "duration": 270,
    "start_time": "2022-05-10T16:35:40.212Z"
   },
   {
    "duration": 47,
    "start_time": "2022-05-10T18:58:59.146Z"
   },
   {
    "duration": 2076,
    "start_time": "2022-05-10T18:59:08.001Z"
   },
   {
    "duration": 125,
    "start_time": "2022-05-10T18:59:10.080Z"
   },
   {
    "duration": 92,
    "start_time": "2022-05-10T18:59:10.208Z"
   },
   {
    "duration": 88,
    "start_time": "2022-05-10T18:59:10.303Z"
   },
   {
    "duration": 12,
    "start_time": "2022-05-10T18:59:10.393Z"
   },
   {
    "duration": 13,
    "start_time": "2022-05-10T18:59:10.406Z"
   },
   {
    "duration": 73,
    "start_time": "2022-05-10T18:59:10.421Z"
   },
   {
    "duration": 22,
    "start_time": "2022-05-10T18:59:10.496Z"
   },
   {
    "duration": 20,
    "start_time": "2022-05-10T18:59:10.520Z"
   },
   {
    "duration": 32,
    "start_time": "2022-05-10T18:59:10.543Z"
   },
   {
    "duration": 25,
    "start_time": "2022-05-10T18:59:10.577Z"
   },
   {
    "duration": 27,
    "start_time": "2022-05-10T18:59:10.604Z"
   },
   {
    "duration": 338,
    "start_time": "2022-05-10T18:59:10.633Z"
   },
   {
    "duration": 15,
    "start_time": "2022-05-10T18:59:10.973Z"
   },
   {
    "duration": 176,
    "start_time": "2022-05-10T18:59:10.990Z"
   },
   {
    "duration": 18,
    "start_time": "2022-05-10T18:59:11.167Z"
   },
   {
    "duration": 242,
    "start_time": "2022-05-10T18:59:11.187Z"
   },
   {
    "duration": 211,
    "start_time": "2022-05-10T18:59:11.432Z"
   },
   {
    "duration": 14,
    "start_time": "2022-05-10T18:59:11.645Z"
   },
   {
    "duration": 204,
    "start_time": "2022-05-10T18:59:11.660Z"
   },
   {
    "duration": 29,
    "start_time": "2022-05-10T18:59:11.865Z"
   },
   {
    "duration": 58,
    "start_time": "2022-05-10T18:59:11.896Z"
   },
   {
    "duration": 63,
    "start_time": "2022-05-10T18:59:11.956Z"
   },
   {
    "duration": 16,
    "start_time": "2022-05-10T18:59:12.021Z"
   },
   {
    "duration": 11,
    "start_time": "2022-05-10T18:59:12.039Z"
   },
   {
    "duration": 29,
    "start_time": "2022-05-10T18:59:12.074Z"
   },
   {
    "duration": 332,
    "start_time": "2022-05-10T18:59:12.105Z"
   },
   {
    "duration": 372,
    "start_time": "2022-05-10T18:59:12.441Z"
   },
   {
    "duration": 10,
    "start_time": "2022-05-10T18:59:12.815Z"
   },
   {
    "duration": 10,
    "start_time": "2022-05-10T18:59:12.827Z"
   },
   {
    "duration": 34,
    "start_time": "2022-05-10T18:59:12.839Z"
   },
   {
    "duration": 14,
    "start_time": "2022-05-10T18:59:12.875Z"
   },
   {
    "duration": 5,
    "start_time": "2022-05-10T18:59:12.891Z"
   },
   {
    "duration": 22,
    "start_time": "2022-05-10T18:59:12.898Z"
   },
   {
    "duration": 4,
    "start_time": "2022-05-10T18:59:12.922Z"
   },
   {
    "duration": 16,
    "start_time": "2022-05-10T18:59:12.927Z"
   },
   {
    "duration": 33,
    "start_time": "2022-05-10T18:59:12.945Z"
   },
   {
    "duration": 15,
    "start_time": "2022-05-10T18:59:12.980Z"
   },
   {
    "duration": 28,
    "start_time": "2022-05-10T18:59:12.997Z"
   },
   {
    "duration": 317,
    "start_time": "2022-05-10T18:59:13.027Z"
   },
   {
    "duration": 2760,
    "start_time": "2022-05-11T19:24:07.282Z"
   },
   {
    "duration": 99,
    "start_time": "2022-05-11T19:24:10.045Z"
   },
   {
    "duration": 55,
    "start_time": "2022-05-11T19:24:10.146Z"
   },
   {
    "duration": 36,
    "start_time": "2022-05-11T19:24:10.204Z"
   },
   {
    "duration": 21,
    "start_time": "2022-05-11T19:24:10.245Z"
   },
   {
    "duration": 14,
    "start_time": "2022-05-11T19:24:10.294Z"
   },
   {
    "duration": 22,
    "start_time": "2022-05-11T19:24:10.310Z"
   },
   {
    "duration": 8,
    "start_time": "2022-05-11T19:24:10.335Z"
   },
   {
    "duration": 12,
    "start_time": "2022-05-11T19:24:10.345Z"
   },
   {
    "duration": 8,
    "start_time": "2022-05-11T19:24:10.360Z"
   },
   {
    "duration": 19,
    "start_time": "2022-05-11T19:24:10.401Z"
   },
   {
    "duration": 44,
    "start_time": "2022-05-11T19:24:10.424Z"
   },
   {
    "duration": 716,
    "start_time": "2022-05-11T19:24:10.471Z"
   },
   {
    "duration": 29,
    "start_time": "2022-05-11T19:24:11.192Z"
   },
   {
    "duration": 281,
    "start_time": "2022-05-11T19:24:11.223Z"
   },
   {
    "duration": 24,
    "start_time": "2022-05-11T19:24:11.507Z"
   },
   {
    "duration": 515,
    "start_time": "2022-05-11T19:24:11.534Z"
   },
   {
    "duration": 420,
    "start_time": "2022-05-11T19:24:12.052Z"
   },
   {
    "duration": 36,
    "start_time": "2022-05-11T19:24:12.474Z"
   },
   {
    "duration": 457,
    "start_time": "2022-05-11T19:24:12.512Z"
   },
   {
    "duration": 70,
    "start_time": "2022-05-11T19:24:12.973Z"
   },
   {
    "duration": 88,
    "start_time": "2022-05-11T19:24:13.046Z"
   },
   {
    "duration": 20,
    "start_time": "2022-05-11T19:24:13.137Z"
   },
   {
    "duration": 15,
    "start_time": "2022-05-11T19:24:13.160Z"
   },
   {
    "duration": 34,
    "start_time": "2022-05-11T19:24:13.196Z"
   },
   {
    "duration": 528,
    "start_time": "2022-05-11T19:24:13.233Z"
   },
   {
    "duration": 621,
    "start_time": "2022-05-11T19:24:13.765Z"
   },
   {
    "duration": 19,
    "start_time": "2022-05-11T19:24:14.390Z"
   },
   {
    "duration": 43,
    "start_time": "2022-05-11T19:24:14.412Z"
   },
   {
    "duration": 20,
    "start_time": "2022-05-11T19:24:14.458Z"
   },
   {
    "duration": 26,
    "start_time": "2022-05-11T19:24:14.480Z"
   },
   {
    "duration": 15,
    "start_time": "2022-05-11T19:24:14.511Z"
   },
   {
    "duration": 18,
    "start_time": "2022-05-11T19:24:14.529Z"
   },
   {
    "duration": 7,
    "start_time": "2022-05-11T19:24:14.550Z"
   },
   {
    "duration": 24,
    "start_time": "2022-05-11T19:24:14.598Z"
   },
   {
    "duration": 20,
    "start_time": "2022-05-11T19:24:14.625Z"
   },
   {
    "duration": 21,
    "start_time": "2022-05-11T19:24:14.648Z"
   },
   {
    "duration": 48,
    "start_time": "2022-05-11T19:24:14.672Z"
   },
   {
    "duration": 488,
    "start_time": "2022-05-11T19:24:14.723Z"
   },
   {
    "duration": 94,
    "start_time": "2022-05-12T09:38:48.925Z"
   },
   {
    "duration": 1620,
    "start_time": "2022-05-12T09:38:51.709Z"
   },
   {
    "duration": 64,
    "start_time": "2022-05-12T09:38:53.332Z"
   },
   {
    "duration": 25,
    "start_time": "2022-05-12T09:38:53.398Z"
   },
   {
    "duration": 44,
    "start_time": "2022-05-12T09:38:53.425Z"
   },
   {
    "duration": 11,
    "start_time": "2022-05-12T09:38:53.474Z"
   },
   {
    "duration": 16,
    "start_time": "2022-05-12T09:38:53.486Z"
   },
   {
    "duration": 13,
    "start_time": "2022-05-12T09:38:53.504Z"
   },
   {
    "duration": 17,
    "start_time": "2022-05-12T09:38:53.519Z"
   },
   {
    "duration": 36,
    "start_time": "2022-05-12T09:38:53.538Z"
   },
   {
    "duration": 11,
    "start_time": "2022-05-12T09:38:53.576Z"
   },
   {
    "duration": 16,
    "start_time": "2022-05-12T09:38:53.589Z"
   },
   {
    "duration": 29,
    "start_time": "2022-05-12T09:38:53.607Z"
   },
   {
    "duration": 356,
    "start_time": "2022-05-12T09:38:53.637Z"
   },
   {
    "duration": 15,
    "start_time": "2022-05-12T09:38:53.997Z"
   },
   {
    "duration": 186,
    "start_time": "2022-05-12T09:38:54.014Z"
   },
   {
    "duration": 15,
    "start_time": "2022-05-12T09:38:54.202Z"
   },
   {
    "duration": 264,
    "start_time": "2022-05-12T09:38:54.218Z"
   },
   {
    "duration": 206,
    "start_time": "2022-05-12T09:38:54.484Z"
   },
   {
    "duration": 14,
    "start_time": "2022-05-12T09:38:54.692Z"
   },
   {
    "duration": 209,
    "start_time": "2022-05-12T09:38:54.707Z"
   },
   {
    "duration": 58,
    "start_time": "2022-05-12T09:38:54.918Z"
   },
   {
    "duration": 60,
    "start_time": "2022-05-12T09:38:54.978Z"
   },
   {
    "duration": 24,
    "start_time": "2022-05-12T09:38:55.040Z"
   },
   {
    "duration": 21,
    "start_time": "2022-05-12T09:38:55.065Z"
   },
   {
    "duration": 15,
    "start_time": "2022-05-12T09:38:55.088Z"
   },
   {
    "duration": 297,
    "start_time": "2022-05-12T09:38:55.104Z"
   },
   {
    "duration": 400,
    "start_time": "2022-05-12T09:38:55.403Z"
   },
   {
    "duration": 8,
    "start_time": "2022-05-12T09:38:55.805Z"
   },
   {
    "duration": 9,
    "start_time": "2022-05-12T09:38:55.815Z"
   },
   {
    "duration": 26,
    "start_time": "2022-05-12T09:38:55.826Z"
   },
   {
    "duration": 18,
    "start_time": "2022-05-12T09:38:55.854Z"
   },
   {
    "duration": 4,
    "start_time": "2022-05-12T09:38:55.874Z"
   },
   {
    "duration": 10,
    "start_time": "2022-05-12T09:38:55.880Z"
   },
   {
    "duration": 4,
    "start_time": "2022-05-12T09:38:55.891Z"
   },
   {
    "duration": 7,
    "start_time": "2022-05-12T09:38:55.897Z"
   },
   {
    "duration": 12,
    "start_time": "2022-05-12T09:38:55.905Z"
   },
   {
    "duration": 14,
    "start_time": "2022-05-12T09:38:55.944Z"
   },
   {
    "duration": 28,
    "start_time": "2022-05-12T09:38:55.961Z"
   },
   {
    "duration": 317,
    "start_time": "2022-05-12T09:38:55.991Z"
   },
   {
    "duration": 23,
    "start_time": "2022-05-12T09:39:21.186Z"
   },
   {
    "duration": 27,
    "start_time": "2022-05-12T09:40:28.130Z"
   },
   {
    "duration": 34,
    "start_time": "2022-05-12T09:40:33.234Z"
   },
   {
    "duration": 20,
    "start_time": "2022-05-12T09:41:20.769Z"
   },
   {
    "duration": 20,
    "start_time": "2022-05-12T09:46:20.496Z"
   },
   {
    "duration": 102,
    "start_time": "2022-05-12T09:46:23.612Z"
   },
   {
    "duration": 22,
    "start_time": "2022-05-12T09:46:30.712Z"
   },
   {
    "duration": 21,
    "start_time": "2022-05-12T09:46:34.096Z"
   },
   {
    "duration": 28,
    "start_time": "2022-05-12T09:46:51.397Z"
   },
   {
    "duration": 22,
    "start_time": "2022-05-12T09:46:57.178Z"
   },
   {
    "duration": 22,
    "start_time": "2022-05-12T09:47:01.114Z"
   },
   {
    "duration": 21,
    "start_time": "2022-05-12T09:47:10.202Z"
   },
   {
    "duration": 23,
    "start_time": "2022-05-12T09:47:14.817Z"
   },
   {
    "duration": 22,
    "start_time": "2022-05-12T09:47:17.964Z"
   },
   {
    "duration": 33,
    "start_time": "2022-05-12T09:47:30.933Z"
   },
   {
    "duration": 22,
    "start_time": "2022-05-12T09:47:35.913Z"
   },
   {
    "duration": 22,
    "start_time": "2022-05-12T09:47:39.788Z"
   },
   {
    "duration": 11,
    "start_time": "2022-05-12T09:50:45.868Z"
   },
   {
    "duration": 28,
    "start_time": "2022-05-12T09:50:51.410Z"
   },
   {
    "duration": 11,
    "start_time": "2022-05-12T09:50:57.775Z"
   },
   {
    "duration": 16,
    "start_time": "2022-05-12T09:51:01.362Z"
   },
   {
    "duration": 11,
    "start_time": "2022-05-12T09:51:06.011Z"
   },
   {
    "duration": 37,
    "start_time": "2022-05-12T09:51:11.026Z"
   },
   {
    "duration": 11,
    "start_time": "2022-05-12T09:51:15.625Z"
   },
   {
    "duration": 10,
    "start_time": "2022-05-12T09:51:21.568Z"
   },
   {
    "duration": 11,
    "start_time": "2022-05-12T09:51:24.575Z"
   },
   {
    "duration": 10,
    "start_time": "2022-05-12T09:51:26.973Z"
   },
   {
    "duration": 9,
    "start_time": "2022-05-12T09:51:29.275Z"
   },
   {
    "duration": 12,
    "start_time": "2022-05-12T09:51:31.840Z"
   },
   {
    "duration": 10,
    "start_time": "2022-05-12T09:51:34.527Z"
   },
   {
    "duration": 11,
    "start_time": "2022-05-12T09:51:58.887Z"
   },
   {
    "duration": 22,
    "start_time": "2022-05-12T09:52:06.088Z"
   },
   {
    "duration": 4,
    "start_time": "2022-05-12T09:53:47.339Z"
   },
   {
    "duration": 93,
    "start_time": "2022-05-12T09:53:47.345Z"
   },
   {
    "duration": 28,
    "start_time": "2022-05-12T09:53:47.440Z"
   },
   {
    "duration": 55,
    "start_time": "2022-05-12T09:53:47.471Z"
   },
   {
    "duration": 0,
    "start_time": "2022-05-12T09:53:47.529Z"
   },
   {
    "duration": 0,
    "start_time": "2022-05-12T09:53:47.531Z"
   },
   {
    "duration": 0,
    "start_time": "2022-05-12T09:53:47.533Z"
   },
   {
    "duration": 0,
    "start_time": "2022-05-12T09:53:47.534Z"
   },
   {
    "duration": 0,
    "start_time": "2022-05-12T09:53:47.536Z"
   },
   {
    "duration": 0,
    "start_time": "2022-05-12T09:53:47.537Z"
   },
   {
    "duration": 0,
    "start_time": "2022-05-12T09:53:47.539Z"
   },
   {
    "duration": 0,
    "start_time": "2022-05-12T09:53:47.540Z"
   },
   {
    "duration": 0,
    "start_time": "2022-05-12T09:53:47.542Z"
   },
   {
    "duration": 0,
    "start_time": "2022-05-12T09:53:47.544Z"
   },
   {
    "duration": 0,
    "start_time": "2022-05-12T09:53:47.545Z"
   },
   {
    "duration": 0,
    "start_time": "2022-05-12T09:53:47.546Z"
   },
   {
    "duration": 0,
    "start_time": "2022-05-12T09:53:47.551Z"
   },
   {
    "duration": 0,
    "start_time": "2022-05-12T09:53:47.552Z"
   },
   {
    "duration": 0,
    "start_time": "2022-05-12T09:53:47.554Z"
   },
   {
    "duration": 0,
    "start_time": "2022-05-12T09:53:47.556Z"
   },
   {
    "duration": 0,
    "start_time": "2022-05-12T09:53:47.557Z"
   },
   {
    "duration": 1,
    "start_time": "2022-05-12T09:53:47.559Z"
   },
   {
    "duration": 0,
    "start_time": "2022-05-12T09:53:47.561Z"
   },
   {
    "duration": 0,
    "start_time": "2022-05-12T09:53:47.562Z"
   },
   {
    "duration": 0,
    "start_time": "2022-05-12T09:53:47.563Z"
   },
   {
    "duration": 0,
    "start_time": "2022-05-12T09:53:47.564Z"
   },
   {
    "duration": 0,
    "start_time": "2022-05-12T09:53:47.566Z"
   },
   {
    "duration": 0,
    "start_time": "2022-05-12T09:53:47.567Z"
   },
   {
    "duration": 0,
    "start_time": "2022-05-12T09:53:47.568Z"
   },
   {
    "duration": 0,
    "start_time": "2022-05-12T09:53:47.570Z"
   },
   {
    "duration": 0,
    "start_time": "2022-05-12T09:53:47.571Z"
   },
   {
    "duration": 0,
    "start_time": "2022-05-12T09:53:47.572Z"
   },
   {
    "duration": 0,
    "start_time": "2022-05-12T09:53:47.573Z"
   },
   {
    "duration": 0,
    "start_time": "2022-05-12T09:53:47.574Z"
   },
   {
    "duration": 0,
    "start_time": "2022-05-12T09:53:47.576Z"
   },
   {
    "duration": 0,
    "start_time": "2022-05-12T09:53:47.577Z"
   },
   {
    "duration": 0,
    "start_time": "2022-05-12T09:53:47.579Z"
   },
   {
    "duration": 0,
    "start_time": "2022-05-12T09:53:47.581Z"
   },
   {
    "duration": 0,
    "start_time": "2022-05-12T09:53:47.582Z"
   },
   {
    "duration": 48,
    "start_time": "2022-05-12T09:54:03.362Z"
   },
   {
    "duration": 31,
    "start_time": "2022-05-12T09:54:13.886Z"
   },
   {
    "duration": 26,
    "start_time": "2022-05-12T09:56:13.589Z"
   },
   {
    "duration": 41,
    "start_time": "2022-05-12T09:57:24.938Z"
   },
   {
    "duration": 196,
    "start_time": "2022-05-12T09:57:53.836Z"
   },
   {
    "duration": 17,
    "start_time": "2022-05-12T09:57:58.719Z"
   },
   {
    "duration": 28,
    "start_time": "2022-05-12T09:58:14.665Z"
   },
   {
    "duration": 25,
    "start_time": "2022-05-12T09:58:36.677Z"
   },
   {
    "duration": 23,
    "start_time": "2022-05-12T09:58:55.269Z"
   },
   {
    "duration": 24,
    "start_time": "2022-05-12T09:59:00.108Z"
   },
   {
    "duration": 37,
    "start_time": "2022-05-12T09:59:22.225Z"
   },
   {
    "duration": 28,
    "start_time": "2022-05-12T10:06:03.214Z"
   },
   {
    "duration": 13,
    "start_time": "2022-05-12T10:06:20.596Z"
   },
   {
    "duration": 27,
    "start_time": "2022-05-12T10:07:42.317Z"
   },
   {
    "duration": 12,
    "start_time": "2022-05-12T10:07:42.901Z"
   },
   {
    "duration": 29,
    "start_time": "2022-05-12T10:12:53.149Z"
   },
   {
    "duration": 323,
    "start_time": "2022-05-12T10:12:53.792Z"
   },
   {
    "duration": 4,
    "start_time": "2022-05-12T10:12:58.509Z"
   },
   {
    "duration": 90,
    "start_time": "2022-05-12T10:12:58.515Z"
   },
   {
    "duration": 22,
    "start_time": "2022-05-12T10:12:58.607Z"
   },
   {
    "duration": 45,
    "start_time": "2022-05-12T10:12:58.631Z"
   },
   {
    "duration": 40,
    "start_time": "2022-05-12T10:12:58.679Z"
   },
   {
    "duration": 25,
    "start_time": "2022-05-12T10:12:58.721Z"
   },
   {
    "duration": 32,
    "start_time": "2022-05-12T10:12:58.748Z"
   },
   {
    "duration": 24,
    "start_time": "2022-05-12T10:12:58.782Z"
   },
   {
    "duration": 19,
    "start_time": "2022-05-12T10:12:58.807Z"
   },
   {
    "duration": 49,
    "start_time": "2022-05-12T10:12:58.828Z"
   },
   {
    "duration": 27,
    "start_time": "2022-05-12T10:12:58.880Z"
   },
   {
    "duration": 15,
    "start_time": "2022-05-12T10:12:58.910Z"
   },
   {
    "duration": 54,
    "start_time": "2022-05-12T10:12:58.928Z"
   },
   {
    "duration": 32,
    "start_time": "2022-05-12T10:12:58.986Z"
   },
   {
    "duration": 0,
    "start_time": "2022-05-12T10:12:59.020Z"
   },
   {
    "duration": 0,
    "start_time": "2022-05-12T10:12:59.021Z"
   },
   {
    "duration": 0,
    "start_time": "2022-05-12T10:12:59.022Z"
   },
   {
    "duration": 0,
    "start_time": "2022-05-12T10:12:59.024Z"
   },
   {
    "duration": 0,
    "start_time": "2022-05-12T10:12:59.025Z"
   },
   {
    "duration": 0,
    "start_time": "2022-05-12T10:12:59.027Z"
   },
   {
    "duration": 0,
    "start_time": "2022-05-12T10:12:59.028Z"
   },
   {
    "duration": 0,
    "start_time": "2022-05-12T10:12:59.029Z"
   },
   {
    "duration": 0,
    "start_time": "2022-05-12T10:12:59.030Z"
   },
   {
    "duration": 0,
    "start_time": "2022-05-12T10:12:59.031Z"
   },
   {
    "duration": 0,
    "start_time": "2022-05-12T10:12:59.032Z"
   },
   {
    "duration": 0,
    "start_time": "2022-05-12T10:12:59.034Z"
   },
   {
    "duration": 0,
    "start_time": "2022-05-12T10:12:59.035Z"
   },
   {
    "duration": 0,
    "start_time": "2022-05-12T10:12:59.036Z"
   },
   {
    "duration": 0,
    "start_time": "2022-05-12T10:12:59.037Z"
   },
   {
    "duration": 0,
    "start_time": "2022-05-12T10:12:59.038Z"
   },
   {
    "duration": 0,
    "start_time": "2022-05-12T10:12:59.039Z"
   },
   {
    "duration": 0,
    "start_time": "2022-05-12T10:12:59.040Z"
   },
   {
    "duration": 0,
    "start_time": "2022-05-12T10:12:59.041Z"
   },
   {
    "duration": 0,
    "start_time": "2022-05-12T10:12:59.043Z"
   },
   {
    "duration": 0,
    "start_time": "2022-05-12T10:12:59.044Z"
   },
   {
    "duration": 0,
    "start_time": "2022-05-12T10:12:59.045Z"
   },
   {
    "duration": 0,
    "start_time": "2022-05-12T10:12:59.046Z"
   },
   {
    "duration": 1,
    "start_time": "2022-05-12T10:12:59.047Z"
   },
   {
    "duration": 0,
    "start_time": "2022-05-12T10:12:59.058Z"
   },
   {
    "duration": 0,
    "start_time": "2022-05-12T10:12:59.060Z"
   },
   {
    "duration": 0,
    "start_time": "2022-05-12T10:12:59.060Z"
   },
   {
    "duration": 19,
    "start_time": "2022-05-12T10:13:22.319Z"
   },
   {
    "duration": 22,
    "start_time": "2022-05-12T10:14:20.115Z"
   },
   {
    "duration": 13,
    "start_time": "2022-05-12T10:14:31.693Z"
   },
   {
    "duration": 3,
    "start_time": "2022-05-12T10:14:40.723Z"
   },
   {
    "duration": 85,
    "start_time": "2022-05-12T10:14:40.728Z"
   },
   {
    "duration": 21,
    "start_time": "2022-05-12T10:14:40.815Z"
   },
   {
    "duration": 39,
    "start_time": "2022-05-12T10:14:40.838Z"
   },
   {
    "duration": 23,
    "start_time": "2022-05-12T10:14:40.879Z"
   },
   {
    "duration": 150,
    "start_time": "2022-05-12T10:14:40.904Z"
   },
   {
    "duration": 0,
    "start_time": "2022-05-12T10:14:41.058Z"
   },
   {
    "duration": 0,
    "start_time": "2022-05-12T10:14:41.059Z"
   },
   {
    "duration": 0,
    "start_time": "2022-05-12T10:14:41.060Z"
   },
   {
    "duration": 0,
    "start_time": "2022-05-12T10:14:41.061Z"
   },
   {
    "duration": 0,
    "start_time": "2022-05-12T10:14:41.063Z"
   },
   {
    "duration": 0,
    "start_time": "2022-05-12T10:14:41.064Z"
   },
   {
    "duration": 0,
    "start_time": "2022-05-12T10:14:41.066Z"
   },
   {
    "duration": 0,
    "start_time": "2022-05-12T10:14:41.067Z"
   },
   {
    "duration": 0,
    "start_time": "2022-05-12T10:14:41.069Z"
   },
   {
    "duration": 0,
    "start_time": "2022-05-12T10:14:41.070Z"
   },
   {
    "duration": 0,
    "start_time": "2022-05-12T10:14:41.072Z"
   },
   {
    "duration": 0,
    "start_time": "2022-05-12T10:14:41.073Z"
   },
   {
    "duration": 0,
    "start_time": "2022-05-12T10:14:41.074Z"
   },
   {
    "duration": 0,
    "start_time": "2022-05-12T10:14:41.075Z"
   },
   {
    "duration": 0,
    "start_time": "2022-05-12T10:14:41.076Z"
   },
   {
    "duration": 0,
    "start_time": "2022-05-12T10:14:41.078Z"
   },
   {
    "duration": 0,
    "start_time": "2022-05-12T10:14:41.079Z"
   },
   {
    "duration": 0,
    "start_time": "2022-05-12T10:14:41.080Z"
   },
   {
    "duration": 0,
    "start_time": "2022-05-12T10:14:41.081Z"
   },
   {
    "duration": 0,
    "start_time": "2022-05-12T10:14:41.085Z"
   },
   {
    "duration": 0,
    "start_time": "2022-05-12T10:14:41.086Z"
   },
   {
    "duration": 0,
    "start_time": "2022-05-12T10:14:41.088Z"
   },
   {
    "duration": 0,
    "start_time": "2022-05-12T10:14:41.089Z"
   },
   {
    "duration": 0,
    "start_time": "2022-05-12T10:14:41.091Z"
   },
   {
    "duration": 0,
    "start_time": "2022-05-12T10:14:41.092Z"
   },
   {
    "duration": 0,
    "start_time": "2022-05-12T10:14:41.094Z"
   },
   {
    "duration": 0,
    "start_time": "2022-05-12T10:14:41.095Z"
   },
   {
    "duration": 0,
    "start_time": "2022-05-12T10:14:41.097Z"
   },
   {
    "duration": 0,
    "start_time": "2022-05-12T10:14:41.098Z"
   },
   {
    "duration": 0,
    "start_time": "2022-05-12T10:14:41.147Z"
   },
   {
    "duration": 0,
    "start_time": "2022-05-12T10:14:41.147Z"
   },
   {
    "duration": 0,
    "start_time": "2022-05-12T10:14:41.148Z"
   },
   {
    "duration": 0,
    "start_time": "2022-05-12T10:14:41.154Z"
   },
   {
    "duration": 0,
    "start_time": "2022-05-12T10:14:41.155Z"
   },
   {
    "duration": 0,
    "start_time": "2022-05-12T10:14:41.156Z"
   },
   {
    "duration": 0,
    "start_time": "2022-05-12T10:14:41.157Z"
   },
   {
    "duration": 7,
    "start_time": "2022-05-12T10:14:57.948Z"
   },
   {
    "duration": 21,
    "start_time": "2022-05-12T10:14:58.930Z"
   },
   {
    "duration": 17,
    "start_time": "2022-05-12T10:15:23.697Z"
   },
   {
    "duration": 14,
    "start_time": "2022-05-12T10:15:24.724Z"
   },
   {
    "duration": 2,
    "start_time": "2022-05-12T10:15:29.495Z"
   },
   {
    "duration": 18,
    "start_time": "2022-05-12T10:15:30.068Z"
   },
   {
    "duration": 18,
    "start_time": "2022-05-12T10:15:30.661Z"
   },
   {
    "duration": 28,
    "start_time": "2022-05-12T10:16:02.104Z"
   },
   {
    "duration": 28,
    "start_time": "2022-05-12T10:16:07.926Z"
   },
   {
    "duration": 17,
    "start_time": "2022-05-12T10:16:09.029Z"
   },
   {
    "duration": 19,
    "start_time": "2022-05-12T10:17:07.224Z"
   },
   {
    "duration": 15,
    "start_time": "2022-05-12T10:17:08.585Z"
   },
   {
    "duration": 44,
    "start_time": "2022-05-12T10:18:43.643Z"
   },
   {
    "duration": 25,
    "start_time": "2022-05-12T10:19:11.743Z"
   },
   {
    "duration": 14,
    "start_time": "2022-05-12T10:19:12.911Z"
   },
   {
    "duration": 21,
    "start_time": "2022-05-12T10:20:50.963Z"
   },
   {
    "duration": 22,
    "start_time": "2022-05-12T10:20:51.825Z"
   },
   {
    "duration": 17,
    "start_time": "2022-05-12T10:20:58.758Z"
   },
   {
    "duration": 3,
    "start_time": "2022-05-12T10:20:59.980Z"
   },
   {
    "duration": 14,
    "start_time": "2022-05-12T10:21:00.659Z"
   },
   {
    "duration": 13,
    "start_time": "2022-05-12T10:21:04.309Z"
   },
   {
    "duration": 24,
    "start_time": "2022-05-12T10:21:13.779Z"
   },
   {
    "duration": 2,
    "start_time": "2022-05-12T10:21:14.927Z"
   },
   {
    "duration": 14,
    "start_time": "2022-05-12T10:21:15.758Z"
   },
   {
    "duration": 3,
    "start_time": "2022-05-12T10:21:20.051Z"
   },
   {
    "duration": 78,
    "start_time": "2022-05-12T10:21:20.056Z"
   },
   {
    "duration": 20,
    "start_time": "2022-05-12T10:21:20.136Z"
   },
   {
    "duration": 20,
    "start_time": "2022-05-12T10:21:20.157Z"
   },
   {
    "duration": 26,
    "start_time": "2022-05-12T10:21:20.180Z"
   },
   {
    "duration": 44,
    "start_time": "2022-05-12T10:21:20.207Z"
   },
   {
    "duration": 2,
    "start_time": "2022-05-12T10:21:20.253Z"
   },
   {
    "duration": 36,
    "start_time": "2022-05-12T10:21:20.257Z"
   },
   {
    "duration": 25,
    "start_time": "2022-05-12T10:21:20.295Z"
   },
   {
    "duration": 26,
    "start_time": "2022-05-12T10:21:20.321Z"
   },
   {
    "duration": 33,
    "start_time": "2022-05-12T10:21:20.349Z"
   },
   {
    "duration": 26,
    "start_time": "2022-05-12T10:21:20.384Z"
   },
   {
    "duration": 32,
    "start_time": "2022-05-12T10:21:20.411Z"
   },
   {
    "duration": 20,
    "start_time": "2022-05-12T10:21:20.446Z"
   },
   {
    "duration": 22,
    "start_time": "2022-05-12T10:21:20.468Z"
   },
   {
    "duration": 40,
    "start_time": "2022-05-12T10:21:20.492Z"
   },
   {
    "duration": 287,
    "start_time": "2022-05-12T10:21:20.534Z"
   },
   {
    "duration": 26,
    "start_time": "2022-05-12T10:21:20.822Z"
   },
   {
    "duration": 162,
    "start_time": "2022-05-12T10:21:20.850Z"
   },
   {
    "duration": 15,
    "start_time": "2022-05-12T10:21:21.013Z"
   },
   {
    "duration": 217,
    "start_time": "2022-05-12T10:21:21.030Z"
   },
   {
    "duration": 188,
    "start_time": "2022-05-12T10:21:21.248Z"
   },
   {
    "duration": 16,
    "start_time": "2022-05-12T10:21:21.438Z"
   },
   {
    "duration": 190,
    "start_time": "2022-05-12T10:21:21.456Z"
   },
   {
    "duration": 18,
    "start_time": "2022-05-12T10:21:21.649Z"
   },
   {
    "duration": 153,
    "start_time": "2022-05-12T10:21:21.669Z"
   },
   {
    "duration": 47,
    "start_time": "2022-05-12T10:21:21.824Z"
   },
   {
    "duration": 37,
    "start_time": "2022-05-12T10:21:21.873Z"
   },
   {
    "duration": 43,
    "start_time": "2022-05-12T10:21:21.912Z"
   },
   {
    "duration": 209,
    "start_time": "2022-05-12T10:21:21.957Z"
   },
   {
    "duration": 587,
    "start_time": "2022-05-12T10:21:22.168Z"
   },
   {
    "duration": 9,
    "start_time": "2022-05-12T10:21:22.757Z"
   },
   {
    "duration": 13,
    "start_time": "2022-05-12T10:21:22.768Z"
   },
   {
    "duration": 77,
    "start_time": "2022-05-12T10:21:22.783Z"
   },
   {
    "duration": 18,
    "start_time": "2022-05-12T10:21:22.863Z"
   },
   {
    "duration": 62,
    "start_time": "2022-05-12T10:21:22.883Z"
   },
   {
    "duration": 12,
    "start_time": "2022-05-12T10:21:22.949Z"
   },
   {
    "duration": 9,
    "start_time": "2022-05-12T10:21:22.963Z"
   },
   {
    "duration": 20,
    "start_time": "2022-05-12T10:21:22.974Z"
   },
   {
    "duration": 56,
    "start_time": "2022-05-12T10:21:22.996Z"
   },
   {
    "duration": 24,
    "start_time": "2022-05-12T10:21:23.054Z"
   },
   {
    "duration": 70,
    "start_time": "2022-05-12T10:21:23.080Z"
   },
   {
    "duration": 512,
    "start_time": "2022-05-12T10:21:23.151Z"
   },
   {
    "duration": 14,
    "start_time": "2022-05-12T10:22:51.459Z"
   },
   {
    "duration": 3,
    "start_time": "2022-05-12T10:22:52.424Z"
   },
   {
    "duration": 3,
    "start_time": "2022-05-12T10:23:01.105Z"
   },
   {
    "duration": 77,
    "start_time": "2022-05-12T10:23:01.110Z"
   },
   {
    "duration": 23,
    "start_time": "2022-05-12T10:23:01.189Z"
   },
   {
    "duration": 34,
    "start_time": "2022-05-12T10:23:01.213Z"
   },
   {
    "duration": 92,
    "start_time": "2022-05-12T10:23:01.250Z"
   },
   {
    "duration": 54,
    "start_time": "2022-05-12T10:23:01.343Z"
   },
   {
    "duration": 23,
    "start_time": "2022-05-12T10:23:01.399Z"
   },
   {
    "duration": 40,
    "start_time": "2022-05-12T10:23:01.424Z"
   },
   {
    "duration": 11,
    "start_time": "2022-05-12T10:23:01.466Z"
   },
   {
    "duration": 10,
    "start_time": "2022-05-12T10:23:01.478Z"
   },
   {
    "duration": 15,
    "start_time": "2022-05-12T10:23:01.489Z"
   },
   {
    "duration": 8,
    "start_time": "2022-05-12T10:23:01.506Z"
   },
   {
    "duration": 26,
    "start_time": "2022-05-12T10:23:01.516Z"
   },
   {
    "duration": 9,
    "start_time": "2022-05-12T10:23:01.546Z"
   },
   {
    "duration": 18,
    "start_time": "2022-05-12T10:23:01.557Z"
   },
   {
    "duration": 17,
    "start_time": "2022-05-12T10:23:01.577Z"
   },
   {
    "duration": 287,
    "start_time": "2022-05-12T10:23:01.596Z"
   },
   {
    "duration": 16,
    "start_time": "2022-05-12T10:23:01.885Z"
   },
   {
    "duration": 256,
    "start_time": "2022-05-12T10:23:01.903Z"
   },
   {
    "duration": 21,
    "start_time": "2022-05-12T10:23:02.161Z"
   },
   {
    "duration": 255,
    "start_time": "2022-05-12T10:23:02.184Z"
   },
   {
    "duration": 197,
    "start_time": "2022-05-12T10:23:02.443Z"
   },
   {
    "duration": 17,
    "start_time": "2022-05-12T10:23:02.643Z"
   },
   {
    "duration": 197,
    "start_time": "2022-05-12T10:23:02.662Z"
   },
   {
    "duration": 18,
    "start_time": "2022-05-12T10:23:02.861Z"
   },
   {
    "duration": 1746,
    "start_time": "2022-05-12T10:23:02.880Z"
   },
   {
    "duration": 0,
    "start_time": "2022-05-12T10:23:04.628Z"
   },
   {
    "duration": 0,
    "start_time": "2022-05-12T10:23:04.630Z"
   },
   {
    "duration": 0,
    "start_time": "2022-05-12T10:23:04.632Z"
   },
   {
    "duration": 0,
    "start_time": "2022-05-12T10:23:04.634Z"
   },
   {
    "duration": 0,
    "start_time": "2022-05-12T10:23:04.635Z"
   },
   {
    "duration": 1,
    "start_time": "2022-05-12T10:23:04.643Z"
   },
   {
    "duration": 0,
    "start_time": "2022-05-12T10:23:04.645Z"
   },
   {
    "duration": 0,
    "start_time": "2022-05-12T10:23:04.647Z"
   },
   {
    "duration": 0,
    "start_time": "2022-05-12T10:23:04.648Z"
   },
   {
    "duration": 0,
    "start_time": "2022-05-12T10:23:04.650Z"
   },
   {
    "duration": 0,
    "start_time": "2022-05-12T10:23:04.651Z"
   },
   {
    "duration": 0,
    "start_time": "2022-05-12T10:23:04.653Z"
   },
   {
    "duration": 0,
    "start_time": "2022-05-12T10:23:04.654Z"
   },
   {
    "duration": 0,
    "start_time": "2022-05-12T10:23:04.656Z"
   },
   {
    "duration": 0,
    "start_time": "2022-05-12T10:23:04.658Z"
   },
   {
    "duration": 0,
    "start_time": "2022-05-12T10:23:04.659Z"
   },
   {
    "duration": 0,
    "start_time": "2022-05-12T10:23:04.661Z"
   },
   {
    "duration": 19,
    "start_time": "2022-05-12T10:23:30.566Z"
   },
   {
    "duration": 4,
    "start_time": "2022-05-12T10:23:33.484Z"
   },
   {
    "duration": 90,
    "start_time": "2022-05-12T10:23:33.490Z"
   },
   {
    "duration": 32,
    "start_time": "2022-05-12T10:23:33.582Z"
   },
   {
    "duration": 34,
    "start_time": "2022-05-12T10:23:33.616Z"
   },
   {
    "duration": 24,
    "start_time": "2022-05-12T10:23:33.652Z"
   },
   {
    "duration": 21,
    "start_time": "2022-05-12T10:23:33.678Z"
   },
   {
    "duration": 3,
    "start_time": "2022-05-12T10:23:33.701Z"
   },
   {
    "duration": 46,
    "start_time": "2022-05-12T10:23:33.706Z"
   },
   {
    "duration": 10,
    "start_time": "2022-05-12T10:23:33.756Z"
   },
   {
    "duration": 6,
    "start_time": "2022-05-12T10:23:33.768Z"
   },
   {
    "duration": 9,
    "start_time": "2022-05-12T10:23:33.777Z"
   },
   {
    "duration": 5,
    "start_time": "2022-05-12T10:23:33.788Z"
   },
   {
    "duration": 19,
    "start_time": "2022-05-12T10:23:33.795Z"
   },
   {
    "duration": 48,
    "start_time": "2022-05-12T10:23:33.816Z"
   },
   {
    "duration": 36,
    "start_time": "2022-05-12T10:23:33.866Z"
   },
   {
    "duration": 16,
    "start_time": "2022-05-12T10:23:33.904Z"
   },
   {
    "duration": 283,
    "start_time": "2022-05-12T10:23:33.921Z"
   },
   {
    "duration": 17,
    "start_time": "2022-05-12T10:23:34.206Z"
   },
   {
    "duration": 170,
    "start_time": "2022-05-12T10:23:34.226Z"
   },
   {
    "duration": 15,
    "start_time": "2022-05-12T10:23:34.398Z"
   },
   {
    "duration": 231,
    "start_time": "2022-05-12T10:23:34.415Z"
   },
   {
    "duration": 191,
    "start_time": "2022-05-12T10:23:34.648Z"
   },
   {
    "duration": 15,
    "start_time": "2022-05-12T10:23:34.845Z"
   },
   {
    "duration": 295,
    "start_time": "2022-05-12T10:23:34.862Z"
   },
   {
    "duration": 16,
    "start_time": "2022-05-12T10:23:35.159Z"
   },
   {
    "duration": 2088,
    "start_time": "2022-05-12T10:23:35.177Z"
   },
   {
    "duration": 0,
    "start_time": "2022-05-12T10:23:37.267Z"
   },
   {
    "duration": 0,
    "start_time": "2022-05-12T10:23:37.268Z"
   },
   {
    "duration": 0,
    "start_time": "2022-05-12T10:23:37.269Z"
   },
   {
    "duration": 0,
    "start_time": "2022-05-12T10:23:37.270Z"
   },
   {
    "duration": 0,
    "start_time": "2022-05-12T10:23:37.271Z"
   },
   {
    "duration": 0,
    "start_time": "2022-05-12T10:23:37.273Z"
   },
   {
    "duration": 0,
    "start_time": "2022-05-12T10:23:37.274Z"
   },
   {
    "duration": 0,
    "start_time": "2022-05-12T10:23:37.276Z"
   },
   {
    "duration": 0,
    "start_time": "2022-05-12T10:23:37.277Z"
   },
   {
    "duration": 0,
    "start_time": "2022-05-12T10:23:37.278Z"
   },
   {
    "duration": 0,
    "start_time": "2022-05-12T10:23:37.279Z"
   },
   {
    "duration": 0,
    "start_time": "2022-05-12T10:23:37.280Z"
   },
   {
    "duration": 0,
    "start_time": "2022-05-12T10:23:37.281Z"
   },
   {
    "duration": 0,
    "start_time": "2022-05-12T10:23:37.282Z"
   },
   {
    "duration": 0,
    "start_time": "2022-05-12T10:23:37.283Z"
   },
   {
    "duration": 0,
    "start_time": "2022-05-12T10:23:37.285Z"
   },
   {
    "duration": 0,
    "start_time": "2022-05-12T10:23:37.286Z"
   },
   {
    "duration": 2284,
    "start_time": "2022-05-12T10:31:40.237Z"
   },
   {
    "duration": 12,
    "start_time": "2022-05-12T10:31:51.587Z"
   },
   {
    "duration": 18,
    "start_time": "2022-05-12T10:32:02.015Z"
   },
   {
    "duration": 33,
    "start_time": "2022-05-12T10:35:28.698Z"
   },
   {
    "duration": 14,
    "start_time": "2022-05-12T10:35:37.292Z"
   },
   {
    "duration": 16,
    "start_time": "2022-05-12T10:36:00.113Z"
   },
   {
    "duration": 21,
    "start_time": "2022-05-12T10:36:29.663Z"
   },
   {
    "duration": 13,
    "start_time": "2022-05-12T10:36:51.496Z"
   },
   {
    "duration": 15,
    "start_time": "2022-05-12T10:36:56.528Z"
   },
   {
    "duration": 13,
    "start_time": "2022-05-12T10:37:32.515Z"
   },
   {
    "duration": 56,
    "start_time": "2022-05-12T10:37:52.745Z"
   },
   {
    "duration": 15,
    "start_time": "2022-05-12T10:38:04.922Z"
   },
   {
    "duration": 15,
    "start_time": "2022-05-12T10:39:06.661Z"
   },
   {
    "duration": 2545,
    "start_time": "2022-05-12T10:41:16.763Z"
   },
   {
    "duration": 538,
    "start_time": "2022-05-12T10:41:33.445Z"
   },
   {
    "duration": 527,
    "start_time": "2022-05-12T10:41:50.805Z"
   },
   {
    "duration": 463,
    "start_time": "2022-05-12T10:42:43.525Z"
   },
   {
    "duration": 10,
    "start_time": "2022-05-12T10:43:17.460Z"
   },
   {
    "duration": 11,
    "start_time": "2022-05-12T10:43:36.761Z"
   },
   {
    "duration": 10,
    "start_time": "2022-05-12T10:43:42.194Z"
   },
   {
    "duration": 14,
    "start_time": "2022-05-12T10:43:51.549Z"
   },
   {
    "duration": 338,
    "start_time": "2022-05-12T10:43:53.514Z"
   },
   {
    "duration": 433,
    "start_time": "2022-05-12T10:43:54.264Z"
   },
   {
    "duration": 15,
    "start_time": "2022-05-12T10:44:16.730Z"
   },
   {
    "duration": 208,
    "start_time": "2022-05-12T10:44:17.415Z"
   },
   {
    "duration": 416,
    "start_time": "2022-05-12T10:44:18.036Z"
   },
   {
    "duration": 33,
    "start_time": "2022-05-12T10:49:22.033Z"
   },
   {
    "duration": 2167,
    "start_time": "2022-05-12T10:50:40.559Z"
   },
   {
    "duration": 296,
    "start_time": "2022-05-12T10:50:48.339Z"
   },
   {
    "duration": 130,
    "start_time": "2022-05-12T10:51:14.142Z"
   },
   {
    "duration": 279,
    "start_time": "2022-05-12T10:51:28.126Z"
   },
   {
    "duration": 252,
    "start_time": "2022-05-12T10:52:31.803Z"
   },
   {
    "duration": 273,
    "start_time": "2022-05-12T10:52:40.288Z"
   },
   {
    "duration": 266,
    "start_time": "2022-05-12T10:54:26.905Z"
   },
   {
    "duration": 298,
    "start_time": "2022-05-12T10:54:48.271Z"
   },
   {
    "duration": 393,
    "start_time": "2022-05-12T10:55:05.387Z"
   },
   {
    "duration": 271,
    "start_time": "2022-05-12T10:55:25.603Z"
   },
   {
    "duration": 30,
    "start_time": "2022-05-12T10:56:52.320Z"
   },
   {
    "duration": 331,
    "start_time": "2022-05-12T10:57:03.641Z"
   },
   {
    "duration": 9567,
    "start_time": "2022-05-12T10:57:16.114Z"
   },
   {
    "duration": 6497,
    "start_time": "2022-05-12T10:57:48.932Z"
   },
   {
    "duration": 27,
    "start_time": "2022-05-12T10:58:19.953Z"
   },
   {
    "duration": 17,
    "start_time": "2022-05-12T10:58:46.257Z"
   },
   {
    "duration": 277,
    "start_time": "2022-05-12T10:58:54.581Z"
   },
   {
    "duration": 273,
    "start_time": "2022-05-12T10:59:17.535Z"
   },
   {
    "duration": 17,
    "start_time": "2022-05-12T11:03:42.599Z"
   },
   {
    "duration": 17,
    "start_time": "2022-05-12T11:03:52.085Z"
   },
   {
    "duration": 18,
    "start_time": "2022-05-12T11:10:07.655Z"
   },
   {
    "duration": 16,
    "start_time": "2022-05-12T11:10:16.935Z"
   },
   {
    "duration": 239,
    "start_time": "2022-05-12T11:10:17.383Z"
   },
   {
    "duration": 217,
    "start_time": "2022-05-12T11:14:49.621Z"
   },
   {
    "duration": 235,
    "start_time": "2022-05-12T11:15:05.641Z"
   },
   {
    "duration": 213,
    "start_time": "2022-05-12T11:15:15.597Z"
   },
   {
    "duration": 18,
    "start_time": "2022-05-12T11:16:35.679Z"
   },
   {
    "duration": 9632,
    "start_time": "2022-05-12T11:17:18.824Z"
   },
   {
    "duration": 15,
    "start_time": "2022-05-12T11:17:36.774Z"
   },
   {
    "duration": 7,
    "start_time": "2022-05-12T11:20:43.755Z"
   },
   {
    "duration": 11,
    "start_time": "2022-05-12T11:20:56.238Z"
   },
   {
    "duration": 12,
    "start_time": "2022-05-12T11:21:13.094Z"
   },
   {
    "duration": 19,
    "start_time": "2022-05-12T11:28:02.085Z"
   },
   {
    "duration": 24,
    "start_time": "2022-05-12T11:28:16.084Z"
   },
   {
    "duration": 18,
    "start_time": "2022-05-12T11:28:20.321Z"
   },
   {
    "duration": 27,
    "start_time": "2022-05-12T11:29:07.833Z"
   },
   {
    "duration": 18,
    "start_time": "2022-05-12T11:29:55.094Z"
   },
   {
    "duration": 34,
    "start_time": "2022-05-12T11:30:01.985Z"
   },
   {
    "duration": 19,
    "start_time": "2022-05-12T11:30:15.133Z"
   },
   {
    "duration": 22,
    "start_time": "2022-05-12T11:30:23.751Z"
   },
   {
    "duration": 27,
    "start_time": "2022-05-12T11:30:42.849Z"
   },
   {
    "duration": 26,
    "start_time": "2022-05-12T11:30:47.700Z"
   },
   {
    "duration": 4,
    "start_time": "2022-05-12T11:31:31.688Z"
   },
   {
    "duration": 16,
    "start_time": "2022-05-12T11:31:37.816Z"
   },
   {
    "duration": 11,
    "start_time": "2022-05-12T11:31:50.015Z"
   },
   {
    "duration": 10,
    "start_time": "2022-05-12T11:32:19.519Z"
   },
   {
    "duration": 4,
    "start_time": "2022-05-12T11:32:23.498Z"
   },
   {
    "duration": 11,
    "start_time": "2022-05-12T11:33:03.565Z"
   },
   {
    "duration": 15,
    "start_time": "2022-05-12T11:34:06.585Z"
   },
   {
    "duration": 19,
    "start_time": "2022-05-12T11:36:05.098Z"
   },
   {
    "duration": 18,
    "start_time": "2022-05-12T11:36:56.681Z"
   },
   {
    "duration": 11,
    "start_time": "2022-05-12T11:37:21.563Z"
   },
   {
    "duration": 13,
    "start_time": "2022-05-12T11:38:32.329Z"
   },
   {
    "duration": 17,
    "start_time": "2022-05-12T11:40:45.794Z"
   },
   {
    "duration": 13,
    "start_time": "2022-05-12T11:40:57.645Z"
   },
   {
    "duration": 13,
    "start_time": "2022-05-12T11:42:58.811Z"
   },
   {
    "duration": 27,
    "start_time": "2022-05-12T11:43:09.993Z"
   },
   {
    "duration": 17,
    "start_time": "2022-05-12T11:45:57.224Z"
   },
   {
    "duration": 13,
    "start_time": "2022-05-12T11:53:43.112Z"
   },
   {
    "duration": 33,
    "start_time": "2022-05-12T11:54:54.361Z"
   },
   {
    "duration": 19,
    "start_time": "2022-05-12T11:55:19.623Z"
   },
   {
    "duration": 26,
    "start_time": "2022-05-12T11:55:40.893Z"
   },
   {
    "duration": 19,
    "start_time": "2022-05-12T11:56:34.722Z"
   },
   {
    "duration": 21,
    "start_time": "2022-05-12T11:57:05.003Z"
   },
   {
    "duration": 19,
    "start_time": "2022-05-12T11:57:22.954Z"
   },
   {
    "duration": 4,
    "start_time": "2022-05-12T12:04:31.644Z"
   },
   {
    "duration": 151,
    "start_time": "2022-05-12T12:04:31.651Z"
   },
   {
    "duration": 22,
    "start_time": "2022-05-12T12:04:31.804Z"
   },
   {
    "duration": 24,
    "start_time": "2022-05-12T12:04:31.842Z"
   },
   {
    "duration": 23,
    "start_time": "2022-05-12T12:04:31.868Z"
   },
   {
    "duration": 21,
    "start_time": "2022-05-12T12:04:31.893Z"
   },
   {
    "duration": 41,
    "start_time": "2022-05-12T12:04:31.916Z"
   },
   {
    "duration": 9,
    "start_time": "2022-05-12T12:04:31.958Z"
   },
   {
    "duration": 19,
    "start_time": "2022-05-12T12:04:31.969Z"
   },
   {
    "duration": 16,
    "start_time": "2022-05-12T12:04:31.990Z"
   },
   {
    "duration": 4,
    "start_time": "2022-05-12T12:04:32.009Z"
   },
   {
    "duration": 8,
    "start_time": "2022-05-12T12:04:32.015Z"
   },
   {
    "duration": 18,
    "start_time": "2022-05-12T12:04:32.027Z"
   },
   {
    "duration": 13,
    "start_time": "2022-05-12T12:04:32.047Z"
   },
   {
    "duration": 24,
    "start_time": "2022-05-12T12:04:32.062Z"
   },
   {
    "duration": 292,
    "start_time": "2022-05-12T12:04:32.088Z"
   },
   {
    "duration": 16,
    "start_time": "2022-05-12T12:04:32.382Z"
   },
   {
    "duration": 264,
    "start_time": "2022-05-12T12:04:32.400Z"
   },
   {
    "duration": 17,
    "start_time": "2022-05-12T12:04:32.665Z"
   },
   {
    "duration": 221,
    "start_time": "2022-05-12T12:04:32.684Z"
   },
   {
    "duration": 303,
    "start_time": "2022-05-12T12:04:32.906Z"
   },
   {
    "duration": 17,
    "start_time": "2022-05-12T12:04:33.211Z"
   },
   {
    "duration": 38,
    "start_time": "2022-05-12T12:04:33.229Z"
   },
   {
    "duration": 36,
    "start_time": "2022-05-12T12:04:33.269Z"
   },
   {
    "duration": 166,
    "start_time": "2022-05-12T12:04:33.307Z"
   },
   {
    "duration": 16,
    "start_time": "2022-05-12T12:04:33.475Z"
   },
   {
    "duration": 640,
    "start_time": "2022-05-12T12:04:33.493Z"
   },
   {
    "duration": 1,
    "start_time": "2022-05-12T12:04:34.135Z"
   },
   {
    "duration": 0,
    "start_time": "2022-05-12T12:04:34.137Z"
   },
   {
    "duration": 0,
    "start_time": "2022-05-12T12:04:34.138Z"
   },
   {
    "duration": 0,
    "start_time": "2022-05-12T12:04:34.139Z"
   },
   {
    "duration": 0,
    "start_time": "2022-05-12T12:04:34.140Z"
   },
   {
    "duration": 0,
    "start_time": "2022-05-12T12:04:34.141Z"
   },
   {
    "duration": 0,
    "start_time": "2022-05-12T12:04:34.142Z"
   },
   {
    "duration": 0,
    "start_time": "2022-05-12T12:04:34.143Z"
   },
   {
    "duration": 0,
    "start_time": "2022-05-12T12:04:34.144Z"
   },
   {
    "duration": 0,
    "start_time": "2022-05-12T12:04:34.145Z"
   },
   {
    "duration": 0,
    "start_time": "2022-05-12T12:04:34.146Z"
   },
   {
    "duration": 0,
    "start_time": "2022-05-12T12:04:34.147Z"
   },
   {
    "duration": 0,
    "start_time": "2022-05-12T12:04:34.148Z"
   },
   {
    "duration": 0,
    "start_time": "2022-05-12T12:04:34.149Z"
   },
   {
    "duration": 0,
    "start_time": "2022-05-12T12:04:34.150Z"
   },
   {
    "duration": 0,
    "start_time": "2022-05-12T12:04:34.151Z"
   },
   {
    "duration": 0,
    "start_time": "2022-05-12T12:04:34.152Z"
   },
   {
    "duration": 281,
    "start_time": "2022-05-12T12:05:18.715Z"
   },
   {
    "duration": 14,
    "start_time": "2022-05-12T12:05:20.835Z"
   },
   {
    "duration": 15,
    "start_time": "2022-05-12T12:05:44.615Z"
   },
   {
    "duration": 175,
    "start_time": "2022-05-12T12:19:38.661Z"
   },
   {
    "duration": 187,
    "start_time": "2022-05-12T12:21:01.113Z"
   },
   {
    "duration": 143,
    "start_time": "2022-05-12T12:21:06.396Z"
   },
   {
    "duration": 158,
    "start_time": "2022-05-12T12:21:29.326Z"
   },
   {
    "duration": 154,
    "start_time": "2022-05-12T12:23:43.608Z"
   },
   {
    "duration": 161,
    "start_time": "2022-05-12T12:24:09.843Z"
   },
   {
    "duration": 158,
    "start_time": "2022-05-12T12:24:59.695Z"
   },
   {
    "duration": 10,
    "start_time": "2022-05-12T12:25:52.493Z"
   },
   {
    "duration": 280,
    "start_time": "2022-05-12T12:30:41.539Z"
   },
   {
    "duration": 176,
    "start_time": "2022-05-12T12:31:03.035Z"
   },
   {
    "duration": 229,
    "start_time": "2022-05-12T12:31:14.341Z"
   },
   {
    "duration": 216,
    "start_time": "2022-05-12T12:31:24.937Z"
   },
   {
    "duration": 211,
    "start_time": "2022-05-12T12:31:30.060Z"
   },
   {
    "duration": 357,
    "start_time": "2022-05-12T12:31:35.822Z"
   },
   {
    "duration": 187,
    "start_time": "2022-05-12T12:31:41.860Z"
   },
   {
    "duration": 175,
    "start_time": "2022-05-12T12:36:02.156Z"
   },
   {
    "duration": 221,
    "start_time": "2022-05-12T12:38:33.836Z"
   },
   {
    "duration": 196,
    "start_time": "2022-05-12T12:38:44.583Z"
   },
   {
    "duration": 174,
    "start_time": "2022-05-12T12:41:08.268Z"
   },
   {
    "duration": 176,
    "start_time": "2022-05-12T12:41:16.481Z"
   },
   {
    "duration": 18,
    "start_time": "2022-05-12T12:44:13.878Z"
   },
   {
    "duration": 17,
    "start_time": "2022-05-12T12:44:38.479Z"
   },
   {
    "duration": 15,
    "start_time": "2022-05-12T12:45:06.242Z"
   },
   {
    "duration": 16,
    "start_time": "2022-05-12T12:45:42.872Z"
   },
   {
    "duration": 180,
    "start_time": "2022-05-12T12:47:52.280Z"
   },
   {
    "duration": 179,
    "start_time": "2022-05-12T12:48:04.694Z"
   },
   {
    "duration": 175,
    "start_time": "2022-05-12T12:53:16.881Z"
   },
   {
    "duration": 170,
    "start_time": "2022-05-12T12:53:38.776Z"
   },
   {
    "duration": 136,
    "start_time": "2022-05-12T12:53:56.412Z"
   },
   {
    "duration": 389,
    "start_time": "2022-05-12T12:54:02.762Z"
   },
   {
    "duration": 171,
    "start_time": "2022-05-12T12:54:19.607Z"
   },
   {
    "duration": 164,
    "start_time": "2022-05-12T12:54:41.225Z"
   },
   {
    "duration": 605,
    "start_time": "2022-05-12T12:55:41.582Z"
   },
   {
    "duration": 17,
    "start_time": "2022-05-12T12:55:45.627Z"
   },
   {
    "duration": 597,
    "start_time": "2022-05-12T12:55:46.279Z"
   },
   {
    "duration": 16,
    "start_time": "2022-05-12T12:55:51.629Z"
   },
   {
    "duration": 717,
    "start_time": "2022-05-12T12:55:52.577Z"
   },
   {
    "duration": 3,
    "start_time": "2022-05-12T12:56:22.535Z"
   },
   {
    "duration": 81,
    "start_time": "2022-05-12T12:56:22.541Z"
   },
   {
    "duration": 25,
    "start_time": "2022-05-12T12:56:22.624Z"
   },
   {
    "duration": 22,
    "start_time": "2022-05-12T12:56:22.651Z"
   },
   {
    "duration": 24,
    "start_time": "2022-05-12T12:56:22.676Z"
   },
   {
    "duration": 50,
    "start_time": "2022-05-12T12:56:22.702Z"
   },
   {
    "duration": 14,
    "start_time": "2022-05-12T12:56:22.754Z"
   },
   {
    "duration": 10,
    "start_time": "2022-05-12T12:56:22.770Z"
   },
   {
    "duration": 6,
    "start_time": "2022-05-12T12:56:22.782Z"
   },
   {
    "duration": 6,
    "start_time": "2022-05-12T12:56:22.790Z"
   },
   {
    "duration": 5,
    "start_time": "2022-05-12T12:56:22.798Z"
   },
   {
    "duration": 42,
    "start_time": "2022-05-12T12:56:22.804Z"
   },
   {
    "duration": 5,
    "start_time": "2022-05-12T12:56:22.848Z"
   },
   {
    "duration": 16,
    "start_time": "2022-05-12T12:56:22.856Z"
   },
   {
    "duration": 18,
    "start_time": "2022-05-12T12:56:22.874Z"
   },
   {
    "duration": 496,
    "start_time": "2022-05-12T12:56:22.894Z"
   },
   {
    "duration": 23,
    "start_time": "2022-05-12T12:56:23.393Z"
   },
   {
    "duration": 284,
    "start_time": "2022-05-12T12:56:23.418Z"
   },
   {
    "duration": 19,
    "start_time": "2022-05-12T12:56:23.704Z"
   },
   {
    "duration": 391,
    "start_time": "2022-05-12T12:56:23.724Z"
   },
   {
    "duration": 195,
    "start_time": "2022-05-12T12:56:24.117Z"
   },
   {
    "duration": 16,
    "start_time": "2022-05-12T12:56:24.314Z"
   },
   {
    "duration": 15,
    "start_time": "2022-05-12T12:56:24.343Z"
   },
   {
    "duration": 252,
    "start_time": "2022-05-12T12:56:24.359Z"
   },
   {
    "duration": 15,
    "start_time": "2022-05-12T12:56:24.614Z"
   },
   {
    "duration": 189,
    "start_time": "2022-05-12T12:56:24.643Z"
   },
   {
    "duration": 21,
    "start_time": "2022-05-12T12:56:24.834Z"
   },
   {
    "duration": 670,
    "start_time": "2022-05-12T12:56:24.857Z"
   },
   {
    "duration": 0,
    "start_time": "2022-05-12T12:56:25.529Z"
   },
   {
    "duration": 0,
    "start_time": "2022-05-12T12:56:25.531Z"
   },
   {
    "duration": 0,
    "start_time": "2022-05-12T12:56:25.532Z"
   },
   {
    "duration": 0,
    "start_time": "2022-05-12T12:56:25.533Z"
   },
   {
    "duration": 0,
    "start_time": "2022-05-12T12:56:25.534Z"
   },
   {
    "duration": 0,
    "start_time": "2022-05-12T12:56:25.535Z"
   },
   {
    "duration": 0,
    "start_time": "2022-05-12T12:56:25.536Z"
   },
   {
    "duration": 0,
    "start_time": "2022-05-12T12:56:25.537Z"
   },
   {
    "duration": 0,
    "start_time": "2022-05-12T12:56:25.538Z"
   },
   {
    "duration": 0,
    "start_time": "2022-05-12T12:56:25.539Z"
   },
   {
    "duration": 0,
    "start_time": "2022-05-12T12:56:25.540Z"
   },
   {
    "duration": 0,
    "start_time": "2022-05-12T12:56:25.541Z"
   },
   {
    "duration": 0,
    "start_time": "2022-05-12T12:56:25.543Z"
   },
   {
    "duration": 0,
    "start_time": "2022-05-12T12:56:25.544Z"
   },
   {
    "duration": 0,
    "start_time": "2022-05-12T12:56:25.545Z"
   },
   {
    "duration": 0,
    "start_time": "2022-05-12T12:56:25.546Z"
   },
   {
    "duration": 0,
    "start_time": "2022-05-12T12:56:25.547Z"
   },
   {
    "duration": 739,
    "start_time": "2022-05-12T12:59:17.647Z"
   },
   {
    "duration": 1420,
    "start_time": "2022-05-12T13:00:05.665Z"
   },
   {
    "duration": 57,
    "start_time": "2022-05-12T13:00:07.087Z"
   },
   {
    "duration": 29,
    "start_time": "2022-05-12T13:00:07.151Z"
   },
   {
    "duration": 22,
    "start_time": "2022-05-12T13:00:07.182Z"
   },
   {
    "duration": 54,
    "start_time": "2022-05-12T13:00:07.207Z"
   },
   {
    "duration": 45,
    "start_time": "2022-05-12T13:00:07.264Z"
   },
   {
    "duration": 15,
    "start_time": "2022-05-12T13:00:07.310Z"
   },
   {
    "duration": 25,
    "start_time": "2022-05-12T13:00:07.327Z"
   },
   {
    "duration": 16,
    "start_time": "2022-05-12T13:00:07.354Z"
   },
   {
    "duration": 16,
    "start_time": "2022-05-12T13:00:07.372Z"
   },
   {
    "duration": 7,
    "start_time": "2022-05-12T13:00:07.390Z"
   },
   {
    "duration": 24,
    "start_time": "2022-05-12T13:00:07.399Z"
   },
   {
    "duration": 14,
    "start_time": "2022-05-12T13:00:07.425Z"
   },
   {
    "duration": 29,
    "start_time": "2022-05-12T13:00:07.444Z"
   },
   {
    "duration": 22,
    "start_time": "2022-05-12T13:00:07.475Z"
   },
   {
    "duration": 339,
    "start_time": "2022-05-12T13:00:07.499Z"
   },
   {
    "duration": 23,
    "start_time": "2022-05-12T13:00:07.839Z"
   },
   {
    "duration": 173,
    "start_time": "2022-05-12T13:00:07.864Z"
   },
   {
    "duration": 18,
    "start_time": "2022-05-12T13:00:08.038Z"
   },
   {
    "duration": 241,
    "start_time": "2022-05-12T13:00:08.058Z"
   },
   {
    "duration": 191,
    "start_time": "2022-05-12T13:00:08.300Z"
   },
   {
    "duration": 16,
    "start_time": "2022-05-12T13:00:08.493Z"
   },
   {
    "duration": 42,
    "start_time": "2022-05-12T13:00:08.511Z"
   },
   {
    "duration": 200,
    "start_time": "2022-05-12T13:00:08.555Z"
   },
   {
    "duration": 17,
    "start_time": "2022-05-12T13:00:08.757Z"
   },
   {
    "duration": 207,
    "start_time": "2022-05-12T13:00:08.776Z"
   },
   {
    "duration": 43,
    "start_time": "2022-05-12T13:00:08.985Z"
   },
   {
    "duration": 910,
    "start_time": "2022-05-12T13:00:09.030Z"
   },
   {
    "duration": 0,
    "start_time": "2022-05-12T13:00:09.941Z"
   },
   {
    "duration": 0,
    "start_time": "2022-05-12T13:00:09.944Z"
   },
   {
    "duration": 0,
    "start_time": "2022-05-12T13:00:09.945Z"
   },
   {
    "duration": 1,
    "start_time": "2022-05-12T13:00:09.947Z"
   },
   {
    "duration": 0,
    "start_time": "2022-05-12T13:00:09.950Z"
   },
   {
    "duration": 0,
    "start_time": "2022-05-12T13:00:09.952Z"
   },
   {
    "duration": 0,
    "start_time": "2022-05-12T13:00:09.955Z"
   },
   {
    "duration": 0,
    "start_time": "2022-05-12T13:00:09.956Z"
   },
   {
    "duration": 0,
    "start_time": "2022-05-12T13:00:09.958Z"
   },
   {
    "duration": 0,
    "start_time": "2022-05-12T13:00:09.959Z"
   },
   {
    "duration": 0,
    "start_time": "2022-05-12T13:00:09.961Z"
   },
   {
    "duration": 0,
    "start_time": "2022-05-12T13:00:09.962Z"
   },
   {
    "duration": 0,
    "start_time": "2022-05-12T13:00:09.963Z"
   },
   {
    "duration": 0,
    "start_time": "2022-05-12T13:00:09.965Z"
   },
   {
    "duration": 0,
    "start_time": "2022-05-12T13:00:09.966Z"
   },
   {
    "duration": 0,
    "start_time": "2022-05-12T13:00:09.967Z"
   },
   {
    "duration": 0,
    "start_time": "2022-05-12T13:00:09.969Z"
   },
   {
    "duration": 24,
    "start_time": "2022-05-12T13:00:52.535Z"
   },
   {
    "duration": 25,
    "start_time": "2022-05-12T13:01:07.235Z"
   },
   {
    "duration": 829,
    "start_time": "2022-05-12T13:01:11.505Z"
   },
   {
    "duration": 13,
    "start_time": "2022-05-12T13:02:34.976Z"
   },
   {
    "duration": 697,
    "start_time": "2022-05-12T13:05:30.788Z"
   },
   {
    "duration": 2376,
    "start_time": "2022-05-12T13:09:41.133Z"
   },
   {
    "duration": 2114,
    "start_time": "2022-05-12T13:09:56.561Z"
   },
   {
    "duration": 99,
    "start_time": "2022-05-12T13:09:58.678Z"
   },
   {
    "duration": 39,
    "start_time": "2022-05-12T13:09:58.779Z"
   },
   {
    "duration": 33,
    "start_time": "2022-05-12T13:09:58.832Z"
   },
   {
    "duration": 50,
    "start_time": "2022-05-12T13:09:58.867Z"
   },
   {
    "duration": 32,
    "start_time": "2022-05-12T13:09:58.919Z"
   },
   {
    "duration": 17,
    "start_time": "2022-05-12T13:09:58.954Z"
   },
   {
    "duration": 14,
    "start_time": "2022-05-12T13:09:58.973Z"
   },
   {
    "duration": 6,
    "start_time": "2022-05-12T13:09:58.989Z"
   },
   {
    "duration": 24,
    "start_time": "2022-05-12T13:09:58.997Z"
   },
   {
    "duration": 21,
    "start_time": "2022-05-12T13:09:59.023Z"
   },
   {
    "duration": 28,
    "start_time": "2022-05-12T13:09:59.046Z"
   },
   {
    "duration": 22,
    "start_time": "2022-05-12T13:09:59.076Z"
   },
   {
    "duration": 22,
    "start_time": "2022-05-12T13:09:59.102Z"
   },
   {
    "duration": 23,
    "start_time": "2022-05-12T13:09:59.127Z"
   },
   {
    "duration": 355,
    "start_time": "2022-05-12T13:09:59.153Z"
   },
   {
    "duration": 17,
    "start_time": "2022-05-12T13:09:59.511Z"
   },
   {
    "duration": 176,
    "start_time": "2022-05-12T13:09:59.530Z"
   },
   {
    "duration": 35,
    "start_time": "2022-05-12T13:09:59.708Z"
   },
   {
    "duration": 350,
    "start_time": "2022-05-12T13:09:59.746Z"
   },
   {
    "duration": 234,
    "start_time": "2022-05-12T13:10:00.098Z"
   },
   {
    "duration": 25,
    "start_time": "2022-05-12T13:10:00.335Z"
   },
   {
    "duration": 105,
    "start_time": "2022-05-12T13:10:00.362Z"
   },
   {
    "duration": 226,
    "start_time": "2022-05-12T13:10:00.469Z"
   },
   {
    "duration": 22,
    "start_time": "2022-05-12T13:10:00.698Z"
   },
   {
    "duration": 284,
    "start_time": "2022-05-12T13:10:00.722Z"
   },
   {
    "duration": 83,
    "start_time": "2022-05-12T13:10:01.009Z"
   },
   {
    "duration": 4,
    "start_time": "2022-05-12T13:10:14.626Z"
   },
   {
    "duration": 64,
    "start_time": "2022-05-12T13:10:14.632Z"
   },
   {
    "duration": 46,
    "start_time": "2022-05-12T13:10:14.697Z"
   },
   {
    "duration": 23,
    "start_time": "2022-05-12T13:10:14.745Z"
   },
   {
    "duration": 26,
    "start_time": "2022-05-12T13:10:14.770Z"
   },
   {
    "duration": 50,
    "start_time": "2022-05-12T13:10:14.798Z"
   },
   {
    "duration": 19,
    "start_time": "2022-05-12T13:10:14.851Z"
   },
   {
    "duration": 18,
    "start_time": "2022-05-12T13:10:14.873Z"
   },
   {
    "duration": 7,
    "start_time": "2022-05-12T13:10:14.895Z"
   },
   {
    "duration": 10,
    "start_time": "2022-05-12T13:10:14.904Z"
   },
   {
    "duration": 28,
    "start_time": "2022-05-12T13:10:14.916Z"
   },
   {
    "duration": 16,
    "start_time": "2022-05-12T13:10:14.947Z"
   },
   {
    "duration": 15,
    "start_time": "2022-05-12T13:10:14.966Z"
   },
   {
    "duration": 21,
    "start_time": "2022-05-12T13:10:14.983Z"
   },
   {
    "duration": 81,
    "start_time": "2022-05-12T13:10:15.007Z"
   },
   {
    "duration": 291,
    "start_time": "2022-05-12T13:10:15.090Z"
   },
   {
    "duration": 17,
    "start_time": "2022-05-12T13:10:15.383Z"
   },
   {
    "duration": 181,
    "start_time": "2022-05-12T13:10:15.402Z"
   },
   {
    "duration": 17,
    "start_time": "2022-05-12T13:10:15.584Z"
   },
   {
    "duration": 467,
    "start_time": "2022-05-12T13:10:15.603Z"
   },
   {
    "duration": 605,
    "start_time": "2022-05-12T13:10:16.072Z"
   },
   {
    "duration": 70,
    "start_time": "2022-05-12T13:10:16.680Z"
   },
   {
    "duration": 22,
    "start_time": "2022-05-12T13:10:16.752Z"
   },
   {
    "duration": 670,
    "start_time": "2022-05-12T13:10:16.780Z"
   },
   {
    "duration": 16,
    "start_time": "2022-05-12T13:10:17.453Z"
   },
   {
    "duration": 599,
    "start_time": "2022-05-12T13:10:17.471Z"
   },
   {
    "duration": 71,
    "start_time": "2022-05-12T13:10:18.073Z"
   },
   {
    "duration": 657,
    "start_time": "2022-05-12T13:10:18.146Z"
   },
   {
    "duration": 0,
    "start_time": "2022-05-12T13:10:18.805Z"
   },
   {
    "duration": 0,
    "start_time": "2022-05-12T13:10:18.806Z"
   },
   {
    "duration": 0,
    "start_time": "2022-05-12T13:10:18.807Z"
   },
   {
    "duration": 0,
    "start_time": "2022-05-12T13:10:18.808Z"
   },
   {
    "duration": 0,
    "start_time": "2022-05-12T13:10:18.810Z"
   },
   {
    "duration": 0,
    "start_time": "2022-05-12T13:10:18.811Z"
   },
   {
    "duration": 0,
    "start_time": "2022-05-12T13:10:18.812Z"
   },
   {
    "duration": 0,
    "start_time": "2022-05-12T13:10:18.813Z"
   },
   {
    "duration": 0,
    "start_time": "2022-05-12T13:10:18.814Z"
   },
   {
    "duration": 0,
    "start_time": "2022-05-12T13:10:18.816Z"
   },
   {
    "duration": 0,
    "start_time": "2022-05-12T13:10:18.817Z"
   },
   {
    "duration": 0,
    "start_time": "2022-05-12T13:10:18.818Z"
   },
   {
    "duration": 0,
    "start_time": "2022-05-12T13:10:18.819Z"
   },
   {
    "duration": 0,
    "start_time": "2022-05-12T13:10:18.820Z"
   },
   {
    "duration": 0,
    "start_time": "2022-05-12T13:10:18.820Z"
   },
   {
    "duration": 0,
    "start_time": "2022-05-12T13:10:18.822Z"
   },
   {
    "duration": 0,
    "start_time": "2022-05-12T13:10:18.823Z"
   },
   {
    "duration": 28,
    "start_time": "2022-05-12T13:11:25.461Z"
   },
   {
    "duration": 24,
    "start_time": "2022-05-12T13:11:59.231Z"
   },
   {
    "duration": 3,
    "start_time": "2022-05-12T13:11:59.494Z"
   },
   {
    "duration": 16,
    "start_time": "2022-05-12T13:12:00.299Z"
   },
   {
    "duration": 3723,
    "start_time": "2022-05-12T13:12:00.565Z"
   },
   {
    "duration": 0,
    "start_time": "2022-05-12T13:12:04.290Z"
   },
   {
    "duration": 0,
    "start_time": "2022-05-12T13:12:04.292Z"
   },
   {
    "duration": 0,
    "start_time": "2022-05-12T13:12:04.293Z"
   },
   {
    "duration": 4,
    "start_time": "2022-05-12T13:12:04.761Z"
   },
   {
    "duration": 152,
    "start_time": "2022-05-12T13:12:04.768Z"
   },
   {
    "duration": 36,
    "start_time": "2022-05-12T13:12:04.923Z"
   },
   {
    "duration": 53,
    "start_time": "2022-05-12T13:12:04.963Z"
   },
   {
    "duration": 38,
    "start_time": "2022-05-12T13:12:05.019Z"
   },
   {
    "duration": 21,
    "start_time": "2022-05-12T13:12:05.059Z"
   },
   {
    "duration": 37,
    "start_time": "2022-05-12T13:12:05.083Z"
   },
   {
    "duration": 54,
    "start_time": "2022-05-12T13:12:05.123Z"
   },
   {
    "duration": 28,
    "start_time": "2022-05-12T13:12:05.179Z"
   },
   {
    "duration": 35,
    "start_time": "2022-05-12T13:12:05.209Z"
   },
   {
    "duration": 34,
    "start_time": "2022-05-12T13:12:05.248Z"
   },
   {
    "duration": 52,
    "start_time": "2022-05-12T13:12:05.284Z"
   },
   {
    "duration": 52,
    "start_time": "2022-05-12T13:12:05.339Z"
   },
   {
    "duration": 36,
    "start_time": "2022-05-12T13:12:05.393Z"
   },
   {
    "duration": 58,
    "start_time": "2022-05-12T13:12:05.431Z"
   },
   {
    "duration": 376,
    "start_time": "2022-05-12T13:12:05.490Z"
   },
   {
    "duration": 17,
    "start_time": "2022-05-12T13:12:05.867Z"
   },
   {
    "duration": 240,
    "start_time": "2022-05-12T13:12:05.886Z"
   },
   {
    "duration": 34,
    "start_time": "2022-05-12T13:12:06.128Z"
   },
   {
    "duration": 443,
    "start_time": "2022-05-12T13:12:06.164Z"
   },
   {
    "duration": 275,
    "start_time": "2022-05-12T13:12:06.609Z"
   },
   {
    "duration": 24,
    "start_time": "2022-05-12T13:12:06.886Z"
   },
   {
    "duration": 75,
    "start_time": "2022-05-12T13:12:06.913Z"
   },
   {
    "duration": 405,
    "start_time": "2022-05-12T13:12:06.990Z"
   },
   {
    "duration": 68,
    "start_time": "2022-05-12T13:12:07.398Z"
   },
   {
    "duration": 575,
    "start_time": "2022-05-12T13:12:07.468Z"
   },
   {
    "duration": 31,
    "start_time": "2022-05-12T13:12:08.045Z"
   },
   {
    "duration": 175,
    "start_time": "2022-05-12T13:12:08.078Z"
   },
   {
    "duration": 27,
    "start_time": "2022-05-12T13:12:08.256Z"
   },
   {
    "duration": 83,
    "start_time": "2022-05-12T13:12:08.285Z"
   },
   {
    "duration": 88,
    "start_time": "2022-05-12T13:12:08.371Z"
   },
   {
    "duration": 482,
    "start_time": "2022-05-12T13:12:08.461Z"
   },
   {
    "duration": 1033,
    "start_time": "2022-05-12T13:12:08.946Z"
   },
   {
    "duration": 15,
    "start_time": "2022-05-12T13:12:09.982Z"
   },
   {
    "duration": 33,
    "start_time": "2022-05-12T13:12:10.000Z"
   },
   {
    "duration": 50,
    "start_time": "2022-05-12T13:12:10.035Z"
   },
   {
    "duration": 21,
    "start_time": "2022-05-12T13:12:10.091Z"
   },
   {
    "duration": 4,
    "start_time": "2022-05-12T13:12:10.114Z"
   },
   {
    "duration": 13,
    "start_time": "2022-05-12T13:12:10.120Z"
   },
   {
    "duration": 4,
    "start_time": "2022-05-12T13:12:10.135Z"
   },
   {
    "duration": 18,
    "start_time": "2022-05-12T13:12:10.141Z"
   },
   {
    "duration": 21,
    "start_time": "2022-05-12T13:12:10.160Z"
   },
   {
    "duration": 11,
    "start_time": "2022-05-12T13:12:10.183Z"
   },
   {
    "duration": 29,
    "start_time": "2022-05-12T13:12:10.195Z"
   },
   {
    "duration": 444,
    "start_time": "2022-05-12T13:12:10.226Z"
   },
   {
    "duration": 66,
    "start_time": "2022-05-12T13:12:14.513Z"
   },
   {
    "duration": 16,
    "start_time": "2022-05-12T13:15:52.493Z"
   },
   {
    "duration": 16,
    "start_time": "2022-05-12T13:16:01.340Z"
   },
   {
    "duration": 4,
    "start_time": "2022-05-12T13:16:05.673Z"
   },
   {
    "duration": 107,
    "start_time": "2022-05-12T13:16:05.680Z"
   },
   {
    "duration": 27,
    "start_time": "2022-05-12T13:16:05.789Z"
   },
   {
    "duration": 60,
    "start_time": "2022-05-12T13:16:05.818Z"
   },
   {
    "duration": 43,
    "start_time": "2022-05-12T13:16:05.882Z"
   },
   {
    "duration": 38,
    "start_time": "2022-05-12T13:16:05.945Z"
   },
   {
    "duration": 29,
    "start_time": "2022-05-12T13:16:05.986Z"
   },
   {
    "duration": 36,
    "start_time": "2022-05-12T13:16:06.017Z"
   },
   {
    "duration": 37,
    "start_time": "2022-05-12T13:16:06.056Z"
   },
   {
    "duration": 36,
    "start_time": "2022-05-12T13:16:06.095Z"
   },
   {
    "duration": 27,
    "start_time": "2022-05-12T13:16:06.134Z"
   },
   {
    "duration": 32,
    "start_time": "2022-05-12T13:16:06.163Z"
   },
   {
    "duration": 31,
    "start_time": "2022-05-12T13:16:06.198Z"
   },
   {
    "duration": 21,
    "start_time": "2022-05-12T13:16:06.234Z"
   },
   {
    "duration": 46,
    "start_time": "2022-05-12T13:16:06.257Z"
   },
   {
    "duration": 412,
    "start_time": "2022-05-12T13:16:06.305Z"
   },
   {
    "duration": 25,
    "start_time": "2022-05-12T13:16:06.719Z"
   },
   {
    "duration": 169,
    "start_time": "2022-05-12T13:16:06.746Z"
   },
   {
    "duration": 27,
    "start_time": "2022-05-12T13:16:06.917Z"
   },
   {
    "duration": 249,
    "start_time": "2022-05-12T13:16:06.947Z"
   },
   {
    "duration": 205,
    "start_time": "2022-05-12T13:16:07.198Z"
   },
   {
    "duration": 19,
    "start_time": "2022-05-12T13:16:07.405Z"
   },
   {
    "duration": 16,
    "start_time": "2022-05-12T13:16:07.444Z"
   },
   {
    "duration": 216,
    "start_time": "2022-05-12T13:16:07.462Z"
   },
   {
    "duration": 15,
    "start_time": "2022-05-12T13:16:07.680Z"
   },
   {
    "duration": 211,
    "start_time": "2022-05-12T13:16:07.697Z"
   },
   {
    "duration": 17,
    "start_time": "2022-05-12T13:16:07.910Z"
   },
   {
    "duration": 745,
    "start_time": "2022-05-12T13:16:07.943Z"
   },
   {
    "duration": 0,
    "start_time": "2022-05-12T13:16:08.690Z"
   },
   {
    "duration": 0,
    "start_time": "2022-05-12T13:16:08.691Z"
   },
   {
    "duration": 0,
    "start_time": "2022-05-12T13:16:08.693Z"
   },
   {
    "duration": 0,
    "start_time": "2022-05-12T13:16:08.694Z"
   },
   {
    "duration": 0,
    "start_time": "2022-05-12T13:16:08.695Z"
   },
   {
    "duration": 0,
    "start_time": "2022-05-12T13:16:08.696Z"
   },
   {
    "duration": 0,
    "start_time": "2022-05-12T13:16:08.697Z"
   },
   {
    "duration": 0,
    "start_time": "2022-05-12T13:16:08.698Z"
   },
   {
    "duration": 0,
    "start_time": "2022-05-12T13:16:08.700Z"
   },
   {
    "duration": 0,
    "start_time": "2022-05-12T13:16:08.701Z"
   },
   {
    "duration": 0,
    "start_time": "2022-05-12T13:16:08.702Z"
   },
   {
    "duration": 0,
    "start_time": "2022-05-12T13:16:08.703Z"
   },
   {
    "duration": 0,
    "start_time": "2022-05-12T13:16:08.704Z"
   },
   {
    "duration": 0,
    "start_time": "2022-05-12T13:16:08.705Z"
   },
   {
    "duration": 0,
    "start_time": "2022-05-12T13:16:08.706Z"
   },
   {
    "duration": 0,
    "start_time": "2022-05-12T13:16:08.707Z"
   },
   {
    "duration": 22,
    "start_time": "2022-05-12T13:17:35.347Z"
   },
   {
    "duration": 7,
    "start_time": "2022-05-12T13:17:40.639Z"
   },
   {
    "duration": 83,
    "start_time": "2022-05-12T13:17:40.649Z"
   },
   {
    "duration": 26,
    "start_time": "2022-05-12T13:17:40.734Z"
   },
   {
    "duration": 27,
    "start_time": "2022-05-12T13:17:40.763Z"
   },
   {
    "duration": 23,
    "start_time": "2022-05-12T13:17:40.793Z"
   },
   {
    "duration": 53,
    "start_time": "2022-05-12T13:17:40.819Z"
   },
   {
    "duration": 29,
    "start_time": "2022-05-12T13:17:40.874Z"
   },
   {
    "duration": 0,
    "start_time": "2022-05-12T13:17:40.907Z"
   },
   {
    "duration": 0,
    "start_time": "2022-05-12T13:17:40.908Z"
   },
   {
    "duration": 0,
    "start_time": "2022-05-12T13:17:40.910Z"
   },
   {
    "duration": 0,
    "start_time": "2022-05-12T13:17:40.911Z"
   },
   {
    "duration": 0,
    "start_time": "2022-05-12T13:17:40.912Z"
   },
   {
    "duration": 0,
    "start_time": "2022-05-12T13:17:40.914Z"
   },
   {
    "duration": 0,
    "start_time": "2022-05-12T13:17:40.915Z"
   },
   {
    "duration": 0,
    "start_time": "2022-05-12T13:17:40.916Z"
   },
   {
    "duration": 0,
    "start_time": "2022-05-12T13:17:40.918Z"
   },
   {
    "duration": 0,
    "start_time": "2022-05-12T13:17:40.945Z"
   },
   {
    "duration": 0,
    "start_time": "2022-05-12T13:17:40.946Z"
   },
   {
    "duration": 0,
    "start_time": "2022-05-12T13:17:40.948Z"
   },
   {
    "duration": 0,
    "start_time": "2022-05-12T13:17:40.949Z"
   },
   {
    "duration": 0,
    "start_time": "2022-05-12T13:17:40.951Z"
   },
   {
    "duration": 0,
    "start_time": "2022-05-12T13:17:40.952Z"
   },
   {
    "duration": 0,
    "start_time": "2022-05-12T13:17:40.954Z"
   },
   {
    "duration": 0,
    "start_time": "2022-05-12T13:17:40.956Z"
   },
   {
    "duration": 0,
    "start_time": "2022-05-12T13:17:40.957Z"
   },
   {
    "duration": 0,
    "start_time": "2022-05-12T13:17:40.958Z"
   },
   {
    "duration": 0,
    "start_time": "2022-05-12T13:17:40.960Z"
   },
   {
    "duration": 0,
    "start_time": "2022-05-12T13:17:40.962Z"
   },
   {
    "duration": 0,
    "start_time": "2022-05-12T13:17:40.963Z"
   },
   {
    "duration": 0,
    "start_time": "2022-05-12T13:17:40.964Z"
   },
   {
    "duration": 0,
    "start_time": "2022-05-12T13:17:40.965Z"
   },
   {
    "duration": 0,
    "start_time": "2022-05-12T13:17:40.966Z"
   },
   {
    "duration": 0,
    "start_time": "2022-05-12T13:17:40.967Z"
   },
   {
    "duration": 0,
    "start_time": "2022-05-12T13:17:40.969Z"
   },
   {
    "duration": 0,
    "start_time": "2022-05-12T13:17:40.970Z"
   },
   {
    "duration": 0,
    "start_time": "2022-05-12T13:17:40.971Z"
   },
   {
    "duration": 0,
    "start_time": "2022-05-12T13:17:40.973Z"
   },
   {
    "duration": 0,
    "start_time": "2022-05-12T13:17:40.974Z"
   },
   {
    "duration": 0,
    "start_time": "2022-05-12T13:17:40.975Z"
   },
   {
    "duration": 0,
    "start_time": "2022-05-12T13:17:40.976Z"
   },
   {
    "duration": 0,
    "start_time": "2022-05-12T13:17:40.977Z"
   },
   {
    "duration": 0,
    "start_time": "2022-05-12T13:17:40.978Z"
   },
   {
    "duration": 0,
    "start_time": "2022-05-12T13:17:40.979Z"
   },
   {
    "duration": 0,
    "start_time": "2022-05-12T13:17:40.979Z"
   },
   {
    "duration": 30,
    "start_time": "2022-05-12T13:17:59.264Z"
   },
   {
    "duration": 15,
    "start_time": "2022-05-12T13:18:25.626Z"
   },
   {
    "duration": 16,
    "start_time": "2022-05-12T13:18:38.795Z"
   },
   {
    "duration": 9,
    "start_time": "2022-05-12T13:18:49.330Z"
   },
   {
    "duration": 18,
    "start_time": "2022-05-12T13:19:58.589Z"
   },
   {
    "duration": 19,
    "start_time": "2022-05-12T13:21:29.157Z"
   },
   {
    "duration": 14,
    "start_time": "2022-05-12T13:21:30.026Z"
   },
   {
    "duration": 21,
    "start_time": "2022-05-12T13:21:55.769Z"
   },
   {
    "duration": 15,
    "start_time": "2022-05-12T13:22:54.736Z"
   },
   {
    "duration": 14,
    "start_time": "2022-05-12T13:26:51.374Z"
   },
   {
    "duration": 45,
    "start_time": "2022-05-12T13:27:01.889Z"
   },
   {
    "duration": 21,
    "start_time": "2022-05-12T13:27:06.072Z"
   },
   {
    "duration": 5,
    "start_time": "2022-05-12T13:27:09.882Z"
   },
   {
    "duration": 103,
    "start_time": "2022-05-12T13:27:09.889Z"
   },
   {
    "duration": 49,
    "start_time": "2022-05-12T13:27:09.995Z"
   },
   {
    "duration": 24,
    "start_time": "2022-05-12T13:27:10.047Z"
   },
   {
    "duration": 39,
    "start_time": "2022-05-12T13:27:10.073Z"
   },
   {
    "duration": 34,
    "start_time": "2022-05-12T13:27:10.115Z"
   },
   {
    "duration": 27,
    "start_time": "2022-05-12T13:27:10.151Z"
   },
   {
    "duration": 18,
    "start_time": "2022-05-12T13:27:10.180Z"
   },
   {
    "duration": 20,
    "start_time": "2022-05-12T13:27:10.200Z"
   },
   {
    "duration": 23,
    "start_time": "2022-05-12T13:27:10.224Z"
   },
   {
    "duration": 26,
    "start_time": "2022-05-12T13:27:10.250Z"
   },
   {
    "duration": 40,
    "start_time": "2022-05-12T13:27:10.278Z"
   },
   {
    "duration": 30,
    "start_time": "2022-05-12T13:27:10.320Z"
   },
   {
    "duration": 38,
    "start_time": "2022-05-12T13:27:10.353Z"
   },
   {
    "duration": 290,
    "start_time": "2022-05-12T13:27:10.394Z"
   },
   {
    "duration": 20,
    "start_time": "2022-05-12T13:27:10.686Z"
   },
   {
    "duration": 186,
    "start_time": "2022-05-12T13:27:10.708Z"
   },
   {
    "duration": 16,
    "start_time": "2022-05-12T13:27:10.896Z"
   },
   {
    "duration": 301,
    "start_time": "2022-05-12T13:27:10.914Z"
   },
   {
    "duration": 328,
    "start_time": "2022-05-12T13:27:11.218Z"
   },
   {
    "duration": 18,
    "start_time": "2022-05-12T13:27:11.548Z"
   },
   {
    "duration": 14,
    "start_time": "2022-05-12T13:27:11.568Z"
   },
   {
    "duration": 214,
    "start_time": "2022-05-12T13:27:11.584Z"
   },
   {
    "duration": 17,
    "start_time": "2022-05-12T13:27:11.800Z"
   },
   {
    "duration": 203,
    "start_time": "2022-05-12T13:27:11.819Z"
   },
   {
    "duration": 25,
    "start_time": "2022-05-12T13:27:12.024Z"
   },
   {
    "duration": 60,
    "start_time": "2022-05-12T13:27:12.051Z"
   },
   {
    "duration": 15,
    "start_time": "2022-05-12T13:27:12.116Z"
   },
   {
    "duration": 33,
    "start_time": "2022-05-12T13:27:12.143Z"
   },
   {
    "duration": 214,
    "start_time": "2022-05-12T13:27:12.178Z"
   },
   {
    "duration": 436,
    "start_time": "2022-05-12T13:27:12.394Z"
   },
   {
    "duration": 10,
    "start_time": "2022-05-12T13:27:12.832Z"
   },
   {
    "duration": 12,
    "start_time": "2022-05-12T13:27:12.843Z"
   },
   {
    "duration": 20,
    "start_time": "2022-05-12T13:27:12.856Z"
   },
   {
    "duration": 13,
    "start_time": "2022-05-12T13:27:12.878Z"
   },
   {
    "duration": 5,
    "start_time": "2022-05-12T13:27:12.893Z"
   },
   {
    "duration": 18,
    "start_time": "2022-05-12T13:27:12.899Z"
   },
   {
    "duration": 28,
    "start_time": "2022-05-12T13:27:12.919Z"
   },
   {
    "duration": 8,
    "start_time": "2022-05-12T13:27:12.949Z"
   },
   {
    "duration": 18,
    "start_time": "2022-05-12T13:27:12.960Z"
   },
   {
    "duration": 13,
    "start_time": "2022-05-12T13:27:12.979Z"
   },
   {
    "duration": 22,
    "start_time": "2022-05-12T13:27:12.994Z"
   },
   {
    "duration": 288,
    "start_time": "2022-05-12T13:27:13.042Z"
   },
   {
    "duration": 12,
    "start_time": "2022-05-12T13:29:11.392Z"
   },
   {
    "duration": 4,
    "start_time": "2022-05-12T13:29:17.882Z"
   },
   {
    "duration": 61,
    "start_time": "2022-05-12T13:29:17.889Z"
   },
   {
    "duration": 24,
    "start_time": "2022-05-12T13:29:17.952Z"
   },
   {
    "duration": 35,
    "start_time": "2022-05-12T13:29:17.977Z"
   },
   {
    "duration": 40,
    "start_time": "2022-05-12T13:29:18.015Z"
   },
   {
    "duration": 24,
    "start_time": "2022-05-12T13:29:18.057Z"
   },
   {
    "duration": 13,
    "start_time": "2022-05-12T13:29:18.084Z"
   },
   {
    "duration": 11,
    "start_time": "2022-05-12T13:29:18.098Z"
   },
   {
    "duration": 34,
    "start_time": "2022-05-12T13:29:18.111Z"
   },
   {
    "duration": 7,
    "start_time": "2022-05-12T13:29:18.147Z"
   },
   {
    "duration": 4,
    "start_time": "2022-05-12T13:29:18.157Z"
   },
   {
    "duration": 10,
    "start_time": "2022-05-12T13:29:18.163Z"
   },
   {
    "duration": 6,
    "start_time": "2022-05-12T13:29:18.175Z"
   },
   {
    "duration": 15,
    "start_time": "2022-05-12T13:29:18.183Z"
   },
   {
    "duration": 18,
    "start_time": "2022-05-12T13:29:18.200Z"
   },
   {
    "duration": 411,
    "start_time": "2022-05-12T13:29:18.243Z"
   },
   {
    "duration": 22,
    "start_time": "2022-05-12T13:29:18.657Z"
   },
   {
    "duration": 269,
    "start_time": "2022-05-12T13:29:18.681Z"
   },
   {
    "duration": 23,
    "start_time": "2022-05-12T13:29:18.952Z"
   },
   {
    "duration": 568,
    "start_time": "2022-05-12T13:29:18.977Z"
   },
   {
    "duration": 726,
    "start_time": "2022-05-12T13:29:19.547Z"
   },
   {
    "duration": 85,
    "start_time": "2022-05-12T13:29:20.276Z"
   },
   {
    "duration": 18,
    "start_time": "2022-05-12T13:29:20.363Z"
   },
   {
    "duration": 604,
    "start_time": "2022-05-12T13:29:20.383Z"
   },
   {
    "duration": 21,
    "start_time": "2022-05-12T13:29:20.990Z"
   },
   {
    "duration": 258,
    "start_time": "2022-05-12T13:29:21.014Z"
   },
   {
    "duration": 15,
    "start_time": "2022-05-12T13:29:21.274Z"
   },
   {
    "duration": 67,
    "start_time": "2022-05-12T13:29:21.292Z"
   },
   {
    "duration": 12,
    "start_time": "2022-05-12T13:29:21.363Z"
   },
   {
    "duration": 20,
    "start_time": "2022-05-12T13:29:21.377Z"
   },
   {
    "duration": 225,
    "start_time": "2022-05-12T13:29:21.400Z"
   },
   {
    "duration": 383,
    "start_time": "2022-05-12T13:29:21.627Z"
   },
   {
    "duration": 11,
    "start_time": "2022-05-12T13:29:22.011Z"
   },
   {
    "duration": 10,
    "start_time": "2022-05-12T13:29:22.024Z"
   },
   {
    "duration": 18,
    "start_time": "2022-05-12T13:29:22.043Z"
   },
   {
    "duration": 14,
    "start_time": "2022-05-12T13:29:22.063Z"
   },
   {
    "duration": 5,
    "start_time": "2022-05-12T13:29:22.079Z"
   },
   {
    "duration": 17,
    "start_time": "2022-05-12T13:29:22.086Z"
   },
   {
    "duration": 12,
    "start_time": "2022-05-12T13:29:22.105Z"
   },
   {
    "duration": 34,
    "start_time": "2022-05-12T13:29:22.119Z"
   },
   {
    "duration": 17,
    "start_time": "2022-05-12T13:29:22.155Z"
   },
   {
    "duration": 31,
    "start_time": "2022-05-12T13:29:22.174Z"
   },
   {
    "duration": 22,
    "start_time": "2022-05-12T13:29:22.207Z"
   },
   {
    "duration": 286,
    "start_time": "2022-05-12T13:29:22.231Z"
   },
   {
    "duration": 14,
    "start_time": "2022-05-12T13:29:32.056Z"
   },
   {
    "duration": 4,
    "start_time": "2022-05-12T13:29:39.930Z"
   },
   {
    "duration": 77,
    "start_time": "2022-05-12T13:29:39.937Z"
   },
   {
    "duration": 35,
    "start_time": "2022-05-12T13:29:40.016Z"
   },
   {
    "duration": 31,
    "start_time": "2022-05-12T13:29:40.053Z"
   },
   {
    "duration": 25,
    "start_time": "2022-05-12T13:29:40.086Z"
   },
   {
    "duration": 46,
    "start_time": "2022-05-12T13:29:40.113Z"
   },
   {
    "duration": 15,
    "start_time": "2022-05-12T13:29:40.161Z"
   },
   {
    "duration": 24,
    "start_time": "2022-05-12T13:29:40.177Z"
   },
   {
    "duration": 11,
    "start_time": "2022-05-12T13:29:40.204Z"
   },
   {
    "duration": 10,
    "start_time": "2022-05-12T13:29:40.217Z"
   },
   {
    "duration": 14,
    "start_time": "2022-05-12T13:29:40.229Z"
   },
   {
    "duration": 13,
    "start_time": "2022-05-12T13:29:40.245Z"
   },
   {
    "duration": 25,
    "start_time": "2022-05-12T13:29:40.260Z"
   },
   {
    "duration": 26,
    "start_time": "2022-05-12T13:29:40.287Z"
   },
   {
    "duration": 39,
    "start_time": "2022-05-12T13:29:40.315Z"
   },
   {
    "duration": 297,
    "start_time": "2022-05-12T13:29:40.356Z"
   },
   {
    "duration": 19,
    "start_time": "2022-05-12T13:29:40.655Z"
   },
   {
    "duration": 176,
    "start_time": "2022-05-12T13:29:40.675Z"
   },
   {
    "duration": 17,
    "start_time": "2022-05-12T13:29:40.853Z"
   },
   {
    "duration": 242,
    "start_time": "2022-05-12T13:29:40.873Z"
   },
   {
    "duration": 310,
    "start_time": "2022-05-12T13:29:41.117Z"
   },
   {
    "duration": 29,
    "start_time": "2022-05-12T13:29:41.429Z"
   },
   {
    "duration": 15,
    "start_time": "2022-05-12T13:29:41.459Z"
   },
   {
    "duration": 405,
    "start_time": "2022-05-12T13:29:41.478Z"
   },
   {
    "duration": 68,
    "start_time": "2022-05-12T13:29:41.886Z"
   },
   {
    "duration": 402,
    "start_time": "2022-05-12T13:29:41.956Z"
   },
   {
    "duration": 15,
    "start_time": "2022-05-12T13:29:42.360Z"
   },
   {
    "duration": 188,
    "start_time": "2022-05-12T13:29:42.377Z"
   },
   {
    "duration": 17,
    "start_time": "2022-05-12T13:29:42.567Z"
   },
   {
    "duration": 75,
    "start_time": "2022-05-12T13:29:42.587Z"
   },
   {
    "duration": 525,
    "start_time": "2022-05-12T13:29:42.664Z"
   },
   {
    "duration": 659,
    "start_time": "2022-05-12T13:29:43.244Z"
   },
   {
    "duration": 10,
    "start_time": "2022-05-12T13:29:43.905Z"
   },
   {
    "duration": 26,
    "start_time": "2022-05-12T13:29:43.918Z"
   },
   {
    "duration": 23,
    "start_time": "2022-05-12T13:29:43.946Z"
   },
   {
    "duration": 31,
    "start_time": "2022-05-12T13:29:43.971Z"
   },
   {
    "duration": 22,
    "start_time": "2022-05-12T13:29:44.004Z"
   },
   {
    "duration": 31,
    "start_time": "2022-05-12T13:29:44.028Z"
   },
   {
    "duration": 23,
    "start_time": "2022-05-12T13:29:44.062Z"
   },
   {
    "duration": 29,
    "start_time": "2022-05-12T13:29:44.087Z"
   },
   {
    "duration": 46,
    "start_time": "2022-05-12T13:29:44.119Z"
   },
   {
    "duration": 34,
    "start_time": "2022-05-12T13:29:44.167Z"
   },
   {
    "duration": 34,
    "start_time": "2022-05-12T13:29:44.203Z"
   },
   {
    "duration": 295,
    "start_time": "2022-05-12T13:29:44.239Z"
   },
   {
    "duration": 24,
    "start_time": "2022-05-12T13:30:55.937Z"
   },
   {
    "duration": 16,
    "start_time": "2022-05-12T13:31:02.997Z"
   },
   {
    "duration": 22,
    "start_time": "2022-05-12T13:31:14.233Z"
   },
   {
    "duration": 14,
    "start_time": "2022-05-12T13:31:44.237Z"
   },
   {
    "duration": 4,
    "start_time": "2022-05-12T13:31:48.913Z"
   },
   {
    "duration": 78,
    "start_time": "2022-05-12T13:31:48.920Z"
   },
   {
    "duration": 46,
    "start_time": "2022-05-12T13:31:49.000Z"
   },
   {
    "duration": 35,
    "start_time": "2022-05-12T13:31:49.049Z"
   },
   {
    "duration": 57,
    "start_time": "2022-05-12T13:31:49.086Z"
   },
   {
    "duration": 26,
    "start_time": "2022-05-12T13:31:49.146Z"
   },
   {
    "duration": 12,
    "start_time": "2022-05-12T13:31:49.175Z"
   },
   {
    "duration": 7,
    "start_time": "2022-05-12T13:31:49.189Z"
   },
   {
    "duration": 10,
    "start_time": "2022-05-12T13:31:49.199Z"
   },
   {
    "duration": 3,
    "start_time": "2022-05-12T13:31:49.245Z"
   },
   {
    "duration": 10,
    "start_time": "2022-05-12T13:31:49.251Z"
   },
   {
    "duration": 5,
    "start_time": "2022-05-12T13:31:49.263Z"
   },
   {
    "duration": 19,
    "start_time": "2022-05-12T13:31:49.270Z"
   },
   {
    "duration": 18,
    "start_time": "2022-05-12T13:31:49.291Z"
   },
   {
    "duration": 317,
    "start_time": "2022-05-12T13:31:49.311Z"
   },
   {
    "duration": 21,
    "start_time": "2022-05-12T13:31:49.630Z"
   },
   {
    "duration": 173,
    "start_time": "2022-05-12T13:31:49.653Z"
   },
   {
    "duration": 25,
    "start_time": "2022-05-12T13:31:49.828Z"
   },
   {
    "duration": 242,
    "start_time": "2022-05-12T13:31:49.855Z"
   },
   {
    "duration": 334,
    "start_time": "2022-05-12T13:31:50.100Z"
   },
   {
    "duration": 24,
    "start_time": "2022-05-12T13:31:50.436Z"
   },
   {
    "duration": 25,
    "start_time": "2022-05-12T13:31:50.462Z"
   },
   {
    "duration": 269,
    "start_time": "2022-05-12T13:31:50.488Z"
   },
   {
    "duration": 15,
    "start_time": "2022-05-12T13:31:50.759Z"
   },
   {
    "duration": 479,
    "start_time": "2022-05-12T13:31:50.776Z"
   },
   {
    "duration": 16,
    "start_time": "2022-05-12T13:31:51.257Z"
   },
   {
    "duration": 180,
    "start_time": "2022-05-12T13:31:51.275Z"
   },
   {
    "duration": 12,
    "start_time": "2022-05-12T13:31:51.460Z"
   },
   {
    "duration": 96,
    "start_time": "2022-05-12T13:31:51.474Z"
   },
   {
    "duration": 582,
    "start_time": "2022-05-12T13:31:51.572Z"
   },
   {
    "duration": 656,
    "start_time": "2022-05-12T13:31:52.156Z"
   },
   {
    "duration": 38,
    "start_time": "2022-05-12T13:31:52.814Z"
   },
   {
    "duration": 40,
    "start_time": "2022-05-12T13:31:52.854Z"
   },
   {
    "duration": 48,
    "start_time": "2022-05-12T13:31:52.896Z"
   },
   {
    "duration": 26,
    "start_time": "2022-05-12T13:31:52.948Z"
   },
   {
    "duration": 20,
    "start_time": "2022-05-12T13:31:52.977Z"
   },
   {
    "duration": 50,
    "start_time": "2022-05-12T13:31:52.999Z"
   },
   {
    "duration": 46,
    "start_time": "2022-05-12T13:31:53.051Z"
   },
   {
    "duration": 45,
    "start_time": "2022-05-12T13:31:53.100Z"
   },
   {
    "duration": 45,
    "start_time": "2022-05-12T13:31:53.147Z"
   },
   {
    "duration": 72,
    "start_time": "2022-05-12T13:31:53.194Z"
   },
   {
    "duration": 49,
    "start_time": "2022-05-12T13:31:53.268Z"
   },
   {
    "duration": 346,
    "start_time": "2022-05-12T13:31:53.319Z"
   },
   {
    "duration": 16,
    "start_time": "2022-05-12T13:32:11.716Z"
   },
   {
    "duration": 12,
    "start_time": "2022-05-12T13:32:28.979Z"
   },
   {
    "duration": 213,
    "start_time": "2022-05-12T13:32:29.003Z"
   },
   {
    "duration": 22,
    "start_time": "2022-05-12T13:32:29.218Z"
   },
   {
    "duration": 43,
    "start_time": "2022-05-12T13:32:29.242Z"
   },
   {
    "duration": 24,
    "start_time": "2022-05-12T13:32:29.288Z"
   },
   {
    "duration": 32,
    "start_time": "2022-05-12T13:32:29.314Z"
   },
   {
    "duration": 12,
    "start_time": "2022-05-12T13:32:29.348Z"
   },
   {
    "duration": 10,
    "start_time": "2022-05-12T13:32:29.363Z"
   },
   {
    "duration": 19,
    "start_time": "2022-05-12T13:32:29.375Z"
   },
   {
    "duration": 11,
    "start_time": "2022-05-12T13:32:29.396Z"
   },
   {
    "duration": 46,
    "start_time": "2022-05-12T13:32:29.409Z"
   },
   {
    "duration": 36,
    "start_time": "2022-05-12T13:32:29.457Z"
   },
   {
    "duration": 17,
    "start_time": "2022-05-12T13:32:29.496Z"
   },
   {
    "duration": 21,
    "start_time": "2022-05-12T13:32:29.517Z"
   },
   {
    "duration": 321,
    "start_time": "2022-05-12T13:32:29.540Z"
   },
   {
    "duration": 22,
    "start_time": "2022-05-12T13:32:29.864Z"
   },
   {
    "duration": 388,
    "start_time": "2022-05-12T13:32:29.889Z"
   },
   {
    "duration": 81,
    "start_time": "2022-05-12T13:32:30.279Z"
   },
   {
    "duration": 696,
    "start_time": "2022-05-12T13:32:30.362Z"
   },
   {
    "duration": 923,
    "start_time": "2022-05-12T13:32:31.060Z"
   },
   {
    "duration": 77,
    "start_time": "2022-05-12T13:32:31.986Z"
   },
   {
    "duration": 85,
    "start_time": "2022-05-12T13:32:32.069Z"
   },
   {
    "duration": 528,
    "start_time": "2022-05-12T13:32:32.156Z"
   },
   {
    "duration": 76,
    "start_time": "2022-05-12T13:32:32.685Z"
   },
   {
    "duration": 285,
    "start_time": "2022-05-12T13:32:32.765Z"
   },
   {
    "duration": 30,
    "start_time": "2022-05-12T13:32:33.053Z"
   },
   {
    "duration": 109,
    "start_time": "2022-05-12T13:32:33.085Z"
   },
   {
    "duration": 13,
    "start_time": "2022-05-12T13:32:33.197Z"
   },
   {
    "duration": 51,
    "start_time": "2022-05-12T13:32:33.213Z"
   },
   {
    "duration": 296,
    "start_time": "2022-05-12T13:32:33.267Z"
   },
   {
    "duration": 374,
    "start_time": "2022-05-12T13:32:33.565Z"
   },
   {
    "duration": 12,
    "start_time": "2022-05-12T13:32:33.941Z"
   },
   {
    "duration": 39,
    "start_time": "2022-05-12T13:32:33.956Z"
   },
   {
    "duration": 36,
    "start_time": "2022-05-12T13:32:33.997Z"
   },
   {
    "duration": 66,
    "start_time": "2022-05-12T13:32:34.035Z"
   },
   {
    "duration": 17,
    "start_time": "2022-05-12T13:32:34.104Z"
   },
   {
    "duration": 27,
    "start_time": "2022-05-12T13:32:34.123Z"
   },
   {
    "duration": 44,
    "start_time": "2022-05-12T13:32:34.152Z"
   },
   {
    "duration": 21,
    "start_time": "2022-05-12T13:32:34.198Z"
   },
   {
    "duration": 64,
    "start_time": "2022-05-12T13:32:34.221Z"
   },
   {
    "duration": 41,
    "start_time": "2022-05-12T13:32:34.289Z"
   },
   {
    "duration": 60,
    "start_time": "2022-05-12T13:32:34.332Z"
   },
   {
    "duration": 395,
    "start_time": "2022-05-12T13:32:34.394Z"
   },
   {
    "duration": 79,
    "start_time": "2022-05-12T13:37:15.375Z"
   },
   {
    "duration": 13,
    "start_time": "2022-05-12T13:37:18.260Z"
   },
   {
    "duration": 22,
    "start_time": "2022-05-12T13:42:18.866Z"
   },
   {
    "duration": 16,
    "start_time": "2022-05-12T13:42:34.914Z"
   },
   {
    "duration": 26,
    "start_time": "2022-05-12T13:49:47.170Z"
   },
   {
    "duration": 16,
    "start_time": "2022-05-12T13:53:18.319Z"
   },
   {
    "duration": 308,
    "start_time": "2022-05-12T13:53:18.664Z"
   },
   {
    "duration": 23,
    "start_time": "2022-05-12T13:54:03.382Z"
   },
   {
    "duration": 429,
    "start_time": "2022-05-12T13:54:04.184Z"
   },
   {
    "duration": 20,
    "start_time": "2022-05-12T13:55:06.419Z"
   },
   {
    "duration": 318,
    "start_time": "2022-05-12T13:55:07.889Z"
   },
   {
    "duration": 25,
    "start_time": "2022-05-12T13:55:54.880Z"
   },
   {
    "duration": 350,
    "start_time": "2022-05-12T13:55:55.515Z"
   },
   {
    "duration": 15,
    "start_time": "2022-05-12T14:02:30.107Z"
   },
   {
    "duration": 24,
    "start_time": "2022-05-12T14:02:36.271Z"
   },
   {
    "duration": 14,
    "start_time": "2022-05-12T14:02:53.205Z"
   },
   {
    "duration": 4,
    "start_time": "2022-05-12T16:03:51.862Z"
   },
   {
    "duration": 115,
    "start_time": "2022-05-12T16:03:51.869Z"
   },
   {
    "duration": 29,
    "start_time": "2022-05-12T16:03:51.986Z"
   },
   {
    "duration": 41,
    "start_time": "2022-05-12T16:03:52.018Z"
   },
   {
    "duration": 42,
    "start_time": "2022-05-12T16:03:52.064Z"
   },
   {
    "duration": 18,
    "start_time": "2022-05-12T16:03:52.108Z"
   },
   {
    "duration": 13,
    "start_time": "2022-05-12T16:03:52.147Z"
   },
   {
    "duration": 12,
    "start_time": "2022-05-12T16:03:52.162Z"
   },
   {
    "duration": 26,
    "start_time": "2022-05-12T16:03:52.176Z"
   },
   {
    "duration": 9,
    "start_time": "2022-05-12T16:03:52.204Z"
   },
   {
    "duration": 11,
    "start_time": "2022-05-12T16:03:52.215Z"
   },
   {
    "duration": 6,
    "start_time": "2022-05-12T16:03:52.228Z"
   },
   {
    "duration": 17,
    "start_time": "2022-05-12T16:03:52.236Z"
   },
   {
    "duration": 20,
    "start_time": "2022-05-12T16:03:52.259Z"
   },
   {
    "duration": 361,
    "start_time": "2022-05-12T16:03:52.282Z"
   },
   {
    "duration": 25,
    "start_time": "2022-05-12T16:03:52.645Z"
   },
   {
    "duration": 214,
    "start_time": "2022-05-12T16:03:52.673Z"
   },
   {
    "duration": 16,
    "start_time": "2022-05-12T16:03:52.889Z"
   },
   {
    "duration": 293,
    "start_time": "2022-05-12T16:03:52.907Z"
   },
   {
    "duration": 215,
    "start_time": "2022-05-12T16:03:53.202Z"
   },
   {
    "duration": 32,
    "start_time": "2022-05-12T16:03:53.419Z"
   },
   {
    "duration": 18,
    "start_time": "2022-05-12T16:03:53.453Z"
   },
   {
    "duration": 26,
    "start_time": "2022-05-12T16:03:53.473Z"
   },
   {
    "duration": 382,
    "start_time": "2022-05-12T16:03:53.501Z"
   },
   {
    "duration": 19,
    "start_time": "2022-05-12T16:03:53.887Z"
   },
   {
    "duration": 569,
    "start_time": "2022-05-12T16:03:53.908Z"
   },
   {
    "duration": 87,
    "start_time": "2022-05-12T16:03:54.480Z"
   },
   {
    "duration": 214,
    "start_time": "2022-05-12T16:03:54.570Z"
   },
   {
    "duration": 64,
    "start_time": "2022-05-12T16:03:54.786Z"
   },
   {
    "duration": 35,
    "start_time": "2022-05-12T16:03:54.852Z"
   },
   {
    "duration": 692,
    "start_time": "2022-05-12T16:03:54.889Z"
   },
   {
    "duration": 701,
    "start_time": "2022-05-12T16:03:55.583Z"
   },
   {
    "duration": 14,
    "start_time": "2022-05-12T16:03:56.286Z"
   },
   {
    "duration": 15,
    "start_time": "2022-05-12T16:03:56.303Z"
   },
   {
    "duration": 36,
    "start_time": "2022-05-12T16:03:56.321Z"
   },
   {
    "duration": 24,
    "start_time": "2022-05-12T16:03:56.360Z"
   },
   {
    "duration": 9,
    "start_time": "2022-05-12T16:03:56.386Z"
   },
   {
    "duration": 22,
    "start_time": "2022-05-12T16:03:56.397Z"
   },
   {
    "duration": 30,
    "start_time": "2022-05-12T16:03:56.422Z"
   },
   {
    "duration": 19,
    "start_time": "2022-05-12T16:03:56.455Z"
   },
   {
    "duration": 22,
    "start_time": "2022-05-12T16:03:56.480Z"
   },
   {
    "duration": 23,
    "start_time": "2022-05-12T16:03:56.505Z"
   },
   {
    "duration": 43,
    "start_time": "2022-05-12T16:03:56.531Z"
   },
   {
    "duration": 320,
    "start_time": "2022-05-12T16:03:56.576Z"
   },
   {
    "duration": 3992,
    "start_time": "2022-05-12T16:04:10.892Z"
   },
   {
    "duration": 62,
    "start_time": "2022-05-12T16:04:14.886Z"
   },
   {
    "duration": 45,
    "start_time": "2022-05-12T16:04:14.950Z"
   },
   {
    "duration": 55,
    "start_time": "2022-05-12T16:04:14.997Z"
   },
   {
    "duration": 27,
    "start_time": "2022-05-12T16:04:15.055Z"
   },
   {
    "duration": 17,
    "start_time": "2022-05-12T16:04:15.084Z"
   },
   {
    "duration": 10,
    "start_time": "2022-05-12T16:04:15.103Z"
   },
   {
    "duration": 13,
    "start_time": "2022-05-12T16:04:15.115Z"
   },
   {
    "duration": 15,
    "start_time": "2022-05-12T16:04:15.144Z"
   },
   {
    "duration": 9,
    "start_time": "2022-05-12T16:04:15.165Z"
   },
   {
    "duration": 13,
    "start_time": "2022-05-12T16:04:15.176Z"
   },
   {
    "duration": 5,
    "start_time": "2022-05-12T16:04:15.191Z"
   },
   {
    "duration": 12,
    "start_time": "2022-05-12T16:04:15.198Z"
   },
   {
    "duration": 30,
    "start_time": "2022-05-12T16:04:15.214Z"
   },
   {
    "duration": 389,
    "start_time": "2022-05-12T16:04:15.251Z"
   },
   {
    "duration": 23,
    "start_time": "2022-05-12T16:04:15.644Z"
   },
   {
    "duration": 188,
    "start_time": "2022-05-12T16:04:15.669Z"
   },
   {
    "duration": 23,
    "start_time": "2022-05-12T16:04:15.861Z"
   },
   {
    "duration": 430,
    "start_time": "2022-05-12T16:04:15.887Z"
   },
   {
    "duration": 319,
    "start_time": "2022-05-12T16:04:16.320Z"
   },
   {
    "duration": 22,
    "start_time": "2022-05-12T16:04:16.644Z"
   },
   {
    "duration": 17,
    "start_time": "2022-05-12T16:04:16.669Z"
   },
   {
    "duration": 14,
    "start_time": "2022-05-12T16:04:16.688Z"
   },
   {
    "duration": 338,
    "start_time": "2022-05-12T16:04:16.704Z"
   },
   {
    "duration": 24,
    "start_time": "2022-05-12T16:04:17.044Z"
   },
   {
    "duration": 202,
    "start_time": "2022-05-12T16:04:17.070Z"
   },
   {
    "duration": 46,
    "start_time": "2022-05-12T16:04:17.274Z"
   },
   {
    "duration": 158,
    "start_time": "2022-05-12T16:04:17.322Z"
   },
   {
    "duration": 11,
    "start_time": "2022-05-12T16:04:17.482Z"
   },
   {
    "duration": 23,
    "start_time": "2022-05-12T16:04:17.495Z"
   },
   {
    "duration": 233,
    "start_time": "2022-05-12T16:04:17.520Z"
   },
   {
    "duration": 391,
    "start_time": "2022-05-12T16:04:17.756Z"
   },
   {
    "duration": 13,
    "start_time": "2022-05-12T16:04:18.150Z"
   },
   {
    "duration": 29,
    "start_time": "2022-05-12T16:04:18.165Z"
   },
   {
    "duration": 54,
    "start_time": "2022-05-12T16:04:18.196Z"
   },
   {
    "duration": 16,
    "start_time": "2022-05-12T16:04:18.253Z"
   },
   {
    "duration": 9,
    "start_time": "2022-05-12T16:04:18.271Z"
   },
   {
    "duration": 29,
    "start_time": "2022-05-12T16:04:18.282Z"
   },
   {
    "duration": 7,
    "start_time": "2022-05-12T16:04:18.314Z"
   },
   {
    "duration": 12,
    "start_time": "2022-05-12T16:04:18.323Z"
   },
   {
    "duration": 28,
    "start_time": "2022-05-12T16:04:18.344Z"
   },
   {
    "duration": 15,
    "start_time": "2022-05-12T16:04:18.373Z"
   },
   {
    "duration": 22,
    "start_time": "2022-05-12T16:04:18.390Z"
   },
   {
    "duration": 485,
    "start_time": "2022-05-12T16:04:18.415Z"
   },
   {
    "duration": 1416,
    "start_time": "2023-01-26T10:57:21.739Z"
   },
   {
    "duration": 272,
    "start_time": "2023-01-26T10:57:23.158Z"
   },
   {
    "duration": 32,
    "start_time": "2023-01-26T10:57:23.431Z"
   },
   {
    "duration": 18,
    "start_time": "2023-01-26T10:57:54.320Z"
   },
   {
    "duration": 24,
    "start_time": "2023-01-26T10:57:54.714Z"
   },
   {
    "duration": 24,
    "start_time": "2023-01-26T11:06:34.899Z"
   },
   {
    "duration": 30,
    "start_time": "2023-01-26T11:10:38.243Z"
   },
   {
    "duration": 57,
    "start_time": "2023-01-26T11:11:20.543Z"
   },
   {
    "duration": 108,
    "start_time": "2023-01-26T11:17:18.301Z"
   },
   {
    "duration": 9,
    "start_time": "2023-01-26T11:17:29.010Z"
   },
   {
    "duration": 10,
    "start_time": "2023-01-26T11:17:59.768Z"
   },
   {
    "duration": 2,
    "start_time": "2023-01-26T11:18:50.889Z"
   },
   {
    "duration": 74,
    "start_time": "2023-01-26T11:18:51.447Z"
   },
   {
    "duration": 18,
    "start_time": "2023-01-26T11:18:51.991Z"
   },
   {
    "duration": 28,
    "start_time": "2023-01-26T11:19:03.033Z"
   },
   {
    "duration": 14,
    "start_time": "2023-01-26T11:19:05.216Z"
   },
   {
    "duration": 8,
    "start_time": "2023-01-26T11:19:05.669Z"
   },
   {
    "duration": 9,
    "start_time": "2023-01-26T11:19:06.333Z"
   },
   {
    "duration": 9,
    "start_time": "2023-01-26T11:21:16.585Z"
   },
   {
    "duration": 10,
    "start_time": "2023-01-26T11:26:04.069Z"
   },
   {
    "duration": 22,
    "start_time": "2023-01-26T11:30:13.768Z"
   },
   {
    "duration": 1315,
    "start_time": "2023-01-26T11:30:28.320Z"
   },
   {
    "duration": 95,
    "start_time": "2023-01-26T11:30:29.637Z"
   },
   {
    "duration": 31,
    "start_time": "2023-01-26T11:30:29.734Z"
   },
   {
    "duration": 44,
    "start_time": "2023-01-26T11:30:29.768Z"
   },
   {
    "duration": 19,
    "start_time": "2023-01-26T11:30:29.814Z"
   },
   {
    "duration": 32,
    "start_time": "2023-01-26T11:30:29.835Z"
   },
   {
    "duration": 31,
    "start_time": "2023-01-26T11:30:29.873Z"
   },
   {
    "duration": 9,
    "start_time": "2023-01-26T11:30:29.905Z"
   },
   {
    "duration": 15,
    "start_time": "2023-01-26T11:30:29.915Z"
   },
   {
    "duration": 9,
    "start_time": "2023-01-26T11:30:29.932Z"
   },
   {
    "duration": 44,
    "start_time": "2023-01-26T11:30:29.942Z"
   },
   {
    "duration": 7,
    "start_time": "2023-01-26T11:30:29.988Z"
   },
   {
    "duration": 7,
    "start_time": "2023-01-26T11:30:29.996Z"
   },
   {
    "duration": 6,
    "start_time": "2023-01-26T11:30:30.004Z"
   },
   {
    "duration": 12,
    "start_time": "2023-01-26T11:30:30.012Z"
   },
   {
    "duration": 15,
    "start_time": "2023-01-26T11:30:30.026Z"
   },
   {
    "duration": 383,
    "start_time": "2023-01-26T11:30:30.042Z"
   },
   {
    "duration": 32,
    "start_time": "2023-01-26T11:30:30.426Z"
   },
   {
    "duration": 237,
    "start_time": "2023-01-26T11:30:30.460Z"
   },
   {
    "duration": 15,
    "start_time": "2023-01-26T11:30:30.698Z"
   },
   {
    "duration": 278,
    "start_time": "2023-01-26T11:30:30.714Z"
   },
   {
    "duration": 225,
    "start_time": "2023-01-26T11:30:30.994Z"
   },
   {
    "duration": 26,
    "start_time": "2023-01-26T11:30:31.221Z"
   },
   {
    "duration": 49,
    "start_time": "2023-01-26T11:30:31.249Z"
   },
   {
    "duration": 18,
    "start_time": "2023-01-26T11:30:31.300Z"
   },
   {
    "duration": 360,
    "start_time": "2023-01-26T11:30:31.320Z"
   },
   {
    "duration": 26,
    "start_time": "2023-01-26T11:30:31.683Z"
   },
   {
    "duration": 244,
    "start_time": "2023-01-26T11:30:31.713Z"
   },
   {
    "duration": 53,
    "start_time": "2023-01-26T11:30:31.960Z"
   },
   {
    "duration": 162,
    "start_time": "2023-01-26T11:30:32.015Z"
   },
   {
    "duration": 21,
    "start_time": "2023-01-26T11:30:32.180Z"
   },
   {
    "duration": 25,
    "start_time": "2023-01-26T11:30:32.202Z"
   },
   {
    "duration": 273,
    "start_time": "2023-01-26T11:30:32.229Z"
   },
   {
    "duration": 151,
    "start_time": "2023-01-26T11:30:32.504Z"
   },
   {
    "duration": 0,
    "start_time": "2023-01-26T11:30:32.656Z"
   },
   {
    "duration": 0,
    "start_time": "2023-01-26T11:30:32.661Z"
   },
   {
    "duration": 0,
    "start_time": "2023-01-26T11:30:32.661Z"
   },
   {
    "duration": 0,
    "start_time": "2023-01-26T11:30:32.662Z"
   },
   {
    "duration": 0,
    "start_time": "2023-01-26T11:30:32.669Z"
   },
   {
    "duration": 0,
    "start_time": "2023-01-26T11:30:32.670Z"
   },
   {
    "duration": 0,
    "start_time": "2023-01-26T11:30:32.670Z"
   },
   {
    "duration": 0,
    "start_time": "2023-01-26T11:30:32.671Z"
   },
   {
    "duration": 0,
    "start_time": "2023-01-26T11:30:32.679Z"
   },
   {
    "duration": 0,
    "start_time": "2023-01-26T11:30:32.680Z"
   },
   {
    "duration": 0,
    "start_time": "2023-01-26T11:30:32.681Z"
   },
   {
    "duration": 0,
    "start_time": "2023-01-26T11:30:32.683Z"
   },
   {
    "duration": 14,
    "start_time": "2023-01-26T11:31:40.228Z"
   },
   {
    "duration": 3,
    "start_time": "2023-01-26T11:32:00.722Z"
   },
   {
    "duration": 69,
    "start_time": "2023-01-26T11:32:01.070Z"
   },
   {
    "duration": 203,
    "start_time": "2023-01-26T11:32:01.380Z"
   },
   {
    "duration": 19,
    "start_time": "2023-01-26T11:32:01.893Z"
   },
   {
    "duration": 21,
    "start_time": "2023-01-26T11:32:02.599Z"
   },
   {
    "duration": 25,
    "start_time": "2023-01-26T11:32:03.472Z"
   },
   {
    "duration": 15,
    "start_time": "2023-01-26T11:35:30.568Z"
   },
   {
    "duration": 387,
    "start_time": "2023-01-26T11:36:24.633Z"
   },
   {
    "duration": 30,
    "start_time": "2023-01-26T11:49:45.376Z"
   },
   {
    "duration": 1334,
    "start_time": "2023-01-26T11:50:15.792Z"
   },
   {
    "duration": 86,
    "start_time": "2023-01-26T11:50:17.128Z"
   },
   {
    "duration": 23,
    "start_time": "2023-01-26T11:50:17.216Z"
   },
   {
    "duration": 40,
    "start_time": "2023-01-26T11:50:17.240Z"
   },
   {
    "duration": 39,
    "start_time": "2023-01-26T11:50:17.286Z"
   },
   {
    "duration": 14,
    "start_time": "2023-01-26T11:50:17.327Z"
   },
   {
    "duration": 10,
    "start_time": "2023-01-26T11:50:17.347Z"
   },
   {
    "duration": 47,
    "start_time": "2023-01-26T11:50:17.359Z"
   },
   {
    "duration": 15,
    "start_time": "2023-01-26T11:50:17.407Z"
   },
   {
    "duration": 6,
    "start_time": "2023-01-26T11:50:17.424Z"
   },
   {
    "duration": 45,
    "start_time": "2023-01-26T11:50:17.431Z"
   },
   {
    "duration": 14,
    "start_time": "2023-01-26T11:50:17.482Z"
   },
   {
    "duration": 15,
    "start_time": "2023-01-26T11:50:17.497Z"
   },
   {
    "duration": 12,
    "start_time": "2023-01-26T11:50:17.515Z"
   },
   {
    "duration": 67,
    "start_time": "2023-01-26T11:50:17.528Z"
   },
   {
    "duration": 326,
    "start_time": "2023-01-26T11:50:17.597Z"
   },
   {
    "duration": 34,
    "start_time": "2023-01-26T11:50:17.925Z"
   },
   {
    "duration": 176,
    "start_time": "2023-01-26T11:50:17.960Z"
   },
   {
    "duration": 27,
    "start_time": "2023-01-26T11:50:18.138Z"
   },
   {
    "duration": 288,
    "start_time": "2023-01-26T11:50:18.170Z"
   },
   {
    "duration": 30,
    "start_time": "2023-01-26T11:50:18.460Z"
   },
   {
    "duration": 228,
    "start_time": "2023-01-26T11:50:18.494Z"
   },
   {
    "duration": 39,
    "start_time": "2023-01-26T11:50:18.724Z"
   },
   {
    "duration": 21,
    "start_time": "2023-01-26T11:50:18.767Z"
   },
   {
    "duration": 34,
    "start_time": "2023-01-26T11:50:18.790Z"
   },
   {
    "duration": 300,
    "start_time": "2023-01-26T11:50:18.826Z"
   },
   {
    "duration": 36,
    "start_time": "2023-01-26T11:50:19.127Z"
   },
   {
    "duration": 368,
    "start_time": "2023-01-26T11:50:19.171Z"
   },
   {
    "duration": 49,
    "start_time": "2023-01-26T11:50:19.541Z"
   },
   {
    "duration": 59,
    "start_time": "2023-01-26T11:50:19.592Z"
   },
   {
    "duration": 17,
    "start_time": "2023-01-26T11:50:19.653Z"
   },
   {
    "duration": 46,
    "start_time": "2023-01-26T11:50:19.672Z"
   },
   {
    "duration": 295,
    "start_time": "2023-01-26T11:50:19.721Z"
   },
   {
    "duration": 178,
    "start_time": "2023-01-26T11:50:20.018Z"
   },
   {
    "duration": 0,
    "start_time": "2023-01-26T11:50:20.198Z"
   },
   {
    "duration": 0,
    "start_time": "2023-01-26T11:50:20.199Z"
   },
   {
    "duration": 0,
    "start_time": "2023-01-26T11:50:20.201Z"
   },
   {
    "duration": 0,
    "start_time": "2023-01-26T11:50:20.201Z"
   },
   {
    "duration": 0,
    "start_time": "2023-01-26T11:50:20.202Z"
   },
   {
    "duration": 0,
    "start_time": "2023-01-26T11:50:20.204Z"
   },
   {
    "duration": 0,
    "start_time": "2023-01-26T11:50:20.205Z"
   },
   {
    "duration": 0,
    "start_time": "2023-01-26T11:50:20.206Z"
   },
   {
    "duration": 0,
    "start_time": "2023-01-26T11:50:20.208Z"
   },
   {
    "duration": 0,
    "start_time": "2023-01-26T11:50:20.209Z"
   },
   {
    "duration": 0,
    "start_time": "2023-01-26T11:50:20.210Z"
   },
   {
    "duration": 0,
    "start_time": "2023-01-26T11:50:20.211Z"
   },
   {
    "duration": 17,
    "start_time": "2023-01-26T11:51:15.498Z"
   },
   {
    "duration": 25,
    "start_time": "2023-01-26T11:51:22.206Z"
   },
   {
    "duration": 25,
    "start_time": "2023-01-26T11:52:05.532Z"
   },
   {
    "duration": 25,
    "start_time": "2023-01-26T11:52:15.428Z"
   },
   {
    "duration": 23,
    "start_time": "2023-01-26T11:53:07.917Z"
   },
   {
    "duration": 17,
    "start_time": "2023-01-26T11:53:14.013Z"
   },
   {
    "duration": 20,
    "start_time": "2023-01-26T11:53:22.111Z"
   },
   {
    "duration": 21,
    "start_time": "2023-01-26T11:53:53.295Z"
   },
   {
    "duration": 23,
    "start_time": "2023-01-26T11:56:39.702Z"
   },
   {
    "duration": 25,
    "start_time": "2023-01-26T12:15:29.289Z"
   },
   {
    "duration": 18,
    "start_time": "2023-01-26T12:15:58.889Z"
   },
   {
    "duration": 1800,
    "start_time": "2023-01-27T09:25:54.212Z"
   },
   {
    "duration": 292,
    "start_time": "2023-01-27T09:25:56.015Z"
   },
   {
    "duration": 45,
    "start_time": "2023-01-27T09:25:56.309Z"
   },
   {
    "duration": 22,
    "start_time": "2023-01-27T09:25:56.357Z"
   },
   {
    "duration": 51,
    "start_time": "2023-01-27T09:25:56.381Z"
   },
   {
    "duration": 21,
    "start_time": "2023-01-27T09:25:56.435Z"
   },
   {
    "duration": 15,
    "start_time": "2023-01-27T09:25:57.533Z"
   },
   {
    "duration": 12,
    "start_time": "2023-01-27T09:25:58.157Z"
   },
   {
    "duration": 12,
    "start_time": "2023-01-27T09:25:58.706Z"
   },
   {
    "duration": 8,
    "start_time": "2023-01-27T09:25:59.623Z"
   },
   {
    "duration": 10,
    "start_time": "2023-01-27T09:26:00.125Z"
   },
   {
    "duration": 10,
    "start_time": "2023-01-27T09:26:00.639Z"
   },
   {
    "duration": 5,
    "start_time": "2023-01-27T09:26:01.147Z"
   },
   {
    "duration": 11,
    "start_time": "2023-01-27T09:26:01.706Z"
   },
   {
    "duration": 20,
    "start_time": "2023-01-27T09:26:04.040Z"
   },
   {
    "duration": 359,
    "start_time": "2023-01-27T09:26:04.863Z"
   },
   {
    "duration": 24,
    "start_time": "2023-01-27T09:26:06.956Z"
   },
   {
    "duration": 231,
    "start_time": "2023-01-27T09:26:11.944Z"
   },
   {
    "duration": 15,
    "start_time": "2023-01-27T09:28:18.249Z"
   },
   {
    "duration": 141,
    "start_time": "2023-01-27T09:28:42.926Z"
   },
   {
    "duration": 20,
    "start_time": "2023-01-27T09:28:48.994Z"
   },
   {
    "duration": 15,
    "start_time": "2023-01-27T09:29:13.560Z"
   },
   {
    "duration": 55,
    "start_time": "2023-01-27T09:29:48.792Z"
   },
   {
    "duration": 13,
    "start_time": "2023-01-27T09:32:20.633Z"
   },
   {
    "duration": 24,
    "start_time": "2023-01-27T09:43:18.214Z"
   },
   {
    "duration": 26,
    "start_time": "2023-01-27T09:43:36.313Z"
   },
   {
    "duration": 22,
    "start_time": "2023-01-27T09:43:49.701Z"
   },
   {
    "duration": 23,
    "start_time": "2023-01-27T09:44:42.233Z"
   },
   {
    "duration": 26,
    "start_time": "2023-01-27T09:44:56.433Z"
   },
   {
    "duration": 18,
    "start_time": "2023-01-27T09:48:13.965Z"
   },
   {
    "duration": 16,
    "start_time": "2023-01-27T09:50:02.151Z"
   },
   {
    "duration": 689,
    "start_time": "2023-01-27T09:51:03.432Z"
   },
   {
    "duration": 276,
    "start_time": "2023-01-27T09:52:57.078Z"
   },
   {
    "duration": 1676,
    "start_time": "2023-01-27T09:54:04.352Z"
   },
   {
    "duration": 204,
    "start_time": "2023-01-27T09:54:52.553Z"
   },
   {
    "duration": 47,
    "start_time": "2023-01-27T09:55:32.877Z"
   },
   {
    "duration": 197,
    "start_time": "2023-01-27T09:55:40.291Z"
   },
   {
    "duration": 24,
    "start_time": "2023-01-27T09:56:45.763Z"
   },
   {
    "duration": 23,
    "start_time": "2023-01-27T09:56:55.477Z"
   },
   {
    "duration": 22,
    "start_time": "2023-01-27T09:56:59.225Z"
   },
   {
    "duration": 23,
    "start_time": "2023-01-27T09:57:24.901Z"
   },
   {
    "duration": 23,
    "start_time": "2023-01-27T09:57:41.386Z"
   },
   {
    "duration": 26,
    "start_time": "2023-01-27T09:57:49.517Z"
   },
   {
    "duration": 176,
    "start_time": "2023-01-27T09:58:24.109Z"
   },
   {
    "duration": 215,
    "start_time": "2023-01-27T09:59:04.923Z"
   },
   {
    "duration": 189,
    "start_time": "2023-01-27T09:59:27.840Z"
   },
   {
    "duration": 189,
    "start_time": "2023-01-27T09:59:42.259Z"
   },
   {
    "duration": 191,
    "start_time": "2023-01-27T10:01:40.877Z"
   },
   {
    "duration": 42,
    "start_time": "2023-01-30T10:21:03.680Z"
   },
   {
    "duration": 1180,
    "start_time": "2023-01-30T10:21:08.503Z"
   },
   {
    "duration": 107,
    "start_time": "2023-01-30T10:21:09.684Z"
   },
   {
    "duration": 20,
    "start_time": "2023-01-30T10:21:09.793Z"
   },
   {
    "duration": 20,
    "start_time": "2023-01-30T10:21:09.815Z"
   },
   {
    "duration": 19,
    "start_time": "2023-01-30T10:21:09.836Z"
   },
   {
    "duration": 12,
    "start_time": "2023-01-30T10:21:09.856Z"
   },
   {
    "duration": 9,
    "start_time": "2023-01-30T10:21:09.870Z"
   },
   {
    "duration": 10,
    "start_time": "2023-01-30T10:21:09.880Z"
   },
   {
    "duration": 9,
    "start_time": "2023-01-30T10:21:09.891Z"
   },
   {
    "duration": 6,
    "start_time": "2023-01-30T10:21:09.901Z"
   },
   {
    "duration": 33,
    "start_time": "2023-01-30T10:21:09.908Z"
   },
   {
    "duration": 15,
    "start_time": "2023-01-30T10:21:09.942Z"
   },
   {
    "duration": 7,
    "start_time": "2023-01-30T10:21:09.959Z"
   },
   {
    "duration": 15,
    "start_time": "2023-01-30T10:21:09.968Z"
   },
   {
    "duration": 18,
    "start_time": "2023-01-30T10:21:09.984Z"
   },
   {
    "duration": 264,
    "start_time": "2023-01-30T10:21:10.004Z"
   },
   {
    "duration": 12,
    "start_time": "2023-01-30T10:21:10.270Z"
   },
   {
    "duration": 143,
    "start_time": "2023-01-30T10:21:10.284Z"
   },
   {
    "duration": 27,
    "start_time": "2023-01-30T10:21:10.429Z"
   },
   {
    "duration": 164,
    "start_time": "2023-01-30T10:21:10.457Z"
   },
   {
    "duration": 171,
    "start_time": "2023-01-30T10:21:10.622Z"
   },
   {
    "duration": 12,
    "start_time": "2023-01-30T10:21:10.795Z"
   },
   {
    "duration": 24,
    "start_time": "2023-01-30T10:21:10.808Z"
   },
   {
    "duration": 11,
    "start_time": "2023-01-30T10:21:10.834Z"
   },
   {
    "duration": 224,
    "start_time": "2023-01-30T10:21:10.846Z"
   },
   {
    "duration": 13,
    "start_time": "2023-01-30T10:21:11.071Z"
   },
   {
    "duration": 164,
    "start_time": "2023-01-30T10:21:11.085Z"
   },
   {
    "duration": 32,
    "start_time": "2023-01-30T10:21:11.251Z"
   },
   {
    "duration": 100,
    "start_time": "2023-01-30T10:21:11.285Z"
   },
   {
    "duration": 13,
    "start_time": "2023-01-30T10:21:11.386Z"
   },
   {
    "duration": 41,
    "start_time": "2023-01-30T10:21:11.401Z"
   },
   {
    "duration": 195,
    "start_time": "2023-01-30T10:21:11.444Z"
   },
   {
    "duration": 96,
    "start_time": "2023-01-30T10:21:11.640Z"
   },
   {
    "duration": 0,
    "start_time": "2023-01-30T10:21:11.738Z"
   },
   {
    "duration": 0,
    "start_time": "2023-01-30T10:21:11.739Z"
   },
   {
    "duration": 0,
    "start_time": "2023-01-30T10:21:11.740Z"
   },
   {
    "duration": 0,
    "start_time": "2023-01-30T10:21:11.741Z"
   },
   {
    "duration": 0,
    "start_time": "2023-01-30T10:21:11.741Z"
   },
   {
    "duration": 0,
    "start_time": "2023-01-30T10:21:11.742Z"
   },
   {
    "duration": 0,
    "start_time": "2023-01-30T10:21:11.743Z"
   },
   {
    "duration": 0,
    "start_time": "2023-01-30T10:21:11.744Z"
   },
   {
    "duration": 0,
    "start_time": "2023-01-30T10:21:11.745Z"
   },
   {
    "duration": 0,
    "start_time": "2023-01-30T10:21:11.746Z"
   },
   {
    "duration": 0,
    "start_time": "2023-01-30T10:21:11.747Z"
   },
   {
    "duration": 0,
    "start_time": "2023-01-30T10:21:11.748Z"
   },
   {
    "duration": 168,
    "start_time": "2023-01-30T10:21:23.309Z"
   },
   {
    "duration": 162,
    "start_time": "2023-01-30T10:29:52.868Z"
   },
   {
    "duration": 171,
    "start_time": "2023-01-30T10:30:03.436Z"
   },
   {
    "duration": 174,
    "start_time": "2023-01-30T10:30:12.897Z"
   },
   {
    "duration": 11,
    "start_time": "2023-01-30T10:33:12.643Z"
   },
   {
    "duration": 8,
    "start_time": "2023-01-30T10:33:14.479Z"
   },
   {
    "duration": 7,
    "start_time": "2023-01-30T10:33:15.595Z"
   },
   {
    "duration": 230,
    "start_time": "2023-01-30T10:34:23.483Z"
   },
   {
    "duration": 3,
    "start_time": "2023-01-30T10:39:54.912Z"
   },
   {
    "duration": 9,
    "start_time": "2023-01-30T10:40:03.683Z"
   },
   {
    "duration": 19,
    "start_time": "2023-01-30T10:41:13.442Z"
   },
   {
    "duration": 69,
    "start_time": "2023-01-30T10:42:06.654Z"
   },
   {
    "duration": 13,
    "start_time": "2023-01-30T10:44:27.620Z"
   },
   {
    "duration": 216,
    "start_time": "2023-01-30T10:44:29.763Z"
   },
   {
    "duration": 8,
    "start_time": "2023-01-30T10:46:19.490Z"
   },
   {
    "duration": 8,
    "start_time": "2023-01-30T10:46:46.700Z"
   },
   {
    "duration": 7,
    "start_time": "2023-01-30T10:46:58.251Z"
   },
   {
    "duration": 281,
    "start_time": "2023-01-30T10:47:39.244Z"
   },
   {
    "duration": 12,
    "start_time": "2023-01-30T10:47:45.342Z"
   },
   {
    "duration": 200,
    "start_time": "2023-01-30T10:47:45.645Z"
   },
   {
    "duration": 13,
    "start_time": "2023-01-30T10:52:36.421Z"
   },
   {
    "duration": 157,
    "start_time": "2023-01-30T10:52:47.308Z"
   },
   {
    "duration": 161,
    "start_time": "2023-01-30T10:52:55.828Z"
   },
   {
    "duration": 13,
    "start_time": "2023-01-30T10:55:36.280Z"
   },
   {
    "duration": 75,
    "start_time": "2023-01-30T11:16:28.355Z"
   },
   {
    "duration": 9,
    "start_time": "2023-01-30T11:16:56.610Z"
   },
   {
    "duration": 2518,
    "start_time": "2023-01-30T11:25:40.418Z"
   },
   {
    "duration": 20,
    "start_time": "2023-01-30T11:25:54.900Z"
   },
   {
    "duration": 275,
    "start_time": "2023-01-30T11:29:08.721Z"
   },
   {
    "duration": 1840,
    "start_time": "2023-01-30T11:30:58.619Z"
   },
   {
    "duration": 18,
    "start_time": "2023-01-30T11:31:00.462Z"
   },
   {
    "duration": 78,
    "start_time": "2023-01-30T11:32:44.992Z"
   },
   {
    "duration": 2449,
    "start_time": "2023-01-30T11:39:11.490Z"
   },
   {
    "duration": 1620,
    "start_time": "2023-01-30T11:39:26.042Z"
   },
   {
    "duration": 13,
    "start_time": "2023-01-30T11:41:10.697Z"
   },
   {
    "duration": 13,
    "start_time": "2023-01-30T11:41:18.511Z"
   },
   {
    "duration": 10,
    "start_time": "2023-01-30T11:41:27.850Z"
   },
   {
    "duration": 6,
    "start_time": "2023-01-30T11:41:33.624Z"
   },
   {
    "duration": 6,
    "start_time": "2023-01-30T11:41:53.765Z"
   },
   {
    "duration": 13,
    "start_time": "2023-01-30T11:41:55.444Z"
   },
   {
    "duration": 11,
    "start_time": "2023-01-30T11:42:09.223Z"
   },
   {
    "duration": 4,
    "start_time": "2023-01-30T11:42:24.140Z"
   },
   {
    "duration": 10,
    "start_time": "2023-01-30T11:42:25.432Z"
   },
   {
    "duration": 4,
    "start_time": "2023-01-30T11:43:33.969Z"
   },
   {
    "duration": 3,
    "start_time": "2023-01-30T11:43:34.778Z"
   },
   {
    "duration": 9,
    "start_time": "2023-01-30T11:44:04.829Z"
   },
   {
    "duration": 8,
    "start_time": "2023-01-30T11:44:05.466Z"
   },
   {
    "duration": 9,
    "start_time": "2023-01-30T11:48:40.160Z"
   },
   {
    "duration": 17,
    "start_time": "2023-01-30T11:52:24.502Z"
   },
   {
    "duration": 19,
    "start_time": "2023-01-30T11:52:49.239Z"
   },
   {
    "duration": 234,
    "start_time": "2023-01-30T11:53:40.784Z"
   },
   {
    "duration": 240,
    "start_time": "2023-01-30T11:53:49.729Z"
   },
   {
    "duration": 341,
    "start_time": "2023-01-30T11:55:28.796Z"
   },
   {
    "duration": 47,
    "start_time": "2023-02-01T13:53:22.926Z"
   },
   {
    "duration": 6,
    "start_time": "2023-02-01T13:53:29.227Z"
   },
   {
    "duration": 1424,
    "start_time": "2023-02-01T13:53:34.041Z"
   },
   {
    "duration": 264,
    "start_time": "2023-02-01T13:53:35.467Z"
   },
   {
    "duration": 1455,
    "start_time": "2023-02-01T13:53:35.733Z"
   },
   {
    "duration": 1684,
    "start_time": "2023-02-01T13:54:12.880Z"
   },
   {
    "duration": 1777,
    "start_time": "2023-02-01T13:54:31.468Z"
   },
   {
    "duration": 1646,
    "start_time": "2023-02-01T13:54:48.323Z"
   },
   {
    "duration": 1906,
    "start_time": "2023-02-01T13:55:43.214Z"
   },
   {
    "duration": 1693,
    "start_time": "2023-02-01T13:56:36.036Z"
   },
   {
    "duration": 1786,
    "start_time": "2023-02-01T13:57:13.571Z"
   },
   {
    "duration": 25,
    "start_time": "2023-02-01T13:57:15.360Z"
   },
   {
    "duration": 18,
    "start_time": "2023-02-01T13:57:21.104Z"
   },
   {
    "duration": 22,
    "start_time": "2023-02-01T13:57:21.780Z"
   },
   {
    "duration": 15,
    "start_time": "2023-02-01T13:57:22.712Z"
   },
   {
    "duration": 9,
    "start_time": "2023-02-01T13:57:23.380Z"
   },
   {
    "duration": 16,
    "start_time": "2023-02-01T13:57:23.918Z"
   },
   {
    "duration": 11,
    "start_time": "2023-02-01T13:57:24.624Z"
   },
   {
    "duration": 6,
    "start_time": "2023-02-01T13:57:25.157Z"
   },
   {
    "duration": 5,
    "start_time": "2023-02-01T13:57:25.394Z"
   },
   {
    "duration": 6,
    "start_time": "2023-02-01T13:57:25.676Z"
   },
   {
    "duration": 5,
    "start_time": "2023-02-01T13:57:25.914Z"
   },
   {
    "duration": 10,
    "start_time": "2023-02-01T13:57:26.132Z"
   },
   {
    "duration": 16,
    "start_time": "2023-02-01T13:57:27.192Z"
   },
   {
    "duration": 318,
    "start_time": "2023-02-01T13:57:27.393Z"
   },
   {
    "duration": 14,
    "start_time": "2023-02-01T13:57:28.194Z"
   },
   {
    "duration": 163,
    "start_time": "2023-02-01T13:57:28.676Z"
   },
   {
    "duration": 24,
    "start_time": "2023-02-01T13:57:30.122Z"
   },
   {
    "duration": 195,
    "start_time": "2023-02-01T13:57:30.976Z"
   },
   {
    "duration": 1332,
    "start_time": "2023-02-01T13:57:38.188Z"
   },
   {
    "duration": 81,
    "start_time": "2023-02-01T13:57:39.522Z"
   },
   {
    "duration": 1788,
    "start_time": "2023-02-01T13:57:39.605Z"
   },
   {
    "duration": 22,
    "start_time": "2023-02-01T13:57:41.394Z"
   },
   {
    "duration": 30,
    "start_time": "2023-02-01T13:57:41.418Z"
   },
   {
    "duration": 41,
    "start_time": "2023-02-01T13:57:41.450Z"
   },
   {
    "duration": 15,
    "start_time": "2023-02-01T13:57:41.493Z"
   },
   {
    "duration": 31,
    "start_time": "2023-02-01T13:57:41.510Z"
   },
   {
    "duration": 37,
    "start_time": "2023-02-01T13:57:41.543Z"
   },
   {
    "duration": 18,
    "start_time": "2023-02-01T13:57:41.582Z"
   },
   {
    "duration": 37,
    "start_time": "2023-02-01T13:57:41.602Z"
   },
   {
    "duration": 24,
    "start_time": "2023-02-01T13:57:41.641Z"
   },
   {
    "duration": 17,
    "start_time": "2023-02-01T13:57:41.667Z"
   },
   {
    "duration": 29,
    "start_time": "2023-02-01T13:57:41.687Z"
   },
   {
    "duration": 47,
    "start_time": "2023-02-01T13:57:41.718Z"
   },
   {
    "duration": 36,
    "start_time": "2023-02-01T13:57:41.767Z"
   },
   {
    "duration": 321,
    "start_time": "2023-02-01T13:57:41.805Z"
   },
   {
    "duration": 16,
    "start_time": "2023-02-01T13:57:42.127Z"
   },
   {
    "duration": 183,
    "start_time": "2023-02-01T13:57:42.144Z"
   },
   {
    "duration": 24,
    "start_time": "2023-02-01T13:57:42.329Z"
   },
   {
    "duration": 215,
    "start_time": "2023-02-01T13:57:42.354Z"
   },
   {
    "duration": 215,
    "start_time": "2023-02-01T13:57:42.571Z"
   },
   {
    "duration": 13,
    "start_time": "2023-02-01T13:57:42.788Z"
   },
   {
    "duration": 10,
    "start_time": "2023-02-01T13:57:42.802Z"
   },
   {
    "duration": 15,
    "start_time": "2023-02-01T13:57:42.813Z"
   },
   {
    "duration": 264,
    "start_time": "2023-02-01T13:57:42.830Z"
   },
   {
    "duration": 16,
    "start_time": "2023-02-01T13:57:43.097Z"
   },
   {
    "duration": 295,
    "start_time": "2023-02-01T13:57:43.116Z"
   },
   {
    "duration": 41,
    "start_time": "2023-02-01T13:57:43.413Z"
   },
   {
    "duration": 61,
    "start_time": "2023-02-01T13:57:43.456Z"
   },
   {
    "duration": 12,
    "start_time": "2023-02-01T13:57:43.519Z"
   },
   {
    "duration": 37,
    "start_time": "2023-02-01T13:57:43.534Z"
   },
   {
    "duration": 231,
    "start_time": "2023-02-01T13:57:43.573Z"
   },
   {
    "duration": 16,
    "start_time": "2023-02-01T13:57:43.805Z"
   },
   {
    "duration": 20,
    "start_time": "2023-02-01T13:57:43.822Z"
   },
   {
    "duration": 21,
    "start_time": "2023-02-01T13:57:43.845Z"
   },
   {
    "duration": 24,
    "start_time": "2023-02-01T13:57:43.868Z"
   },
   {
    "duration": 15,
    "start_time": "2023-02-01T13:57:43.894Z"
   },
   {
    "duration": 8,
    "start_time": "2023-02-01T13:57:43.911Z"
   },
   {
    "duration": 17,
    "start_time": "2023-02-01T13:57:43.920Z"
   },
   {
    "duration": 10,
    "start_time": "2023-02-01T13:57:43.941Z"
   },
   {
    "duration": 20,
    "start_time": "2023-02-01T13:57:43.952Z"
   },
   {
    "duration": 13,
    "start_time": "2023-02-01T13:57:43.974Z"
   },
   {
    "duration": 23,
    "start_time": "2023-02-01T13:57:43.988Z"
   },
   {
    "duration": 27,
    "start_time": "2023-02-01T13:57:44.013Z"
   },
   {
    "duration": 296,
    "start_time": "2023-02-01T13:57:44.042Z"
   }
  ],
  "kernelspec": {
   "display_name": "Python 3 (ipykernel)",
   "language": "python",
   "name": "python3"
  },
  "language_info": {
   "codemirror_mode": {
    "name": "ipython",
    "version": 3
   },
   "file_extension": ".py",
   "mimetype": "text/x-python",
   "name": "python",
   "nbconvert_exporter": "python",
   "pygments_lexer": "ipython3",
   "version": "3.9.5"
  },
  "toc": {
   "base_numbering": 1,
   "nav_menu": {},
   "number_sections": true,
   "sideBar": true,
   "skip_h1_title": true,
   "title_cell": "Table of Contents",
   "title_sidebar": "Contents",
   "toc_cell": false,
   "toc_position": {
    "height": "calc(100% - 180px)",
    "left": "10px",
    "top": "150px",
    "width": "238.391px"
   },
   "toc_section_display": true,
   "toc_window_display": true
  }
 },
 "nbformat": 4,
 "nbformat_minor": 2
}
