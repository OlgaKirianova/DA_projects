{
 "cells": [
  {
   "cell_type": "markdown",
   "metadata": {},
   "source": [
    "# Описание проекта\n"
   ]
  },
  {
   "cell_type": "markdown",
   "metadata": {},
   "source": [
    "**Задача**\n",
    "\n",
    "Сеть фитнес-центров «Культурист-датасаентист» разрабатывает стратегию взаимодействия с клиентами на основе аналитических данных.\n",
    "\n",
    "Распространённая проблема фитнес-клубов и других сервисов — отток клиентов. Как понять, что клиент больше не с вами? Можно записать в отток тех, кто попросил закрыть договор или удалил аккаунт. Однако клиенты не всегда уходят демонстративно: чаще перестают пользоваться сервисом тихо.\n",
    "\n",
    "Индикаторы оттока зависят от специфики отрасли. Когда пользователь редко, но стабильно закупается в интернет-магазине — не похоже, что он «отвалился». А вот если две недели не заходит на канал с ежедневно обновляемым контентом, дела плохи: подписчик заскучал и, кажется, оставил вас.\n",
    "\n",
    "Для фитнес-центра можно считать, что клиент попал в отток, если за последний месяц ни разу не посетил спортзал. Конечно, не исключено, что он уехал на Бали и по приезде обязательно продолжит ходить на фитнес. Однако чаще бывает наоборот. Если клиент начал новую жизнь с понедельника, немного походил в спортзал, а потом пропал — скорее всего, он не вернётся.\n",
    "\n",
    "Чтобы бороться с оттоком, отдел по работе с клиентами «Культуриста-датасаентиста» перевёл в электронный вид множество клиентских анкет. Ваша задача — провести анализ и подготовить план действий по удержанию клиентов.\n",
    "\n",
    "А именно:\n",
    "- научиться прогнозировать вероятность оттока (на уровне следующего месяца) для каждого клиента;\n",
    "- сформировать типичные портреты клиентов: выделить несколько наиболее ярких групп и охарактеризовать их основные свойства;\n",
    "- проанализировать основные признаки, наиболее сильно влияющие на отток;\n",
    "- сформулировать основные выводы и разработать рекомендации по повышению качества работы с клиентами:\n",
    "  - выделить целевые группы клиентов;\n",
    "  - предложить меры по снижению оттока;\n",
    "  - определить другие особенности взаимодействия с клиентами.\n"
   ]
  },
  {
   "cell_type": "markdown",
   "metadata": {},
   "source": [
    "# Описание данных"
   ]
  },
  {
   "cell_type": "markdown",
   "metadata": {},
   "source": [
    "Данные клиента за предыдущий до проверки факта оттока месяц:\n",
    "\n",
    "- `gender` — пол;\n",
    "- `Near_Location` — проживание или работа в районе, где находится фитнес-центр;\n",
    "- `Partner` — сотрудник компании-партнёра клуба (сотрудничество с компаниями, чьи сотрудники могут получать скидки на абонемент — в таком случае фитнес-центр хранит информацию о работодателе клиента);\n",
    "- `Promo_friends` — факт первоначальной записи в рамках акции «приведи друга» (использовал промо-код от знакомого при оплате первого абонемента);\n",
    "- `Phone` — наличие контактного телефона;\n",
    "- `Age` — возраст;\n",
    "- `Lifetime` — время с момента первого обращения в фитнес-центр (в месяцах).\n"
   ]
  },
  {
   "cell_type": "markdown",
   "metadata": {},
   "source": [
    "Информация на основе журнала посещений, покупок и информация о текущем статусе абонемента клиента:\n",
    "\n",
    "- `Contract_period` — длительность текущего действующего абонемента (месяц, 6 месяцев, год);\n",
    "- `Month_to_end_contract` — срок до окончания текущего действующего абонемента (в месяцах);\n",
    "- `Group_visits` — факт посещения групповых занятий;\n",
    "- `Avg_class_frequency_total` — средняя частота посещений в неделю за все время с начала действия абонемента;\n",
    "- `Avg_class_frequency_current_month` — средняя частота посещений в неделю за предыдущий месяц;\n",
    "- `Avg_additional_charges_total` — суммарная выручка от других услуг фитнес-центра: кафе, спорттовары, косметический и массажный салон.\n",
    "- `Churn` — факт оттока в текущем месяце."
   ]
  },
  {
   "cell_type": "markdown",
   "metadata": {},
   "source": [
    "## Загрузка данных, импорт библиотек, предобработка\n"
   ]
  },
  {
   "cell_type": "code",
   "execution_count": 1,
   "metadata": {},
   "outputs": [],
   "source": [
    "import pandas as pd\n",
    "\n",
    "import numpy as np\n",
    "\n",
    "import seaborn as sns\n",
    "\n",
    "import plotly.express as px\n",
    "\n",
    "import matplotlib.pyplot as plt\n",
    "\n",
    "import warnings\n",
    "warnings.filterwarnings(\"ignore\")\n",
    "\n",
    "from sklearn.model_selection import train_test_split\n",
    "from sklearn.linear_model import LogisticRegression\n",
    "from sklearn.preprocessing import StandardScaler\n",
    "from sklearn.ensemble import RandomForestClassifier\n",
    "from sklearn.metrics import accuracy_score, precision_score, recall_score\n",
    "from sklearn.cluster import KMeans\n",
    "\n",
    "from scipy.cluster.hierarchy import dendrogram, linkage"
   ]
  },
  {
   "cell_type": "code",
   "execution_count": 2,
   "metadata": {},
   "outputs": [],
   "source": [
    "data = pd.read_csv('/datasets/gym_churn.csv')\n",
    "\n",
    "pd.options.display.float_format = '{:,.2f}'.format # задаем отображение для вещественных чисел"
   ]
  },
  {
   "cell_type": "code",
   "execution_count": 3,
   "metadata": {
    "scrolled": true
   },
   "outputs": [
    {
     "name": "stdout",
     "output_type": "stream",
     "text": [
      "<class 'pandas.core.frame.DataFrame'>\n",
      "RangeIndex: 4000 entries, 0 to 3999\n",
      "Data columns (total 14 columns):\n",
      " #   Column                             Non-Null Count  Dtype  \n",
      "---  ------                             --------------  -----  \n",
      " 0   gender                             4000 non-null   int64  \n",
      " 1   Near_Location                      4000 non-null   int64  \n",
      " 2   Partner                            4000 non-null   int64  \n",
      " 3   Promo_friends                      4000 non-null   int64  \n",
      " 4   Phone                              4000 non-null   int64  \n",
      " 5   Contract_period                    4000 non-null   int64  \n",
      " 6   Group_visits                       4000 non-null   int64  \n",
      " 7   Age                                4000 non-null   int64  \n",
      " 8   Avg_additional_charges_total       4000 non-null   float64\n",
      " 9   Month_to_end_contract              4000 non-null   float64\n",
      " 10  Lifetime                           4000 non-null   int64  \n",
      " 11  Avg_class_frequency_total          4000 non-null   float64\n",
      " 12  Avg_class_frequency_current_month  4000 non-null   float64\n",
      " 13  Churn                              4000 non-null   int64  \n",
      "dtypes: float64(4), int64(10)\n",
      "memory usage: 437.6 KB\n"
     ]
    },
    {
     "data": {
      "text/html": [
       "<div>\n",
       "<style scoped>\n",
       "    .dataframe tbody tr th:only-of-type {\n",
       "        vertical-align: middle;\n",
       "    }\n",
       "\n",
       "    .dataframe tbody tr th {\n",
       "        vertical-align: top;\n",
       "    }\n",
       "\n",
       "    .dataframe thead th {\n",
       "        text-align: right;\n",
       "    }\n",
       "</style>\n",
       "<table border=\"1\" class=\"dataframe\">\n",
       "  <thead>\n",
       "    <tr style=\"text-align: right;\">\n",
       "      <th></th>\n",
       "      <th>gender</th>\n",
       "      <th>Near_Location</th>\n",
       "      <th>Partner</th>\n",
       "      <th>Promo_friends</th>\n",
       "      <th>Phone</th>\n",
       "      <th>Contract_period</th>\n",
       "      <th>Group_visits</th>\n",
       "      <th>Age</th>\n",
       "      <th>Avg_additional_charges_total</th>\n",
       "      <th>Month_to_end_contract</th>\n",
       "      <th>Lifetime</th>\n",
       "      <th>Avg_class_frequency_total</th>\n",
       "      <th>Avg_class_frequency_current_month</th>\n",
       "      <th>Churn</th>\n",
       "    </tr>\n",
       "  </thead>\n",
       "  <tbody>\n",
       "    <tr>\n",
       "      <th>200</th>\n",
       "      <td>0</td>\n",
       "      <td>1</td>\n",
       "      <td>1</td>\n",
       "      <td>0</td>\n",
       "      <td>1</td>\n",
       "      <td>1</td>\n",
       "      <td>0</td>\n",
       "      <td>34</td>\n",
       "      <td>46.49</td>\n",
       "      <td>1.00</td>\n",
       "      <td>0</td>\n",
       "      <td>1.01</td>\n",
       "      <td>0.00</td>\n",
       "      <td>1</td>\n",
       "    </tr>\n",
       "    <tr>\n",
       "      <th>1078</th>\n",
       "      <td>1</td>\n",
       "      <td>1</td>\n",
       "      <td>0</td>\n",
       "      <td>0</td>\n",
       "      <td>1</td>\n",
       "      <td>1</td>\n",
       "      <td>0</td>\n",
       "      <td>27</td>\n",
       "      <td>24.55</td>\n",
       "      <td>1.00</td>\n",
       "      <td>4</td>\n",
       "      <td>1.39</td>\n",
       "      <td>0.98</td>\n",
       "      <td>1</td>\n",
       "    </tr>\n",
       "    <tr>\n",
       "      <th>610</th>\n",
       "      <td>1</td>\n",
       "      <td>1</td>\n",
       "      <td>1</td>\n",
       "      <td>1</td>\n",
       "      <td>1</td>\n",
       "      <td>6</td>\n",
       "      <td>1</td>\n",
       "      <td>31</td>\n",
       "      <td>85.67</td>\n",
       "      <td>6.00</td>\n",
       "      <td>1</td>\n",
       "      <td>1.01</td>\n",
       "      <td>0.73</td>\n",
       "      <td>1</td>\n",
       "    </tr>\n",
       "  </tbody>\n",
       "</table>\n",
       "</div>"
      ],
      "text/plain": [
       "      gender  Near_Location  Partner  Promo_friends  Phone  Contract_period  \\\n",
       "200        0              1        1              0      1                1   \n",
       "1078       1              1        0              0      1                1   \n",
       "610        1              1        1              1      1                6   \n",
       "\n",
       "      Group_visits  Age  Avg_additional_charges_total  Month_to_end_contract  \\\n",
       "200              0   34                         46.49                   1.00   \n",
       "1078             0   27                         24.55                   1.00   \n",
       "610              1   31                         85.67                   6.00   \n",
       "\n",
       "      Lifetime  Avg_class_frequency_total  Avg_class_frequency_current_month  \\\n",
       "200          0                       1.01                               0.00   \n",
       "1078         4                       1.39                               0.98   \n",
       "610          1                       1.01                               0.73   \n",
       "\n",
       "      Churn  \n",
       "200       1  \n",
       "1078      1  \n",
       "610       1  "
      ]
     },
     "execution_count": 3,
     "metadata": {},
     "output_type": "execute_result"
    }
   ],
   "source": [
    "data.info()\n",
    "\n",
    "data.sample(n=3, random_state=1)"
   ]
  },
  {
   "cell_type": "code",
   "execution_count": 4,
   "metadata": {},
   "outputs": [],
   "source": [
    "# приведем названия столбцов к нижнему регистру\n",
    "\n",
    "data.columns = data.columns.str.lower()"
   ]
  },
  {
   "cell_type": "code",
   "execution_count": 5,
   "metadata": {},
   "outputs": [
    {
     "data": {
      "text/plain": [
       "0"
      ]
     },
     "execution_count": 5,
     "metadata": {},
     "output_type": "execute_result"
    }
   ],
   "source": [
    "# проверим на дубликаты\n",
    "\n",
    "data.duplicated().sum()"
   ]
  },
  {
   "cell_type": "code",
   "execution_count": 6,
   "metadata": {
    "scrolled": true
   },
   "outputs": [],
   "source": [
    "# приведем данные о сроке до окончания текущего действующего абонемента в целочисленный тип\n",
    "\n",
    "data['month_to_end_contract'] = data['month_to_end_contract'].astype('int')"
   ]
  },
  {
   "cell_type": "code",
   "execution_count": 7,
   "metadata": {
    "scrolled": true
   },
   "outputs": [
    {
     "data": {
      "text/html": [
       "<div>\n",
       "<style scoped>\n",
       "    .dataframe tbody tr th:only-of-type {\n",
       "        vertical-align: middle;\n",
       "    }\n",
       "\n",
       "    .dataframe tbody tr th {\n",
       "        vertical-align: top;\n",
       "    }\n",
       "\n",
       "    .dataframe thead th {\n",
       "        text-align: right;\n",
       "    }\n",
       "</style>\n",
       "<table border=\"1\" class=\"dataframe\">\n",
       "  <thead>\n",
       "    <tr style=\"text-align: right;\">\n",
       "      <th></th>\n",
       "      <th>gender</th>\n",
       "      <th>near_location</th>\n",
       "      <th>partner</th>\n",
       "      <th>promo_friends</th>\n",
       "      <th>phone</th>\n",
       "      <th>contract_period</th>\n",
       "      <th>group_visits</th>\n",
       "      <th>age</th>\n",
       "      <th>avg_additional_charges_total</th>\n",
       "      <th>month_to_end_contract</th>\n",
       "      <th>lifetime</th>\n",
       "      <th>avg_class_frequency_total</th>\n",
       "      <th>avg_class_frequency_current_month</th>\n",
       "      <th>churn</th>\n",
       "    </tr>\n",
       "  </thead>\n",
       "  <tbody>\n",
       "    <tr>\n",
       "      <th>949</th>\n",
       "      <td>0</td>\n",
       "      <td>1</td>\n",
       "      <td>1</td>\n",
       "      <td>1</td>\n",
       "      <td>1</td>\n",
       "      <td>12</td>\n",
       "      <td>0</td>\n",
       "      <td>30</td>\n",
       "      <td>158.41</td>\n",
       "      <td>11</td>\n",
       "      <td>1</td>\n",
       "      <td>1.47</td>\n",
       "      <td>1.54</td>\n",
       "      <td>0</td>\n",
       "    </tr>\n",
       "  </tbody>\n",
       "</table>\n",
       "</div>"
      ],
      "text/plain": [
       "     gender  near_location  partner  promo_friends  phone  contract_period  \\\n",
       "949       0              1        1              1      1               12   \n",
       "\n",
       "     group_visits  age  avg_additional_charges_total  month_to_end_contract  \\\n",
       "949             0   30                        158.41                     11   \n",
       "\n",
       "     lifetime  avg_class_frequency_total  avg_class_frequency_current_month  \\\n",
       "949         1                       1.47                               1.54   \n",
       "\n",
       "     churn  \n",
       "949      0  "
      ]
     },
     "execution_count": 7,
     "metadata": {},
     "output_type": "execute_result"
    }
   ],
   "source": [
    "data.sample()"
   ]
  },
  {
   "cell_type": "markdown",
   "metadata": {},
   "source": [
    "Данные готовы для дальнейшего анализа, дубликатов и пропусков не обнаружено, названия столбцов приведены для удобства к нижнему регистру и нужному формату"
   ]
  },
  {
   "cell_type": "markdown",
   "metadata": {},
   "source": [
    "## Исследовательский анализ данных "
   ]
  },
  {
   "cell_type": "markdown",
   "metadata": {},
   "source": [
    "### Отсутствующие признаки,  средние значения и стандартные отклонения"
   ]
  },
  {
   "cell_type": "code",
   "execution_count": 8,
   "metadata": {},
   "outputs": [
    {
     "data": {
      "text/html": [
       "<div>\n",
       "<style scoped>\n",
       "    .dataframe tbody tr th:only-of-type {\n",
       "        vertical-align: middle;\n",
       "    }\n",
       "\n",
       "    .dataframe tbody tr th {\n",
       "        vertical-align: top;\n",
       "    }\n",
       "\n",
       "    .dataframe thead th {\n",
       "        text-align: right;\n",
       "    }\n",
       "</style>\n",
       "<table border=\"1\" class=\"dataframe\">\n",
       "  <thead>\n",
       "    <tr style=\"text-align: right;\">\n",
       "      <th></th>\n",
       "      <th>gender</th>\n",
       "      <th>near_location</th>\n",
       "      <th>partner</th>\n",
       "      <th>promo_friends</th>\n",
       "      <th>phone</th>\n",
       "      <th>contract_period</th>\n",
       "      <th>group_visits</th>\n",
       "      <th>age</th>\n",
       "      <th>avg_additional_charges_total</th>\n",
       "      <th>month_to_end_contract</th>\n",
       "      <th>lifetime</th>\n",
       "      <th>avg_class_frequency_total</th>\n",
       "      <th>avg_class_frequency_current_month</th>\n",
       "      <th>churn</th>\n",
       "    </tr>\n",
       "  </thead>\n",
       "  <tbody>\n",
       "    <tr>\n",
       "      <th>count</th>\n",
       "      <td>4,000.00</td>\n",
       "      <td>4,000.00</td>\n",
       "      <td>4,000.00</td>\n",
       "      <td>4,000.00</td>\n",
       "      <td>4,000.00</td>\n",
       "      <td>4,000.00</td>\n",
       "      <td>4,000.00</td>\n",
       "      <td>4,000.00</td>\n",
       "      <td>4,000.00</td>\n",
       "      <td>4,000.00</td>\n",
       "      <td>4,000.00</td>\n",
       "      <td>4,000.00</td>\n",
       "      <td>4,000.00</td>\n",
       "      <td>4,000.00</td>\n",
       "    </tr>\n",
       "    <tr>\n",
       "      <th>mean</th>\n",
       "      <td>0.51</td>\n",
       "      <td>0.85</td>\n",
       "      <td>0.49</td>\n",
       "      <td>0.31</td>\n",
       "      <td>0.90</td>\n",
       "      <td>4.68</td>\n",
       "      <td>0.41</td>\n",
       "      <td>29.18</td>\n",
       "      <td>146.94</td>\n",
       "      <td>4.32</td>\n",
       "      <td>3.72</td>\n",
       "      <td>1.88</td>\n",
       "      <td>1.77</td>\n",
       "      <td>0.27</td>\n",
       "    </tr>\n",
       "    <tr>\n",
       "      <th>std</th>\n",
       "      <td>0.50</td>\n",
       "      <td>0.36</td>\n",
       "      <td>0.50</td>\n",
       "      <td>0.46</td>\n",
       "      <td>0.30</td>\n",
       "      <td>4.55</td>\n",
       "      <td>0.49</td>\n",
       "      <td>3.26</td>\n",
       "      <td>96.36</td>\n",
       "      <td>4.19</td>\n",
       "      <td>3.75</td>\n",
       "      <td>0.97</td>\n",
       "      <td>1.05</td>\n",
       "      <td>0.44</td>\n",
       "    </tr>\n",
       "    <tr>\n",
       "      <th>min</th>\n",
       "      <td>0.00</td>\n",
       "      <td>0.00</td>\n",
       "      <td>0.00</td>\n",
       "      <td>0.00</td>\n",
       "      <td>0.00</td>\n",
       "      <td>1.00</td>\n",
       "      <td>0.00</td>\n",
       "      <td>18.00</td>\n",
       "      <td>0.15</td>\n",
       "      <td>1.00</td>\n",
       "      <td>0.00</td>\n",
       "      <td>0.00</td>\n",
       "      <td>0.00</td>\n",
       "      <td>0.00</td>\n",
       "    </tr>\n",
       "    <tr>\n",
       "      <th>25%</th>\n",
       "      <td>0.00</td>\n",
       "      <td>1.00</td>\n",
       "      <td>0.00</td>\n",
       "      <td>0.00</td>\n",
       "      <td>1.00</td>\n",
       "      <td>1.00</td>\n",
       "      <td>0.00</td>\n",
       "      <td>27.00</td>\n",
       "      <td>68.87</td>\n",
       "      <td>1.00</td>\n",
       "      <td>1.00</td>\n",
       "      <td>1.18</td>\n",
       "      <td>0.96</td>\n",
       "      <td>0.00</td>\n",
       "    </tr>\n",
       "    <tr>\n",
       "      <th>50%</th>\n",
       "      <td>1.00</td>\n",
       "      <td>1.00</td>\n",
       "      <td>0.00</td>\n",
       "      <td>0.00</td>\n",
       "      <td>1.00</td>\n",
       "      <td>1.00</td>\n",
       "      <td>0.00</td>\n",
       "      <td>29.00</td>\n",
       "      <td>136.22</td>\n",
       "      <td>1.00</td>\n",
       "      <td>3.00</td>\n",
       "      <td>1.83</td>\n",
       "      <td>1.72</td>\n",
       "      <td>0.00</td>\n",
       "    </tr>\n",
       "    <tr>\n",
       "      <th>75%</th>\n",
       "      <td>1.00</td>\n",
       "      <td>1.00</td>\n",
       "      <td>1.00</td>\n",
       "      <td>1.00</td>\n",
       "      <td>1.00</td>\n",
       "      <td>6.00</td>\n",
       "      <td>1.00</td>\n",
       "      <td>31.00</td>\n",
       "      <td>210.95</td>\n",
       "      <td>6.00</td>\n",
       "      <td>5.00</td>\n",
       "      <td>2.54</td>\n",
       "      <td>2.51</td>\n",
       "      <td>1.00</td>\n",
       "    </tr>\n",
       "    <tr>\n",
       "      <th>max</th>\n",
       "      <td>1.00</td>\n",
       "      <td>1.00</td>\n",
       "      <td>1.00</td>\n",
       "      <td>1.00</td>\n",
       "      <td>1.00</td>\n",
       "      <td>12.00</td>\n",
       "      <td>1.00</td>\n",
       "      <td>41.00</td>\n",
       "      <td>552.59</td>\n",
       "      <td>12.00</td>\n",
       "      <td>31.00</td>\n",
       "      <td>6.02</td>\n",
       "      <td>6.15</td>\n",
       "      <td>1.00</td>\n",
       "    </tr>\n",
       "  </tbody>\n",
       "</table>\n",
       "</div>"
      ],
      "text/plain": [
       "        gender  near_location  partner  promo_friends    phone  \\\n",
       "count 4,000.00       4,000.00 4,000.00       4,000.00 4,000.00   \n",
       "mean      0.51           0.85     0.49           0.31     0.90   \n",
       "std       0.50           0.36     0.50           0.46     0.30   \n",
       "min       0.00           0.00     0.00           0.00     0.00   \n",
       "25%       0.00           1.00     0.00           0.00     1.00   \n",
       "50%       1.00           1.00     0.00           0.00     1.00   \n",
       "75%       1.00           1.00     1.00           1.00     1.00   \n",
       "max       1.00           1.00     1.00           1.00     1.00   \n",
       "\n",
       "       contract_period  group_visits      age  avg_additional_charges_total  \\\n",
       "count         4,000.00      4,000.00 4,000.00                      4,000.00   \n",
       "mean              4.68          0.41    29.18                        146.94   \n",
       "std               4.55          0.49     3.26                         96.36   \n",
       "min               1.00          0.00    18.00                          0.15   \n",
       "25%               1.00          0.00    27.00                         68.87   \n",
       "50%               1.00          0.00    29.00                        136.22   \n",
       "75%               6.00          1.00    31.00                        210.95   \n",
       "max              12.00          1.00    41.00                        552.59   \n",
       "\n",
       "       month_to_end_contract  lifetime  avg_class_frequency_total  \\\n",
       "count               4,000.00  4,000.00                   4,000.00   \n",
       "mean                    4.32      3.72                       1.88   \n",
       "std                     4.19      3.75                       0.97   \n",
       "min                     1.00      0.00                       0.00   \n",
       "25%                     1.00      1.00                       1.18   \n",
       "50%                     1.00      3.00                       1.83   \n",
       "75%                     6.00      5.00                       2.54   \n",
       "max                    12.00     31.00                       6.02   \n",
       "\n",
       "       avg_class_frequency_current_month    churn  \n",
       "count                           4,000.00 4,000.00  \n",
       "mean                                1.77     0.27  \n",
       "std                                 1.05     0.44  \n",
       "min                                 0.00     0.00  \n",
       "25%                                 0.96     0.00  \n",
       "50%                                 1.72     0.00  \n",
       "75%                                 2.51     1.00  \n",
       "max                                 6.15     1.00  "
      ]
     },
     "execution_count": 8,
     "metadata": {},
     "output_type": "execute_result"
    }
   ],
   "source": [
    "data.describe()"
   ]
  },
  {
   "cell_type": "markdown",
   "metadata": {},
   "source": [
    "Судя по среднему и стандартному отклонению, в \"Культуристе\" достигнут гендерный баланс - мужчин и женщин практически поровну. По возрасту также состав клиентов довольно однородный - можно сказать, что это \"клуб 30-летних\". Большинство проживают в районе, где расположен фитнес-центр, примерно половина - сотрудники компаний-партнеров. Краткосрочные абонементы на месяц и абонементы на полгода более востребованы, чем покупка годового. Основная часть клиентов пришли недавно, в течении последних нескольких месяцев, преданных поклонников меньшинство, как и фанатов фитнеса - преимущественно люди посещают зал 2, максимум 3 раза в неделю. Доли оттока говорят о том, что примерно 1/4 клиентов отваливаются.\n",
    "\n",
    "Есть отсутствующие признаки - нули в числовых колонках `lifetime`, `avg_class_frequency_total`, `avg_class_frequency_current_month` - видимо, это новые клиенты текущего месяца, которые еще не успели воспользоваться своим абонементом."
   ]
  },
  {
   "cell_type": "markdown",
   "metadata": {},
   "source": [
    "### Средние значения признаков в разбивке по группам"
   ]
  },
  {
   "cell_type": "code",
   "execution_count": 9,
   "metadata": {
    "scrolled": true
   },
   "outputs": [
    {
     "data": {
      "text/html": [
       "<div>\n",
       "<style scoped>\n",
       "    .dataframe tbody tr th:only-of-type {\n",
       "        vertical-align: middle;\n",
       "    }\n",
       "\n",
       "    .dataframe tbody tr th {\n",
       "        vertical-align: top;\n",
       "    }\n",
       "\n",
       "    .dataframe thead th {\n",
       "        text-align: right;\n",
       "    }\n",
       "</style>\n",
       "<table border=\"1\" class=\"dataframe\">\n",
       "  <thead>\n",
       "    <tr style=\"text-align: right;\">\n",
       "      <th>churn</th>\n",
       "      <th>0</th>\n",
       "      <th>1</th>\n",
       "    </tr>\n",
       "  </thead>\n",
       "  <tbody>\n",
       "    <tr>\n",
       "      <th>gender</th>\n",
       "      <td>0.51</td>\n",
       "      <td>0.51</td>\n",
       "    </tr>\n",
       "    <tr>\n",
       "      <th>near_location</th>\n",
       "      <td>0.87</td>\n",
       "      <td>0.77</td>\n",
       "    </tr>\n",
       "    <tr>\n",
       "      <th>partner</th>\n",
       "      <td>0.53</td>\n",
       "      <td>0.36</td>\n",
       "    </tr>\n",
       "    <tr>\n",
       "      <th>promo_friends</th>\n",
       "      <td>0.35</td>\n",
       "      <td>0.18</td>\n",
       "    </tr>\n",
       "    <tr>\n",
       "      <th>phone</th>\n",
       "      <td>0.90</td>\n",
       "      <td>0.90</td>\n",
       "    </tr>\n",
       "    <tr>\n",
       "      <th>contract_period</th>\n",
       "      <td>5.75</td>\n",
       "      <td>1.73</td>\n",
       "    </tr>\n",
       "    <tr>\n",
       "      <th>group_visits</th>\n",
       "      <td>0.46</td>\n",
       "      <td>0.27</td>\n",
       "    </tr>\n",
       "    <tr>\n",
       "      <th>age</th>\n",
       "      <td>29.98</td>\n",
       "      <td>26.99</td>\n",
       "    </tr>\n",
       "    <tr>\n",
       "      <th>avg_additional_charges_total</th>\n",
       "      <td>158.45</td>\n",
       "      <td>115.08</td>\n",
       "    </tr>\n",
       "    <tr>\n",
       "      <th>month_to_end_contract</th>\n",
       "      <td>5.28</td>\n",
       "      <td>1.66</td>\n",
       "    </tr>\n",
       "    <tr>\n",
       "      <th>lifetime</th>\n",
       "      <td>4.71</td>\n",
       "      <td>0.99</td>\n",
       "    </tr>\n",
       "    <tr>\n",
       "      <th>avg_class_frequency_total</th>\n",
       "      <td>2.02</td>\n",
       "      <td>1.47</td>\n",
       "    </tr>\n",
       "    <tr>\n",
       "      <th>avg_class_frequency_current_month</th>\n",
       "      <td>2.03</td>\n",
       "      <td>1.04</td>\n",
       "    </tr>\n",
       "  </tbody>\n",
       "</table>\n",
       "</div>"
      ],
      "text/plain": [
       "churn                                  0      1\n",
       "gender                              0.51   0.51\n",
       "near_location                       0.87   0.77\n",
       "partner                             0.53   0.36\n",
       "promo_friends                       0.35   0.18\n",
       "phone                               0.90   0.90\n",
       "contract_period                     5.75   1.73\n",
       "group_visits                        0.46   0.27\n",
       "age                                29.98  26.99\n",
       "avg_additional_charges_total      158.45 115.08\n",
       "month_to_end_contract               5.28   1.66\n",
       "lifetime                            4.71   0.99\n",
       "avg_class_frequency_total           2.02   1.47\n",
       "avg_class_frequency_current_month   2.03   1.04"
      ]
     },
     "execution_count": 9,
     "metadata": {},
     "output_type": "execute_result"
    }
   ],
   "source": [
    "# сгруппируем ушедших и оставшихся по признакам\n",
    "data.groupby('churn').agg('mean').T"
   ]
  },
  {
   "cell_type": "markdown",
   "metadata": {},
   "source": [
    "В целом выглядит ожидаемо - реже отваливаются те клиенты, которые живут в том же районе, пришли по партнерской программе или по акции от друга. Абонеметы у них более долгосрочные, а посещаемость стабильная, денег в клубе они оставляют больше за счет дополнительных услуг. В отток чаще уходят новички и с низкой мотивацией или не имеющие достаточного свободного времени - это видно по более редким и снижающимся посещениям. Пол никак не влияет, а вот с возрастом есть различия - клиенты около 30 реже уходят, чем те, кто чуть моложе."
   ]
  },
  {
   "cell_type": "markdown",
   "metadata": {},
   "source": [
    "### Распределения признаков для тех, кто ушёл и тех, кто остался "
   ]
  },
  {
   "cell_type": "code",
   "execution_count": 10,
   "metadata": {},
   "outputs": [],
   "source": [
    "leave = data.query('churn == 1') # те, кто попал в отток\n",
    "\n",
    "stay = data.query('churn == 0') # клиенты, не попавшие в отток"
   ]
  },
  {
   "cell_type": "code",
   "execution_count": 11,
   "metadata": {},
   "outputs": [
    {
     "data": {
      "image/png": "[encoded data removed]",
      "text/plain": [
       "<Figure size 432x288 with 1 Axes>"
      ]
     },
     "metadata": {},
     "output_type": "display_data"
    },
    {
     "data": {
      "image/png": "[encoded data removed]",
      "text/plain": [
       "<Figure size 432x288 with 1 Axes>"
      ]
     },
     "metadata": {},
     "output_type": "display_data"
    },
    {
     "data": {
      "image/png": "[encoded data removed]",
      "text/plain": [
       "<Figure size 432x288 with 1 Axes>"
      ]
     },
     "metadata": {},
     "output_type": "display_data"
    },
    {
     "data": {
      "image/png": "[encoded data removed]",
      "text/plain": [
       "<Figure size 432x288 with 1 Axes>"
      ]
     },
     "metadata": {},
     "output_type": "display_data"
    },
    {
     "data": {
      "image/png": "[encoded data removed]",
      "text/plain": [
       "<Figure size 432x288 with 1 Axes>"
      ]
     },
     "metadata": {},
     "output_type": "display_data"
    },
    {
     "data": {
      "image/png": "[encoded data removed]",
      "text/plain": [
       "<Figure size 432x288 with 1 Axes>"
      ]
     },
     "metadata": {},
     "output_type": "display_data"
    },
    {
     "data": {
      "image/png": "[encoded data removed]",
      "text/plain": [
       "<Figure size 432x288 with 1 Axes>"
      ]
     },
     "metadata": {},
     "output_type": "display_data"
    },
    {
     "data": {
      "image/png": "[encoded data removed]",
      "text/plain": [
       "<Figure size 432x288 with 1 Axes>"
      ]
     },
     "metadata": {},
     "output_type": "display_data"
    },
    {
     "data": {
      "image/png": "[encoded data removed]",
      "text/plain": [
       "<Figure size 432x288 with 1 Axes>"
      ]
     },
     "metadata": {},
     "output_type": "display_data"
    },
    {
     "data": {
      "image/png": "[encoded data removed]",
      "text/plain": [
       "<Figure size 432x288 with 1 Axes>"
      ]
     },
     "metadata": {},
     "output_type": "display_data"
    },
    {
     "data": {
      "image/png": "[encoded data removed]",
      "text/plain": [
       "<Figure size 432x288 with 1 Axes>"
      ]
     },
     "metadata": {},
     "output_type": "display_data"
    },
    {
     "data": {
      "image/png": "[encoded data removed]",
      "text/plain": [
       "<Figure size 432x288 with 1 Axes>"
      ]
     },
     "metadata": {},
     "output_type": "display_data"
    },
    {
     "data": {
      "image/png": "[encoded data removed]",
      "text/plain": [
       "<Figure size 432x288 with 1 Axes>"
      ]
     },
     "metadata": {},
     "output_type": "display_data"
    },
    {
     "data": {
      "image/png": "[encoded data removed]",
      "text/plain": [
       "<Figure size 432x288 with 1 Axes>"
      ]
     },
     "metadata": {},
     "output_type": "display_data"
    }
   ],
   "source": [
    "sns.set_style(\"whitegrid\")\n",
    "for column in data.columns:\n",
    "    sns.distplot(stay[column], axlabel=False)\n",
    "    ax = sns.distplot(leave[column], axlabel=False)\n",
    "    plt.title(column)\n",
    "    sns.distplot(leave[column], label='leave')\n",
    "    sns.distplot(stay[column], label='stay')\n",
    "    plt.legend()\n",
    "    plt.show()"
   ]
  },
  {
   "cell_type": "markdown",
   "metadata": {},
   "source": [
    "Графики подтверждают выводы выше:\n",
    "\n",
    "- Среди сотрудников компаний-партнёров клуба в два раза больше оставшихся, чем ушедших\n",
    "- Те, кто пришел по акции \"приведи друга\" отваливаются примерно раз в 5 реже\n",
    "- Новички, оформившие абонемент на один месяц с высокой долей вероятности перестанут ходить сразу же\n",
    "- Посещающие групповые программы отваливаются в среднем в два раза реже\n",
    "- Графики распеделения по возрасту и полу выглядят как нормальные - закономерностей нет\n",
    "- Графики посещений подтверждают, те кто в оттоке занимались реже, раз-полтора в неделю, оставшиеся посещают чаще - 2-2,5 раза в неделю\n"
   ]
  },
  {
   "cell_type": "markdown",
   "metadata": {},
   "source": [
    "### Матрица корреляции"
   ]
  },
  {
   "cell_type": "code",
   "execution_count": 12,
   "metadata": {},
   "outputs": [
    {
     "data": {
      "image/png": "[encoded data removed]",
      "text/plain": [
       "<Figure size 864x864 with 2 Axes>"
      ]
     },
     "metadata": {},
     "output_type": "display_data"
    }
   ],
   "source": [
    "corr_m = data.corr() \n",
    "\n",
    "plt.figure(figsize=(12, 12))\n",
    "sns.heatmap(data = corr_m, square = True, annot = True) \n",
    "plt.show()"
   ]
  },
  {
   "cell_type": "markdown",
   "metadata": {},
   "source": [
    "Нет признаков, сильно коррелирующих с целевой переменной и следовательно оказывающих на нее сильное влияние. Пол клиента и оставил ли он свой номер телефона, никак не соотносятся с фактом оттока. Факторы, сильнее других влияющие на то, останется клиент или уйдет: длительность абонемента, возраст, лайфтайм и период до окончания действующего абонемента, а также частота посещений в предыдущем месяце.\n",
    "\n",
    "Есть пара скоррелированных между собой признаков - `month_to_end_contract и contract_period`, а также `avg_class_frequency_total` и `avg_class_frequency_current_month`. Избавимся от одного мультиколлинеарного признака в каждой паре перед построением моделей прогнозирования. "
   ]
  },
  {
   "cell_type": "markdown",
   "metadata": {},
   "source": [
    "## Построение модели прогнозирования оттока клиентов"
   ]
  },
  {
   "cell_type": "code",
   "execution_count": 13,
   "metadata": {},
   "outputs": [],
   "source": [
    "# разделяем данные на признаки (матрица X) и целевую переменную (y)\n",
    "X = data.drop('churn', axis = 1)\n",
    "y = data['churn']\n",
    "\n",
    "# разделяем модель на обучающую и валидационную выборку\n",
    "X_train, X_test, y_train, y_test = train_test_split(X, y, test_size=0.2, random_state=0)"
   ]
  },
  {
   "cell_type": "markdown",
   "metadata": {},
   "source": [
    "### Метод случайного леса\n"
   ]
  },
  {
   "cell_type": "code",
   "execution_count": 14,
   "metadata": {
    "scrolled": false
   },
   "outputs": [
    {
     "name": "stdout",
     "output_type": "stream",
     "text": [
      "Accuracy : 0.92\n",
      "Precision: 0.84\n",
      "Recall: 0.81\n"
     ]
    }
   ],
   "source": [
    "scaler = StandardScaler() # обучаем StandartScaler на обучающей выборке\n",
    "scaler.fit(X_train) \n",
    "\n",
    "X_train_st = scaler.transform(X_train) # преобразуем обучающий и валидационные наборы данных\n",
    "X_test_st = scaler.transform(X_test)\n",
    "\n",
    "\n",
    "rf_model = RandomForestClassifier(n_estimators = 100, random_state = 0) # задаем алгоритм\n",
    "\n",
    "rf_model.fit(X_train_st, y_train) # обучим модель случайного леса\n",
    "\n",
    "\n",
    "rf_predictions = rf_model.predict(X_test_st)\n",
    "rf_probabilities = rf_model.predict_proba(X_test_st)[:, 1] # делаем прогнозы\n",
    "\n",
    "print('Accuracy : {:.2f}'.format(accuracy_score(y_test, rf_predictions)))\n",
    "print('Precision: {:.2f}'.format(precision_score(y_test, rf_predictions)))\n",
    "print('Recall: {:.2f}'.format(recall_score(y_test, rf_predictions)))\n"
   ]
  },
  {
   "cell_type": "markdown",
   "metadata": {},
   "source": [
    "### Логистическая регрессия"
   ]
  },
  {
   "cell_type": "code",
   "execution_count": 15,
   "metadata": {},
   "outputs": [],
   "source": [
    "# удалим мультиколлинеарные признаки в каждой паре\n",
    "\n",
    "data.drop(columns=['month_to_end_contract', \n",
    "                   'avg_class_frequency_current_month'], inplace = True) "
   ]
  },
  {
   "cell_type": "code",
   "execution_count": 16,
   "metadata": {},
   "outputs": [
    {
     "name": "stdout",
     "output_type": "stream",
     "text": [
      "Accuracy: 0.91\n",
      "Precision: 0.82\n",
      "Recall: 0.80\n"
     ]
    }
   ],
   "source": [
    "model = LogisticRegression() # задаем алгоритм \n",
    "\n",
    "model.fit(X_train, y_train) # обучаем модель\n",
    "\n",
    "predictions = model.predict(X_test)\n",
    "probabilities = model.predict_proba(X_test)[:, 1] # делаем прогнозы\n",
    "\n",
    "print('Accuracy: {:.2f}'.format(accuracy_score(y_test, predictions)))\n",
    "print('Precision: {:.2f}'.format(precision_score(y_test, predictions)))\n",
    "print('Recall: {:.2f}'.format(recall_score(y_test, predictions)))"
   ]
  },
  {
   "cell_type": "markdown",
   "metadata": {},
   "source": [
    "Обе модели демонстрируют хорошую способность прогронозирования. Однако метрики модели случайного леса выглядят получше: доля правильных ответов, точность и полнота - все показатели выше.\n"
   ]
  },
  {
   "cell_type": "markdown",
   "metadata": {},
   "source": [
    "## Кластеризация пользователей"
   ]
  },
  {
   "cell_type": "code",
   "execution_count": 17,
   "metadata": {},
   "outputs": [],
   "source": [
    "data_cl = data.drop(['churn'], axis=1) # исключаем целевой признак оттока"
   ]
  },
  {
   "cell_type": "code",
   "execution_count": 18,
   "metadata": {},
   "outputs": [],
   "source": [
    "sc = StandardScaler()\n",
    "x_sc = sc.fit_transform(data_cl) # стандартизируем данные"
   ]
  },
  {
   "cell_type": "markdown",
   "metadata": {},
   "source": [
    "### Построение дендограммы"
   ]
  },
  {
   "cell_type": "code",
   "execution_count": 19,
   "metadata": {},
   "outputs": [
    {
     "data": {
      "image/png": "[encoded data removed]",
      "text/plain": [
       "<Figure size 1080x720 with 1 Axes>"
      ]
     },
     "metadata": {},
     "output_type": "display_data"
    }
   ],
   "source": [
    "linked = linkage(x_sc, method = 'ward') \n",
    "\n",
    "plt.figure(figsize=(15, 10))  \n",
    "dendrogram(linked, orientation='top')\n",
    "plt.title('Кластеризация клиентов фитнес-центра')\n",
    "plt.show()"
   ]
  },
  {
   "cell_type": "markdown",
   "metadata": {},
   "source": [
    "Ориентируясь на количество цветов на графике, можно выделить 4 кластера, но так как по условию задания просят спрогнозировать 5, остановимся на этом числе"
   ]
  },
  {
   "cell_type": "markdown",
   "metadata": {},
   "source": [
    "### Кластеризация  К-Means"
   ]
  },
  {
   "cell_type": "code",
   "execution_count": 20,
   "metadata": {},
   "outputs": [],
   "source": [
    "km = KMeans(n_clusters=5, random_state=0) # задаём модель k_means и число кластеров\n",
    "\n",
    "labels = km.fit_predict(x_sc) # прогнозируем кластеры для наблюдений\n",
    "\n",
    "data['cluster'] = labels # сохраняем метки кластера в датасет"
   ]
  },
  {
   "cell_type": "markdown",
   "metadata": {},
   "source": [
    "### Cредние значения признаков для кластеров"
   ]
  },
  {
   "cell_type": "code",
   "execution_count": 21,
   "metadata": {},
   "outputs": [
    {
     "data": {
      "text/html": [
       "<div>\n",
       "<style scoped>\n",
       "    .dataframe tbody tr th:only-of-type {\n",
       "        vertical-align: middle;\n",
       "    }\n",
       "\n",
       "    .dataframe tbody tr th {\n",
       "        vertical-align: top;\n",
       "    }\n",
       "\n",
       "    .dataframe thead th {\n",
       "        text-align: right;\n",
       "    }\n",
       "</style>\n",
       "<table border=\"1\" class=\"dataframe\">\n",
       "  <thead>\n",
       "    <tr style=\"text-align: right;\">\n",
       "      <th>cluster</th>\n",
       "      <th>0</th>\n",
       "      <th>1</th>\n",
       "      <th>2</th>\n",
       "      <th>3</th>\n",
       "      <th>4</th>\n",
       "    </tr>\n",
       "  </thead>\n",
       "  <tbody>\n",
       "    <tr>\n",
       "      <th>gender</th>\n",
       "      <td>0.50</td>\n",
       "      <td>0.49</td>\n",
       "      <td>0.51</td>\n",
       "      <td>0.54</td>\n",
       "      <td>0.52</td>\n",
       "    </tr>\n",
       "    <tr>\n",
       "      <th>near_location</th>\n",
       "      <td>0.00</td>\n",
       "      <td>1.00</td>\n",
       "      <td>1.00</td>\n",
       "      <td>1.00</td>\n",
       "      <td>0.86</td>\n",
       "    </tr>\n",
       "    <tr>\n",
       "      <th>partner</th>\n",
       "      <td>0.49</td>\n",
       "      <td>0.96</td>\n",
       "      <td>0.24</td>\n",
       "      <td>0.25</td>\n",
       "      <td>0.47</td>\n",
       "    </tr>\n",
       "    <tr>\n",
       "      <th>promo_friends</th>\n",
       "      <td>0.08</td>\n",
       "      <td>0.89</td>\n",
       "      <td>0.06</td>\n",
       "      <td>0.08</td>\n",
       "      <td>0.31</td>\n",
       "    </tr>\n",
       "    <tr>\n",
       "      <th>phone</th>\n",
       "      <td>1.00</td>\n",
       "      <td>1.00</td>\n",
       "      <td>1.00</td>\n",
       "      <td>1.00</td>\n",
       "      <td>0.00</td>\n",
       "    </tr>\n",
       "    <tr>\n",
       "      <th>contract_period</th>\n",
       "      <td>3.03</td>\n",
       "      <td>7.66</td>\n",
       "      <td>2.82</td>\n",
       "      <td>4.53</td>\n",
       "      <td>4.78</td>\n",
       "    </tr>\n",
       "    <tr>\n",
       "      <th>group_visits</th>\n",
       "      <td>0.24</td>\n",
       "      <td>0.46</td>\n",
       "      <td>0.00</td>\n",
       "      <td>1.00</td>\n",
       "      <td>0.43</td>\n",
       "    </tr>\n",
       "    <tr>\n",
       "      <th>age</th>\n",
       "      <td>28.72</td>\n",
       "      <td>29.54</td>\n",
       "      <td>28.77</td>\n",
       "      <td>29.54</td>\n",
       "      <td>29.30</td>\n",
       "    </tr>\n",
       "    <tr>\n",
       "      <th>avg_additional_charges_total</th>\n",
       "      <td>137.54</td>\n",
       "      <td>155.86</td>\n",
       "      <td>143.38</td>\n",
       "      <td>148.09</td>\n",
       "      <td>144.21</td>\n",
       "    </tr>\n",
       "    <tr>\n",
       "      <th>lifetime</th>\n",
       "      <td>3.06</td>\n",
       "      <td>4.38</td>\n",
       "      <td>3.34</td>\n",
       "      <td>3.76</td>\n",
       "      <td>3.94</td>\n",
       "    </tr>\n",
       "    <tr>\n",
       "      <th>avg_class_frequency_total</th>\n",
       "      <td>1.77</td>\n",
       "      <td>1.98</td>\n",
       "      <td>1.80</td>\n",
       "      <td>1.94</td>\n",
       "      <td>1.85</td>\n",
       "    </tr>\n",
       "    <tr>\n",
       "      <th>churn</th>\n",
       "      <td>0.40</td>\n",
       "      <td>0.12</td>\n",
       "      <td>0.38</td>\n",
       "      <td>0.20</td>\n",
       "      <td>0.27</td>\n",
       "    </tr>\n",
       "  </tbody>\n",
       "</table>\n",
       "</div>"
      ],
      "text/plain": [
       "cluster                           0      1      2      3      4\n",
       "gender                         0.50   0.49   0.51   0.54   0.52\n",
       "near_location                  0.00   1.00   1.00   1.00   0.86\n",
       "partner                        0.49   0.96   0.24   0.25   0.47\n",
       "promo_friends                  0.08   0.89   0.06   0.08   0.31\n",
       "phone                          1.00   1.00   1.00   1.00   0.00\n",
       "contract_period                3.03   7.66   2.82   4.53   4.78\n",
       "group_visits                   0.24   0.46   0.00   1.00   0.43\n",
       "age                           28.72  29.54  28.77  29.54  29.30\n",
       "avg_additional_charges_total 137.54 155.86 143.38 148.09 144.21\n",
       "lifetime                       3.06   4.38   3.34   3.76   3.94\n",
       "avg_class_frequency_total      1.77   1.98   1.80   1.94   1.85\n",
       "churn                          0.40   0.12   0.38   0.20   0.27"
      ]
     },
     "execution_count": 21,
     "metadata": {},
     "output_type": "execute_result"
    }
   ],
   "source": [
    "clusters = data.groupby(['cluster']).mean().T\n",
    "\n",
    "clusters"
   ]
  },
  {
   "cell_type": "markdown",
   "metadata": {},
   "source": [
    "Нулевой и второй кластеры склонны к оттоку сильнее остальных, из них ушло больше трети в каждом. Клиенты из нулевого живут в другом районе. Первый кластер выделяется более длительными абонементами по сравнению с другими, у нулевого и второго - в среднем более краткострочные. Посетители из \"надежного\" первого кластера в среднем тратят больше на дополнительные услуги в фитнес-центре, их \"срок жизни\" больше, и посещаемость в неделю незначительно, но стабильнее, в основном они пришли по партнерской программе или акции\n"
   ]
  },
  {
   "cell_type": "markdown",
   "metadata": {},
   "source": [
    "### Распределения признаков для кластеров"
   ]
  },
  {
   "cell_type": "code",
   "execution_count": 22,
   "metadata": {
    "scrolled": false
   },
   "outputs": [
    {
     "data": {
      "image/png": "[encoded data removed]",
      "text/plain": [
       "<Figure size 576x288 with 1 Axes>"
      ]
     },
     "metadata": {},
     "output_type": "display_data"
    },
    {
     "data": {
      "image/png": "[encoded data removed]",
      "text/plain": [
       "<Figure size 576x288 with 1 Axes>"
      ]
     },
     "metadata": {},
     "output_type": "display_data"
    },
    {
     "data": {
      "image/png": "[encoded data removed]",
      "text/plain": [
       "<Figure size 576x288 with 1 Axes>"
      ]
     },
     "metadata": {},
     "output_type": "display_data"
    },
    {
     "data": {
      "image/png": "[encoded data removed]",
      "text/plain": [
       "<Figure size 576x288 with 1 Axes>"
      ]
     },
     "metadata": {},
     "output_type": "display_data"
    },
    {
     "data": {
      "image/png": "[encoded data removed]",
      "text/plain": [
       "<Figure size 576x288 with 1 Axes>"
      ]
     },
     "metadata": {},
     "output_type": "display_data"
    },
    {
     "data": {
      "image/png": "[encoded data removed]",
      "text/plain": [
       "<Figure size 576x288 with 1 Axes>"
      ]
     },
     "metadata": {},
     "output_type": "display_data"
    },
    {
     "data": {
      "image/png": "[encoded data removed]",
      "text/plain": [
       "<Figure size 576x288 with 1 Axes>"
      ]
     },
     "metadata": {},
     "output_type": "display_data"
    }
   ],
   "source": [
    "# для бинарных признаков\n",
    "\n",
    "for column in ['gender',\n",
    "               'near_location',\n",
    "               'partner', \n",
    "               'promo_friends', \n",
    "               'phone', \n",
    "               'group_visits', \n",
    "               'churn']:\n",
    "    plt.figure(figsize=(8, 4))\n",
    "    sns.barplot(x='cluster', y=data[column], data=data, palette='Blues_r')\n",
    "    plt.title(column)\n",
    "    plt.show()"
   ]
  },
  {
   "cell_type": "code",
   "execution_count": 23,
   "metadata": {},
   "outputs": [
    {
     "data": {
      "image/png": "[encoded data removed]",
      "text/plain": [
       "<Figure size 576x288 with 1 Axes>"
      ]
     },
     "metadata": {},
     "output_type": "display_data"
    },
    {
     "data": {
      "image/png": "[encoded data removed]",
      "text/plain": [
       "<Figure size 576x288 with 1 Axes>"
      ]
     },
     "metadata": {},
     "output_type": "display_data"
    },
    {
     "data": {
      "image/png": "[encoded data removed]",
      "text/plain": [
       "<Figure size 576x288 with 1 Axes>"
      ]
     },
     "metadata": {},
     "output_type": "display_data"
    },
    {
     "data": {
      "image/png": "[encoded data removed]",
      "text/plain": [
       "<Figure size 576x288 with 1 Axes>"
      ]
     },
     "metadata": {},
     "output_type": "display_data"
    },
    {
     "data": {
      "image/png": "[encoded data removed]",
      "text/plain": [
       "<Figure size 576x288 with 1 Axes>"
      ]
     },
     "metadata": {},
     "output_type": "display_data"
    }
   ],
   "source": [
    "# для числовых признаков\n",
    "\n",
    "for column in ['contract_period', \n",
    "               'age', \n",
    "               'avg_additional_charges_total', \n",
    "               'lifetime', \n",
    "               'avg_class_frequency_total']:\n",
    "    plt.figure(figsize=(8, 4))\n",
    "    sns.kdeplot(data=data, x=column, hue='cluster', palette='dark')\n",
    "    plt.title(column)\n",
    "    plt.show()"
   ]
  },
  {
   "cell_type": "markdown",
   "metadata": {},
   "source": [
    "Наблюдения по графикам распределения признаков по кластерам подтверждают выводы выше. По возрасту и гендеру группы достаточно однородные, нет явных отличий. В первом кластере большинство клиентов пришли по партнерской программе и акции, абонементы у них самые длительные. Второй напротив, отличается краткосрочностью абонементов. В третьем чаще остальных ходят на групповые занятия. Похоже, что во втором кластере много новичков (короткий лайфтайм), которые в начале тратили больше денег на дополнительные услуги, но быстро сдулись. В первом кластере тратят стабильнее."
   ]
  },
  {
   "cell_type": "markdown",
   "metadata": {},
   "source": [
    "### Доля оттока по кластерам"
   ]
  },
  {
   "cell_type": "code",
   "execution_count": 24,
   "metadata": {
    "scrolled": true
   },
   "outputs": [
    {
     "data": {
      "text/html": [
       "<div>\n",
       "<style scoped>\n",
       "    .dataframe tbody tr th:only-of-type {\n",
       "        vertical-align: middle;\n",
       "    }\n",
       "\n",
       "    .dataframe tbody tr th {\n",
       "        vertical-align: top;\n",
       "    }\n",
       "\n",
       "    .dataframe thead th {\n",
       "        text-align: right;\n",
       "    }\n",
       "</style>\n",
       "<table border=\"1\" class=\"dataframe\">\n",
       "  <thead>\n",
       "    <tr style=\"text-align: right;\">\n",
       "      <th></th>\n",
       "      <th>churn</th>\n",
       "      <th>count</th>\n",
       "      <th>%</th>\n",
       "    </tr>\n",
       "    <tr>\n",
       "      <th>cluster</th>\n",
       "      <th></th>\n",
       "      <th></th>\n",
       "      <th></th>\n",
       "    </tr>\n",
       "  </thead>\n",
       "  <tbody>\n",
       "    <tr>\n",
       "      <th>0</th>\n",
       "      <td>0</td>\n",
       "      <td>337</td>\n",
       "      <td>39.93</td>\n",
       "    </tr>\n",
       "    <tr>\n",
       "      <th>0</th>\n",
       "      <td>1</td>\n",
       "      <td>224</td>\n",
       "      <td>39.93</td>\n",
       "    </tr>\n",
       "    <tr>\n",
       "      <th>1</th>\n",
       "      <td>0</td>\n",
       "      <td>923</td>\n",
       "      <td>12.10</td>\n",
       "    </tr>\n",
       "    <tr>\n",
       "      <th>1</th>\n",
       "      <td>1</td>\n",
       "      <td>127</td>\n",
       "      <td>12.10</td>\n",
       "    </tr>\n",
       "    <tr>\n",
       "      <th>2</th>\n",
       "      <td>0</td>\n",
       "      <td>700</td>\n",
       "      <td>38.16</td>\n",
       "    </tr>\n",
       "    <tr>\n",
       "      <th>2</th>\n",
       "      <td>1</td>\n",
       "      <td>432</td>\n",
       "      <td>38.16</td>\n",
       "    </tr>\n",
       "    <tr>\n",
       "      <th>3</th>\n",
       "      <td>0</td>\n",
       "      <td>696</td>\n",
       "      <td>20.09</td>\n",
       "    </tr>\n",
       "    <tr>\n",
       "      <th>3</th>\n",
       "      <td>1</td>\n",
       "      <td>175</td>\n",
       "      <td>20.09</td>\n",
       "    </tr>\n",
       "    <tr>\n",
       "      <th>4</th>\n",
       "      <td>0</td>\n",
       "      <td>283</td>\n",
       "      <td>26.68</td>\n",
       "    </tr>\n",
       "    <tr>\n",
       "      <th>4</th>\n",
       "      <td>1</td>\n",
       "      <td>103</td>\n",
       "      <td>26.68</td>\n",
       "    </tr>\n",
       "  </tbody>\n",
       "</table>\n",
       "</div>"
      ],
      "text/plain": [
       "         churn  count     %\n",
       "cluster                    \n",
       "0            0    337 39.93\n",
       "0            1    224 39.93\n",
       "1            0    923 12.10\n",
       "1            1    127 12.10\n",
       "2            0    700 38.16\n",
       "2            1    432 38.16\n",
       "3            0    696 20.09\n",
       "3            1    175 20.09\n",
       "4            0    283 26.68\n",
       "4            1    103 26.68"
      ]
     },
     "execution_count": 24,
     "metadata": {},
     "output_type": "execute_result"
    }
   ],
   "source": [
    "# группируем кластеры по факту оттока\n",
    "users = data.groupby(['cluster', 'churn'])['cluster'].count().reset_index(level=1).rename(\n",
    "    columns={'cluster': 'count'})\n",
    "\n",
    "# добавляем колонку с % оттока в каждом кластере\n",
    "users['%'] = data.query('churn == 1').groupby('cluster').agg(\n",
    "    {'gender': 'count'}) / data.groupby('cluster').agg({'gender': 'count'}) * 100\n",
    "\n",
    "users"
   ]
  },
  {
   "cell_type": "markdown",
   "metadata": {},
   "source": [
    "Меньше всего отток из первого кластера, всего 12%, на втором месте по доле оттока третий - там он составил 20%. Больше всего ушло из нулевого и второго кластеров - 39% и 38% соответственно. Из четвертого отвалилось 26% клиентов."
   ]
  },
  {
   "cell_type": "markdown",
   "metadata": {},
   "source": [
    "## Выводы и  базовые рекомендации по работе с клиентами\n"
   ]
  },
  {
   "cell_type": "markdown",
   "metadata": {},
   "source": [
    "**Основные выводы:**\n",
    "\n",
    "Клиент с высокой долей вероятности уйдет в следующей месяце, если его средняя частота посещений в неделю в текущем месяце снизилась по сравнению с предыдущими месяцами.\n",
    "\n",
    "Признаки, наиболее сильно влияющие на отток: \n",
    "- территориальное расположение (клиент живет в другом районе)\n",
    "- клиент пришел не в рамках акции или программы-партнера, т.е. не получил получил никаких спецпредложений\n",
    "- приобретение краткосрочного абонемента взамен более длительного\n",
    "- нестабильное посещение, реже 2х раз в неделю в среднем\n",
    "\n",
    "\n",
    "Признаки надежных групп клиентов, не склонных к оттоку:\n",
    "- продолжительный лайфтайм: клиент с клубом дольше нескольких месяцев\n",
    "- длительный абонемент - на 6 месяцев или год \n",
    "- стабильное посещение не реже 2х раз в неделю\n",
    "- расходы на дополнительные услуги выше среднего\n",
    "- возраст ближе к среднему возрасту посетителей - 30 лет"
   ]
  },
  {
   "cell_type": "markdown",
   "metadata": {},
   "source": [
    "**Рекомендации по работе с клиентами**\n",
    "\n",
    "- Таргет на привлечение новых клиентов в первую очередь из района, где расположен клуб\n",
    "- Акции для новых посетителей с короткими абонементами - новичкам часто не хватает первоначальной мотивации для продолжения занятий и времени для формирования привычки. Например скидка на первые персональные тренировки и т.д.\n",
    "- Отслеживание частоты посещения - при снижении немедленно реагировать предложениями, чтобы клиент не попал в отток\n",
    "- Поддержка групповых программ, выявление самых популярных, возможное расширение сетки - групповые сбособствуют удержанию клиентов\n",
    "- Внимание к тем, кто давно с клубом и занимается регулярно, то есть клиентам из надежных кластеров - они приносят больше всего дохода"
   ]
  },
  {
   "cell_type": "markdown",
   "metadata": {},
   "source": [
    "**Рекомендации по составлению базы**\n",
    "\n",
    "- указывать в документации, чему соответствует 0 и 1 в классификации пола, в данном случае отличий по гендерным признакам не наблюдается, но в другой раз это может оказаться важным\n",
    "\n",
    "- включать в датасет уникальный номер клиента, иначе неясно как менеджерам в дальнейшем определять, находится ли конкретный человек в надежном кластере или том, что склонен к оттоку"
   ]
  },
  {
   "cell_type": "code",
   "execution_count": null,
   "metadata": {},
   "outputs": [],
   "source": []
  }
 ],
 "metadata": {
  "ExecuteTimeLog": [
   {
    "duration": 426,
    "start_time": "2022-06-13T12:20:23.263Z"
   },
   {
    "duration": 69,
    "start_time": "2022-06-13T12:21:10.202Z"
   },
   {
    "duration": 17,
    "start_time": "2022-06-13T12:21:20.888Z"
   },
   {
    "duration": 12,
    "start_time": "2022-06-13T12:22:07.722Z"
   },
   {
    "duration": 19,
    "start_time": "2022-06-13T12:35:41.583Z"
   },
   {
    "duration": 9,
    "start_time": "2022-06-13T12:40:29.565Z"
   },
   {
    "duration": 57,
    "start_time": "2022-06-13T12:58:56.485Z"
   },
   {
    "duration": 25,
    "start_time": "2022-06-13T12:58:57.319Z"
   },
   {
    "duration": 8,
    "start_time": "2022-06-13T12:59:00.145Z"
   },
   {
    "duration": 10,
    "start_time": "2022-06-13T13:00:05.740Z"
   },
   {
    "duration": 5,
    "start_time": "2022-06-13T13:00:22.247Z"
   },
   {
    "duration": 63,
    "start_time": "2022-06-13T13:02:38.119Z"
   },
   {
    "duration": 4,
    "start_time": "2022-06-13T13:09:08.329Z"
   },
   {
    "duration": 9,
    "start_time": "2022-06-13T13:09:19.796Z"
   },
   {
    "duration": 3,
    "start_time": "2022-06-13T13:10:15.744Z"
   },
   {
    "duration": 32,
    "start_time": "2022-06-13T13:11:58.029Z"
   },
   {
    "duration": 20,
    "start_time": "2022-06-13T13:11:58.722Z"
   },
   {
    "duration": 3,
    "start_time": "2022-06-13T13:11:59.232Z"
   },
   {
    "duration": 7,
    "start_time": "2022-06-13T13:11:59.861Z"
   },
   {
    "duration": 10,
    "start_time": "2022-06-13T13:12:02.010Z"
   },
   {
    "duration": 383,
    "start_time": "2022-06-13T13:12:16.578Z"
   },
   {
    "duration": 30,
    "start_time": "2022-06-13T13:12:16.963Z"
   },
   {
    "duration": 25,
    "start_time": "2022-06-13T13:12:16.995Z"
   },
   {
    "duration": 3,
    "start_time": "2022-06-13T13:12:17.021Z"
   },
   {
    "duration": 10,
    "start_time": "2022-06-13T13:12:17.026Z"
   },
   {
    "duration": 10,
    "start_time": "2022-06-13T13:12:17.037Z"
   },
   {
    "duration": 5,
    "start_time": "2022-06-13T13:12:58.448Z"
   },
   {
    "duration": 31,
    "start_time": "2022-06-13T13:14:01.131Z"
   },
   {
    "duration": 19,
    "start_time": "2022-06-13T13:14:01.387Z"
   },
   {
    "duration": 3,
    "start_time": "2022-06-13T13:14:01.619Z"
   },
   {
    "duration": 6,
    "start_time": "2022-06-13T13:14:17.090Z"
   },
   {
    "duration": 10,
    "start_time": "2022-06-13T13:14:26.792Z"
   },
   {
    "duration": 9,
    "start_time": "2022-06-13T13:14:31.787Z"
   },
   {
    "duration": 4,
    "start_time": "2022-06-13T13:15:00.908Z"
   },
   {
    "duration": 4,
    "start_time": "2022-06-13T13:15:01.535Z"
   },
   {
    "duration": 63,
    "start_time": "2022-06-13T13:15:45.483Z"
   },
   {
    "duration": 9,
    "start_time": "2022-06-13T13:16:24.623Z"
   },
   {
    "duration": 9,
    "start_time": "2022-06-13T13:16:27.771Z"
   },
   {
    "duration": 3,
    "start_time": "2022-06-13T13:16:45.056Z"
   },
   {
    "duration": 43,
    "start_time": "2022-06-13T13:16:45.060Z"
   },
   {
    "duration": 18,
    "start_time": "2022-06-13T13:16:45.104Z"
   },
   {
    "duration": 3,
    "start_time": "2022-06-13T13:16:45.124Z"
   },
   {
    "duration": 10,
    "start_time": "2022-06-13T13:16:45.129Z"
   },
   {
    "duration": 5,
    "start_time": "2022-06-13T13:16:45.141Z"
   },
   {
    "duration": 13,
    "start_time": "2022-06-13T13:16:45.147Z"
   },
   {
    "duration": 2,
    "start_time": "2022-06-13T13:19:31.937Z"
   },
   {
    "duration": 52,
    "start_time": "2022-06-13T13:19:31.942Z"
   },
   {
    "duration": 43,
    "start_time": "2022-06-13T13:19:31.996Z"
   },
   {
    "duration": 2,
    "start_time": "2022-06-13T13:19:32.041Z"
   },
   {
    "duration": 14,
    "start_time": "2022-06-13T13:19:32.045Z"
   },
   {
    "duration": 3,
    "start_time": "2022-06-13T13:19:32.060Z"
   },
   {
    "duration": 26,
    "start_time": "2022-06-13T13:19:32.064Z"
   },
   {
    "duration": 13,
    "start_time": "2022-06-13T13:20:22.990Z"
   },
   {
    "duration": 10,
    "start_time": "2022-06-13T13:20:34.009Z"
   },
   {
    "duration": 40,
    "start_time": "2022-06-13T13:40:43.515Z"
   },
   {
    "duration": 44,
    "start_time": "2022-06-14T10:19:28.226Z"
   },
   {
    "duration": 356,
    "start_time": "2022-06-14T10:19:32.514Z"
   },
   {
    "duration": 32,
    "start_time": "2022-06-14T10:19:32.871Z"
   },
   {
    "duration": 21,
    "start_time": "2022-06-14T10:19:32.905Z"
   },
   {
    "duration": 3,
    "start_time": "2022-06-14T10:19:32.928Z"
   },
   {
    "duration": 11,
    "start_time": "2022-06-14T10:19:32.933Z"
   },
   {
    "duration": 3,
    "start_time": "2022-06-14T10:19:32.946Z"
   },
   {
    "duration": 15,
    "start_time": "2022-06-14T10:19:32.950Z"
   },
   {
    "duration": 53,
    "start_time": "2022-06-14T10:19:32.966Z"
   },
   {
    "duration": 12,
    "start_time": "2022-06-14T10:19:33.021Z"
   },
   {
    "duration": 29,
    "start_time": "2022-06-14T10:20:11.028Z"
   },
   {
    "duration": 11,
    "start_time": "2022-06-14T10:20:18.333Z"
   },
   {
    "duration": 395,
    "start_time": "2022-06-14T10:34:35.508Z"
   },
   {
    "duration": 13,
    "start_time": "2022-06-14T10:34:54.819Z"
   },
   {
    "duration": 13,
    "start_time": "2022-06-14T10:34:59.427Z"
   },
   {
    "duration": 10,
    "start_time": "2022-06-14T10:54:27.213Z"
   },
   {
    "duration": 532,
    "start_time": "2022-06-14T10:55:25.800Z"
   },
   {
    "duration": 31,
    "start_time": "2022-06-14T10:55:26.334Z"
   },
   {
    "duration": 17,
    "start_time": "2022-06-14T10:55:26.518Z"
   },
   {
    "duration": 4,
    "start_time": "2022-06-14T10:55:26.695Z"
   },
   {
    "duration": 14,
    "start_time": "2022-06-14T10:55:26.899Z"
   },
   {
    "duration": 6,
    "start_time": "2022-06-14T10:55:27.096Z"
   },
   {
    "duration": 18,
    "start_time": "2022-06-14T10:55:27.302Z"
   },
   {
    "duration": 44,
    "start_time": "2022-06-14T10:55:28.148Z"
   },
   {
    "duration": 11,
    "start_time": "2022-06-14T10:55:28.571Z"
   },
   {
    "duration": 198,
    "start_time": "2022-06-14T10:55:29.034Z"
   },
   {
    "duration": 3,
    "start_time": "2022-06-14T10:55:51.998Z"
   },
   {
    "duration": 31,
    "start_time": "2022-06-14T10:55:52.264Z"
   },
   {
    "duration": 18,
    "start_time": "2022-06-14T10:55:52.464Z"
   },
   {
    "duration": 3,
    "start_time": "2022-06-14T10:55:52.660Z"
   },
   {
    "duration": 13,
    "start_time": "2022-06-14T10:55:52.899Z"
   },
   {
    "duration": 3,
    "start_time": "2022-06-14T10:55:53.181Z"
   },
   {
    "duration": 19,
    "start_time": "2022-06-14T10:55:53.498Z"
   },
   {
    "duration": 36,
    "start_time": "2022-06-14T10:55:54.947Z"
   },
   {
    "duration": 19,
    "start_time": "2022-06-14T10:55:56.203Z"
   },
   {
    "duration": 2299,
    "start_time": "2022-06-14T10:55:56.680Z"
   },
   {
    "duration": 2076,
    "start_time": "2022-06-14T10:56:07.633Z"
   },
   {
    "duration": 3,
    "start_time": "2022-06-14T10:56:56.132Z"
   },
   {
    "duration": 4,
    "start_time": "2022-06-14T10:56:58.301Z"
   },
   {
    "duration": 30,
    "start_time": "2022-06-14T10:56:58.497Z"
   },
   {
    "duration": 22,
    "start_time": "2022-06-14T10:56:58.681Z"
   },
   {
    "duration": 3,
    "start_time": "2022-06-14T10:56:58.878Z"
   },
   {
    "duration": 10,
    "start_time": "2022-06-14T10:56:59.099Z"
   },
   {
    "duration": 4,
    "start_time": "2022-06-14T10:56:59.314Z"
   },
   {
    "duration": 10,
    "start_time": "2022-06-14T10:56:59.529Z"
   },
   {
    "duration": 38,
    "start_time": "2022-06-14T10:57:00.430Z"
   },
   {
    "duration": 11,
    "start_time": "2022-06-14T10:57:01.281Z"
   },
   {
    "duration": 2157,
    "start_time": "2022-06-14T10:57:02.226Z"
   },
   {
    "duration": 2275,
    "start_time": "2022-06-14T10:59:59.194Z"
   },
   {
    "duration": 2622,
    "start_time": "2022-06-14T11:00:46.785Z"
   },
   {
    "duration": 2363,
    "start_time": "2022-06-14T11:01:27.445Z"
   },
   {
    "duration": 1401,
    "start_time": "2022-06-14T11:24:47.213Z"
   },
   {
    "duration": 1297,
    "start_time": "2022-06-14T11:24:59.933Z"
   },
   {
    "duration": 1381,
    "start_time": "2022-06-14T11:25:36.472Z"
   },
   {
    "duration": 1387,
    "start_time": "2022-06-14T11:25:47.212Z"
   },
   {
    "duration": 1422,
    "start_time": "2022-06-14T11:26:00.532Z"
   },
   {
    "duration": 6,
    "start_time": "2022-06-14T12:40:05.940Z"
   },
   {
    "duration": 2135,
    "start_time": "2022-06-14T12:40:21.043Z"
   },
   {
    "duration": 10,
    "start_time": "2022-06-14T12:41:35.307Z"
   },
   {
    "duration": 7,
    "start_time": "2022-06-14T12:41:41.009Z"
   },
   {
    "duration": 1927,
    "start_time": "2022-06-14T12:41:41.876Z"
   },
   {
    "duration": 2132,
    "start_time": "2022-06-14T12:41:43.805Z"
   },
   {
    "duration": 219456,
    "start_time": "2022-06-14T12:47:01.488Z"
   },
   {
    "duration": 1006,
    "start_time": "2022-06-14T13:03:45.502Z"
   },
   {
    "duration": 31,
    "start_time": "2022-06-14T13:03:46.510Z"
   },
   {
    "duration": 20,
    "start_time": "2022-06-14T13:03:46.542Z"
   },
   {
    "duration": 2,
    "start_time": "2022-06-14T13:03:46.564Z"
   },
   {
    "duration": 10,
    "start_time": "2022-06-14T13:03:46.568Z"
   },
   {
    "duration": 3,
    "start_time": "2022-06-14T13:03:46.579Z"
   },
   {
    "duration": 14,
    "start_time": "2022-06-14T13:03:46.583Z"
   },
   {
    "duration": 37,
    "start_time": "2022-06-14T13:03:46.598Z"
   },
   {
    "duration": 11,
    "start_time": "2022-06-14T13:03:46.637Z"
   },
   {
    "duration": 8,
    "start_time": "2022-06-14T13:03:46.651Z"
   },
   {
    "duration": 2039,
    "start_time": "2022-06-14T13:03:46.660Z"
   },
   {
    "duration": 2004,
    "start_time": "2022-06-14T13:03:48.701Z"
   },
   {
    "duration": 217779,
    "start_time": "2022-06-14T13:03:50.707Z"
   },
   {
    "duration": 217625,
    "start_time": "2022-06-14T13:07:28.488Z"
   },
   {
    "duration": 1301,
    "start_time": "2022-06-14T13:11:06.115Z"
   },
   {
    "duration": 101,
    "start_time": "2022-06-14T13:29:22.399Z"
   },
   {
    "duration": 46,
    "start_time": "2022-06-14T15:37:07.206Z"
   },
   {
    "duration": 0,
    "start_time": "2022-06-14T15:43:04.442Z"
   },
   {
    "duration": 3,
    "start_time": "2022-06-14T15:53:01.970Z"
   },
   {
    "duration": 48,
    "start_time": "2022-06-14T15:53:01.975Z"
   },
   {
    "duration": 17,
    "start_time": "2022-06-14T15:53:02.024Z"
   },
   {
    "duration": 2,
    "start_time": "2022-06-14T15:53:02.043Z"
   },
   {
    "duration": 18,
    "start_time": "2022-06-14T15:53:02.047Z"
   },
   {
    "duration": 3,
    "start_time": "2022-06-14T15:53:02.067Z"
   },
   {
    "duration": 11,
    "start_time": "2022-06-14T15:53:02.072Z"
   },
   {
    "duration": 180,
    "start_time": "2022-06-14T15:53:02.085Z"
   },
   {
    "duration": 12,
    "start_time": "2022-06-14T15:53:02.266Z"
   },
   {
    "duration": 7,
    "start_time": "2022-06-14T15:53:02.279Z"
   },
   {
    "duration": 2069,
    "start_time": "2022-06-14T15:53:02.287Z"
   },
   {
    "duration": 2272,
    "start_time": "2022-06-14T15:53:04.358Z"
   },
   {
    "duration": 1536,
    "start_time": "2022-06-14T15:53:06.632Z"
   },
   {
    "duration": 1378,
    "start_time": "2022-06-14T15:53:08.170Z"
   },
   {
    "duration": 1768,
    "start_time": "2022-06-14T15:53:20.927Z"
   },
   {
    "duration": 52,
    "start_time": "2022-06-14T15:55:51.375Z"
   },
   {
    "duration": 60,
    "start_time": "2022-06-14T15:56:03.377Z"
   },
   {
    "duration": 3,
    "start_time": "2022-06-14T15:56:27.527Z"
   },
   {
    "duration": 39,
    "start_time": "2022-06-14T15:56:27.532Z"
   },
   {
    "duration": 17,
    "start_time": "2022-06-14T15:56:27.572Z"
   },
   {
    "duration": 3,
    "start_time": "2022-06-14T15:56:27.590Z"
   },
   {
    "duration": 10,
    "start_time": "2022-06-14T15:56:27.595Z"
   },
   {
    "duration": 3,
    "start_time": "2022-06-14T15:56:27.606Z"
   },
   {
    "duration": 11,
    "start_time": "2022-06-14T15:56:27.611Z"
   },
   {
    "duration": 36,
    "start_time": "2022-06-14T15:56:27.625Z"
   },
   {
    "duration": 11,
    "start_time": "2022-06-14T15:56:27.663Z"
   },
   {
    "duration": 7,
    "start_time": "2022-06-14T15:56:27.675Z"
   },
   {
    "duration": 2213,
    "start_time": "2022-06-14T15:56:27.683Z"
   },
   {
    "duration": 2217,
    "start_time": "2022-06-14T15:56:29.897Z"
   },
   {
    "duration": 14,
    "start_time": "2022-06-14T15:56:32.116Z"
   },
   {
    "duration": 0,
    "start_time": "2022-06-14T15:56:32.131Z"
   },
   {
    "duration": 1373,
    "start_time": "2022-06-14T15:58:13.775Z"
   },
   {
    "duration": 1588,
    "start_time": "2022-06-14T16:03:57.735Z"
   },
   {
    "duration": 2,
    "start_time": "2022-06-14T16:07:23.172Z"
   },
   {
    "duration": 2,
    "start_time": "2022-06-14T16:07:44.803Z"
   },
   {
    "duration": 3,
    "start_time": "2022-06-14T16:07:54.203Z"
   },
   {
    "duration": 25806,
    "start_time": "2022-06-14T16:08:49.400Z"
   },
   {
    "duration": 23729,
    "start_time": "2022-06-14T16:15:10.450Z"
   },
   {
    "duration": 9,
    "start_time": "2022-06-14T16:20:37.293Z"
   },
   {
    "duration": 1986,
    "start_time": "2022-06-14T16:20:43.670Z"
   },
   {
    "duration": 2497,
    "start_time": "2022-06-14T16:21:53.733Z"
   },
   {
    "duration": 9,
    "start_time": "2022-06-14T16:22:58.411Z"
   },
   {
    "duration": 2597,
    "start_time": "2022-06-14T16:23:17.406Z"
   },
   {
    "duration": 8,
    "start_time": "2022-06-14T16:26:37.203Z"
   },
   {
    "duration": 9,
    "start_time": "2022-06-14T16:28:00.992Z"
   },
   {
    "duration": 2596,
    "start_time": "2022-06-14T16:28:47.267Z"
   },
   {
    "duration": 3562,
    "start_time": "2022-06-14T16:33:16.602Z"
   },
   {
    "duration": 2831,
    "start_time": "2022-06-14T16:41:29.820Z"
   },
   {
    "duration": 2950,
    "start_time": "2022-06-14T16:44:46.539Z"
   },
   {
    "duration": 2887,
    "start_time": "2022-06-14T16:45:07.604Z"
   },
   {
    "duration": 2747,
    "start_time": "2022-06-14T16:45:30.884Z"
   },
   {
    "duration": 11,
    "start_time": "2022-06-14T16:46:33.431Z"
   },
   {
    "duration": 3015,
    "start_time": "2022-06-14T16:47:04.866Z"
   },
   {
    "duration": 2891,
    "start_time": "2022-06-14T16:47:18.847Z"
   },
   {
    "duration": 158,
    "start_time": "2022-06-14T16:47:42.615Z"
   },
   {
    "duration": 2157,
    "start_time": "2022-06-14T16:47:58.365Z"
   },
   {
    "duration": 2828,
    "start_time": "2022-06-14T16:48:28.497Z"
   },
   {
    "duration": 2788,
    "start_time": "2022-06-14T16:49:32.314Z"
   },
   {
    "duration": 173,
    "start_time": "2022-06-14T16:51:01.089Z"
   },
   {
    "duration": 2768,
    "start_time": "2022-06-14T16:51:32.865Z"
   },
   {
    "duration": 2755,
    "start_time": "2022-06-14T16:51:42.231Z"
   },
   {
    "duration": 9,
    "start_time": "2022-06-14T17:15:49.049Z"
   },
   {
    "duration": 192,
    "start_time": "2022-06-14T17:16:11.841Z"
   },
   {
    "duration": 18,
    "start_time": "2022-06-14T17:16:16.333Z"
   },
   {
    "duration": 6,
    "start_time": "2022-06-14T17:16:29.341Z"
   },
   {
    "duration": 523,
    "start_time": "2022-06-14T17:16:29.903Z"
   },
   {
    "duration": 27,
    "start_time": "2022-06-14T17:21:07.366Z"
   },
   {
    "duration": 18,
    "start_time": "2022-06-14T17:26:35.579Z"
   },
   {
    "duration": 339,
    "start_time": "2022-06-14T17:27:20.415Z"
   },
   {
    "duration": 49,
    "start_time": "2022-06-14T17:35:03.677Z"
   },
   {
    "duration": 7,
    "start_time": "2022-06-14T17:36:06.415Z"
   },
   {
    "duration": 4,
    "start_time": "2022-06-14T17:37:48.778Z"
   },
   {
    "duration": 12,
    "start_time": "2022-06-14T17:39:17.899Z"
   },
   {
    "duration": 8,
    "start_time": "2022-06-14T17:39:30.692Z"
   },
   {
    "duration": 107750,
    "start_time": "2022-06-14T17:39:31.240Z"
   },
   {
    "duration": 99425,
    "start_time": "2022-06-14T17:48:34.703Z"
   },
   {
    "duration": 1208,
    "start_time": "2022-06-14T19:25:12.918Z"
   },
   {
    "duration": 14,
    "start_time": "2022-06-14T19:26:18.938Z"
   },
   {
    "duration": 13,
    "start_time": "2022-06-14T19:43:02.010Z"
   },
   {
    "duration": 3864,
    "start_time": "2022-06-14T19:43:16.634Z"
   },
   {
    "duration": 3710,
    "start_time": "2022-06-14T19:44:00.018Z"
   },
   {
    "duration": 3683,
    "start_time": "2022-06-14T19:45:08.734Z"
   },
   {
    "duration": 3587,
    "start_time": "2022-06-14T19:45:31.091Z"
   },
   {
    "duration": 3505,
    "start_time": "2022-06-14T19:46:39.213Z"
   },
   {
    "duration": 3617,
    "start_time": "2022-06-14T19:46:57.298Z"
   },
   {
    "duration": 13,
    "start_time": "2022-06-14T19:48:27.463Z"
   },
   {
    "duration": 3581,
    "start_time": "2022-06-14T19:48:33.013Z"
   },
   {
    "duration": 3711,
    "start_time": "2022-06-14T19:49:10.236Z"
   },
   {
    "duration": 186,
    "start_time": "2022-06-14T19:49:52.792Z"
   },
   {
    "duration": 3786,
    "start_time": "2022-06-14T19:50:03.829Z"
   },
   {
    "duration": 2784,
    "start_time": "2022-06-14T19:51:32.934Z"
   },
   {
    "duration": 2858,
    "start_time": "2022-06-14T19:51:47.210Z"
   },
   {
    "duration": 2829,
    "start_time": "2022-06-14T19:52:00.527Z"
   },
   {
    "duration": 19,
    "start_time": "2022-06-14T19:53:29.379Z"
   },
   {
    "duration": 15,
    "start_time": "2022-06-14T19:53:35.512Z"
   },
   {
    "duration": 63,
    "start_time": "2022-06-15T11:26:54.702Z"
   },
   {
    "duration": 3240,
    "start_time": "2022-06-15T11:26:58.284Z"
   },
   {
    "duration": 93,
    "start_time": "2022-06-15T11:27:01.527Z"
   },
   {
    "duration": 35,
    "start_time": "2022-06-15T11:27:01.622Z"
   },
   {
    "duration": 4,
    "start_time": "2022-06-15T11:27:01.659Z"
   },
   {
    "duration": 23,
    "start_time": "2022-06-15T11:27:01.666Z"
   },
   {
    "duration": 80,
    "start_time": "2022-06-15T11:27:01.690Z"
   },
   {
    "duration": 33,
    "start_time": "2022-06-15T11:27:01.772Z"
   },
   {
    "duration": 67,
    "start_time": "2022-06-15T11:27:01.807Z"
   },
   {
    "duration": 15,
    "start_time": "2022-06-15T11:27:01.876Z"
   },
   {
    "duration": 45,
    "start_time": "2022-06-15T11:27:01.893Z"
   },
   {
    "duration": 3783,
    "start_time": "2022-06-15T11:27:01.942Z"
   },
   {
    "duration": 1601,
    "start_time": "2022-06-15T11:27:05.737Z"
   },
   {
    "duration": 8,
    "start_time": "2022-06-15T11:27:07.341Z"
   },
   {
    "duration": 2881,
    "start_time": "2022-06-15T11:27:07.352Z"
   },
   {
    "duration": 497,
    "start_time": "2022-06-15T11:27:10.235Z"
   },
   {
    "duration": 8,
    "start_time": "2022-06-15T11:27:10.734Z"
   },
   {
    "duration": 123860,
    "start_time": "2022-06-15T11:27:10.743Z"
   },
   {
    "duration": 1434,
    "start_time": "2022-06-15T11:29:14.606Z"
   },
   {
    "duration": 106,
    "start_time": "2022-06-15T11:29:16.042Z"
   },
   {
    "duration": 121,
    "start_time": "2022-06-15T11:29:16.150Z"
   },
   {
    "duration": 15,
    "start_time": "2022-06-15T11:29:35.973Z"
   },
   {
    "duration": 43,
    "start_time": "2022-06-15T11:54:07.720Z"
   },
   {
    "duration": 0,
    "start_time": "2022-06-15T11:54:07.769Z"
   },
   {
    "duration": 0,
    "start_time": "2022-06-15T11:54:07.771Z"
   },
   {
    "duration": 1827,
    "start_time": "2022-06-15T11:59:01.702Z"
   },
   {
    "duration": 108,
    "start_time": "2022-06-15T11:59:03.531Z"
   },
   {
    "duration": 51,
    "start_time": "2022-06-15T12:11:30.705Z"
   },
   {
    "duration": 91,
    "start_time": "2022-06-15T12:11:30.758Z"
   },
   {
    "duration": 21,
    "start_time": "2022-06-15T12:11:30.851Z"
   },
   {
    "duration": 26,
    "start_time": "2022-06-15T12:11:30.876Z"
   },
   {
    "duration": 32,
    "start_time": "2022-06-15T12:11:30.904Z"
   },
   {
    "duration": 48,
    "start_time": "2022-06-15T12:11:30.938Z"
   },
   {
    "duration": 42,
    "start_time": "2022-06-15T12:11:30.988Z"
   },
   {
    "duration": 83,
    "start_time": "2022-06-15T12:11:31.032Z"
   },
   {
    "duration": 20,
    "start_time": "2022-06-15T12:11:31.117Z"
   },
   {
    "duration": 58,
    "start_time": "2022-06-15T12:11:31.140Z"
   },
   {
    "duration": 3496,
    "start_time": "2022-06-15T12:11:31.200Z"
   },
   {
    "duration": 1585,
    "start_time": "2022-06-15T12:11:34.697Z"
   },
   {
    "duration": 9,
    "start_time": "2022-06-15T12:11:36.284Z"
   },
   {
    "duration": 1341,
    "start_time": "2022-06-15T12:11:36.295Z"
   },
   {
    "duration": 504,
    "start_time": "2022-06-15T12:11:37.637Z"
   },
   {
    "duration": 9,
    "start_time": "2022-06-15T12:11:38.143Z"
   },
   {
    "duration": 129906,
    "start_time": "2022-06-15T12:11:38.153Z"
   },
   {
    "duration": 1371,
    "start_time": "2022-06-15T12:13:48.061Z"
   },
   {
    "duration": 17,
    "start_time": "2022-06-15T12:13:49.436Z"
   },
   {
    "duration": 2,
    "start_time": "2022-06-15T12:13:49.455Z"
   },
   {
    "duration": 18,
    "start_time": "2022-06-15T12:13:49.459Z"
   },
   {
    "duration": 45,
    "start_time": "2022-06-15T12:14:43.398Z"
   },
   {
    "duration": 10,
    "start_time": "2022-06-15T12:14:56.523Z"
   },
   {
    "duration": 10,
    "start_time": "2022-06-15T12:15:15.487Z"
   },
   {
    "duration": 5,
    "start_time": "2022-06-15T12:15:51.199Z"
   },
   {
    "duration": 7,
    "start_time": "2022-06-15T12:16:03.682Z"
   },
   {
    "duration": 5,
    "start_time": "2022-06-15T12:16:33.262Z"
   },
   {
    "duration": 26,
    "start_time": "2022-06-15T12:16:43.429Z"
   },
   {
    "duration": 24,
    "start_time": "2022-06-15T12:16:54.668Z"
   },
   {
    "duration": 13,
    "start_time": "2022-06-15T12:17:18.113Z"
   },
   {
    "duration": 9,
    "start_time": "2022-06-15T12:17:41.245Z"
   },
   {
    "duration": 10,
    "start_time": "2022-06-15T12:17:49.197Z"
   },
   {
    "duration": 10,
    "start_time": "2022-06-15T12:17:54.912Z"
   },
   {
    "duration": 10,
    "start_time": "2022-06-15T12:19:32.906Z"
   },
   {
    "duration": 21,
    "start_time": "2022-06-15T12:19:42.393Z"
   },
   {
    "duration": 22,
    "start_time": "2022-06-15T12:21:04.861Z"
   },
   {
    "duration": 12,
    "start_time": "2022-06-15T12:21:13.209Z"
   },
   {
    "duration": 12,
    "start_time": "2022-06-15T12:21:39.213Z"
   },
   {
    "duration": 13,
    "start_time": "2022-06-15T12:21:48.156Z"
   },
   {
    "duration": 489,
    "start_time": "2022-06-15T12:27:14.290Z"
   },
   {
    "duration": 10,
    "start_time": "2022-06-15T12:27:33.806Z"
   },
   {
    "duration": 15,
    "start_time": "2022-06-15T12:28:53.321Z"
   },
   {
    "duration": 113,
    "start_time": "2022-06-15T12:29:07.583Z"
   },
   {
    "duration": 10,
    "start_time": "2022-06-15T12:29:32.192Z"
   },
   {
    "duration": 463,
    "start_time": "2022-06-15T12:30:02.979Z"
   },
   {
    "duration": 13,
    "start_time": "2022-06-15T12:30:30.072Z"
   },
   {
    "duration": 15,
    "start_time": "2022-06-15T12:30:39.543Z"
   },
   {
    "duration": 10,
    "start_time": "2022-06-15T12:31:09.201Z"
   },
   {
    "duration": 9,
    "start_time": "2022-06-15T12:36:46.754Z"
   },
   {
    "duration": 10,
    "start_time": "2022-06-15T12:36:57.384Z"
   },
   {
    "duration": 13,
    "start_time": "2022-06-15T12:39:04.510Z"
   },
   {
    "duration": 7,
    "start_time": "2022-06-15T12:39:26.148Z"
   },
   {
    "duration": 12,
    "start_time": "2022-06-15T12:41:22.018Z"
   },
   {
    "duration": 25,
    "start_time": "2022-06-15T12:43:22.346Z"
   },
   {
    "duration": 11,
    "start_time": "2022-06-15T12:43:29.241Z"
   },
   {
    "duration": 12,
    "start_time": "2022-06-15T12:45:36.396Z"
   },
   {
    "duration": 11,
    "start_time": "2022-06-15T12:49:55.824Z"
   },
   {
    "duration": 16,
    "start_time": "2022-06-15T12:52:35.305Z"
   },
   {
    "duration": 30,
    "start_time": "2022-06-15T12:52:42.308Z"
   },
   {
    "duration": 15,
    "start_time": "2022-06-15T12:52:57.653Z"
   },
   {
    "duration": 18,
    "start_time": "2022-06-15T12:53:13.243Z"
   },
   {
    "duration": 22,
    "start_time": "2022-06-15T12:53:50.393Z"
   },
   {
    "duration": 12,
    "start_time": "2022-06-15T12:53:59.792Z"
   },
   {
    "duration": 23,
    "start_time": "2022-06-15T12:55:21.693Z"
   },
   {
    "duration": 35,
    "start_time": "2022-06-15T12:55:25.925Z"
   },
   {
    "duration": 14,
    "start_time": "2022-06-15T12:55:34.693Z"
   },
   {
    "duration": 35,
    "start_time": "2022-06-15T12:58:44.488Z"
   },
   {
    "duration": 17,
    "start_time": "2022-06-15T12:59:08.636Z"
   },
   {
    "duration": 15,
    "start_time": "2022-06-15T12:59:23.504Z"
   },
   {
    "duration": 20,
    "start_time": "2022-06-15T12:59:55.205Z"
   },
   {
    "duration": 9,
    "start_time": "2022-06-15T13:00:07.356Z"
   },
   {
    "duration": 8,
    "start_time": "2022-06-15T13:00:32.155Z"
   },
   {
    "duration": 19,
    "start_time": "2022-06-15T13:01:07.039Z"
   },
   {
    "duration": 13,
    "start_time": "2022-06-15T13:01:17.099Z"
   },
   {
    "duration": 13,
    "start_time": "2022-06-15T13:01:37.202Z"
   },
   {
    "duration": 14,
    "start_time": "2022-06-15T13:01:50.919Z"
   },
   {
    "duration": 329,
    "start_time": "2022-06-15T13:03:58.754Z"
   },
   {
    "duration": 25,
    "start_time": "2022-06-15T13:04:16.489Z"
   },
   {
    "duration": 14,
    "start_time": "2022-06-15T13:05:30.645Z"
   },
   {
    "duration": 11,
    "start_time": "2022-06-15T13:05:52.251Z"
   },
   {
    "duration": 20,
    "start_time": "2022-06-15T13:06:06.750Z"
   },
   {
    "duration": 12,
    "start_time": "2022-06-15T13:06:13.483Z"
   },
   {
    "duration": 13,
    "start_time": "2022-06-15T13:06:38.675Z"
   },
   {
    "duration": 23,
    "start_time": "2022-06-15T13:06:50.921Z"
   },
   {
    "duration": 11,
    "start_time": "2022-06-15T13:07:03.416Z"
   },
   {
    "duration": 26,
    "start_time": "2022-06-15T13:07:44.550Z"
   },
   {
    "duration": 12,
    "start_time": "2022-06-15T13:07:48.590Z"
   },
   {
    "duration": 26,
    "start_time": "2022-06-15T13:08:03.303Z"
   },
   {
    "duration": 13,
    "start_time": "2022-06-15T13:08:15.821Z"
   },
   {
    "duration": 16,
    "start_time": "2022-06-15T13:08:24.449Z"
   },
   {
    "duration": 10,
    "start_time": "2022-06-15T13:08:54.404Z"
   },
   {
    "duration": 10,
    "start_time": "2022-06-15T13:10:20.313Z"
   },
   {
    "duration": 7,
    "start_time": "2022-06-15T13:10:32.165Z"
   },
   {
    "duration": 481,
    "start_time": "2022-06-15T13:10:49.582Z"
   },
   {
    "duration": 451,
    "start_time": "2022-06-15T13:14:51.993Z"
   },
   {
    "duration": 437,
    "start_time": "2022-06-15T13:15:04.656Z"
   },
   {
    "duration": 14,
    "start_time": "2022-06-15T13:15:26.247Z"
   },
   {
    "duration": 12,
    "start_time": "2022-06-15T13:16:29.351Z"
   },
   {
    "duration": 170,
    "start_time": "2022-06-15T13:17:05.110Z"
   },
   {
    "duration": 455,
    "start_time": "2022-06-15T13:17:44.263Z"
   },
   {
    "duration": 494,
    "start_time": "2022-06-15T13:18:37.355Z"
   },
   {
    "duration": 362,
    "start_time": "2022-06-15T13:19:10.482Z"
   },
   {
    "duration": 372,
    "start_time": "2022-06-15T13:19:28.282Z"
   },
   {
    "duration": 19,
    "start_time": "2022-06-15T13:19:41.660Z"
   },
   {
    "duration": 11,
    "start_time": "2022-06-15T13:20:20.729Z"
   },
   {
    "duration": 19,
    "start_time": "2022-06-15T13:20:27.194Z"
   },
   {
    "duration": 14,
    "start_time": "2022-06-15T13:20:40.766Z"
   },
   {
    "duration": 15,
    "start_time": "2022-06-15T13:21:01.338Z"
   },
   {
    "duration": 14,
    "start_time": "2022-06-15T13:21:08.887Z"
   },
   {
    "duration": 15,
    "start_time": "2022-06-15T13:21:14.791Z"
   },
   {
    "duration": 27,
    "start_time": "2022-06-15T13:21:54.381Z"
   },
   {
    "duration": 23,
    "start_time": "2022-06-15T13:22:29.611Z"
   },
   {
    "duration": 23,
    "start_time": "2022-06-15T13:22:46.494Z"
   },
   {
    "duration": 18,
    "start_time": "2022-06-15T13:23:08.137Z"
   },
   {
    "duration": 30,
    "start_time": "2022-06-15T13:23:39.211Z"
   },
   {
    "duration": 21,
    "start_time": "2022-06-15T13:23:46.459Z"
   },
   {
    "duration": 20,
    "start_time": "2022-06-15T13:26:16.223Z"
   },
   {
    "duration": 47,
    "start_time": "2022-06-15T17:54:53.505Z"
   },
   {
    "duration": 2030,
    "start_time": "2022-06-15T17:54:57.959Z"
   },
   {
    "duration": 123,
    "start_time": "2022-06-15T17:54:59.991Z"
   },
   {
    "duration": 69,
    "start_time": "2022-06-15T17:55:00.116Z"
   },
   {
    "duration": 4,
    "start_time": "2022-06-15T17:55:00.187Z"
   },
   {
    "duration": 25,
    "start_time": "2022-06-15T17:55:00.193Z"
   },
   {
    "duration": 59,
    "start_time": "2022-06-15T17:55:00.220Z"
   },
   {
    "duration": 13,
    "start_time": "2022-06-15T17:55:00.281Z"
   },
   {
    "duration": 109,
    "start_time": "2022-06-15T17:55:00.296Z"
   },
   {
    "duration": 16,
    "start_time": "2022-06-15T17:55:00.406Z"
   },
   {
    "duration": 64,
    "start_time": "2022-06-15T17:55:00.423Z"
   },
   {
    "duration": 3554,
    "start_time": "2022-06-15T17:55:00.489Z"
   },
   {
    "duration": 1436,
    "start_time": "2022-06-15T17:55:04.045Z"
   },
   {
    "duration": 6,
    "start_time": "2022-06-15T17:55:05.483Z"
   },
   {
    "duration": 494,
    "start_time": "2022-06-15T17:55:05.492Z"
   },
   {
    "duration": 539,
    "start_time": "2022-06-15T17:55:05.987Z"
   },
   {
    "duration": 8,
    "start_time": "2022-06-15T17:55:06.527Z"
   },
   {
    "duration": 102884,
    "start_time": "2022-06-15T17:55:06.536Z"
   },
   {
    "duration": 1256,
    "start_time": "2022-06-15T17:56:49.422Z"
   },
   {
    "duration": 103,
    "start_time": "2022-06-15T17:56:50.680Z"
   },
   {
    "duration": 3,
    "start_time": "2022-06-15T17:56:50.787Z"
   },
   {
    "duration": 30,
    "start_time": "2022-06-15T17:56:50.792Z"
   },
   {
    "duration": 2711,
    "start_time": "2022-06-15T18:08:59.098Z"
   },
   {
    "duration": 2975,
    "start_time": "2022-06-15T18:13:46.822Z"
   },
   {
    "duration": 5,
    "start_time": "2022-06-15T18:54:39.770Z"
   },
   {
    "duration": 14,
    "start_time": "2022-06-15T18:55:02.352Z"
   },
   {
    "duration": 16,
    "start_time": "2022-06-15T18:55:16.572Z"
   },
   {
    "duration": 12,
    "start_time": "2022-06-15T18:55:18.735Z"
   },
   {
    "duration": 4,
    "start_time": "2022-06-15T18:55:22.122Z"
   },
   {
    "duration": 35,
    "start_time": "2022-06-15T18:55:22.127Z"
   },
   {
    "duration": 16,
    "start_time": "2022-06-15T18:55:22.163Z"
   },
   {
    "duration": 3,
    "start_time": "2022-06-15T18:55:22.180Z"
   },
   {
    "duration": 13,
    "start_time": "2022-06-15T18:55:22.184Z"
   },
   {
    "duration": 3,
    "start_time": "2022-06-15T18:55:22.199Z"
   },
   {
    "duration": 12,
    "start_time": "2022-06-15T18:55:22.205Z"
   },
   {
    "duration": 68,
    "start_time": "2022-06-15T18:55:22.219Z"
   },
   {
    "duration": 17,
    "start_time": "2022-06-15T18:55:22.289Z"
   },
   {
    "duration": 9,
    "start_time": "2022-06-15T18:55:22.307Z"
   },
   {
    "duration": 3095,
    "start_time": "2022-06-15T18:55:22.317Z"
   },
   {
    "duration": 1278,
    "start_time": "2022-06-15T18:55:25.413Z"
   },
   {
    "duration": 5,
    "start_time": "2022-06-15T18:55:26.693Z"
   },
   {
    "duration": 680,
    "start_time": "2022-06-15T18:55:26.701Z"
   },
   {
    "duration": 6,
    "start_time": "2022-06-15T18:55:27.383Z"
   },
   {
    "duration": 546,
    "start_time": "2022-06-15T18:55:27.391Z"
   },
   {
    "duration": 7,
    "start_time": "2022-06-15T18:55:27.938Z"
   },
   {
    "duration": 0,
    "start_time": "2022-06-15T18:57:09.140Z"
   },
   {
    "duration": 0,
    "start_time": "2022-06-15T18:57:09.141Z"
   },
   {
    "duration": 0,
    "start_time": "2022-06-15T18:57:09.142Z"
   },
   {
    "duration": 0,
    "start_time": "2022-06-15T18:57:09.142Z"
   },
   {
    "duration": 0,
    "start_time": "2022-06-15T18:57:09.143Z"
   },
   {
    "duration": 0,
    "start_time": "2022-06-15T18:57:09.144Z"
   },
   {
    "duration": 0,
    "start_time": "2022-06-15T18:57:09.145Z"
   },
   {
    "duration": 0,
    "start_time": "2022-06-15T18:57:09.146Z"
   },
   {
    "duration": 0,
    "start_time": "2022-06-15T18:57:09.147Z"
   },
   {
    "duration": 0,
    "start_time": "2022-06-15T18:57:09.178Z"
   },
   {
    "duration": 0,
    "start_time": "2022-06-15T18:57:09.179Z"
   },
   {
    "duration": 0,
    "start_time": "2022-06-15T18:57:09.180Z"
   },
   {
    "duration": 0,
    "start_time": "2022-06-15T18:57:09.181Z"
   },
   {
    "duration": 0,
    "start_time": "2022-06-15T18:57:09.182Z"
   },
   {
    "duration": 0,
    "start_time": "2022-06-15T18:57:09.183Z"
   },
   {
    "duration": 0,
    "start_time": "2022-06-15T18:57:09.184Z"
   },
   {
    "duration": 0,
    "start_time": "2022-06-15T18:57:09.184Z"
   },
   {
    "duration": 0,
    "start_time": "2022-06-15T18:57:09.185Z"
   },
   {
    "duration": 0,
    "start_time": "2022-06-15T18:57:09.186Z"
   },
   {
    "duration": 0,
    "start_time": "2022-06-15T18:57:09.187Z"
   },
   {
    "duration": 0,
    "start_time": "2022-06-15T18:57:09.188Z"
   },
   {
    "duration": 0,
    "start_time": "2022-06-15T18:57:09.189Z"
   },
   {
    "duration": 0,
    "start_time": "2022-06-15T18:57:09.190Z"
   },
   {
    "duration": 0,
    "start_time": "2022-06-15T18:57:09.191Z"
   },
   {
    "duration": 5,
    "start_time": "2022-06-15T18:59:00.323Z"
   },
   {
    "duration": 77,
    "start_time": "2022-06-15T18:59:00.330Z"
   },
   {
    "duration": 25,
    "start_time": "2022-06-15T18:59:00.409Z"
   },
   {
    "duration": 8,
    "start_time": "2022-06-15T18:59:00.436Z"
   },
   {
    "duration": 36,
    "start_time": "2022-06-15T18:59:00.450Z"
   },
   {
    "duration": 5,
    "start_time": "2022-06-15T18:59:00.487Z"
   },
   {
    "duration": 15,
    "start_time": "2022-06-15T18:59:00.493Z"
   },
   {
    "duration": 84,
    "start_time": "2022-06-15T18:59:00.510Z"
   },
   {
    "duration": 13,
    "start_time": "2022-06-15T18:59:00.596Z"
   },
   {
    "duration": 23,
    "start_time": "2022-06-15T18:59:00.611Z"
   },
   {
    "duration": 4132,
    "start_time": "2022-06-15T18:59:00.636Z"
   },
   {
    "duration": 1479,
    "start_time": "2022-06-15T18:59:04.769Z"
   },
   {
    "duration": 7,
    "start_time": "2022-06-15T18:59:06.249Z"
   },
   {
    "duration": 621,
    "start_time": "2022-06-15T18:59:06.260Z"
   },
   {
    "duration": 92,
    "start_time": "2022-06-15T18:59:06.886Z"
   },
   {
    "duration": 9,
    "start_time": "2022-06-15T18:59:06.980Z"
   },
   {
    "duration": 694,
    "start_time": "2022-06-15T18:59:06.991Z"
   },
   {
    "duration": 609,
    "start_time": "2022-06-15T18:59:07.687Z"
   },
   {
    "duration": 11,
    "start_time": "2022-06-15T18:59:08.298Z"
   },
   {
    "duration": 100769,
    "start_time": "2022-06-15T18:59:08.311Z"
   },
   {
    "duration": 705,
    "start_time": "2022-06-15T19:00:49.081Z"
   },
   {
    "duration": 12,
    "start_time": "2022-06-15T19:00:49.878Z"
   },
   {
    "duration": 5,
    "start_time": "2022-06-15T19:00:49.891Z"
   },
   {
    "duration": 18,
    "start_time": "2022-06-15T19:00:49.898Z"
   },
   {
    "duration": 1324,
    "start_time": "2022-06-15T19:20:49.141Z"
   },
   {
    "duration": 31,
    "start_time": "2022-06-15T19:20:50.466Z"
   },
   {
    "duration": 21,
    "start_time": "2022-06-15T19:20:50.499Z"
   },
   {
    "duration": 3,
    "start_time": "2022-06-15T19:20:50.521Z"
   },
   {
    "duration": 16,
    "start_time": "2022-06-15T19:20:50.526Z"
   },
   {
    "duration": 4,
    "start_time": "2022-06-15T19:20:50.543Z"
   },
   {
    "duration": 12,
    "start_time": "2022-06-15T19:20:50.548Z"
   },
   {
    "duration": 37,
    "start_time": "2022-06-15T19:20:50.561Z"
   },
   {
    "duration": 12,
    "start_time": "2022-06-15T19:20:50.600Z"
   },
   {
    "duration": 11,
    "start_time": "2022-06-15T19:20:50.614Z"
   },
   {
    "duration": 2937,
    "start_time": "2022-06-15T19:20:50.627Z"
   },
   {
    "duration": 1294,
    "start_time": "2022-06-15T19:20:53.566Z"
   },
   {
    "duration": 6,
    "start_time": "2022-06-15T19:20:54.862Z"
   },
   {
    "duration": 609,
    "start_time": "2022-06-15T19:20:54.870Z"
   },
   {
    "duration": 439,
    "start_time": "2022-06-15T19:20:55.481Z"
   },
   {
    "duration": 8,
    "start_time": "2022-06-15T19:20:55.922Z"
   },
   {
    "duration": 102661,
    "start_time": "2022-06-15T19:20:55.931Z"
   },
   {
    "duration": 1185,
    "start_time": "2022-06-15T19:22:38.593Z"
   },
   {
    "duration": 6,
    "start_time": "2022-06-15T19:22:39.780Z"
   },
   {
    "duration": 6,
    "start_time": "2022-06-15T19:22:39.879Z"
   },
   {
    "duration": 18,
    "start_time": "2022-06-15T19:22:39.886Z"
   },
   {
    "duration": 15,
    "start_time": "2022-06-15T19:26:55.989Z"
   },
   {
    "duration": 1645,
    "start_time": "2022-06-16T10:42:43.043Z"
   },
   {
    "duration": 129,
    "start_time": "2022-06-16T10:42:44.691Z"
   },
   {
    "duration": 38,
    "start_time": "2022-06-16T10:42:44.831Z"
   },
   {
    "duration": 4,
    "start_time": "2022-06-16T10:42:44.871Z"
   },
   {
    "duration": 28,
    "start_time": "2022-06-16T10:42:44.879Z"
   },
   {
    "duration": 5,
    "start_time": "2022-06-16T10:42:44.910Z"
   },
   {
    "duration": 18,
    "start_time": "2022-06-16T10:42:44.918Z"
   },
   {
    "duration": 51,
    "start_time": "2022-06-16T10:42:44.938Z"
   },
   {
    "duration": 15,
    "start_time": "2022-06-16T10:42:44.991Z"
   },
   {
    "duration": 11,
    "start_time": "2022-06-16T10:42:45.007Z"
   },
   {
    "duration": 3594,
    "start_time": "2022-06-16T10:42:45.019Z"
   },
   {
    "duration": 1687,
    "start_time": "2022-06-16T10:42:48.617Z"
   },
   {
    "duration": 4,
    "start_time": "2022-06-16T10:42:50.306Z"
   },
   {
    "duration": 11,
    "start_time": "2022-06-16T10:42:50.313Z"
   },
   {
    "duration": 15,
    "start_time": "2022-06-16T10:42:50.325Z"
   },
   {
    "duration": 2619,
    "start_time": "2022-06-16T10:42:50.341Z"
   },
   {
    "duration": 422,
    "start_time": "2022-06-16T10:42:52.962Z"
   },
   {
    "duration": 8,
    "start_time": "2022-06-16T10:42:53.386Z"
   },
   {
    "duration": 125467,
    "start_time": "2022-06-16T10:42:53.396Z"
   },
   {
    "duration": 993,
    "start_time": "2022-06-16T10:44:58.865Z"
   },
   {
    "duration": 25,
    "start_time": "2022-06-16T10:44:59.860Z"
   },
   {
    "duration": 3,
    "start_time": "2022-06-16T10:44:59.888Z"
   },
   {
    "duration": 25,
    "start_time": "2022-06-16T10:44:59.893Z"
   },
   {
    "duration": 41,
    "start_time": "2022-06-16T10:51:37.482Z"
   },
   {
    "duration": 158,
    "start_time": "2022-06-16T10:51:58.151Z"
   },
   {
    "duration": 23,
    "start_time": "2022-06-16T10:53:58.717Z"
   },
   {
    "duration": 19,
    "start_time": "2022-06-16T10:55:12.676Z"
   },
   {
    "duration": 19,
    "start_time": "2022-06-16T10:55:25.158Z"
   },
   {
    "duration": 4,
    "start_time": "2022-06-16T10:56:00.305Z"
   },
   {
    "duration": 94,
    "start_time": "2022-06-16T10:56:00.311Z"
   },
   {
    "duration": 21,
    "start_time": "2022-06-16T10:56:00.407Z"
   },
   {
    "duration": 4,
    "start_time": "2022-06-16T10:56:00.430Z"
   },
   {
    "duration": 16,
    "start_time": "2022-06-16T10:56:00.436Z"
   },
   {
    "duration": 7,
    "start_time": "2022-06-16T10:56:00.455Z"
   },
   {
    "duration": 41,
    "start_time": "2022-06-16T10:56:00.464Z"
   },
   {
    "duration": 71,
    "start_time": "2022-06-16T10:56:00.508Z"
   },
   {
    "duration": 14,
    "start_time": "2022-06-16T10:56:00.581Z"
   },
   {
    "duration": 9,
    "start_time": "2022-06-16T10:56:00.596Z"
   },
   {
    "duration": 3978,
    "start_time": "2022-06-16T10:56:00.607Z"
   },
   {
    "duration": 1603,
    "start_time": "2022-06-16T10:56:04.587Z"
   },
   {
    "duration": 5,
    "start_time": "2022-06-16T10:56:06.192Z"
   },
   {
    "duration": 22,
    "start_time": "2022-06-16T10:56:06.201Z"
   },
   {
    "duration": 2554,
    "start_time": "2022-06-16T10:56:06.224Z"
   },
   {
    "duration": 495,
    "start_time": "2022-06-16T10:56:08.781Z"
   },
   {
    "duration": 7,
    "start_time": "2022-06-16T10:56:09.280Z"
   },
   {
    "duration": 131748,
    "start_time": "2022-06-16T10:56:09.289Z"
   },
   {
    "duration": 638,
    "start_time": "2022-06-16T10:58:21.040Z"
   },
   {
    "duration": 92,
    "start_time": "2022-06-16T10:58:21.683Z"
   },
   {
    "duration": 7,
    "start_time": "2022-06-16T10:58:21.777Z"
   },
   {
    "duration": 36,
    "start_time": "2022-06-16T10:58:21.786Z"
   },
   {
    "duration": 2157,
    "start_time": "2022-06-16T11:31:29.116Z"
   },
   {
    "duration": 285,
    "start_time": "2022-06-16T11:35:47.450Z"
   },
   {
    "duration": 2050,
    "start_time": "2022-06-16T11:39:09.176Z"
   },
   {
    "duration": 243326,
    "start_time": "2022-06-16T12:02:24.617Z"
   },
   {
    "duration": 46,
    "start_time": "2022-06-17T10:17:12.844Z"
   },
   {
    "duration": 1464,
    "start_time": "2022-06-17T10:17:54.843Z"
   },
   {
    "duration": 214,
    "start_time": "2022-06-17T10:17:59.353Z"
   },
   {
    "duration": 21,
    "start_time": "2022-06-17T10:17:59.569Z"
   },
   {
    "duration": 3,
    "start_time": "2022-06-17T10:18:03.230Z"
   },
   {
    "duration": 7,
    "start_time": "2022-06-17T10:18:03.454Z"
   },
   {
    "duration": 3,
    "start_time": "2022-06-17T10:18:03.634Z"
   },
   {
    "duration": 10,
    "start_time": "2022-06-17T10:18:03.854Z"
   },
   {
    "duration": 36,
    "start_time": "2022-06-17T10:18:04.675Z"
   },
   {
    "duration": 15,
    "start_time": "2022-06-17T10:18:05.325Z"
   },
   {
    "duration": 9,
    "start_time": "2022-06-17T10:18:05.978Z"
   },
   {
    "duration": 2865,
    "start_time": "2022-06-17T10:18:06.189Z"
   },
   {
    "duration": 1329,
    "start_time": "2022-06-17T10:18:09.055Z"
   },
   {
    "duration": 4,
    "start_time": "2022-06-17T10:18:10.386Z"
   },
   {
    "duration": 7,
    "start_time": "2022-06-17T10:18:14.395Z"
   },
   {
    "duration": 437,
    "start_time": "2022-06-17T10:18:15.445Z"
   },
   {
    "duration": 323,
    "start_time": "2022-06-17T10:18:16.676Z"
   },
   {
    "duration": 77,
    "start_time": "2022-06-17T10:18:28.675Z"
   },
   {
    "duration": 15,
    "start_time": "2022-06-17T10:18:50.952Z"
   },
   {
    "duration": 14,
    "start_time": "2022-06-17T10:21:39.091Z"
   },
   {
    "duration": 12,
    "start_time": "2022-06-17T10:21:51.975Z"
   },
   {
    "duration": 7,
    "start_time": "2022-06-17T10:21:56.879Z"
   },
   {
    "duration": 99723,
    "start_time": "2022-06-17T10:21:57.276Z"
   },
   {
    "duration": 877,
    "start_time": "2022-06-17T10:23:37.001Z"
   },
   {
    "duration": 14,
    "start_time": "2022-06-17T10:23:37.881Z"
   },
   {
    "duration": 11,
    "start_time": "2022-06-17T10:24:44.092Z"
   },
   {
    "duration": 15,
    "start_time": "2022-06-17T10:25:00.319Z"
   },
   {
    "duration": 12,
    "start_time": "2022-06-17T10:25:23.199Z"
   },
   {
    "duration": 17,
    "start_time": "2022-06-17T10:26:18.942Z"
   },
   {
    "duration": 17,
    "start_time": "2022-06-17T10:26:24.297Z"
   },
   {
    "duration": 14,
    "start_time": "2022-06-17T10:28:59.612Z"
   },
   {
    "duration": 17,
    "start_time": "2022-06-17T10:30:01.503Z"
   },
   {
    "duration": 171,
    "start_time": "2022-06-17T10:32:12.923Z"
   },
   {
    "duration": 26,
    "start_time": "2022-06-17T10:33:06.027Z"
   },
   {
    "duration": 37,
    "start_time": "2022-06-17T10:33:26.210Z"
   },
   {
    "duration": 146,
    "start_time": "2022-06-17T10:33:39.702Z"
   },
   {
    "duration": 190,
    "start_time": "2022-06-17T10:33:56.296Z"
   },
   {
    "duration": 13,
    "start_time": "2022-06-17T10:34:10.661Z"
   },
   {
    "duration": 178,
    "start_time": "2022-06-17T10:38:17.812Z"
   },
   {
    "duration": 137,
    "start_time": "2022-06-17T10:39:06.086Z"
   },
   {
    "duration": 124,
    "start_time": "2022-06-17T10:39:26.497Z"
   },
   {
    "duration": 182,
    "start_time": "2022-06-17T10:40:51.446Z"
   },
   {
    "duration": 202,
    "start_time": "2022-06-17T10:40:57.856Z"
   },
   {
    "duration": 2250,
    "start_time": "2022-06-17T10:42:25.698Z"
   },
   {
    "duration": 566,
    "start_time": "2022-06-17T10:42:50.491Z"
   },
   {
    "duration": 470,
    "start_time": "2022-06-17T10:43:01.182Z"
   },
   {
    "duration": 1103,
    "start_time": "2022-06-17T10:45:43.541Z"
   },
   {
    "duration": 103,
    "start_time": "2022-06-17T10:46:14.591Z"
   },
   {
    "duration": 59,
    "start_time": "2022-06-17T15:13:40.209Z"
   },
   {
    "duration": 1552,
    "start_time": "2022-06-17T15:13:44.726Z"
   },
   {
    "duration": 66,
    "start_time": "2022-06-17T15:13:46.280Z"
   },
   {
    "duration": 22,
    "start_time": "2022-06-17T15:13:46.348Z"
   },
   {
    "duration": 3,
    "start_time": "2022-06-17T15:13:46.373Z"
   },
   {
    "duration": 21,
    "start_time": "2022-06-17T15:13:46.377Z"
   },
   {
    "duration": 8,
    "start_time": "2022-06-17T15:13:46.399Z"
   },
   {
    "duration": 27,
    "start_time": "2022-06-17T15:13:46.409Z"
   },
   {
    "duration": 53,
    "start_time": "2022-06-17T15:13:46.438Z"
   },
   {
    "duration": 14,
    "start_time": "2022-06-17T15:13:46.493Z"
   },
   {
    "duration": 26,
    "start_time": "2022-06-17T15:13:46.510Z"
   },
   {
    "duration": 3009,
    "start_time": "2022-06-17T15:13:46.537Z"
   },
   {
    "duration": 1476,
    "start_time": "2022-06-17T15:13:49.548Z"
   },
   {
    "duration": 3,
    "start_time": "2022-06-17T15:13:51.026Z"
   },
   {
    "duration": 37,
    "start_time": "2022-06-17T15:13:51.031Z"
   },
   {
    "duration": 798,
    "start_time": "2022-06-17T15:13:51.070Z"
   },
   {
    "duration": 437,
    "start_time": "2022-06-17T15:13:51.870Z"
   },
   {
    "duration": 7,
    "start_time": "2022-06-17T15:13:52.309Z"
   },
   {
    "duration": 108305,
    "start_time": "2022-06-17T15:13:52.317Z"
   },
   {
    "duration": 841,
    "start_time": "2022-06-17T15:15:40.623Z"
   },
   {
    "duration": 103,
    "start_time": "2022-06-17T15:15:41.467Z"
   },
   {
    "duration": 192,
    "start_time": "2022-06-17T15:15:41.572Z"
   },
   {
    "duration": 0,
    "start_time": "2022-06-17T15:15:41.765Z"
   },
   {
    "duration": 233,
    "start_time": "2022-06-17T15:17:07.344Z"
   },
   {
    "duration": 157,
    "start_time": "2022-06-17T15:17:33.078Z"
   },
   {
    "duration": 137,
    "start_time": "2022-06-17T15:19:05.282Z"
   },
   {
    "duration": 125,
    "start_time": "2022-06-17T15:19:47.036Z"
   },
   {
    "duration": 277,
    "start_time": "2022-06-17T15:21:38.314Z"
   },
   {
    "duration": 589,
    "start_time": "2022-06-17T15:22:07.950Z"
   },
   {
    "duration": 2112,
    "start_time": "2022-06-17T15:22:28.722Z"
   },
   {
    "duration": 3021,
    "start_time": "2022-06-17T15:23:54.622Z"
   },
   {
    "duration": 2992,
    "start_time": "2022-06-17T15:24:28.729Z"
   },
   {
    "duration": 3243,
    "start_time": "2022-06-17T15:25:18.318Z"
   },
   {
    "duration": 3269,
    "start_time": "2022-06-17T15:26:18.253Z"
   },
   {
    "duration": 3175,
    "start_time": "2022-06-17T15:26:34.775Z"
   },
   {
    "duration": 3163,
    "start_time": "2022-06-17T15:26:44.180Z"
   },
   {
    "duration": 3040,
    "start_time": "2022-06-17T15:30:32.920Z"
   },
   {
    "duration": 4302,
    "start_time": "2022-06-17T15:40:53.857Z"
   },
   {
    "duration": 1761,
    "start_time": "2022-06-17T17:02:34.440Z"
   },
   {
    "duration": 83,
    "start_time": "2022-06-17T17:02:36.203Z"
   },
   {
    "duration": 65,
    "start_time": "2022-06-17T17:02:36.288Z"
   },
   {
    "duration": 3,
    "start_time": "2022-06-17T17:02:36.356Z"
   },
   {
    "duration": 66,
    "start_time": "2022-06-17T17:02:36.361Z"
   },
   {
    "duration": 3,
    "start_time": "2022-06-17T17:02:36.429Z"
   },
   {
    "duration": 20,
    "start_time": "2022-06-17T17:02:36.434Z"
   },
   {
    "duration": 97,
    "start_time": "2022-06-17T17:02:36.456Z"
   },
   {
    "duration": 72,
    "start_time": "2022-06-17T17:02:36.555Z"
   },
   {
    "duration": 11,
    "start_time": "2022-06-17T17:02:36.631Z"
   },
   {
    "duration": 4614,
    "start_time": "2022-06-17T17:02:36.644Z"
   },
   {
    "duration": 1629,
    "start_time": "2022-06-17T17:02:41.260Z"
   },
   {
    "duration": 4,
    "start_time": "2022-06-17T17:02:42.891Z"
   },
   {
    "duration": 11,
    "start_time": "2022-06-17T17:02:42.896Z"
   },
   {
    "duration": 927,
    "start_time": "2022-06-17T17:02:42.909Z"
   },
   {
    "duration": 395,
    "start_time": "2022-06-17T17:02:43.927Z"
   },
   {
    "duration": 7,
    "start_time": "2022-06-17T17:02:44.326Z"
   },
   {
    "duration": 126047,
    "start_time": "2022-06-17T17:02:44.334Z"
   },
   {
    "duration": 1049,
    "start_time": "2022-06-17T17:04:50.383Z"
   },
   {
    "duration": 17,
    "start_time": "2022-06-17T17:04:51.434Z"
   },
   {
    "duration": 3375,
    "start_time": "2022-06-17T17:04:51.453Z"
   },
   {
    "duration": 18,
    "start_time": "2022-06-17T17:04:54.830Z"
   },
   {
    "duration": 1720,
    "start_time": "2022-06-17T21:05:54.795Z"
   },
   {
    "duration": 76,
    "start_time": "2022-06-17T21:05:56.518Z"
   },
   {
    "duration": 23,
    "start_time": "2022-06-17T21:05:56.596Z"
   },
   {
    "duration": 3,
    "start_time": "2022-06-17T21:05:56.621Z"
   },
   {
    "duration": 11,
    "start_time": "2022-06-17T21:05:56.626Z"
   },
   {
    "duration": 3,
    "start_time": "2022-06-17T21:05:56.639Z"
   },
   {
    "duration": 17,
    "start_time": "2022-06-17T21:05:56.644Z"
   },
   {
    "duration": 39,
    "start_time": "2022-06-17T21:05:56.663Z"
   },
   {
    "duration": 26,
    "start_time": "2022-06-17T21:05:56.704Z"
   },
   {
    "duration": 8,
    "start_time": "2022-06-17T21:05:56.731Z"
   },
   {
    "duration": 3149,
    "start_time": "2022-06-17T21:05:56.742Z"
   },
   {
    "duration": 1574,
    "start_time": "2022-06-17T21:05:59.893Z"
   },
   {
    "duration": 4,
    "start_time": "2022-06-17T21:06:01.469Z"
   },
   {
    "duration": 12,
    "start_time": "2022-06-17T21:06:01.475Z"
   },
   {
    "duration": 939,
    "start_time": "2022-06-17T21:06:01.489Z"
   },
   {
    "duration": 369,
    "start_time": "2022-06-17T21:06:02.430Z"
   },
   {
    "duration": 8,
    "start_time": "2022-06-17T21:06:02.800Z"
   },
   {
    "duration": 110685,
    "start_time": "2022-06-17T21:06:02.809Z"
   },
   {
    "duration": 1237,
    "start_time": "2022-06-17T21:07:53.495Z"
   },
   {
    "duration": 15,
    "start_time": "2022-06-17T21:07:54.734Z"
   },
   {
    "duration": 3003,
    "start_time": "2022-06-17T21:07:54.750Z"
   },
   {
    "duration": 26,
    "start_time": "2022-06-17T21:07:57.755Z"
   },
   {
    "duration": 54,
    "start_time": "2022-06-20T09:42:48.066Z"
   },
   {
    "duration": 1562,
    "start_time": "2022-06-20T09:42:53.196Z"
   },
   {
    "duration": 119,
    "start_time": "2022-06-20T09:42:54.760Z"
   },
   {
    "duration": 21,
    "start_time": "2022-06-20T09:42:54.880Z"
   },
   {
    "duration": 3,
    "start_time": "2022-06-20T09:42:54.903Z"
   },
   {
    "duration": 12,
    "start_time": "2022-06-20T09:42:54.908Z"
   },
   {
    "duration": 3,
    "start_time": "2022-06-20T09:42:54.922Z"
   },
   {
    "duration": 25,
    "start_time": "2022-06-20T09:42:54.927Z"
   },
   {
    "duration": 38,
    "start_time": "2022-06-20T09:42:54.954Z"
   },
   {
    "duration": 12,
    "start_time": "2022-06-20T09:42:54.994Z"
   },
   {
    "duration": 8,
    "start_time": "2022-06-20T09:42:55.007Z"
   },
   {
    "duration": 4248,
    "start_time": "2022-06-20T09:42:55.017Z"
   },
   {
    "duration": 1790,
    "start_time": "2022-06-20T09:42:59.267Z"
   },
   {
    "duration": 4,
    "start_time": "2022-06-20T09:43:01.058Z"
   },
   {
    "duration": 9,
    "start_time": "2022-06-20T09:43:01.066Z"
   },
   {
    "duration": 878,
    "start_time": "2022-06-20T09:43:01.076Z"
   },
   {
    "duration": 443,
    "start_time": "2022-06-20T09:43:01.956Z"
   },
   {
    "duration": 7,
    "start_time": "2022-06-20T09:43:02.400Z"
   },
   {
    "duration": 105950,
    "start_time": "2022-06-20T09:43:02.408Z"
   },
   {
    "duration": 1195,
    "start_time": "2022-06-20T09:44:48.360Z"
   },
   {
    "duration": 13,
    "start_time": "2022-06-20T09:44:49.556Z"
   },
   {
    "duration": 2752,
    "start_time": "2022-06-20T09:44:49.570Z"
   },
   {
    "duration": 16,
    "start_time": "2022-06-20T09:44:52.324Z"
   },
   {
    "duration": 5,
    "start_time": "2022-06-20T09:53:06.467Z"
   },
   {
    "duration": 28,
    "start_time": "2022-06-20T09:53:06.482Z"
   },
   {
    "duration": 15,
    "start_time": "2022-06-20T09:53:06.512Z"
   },
   {
    "duration": 2,
    "start_time": "2022-06-20T09:53:06.529Z"
   },
   {
    "duration": 9,
    "start_time": "2022-06-20T09:53:06.532Z"
   },
   {
    "duration": 3,
    "start_time": "2022-06-20T09:53:06.543Z"
   },
   {
    "duration": 13,
    "start_time": "2022-06-20T09:53:06.547Z"
   },
   {
    "duration": 36,
    "start_time": "2022-06-20T09:53:06.561Z"
   },
   {
    "duration": 10,
    "start_time": "2022-06-20T09:53:06.598Z"
   },
   {
    "duration": 7,
    "start_time": "2022-06-20T09:53:06.609Z"
   },
   {
    "duration": 3101,
    "start_time": "2022-06-20T09:53:06.617Z"
   },
   {
    "duration": 1433,
    "start_time": "2022-06-20T09:53:09.721Z"
   },
   {
    "duration": 4,
    "start_time": "2022-06-20T09:53:11.156Z"
   },
   {
    "duration": 18,
    "start_time": "2022-06-20T09:53:11.162Z"
   },
   {
    "duration": 776,
    "start_time": "2022-06-20T09:53:11.183Z"
   },
   {
    "duration": 428,
    "start_time": "2022-06-20T09:53:11.960Z"
   },
   {
    "duration": 82,
    "start_time": "2022-06-20T09:53:12.389Z"
   },
   {
    "duration": 0,
    "start_time": "2022-06-20T09:53:12.473Z"
   },
   {
    "duration": 0,
    "start_time": "2022-06-20T09:53:12.474Z"
   },
   {
    "duration": 0,
    "start_time": "2022-06-20T09:53:12.475Z"
   },
   {
    "duration": 0,
    "start_time": "2022-06-20T09:53:12.476Z"
   },
   {
    "duration": 0,
    "start_time": "2022-06-20T09:53:12.477Z"
   },
   {
    "duration": 0,
    "start_time": "2022-06-20T09:53:12.478Z"
   },
   {
    "duration": 0,
    "start_time": "2022-06-20T09:53:12.479Z"
   },
   {
    "duration": 4,
    "start_time": "2022-06-20T09:54:09.834Z"
   },
   {
    "duration": 41,
    "start_time": "2022-06-20T09:54:09.841Z"
   },
   {
    "duration": 17,
    "start_time": "2022-06-20T09:54:09.883Z"
   },
   {
    "duration": 6,
    "start_time": "2022-06-20T09:54:09.901Z"
   },
   {
    "duration": 9,
    "start_time": "2022-06-20T09:54:09.908Z"
   },
   {
    "duration": 3,
    "start_time": "2022-06-20T09:54:09.918Z"
   },
   {
    "duration": 13,
    "start_time": "2022-06-20T09:54:09.923Z"
   },
   {
    "duration": 48,
    "start_time": "2022-06-20T09:54:09.938Z"
   },
   {
    "duration": 13,
    "start_time": "2022-06-20T09:54:09.988Z"
   },
   {
    "duration": 7,
    "start_time": "2022-06-20T09:54:10.003Z"
   },
   {
    "duration": 4262,
    "start_time": "2022-06-20T09:54:10.011Z"
   },
   {
    "duration": 1432,
    "start_time": "2022-06-20T09:54:14.274Z"
   },
   {
    "duration": 4,
    "start_time": "2022-06-20T09:54:15.707Z"
   },
   {
    "duration": 7,
    "start_time": "2022-06-20T09:54:15.713Z"
   },
   {
    "duration": 396,
    "start_time": "2022-06-20T09:54:15.721Z"
   },
   {
    "duration": 12,
    "start_time": "2022-06-20T09:54:16.118Z"
   },
   {
    "duration": 0,
    "start_time": "2022-06-20T09:54:16.131Z"
   },
   {
    "duration": 0,
    "start_time": "2022-06-20T09:54:16.132Z"
   },
   {
    "duration": 0,
    "start_time": "2022-06-20T09:54:16.133Z"
   },
   {
    "duration": 0,
    "start_time": "2022-06-20T09:54:16.134Z"
   },
   {
    "duration": 0,
    "start_time": "2022-06-20T09:54:16.135Z"
   },
   {
    "duration": 0,
    "start_time": "2022-06-20T09:54:16.154Z"
   },
   {
    "duration": 0,
    "start_time": "2022-06-20T09:54:16.155Z"
   },
   {
    "duration": 19,
    "start_time": "2022-06-20T09:54:32.373Z"
   },
   {
    "duration": 1440,
    "start_time": "2022-06-20T09:54:43.254Z"
   },
   {
    "duration": 32,
    "start_time": "2022-06-20T09:54:44.696Z"
   },
   {
    "duration": 24,
    "start_time": "2022-06-20T09:54:44.729Z"
   },
   {
    "duration": 3,
    "start_time": "2022-06-20T09:54:44.754Z"
   },
   {
    "duration": 9,
    "start_time": "2022-06-20T09:54:44.760Z"
   },
   {
    "duration": 5,
    "start_time": "2022-06-20T09:54:44.770Z"
   },
   {
    "duration": 15,
    "start_time": "2022-06-20T09:54:44.777Z"
   },
   {
    "duration": 61,
    "start_time": "2022-06-20T09:54:44.794Z"
   },
   {
    "duration": 14,
    "start_time": "2022-06-20T09:54:44.856Z"
   },
   {
    "duration": 9,
    "start_time": "2022-06-20T09:54:44.872Z"
   },
   {
    "duration": 4117,
    "start_time": "2022-06-20T09:54:44.883Z"
   },
   {
    "duration": 1631,
    "start_time": "2022-06-20T09:54:49.002Z"
   },
   {
    "duration": 5,
    "start_time": "2022-06-20T09:54:50.635Z"
   },
   {
    "duration": 13,
    "start_time": "2022-06-20T09:54:50.643Z"
   },
   {
    "duration": 17,
    "start_time": "2022-06-20T09:54:50.658Z"
   },
   {
    "duration": 549,
    "start_time": "2022-06-20T09:54:50.677Z"
   },
   {
    "duration": 149,
    "start_time": "2022-06-20T09:54:51.228Z"
   },
   {
    "duration": 0,
    "start_time": "2022-06-20T09:54:51.379Z"
   },
   {
    "duration": 0,
    "start_time": "2022-06-20T09:54:51.380Z"
   },
   {
    "duration": 0,
    "start_time": "2022-06-20T09:54:51.381Z"
   },
   {
    "duration": 0,
    "start_time": "2022-06-20T09:54:51.383Z"
   },
   {
    "duration": 0,
    "start_time": "2022-06-20T09:54:51.384Z"
   },
   {
    "duration": 0,
    "start_time": "2022-06-20T09:54:51.385Z"
   },
   {
    "duration": 0,
    "start_time": "2022-06-20T09:54:51.387Z"
   },
   {
    "duration": 5,
    "start_time": "2022-06-20T09:55:44.794Z"
   },
   {
    "duration": 38,
    "start_time": "2022-06-20T09:55:44.801Z"
   },
   {
    "duration": 20,
    "start_time": "2022-06-20T09:55:44.841Z"
   },
   {
    "duration": 4,
    "start_time": "2022-06-20T09:55:44.862Z"
   },
   {
    "duration": 14,
    "start_time": "2022-06-20T09:55:44.869Z"
   },
   {
    "duration": 4,
    "start_time": "2022-06-20T09:55:44.885Z"
   },
   {
    "duration": 19,
    "start_time": "2022-06-20T09:55:44.891Z"
   },
   {
    "duration": 88,
    "start_time": "2022-06-20T09:55:44.912Z"
   },
   {
    "duration": 14,
    "start_time": "2022-06-20T09:55:45.002Z"
   },
   {
    "duration": 10,
    "start_time": "2022-06-20T09:55:45.018Z"
   },
   {
    "duration": 3104,
    "start_time": "2022-06-20T09:55:45.029Z"
   },
   {
    "duration": 2237,
    "start_time": "2022-06-20T09:55:48.135Z"
   },
   {
    "duration": 8,
    "start_time": "2022-06-20T09:55:50.375Z"
   },
   {
    "duration": 70,
    "start_time": "2022-06-20T09:55:50.386Z"
   },
   {
    "duration": 651,
    "start_time": "2022-06-20T09:55:50.457Z"
   },
   {
    "duration": 4,
    "start_time": "2022-06-20T09:55:51.112Z"
   },
   {
    "duration": 8245,
    "start_time": "2022-06-20T09:55:51.118Z"
   },
   {
    "duration": 99,
    "start_time": "2022-06-20T09:55:59.366Z"
   },
   {
    "duration": 109561,
    "start_time": "2022-06-20T09:55:59.467Z"
   },
   {
    "duration": 837,
    "start_time": "2022-06-20T09:57:49.030Z"
   },
   {
    "duration": 96,
    "start_time": "2022-06-20T09:57:49.868Z"
   },
   {
    "duration": 2823,
    "start_time": "2022-06-20T09:57:49.966Z"
   },
   {
    "duration": 16,
    "start_time": "2022-06-20T09:57:52.791Z"
   },
   {
    "duration": 75,
    "start_time": "2022-06-20T10:03:22.982Z"
   },
   {
    "duration": 13,
    "start_time": "2022-06-20T10:04:16.037Z"
   },
   {
    "duration": 4,
    "start_time": "2022-06-20T10:06:09.718Z"
   },
   {
    "duration": 40,
    "start_time": "2022-06-20T10:06:09.725Z"
   },
   {
    "duration": 19,
    "start_time": "2022-06-20T10:06:09.767Z"
   },
   {
    "duration": 2,
    "start_time": "2022-06-20T10:06:09.788Z"
   },
   {
    "duration": 9,
    "start_time": "2022-06-20T10:06:09.792Z"
   },
   {
    "duration": 4,
    "start_time": "2022-06-20T10:06:09.802Z"
   },
   {
    "duration": 10,
    "start_time": "2022-06-20T10:06:09.807Z"
   },
   {
    "duration": 62,
    "start_time": "2022-06-20T10:06:09.819Z"
   },
   {
    "duration": 11,
    "start_time": "2022-06-20T10:06:09.883Z"
   },
   {
    "duration": 7,
    "start_time": "2022-06-20T10:06:09.895Z"
   },
   {
    "duration": 3125,
    "start_time": "2022-06-20T10:06:09.904Z"
   },
   {
    "duration": 1400,
    "start_time": "2022-06-20T10:06:13.030Z"
   },
   {
    "duration": 8,
    "start_time": "2022-06-20T10:06:14.432Z"
   },
   {
    "duration": 364,
    "start_time": "2022-06-20T10:06:14.452Z"
   },
   {
    "duration": 3,
    "start_time": "2022-06-20T10:06:14.818Z"
   },
   {
    "duration": 837,
    "start_time": "2022-06-20T10:06:14.823Z"
   },
   {
    "duration": 93,
    "start_time": "2022-06-20T10:06:15.662Z"
   },
   {
    "duration": 11,
    "start_time": "2022-06-20T10:06:15.757Z"
   },
   {
    "duration": 112300,
    "start_time": "2022-06-20T10:06:15.769Z"
   },
   {
    "duration": 1282,
    "start_time": "2022-06-20T10:08:08.071Z"
   },
   {
    "duration": 13,
    "start_time": "2022-06-20T10:08:09.355Z"
   },
   {
    "duration": 2850,
    "start_time": "2022-06-20T10:08:09.370Z"
   },
   {
    "duration": 31,
    "start_time": "2022-06-20T10:08:12.222Z"
   },
   {
    "duration": 12,
    "start_time": "2022-06-20T10:21:53.972Z"
   },
   {
    "duration": 6,
    "start_time": "2022-06-20T10:24:48.112Z"
   },
   {
    "duration": 38,
    "start_time": "2022-06-20T10:24:48.120Z"
   },
   {
    "duration": 27,
    "start_time": "2022-06-20T10:24:48.161Z"
   },
   {
    "duration": 3,
    "start_time": "2022-06-20T10:24:48.190Z"
   },
   {
    "duration": 27,
    "start_time": "2022-06-20T10:24:48.195Z"
   },
   {
    "duration": 5,
    "start_time": "2022-06-20T10:24:48.224Z"
   },
   {
    "duration": 34,
    "start_time": "2022-06-20T10:24:48.230Z"
   },
   {
    "duration": 67,
    "start_time": "2022-06-20T10:24:48.266Z"
   },
   {
    "duration": 30,
    "start_time": "2022-06-20T10:24:48.335Z"
   },
   {
    "duration": 7,
    "start_time": "2022-06-20T10:24:48.368Z"
   },
   {
    "duration": 3367,
    "start_time": "2022-06-20T10:24:48.376Z"
   },
   {
    "duration": 1430,
    "start_time": "2022-06-20T10:24:51.745Z"
   },
   {
    "duration": 8,
    "start_time": "2022-06-20T10:24:53.177Z"
   },
   {
    "duration": 384,
    "start_time": "2022-06-20T10:24:53.187Z"
   },
   {
    "duration": 4,
    "start_time": "2022-06-20T10:24:53.573Z"
   },
   {
    "duration": 2184,
    "start_time": "2022-06-20T10:24:53.578Z"
   },
   {
    "duration": 5,
    "start_time": "2022-06-20T10:24:55.854Z"
   },
   {
    "duration": 102,
    "start_time": "2022-06-20T10:24:55.861Z"
   },
   {
    "duration": 112526,
    "start_time": "2022-06-20T10:24:55.965Z"
   },
   {
    "duration": 1464,
    "start_time": "2022-06-20T10:26:48.493Z"
   },
   {
    "duration": 21,
    "start_time": "2022-06-20T10:26:49.959Z"
   },
   {
    "duration": 3291,
    "start_time": "2022-06-20T10:26:49.982Z"
   },
   {
    "duration": 18,
    "start_time": "2022-06-20T10:26:53.274Z"
   },
   {
    "duration": 1593,
    "start_time": "2022-06-20T10:45:39.775Z"
   },
   {
    "duration": 724,
    "start_time": "2022-06-20T10:50:46.492Z"
   },
   {
    "duration": 727,
    "start_time": "2022-06-20T10:51:04.305Z"
   },
   {
    "duration": 15,
    "start_time": "2022-06-20T10:51:54.494Z"
   },
   {
    "duration": 1031,
    "start_time": "2022-06-20T10:53:41.353Z"
   },
   {
    "duration": 1606,
    "start_time": "2022-06-20T10:54:15.862Z"
   },
   {
    "duration": 1515,
    "start_time": "2022-06-20T10:54:25.251Z"
   },
   {
    "duration": 1256,
    "start_time": "2022-06-20T10:55:20.671Z"
   },
   {
    "duration": 1126,
    "start_time": "2022-06-20T10:55:48.970Z"
   },
   {
    "duration": 1273,
    "start_time": "2022-06-20T10:56:00.161Z"
   },
   {
    "duration": 1086,
    "start_time": "2022-06-20T10:56:19.348Z"
   },
   {
    "duration": 1307,
    "start_time": "2022-06-20T10:57:44.008Z"
   },
   {
    "duration": 1189,
    "start_time": "2022-06-20T10:58:07.818Z"
   },
   {
    "duration": 1180,
    "start_time": "2022-06-20T10:59:18.149Z"
   },
   {
    "duration": 1279,
    "start_time": "2022-06-20T10:59:31.056Z"
   },
   {
    "duration": 1151,
    "start_time": "2022-06-20T10:59:58.725Z"
   },
   {
    "duration": 1191,
    "start_time": "2022-06-20T11:00:22.196Z"
   },
   {
    "duration": 1184,
    "start_time": "2022-06-20T11:00:43.550Z"
   },
   {
    "duration": 76,
    "start_time": "2022-06-20T11:01:57.556Z"
   },
   {
    "duration": 26,
    "start_time": "2022-06-20T11:02:02.950Z"
   },
   {
    "duration": 1167,
    "start_time": "2022-06-20T11:02:19.365Z"
   },
   {
    "duration": 1082,
    "start_time": "2022-06-20T11:03:01.992Z"
   },
   {
    "duration": 1183,
    "start_time": "2022-06-20T11:03:14.322Z"
   },
   {
    "duration": 1575,
    "start_time": "2022-06-20T11:03:51.766Z"
   },
   {
    "duration": 1096,
    "start_time": "2022-06-20T11:04:04.240Z"
   },
   {
    "duration": 1139,
    "start_time": "2022-06-20T11:10:22.607Z"
   },
   {
    "duration": 4,
    "start_time": "2022-06-20T11:21:10.998Z"
   },
   {
    "duration": 34,
    "start_time": "2022-06-20T11:21:11.004Z"
   },
   {
    "duration": 20,
    "start_time": "2022-06-20T11:21:11.039Z"
   },
   {
    "duration": 2,
    "start_time": "2022-06-20T11:21:11.061Z"
   },
   {
    "duration": 10,
    "start_time": "2022-06-20T11:21:11.065Z"
   },
   {
    "duration": 4,
    "start_time": "2022-06-20T11:21:11.076Z"
   },
   {
    "duration": 16,
    "start_time": "2022-06-20T11:21:11.081Z"
   },
   {
    "duration": 64,
    "start_time": "2022-06-20T11:21:11.099Z"
   },
   {
    "duration": 11,
    "start_time": "2022-06-20T11:21:11.165Z"
   },
   {
    "duration": 7,
    "start_time": "2022-06-20T11:21:11.177Z"
   },
   {
    "duration": 2995,
    "start_time": "2022-06-20T11:21:11.185Z"
   },
   {
    "duration": 1466,
    "start_time": "2022-06-20T11:21:14.181Z"
   },
   {
    "duration": 7,
    "start_time": "2022-06-20T11:21:15.650Z"
   },
   {
    "duration": 395,
    "start_time": "2022-06-20T11:21:15.659Z"
   },
   {
    "duration": 4,
    "start_time": "2022-06-20T11:21:16.056Z"
   },
   {
    "duration": 900,
    "start_time": "2022-06-20T11:21:16.061Z"
   },
   {
    "duration": 92,
    "start_time": "2022-06-20T11:21:16.962Z"
   },
   {
    "duration": 104,
    "start_time": "2022-06-20T11:21:17.056Z"
   },
   {
    "duration": 107242,
    "start_time": "2022-06-20T11:21:17.162Z"
   },
   {
    "duration": 1447,
    "start_time": "2022-06-20T11:23:04.406Z"
   },
   {
    "duration": 12,
    "start_time": "2022-06-20T11:23:05.855Z"
   },
   {
    "duration": 1497,
    "start_time": "2022-06-20T11:23:05.868Z"
   },
   {
    "duration": 1292,
    "start_time": "2022-06-20T11:23:07.366Z"
   },
   {
    "duration": 17,
    "start_time": "2022-06-20T11:23:08.660Z"
   },
   {
    "duration": 1542,
    "start_time": "2022-06-20T11:26:32.664Z"
   },
   {
    "duration": 32,
    "start_time": "2022-06-20T11:26:34.208Z"
   },
   {
    "duration": 20,
    "start_time": "2022-06-20T11:26:34.242Z"
   },
   {
    "duration": 3,
    "start_time": "2022-06-20T11:26:34.263Z"
   },
   {
    "duration": 9,
    "start_time": "2022-06-20T11:26:34.269Z"
   },
   {
    "duration": 3,
    "start_time": "2022-06-20T11:26:34.279Z"
   },
   {
    "duration": 11,
    "start_time": "2022-06-20T11:26:34.284Z"
   },
   {
    "duration": 67,
    "start_time": "2022-06-20T11:26:34.296Z"
   },
   {
    "duration": 11,
    "start_time": "2022-06-20T11:26:34.365Z"
   },
   {
    "duration": 7,
    "start_time": "2022-06-20T11:26:34.378Z"
   },
   {
    "duration": 3105,
    "start_time": "2022-06-20T11:26:34.386Z"
   },
   {
    "duration": 1501,
    "start_time": "2022-06-20T11:26:37.493Z"
   },
   {
    "duration": 7,
    "start_time": "2022-06-20T11:26:38.995Z"
   },
   {
    "duration": 440,
    "start_time": "2022-06-20T11:26:39.005Z"
   },
   {
    "duration": 8,
    "start_time": "2022-06-20T11:26:39.446Z"
   },
   {
    "duration": 3501,
    "start_time": "2022-06-20T11:26:39.455Z"
   },
   {
    "duration": 94,
    "start_time": "2022-06-20T11:26:42.962Z"
   },
   {
    "duration": 14,
    "start_time": "2022-06-20T11:26:43.057Z"
   },
   {
    "duration": 107645,
    "start_time": "2022-06-20T11:26:43.073Z"
   },
   {
    "duration": 1534,
    "start_time": "2022-06-20T11:28:30.719Z"
   },
   {
    "duration": 13,
    "start_time": "2022-06-20T11:28:32.255Z"
   },
   {
    "duration": 1623,
    "start_time": "2022-06-20T11:28:32.270Z"
   },
   {
    "duration": 1060,
    "start_time": "2022-06-20T11:28:33.894Z"
   },
   {
    "duration": 17,
    "start_time": "2022-06-20T11:28:34.955Z"
   },
   {
    "duration": 52,
    "start_time": "2023-02-06T15:33:58.801Z"
   },
   {
    "duration": 1918,
    "start_time": "2023-02-06T15:34:04.529Z"
   },
   {
    "duration": 137,
    "start_time": "2023-02-06T15:34:06.449Z"
   },
   {
    "duration": 21,
    "start_time": "2023-02-06T15:34:06.587Z"
   },
   {
    "duration": 3,
    "start_time": "2023-02-06T15:34:06.610Z"
   },
   {
    "duration": 25,
    "start_time": "2023-02-06T15:34:06.614Z"
   },
   {
    "duration": 4,
    "start_time": "2023-02-06T15:34:06.640Z"
   },
   {
    "duration": 17,
    "start_time": "2023-02-06T15:34:06.646Z"
   },
   {
    "duration": 42,
    "start_time": "2023-02-06T15:34:06.665Z"
   },
   {
    "duration": 95,
    "start_time": "2023-02-06T15:34:06.708Z"
   },
   {
    "duration": 0,
    "start_time": "2023-02-06T15:34:06.805Z"
   },
   {
    "duration": 0,
    "start_time": "2023-02-06T15:34:06.806Z"
   },
   {
    "duration": 0,
    "start_time": "2023-02-06T15:34:06.806Z"
   },
   {
    "duration": 0,
    "start_time": "2023-02-06T15:34:06.807Z"
   },
   {
    "duration": 0,
    "start_time": "2023-02-06T15:34:06.808Z"
   },
   {
    "duration": 0,
    "start_time": "2023-02-06T15:34:06.828Z"
   },
   {
    "duration": 0,
    "start_time": "2023-02-06T15:34:06.829Z"
   },
   {
    "duration": 0,
    "start_time": "2023-02-06T15:34:06.830Z"
   },
   {
    "duration": 0,
    "start_time": "2023-02-06T15:34:06.831Z"
   },
   {
    "duration": 0,
    "start_time": "2023-02-06T15:34:06.832Z"
   },
   {
    "duration": 0,
    "start_time": "2023-02-06T15:34:06.833Z"
   },
   {
    "duration": 0,
    "start_time": "2023-02-06T15:34:06.834Z"
   },
   {
    "duration": 0,
    "start_time": "2023-02-06T15:34:06.835Z"
   },
   {
    "duration": 0,
    "start_time": "2023-02-06T15:34:06.836Z"
   },
   {
    "duration": 0,
    "start_time": "2023-02-06T15:34:06.837Z"
   },
   {
    "duration": 9,
    "start_time": "2023-02-06T15:34:27.112Z"
   },
   {
    "duration": 9,
    "start_time": "2023-02-06T15:34:31.768Z"
   },
   {
    "duration": 14,
    "start_time": "2023-02-06T15:34:38.555Z"
   },
   {
    "duration": 10,
    "start_time": "2023-02-06T15:35:11.536Z"
   },
   {
    "duration": 8,
    "start_time": "2023-02-06T15:40:20.729Z"
   },
   {
    "duration": 2935,
    "start_time": "2023-02-06T15:40:21.247Z"
   },
   {
    "duration": 3533,
    "start_time": "2023-02-06T15:41:45.095Z"
   },
   {
    "duration": 4961,
    "start_time": "2023-02-06T15:42:51.142Z"
   },
   {
    "duration": 5133,
    "start_time": "2023-02-06T15:43:52.527Z"
   },
   {
    "duration": 12,
    "start_time": "2023-02-06T15:45:44.914Z"
   },
   {
    "duration": 5611,
    "start_time": "2023-02-06T15:46:21.888Z"
   },
   {
    "duration": 8102,
    "start_time": "2023-02-06T15:47:54.521Z"
   },
   {
    "duration": 58,
    "start_time": "2023-02-06T15:48:12.815Z"
   },
   {
    "duration": 13,
    "start_time": "2023-02-06T15:48:44.581Z"
   },
   {
    "duration": 5745,
    "start_time": "2023-02-06T15:48:52.014Z"
   },
   {
    "duration": 186,
    "start_time": "2023-02-06T15:48:59.255Z"
   },
   {
    "duration": 6598,
    "start_time": "2023-02-06T15:49:08.398Z"
   },
   {
    "duration": 5948,
    "start_time": "2023-02-06T15:49:28.345Z"
   },
   {
    "duration": 6116,
    "start_time": "2023-02-06T15:49:52.808Z"
   },
   {
    "duration": 1536,
    "start_time": "2023-02-06T15:51:26.598Z"
   },
   {
    "duration": 1564,
    "start_time": "2023-02-06T15:51:42.022Z"
   },
   {
    "duration": 7736,
    "start_time": "2023-02-06T15:51:55.986Z"
   },
   {
    "duration": 5672,
    "start_time": "2023-02-06T15:52:05.858Z"
   },
   {
    "duration": 1507,
    "start_time": "2023-02-06T15:56:15.196Z"
   },
   {
    "duration": 5,
    "start_time": "2023-02-06T16:13:11.969Z"
   },
   {
    "duration": 381,
    "start_time": "2023-02-06T16:18:09.798Z"
   },
   {
    "duration": 5,
    "start_time": "2023-02-06T16:20:02.823Z"
   },
   {
    "duration": 535,
    "start_time": "2023-02-06T16:20:03.295Z"
   },
   {
    "duration": 15,
    "start_time": "2023-02-06T16:48:07.282Z"
   },
   {
    "duration": 4,
    "start_time": "2023-02-06T16:48:10.827Z"
   },
   {
    "duration": 8,
    "start_time": "2023-02-06T16:48:11.255Z"
   },
   {
    "duration": 114519,
    "start_time": "2023-02-06T16:48:12.228Z"
   },
   {
    "duration": 747,
    "start_time": "2023-02-06T16:52:26.792Z"
   },
   {
    "duration": 15,
    "start_time": "2023-02-06T16:52:28.140Z"
   },
   {
    "duration": 14,
    "start_time": "2023-02-06T16:52:42.297Z"
   },
   {
    "duration": 1930,
    "start_time": "2023-02-06T16:53:52.872Z"
   },
   {
    "duration": 1372,
    "start_time": "2023-02-06T16:53:54.805Z"
   },
   {
    "duration": 1712,
    "start_time": "2023-02-06T16:54:22.272Z"
   },
   {
    "duration": 1209,
    "start_time": "2023-02-06T16:54:33.497Z"
   },
   {
    "duration": 24,
    "start_time": "2023-02-06T16:56:54.825Z"
   },
   {
    "duration": 1524,
    "start_time": "2023-02-06T17:07:53.116Z"
   },
   {
    "duration": 35,
    "start_time": "2023-02-06T17:07:54.643Z"
   },
   {
    "duration": 26,
    "start_time": "2023-02-06T17:07:54.679Z"
   },
   {
    "duration": 5,
    "start_time": "2023-02-06T17:07:54.707Z"
   },
   {
    "duration": 20,
    "start_time": "2023-02-06T17:07:54.715Z"
   },
   {
    "duration": 4,
    "start_time": "2023-02-06T17:07:54.738Z"
   },
   {
    "duration": 11,
    "start_time": "2023-02-06T17:07:54.744Z"
   },
   {
    "duration": 40,
    "start_time": "2023-02-06T17:07:54.757Z"
   },
   {
    "duration": 10,
    "start_time": "2023-02-06T17:07:54.827Z"
   },
   {
    "duration": 9,
    "start_time": "2023-02-06T17:07:54.839Z"
   },
   {
    "duration": 6070,
    "start_time": "2023-02-06T17:07:54.850Z"
   },
   {
    "duration": 1420,
    "start_time": "2023-02-06T17:08:00.922Z"
   },
   {
    "duration": 14,
    "start_time": "2023-02-06T17:08:02.344Z"
   },
   {
    "duration": 412,
    "start_time": "2023-02-06T17:08:02.361Z"
   },
   {
    "duration": 5,
    "start_time": "2023-02-06T17:08:02.776Z"
   },
   {
    "duration": 458,
    "start_time": "2023-02-06T17:08:02.782Z"
   },
   {
    "duration": 4,
    "start_time": "2023-02-06T17:08:03.243Z"
   },
   {
    "duration": 17,
    "start_time": "2023-02-06T17:08:03.328Z"
   },
   {
    "duration": 116630,
    "start_time": "2023-02-06T17:08:03.347Z"
   },
   {
    "duration": 1049,
    "start_time": "2023-02-06T17:09:59.979Z"
   },
   {
    "duration": 14,
    "start_time": "2023-02-06T17:10:01.031Z"
   },
   {
    "duration": 1699,
    "start_time": "2023-02-06T17:10:01.047Z"
   },
   {
    "duration": 1269,
    "start_time": "2023-02-06T17:10:02.748Z"
   },
   {
    "duration": 18,
    "start_time": "2023-02-06T17:10:04.018Z"
   }
  ],
  "kernelspec": {
   "display_name": "Python 3 (ipykernel)",
   "language": "python",
   "name": "python3"
  },
  "language_info": {
   "codemirror_mode": {
    "name": "ipython",
    "version": 3
   },
   "file_extension": ".py",
   "mimetype": "text/x-python",
   "name": "python",
   "nbconvert_exporter": "python",
   "pygments_lexer": "ipython3",
   "version": "3.9.5"
  },
  "toc": {
   "base_numbering": 1,
   "nav_menu": {},
   "number_sections": true,
   "sideBar": true,
   "skip_h1_title": true,
   "title_cell": "Table of Contents",
   "title_sidebar": "Contents",
   "toc_cell": false,
   "toc_position": {},
   "toc_section_display": true,
   "toc_window_display": true
  }
 },
 "nbformat": 4,
 "nbformat_minor": 2
}
