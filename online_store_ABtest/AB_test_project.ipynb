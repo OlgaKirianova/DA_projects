{
 "cells": [
  {
   "cell_type": "markdown",
   "metadata": {},
   "source": [
    "# Описание данных \n",
    "\n",
    "**Данные для первой части**\n",
    "\n",
    "\n",
    "*Файл hypothesis.csv*\n",
    "\n",
    "- Hypothesis — краткое описание гипотезы;\n",
    "- Reach — охват пользователей по 10-балльной шкале;\n",
    "- Impact — влияние на пользователей по 10-балльной шкале;\n",
    "- Confidence — уверенность в гипотезе по 10-балльной шкале;\n",
    "- Efforts — затраты ресурсов на проверку гипотезы по 10-балльной шкале. Чем больше значение Efforts, тем дороже проверка гипотезы.\n",
    "\n",
    "**Данные для второй части**\n",
    "\n",
    "\n",
    "*Файл orders.csv*\n",
    "\n",
    "- transactionId — идентификатор заказа;\n",
    "- visitorId — идентификатор пользователя, совершившего заказ;\n",
    "- date — дата, когда был совершён заказ;\n",
    "- revenue — выручка заказа;\n",
    "- group — группа A/B-теста, в которую попал заказ.\n",
    "\n",
    "*Файл visitors.csv*\n",
    "\n",
    "- date — дата;\n",
    "- group — группа A/B-теста;\n",
    "- visitors — количество пользователей в указанную дату в указанной группе A/B-теста\n"
   ]
  },
  {
   "cell_type": "markdown",
   "metadata": {},
   "source": [
    "# Описание проекта \n",
    "\n",
    "Аналитики совместно с отделом маркетинга подготовили список гипотез для увеличения выручки. Необходимо приоритизировать гипотезы, запустить A/B-тест и проанализировать результаты.\n"
   ]
  },
  {
   "cell_type": "markdown",
   "metadata": {},
   "source": [
    "**Часть 1. Приоритизация гипотез.**\n",
    "\n",
    "В файле *hypothesis.csv* 9 гипотез по увеличению выручки интернет-магазина с указанными параметрами `Reach`, `Impact`, `Confidence`, `Effort.`\n",
    "\n",
    "**Задачи**\n",
    "\n",
    "- Применить фреймворк ICE для приоритизации гипотез. Отсортировать их по убыванию приоритета.\n",
    "\n",
    "- Применить фреймворк RICE для приоритизации гипотез. Отсортировать их по убыванию приоритета.\n",
    "\n",
    "- Проанализировать, как изменилась приоритизация гипотез при применении RICE вместо ICE."
   ]
  },
  {
   "cell_type": "markdown",
   "metadata": {},
   "source": [
    "**Часть 2. Анализ A/B-теста.**\n",
    "\n",
    "Был проведен A/B-тест, результаты которого описаны в файлах *orders.csv* и *visitors.csv*\n",
    "\n",
    "**Задачи** \n",
    "\n",
    "Проанализировать A/B-тест:\n",
    "- График кумулятивной выручки по группам.\n",
    "- График кумулятивного среднего чека по группам.\n",
    "- График относительного изменения кумулятивного среднего чека группы B к группе A. \n",
    "- График кумулятивной конверсии по группам. \n",
    "- График относительного изменения кумулятивной конверсии группы B к группе A. \n",
    "- Точечный график количества заказов по пользователям. \n",
    "- Подсчет 95-й и 99-й перцентилей количества заказов на пользователя. Граница для определения аномальных пользователей.\n",
    "- Точечный график стоимостей заказов. \n",
    "- Подсчет 95-й и 99-й перцентилей стоимости заказов. Граница для определения аномальных заказов.\n",
    "- Статистическая значимость различий в конверсии между группами по «сырым» данным. \n",
    "- Статистическая значимость различий в среднем чеке заказа между группами по «сырым» данным. \n",
    "- Статистическая значимость различий в конверсии между группами по «очищенным» данным. \n",
    "- Статистическая значимость различий в среднем чеке заказа между группами по «очищенным» данным. \n",
    "- Принять решение по результатам теста: 1. Остановить тест, зафиксировать победу одной из групп. 2. Остановить тест, зафиксировать отсутствие различий между группами. 3. Продолжить тест.\n"
   ]
  },
  {
   "cell_type": "markdown",
   "metadata": {},
   "source": [
    "## Загрузка данных, импорт библиотек, предобработка"
   ]
  },
  {
   "cell_type": "code",
   "execution_count": 1,
   "metadata": {},
   "outputs": [],
   "source": [
    "import pandas as pd\n",
    "import datetime as dt\n",
    "import numpy as np\n",
    "import matplotlib.pyplot as plt\n",
    "import scipy.stats as stats\n",
    "import pathlib\n",
    "from pathlib import Path\n",
    "import seaborn as sns\n",
    "\n",
    "pd.set_option('display.max_colwidth', None)"
   ]
  },
  {
   "cell_type": "code",
   "execution_count": 2,
   "metadata": {},
   "outputs": [],
   "source": [
    "hypothesis, orders, visitors = (\n",
    "    pd.read_csv('/datasets/hypothesis.csv'),    # гипотезы\n",
    "    pd.read_csv('/datasets/orders.csv'),        # заказы\n",
    "    pd.read_csv('/datasets/visitors.csv'),      # пользователи\n",
    ")"
   ]
  },
  {
   "cell_type": "markdown",
   "metadata": {},
   "source": [
    "### Таблица hypothesis"
   ]
  },
  {
   "cell_type": "code",
   "execution_count": 3,
   "metadata": {
    "scrolled": true
   },
   "outputs": [
    {
     "name": "stdout",
     "output_type": "stream",
     "text": [
      "<class 'pandas.core.frame.DataFrame'>\n",
      "RangeIndex: 9 entries, 0 to 8\n",
      "Data columns (total 5 columns):\n",
      " #   Column      Non-Null Count  Dtype \n",
      "---  ------      --------------  ----- \n",
      " 0   Hypothesis  9 non-null      object\n",
      " 1   Reach       9 non-null      int64 \n",
      " 2   Impact      9 non-null      int64 \n",
      " 3   Confidence  9 non-null      int64 \n",
      " 4   Efforts     9 non-null      int64 \n",
      "dtypes: int64(4), object(1)\n",
      "memory usage: 488.0+ bytes\n"
     ]
    },
    {
     "data": {
      "text/html": [
       "<div>\n",
       "<style scoped>\n",
       "    .dataframe tbody tr th:only-of-type {\n",
       "        vertical-align: middle;\n",
       "    }\n",
       "\n",
       "    .dataframe tbody tr th {\n",
       "        vertical-align: top;\n",
       "    }\n",
       "\n",
       "    .dataframe thead th {\n",
       "        text-align: right;\n",
       "    }\n",
       "</style>\n",
       "<table border=\"1\" class=\"dataframe\">\n",
       "  <thead>\n",
       "    <tr style=\"text-align: right;\">\n",
       "      <th></th>\n",
       "      <th>Hypothesis</th>\n",
       "      <th>Reach</th>\n",
       "      <th>Impact</th>\n",
       "      <th>Confidence</th>\n",
       "      <th>Efforts</th>\n",
       "    </tr>\n",
       "  </thead>\n",
       "  <tbody>\n",
       "    <tr>\n",
       "      <th>0</th>\n",
       "      <td>Добавить два новых канала привлечения трафика, что позволит привлекать на 30% больше пользователей</td>\n",
       "      <td>3</td>\n",
       "      <td>10</td>\n",
       "      <td>8</td>\n",
       "      <td>6</td>\n",
       "    </tr>\n",
       "    <tr>\n",
       "      <th>1</th>\n",
       "      <td>Запустить собственную службу доставки, что сократит срок доставки заказов</td>\n",
       "      <td>2</td>\n",
       "      <td>5</td>\n",
       "      <td>4</td>\n",
       "      <td>10</td>\n",
       "    </tr>\n",
       "    <tr>\n",
       "      <th>2</th>\n",
       "      <td>Добавить блоки рекомендаций товаров на сайт интернет магазина, чтобы повысить конверсию и средний чек заказа</td>\n",
       "      <td>8</td>\n",
       "      <td>3</td>\n",
       "      <td>7</td>\n",
       "      <td>3</td>\n",
       "    </tr>\n",
       "    <tr>\n",
       "      <th>3</th>\n",
       "      <td>Изменить структура категорий, что увеличит конверсию, т.к. пользователи быстрее найдут нужный товар</td>\n",
       "      <td>8</td>\n",
       "      <td>3</td>\n",
       "      <td>3</td>\n",
       "      <td>8</td>\n",
       "    </tr>\n",
       "    <tr>\n",
       "      <th>4</th>\n",
       "      <td>Изменить цвет фона главной страницы, чтобы увеличить вовлеченность пользователей</td>\n",
       "      <td>3</td>\n",
       "      <td>1</td>\n",
       "      <td>1</td>\n",
       "      <td>1</td>\n",
       "    </tr>\n",
       "  </tbody>\n",
       "</table>\n",
       "</div>"
      ],
      "text/plain": [
       "                                                                                                     Hypothesis  \\\n",
       "0            Добавить два новых канала привлечения трафика, что позволит привлекать на 30% больше пользователей   \n",
       "1                                     Запустить собственную службу доставки, что сократит срок доставки заказов   \n",
       "2  Добавить блоки рекомендаций товаров на сайт интернет магазина, чтобы повысить конверсию и средний чек заказа   \n",
       "3           Изменить структура категорий, что увеличит конверсию, т.к. пользователи быстрее найдут нужный товар   \n",
       "4                              Изменить цвет фона главной страницы, чтобы увеличить вовлеченность пользователей   \n",
       "\n",
       "   Reach  Impact  Confidence  Efforts  \n",
       "0      3      10           8        6  \n",
       "1      2       5           4       10  \n",
       "2      8       3           7        3  \n",
       "3      8       3           3        8  \n",
       "4      3       1           1        1  "
      ]
     },
     "execution_count": 3,
     "metadata": {},
     "output_type": "execute_result"
    }
   ],
   "source": [
    "hypothesis.info() # общая инфо гипотезы\n",
    "\n",
    "hypothesis.head() # вывод первых строк"
   ]
  },
  {
   "cell_type": "code",
   "execution_count": 4,
   "metadata": {
    "scrolled": true
   },
   "outputs": [
    {
     "name": "stdout",
     "output_type": "stream",
     "text": [
      "hypothesis    0\n",
      "reach         0\n",
      "impact        0\n",
      "confidence    0\n",
      "efforts       0\n",
      "dtype: int64\n"
     ]
    },
    {
     "data": {
      "text/plain": [
       "0"
      ]
     },
     "execution_count": 4,
     "metadata": {},
     "output_type": "execute_result"
    }
   ],
   "source": [
    "hypothesis.columns = hypothesis.columns.str.lower() # приведем к нижнему регистру\n",
    "\n",
    "print(hypothesis.isna().sum()) # пропуски\n",
    "hypothesis.duplicated().sum()  # дубликаты\n"
   ]
  },
  {
   "cell_type": "markdown",
   "metadata": {},
   "source": [
    "### Таблица orders"
   ]
  },
  {
   "cell_type": "code",
   "execution_count": 5,
   "metadata": {
    "scrolled": false
   },
   "outputs": [
    {
     "name": "stdout",
     "output_type": "stream",
     "text": [
      "<class 'pandas.core.frame.DataFrame'>\n",
      "RangeIndex: 1197 entries, 0 to 1196\n",
      "Data columns (total 5 columns):\n",
      " #   Column         Non-Null Count  Dtype \n",
      "---  ------         --------------  ----- \n",
      " 0   transactionId  1197 non-null   int64 \n",
      " 1   visitorId      1197 non-null   int64 \n",
      " 2   date           1197 non-null   object\n",
      " 3   revenue        1197 non-null   int64 \n",
      " 4   group          1197 non-null   object\n",
      "dtypes: int64(3), object(2)\n",
      "memory usage: 46.9+ KB\n"
     ]
    },
    {
     "data": {
      "text/html": [
       "<div>\n",
       "<style scoped>\n",
       "    .dataframe tbody tr th:only-of-type {\n",
       "        vertical-align: middle;\n",
       "    }\n",
       "\n",
       "    .dataframe tbody tr th {\n",
       "        vertical-align: top;\n",
       "    }\n",
       "\n",
       "    .dataframe thead th {\n",
       "        text-align: right;\n",
       "    }\n",
       "</style>\n",
       "<table border=\"1\" class=\"dataframe\">\n",
       "  <thead>\n",
       "    <tr style=\"text-align: right;\">\n",
       "      <th></th>\n",
       "      <th>transactionId</th>\n",
       "      <th>visitorId</th>\n",
       "      <th>date</th>\n",
       "      <th>revenue</th>\n",
       "      <th>group</th>\n",
       "    </tr>\n",
       "  </thead>\n",
       "  <tbody>\n",
       "    <tr>\n",
       "      <th>133</th>\n",
       "      <td>3060563671</td>\n",
       "      <td>2458001652</td>\n",
       "      <td>2019-08-22</td>\n",
       "      <td>5190</td>\n",
       "      <td>A</td>\n",
       "    </tr>\n",
       "  </tbody>\n",
       "</table>\n",
       "</div>"
      ],
      "text/plain": [
       "     transactionId   visitorId        date  revenue group\n",
       "133     3060563671  2458001652  2019-08-22     5190     A"
      ]
     },
     "execution_count": 5,
     "metadata": {},
     "output_type": "execute_result"
    }
   ],
   "source": [
    "orders.info() # общая инфо заказы\n",
    "\n",
    "orders.sample()"
   ]
  },
  {
   "cell_type": "code",
   "execution_count": 6,
   "metadata": {
    "scrolled": true
   },
   "outputs": [
    {
     "name": "stdout",
     "output_type": "stream",
     "text": [
      "transaction_id    0\n",
      "visitor_id        0\n",
      "date              0\n",
      "revenue           0\n",
      "group             0\n",
      "dtype: int64\n"
     ]
    },
    {
     "data": {
      "text/plain": [
       "0"
      ]
     },
     "execution_count": 6,
     "metadata": {},
     "output_type": "execute_result"
    }
   ],
   "source": [
    "orders['date'] = pd.to_datetime(orders['date']) # приведем дату в формат datetime\n",
    "\n",
    "orders = orders.rename(columns={'transactionId': 'transaction_id', # переименуем столбцы\n",
    "                                'visitorId': 'visitor_id'})\n",
    "\n",
    "print(orders.isna().sum()) # проверка на пропуски\n",
    "orders.duplicated().sum()  # проверка дубликатов\n"
   ]
  },
  {
   "cell_type": "markdown",
   "metadata": {},
   "source": [
    "### Таблица visitors"
   ]
  },
  {
   "cell_type": "code",
   "execution_count": 7,
   "metadata": {
    "scrolled": true
   },
   "outputs": [
    {
     "name": "stdout",
     "output_type": "stream",
     "text": [
      "<class 'pandas.core.frame.DataFrame'>\n",
      "RangeIndex: 62 entries, 0 to 61\n",
      "Data columns (total 3 columns):\n",
      " #   Column    Non-Null Count  Dtype \n",
      "---  ------    --------------  ----- \n",
      " 0   date      62 non-null     object\n",
      " 1   group     62 non-null     object\n",
      " 2   visitors  62 non-null     int64 \n",
      "dtypes: int64(1), object(2)\n",
      "memory usage: 1.6+ KB\n"
     ]
    },
    {
     "data": {
      "text/html": [
       "<div>\n",
       "<style scoped>\n",
       "    .dataframe tbody tr th:only-of-type {\n",
       "        vertical-align: middle;\n",
       "    }\n",
       "\n",
       "    .dataframe tbody tr th {\n",
       "        vertical-align: top;\n",
       "    }\n",
       "\n",
       "    .dataframe thead th {\n",
       "        text-align: right;\n",
       "    }\n",
       "</style>\n",
       "<table border=\"1\" class=\"dataframe\">\n",
       "  <thead>\n",
       "    <tr style=\"text-align: right;\">\n",
       "      <th></th>\n",
       "      <th>date</th>\n",
       "      <th>group</th>\n",
       "      <th>visitors</th>\n",
       "    </tr>\n",
       "  </thead>\n",
       "  <tbody>\n",
       "    <tr>\n",
       "      <th>38</th>\n",
       "      <td>2019-08-08</td>\n",
       "      <td>B</td>\n",
       "      <td>654</td>\n",
       "    </tr>\n",
       "  </tbody>\n",
       "</table>\n",
       "</div>"
      ],
      "text/plain": [
       "          date group  visitors\n",
       "38  2019-08-08     B       654"
      ]
     },
     "execution_count": 7,
     "metadata": {},
     "output_type": "execute_result"
    }
   ],
   "source": [
    "visitors.info() # общая инфо\n",
    "\n",
    "visitors.sample()"
   ]
  },
  {
   "cell_type": "code",
   "execution_count": 8,
   "metadata": {
    "scrolled": false
   },
   "outputs": [
    {
     "name": "stdout",
     "output_type": "stream",
     "text": [
      "date        0\n",
      "group       0\n",
      "visitors    0\n",
      "dtype: int64\n"
     ]
    },
    {
     "data": {
      "text/plain": [
       "0"
      ]
     },
     "execution_count": 8,
     "metadata": {},
     "output_type": "execute_result"
    }
   ],
   "source": [
    "visitors['date'] = pd.to_datetime(visitors['date']) # меняем формат даты на datetime\n",
    "\n",
    "print(visitors.isna().sum()) # пропуски\n",
    "visitors.duplicated().sum()  # дубликаты"
   ]
  },
  {
   "cell_type": "markdown",
   "metadata": {},
   "source": [
    "### Проверка данных для теста"
   ]
  },
  {
   "cell_type": "markdown",
   "metadata": {},
   "source": [
    "Перед началом А/В теста проведем проверку и убедимся, что:\n",
    "\n",
    "- количество пользователей в группах различается не более, чем на 1%\n",
    "- пользователи в группах не пересекаются "
   ]
  },
  {
   "cell_type": "code",
   "execution_count": 9,
   "metadata": {
    "scrolled": true
   },
   "outputs": [
    {
     "data": {
      "text/html": [
       "<div>\n",
       "<style scoped>\n",
       "    .dataframe tbody tr th:only-of-type {\n",
       "        vertical-align: middle;\n",
       "    }\n",
       "\n",
       "    .dataframe tbody tr th {\n",
       "        vertical-align: top;\n",
       "    }\n",
       "\n",
       "    .dataframe thead th {\n",
       "        text-align: right;\n",
       "    }\n",
       "</style>\n",
       "<table border=\"1\" class=\"dataframe\">\n",
       "  <thead>\n",
       "    <tr style=\"text-align: right;\">\n",
       "      <th></th>\n",
       "      <th>group</th>\n",
       "      <th>visitors</th>\n",
       "    </tr>\n",
       "  </thead>\n",
       "  <tbody>\n",
       "    <tr>\n",
       "      <th>0</th>\n",
       "      <td>A</td>\n",
       "      <td>18736</td>\n",
       "    </tr>\n",
       "    <tr>\n",
       "      <th>1</th>\n",
       "      <td>B</td>\n",
       "      <td>18916</td>\n",
       "    </tr>\n",
       "  </tbody>\n",
       "</table>\n",
       "</div>"
      ],
      "text/plain": [
       "  group  visitors\n",
       "0     A     18736\n",
       "1     B     18916"
      ]
     },
     "metadata": {},
     "output_type": "display_data"
    },
    {
     "name": "stdout",
     "output_type": "stream",
     "text": [
      "99.04842461408332\n"
     ]
    }
   ],
   "source": [
    "# находим количество пользователей в двух группах и % их соотношения\n",
    "users = visitors.groupby(['group']).agg({'visitors': 'sum'}).reset_index()\n",
    "\n",
    "display(users)\n",
    "\n",
    "print(users.loc[0, 'visitors'] / users.loc[1, 'visitors'] * 100)\n"
   ]
  },
  {
   "cell_type": "markdown",
   "metadata": {},
   "source": [
    "Число пользователей в группах одинаковое на 99%"
   ]
  },
  {
   "cell_type": "code",
   "execution_count": 10,
   "metadata": {
    "scrolled": false
   },
   "outputs": [
    {
     "name": "stdout",
     "output_type": "stream",
     "text": [
      "58\n"
     ]
    }
   ],
   "source": [
    "# выделим срезы пользователей по группам, посчитаем количество пересекающихся пользователей\n",
    "group_a = orders.query('group == \"A\"') \n",
    "group_b = orders.query('group == \"B\"') \n",
    "\n",
    "cross_users = list(np.intersect1d(group_a['visitor_id'], group_b['visitor_id']))\n",
    "\n",
    "print(len(cross_users))"
   ]
  },
  {
   "cell_type": "code",
   "execution_count": 11,
   "metadata": {},
   "outputs": [
    {
     "name": "stdout",
     "output_type": "stream",
     "text": [
      "<class 'pandas.core.frame.DataFrame'>\n",
      "Int64Index: 1016 entries, 0 to 1196\n",
      "Data columns (total 5 columns):\n",
      " #   Column          Non-Null Count  Dtype         \n",
      "---  ------          --------------  -----         \n",
      " 0   transaction_id  1016 non-null   int64         \n",
      " 1   visitor_id      1016 non-null   int64         \n",
      " 2   date            1016 non-null   datetime64[ns]\n",
      " 3   revenue         1016 non-null   int64         \n",
      " 4   group           1016 non-null   object        \n",
      "dtypes: datetime64[ns](1), int64(3), object(1)\n",
      "memory usage: 47.6+ KB\n"
     ]
    }
   ],
   "source": [
    "# уберем из анализа пересекающихся пользователей\n",
    "orders = orders.query('visitor_id not in @cross_users')\n",
    "\n",
    "orders.info()"
   ]
  },
  {
   "cell_type": "markdown",
   "metadata": {},
   "source": [
    "**Вывод**\n",
    "\n",
    "Таблицы подготовлены к анализу, проверены возможные ошибки. Пропущенных значений и явных дубликатов в данных не обнаружено, формат колонок *date* в таблицах `orders` и `visitors` заменен с object на datetime дальнейшей корректной работы функций. Названия колонок в `hypothesis` и `orders` приведены в соответсвие с общепринятым стилем. \n",
    "\n",
    "Количество пользователей в группах А и В отличается не более, чем на 1%, пересекающиеся пользователи удалены из таблицы orders. Данные готовы для дальнейшего анализа \n"
   ]
  },
  {
   "cell_type": "markdown",
   "metadata": {},
   "source": [
    "## Часть 1. Приоритизация гипотез."
   ]
  },
  {
   "cell_type": "markdown",
   "metadata": {},
   "source": [
    "### Фреймворк ICE для приоритизации гипотез. "
   ]
  },
  {
   "cell_type": "markdown",
   "metadata": {},
   "source": [
    "Считаем по формуле  $$ ICE = {\\frac{Impact * Confidence}{Efforts}} $$"
   ]
  },
  {
   "cell_type": "code",
   "execution_count": 12,
   "metadata": {
    "scrolled": true
   },
   "outputs": [
    {
     "data": {
      "text/html": [
       "<div>\n",
       "<style scoped>\n",
       "    .dataframe tbody tr th:only-of-type {\n",
       "        vertical-align: middle;\n",
       "    }\n",
       "\n",
       "    .dataframe tbody tr th {\n",
       "        vertical-align: top;\n",
       "    }\n",
       "\n",
       "    .dataframe thead th {\n",
       "        text-align: right;\n",
       "    }\n",
       "</style>\n",
       "<table border=\"1\" class=\"dataframe\">\n",
       "  <thead>\n",
       "    <tr style=\"text-align: right;\">\n",
       "      <th></th>\n",
       "      <th>hypothesis</th>\n",
       "      <th>reach</th>\n",
       "      <th>impact</th>\n",
       "      <th>confidence</th>\n",
       "      <th>efforts</th>\n",
       "      <th>ICE</th>\n",
       "    </tr>\n",
       "  </thead>\n",
       "  <tbody>\n",
       "    <tr>\n",
       "      <th>8</th>\n",
       "      <td>Запустить акцию, дающую скидку на товар в день рождения</td>\n",
       "      <td>1</td>\n",
       "      <td>9</td>\n",
       "      <td>9</td>\n",
       "      <td>5</td>\n",
       "      <td>16.20</td>\n",
       "    </tr>\n",
       "    <tr>\n",
       "      <th>0</th>\n",
       "      <td>Добавить два новых канала привлечения трафика, что позволит привлекать на 30% больше пользователей</td>\n",
       "      <td>3</td>\n",
       "      <td>10</td>\n",
       "      <td>8</td>\n",
       "      <td>6</td>\n",
       "      <td>13.33</td>\n",
       "    </tr>\n",
       "    <tr>\n",
       "      <th>7</th>\n",
       "      <td>Добавить форму подписки на все основные страницы, чтобы собрать базу клиентов для email-рассылок</td>\n",
       "      <td>10</td>\n",
       "      <td>7</td>\n",
       "      <td>8</td>\n",
       "      <td>5</td>\n",
       "      <td>11.20</td>\n",
       "    </tr>\n",
       "    <tr>\n",
       "      <th>6</th>\n",
       "      <td>Показать на главной странице баннеры с актуальными акциями и распродажами, чтобы увеличить конверсию</td>\n",
       "      <td>5</td>\n",
       "      <td>3</td>\n",
       "      <td>8</td>\n",
       "      <td>3</td>\n",
       "      <td>8.00</td>\n",
       "    </tr>\n",
       "    <tr>\n",
       "      <th>2</th>\n",
       "      <td>Добавить блоки рекомендаций товаров на сайт интернет магазина, чтобы повысить конверсию и средний чек заказа</td>\n",
       "      <td>8</td>\n",
       "      <td>3</td>\n",
       "      <td>7</td>\n",
       "      <td>3</td>\n",
       "      <td>7.00</td>\n",
       "    </tr>\n",
       "    <tr>\n",
       "      <th>1</th>\n",
       "      <td>Запустить собственную службу доставки, что сократит срок доставки заказов</td>\n",
       "      <td>2</td>\n",
       "      <td>5</td>\n",
       "      <td>4</td>\n",
       "      <td>10</td>\n",
       "      <td>2.00</td>\n",
       "    </tr>\n",
       "    <tr>\n",
       "      <th>5</th>\n",
       "      <td>Добавить страницу отзывов клиентов о магазине, что позволит увеличить количество заказов</td>\n",
       "      <td>3</td>\n",
       "      <td>2</td>\n",
       "      <td>2</td>\n",
       "      <td>3</td>\n",
       "      <td>1.33</td>\n",
       "    </tr>\n",
       "    <tr>\n",
       "      <th>3</th>\n",
       "      <td>Изменить структура категорий, что увеличит конверсию, т.к. пользователи быстрее найдут нужный товар</td>\n",
       "      <td>8</td>\n",
       "      <td>3</td>\n",
       "      <td>3</td>\n",
       "      <td>8</td>\n",
       "      <td>1.12</td>\n",
       "    </tr>\n",
       "    <tr>\n",
       "      <th>4</th>\n",
       "      <td>Изменить цвет фона главной страницы, чтобы увеличить вовлеченность пользователей</td>\n",
       "      <td>3</td>\n",
       "      <td>1</td>\n",
       "      <td>1</td>\n",
       "      <td>1</td>\n",
       "      <td>1.00</td>\n",
       "    </tr>\n",
       "  </tbody>\n",
       "</table>\n",
       "</div>"
      ],
      "text/plain": [
       "                                                                                                     hypothesis  \\\n",
       "8                                                       Запустить акцию, дающую скидку на товар в день рождения   \n",
       "0            Добавить два новых канала привлечения трафика, что позволит привлекать на 30% больше пользователей   \n",
       "7              Добавить форму подписки на все основные страницы, чтобы собрать базу клиентов для email-рассылок   \n",
       "6          Показать на главной странице баннеры с актуальными акциями и распродажами, чтобы увеличить конверсию   \n",
       "2  Добавить блоки рекомендаций товаров на сайт интернет магазина, чтобы повысить конверсию и средний чек заказа   \n",
       "1                                     Запустить собственную службу доставки, что сократит срок доставки заказов   \n",
       "5                      Добавить страницу отзывов клиентов о магазине, что позволит увеличить количество заказов   \n",
       "3           Изменить структура категорий, что увеличит конверсию, т.к. пользователи быстрее найдут нужный товар   \n",
       "4                              Изменить цвет фона главной страницы, чтобы увеличить вовлеченность пользователей   \n",
       "\n",
       "   reach  impact  confidence  efforts    ICE  \n",
       "8      1       9           9        5  16.20  \n",
       "0      3      10           8        6  13.33  \n",
       "7     10       7           8        5  11.20  \n",
       "6      5       3           8        3   8.00  \n",
       "2      8       3           7        3   7.00  \n",
       "1      2       5           4       10   2.00  \n",
       "5      3       2           2        3   1.33  \n",
       "3      8       3           3        8   1.12  \n",
       "4      3       1           1        1   1.00  "
      ]
     },
     "execution_count": 12,
     "metadata": {},
     "output_type": "execute_result"
    }
   ],
   "source": [
    "hypothesis['ICE'] = (hypothesis['impact'] * hypothesis['confidence'] / \n",
    "                     hypothesis['efforts']).round(2)\n",
    "\n",
    "hypothesis.sort_values(by='ICE', ascending=False)\n"
   ]
  },
  {
   "cell_type": "markdown",
   "metadata": {},
   "source": [
    "### Фреймворк RICE для приоритизации гипотез. "
   ]
  },
  {
   "cell_type": "markdown",
   "metadata": {},
   "source": [
    "Считаем по формуле  $$ RICE = {\\frac{Reach * Impact * Confidence}{Efforts}} $$"
   ]
  },
  {
   "cell_type": "code",
   "execution_count": 13,
   "metadata": {
    "scrolled": true
   },
   "outputs": [
    {
     "data": {
      "text/html": [
       "<div>\n",
       "<style scoped>\n",
       "    .dataframe tbody tr th:only-of-type {\n",
       "        vertical-align: middle;\n",
       "    }\n",
       "\n",
       "    .dataframe tbody tr th {\n",
       "        vertical-align: top;\n",
       "    }\n",
       "\n",
       "    .dataframe thead th {\n",
       "        text-align: right;\n",
       "    }\n",
       "</style>\n",
       "<table border=\"1\" class=\"dataframe\">\n",
       "  <thead>\n",
       "    <tr style=\"text-align: right;\">\n",
       "      <th></th>\n",
       "      <th>hypothesis</th>\n",
       "      <th>reach</th>\n",
       "      <th>impact</th>\n",
       "      <th>confidence</th>\n",
       "      <th>efforts</th>\n",
       "      <th>ICE</th>\n",
       "      <th>RICE</th>\n",
       "    </tr>\n",
       "  </thead>\n",
       "  <tbody>\n",
       "    <tr>\n",
       "      <th>7</th>\n",
       "      <td>Добавить форму подписки на все основные страницы, чтобы собрать базу клиентов для email-рассылок</td>\n",
       "      <td>10</td>\n",
       "      <td>7</td>\n",
       "      <td>8</td>\n",
       "      <td>5</td>\n",
       "      <td>11.20</td>\n",
       "      <td>112.0</td>\n",
       "    </tr>\n",
       "    <tr>\n",
       "      <th>2</th>\n",
       "      <td>Добавить блоки рекомендаций товаров на сайт интернет магазина, чтобы повысить конверсию и средний чек заказа</td>\n",
       "      <td>8</td>\n",
       "      <td>3</td>\n",
       "      <td>7</td>\n",
       "      <td>3</td>\n",
       "      <td>7.00</td>\n",
       "      <td>56.0</td>\n",
       "    </tr>\n",
       "    <tr>\n",
       "      <th>0</th>\n",
       "      <td>Добавить два новых канала привлечения трафика, что позволит привлекать на 30% больше пользователей</td>\n",
       "      <td>3</td>\n",
       "      <td>10</td>\n",
       "      <td>8</td>\n",
       "      <td>6</td>\n",
       "      <td>13.33</td>\n",
       "      <td>40.0</td>\n",
       "    </tr>\n",
       "    <tr>\n",
       "      <th>6</th>\n",
       "      <td>Показать на главной странице баннеры с актуальными акциями и распродажами, чтобы увеличить конверсию</td>\n",
       "      <td>5</td>\n",
       "      <td>3</td>\n",
       "      <td>8</td>\n",
       "      <td>3</td>\n",
       "      <td>8.00</td>\n",
       "      <td>40.0</td>\n",
       "    </tr>\n",
       "    <tr>\n",
       "      <th>8</th>\n",
       "      <td>Запустить акцию, дающую скидку на товар в день рождения</td>\n",
       "      <td>1</td>\n",
       "      <td>9</td>\n",
       "      <td>9</td>\n",
       "      <td>5</td>\n",
       "      <td>16.20</td>\n",
       "      <td>16.2</td>\n",
       "    </tr>\n",
       "    <tr>\n",
       "      <th>3</th>\n",
       "      <td>Изменить структура категорий, что увеличит конверсию, т.к. пользователи быстрее найдут нужный товар</td>\n",
       "      <td>8</td>\n",
       "      <td>3</td>\n",
       "      <td>3</td>\n",
       "      <td>8</td>\n",
       "      <td>1.12</td>\n",
       "      <td>9.0</td>\n",
       "    </tr>\n",
       "    <tr>\n",
       "      <th>1</th>\n",
       "      <td>Запустить собственную службу доставки, что сократит срок доставки заказов</td>\n",
       "      <td>2</td>\n",
       "      <td>5</td>\n",
       "      <td>4</td>\n",
       "      <td>10</td>\n",
       "      <td>2.00</td>\n",
       "      <td>4.0</td>\n",
       "    </tr>\n",
       "    <tr>\n",
       "      <th>5</th>\n",
       "      <td>Добавить страницу отзывов клиентов о магазине, что позволит увеличить количество заказов</td>\n",
       "      <td>3</td>\n",
       "      <td>2</td>\n",
       "      <td>2</td>\n",
       "      <td>3</td>\n",
       "      <td>1.33</td>\n",
       "      <td>4.0</td>\n",
       "    </tr>\n",
       "    <tr>\n",
       "      <th>4</th>\n",
       "      <td>Изменить цвет фона главной страницы, чтобы увеличить вовлеченность пользователей</td>\n",
       "      <td>3</td>\n",
       "      <td>1</td>\n",
       "      <td>1</td>\n",
       "      <td>1</td>\n",
       "      <td>1.00</td>\n",
       "      <td>3.0</td>\n",
       "    </tr>\n",
       "  </tbody>\n",
       "</table>\n",
       "</div>"
      ],
      "text/plain": [
       "                                                                                                     hypothesis  \\\n",
       "7              Добавить форму подписки на все основные страницы, чтобы собрать базу клиентов для email-рассылок   \n",
       "2  Добавить блоки рекомендаций товаров на сайт интернет магазина, чтобы повысить конверсию и средний чек заказа   \n",
       "0            Добавить два новых канала привлечения трафика, что позволит привлекать на 30% больше пользователей   \n",
       "6          Показать на главной странице баннеры с актуальными акциями и распродажами, чтобы увеличить конверсию   \n",
       "8                                                       Запустить акцию, дающую скидку на товар в день рождения   \n",
       "3           Изменить структура категорий, что увеличит конверсию, т.к. пользователи быстрее найдут нужный товар   \n",
       "1                                     Запустить собственную службу доставки, что сократит срок доставки заказов   \n",
       "5                      Добавить страницу отзывов клиентов о магазине, что позволит увеличить количество заказов   \n",
       "4                              Изменить цвет фона главной страницы, чтобы увеличить вовлеченность пользователей   \n",
       "\n",
       "   reach  impact  confidence  efforts    ICE   RICE  \n",
       "7     10       7           8        5  11.20  112.0  \n",
       "2      8       3           7        3   7.00   56.0  \n",
       "0      3      10           8        6  13.33   40.0  \n",
       "6      5       3           8        3   8.00   40.0  \n",
       "8      1       9           9        5  16.20   16.2  \n",
       "3      8       3           3        8   1.12    9.0  \n",
       "1      2       5           4       10   2.00    4.0  \n",
       "5      3       2           2        3   1.33    4.0  \n",
       "4      3       1           1        1   1.00    3.0  "
      ]
     },
     "execution_count": 13,
     "metadata": {},
     "output_type": "execute_result"
    }
   ],
   "source": [
    "hypothesis['RICE'] = (hypothesis['reach'] * hypothesis['impact'] * \n",
    "                      hypothesis['confidence'] / hypothesis['efforts']).round(2)\n",
    "\n",
    "hypothesis.sort_values(by='RICE', ascending=False)"
   ]
  },
  {
   "cell_type": "code",
   "execution_count": 14,
   "metadata": {},
   "outputs": [
    {
     "data": {
      "text/html": [
       "<style  type=\"text/css\" >\n",
       "#T_f2270_row0_col2,#T_f2270_row4_col1{\n",
       "            background-color:  red;\n",
       "        }</style><table id=\"T_f2270_\" ><thead>    <tr>        <th class=\"blank level0\" ></th>        <th class=\"col_heading level0 col0\" >hypothesis</th>        <th class=\"col_heading level0 col1\" >ICE</th>        <th class=\"col_heading level0 col2\" >RICE</th>    </tr></thead><tbody>\n",
       "                <tr>\n",
       "                        <th id=\"T_f2270_level0_row0\" class=\"row_heading level0 row0\" >7</th>\n",
       "                        <td id=\"T_f2270_row0_col0\" class=\"data row0 col0\" >Добавить форму подписки на все основные страницы, чтобы собрать базу клиентов для email-рассылок</td>\n",
       "                        <td id=\"T_f2270_row0_col1\" class=\"data row0 col1\" >11.200000</td>\n",
       "                        <td id=\"T_f2270_row0_col2\" class=\"data row0 col2\" >112.000000</td>\n",
       "            </tr>\n",
       "            <tr>\n",
       "                        <th id=\"T_f2270_level0_row1\" class=\"row_heading level0 row1\" >2</th>\n",
       "                        <td id=\"T_f2270_row1_col0\" class=\"data row1 col0\" >Добавить блоки рекомендаций товаров на сайт интернет магазина, чтобы повысить конверсию и средний чек заказа</td>\n",
       "                        <td id=\"T_f2270_row1_col1\" class=\"data row1 col1\" >7.000000</td>\n",
       "                        <td id=\"T_f2270_row1_col2\" class=\"data row1 col2\" >56.000000</td>\n",
       "            </tr>\n",
       "            <tr>\n",
       "                        <th id=\"T_f2270_level0_row2\" class=\"row_heading level0 row2\" >0</th>\n",
       "                        <td id=\"T_f2270_row2_col0\" class=\"data row2 col0\" >Добавить два новых канала привлечения трафика, что позволит привлекать на 30% больше пользователей</td>\n",
       "                        <td id=\"T_f2270_row2_col1\" class=\"data row2 col1\" >13.330000</td>\n",
       "                        <td id=\"T_f2270_row2_col2\" class=\"data row2 col2\" >40.000000</td>\n",
       "            </tr>\n",
       "            <tr>\n",
       "                        <th id=\"T_f2270_level0_row3\" class=\"row_heading level0 row3\" >6</th>\n",
       "                        <td id=\"T_f2270_row3_col0\" class=\"data row3 col0\" >Показать на главной странице баннеры с актуальными акциями и распродажами, чтобы увеличить конверсию</td>\n",
       "                        <td id=\"T_f2270_row3_col1\" class=\"data row3 col1\" >8.000000</td>\n",
       "                        <td id=\"T_f2270_row3_col2\" class=\"data row3 col2\" >40.000000</td>\n",
       "            </tr>\n",
       "            <tr>\n",
       "                        <th id=\"T_f2270_level0_row4\" class=\"row_heading level0 row4\" >8</th>\n",
       "                        <td id=\"T_f2270_row4_col0\" class=\"data row4 col0\" >Запустить акцию, дающую скидку на товар в день рождения</td>\n",
       "                        <td id=\"T_f2270_row4_col1\" class=\"data row4 col1\" >16.200000</td>\n",
       "                        <td id=\"T_f2270_row4_col2\" class=\"data row4 col2\" >16.200000</td>\n",
       "            </tr>\n",
       "            <tr>\n",
       "                        <th id=\"T_f2270_level0_row5\" class=\"row_heading level0 row5\" >3</th>\n",
       "                        <td id=\"T_f2270_row5_col0\" class=\"data row5 col0\" >Изменить структура категорий, что увеличит конверсию, т.к. пользователи быстрее найдут нужный товар</td>\n",
       "                        <td id=\"T_f2270_row5_col1\" class=\"data row5 col1\" >1.120000</td>\n",
       "                        <td id=\"T_f2270_row5_col2\" class=\"data row5 col2\" >9.000000</td>\n",
       "            </tr>\n",
       "            <tr>\n",
       "                        <th id=\"T_f2270_level0_row6\" class=\"row_heading level0 row6\" >1</th>\n",
       "                        <td id=\"T_f2270_row6_col0\" class=\"data row6 col0\" >Запустить собственную службу доставки, что сократит срок доставки заказов</td>\n",
       "                        <td id=\"T_f2270_row6_col1\" class=\"data row6 col1\" >2.000000</td>\n",
       "                        <td id=\"T_f2270_row6_col2\" class=\"data row6 col2\" >4.000000</td>\n",
       "            </tr>\n",
       "            <tr>\n",
       "                        <th id=\"T_f2270_level0_row7\" class=\"row_heading level0 row7\" >5</th>\n",
       "                        <td id=\"T_f2270_row7_col0\" class=\"data row7 col0\" >Добавить страницу отзывов клиентов о магазине, что позволит увеличить количество заказов</td>\n",
       "                        <td id=\"T_f2270_row7_col1\" class=\"data row7 col1\" >1.330000</td>\n",
       "                        <td id=\"T_f2270_row7_col2\" class=\"data row7 col2\" >4.000000</td>\n",
       "            </tr>\n",
       "            <tr>\n",
       "                        <th id=\"T_f2270_level0_row8\" class=\"row_heading level0 row8\" >4</th>\n",
       "                        <td id=\"T_f2270_row8_col0\" class=\"data row8 col0\" >Изменить цвет фона главной страницы, чтобы увеличить вовлеченность пользователей</td>\n",
       "                        <td id=\"T_f2270_row8_col1\" class=\"data row8 col1\" >1.000000</td>\n",
       "                        <td id=\"T_f2270_row8_col2\" class=\"data row8 col2\" >3.000000</td>\n",
       "            </tr>\n",
       "    </tbody></table>"
      ],
      "text/plain": [
       "<pandas.io.formats.style.Styler at 0x7fec670c12e0>"
      ]
     },
     "metadata": {},
     "output_type": "display_data"
    }
   ],
   "source": [
    "# объединим результаты ранжирования в одной таблице\n",
    "numeric_columns = ['ICE', 'RICE'] \n",
    "\n",
    "display(hypothesis[['hypothesis', 'ICE', 'RICE']]\n",
    "        .sort_values(['RICE', 'ICE'], ascending=[False, False])\n",
    "        .style.highlight_max(color='red', subset=numeric_columns))"
   ]
  },
  {
   "cell_type": "markdown",
   "metadata": {},
   "source": [
    "**Вывод**\n",
    "\n",
    "Приорететность всех гипотез, кроме №4, различается. Фреймворк ICE не учитывает охват пользователей, поэтому при применении RICE самые перспективные гипотезы те, у которых параметр `Reach` максимальный, то есть затрагивают 80% и 100% пользователей.\n"
   ]
  },
  {
   "cell_type": "markdown",
   "metadata": {},
   "source": [
    "## Часть 2. Анализ A/B-теста"
   ]
  },
  {
   "cell_type": "markdown",
   "metadata": {},
   "source": [
    "Для дальнейших расчетов и постороения графиков создадим таблицу с кумулятивными данными о заказах и посетителях на основе таблиц `orders` и `visitors`"
   ]
  },
  {
   "cell_type": "code",
   "execution_count": 15,
   "metadata": {},
   "outputs": [
    {
     "data": {
      "text/html": [
       "<div>\n",
       "<style scoped>\n",
       "    .dataframe tbody tr th:only-of-type {\n",
       "        vertical-align: middle;\n",
       "    }\n",
       "\n",
       "    .dataframe tbody tr th {\n",
       "        vertical-align: top;\n",
       "    }\n",
       "\n",
       "    .dataframe thead th {\n",
       "        text-align: right;\n",
       "    }\n",
       "</style>\n",
       "<table border=\"1\" class=\"dataframe\">\n",
       "  <thead>\n",
       "    <tr style=\"text-align: right;\">\n",
       "      <th></th>\n",
       "      <th>transaction_id</th>\n",
       "      <th>visitor_id</th>\n",
       "      <th>date</th>\n",
       "      <th>revenue</th>\n",
       "      <th>group</th>\n",
       "    </tr>\n",
       "  </thead>\n",
       "  <tbody>\n",
       "    <tr>\n",
       "      <th>0</th>\n",
       "      <td>3667963787</td>\n",
       "      <td>3312258926</td>\n",
       "      <td>2019-08-15</td>\n",
       "      <td>1650</td>\n",
       "      <td>B</td>\n",
       "    </tr>\n",
       "    <tr>\n",
       "      <th>1</th>\n",
       "      <td>2804400009</td>\n",
       "      <td>3642806036</td>\n",
       "      <td>2019-08-15</td>\n",
       "      <td>730</td>\n",
       "      <td>B</td>\n",
       "    </tr>\n",
       "    <tr>\n",
       "      <th>3</th>\n",
       "      <td>3797467345</td>\n",
       "      <td>1196621759</td>\n",
       "      <td>2019-08-15</td>\n",
       "      <td>9759</td>\n",
       "      <td>B</td>\n",
       "    </tr>\n",
       "    <tr>\n",
       "      <th>4</th>\n",
       "      <td>2282983706</td>\n",
       "      <td>2322279887</td>\n",
       "      <td>2019-08-15</td>\n",
       "      <td>2308</td>\n",
       "      <td>B</td>\n",
       "    </tr>\n",
       "    <tr>\n",
       "      <th>5</th>\n",
       "      <td>182168103</td>\n",
       "      <td>935554773</td>\n",
       "      <td>2019-08-15</td>\n",
       "      <td>2210</td>\n",
       "      <td>B</td>\n",
       "    </tr>\n",
       "  </tbody>\n",
       "</table>\n",
       "</div>"
      ],
      "text/plain": [
       "   transaction_id  visitor_id       date  revenue group\n",
       "0      3667963787  3312258926 2019-08-15     1650     B\n",
       "1      2804400009  3642806036 2019-08-15      730     B\n",
       "3      3797467345  1196621759 2019-08-15     9759     B\n",
       "4      2282983706  2322279887 2019-08-15     2308     B\n",
       "5       182168103   935554773 2019-08-15     2210     B"
      ]
     },
     "execution_count": 15,
     "metadata": {},
     "output_type": "execute_result"
    }
   ],
   "source": [
    "orders.head()"
   ]
  },
  {
   "cell_type": "code",
   "execution_count": 16,
   "metadata": {
    "scrolled": false
   },
   "outputs": [
    {
     "data": {
      "text/html": [
       "<div>\n",
       "<style scoped>\n",
       "    .dataframe tbody tr th:only-of-type {\n",
       "        vertical-align: middle;\n",
       "    }\n",
       "\n",
       "    .dataframe tbody tr th {\n",
       "        vertical-align: top;\n",
       "    }\n",
       "\n",
       "    .dataframe thead th {\n",
       "        text-align: right;\n",
       "    }\n",
       "</style>\n",
       "<table border=\"1\" class=\"dataframe\">\n",
       "  <thead>\n",
       "    <tr style=\"text-align: right;\">\n",
       "      <th></th>\n",
       "      <th>date</th>\n",
       "      <th>group</th>\n",
       "      <th>visitors</th>\n",
       "    </tr>\n",
       "  </thead>\n",
       "  <tbody>\n",
       "    <tr>\n",
       "      <th>0</th>\n",
       "      <td>2019-08-01</td>\n",
       "      <td>A</td>\n",
       "      <td>719</td>\n",
       "    </tr>\n",
       "    <tr>\n",
       "      <th>1</th>\n",
       "      <td>2019-08-02</td>\n",
       "      <td>A</td>\n",
       "      <td>619</td>\n",
       "    </tr>\n",
       "    <tr>\n",
       "      <th>2</th>\n",
       "      <td>2019-08-03</td>\n",
       "      <td>A</td>\n",
       "      <td>507</td>\n",
       "    </tr>\n",
       "    <tr>\n",
       "      <th>3</th>\n",
       "      <td>2019-08-04</td>\n",
       "      <td>A</td>\n",
       "      <td>717</td>\n",
       "    </tr>\n",
       "    <tr>\n",
       "      <th>4</th>\n",
       "      <td>2019-08-05</td>\n",
       "      <td>A</td>\n",
       "      <td>756</td>\n",
       "    </tr>\n",
       "  </tbody>\n",
       "</table>\n",
       "</div>"
      ],
      "text/plain": [
       "        date group  visitors\n",
       "0 2019-08-01     A       719\n",
       "1 2019-08-02     A       619\n",
       "2 2019-08-03     A       507\n",
       "3 2019-08-04     A       717\n",
       "4 2019-08-05     A       756"
      ]
     },
     "execution_count": 16,
     "metadata": {},
     "output_type": "execute_result"
    }
   ],
   "source": [
    "visitors.head()"
   ]
  },
  {
   "cell_type": "code",
   "execution_count": 17,
   "metadata": {
    "scrolled": true
   },
   "outputs": [
    {
     "data": {
      "text/html": [
       "<div>\n",
       "<style scoped>\n",
       "    .dataframe tbody tr th:only-of-type {\n",
       "        vertical-align: middle;\n",
       "    }\n",
       "\n",
       "    .dataframe tbody tr th {\n",
       "        vertical-align: top;\n",
       "    }\n",
       "\n",
       "    .dataframe thead th {\n",
       "        text-align: right;\n",
       "    }\n",
       "</style>\n",
       "<table border=\"1\" class=\"dataframe\">\n",
       "  <thead>\n",
       "    <tr style=\"text-align: right;\">\n",
       "      <th></th>\n",
       "      <th>date</th>\n",
       "      <th>group</th>\n",
       "      <th>orders</th>\n",
       "      <th>buyers</th>\n",
       "      <th>revenue</th>\n",
       "      <th>visitors</th>\n",
       "    </tr>\n",
       "  </thead>\n",
       "  <tbody>\n",
       "    <tr>\n",
       "      <th>0</th>\n",
       "      <td>2019-08-01</td>\n",
       "      <td>A</td>\n",
       "      <td>23</td>\n",
       "      <td>19</td>\n",
       "      <td>142779</td>\n",
       "      <td>719</td>\n",
       "    </tr>\n",
       "    <tr>\n",
       "      <th>1</th>\n",
       "      <td>2019-08-01</td>\n",
       "      <td>B</td>\n",
       "      <td>17</td>\n",
       "      <td>17</td>\n",
       "      <td>59758</td>\n",
       "      <td>713</td>\n",
       "    </tr>\n",
       "    <tr>\n",
       "      <th>2</th>\n",
       "      <td>2019-08-02</td>\n",
       "      <td>A</td>\n",
       "      <td>42</td>\n",
       "      <td>36</td>\n",
       "      <td>234381</td>\n",
       "      <td>1338</td>\n",
       "    </tr>\n",
       "    <tr>\n",
       "      <th>3</th>\n",
       "      <td>2019-08-02</td>\n",
       "      <td>B</td>\n",
       "      <td>40</td>\n",
       "      <td>39</td>\n",
       "      <td>221801</td>\n",
       "      <td>1294</td>\n",
       "    </tr>\n",
       "    <tr>\n",
       "      <th>4</th>\n",
       "      <td>2019-08-03</td>\n",
       "      <td>A</td>\n",
       "      <td>66</td>\n",
       "      <td>60</td>\n",
       "      <td>346854</td>\n",
       "      <td>1845</td>\n",
       "    </tr>\n",
       "  </tbody>\n",
       "</table>\n",
       "</div>"
      ],
      "text/plain": [
       "        date group  orders  buyers  revenue  visitors\n",
       "0 2019-08-01     A      23      19   142779       719\n",
       "1 2019-08-01     B      17      17    59758       713\n",
       "2 2019-08-02     A      42      36   234381      1338\n",
       "3 2019-08-02     B      40      39   221801      1294\n",
       "4 2019-08-03     A      66      60   346854      1845"
      ]
     },
     "execution_count": 17,
     "metadata": {},
     "output_type": "execute_result"
    }
   ],
   "source": [
    "# создаем массив уникальных пар значений дат и групп теста\n",
    "dates_groups = orders[['date', 'group']].drop_duplicates()\n",
    "\n",
    "# получаем агрегированные кумулятивные по дням данные о заказах \n",
    "orders_aggregated = dates_groups.apply(\n",
    "    lambda x: orders[\n",
    "        np.logical_and(\n",
    "            orders['date'] <= x['date'], orders['group'] == x['group']\n",
    "        )\n",
    "    ].agg(\n",
    "        {\n",
    "            'date': 'max',\n",
    "            'group': 'max',\n",
    "            'transaction_id': 'nunique',\n",
    "            'visitor_id': 'nunique',\n",
    "            'revenue': 'sum',\n",
    "        }\n",
    "    ),\n",
    "    axis=1,\n",
    ").sort_values(by=['date', 'group'])\n",
    "\n",
    "# получаем агрегированные кумулятивные по дням данные о посетителях \n",
    "visitors_aggregated = dates_groups.apply(\n",
    "    lambda x: visitors[\n",
    "        np.logical_and(\n",
    "            visitors['date'] <= x['date'], visitors['group'] == x['group']\n",
    "        )\n",
    "    ].agg({'date': 'max', 'group': 'max', 'visitors': 'sum'}),\n",
    "    axis=1,\n",
    ").sort_values(by=['date', 'group'])\n",
    "\n",
    "# объединяем кумулятивные данные в одной таблице \n",
    "cumulative_data = orders_aggregated.merge(\n",
    "    visitors_aggregated, left_on=['date', 'group'], right_on=['date', 'group']\n",
    ")\n",
    "\n",
    "# присваиваем ее столбцам понятные названия\n",
    "cumulative_data.columns = [\n",
    "    'date',\n",
    "    'group',\n",
    "    'orders',\n",
    "    'buyers',\n",
    "    'revenue',\n",
    "    'visitors',\n",
    "]\n",
    "\n",
    "cumulative_data.head(5)"
   ]
  },
  {
   "cell_type": "markdown",
   "metadata": {},
   "source": [
    "### График кумулятивной выручки по группам. "
   ]
  },
  {
   "cell_type": "code",
   "execution_count": 18,
   "metadata": {
    "scrolled": true
   },
   "outputs": [
    {
     "data": {
      "image/png": "[encoded data removed]",
      "text/plain": [
       "<Figure size 864x288 with 1 Axes>"
      ]
     },
     "metadata": {
      "needs_background": "light"
     },
     "output_type": "display_data"
    }
   ],
   "source": [
    "\n",
    "# таблица с кумулятивным количеством заказов и кумулятивной выручкой по дням в группе А\n",
    "cumulative_revenue_A = cumulative_data[cumulative_data['group']=='A'][['date','revenue', 'orders']]\n",
    "\n",
    "# таблица с кумулятивным количеством заказов и кумулятивной выручкой по дням в группе B\n",
    "cumulative_revenue_B = cumulative_data[cumulative_data['group']=='B'][['date','revenue', 'orders']]\n",
    "\n",
    "# задаем масштаб графика\n",
    "plt.figure(figsize=(12,4))\n",
    "\n",
    "# строим график выручки группы А\n",
    "plt.plot(cumulative_revenue_A['date'], cumulative_revenue_A['revenue'], label='A')\n",
    "\n",
    "# строим график выручки группы B\n",
    "plt.plot(cumulative_revenue_B['date'], cumulative_revenue_B['revenue'], label='B')\n",
    "\n",
    "plt.legend()\n",
    "plt.title('Кумулятивная выручка по группам')\n",
    "plt.show()"
   ]
  },
  {
   "cell_type": "markdown",
   "metadata": {},
   "source": [
    "Выручка более равномерно растет для группы А, группа В демонстрирует резкий скачок примерно в середине теста, что видимо указывает на наличие выбросов - аномально больших заказов или резкое увеличение их количества. В дальнейшем анализе их необходимо будет удалить."
   ]
  },
  {
   "cell_type": "markdown",
   "metadata": {},
   "source": [
    "### График кумулятивного среднего чека по группам. "
   ]
  },
  {
   "cell_type": "code",
   "execution_count": 19,
   "metadata": {
    "scrolled": true
   },
   "outputs": [
    {
     "data": {
      "image/png": "[encoded data removed]",
      "text/plain": [
       "<Figure size 864x288 with 1 Axes>"
      ]
     },
     "metadata": {
      "needs_background": "light"
     },
     "output_type": "display_data"
    }
   ],
   "source": [
    "# задаем масштаб графика\n",
    "plt.figure(figsize=(12,4))\n",
    "\n",
    "# разделим кумулятивную выручку на кумулятивное число заказов для каждой группы\n",
    "plt.plot(cumulative_revenue_A['date'], cumulative_revenue_A['revenue']/cumulative_revenue_A['orders'], label='A')\n",
    "\n",
    "plt.plot(cumulative_revenue_B['date'], cumulative_revenue_B['revenue']/cumulative_revenue_B['orders'], label='B')\n",
    "\n",
    "plt.legend() \n",
    "plt.title('Кумулятивный средний чек по группам')\n",
    "plt.show()\n"
   ]
  },
  {
   "cell_type": "markdown",
   "metadata": {},
   "source": [
    "Средний чек для группы А сначала снижается, затем показывет некоторый рост и в итоге стабилизируется. В группе В скачкообразный рост и снова резкий пик в том же месте, где и на предыдущем графике общей выручки - значит дело в аномальном увеличении среднего чека группы В. После скачка динамика в этой группе отрицательная."
   ]
  },
  {
   "cell_type": "markdown",
   "metadata": {},
   "source": [
    "### График относительного изменения кумулятивного среднего чека группы B к группе A. "
   ]
  },
  {
   "cell_type": "code",
   "execution_count": 20,
   "metadata": {},
   "outputs": [
    {
     "data": {
      "text/html": [
       "<div>\n",
       "<style scoped>\n",
       "    .dataframe tbody tr th:only-of-type {\n",
       "        vertical-align: middle;\n",
       "    }\n",
       "\n",
       "    .dataframe tbody tr th {\n",
       "        vertical-align: top;\n",
       "    }\n",
       "\n",
       "    .dataframe thead th {\n",
       "        text-align: right;\n",
       "    }\n",
       "</style>\n",
       "<table border=\"1\" class=\"dataframe\">\n",
       "  <thead>\n",
       "    <tr style=\"text-align: right;\">\n",
       "      <th></th>\n",
       "      <th>date</th>\n",
       "      <th>revenue</th>\n",
       "      <th>orders</th>\n",
       "    </tr>\n",
       "  </thead>\n",
       "  <tbody>\n",
       "    <tr>\n",
       "      <th>0</th>\n",
       "      <td>2019-08-01</td>\n",
       "      <td>142779</td>\n",
       "      <td>23</td>\n",
       "    </tr>\n",
       "    <tr>\n",
       "      <th>2</th>\n",
       "      <td>2019-08-02</td>\n",
       "      <td>234381</td>\n",
       "      <td>42</td>\n",
       "    </tr>\n",
       "    <tr>\n",
       "      <th>4</th>\n",
       "      <td>2019-08-03</td>\n",
       "      <td>346854</td>\n",
       "      <td>66</td>\n",
       "    </tr>\n",
       "    <tr>\n",
       "      <th>6</th>\n",
       "      <td>2019-08-04</td>\n",
       "      <td>388030</td>\n",
       "      <td>77</td>\n",
       "    </tr>\n",
       "    <tr>\n",
       "      <th>8</th>\n",
       "      <td>2019-08-05</td>\n",
       "      <td>474413</td>\n",
       "      <td>99</td>\n",
       "    </tr>\n",
       "  </tbody>\n",
       "</table>\n",
       "</div>"
      ],
      "text/plain": [
       "        date  revenue  orders\n",
       "0 2019-08-01   142779      23\n",
       "2 2019-08-02   234381      42\n",
       "4 2019-08-03   346854      66\n",
       "6 2019-08-04   388030      77\n",
       "8 2019-08-05   474413      99"
      ]
     },
     "execution_count": 20,
     "metadata": {},
     "output_type": "execute_result"
    }
   ],
   "source": [
    "cumulative_revenue_A.head()"
   ]
  },
  {
   "cell_type": "code",
   "execution_count": 21,
   "metadata": {},
   "outputs": [
    {
     "data": {
      "image/png": "[encoded data removed]",
      "text/plain": [
       "<Figure size 720x360 with 1 Axes>"
      ]
     },
     "metadata": {
      "needs_background": "light"
     },
     "output_type": "display_data"
    }
   ],
   "source": [
    "# собираем данные в одном датафрейме\n",
    "merged_cumulative_revenue = cumulative_revenue_A.merge(\n",
    "    cumulative_revenue_B, left_on='date', right_on='date', \n",
    "    how='left', suffixes=['A', 'B']\n",
    ")\n",
    "\n",
    "# задаем масштаб графика\n",
    "plt.figure(figsize=(10,5))\n",
    "\n",
    "# cтроим отношение средних чеков\n",
    "plt.plot(merged_cumulative_revenue['date'], (\n",
    "    merged_cumulative_revenue['revenueB']/merged_cumulative_revenue['ordersB']\n",
    ")\n",
    "         /(merged_cumulative_revenue['revenueA']/merged_cumulative_revenue['ordersA'])-1)\n",
    "\n",
    "# добавляем горизонтальную ось \n",
    "plt.axhline(y=0, color='black', linestyle='--')\n",
    "\n",
    "plt.title('Изменение кумулятивного среднего чека группы B к группе A')\n",
    "plt.show()"
   ]
  },
  {
   "cell_type": "markdown",
   "metadata": {},
   "source": [
    "И снова этот характерный скачок в том же моменте теста. Кроме того, и в некоторых других точках график различия между группами резко меняется, что определенно указывает, в какие даты были совершены аномально крупные заказы."
   ]
  },
  {
   "cell_type": "markdown",
   "metadata": {},
   "source": [
    "### График кумулятивной конверсии по группам. "
   ]
  },
  {
   "cell_type": "code",
   "execution_count": 22,
   "metadata": {},
   "outputs": [
    {
     "data": {
      "image/png": "[encoded data removed]",
      "text/plain": [
       "<Figure size 720x360 with 1 Axes>"
      ]
     },
     "metadata": {
      "needs_background": "light"
     },
     "output_type": "display_data"
    }
   ],
   "source": [
    "# считаем кумулятивную конверсию\n",
    "cumulative_data['conversion'] = cumulative_data['orders']/cumulative_data['visitors']\n",
    "\n",
    "# отделяем данные по группе A\n",
    "cumulative_data_A = cumulative_data[cumulative_data['group']=='A']\n",
    "\n",
    "# отделяем данные по группе B\n",
    "cumulative_data_B = cumulative_data[cumulative_data['group']=='B']\n",
    "\n",
    "# задаем масштаб графика\n",
    "plt.figure(figsize=(10,5))\n",
    "\n",
    "# строим графики\n",
    "plt.plot(cumulative_data_A['date'], cumulative_data_A['conversion'], label='A')\n",
    "plt.plot(cumulative_data_B['date'], cumulative_data_B['conversion'], label='B')\n",
    "\n",
    "# задаем масштаб осей\n",
    "plt.axis([dt.datetime(2019, 8, 1), dt.datetime(2019, 9, 1), 0, 0.05])\n",
    "\n",
    "plt.legend()\n",
    "plt.title('Кумулятивная конверсия по группам')\n",
    "plt.show()"
   ]
  },
  {
   "cell_type": "markdown",
   "metadata": {},
   "source": [
    "И в группе А, и в группе В есть небольшой пик в начале теста, далее конверсия группы А проседает, а в группе В почти симметрично подрастает, затем оба сегмента стабилизируются. В целом колебания конверсии  относительно небольшие. Группа А в конце теста фиксируется на значении около 3%, группа В - около 3,5%"
   ]
  },
  {
   "cell_type": "markdown",
   "metadata": {},
   "source": [
    "### График относительного изменения кумулятивной конверсии группы B к группе A. "
   ]
  },
  {
   "cell_type": "code",
   "execution_count": 23,
   "metadata": {
    "scrolled": true
   },
   "outputs": [
    {
     "data": {
      "image/png": "[encoded data removed]",
      "text/plain": [
       "<Figure size 720x360 with 1 Axes>"
      ]
     },
     "metadata": {
      "needs_background": "light"
     },
     "output_type": "display_data"
    }
   ],
   "source": [
    "# объединим таблицы с конверсиями\n",
    "merged_cumulative_conversions = cumulative_data_A[['date','conversion']].merge(\n",
    "    cumulative_data_B[['date','conversion']], left_on='date', right_on='date', how='left', suffixes=['A', 'B'])\n",
    "\n",
    "# задаем масштаб графика\n",
    "plt.figure(figsize=(10,5))\n",
    "\n",
    "# стороим графики\n",
    "plt.plot(merged_cumulative_conversions['date'], \n",
    "         merged_cumulative_conversions['conversionB'] / merged_cumulative_conversions['conversionA']-1)\n",
    "plt.title('Относительный прирост конверсии группы B относительно группы A')\n",
    "\n",
    "# добавляем горизонтальные оси\n",
    "plt.axhline(y=0, color='black', linestyle='--')\n",
    "plt.axhline(y=0.10, color='grey', linestyle='--')\n",
    "plt.show()\n"
   ]
  },
  {
   "cell_type": "markdown",
   "metadata": {},
   "source": [
    "Если не учитывать падение в начале, то в целом конверсия группы В значительно опережает конверсию группы А, в середине теста доходит до разницы в 20% и к концу колеблется в районе 15%. Но мы помним про возможные аномальные значения среднего чека в группе В, поэтому их нужно проанализировать и выяснить, насколько они искажают картину.\n",
    "\n",
    "\n"
   ]
  },
  {
   "cell_type": "markdown",
   "metadata": {},
   "source": [
    "### График количества заказов по пользователям. "
   ]
  },
  {
   "cell_type": "code",
   "execution_count": 24,
   "metadata": {
    "scrolled": false
   },
   "outputs": [
    {
     "data": {
      "text/html": [
       "<div>\n",
       "<style scoped>\n",
       "    .dataframe tbody tr th:only-of-type {\n",
       "        vertical-align: middle;\n",
       "    }\n",
       "\n",
       "    .dataframe tbody tr th {\n",
       "        vertical-align: top;\n",
       "    }\n",
       "\n",
       "    .dataframe thead th {\n",
       "        text-align: right;\n",
       "    }\n",
       "</style>\n",
       "<table border=\"1\" class=\"dataframe\">\n",
       "  <thead>\n",
       "    <tr style=\"text-align: right;\">\n",
       "      <th></th>\n",
       "      <th>transaction_id</th>\n",
       "      <th>visitor_id</th>\n",
       "      <th>date</th>\n",
       "      <th>revenue</th>\n",
       "      <th>group</th>\n",
       "    </tr>\n",
       "  </thead>\n",
       "  <tbody>\n",
       "    <tr>\n",
       "      <th>0</th>\n",
       "      <td>3667963787</td>\n",
       "      <td>3312258926</td>\n",
       "      <td>2019-08-15</td>\n",
       "      <td>1650</td>\n",
       "      <td>B</td>\n",
       "    </tr>\n",
       "    <tr>\n",
       "      <th>1</th>\n",
       "      <td>2804400009</td>\n",
       "      <td>3642806036</td>\n",
       "      <td>2019-08-15</td>\n",
       "      <td>730</td>\n",
       "      <td>B</td>\n",
       "    </tr>\n",
       "    <tr>\n",
       "      <th>3</th>\n",
       "      <td>3797467345</td>\n",
       "      <td>1196621759</td>\n",
       "      <td>2019-08-15</td>\n",
       "      <td>9759</td>\n",
       "      <td>B</td>\n",
       "    </tr>\n",
       "    <tr>\n",
       "      <th>4</th>\n",
       "      <td>2282983706</td>\n",
       "      <td>2322279887</td>\n",
       "      <td>2019-08-15</td>\n",
       "      <td>2308</td>\n",
       "      <td>B</td>\n",
       "    </tr>\n",
       "    <tr>\n",
       "      <th>5</th>\n",
       "      <td>182168103</td>\n",
       "      <td>935554773</td>\n",
       "      <td>2019-08-15</td>\n",
       "      <td>2210</td>\n",
       "      <td>B</td>\n",
       "    </tr>\n",
       "  </tbody>\n",
       "</table>\n",
       "</div>"
      ],
      "text/plain": [
       "   transaction_id  visitor_id       date  revenue group\n",
       "0      3667963787  3312258926 2019-08-15     1650     B\n",
       "1      2804400009  3642806036 2019-08-15      730     B\n",
       "3      3797467345  1196621759 2019-08-15     9759     B\n",
       "4      2282983706  2322279887 2019-08-15     2308     B\n",
       "5       182168103   935554773 2019-08-15     2210     B"
      ]
     },
     "execution_count": 24,
     "metadata": {},
     "output_type": "execute_result"
    }
   ],
   "source": [
    "orders.head()"
   ]
  },
  {
   "cell_type": "code",
   "execution_count": 25,
   "metadata": {
    "scrolled": false
   },
   "outputs": [
    {
     "data": {
      "text/html": [
       "<div>\n",
       "<style scoped>\n",
       "    .dataframe tbody tr th:only-of-type {\n",
       "        vertical-align: middle;\n",
       "    }\n",
       "\n",
       "    .dataframe tbody tr th {\n",
       "        vertical-align: top;\n",
       "    }\n",
       "\n",
       "    .dataframe thead th {\n",
       "        text-align: right;\n",
       "    }\n",
       "</style>\n",
       "<table border=\"1\" class=\"dataframe\">\n",
       "  <thead>\n",
       "    <tr style=\"text-align: right;\">\n",
       "      <th></th>\n",
       "      <th>visitor_id</th>\n",
       "      <th>transaction_id</th>\n",
       "    </tr>\n",
       "  </thead>\n",
       "  <tbody>\n",
       "    <tr>\n",
       "      <th>908</th>\n",
       "      <td>3967698036</td>\n",
       "      <td>3</td>\n",
       "    </tr>\n",
       "    <tr>\n",
       "      <th>55</th>\n",
       "      <td>249864742</td>\n",
       "      <td>3</td>\n",
       "    </tr>\n",
       "    <tr>\n",
       "      <th>478</th>\n",
       "      <td>2108163459</td>\n",
       "      <td>3</td>\n",
       "    </tr>\n",
       "    <tr>\n",
       "      <th>687</th>\n",
       "      <td>2988190573</td>\n",
       "      <td>3</td>\n",
       "    </tr>\n",
       "    <tr>\n",
       "      <th>890</th>\n",
       "      <td>3908431265</td>\n",
       "      <td>3</td>\n",
       "    </tr>\n",
       "  </tbody>\n",
       "</table>\n",
       "</div>"
      ],
      "text/plain": [
       "     visitor_id  transaction_id\n",
       "908  3967698036               3\n",
       "55    249864742               3\n",
       "478  2108163459               3\n",
       "687  2988190573               3\n",
       "890  3908431265               3"
      ]
     },
     "execution_count": 25,
     "metadata": {},
     "output_type": "execute_result"
    }
   ],
   "source": [
    "# найдем число заказов по пользователям \n",
    "orders_by_users = (\n",
    "    orders.groupby('visitor_id', as_index=False)\n",
    "    .agg({'transaction_id': 'nunique'})\n",
    ")\n",
    "\n",
    "\n",
    "orders_by_users.sort_values(by='transaction_id', ascending=False).head()"
   ]
  },
  {
   "cell_type": "code",
   "execution_count": 26,
   "metadata": {
    "scrolled": true
   },
   "outputs": [
    {
     "data": {
      "image/png": "[encoded data removed]",
      "text/plain": [
       "<Figure size 432x288 with 1 Axes>"
      ]
     },
     "metadata": {
      "needs_background": "light"
     },
     "output_type": "display_data"
    }
   ],
   "source": [
    "x_values = pd.Series(range(0, len(orders_by_users)))\n",
    "\n",
    "plt.scatter(x_values, orders_by_users['transaction_id']) \n",
    "plt.title('Количество заказов по пользователям')\n",
    "plt.ylabel('заказы')\n",
    "plt.xlabel('пользователи')\n",
    "plt.show()"
   ]
  },
  {
   "cell_type": "markdown",
   "metadata": {},
   "source": [
    "В основном пользователи совершают 1 заказ, гораздо реже - 2, но также есть незначительное количество тех, кто сделал 3 заказа(и это определенно выбросы) А вот являются ли пользователи с двумя заказами аномальными, посмотрим с помощью выборочных перцентилев."
   ]
  },
  {
   "cell_type": "markdown",
   "metadata": {},
   "source": [
    "### Подсчет 95-й и 99-й перцентилей количества заказов на пользователя. "
   ]
  },
  {
   "cell_type": "code",
   "execution_count": 27,
   "metadata": {
    "scrolled": true
   },
   "outputs": [
    {
     "name": "stdout",
     "output_type": "stream",
     "text": [
      "Количество заказов у 95% покупателей не более 1.0\n",
      "Количество заказов у 99% покупателей не более 2.0\n"
     ]
    }
   ],
   "source": [
    "print('Количество заказов у 95% покупателей не более {}'\n",
    "      .format(np.percentile(orders_by_users['transaction_id'], 95)))\n",
    "\n",
    "print('Количество заказов у 99% покупателей не более {}'\n",
    "      .format(np.percentile(orders_by_users['transaction_id'], 99)))"
   ]
  },
  {
   "cell_type": "markdown",
   "metadata": {},
   "source": [
    "Около 5% пользователей совершают больше, чем один заказ и всего 1% делают 2 или 3. Поэтому возьмем максимальную планку в 2 заказа, чтобы отсеять аномальных покупателей. "
   ]
  },
  {
   "cell_type": "markdown",
   "metadata": {},
   "source": [
    "### График стоимостей заказов.\n"
   ]
  },
  {
   "cell_type": "code",
   "execution_count": 28,
   "metadata": {},
   "outputs": [
    {
     "data": {
      "text/html": [
       "<div>\n",
       "<style scoped>\n",
       "    .dataframe tbody tr th:only-of-type {\n",
       "        vertical-align: middle;\n",
       "    }\n",
       "\n",
       "    .dataframe tbody tr th {\n",
       "        vertical-align: top;\n",
       "    }\n",
       "\n",
       "    .dataframe thead th {\n",
       "        text-align: right;\n",
       "    }\n",
       "</style>\n",
       "<table border=\"1\" class=\"dataframe\">\n",
       "  <thead>\n",
       "    <tr style=\"text-align: right;\">\n",
       "      <th></th>\n",
       "      <th>transaction_id</th>\n",
       "      <th>visitor_id</th>\n",
       "      <th>date</th>\n",
       "      <th>revenue</th>\n",
       "      <th>group</th>\n",
       "    </tr>\n",
       "  </thead>\n",
       "  <tbody>\n",
       "    <tr>\n",
       "      <th>425</th>\n",
       "      <td>590470918</td>\n",
       "      <td>1920142716</td>\n",
       "      <td>2019-08-19</td>\n",
       "      <td>1294500</td>\n",
       "      <td>B</td>\n",
       "    </tr>\n",
       "    <tr>\n",
       "      <th>1196</th>\n",
       "      <td>3936777065</td>\n",
       "      <td>2108080724</td>\n",
       "      <td>2019-08-15</td>\n",
       "      <td>202740</td>\n",
       "      <td>B</td>\n",
       "    </tr>\n",
       "    <tr>\n",
       "      <th>1136</th>\n",
       "      <td>666610489</td>\n",
       "      <td>1307669133</td>\n",
       "      <td>2019-08-13</td>\n",
       "      <td>92550</td>\n",
       "      <td>A</td>\n",
       "    </tr>\n",
       "    <tr>\n",
       "      <th>744</th>\n",
       "      <td>3668308183</td>\n",
       "      <td>888512513</td>\n",
       "      <td>2019-08-27</td>\n",
       "      <td>86620</td>\n",
       "      <td>B</td>\n",
       "    </tr>\n",
       "    <tr>\n",
       "      <th>743</th>\n",
       "      <td>3603576309</td>\n",
       "      <td>4133034833</td>\n",
       "      <td>2019-08-09</td>\n",
       "      <td>67990</td>\n",
       "      <td>A</td>\n",
       "    </tr>\n",
       "  </tbody>\n",
       "</table>\n",
       "</div>"
      ],
      "text/plain": [
       "      transaction_id  visitor_id       date  revenue group\n",
       "425        590470918  1920142716 2019-08-19  1294500     B\n",
       "1196      3936777065  2108080724 2019-08-15   202740     B\n",
       "1136       666610489  1307669133 2019-08-13    92550     A\n",
       "744       3668308183   888512513 2019-08-27    86620     B\n",
       "743       3603576309  4133034833 2019-08-09    67990     A"
      ]
     },
     "metadata": {},
     "output_type": "display_data"
    },
    {
     "data": {
      "image/png": "[encoded data removed]",
      "text/plain": [
       "<Figure size 432x288 with 1 Axes>"
      ]
     },
     "metadata": {
      "needs_background": "light"
     },
     "output_type": "display_data"
    }
   ],
   "source": [
    "# отсортируем таблицу заказов, начиная с самых крупных\n",
    "display(orders.sort_values(by='revenue', ascending=False).head())\n",
    "\n",
    "x_values = pd.Series(range(0, len(orders['revenue'])))\n",
    "\n",
    "plt.scatter(x_values, orders['revenue'])\n",
    "plt.title('Стоимость заказов')\n",
    "plt.ylabel('стоимость')\n",
    "plt.xlabel('пользователи')\n",
    "plt.show()"
   ]
  },
  {
   "cell_type": "markdown",
   "metadata": {},
   "source": [
    "Есть два заметно дорогих заказа - на 1 294 500 и 202 740. Очевидно именно этот заказ, превышающий миллион, искажал куммулятивный чек в группе B и вызывал резкий скачок на графиках выручки и среднего чека. Определим с помощью выборочных перцентилев границу аномальных заказов."
   ]
  },
  {
   "cell_type": "markdown",
   "metadata": {},
   "source": [
    "### Подсчет 95-й и 99-й перцентилей стоимости заказов. "
   ]
  },
  {
   "cell_type": "code",
   "execution_count": 29,
   "metadata": {},
   "outputs": [
    {
     "name": "stdout",
     "output_type": "stream",
     "text": [
      "Стоимость заказа у 95% покупателей не превышает 26785.0\n",
      "Стоимость заказа у 99% покупателей не превышает 53904.0\n"
     ]
    }
   ],
   "source": [
    "print('Стоимость заказа у 95% покупателей не превышает {}'\n",
    "      .format(np.percentile(orders['revenue'], 95).round()))\n",
    "\n",
    "print('Стоимость заказа у 99% покупателей не превышает {}'\n",
    "      .format(np.percentile(orders['revenue'], 99).round()))"
   ]
  },
  {
   "cell_type": "markdown",
   "metadata": {},
   "source": [
    "Не более 5% заказов дороже 26 785 и не более 1% дороже 53 904. Также как и в случае с количеством заказов, отсеем 1% пользователей с аномально дорогими заказами."
   ]
  },
  {
   "cell_type": "markdown",
   "metadata": {},
   "source": [
    "### Статистическая значимость различий в конверсии между группами по «сырым» данным. "
   ]
  },
  {
   "cell_type": "code",
   "execution_count": 30,
   "metadata": {
    "scrolled": true
   },
   "outputs": [
    {
     "data": {
      "text/html": [
       "<div>\n",
       "<style scoped>\n",
       "    .dataframe tbody tr th:only-of-type {\n",
       "        vertical-align: middle;\n",
       "    }\n",
       "\n",
       "    .dataframe tbody tr th {\n",
       "        vertical-align: top;\n",
       "    }\n",
       "\n",
       "    .dataframe thead th {\n",
       "        text-align: right;\n",
       "    }\n",
       "</style>\n",
       "<table border=\"1\" class=\"dataframe\">\n",
       "  <thead>\n",
       "    <tr style=\"text-align: right;\">\n",
       "      <th></th>\n",
       "      <th>date</th>\n",
       "      <th>group</th>\n",
       "      <th>visitors</th>\n",
       "    </tr>\n",
       "  </thead>\n",
       "  <tbody>\n",
       "    <tr>\n",
       "      <th>0</th>\n",
       "      <td>2019-08-01</td>\n",
       "      <td>A</td>\n",
       "      <td>719</td>\n",
       "    </tr>\n",
       "    <tr>\n",
       "      <th>1</th>\n",
       "      <td>2019-08-02</td>\n",
       "      <td>A</td>\n",
       "      <td>619</td>\n",
       "    </tr>\n",
       "    <tr>\n",
       "      <th>2</th>\n",
       "      <td>2019-08-03</td>\n",
       "      <td>A</td>\n",
       "      <td>507</td>\n",
       "    </tr>\n",
       "    <tr>\n",
       "      <th>3</th>\n",
       "      <td>2019-08-04</td>\n",
       "      <td>A</td>\n",
       "      <td>717</td>\n",
       "    </tr>\n",
       "    <tr>\n",
       "      <th>4</th>\n",
       "      <td>2019-08-05</td>\n",
       "      <td>A</td>\n",
       "      <td>756</td>\n",
       "    </tr>\n",
       "  </tbody>\n",
       "</table>\n",
       "</div>"
      ],
      "text/plain": [
       "        date group  visitors\n",
       "0 2019-08-01     A       719\n",
       "1 2019-08-02     A       619\n",
       "2 2019-08-03     A       507\n",
       "3 2019-08-04     A       717\n",
       "4 2019-08-05     A       756"
      ]
     },
     "execution_count": 30,
     "metadata": {},
     "output_type": "execute_result"
    }
   ],
   "source": [
    "visitors.head()"
   ]
  },
  {
   "cell_type": "code",
   "execution_count": 31,
   "metadata": {
    "scrolled": true
   },
   "outputs": [
    {
     "data": {
      "text/html": [
       "<div>\n",
       "<style scoped>\n",
       "    .dataframe tbody tr th:only-of-type {\n",
       "        vertical-align: middle;\n",
       "    }\n",
       "\n",
       "    .dataframe tbody tr th {\n",
       "        vertical-align: top;\n",
       "    }\n",
       "\n",
       "    .dataframe thead th {\n",
       "        text-align: right;\n",
       "    }\n",
       "</style>\n",
       "<table border=\"1\" class=\"dataframe\">\n",
       "  <thead>\n",
       "    <tr style=\"text-align: right;\">\n",
       "      <th></th>\n",
       "      <th>date</th>\n",
       "      <th>visitors_cummulative_A</th>\n",
       "    </tr>\n",
       "  </thead>\n",
       "  <tbody>\n",
       "    <tr>\n",
       "      <th>0</th>\n",
       "      <td>2019-08-01</td>\n",
       "      <td>719</td>\n",
       "    </tr>\n",
       "    <tr>\n",
       "      <th>1</th>\n",
       "      <td>2019-08-02</td>\n",
       "      <td>1338</td>\n",
       "    </tr>\n",
       "    <tr>\n",
       "      <th>2</th>\n",
       "      <td>2019-08-03</td>\n",
       "      <td>1845</td>\n",
       "    </tr>\n",
       "    <tr>\n",
       "      <th>3</th>\n",
       "      <td>2019-08-04</td>\n",
       "      <td>2562</td>\n",
       "    </tr>\n",
       "    <tr>\n",
       "      <th>4</th>\n",
       "      <td>2019-08-05</td>\n",
       "      <td>3318</td>\n",
       "    </tr>\n",
       "  </tbody>\n",
       "</table>\n",
       "</div>"
      ],
      "text/plain": [
       "        date  visitors_cummulative_A\n",
       "0 2019-08-01                     719\n",
       "1 2019-08-02                    1338\n",
       "2 2019-08-03                    1845\n",
       "3 2019-08-04                    2562\n",
       "4 2019-08-05                    3318"
      ]
     },
     "execution_count": 31,
     "metadata": {},
     "output_type": "execute_result"
    }
   ],
   "source": [
    "# собираем кумулятивное количество пользователей в выбранную дату в группе A\n",
    "\n",
    "visitors_A_daily = visitors[visitors['group'] == 'A'][['date', 'visitors']]\n",
    "visitors_A_daily.columns = ['date', 'visitors_per_date_A']\n",
    "\n",
    "\n",
    "visitors_A_cummulative = visitors_A_daily.apply(\n",
    "    lambda x: visitors_A_daily[visitors_A_daily['date'] <= x['date']].agg(\n",
    "        {'date': 'max', 'visitors_per_date_A': 'sum'}\n",
    "    ),\n",
    "    axis=1,\n",
    ")\n",
    "\n",
    "visitors_A_cummulative.columns = ['date', 'visitors_cummulative_A']\n",
    "\n",
    "visitors_A_cummulative.head()"
   ]
  },
  {
   "cell_type": "code",
   "execution_count": 32,
   "metadata": {
    "scrolled": true
   },
   "outputs": [
    {
     "data": {
      "text/html": [
       "<div>\n",
       "<style scoped>\n",
       "    .dataframe tbody tr th:only-of-type {\n",
       "        vertical-align: middle;\n",
       "    }\n",
       "\n",
       "    .dataframe tbody tr th {\n",
       "        vertical-align: top;\n",
       "    }\n",
       "\n",
       "    .dataframe thead th {\n",
       "        text-align: right;\n",
       "    }\n",
       "</style>\n",
       "<table border=\"1\" class=\"dataframe\">\n",
       "  <thead>\n",
       "    <tr style=\"text-align: right;\">\n",
       "      <th></th>\n",
       "      <th>date</th>\n",
       "      <th>visitors_cummulative_B</th>\n",
       "    </tr>\n",
       "  </thead>\n",
       "  <tbody>\n",
       "    <tr>\n",
       "      <th>31</th>\n",
       "      <td>2019-08-01</td>\n",
       "      <td>713</td>\n",
       "    </tr>\n",
       "    <tr>\n",
       "      <th>32</th>\n",
       "      <td>2019-08-02</td>\n",
       "      <td>1294</td>\n",
       "    </tr>\n",
       "    <tr>\n",
       "      <th>33</th>\n",
       "      <td>2019-08-03</td>\n",
       "      <td>1803</td>\n",
       "    </tr>\n",
       "    <tr>\n",
       "      <th>34</th>\n",
       "      <td>2019-08-04</td>\n",
       "      <td>2573</td>\n",
       "    </tr>\n",
       "    <tr>\n",
       "      <th>35</th>\n",
       "      <td>2019-08-05</td>\n",
       "      <td>3280</td>\n",
       "    </tr>\n",
       "  </tbody>\n",
       "</table>\n",
       "</div>"
      ],
      "text/plain": [
       "         date  visitors_cummulative_B\n",
       "31 2019-08-01                     713\n",
       "32 2019-08-02                    1294\n",
       "33 2019-08-03                    1803\n",
       "34 2019-08-04                    2573\n",
       "35 2019-08-05                    3280"
      ]
     },
     "execution_count": 32,
     "metadata": {},
     "output_type": "execute_result"
    }
   ],
   "source": [
    "# собираем кумулятивное количество пользователей в выбранную дату в группе B\n",
    "\n",
    "visitors_B_daily = visitors[visitors['group'] == 'B'][['date', 'visitors']]\n",
    "visitors_B_daily.columns = ['date', 'visitors_per_date_B']\n",
    "\n",
    "visitors_B_cummulative = visitors_B_daily.apply(\n",
    "    lambda x: visitors_B_daily[visitors_B_daily['date'] <= x['date']].agg(\n",
    "        {'date': 'max', 'visitors_per_date_B': 'sum'}\n",
    "    ),\n",
    "    axis=1,\n",
    ")\n",
    "visitors_B_cummulative.columns = ['date', 'visitors_cummulative_B']\n",
    "\n",
    "visitors_B_cummulative.head()"
   ]
  },
  {
   "cell_type": "code",
   "execution_count": 33,
   "metadata": {
    "scrolled": true
   },
   "outputs": [
    {
     "data": {
      "text/html": [
       "<div>\n",
       "<style scoped>\n",
       "    .dataframe tbody tr th:only-of-type {\n",
       "        vertical-align: middle;\n",
       "    }\n",
       "\n",
       "    .dataframe tbody tr th {\n",
       "        vertical-align: top;\n",
       "    }\n",
       "\n",
       "    .dataframe thead th {\n",
       "        text-align: right;\n",
       "    }\n",
       "</style>\n",
       "<table border=\"1\" class=\"dataframe\">\n",
       "  <thead>\n",
       "    <tr style=\"text-align: right;\">\n",
       "      <th></th>\n",
       "      <th>transaction_id</th>\n",
       "      <th>visitor_id</th>\n",
       "      <th>date</th>\n",
       "      <th>revenue</th>\n",
       "      <th>group</th>\n",
       "    </tr>\n",
       "  </thead>\n",
       "  <tbody>\n",
       "    <tr>\n",
       "      <th>0</th>\n",
       "      <td>3667963787</td>\n",
       "      <td>3312258926</td>\n",
       "      <td>2019-08-15</td>\n",
       "      <td>1650</td>\n",
       "      <td>B</td>\n",
       "    </tr>\n",
       "    <tr>\n",
       "      <th>1</th>\n",
       "      <td>2804400009</td>\n",
       "      <td>3642806036</td>\n",
       "      <td>2019-08-15</td>\n",
       "      <td>730</td>\n",
       "      <td>B</td>\n",
       "    </tr>\n",
       "    <tr>\n",
       "      <th>3</th>\n",
       "      <td>3797467345</td>\n",
       "      <td>1196621759</td>\n",
       "      <td>2019-08-15</td>\n",
       "      <td>9759</td>\n",
       "      <td>B</td>\n",
       "    </tr>\n",
       "    <tr>\n",
       "      <th>4</th>\n",
       "      <td>2282983706</td>\n",
       "      <td>2322279887</td>\n",
       "      <td>2019-08-15</td>\n",
       "      <td>2308</td>\n",
       "      <td>B</td>\n",
       "    </tr>\n",
       "    <tr>\n",
       "      <th>5</th>\n",
       "      <td>182168103</td>\n",
       "      <td>935554773</td>\n",
       "      <td>2019-08-15</td>\n",
       "      <td>2210</td>\n",
       "      <td>B</td>\n",
       "    </tr>\n",
       "  </tbody>\n",
       "</table>\n",
       "</div>"
      ],
      "text/plain": [
       "   transaction_id  visitor_id       date  revenue group\n",
       "0      3667963787  3312258926 2019-08-15     1650     B\n",
       "1      2804400009  3642806036 2019-08-15      730     B\n",
       "3      3797467345  1196621759 2019-08-15     9759     B\n",
       "4      2282983706  2322279887 2019-08-15     2308     B\n",
       "5       182168103   935554773 2019-08-15     2210     B"
      ]
     },
     "execution_count": 33,
     "metadata": {},
     "output_type": "execute_result"
    }
   ],
   "source": [
    "orders.head()"
   ]
  },
  {
   "cell_type": "code",
   "execution_count": 34,
   "metadata": {
    "scrolled": false
   },
   "outputs": [],
   "source": [
    "# собираем данные с количеством заказов в выбранную дату в группе A\n",
    "\n",
    "orders_A_daily = (\n",
    "    orders[orders['group'] == 'A'][['date', 'transaction_id', 'visitor_id', 'revenue']]\n",
    "    .groupby('date', as_index=False)\n",
    "    .agg({'transaction_id': pd.Series.nunique, 'revenue': 'sum'})\n",
    ")\n",
    "orders_A_daily.columns = ['date', 'orders_per_date_A', 'revenue_per_date_A']\n",
    "\n"
   ]
  },
  {
   "cell_type": "code",
   "execution_count": 35,
   "metadata": {},
   "outputs": [],
   "source": [
    "# собираем данные с количеством заказов в выбранную дату в группе B\n",
    "\n",
    "orders_B_daily = (\n",
    "    orders[orders['group'] == 'B'][['date', 'transaction_id', 'visitor_id', 'revenue']]\n",
    "    .groupby('date', as_index=False)\n",
    "    .agg({'transaction_id': pd.Series.nunique, 'revenue': 'sum'})\n",
    ")\n",
    "orders_B_daily.columns = ['date', 'orders_per_date_B', 'revenue_per_date_B']\n"
   ]
  },
  {
   "cell_type": "code",
   "execution_count": 36,
   "metadata": {},
   "outputs": [
    {
     "data": {
      "text/html": [
       "<div>\n",
       "<style scoped>\n",
       "    .dataframe tbody tr th:only-of-type {\n",
       "        vertical-align: middle;\n",
       "    }\n",
       "\n",
       "    .dataframe tbody tr th {\n",
       "        vertical-align: top;\n",
       "    }\n",
       "\n",
       "    .dataframe thead th {\n",
       "        text-align: right;\n",
       "    }\n",
       "</style>\n",
       "<table border=\"1\" class=\"dataframe\">\n",
       "  <thead>\n",
       "    <tr style=\"text-align: right;\">\n",
       "      <th></th>\n",
       "      <th>date</th>\n",
       "      <th>revenue_cummulative_A</th>\n",
       "      <th>orders_cummulative_A</th>\n",
       "      <th>revenue_cummulative_B</th>\n",
       "      <th>orders_cummulative_B</th>\n",
       "    </tr>\n",
       "  </thead>\n",
       "  <tbody>\n",
       "    <tr>\n",
       "      <th>0</th>\n",
       "      <td>2019-08-01</td>\n",
       "      <td>142779</td>\n",
       "      <td>23</td>\n",
       "      <td>59758</td>\n",
       "      <td>17</td>\n",
       "    </tr>\n",
       "    <tr>\n",
       "      <th>1</th>\n",
       "      <td>2019-08-02</td>\n",
       "      <td>234381</td>\n",
       "      <td>42</td>\n",
       "      <td>221801</td>\n",
       "      <td>40</td>\n",
       "    </tr>\n",
       "    <tr>\n",
       "      <th>2</th>\n",
       "      <td>2019-08-03</td>\n",
       "      <td>346854</td>\n",
       "      <td>66</td>\n",
       "      <td>288850</td>\n",
       "      <td>54</td>\n",
       "    </tr>\n",
       "    <tr>\n",
       "      <th>3</th>\n",
       "      <td>2019-08-04</td>\n",
       "      <td>388030</td>\n",
       "      <td>77</td>\n",
       "      <td>385740</td>\n",
       "      <td>68</td>\n",
       "    </tr>\n",
       "    <tr>\n",
       "      <th>4</th>\n",
       "      <td>2019-08-05</td>\n",
       "      <td>474413</td>\n",
       "      <td>99</td>\n",
       "      <td>475648</td>\n",
       "      <td>89</td>\n",
       "    </tr>\n",
       "  </tbody>\n",
       "</table>\n",
       "</div>"
      ],
      "text/plain": [
       "        date  revenue_cummulative_A  orders_cummulative_A  \\\n",
       "0 2019-08-01                 142779                    23   \n",
       "1 2019-08-02                 234381                    42   \n",
       "2 2019-08-03                 346854                    66   \n",
       "3 2019-08-04                 388030                    77   \n",
       "4 2019-08-05                 474413                    99   \n",
       "\n",
       "   revenue_cummulative_B  orders_cummulative_B  \n",
       "0                  59758                    17  \n",
       "1                 221801                    40  \n",
       "2                 288850                    54  \n",
       "3                 385740                    68  \n",
       "4                 475648                    89  "
      ]
     },
     "execution_count": 36,
     "metadata": {},
     "output_type": "execute_result"
    }
   ],
   "source": [
    "# переименуем столбцы таблицы с куммулятивными данными количества и суммы заказов ранее созданной таблицы\n",
    "\n",
    "merged_cumulative_revenue.columns = ['date', \n",
    "                                     'revenue_cummulative_A', \n",
    "                                     'orders_cummulative_A',\n",
    "                                     'revenue_cummulative_B',\n",
    "                                     'orders_cummulative_B']\n",
    "\n",
    "merged_cumulative_revenue.head()"
   ]
  },
  {
   "cell_type": "code",
   "execution_count": 37,
   "metadata": {
    "scrolled": false
   },
   "outputs": [
    {
     "data": {
      "text/html": [
       "<div>\n",
       "<style scoped>\n",
       "    .dataframe tbody tr th:only-of-type {\n",
       "        vertical-align: middle;\n",
       "    }\n",
       "\n",
       "    .dataframe tbody tr th {\n",
       "        vertical-align: top;\n",
       "    }\n",
       "\n",
       "    .dataframe thead th {\n",
       "        text-align: right;\n",
       "    }\n",
       "</style>\n",
       "<table border=\"1\" class=\"dataframe\">\n",
       "  <thead>\n",
       "    <tr style=\"text-align: right;\">\n",
       "      <th></th>\n",
       "      <th>date</th>\n",
       "      <th>orders_per_date_A</th>\n",
       "      <th>revenue_per_date_A</th>\n",
       "      <th>orders_per_date_B</th>\n",
       "      <th>revenue_per_date_B</th>\n",
       "      <th>revenue_cummulative_A</th>\n",
       "      <th>orders_cummulative_A</th>\n",
       "      <th>revenue_cummulative_B</th>\n",
       "      <th>orders_cummulative_B</th>\n",
       "      <th>visitors_per_date_A</th>\n",
       "      <th>visitors_per_date_B</th>\n",
       "      <th>visitors_cummulative_A</th>\n",
       "      <th>visitors_cummulative_B</th>\n",
       "    </tr>\n",
       "  </thead>\n",
       "  <tbody>\n",
       "    <tr>\n",
       "      <th>0</th>\n",
       "      <td>2019-08-01</td>\n",
       "      <td>23</td>\n",
       "      <td>142779</td>\n",
       "      <td>17</td>\n",
       "      <td>59758</td>\n",
       "      <td>142779</td>\n",
       "      <td>23</td>\n",
       "      <td>59758</td>\n",
       "      <td>17</td>\n",
       "      <td>719</td>\n",
       "      <td>713</td>\n",
       "      <td>719</td>\n",
       "      <td>713</td>\n",
       "    </tr>\n",
       "    <tr>\n",
       "      <th>1</th>\n",
       "      <td>2019-08-02</td>\n",
       "      <td>19</td>\n",
       "      <td>91602</td>\n",
       "      <td>23</td>\n",
       "      <td>162043</td>\n",
       "      <td>234381</td>\n",
       "      <td>42</td>\n",
       "      <td>221801</td>\n",
       "      <td>40</td>\n",
       "      <td>619</td>\n",
       "      <td>581</td>\n",
       "      <td>1338</td>\n",
       "      <td>1294</td>\n",
       "    </tr>\n",
       "    <tr>\n",
       "      <th>2</th>\n",
       "      <td>2019-08-03</td>\n",
       "      <td>24</td>\n",
       "      <td>112473</td>\n",
       "      <td>14</td>\n",
       "      <td>67049</td>\n",
       "      <td>346854</td>\n",
       "      <td>66</td>\n",
       "      <td>288850</td>\n",
       "      <td>54</td>\n",
       "      <td>507</td>\n",
       "      <td>509</td>\n",
       "      <td>1845</td>\n",
       "      <td>1803</td>\n",
       "    </tr>\n",
       "    <tr>\n",
       "      <th>3</th>\n",
       "      <td>2019-08-04</td>\n",
       "      <td>11</td>\n",
       "      <td>41176</td>\n",
       "      <td>14</td>\n",
       "      <td>96890</td>\n",
       "      <td>388030</td>\n",
       "      <td>77</td>\n",
       "      <td>385740</td>\n",
       "      <td>68</td>\n",
       "      <td>717</td>\n",
       "      <td>770</td>\n",
       "      <td>2562</td>\n",
       "      <td>2573</td>\n",
       "    </tr>\n",
       "    <tr>\n",
       "      <th>4</th>\n",
       "      <td>2019-08-05</td>\n",
       "      <td>22</td>\n",
       "      <td>86383</td>\n",
       "      <td>21</td>\n",
       "      <td>89908</td>\n",
       "      <td>474413</td>\n",
       "      <td>99</td>\n",
       "      <td>475648</td>\n",
       "      <td>89</td>\n",
       "      <td>756</td>\n",
       "      <td>707</td>\n",
       "      <td>3318</td>\n",
       "      <td>3280</td>\n",
       "    </tr>\n",
       "  </tbody>\n",
       "</table>\n",
       "</div>"
      ],
      "text/plain": [
       "        date  orders_per_date_A  revenue_per_date_A  orders_per_date_B  \\\n",
       "0 2019-08-01                 23              142779                 17   \n",
       "1 2019-08-02                 19               91602                 23   \n",
       "2 2019-08-03                 24              112473                 14   \n",
       "3 2019-08-04                 11               41176                 14   \n",
       "4 2019-08-05                 22               86383                 21   \n",
       "\n",
       "   revenue_per_date_B  revenue_cummulative_A  orders_cummulative_A  \\\n",
       "0               59758                 142779                    23   \n",
       "1              162043                 234381                    42   \n",
       "2               67049                 346854                    66   \n",
       "3               96890                 388030                    77   \n",
       "4               89908                 474413                    99   \n",
       "\n",
       "   revenue_cummulative_B  orders_cummulative_B  visitors_per_date_A  \\\n",
       "0                  59758                    17                  719   \n",
       "1                 221801                    40                  619   \n",
       "2                 288850                    54                  507   \n",
       "3                 385740                    68                  717   \n",
       "4                 475648                    89                  756   \n",
       "\n",
       "   visitors_per_date_B  visitors_cummulative_A  visitors_cummulative_B  \n",
       "0                  713                     719                     713  \n",
       "1                  581                    1338                    1294  \n",
       "2                  509                    1845                    1803  \n",
       "3                  770                    2562                    2573  \n",
       "4                  707                    3318                    3280  "
      ]
     },
     "metadata": {},
     "output_type": "display_data"
    }
   ],
   "source": [
    "# соединяем все таблицы в одну\n",
    "\n",
    "data = (\n",
    "    orders_A_daily.merge(\n",
    "        orders_B_daily, left_on='date', right_on='date', how='left'\n",
    "    )\n",
    "    .merge(merged_cumulative_revenue, left_on='date', right_on='date', how='left') \n",
    "    .merge(visitors_A_daily, left_on='date', right_on='date', how='left')\n",
    "    .merge(visitors_B_daily, left_on='date', right_on='date', how='left')\n",
    "    .merge(visitors_A_cummulative, left_on='date', right_on='date', how='left')\n",
    "    .merge(visitors_B_cummulative, left_on='date', right_on='date', how='left')\n",
    ")\n",
    "\n",
    "display(data.head())"
   ]
  },
  {
   "cell_type": "code",
   "execution_count": 38,
   "metadata": {
    "scrolled": true
   },
   "outputs": [
    {
     "data": {
      "text/html": [
       "<div>\n",
       "<style scoped>\n",
       "    .dataframe tbody tr th:only-of-type {\n",
       "        vertical-align: middle;\n",
       "    }\n",
       "\n",
       "    .dataframe tbody tr th {\n",
       "        vertical-align: top;\n",
       "    }\n",
       "\n",
       "    .dataframe thead th {\n",
       "        text-align: right;\n",
       "    }\n",
       "</style>\n",
       "<table border=\"1\" class=\"dataframe\">\n",
       "  <thead>\n",
       "    <tr style=\"text-align: right;\">\n",
       "      <th></th>\n",
       "      <th>transaction_id</th>\n",
       "      <th>visitor_id</th>\n",
       "      <th>date</th>\n",
       "      <th>revenue</th>\n",
       "      <th>group</th>\n",
       "    </tr>\n",
       "  </thead>\n",
       "  <tbody>\n",
       "    <tr>\n",
       "      <th>0</th>\n",
       "      <td>3667963787</td>\n",
       "      <td>3312258926</td>\n",
       "      <td>2019-08-15</td>\n",
       "      <td>1650</td>\n",
       "      <td>B</td>\n",
       "    </tr>\n",
       "    <tr>\n",
       "      <th>1</th>\n",
       "      <td>2804400009</td>\n",
       "      <td>3642806036</td>\n",
       "      <td>2019-08-15</td>\n",
       "      <td>730</td>\n",
       "      <td>B</td>\n",
       "    </tr>\n",
       "    <tr>\n",
       "      <th>3</th>\n",
       "      <td>3797467345</td>\n",
       "      <td>1196621759</td>\n",
       "      <td>2019-08-15</td>\n",
       "      <td>9759</td>\n",
       "      <td>B</td>\n",
       "    </tr>\n",
       "    <tr>\n",
       "      <th>4</th>\n",
       "      <td>2282983706</td>\n",
       "      <td>2322279887</td>\n",
       "      <td>2019-08-15</td>\n",
       "      <td>2308</td>\n",
       "      <td>B</td>\n",
       "    </tr>\n",
       "    <tr>\n",
       "      <th>5</th>\n",
       "      <td>182168103</td>\n",
       "      <td>935554773</td>\n",
       "      <td>2019-08-15</td>\n",
       "      <td>2210</td>\n",
       "      <td>B</td>\n",
       "    </tr>\n",
       "  </tbody>\n",
       "</table>\n",
       "</div>"
      ],
      "text/plain": [
       "   transaction_id  visitor_id       date  revenue group\n",
       "0      3667963787  3312258926 2019-08-15     1650     B\n",
       "1      2804400009  3642806036 2019-08-15      730     B\n",
       "3      3797467345  1196621759 2019-08-15     9759     B\n",
       "4      2282983706  2322279887 2019-08-15     2308     B\n",
       "5       182168103   935554773 2019-08-15     2210     B"
      ]
     },
     "execution_count": 38,
     "metadata": {},
     "output_type": "execute_result"
    }
   ],
   "source": [
    "orders.head()"
   ]
  },
  {
   "cell_type": "code",
   "execution_count": 39,
   "metadata": {},
   "outputs": [],
   "source": [
    "# Создадим переменные с числом совершенных заказов для пользователей, которые заказывали хотя бы 1 раз\n",
    "\n",
    "orders_by_users_A = (\n",
    "    orders[orders['group'] == 'A']\n",
    "    .groupby('visitor_id', as_index=False)\n",
    "    .agg({'transaction_id': pd.Series.nunique})\n",
    ")\n",
    "orders_by_users_A.columns = ['user_id', 'orders']\n",
    "\n",
    "orders_by_users_B = (\n",
    "    orders[orders['group'] == 'B']\n",
    "    .groupby('visitor_id', as_index=False)\n",
    "    .agg({'transaction_id': pd.Series.nunique})\n",
    ")\n",
    "orders_by_users_B.columns = ['user_id', 'orders']\n",
    "\n",
    "# объявим переменные, в которых пользователям из разных групп будет соответствовать количество заказов\n",
    "\n",
    "sample_A = pd.concat([orders_by_users_A['orders'],pd.Series\n",
    "                      (0, index=np.arange(data['visitors_per_date_A'].sum() - len(orders_by_users_A['orders'])), name='orders')],axis=0)\n",
    "\n",
    "sample_B = pd.concat([orders_by_users_B['orders'],pd.Series\n",
    "                      (0, index=np.arange(data['visitors_per_date_B'].sum() - len(orders_by_users_B['orders'])), name='orders')],axis=0)\n"
   ]
  },
  {
   "cell_type": "markdown",
   "metadata": {},
   "source": [
    "Сформулируем гипотезы, возьмем для проверки тест Манна-Уитни\n",
    "\n",
    "**H0: конверсия в группах А и В равна**\n",
    "\n",
    "**H1: конверсия в группах А и В не равна**"
   ]
  },
  {
   "cell_type": "code",
   "execution_count": 40,
   "metadata": {
    "scrolled": true
   },
   "outputs": [
    {
     "name": "stdout",
     "output_type": "stream",
     "text": [
      "p-значение: 0.011018084110014696\n",
      "Отвергаем нулевую гипотезу\n"
     ]
    }
   ],
   "source": [
    "alpha = 0.05\n",
    "\n",
    "results = stats.mannwhitneyu(sample_A, sample_B)\n",
    "\n",
    "pvalue = results.pvalue\n",
    "\n",
    "print('p-значение:', results.pvalue)\n",
    "\n",
    "if (results.pvalue < alpha):\n",
    "    print(\"Отвергаем нулевую гипотезу\")\n",
    "else:\n",
    "    print(\"Не получилось отвергнуть нулевую гипотезу\")\n"
   ]
  },
  {
   "cell_type": "code",
   "execution_count": 41,
   "metadata": {
    "scrolled": true
   },
   "outputs": [
    {
     "name": "stdout",
     "output_type": "stream",
     "text": [
      "Относительный прирост конверсии группы B 0.160\n"
     ]
    }
   ],
   "source": [
    "print('Относительный прирост конверсии группы B {0:.3f}'\n",
    "      .format(sample_B.mean() / sample_A.mean() - 1))"
   ]
  },
  {
   "cell_type": "markdown",
   "metadata": {},
   "source": [
    "**Вывод**\n",
    "\n",
    "Анализ сырых данных показывает, что в конверсии между группами есть статистические различия, конверсия группы В выше на 16%"
   ]
  },
  {
   "cell_type": "markdown",
   "metadata": {},
   "source": [
    "### Статистическая значимость различий в среднем чеке заказа между группами по «сырым» данным. "
   ]
  },
  {
   "cell_type": "markdown",
   "metadata": {},
   "source": [
    "Сформулируем гипотезы, возьмем для проверки тест Манна-Уитни\n",
    "\n",
    "**Н0: различий в среднем чеке между группами А и В нет.**\n",
    "\n",
    "**Н1:  различия в среднем чеке между группами А и В есть.**"
   ]
  },
  {
   "cell_type": "code",
   "execution_count": 42,
   "metadata": {},
   "outputs": [
    {
     "name": "stdout",
     "output_type": "stream",
     "text": [
      "p-значение: 0.8294908998149533\n",
      "Не получилось отвергнуть нулевую гипотезу\n"
     ]
    }
   ],
   "source": [
    "alpha = 0.05\n",
    "\n",
    "results = stats.mannwhitneyu(orders[orders['group']=='A']['revenue'], \n",
    "                             orders[orders['group']=='B']['revenue'])\n",
    "\n",
    "pvalue = results.pvalue\n",
    "\n",
    "print('p-значение:', results.pvalue)\n",
    "\n",
    "if (results.pvalue < alpha):\n",
    "    print(\"Отвергаем нулевую гипотезу\")\n",
    "else:\n",
    "    print(\"Не получилось отвергнуть нулевую гипотезу\")"
   ]
  },
  {
   "cell_type": "code",
   "execution_count": 43,
   "metadata": {},
   "outputs": [
    {
     "name": "stdout",
     "output_type": "stream",
     "text": [
      "Относительная разница в среднем чеке между группами 0.287\n"
     ]
    }
   ],
   "source": [
    "print('Относительная разница в среднем чеке между группами {0:.3f}'\n",
    "      .format(orders[orders['group']=='B']['revenue']\n",
    "              .mean()/orders[orders['group']=='A']['revenue'].mean()-1))"
   ]
  },
  {
   "cell_type": "markdown",
   "metadata": {},
   "source": [
    "**Вывод**\n",
    "\n",
    "Статистических различий в среднем чеке нет. При этом средний чек группы B значительно, на 28% превышает показатель в группе A. Необходимо убрать из анализа пользователей с аномально крупными заказами и пользователей с количеством заказов выше заданной ранее планки, чтобы очистить данные и сравнить, насколько выбросы влияют на конверсию и средний чек в группах "
   ]
  },
  {
   "cell_type": "markdown",
   "metadata": {},
   "source": [
    "### Статистическая значимость различий в конверсии между группами по «очищенным» данным. "
   ]
  },
  {
   "cell_type": "code",
   "execution_count": 44,
   "metadata": {},
   "outputs": [
    {
     "data": {
      "text/html": [
       "<div>\n",
       "<style scoped>\n",
       "    .dataframe tbody tr th:only-of-type {\n",
       "        vertical-align: middle;\n",
       "    }\n",
       "\n",
       "    .dataframe tbody tr th {\n",
       "        vertical-align: top;\n",
       "    }\n",
       "\n",
       "    .dataframe thead th {\n",
       "        text-align: right;\n",
       "    }\n",
       "</style>\n",
       "<table border=\"1\" class=\"dataframe\">\n",
       "  <thead>\n",
       "    <tr style=\"text-align: right;\">\n",
       "      <th></th>\n",
       "      <th>transaction_id</th>\n",
       "      <th>visitor_id</th>\n",
       "      <th>date</th>\n",
       "      <th>revenue</th>\n",
       "      <th>group</th>\n",
       "    </tr>\n",
       "  </thead>\n",
       "  <tbody>\n",
       "    <tr>\n",
       "      <th>0</th>\n",
       "      <td>3667963787</td>\n",
       "      <td>3312258926</td>\n",
       "      <td>2019-08-15</td>\n",
       "      <td>1650</td>\n",
       "      <td>B</td>\n",
       "    </tr>\n",
       "    <tr>\n",
       "      <th>1</th>\n",
       "      <td>2804400009</td>\n",
       "      <td>3642806036</td>\n",
       "      <td>2019-08-15</td>\n",
       "      <td>730</td>\n",
       "      <td>B</td>\n",
       "    </tr>\n",
       "    <tr>\n",
       "      <th>3</th>\n",
       "      <td>3797467345</td>\n",
       "      <td>1196621759</td>\n",
       "      <td>2019-08-15</td>\n",
       "      <td>9759</td>\n",
       "      <td>B</td>\n",
       "    </tr>\n",
       "    <tr>\n",
       "      <th>4</th>\n",
       "      <td>2282983706</td>\n",
       "      <td>2322279887</td>\n",
       "      <td>2019-08-15</td>\n",
       "      <td>2308</td>\n",
       "      <td>B</td>\n",
       "    </tr>\n",
       "    <tr>\n",
       "      <th>5</th>\n",
       "      <td>182168103</td>\n",
       "      <td>935554773</td>\n",
       "      <td>2019-08-15</td>\n",
       "      <td>2210</td>\n",
       "      <td>B</td>\n",
       "    </tr>\n",
       "  </tbody>\n",
       "</table>\n",
       "</div>"
      ],
      "text/plain": [
       "   transaction_id  visitor_id       date  revenue group\n",
       "0      3667963787  3312258926 2019-08-15     1650     B\n",
       "1      2804400009  3642806036 2019-08-15      730     B\n",
       "3      3797467345  1196621759 2019-08-15     9759     B\n",
       "4      2282983706  2322279887 2019-08-15     2308     B\n",
       "5       182168103   935554773 2019-08-15     2210     B"
      ]
     },
     "execution_count": 44,
     "metadata": {},
     "output_type": "execute_result"
    }
   ],
   "source": [
    "orders.head()"
   ]
  },
  {
   "cell_type": "markdown",
   "metadata": {},
   "source": [
    "Учитывая предыдущие выводы, уберем из анализа пользователей с 3 заказами, и пользователей, сделавших заказы дороже 54 000"
   ]
  },
  {
   "cell_type": "code",
   "execution_count": 45,
   "metadata": {},
   "outputs": [
    {
     "data": {
      "text/plain": [
       "16"
      ]
     },
     "execution_count": 45,
     "metadata": {},
     "output_type": "execute_result"
    }
   ],
   "source": [
    "# определяем слишком большое количество заказов \n",
    "many_orders = pd.concat(\n",
    "    [\n",
    "        orders_by_users_A[orders_by_users_A['orders'] > 2]['user_id'],\n",
    "        orders_by_users_B[orders_by_users_B['orders'] > 2]['user_id'],\n",
    "    ],\n",
    "    axis=0,\n",
    ")\n",
    "\n",
    "# определяем слишком дорогие заказы\n",
    "expensive_orders = orders[orders['revenue'] > 54000]['visitor_id']\n",
    "\n",
    "# отфильтровываем аномальных пользователей\n",
    "abnormal_users = (\n",
    "    pd.concat([many_orders, expensive_orders], axis=0)\n",
    "    .drop_duplicates()\n",
    "    .sort_values()\n",
    ")\n",
    "\n",
    "abnormal_users.count()"
   ]
  },
  {
   "cell_type": "code",
   "execution_count": 46,
   "metadata": {},
   "outputs": [],
   "source": [
    "\n",
    "# переменные с очищенным количеством заказов по пользователям по группам\n",
    "sample_A_filtered = pd.concat(\n",
    "    [\n",
    "        orders_by_users_A[\n",
    "            np.logical_not(orders_by_users_A['user_id'].isin(abnormal_users))\n",
    "        ]['orders'],\n",
    "        pd.Series(\n",
    "            0,\n",
    "            index=np.arange(\n",
    "                data['visitors_per_date_A'].sum() - len(orders_by_users_A['orders'])\n",
    "            ),\n",
    "            name='orders',\n",
    "        ),\n",
    "    ],\n",
    "    axis=0,\n",
    ")\n",
    "\n",
    "sample_B_filtered = pd.concat(\n",
    "    [\n",
    "        orders_by_users_B[\n",
    "            np.logical_not(orders_by_users_B['user_id'].isin(abnormal_users))\n",
    "        ]['orders'],\n",
    "        pd.Series(\n",
    "            0,\n",
    "            index=np.arange(\n",
    "                data['visitors_per_date_B'].sum() - len(orders_by_users_B['orders'])\n",
    "            ),\n",
    "            name='orders',\n",
    "        ),\n",
    "    ],\n",
    "    axis=0,\n",
    ")"
   ]
  },
  {
   "cell_type": "markdown",
   "metadata": {},
   "source": [
    "Сформулируем гипотезы для очищенных данных \n",
    "\n",
    "**H0: конверсия в группах А и В равна**\n",
    "\n",
    "**H1: конверсия в группах А и В не равна**"
   ]
  },
  {
   "cell_type": "code",
   "execution_count": 47,
   "metadata": {},
   "outputs": [
    {
     "name": "stdout",
     "output_type": "stream",
     "text": [
      "p-значение: 0.007021302207652193\n",
      "Отвергаем нулевую гипотезу\n"
     ]
    }
   ],
   "source": [
    "# применим статистический критерий Манна-Уитни к полученным выборкам\n",
    "alpha = 0.05\n",
    "\n",
    "results = stats.mannwhitneyu(sample_A_filtered, sample_B_filtered)\n",
    "\n",
    "pvalue = results.pvalue\n",
    "\n",
    "print('p-значение:', results.pvalue)\n",
    "\n",
    "if (results.pvalue < alpha):\n",
    "    print(\"Отвергаем нулевую гипотезу\")\n",
    "else:\n",
    "    print(\"Не получилось отвергнуть нулевую гипотезу\")\n"
   ]
  },
  {
   "cell_type": "code",
   "execution_count": 48,
   "metadata": {},
   "outputs": [
    {
     "name": "stdout",
     "output_type": "stream",
     "text": [
      "Относительный прирост конверсии группы B 0.189\n"
     ]
    }
   ],
   "source": [
    "print('Относительный прирост конверсии группы B {0:.3f}'\n",
    "      .format(sample_B_filtered.mean() / sample_A_filtered.mean() - 1))"
   ]
  },
  {
   "cell_type": "markdown",
   "metadata": {},
   "source": [
    "**Вывод** \n",
    "\n",
    "После фильтрации результаты по конверсии изменились, но не кардинально. Статистическое различие между группами по-прежнему есть, конверсия группы В превышает конверсию группы А на 18.9% против 16% в сырых данных."
   ]
  },
  {
   "cell_type": "markdown",
   "metadata": {},
   "source": [
    "### Статистическая значимость различий в среднем чеке заказа между группами по «очищенным» данным. "
   ]
  },
  {
   "cell_type": "code",
   "execution_count": 49,
   "metadata": {
    "scrolled": true
   },
   "outputs": [
    {
     "data": {
      "text/html": [
       "<div>\n",
       "<style scoped>\n",
       "    .dataframe tbody tr th:only-of-type {\n",
       "        vertical-align: middle;\n",
       "    }\n",
       "\n",
       "    .dataframe tbody tr th {\n",
       "        vertical-align: top;\n",
       "    }\n",
       "\n",
       "    .dataframe thead th {\n",
       "        text-align: right;\n",
       "    }\n",
       "</style>\n",
       "<table border=\"1\" class=\"dataframe\">\n",
       "  <thead>\n",
       "    <tr style=\"text-align: right;\">\n",
       "      <th></th>\n",
       "      <th>transaction_id</th>\n",
       "      <th>visitor_id</th>\n",
       "      <th>date</th>\n",
       "      <th>revenue</th>\n",
       "      <th>group</th>\n",
       "    </tr>\n",
       "  </thead>\n",
       "  <tbody>\n",
       "    <tr>\n",
       "      <th>0</th>\n",
       "      <td>3667963787</td>\n",
       "      <td>3312258926</td>\n",
       "      <td>2019-08-15</td>\n",
       "      <td>1650</td>\n",
       "      <td>B</td>\n",
       "    </tr>\n",
       "    <tr>\n",
       "      <th>1</th>\n",
       "      <td>2804400009</td>\n",
       "      <td>3642806036</td>\n",
       "      <td>2019-08-15</td>\n",
       "      <td>730</td>\n",
       "      <td>B</td>\n",
       "    </tr>\n",
       "    <tr>\n",
       "      <th>3</th>\n",
       "      <td>3797467345</td>\n",
       "      <td>1196621759</td>\n",
       "      <td>2019-08-15</td>\n",
       "      <td>9759</td>\n",
       "      <td>B</td>\n",
       "    </tr>\n",
       "    <tr>\n",
       "      <th>4</th>\n",
       "      <td>2282983706</td>\n",
       "      <td>2322279887</td>\n",
       "      <td>2019-08-15</td>\n",
       "      <td>2308</td>\n",
       "      <td>B</td>\n",
       "    </tr>\n",
       "    <tr>\n",
       "      <th>5</th>\n",
       "      <td>182168103</td>\n",
       "      <td>935554773</td>\n",
       "      <td>2019-08-15</td>\n",
       "      <td>2210</td>\n",
       "      <td>B</td>\n",
       "    </tr>\n",
       "  </tbody>\n",
       "</table>\n",
       "</div>"
      ],
      "text/plain": [
       "   transaction_id  visitor_id       date  revenue group\n",
       "0      3667963787  3312258926 2019-08-15     1650     B\n",
       "1      2804400009  3642806036 2019-08-15      730     B\n",
       "3      3797467345  1196621759 2019-08-15     9759     B\n",
       "4      2282983706  2322279887 2019-08-15     2308     B\n",
       "5       182168103   935554773 2019-08-15     2210     B"
      ]
     },
     "execution_count": 49,
     "metadata": {},
     "output_type": "execute_result"
    }
   ],
   "source": [
    "orders.head()"
   ]
  },
  {
   "cell_type": "markdown",
   "metadata": {},
   "source": [
    "Сформулируем гипотезы для отфильтрованных данных\n",
    "\n",
    "**Н0: различий в среднем чеке между группами А и В нет.**\n",
    "\n",
    "**Н1:  различия в среднем чеке между группами А и В есть.**"
   ]
  },
  {
   "cell_type": "code",
   "execution_count": 50,
   "metadata": {},
   "outputs": [
    {
     "name": "stdout",
     "output_type": "stream",
     "text": [
      "p-значение: 0.7877044862440841\n",
      "Не получилось отвергнуть нулевую гипотезу\n"
     ]
    }
   ],
   "source": [
    "alpha = 0.05\n",
    "\n",
    "results = stats.mannwhitneyu(orders[np.logical_and(orders['group'] == 'A',\n",
    "                    np.logical_not(orders['visitor_id'].isin(abnormal_users)),\n",
    "                )\n",
    "            ]['revenue'],\n",
    "            orders[np.logical_and(orders['group'] == 'B',\n",
    "                    np.logical_not(orders['visitor_id'].isin(abnormal_users)),\n",
    "                )\n",
    "            ]['revenue'])\n",
    "                             \n",
    "pvalue = results.pvalue\n",
    "\n",
    "print('p-значение:', results.pvalue)\n",
    "\n",
    "if (results.pvalue < alpha):\n",
    "    print(\"Отвергаем нулевую гипотезу\")\n",
    "else:\n",
    "    print(\"Не получилось отвергнуть нулевую гипотезу\")"
   ]
  },
  {
   "cell_type": "code",
   "execution_count": 51,
   "metadata": {},
   "outputs": [
    {
     "name": "stdout",
     "output_type": "stream",
     "text": [
      "Относительная разница в среднем чеке между группами-0.032\n"
     ]
    }
   ],
   "source": [
    "print('Относительная разница в среднем чеке между группами{0:.3f}'\n",
    "      .format(orders[np.logical_and(orders['group'] == 'B',\n",
    "                np.logical_not(orders['visitor_id'].isin(abnormal_users)),\n",
    "            )\n",
    "        ]['revenue'].mean()\n",
    "        / orders[np.logical_and(orders['group'] == 'A',\n",
    "                np.logical_not(orders['visitor_id'].isin(abnormal_users)),\n",
    "            )\n",
    "        ]['revenue'].mean()\n",
    "        - 1\n",
    "    )\n",
    ")"
   ]
  },
  {
   "cell_type": "markdown",
   "metadata": {},
   "source": [
    "**Вывод** \n",
    "\n",
    "P-value изменился незначительно, в очищенных данных также нет статитстической разницы между средним чеком в разных группах. Различие между группами сократилось с 28% до 0.3% и не в пользу лидирующей прежде по этому показателю группы В. Выбросы действительно сильно искажали данные в этом сегменте."
   ]
  },
  {
   "cell_type": "markdown",
   "metadata": {},
   "source": [
    "### Результаты теста"
   ]
  },
  {
   "cell_type": "markdown",
   "metadata": {},
   "source": [
    "- Конверсия в группах статистически различается и в сырых данных, и в отфильтрованных.\n",
    "\n",
    "- По среднему чеку нет статистически значимого различия между группами ни по «сырым», ни по отфильтрованным данным. \n",
    "\n",
    "- После удаления аномалий группа В не показывает преимущества по сумме среднего чека перед группой А\n",
    "\n",
    "- График различия среднего чека колеблется из-за аномальных значений. Сделать из этого графика определённые выводы нельзя.\n",
    "\n",
    "- График отностительной конверсии в группе В демонстрирует рост по отношению к группе А примерно на 15% в конце теста и еще не зафиксировался около среднего значения\n",
    "\n",
    "**Вывод**\n",
    "\n",
    "Продолжаем тестирование, пока колебания конверсии в группе В не стабилизируются окончательно "
   ]
  },
  {
   "cell_type": "code",
   "execution_count": null,
   "metadata": {},
   "outputs": [],
   "source": []
  }
 ],
 "metadata": {
  "ExecuteTimeLog": [
   {
    "duration": 48,
    "start_time": "2022-04-18T12:32:18.753Z"
   },
   {
    "duration": 8,
    "start_time": "2022-04-18T12:32:21.554Z"
   },
   {
    "duration": 422,
    "start_time": "2022-04-18T12:32:26.685Z"
   },
   {
    "duration": 67,
    "start_time": "2022-04-18T12:32:27.238Z"
   },
   {
    "duration": 22,
    "start_time": "2022-04-18T12:32:28.061Z"
   },
   {
    "duration": 20,
    "start_time": "2022-04-18T12:32:55.449Z"
   },
   {
    "duration": 14,
    "start_time": "2022-04-18T12:33:11.958Z"
   },
   {
    "duration": 14,
    "start_time": "2022-04-18T12:33:33.734Z"
   },
   {
    "duration": 20,
    "start_time": "2022-04-18T12:33:45.330Z"
   },
   {
    "duration": 24,
    "start_time": "2022-04-18T12:34:08.749Z"
   },
   {
    "duration": 20,
    "start_time": "2022-04-18T12:35:10.082Z"
   },
   {
    "duration": 43,
    "start_time": "2022-04-18T12:37:03.378Z"
   },
   {
    "duration": 7,
    "start_time": "2022-04-18T12:37:15.581Z"
   },
   {
    "duration": 8,
    "start_time": "2022-04-18T12:37:38.709Z"
   },
   {
    "duration": 8,
    "start_time": "2022-04-18T12:37:45.310Z"
   },
   {
    "duration": 15,
    "start_time": "2022-04-18T15:11:29.627Z"
   },
   {
    "duration": 192,
    "start_time": "2022-04-18T15:13:52.174Z"
   },
   {
    "duration": 7,
    "start_time": "2022-04-18T15:13:56.218Z"
   },
   {
    "duration": 12,
    "start_time": "2022-04-18T15:14:14.210Z"
   },
   {
    "duration": 7,
    "start_time": "2022-04-18T15:16:39.202Z"
   },
   {
    "duration": 5,
    "start_time": "2022-04-18T15:16:47.298Z"
   },
   {
    "duration": 6,
    "start_time": "2022-04-18T15:16:55.134Z"
   },
   {
    "duration": 7,
    "start_time": "2022-04-18T15:17:06.582Z"
   },
   {
    "duration": 11,
    "start_time": "2022-04-18T15:18:32.950Z"
   },
   {
    "duration": 10,
    "start_time": "2022-04-18T15:19:58.638Z"
   },
   {
    "duration": 10,
    "start_time": "2022-04-18T15:33:00.240Z"
   },
   {
    "duration": 9,
    "start_time": "2022-04-18T15:34:38.986Z"
   },
   {
    "duration": 10,
    "start_time": "2022-04-18T15:35:10.953Z"
   },
   {
    "duration": 215,
    "start_time": "2022-04-18T15:37:24.885Z"
   },
   {
    "duration": 206,
    "start_time": "2022-04-18T15:37:35.054Z"
   },
   {
    "duration": 9,
    "start_time": "2022-04-18T15:37:41.593Z"
   },
   {
    "duration": 23,
    "start_time": "2022-04-18T15:38:34.521Z"
   },
   {
    "duration": 228,
    "start_time": "2022-04-18T15:39:31.517Z"
   },
   {
    "duration": 11,
    "start_time": "2022-04-18T15:39:37.405Z"
   },
   {
    "duration": 11,
    "start_time": "2022-04-18T15:39:52.689Z"
   },
   {
    "duration": 17,
    "start_time": "2022-04-18T15:40:36.633Z"
   },
   {
    "duration": 22,
    "start_time": "2022-04-18T15:49:27.037Z"
   },
   {
    "duration": 202,
    "start_time": "2022-04-18T15:56:02.765Z"
   },
   {
    "duration": 3489,
    "start_time": "2022-04-18T15:56:07.737Z"
   },
   {
    "duration": 14,
    "start_time": "2022-04-18T15:56:19.769Z"
   },
   {
    "duration": 9,
    "start_time": "2022-04-18T15:56:45.810Z"
   },
   {
    "duration": 23,
    "start_time": "2022-04-18T15:56:57.625Z"
   },
   {
    "duration": 14,
    "start_time": "2022-04-18T15:57:00.077Z"
   },
   {
    "duration": 8,
    "start_time": "2022-04-18T15:57:01.461Z"
   },
   {
    "duration": 18,
    "start_time": "2022-04-18T15:57:47.065Z"
   },
   {
    "duration": 13,
    "start_time": "2022-04-18T15:58:20.585Z"
   },
   {
    "duration": 9,
    "start_time": "2022-04-18T15:58:31.611Z"
   },
   {
    "duration": 19,
    "start_time": "2022-04-18T16:02:18.168Z"
   },
   {
    "duration": 12,
    "start_time": "2022-04-18T16:02:56.897Z"
   },
   {
    "duration": 10,
    "start_time": "2022-04-18T16:03:07.665Z"
   },
   {
    "duration": 10,
    "start_time": "2022-04-18T16:03:21.201Z"
   },
   {
    "duration": 10,
    "start_time": "2022-04-18T16:06:35.105Z"
   },
   {
    "duration": 11,
    "start_time": "2022-04-18T16:06:52.101Z"
   },
   {
    "duration": 3,
    "start_time": "2022-04-18T16:07:00.076Z"
   },
   {
    "duration": 183,
    "start_time": "2022-04-18T16:07:00.082Z"
   },
   {
    "duration": 23,
    "start_time": "2022-04-18T16:07:00.268Z"
   },
   {
    "duration": 33,
    "start_time": "2022-04-18T16:07:00.293Z"
   },
   {
    "duration": 29,
    "start_time": "2022-04-18T16:07:00.327Z"
   },
   {
    "duration": 32,
    "start_time": "2022-04-18T16:07:00.358Z"
   },
   {
    "duration": 33,
    "start_time": "2022-04-18T16:07:00.391Z"
   },
   {
    "duration": 26,
    "start_time": "2022-04-18T16:07:00.425Z"
   },
   {
    "duration": 24,
    "start_time": "2022-04-18T16:07:00.453Z"
   },
   {
    "duration": 36,
    "start_time": "2022-04-18T16:07:00.478Z"
   },
   {
    "duration": 2,
    "start_time": "2022-04-18T16:09:05.392Z"
   },
   {
    "duration": 84,
    "start_time": "2022-04-18T16:09:05.397Z"
   },
   {
    "duration": 14,
    "start_time": "2022-04-18T16:09:05.483Z"
   },
   {
    "duration": 24,
    "start_time": "2022-04-18T16:09:05.499Z"
   },
   {
    "duration": 22,
    "start_time": "2022-04-18T16:09:05.524Z"
   },
   {
    "duration": 14,
    "start_time": "2022-04-18T16:09:05.548Z"
   },
   {
    "duration": 23,
    "start_time": "2022-04-18T16:09:05.564Z"
   },
   {
    "duration": 32,
    "start_time": "2022-04-18T16:09:05.589Z"
   },
   {
    "duration": 34,
    "start_time": "2022-04-18T16:09:05.623Z"
   },
   {
    "duration": 20,
    "start_time": "2022-04-18T16:09:05.659Z"
   },
   {
    "duration": 3,
    "start_time": "2022-04-18T16:10:30.524Z"
   },
   {
    "duration": 91,
    "start_time": "2022-04-18T16:10:30.529Z"
   },
   {
    "duration": 22,
    "start_time": "2022-04-18T16:10:30.623Z"
   },
   {
    "duration": 14,
    "start_time": "2022-04-18T16:10:30.646Z"
   },
   {
    "duration": 28,
    "start_time": "2022-04-18T16:10:30.662Z"
   },
   {
    "duration": 31,
    "start_time": "2022-04-18T16:10:30.692Z"
   },
   {
    "duration": 16,
    "start_time": "2022-04-18T16:10:30.725Z"
   },
   {
    "duration": 13,
    "start_time": "2022-04-18T16:10:30.742Z"
   },
   {
    "duration": 12,
    "start_time": "2022-04-18T16:10:30.757Z"
   },
   {
    "duration": 16,
    "start_time": "2022-04-18T16:10:30.771Z"
   },
   {
    "duration": 16,
    "start_time": "2022-04-18T16:10:46.020Z"
   },
   {
    "duration": 17,
    "start_time": "2022-04-18T16:11:45.186Z"
   },
   {
    "duration": 670,
    "start_time": "2022-04-19T12:38:10.852Z"
   },
   {
    "duration": 46,
    "start_time": "2022-04-19T12:38:11.526Z"
   },
   {
    "duration": 48,
    "start_time": "2022-04-19T12:38:11.604Z"
   },
   {
    "duration": 17,
    "start_time": "2022-04-19T12:38:11.788Z"
   },
   {
    "duration": 33,
    "start_time": "2022-04-19T12:38:11.992Z"
   },
   {
    "duration": 16,
    "start_time": "2022-04-19T12:38:12.180Z"
   },
   {
    "duration": 35,
    "start_time": "2022-04-19T12:38:12.360Z"
   },
   {
    "duration": 13,
    "start_time": "2022-04-19T12:38:12.544Z"
   },
   {
    "duration": 23,
    "start_time": "2022-04-19T12:38:13.587Z"
   },
   {
    "duration": 19,
    "start_time": "2022-04-19T12:38:14.989Z"
   },
   {
    "duration": 659,
    "start_time": "2022-04-19T12:39:28.608Z"
   },
   {
    "duration": 15,
    "start_time": "2022-04-19T12:40:57.003Z"
   },
   {
    "duration": 15,
    "start_time": "2022-04-19T12:41:10.545Z"
   },
   {
    "duration": 16,
    "start_time": "2022-04-19T12:41:17.170Z"
   },
   {
    "duration": 11,
    "start_time": "2022-04-19T12:41:20.907Z"
   },
   {
    "duration": 20,
    "start_time": "2022-04-19T12:41:32.146Z"
   },
   {
    "duration": 12,
    "start_time": "2022-04-19T12:41:39.392Z"
   },
   {
    "duration": 20,
    "start_time": "2022-04-19T12:44:35.728Z"
   },
   {
    "duration": 22,
    "start_time": "2022-04-19T12:44:39.148Z"
   },
   {
    "duration": 14,
    "start_time": "2022-04-19T12:44:39.319Z"
   },
   {
    "duration": 18,
    "start_time": "2022-04-19T12:44:40.099Z"
   },
   {
    "duration": 25,
    "start_time": "2022-04-19T12:44:40.516Z"
   },
   {
    "duration": 17,
    "start_time": "2022-04-19T12:44:44.676Z"
   },
   {
    "duration": 12,
    "start_time": "2022-04-19T12:44:45.446Z"
   },
   {
    "duration": 163,
    "start_time": "2022-04-19T12:48:26.125Z"
   },
   {
    "duration": 313,
    "start_time": "2022-04-19T12:49:06.244Z"
   },
   {
    "duration": 422,
    "start_time": "2022-04-19T12:49:08.542Z"
   },
   {
    "duration": 501,
    "start_time": "2022-04-19T12:56:24.593Z"
   },
   {
    "duration": 696,
    "start_time": "2022-04-19T12:56:30.153Z"
   },
   {
    "duration": 12,
    "start_time": "2022-04-19T12:56:42.807Z"
   },
   {
    "duration": 8,
    "start_time": "2022-04-19T12:56:50.142Z"
   },
   {
    "duration": 803,
    "start_time": "2022-04-19T12:57:09.647Z"
   },
   {
    "duration": 529,
    "start_time": "2022-04-19T13:13:33.438Z"
   },
   {
    "duration": 525,
    "start_time": "2022-04-19T13:39:43.882Z"
   },
   {
    "duration": 279,
    "start_time": "2022-04-19T13:41:48.029Z"
   },
   {
    "duration": 427,
    "start_time": "2022-04-19T13:42:04.506Z"
   },
   {
    "duration": 108,
    "start_time": "2022-04-19T13:48:27.880Z"
   },
   {
    "duration": 116,
    "start_time": "2022-04-19T13:48:38.992Z"
   },
   {
    "duration": 126,
    "start_time": "2022-04-19T13:48:56.634Z"
   },
   {
    "duration": 126,
    "start_time": "2022-04-19T13:49:15.845Z"
   },
   {
    "duration": 292,
    "start_time": "2022-04-19T13:49:27.713Z"
   },
   {
    "duration": 331,
    "start_time": "2022-04-19T13:49:41.417Z"
   },
   {
    "duration": 315,
    "start_time": "2022-04-19T13:50:30.468Z"
   },
   {
    "duration": 308,
    "start_time": "2022-04-19T13:50:43.542Z"
   },
   {
    "duration": 299,
    "start_time": "2022-04-19T14:18:12.925Z"
   },
   {
    "duration": 269,
    "start_time": "2022-04-19T14:26:06.465Z"
   },
   {
    "duration": 296,
    "start_time": "2022-04-19T14:27:24.113Z"
   },
   {
    "duration": 275,
    "start_time": "2022-04-19T14:27:59.233Z"
   },
   {
    "duration": 367,
    "start_time": "2022-04-19T14:34:00.361Z"
   },
   {
    "duration": 267,
    "start_time": "2022-04-19T14:34:31.927Z"
   },
   {
    "duration": 270,
    "start_time": "2022-04-19T14:34:41.600Z"
   },
   {
    "duration": 393,
    "start_time": "2022-04-19T14:34:46.794Z"
   },
   {
    "duration": 290,
    "start_time": "2022-04-19T14:35:59.873Z"
   },
   {
    "duration": 289,
    "start_time": "2022-04-19T14:36:08.672Z"
   },
   {
    "duration": 477,
    "start_time": "2022-04-19T14:40:25.400Z"
   },
   {
    "duration": 393,
    "start_time": "2022-04-19T14:40:42.845Z"
   },
   {
    "duration": 304,
    "start_time": "2022-04-19T14:40:47.857Z"
   },
   {
    "duration": 319,
    "start_time": "2022-04-19T14:41:15.581Z"
   },
   {
    "duration": 318,
    "start_time": "2022-04-19T14:42:08.925Z"
   },
   {
    "duration": 309,
    "start_time": "2022-04-19T14:42:37.944Z"
   },
   {
    "duration": 1967,
    "start_time": "2022-04-19T14:59:49.186Z"
   },
   {
    "duration": 11,
    "start_time": "2022-04-19T15:00:30.277Z"
   },
   {
    "duration": 773,
    "start_time": "2022-04-19T15:01:04.166Z"
   },
   {
    "duration": 415,
    "start_time": "2022-04-19T15:01:42.197Z"
   },
   {
    "duration": 448,
    "start_time": "2022-04-19T15:02:27.992Z"
   },
   {
    "duration": 457,
    "start_time": "2022-04-19T15:04:11.485Z"
   },
   {
    "duration": 534,
    "start_time": "2022-04-19T15:04:56.709Z"
   },
   {
    "duration": 442,
    "start_time": "2022-04-19T15:06:34.888Z"
   },
   {
    "duration": 408,
    "start_time": "2022-04-19T15:06:59.012Z"
   },
   {
    "duration": 536,
    "start_time": "2022-04-19T15:23:46.103Z"
   },
   {
    "duration": 19,
    "start_time": "2022-04-19T15:51:24.828Z"
   },
   {
    "duration": 438,
    "start_time": "2022-04-19T15:51:36.172Z"
   },
   {
    "duration": 303,
    "start_time": "2022-04-19T15:52:38.555Z"
   },
   {
    "duration": 349,
    "start_time": "2022-04-19T15:52:58.590Z"
   },
   {
    "duration": 367,
    "start_time": "2022-04-19T15:54:03.272Z"
   },
   {
    "duration": 307,
    "start_time": "2022-04-19T16:00:51.797Z"
   },
   {
    "duration": 403,
    "start_time": "2022-04-19T16:01:05.939Z"
   },
   {
    "duration": 360,
    "start_time": "2022-04-19T16:02:40.907Z"
   },
   {
    "duration": 22,
    "start_time": "2022-04-19T16:08:26.053Z"
   },
   {
    "duration": 309,
    "start_time": "2022-04-19T16:08:34.062Z"
   },
   {
    "duration": 20,
    "start_time": "2022-04-19T16:13:52.841Z"
   },
   {
    "duration": 20,
    "start_time": "2022-04-19T16:14:51.202Z"
   },
   {
    "duration": 20,
    "start_time": "2022-04-19T16:15:00.586Z"
   },
   {
    "duration": 19,
    "start_time": "2022-04-19T16:15:17.407Z"
   },
   {
    "duration": 431,
    "start_time": "2022-04-19T16:15:37.718Z"
   },
   {
    "duration": 446,
    "start_time": "2022-04-19T16:15:58.307Z"
   },
   {
    "duration": 438,
    "start_time": "2022-04-19T16:16:29.623Z"
   },
   {
    "duration": 452,
    "start_time": "2022-04-19T16:20:05.521Z"
   },
   {
    "duration": 422,
    "start_time": "2022-04-19T16:20:54.410Z"
   },
   {
    "duration": 468,
    "start_time": "2022-04-19T16:23:47.171Z"
   },
   {
    "duration": 522,
    "start_time": "2022-04-19T16:24:06.567Z"
   },
   {
    "duration": 419,
    "start_time": "2022-04-19T16:24:29.718Z"
   },
   {
    "duration": 433,
    "start_time": "2022-04-19T16:26:57.054Z"
   },
   {
    "duration": 531,
    "start_time": "2022-04-19T16:27:07.024Z"
   },
   {
    "duration": 431,
    "start_time": "2022-04-19T16:27:29.979Z"
   },
   {
    "duration": 220,
    "start_time": "2022-04-19T21:09:11.642Z"
   },
   {
    "duration": 66,
    "start_time": "2022-04-19T21:09:34.080Z"
   },
   {
    "duration": 7,
    "start_time": "2022-04-19T21:09:41.220Z"
   },
   {
    "duration": 1119,
    "start_time": "2022-04-19T21:09:44.884Z"
   },
   {
    "duration": 104,
    "start_time": "2022-04-19T21:09:46.005Z"
   },
   {
    "duration": 30,
    "start_time": "2022-04-19T21:09:46.111Z"
   },
   {
    "duration": 12,
    "start_time": "2022-04-19T21:09:46.144Z"
   },
   {
    "duration": 23,
    "start_time": "2022-04-19T21:09:46.193Z"
   },
   {
    "duration": 16,
    "start_time": "2022-04-19T21:09:46.218Z"
   },
   {
    "duration": 77,
    "start_time": "2022-04-19T21:09:46.236Z"
   },
   {
    "duration": 14,
    "start_time": "2022-04-19T21:09:46.315Z"
   },
   {
    "duration": 76,
    "start_time": "2022-04-19T21:09:46.331Z"
   },
   {
    "duration": 19,
    "start_time": "2022-04-19T21:09:46.410Z"
   },
   {
    "duration": 66,
    "start_time": "2022-04-19T21:09:46.431Z"
   },
   {
    "duration": 12,
    "start_time": "2022-04-19T21:09:46.499Z"
   },
   {
    "duration": 14,
    "start_time": "2022-04-19T21:09:46.513Z"
   },
   {
    "duration": 967,
    "start_time": "2022-04-19T21:09:46.529Z"
   },
   {
    "duration": 840,
    "start_time": "2022-04-19T21:09:47.498Z"
   },
   {
    "duration": 601,
    "start_time": "2022-04-19T21:09:48.392Z"
   },
   {
    "duration": 11,
    "start_time": "2022-04-19T21:09:48.995Z"
   },
   {
    "duration": 418,
    "start_time": "2022-04-19T21:09:49.008Z"
   },
   {
    "duration": 356,
    "start_time": "2022-04-19T21:09:49.428Z"
   },
   {
    "duration": 418,
    "start_time": "2022-04-19T21:09:49.787Z"
   },
   {
    "duration": 14,
    "start_time": "2022-04-19T21:10:19.764Z"
   },
   {
    "duration": 10,
    "start_time": "2022-04-19T21:14:32.099Z"
   },
   {
    "duration": 14,
    "start_time": "2022-04-19T21:14:37.606Z"
   },
   {
    "duration": 11,
    "start_time": "2022-04-19T21:16:16.255Z"
   },
   {
    "duration": 18,
    "start_time": "2022-04-19T21:16:24.651Z"
   },
   {
    "duration": 65,
    "start_time": "2022-04-19T21:21:10.551Z"
   },
   {
    "duration": 25,
    "start_time": "2022-04-19T21:24:49.679Z"
   },
   {
    "duration": 20,
    "start_time": "2022-04-19T21:25:28.755Z"
   },
   {
    "duration": 18,
    "start_time": "2022-04-19T21:25:34.979Z"
   },
   {
    "duration": 16,
    "start_time": "2022-04-19T21:26:12.007Z"
   },
   {
    "duration": 14,
    "start_time": "2022-04-19T21:29:18.479Z"
   },
   {
    "duration": 24,
    "start_time": "2022-04-19T21:29:41.511Z"
   },
   {
    "duration": 25,
    "start_time": "2022-04-19T21:29:51.208Z"
   },
   {
    "duration": 15,
    "start_time": "2022-04-19T21:30:29.538Z"
   },
   {
    "duration": 26,
    "start_time": "2022-04-19T21:31:52.086Z"
   },
   {
    "duration": 16,
    "start_time": "2022-04-19T21:32:05.618Z"
   },
   {
    "duration": 6,
    "start_time": "2022-04-19T21:32:52.907Z"
   },
   {
    "duration": 26,
    "start_time": "2022-04-19T21:32:59.923Z"
   },
   {
    "duration": 18,
    "start_time": "2022-04-19T21:34:00.082Z"
   },
   {
    "duration": 15,
    "start_time": "2022-04-19T21:35:25.083Z"
   },
   {
    "duration": 9,
    "start_time": "2022-04-19T21:36:16.031Z"
   },
   {
    "duration": 14,
    "start_time": "2022-04-19T21:39:07.215Z"
   },
   {
    "duration": 42,
    "start_time": "2022-04-20T09:38:15.352Z"
   },
   {
    "duration": 805,
    "start_time": "2022-04-20T09:38:25.175Z"
   },
   {
    "duration": 40,
    "start_time": "2022-04-20T09:38:25.982Z"
   },
   {
    "duration": 18,
    "start_time": "2022-04-20T09:38:26.024Z"
   },
   {
    "duration": 7,
    "start_time": "2022-04-20T09:38:26.044Z"
   },
   {
    "duration": 15,
    "start_time": "2022-04-20T09:38:26.052Z"
   },
   {
    "duration": 10,
    "start_time": "2022-04-20T09:38:26.068Z"
   },
   {
    "duration": 46,
    "start_time": "2022-04-20T09:38:26.079Z"
   },
   {
    "duration": 11,
    "start_time": "2022-04-20T09:38:26.127Z"
   },
   {
    "duration": 16,
    "start_time": "2022-04-20T09:38:26.139Z"
   },
   {
    "duration": 11,
    "start_time": "2022-04-20T09:38:26.157Z"
   },
   {
    "duration": 8,
    "start_time": "2022-04-20T09:38:26.169Z"
   },
   {
    "duration": 9,
    "start_time": "2022-04-20T09:38:26.178Z"
   },
   {
    "duration": 290,
    "start_time": "2022-04-20T09:38:26.188Z"
   },
   {
    "duration": 246,
    "start_time": "2022-04-20T09:38:26.480Z"
   },
   {
    "duration": 169,
    "start_time": "2022-04-20T09:38:26.728Z"
   },
   {
    "duration": 7,
    "start_time": "2022-04-20T09:38:26.898Z"
   },
   {
    "duration": 336,
    "start_time": "2022-04-20T09:38:26.907Z"
   },
   {
    "duration": 203,
    "start_time": "2022-04-20T09:38:27.244Z"
   },
   {
    "duration": 253,
    "start_time": "2022-04-20T09:38:27.449Z"
   },
   {
    "duration": 7,
    "start_time": "2022-04-20T09:38:27.704Z"
   },
   {
    "duration": 45,
    "start_time": "2022-04-20T09:38:27.713Z"
   },
   {
    "duration": 13,
    "start_time": "2022-04-20T09:45:22.743Z"
   },
   {
    "duration": 7,
    "start_time": "2022-04-20T09:45:25.251Z"
   },
   {
    "duration": 11,
    "start_time": "2022-04-20T09:45:25.875Z"
   },
   {
    "duration": 10,
    "start_time": "2022-04-20T09:45:38.787Z"
   },
   {
    "duration": 2368,
    "start_time": "2022-04-20T09:47:04.679Z"
   },
   {
    "duration": 98,
    "start_time": "2022-04-20T09:47:17.871Z"
   },
   {
    "duration": 11,
    "start_time": "2022-04-20T09:51:37.014Z"
   },
   {
    "duration": 105,
    "start_time": "2022-04-20T09:53:38.383Z"
   },
   {
    "duration": 110,
    "start_time": "2022-04-20T09:55:00.109Z"
   },
   {
    "duration": 9,
    "start_time": "2022-04-20T10:10:41.342Z"
   },
   {
    "duration": 10,
    "start_time": "2022-04-20T10:11:22.594Z"
   },
   {
    "duration": 2267,
    "start_time": "2022-04-20T10:11:28.906Z"
   },
   {
    "duration": 7,
    "start_time": "2022-04-20T10:16:44.811Z"
   },
   {
    "duration": 4,
    "start_time": "2022-04-20T10:24:26.493Z"
   },
   {
    "duration": 4,
    "start_time": "2022-04-20T10:27:24.353Z"
   },
   {
    "duration": 4,
    "start_time": "2022-04-20T10:28:36.665Z"
   },
   {
    "duration": 3,
    "start_time": "2022-04-20T10:28:55.766Z"
   },
   {
    "duration": 8,
    "start_time": "2022-04-20T10:29:18.009Z"
   },
   {
    "duration": 4,
    "start_time": "2022-04-20T10:29:22.177Z"
   },
   {
    "duration": 5,
    "start_time": "2022-04-20T10:30:07.901Z"
   },
   {
    "duration": 6,
    "start_time": "2022-04-20T10:30:22.878Z"
   },
   {
    "duration": 5,
    "start_time": "2022-04-20T10:33:18.349Z"
   },
   {
    "duration": 7,
    "start_time": "2022-04-20T10:46:15.325Z"
   },
   {
    "duration": 107,
    "start_time": "2022-04-20T10:46:46.740Z"
   },
   {
    "duration": 123,
    "start_time": "2022-04-20T10:47:06.616Z"
   },
   {
    "duration": 150,
    "start_time": "2022-04-20T10:50:37.464Z"
   },
   {
    "duration": 4,
    "start_time": "2022-04-20T11:02:15.221Z"
   },
   {
    "duration": 5,
    "start_time": "2022-04-20T11:03:10.795Z"
   },
   {
    "duration": 8,
    "start_time": "2022-04-20T11:03:41.172Z"
   },
   {
    "duration": 4,
    "start_time": "2022-04-20T11:09:47.073Z"
   },
   {
    "duration": 3,
    "start_time": "2022-04-20T11:10:09.041Z"
   },
   {
    "duration": 3,
    "start_time": "2022-04-20T11:10:15.545Z"
   },
   {
    "duration": 5,
    "start_time": "2022-04-20T11:10:19.933Z"
   },
   {
    "duration": 5,
    "start_time": "2022-04-20T11:10:41.709Z"
   },
   {
    "duration": 5,
    "start_time": "2022-04-20T11:10:47.125Z"
   },
   {
    "duration": 4,
    "start_time": "2022-04-20T11:11:31.541Z"
   },
   {
    "duration": 5,
    "start_time": "2022-04-20T11:11:37.921Z"
   },
   {
    "duration": 6,
    "start_time": "2022-04-20T11:11:42.794Z"
   },
   {
    "duration": 6,
    "start_time": "2022-04-20T11:11:49.897Z"
   },
   {
    "duration": 7,
    "start_time": "2022-04-20T11:11:57.593Z"
   },
   {
    "duration": 5,
    "start_time": "2022-04-20T11:12:22.417Z"
   },
   {
    "duration": 143,
    "start_time": "2022-04-20T11:12:24.709Z"
   },
   {
    "duration": 5,
    "start_time": "2022-04-20T11:12:26.761Z"
   },
   {
    "duration": 10,
    "start_time": "2022-04-20T11:54:38.209Z"
   },
   {
    "duration": 9,
    "start_time": "2022-04-20T12:11:34.967Z"
   },
   {
    "duration": 8,
    "start_time": "2022-04-20T12:11:49.416Z"
   },
   {
    "duration": 103,
    "start_time": "2022-04-20T12:12:36.459Z"
   },
   {
    "duration": 8,
    "start_time": "2022-04-20T12:14:21.943Z"
   },
   {
    "duration": 7,
    "start_time": "2022-04-20T12:14:47.565Z"
   },
   {
    "duration": 9,
    "start_time": "2022-04-20T12:15:07.594Z"
   },
   {
    "duration": 9,
    "start_time": "2022-04-20T12:15:07.895Z"
   },
   {
    "duration": 5,
    "start_time": "2022-04-20T12:15:17.991Z"
   },
   {
    "duration": 10,
    "start_time": "2022-04-20T12:15:29.163Z"
   },
   {
    "duration": 10,
    "start_time": "2022-04-20T12:15:39.007Z"
   },
   {
    "duration": 49,
    "start_time": "2022-04-20T12:17:21.235Z"
   },
   {
    "duration": 75,
    "start_time": "2022-04-20T12:21:13.349Z"
   },
   {
    "duration": 87,
    "start_time": "2022-04-20T12:21:20.728Z"
   },
   {
    "duration": 8,
    "start_time": "2022-04-20T12:21:59.371Z"
   },
   {
    "duration": 14,
    "start_time": "2022-04-20T12:25:27.769Z"
   },
   {
    "duration": 64,
    "start_time": "2022-04-20T12:25:53.791Z"
   },
   {
    "duration": 68,
    "start_time": "2022-04-20T12:26:12.900Z"
   },
   {
    "duration": 70,
    "start_time": "2022-04-20T12:26:54.272Z"
   },
   {
    "duration": 7,
    "start_time": "2022-04-20T12:27:35.484Z"
   },
   {
    "duration": 61,
    "start_time": "2022-04-20T12:35:48.375Z"
   },
   {
    "duration": 60,
    "start_time": "2022-04-20T12:37:11.623Z"
   },
   {
    "duration": 61,
    "start_time": "2022-04-20T12:37:39.744Z"
   },
   {
    "duration": 28,
    "start_time": "2022-04-20T12:38:47.379Z"
   },
   {
    "duration": 25,
    "start_time": "2022-04-20T12:38:54.439Z"
   },
   {
    "duration": 26,
    "start_time": "2022-04-20T12:43:18.255Z"
   },
   {
    "duration": 7,
    "start_time": "2022-04-20T12:56:55.477Z"
   },
   {
    "duration": 7,
    "start_time": "2022-04-20T12:59:43.541Z"
   },
   {
    "duration": 12,
    "start_time": "2022-04-20T13:09:44.365Z"
   },
   {
    "duration": 6,
    "start_time": "2022-04-20T13:11:26.171Z"
   },
   {
    "duration": 8,
    "start_time": "2022-04-20T13:11:36.988Z"
   },
   {
    "duration": 7,
    "start_time": "2022-04-20T13:12:02.388Z"
   },
   {
    "duration": 7,
    "start_time": "2022-04-20T13:12:03.081Z"
   },
   {
    "duration": 8,
    "start_time": "2022-04-20T13:20:42.040Z"
   },
   {
    "duration": 30,
    "start_time": "2022-04-20T13:21:27.552Z"
   },
   {
    "duration": 8,
    "start_time": "2022-04-20T13:21:30.545Z"
   },
   {
    "duration": 25,
    "start_time": "2022-04-20T13:21:45.961Z"
   },
   {
    "duration": 23,
    "start_time": "2022-04-20T13:47:44.460Z"
   },
   {
    "duration": 14,
    "start_time": "2022-04-20T13:52:25.764Z"
   },
   {
    "duration": 58,
    "start_time": "2022-04-20T13:52:28.013Z"
   },
   {
    "duration": 23,
    "start_time": "2022-04-20T13:52:28.861Z"
   },
   {
    "duration": 14,
    "start_time": "2022-04-20T13:52:51.580Z"
   },
   {
    "duration": 8,
    "start_time": "2022-04-20T13:53:54.362Z"
   },
   {
    "duration": 8,
    "start_time": "2022-04-20T13:59:22.904Z"
   },
   {
    "duration": 25,
    "start_time": "2022-04-20T13:59:31.146Z"
   },
   {
    "duration": 10,
    "start_time": "2022-04-20T14:13:03.767Z"
   },
   {
    "duration": 7,
    "start_time": "2022-04-20T14:21:50.855Z"
   },
   {
    "duration": 2173,
    "start_time": "2022-04-20T14:25:28.123Z"
   },
   {
    "duration": 9,
    "start_time": "2022-04-20T14:25:52.995Z"
   },
   {
    "duration": 7,
    "start_time": "2022-04-20T14:28:59.201Z"
   },
   {
    "duration": 123,
    "start_time": "2022-04-20T14:29:03.702Z"
   },
   {
    "duration": 4,
    "start_time": "2022-04-20T14:29:04.527Z"
   },
   {
    "duration": 133,
    "start_time": "2022-04-20T14:29:13.371Z"
   },
   {
    "duration": 4,
    "start_time": "2022-04-20T14:29:13.979Z"
   },
   {
    "duration": 119,
    "start_time": "2022-04-20T14:29:21.134Z"
   },
   {
    "duration": 5,
    "start_time": "2022-04-20T14:29:21.687Z"
   },
   {
    "duration": 141,
    "start_time": "2022-04-20T14:29:34.759Z"
   },
   {
    "duration": 4,
    "start_time": "2022-04-20T14:29:35.167Z"
   },
   {
    "duration": 153,
    "start_time": "2022-04-20T14:30:34.490Z"
   },
   {
    "duration": 4,
    "start_time": "2022-04-20T14:31:11.983Z"
   },
   {
    "duration": 9,
    "start_time": "2022-04-20T14:34:49.395Z"
   },
   {
    "duration": 8,
    "start_time": "2022-04-20T14:36:35.822Z"
   },
   {
    "duration": 465,
    "start_time": "2022-04-20T14:36:55.283Z"
   },
   {
    "duration": 137,
    "start_time": "2022-04-20T14:37:04.007Z"
   },
   {
    "duration": 22,
    "start_time": "2022-04-20T14:37:04.590Z"
   },
   {
    "duration": 10,
    "start_time": "2022-04-20T14:42:04.935Z"
   },
   {
    "duration": 43,
    "start_time": "2022-04-20T14:51:17.398Z"
   },
   {
    "duration": 24,
    "start_time": "2022-04-20T14:51:30.498Z"
   },
   {
    "duration": 24,
    "start_time": "2022-04-20T14:52:13.154Z"
   },
   {
    "duration": 18,
    "start_time": "2022-04-20T14:54:08.728Z"
   },
   {
    "duration": 20,
    "start_time": "2022-04-20T14:56:52.491Z"
   },
   {
    "duration": 4,
    "start_time": "2022-04-20T14:58:36.686Z"
   },
   {
    "duration": 3,
    "start_time": "2022-04-20T14:58:53.494Z"
   },
   {
    "duration": 131,
    "start_time": "2022-04-20T14:59:01.807Z"
   },
   {
    "duration": 132,
    "start_time": "2022-04-20T14:59:07.782Z"
   },
   {
    "duration": 4,
    "start_time": "2022-04-20T14:59:14.398Z"
   },
   {
    "duration": 4,
    "start_time": "2022-04-20T15:03:07.294Z"
   },
   {
    "duration": 8,
    "start_time": "2022-04-20T15:03:23.262Z"
   },
   {
    "duration": 4,
    "start_time": "2022-04-20T15:03:37.390Z"
   },
   {
    "duration": 3,
    "start_time": "2022-04-20T15:04:19.730Z"
   },
   {
    "duration": 14,
    "start_time": "2022-04-20T15:28:36.049Z"
   },
   {
    "duration": 11,
    "start_time": "2022-04-20T15:29:31.525Z"
   },
   {
    "duration": 8,
    "start_time": "2022-04-20T15:30:28.977Z"
   },
   {
    "duration": 4,
    "start_time": "2022-04-20T15:31:04.369Z"
   },
   {
    "duration": 4,
    "start_time": "2022-04-20T15:31:14.939Z"
   },
   {
    "duration": 16,
    "start_time": "2022-04-20T15:32:19.313Z"
   },
   {
    "duration": 4,
    "start_time": "2022-04-20T15:33:22.021Z"
   },
   {
    "duration": 12,
    "start_time": "2022-04-20T15:33:28.641Z"
   },
   {
    "duration": 15,
    "start_time": "2022-04-20T15:34:05.213Z"
   },
   {
    "duration": 13,
    "start_time": "2022-04-20T15:34:33.513Z"
   },
   {
    "duration": 13,
    "start_time": "2022-04-20T15:34:36.277Z"
   },
   {
    "duration": 14,
    "start_time": "2022-04-20T15:35:36.718Z"
   },
   {
    "duration": 13,
    "start_time": "2022-04-20T15:36:04.457Z"
   },
   {
    "duration": 8,
    "start_time": "2022-04-20T15:36:15.148Z"
   },
   {
    "duration": 5,
    "start_time": "2022-04-20T15:39:20.081Z"
   },
   {
    "duration": 74,
    "start_time": "2022-04-20T17:38:03.136Z"
   },
   {
    "duration": 1706,
    "start_time": "2022-04-20T17:38:35.344Z"
   },
   {
    "duration": 89,
    "start_time": "2022-04-20T17:38:41.796Z"
   },
   {
    "duration": 11,
    "start_time": "2022-04-20T17:41:30.959Z"
   },
   {
    "duration": 4,
    "start_time": "2022-04-20T17:41:36.413Z"
   },
   {
    "duration": 46,
    "start_time": "2022-04-20T17:41:36.420Z"
   },
   {
    "duration": 29,
    "start_time": "2022-04-20T17:41:36.468Z"
   },
   {
    "duration": 12,
    "start_time": "2022-04-20T17:41:36.499Z"
   },
   {
    "duration": 23,
    "start_time": "2022-04-20T17:41:36.514Z"
   },
   {
    "duration": 51,
    "start_time": "2022-04-20T17:41:36.539Z"
   },
   {
    "duration": 21,
    "start_time": "2022-04-20T17:41:36.592Z"
   },
   {
    "duration": 12,
    "start_time": "2022-04-20T17:41:36.615Z"
   },
   {
    "duration": 55,
    "start_time": "2022-04-20T17:41:36.628Z"
   },
   {
    "duration": 20,
    "start_time": "2022-04-20T17:41:36.685Z"
   },
   {
    "duration": 13,
    "start_time": "2022-04-20T17:41:36.706Z"
   },
   {
    "duration": 10,
    "start_time": "2022-04-20T17:41:36.721Z"
   },
   {
    "duration": 513,
    "start_time": "2022-04-20T17:41:36.734Z"
   },
   {
    "duration": 454,
    "start_time": "2022-04-20T17:41:37.251Z"
   },
   {
    "duration": 310,
    "start_time": "2022-04-20T17:41:37.708Z"
   },
   {
    "duration": 10,
    "start_time": "2022-04-20T17:41:38.021Z"
   },
   {
    "duration": 679,
    "start_time": "2022-04-20T17:41:38.033Z"
   },
   {
    "duration": 597,
    "start_time": "2022-04-20T17:41:38.714Z"
   },
   {
    "duration": 613,
    "start_time": "2022-04-20T17:41:39.314Z"
   },
   {
    "duration": 12,
    "start_time": "2022-04-20T17:41:39.982Z"
   },
   {
    "duration": 15,
    "start_time": "2022-04-20T17:41:39.996Z"
   },
   {
    "duration": 393,
    "start_time": "2022-04-20T17:41:40.013Z"
   },
   {
    "duration": 6,
    "start_time": "2022-04-20T17:41:40.409Z"
   },
   {
    "duration": 702,
    "start_time": "2022-04-20T17:41:40.418Z"
   },
   {
    "duration": 58,
    "start_time": "2022-04-20T17:41:41.124Z"
   },
   {
    "duration": 15,
    "start_time": "2022-04-20T17:41:41.186Z"
   },
   {
    "duration": 281,
    "start_time": "2022-04-20T17:41:41.204Z"
   },
   {
    "duration": 227,
    "start_time": "2022-04-20T17:41:41.488Z"
   },
   {
    "duration": 66,
    "start_time": "2022-04-20T17:41:41.718Z"
   },
   {
    "duration": 23,
    "start_time": "2022-04-20T17:41:41.787Z"
   },
   {
    "duration": 23,
    "start_time": "2022-04-20T17:41:41.812Z"
   },
   {
    "duration": 11,
    "start_time": "2022-04-20T17:41:41.837Z"
   },
   {
    "duration": 68,
    "start_time": "2022-04-20T17:41:41.850Z"
   },
   {
    "duration": 11,
    "start_time": "2022-04-20T17:41:41.920Z"
   },
   {
    "duration": 288,
    "start_time": "2022-04-20T17:41:41.933Z"
   },
   {
    "duration": 33,
    "start_time": "2022-04-20T17:41:42.223Z"
   },
   {
    "duration": 5,
    "start_time": "2022-04-20T17:41:42.258Z"
   },
   {
    "duration": 12,
    "start_time": "2022-04-20T17:41:42.282Z"
   },
   {
    "duration": 11,
    "start_time": "2022-04-20T17:41:42.296Z"
   },
   {
    "duration": 1818,
    "start_time": "2022-04-20T17:41:42.309Z"
   },
   {
    "duration": 139,
    "start_time": "2022-04-20T17:42:06.114Z"
   },
   {
    "duration": 7,
    "start_time": "2022-04-20T17:42:10.700Z"
   },
   {
    "duration": 1673,
    "start_time": "2022-04-20T17:42:49.526Z"
   },
   {
    "duration": 10,
    "start_time": "2022-04-20T17:43:18.019Z"
   },
   {
    "duration": 13,
    "start_time": "2022-04-20T17:43:39.242Z"
   },
   {
    "duration": 12,
    "start_time": "2022-04-20T17:44:19.767Z"
   },
   {
    "duration": 12,
    "start_time": "2022-04-20T17:44:29.416Z"
   },
   {
    "duration": 12,
    "start_time": "2022-04-20T17:45:32.484Z"
   },
   {
    "duration": 12,
    "start_time": "2022-04-20T17:45:39.434Z"
   },
   {
    "duration": 12,
    "start_time": "2022-04-20T17:46:10.384Z"
   },
   {
    "duration": 121,
    "start_time": "2022-04-20T17:46:26.663Z"
   },
   {
    "duration": 11,
    "start_time": "2022-04-20T17:46:36.879Z"
   },
   {
    "duration": 10,
    "start_time": "2022-04-20T17:50:08.608Z"
   },
   {
    "duration": 15,
    "start_time": "2022-04-20T17:50:28.968Z"
   },
   {
    "duration": 12,
    "start_time": "2022-04-20T17:50:33.314Z"
   },
   {
    "duration": 11,
    "start_time": "2022-04-20T17:54:15.024Z"
   },
   {
    "duration": 35,
    "start_time": "2022-04-20T17:55:04.247Z"
   },
   {
    "duration": 11,
    "start_time": "2022-04-20T17:56:48.116Z"
   },
   {
    "duration": 12,
    "start_time": "2022-04-20T17:57:10.392Z"
   },
   {
    "duration": 12,
    "start_time": "2022-04-20T17:57:24.596Z"
   },
   {
    "duration": 11,
    "start_time": "2022-04-20T17:57:29.808Z"
   },
   {
    "duration": 36,
    "start_time": "2022-04-20T18:08:09.375Z"
   },
   {
    "duration": 31,
    "start_time": "2022-04-20T18:08:33.838Z"
   },
   {
    "duration": 12,
    "start_time": "2022-04-20T18:09:01.735Z"
   },
   {
    "duration": 35,
    "start_time": "2022-04-20T18:10:13.642Z"
   },
   {
    "duration": 39,
    "start_time": "2022-04-20T18:11:07.998Z"
   },
   {
    "duration": 31,
    "start_time": "2022-04-20T18:11:38.811Z"
   },
   {
    "duration": 4,
    "start_time": "2022-04-20T18:13:25.171Z"
   },
   {
    "duration": 6,
    "start_time": "2022-04-20T18:13:45.442Z"
   },
   {
    "duration": 31,
    "start_time": "2022-04-20T18:15:03.073Z"
   },
   {
    "duration": 32,
    "start_time": "2022-04-20T18:15:28.254Z"
   },
   {
    "duration": 2043,
    "start_time": "2022-04-20T18:31:09.342Z"
   },
   {
    "duration": 1663,
    "start_time": "2022-04-20T18:32:44.505Z"
   },
   {
    "duration": 17,
    "start_time": "2022-04-20T18:33:08.674Z"
   },
   {
    "duration": 21,
    "start_time": "2022-04-20T18:33:45.718Z"
   },
   {
    "duration": 19,
    "start_time": "2022-04-20T18:35:00.126Z"
   },
   {
    "duration": 21,
    "start_time": "2022-04-20T18:45:13.398Z"
   },
   {
    "duration": 1433,
    "start_time": "2022-04-20T20:17:05.493Z"
   },
   {
    "duration": 57,
    "start_time": "2022-04-20T20:17:06.929Z"
   },
   {
    "duration": 28,
    "start_time": "2022-04-20T20:17:06.988Z"
   },
   {
    "duration": 11,
    "start_time": "2022-04-20T20:17:07.019Z"
   },
   {
    "duration": 55,
    "start_time": "2022-04-20T20:17:07.033Z"
   },
   {
    "duration": 16,
    "start_time": "2022-04-20T20:17:07.090Z"
   },
   {
    "duration": 20,
    "start_time": "2022-04-20T20:17:07.109Z"
   },
   {
    "duration": 52,
    "start_time": "2022-04-20T20:17:07.131Z"
   },
   {
    "duration": 26,
    "start_time": "2022-04-20T20:17:07.186Z"
   },
   {
    "duration": 20,
    "start_time": "2022-04-20T20:17:07.216Z"
   },
   {
    "duration": 17,
    "start_time": "2022-04-20T20:17:07.238Z"
   },
   {
    "duration": 11,
    "start_time": "2022-04-20T20:17:07.281Z"
   },
   {
    "duration": 506,
    "start_time": "2022-04-20T20:17:07.294Z"
   },
   {
    "duration": 448,
    "start_time": "2022-04-20T20:17:07.802Z"
   },
   {
    "duration": 318,
    "start_time": "2022-04-20T20:17:08.252Z"
   },
   {
    "duration": 15,
    "start_time": "2022-04-20T20:17:08.572Z"
   },
   {
    "duration": 413,
    "start_time": "2022-04-20T20:17:08.589Z"
   },
   {
    "duration": 313,
    "start_time": "2022-04-20T20:17:09.004Z"
   },
   {
    "duration": 424,
    "start_time": "2022-04-20T20:17:09.320Z"
   },
   {
    "duration": 12,
    "start_time": "2022-04-20T20:17:09.746Z"
   },
   {
    "duration": 35,
    "start_time": "2022-04-20T20:17:09.760Z"
   },
   {
    "duration": 212,
    "start_time": "2022-04-20T20:17:09.797Z"
   },
   {
    "duration": 6,
    "start_time": "2022-04-20T20:17:10.011Z"
   },
   {
    "duration": 257,
    "start_time": "2022-04-20T20:17:10.019Z"
   },
   {
    "duration": 6,
    "start_time": "2022-04-20T20:17:10.282Z"
   },
   {
    "duration": 18,
    "start_time": "2022-04-20T20:17:10.290Z"
   },
   {
    "duration": 105,
    "start_time": "2022-04-20T20:17:10.310Z"
   },
   {
    "duration": 99,
    "start_time": "2022-04-20T20:17:10.420Z"
   },
   {
    "duration": 24,
    "start_time": "2022-04-20T20:17:10.521Z"
   },
   {
    "duration": 37,
    "start_time": "2022-04-20T20:17:10.547Z"
   },
   {
    "duration": 25,
    "start_time": "2022-04-20T20:17:10.587Z"
   },
   {
    "duration": 16,
    "start_time": "2022-04-20T20:17:10.614Z"
   },
   {
    "duration": 71,
    "start_time": "2022-04-20T20:17:10.632Z"
   },
   {
    "duration": 12,
    "start_time": "2022-04-20T20:17:10.706Z"
   },
   {
    "duration": 290,
    "start_time": "2022-04-20T20:17:10.720Z"
   },
   {
    "duration": 33,
    "start_time": "2022-04-20T20:17:11.012Z"
   },
   {
    "duration": 5,
    "start_time": "2022-04-20T20:17:11.047Z"
   },
   {
    "duration": 37,
    "start_time": "2022-04-20T20:17:11.055Z"
   },
   {
    "duration": 15,
    "start_time": "2022-04-20T20:17:11.094Z"
   },
   {
    "duration": 13,
    "start_time": "2022-04-20T20:17:11.111Z"
   },
   {
    "duration": 15,
    "start_time": "2022-04-20T20:17:11.126Z"
   },
   {
    "duration": 42,
    "start_time": "2022-04-20T20:17:11.144Z"
   },
   {
    "duration": 37,
    "start_time": "2022-04-20T20:17:11.188Z"
   },
   {
    "duration": 12,
    "start_time": "2022-04-20T20:17:11.227Z"
   },
   {
    "duration": 42,
    "start_time": "2022-04-20T20:17:11.241Z"
   },
   {
    "duration": 1305,
    "start_time": "2022-04-21T14:00:41.566Z"
   },
   {
    "duration": 35,
    "start_time": "2022-04-21T14:00:42.873Z"
   },
   {
    "duration": 31,
    "start_time": "2022-04-21T14:00:42.910Z"
   },
   {
    "duration": 14,
    "start_time": "2022-04-21T14:00:42.943Z"
   },
   {
    "duration": 31,
    "start_time": "2022-04-21T14:00:42.960Z"
   },
   {
    "duration": 32,
    "start_time": "2022-04-21T14:00:42.992Z"
   },
   {
    "duration": 20,
    "start_time": "2022-04-21T14:00:43.026Z"
   },
   {
    "duration": 19,
    "start_time": "2022-04-21T14:00:43.048Z"
   },
   {
    "duration": 30,
    "start_time": "2022-04-21T14:00:43.069Z"
   },
   {
    "duration": 16,
    "start_time": "2022-04-21T14:00:43.100Z"
   },
   {
    "duration": 224,
    "start_time": "2022-04-21T14:00:43.117Z"
   },
   {
    "duration": 24,
    "start_time": "2022-04-21T14:00:43.343Z"
   },
   {
    "duration": 318,
    "start_time": "2022-04-21T14:00:43.369Z"
   },
   {
    "duration": 281,
    "start_time": "2022-04-21T14:00:43.690Z"
   },
   {
    "duration": 196,
    "start_time": "2022-04-21T14:00:43.972Z"
   },
   {
    "duration": 8,
    "start_time": "2022-04-21T14:00:44.170Z"
   },
   {
    "duration": 285,
    "start_time": "2022-04-21T14:00:44.180Z"
   },
   {
    "duration": 189,
    "start_time": "2022-04-21T14:00:44.467Z"
   },
   {
    "duration": 305,
    "start_time": "2022-04-21T14:00:44.658Z"
   },
   {
    "duration": 8,
    "start_time": "2022-04-21T14:00:44.965Z"
   },
   {
    "duration": 35,
    "start_time": "2022-04-21T14:00:44.975Z"
   },
   {
    "duration": 170,
    "start_time": "2022-04-21T14:00:45.012Z"
   },
   {
    "duration": 6,
    "start_time": "2022-04-21T14:00:45.184Z"
   },
   {
    "duration": 151,
    "start_time": "2022-04-21T14:00:45.192Z"
   },
   {
    "duration": 12,
    "start_time": "2022-04-21T14:00:45.345Z"
   },
   {
    "duration": 11,
    "start_time": "2022-04-21T14:00:45.358Z"
   },
   {
    "duration": 50,
    "start_time": "2022-04-21T14:00:45.371Z"
   },
   {
    "duration": 67,
    "start_time": "2022-04-21T14:00:45.423Z"
   },
   {
    "duration": 33,
    "start_time": "2022-04-21T14:00:45.492Z"
   },
   {
    "duration": 39,
    "start_time": "2022-04-21T14:00:45.527Z"
   },
   {
    "duration": 17,
    "start_time": "2022-04-21T14:00:45.568Z"
   },
   {
    "duration": 27,
    "start_time": "2022-04-21T14:00:45.586Z"
   },
   {
    "duration": 40,
    "start_time": "2022-04-21T14:00:45.615Z"
   },
   {
    "duration": 10,
    "start_time": "2022-04-21T14:00:45.656Z"
   },
   {
    "duration": 147,
    "start_time": "2022-04-21T14:00:45.668Z"
   },
   {
    "duration": 25,
    "start_time": "2022-04-21T14:00:45.817Z"
   },
   {
    "duration": 5,
    "start_time": "2022-04-21T14:00:45.855Z"
   },
   {
    "duration": 16,
    "start_time": "2022-04-21T14:00:45.862Z"
   },
   {
    "duration": 18,
    "start_time": "2022-04-21T14:00:45.880Z"
   },
   {
    "duration": 20,
    "start_time": "2022-04-21T14:00:45.901Z"
   },
   {
    "duration": 13,
    "start_time": "2022-04-21T14:00:45.926Z"
   },
   {
    "duration": 16,
    "start_time": "2022-04-21T14:00:45.941Z"
   },
   {
    "duration": 36,
    "start_time": "2022-04-21T14:00:45.959Z"
   },
   {
    "duration": 9,
    "start_time": "2022-04-21T14:00:45.998Z"
   },
   {
    "duration": 16,
    "start_time": "2022-04-21T14:00:46.009Z"
   },
   {
    "duration": 1842,
    "start_time": "2022-04-21T16:54:06.278Z"
   },
   {
    "duration": 186,
    "start_time": "2022-04-21T16:54:08.123Z"
   },
   {
    "duration": 41,
    "start_time": "2022-04-21T16:54:18.356Z"
   },
   {
    "duration": 133,
    "start_time": "2022-04-21T17:04:32.549Z"
   },
   {
    "duration": 3237,
    "start_time": "2022-04-21T17:07:06.351Z"
   },
   {
    "duration": 0,
    "start_time": "2022-04-21T17:07:09.590Z"
   },
   {
    "duration": 22,
    "start_time": "2022-04-21T17:07:23.668Z"
   },
   {
    "duration": 13,
    "start_time": "2022-04-21T17:07:24.192Z"
   },
   {
    "duration": 22,
    "start_time": "2022-04-21T17:07:24.684Z"
   },
   {
    "duration": 16,
    "start_time": "2022-04-21T17:07:25.104Z"
   },
   {
    "duration": 21,
    "start_time": "2022-04-21T17:07:25.364Z"
   },
   {
    "duration": 12,
    "start_time": "2022-04-21T17:07:25.608Z"
   },
   {
    "duration": 11,
    "start_time": "2022-04-21T17:07:25.836Z"
   },
   {
    "duration": 10,
    "start_time": "2022-04-21T17:07:26.220Z"
   },
   {
    "duration": 7,
    "start_time": "2022-04-21T17:07:36.296Z"
   },
   {
    "duration": 4,
    "start_time": "2022-04-21T17:07:56.628Z"
   },
   {
    "duration": 20,
    "start_time": "2022-04-21T17:09:30.946Z"
   },
   {
    "duration": 17,
    "start_time": "2022-04-21T17:40:37.426Z"
   },
   {
    "duration": 15,
    "start_time": "2022-04-21T17:43:28.827Z"
   },
   {
    "duration": 13,
    "start_time": "2022-04-21T17:43:37.975Z"
   },
   {
    "duration": 15,
    "start_time": "2022-04-21T18:02:00.670Z"
   },
   {
    "duration": 4,
    "start_time": "2022-04-21T18:02:53.138Z"
   },
   {
    "duration": 182,
    "start_time": "2022-04-21T18:02:53.145Z"
   },
   {
    "duration": 22,
    "start_time": "2022-04-21T18:02:53.330Z"
   },
   {
    "duration": 14,
    "start_time": "2022-04-21T18:02:53.354Z"
   },
   {
    "duration": 32,
    "start_time": "2022-04-21T18:02:53.371Z"
   },
   {
    "duration": 18,
    "start_time": "2022-04-21T18:02:53.406Z"
   },
   {
    "duration": 24,
    "start_time": "2022-04-21T18:02:53.426Z"
   },
   {
    "duration": 48,
    "start_time": "2022-04-21T18:02:53.453Z"
   },
   {
    "duration": 16,
    "start_time": "2022-04-21T18:02:53.503Z"
   },
   {
    "duration": 17,
    "start_time": "2022-04-21T18:02:53.521Z"
   },
   {
    "duration": 58,
    "start_time": "2022-04-21T18:02:53.541Z"
   },
   {
    "duration": 20,
    "start_time": "2022-04-21T18:02:53.602Z"
   },
   {
    "duration": 20,
    "start_time": "2022-04-21T18:02:53.627Z"
   },
   {
    "duration": 46,
    "start_time": "2022-04-21T18:02:53.649Z"
   },
   {
    "duration": 12,
    "start_time": "2022-04-21T18:02:53.697Z"
   },
   {
    "duration": 747,
    "start_time": "2022-04-21T18:02:53.711Z"
   },
   {
    "duration": 753,
    "start_time": "2022-04-21T18:02:54.460Z"
   },
   {
    "duration": 328,
    "start_time": "2022-04-21T18:02:55.215Z"
   },
   {
    "duration": 12,
    "start_time": "2022-04-21T18:02:55.546Z"
   },
   {
    "duration": 437,
    "start_time": "2022-04-21T18:02:55.560Z"
   },
   {
    "duration": 305,
    "start_time": "2022-04-21T18:02:56.000Z"
   },
   {
    "duration": 378,
    "start_time": "2022-04-21T18:02:56.308Z"
   },
   {
    "duration": 12,
    "start_time": "2022-04-21T18:02:56.692Z"
   },
   {
    "duration": 17,
    "start_time": "2022-04-21T18:02:56.706Z"
   },
   {
    "duration": 252,
    "start_time": "2022-04-21T18:02:56.725Z"
   },
   {
    "duration": 16,
    "start_time": "2022-04-21T18:02:56.979Z"
   },
   {
    "duration": 314,
    "start_time": "2022-04-21T18:02:56.997Z"
   },
   {
    "duration": 8,
    "start_time": "2022-04-21T18:02:57.314Z"
   },
   {
    "duration": 19,
    "start_time": "2022-04-21T18:02:57.325Z"
   },
   {
    "duration": 114,
    "start_time": "2022-04-21T18:02:57.346Z"
   },
   {
    "duration": 130,
    "start_time": "2022-04-21T18:02:57.462Z"
   },
   {
    "duration": 17,
    "start_time": "2022-04-21T18:02:57.595Z"
   },
   {
    "duration": 83,
    "start_time": "2022-04-21T18:02:57.615Z"
   },
   {
    "duration": 34,
    "start_time": "2022-04-21T18:02:57.701Z"
   },
   {
    "duration": 13,
    "start_time": "2022-04-21T18:02:57.794Z"
   },
   {
    "duration": 98,
    "start_time": "2022-04-21T18:02:57.809Z"
   },
   {
    "duration": 12,
    "start_time": "2022-04-21T18:02:57.912Z"
   },
   {
    "duration": 577,
    "start_time": "2022-04-21T18:02:57.926Z"
   },
   {
    "duration": 32,
    "start_time": "2022-04-21T18:02:58.505Z"
   },
   {
    "duration": 58,
    "start_time": "2022-04-21T18:02:58.539Z"
   },
   {
    "duration": 26,
    "start_time": "2022-04-21T18:02:58.600Z"
   },
   {
    "duration": 11,
    "start_time": "2022-04-21T18:02:58.629Z"
   },
   {
    "duration": 18,
    "start_time": "2022-04-21T18:02:58.694Z"
   },
   {
    "duration": 16,
    "start_time": "2022-04-21T18:02:58.714Z"
   },
   {
    "duration": 65,
    "start_time": "2022-04-21T18:02:58.733Z"
   },
   {
    "duration": 35,
    "start_time": "2022-04-21T18:02:58.800Z"
   },
   {
    "duration": 64,
    "start_time": "2022-04-21T18:02:58.837Z"
   },
   {
    "duration": 26,
    "start_time": "2022-04-21T18:02:58.904Z"
   },
   {
    "duration": 14,
    "start_time": "2022-04-21T18:03:40.353Z"
   },
   {
    "duration": 13,
    "start_time": "2022-04-21T18:03:45.986Z"
   },
   {
    "duration": 14,
    "start_time": "2022-04-21T18:04:12.194Z"
   },
   {
    "duration": 15,
    "start_time": "2022-04-21T18:04:59.013Z"
   },
   {
    "duration": 4,
    "start_time": "2022-04-21T18:05:13.673Z"
   },
   {
    "duration": 14,
    "start_time": "2022-04-21T18:05:22.873Z"
   },
   {
    "duration": 18,
    "start_time": "2022-04-21T18:08:17.840Z"
   },
   {
    "duration": 14,
    "start_time": "2022-04-21T18:09:39.965Z"
   },
   {
    "duration": 14,
    "start_time": "2022-04-21T18:10:39.484Z"
   },
   {
    "duration": 13,
    "start_time": "2022-04-21T18:10:42.321Z"
   },
   {
    "duration": 14,
    "start_time": "2022-04-21T18:10:53.751Z"
   },
   {
    "duration": 12,
    "start_time": "2022-04-21T18:14:53.521Z"
   },
   {
    "duration": 13,
    "start_time": "2022-04-21T18:15:20.766Z"
   },
   {
    "duration": 13,
    "start_time": "2022-04-21T18:16:39.797Z"
   },
   {
    "duration": 18,
    "start_time": "2022-04-21T18:17:23.145Z"
   },
   {
    "duration": 12,
    "start_time": "2022-04-21T18:19:08.561Z"
   },
   {
    "duration": 16,
    "start_time": "2022-04-21T18:19:17.658Z"
   },
   {
    "duration": 15,
    "start_time": "2022-04-21T18:22:48.983Z"
   },
   {
    "duration": 18,
    "start_time": "2022-04-21T18:28:10.849Z"
   },
   {
    "duration": 14,
    "start_time": "2022-04-21T18:30:59.205Z"
   },
   {
    "duration": 10,
    "start_time": "2022-04-21T18:34:23.172Z"
   },
   {
    "duration": 11,
    "start_time": "2022-04-21T18:34:46.192Z"
   },
   {
    "duration": 12,
    "start_time": "2022-04-21T18:34:54.669Z"
   },
   {
    "duration": 16,
    "start_time": "2022-04-21T18:35:12.718Z"
   },
   {
    "duration": 16,
    "start_time": "2022-04-21T18:37:25.545Z"
   },
   {
    "duration": 15,
    "start_time": "2022-04-21T18:37:41.179Z"
   },
   {
    "duration": 210,
    "start_time": "2022-04-21T18:37:58.229Z"
   },
   {
    "duration": 20,
    "start_time": "2022-04-21T18:38:02.253Z"
   },
   {
    "duration": 27,
    "start_time": "2022-04-21T18:42:19.795Z"
   },
   {
    "duration": 19,
    "start_time": "2022-04-21T18:58:07.770Z"
   },
   {
    "duration": 17,
    "start_time": "2022-04-21T18:58:12.460Z"
   },
   {
    "duration": 19,
    "start_time": "2022-04-21T18:58:13.905Z"
   },
   {
    "duration": 19,
    "start_time": "2022-04-21T19:00:10.308Z"
   },
   {
    "duration": 12,
    "start_time": "2022-04-21T19:00:11.319Z"
   },
   {
    "duration": 474,
    "start_time": "2022-04-21T19:00:12.496Z"
   },
   {
    "duration": 397,
    "start_time": "2022-04-21T19:00:15.528Z"
   },
   {
    "duration": 308,
    "start_time": "2022-04-21T19:00:43.908Z"
   },
   {
    "duration": 329,
    "start_time": "2022-04-21T19:00:52.493Z"
   },
   {
    "duration": 12,
    "start_time": "2022-04-21T19:00:57.528Z"
   },
   {
    "duration": 396,
    "start_time": "2022-04-21T19:01:01.997Z"
   },
   {
    "duration": 421,
    "start_time": "2022-04-21T19:01:34.857Z"
   },
   {
    "duration": 493,
    "start_time": "2022-04-21T19:01:55.018Z"
   },
   {
    "duration": 12,
    "start_time": "2022-04-21T19:02:45.552Z"
   },
   {
    "duration": 17,
    "start_time": "2022-04-21T19:02:47.788Z"
   },
   {
    "duration": 326,
    "start_time": "2022-04-21T19:02:56.270Z"
   },
   {
    "duration": 3,
    "start_time": "2022-04-21T19:03:24.161Z"
   },
   {
    "duration": 194,
    "start_time": "2022-04-21T19:03:24.167Z"
   },
   {
    "duration": 23,
    "start_time": "2022-04-21T19:03:24.363Z"
   },
   {
    "duration": 16,
    "start_time": "2022-04-21T19:03:24.389Z"
   },
   {
    "duration": 33,
    "start_time": "2022-04-21T19:03:24.409Z"
   },
   {
    "duration": 56,
    "start_time": "2022-04-21T19:03:24.446Z"
   },
   {
    "duration": 32,
    "start_time": "2022-04-21T19:03:24.505Z"
   },
   {
    "duration": 53,
    "start_time": "2022-04-21T19:03:24.540Z"
   },
   {
    "duration": 17,
    "start_time": "2022-04-21T19:03:24.597Z"
   },
   {
    "duration": 19,
    "start_time": "2022-04-21T19:03:24.616Z"
   },
   {
    "duration": 20,
    "start_time": "2022-04-21T19:03:24.638Z"
   },
   {
    "duration": 24,
    "start_time": "2022-04-21T19:03:24.694Z"
   },
   {
    "duration": 21,
    "start_time": "2022-04-21T19:03:24.721Z"
   },
   {
    "duration": 49,
    "start_time": "2022-04-21T19:03:24.744Z"
   },
   {
    "duration": 13,
    "start_time": "2022-04-21T19:03:24.796Z"
   },
   {
    "duration": 586,
    "start_time": "2022-04-21T19:03:24.812Z"
   },
   {
    "duration": 373,
    "start_time": "2022-04-21T19:03:25.401Z"
   },
   {
    "duration": 466,
    "start_time": "2022-04-21T19:03:25.777Z"
   },
   {
    "duration": 15,
    "start_time": "2022-04-21T19:03:26.246Z"
   },
   {
    "duration": 872,
    "start_time": "2022-04-21T19:03:26.262Z"
   },
   {
    "duration": 956,
    "start_time": "2022-04-21T19:03:27.138Z"
   },
   {
    "duration": 914,
    "start_time": "2022-04-21T19:03:28.098Z"
   },
   {
    "duration": 18,
    "start_time": "2022-04-21T19:03:29.015Z"
   },
   {
    "duration": 23,
    "start_time": "2022-04-21T19:03:29.092Z"
   },
   {
    "duration": 684,
    "start_time": "2022-04-21T19:03:29.118Z"
   },
   {
    "duration": 7,
    "start_time": "2022-04-21T19:03:29.804Z"
   },
   {
    "duration": 418,
    "start_time": "2022-04-21T19:03:29.815Z"
   },
   {
    "duration": 8,
    "start_time": "2022-04-21T19:03:30.235Z"
   },
   {
    "duration": 24,
    "start_time": "2022-04-21T19:03:30.246Z"
   },
   {
    "duration": 150,
    "start_time": "2022-04-21T19:03:30.272Z"
   },
   {
    "duration": 99,
    "start_time": "2022-04-21T19:03:30.425Z"
   },
   {
    "duration": 37,
    "start_time": "2022-04-21T19:03:30.527Z"
   },
   {
    "duration": 51,
    "start_time": "2022-04-21T19:03:30.566Z"
   },
   {
    "duration": 42,
    "start_time": "2022-04-21T19:03:30.620Z"
   },
   {
    "duration": 35,
    "start_time": "2022-04-21T19:03:30.665Z"
   },
   {
    "duration": 73,
    "start_time": "2022-04-21T19:03:30.703Z"
   },
   {
    "duration": 31,
    "start_time": "2022-04-21T19:03:30.779Z"
   },
   {
    "duration": 261,
    "start_time": "2022-04-21T19:03:30.814Z"
   },
   {
    "duration": 59,
    "start_time": "2022-04-21T19:03:31.078Z"
   },
   {
    "duration": 7,
    "start_time": "2022-04-21T19:03:31.140Z"
   },
   {
    "duration": 14,
    "start_time": "2022-04-21T19:03:31.149Z"
   },
   {
    "duration": 37,
    "start_time": "2022-04-21T19:03:31.165Z"
   },
   {
    "duration": 19,
    "start_time": "2022-04-21T19:03:31.208Z"
   },
   {
    "duration": 18,
    "start_time": "2022-04-21T19:03:31.229Z"
   },
   {
    "duration": 55,
    "start_time": "2022-04-21T19:03:31.250Z"
   },
   {
    "duration": 35,
    "start_time": "2022-04-21T19:03:31.308Z"
   },
   {
    "duration": 14,
    "start_time": "2022-04-21T19:03:31.346Z"
   },
   {
    "duration": 50,
    "start_time": "2022-04-21T19:03:31.362Z"
   },
   {
    "duration": 343,
    "start_time": "2022-04-21T19:04:17.253Z"
   },
   {
    "duration": 2481,
    "start_time": "2022-04-21T19:04:48.250Z"
   },
   {
    "duration": 200,
    "start_time": "2022-04-21T19:04:50.735Z"
   },
   {
    "duration": 73,
    "start_time": "2022-04-21T19:04:50.939Z"
   },
   {
    "duration": 18,
    "start_time": "2022-04-21T19:04:51.017Z"
   },
   {
    "duration": 36,
    "start_time": "2022-04-21T19:04:51.094Z"
   },
   {
    "duration": 78,
    "start_time": "2022-04-21T19:04:51.135Z"
   },
   {
    "duration": 84,
    "start_time": "2022-04-21T19:04:51.216Z"
   },
   {
    "duration": 20,
    "start_time": "2022-04-21T19:04:51.303Z"
   },
   {
    "duration": 78,
    "start_time": "2022-04-21T19:04:51.327Z"
   },
   {
    "duration": 24,
    "start_time": "2022-04-21T19:04:51.410Z"
   },
   {
    "duration": 80,
    "start_time": "2022-04-21T19:04:51.437Z"
   },
   {
    "duration": 91,
    "start_time": "2022-04-21T19:04:51.520Z"
   },
   {
    "duration": 84,
    "start_time": "2022-04-21T19:04:51.615Z"
   },
   {
    "duration": 17,
    "start_time": "2022-04-21T19:04:51.702Z"
   },
   {
    "duration": 76,
    "start_time": "2022-04-21T19:04:51.722Z"
   },
   {
    "duration": 1267,
    "start_time": "2022-04-21T19:04:51.801Z"
   },
   {
    "duration": 676,
    "start_time": "2022-04-21T19:04:53.071Z"
   },
   {
    "duration": 557,
    "start_time": "2022-04-21T19:04:53.750Z"
   },
   {
    "duration": 12,
    "start_time": "2022-04-21T19:04:54.309Z"
   },
   {
    "duration": 423,
    "start_time": "2022-04-21T19:04:54.323Z"
   },
   {
    "duration": 325,
    "start_time": "2022-04-21T19:04:54.749Z"
   },
   {
    "duration": 419,
    "start_time": "2022-04-21T19:04:55.076Z"
   },
   {
    "duration": 17,
    "start_time": "2022-04-21T19:04:55.498Z"
   },
   {
    "duration": 24,
    "start_time": "2022-04-21T19:04:55.517Z"
   },
   {
    "duration": 285,
    "start_time": "2022-04-21T19:04:55.544Z"
   },
   {
    "duration": 8,
    "start_time": "2022-04-21T19:04:55.831Z"
   },
   {
    "duration": 259,
    "start_time": "2022-04-21T19:04:55.841Z"
   },
   {
    "duration": 7,
    "start_time": "2022-04-21T19:04:56.105Z"
   },
   {
    "duration": 29,
    "start_time": "2022-04-21T19:04:56.115Z"
   },
   {
    "duration": 118,
    "start_time": "2022-04-21T19:04:56.146Z"
   },
   {
    "duration": 102,
    "start_time": "2022-04-21T19:04:56.266Z"
   },
   {
    "duration": 31,
    "start_time": "2022-04-21T19:04:56.370Z"
   },
   {
    "duration": 26,
    "start_time": "2022-04-21T19:04:56.404Z"
   },
   {
    "duration": 26,
    "start_time": "2022-04-21T19:04:56.432Z"
   },
   {
    "duration": 37,
    "start_time": "2022-04-21T19:04:56.461Z"
   },
   {
    "duration": 43,
    "start_time": "2022-04-21T19:04:56.501Z"
   },
   {
    "duration": 45,
    "start_time": "2022-04-21T19:04:56.547Z"
   },
   {
    "duration": 290,
    "start_time": "2022-04-21T19:04:56.595Z"
   },
   {
    "duration": 34,
    "start_time": "2022-04-21T19:04:56.887Z"
   },
   {
    "duration": 5,
    "start_time": "2022-04-21T19:04:56.923Z"
   },
   {
    "duration": 15,
    "start_time": "2022-04-21T19:04:56.931Z"
   },
   {
    "duration": 50,
    "start_time": "2022-04-21T19:04:56.949Z"
   },
   {
    "duration": 21,
    "start_time": "2022-04-21T19:04:57.002Z"
   },
   {
    "duration": 15,
    "start_time": "2022-04-21T19:04:57.025Z"
   },
   {
    "duration": 11,
    "start_time": "2022-04-21T19:04:57.043Z"
   },
   {
    "duration": 59,
    "start_time": "2022-04-21T19:04:57.056Z"
   },
   {
    "duration": 14,
    "start_time": "2022-04-21T19:04:57.118Z"
   },
   {
    "duration": 26,
    "start_time": "2022-04-21T19:04:57.136Z"
   },
   {
    "duration": 24,
    "start_time": "2022-04-21T19:05:18.314Z"
   },
   {
    "duration": 16,
    "start_time": "2022-04-21T19:05:26.865Z"
   },
   {
    "duration": 13,
    "start_time": "2022-04-21T19:06:19.057Z"
   },
   {
    "duration": 15,
    "start_time": "2022-04-21T19:06:19.754Z"
   },
   {
    "duration": 241,
    "start_time": "2022-04-21T19:06:23.106Z"
   },
   {
    "duration": 15,
    "start_time": "2022-04-21T19:07:35.209Z"
   },
   {
    "duration": 15,
    "start_time": "2022-04-21T19:07:35.870Z"
   },
   {
    "duration": 346,
    "start_time": "2022-04-21T19:07:36.947Z"
   },
   {
    "duration": 1502,
    "start_time": "2022-04-21T19:08:31.133Z"
   },
   {
    "duration": 165,
    "start_time": "2022-04-21T19:08:32.638Z"
   },
   {
    "duration": 34,
    "start_time": "2022-04-21T19:08:32.806Z"
   },
   {
    "duration": 12,
    "start_time": "2022-04-21T19:08:32.845Z"
   },
   {
    "duration": 79,
    "start_time": "2022-04-21T19:08:32.860Z"
   },
   {
    "duration": 20,
    "start_time": "2022-04-21T19:08:32.941Z"
   },
   {
    "duration": 48,
    "start_time": "2022-04-21T19:08:32.964Z"
   },
   {
    "duration": 15,
    "start_time": "2022-04-21T19:08:33.014Z"
   },
   {
    "duration": 18,
    "start_time": "2022-04-21T19:08:33.032Z"
   },
   {
    "duration": 53,
    "start_time": "2022-04-21T19:08:33.054Z"
   },
   {
    "duration": 17,
    "start_time": "2022-04-21T19:08:33.110Z"
   },
   {
    "duration": 19,
    "start_time": "2022-04-21T19:08:33.130Z"
   },
   {
    "duration": 66,
    "start_time": "2022-04-21T19:08:33.151Z"
   },
   {
    "duration": 14,
    "start_time": "2022-04-21T19:08:33.220Z"
   },
   {
    "duration": 17,
    "start_time": "2022-04-21T19:08:33.237Z"
   },
   {
    "duration": 512,
    "start_time": "2022-04-21T19:08:33.256Z"
   },
   {
    "duration": 494,
    "start_time": "2022-04-21T19:08:33.770Z"
   },
   {
    "duration": 385,
    "start_time": "2022-04-21T19:08:34.266Z"
   },
   {
    "duration": 10,
    "start_time": "2022-04-21T19:08:34.654Z"
   },
   {
    "duration": 526,
    "start_time": "2022-04-21T19:08:34.667Z"
   },
   {
    "duration": 437,
    "start_time": "2022-04-21T19:08:35.196Z"
   },
   {
    "duration": 623,
    "start_time": "2022-04-21T19:08:35.635Z"
   },
   {
    "duration": 14,
    "start_time": "2022-04-21T19:08:36.260Z"
   },
   {
    "duration": 44,
    "start_time": "2022-04-21T19:08:36.294Z"
   },
   {
    "duration": 219,
    "start_time": "2022-04-21T19:08:36.341Z"
   },
   {
    "duration": 7,
    "start_time": "2022-04-21T19:08:36.562Z"
   },
   {
    "duration": 433,
    "start_time": "2022-04-21T19:08:36.571Z"
   },
   {
    "duration": 11,
    "start_time": "2022-04-21T19:08:37.011Z"
   },
   {
    "duration": 70,
    "start_time": "2022-04-21T19:08:37.025Z"
   },
   {
    "duration": 222,
    "start_time": "2022-04-21T19:08:37.098Z"
   },
   {
    "duration": 210,
    "start_time": "2022-04-21T19:08:37.323Z"
   },
   {
    "duration": 75,
    "start_time": "2022-04-21T19:08:37.535Z"
   },
   {
    "duration": 29,
    "start_time": "2022-04-21T19:08:37.613Z"
   },
   {
    "duration": 75,
    "start_time": "2022-04-21T19:08:37.644Z"
   },
   {
    "duration": 75,
    "start_time": "2022-04-21T19:08:37.722Z"
   },
   {
    "duration": 108,
    "start_time": "2022-04-21T19:08:37.803Z"
   },
   {
    "duration": 15,
    "start_time": "2022-04-21T19:08:37.914Z"
   },
   {
    "duration": 761,
    "start_time": "2022-04-21T19:08:37.932Z"
   },
   {
    "duration": 33,
    "start_time": "2022-04-21T19:08:38.696Z"
   },
   {
    "duration": 5,
    "start_time": "2022-04-21T19:08:38.731Z"
   },
   {
    "duration": 15,
    "start_time": "2022-04-21T19:08:38.792Z"
   },
   {
    "duration": 18,
    "start_time": "2022-04-21T19:08:38.809Z"
   },
   {
    "duration": 65,
    "start_time": "2022-04-21T19:08:38.829Z"
   },
   {
    "duration": 12,
    "start_time": "2022-04-21T19:08:38.896Z"
   },
   {
    "duration": 13,
    "start_time": "2022-04-21T19:08:38.911Z"
   },
   {
    "duration": 79,
    "start_time": "2022-04-21T19:08:38.927Z"
   },
   {
    "duration": 22,
    "start_time": "2022-04-21T19:08:39.009Z"
   },
   {
    "duration": 81,
    "start_time": "2022-04-21T19:08:39.033Z"
   },
   {
    "duration": 27,
    "start_time": "2022-04-21T19:09:12.873Z"
   },
   {
    "duration": 2434,
    "start_time": "2022-04-21T19:09:21.481Z"
   },
   {
    "duration": 177,
    "start_time": "2022-04-21T19:09:23.918Z"
   },
   {
    "duration": 31,
    "start_time": "2022-04-21T19:09:24.098Z"
   },
   {
    "duration": 70,
    "start_time": "2022-04-21T19:09:24.132Z"
   },
   {
    "duration": 88,
    "start_time": "2022-04-21T19:09:24.205Z"
   },
   {
    "duration": 20,
    "start_time": "2022-04-21T19:09:24.296Z"
   },
   {
    "duration": 77,
    "start_time": "2022-04-21T19:09:24.318Z"
   },
   {
    "duration": 14,
    "start_time": "2022-04-21T19:09:24.398Z"
   },
   {
    "duration": 22,
    "start_time": "2022-04-21T19:09:24.413Z"
   },
   {
    "duration": 19,
    "start_time": "2022-04-21T19:09:24.496Z"
   },
   {
    "duration": 20,
    "start_time": "2022-04-21T19:09:24.518Z"
   },
   {
    "duration": 25,
    "start_time": "2022-04-21T19:09:24.594Z"
   },
   {
    "duration": 78,
    "start_time": "2022-04-21T19:09:24.621Z"
   },
   {
    "duration": 13,
    "start_time": "2022-04-21T19:09:24.702Z"
   },
   {
    "duration": 14,
    "start_time": "2022-04-21T19:09:24.718Z"
   },
   {
    "duration": 1189,
    "start_time": "2022-04-21T19:09:24.734Z"
   },
   {
    "duration": 572,
    "start_time": "2022-04-21T19:09:25.925Z"
   },
   {
    "duration": 470,
    "start_time": "2022-04-21T19:09:26.500Z"
   },
   {
    "duration": 13,
    "start_time": "2022-04-21T19:09:26.973Z"
   },
   {
    "duration": 485,
    "start_time": "2022-04-21T19:09:26.993Z"
   },
   {
    "duration": 325,
    "start_time": "2022-04-21T19:09:27.481Z"
   },
   {
    "duration": 365,
    "start_time": "2022-04-21T19:09:27.809Z"
   },
   {
    "duration": 23,
    "start_time": "2022-04-21T19:09:28.176Z"
   },
   {
    "duration": 23,
    "start_time": "2022-04-21T19:09:28.201Z"
   },
   {
    "duration": 252,
    "start_time": "2022-04-21T19:09:28.227Z"
   },
   {
    "duration": 16,
    "start_time": "2022-04-21T19:09:28.482Z"
   },
   {
    "duration": 272,
    "start_time": "2022-04-21T19:09:28.501Z"
   },
   {
    "duration": 15,
    "start_time": "2022-04-21T19:09:28.779Z"
   },
   {
    "duration": 26,
    "start_time": "2022-04-21T19:09:28.797Z"
   },
   {
    "duration": 110,
    "start_time": "2022-04-21T19:09:28.827Z"
   },
   {
    "duration": 104,
    "start_time": "2022-04-21T19:09:28.940Z"
   },
   {
    "duration": 40,
    "start_time": "2022-04-21T19:09:29.046Z"
   },
   {
    "duration": 92,
    "start_time": "2022-04-21T19:09:29.088Z"
   },
   {
    "duration": 35,
    "start_time": "2022-04-21T19:09:29.182Z"
   },
   {
    "duration": 14,
    "start_time": "2022-04-21T19:09:29.220Z"
   },
   {
    "duration": 82,
    "start_time": "2022-04-21T19:09:29.237Z"
   },
   {
    "duration": 14,
    "start_time": "2022-04-21T19:09:29.321Z"
   },
   {
    "duration": 279,
    "start_time": "2022-04-21T19:09:29.338Z"
   },
   {
    "duration": 34,
    "start_time": "2022-04-21T19:09:29.621Z"
   },
   {
    "duration": 5,
    "start_time": "2022-04-21T19:09:29.657Z"
   },
   {
    "duration": 37,
    "start_time": "2022-04-21T19:09:29.664Z"
   },
   {
    "duration": 29,
    "start_time": "2022-04-21T19:09:29.703Z"
   },
   {
    "duration": 25,
    "start_time": "2022-04-21T19:09:29.734Z"
   },
   {
    "duration": 20,
    "start_time": "2022-04-21T19:09:29.762Z"
   },
   {
    "duration": 17,
    "start_time": "2022-04-21T19:09:29.794Z"
   },
   {
    "duration": 59,
    "start_time": "2022-04-21T19:09:29.814Z"
   },
   {
    "duration": 21,
    "start_time": "2022-04-21T19:09:29.875Z"
   },
   {
    "duration": 36,
    "start_time": "2022-04-21T19:09:29.899Z"
   },
   {
    "duration": 12,
    "start_time": "2022-04-21T19:11:48.565Z"
   },
   {
    "duration": 8,
    "start_time": "2022-04-21T19:12:24.060Z"
   },
   {
    "duration": 93,
    "start_time": "2022-04-21T20:25:43.669Z"
   },
   {
    "duration": 1956,
    "start_time": "2022-04-21T20:25:53.343Z"
   },
   {
    "duration": 225,
    "start_time": "2022-04-21T20:25:55.303Z"
   },
   {
    "duration": 79,
    "start_time": "2022-04-21T20:25:55.531Z"
   },
   {
    "duration": 14,
    "start_time": "2022-04-21T20:25:55.614Z"
   },
   {
    "duration": 92,
    "start_time": "2022-04-21T20:25:55.631Z"
   },
   {
    "duration": 71,
    "start_time": "2022-04-21T20:25:55.727Z"
   },
   {
    "duration": 34,
    "start_time": "2022-04-21T20:25:55.801Z"
   },
   {
    "duration": 75,
    "start_time": "2022-04-21T20:25:55.839Z"
   },
   {
    "duration": 30,
    "start_time": "2022-04-21T20:25:55.918Z"
   },
   {
    "duration": 31,
    "start_time": "2022-04-21T20:25:55.997Z"
   },
   {
    "duration": 76,
    "start_time": "2022-04-21T20:25:56.031Z"
   },
   {
    "duration": 26,
    "start_time": "2022-04-21T20:25:56.113Z"
   },
   {
    "duration": 78,
    "start_time": "2022-04-21T20:25:56.142Z"
   },
   {
    "duration": 104,
    "start_time": "2022-04-21T20:25:56.223Z"
   },
   {
    "duration": 19,
    "start_time": "2022-04-21T20:25:56.329Z"
   },
   {
    "duration": 1377,
    "start_time": "2022-04-21T20:25:56.351Z"
   },
   {
    "duration": 1112,
    "start_time": "2022-04-21T20:25:57.731Z"
   },
   {
    "duration": 347,
    "start_time": "2022-04-21T20:25:58.846Z"
   },
   {
    "duration": 14,
    "start_time": "2022-04-21T20:25:59.196Z"
   },
   {
    "duration": 456,
    "start_time": "2022-04-21T20:25:59.212Z"
   },
   {
    "duration": 360,
    "start_time": "2022-04-21T20:25:59.671Z"
   },
   {
    "duration": 416,
    "start_time": "2022-04-21T20:26:00.033Z"
   },
   {
    "duration": 13,
    "start_time": "2022-04-21T20:26:00.451Z"
   },
   {
    "duration": 48,
    "start_time": "2022-04-21T20:26:00.466Z"
   },
   {
    "duration": 250,
    "start_time": "2022-04-21T20:26:00.517Z"
   },
   {
    "duration": 7,
    "start_time": "2022-04-21T20:26:00.769Z"
   },
   {
    "duration": 278,
    "start_time": "2022-04-21T20:26:00.778Z"
   },
   {
    "duration": 7,
    "start_time": "2022-04-21T20:26:01.064Z"
   },
   {
    "duration": 53,
    "start_time": "2022-04-21T20:26:01.073Z"
   },
   {
    "duration": 150,
    "start_time": "2022-04-21T20:26:01.129Z"
   },
   {
    "duration": 90,
    "start_time": "2022-04-21T20:26:01.282Z"
   },
   {
    "duration": 32,
    "start_time": "2022-04-21T20:26:01.374Z"
   },
   {
    "duration": 35,
    "start_time": "2022-04-21T20:26:01.410Z"
   },
   {
    "duration": 52,
    "start_time": "2022-04-21T20:26:01.448Z"
   },
   {
    "duration": 30,
    "start_time": "2022-04-21T20:26:01.503Z"
   },
   {
    "duration": 65,
    "start_time": "2022-04-21T20:26:01.537Z"
   },
   {
    "duration": 30,
    "start_time": "2022-04-21T20:26:01.605Z"
   },
   {
    "duration": 293,
    "start_time": "2022-04-21T20:26:01.639Z"
   },
   {
    "duration": 34,
    "start_time": "2022-04-21T20:26:01.936Z"
   },
   {
    "duration": 23,
    "start_time": "2022-04-21T20:26:01.973Z"
   },
   {
    "duration": 38,
    "start_time": "2022-04-21T20:26:02.001Z"
   },
   {
    "duration": 22,
    "start_time": "2022-04-21T20:26:02.043Z"
   },
   {
    "duration": 22,
    "start_time": "2022-04-21T20:26:02.068Z"
   },
   {
    "duration": 20,
    "start_time": "2022-04-21T20:26:02.093Z"
   },
   {
    "duration": 31,
    "start_time": "2022-04-21T20:26:02.117Z"
   },
   {
    "duration": 37,
    "start_time": "2022-04-21T20:26:02.151Z"
   },
   {
    "duration": 25,
    "start_time": "2022-04-21T20:26:02.190Z"
   },
   {
    "duration": 25,
    "start_time": "2022-04-21T20:26:02.219Z"
   },
   {
    "duration": 30,
    "start_time": "2022-04-21T20:35:20.111Z"
   },
   {
    "duration": 18,
    "start_time": "2022-04-21T20:35:28.978Z"
   },
   {
    "duration": 13,
    "start_time": "2022-04-21T20:35:32.786Z"
   },
   {
    "duration": 32,
    "start_time": "2022-04-21T20:35:34.494Z"
   },
   {
    "duration": 13,
    "start_time": "2022-04-21T20:36:12.669Z"
   },
   {
    "duration": 24,
    "start_time": "2022-04-21T20:36:17.438Z"
   },
   {
    "duration": 46,
    "start_time": "2022-04-22T08:49:27.690Z"
   },
   {
    "duration": 1224,
    "start_time": "2022-04-22T08:49:31.810Z"
   },
   {
    "duration": 179,
    "start_time": "2022-04-22T08:49:33.036Z"
   },
   {
    "duration": 18,
    "start_time": "2022-04-22T08:49:33.217Z"
   },
   {
    "duration": 7,
    "start_time": "2022-04-22T08:49:33.237Z"
   },
   {
    "duration": 15,
    "start_time": "2022-04-22T08:49:33.246Z"
   },
   {
    "duration": 11,
    "start_time": "2022-04-22T08:49:33.263Z"
   },
   {
    "duration": 28,
    "start_time": "2022-04-22T08:49:33.276Z"
   },
   {
    "duration": 9,
    "start_time": "2022-04-22T08:49:33.305Z"
   },
   {
    "duration": 9,
    "start_time": "2022-04-22T08:49:33.316Z"
   },
   {
    "duration": 12,
    "start_time": "2022-04-22T08:49:33.328Z"
   },
   {
    "duration": 13,
    "start_time": "2022-04-22T08:49:33.342Z"
   },
   {
    "duration": 10,
    "start_time": "2022-04-22T08:49:33.356Z"
   },
   {
    "duration": 41,
    "start_time": "2022-04-22T08:49:33.368Z"
   },
   {
    "duration": 10,
    "start_time": "2022-04-22T08:49:33.411Z"
   },
   {
    "duration": 9,
    "start_time": "2022-04-22T08:49:33.422Z"
   },
   {
    "duration": 283,
    "start_time": "2022-04-22T08:49:33.432Z"
   },
   {
    "duration": 231,
    "start_time": "2022-04-22T08:49:33.716Z"
   },
   {
    "duration": 167,
    "start_time": "2022-04-22T08:49:33.949Z"
   },
   {
    "duration": 7,
    "start_time": "2022-04-22T08:49:34.118Z"
   },
   {
    "duration": 284,
    "start_time": "2022-04-22T08:49:34.126Z"
   },
   {
    "duration": 312,
    "start_time": "2022-04-22T08:49:34.412Z"
   },
   {
    "duration": 399,
    "start_time": "2022-04-22T08:49:34.726Z"
   },
   {
    "duration": 8,
    "start_time": "2022-04-22T08:49:35.127Z"
   },
   {
    "duration": 11,
    "start_time": "2022-04-22T08:49:35.136Z"
   },
   {
    "duration": 230,
    "start_time": "2022-04-22T08:49:35.201Z"
   },
   {
    "duration": 4,
    "start_time": "2022-04-22T08:49:35.433Z"
   },
   {
    "duration": 287,
    "start_time": "2022-04-22T08:49:35.438Z"
   },
   {
    "duration": 5,
    "start_time": "2022-04-22T08:49:35.728Z"
   },
   {
    "duration": 13,
    "start_time": "2022-04-22T08:49:35.734Z"
   },
   {
    "duration": 103,
    "start_time": "2022-04-22T08:49:35.801Z"
   },
   {
    "duration": 98,
    "start_time": "2022-04-22T08:49:35.906Z"
   },
   {
    "duration": 10,
    "start_time": "2022-04-22T08:49:36.006Z"
   },
   {
    "duration": 14,
    "start_time": "2022-04-22T08:49:36.017Z"
   },
   {
    "duration": 68,
    "start_time": "2022-04-22T08:49:36.032Z"
   },
   {
    "duration": 7,
    "start_time": "2022-04-22T08:49:36.102Z"
   },
   {
    "duration": 24,
    "start_time": "2022-04-22T08:49:36.111Z"
   },
   {
    "duration": 6,
    "start_time": "2022-04-22T08:49:36.137Z"
   },
   {
    "duration": 145,
    "start_time": "2022-04-22T08:49:36.200Z"
   },
   {
    "duration": 22,
    "start_time": "2022-04-22T08:49:36.346Z"
   },
   {
    "duration": 3,
    "start_time": "2022-04-22T08:49:36.369Z"
   },
   {
    "duration": 8,
    "start_time": "2022-04-22T08:49:36.373Z"
   },
   {
    "duration": 20,
    "start_time": "2022-04-22T08:49:36.383Z"
   },
   {
    "duration": 12,
    "start_time": "2022-04-22T08:49:36.404Z"
   },
   {
    "duration": 10,
    "start_time": "2022-04-22T08:49:36.418Z"
   },
   {
    "duration": 9,
    "start_time": "2022-04-22T08:49:36.429Z"
   },
   {
    "duration": 29,
    "start_time": "2022-04-22T08:49:36.439Z"
   },
   {
    "duration": 7,
    "start_time": "2022-04-22T08:49:36.470Z"
   },
   {
    "duration": 29,
    "start_time": "2022-04-22T08:49:36.479Z"
   },
   {
    "duration": 3,
    "start_time": "2022-04-22T08:53:13.142Z"
   },
   {
    "duration": 9,
    "start_time": "2022-04-22T08:54:17.289Z"
   },
   {
    "duration": 8,
    "start_time": "2022-04-22T08:54:20.478Z"
   },
   {
    "duration": 9,
    "start_time": "2022-04-22T08:54:23.753Z"
   },
   {
    "duration": 35,
    "start_time": "2022-04-22T08:54:24.671Z"
   },
   {
    "duration": 21,
    "start_time": "2022-04-22T09:14:00.915Z"
   },
   {
    "duration": 35,
    "start_time": "2022-04-22T09:14:30.349Z"
   },
   {
    "duration": 4,
    "start_time": "2022-04-22T09:17:17.041Z"
   },
   {
    "duration": 10,
    "start_time": "2022-04-22T09:23:24.122Z"
   },
   {
    "duration": 6,
    "start_time": "2022-04-22T09:23:24.829Z"
   },
   {
    "duration": 8,
    "start_time": "2022-04-22T09:23:26.641Z"
   },
   {
    "duration": 8,
    "start_time": "2022-04-22T09:23:27.893Z"
   },
   {
    "duration": 9,
    "start_time": "2022-04-22T09:23:28.553Z"
   },
   {
    "duration": 23,
    "start_time": "2022-04-22T09:23:32.349Z"
   },
   {
    "duration": 4,
    "start_time": "2022-04-22T09:23:33.695Z"
   },
   {
    "duration": 8,
    "start_time": "2022-04-22T09:23:37.444Z"
   },
   {
    "duration": 197,
    "start_time": "2022-04-22T09:24:21.587Z"
   },
   {
    "duration": 9,
    "start_time": "2022-04-22T09:24:43.333Z"
   },
   {
    "duration": 9,
    "start_time": "2022-04-22T09:26:00.138Z"
   },
   {
    "duration": 36,
    "start_time": "2022-04-22T09:36:53.428Z"
   },
   {
    "duration": 35,
    "start_time": "2022-04-22T09:36:58.200Z"
   },
   {
    "duration": 4,
    "start_time": "2022-04-22T09:36:59.768Z"
   },
   {
    "duration": 36,
    "start_time": "2022-04-22T09:37:06.944Z"
   },
   {
    "duration": 231,
    "start_time": "2022-04-22T09:37:21.292Z"
   },
   {
    "duration": 9,
    "start_time": "2022-04-22T09:37:35.160Z"
   },
   {
    "duration": 9,
    "start_time": "2022-04-22T09:37:53.474Z"
   },
   {
    "duration": 10,
    "start_time": "2022-04-22T09:38:06.232Z"
   },
   {
    "duration": 7,
    "start_time": "2022-04-22T09:38:07.196Z"
   },
   {
    "duration": 208,
    "start_time": "2022-04-22T09:38:31.261Z"
   },
   {
    "duration": 21,
    "start_time": "2022-04-22T09:38:40.100Z"
   },
   {
    "duration": 21,
    "start_time": "2022-04-22T09:39:01.384Z"
   },
   {
    "duration": 13,
    "start_time": "2022-04-22T09:39:27.241Z"
   },
   {
    "duration": 37,
    "start_time": "2022-04-22T09:39:45.133Z"
   },
   {
    "duration": 8,
    "start_time": "2022-04-22T09:54:34.580Z"
   },
   {
    "duration": 3,
    "start_time": "2022-04-22T09:55:05.452Z"
   },
   {
    "duration": 3,
    "start_time": "2022-04-22T09:55:08.191Z"
   },
   {
    "duration": 9,
    "start_time": "2022-04-22T09:55:17.968Z"
   },
   {
    "duration": 9,
    "start_time": "2022-04-22T09:55:20.863Z"
   },
   {
    "duration": 6,
    "start_time": "2022-04-22T09:55:26.679Z"
   },
   {
    "duration": 8,
    "start_time": "2022-04-22T09:56:56.823Z"
   },
   {
    "duration": 4,
    "start_time": "2022-04-22T09:57:10.041Z"
   },
   {
    "duration": 7,
    "start_time": "2022-04-22T09:58:07.105Z"
   },
   {
    "duration": 10,
    "start_time": "2022-04-22T09:58:15.659Z"
   },
   {
    "duration": 10,
    "start_time": "2022-04-22T09:58:21.292Z"
   },
   {
    "duration": 6,
    "start_time": "2022-04-22T09:58:36.352Z"
   },
   {
    "duration": 9,
    "start_time": "2022-04-22T10:05:55.136Z"
   },
   {
    "duration": 18,
    "start_time": "2022-04-22T10:07:09.809Z"
   },
   {
    "duration": 233,
    "start_time": "2022-04-22T10:07:19.691Z"
   },
   {
    "duration": 11,
    "start_time": "2022-04-22T10:07:48.040Z"
   },
   {
    "duration": 11,
    "start_time": "2022-04-22T10:08:50.242Z"
   },
   {
    "duration": 12,
    "start_time": "2022-04-22T10:09:09.260Z"
   },
   {
    "duration": 15,
    "start_time": "2022-04-22T10:09:25.416Z"
   },
   {
    "duration": 11,
    "start_time": "2022-04-22T10:09:56.688Z"
   },
   {
    "duration": 11,
    "start_time": "2022-04-22T10:10:02.056Z"
   },
   {
    "duration": 12,
    "start_time": "2022-04-22T10:10:53.417Z"
   },
   {
    "duration": 14,
    "start_time": "2022-04-22T10:11:44.451Z"
   },
   {
    "duration": 17,
    "start_time": "2022-04-22T10:11:53.312Z"
   },
   {
    "duration": 12,
    "start_time": "2022-04-22T10:12:14.847Z"
   },
   {
    "duration": 196,
    "start_time": "2022-04-22T10:19:16.811Z"
   },
   {
    "duration": 14,
    "start_time": "2022-04-22T10:20:03.771Z"
   },
   {
    "duration": 1054,
    "start_time": "2022-04-22T10:20:14.567Z"
   },
   {
    "duration": 367,
    "start_time": "2022-04-22T10:20:27.475Z"
   },
   {
    "duration": 14,
    "start_time": "2022-04-22T10:20:32.169Z"
   },
   {
    "duration": 12,
    "start_time": "2022-04-22T10:21:07.659Z"
   },
   {
    "duration": 3,
    "start_time": "2022-04-22T10:21:36.119Z"
   },
   {
    "duration": 972,
    "start_time": "2022-04-22T10:21:38.906Z"
   },
   {
    "duration": 15,
    "start_time": "2022-04-22T10:21:40.118Z"
   },
   {
    "duration": 8,
    "start_time": "2022-04-22T10:21:40.721Z"
   },
   {
    "duration": 18,
    "start_time": "2022-04-22T10:21:41.055Z"
   },
   {
    "duration": 13,
    "start_time": "2022-04-22T10:21:41.536Z"
   },
   {
    "duration": 13,
    "start_time": "2022-04-22T10:21:41.774Z"
   },
   {
    "duration": 7,
    "start_time": "2022-04-22T10:21:41.959Z"
   },
   {
    "duration": 11,
    "start_time": "2022-04-22T10:21:43.045Z"
   },
   {
    "duration": 8,
    "start_time": "2022-04-22T10:21:43.507Z"
   },
   {
    "duration": 12,
    "start_time": "2022-04-22T10:21:44.018Z"
   },
   {
    "duration": 10,
    "start_time": "2022-04-22T10:21:46.415Z"
   },
   {
    "duration": 11,
    "start_time": "2022-04-22T10:21:47.464Z"
   },
   {
    "duration": 10,
    "start_time": "2022-04-22T10:21:48.837Z"
   },
   {
    "duration": 11,
    "start_time": "2022-04-22T10:21:52.823Z"
   },
   {
    "duration": 191,
    "start_time": "2022-04-22T10:24:14.063Z"
   },
   {
    "duration": 10,
    "start_time": "2022-04-22T10:24:18.498Z"
   },
   {
    "duration": 10,
    "start_time": "2022-04-22T10:24:37.323Z"
   },
   {
    "duration": 8,
    "start_time": "2022-04-22T10:25:36.583Z"
   },
   {
    "duration": 16,
    "start_time": "2022-04-22T10:28:01.915Z"
   },
   {
    "duration": 3,
    "start_time": "2022-04-22T10:30:00.402Z"
   },
   {
    "duration": 16,
    "start_time": "2022-04-22T10:30:01.139Z"
   },
   {
    "duration": 16,
    "start_time": "2022-04-22T10:30:03.845Z"
   },
   {
    "duration": 3,
    "start_time": "2022-04-22T10:30:10.598Z"
   },
   {
    "duration": 15,
    "start_time": "2022-04-22T10:30:11.155Z"
   },
   {
    "duration": 2,
    "start_time": "2022-04-22T10:31:06.383Z"
   },
   {
    "duration": 16,
    "start_time": "2022-04-22T10:31:06.907Z"
   },
   {
    "duration": 13,
    "start_time": "2022-04-22T10:31:44.287Z"
   },
   {
    "duration": 186,
    "start_time": "2022-04-22T10:31:49.486Z"
   },
   {
    "duration": 3,
    "start_time": "2022-04-22T10:31:56.496Z"
   },
   {
    "duration": 12,
    "start_time": "2022-04-22T10:32:03.912Z"
   },
   {
    "duration": 11,
    "start_time": "2022-04-22T10:34:50.735Z"
   },
   {
    "duration": 149,
    "start_time": "2022-04-22T10:35:40.957Z"
   },
   {
    "duration": 15,
    "start_time": "2022-04-22T10:36:15.370Z"
   },
   {
    "duration": 11,
    "start_time": "2022-04-22T10:37:16.902Z"
   },
   {
    "duration": 12,
    "start_time": "2022-04-22T10:37:53.518Z"
   },
   {
    "duration": 11,
    "start_time": "2022-04-22T10:38:03.976Z"
   },
   {
    "duration": 12,
    "start_time": "2022-04-22T10:38:16.225Z"
   },
   {
    "duration": 14,
    "start_time": "2022-04-22T10:39:05.842Z"
   },
   {
    "duration": 3,
    "start_time": "2022-04-22T10:39:06.697Z"
   },
   {
    "duration": 3,
    "start_time": "2022-04-22T10:47:03.974Z"
   },
   {
    "duration": 11,
    "start_time": "2022-04-22T10:47:44.470Z"
   },
   {
    "duration": 11,
    "start_time": "2022-04-22T10:49:15.182Z"
   },
   {
    "duration": 11,
    "start_time": "2022-04-22T10:49:19.790Z"
   },
   {
    "duration": 2,
    "start_time": "2022-04-22T10:50:51.950Z"
   },
   {
    "duration": 13,
    "start_time": "2022-04-22T10:50:52.406Z"
   },
   {
    "duration": 45,
    "start_time": "2022-04-22T10:51:49.527Z"
   },
   {
    "duration": 232,
    "start_time": "2022-04-22T11:00:46.766Z"
   },
   {
    "duration": 1338,
    "start_time": "2022-04-22T11:12:51.675Z"
   },
   {
    "duration": 193,
    "start_time": "2022-04-22T11:12:53.016Z"
   },
   {
    "duration": 34,
    "start_time": "2022-04-22T11:12:53.211Z"
   },
   {
    "duration": 8,
    "start_time": "2022-04-22T11:12:53.247Z"
   },
   {
    "duration": 21,
    "start_time": "2022-04-22T11:12:53.257Z"
   },
   {
    "duration": 24,
    "start_time": "2022-04-22T11:12:53.280Z"
   },
   {
    "duration": 25,
    "start_time": "2022-04-22T11:12:53.306Z"
   },
   {
    "duration": 16,
    "start_time": "2022-04-22T11:12:53.333Z"
   },
   {
    "duration": 17,
    "start_time": "2022-04-22T11:12:53.351Z"
   },
   {
    "duration": 10,
    "start_time": "2022-04-22T11:12:53.372Z"
   },
   {
    "duration": 26,
    "start_time": "2022-04-22T11:12:53.407Z"
   },
   {
    "duration": 23,
    "start_time": "2022-04-22T11:12:53.440Z"
   },
   {
    "duration": 12,
    "start_time": "2022-04-22T11:12:53.465Z"
   },
   {
    "duration": 5,
    "start_time": "2022-04-22T11:12:53.479Z"
   },
   {
    "duration": 71,
    "start_time": "2022-04-22T11:12:53.486Z"
   },
   {
    "duration": 8,
    "start_time": "2022-04-22T11:12:53.558Z"
   },
   {
    "duration": 10,
    "start_time": "2022-04-22T11:12:53.568Z"
   },
   {
    "duration": 425,
    "start_time": "2022-04-22T11:12:53.579Z"
   },
   {
    "duration": 653,
    "start_time": "2022-04-22T11:12:54.006Z"
   },
   {
    "duration": 451,
    "start_time": "2022-04-22T11:12:54.701Z"
   },
   {
    "duration": 10,
    "start_time": "2022-04-22T11:12:55.202Z"
   },
   {
    "duration": 589,
    "start_time": "2022-04-22T11:12:55.214Z"
   },
   {
    "duration": 448,
    "start_time": "2022-04-22T11:12:55.805Z"
   },
   {
    "duration": 365,
    "start_time": "2022-04-22T11:12:56.255Z"
   },
   {
    "duration": 12,
    "start_time": "2022-04-22T11:12:56.622Z"
   },
   {
    "duration": 16,
    "start_time": "2022-04-22T11:12:56.635Z"
   },
   {
    "duration": 182,
    "start_time": "2022-04-22T11:12:56.653Z"
   },
   {
    "duration": 5,
    "start_time": "2022-04-22T11:12:56.840Z"
   },
   {
    "duration": 217,
    "start_time": "2022-04-22T11:12:56.847Z"
   },
   {
    "duration": 4,
    "start_time": "2022-04-22T11:12:57.066Z"
   },
   {
    "duration": 12,
    "start_time": "2022-04-22T11:12:57.071Z"
   },
   {
    "duration": 68,
    "start_time": "2022-04-22T11:12:57.084Z"
   },
   {
    "duration": 59,
    "start_time": "2022-04-22T11:12:57.153Z"
   },
   {
    "duration": 27,
    "start_time": "2022-04-22T11:12:57.216Z"
   },
   {
    "duration": 14,
    "start_time": "2022-04-22T11:12:57.245Z"
   },
   {
    "duration": 14,
    "start_time": "2022-04-22T11:12:57.261Z"
   },
   {
    "duration": 16,
    "start_time": "2022-04-22T11:12:57.276Z"
   },
   {
    "duration": 39,
    "start_time": "2022-04-22T11:12:57.294Z"
   },
   {
    "duration": 7,
    "start_time": "2022-04-22T11:12:57.335Z"
   },
   {
    "duration": 143,
    "start_time": "2022-04-22T11:12:57.343Z"
   },
   {
    "duration": 45,
    "start_time": "2022-04-22T11:12:57.488Z"
   },
   {
    "duration": 7,
    "start_time": "2022-04-22T11:12:57.535Z"
   },
   {
    "duration": 12,
    "start_time": "2022-04-22T11:12:57.543Z"
   },
   {
    "duration": 9,
    "start_time": "2022-04-22T11:12:57.557Z"
   },
   {
    "duration": 12,
    "start_time": "2022-04-22T11:12:57.568Z"
   },
   {
    "duration": 13,
    "start_time": "2022-04-22T11:12:57.601Z"
   },
   {
    "duration": 36,
    "start_time": "2022-04-22T11:12:57.615Z"
   },
   {
    "duration": 31,
    "start_time": "2022-04-22T11:12:57.653Z"
   },
   {
    "duration": 4,
    "start_time": "2022-04-22T11:12:57.685Z"
   },
   {
    "duration": 14,
    "start_time": "2022-04-22T11:12:57.691Z"
   },
   {
    "duration": 38,
    "start_time": "2022-04-22T11:12:57.709Z"
   },
   {
    "duration": 9,
    "start_time": "2022-04-22T11:12:57.749Z"
   },
   {
    "duration": 1244,
    "start_time": "2022-04-22T12:26:48.345Z"
   },
   {
    "duration": 101,
    "start_time": "2022-04-22T12:26:49.591Z"
   },
   {
    "duration": 21,
    "start_time": "2022-04-22T12:26:49.693Z"
   },
   {
    "duration": 11,
    "start_time": "2022-04-22T12:26:49.717Z"
   },
   {
    "duration": 28,
    "start_time": "2022-04-22T12:26:49.730Z"
   },
   {
    "duration": 28,
    "start_time": "2022-04-22T12:26:49.760Z"
   },
   {
    "duration": 20,
    "start_time": "2022-04-22T12:26:49.790Z"
   },
   {
    "duration": 10,
    "start_time": "2022-04-22T12:26:49.812Z"
   },
   {
    "duration": 52,
    "start_time": "2022-04-22T12:26:49.824Z"
   },
   {
    "duration": 14,
    "start_time": "2022-04-22T12:26:49.880Z"
   },
   {
    "duration": 15,
    "start_time": "2022-04-22T12:26:49.896Z"
   },
   {
    "duration": 13,
    "start_time": "2022-04-22T12:26:49.913Z"
   },
   {
    "duration": 20,
    "start_time": "2022-04-22T12:26:49.927Z"
   },
   {
    "duration": 6,
    "start_time": "2022-04-22T12:26:49.949Z"
   },
   {
    "duration": 62,
    "start_time": "2022-04-22T12:26:49.974Z"
   },
   {
    "duration": 9,
    "start_time": "2022-04-22T12:26:50.038Z"
   },
   {
    "duration": 8,
    "start_time": "2022-04-22T12:26:50.073Z"
   },
   {
    "duration": 303,
    "start_time": "2022-04-22T12:26:50.083Z"
   },
   {
    "duration": 295,
    "start_time": "2022-04-22T12:26:50.388Z"
   },
   {
    "duration": 233,
    "start_time": "2022-04-22T12:26:50.685Z"
   },
   {
    "duration": 9,
    "start_time": "2022-04-22T12:26:50.920Z"
   },
   {
    "duration": 354,
    "start_time": "2022-04-22T12:26:50.931Z"
   },
   {
    "duration": 206,
    "start_time": "2022-04-22T12:26:51.287Z"
   },
   {
    "duration": 308,
    "start_time": "2022-04-22T12:26:51.495Z"
   },
   {
    "duration": 10,
    "start_time": "2022-04-22T12:26:51.805Z"
   },
   {
    "duration": 21,
    "start_time": "2022-04-22T12:26:51.817Z"
   },
   {
    "duration": 174,
    "start_time": "2022-04-22T12:26:51.840Z"
   },
   {
    "duration": 5,
    "start_time": "2022-04-22T12:26:52.019Z"
   },
   {
    "duration": 259,
    "start_time": "2022-04-22T12:26:52.026Z"
   },
   {
    "duration": 6,
    "start_time": "2022-04-22T12:26:52.287Z"
   },
   {
    "duration": 13,
    "start_time": "2022-04-22T12:26:52.295Z"
   },
   {
    "duration": 69,
    "start_time": "2022-04-22T12:26:52.310Z"
   },
   {
    "duration": 52,
    "start_time": "2022-04-22T12:26:52.381Z"
   },
   {
    "duration": 9,
    "start_time": "2022-04-22T12:26:52.435Z"
   },
   {
    "duration": 36,
    "start_time": "2022-04-22T12:26:52.446Z"
   },
   {
    "duration": 15,
    "start_time": "2022-04-22T12:26:52.485Z"
   },
   {
    "duration": 12,
    "start_time": "2022-04-22T12:26:52.501Z"
   },
   {
    "duration": 28,
    "start_time": "2022-04-22T12:26:52.515Z"
   },
   {
    "duration": 29,
    "start_time": "2022-04-22T12:26:52.545Z"
   },
   {
    "duration": 130,
    "start_time": "2022-04-22T12:26:52.576Z"
   },
   {
    "duration": 25,
    "start_time": "2022-04-22T12:26:52.708Z"
   },
   {
    "duration": 4,
    "start_time": "2022-04-22T12:26:52.735Z"
   },
   {
    "duration": 15,
    "start_time": "2022-04-22T12:26:52.741Z"
   },
   {
    "duration": 7,
    "start_time": "2022-04-22T12:26:52.774Z"
   },
   {
    "duration": 10,
    "start_time": "2022-04-22T12:26:52.783Z"
   },
   {
    "duration": 11,
    "start_time": "2022-04-22T12:26:52.795Z"
   },
   {
    "duration": 9,
    "start_time": "2022-04-22T12:26:52.808Z"
   },
   {
    "duration": 56,
    "start_time": "2022-04-22T12:26:52.819Z"
   },
   {
    "duration": 4,
    "start_time": "2022-04-22T12:26:52.877Z"
   },
   {
    "duration": 15,
    "start_time": "2022-04-22T12:26:52.883Z"
   },
   {
    "duration": 11,
    "start_time": "2022-04-22T12:26:52.900Z"
   },
   {
    "duration": 10,
    "start_time": "2022-04-22T12:26:52.913Z"
   },
   {
    "duration": 1317,
    "start_time": "2023-01-23T11:07:22.910Z"
   },
   {
    "duration": 267,
    "start_time": "2023-01-23T11:07:24.229Z"
   },
   {
    "duration": 16,
    "start_time": "2023-01-23T11:07:24.498Z"
   },
   {
    "duration": 16,
    "start_time": "2023-01-23T11:08:20.065Z"
   },
   {
    "duration": 9,
    "start_time": "2023-01-23T11:09:48.859Z"
   },
   {
    "duration": 11,
    "start_time": "2023-01-23T11:11:50.091Z"
   },
   {
    "duration": 35,
    "start_time": "2023-01-23T11:13:45.064Z"
   },
   {
    "duration": 31,
    "start_time": "2023-01-23T11:14:04.333Z"
   },
   {
    "duration": 13,
    "start_time": "2023-01-23T11:28:01.434Z"
   },
   {
    "duration": 12,
    "start_time": "2023-01-23T11:28:02.636Z"
   },
   {
    "duration": 19,
    "start_time": "2023-01-23T11:28:03.388Z"
   },
   {
    "duration": 13,
    "start_time": "2023-01-23T11:28:19.089Z"
   },
   {
    "duration": 12,
    "start_time": "2023-01-23T11:28:48.883Z"
   },
   {
    "duration": 14,
    "start_time": "2023-01-23T11:28:59.070Z"
   },
   {
    "duration": 24,
    "start_time": "2023-01-23T11:29:08.930Z"
   },
   {
    "duration": 69,
    "start_time": "2023-01-23T11:29:32.890Z"
   },
   {
    "duration": 3,
    "start_time": "2023-01-23T11:29:35.286Z"
   },
   {
    "duration": 63,
    "start_time": "2023-01-23T11:29:35.772Z"
   },
   {
    "duration": 45,
    "start_time": "2023-01-23T11:30:08.884Z"
   },
   {
    "duration": 78,
    "start_time": "2023-01-23T13:17:01.950Z"
   },
   {
    "duration": 65,
    "start_time": "2023-01-23T13:17:26.856Z"
   },
   {
    "duration": 1469,
    "start_time": "2023-01-23T13:17:33.944Z"
   },
   {
    "duration": 190,
    "start_time": "2023-01-23T13:17:35.416Z"
   },
   {
    "duration": 28,
    "start_time": "2023-01-23T13:17:35.610Z"
   },
   {
    "duration": 40,
    "start_time": "2023-01-23T13:17:35.642Z"
   },
   {
    "duration": 63,
    "start_time": "2023-01-23T13:17:35.683Z"
   },
   {
    "duration": 44,
    "start_time": "2023-01-23T13:17:35.748Z"
   },
   {
    "duration": 65,
    "start_time": "2023-01-23T13:17:35.794Z"
   },
   {
    "duration": 21,
    "start_time": "2023-01-23T13:17:35.861Z"
   },
   {
    "duration": 27,
    "start_time": "2023-01-23T13:17:35.884Z"
   },
   {
    "duration": 23,
    "start_time": "2023-01-23T13:17:35.914Z"
   },
   {
    "duration": 30,
    "start_time": "2023-01-23T13:17:35.940Z"
   },
   {
    "duration": 25,
    "start_time": "2023-01-23T13:17:35.973Z"
   },
   {
    "duration": 24,
    "start_time": "2023-01-23T13:17:36.000Z"
   },
   {
    "duration": 65,
    "start_time": "2023-01-23T13:17:36.026Z"
   },
   {
    "duration": 11,
    "start_time": "2023-01-23T13:17:36.093Z"
   },
   {
    "duration": 12,
    "start_time": "2023-01-23T13:17:36.106Z"
   },
   {
    "duration": 359,
    "start_time": "2023-01-23T13:17:36.120Z"
   },
   {
    "duration": 342,
    "start_time": "2023-01-23T13:17:36.481Z"
   },
   {
    "duration": 291,
    "start_time": "2023-01-23T13:17:36.825Z"
   },
   {
    "duration": 10,
    "start_time": "2023-01-23T13:17:37.118Z"
   },
   {
    "duration": 443,
    "start_time": "2023-01-23T13:17:37.130Z"
   },
   {
    "duration": 275,
    "start_time": "2023-01-23T13:17:37.575Z"
   },
   {
    "duration": 340,
    "start_time": "2023-01-23T13:17:37.853Z"
   },
   {
    "duration": 10,
    "start_time": "2023-01-23T13:17:38.195Z"
   },
   {
    "duration": 22,
    "start_time": "2023-01-23T13:17:38.208Z"
   },
   {
    "duration": 233,
    "start_time": "2023-01-23T13:17:38.233Z"
   },
   {
    "duration": 5,
    "start_time": "2023-01-23T13:17:38.469Z"
   },
   {
    "duration": 265,
    "start_time": "2023-01-23T13:17:38.488Z"
   },
   {
    "duration": 7,
    "start_time": "2023-01-23T13:17:38.755Z"
   },
   {
    "duration": 25,
    "start_time": "2023-01-23T13:17:38.764Z"
   },
   {
    "duration": 64,
    "start_time": "2023-01-23T13:17:38.791Z"
   },
   {
    "duration": 73,
    "start_time": "2023-01-23T13:17:38.857Z"
   },
   {
    "duration": 20,
    "start_time": "2023-01-23T13:17:38.932Z"
   },
   {
    "duration": 30,
    "start_time": "2023-01-23T13:17:38.955Z"
   },
   {
    "duration": 18,
    "start_time": "2023-01-23T13:17:38.987Z"
   },
   {
    "duration": 25,
    "start_time": "2023-01-23T13:17:39.007Z"
   },
   {
    "duration": 66,
    "start_time": "2023-01-23T13:17:39.035Z"
   },
   {
    "duration": 14,
    "start_time": "2023-01-23T13:17:39.102Z"
   },
   {
    "duration": 170,
    "start_time": "2023-01-23T13:17:39.119Z"
   },
   {
    "duration": 28,
    "start_time": "2023-01-23T13:17:39.292Z"
   },
   {
    "duration": 21,
    "start_time": "2023-01-23T13:17:39.322Z"
   },
   {
    "duration": 49,
    "start_time": "2023-01-23T13:17:39.346Z"
   },
   {
    "duration": 53,
    "start_time": "2023-01-23T13:17:39.398Z"
   },
   {
    "duration": 63,
    "start_time": "2023-01-23T13:17:39.453Z"
   },
   {
    "duration": 51,
    "start_time": "2023-01-23T13:17:39.518Z"
   },
   {
    "duration": 57,
    "start_time": "2023-01-23T13:17:39.571Z"
   },
   {
    "duration": 102,
    "start_time": "2023-01-23T13:17:39.630Z"
   },
   {
    "duration": 10,
    "start_time": "2023-01-23T13:17:39.734Z"
   },
   {
    "duration": 33,
    "start_time": "2023-01-23T13:17:39.746Z"
   },
   {
    "duration": 62,
    "start_time": "2023-01-23T13:17:39.782Z"
   },
   {
    "duration": 87,
    "start_time": "2023-01-23T13:17:39.847Z"
   },
   {
    "duration": 15,
    "start_time": "2023-01-23T13:23:12.193Z"
   },
   {
    "duration": 1344,
    "start_time": "2023-01-23T15:58:37.905Z"
   },
   {
    "duration": 172,
    "start_time": "2023-01-23T15:58:39.251Z"
   },
   {
    "duration": 23,
    "start_time": "2023-01-23T15:58:39.425Z"
   },
   {
    "duration": 12,
    "start_time": "2023-01-23T15:58:39.451Z"
   },
   {
    "duration": 39,
    "start_time": "2023-01-23T15:58:39.465Z"
   },
   {
    "duration": 40,
    "start_time": "2023-01-23T15:58:39.506Z"
   },
   {
    "duration": 33,
    "start_time": "2023-01-23T15:58:39.548Z"
   },
   {
    "duration": 37,
    "start_time": "2023-01-23T15:58:39.584Z"
   },
   {
    "duration": 71,
    "start_time": "2023-01-23T15:58:39.623Z"
   },
   {
    "duration": 31,
    "start_time": "2023-01-23T15:58:39.696Z"
   },
   {
    "duration": 48,
    "start_time": "2023-01-23T15:58:39.729Z"
   },
   {
    "duration": 23,
    "start_time": "2023-01-23T15:58:39.780Z"
   },
   {
    "duration": 35,
    "start_time": "2023-01-23T15:58:39.805Z"
   },
   {
    "duration": 105,
    "start_time": "2023-01-23T15:58:39.843Z"
   },
   {
    "duration": 10,
    "start_time": "2023-01-23T15:58:39.950Z"
   },
   {
    "duration": 40,
    "start_time": "2023-01-23T15:58:39.961Z"
   },
   {
    "duration": 325,
    "start_time": "2023-01-23T15:58:40.003Z"
   },
   {
    "duration": 308,
    "start_time": "2023-01-23T15:58:40.330Z"
   },
   {
    "duration": 224,
    "start_time": "2023-01-23T15:58:40.639Z"
   },
   {
    "duration": 8,
    "start_time": "2023-01-23T15:58:40.865Z"
   },
   {
    "duration": 361,
    "start_time": "2023-01-23T15:58:40.875Z"
   },
   {
    "duration": 229,
    "start_time": "2023-01-23T15:58:41.238Z"
   },
   {
    "duration": 319,
    "start_time": "2023-01-23T15:58:41.469Z"
   },
   {
    "duration": 9,
    "start_time": "2023-01-23T15:58:41.791Z"
   },
   {
    "duration": 14,
    "start_time": "2023-01-23T15:58:41.802Z"
   },
   {
    "duration": 186,
    "start_time": "2023-01-23T15:58:41.818Z"
   },
   {
    "duration": 6,
    "start_time": "2023-01-23T15:58:42.006Z"
   },
   {
    "duration": 263,
    "start_time": "2023-01-23T15:58:42.014Z"
   },
   {
    "duration": 8,
    "start_time": "2023-01-23T15:58:42.279Z"
   },
   {
    "duration": 14,
    "start_time": "2023-01-23T15:58:42.289Z"
   },
   {
    "duration": 56,
    "start_time": "2023-01-23T15:58:42.305Z"
   },
   {
    "duration": 74,
    "start_time": "2023-01-23T15:58:42.363Z"
   },
   {
    "duration": 13,
    "start_time": "2023-01-23T15:58:42.438Z"
   },
   {
    "duration": 31,
    "start_time": "2023-01-23T15:58:42.453Z"
   },
   {
    "duration": 17,
    "start_time": "2023-01-23T15:58:42.486Z"
   },
   {
    "duration": 11,
    "start_time": "2023-01-23T15:58:42.505Z"
   },
   {
    "duration": 31,
    "start_time": "2023-01-23T15:58:42.518Z"
   },
   {
    "duration": 9,
    "start_time": "2023-01-23T15:58:42.550Z"
   },
   {
    "duration": 176,
    "start_time": "2023-01-23T15:58:42.561Z"
   },
   {
    "duration": 57,
    "start_time": "2023-01-23T15:58:42.738Z"
   },
   {
    "duration": 4,
    "start_time": "2023-01-23T15:58:42.799Z"
   },
   {
    "duration": 12,
    "start_time": "2023-01-23T15:58:42.805Z"
   },
   {
    "duration": 10,
    "start_time": "2023-01-23T15:58:42.819Z"
   },
   {
    "duration": 58,
    "start_time": "2023-01-23T15:58:42.831Z"
   },
   {
    "duration": 15,
    "start_time": "2023-01-23T15:58:42.891Z"
   },
   {
    "duration": 10,
    "start_time": "2023-01-23T15:58:42.908Z"
   },
   {
    "duration": 90,
    "start_time": "2023-01-23T15:58:42.920Z"
   },
   {
    "duration": 5,
    "start_time": "2023-01-23T15:58:43.012Z"
   },
   {
    "duration": 66,
    "start_time": "2023-01-23T15:58:43.019Z"
   },
   {
    "duration": 13,
    "start_time": "2023-01-23T15:58:43.087Z"
   },
   {
    "duration": 14,
    "start_time": "2023-01-23T15:58:43.102Z"
   },
   {
    "duration": 291,
    "start_time": "2023-01-23T15:59:19.577Z"
   },
   {
    "duration": 211,
    "start_time": "2023-01-23T15:59:47.456Z"
   },
   {
    "duration": 1507,
    "start_time": "2023-01-24T10:41:13.525Z"
   },
   {
    "duration": 251,
    "start_time": "2023-01-24T10:41:15.034Z"
   },
   {
    "duration": 18,
    "start_time": "2023-01-24T10:41:15.287Z"
   },
   {
    "duration": 8,
    "start_time": "2023-01-24T10:41:15.307Z"
   },
   {
    "duration": 19,
    "start_time": "2023-01-24T10:41:15.317Z"
   },
   {
    "duration": 11,
    "start_time": "2023-01-24T10:41:15.337Z"
   },
   {
    "duration": 20,
    "start_time": "2023-01-24T10:41:15.349Z"
   },
   {
    "duration": 21,
    "start_time": "2023-01-24T10:41:15.371Z"
   },
   {
    "duration": 12,
    "start_time": "2023-01-24T10:41:15.394Z"
   },
   {
    "duration": 13,
    "start_time": "2023-01-24T10:41:15.407Z"
   },
   {
    "duration": 13,
    "start_time": "2023-01-24T10:41:15.421Z"
   },
   {
    "duration": 28,
    "start_time": "2023-01-24T10:41:15.436Z"
   },
   {
    "duration": 32,
    "start_time": "2023-01-24T10:41:15.465Z"
   },
   {
    "duration": 57,
    "start_time": "2023-01-24T10:41:15.501Z"
   },
   {
    "duration": 12,
    "start_time": "2023-01-24T10:41:15.560Z"
   },
   {
    "duration": 14,
    "start_time": "2023-01-24T10:41:15.576Z"
   },
   {
    "duration": 322,
    "start_time": "2023-01-24T10:41:15.592Z"
   },
   {
    "duration": 317,
    "start_time": "2023-01-24T10:41:15.917Z"
   },
   {
    "duration": 227,
    "start_time": "2023-01-24T10:41:16.235Z"
   },
   {
    "duration": 13,
    "start_time": "2023-01-24T10:41:16.464Z"
   },
   {
    "duration": 343,
    "start_time": "2023-01-24T10:41:16.481Z"
   },
   {
    "duration": 225,
    "start_time": "2023-01-24T10:41:16.825Z"
   },
   {
    "duration": 324,
    "start_time": "2023-01-24T10:41:17.052Z"
   },
   {
    "duration": 11,
    "start_time": "2023-01-24T10:41:17.378Z"
   },
   {
    "duration": 12,
    "start_time": "2023-01-24T10:41:17.391Z"
   },
   {
    "duration": 289,
    "start_time": "2023-01-24T10:41:17.405Z"
   },
   {
    "duration": 5,
    "start_time": "2023-01-24T10:41:17.696Z"
   },
   {
    "duration": 220,
    "start_time": "2023-01-24T10:41:17.703Z"
   },
   {
    "duration": 5,
    "start_time": "2023-01-24T10:41:17.925Z"
   },
   {
    "duration": 15,
    "start_time": "2023-01-24T10:41:17.932Z"
   },
   {
    "duration": 91,
    "start_time": "2023-01-24T10:41:17.955Z"
   },
   {
    "duration": 96,
    "start_time": "2023-01-24T10:41:18.048Z"
   },
   {
    "duration": 46,
    "start_time": "2023-01-24T10:41:18.147Z"
   },
   {
    "duration": 24,
    "start_time": "2023-01-24T10:41:18.195Z"
   },
   {
    "duration": 26,
    "start_time": "2023-01-24T10:41:18.221Z"
   },
   {
    "duration": 37,
    "start_time": "2023-01-24T10:41:18.249Z"
   },
   {
    "duration": 26,
    "start_time": "2023-01-24T10:41:18.288Z"
   },
   {
    "duration": 8,
    "start_time": "2023-01-24T10:41:18.315Z"
   },
   {
    "duration": 165,
    "start_time": "2023-01-24T10:41:18.325Z"
   },
   {
    "duration": 25,
    "start_time": "2023-01-24T10:41:18.492Z"
   },
   {
    "duration": 4,
    "start_time": "2023-01-24T10:41:18.521Z"
   },
   {
    "duration": 11,
    "start_time": "2023-01-24T10:41:18.527Z"
   },
   {
    "duration": 8,
    "start_time": "2023-01-24T10:41:18.557Z"
   },
   {
    "duration": 26,
    "start_time": "2023-01-24T10:41:18.567Z"
   },
   {
    "duration": 10,
    "start_time": "2023-01-24T10:41:18.595Z"
   },
   {
    "duration": 14,
    "start_time": "2023-01-24T10:41:18.606Z"
   },
   {
    "duration": 38,
    "start_time": "2023-01-24T10:41:18.622Z"
   },
   {
    "duration": 5,
    "start_time": "2023-01-24T10:41:18.662Z"
   },
   {
    "duration": 26,
    "start_time": "2023-01-24T10:41:18.668Z"
   },
   {
    "duration": 13,
    "start_time": "2023-01-24T10:41:18.696Z"
   },
   {
    "duration": 13,
    "start_time": "2023-01-24T10:41:18.710Z"
   },
   {
    "duration": 285,
    "start_time": "2023-01-24T10:41:53.217Z"
   },
   {
    "duration": 220,
    "start_time": "2023-01-24T10:42:05.002Z"
   },
   {
    "duration": 329,
    "start_time": "2023-01-24T10:42:27.619Z"
   },
   {
    "duration": 153,
    "start_time": "2023-01-24T10:42:56.778Z"
   },
   {
    "duration": 163,
    "start_time": "2023-01-24T10:43:31.079Z"
   },
   {
    "duration": 165,
    "start_time": "2023-01-24T10:43:48.682Z"
   },
   {
    "duration": 10,
    "start_time": "2023-01-24T10:52:27.294Z"
   },
   {
    "duration": 3,
    "start_time": "2023-01-24T10:52:38.884Z"
   },
   {
    "duration": 92,
    "start_time": "2023-01-24T10:52:38.890Z"
   },
   {
    "duration": 18,
    "start_time": "2023-01-24T10:52:38.983Z"
   },
   {
    "duration": 12,
    "start_time": "2023-01-24T10:52:39.002Z"
   },
   {
    "duration": 19,
    "start_time": "2023-01-24T10:52:39.016Z"
   },
   {
    "duration": 15,
    "start_time": "2023-01-24T10:52:39.036Z"
   },
   {
    "duration": 46,
    "start_time": "2023-01-24T10:52:39.055Z"
   },
   {
    "duration": 18,
    "start_time": "2023-01-24T10:52:39.103Z"
   },
   {
    "duration": 16,
    "start_time": "2023-01-24T10:52:39.123Z"
   },
   {
    "duration": 12,
    "start_time": "2023-01-24T10:52:39.141Z"
   },
   {
    "duration": 43,
    "start_time": "2023-01-24T10:52:39.155Z"
   },
   {
    "duration": 12,
    "start_time": "2023-01-24T10:52:39.199Z"
   },
   {
    "duration": 15,
    "start_time": "2023-01-24T10:52:39.213Z"
   },
   {
    "duration": 16,
    "start_time": "2023-01-24T10:52:39.231Z"
   },
   {
    "duration": 12,
    "start_time": "2023-01-24T10:52:39.248Z"
   },
   {
    "duration": 30,
    "start_time": "2023-01-24T10:52:39.262Z"
   },
   {
    "duration": 326,
    "start_time": "2023-01-24T10:52:39.294Z"
   },
   {
    "duration": 251,
    "start_time": "2023-01-24T10:52:39.622Z"
   },
   {
    "duration": 223,
    "start_time": "2023-01-24T10:52:39.878Z"
   },
   {
    "duration": 8,
    "start_time": "2023-01-24T10:52:40.102Z"
   },
   {
    "duration": 349,
    "start_time": "2023-01-24T10:52:40.111Z"
   },
   {
    "duration": 205,
    "start_time": "2023-01-24T10:52:40.462Z"
   },
   {
    "duration": 422,
    "start_time": "2023-01-24T10:52:40.675Z"
   },
   {
    "duration": 9,
    "start_time": "2023-01-24T10:52:41.099Z"
   },
   {
    "duration": 27,
    "start_time": "2023-01-24T10:52:41.110Z"
   },
   {
    "duration": 185,
    "start_time": "2023-01-24T10:52:41.139Z"
   },
   {
    "duration": 4,
    "start_time": "2023-01-24T10:52:41.326Z"
   },
   {
    "duration": 264,
    "start_time": "2023-01-24T10:52:41.331Z"
   },
   {
    "duration": 7,
    "start_time": "2023-01-24T10:52:41.597Z"
   },
   {
    "duration": 66,
    "start_time": "2023-01-24T10:52:41.606Z"
   },
   {
    "duration": 109,
    "start_time": "2023-01-24T10:52:41.675Z"
   },
   {
    "duration": 100,
    "start_time": "2023-01-24T10:52:41.786Z"
   },
   {
    "duration": 16,
    "start_time": "2023-01-24T10:52:41.888Z"
   },
   {
    "duration": 15,
    "start_time": "2023-01-24T10:52:41.905Z"
   },
   {
    "duration": 13,
    "start_time": "2023-01-24T10:52:41.922Z"
   },
   {
    "duration": 21,
    "start_time": "2023-01-24T10:52:41.937Z"
   },
   {
    "duration": 45,
    "start_time": "2023-01-24T10:52:41.960Z"
   },
   {
    "duration": 8,
    "start_time": "2023-01-24T10:52:42.006Z"
   },
   {
    "duration": 152,
    "start_time": "2023-01-24T10:52:42.016Z"
   },
   {
    "duration": 32,
    "start_time": "2023-01-24T10:52:42.171Z"
   },
   {
    "duration": 4,
    "start_time": "2023-01-24T10:52:42.207Z"
   },
   {
    "duration": 15,
    "start_time": "2023-01-24T10:52:42.213Z"
   },
   {
    "duration": 8,
    "start_time": "2023-01-24T10:52:42.230Z"
   },
   {
    "duration": 9,
    "start_time": "2023-01-24T10:52:42.239Z"
   },
   {
    "duration": 15,
    "start_time": "2023-01-24T10:52:42.254Z"
   },
   {
    "duration": 18,
    "start_time": "2023-01-24T10:52:42.273Z"
   },
   {
    "duration": 24,
    "start_time": "2023-01-24T10:52:42.293Z"
   },
   {
    "duration": 5,
    "start_time": "2023-01-24T10:52:42.319Z"
   },
   {
    "duration": 29,
    "start_time": "2023-01-24T10:52:42.326Z"
   },
   {
    "duration": 17,
    "start_time": "2023-01-24T10:52:42.359Z"
   },
   {
    "duration": 12,
    "start_time": "2023-01-24T10:52:42.381Z"
   },
   {
    "duration": 5,
    "start_time": "2023-01-24T10:52:58.139Z"
   },
   {
    "duration": 5,
    "start_time": "2023-01-24T10:55:30.449Z"
   },
   {
    "duration": 102,
    "start_time": "2023-01-24T10:55:30.456Z"
   },
   {
    "duration": 20,
    "start_time": "2023-01-24T10:55:30.560Z"
   },
   {
    "duration": 46,
    "start_time": "2023-01-24T10:55:30.583Z"
   },
   {
    "duration": 83,
    "start_time": "2023-01-24T10:55:30.631Z"
   },
   {
    "duration": 31,
    "start_time": "2023-01-24T10:55:30.716Z"
   },
   {
    "duration": 76,
    "start_time": "2023-01-24T10:55:30.749Z"
   },
   {
    "duration": 59,
    "start_time": "2023-01-24T10:55:30.827Z"
   },
   {
    "duration": 51,
    "start_time": "2023-01-24T10:55:30.887Z"
   },
   {
    "duration": 56,
    "start_time": "2023-01-24T10:55:30.941Z"
   },
   {
    "duration": 38,
    "start_time": "2023-01-24T10:55:30.999Z"
   },
   {
    "duration": 29,
    "start_time": "2023-01-24T10:55:31.039Z"
   },
   {
    "duration": 49,
    "start_time": "2023-01-24T10:55:31.070Z"
   },
   {
    "duration": 32,
    "start_time": "2023-01-24T10:55:31.121Z"
   },
   {
    "duration": 45,
    "start_time": "2023-01-24T10:55:31.158Z"
   },
   {
    "duration": 18,
    "start_time": "2023-01-24T10:55:31.205Z"
   },
   {
    "duration": 356,
    "start_time": "2023-01-24T10:55:31.225Z"
   },
   {
    "duration": 214,
    "start_time": "2023-01-24T10:55:31.582Z"
   },
   {
    "duration": 219,
    "start_time": "2023-01-24T10:55:31.797Z"
   },
   {
    "duration": 8,
    "start_time": "2023-01-24T10:55:32.018Z"
   },
   {
    "duration": 344,
    "start_time": "2023-01-24T10:55:32.027Z"
   },
   {
    "duration": 222,
    "start_time": "2023-01-24T10:55:32.373Z"
   },
   {
    "duration": 283,
    "start_time": "2023-01-24T10:55:32.597Z"
   },
   {
    "duration": 8,
    "start_time": "2023-01-24T10:55:32.883Z"
   },
   {
    "duration": 21,
    "start_time": "2023-01-24T10:55:32.893Z"
   },
   {
    "duration": 164,
    "start_time": "2023-01-24T10:55:32.916Z"
   },
   {
    "duration": 5,
    "start_time": "2023-01-24T10:55:33.082Z"
   },
   {
    "duration": 151,
    "start_time": "2023-01-24T10:55:33.091Z"
   },
   {
    "duration": 11,
    "start_time": "2023-01-24T10:55:33.244Z"
   },
   {
    "duration": 35,
    "start_time": "2023-01-24T10:55:33.256Z"
   },
   {
    "duration": 50,
    "start_time": "2023-01-24T10:55:33.293Z"
   },
   {
    "duration": 88,
    "start_time": "2023-01-24T10:55:33.345Z"
   },
   {
    "duration": 18,
    "start_time": "2023-01-24T10:55:33.434Z"
   },
   {
    "duration": 48,
    "start_time": "2023-01-24T10:55:33.453Z"
   },
   {
    "duration": 20,
    "start_time": "2023-01-24T10:55:33.503Z"
   },
   {
    "duration": 8,
    "start_time": "2023-01-24T10:55:33.525Z"
   },
   {
    "duration": 33,
    "start_time": "2023-01-24T10:55:33.535Z"
   },
   {
    "duration": 27,
    "start_time": "2023-01-24T10:55:33.570Z"
   },
   {
    "duration": 138,
    "start_time": "2023-01-24T10:55:33.599Z"
   },
   {
    "duration": 48,
    "start_time": "2023-01-24T10:55:33.739Z"
   },
   {
    "duration": 4,
    "start_time": "2023-01-24T10:55:33.789Z"
   },
   {
    "duration": 15,
    "start_time": "2023-01-24T10:55:33.794Z"
   },
   {
    "duration": 12,
    "start_time": "2023-01-24T10:55:33.810Z"
   },
   {
    "duration": 19,
    "start_time": "2023-01-24T10:55:33.823Z"
   },
   {
    "duration": 24,
    "start_time": "2023-01-24T10:55:33.844Z"
   },
   {
    "duration": 28,
    "start_time": "2023-01-24T10:55:33.872Z"
   },
   {
    "duration": 34,
    "start_time": "2023-01-24T10:55:33.902Z"
   },
   {
    "duration": 4,
    "start_time": "2023-01-24T10:55:33.937Z"
   },
   {
    "duration": 19,
    "start_time": "2023-01-24T10:55:33.942Z"
   },
   {
    "duration": 40,
    "start_time": "2023-01-24T10:55:33.963Z"
   },
   {
    "duration": 13,
    "start_time": "2023-01-24T10:55:34.005Z"
   },
   {
    "duration": 1224,
    "start_time": "2023-01-24T10:55:43.903Z"
   },
   {
    "duration": 80,
    "start_time": "2023-01-24T10:55:45.129Z"
   },
   {
    "duration": 22,
    "start_time": "2023-01-24T10:55:45.211Z"
   },
   {
    "duration": 9,
    "start_time": "2023-01-24T10:55:45.235Z"
   },
   {
    "duration": 47,
    "start_time": "2023-01-24T10:55:45.246Z"
   },
   {
    "duration": 18,
    "start_time": "2023-01-24T10:55:45.295Z"
   },
   {
    "duration": 14,
    "start_time": "2023-01-24T10:55:45.315Z"
   },
   {
    "duration": 8,
    "start_time": "2023-01-24T10:55:45.331Z"
   },
   {
    "duration": 14,
    "start_time": "2023-01-24T10:55:45.340Z"
   },
   {
    "duration": 30,
    "start_time": "2023-01-24T10:55:45.361Z"
   },
   {
    "duration": 13,
    "start_time": "2023-01-24T10:55:45.393Z"
   },
   {
    "duration": 13,
    "start_time": "2023-01-24T10:55:45.407Z"
   },
   {
    "duration": 12,
    "start_time": "2023-01-24T10:55:45.422Z"
   },
   {
    "duration": 70,
    "start_time": "2023-01-24T10:55:45.436Z"
   },
   {
    "duration": 12,
    "start_time": "2023-01-24T10:55:45.508Z"
   },
   {
    "duration": 20,
    "start_time": "2023-01-24T10:55:45.529Z"
   },
   {
    "duration": 344,
    "start_time": "2023-01-24T10:55:45.557Z"
   },
   {
    "duration": 330,
    "start_time": "2023-01-24T10:55:45.903Z"
   },
   {
    "duration": 265,
    "start_time": "2023-01-24T10:55:46.235Z"
   },
   {
    "duration": 9,
    "start_time": "2023-01-24T10:55:46.502Z"
   },
   {
    "duration": 353,
    "start_time": "2023-01-24T10:55:46.513Z"
   },
   {
    "duration": 232,
    "start_time": "2023-01-24T10:55:46.868Z"
   },
   {
    "duration": 283,
    "start_time": "2023-01-24T10:55:47.102Z"
   },
   {
    "duration": 9,
    "start_time": "2023-01-24T10:55:47.387Z"
   },
   {
    "duration": 10,
    "start_time": "2023-01-24T10:55:47.398Z"
   },
   {
    "duration": 205,
    "start_time": "2023-01-24T10:55:47.410Z"
   },
   {
    "duration": 5,
    "start_time": "2023-01-24T10:55:47.617Z"
   },
   {
    "duration": 291,
    "start_time": "2023-01-24T10:55:47.626Z"
   },
   {
    "duration": 6,
    "start_time": "2023-01-24T10:55:47.920Z"
   },
   {
    "duration": 25,
    "start_time": "2023-01-24T10:55:47.928Z"
   },
   {
    "duration": 70,
    "start_time": "2023-01-24T10:55:47.960Z"
   },
   {
    "duration": 67,
    "start_time": "2023-01-24T10:55:48.032Z"
   },
   {
    "duration": 8,
    "start_time": "2023-01-24T10:55:48.100Z"
   },
   {
    "duration": 16,
    "start_time": "2023-01-24T10:55:48.110Z"
   },
   {
    "duration": 12,
    "start_time": "2023-01-24T10:55:48.128Z"
   },
   {
    "duration": 18,
    "start_time": "2023-01-24T10:55:48.152Z"
   },
   {
    "duration": 35,
    "start_time": "2023-01-24T10:55:48.173Z"
   },
   {
    "duration": 8,
    "start_time": "2023-01-24T10:55:48.210Z"
   },
   {
    "duration": 151,
    "start_time": "2023-01-24T10:55:48.220Z"
   },
   {
    "duration": 23,
    "start_time": "2023-01-24T10:55:48.374Z"
   },
   {
    "duration": 4,
    "start_time": "2023-01-24T10:55:48.399Z"
   },
   {
    "duration": 13,
    "start_time": "2023-01-24T10:55:48.405Z"
   },
   {
    "duration": 8,
    "start_time": "2023-01-24T10:55:48.420Z"
   },
   {
    "duration": 28,
    "start_time": "2023-01-24T10:55:48.429Z"
   },
   {
    "duration": 31,
    "start_time": "2023-01-24T10:55:48.459Z"
   },
   {
    "duration": 9,
    "start_time": "2023-01-24T10:55:48.492Z"
   },
   {
    "duration": 24,
    "start_time": "2023-01-24T10:55:48.503Z"
   },
   {
    "duration": 4,
    "start_time": "2023-01-24T10:55:48.528Z"
   },
   {
    "duration": 11,
    "start_time": "2023-01-24T10:55:48.533Z"
   },
   {
    "duration": 22,
    "start_time": "2023-01-24T10:55:48.546Z"
   },
   {
    "duration": 24,
    "start_time": "2023-01-24T10:55:48.570Z"
   }
  ],
  "kernelspec": {
   "display_name": "Python 3 (ipykernel)",
   "language": "python",
   "name": "python3"
  },
  "language_info": {
   "codemirror_mode": {
    "name": "ipython",
    "version": 3
   },
   "file_extension": ".py",
   "mimetype": "text/x-python",
   "name": "python",
   "nbconvert_exporter": "python",
   "pygments_lexer": "ipython3",
   "version": "3.9.5"
  },
  "toc": {
   "base_numbering": 1,
   "nav_menu": {},
   "number_sections": true,
   "sideBar": true,
   "skip_h1_title": true,
   "title_cell": "Table of Contents",
   "title_sidebar": "Contents",
   "toc_cell": false,
   "toc_position": {
    "height": "calc(100% - 180px)",
    "left": "10px",
    "top": "150px",
    "width": "238.391px"
   },
   "toc_section_display": true,
   "toc_window_display": true
  }
 },
 "nbformat": 4,
 "nbformat_minor": 2
}
