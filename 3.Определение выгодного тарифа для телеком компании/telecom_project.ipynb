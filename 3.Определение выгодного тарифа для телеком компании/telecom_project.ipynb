{
 "cells": [
  {
   "cell_type": "markdown",
   "metadata": {},
   "source": [
    "# Описание проекта\n",
    "\n",
    "Федеральный оператор сотовой связи «Мегалайн» предлагает клиентам два тарифных плана: «Смарт» и «Ультра». \n",
    "Чтобы скорректировать рекламный бюджет, коммерческий департамент хочет понять, какой тариф приносит больше денег.\n",
    "\n",
    "Задача: сделать предварительный анализ тарифов на небольшой выборке клиентов. В наличии данные 500 пользователей «Мегалайна»: кто они, откуда, каким тарифом пользуются, сколько звонков и сообщений каждый отправил за 2018 год. Нужно проанализировать поведение клиентов и сделать вывод — какой тариф лучше.\n"
   ]
  },
  {
   "cell_type": "markdown",
   "metadata": {},
   "source": [
    "# Описание тарифов\n",
    "\n",
    "Тариф «Смарт» \n",
    "- Ежемесячная плата: 550 рублей\n",
    "- Включено 500 минут разговора, 50 сообщений и 15 Гб интернет-трафика\n",
    "- Стоимость услуг сверх тарифного пакета:\n",
    "минута разговора: 3 рубля\n",
    "сообщение: 3 рубля\n",
    "1 Гб интернет-трафика: 200 рублей\n",
    "\n",
    "Тариф «Ультра»\n",
    "- Ежемесячная плата: 1950 рублей\n",
    "- Включено 3000 минут разговора, 1000 сообщений и 30 Гб интернет-трафика\n",
    "- Стоимость услуг сверх тарифного пакета:\n",
    "минута разговора: 1 рубль\n",
    "сообщение: 1 рубль\n",
    "1 Гб интернет-трафика: 150 рублей\n",
    "\n",
    "Примечание:\n",
    "«Мегалайн» всегда округляет секунды до минут, а мегабайты — до гигабайт. Каждый звонок округляется отдельно: даже если он длился всего 1 секунду, будет засчитан как 1 минута.\n",
    "Для веб-трафика отдельные сессии не считаются. Вместо этого общая сумма за месяц округляется в бо́льшую сторону. Если абонент использует 1025 мегабайт в этом месяце, с него возьмут плату за 2 гигабайта.\n",
    "\n"
   ]
  },
  {
   "cell_type": "markdown",
   "metadata": {},
   "source": [
    "# Описание данных\n",
    "\n",
    "**Таблица users**\n",
    "- `user_id` — уникальный идентификатор пользователя\n",
    "- `first_name` — имя пользователя\n",
    "- `last_name` — фамилия пользователя\n",
    "- `age` — возраст пользователя (годы)\n",
    "- `reg_date` — дата подключения тарифа (день, месяц, год)\n",
    "- `churn_date` — дата прекращения пользования тарифом  (если значение пропущено, то тариф ещё действовал на момент выгрузки данных)\n",
    "- `city` — город проживания пользователя\n",
    "- `tariff` — название тарифного плана\n",
    "\n",
    "**Таблица calls** \n",
    "- `id` — уникальный номер звонка\n",
    "- `call_date` — дата звонка\n",
    "- `duration` — длительность звонка в минутах\n",
    "- `user_id` — идентификатор пользователя, сделавшего звонок\n",
    "\n",
    "**Таблица messages**\n",
    "- `id` — уникальный номер сообщения\n",
    "- `message_date` — дата сообщения\n",
    "- `user_id` — идентификатор пользователя, отправившего сообщение\n",
    "\n",
    "**Таблица internet**\n",
    "- `id` — уникальный номер сессии\n",
    "- `mb_used` —  объём потраченного за сессию интернет-трафика (в мегабайтах)\n",
    "- `session_date` — дата интернет-сессии\n",
    "- `user_id` — идентификатор пользователя\n",
    "\n",
    "Таблица tariffs (информация о тарифах):\n",
    "tariff_name — название тарифа\n",
    "rub_monthly_fee — ежемесячная абонентская плата в рублях\n",
    "minutes_included — количество минут разговора в месяц, включённых в абонентскую плату\n",
    "messages_included — количество сообщений в месяц, включённых в абонентскую плату\n",
    "mb_per_month_included — объём интернет-трафика, включённого в абонентскую плату (в мегабайтах)\n",
    "rub_per_minute — стоимость минуты разговора сверх тарифного пакета (например, если в тарифе 100 минут разговора в месяц, то со 101 минуты будет взиматься плата)\n",
    "rub_per_message — стоимость отправки сообщения сверх тарифного пакета\n",
    "rub_per_gb — стоимость дополнительного гигабайта интернет-трафика сверх тарифного пакета (1 гигабайт = 1024 мегабайта)\n"
   ]
  },
  {
   "cell_type": "markdown",
   "metadata": {},
   "source": [
    "## Импорт библиотек, изучение данных, предобработка"
   ]
  },
  {
   "cell_type": "code",
   "execution_count": 2,
   "metadata": {},
   "outputs": [],
   "source": [
    "import pandas as pd\n",
    "\n",
    "from scipy import stats as st\n",
    "\n",
    "import numpy as np\n",
    "\n",
    "import matplotlib.pyplot as plt "
   ]
  },
  {
   "cell_type": "code",
   "execution_count": 3,
   "metadata": {},
   "outputs": [],
   "source": [
    "users = pd.read_csv('/datasets/users.csv') # информация о пользователях\n",
    "\n",
    "tariffs = pd.read_csv('/datasets/tariffs.csv') # информация о тарифах\n",
    "\n",
    "messages = pd.read_csv('/datasets/messages.csv') # информация о сообщениях\n",
    "\n",
    "internet = pd.read_csv('/datasets/internet.csv') # информация об интернет-сессиях\n",
    "\n",
    "calls = pd.read_csv('/datasets/calls.csv') # информация о звонках"
   ]
  },
  {
   "cell_type": "markdown",
   "metadata": {},
   "source": [
    "Получим общую информацию о каждой таблице, числовое описание и первые строки"
   ]
  },
  {
   "cell_type": "markdown",
   "metadata": {},
   "source": [
    "### Таблица users"
   ]
  },
  {
   "cell_type": "code",
   "execution_count": 4,
   "metadata": {
    "scrolled": true
   },
   "outputs": [
    {
     "name": "stdout",
     "output_type": "stream",
     "text": [
      "<class 'pandas.core.frame.DataFrame'>\n",
      "RangeIndex: 500 entries, 0 to 499\n",
      "Data columns (total 8 columns):\n",
      " #   Column      Non-Null Count  Dtype \n",
      "---  ------      --------------  ----- \n",
      " 0   user_id     500 non-null    int64 \n",
      " 1   age         500 non-null    int64 \n",
      " 2   churn_date  38 non-null     object\n",
      " 3   city        500 non-null    object\n",
      " 4   first_name  500 non-null    object\n",
      " 5   last_name   500 non-null    object\n",
      " 6   reg_date    500 non-null    object\n",
      " 7   tariff      500 non-null    object\n",
      "dtypes: int64(2), object(6)\n",
      "memory usage: 31.4+ KB\n"
     ]
    },
    {
     "data": {
      "text/html": [
       "<div>\n",
       "<style scoped>\n",
       "    .dataframe tbody tr th:only-of-type {\n",
       "        vertical-align: middle;\n",
       "    }\n",
       "\n",
       "    .dataframe tbody tr th {\n",
       "        vertical-align: top;\n",
       "    }\n",
       "\n",
       "    .dataframe thead th {\n",
       "        text-align: right;\n",
       "    }\n",
       "</style>\n",
       "<table border=\"1\" class=\"dataframe\">\n",
       "  <thead>\n",
       "    <tr style=\"text-align: right;\">\n",
       "      <th></th>\n",
       "      <th>user_id</th>\n",
       "      <th>age</th>\n",
       "      <th>churn_date</th>\n",
       "      <th>city</th>\n",
       "      <th>first_name</th>\n",
       "      <th>last_name</th>\n",
       "      <th>reg_date</th>\n",
       "      <th>tariff</th>\n",
       "    </tr>\n",
       "  </thead>\n",
       "  <tbody>\n",
       "    <tr>\n",
       "      <th>0</th>\n",
       "      <td>1000</td>\n",
       "      <td>52</td>\n",
       "      <td>NaN</td>\n",
       "      <td>Краснодар</td>\n",
       "      <td>Рафаил</td>\n",
       "      <td>Верещагин</td>\n",
       "      <td>2018-05-25</td>\n",
       "      <td>ultra</td>\n",
       "    </tr>\n",
       "    <tr>\n",
       "      <th>1</th>\n",
       "      <td>1001</td>\n",
       "      <td>41</td>\n",
       "      <td>NaN</td>\n",
       "      <td>Москва</td>\n",
       "      <td>Иван</td>\n",
       "      <td>Ежов</td>\n",
       "      <td>2018-11-01</td>\n",
       "      <td>smart</td>\n",
       "    </tr>\n",
       "    <tr>\n",
       "      <th>2</th>\n",
       "      <td>1002</td>\n",
       "      <td>59</td>\n",
       "      <td>NaN</td>\n",
       "      <td>Стерлитамак</td>\n",
       "      <td>Евгений</td>\n",
       "      <td>Абрамович</td>\n",
       "      <td>2018-06-17</td>\n",
       "      <td>smart</td>\n",
       "    </tr>\n",
       "    <tr>\n",
       "      <th>3</th>\n",
       "      <td>1003</td>\n",
       "      <td>23</td>\n",
       "      <td>NaN</td>\n",
       "      <td>Москва</td>\n",
       "      <td>Белла</td>\n",
       "      <td>Белякова</td>\n",
       "      <td>2018-08-17</td>\n",
       "      <td>ultra</td>\n",
       "    </tr>\n",
       "    <tr>\n",
       "      <th>4</th>\n",
       "      <td>1004</td>\n",
       "      <td>68</td>\n",
       "      <td>NaN</td>\n",
       "      <td>Новокузнецк</td>\n",
       "      <td>Татьяна</td>\n",
       "      <td>Авдеенко</td>\n",
       "      <td>2018-05-14</td>\n",
       "      <td>ultra</td>\n",
       "    </tr>\n",
       "  </tbody>\n",
       "</table>\n",
       "</div>"
      ],
      "text/plain": [
       "   user_id  age churn_date         city first_name  last_name    reg_date  \\\n",
       "0     1000   52        NaN    Краснодар     Рафаил  Верещагин  2018-05-25   \n",
       "1     1001   41        NaN       Москва       Иван       Ежов  2018-11-01   \n",
       "2     1002   59        NaN  Стерлитамак    Евгений  Абрамович  2018-06-17   \n",
       "3     1003   23        NaN       Москва      Белла   Белякова  2018-08-17   \n",
       "4     1004   68        NaN  Новокузнецк    Татьяна   Авдеенко  2018-05-14   \n",
       "\n",
       "  tariff  \n",
       "0  ultra  \n",
       "1  smart  \n",
       "2  smart  \n",
       "3  ultra  \n",
       "4  ultra  "
      ]
     },
     "metadata": {},
     "output_type": "display_data"
    }
   ],
   "source": [
    "users.info()\n",
    "\n",
    "display(users.head())"
   ]
  },
  {
   "cell_type": "markdown",
   "metadata": {},
   "source": [
    "Колонки `churn_date` и `reg_date` необходимо привести в форомат *datetime*"
   ]
  },
  {
   "cell_type": "code",
   "execution_count": 5,
   "metadata": {},
   "outputs": [],
   "source": [
    "users['churn_date'] = pd.to_datetime(users['churn_date'], format='%Y-%m-%d')\n",
    "\n",
    "users['reg_date'] = pd.to_datetime(users['reg_date'], format='%Y-%m-%d')"
   ]
  },
  {
   "cell_type": "markdown",
   "metadata": {},
   "source": [
    "### Таблица tariffs"
   ]
  },
  {
   "cell_type": "code",
   "execution_count": 6,
   "metadata": {},
   "outputs": [
    {
     "name": "stdout",
     "output_type": "stream",
     "text": [
      "<class 'pandas.core.frame.DataFrame'>\n",
      "RangeIndex: 2 entries, 0 to 1\n",
      "Data columns (total 8 columns):\n",
      " #   Column                 Non-Null Count  Dtype \n",
      "---  ------                 --------------  ----- \n",
      " 0   messages_included      2 non-null      int64 \n",
      " 1   mb_per_month_included  2 non-null      int64 \n",
      " 2   minutes_included       2 non-null      int64 \n",
      " 3   rub_monthly_fee        2 non-null      int64 \n",
      " 4   rub_per_gb             2 non-null      int64 \n",
      " 5   rub_per_message        2 non-null      int64 \n",
      " 6   rub_per_minute         2 non-null      int64 \n",
      " 7   tariff_name            2 non-null      object\n",
      "dtypes: int64(7), object(1)\n",
      "memory usage: 256.0+ bytes\n"
     ]
    },
    {
     "data": {
      "text/html": [
       "<div>\n",
       "<style scoped>\n",
       "    .dataframe tbody tr th:only-of-type {\n",
       "        vertical-align: middle;\n",
       "    }\n",
       "\n",
       "    .dataframe tbody tr th {\n",
       "        vertical-align: top;\n",
       "    }\n",
       "\n",
       "    .dataframe thead th {\n",
       "        text-align: right;\n",
       "    }\n",
       "</style>\n",
       "<table border=\"1\" class=\"dataframe\">\n",
       "  <thead>\n",
       "    <tr style=\"text-align: right;\">\n",
       "      <th></th>\n",
       "      <th>messages_included</th>\n",
       "      <th>mb_per_month_included</th>\n",
       "      <th>minutes_included</th>\n",
       "      <th>rub_monthly_fee</th>\n",
       "      <th>rub_per_gb</th>\n",
       "      <th>rub_per_message</th>\n",
       "      <th>rub_per_minute</th>\n",
       "      <th>tariff_name</th>\n",
       "    </tr>\n",
       "  </thead>\n",
       "  <tbody>\n",
       "    <tr>\n",
       "      <th>0</th>\n",
       "      <td>50</td>\n",
       "      <td>15360</td>\n",
       "      <td>500</td>\n",
       "      <td>550</td>\n",
       "      <td>200</td>\n",
       "      <td>3</td>\n",
       "      <td>3</td>\n",
       "      <td>smart</td>\n",
       "    </tr>\n",
       "    <tr>\n",
       "      <th>1</th>\n",
       "      <td>1000</td>\n",
       "      <td>30720</td>\n",
       "      <td>3000</td>\n",
       "      <td>1950</td>\n",
       "      <td>150</td>\n",
       "      <td>1</td>\n",
       "      <td>1</td>\n",
       "      <td>ultra</td>\n",
       "    </tr>\n",
       "  </tbody>\n",
       "</table>\n",
       "</div>"
      ],
      "text/plain": [
       "   messages_included  mb_per_month_included  minutes_included  \\\n",
       "0                 50                  15360               500   \n",
       "1               1000                  30720              3000   \n",
       "\n",
       "   rub_monthly_fee  rub_per_gb  rub_per_message  rub_per_minute tariff_name  \n",
       "0              550         200                3               3       smart  \n",
       "1             1950         150                1               1       ultra  "
      ]
     },
     "metadata": {},
     "output_type": "display_data"
    }
   ],
   "source": [
    "tariffs.info()\n",
    "\n",
    "display(tariffs.head())"
   ]
  },
  {
   "cell_type": "markdown",
   "metadata": {},
   "source": [
    "Здесь все в порядке с типом данных, но нужно переименовать колонку `tariff_name` в `tariff` для дальнейшего объединения таблиц, а также сразу перевести количество включенных мегабайт в месяц в гигабайты"
   ]
  },
  {
   "cell_type": "code",
   "execution_count": 7,
   "metadata": {
    "scrolled": true
   },
   "outputs": [
    {
     "name": "stdout",
     "output_type": "stream",
     "text": [
      "<class 'pandas.core.frame.DataFrame'>\n",
      "RangeIndex: 2 entries, 0 to 1\n",
      "Data columns (total 8 columns):\n",
      " #   Column                 Non-Null Count  Dtype  \n",
      "---  ------                 --------------  -----  \n",
      " 0   messages_included      2 non-null      int64  \n",
      " 1   gd_per_month_included  2 non-null      float64\n",
      " 2   minutes_included       2 non-null      int64  \n",
      " 3   rub_monthly_fee        2 non-null      int64  \n",
      " 4   rub_per_gb             2 non-null      int64  \n",
      " 5   rub_per_message        2 non-null      int64  \n",
      " 6   rub_per_minute         2 non-null      int64  \n",
      " 7   tariff                 2 non-null      object \n",
      "dtypes: float64(1), int64(6), object(1)\n",
      "memory usage: 256.0+ bytes\n"
     ]
    }
   ],
   "source": [
    "tariffs = tariffs.rename(columns={'tariff_name': 'tariff', \n",
    "                                  'mb_per_month_included': 'gd_per_month_included'})\n",
    "# переименовываем колонки\n",
    "\n",
    "tariffs['gd_per_month_included'] = tariffs['gd_per_month_included'] / 1024\n",
    "# переводим мегабайты в гигабайты\n",
    "\n",
    "tariffs.info()"
   ]
  },
  {
   "cell_type": "markdown",
   "metadata": {},
   "source": [
    "### Таблица calls"
   ]
  },
  {
   "cell_type": "code",
   "execution_count": 8,
   "metadata": {},
   "outputs": [
    {
     "name": "stdout",
     "output_type": "stream",
     "text": [
      "<class 'pandas.core.frame.DataFrame'>\n",
      "RangeIndex: 202607 entries, 0 to 202606\n",
      "Data columns (total 4 columns):\n",
      " #   Column     Non-Null Count   Dtype  \n",
      "---  ------     --------------   -----  \n",
      " 0   id         202607 non-null  object \n",
      " 1   call_date  202607 non-null  object \n",
      " 2   duration   202607 non-null  float64\n",
      " 3   user_id    202607 non-null  int64  \n",
      "dtypes: float64(1), int64(1), object(2)\n",
      "memory usage: 6.2+ MB\n"
     ]
    },
    {
     "data": {
      "text/html": [
       "<div>\n",
       "<style scoped>\n",
       "    .dataframe tbody tr th:only-of-type {\n",
       "        vertical-align: middle;\n",
       "    }\n",
       "\n",
       "    .dataframe tbody tr th {\n",
       "        vertical-align: top;\n",
       "    }\n",
       "\n",
       "    .dataframe thead th {\n",
       "        text-align: right;\n",
       "    }\n",
       "</style>\n",
       "<table border=\"1\" class=\"dataframe\">\n",
       "  <thead>\n",
       "    <tr style=\"text-align: right;\">\n",
       "      <th></th>\n",
       "      <th>id</th>\n",
       "      <th>call_date</th>\n",
       "      <th>duration</th>\n",
       "      <th>user_id</th>\n",
       "    </tr>\n",
       "  </thead>\n",
       "  <tbody>\n",
       "    <tr>\n",
       "      <th>0</th>\n",
       "      <td>1000_0</td>\n",
       "      <td>2018-07-25</td>\n",
       "      <td>0.00</td>\n",
       "      <td>1000</td>\n",
       "    </tr>\n",
       "    <tr>\n",
       "      <th>1</th>\n",
       "      <td>1000_1</td>\n",
       "      <td>2018-08-17</td>\n",
       "      <td>0.00</td>\n",
       "      <td>1000</td>\n",
       "    </tr>\n",
       "    <tr>\n",
       "      <th>2</th>\n",
       "      <td>1000_2</td>\n",
       "      <td>2018-06-11</td>\n",
       "      <td>2.85</td>\n",
       "      <td>1000</td>\n",
       "    </tr>\n",
       "    <tr>\n",
       "      <th>3</th>\n",
       "      <td>1000_3</td>\n",
       "      <td>2018-09-21</td>\n",
       "      <td>13.80</td>\n",
       "      <td>1000</td>\n",
       "    </tr>\n",
       "    <tr>\n",
       "      <th>4</th>\n",
       "      <td>1000_4</td>\n",
       "      <td>2018-12-15</td>\n",
       "      <td>5.18</td>\n",
       "      <td>1000</td>\n",
       "    </tr>\n",
       "  </tbody>\n",
       "</table>\n",
       "</div>"
      ],
      "text/plain": [
       "       id   call_date  duration  user_id\n",
       "0  1000_0  2018-07-25      0.00     1000\n",
       "1  1000_1  2018-08-17      0.00     1000\n",
       "2  1000_2  2018-06-11      2.85     1000\n",
       "3  1000_3  2018-09-21     13.80     1000\n",
       "4  1000_4  2018-12-15      5.18     1000"
      ]
     },
     "metadata": {},
     "output_type": "display_data"
    },
    {
     "data": {
      "text/html": [
       "<div>\n",
       "<style scoped>\n",
       "    .dataframe tbody tr th:only-of-type {\n",
       "        vertical-align: middle;\n",
       "    }\n",
       "\n",
       "    .dataframe tbody tr th {\n",
       "        vertical-align: top;\n",
       "    }\n",
       "\n",
       "    .dataframe thead th {\n",
       "        text-align: right;\n",
       "    }\n",
       "</style>\n",
       "<table border=\"1\" class=\"dataframe\">\n",
       "  <thead>\n",
       "    <tr style=\"text-align: right;\">\n",
       "      <th></th>\n",
       "      <th>duration</th>\n",
       "      <th>user_id</th>\n",
       "    </tr>\n",
       "  </thead>\n",
       "  <tbody>\n",
       "    <tr>\n",
       "      <th>count</th>\n",
       "      <td>202607.000000</td>\n",
       "      <td>202607.000000</td>\n",
       "    </tr>\n",
       "    <tr>\n",
       "      <th>mean</th>\n",
       "      <td>6.755887</td>\n",
       "      <td>1253.940619</td>\n",
       "    </tr>\n",
       "    <tr>\n",
       "      <th>std</th>\n",
       "      <td>5.843365</td>\n",
       "      <td>144.722751</td>\n",
       "    </tr>\n",
       "    <tr>\n",
       "      <th>min</th>\n",
       "      <td>0.000000</td>\n",
       "      <td>1000.000000</td>\n",
       "    </tr>\n",
       "    <tr>\n",
       "      <th>25%</th>\n",
       "      <td>1.300000</td>\n",
       "      <td>1126.000000</td>\n",
       "    </tr>\n",
       "    <tr>\n",
       "      <th>50%</th>\n",
       "      <td>6.000000</td>\n",
       "      <td>1260.000000</td>\n",
       "    </tr>\n",
       "    <tr>\n",
       "      <th>75%</th>\n",
       "      <td>10.700000</td>\n",
       "      <td>1379.000000</td>\n",
       "    </tr>\n",
       "    <tr>\n",
       "      <th>max</th>\n",
       "      <td>38.000000</td>\n",
       "      <td>1499.000000</td>\n",
       "    </tr>\n",
       "  </tbody>\n",
       "</table>\n",
       "</div>"
      ],
      "text/plain": [
       "            duration        user_id\n",
       "count  202607.000000  202607.000000\n",
       "mean        6.755887    1253.940619\n",
       "std         5.843365     144.722751\n",
       "min         0.000000    1000.000000\n",
       "25%         1.300000    1126.000000\n",
       "50%         6.000000    1260.000000\n",
       "75%        10.700000    1379.000000\n",
       "max        38.000000    1499.000000"
      ]
     },
     "execution_count": 8,
     "metadata": {},
     "output_type": "execute_result"
    }
   ],
   "source": [
    "calls.info()\n",
    "\n",
    "display(calls.head())\n",
    "\n",
    "calls.describe()"
   ]
  },
  {
   "cell_type": "markdown",
   "metadata": {},
   "source": [
    "id звонка необходимо перевести в числовой формат, колонку` call_date` в `datetime`, `duration` округлить до целых, так как по условиям тарифов оператор округляет секунды каждого разговора до минут."
   ]
  },
  {
   "cell_type": "code",
   "execution_count": 9,
   "metadata": {},
   "outputs": [],
   "source": [
    "calls['id'] = calls['id'].astype('int')\n",
    "\n",
    "calls['call_date'] = pd.to_datetime(calls['call_date'], format='%Y-%m-%d')\n",
    "\n",
    "calls['duration'] = calls['duration'].apply(np.ceil).astype('int')"
   ]
  },
  {
   "cell_type": "markdown",
   "metadata": {},
   "source": [
    "### Таблица internet"
   ]
  },
  {
   "cell_type": "code",
   "execution_count": 10,
   "metadata": {},
   "outputs": [
    {
     "name": "stdout",
     "output_type": "stream",
     "text": [
      "<class 'pandas.core.frame.DataFrame'>\n",
      "RangeIndex: 149396 entries, 0 to 149395\n",
      "Data columns (total 5 columns):\n",
      " #   Column        Non-Null Count   Dtype  \n",
      "---  ------        --------------   -----  \n",
      " 0   Unnamed: 0    149396 non-null  int64  \n",
      " 1   id            149396 non-null  object \n",
      " 2   mb_used       149396 non-null  float64\n",
      " 3   session_date  149396 non-null  object \n",
      " 4   user_id       149396 non-null  int64  \n",
      "dtypes: float64(1), int64(2), object(2)\n",
      "memory usage: 5.7+ MB\n"
     ]
    },
    {
     "data": {
      "text/html": [
       "<div>\n",
       "<style scoped>\n",
       "    .dataframe tbody tr th:only-of-type {\n",
       "        vertical-align: middle;\n",
       "    }\n",
       "\n",
       "    .dataframe tbody tr th {\n",
       "        vertical-align: top;\n",
       "    }\n",
       "\n",
       "    .dataframe thead th {\n",
       "        text-align: right;\n",
       "    }\n",
       "</style>\n",
       "<table border=\"1\" class=\"dataframe\">\n",
       "  <thead>\n",
       "    <tr style=\"text-align: right;\">\n",
       "      <th></th>\n",
       "      <th>Unnamed: 0</th>\n",
       "      <th>id</th>\n",
       "      <th>mb_used</th>\n",
       "      <th>session_date</th>\n",
       "      <th>user_id</th>\n",
       "    </tr>\n",
       "  </thead>\n",
       "  <tbody>\n",
       "    <tr>\n",
       "      <th>0</th>\n",
       "      <td>0</td>\n",
       "      <td>1000_0</td>\n",
       "      <td>112.95</td>\n",
       "      <td>2018-11-25</td>\n",
       "      <td>1000</td>\n",
       "    </tr>\n",
       "    <tr>\n",
       "      <th>1</th>\n",
       "      <td>1</td>\n",
       "      <td>1000_1</td>\n",
       "      <td>1052.81</td>\n",
       "      <td>2018-09-07</td>\n",
       "      <td>1000</td>\n",
       "    </tr>\n",
       "    <tr>\n",
       "      <th>2</th>\n",
       "      <td>2</td>\n",
       "      <td>1000_2</td>\n",
       "      <td>1197.26</td>\n",
       "      <td>2018-06-25</td>\n",
       "      <td>1000</td>\n",
       "    </tr>\n",
       "    <tr>\n",
       "      <th>3</th>\n",
       "      <td>3</td>\n",
       "      <td>1000_3</td>\n",
       "      <td>550.27</td>\n",
       "      <td>2018-08-22</td>\n",
       "      <td>1000</td>\n",
       "    </tr>\n",
       "    <tr>\n",
       "      <th>4</th>\n",
       "      <td>4</td>\n",
       "      <td>1000_4</td>\n",
       "      <td>302.56</td>\n",
       "      <td>2018-09-24</td>\n",
       "      <td>1000</td>\n",
       "    </tr>\n",
       "  </tbody>\n",
       "</table>\n",
       "</div>"
      ],
      "text/plain": [
       "   Unnamed: 0      id  mb_used session_date  user_id\n",
       "0           0  1000_0   112.95   2018-11-25     1000\n",
       "1           1  1000_1  1052.81   2018-09-07     1000\n",
       "2           2  1000_2  1197.26   2018-06-25     1000\n",
       "3           3  1000_3   550.27   2018-08-22     1000\n",
       "4           4  1000_4   302.56   2018-09-24     1000"
      ]
     },
     "metadata": {},
     "output_type": "display_data"
    }
   ],
   "source": [
    "internet.info()\n",
    "\n",
    "display(internet.head())"
   ]
  },
  {
   "cell_type": "markdown",
   "metadata": {},
   "source": [
    "Есть лишний столбец с дублированием индексов, удалим его, id сессии приведем к целочисленному типу, `session_date` к формату *datetime*. "
   ]
  },
  {
   "cell_type": "code",
   "execution_count": 11,
   "metadata": {},
   "outputs": [],
   "source": [
    "internet['id'] = internet['id'].astype('int')\n",
    "\n",
    "internet['session_date'] = pd.to_datetime(internet['session_date'], format='%Y-%m-%d')\n",
    "\n",
    "internet = internet.drop(columns=['Unnamed: 0'])"
   ]
  },
  {
   "cell_type": "markdown",
   "metadata": {},
   "source": [
    "### Таблица messages"
   ]
  },
  {
   "cell_type": "code",
   "execution_count": 12,
   "metadata": {},
   "outputs": [
    {
     "name": "stdout",
     "output_type": "stream",
     "text": [
      "<class 'pandas.core.frame.DataFrame'>\n",
      "RangeIndex: 123036 entries, 0 to 123035\n",
      "Data columns (total 3 columns):\n",
      " #   Column        Non-Null Count   Dtype \n",
      "---  ------        --------------   ----- \n",
      " 0   id            123036 non-null  object\n",
      " 1   message_date  123036 non-null  object\n",
      " 2   user_id       123036 non-null  int64 \n",
      "dtypes: int64(1), object(2)\n",
      "memory usage: 2.8+ MB\n"
     ]
    },
    {
     "data": {
      "text/html": [
       "<div>\n",
       "<style scoped>\n",
       "    .dataframe tbody tr th:only-of-type {\n",
       "        vertical-align: middle;\n",
       "    }\n",
       "\n",
       "    .dataframe tbody tr th {\n",
       "        vertical-align: top;\n",
       "    }\n",
       "\n",
       "    .dataframe thead th {\n",
       "        text-align: right;\n",
       "    }\n",
       "</style>\n",
       "<table border=\"1\" class=\"dataframe\">\n",
       "  <thead>\n",
       "    <tr style=\"text-align: right;\">\n",
       "      <th></th>\n",
       "      <th>id</th>\n",
       "      <th>message_date</th>\n",
       "      <th>user_id</th>\n",
       "    </tr>\n",
       "  </thead>\n",
       "  <tbody>\n",
       "    <tr>\n",
       "      <th>0</th>\n",
       "      <td>1000_0</td>\n",
       "      <td>2018-06-27</td>\n",
       "      <td>1000</td>\n",
       "    </tr>\n",
       "    <tr>\n",
       "      <th>1</th>\n",
       "      <td>1000_1</td>\n",
       "      <td>2018-10-08</td>\n",
       "      <td>1000</td>\n",
       "    </tr>\n",
       "    <tr>\n",
       "      <th>2</th>\n",
       "      <td>1000_2</td>\n",
       "      <td>2018-08-04</td>\n",
       "      <td>1000</td>\n",
       "    </tr>\n",
       "    <tr>\n",
       "      <th>3</th>\n",
       "      <td>1000_3</td>\n",
       "      <td>2018-06-16</td>\n",
       "      <td>1000</td>\n",
       "    </tr>\n",
       "    <tr>\n",
       "      <th>4</th>\n",
       "      <td>1000_4</td>\n",
       "      <td>2018-12-05</td>\n",
       "      <td>1000</td>\n",
       "    </tr>\n",
       "  </tbody>\n",
       "</table>\n",
       "</div>"
      ],
      "text/plain": [
       "       id message_date  user_id\n",
       "0  1000_0   2018-06-27     1000\n",
       "1  1000_1   2018-10-08     1000\n",
       "2  1000_2   2018-08-04     1000\n",
       "3  1000_3   2018-06-16     1000\n",
       "4  1000_4   2018-12-05     1000"
      ]
     },
     "metadata": {},
     "output_type": "display_data"
    }
   ],
   "source": [
    "messages.info()\n",
    "\n",
    "display(messages.head())"
   ]
  },
  {
   "cell_type": "markdown",
   "metadata": {},
   "source": [
    "id сообщения приведем к целочисленному типу, `message_date` - к *datetime*"
   ]
  },
  {
   "cell_type": "code",
   "execution_count": 13,
   "metadata": {},
   "outputs": [],
   "source": [
    "messages['id'] = messages['id'].astype('int')\n",
    "\n",
    "messages['message_date'] = pd.to_datetime(messages['message_date'], format='%Y-%m-%d')"
   ]
  },
  {
   "cell_type": "markdown",
   "metadata": {},
   "source": [
    "**Вывод**\n",
    "\n",
    "Данные в таблицах приведены к нужным типам, колонки переименованы, лишний столбец в таблице `internet` удален. Отсутствующие значения в колонке `churn_date` таблицы *users* означают, что тариф еще действовал на момент выгрузки данных. Нули в колонке `duration` таблицы *calls* - пропущенные звонки, а не пропущенные значения. По условиям тарифов минуты округлены в большую сторону, а мегабайты переведены в гигабайты. "
   ]
  },
  {
   "cell_type": "markdown",
   "metadata": {},
   "source": [
    "## Расчет и добавление данных"
   ]
  },
  {
   "cell_type": "markdown",
   "metadata": {},
   "source": [
    "Посчитаем для каждого пользователя:\n",
    "- количество сделанных звонков и израсходованных минут разговора по месяцам;\n",
    "- количество отправленных сообщений по месяцам;\n",
    "- объем израсходованного интернет-трафика по месяцам;\n",
    "- помесячную выручку с каждого пользователя "
   ]
  },
  {
   "cell_type": "markdown",
   "metadata": {},
   "source": [
    "### Звонки, сообщения, траффик"
   ]
  },
  {
   "cell_type": "code",
   "execution_count": 14,
   "metadata": {},
   "outputs": [
    {
     "data": {
      "text/html": [
       "<div>\n",
       "<style scoped>\n",
       "    .dataframe tbody tr th:only-of-type {\n",
       "        vertical-align: middle;\n",
       "    }\n",
       "\n",
       "    .dataframe tbody tr th {\n",
       "        vertical-align: top;\n",
       "    }\n",
       "\n",
       "    .dataframe thead th {\n",
       "        text-align: right;\n",
       "    }\n",
       "</style>\n",
       "<table border=\"1\" class=\"dataframe\">\n",
       "  <thead>\n",
       "    <tr style=\"text-align: right;\">\n",
       "      <th></th>\n",
       "      <th>user_id</th>\n",
       "      <th>month</th>\n",
       "      <th>calls</th>\n",
       "      <th>duration</th>\n",
       "    </tr>\n",
       "  </thead>\n",
       "  <tbody>\n",
       "    <tr>\n",
       "      <th>0</th>\n",
       "      <td>1000</td>\n",
       "      <td>5</td>\n",
       "      <td>22</td>\n",
       "      <td>159</td>\n",
       "    </tr>\n",
       "    <tr>\n",
       "      <th>1</th>\n",
       "      <td>1000</td>\n",
       "      <td>6</td>\n",
       "      <td>43</td>\n",
       "      <td>172</td>\n",
       "    </tr>\n",
       "    <tr>\n",
       "      <th>2</th>\n",
       "      <td>1000</td>\n",
       "      <td>7</td>\n",
       "      <td>47</td>\n",
       "      <td>340</td>\n",
       "    </tr>\n",
       "    <tr>\n",
       "      <th>3</th>\n",
       "      <td>1000</td>\n",
       "      <td>8</td>\n",
       "      <td>52</td>\n",
       "      <td>408</td>\n",
       "    </tr>\n",
       "    <tr>\n",
       "      <th>4</th>\n",
       "      <td>1000</td>\n",
       "      <td>9</td>\n",
       "      <td>58</td>\n",
       "      <td>466</td>\n",
       "    </tr>\n",
       "  </tbody>\n",
       "</table>\n",
       "</div>"
      ],
      "text/plain": [
       "   user_id  month  calls  duration\n",
       "0     1000      5     22       159\n",
       "1     1000      6     43       172\n",
       "2     1000      7     47       340\n",
       "3     1000      8     52       408\n",
       "4     1000      9     58       466"
      ]
     },
     "execution_count": 14,
     "metadata": {},
     "output_type": "execute_result"
    }
   ],
   "source": [
    "calls['month'] = pd.DatetimeIndex(calls['call_date']).month \n",
    "# добавляем месяц сделанного звонка для дальнейшего расчета\n",
    "\n",
    "calls_count = calls.groupby(\n",
    "    ['user_id','month']).agg({'id':'count', 'duration': 'sum'}).reset_index()\n",
    "# группируем таблицу по пользователям, считаем звонки и минуты по месяцам, удаляем мультииндекс\n",
    "\n",
    "calls_count = calls_count.rename(columns={'id': 'calls'})\n",
    "# переименовываем колонку id c количеством звонков\n",
    "\n",
    "calls_count.head()"
   ]
  },
  {
   "cell_type": "code",
   "execution_count": 15,
   "metadata": {},
   "outputs": [
    {
     "data": {
      "text/html": [
       "<div>\n",
       "<style scoped>\n",
       "    .dataframe tbody tr th:only-of-type {\n",
       "        vertical-align: middle;\n",
       "    }\n",
       "\n",
       "    .dataframe tbody tr th {\n",
       "        vertical-align: top;\n",
       "    }\n",
       "\n",
       "    .dataframe thead th {\n",
       "        text-align: right;\n",
       "    }\n",
       "</style>\n",
       "<table border=\"1\" class=\"dataframe\">\n",
       "  <thead>\n",
       "    <tr style=\"text-align: right;\">\n",
       "      <th></th>\n",
       "      <th>user_id</th>\n",
       "      <th>month</th>\n",
       "      <th>messages</th>\n",
       "    </tr>\n",
       "  </thead>\n",
       "  <tbody>\n",
       "    <tr>\n",
       "      <th>0</th>\n",
       "      <td>1000</td>\n",
       "      <td>5</td>\n",
       "      <td>22</td>\n",
       "    </tr>\n",
       "    <tr>\n",
       "      <th>1</th>\n",
       "      <td>1000</td>\n",
       "      <td>6</td>\n",
       "      <td>60</td>\n",
       "    </tr>\n",
       "    <tr>\n",
       "      <th>2</th>\n",
       "      <td>1000</td>\n",
       "      <td>7</td>\n",
       "      <td>75</td>\n",
       "    </tr>\n",
       "    <tr>\n",
       "      <th>3</th>\n",
       "      <td>1000</td>\n",
       "      <td>8</td>\n",
       "      <td>81</td>\n",
       "    </tr>\n",
       "    <tr>\n",
       "      <th>4</th>\n",
       "      <td>1000</td>\n",
       "      <td>9</td>\n",
       "      <td>57</td>\n",
       "    </tr>\n",
       "  </tbody>\n",
       "</table>\n",
       "</div>"
      ],
      "text/plain": [
       "   user_id  month  messages\n",
       "0     1000      5        22\n",
       "1     1000      6        60\n",
       "2     1000      7        75\n",
       "3     1000      8        81\n",
       "4     1000      9        57"
      ]
     },
     "execution_count": 15,
     "metadata": {},
     "output_type": "execute_result"
    }
   ],
   "source": [
    "messages['month'] = pd.DatetimeIndex(messages['message_date']).month \n",
    "# добавляем месяц отправленного сообщения \n",
    " \n",
    "messages_count = messages.groupby(\n",
    "    ['user_id','month']).agg({'id':'count'}).reset_index()\n",
    "# группируем таблицу по количеству отправленных сообщений по месяцам, удаляем мультииндекс\n",
    "\n",
    "messages_count = messages_count.rename(columns={'id': 'messages'})\n",
    "# переименовываем колонку id с количеством сообщений \n",
    "\n",
    "messages_count.head()"
   ]
  },
  {
   "cell_type": "markdown",
   "metadata": {},
   "source": [
    "По условиям тарифов общая сумма интернет-траффика за месяц округляется в бо́льшую сторону. Если абонент использует 1025 мегабайт в этом месяце, с него возьмут плату за 2 гигабайта. Поэтому после подсчета использованного трафика за месяц, сумму необходимо перевести в гигабайты и округлить до целого в большую сторону."
   ]
  },
  {
   "cell_type": "code",
   "execution_count": 16,
   "metadata": {},
   "outputs": [
    {
     "data": {
      "text/html": [
       "<div>\n",
       "<style scoped>\n",
       "    .dataframe tbody tr th:only-of-type {\n",
       "        vertical-align: middle;\n",
       "    }\n",
       "\n",
       "    .dataframe tbody tr th {\n",
       "        vertical-align: top;\n",
       "    }\n",
       "\n",
       "    .dataframe thead th {\n",
       "        text-align: right;\n",
       "    }\n",
       "</style>\n",
       "<table border=\"1\" class=\"dataframe\">\n",
       "  <thead>\n",
       "    <tr style=\"text-align: right;\">\n",
       "      <th></th>\n",
       "      <th>user_id</th>\n",
       "      <th>month</th>\n",
       "      <th>gb_used</th>\n",
       "    </tr>\n",
       "  </thead>\n",
       "  <tbody>\n",
       "    <tr>\n",
       "      <th>0</th>\n",
       "      <td>1000</td>\n",
       "      <td>5</td>\n",
       "      <td>3.0</td>\n",
       "    </tr>\n",
       "    <tr>\n",
       "      <th>1</th>\n",
       "      <td>1000</td>\n",
       "      <td>6</td>\n",
       "      <td>23.0</td>\n",
       "    </tr>\n",
       "    <tr>\n",
       "      <th>2</th>\n",
       "      <td>1000</td>\n",
       "      <td>7</td>\n",
       "      <td>14.0</td>\n",
       "    </tr>\n",
       "    <tr>\n",
       "      <th>3</th>\n",
       "      <td>1000</td>\n",
       "      <td>8</td>\n",
       "      <td>14.0</td>\n",
       "    </tr>\n",
       "    <tr>\n",
       "      <th>4</th>\n",
       "      <td>1000</td>\n",
       "      <td>9</td>\n",
       "      <td>15.0</td>\n",
       "    </tr>\n",
       "  </tbody>\n",
       "</table>\n",
       "</div>"
      ],
      "text/plain": [
       "   user_id  month  gb_used\n",
       "0     1000      5      3.0\n",
       "1     1000      6     23.0\n",
       "2     1000      7     14.0\n",
       "3     1000      8     14.0\n",
       "4     1000      9     15.0"
      ]
     },
     "execution_count": 16,
     "metadata": {},
     "output_type": "execute_result"
    }
   ],
   "source": [
    "internet['month'] = pd.DatetimeIndex(internet['session_date']).month \n",
    "# добавляем колонку с месяцем интернет-сессии\n",
    "\n",
    "internet_count = internet.groupby(\n",
    "    ['user_id','month']).agg({'mb_used':'sum'}).reset_index()\n",
    "# группируем таблицу по количеству использованного трафика в месяц\n",
    "\n",
    "internet_count['mb_used'] = (internet_count['mb_used'] / 1024).apply(np.ceil)\n",
    "# переводим мегабайты в гигабайты, округляем в большую сторону\n",
    "\n",
    "internet_count = internet_count.rename(columns={'mb_used': 'gb_used'})\n",
    "# переименовываем колонку mb_used в gb_used\n",
    "\n",
    "internet_count.head()"
   ]
  },
  {
   "cell_type": "markdown",
   "metadata": {},
   "source": [
    "Теперь у нас есть три сводных таблицы с количеством сделанных звонков, отправленных сообщений и использованного веб-траффика для каждого пользователя, чтобы подсчитать помесячную выручку с каждого абонента, необходимо склеить эти три таблицы и добавить к ним таблицы *users* и *tariff*"
   ]
  },
  {
   "cell_type": "code",
   "execution_count": 17,
   "metadata": {},
   "outputs": [
    {
     "data": {
      "text/html": [
       "<div>\n",
       "<style scoped>\n",
       "    .dataframe tbody tr th:only-of-type {\n",
       "        vertical-align: middle;\n",
       "    }\n",
       "\n",
       "    .dataframe tbody tr th {\n",
       "        vertical-align: top;\n",
       "    }\n",
       "\n",
       "    .dataframe thead th {\n",
       "        text-align: right;\n",
       "    }\n",
       "</style>\n",
       "<table border=\"1\" class=\"dataframe\">\n",
       "  <thead>\n",
       "    <tr style=\"text-align: right;\">\n",
       "      <th></th>\n",
       "      <th>user_id</th>\n",
       "      <th>month</th>\n",
       "      <th>calls</th>\n",
       "      <th>duration</th>\n",
       "      <th>messages</th>\n",
       "      <th>gb_used</th>\n",
       "      <th>age</th>\n",
       "      <th>churn_date</th>\n",
       "      <th>city</th>\n",
       "      <th>first_name</th>\n",
       "      <th>last_name</th>\n",
       "      <th>reg_date</th>\n",
       "      <th>tariff</th>\n",
       "      <th>messages_included</th>\n",
       "      <th>gd_per_month_included</th>\n",
       "      <th>minutes_included</th>\n",
       "      <th>rub_monthly_fee</th>\n",
       "      <th>rub_per_gb</th>\n",
       "      <th>rub_per_message</th>\n",
       "      <th>rub_per_minute</th>\n",
       "    </tr>\n",
       "  </thead>\n",
       "  <tbody>\n",
       "    <tr>\n",
       "      <th>0</th>\n",
       "      <td>1000</td>\n",
       "      <td>5</td>\n",
       "      <td>22.0</td>\n",
       "      <td>159.0</td>\n",
       "      <td>22.0</td>\n",
       "      <td>3.0</td>\n",
       "      <td>52</td>\n",
       "      <td>NaT</td>\n",
       "      <td>Краснодар</td>\n",
       "      <td>Рафаил</td>\n",
       "      <td>Верещагин</td>\n",
       "      <td>2018-05-25</td>\n",
       "      <td>ultra</td>\n",
       "      <td>1000</td>\n",
       "      <td>30.0</td>\n",
       "      <td>3000</td>\n",
       "      <td>1950</td>\n",
       "      <td>150</td>\n",
       "      <td>1</td>\n",
       "      <td>1</td>\n",
       "    </tr>\n",
       "    <tr>\n",
       "      <th>1</th>\n",
       "      <td>1000</td>\n",
       "      <td>6</td>\n",
       "      <td>43.0</td>\n",
       "      <td>172.0</td>\n",
       "      <td>60.0</td>\n",
       "      <td>23.0</td>\n",
       "      <td>52</td>\n",
       "      <td>NaT</td>\n",
       "      <td>Краснодар</td>\n",
       "      <td>Рафаил</td>\n",
       "      <td>Верещагин</td>\n",
       "      <td>2018-05-25</td>\n",
       "      <td>ultra</td>\n",
       "      <td>1000</td>\n",
       "      <td>30.0</td>\n",
       "      <td>3000</td>\n",
       "      <td>1950</td>\n",
       "      <td>150</td>\n",
       "      <td>1</td>\n",
       "      <td>1</td>\n",
       "    </tr>\n",
       "    <tr>\n",
       "      <th>2</th>\n",
       "      <td>1000</td>\n",
       "      <td>7</td>\n",
       "      <td>47.0</td>\n",
       "      <td>340.0</td>\n",
       "      <td>75.0</td>\n",
       "      <td>14.0</td>\n",
       "      <td>52</td>\n",
       "      <td>NaT</td>\n",
       "      <td>Краснодар</td>\n",
       "      <td>Рафаил</td>\n",
       "      <td>Верещагин</td>\n",
       "      <td>2018-05-25</td>\n",
       "      <td>ultra</td>\n",
       "      <td>1000</td>\n",
       "      <td>30.0</td>\n",
       "      <td>3000</td>\n",
       "      <td>1950</td>\n",
       "      <td>150</td>\n",
       "      <td>1</td>\n",
       "      <td>1</td>\n",
       "    </tr>\n",
       "    <tr>\n",
       "      <th>3</th>\n",
       "      <td>1000</td>\n",
       "      <td>8</td>\n",
       "      <td>52.0</td>\n",
       "      <td>408.0</td>\n",
       "      <td>81.0</td>\n",
       "      <td>14.0</td>\n",
       "      <td>52</td>\n",
       "      <td>NaT</td>\n",
       "      <td>Краснодар</td>\n",
       "      <td>Рафаил</td>\n",
       "      <td>Верещагин</td>\n",
       "      <td>2018-05-25</td>\n",
       "      <td>ultra</td>\n",
       "      <td>1000</td>\n",
       "      <td>30.0</td>\n",
       "      <td>3000</td>\n",
       "      <td>1950</td>\n",
       "      <td>150</td>\n",
       "      <td>1</td>\n",
       "      <td>1</td>\n",
       "    </tr>\n",
       "    <tr>\n",
       "      <th>4</th>\n",
       "      <td>1000</td>\n",
       "      <td>9</td>\n",
       "      <td>58.0</td>\n",
       "      <td>466.0</td>\n",
       "      <td>57.0</td>\n",
       "      <td>15.0</td>\n",
       "      <td>52</td>\n",
       "      <td>NaT</td>\n",
       "      <td>Краснодар</td>\n",
       "      <td>Рафаил</td>\n",
       "      <td>Верещагин</td>\n",
       "      <td>2018-05-25</td>\n",
       "      <td>ultra</td>\n",
       "      <td>1000</td>\n",
       "      <td>30.0</td>\n",
       "      <td>3000</td>\n",
       "      <td>1950</td>\n",
       "      <td>150</td>\n",
       "      <td>1</td>\n",
       "      <td>1</td>\n",
       "    </tr>\n",
       "  </tbody>\n",
       "</table>\n",
       "</div>"
      ],
      "text/plain": [
       "   user_id  month  calls  duration  messages  gb_used  age churn_date  \\\n",
       "0     1000      5   22.0     159.0      22.0      3.0   52        NaT   \n",
       "1     1000      6   43.0     172.0      60.0     23.0   52        NaT   \n",
       "2     1000      7   47.0     340.0      75.0     14.0   52        NaT   \n",
       "3     1000      8   52.0     408.0      81.0     14.0   52        NaT   \n",
       "4     1000      9   58.0     466.0      57.0     15.0   52        NaT   \n",
       "\n",
       "        city first_name  last_name   reg_date tariff  messages_included  \\\n",
       "0  Краснодар     Рафаил  Верещагин 2018-05-25  ultra               1000   \n",
       "1  Краснодар     Рафаил  Верещагин 2018-05-25  ultra               1000   \n",
       "2  Краснодар     Рафаил  Верещагин 2018-05-25  ultra               1000   \n",
       "3  Краснодар     Рафаил  Верещагин 2018-05-25  ultra               1000   \n",
       "4  Краснодар     Рафаил  Верещагин 2018-05-25  ultra               1000   \n",
       "\n",
       "   gd_per_month_included  minutes_included  rub_monthly_fee  rub_per_gb  \\\n",
       "0                   30.0              3000             1950         150   \n",
       "1                   30.0              3000             1950         150   \n",
       "2                   30.0              3000             1950         150   \n",
       "3                   30.0              3000             1950         150   \n",
       "4                   30.0              3000             1950         150   \n",
       "\n",
       "   rub_per_message  rub_per_minute  \n",
       "0                1               1  \n",
       "1                1               1  \n",
       "2                1               1  \n",
       "3                1               1  \n",
       "4                1               1  "
      ]
     },
     "execution_count": 17,
     "metadata": {},
     "output_type": "execute_result"
    }
   ],
   "source": [
    "data_users = calls_count.merge(messages_count, on=['user_id', 'month'], how='outer')\n",
    "# соединяем таблицу со звонками и сообщениями\n",
    "\n",
    "data_users = data_users.merge(internet_count, on=['user_id', 'month'], how='outer')\n",
    "# добавляем к таблице со звонками и сообщениями таблицу с интернет-траффиком\n",
    "\n",
    "data_users = data_users.merge(users, on='user_id', how='left')\n",
    "# добавляем таблицу с информацией о пользователях\n",
    "\n",
    "data_users = data_users.merge(tariffs, on='tariff', how='left')\n",
    "# добавляем таблицу с условиями тарифов\n",
    "\n",
    "data_users.head()"
   ]
  },
  {
   "cell_type": "markdown",
   "metadata": {},
   "source": [
    "### Обработка пропусков"
   ]
  },
  {
   "cell_type": "code",
   "execution_count": 18,
   "metadata": {},
   "outputs": [
    {
     "name": "stdout",
     "output_type": "stream",
     "text": [
      "<class 'pandas.core.frame.DataFrame'>\n",
      "Int64Index: 3214 entries, 0 to 3213\n",
      "Data columns (total 20 columns):\n",
      " #   Column                 Non-Null Count  Dtype         \n",
      "---  ------                 --------------  -----         \n",
      " 0   user_id                3214 non-null   int64         \n",
      " 1   month                  3214 non-null   int64         \n",
      " 2   calls                  3174 non-null   float64       \n",
      " 3   duration               3174 non-null   float64       \n",
      " 4   messages               2717 non-null   float64       \n",
      " 5   gb_used                3203 non-null   float64       \n",
      " 6   age                    3214 non-null   int64         \n",
      " 7   churn_date             187 non-null    datetime64[ns]\n",
      " 8   city                   3214 non-null   object        \n",
      " 9   first_name             3214 non-null   object        \n",
      " 10  last_name              3214 non-null   object        \n",
      " 11  reg_date               3214 non-null   datetime64[ns]\n",
      " 12  tariff                 3214 non-null   object        \n",
      " 13  messages_included      3214 non-null   int64         \n",
      " 14  gd_per_month_included  3214 non-null   float64       \n",
      " 15  minutes_included       3214 non-null   int64         \n",
      " 16  rub_monthly_fee        3214 non-null   int64         \n",
      " 17  rub_per_gb             3214 non-null   int64         \n",
      " 18  rub_per_message        3214 non-null   int64         \n",
      " 19  rub_per_minute         3214 non-null   int64         \n",
      "dtypes: datetime64[ns](2), float64(5), int64(9), object(4)\n",
      "memory usage: 527.3+ KB\n"
     ]
    },
    {
     "data": {
      "text/plain": [
       "user_id                     0\n",
       "month                       0\n",
       "calls                      40\n",
       "duration                   40\n",
       "messages                  497\n",
       "gb_used                    11\n",
       "age                         0\n",
       "churn_date               3027\n",
       "city                        0\n",
       "first_name                  0\n",
       "last_name                   0\n",
       "reg_date                    0\n",
       "tariff                      0\n",
       "messages_included           0\n",
       "gd_per_month_included       0\n",
       "minutes_included            0\n",
       "rub_monthly_fee             0\n",
       "rub_per_gb                  0\n",
       "rub_per_message             0\n",
       "rub_per_minute              0\n",
       "dtype: int64"
      ]
     },
     "execution_count": 18,
     "metadata": {},
     "output_type": "execute_result"
    }
   ],
   "source": [
    "data_users.info() # общая инфо \n",
    "data_users.isna().sum() # считаем пропуски"
   ]
  },
  {
   "cell_type": "markdown",
   "metadata": {},
   "source": [
    "В итоговой таблице есть пропущенные значения звонков, сообщений и интернета - видимо, они образовались после склейки от того, что абонент например пользовался интернетом, но не звонил (в случае если сим-карта была куплена для IPad, а не для телефона). Или звонил, но не пользовался интернетом, или никогда не отправлял сообщения.\n",
    "Поэтому заполним пропуски в этих категориях нулями."
   ]
  },
  {
   "cell_type": "code",
   "execution_count": 19,
   "metadata": {},
   "outputs": [],
   "source": [
    "data_users.loc[:, \n",
    "               ['calls', 'duration', 'messages', 'gb_used']\n",
    "              ] = data_users.loc[:, ['calls', 'duration', 'messages', 'gb_used']].fillna(0)"
   ]
  },
  {
   "cell_type": "code",
   "execution_count": 20,
   "metadata": {
    "scrolled": false
   },
   "outputs": [
    {
     "data": {
      "text/plain": [
       "user_id                     0\n",
       "month                       0\n",
       "calls                       0\n",
       "duration                    0\n",
       "messages                    0\n",
       "gb_used                     0\n",
       "age                         0\n",
       "churn_date               3027\n",
       "city                        0\n",
       "first_name                  0\n",
       "last_name                   0\n",
       "reg_date                    0\n",
       "tariff                      0\n",
       "messages_included           0\n",
       "gd_per_month_included       0\n",
       "minutes_included            0\n",
       "rub_monthly_fee             0\n",
       "rub_per_gb                  0\n",
       "rub_per_message             0\n",
       "rub_per_minute              0\n",
       "dtype: int64"
      ]
     },
     "execution_count": 20,
     "metadata": {},
     "output_type": "execute_result"
    }
   ],
   "source": [
    "data_users.isna().sum()\n",
    "# теперь пропусков в этих колонках нет"
   ]
  },
  {
   "cell_type": "markdown",
   "metadata": {},
   "source": [
    "### Расчет выручки"
   ]
  },
  {
   "cell_type": "markdown",
   "metadata": {},
   "source": [
    "Считаем помесячную выручку с каждого пользователя: вычтем бесплатный лимит из суммарного количества звонков, сообщений и интернет-трафика, остаток умножаем на значение из тарифного плана, далее прибавляем абонентскую плату, соответствующую тарифному плану."
   ]
  },
  {
   "cell_type": "code",
   "execution_count": 21,
   "metadata": {},
   "outputs": [],
   "source": [
    "def over_paid(row):\n",
    "    messages = (row['messages'] - row['messages_included']) * row['rub_per_message']\n",
    "    calls = (row['calls'] - row['minutes_included']) * row['rub_per_minute']  \n",
    "    internet = (row['gb_used'] - row['gd_per_month_included']) * row['rub_per_gb']\n",
    "    amount = 0\n",
    "    for i in [messages, calls, internet]:\n",
    "        if i > 0:\n",
    "            amount += i     \n",
    "    return amount\n",
    "    \n",
    "    \n",
    "data_users['over_paid'] = data_users.apply(lambda x: over_paid(x), axis=1)  \n",
    "# считаем переплату для каждого пользователя сверх тарифа"
   ]
  },
  {
   "cell_type": "code",
   "execution_count": 22,
   "metadata": {},
   "outputs": [],
   "source": [
    "data_users['total_paid'] = data_users['rub_monthly_fee'] + data_users['over_paid']\n",
    "# добавляем абонентскую плату по тарифу, получаем итоговую выручку"
   ]
  },
  {
   "cell_type": "code",
   "execution_count": 23,
   "metadata": {
    "scrolled": true
   },
   "outputs": [
    {
     "data": {
      "text/html": [
       "<div>\n",
       "<style scoped>\n",
       "    .dataframe tbody tr th:only-of-type {\n",
       "        vertical-align: middle;\n",
       "    }\n",
       "\n",
       "    .dataframe tbody tr th {\n",
       "        vertical-align: top;\n",
       "    }\n",
       "\n",
       "    .dataframe thead th {\n",
       "        text-align: right;\n",
       "    }\n",
       "</style>\n",
       "<table border=\"1\" class=\"dataframe\">\n",
       "  <thead>\n",
       "    <tr style=\"text-align: right;\">\n",
       "      <th></th>\n",
       "      <th>user_id</th>\n",
       "      <th>month</th>\n",
       "      <th>calls</th>\n",
       "      <th>duration</th>\n",
       "      <th>messages</th>\n",
       "      <th>gb_used</th>\n",
       "      <th>age</th>\n",
       "      <th>churn_date</th>\n",
       "      <th>city</th>\n",
       "      <th>first_name</th>\n",
       "      <th>...</th>\n",
       "      <th>tariff</th>\n",
       "      <th>messages_included</th>\n",
       "      <th>gd_per_month_included</th>\n",
       "      <th>minutes_included</th>\n",
       "      <th>rub_monthly_fee</th>\n",
       "      <th>rub_per_gb</th>\n",
       "      <th>rub_per_message</th>\n",
       "      <th>rub_per_minute</th>\n",
       "      <th>over_paid</th>\n",
       "      <th>total_paid</th>\n",
       "    </tr>\n",
       "  </thead>\n",
       "  <tbody>\n",
       "    <tr>\n",
       "      <th>0</th>\n",
       "      <td>1000</td>\n",
       "      <td>5</td>\n",
       "      <td>22.0</td>\n",
       "      <td>159.0</td>\n",
       "      <td>22.0</td>\n",
       "      <td>3.0</td>\n",
       "      <td>52</td>\n",
       "      <td>NaT</td>\n",
       "      <td>Краснодар</td>\n",
       "      <td>Рафаил</td>\n",
       "      <td>...</td>\n",
       "      <td>ultra</td>\n",
       "      <td>1000</td>\n",
       "      <td>30.0</td>\n",
       "      <td>3000</td>\n",
       "      <td>1950</td>\n",
       "      <td>150</td>\n",
       "      <td>1</td>\n",
       "      <td>1</td>\n",
       "      <td>0.0</td>\n",
       "      <td>1950.0</td>\n",
       "    </tr>\n",
       "    <tr>\n",
       "      <th>1</th>\n",
       "      <td>1000</td>\n",
       "      <td>6</td>\n",
       "      <td>43.0</td>\n",
       "      <td>172.0</td>\n",
       "      <td>60.0</td>\n",
       "      <td>23.0</td>\n",
       "      <td>52</td>\n",
       "      <td>NaT</td>\n",
       "      <td>Краснодар</td>\n",
       "      <td>Рафаил</td>\n",
       "      <td>...</td>\n",
       "      <td>ultra</td>\n",
       "      <td>1000</td>\n",
       "      <td>30.0</td>\n",
       "      <td>3000</td>\n",
       "      <td>1950</td>\n",
       "      <td>150</td>\n",
       "      <td>1</td>\n",
       "      <td>1</td>\n",
       "      <td>0.0</td>\n",
       "      <td>1950.0</td>\n",
       "    </tr>\n",
       "    <tr>\n",
       "      <th>2</th>\n",
       "      <td>1000</td>\n",
       "      <td>7</td>\n",
       "      <td>47.0</td>\n",
       "      <td>340.0</td>\n",
       "      <td>75.0</td>\n",
       "      <td>14.0</td>\n",
       "      <td>52</td>\n",
       "      <td>NaT</td>\n",
       "      <td>Краснодар</td>\n",
       "      <td>Рафаил</td>\n",
       "      <td>...</td>\n",
       "      <td>ultra</td>\n",
       "      <td>1000</td>\n",
       "      <td>30.0</td>\n",
       "      <td>3000</td>\n",
       "      <td>1950</td>\n",
       "      <td>150</td>\n",
       "      <td>1</td>\n",
       "      <td>1</td>\n",
       "      <td>0.0</td>\n",
       "      <td>1950.0</td>\n",
       "    </tr>\n",
       "    <tr>\n",
       "      <th>3</th>\n",
       "      <td>1000</td>\n",
       "      <td>8</td>\n",
       "      <td>52.0</td>\n",
       "      <td>408.0</td>\n",
       "      <td>81.0</td>\n",
       "      <td>14.0</td>\n",
       "      <td>52</td>\n",
       "      <td>NaT</td>\n",
       "      <td>Краснодар</td>\n",
       "      <td>Рафаил</td>\n",
       "      <td>...</td>\n",
       "      <td>ultra</td>\n",
       "      <td>1000</td>\n",
       "      <td>30.0</td>\n",
       "      <td>3000</td>\n",
       "      <td>1950</td>\n",
       "      <td>150</td>\n",
       "      <td>1</td>\n",
       "      <td>1</td>\n",
       "      <td>0.0</td>\n",
       "      <td>1950.0</td>\n",
       "    </tr>\n",
       "    <tr>\n",
       "      <th>4</th>\n",
       "      <td>1000</td>\n",
       "      <td>9</td>\n",
       "      <td>58.0</td>\n",
       "      <td>466.0</td>\n",
       "      <td>57.0</td>\n",
       "      <td>15.0</td>\n",
       "      <td>52</td>\n",
       "      <td>NaT</td>\n",
       "      <td>Краснодар</td>\n",
       "      <td>Рафаил</td>\n",
       "      <td>...</td>\n",
       "      <td>ultra</td>\n",
       "      <td>1000</td>\n",
       "      <td>30.0</td>\n",
       "      <td>3000</td>\n",
       "      <td>1950</td>\n",
       "      <td>150</td>\n",
       "      <td>1</td>\n",
       "      <td>1</td>\n",
       "      <td>0.0</td>\n",
       "      <td>1950.0</td>\n",
       "    </tr>\n",
       "  </tbody>\n",
       "</table>\n",
       "<p>5 rows × 22 columns</p>\n",
       "</div>"
      ],
      "text/plain": [
       "   user_id  month  calls  duration  messages  gb_used  age churn_date  \\\n",
       "0     1000      5   22.0     159.0      22.0      3.0   52        NaT   \n",
       "1     1000      6   43.0     172.0      60.0     23.0   52        NaT   \n",
       "2     1000      7   47.0     340.0      75.0     14.0   52        NaT   \n",
       "3     1000      8   52.0     408.0      81.0     14.0   52        NaT   \n",
       "4     1000      9   58.0     466.0      57.0     15.0   52        NaT   \n",
       "\n",
       "        city first_name  ... tariff messages_included gd_per_month_included  \\\n",
       "0  Краснодар     Рафаил  ...  ultra              1000                  30.0   \n",
       "1  Краснодар     Рафаил  ...  ultra              1000                  30.0   \n",
       "2  Краснодар     Рафаил  ...  ultra              1000                  30.0   \n",
       "3  Краснодар     Рафаил  ...  ultra              1000                  30.0   \n",
       "4  Краснодар     Рафаил  ...  ultra              1000                  30.0   \n",
       "\n",
       "   minutes_included  rub_monthly_fee  rub_per_gb  rub_per_message  \\\n",
       "0              3000             1950         150                1   \n",
       "1              3000             1950         150                1   \n",
       "2              3000             1950         150                1   \n",
       "3              3000             1950         150                1   \n",
       "4              3000             1950         150                1   \n",
       "\n",
       "   rub_per_minute  over_paid  total_paid  \n",
       "0               1        0.0      1950.0  \n",
       "1               1        0.0      1950.0  \n",
       "2               1        0.0      1950.0  \n",
       "3               1        0.0      1950.0  \n",
       "4               1        0.0      1950.0  \n",
       "\n",
       "[5 rows x 22 columns]"
      ]
     },
     "metadata": {},
     "output_type": "display_data"
    }
   ],
   "source": [
    "display(data_users.head())"
   ]
  },
  {
   "cell_type": "markdown",
   "metadata": {},
   "source": [
    "**Вывод**\n",
    "\n",
    "Из 5 разных таблиц получена одна со всеми необходимыми данными, подсчитаны звонки, смс и интернет-траффик для каждого пользователя по месяцам, добавлена колонка с общей выручкой. Таблица готова для статистического анализа и построения графиков."
   ]
  },
  {
   "cell_type": "markdown",
   "metadata": {},
   "source": [
    "## Анализ данных"
   ]
  },
  {
   "cell_type": "markdown",
   "metadata": {},
   "source": [
    "### Анализ поведения клиентов"
   ]
  },
  {
   "cell_type": "markdown",
   "metadata": {},
   "source": [
    "Опишем поведение клиентов каждого тарифа, исходя из выборки: сколько минут разговора, сколько сообщений и какой объём интернет-трафика требуется пользователям в месяц? "
   ]
  },
  {
   "cell_type": "code",
   "execution_count": 24,
   "metadata": {},
   "outputs": [
    {
     "data": {
      "text/html": [
       "<div>\n",
       "<style scoped>\n",
       "    .dataframe tbody tr th:only-of-type {\n",
       "        vertical-align: middle;\n",
       "    }\n",
       "\n",
       "    .dataframe tbody tr th {\n",
       "        vertical-align: top;\n",
       "    }\n",
       "\n",
       "    .dataframe thead th {\n",
       "        text-align: right;\n",
       "    }\n",
       "</style>\n",
       "<table border=\"1\" class=\"dataframe\">\n",
       "  <thead>\n",
       "    <tr style=\"text-align: right;\">\n",
       "      <th></th>\n",
       "      <th>duration</th>\n",
       "      <th>messages</th>\n",
       "      <th>gb_used</th>\n",
       "      <th>total_paid</th>\n",
       "    </tr>\n",
       "  </thead>\n",
       "  <tbody>\n",
       "    <tr>\n",
       "      <th>count</th>\n",
       "      <td>2229.000000</td>\n",
       "      <td>2229.000000</td>\n",
       "      <td>2229.000000</td>\n",
       "      <td>2229.000000</td>\n",
       "    </tr>\n",
       "    <tr>\n",
       "      <th>mean</th>\n",
       "      <td>417.934948</td>\n",
       "      <td>33.384029</td>\n",
       "      <td>16.328847</td>\n",
       "      <td>1165.156572</td>\n",
       "    </tr>\n",
       "    <tr>\n",
       "      <th>std</th>\n",
       "      <td>190.313730</td>\n",
       "      <td>28.227876</td>\n",
       "      <td>5.747061</td>\n",
       "      <td>740.556759</td>\n",
       "    </tr>\n",
       "    <tr>\n",
       "      <th>min</th>\n",
       "      <td>0.000000</td>\n",
       "      <td>0.000000</td>\n",
       "      <td>0.000000</td>\n",
       "      <td>550.000000</td>\n",
       "    </tr>\n",
       "    <tr>\n",
       "      <th>25%</th>\n",
       "      <td>282.000000</td>\n",
       "      <td>10.000000</td>\n",
       "      <td>13.000000</td>\n",
       "      <td>550.000000</td>\n",
       "    </tr>\n",
       "    <tr>\n",
       "      <th>50%</th>\n",
       "      <td>422.000000</td>\n",
       "      <td>28.000000</td>\n",
       "      <td>17.000000</td>\n",
       "      <td>950.000000</td>\n",
       "    </tr>\n",
       "    <tr>\n",
       "      <th>75%</th>\n",
       "      <td>545.000000</td>\n",
       "      <td>51.000000</td>\n",
       "      <td>20.000000</td>\n",
       "      <td>1550.000000</td>\n",
       "    </tr>\n",
       "    <tr>\n",
       "      <th>max</th>\n",
       "      <td>1435.000000</td>\n",
       "      <td>143.000000</td>\n",
       "      <td>38.000000</td>\n",
       "      <td>5249.000000</td>\n",
       "    </tr>\n",
       "  </tbody>\n",
       "</table>\n",
       "</div>"
      ],
      "text/plain": [
       "          duration     messages      gb_used   total_paid\n",
       "count  2229.000000  2229.000000  2229.000000  2229.000000\n",
       "mean    417.934948    33.384029    16.328847  1165.156572\n",
       "std     190.313730    28.227876     5.747061   740.556759\n",
       "min       0.000000     0.000000     0.000000   550.000000\n",
       "25%     282.000000    10.000000    13.000000   550.000000\n",
       "50%     422.000000    28.000000    17.000000   950.000000\n",
       "75%     545.000000    51.000000    20.000000  1550.000000\n",
       "max    1435.000000   143.000000    38.000000  5249.000000"
      ]
     },
     "metadata": {},
     "output_type": "display_data"
    },
    {
     "data": {
      "text/plain": [
       "duration       36219.315784\n",
       "messages         796.812958\n",
       "gb_used           33.028705\n",
       "total_paid    548424.313445\n",
       "dtype: float64"
      ]
     },
     "execution_count": 24,
     "metadata": {},
     "output_type": "execute_result"
    }
   ],
   "source": [
    "data_smart = data_users.query('tariff == \"smart\"').loc[:,[\n",
    "    'duration', 'messages', 'gb_used', 'total_paid']]\n",
    "\n",
    "display(data_smart.describe())\n",
    "data_smart.var()\n",
    "\n",
    "# находим среднее, дисперсию и стандартное отклонение для \"Смарта\""
   ]
  },
  {
   "cell_type": "code",
   "execution_count": 25,
   "metadata": {},
   "outputs": [
    {
     "data": {
      "text/html": [
       "<div>\n",
       "<style scoped>\n",
       "    .dataframe tbody tr th:only-of-type {\n",
       "        vertical-align: middle;\n",
       "    }\n",
       "\n",
       "    .dataframe tbody tr th {\n",
       "        vertical-align: top;\n",
       "    }\n",
       "\n",
       "    .dataframe thead th {\n",
       "        text-align: right;\n",
       "    }\n",
       "</style>\n",
       "<table border=\"1\" class=\"dataframe\">\n",
       "  <thead>\n",
       "    <tr style=\"text-align: right;\">\n",
       "      <th></th>\n",
       "      <th>duration</th>\n",
       "      <th>messages</th>\n",
       "      <th>gb_used</th>\n",
       "      <th>total_paid</th>\n",
       "    </tr>\n",
       "  </thead>\n",
       "  <tbody>\n",
       "    <tr>\n",
       "      <th>count</th>\n",
       "      <td>985.000000</td>\n",
       "      <td>985.000000</td>\n",
       "      <td>985.000000</td>\n",
       "      <td>985.000000</td>\n",
       "    </tr>\n",
       "    <tr>\n",
       "      <th>mean</th>\n",
       "      <td>526.623350</td>\n",
       "      <td>49.363452</td>\n",
       "      <td>19.494416</td>\n",
       "      <td>2070.152284</td>\n",
       "    </tr>\n",
       "    <tr>\n",
       "      <th>std</th>\n",
       "      <td>317.606098</td>\n",
       "      <td>47.804457</td>\n",
       "      <td>9.853511</td>\n",
       "      <td>376.187114</td>\n",
       "    </tr>\n",
       "    <tr>\n",
       "      <th>min</th>\n",
       "      <td>0.000000</td>\n",
       "      <td>0.000000</td>\n",
       "      <td>0.000000</td>\n",
       "      <td>1950.000000</td>\n",
       "    </tr>\n",
       "    <tr>\n",
       "      <th>25%</th>\n",
       "      <td>284.000000</td>\n",
       "      <td>6.000000</td>\n",
       "      <td>12.000000</td>\n",
       "      <td>1950.000000</td>\n",
       "    </tr>\n",
       "    <tr>\n",
       "      <th>50%</th>\n",
       "      <td>518.000000</td>\n",
       "      <td>38.000000</td>\n",
       "      <td>19.000000</td>\n",
       "      <td>1950.000000</td>\n",
       "    </tr>\n",
       "    <tr>\n",
       "      <th>75%</th>\n",
       "      <td>752.000000</td>\n",
       "      <td>79.000000</td>\n",
       "      <td>27.000000</td>\n",
       "      <td>1950.000000</td>\n",
       "    </tr>\n",
       "    <tr>\n",
       "      <th>max</th>\n",
       "      <td>1673.000000</td>\n",
       "      <td>224.000000</td>\n",
       "      <td>49.000000</td>\n",
       "      <td>4800.000000</td>\n",
       "    </tr>\n",
       "  </tbody>\n",
       "</table>\n",
       "</div>"
      ],
      "text/plain": [
       "          duration    messages     gb_used   total_paid\n",
       "count   985.000000  985.000000  985.000000   985.000000\n",
       "mean    526.623350   49.363452   19.494416  2070.152284\n",
       "std     317.606098   47.804457    9.853511   376.187114\n",
       "min       0.000000    0.000000    0.000000  1950.000000\n",
       "25%     284.000000    6.000000   12.000000  1950.000000\n",
       "50%     518.000000   38.000000   19.000000  1950.000000\n",
       "75%     752.000000   79.000000   27.000000  1950.000000\n",
       "max    1673.000000  224.000000   49.000000  4800.000000"
      ]
     },
     "metadata": {},
     "output_type": "display_data"
    },
    {
     "data": {
      "text/plain": [
       "duration      100873.633397\n",
       "messages        2285.266143\n",
       "gb_used           97.091686\n",
       "total_paid    141516.745079\n",
       "dtype: float64"
      ]
     },
     "execution_count": 25,
     "metadata": {},
     "output_type": "execute_result"
    }
   ],
   "source": [
    "data_ultra = data_users.query('tariff == \"ultra\"').loc[:, [\n",
    "    'duration', 'messages', 'gb_used', 'total_paid']]\n",
    "\n",
    "display(data_ultra.describe())\n",
    "data_ultra.var()\n",
    "\n",
    "# находим среднее количество, дисперсию и стандартное отклонение для \"Ультры\""
   ]
  },
  {
   "cell_type": "code",
   "execution_count": 26,
   "metadata": {},
   "outputs": [
    {
     "data": {
      "image/png": "[encoded data removed]",
      "text/plain": [
       "<Figure size 432x288 with 1 Axes>"
      ]
     },
     "metadata": {
      "needs_background": "light"
     },
     "output_type": "display_data"
    }
   ],
   "source": [
    "data_users.query('tariff == \"smart\"')['duration'].plot(kind='hist', grid=True)\n",
    "plt.xlabel('minutes')\n",
    "plt.title('количество минут разговора на \"Смарте\"')\n",
    "plt.show()"
   ]
  },
  {
   "cell_type": "code",
   "execution_count": 27,
   "metadata": {},
   "outputs": [
    {
     "data": {
      "image/png": "[encoded data removed]",
      "text/plain": [
       "<Figure size 432x288 with 1 Axes>"
      ]
     },
     "metadata": {
      "needs_background": "light"
     },
     "output_type": "display_data"
    }
   ],
   "source": [
    "data_users.query('tariff == \"ultra\"')['duration'].plot(kind='hist', grid=True)\n",
    "plt.xlabel('minutes')\n",
    "plt.title('количество минут разговора на \"Ультре\"')\n",
    "plt.show()"
   ]
  },
  {
   "cell_type": "markdown",
   "metadata": {},
   "source": [
    "На Смарте люди в основном тратят весь свой лимит по звонкам - наибольшее количество значений как раз в диапазоне 450-550 минут, на Ультре в среднем разговаривают столько же, примерно 550 минут. Также видно, что есть определенное количество пользователей, которые говорят на Ультре довольно мало и видимо пользуются этим тарифом из-за включенного пакета интернет-траффика, а не количества минут."
   ]
  },
  {
   "cell_type": "code",
   "execution_count": 28,
   "metadata": {},
   "outputs": [
    {
     "data": {
      "image/png": "[encoded data removed]",
      "text/plain": [
       "<Figure size 432x288 with 1 Axes>"
      ]
     },
     "metadata": {
      "needs_background": "light"
     },
     "output_type": "display_data"
    }
   ],
   "source": [
    "data_users.query('tariff == \"smart\"')['messages'].plot(kind='hist', grid=True)\n",
    "plt.xlabel('messages')\n",
    "plt.title('количество отправленных сообщений на \"Смарте\"')\n",
    "plt.show()"
   ]
  },
  {
   "cell_type": "code",
   "execution_count": 29,
   "metadata": {
    "scrolled": true
   },
   "outputs": [
    {
     "data": {
      "image/png": "[encoded data removed]",
      "text/plain": [
       "<Figure size 432x288 with 1 Axes>"
      ]
     },
     "metadata": {
      "needs_background": "light"
     },
     "output_type": "display_data"
    }
   ],
   "source": [
    "data_users.query('tariff == \"ultra\"')['messages'].plot(kind='hist', grid=True)\n",
    "plt.xlabel('messages')\n",
    "plt.title('количество отправленных сообщений на \"Ультре\"')\n",
    "plt.show()"
   ]
  },
  {
   "cell_type": "markdown",
   "metadata": {},
   "source": [
    "Здесь все ожидаемо: смс-сообщения сейчас не в числе популярных способов коммуникации, независимо от тарифа ими пользуются очень мало. "
   ]
  },
  {
   "cell_type": "code",
   "execution_count": 30,
   "metadata": {},
   "outputs": [
    {
     "data": {
      "image/png": "[encoded data removed]",
      "text/plain": [
       "<Figure size 432x288 with 1 Axes>"
      ]
     },
     "metadata": {
      "needs_background": "light"
     },
     "output_type": "display_data"
    }
   ],
   "source": [
    "data_users.query('tariff == \"smart\"')['gb_used'].plot(kind='hist', grid=True)\n",
    "plt.xlabel('gb_used')\n",
    "plt.title('объем интернет-траффика на \"Смарте\"')\n",
    "plt.show()"
   ]
  },
  {
   "cell_type": "code",
   "execution_count": 31,
   "metadata": {
    "scrolled": true
   },
   "outputs": [
    {
     "data": {
      "image/png": "[encoded data removed]",
      "text/plain": [
       "<Figure size 432x288 with 1 Axes>"
      ]
     },
     "metadata": {
      "needs_background": "light"
     },
     "output_type": "display_data"
    }
   ],
   "source": [
    "data_users.query('tariff == \"ultra\"')['gb_used'].plot(kind='hist', grid=True)\n",
    "plt.xlabel('gb_used')\n",
    "plt.title('объем интернет-траффика на \"Ультре\"')\n",
    "plt.show()"
   ]
  },
  {
   "cell_type": "markdown",
   "metadata": {},
   "source": [
    "На Смарте чаще превышают бесплатный лимит в 15 Гб, большому количеству абонентов нужно минимум 20. На Ультре в основном укладываются в пакет тарифа 30 Гб и многие абоненты даже тратят чуть меньше.\n",
    "Пользователям Смарта, кто тратит больше чем 22 Гб трафика, было бы выгоднее перейти на Ультру."
   ]
  },
  {
   "cell_type": "markdown",
   "metadata": {},
   "source": [
    "### Анализ выручки"
   ]
  },
  {
   "cell_type": "code",
   "execution_count": 32,
   "metadata": {},
   "outputs": [
    {
     "data": {
      "image/png": "[encoded data removed]",
      "text/plain": [
       "<Figure size 432x288 with 1 Axes>"
      ]
     },
     "metadata": {
      "needs_background": "light"
     },
     "output_type": "display_data"
    }
   ],
   "source": [
    "data_users.query('tariff == \"smart\"')['total_paid'].plot(\n",
    "    kind='hist', grid=True, range=(500, 1000))\n",
    "\n",
    "plt.xlabel('total_paid')\n",
    "plt.title('выручка на \"Смарте\"')\n",
    "plt.show()"
   ]
  },
  {
   "cell_type": "code",
   "execution_count": 33,
   "metadata": {
    "scrolled": false
   },
   "outputs": [
    {
     "data": {
      "image/png": "[encoded data removed]",
      "text/plain": [
       "<Figure size 432x288 with 1 Axes>"
      ]
     },
     "metadata": {
      "needs_background": "light"
     },
     "output_type": "display_data"
    }
   ],
   "source": [
    "data_users.query('tariff == \"ultra\"')['total_paid'].plot(\n",
    "    kind='hist', grid=True, range=(1900,2500))\n",
    "\n",
    "plt.xlabel('total_paid')\n",
    "plt.title('выручка на \"Ультре\"')\n",
    "plt.show()"
   ]
  },
  {
   "cell_type": "markdown",
   "metadata": {},
   "source": [
    "Основная часть клиентов укладываются в абонентскую плату, на графиках видны пики значений возле 550 для тарифа \"Смарт\" и 1950 для \"Ультра\", однако пользователи тарифа \"Smart\" чаще переплачивают, докупая интнернет-трафик, что логично - ведь в их тарифе включенный пакет Гб меньше. "
   ]
  },
  {
   "cell_type": "code",
   "execution_count": 34,
   "metadata": {
    "scrolled": false
   },
   "outputs": [
    {
     "data": {
      "image/png": "[encoded data removed]",
      "text/plain": [
       "<Figure size 360x360 with 1 Axes>"
      ]
     },
     "metadata": {
      "needs_background": "light"
     },
     "output_type": "display_data"
    }
   ],
   "source": [
    "data_users.groupby('tariff')['tariff'].count().plot(\n",
    "    y='tariff', kind='bar',figsize=(5, 5), grid=True)\n",
    "\n",
    "plt.title('количество пользователей')\n",
    "plt.ylabel('users')\n",
    "plt.show()"
   ]
  },
  {
   "cell_type": "code",
   "execution_count": 35,
   "metadata": {
    "scrolled": false
   },
   "outputs": [
    {
     "data": {
      "image/png": "[encoded data removed]",
      "text/plain": [
       "<Figure size 360x360 with 1 Axes>"
      ]
     },
     "metadata": {
      "needs_background": "light"
     },
     "output_type": "display_data"
    }
   ],
   "source": [
    "data_users.groupby('tariff')['total_paid'].sum().plot(\n",
    "    y='total_paid', kind='bar',figsize=(5, 5), grid=True)\n",
    "\n",
    "plt.title('общая выручка на тарифах')\n",
    "plt.ylabel('total_paid')\n",
    "plt.show()"
   ]
  },
  {
   "cell_type": "markdown",
   "metadata": {},
   "source": [
    "На тарифе Смарт в два раза больше пользователей, чем на Ультре, что закономерно для более дешевого тарифа. Однако доходы не пропорциональны - каждая тысяча пользователей Ультры приносит всего на 20% меньше, чем две тысячи абонентов Смарта"
   ]
  },
  {
   "cell_type": "code",
   "execution_count": 36,
   "metadata": {},
   "outputs": [],
   "source": [
    "def city_group(city):\n",
    "    if city == 'Москва':\n",
    "        return 'Москва'\n",
    "    if city == 'Санкт-Петербург':\n",
    "        return 'Санкт-Петербург'\n",
    "    return 'Регионы'\n",
    "\n",
    "data_users['city_group'] = data_users['city'].apply(city_group)\n",
    "\n",
    "# добавим колонку с категориями городов для сравнения столицы и регионов"
   ]
  },
  {
   "cell_type": "code",
   "execution_count": 37,
   "metadata": {},
   "outputs": [],
   "source": [
    "data_smart = data_users.query('tariff == \"smart\"')\n",
    "\n",
    "data_ultra = data_users.query('tariff == \"ultra\"')\n",
    "\n",
    "# группируем данные по тарифам"
   ]
  },
  {
   "cell_type": "code",
   "execution_count": 44,
   "metadata": {
    "scrolled": true
   },
   "outputs": [
    {
     "data": {
      "image/png": "[encoded data removed]",
      "text/plain": [
       "<Figure size 360x360 with 1 Axes>"
      ]
     },
     "metadata": {},
     "output_type": "display_data"
    }
   ],
   "source": [
    "data_smart.groupby('city_group')['total_paid'].sum().plot(\n",
    "    y='total_paid', kind='pie',figsize=(5, 5), autopct = '%.0f%%')\n",
    "\n",
    "plt.title('выручка для Смарта')\n",
    "plt.show()"
   ]
  },
  {
   "cell_type": "code",
   "execution_count": 46,
   "metadata": {
    "scrolled": true
   },
   "outputs": [
    {
     "data": {
      "image/png": "[encoded data removed]",
      "text/plain": [
       "<Figure size 360x360 with 1 Axes>"
      ]
     },
     "metadata": {},
     "output_type": "display_data"
    }
   ],
   "source": [
    "data_ultra.groupby('city_group')['total_paid'].sum().plot(\n",
    "    y='total_paid', kind='pie',figsize=(5, 5), autopct = '%.0f%%')\n",
    "\n",
    "plt.title('выручка для Ультры')\n",
    "plt.show()"
   ]
  },
  {
   "cell_type": "markdown",
   "metadata": {},
   "source": [
    "А вот здесь действительно интересно - в Москве чаще выбирают тариф Ультра, и денег соответственно он приносит больше. Для Петербурга это неактуально, там предпочитают Смарт, как и в других регионах."
   ]
  },
  {
   "cell_type": "markdown",
   "metadata": {},
   "source": [
    "**Выводы**\n",
    "\n",
    "Большинству пользователей на двух тарифах хватает лимита в 500 минут, при этом на Ультре часто остается неиспользованными около 1000 минут. Никто из выборки абонентов Ультры не использует все 3000 включенных минут разговора, и видимо выбирают более дорогой тариф из-за пакета интернет-траффика. Это может привести к тому, что абоненты начнут задумываться о смене тарифа, а возможно и оператора. В этом случае они могут искать более дешевый тариф, ориентированный на использование мобильного интернета и с меньшим количеством минут. \n",
    "\n",
    "Что касается текстовых сообщений, пакет в 1000 включенных на Ультре также выглядит более чем избыточно, никто не пишет такое количество смс, многим абонентам вполне хватает лимита в 100.\n",
    "На Смарте смс отправляют чуть чаще, возможно это связано с тем, что тариф более дешевый и им пользуются слои населения с более низким доходом и невысокой цифровой грамотностью вроде пенсионеров. Соответственно они меньше пользуются различными мессенджерами и предпочитают более понятные смс-сообщения.  \n",
    "\n",
    "Примерно половине абонентов Смарта не хватает включенного интенета, и они чаще выходят за пределы лимита, докупая гигабайты. Пользователи Ультры в основном укладываются в условия основного пакета.\n",
    "\n",
    "Абонентов Смарта в выборке больше, чем абонентов Ультры, и денег этот тариф поэтому приносит больше, однако если взять равное количество, то Ультра выгоднее для оператора. Несмотря на переплаты за интернет на более дешевом тарифе, более дорогой приносит больше выручки. \n",
    "\n",
    "В регионах более популярен Смарт, а в Москве - Ультра, это следует учесть при разработке рекламных кампаний."
   ]
  },
  {
   "cell_type": "markdown",
   "metadata": {},
   "source": [
    "## Проверка гипотез"
   ]
  },
  {
   "cell_type": "markdown",
   "metadata": {},
   "source": [
    "- Средняя выручка пользователей тарифов «Ультра» и «Смарт» различаются;\n",
    "- Средняя выручка пользователей из Москвы отличается от выручки пользователей из других регионов."
   ]
  },
  {
   "cell_type": "markdown",
   "metadata": {},
   "source": [
    "Так как генеральные совокупности в данном исследовании не зависят друг от друга, нужен метод проверки гипотезы о равенстве среднего двух генеральных совокупностей по взятым из них выборкам.\n",
    "\n",
    "\n",
    "**H0:Средняя выручка пользователей тарифов «Ультра» и «Смарт» равна;**\n",
    "\n",
    "**H1:Средняя выручка пользователей тарифов «Ультра» и «Смарт» не равна;**\n",
    "    "
   ]
  },
  {
   "cell_type": "code",
   "execution_count": 40,
   "metadata": {},
   "outputs": [],
   "source": [
    "smart = data_users.query('tariff == \"smart\"')['total_paid']\n",
    "\n",
    "ultra = data_users.query('tariff == \"ultra\"')['total_paid']"
   ]
  },
  {
   "cell_type": "code",
   "execution_count": 41,
   "metadata": {},
   "outputs": [
    {
     "name": "stdout",
     "output_type": "stream",
     "text": [
      "p-значение: 1.7908299298705238e-242\n",
      "Отвергаем нулевую гипотезу\n"
     ]
    }
   ],
   "source": [
    "alpha = 0.01\n",
    "\n",
    "results = st.ttest_ind(ultra, smart)\n",
    "\n",
    "print('p-значение:', results.pvalue)\n",
    "\n",
    "if results.pvalue < alpha:\n",
    "    print(\"Отвергаем нулевую гипотезу\")\n",
    "else:\n",
    "    print(\"Не получилось отвергнуть нулевую гипотезу\") "
   ]
  },
  {
   "cell_type": "markdown",
   "metadata": {},
   "source": [
    "Итог: выручка пользователей тарифов «Ультра» и «Смарт» действительно различаются."
   ]
  },
  {
   "cell_type": "markdown",
   "metadata": {},
   "source": [
    "**H0:Средняя выручка пользователей из Москвы равна выручке пользователей из других регионов;**\n",
    "\n",
    "**Н1:Средняя выручка пользователей из Москвы не равна выручке пользователей из других регионов;**"
   ]
  },
  {
   "cell_type": "code",
   "execution_count": 42,
   "metadata": {},
   "outputs": [
    {
     "name": "stdout",
     "output_type": "stream",
     "text": [
      "['Краснодар' 'Москва' 'Стерлитамак' 'Новокузнецк' 'Набережные Челны'\n",
      " 'Ульяновск' 'Челябинск' 'Пермь' 'Тюмень' 'Самара' 'Санкт-Петербург'\n",
      " 'Иваново' 'Чебоксары' 'Омск' 'Уфа' 'Томск' 'Чита' 'Мурманск'\n",
      " 'Петрозаводск' 'Тверь' 'Екатеринбург' 'Махачкала' 'Вологда' 'Череповец'\n",
      " 'Ярославль' 'Сочи' 'Хабаровск' 'Ставрополь' 'Рязань' 'Улан-Удэ' 'Тула'\n",
      " 'Саратов' 'Ростов-на-Дону' 'Казань' 'Иркутск' 'Курск' 'Калуга' 'Якутск'\n",
      " 'Астрахань' 'Химки' 'Владикавказ' 'Волгоград' 'Саранск' 'Ижевск'\n",
      " 'Новосибирск' 'Брянск' 'Тольятти' 'Нижний Тагил' 'Орёл' 'Белгород'\n",
      " 'Воронеж' 'Курган' 'Барнаул' 'Красноярск' 'Архангельск' 'Липецк'\n",
      " 'Кемерово' 'Киров' 'Сургут' 'Пенза' 'Волжский' 'Магнитогорск'\n",
      " 'Нижний Новгород' 'Кострома' 'Владивосток' 'Тамбов' 'Балашиха'\n",
      " 'Севастополь' 'Калининград' 'Оренбург' 'Смоленск' 'Нижневартовск'\n",
      " 'Владимир' 'Новороссийск' 'Грозный' 'Подольск']\n"
     ]
    }
   ],
   "source": [
    "print(data_users['city'].unique())\n",
    "\n",
    "moscow = data_users.query('city == \"Москва\"')['total_paid']\n",
    "\n",
    "regions = data_users.query('city != \"Москва\"')['total_paid']"
   ]
  },
  {
   "cell_type": "code",
   "execution_count": 43,
   "metadata": {
    "scrolled": true
   },
   "outputs": [
    {
     "name": "stdout",
     "output_type": "stream",
     "text": [
      "p-значение: 0.2959013162901812\n",
      "Не получилось отвергнуть нулевую гипотезу\n"
     ]
    }
   ],
   "source": [
    "alpha = 0.01\n",
    "\n",
    "results = st.ttest_ind(moscow, regions)\n",
    "\n",
    "print('p-значение:', results.pvalue)\n",
    "\n",
    "if results.pvalue < alpha:\n",
    "    print(\"Отвергаем нулевую гипотезу\")\n",
    "else:\n",
    "    print(\"Не получилось отвергнуть нулевую гипотезу\") "
   ]
  },
  {
   "cell_type": "markdown",
   "metadata": {},
   "source": [
    "Итог: удивительно, но выручка пользователей из Москвы и регионов не отличается."
   ]
  },
  {
   "cell_type": "markdown",
   "metadata": {},
   "source": [
    "## Общие выводы  и рекомендации"
   ]
  },
  {
   "cell_type": "markdown",
   "metadata": {},
   "source": [
    "Выгоднее вкладываться в рекламу тарифа Ультра, он приносит больше денег, привлечение большего количества пользователей даст в итоге больше выручки. Однако можно рассмотреть разный таргетинг на Москву и регионы - в Москве рекламировать Ультру, в регионах можно сделать ставку на Смарт.\n",
    "\n",
    "Но прежде чем рекламировать какой-либо тариф, оператору стоит пересмотреть актуальность предлагаемых условий и привлекательность их для потенциальных абонентов. На Смарте люди чаще переплачивают, на Ультре остаются неизрасходованные излишки, что может привести в итоге к уходу к другому оперетору с более гибкими и выгодными предложениями. К примеру, на Ультре можно было бы переносить остатки на следующий месяц или конвертировать непотраченные минуты в гигабайты и наоборот.\n",
    "\n",
    "Разброс в цене между тарифами слишком велик, поэтому многим психологически комфортнее выбрать более дешевый из двух. Помимо оптимизации существующих тарифов хорошим вариантом может быть запуск нового, который будет включать около 500 минут разговора, не более 100 сообщений и не менее 20 Гб интернета, при этом стоить больше, чем Смарт и значительно меньше, чем Ультра. Такая стратегия может удовлетворить основные нужды большинства абонентов, не заставляя их постоянно переплачивать и при этом не задумываться о смене тарифа вследствие неиспользованного включенного пакета."
   ]
  }
 ],
 "metadata": {
  "ExecuteTimeLog": [
   {
    "duration": 76,
    "start_time": "2022-03-06T18:05:56.531Z"
   },
   {
    "duration": 73,
    "start_time": "2022-03-06T18:06:02.278Z"
   },
   {
    "duration": 1420,
    "start_time": "2022-03-06T18:07:21.142Z"
   },
   {
    "duration": 1694,
    "start_time": "2022-03-06T18:07:40.834Z"
   },
   {
    "duration": 4,
    "start_time": "2022-03-06T18:09:42.062Z"
   },
   {
    "duration": 536,
    "start_time": "2022-03-06T18:09:43.420Z"
   },
   {
    "duration": 25,
    "start_time": "2022-03-06T18:10:57.731Z"
   },
   {
    "duration": 86,
    "start_time": "2022-03-06T18:58:06.747Z"
   },
   {
    "duration": 4,
    "start_time": "2022-03-06T18:58:35.940Z"
   },
   {
    "duration": 536,
    "start_time": "2022-03-06T18:58:35.947Z"
   },
   {
    "duration": 20,
    "start_time": "2022-03-06T18:58:36.485Z"
   },
   {
    "duration": 13,
    "start_time": "2022-03-06T18:58:36.507Z"
   },
   {
    "duration": 50,
    "start_time": "2022-03-06T18:58:36.523Z"
   },
   {
    "duration": 11,
    "start_time": "2022-03-06T18:58:36.576Z"
   },
   {
    "duration": 111,
    "start_time": "2022-03-06T18:58:36.590Z"
   },
   {
    "duration": 95,
    "start_time": "2022-03-06T18:58:36.706Z"
   },
   {
    "duration": 34,
    "start_time": "2022-03-06T18:58:36.805Z"
   },
   {
    "duration": 94,
    "start_time": "2022-03-06T18:58:36.842Z"
   },
   {
    "duration": 39,
    "start_time": "2022-03-06T18:58:36.939Z"
   },
   {
    "duration": 48,
    "start_time": "2022-03-06T18:58:36.981Z"
   },
   {
    "duration": 96,
    "start_time": "2022-03-06T18:58:37.032Z"
   },
   {
    "duration": 58,
    "start_time": "2022-03-06T18:58:37.131Z"
   },
   {
    "duration": 54,
    "start_time": "2022-03-06T18:58:37.191Z"
   },
   {
    "duration": 69,
    "start_time": "2022-03-06T18:58:37.247Z"
   },
   {
    "duration": 105,
    "start_time": "2022-03-06T18:58:37.318Z"
   },
   {
    "duration": 21,
    "start_time": "2022-03-06T18:58:37.426Z"
   },
   {
    "duration": 12,
    "start_time": "2022-03-06T18:58:37.474Z"
   },
   {
    "duration": 12,
    "start_time": "2022-03-06T18:58:37.488Z"
   },
   {
    "duration": 387,
    "start_time": "2022-03-06T18:58:37.503Z"
   },
   {
    "duration": 6,
    "start_time": "2022-03-06T18:58:37.892Z"
   },
   {
    "duration": 33,
    "start_time": "2022-03-06T18:58:37.905Z"
   },
   {
    "duration": 70,
    "start_time": "2022-03-06T18:58:37.942Z"
   },
   {
    "duration": 71,
    "start_time": "2022-03-06T18:58:38.015Z"
   },
   {
    "duration": 349,
    "start_time": "2022-03-06T18:58:38.089Z"
   },
   {
    "duration": 357,
    "start_time": "2022-03-06T18:58:38.441Z"
   },
   {
    "duration": 329,
    "start_time": "2022-03-06T18:58:38.801Z"
   },
   {
    "duration": 325,
    "start_time": "2022-03-06T18:58:39.134Z"
   },
   {
    "duration": 327,
    "start_time": "2022-03-06T18:58:39.462Z"
   },
   {
    "duration": 327,
    "start_time": "2022-03-06T18:58:39.791Z"
   },
   {
    "duration": 342,
    "start_time": "2022-03-06T18:58:40.120Z"
   },
   {
    "duration": 339,
    "start_time": "2022-03-06T18:58:40.464Z"
   },
   {
    "duration": 297,
    "start_time": "2022-03-06T18:58:40.806Z"
   },
   {
    "duration": -103,
    "start_time": "2022-03-06T18:58:41.208Z"
   },
   {
    "duration": -102,
    "start_time": "2022-03-06T18:58:41.209Z"
   },
   {
    "duration": -102,
    "start_time": "2022-03-06T18:58:41.210Z"
   },
   {
    "duration": -102,
    "start_time": "2022-03-06T18:58:41.211Z"
   },
   {
    "duration": 12,
    "start_time": "2022-03-06T18:59:47.358Z"
   },
   {
    "duration": 7,
    "start_time": "2022-03-06T18:59:56.544Z"
   },
   {
    "duration": 16,
    "start_time": "2022-03-06T19:00:05.000Z"
   },
   {
    "duration": 8,
    "start_time": "2022-03-06T19:00:05.943Z"
   },
   {
    "duration": 292,
    "start_time": "2022-03-06T19:01:09.303Z"
   },
   {
    "duration": 397,
    "start_time": "2022-03-06T19:01:33.576Z"
   },
   {
    "duration": 265,
    "start_time": "2022-03-06T19:01:46.413Z"
   },
   {
    "duration": 286,
    "start_time": "2022-03-06T19:02:03.325Z"
   },
   {
    "duration": 249,
    "start_time": "2022-03-06T19:02:37.793Z"
   },
   {
    "duration": 88,
    "start_time": "2022-03-06T19:02:49.225Z"
   },
   {
    "duration": 8,
    "start_time": "2022-03-06T19:02:58.738Z"
   },
   {
    "duration": 12,
    "start_time": "2022-03-06T19:03:24.947Z"
   },
   {
    "duration": 670,
    "start_time": "2022-03-06T19:03:33.116Z"
   },
   {
    "duration": 1194,
    "start_time": "2022-03-06T19:03:57.347Z"
   },
   {
    "duration": 291,
    "start_time": "2022-03-06T22:00:11.226Z"
   },
   {
    "duration": 257,
    "start_time": "2022-03-06T22:00:16.764Z"
   },
   {
    "duration": 250,
    "start_time": "2022-03-06T22:00:19.186Z"
   },
   {
    "duration": 1039,
    "start_time": "2022-03-06T22:00:23.506Z"
   },
   {
    "duration": 448,
    "start_time": "2022-03-06T22:00:24.547Z"
   },
   {
    "duration": 18,
    "start_time": "2022-03-06T22:00:24.997Z"
   },
   {
    "duration": 8,
    "start_time": "2022-03-06T22:00:25.017Z"
   },
   {
    "duration": 16,
    "start_time": "2022-03-06T22:00:25.027Z"
   },
   {
    "duration": 9,
    "start_time": "2022-03-06T22:00:25.045Z"
   },
   {
    "duration": 81,
    "start_time": "2022-03-06T22:00:25.055Z"
   },
   {
    "duration": 72,
    "start_time": "2022-03-06T22:00:25.138Z"
   },
   {
    "duration": 23,
    "start_time": "2022-03-06T22:00:25.213Z"
   },
   {
    "duration": 69,
    "start_time": "2022-03-06T22:00:25.238Z"
   },
   {
    "duration": 20,
    "start_time": "2022-03-06T22:00:25.308Z"
   },
   {
    "duration": 54,
    "start_time": "2022-03-06T22:00:25.330Z"
   },
   {
    "duration": 54,
    "start_time": "2022-03-06T22:00:25.385Z"
   },
   {
    "duration": 45,
    "start_time": "2022-03-06T22:00:25.440Z"
   },
   {
    "duration": 38,
    "start_time": "2022-03-06T22:00:25.487Z"
   },
   {
    "duration": 58,
    "start_time": "2022-03-06T22:00:25.526Z"
   },
   {
    "duration": 47,
    "start_time": "2022-03-06T22:00:25.586Z"
   },
   {
    "duration": 12,
    "start_time": "2022-03-06T22:00:25.635Z"
   },
   {
    "duration": 29,
    "start_time": "2022-03-06T22:00:25.649Z"
   },
   {
    "duration": 6,
    "start_time": "2022-03-06T22:00:25.680Z"
   },
   {
    "duration": 232,
    "start_time": "2022-03-06T22:00:25.687Z"
   },
   {
    "duration": 3,
    "start_time": "2022-03-06T22:00:25.921Z"
   },
   {
    "duration": 26,
    "start_time": "2022-03-06T22:00:25.926Z"
   },
   {
    "duration": 44,
    "start_time": "2022-03-06T22:00:25.953Z"
   },
   {
    "duration": 26,
    "start_time": "2022-03-06T22:00:25.999Z"
   },
   {
    "duration": 238,
    "start_time": "2022-03-06T22:00:26.026Z"
   },
   {
    "duration": 225,
    "start_time": "2022-03-06T22:00:26.276Z"
   },
   {
    "duration": 242,
    "start_time": "2022-03-06T22:00:26.503Z"
   },
   {
    "duration": 228,
    "start_time": "2022-03-06T22:00:26.746Z"
   },
   {
    "duration": 225,
    "start_time": "2022-03-06T22:00:26.976Z"
   },
   {
    "duration": 227,
    "start_time": "2022-03-06T22:00:27.202Z"
   },
   {
    "duration": 234,
    "start_time": "2022-03-06T22:00:27.431Z"
   },
   {
    "duration": 235,
    "start_time": "2022-03-06T22:00:27.667Z"
   },
   {
    "duration": 616,
    "start_time": "2022-03-06T22:00:27.904Z"
   },
   {
    "duration": 509,
    "start_time": "2022-03-06T22:00:28.521Z"
   },
   {
    "duration": 8,
    "start_time": "2022-03-06T22:00:29.031Z"
   },
   {
    "duration": 13,
    "start_time": "2022-03-06T22:00:29.040Z"
   },
   {
    "duration": 27,
    "start_time": "2022-03-06T22:00:29.054Z"
   },
   {
    "duration": 16,
    "start_time": "2022-03-06T22:00:29.083Z"
   },
   {
    "duration": 6596,
    "start_time": "2022-03-06T22:21:43.751Z"
   },
   {
    "duration": 363,
    "start_time": "2022-03-06T22:22:18.570Z"
   },
   {
    "duration": 319,
    "start_time": "2022-03-06T22:22:41.815Z"
   },
   {
    "duration": 9,
    "start_time": "2022-03-06T22:22:59.282Z"
   },
   {
    "duration": 221,
    "start_time": "2022-03-06T22:24:58.340Z"
   },
   {
    "duration": 225,
    "start_time": "2022-03-06T22:30:43.486Z"
   },
   {
    "duration": 223,
    "start_time": "2022-03-06T22:30:50.504Z"
   },
   {
    "duration": 222,
    "start_time": "2022-03-06T22:31:09.531Z"
   },
   {
    "duration": 224,
    "start_time": "2022-03-06T22:31:23.198Z"
   },
   {
    "duration": 302,
    "start_time": "2022-03-06T22:31:46.226Z"
   },
   {
    "duration": 267,
    "start_time": "2022-03-06T22:33:49.956Z"
   },
   {
    "duration": 6418,
    "start_time": "2022-03-06T22:33:54.759Z"
   },
   {
    "duration": 224,
    "start_time": "2022-03-06T22:34:16.291Z"
   },
   {
    "duration": 221,
    "start_time": "2022-03-06T22:34:38.780Z"
   },
   {
    "duration": 227,
    "start_time": "2022-03-06T22:35:00.555Z"
   },
   {
    "duration": 463,
    "start_time": "2022-03-06T22:38:51.987Z"
   },
   {
    "duration": 480,
    "start_time": "2022-03-06T22:39:10.475Z"
   },
   {
    "duration": 464,
    "start_time": "2022-03-06T22:40:16.433Z"
   },
   {
    "duration": 549,
    "start_time": "2022-03-06T22:41:02.865Z"
   },
   {
    "duration": 460,
    "start_time": "2022-03-06T22:42:06.828Z"
   },
   {
    "duration": 449,
    "start_time": "2022-03-06T22:42:26.817Z"
   },
   {
    "duration": 92,
    "start_time": "2022-03-06T22:46:55.815Z"
   },
   {
    "duration": 1082,
    "start_time": "2022-03-06T22:47:03.156Z"
   },
   {
    "duration": 575,
    "start_time": "2022-03-06T22:47:50.140Z"
   },
   {
    "duration": 564,
    "start_time": "2022-03-06T22:48:03.288Z"
   },
   {
    "duration": 464,
    "start_time": "2022-03-06T22:48:48.881Z"
   },
   {
    "duration": 505,
    "start_time": "2022-03-06T22:49:00.547Z"
   },
   {
    "duration": 1334,
    "start_time": "2022-03-06T22:49:18.294Z"
   },
   {
    "duration": 1035,
    "start_time": "2022-03-06T22:49:40.485Z"
   },
   {
    "duration": 560,
    "start_time": "2022-03-06T22:50:19.193Z"
   },
   {
    "duration": 475,
    "start_time": "2022-03-06T22:50:28.626Z"
   },
   {
    "duration": 152,
    "start_time": "2022-03-06T22:50:59.878Z"
   },
   {
    "duration": 157,
    "start_time": "2022-03-06T22:51:23.741Z"
   },
   {
    "duration": 79,
    "start_time": "2022-03-06T22:51:58.860Z"
   },
   {
    "duration": 79,
    "start_time": "2022-03-06T22:52:38.725Z"
   },
   {
    "duration": 4,
    "start_time": "2022-03-06T22:55:54.074Z"
   },
   {
    "duration": 4,
    "start_time": "2022-03-06T22:56:18.826Z"
   },
   {
    "duration": 4,
    "start_time": "2022-03-06T22:57:49.991Z"
   },
   {
    "duration": 4,
    "start_time": "2022-03-06T22:57:59.823Z"
   },
   {
    "duration": 80,
    "start_time": "2022-03-06T22:58:14.007Z"
   },
   {
    "duration": 223,
    "start_time": "2022-03-08T16:18:09.742Z"
   },
   {
    "duration": 1005,
    "start_time": "2022-03-08T16:18:14.772Z"
   },
   {
    "duration": 362,
    "start_time": "2022-03-08T16:18:15.778Z"
   },
   {
    "duration": 17,
    "start_time": "2022-03-08T16:18:16.142Z"
   },
   {
    "duration": 5,
    "start_time": "2022-03-08T16:18:16.161Z"
   },
   {
    "duration": 11,
    "start_time": "2022-03-08T16:18:16.168Z"
   },
   {
    "duration": 5,
    "start_time": "2022-03-08T16:18:16.181Z"
   },
   {
    "duration": 82,
    "start_time": "2022-03-08T16:18:16.188Z"
   },
   {
    "duration": 48,
    "start_time": "2022-03-08T16:18:16.272Z"
   },
   {
    "duration": 23,
    "start_time": "2022-03-08T16:18:16.334Z"
   },
   {
    "duration": 49,
    "start_time": "2022-03-08T16:18:16.359Z"
   },
   {
    "duration": 36,
    "start_time": "2022-03-08T16:18:16.410Z"
   },
   {
    "duration": 30,
    "start_time": "2022-03-08T16:18:16.447Z"
   },
   {
    "duration": 74,
    "start_time": "2022-03-08T16:18:16.479Z"
   },
   {
    "duration": 30,
    "start_time": "2022-03-08T16:18:16.555Z"
   },
   {
    "duration": 51,
    "start_time": "2022-03-08T16:18:16.587Z"
   },
   {
    "duration": 29,
    "start_time": "2022-03-08T16:18:16.639Z"
   },
   {
    "duration": 40,
    "start_time": "2022-03-08T16:18:16.670Z"
   },
   {
    "duration": 32,
    "start_time": "2022-03-08T16:18:16.711Z"
   },
   {
    "duration": 6,
    "start_time": "2022-03-08T16:18:16.744Z"
   },
   {
    "duration": 8,
    "start_time": "2022-03-08T16:18:16.751Z"
   },
   {
    "duration": 212,
    "start_time": "2022-03-08T16:18:16.760Z"
   },
   {
    "duration": 4,
    "start_time": "2022-03-08T16:18:16.973Z"
   },
   {
    "duration": 70,
    "start_time": "2022-03-08T16:18:16.978Z"
   },
   {
    "duration": 24,
    "start_time": "2022-03-08T16:18:17.050Z"
   },
   {
    "duration": 77,
    "start_time": "2022-03-08T16:18:17.075Z"
   },
   {
    "duration": 330,
    "start_time": "2022-03-08T16:18:17.154Z"
   },
   {
    "duration": 196,
    "start_time": "2022-03-08T16:18:17.488Z"
   },
   {
    "duration": 207,
    "start_time": "2022-03-08T16:18:17.686Z"
   },
   {
    "duration": 178,
    "start_time": "2022-03-08T16:18:17.895Z"
   },
   {
    "duration": 192,
    "start_time": "2022-03-08T16:18:18.074Z"
   },
   {
    "duration": 190,
    "start_time": "2022-03-08T16:18:18.268Z"
   },
   {
    "duration": 194,
    "start_time": "2022-03-08T16:18:18.460Z"
   },
   {
    "duration": 190,
    "start_time": "2022-03-08T16:18:18.655Z"
   },
   {
    "duration": 7,
    "start_time": "2022-03-08T16:18:18.847Z"
   },
   {
    "duration": 252,
    "start_time": "2022-03-08T16:18:18.856Z"
   },
   {
    "duration": 399,
    "start_time": "2022-03-08T16:18:19.110Z"
   },
   {
    "duration": 469,
    "start_time": "2022-03-08T16:18:19.511Z"
   },
   {
    "duration": 406,
    "start_time": "2022-03-08T16:18:19.981Z"
   },
   {
    "duration": 79,
    "start_time": "2022-03-08T16:18:20.388Z"
   },
   {
    "duration": 4,
    "start_time": "2022-03-08T16:18:20.469Z"
   },
   {
    "duration": 9,
    "start_time": "2022-03-08T16:18:20.475Z"
   },
   {
    "duration": 5,
    "start_time": "2022-03-08T16:18:20.486Z"
   },
   {
    "duration": 11,
    "start_time": "2022-03-08T16:18:20.492Z"
   },
   {
    "duration": 29,
    "start_time": "2022-03-08T16:18:20.505Z"
   },
   {
    "duration": 25,
    "start_time": "2022-03-08T16:18:36.673Z"
   },
   {
    "duration": 233,
    "start_time": "2022-03-08T16:37:36.472Z"
   },
   {
    "duration": 2,
    "start_time": "2022-03-08T16:38:00.305Z"
   },
   {
    "duration": 377,
    "start_time": "2022-03-08T16:38:00.309Z"
   },
   {
    "duration": 12,
    "start_time": "2022-03-08T16:38:00.688Z"
   },
   {
    "duration": 9,
    "start_time": "2022-03-08T16:38:00.703Z"
   },
   {
    "duration": 28,
    "start_time": "2022-03-08T16:38:00.714Z"
   },
   {
    "duration": 10,
    "start_time": "2022-03-08T16:38:00.743Z"
   },
   {
    "duration": 59,
    "start_time": "2022-03-08T16:38:00.754Z"
   },
   {
    "duration": 60,
    "start_time": "2022-03-08T16:38:00.814Z"
   },
   {
    "duration": 21,
    "start_time": "2022-03-08T16:38:00.877Z"
   },
   {
    "duration": 59,
    "start_time": "2022-03-08T16:38:00.900Z"
   },
   {
    "duration": 18,
    "start_time": "2022-03-08T16:38:00.961Z"
   },
   {
    "duration": 33,
    "start_time": "2022-03-08T16:38:00.980Z"
   },
   {
    "duration": 59,
    "start_time": "2022-03-08T16:38:01.015Z"
   },
   {
    "duration": 29,
    "start_time": "2022-03-08T16:38:01.076Z"
   },
   {
    "duration": 52,
    "start_time": "2022-03-08T16:38:01.107Z"
   },
   {
    "duration": 31,
    "start_time": "2022-03-08T16:38:01.160Z"
   },
   {
    "duration": 71,
    "start_time": "2022-03-08T16:38:01.193Z"
   },
   {
    "duration": 11,
    "start_time": "2022-03-08T16:38:01.266Z"
   },
   {
    "duration": 9,
    "start_time": "2022-03-08T16:38:01.279Z"
   },
   {
    "duration": 7,
    "start_time": "2022-03-08T16:38:01.289Z"
   },
   {
    "duration": 241,
    "start_time": "2022-03-08T16:38:01.297Z"
   },
   {
    "duration": 3,
    "start_time": "2022-03-08T16:38:01.540Z"
   },
   {
    "duration": 36,
    "start_time": "2022-03-08T16:38:01.545Z"
   },
   {
    "duration": 47,
    "start_time": "2022-03-08T16:38:01.583Z"
   },
   {
    "duration": 24,
    "start_time": "2022-03-08T16:38:01.632Z"
   },
   {
    "duration": 194,
    "start_time": "2022-03-08T16:38:01.658Z"
   },
   {
    "duration": 191,
    "start_time": "2022-03-08T16:38:01.855Z"
   },
   {
    "duration": 261,
    "start_time": "2022-03-08T16:38:02.048Z"
   },
   {
    "duration": 180,
    "start_time": "2022-03-08T16:38:02.310Z"
   },
   {
    "duration": 219,
    "start_time": "2022-03-08T16:38:02.492Z"
   },
   {
    "duration": 197,
    "start_time": "2022-03-08T16:38:02.713Z"
   },
   {
    "duration": 186,
    "start_time": "2022-03-08T16:38:02.912Z"
   },
   {
    "duration": 194,
    "start_time": "2022-03-08T16:38:03.099Z"
   },
   {
    "duration": 7,
    "start_time": "2022-03-08T16:38:03.294Z"
   },
   {
    "duration": 251,
    "start_time": "2022-03-08T16:38:03.303Z"
   },
   {
    "duration": 647,
    "start_time": "2022-03-08T16:38:03.555Z"
   },
   {
    "duration": 409,
    "start_time": "2022-03-08T16:38:04.204Z"
   },
   {
    "duration": 85,
    "start_time": "2022-03-08T16:38:04.615Z"
   },
   {
    "duration": 4,
    "start_time": "2022-03-08T16:38:04.702Z"
   },
   {
    "duration": 10,
    "start_time": "2022-03-08T16:38:04.707Z"
   },
   {
    "duration": 5,
    "start_time": "2022-03-08T16:38:04.732Z"
   },
   {
    "duration": 12,
    "start_time": "2022-03-08T16:38:04.738Z"
   },
   {
    "duration": 5,
    "start_time": "2022-03-08T16:38:04.751Z"
   },
   {
    "duration": 212,
    "start_time": "2022-03-08T16:38:23.249Z"
   },
   {
    "duration": 58,
    "start_time": "2022-03-08T16:44:31.458Z"
   },
   {
    "duration": 288,
    "start_time": "2022-03-08T16:44:43.813Z"
   },
   {
    "duration": 214,
    "start_time": "2022-03-08T17:04:38.379Z"
   },
   {
    "duration": 345,
    "start_time": "2022-03-08T17:05:03.962Z"
   },
   {
    "duration": 516,
    "start_time": "2022-03-08T17:12:25.361Z"
   },
   {
    "duration": 529,
    "start_time": "2022-03-08T17:12:41.333Z"
   },
   {
    "duration": 1000,
    "start_time": "2022-03-08T17:13:20.542Z"
   },
   {
    "duration": 584,
    "start_time": "2022-03-08T17:13:35.826Z"
   },
   {
    "duration": 57,
    "start_time": "2022-03-08T17:15:27.790Z"
   },
   {
    "duration": 351,
    "start_time": "2022-03-08T17:15:53.967Z"
   },
   {
    "duration": 347,
    "start_time": "2022-03-08T17:16:56.241Z"
   },
   {
    "duration": 464,
    "start_time": "2022-03-08T17:20:10.388Z"
   },
   {
    "duration": 198,
    "start_time": "2022-03-08T17:21:11.660Z"
   },
   {
    "duration": 49,
    "start_time": "2022-03-08T17:21:55.058Z"
   },
   {
    "duration": 54,
    "start_time": "2022-03-08T17:22:13.770Z"
   },
   {
    "duration": 50,
    "start_time": "2022-03-08T17:22:26.086Z"
   },
   {
    "duration": 50,
    "start_time": "2022-03-08T17:22:33.969Z"
   },
   {
    "duration": 4,
    "start_time": "2022-03-08T17:24:10.685Z"
   },
   {
    "duration": 4,
    "start_time": "2022-03-08T17:26:19.185Z"
   },
   {
    "duration": 52,
    "start_time": "2022-03-08T17:27:33.397Z"
   },
   {
    "duration": 50,
    "start_time": "2022-03-08T17:27:59.034Z"
   },
   {
    "duration": 100,
    "start_time": "2022-03-08T17:28:05.965Z"
   },
   {
    "duration": 104,
    "start_time": "2022-03-08T17:28:20.417Z"
   },
   {
    "duration": 103,
    "start_time": "2022-03-08T17:28:46.998Z"
   },
   {
    "duration": 141,
    "start_time": "2022-03-08T17:28:56.730Z"
   },
   {
    "duration": 138,
    "start_time": "2022-03-08T17:29:23.972Z"
   },
   {
    "duration": 160,
    "start_time": "2022-03-08T17:30:45.170Z"
   },
   {
    "duration": 129,
    "start_time": "2022-03-08T17:30:53.064Z"
   },
   {
    "duration": 123,
    "start_time": "2022-03-08T17:34:35.084Z"
   },
   {
    "duration": 132,
    "start_time": "2022-03-08T17:36:13.202Z"
   },
   {
    "duration": 123,
    "start_time": "2022-03-08T17:36:31.770Z"
   },
   {
    "duration": 120,
    "start_time": "2022-03-08T17:40:35.738Z"
   },
   {
    "duration": 259,
    "start_time": "2022-03-08T17:41:04.152Z"
   },
   {
    "duration": 372,
    "start_time": "2022-03-08T17:41:59.554Z"
   },
   {
    "duration": 319,
    "start_time": "2022-03-08T17:42:12.710Z"
   },
   {
    "duration": 124,
    "start_time": "2022-03-08T17:48:17.091Z"
   },
   {
    "duration": 123,
    "start_time": "2022-03-08T17:49:17.211Z"
   },
   {
    "duration": 132,
    "start_time": "2022-03-08T17:50:15.089Z"
   },
   {
    "duration": 9,
    "start_time": "2022-03-08T17:58:44.275Z"
   },
   {
    "duration": 10,
    "start_time": "2022-03-08T17:59:10.100Z"
   },
   {
    "duration": 7,
    "start_time": "2022-03-08T18:05:46.001Z"
   },
   {
    "duration": 385,
    "start_time": "2022-03-08T18:10:26.769Z"
   },
   {
    "duration": 383,
    "start_time": "2022-03-08T18:10:37.408Z"
   },
   {
    "duration": 369,
    "start_time": "2022-03-08T18:10:48.272Z"
   },
   {
    "duration": 304,
    "start_time": "2022-03-08T18:14:43.572Z"
   },
   {
    "duration": 9,
    "start_time": "2022-03-08T18:30:21.774Z"
   },
   {
    "duration": 7,
    "start_time": "2022-03-08T18:30:30.834Z"
   },
   {
    "duration": 41,
    "start_time": "2022-03-08T18:34:18.914Z"
   },
   {
    "duration": 24,
    "start_time": "2022-03-08T18:34:25.132Z"
   },
   {
    "duration": 28,
    "start_time": "2022-03-08T18:34:39.160Z"
   },
   {
    "duration": 33,
    "start_time": "2022-03-08T18:34:47.152Z"
   },
   {
    "duration": 248,
    "start_time": "2022-03-09T12:10:27.307Z"
   },
   {
    "duration": 1032,
    "start_time": "2022-03-09T12:10:34.881Z"
   },
   {
    "duration": 361,
    "start_time": "2022-03-09T12:10:35.915Z"
   },
   {
    "duration": 17,
    "start_time": "2022-03-09T12:10:36.278Z"
   },
   {
    "duration": 10,
    "start_time": "2022-03-09T12:10:36.297Z"
   },
   {
    "duration": 15,
    "start_time": "2022-03-09T12:10:36.308Z"
   },
   {
    "duration": 9,
    "start_time": "2022-03-09T12:10:36.324Z"
   },
   {
    "duration": 73,
    "start_time": "2022-03-09T12:10:36.334Z"
   },
   {
    "duration": 55,
    "start_time": "2022-03-09T12:10:36.409Z"
   },
   {
    "duration": 22,
    "start_time": "2022-03-09T12:10:36.468Z"
   },
   {
    "duration": 45,
    "start_time": "2022-03-09T12:10:36.492Z"
   },
   {
    "duration": 38,
    "start_time": "2022-03-09T12:10:36.539Z"
   },
   {
    "duration": 28,
    "start_time": "2022-03-09T12:10:36.579Z"
   },
   {
    "duration": 58,
    "start_time": "2022-03-09T12:10:36.609Z"
   },
   {
    "duration": 25,
    "start_time": "2022-03-09T12:10:36.668Z"
   },
   {
    "duration": 30,
    "start_time": "2022-03-09T12:10:36.695Z"
   },
   {
    "duration": 56,
    "start_time": "2022-03-09T12:10:36.727Z"
   },
   {
    "duration": 44,
    "start_time": "2022-03-09T12:10:36.784Z"
   },
   {
    "duration": 34,
    "start_time": "2022-03-09T12:10:36.830Z"
   },
   {
    "duration": 6,
    "start_time": "2022-03-09T12:10:36.866Z"
   },
   {
    "duration": 8,
    "start_time": "2022-03-09T12:10:36.874Z"
   },
   {
    "duration": 218,
    "start_time": "2022-03-09T12:10:36.884Z"
   },
   {
    "duration": 4,
    "start_time": "2022-03-09T12:10:37.104Z"
   },
   {
    "duration": 23,
    "start_time": "2022-03-09T12:10:37.110Z"
   },
   {
    "duration": 42,
    "start_time": "2022-03-09T12:10:37.134Z"
   },
   {
    "duration": 25,
    "start_time": "2022-03-09T12:10:37.177Z"
   },
   {
    "duration": 202,
    "start_time": "2022-03-09T12:10:37.203Z"
   },
   {
    "duration": 196,
    "start_time": "2022-03-09T12:10:37.409Z"
   },
   {
    "duration": 197,
    "start_time": "2022-03-09T12:10:37.607Z"
   },
   {
    "duration": 183,
    "start_time": "2022-03-09T12:10:37.806Z"
   },
   {
    "duration": 207,
    "start_time": "2022-03-09T12:10:37.991Z"
   },
   {
    "duration": 390,
    "start_time": "2022-03-09T12:10:38.199Z"
   },
   {
    "duration": 5,
    "start_time": "2022-03-09T12:10:38.591Z"
   },
   {
    "duration": 249,
    "start_time": "2022-03-09T12:10:38.597Z"
   },
   {
    "duration": 210,
    "start_time": "2022-03-09T12:10:38.848Z"
   },
   {
    "duration": 196,
    "start_time": "2022-03-09T12:10:39.063Z"
   },
   {
    "duration": 147,
    "start_time": "2022-03-09T12:10:39.263Z"
   },
   {
    "duration": 8,
    "start_time": "2022-03-09T12:10:39.411Z"
   },
   {
    "duration": 396,
    "start_time": "2022-03-09T12:10:39.420Z"
   },
   {
    "duration": 338,
    "start_time": "2022-03-09T12:10:39.818Z"
   },
   {
    "duration": 10,
    "start_time": "2022-03-09T12:10:40.157Z"
   },
   {
    "duration": 4,
    "start_time": "2022-03-09T12:10:40.169Z"
   },
   {
    "duration": 9,
    "start_time": "2022-03-09T12:10:40.175Z"
   },
   {
    "duration": 4,
    "start_time": "2022-03-09T12:10:40.186Z"
   },
   {
    "duration": 34,
    "start_time": "2022-03-09T13:01:01.612Z"
   },
   {
    "duration": 31,
    "start_time": "2022-03-09T13:01:16.928Z"
   },
   {
    "duration": 38,
    "start_time": "2022-03-09T13:01:39.666Z"
   },
   {
    "duration": 31,
    "start_time": "2022-03-09T14:21:11.360Z"
   },
   {
    "duration": 30,
    "start_time": "2022-03-09T14:21:49.890Z"
   },
   {
    "duration": 1010,
    "start_time": "2022-03-09T14:23:18.768Z"
   },
   {
    "duration": 233,
    "start_time": "2022-03-09T14:27:00.914Z"
   },
   {
    "duration": 31,
    "start_time": "2022-03-09T14:28:48.230Z"
   },
   {
    "duration": 6,
    "start_time": "2022-03-09T14:29:35.199Z"
   },
   {
    "duration": 9,
    "start_time": "2022-03-09T14:30:18.047Z"
   },
   {
    "duration": 9,
    "start_time": "2022-03-09T14:30:48.061Z"
   },
   {
    "duration": 10,
    "start_time": "2022-03-09T14:55:25.821Z"
   },
   {
    "duration": 11,
    "start_time": "2022-03-09T14:55:46.328Z"
   },
   {
    "duration": 233,
    "start_time": "2022-03-09T14:56:11.099Z"
   },
   {
    "duration": 9,
    "start_time": "2022-03-09T14:56:23.775Z"
   },
   {
    "duration": 169,
    "start_time": "2022-03-09T14:57:09.118Z"
   },
   {
    "duration": 178,
    "start_time": "2022-03-09T14:57:55.587Z"
   },
   {
    "duration": 179,
    "start_time": "2022-03-09T14:58:26.674Z"
   },
   {
    "duration": 144,
    "start_time": "2022-03-09T16:40:21.359Z"
   },
   {
    "duration": 142,
    "start_time": "2022-03-09T16:41:01.584Z"
   },
   {
    "duration": 205,
    "start_time": "2022-03-09T16:41:18.249Z"
   },
   {
    "duration": 134,
    "start_time": "2022-03-09T16:42:23.207Z"
   },
   {
    "duration": 189,
    "start_time": "2022-03-09T16:42:39.027Z"
   },
   {
    "duration": 131,
    "start_time": "2022-03-09T16:42:51.016Z"
   },
   {
    "duration": 128,
    "start_time": "2022-03-09T16:43:09.898Z"
   },
   {
    "duration": 132,
    "start_time": "2022-03-09T16:43:24.531Z"
   },
   {
    "duration": 237,
    "start_time": "2022-03-09T16:43:58.097Z"
   },
   {
    "duration": 133,
    "start_time": "2022-03-09T16:44:25.416Z"
   },
   {
    "duration": 132,
    "start_time": "2022-03-09T16:44:39.487Z"
   },
   {
    "duration": 78,
    "start_time": "2022-03-09T16:45:01.798Z"
   },
   {
    "duration": 131,
    "start_time": "2022-03-09T16:45:06.004Z"
   },
   {
    "duration": 126,
    "start_time": "2022-03-09T16:45:58.485Z"
   },
   {
    "duration": 203,
    "start_time": "2022-03-09T16:46:13.770Z"
   },
   {
    "duration": 124,
    "start_time": "2022-03-09T16:46:46.608Z"
   },
   {
    "duration": 3,
    "start_time": "2022-03-09T17:07:38.475Z"
   },
   {
    "duration": 383,
    "start_time": "2022-03-09T17:07:38.480Z"
   },
   {
    "duration": 13,
    "start_time": "2022-03-09T17:07:38.865Z"
   },
   {
    "duration": 8,
    "start_time": "2022-03-09T17:07:38.879Z"
   },
   {
    "duration": 14,
    "start_time": "2022-03-09T17:07:38.890Z"
   },
   {
    "duration": 4,
    "start_time": "2022-03-09T17:07:38.905Z"
   },
   {
    "duration": 85,
    "start_time": "2022-03-09T17:07:38.911Z"
   },
   {
    "duration": 65,
    "start_time": "2022-03-09T17:07:38.998Z"
   },
   {
    "duration": 24,
    "start_time": "2022-03-09T17:07:39.067Z"
   },
   {
    "duration": 44,
    "start_time": "2022-03-09T17:07:39.094Z"
   },
   {
    "duration": 39,
    "start_time": "2022-03-09T17:07:39.139Z"
   },
   {
    "duration": 33,
    "start_time": "2022-03-09T17:07:39.180Z"
   },
   {
    "duration": 69,
    "start_time": "2022-03-09T17:07:39.215Z"
   },
   {
    "duration": 30,
    "start_time": "2022-03-09T17:07:39.286Z"
   },
   {
    "duration": 50,
    "start_time": "2022-03-09T17:07:39.317Z"
   },
   {
    "duration": 36,
    "start_time": "2022-03-09T17:07:39.369Z"
   },
   {
    "duration": 66,
    "start_time": "2022-03-09T17:07:39.407Z"
   },
   {
    "duration": 12,
    "start_time": "2022-03-09T17:07:39.475Z"
   },
   {
    "duration": 7,
    "start_time": "2022-03-09T17:07:39.488Z"
   },
   {
    "duration": 9,
    "start_time": "2022-03-09T17:07:39.496Z"
   },
   {
    "duration": 316,
    "start_time": "2022-03-09T17:07:39.507Z"
   },
   {
    "duration": 4,
    "start_time": "2022-03-09T17:07:39.826Z"
   },
   {
    "duration": 41,
    "start_time": "2022-03-09T17:07:39.832Z"
   },
   {
    "duration": 38,
    "start_time": "2022-03-09T17:07:39.875Z"
   },
   {
    "duration": 52,
    "start_time": "2022-03-09T17:07:39.915Z"
   },
   {
    "duration": 209,
    "start_time": "2022-03-09T17:07:39.969Z"
   },
   {
    "duration": 212,
    "start_time": "2022-03-09T17:07:40.182Z"
   },
   {
    "duration": 208,
    "start_time": "2022-03-09T17:07:40.396Z"
   },
   {
    "duration": 333,
    "start_time": "2022-03-09T17:07:40.606Z"
   },
   {
    "duration": 213,
    "start_time": "2022-03-09T17:07:40.941Z"
   },
   {
    "duration": 200,
    "start_time": "2022-03-09T17:07:41.156Z"
   },
   {
    "duration": 195,
    "start_time": "2022-03-09T17:07:41.358Z"
   },
   {
    "duration": 197,
    "start_time": "2022-03-09T17:07:41.555Z"
   },
   {
    "duration": 142,
    "start_time": "2022-03-09T17:07:41.754Z"
   },
   {
    "duration": 139,
    "start_time": "2022-03-09T17:07:41.897Z"
   },
   {
    "duration": 9,
    "start_time": "2022-03-09T17:07:42.037Z"
   },
   {
    "duration": 425,
    "start_time": "2022-03-09T17:07:42.048Z"
   },
   {
    "duration": 329,
    "start_time": "2022-03-09T17:07:42.475Z"
   },
   {
    "duration": 7,
    "start_time": "2022-03-09T17:07:42.806Z"
   },
   {
    "duration": 5,
    "start_time": "2022-03-09T17:07:42.815Z"
   },
   {
    "duration": 9,
    "start_time": "2022-03-09T17:07:42.821Z"
   },
   {
    "duration": 5,
    "start_time": "2022-03-09T17:07:42.831Z"
   },
   {
    "duration": 4,
    "start_time": "2022-03-09T17:14:23.470Z"
   },
   {
    "duration": 361,
    "start_time": "2022-03-09T17:14:23.476Z"
   },
   {
    "duration": 14,
    "start_time": "2022-03-09T17:14:23.839Z"
   },
   {
    "duration": 7,
    "start_time": "2022-03-09T17:14:23.863Z"
   },
   {
    "duration": 16,
    "start_time": "2022-03-09T17:14:23.871Z"
   },
   {
    "duration": 6,
    "start_time": "2022-03-09T17:14:23.889Z"
   },
   {
    "duration": 81,
    "start_time": "2022-03-09T17:14:23.897Z"
   },
   {
    "duration": 65,
    "start_time": "2022-03-09T17:14:23.980Z"
   },
   {
    "duration": 47,
    "start_time": "2022-03-09T17:14:24.049Z"
   },
   {
    "duration": 40,
    "start_time": "2022-03-09T17:14:24.099Z"
   },
   {
    "duration": 40,
    "start_time": "2022-03-09T17:14:24.141Z"
   },
   {
    "duration": 30,
    "start_time": "2022-03-09T17:14:24.183Z"
   },
   {
    "duration": 69,
    "start_time": "2022-03-09T17:14:24.215Z"
   },
   {
    "duration": 27,
    "start_time": "2022-03-09T17:14:24.285Z"
   },
   {
    "duration": 32,
    "start_time": "2022-03-09T17:14:24.314Z"
   },
   {
    "duration": 46,
    "start_time": "2022-03-09T17:14:24.348Z"
   },
   {
    "duration": 45,
    "start_time": "2022-03-09T17:14:24.396Z"
   },
   {
    "duration": 13,
    "start_time": "2022-03-09T17:14:24.463Z"
   },
   {
    "duration": 7,
    "start_time": "2022-03-09T17:14:24.478Z"
   },
   {
    "duration": 7,
    "start_time": "2022-03-09T17:14:24.486Z"
   },
   {
    "duration": 230,
    "start_time": "2022-03-09T17:14:24.495Z"
   },
   {
    "duration": 4,
    "start_time": "2022-03-09T17:14:24.727Z"
   },
   {
    "duration": 35,
    "start_time": "2022-03-09T17:14:24.734Z"
   },
   {
    "duration": 28,
    "start_time": "2022-03-09T17:14:24.771Z"
   },
   {
    "duration": 29,
    "start_time": "2022-03-09T17:14:24.801Z"
   },
   {
    "duration": 232,
    "start_time": "2022-03-09T17:14:24.832Z"
   },
   {
    "duration": 207,
    "start_time": "2022-03-09T17:14:25.068Z"
   },
   {
    "duration": 298,
    "start_time": "2022-03-09T17:14:25.277Z"
   },
   {
    "duration": 181,
    "start_time": "2022-03-09T17:14:25.577Z"
   },
   {
    "duration": 189,
    "start_time": "2022-03-09T17:14:25.760Z"
   },
   {
    "duration": 199,
    "start_time": "2022-03-09T17:14:25.950Z"
   },
   {
    "duration": 202,
    "start_time": "2022-03-09T17:14:26.150Z"
   },
   {
    "duration": 212,
    "start_time": "2022-03-09T17:14:26.353Z"
   },
   {
    "duration": 148,
    "start_time": "2022-03-09T17:14:26.566Z"
   },
   {
    "duration": 142,
    "start_time": "2022-03-09T17:14:26.716Z"
   },
   {
    "duration": 8,
    "start_time": "2022-03-09T17:14:26.862Z"
   },
   {
    "duration": 386,
    "start_time": "2022-03-09T17:14:26.871Z"
   },
   {
    "duration": 339,
    "start_time": "2022-03-09T17:14:27.262Z"
   },
   {
    "duration": 10,
    "start_time": "2022-03-09T17:14:27.603Z"
   },
   {
    "duration": 6,
    "start_time": "2022-03-09T17:14:27.615Z"
   },
   {
    "duration": 9,
    "start_time": "2022-03-09T17:14:27.623Z"
   },
   {
    "duration": 31,
    "start_time": "2022-03-09T17:14:27.634Z"
   },
   {
    "duration": 1173,
    "start_time": "2022-03-09T17:16:08.650Z"
   },
   {
    "duration": 371,
    "start_time": "2022-03-09T17:16:09.825Z"
   },
   {
    "duration": 16,
    "start_time": "2022-03-09T17:16:10.198Z"
   },
   {
    "duration": 12,
    "start_time": "2022-03-09T17:16:10.216Z"
   },
   {
    "duration": 17,
    "start_time": "2022-03-09T17:16:10.229Z"
   },
   {
    "duration": 20,
    "start_time": "2022-03-09T17:16:10.247Z"
   },
   {
    "duration": 51,
    "start_time": "2022-03-09T17:16:10.268Z"
   },
   {
    "duration": 65,
    "start_time": "2022-03-09T17:16:10.321Z"
   },
   {
    "duration": 24,
    "start_time": "2022-03-09T17:16:10.389Z"
   },
   {
    "duration": 60,
    "start_time": "2022-03-09T17:16:10.415Z"
   },
   {
    "duration": 19,
    "start_time": "2022-03-09T17:16:10.477Z"
   },
   {
    "duration": 29,
    "start_time": "2022-03-09T17:16:10.497Z"
   },
   {
    "duration": 65,
    "start_time": "2022-03-09T17:16:10.528Z"
   },
   {
    "duration": 26,
    "start_time": "2022-03-09T17:16:10.595Z"
   },
   {
    "duration": 43,
    "start_time": "2022-03-09T17:16:10.623Z"
   },
   {
    "duration": 32,
    "start_time": "2022-03-09T17:16:10.668Z"
   },
   {
    "duration": 62,
    "start_time": "2022-03-09T17:16:10.702Z"
   },
   {
    "duration": 12,
    "start_time": "2022-03-09T17:16:10.766Z"
   },
   {
    "duration": 6,
    "start_time": "2022-03-09T17:16:10.780Z"
   },
   {
    "duration": 7,
    "start_time": "2022-03-09T17:16:10.787Z"
   },
   {
    "duration": 223,
    "start_time": "2022-03-09T17:16:10.795Z"
   },
   {
    "duration": 3,
    "start_time": "2022-03-09T17:16:11.020Z"
   },
   {
    "duration": 25,
    "start_time": "2022-03-09T17:16:11.025Z"
   },
   {
    "duration": 27,
    "start_time": "2022-03-09T17:16:11.062Z"
   },
   {
    "duration": 24,
    "start_time": "2022-03-09T17:16:11.090Z"
   },
   {
    "duration": 210,
    "start_time": "2022-03-09T17:16:11.115Z"
   },
   {
    "duration": 190,
    "start_time": "2022-03-09T17:16:11.328Z"
   },
   {
    "duration": 190,
    "start_time": "2022-03-09T17:16:11.520Z"
   },
   {
    "duration": 181,
    "start_time": "2022-03-09T17:16:11.711Z"
   },
   {
    "duration": 189,
    "start_time": "2022-03-09T17:16:11.894Z"
   },
   {
    "duration": 192,
    "start_time": "2022-03-09T17:16:12.085Z"
   },
   {
    "duration": 185,
    "start_time": "2022-03-09T17:16:12.278Z"
   },
   {
    "duration": 186,
    "start_time": "2022-03-09T17:16:12.464Z"
   },
   {
    "duration": 193,
    "start_time": "2022-03-09T17:16:12.652Z"
   },
   {
    "duration": 137,
    "start_time": "2022-03-09T17:16:12.847Z"
   },
   {
    "duration": 8,
    "start_time": "2022-03-09T17:16:12.986Z"
   },
   {
    "duration": 394,
    "start_time": "2022-03-09T17:16:12.995Z"
   },
   {
    "duration": 332,
    "start_time": "2022-03-09T17:16:13.391Z"
   },
   {
    "duration": 8,
    "start_time": "2022-03-09T17:16:13.725Z"
   },
   {
    "duration": 6,
    "start_time": "2022-03-09T17:16:13.734Z"
   },
   {
    "duration": 24,
    "start_time": "2022-03-09T17:16:13.742Z"
   },
   {
    "duration": 4,
    "start_time": "2022-03-09T17:16:13.768Z"
   },
   {
    "duration": 1626,
    "start_time": "2022-03-18T05:55:53.106Z"
   },
   {
    "duration": 581,
    "start_time": "2022-03-18T05:55:54.735Z"
   },
   {
    "duration": 40,
    "start_time": "2022-03-18T05:55:55.318Z"
   },
   {
    "duration": 9,
    "start_time": "2022-03-18T05:55:55.362Z"
   },
   {
    "duration": 25,
    "start_time": "2022-03-18T05:55:55.374Z"
   },
   {
    "duration": 42,
    "start_time": "2022-03-18T05:55:55.402Z"
   },
   {
    "duration": 100,
    "start_time": "2022-03-18T05:55:55.446Z"
   },
   {
    "duration": 72,
    "start_time": "2022-03-18T05:55:55.548Z"
   },
   {
    "duration": 52,
    "start_time": "2022-03-18T05:55:55.622Z"
   },
   {
    "duration": 88,
    "start_time": "2022-03-18T05:55:55.678Z"
   },
   {
    "duration": 32,
    "start_time": "2022-03-18T05:55:55.769Z"
   },
   {
    "duration": 48,
    "start_time": "2022-03-18T05:55:55.803Z"
   },
   {
    "duration": 104,
    "start_time": "2022-03-18T05:55:55.853Z"
   },
   {
    "duration": 86,
    "start_time": "2022-03-18T05:55:55.959Z"
   },
   {
    "duration": 99,
    "start_time": "2022-03-18T05:55:56.047Z"
   },
   {
    "duration": 108,
    "start_time": "2022-03-18T05:55:56.149Z"
   },
   {
    "duration": 122,
    "start_time": "2022-03-18T05:55:56.260Z"
   },
   {
    "duration": 27,
    "start_time": "2022-03-18T05:55:56.384Z"
   },
   {
    "duration": 30,
    "start_time": "2022-03-18T05:55:56.413Z"
   },
   {
    "duration": 10,
    "start_time": "2022-03-18T05:55:56.445Z"
   },
   {
    "duration": 199,
    "start_time": "2022-03-18T05:55:56.458Z"
   },
   {
    "duration": 5,
    "start_time": "2022-03-18T05:55:56.660Z"
   },
   {
    "duration": 42,
    "start_time": "2022-03-18T05:55:56.667Z"
   },
   {
    "duration": 38,
    "start_time": "2022-03-18T05:55:56.743Z"
   },
   {
    "duration": 91,
    "start_time": "2022-03-18T05:55:56.783Z"
   },
   {
    "duration": 496,
    "start_time": "2022-03-18T05:55:56.877Z"
   },
   {
    "duration": 476,
    "start_time": "2022-03-18T05:55:57.376Z"
   },
   {
    "duration": 431,
    "start_time": "2022-03-18T05:55:57.857Z"
   },
   {
    "duration": 409,
    "start_time": "2022-03-18T05:55:58.344Z"
   },
   {
    "duration": 417,
    "start_time": "2022-03-18T05:55:58.756Z"
   },
   {
    "duration": 480,
    "start_time": "2022-03-18T05:55:59.175Z"
   },
   {
    "duration": 484,
    "start_time": "2022-03-18T05:55:59.658Z"
   },
   {
    "duration": 499,
    "start_time": "2022-03-18T05:56:00.144Z"
   },
   {
    "duration": 315,
    "start_time": "2022-03-18T05:56:00.645Z"
   },
   {
    "duration": 508,
    "start_time": "2022-03-18T05:56:00.962Z"
   },
   {
    "duration": 12,
    "start_time": "2022-03-18T05:56:01.473Z"
   },
   {
    "duration": 1733,
    "start_time": "2022-03-18T05:56:01.543Z"
   },
   {
    "duration": 980,
    "start_time": "2022-03-18T05:56:03.278Z"
   },
   {
    "duration": 13,
    "start_time": "2022-03-18T05:56:04.260Z"
   },
   {
    "duration": 31,
    "start_time": "2022-03-18T05:56:04.275Z"
   },
   {
    "duration": 15,
    "start_time": "2022-03-18T05:56:04.308Z"
   },
   {
    "duration": 7,
    "start_time": "2022-03-18T05:56:04.325Z"
   },
   {
    "duration": 1366,
    "start_time": "2022-03-18T07:53:54.620Z"
   },
   {
    "duration": 577,
    "start_time": "2022-03-18T07:53:55.989Z"
   },
   {
    "duration": 33,
    "start_time": "2022-03-18T07:53:56.568Z"
   },
   {
    "duration": 9,
    "start_time": "2022-03-18T07:53:56.603Z"
   },
   {
    "duration": 50,
    "start_time": "2022-03-18T07:53:56.614Z"
   },
   {
    "duration": 12,
    "start_time": "2022-03-18T07:53:56.666Z"
   },
   {
    "duration": 109,
    "start_time": "2022-03-18T07:53:56.681Z"
   },
   {
    "duration": 96,
    "start_time": "2022-03-18T07:53:56.792Z"
   },
   {
    "duration": 53,
    "start_time": "2022-03-18T07:53:56.890Z"
   },
   {
    "duration": 66,
    "start_time": "2022-03-18T07:53:56.947Z"
   },
   {
    "duration": 53,
    "start_time": "2022-03-18T07:53:57.015Z"
   },
   {
    "duration": 46,
    "start_time": "2022-03-18T07:53:57.070Z"
   },
   {
    "duration": 77,
    "start_time": "2022-03-18T07:53:57.119Z"
   },
   {
    "duration": 53,
    "start_time": "2022-03-18T07:53:57.199Z"
   },
   {
    "duration": 47,
    "start_time": "2022-03-18T07:53:57.255Z"
   },
   {
    "duration": 75,
    "start_time": "2022-03-18T07:53:57.304Z"
   },
   {
    "duration": 95,
    "start_time": "2022-03-18T07:53:57.381Z"
   },
   {
    "duration": 28,
    "start_time": "2022-03-18T07:53:57.478Z"
   },
   {
    "duration": 39,
    "start_time": "2022-03-18T07:53:57.508Z"
   },
   {
    "duration": 9,
    "start_time": "2022-03-18T07:53:57.550Z"
   },
   {
    "duration": 226,
    "start_time": "2022-03-18T07:53:57.561Z"
   },
   {
    "duration": 6,
    "start_time": "2022-03-18T07:53:57.789Z"
   },
   {
    "duration": 49,
    "start_time": "2022-03-18T07:53:57.797Z"
   },
   {
    "duration": 41,
    "start_time": "2022-03-18T07:53:57.849Z"
   },
   {
    "duration": 78,
    "start_time": "2022-03-18T07:53:57.892Z"
   },
   {
    "duration": 262,
    "start_time": "2022-03-18T07:53:57.972Z"
   },
   {
    "duration": 268,
    "start_time": "2022-03-18T07:53:58.236Z"
   },
   {
    "duration": 267,
    "start_time": "2022-03-18T07:53:58.510Z"
   },
   {
    "duration": 242,
    "start_time": "2022-03-18T07:53:58.780Z"
   },
   {
    "duration": 239,
    "start_time": "2022-03-18T07:53:59.025Z"
   },
   {
    "duration": 245,
    "start_time": "2022-03-18T07:53:59.266Z"
   },
   {
    "duration": 255,
    "start_time": "2022-03-18T07:53:59.513Z"
   },
   {
    "duration": 267,
    "start_time": "2022-03-18T07:53:59.771Z"
   },
   {
    "duration": 192,
    "start_time": "2022-03-18T07:54:00.042Z"
   },
   {
    "duration": 271,
    "start_time": "2022-03-18T07:54:00.242Z"
   },
   {
    "duration": 12,
    "start_time": "2022-03-18T07:54:00.515Z"
   },
   {
    "duration": 1174,
    "start_time": "2022-03-18T07:54:00.543Z"
   },
   {
    "duration": 926,
    "start_time": "2022-03-18T07:54:01.720Z"
   },
   {
    "duration": 13,
    "start_time": "2022-03-18T07:54:02.648Z"
   },
   {
    "duration": 12,
    "start_time": "2022-03-18T07:54:02.664Z"
   },
   {
    "duration": 18,
    "start_time": "2022-03-18T07:54:02.678Z"
   },
   {
    "duration": 7,
    "start_time": "2022-03-18T07:54:02.698Z"
   },
   {
    "duration": 27,
    "start_time": "2022-03-18T09:07:58.308Z"
   },
   {
    "duration": 68,
    "start_time": "2022-03-21T08:47:33.520Z"
   },
   {
    "duration": 1503,
    "start_time": "2022-03-21T08:47:39.517Z"
   },
   {
    "duration": 576,
    "start_time": "2022-03-21T08:47:41.023Z"
   },
   {
    "duration": 34,
    "start_time": "2022-03-21T08:47:41.601Z"
   },
   {
    "duration": 30,
    "start_time": "2022-03-21T08:47:41.638Z"
   },
   {
    "duration": 25,
    "start_time": "2022-03-21T08:47:41.672Z"
   },
   {
    "duration": 7,
    "start_time": "2022-03-21T08:47:41.699Z"
   },
   {
    "duration": 116,
    "start_time": "2022-03-21T08:47:41.708Z"
   },
   {
    "duration": 92,
    "start_time": "2022-03-21T08:47:41.826Z"
   },
   {
    "duration": 53,
    "start_time": "2022-03-21T08:47:41.921Z"
   },
   {
    "duration": 64,
    "start_time": "2022-03-21T08:47:41.977Z"
   },
   {
    "duration": 45,
    "start_time": "2022-03-21T08:47:42.043Z"
   },
   {
    "duration": 45,
    "start_time": "2022-03-21T08:47:42.090Z"
   },
   {
    "duration": 86,
    "start_time": "2022-03-21T08:47:42.138Z"
   },
   {
    "duration": 53,
    "start_time": "2022-03-21T08:47:42.230Z"
   },
   {
    "duration": 46,
    "start_time": "2022-03-21T08:47:42.285Z"
   },
   {
    "duration": 77,
    "start_time": "2022-03-21T08:47:42.333Z"
   },
   {
    "duration": 166,
    "start_time": "2022-03-21T08:47:42.412Z"
   },
   {
    "duration": 29,
    "start_time": "2022-03-21T08:47:42.580Z"
   },
   {
    "duration": 62,
    "start_time": "2022-03-21T08:47:42.612Z"
   },
   {
    "duration": 9,
    "start_time": "2022-03-21T08:47:42.677Z"
   },
   {
    "duration": 325,
    "start_time": "2022-03-21T08:47:42.688Z"
   },
   {
    "duration": 5,
    "start_time": "2022-03-21T08:47:43.068Z"
   },
   {
    "duration": 34,
    "start_time": "2022-03-21T08:47:43.075Z"
   },
   {
    "duration": 93,
    "start_time": "2022-03-21T08:47:43.111Z"
   },
   {
    "duration": 95,
    "start_time": "2022-03-21T08:47:43.206Z"
   },
   {
    "duration": 801,
    "start_time": "2022-03-21T08:47:43.303Z"
   },
   {
    "duration": 791,
    "start_time": "2022-03-21T08:47:44.107Z"
   },
   {
    "duration": 713,
    "start_time": "2022-03-21T08:47:44.900Z"
   },
   {
    "duration": 484,
    "start_time": "2022-03-21T08:47:45.615Z"
   },
   {
    "duration": 309,
    "start_time": "2022-03-21T08:47:46.102Z"
   },
   {
    "duration": 242,
    "start_time": "2022-03-21T08:47:46.413Z"
   },
   {
    "duration": 284,
    "start_time": "2022-03-21T08:47:46.657Z"
   },
   {
    "duration": 350,
    "start_time": "2022-03-21T08:47:46.943Z"
   },
   {
    "duration": 181,
    "start_time": "2022-03-21T08:47:47.296Z"
   },
   {
    "duration": 248,
    "start_time": "2022-03-21T08:47:47.480Z"
   },
   {
    "duration": 11,
    "start_time": "2022-03-21T08:47:47.731Z"
   },
   {
    "duration": 1104,
    "start_time": "2022-03-21T08:47:47.744Z"
   },
   {
    "duration": 854,
    "start_time": "2022-03-21T08:47:48.851Z"
   },
   {
    "duration": 13,
    "start_time": "2022-03-21T08:47:49.707Z"
   },
   {
    "duration": 25,
    "start_time": "2022-03-21T08:47:49.722Z"
   },
   {
    "duration": 26,
    "start_time": "2022-03-21T08:47:49.752Z"
   },
   {
    "duration": 6,
    "start_time": "2022-03-21T08:47:49.781Z"
   },
   {
    "duration": 237,
    "start_time": "2022-03-21T08:52:15.145Z"
   },
   {
    "duration": 233,
    "start_time": "2022-03-21T08:58:07.591Z"
   },
   {
    "duration": 237,
    "start_time": "2022-03-21T08:59:34.600Z"
   },
   {
    "duration": 244,
    "start_time": "2022-03-21T09:04:15.791Z"
   },
   {
    "duration": 240,
    "start_time": "2022-03-21T09:05:12.310Z"
   },
   {
    "duration": 260,
    "start_time": "2022-03-21T09:05:52.822Z"
   },
   {
    "duration": 320,
    "start_time": "2022-03-21T09:08:22.408Z"
   },
   {
    "duration": 237,
    "start_time": "2022-03-21T09:08:44.294Z"
   },
   {
    "duration": 7,
    "start_time": "2022-03-21T13:29:09.491Z"
   },
   {
    "duration": 35,
    "start_time": "2022-03-21T13:29:36.683Z"
   },
   {
    "duration": 92,
    "start_time": "2022-03-21T13:30:22.592Z"
   },
   {
    "duration": 7,
    "start_time": "2022-03-21T13:30:30.931Z"
   },
   {
    "duration": 17,
    "start_time": "2022-03-21T13:30:31.522Z"
   },
   {
    "duration": 137,
    "start_time": "2022-03-21T13:30:33.689Z"
   },
   {
    "duration": 186,
    "start_time": "2022-03-21T13:30:44.887Z"
   },
   {
    "duration": 246,
    "start_time": "2022-03-21T13:51:10.787Z"
   },
   {
    "duration": 413,
    "start_time": "2022-03-21T13:51:54.354Z"
   },
   {
    "duration": 223,
    "start_time": "2022-03-21T13:52:37.458Z"
   },
   {
    "duration": 186,
    "start_time": "2022-03-21T13:53:36.911Z"
   },
   {
    "duration": 180,
    "start_time": "2022-03-21T13:54:39.383Z"
   },
   {
    "duration": 204,
    "start_time": "2022-03-21T13:55:21.557Z"
   },
   {
    "duration": 186,
    "start_time": "2022-03-21T13:55:28.247Z"
   },
   {
    "duration": 6,
    "start_time": "2022-03-21T13:56:13.429Z"
   },
   {
    "duration": 16,
    "start_time": "2022-03-21T13:56:16.172Z"
   },
   {
    "duration": 203,
    "start_time": "2022-03-21T13:56:49.767Z"
   },
   {
    "duration": 136,
    "start_time": "2022-03-21T13:57:37.439Z"
   },
   {
    "duration": 139,
    "start_time": "2022-03-21T13:58:17.918Z"
   },
   {
    "duration": 197,
    "start_time": "2022-03-21T14:05:29.431Z"
   },
   {
    "duration": 1431,
    "start_time": "2022-03-21T14:08:02.047Z"
   },
   {
    "duration": 634,
    "start_time": "2022-03-21T14:08:03.481Z"
   },
   {
    "duration": 50,
    "start_time": "2022-03-21T14:08:04.117Z"
   },
   {
    "duration": 13,
    "start_time": "2022-03-21T14:08:04.170Z"
   },
   {
    "duration": 26,
    "start_time": "2022-03-21T14:08:04.188Z"
   },
   {
    "duration": 10,
    "start_time": "2022-03-21T14:08:04.217Z"
   },
   {
    "duration": 144,
    "start_time": "2022-03-21T14:08:04.229Z"
   },
   {
    "duration": 115,
    "start_time": "2022-03-21T14:08:04.376Z"
   },
   {
    "duration": 47,
    "start_time": "2022-03-21T14:08:04.494Z"
   },
   {
    "duration": 89,
    "start_time": "2022-03-21T14:08:04.543Z"
   },
   {
    "duration": 47,
    "start_time": "2022-03-21T14:08:04.634Z"
   },
   {
    "duration": 83,
    "start_time": "2022-03-21T14:08:04.684Z"
   },
   {
    "duration": 64,
    "start_time": "2022-03-21T14:08:04.771Z"
   },
   {
    "duration": 53,
    "start_time": "2022-03-21T14:08:04.840Z"
   },
   {
    "duration": 48,
    "start_time": "2022-03-21T14:08:04.895Z"
   },
   {
    "duration": 77,
    "start_time": "2022-03-21T14:08:04.945Z"
   },
   {
    "duration": 132,
    "start_time": "2022-03-21T14:08:05.025Z"
   },
   {
    "duration": 30,
    "start_time": "2022-03-21T14:08:05.169Z"
   },
   {
    "duration": 13,
    "start_time": "2022-03-21T14:08:05.202Z"
   },
   {
    "duration": 52,
    "start_time": "2022-03-21T14:08:05.217Z"
   },
   {
    "duration": 197,
    "start_time": "2022-03-21T14:08:05.272Z"
   },
   {
    "duration": 6,
    "start_time": "2022-03-21T14:08:05.471Z"
   },
   {
    "duration": 42,
    "start_time": "2022-03-21T14:08:05.479Z"
   },
   {
    "duration": 69,
    "start_time": "2022-03-21T14:08:05.523Z"
   },
   {
    "duration": 40,
    "start_time": "2022-03-21T14:08:05.594Z"
   },
   {
    "duration": 305,
    "start_time": "2022-03-21T14:08:05.637Z"
   },
   {
    "duration": 268,
    "start_time": "2022-03-21T14:08:05.945Z"
   },
   {
    "duration": 278,
    "start_time": "2022-03-21T14:08:06.215Z"
   },
   {
    "duration": 250,
    "start_time": "2022-03-21T14:08:06.495Z"
   },
   {
    "duration": 299,
    "start_time": "2022-03-21T14:08:06.748Z"
   },
   {
    "duration": 262,
    "start_time": "2022-03-21T14:08:07.049Z"
   },
   {
    "duration": 265,
    "start_time": "2022-03-21T14:08:07.314Z"
   },
   {
    "duration": 265,
    "start_time": "2022-03-21T14:08:07.581Z"
   },
   {
    "duration": 197,
    "start_time": "2022-03-21T14:08:07.849Z"
   },
   {
    "duration": 279,
    "start_time": "2022-03-21T14:08:08.049Z"
   },
   {
    "duration": 7,
    "start_time": "2022-03-21T14:08:08.331Z"
   },
   {
    "duration": 34,
    "start_time": "2022-03-21T14:08:08.341Z"
   },
   {
    "duration": 162,
    "start_time": "2022-03-21T14:08:08.377Z"
   },
   {
    "duration": 167,
    "start_time": "2022-03-21T14:08:08.541Z"
   },
   {
    "duration": 14,
    "start_time": "2022-03-21T14:08:08.710Z"
   },
   {
    "duration": 9,
    "start_time": "2022-03-21T14:08:08.731Z"
   },
   {
    "duration": 20,
    "start_time": "2022-03-21T14:08:08.768Z"
   },
   {
    "duration": 8,
    "start_time": "2022-03-21T14:08:08.790Z"
   },
   {
    "duration": 49,
    "start_time": "2023-01-10T12:47:24.721Z"
   },
   {
    "duration": 1229,
    "start_time": "2023-01-10T12:47:32.554Z"
   },
   {
    "duration": 967,
    "start_time": "2023-01-10T12:47:33.786Z"
   },
   {
    "duration": 22,
    "start_time": "2023-01-10T12:47:34.755Z"
   },
   {
    "duration": 9,
    "start_time": "2023-01-10T12:47:35.944Z"
   },
   {
    "duration": 14,
    "start_time": "2023-01-10T12:47:37.175Z"
   },
   {
    "duration": 12,
    "start_time": "2023-01-10T12:47:38.500Z"
   },
   {
    "duration": 13,
    "start_time": "2023-01-10T12:47:50.159Z"
   },
   {
    "duration": 71,
    "start_time": "2023-01-10T13:57:55.706Z"
   },
   {
    "duration": 82,
    "start_time": "2023-01-10T13:58:23.564Z"
   },
   {
    "duration": 90,
    "start_time": "2023-01-10T14:00:16.114Z"
   },
   {
    "duration": 56,
    "start_time": "2023-01-10T14:00:43.378Z"
   },
   {
    "duration": 11,
    "start_time": "2023-01-10T14:05:01.597Z"
   },
   {
    "duration": 8,
    "start_time": "2023-01-10T14:05:12.042Z"
   },
   {
    "duration": 82,
    "start_time": "2023-01-10T14:06:03.795Z"
   },
   {
    "duration": 49,
    "start_time": "2023-01-10T14:06:17.521Z"
   },
   {
    "duration": 56,
    "start_time": "2023-01-10T14:06:33.636Z"
   },
   {
    "duration": 46,
    "start_time": "2023-01-10T14:07:22.453Z"
   },
   {
    "duration": 33,
    "start_time": "2023-01-10T14:07:33.588Z"
   },
   {
    "duration": 19,
    "start_time": "2023-01-10T14:08:29.787Z"
   },
   {
    "duration": 193,
    "start_time": "2023-01-10T14:17:05.018Z"
   },
   {
    "duration": 156,
    "start_time": "2023-01-10T14:17:07.719Z"
   },
   {
    "duration": 840,
    "start_time": "2023-01-10T14:24:50.091Z"
   },
   {
    "duration": 4,
    "start_time": "2023-01-10T14:25:00.120Z"
   },
   {
    "duration": 463,
    "start_time": "2023-01-10T14:25:00.125Z"
   },
   {
    "duration": 22,
    "start_time": "2023-01-10T14:25:00.590Z"
   },
   {
    "duration": 41,
    "start_time": "2023-01-10T14:25:00.614Z"
   },
   {
    "duration": 37,
    "start_time": "2023-01-10T14:25:00.658Z"
   },
   {
    "duration": 24,
    "start_time": "2023-01-10T14:25:00.697Z"
   },
   {
    "duration": 69,
    "start_time": "2023-01-10T14:25:00.723Z"
   },
   {
    "duration": 66,
    "start_time": "2023-01-10T14:25:00.794Z"
   },
   {
    "duration": 38,
    "start_time": "2023-01-10T14:25:00.862Z"
   },
   {
    "duration": 46,
    "start_time": "2023-01-10T14:25:00.902Z"
   },
   {
    "duration": 24,
    "start_time": "2023-01-10T14:25:00.950Z"
   },
   {
    "duration": 32,
    "start_time": "2023-01-10T14:25:00.995Z"
   },
   {
    "duration": 62,
    "start_time": "2023-01-10T14:25:01.029Z"
   },
   {
    "duration": 30,
    "start_time": "2023-01-10T14:25:01.096Z"
   },
   {
    "duration": 44,
    "start_time": "2023-01-10T14:25:01.128Z"
   },
   {
    "duration": 51,
    "start_time": "2023-01-10T14:25:01.174Z"
   },
   {
    "duration": 23,
    "start_time": "2023-01-10T14:25:01.227Z"
   },
   {
    "duration": 30,
    "start_time": "2023-01-10T14:25:01.252Z"
   },
   {
    "duration": 21,
    "start_time": "2023-01-10T14:25:01.284Z"
   },
   {
    "duration": 164,
    "start_time": "2023-01-10T14:25:01.307Z"
   },
   {
    "duration": 3,
    "start_time": "2023-01-10T14:25:01.473Z"
   },
   {
    "duration": 41,
    "start_time": "2023-01-10T14:25:01.478Z"
   },
   {
    "duration": 46,
    "start_time": "2023-01-10T14:25:01.521Z"
   },
   {
    "duration": 26,
    "start_time": "2023-01-10T14:25:01.569Z"
   },
   {
    "duration": 159,
    "start_time": "2023-01-10T14:25:01.596Z"
   },
   {
    "duration": 188,
    "start_time": "2023-01-10T14:25:01.757Z"
   },
   {
    "duration": 190,
    "start_time": "2023-01-10T14:25:01.946Z"
   },
   {
    "duration": 166,
    "start_time": "2023-01-10T14:25:02.137Z"
   },
   {
    "duration": 171,
    "start_time": "2023-01-10T14:25:02.304Z"
   },
   {
    "duration": 186,
    "start_time": "2023-01-10T14:25:02.476Z"
   },
   {
    "duration": 170,
    "start_time": "2023-01-10T14:25:02.663Z"
   },
   {
    "duration": 254,
    "start_time": "2023-01-10T14:25:02.835Z"
   },
   {
    "duration": 129,
    "start_time": "2023-01-10T14:25:03.091Z"
   },
   {
    "duration": 146,
    "start_time": "2023-01-10T14:25:03.223Z"
   },
   {
    "duration": 5,
    "start_time": "2023-01-10T14:25:03.372Z"
   },
   {
    "duration": 22,
    "start_time": "2023-01-10T14:25:03.379Z"
   },
   {
    "duration": 108,
    "start_time": "2023-01-10T14:25:03.404Z"
   },
   {
    "duration": 100,
    "start_time": "2023-01-10T14:25:03.514Z"
   },
   {
    "duration": 10,
    "start_time": "2023-01-10T14:25:03.617Z"
   },
   {
    "duration": 8,
    "start_time": "2023-01-10T14:25:03.629Z"
   },
   {
    "duration": 10,
    "start_time": "2023-01-10T14:25:03.642Z"
   },
   {
    "duration": 6,
    "start_time": "2023-01-10T14:25:03.654Z"
   },
   {
    "duration": 27,
    "start_time": "2023-01-10T14:26:55.459Z"
   },
   {
    "duration": 27,
    "start_time": "2023-01-10T14:27:04.958Z"
   },
   {
    "duration": 147,
    "start_time": "2023-01-10T14:27:34.042Z"
   },
   {
    "duration": 166,
    "start_time": "2023-01-10T14:28:01.623Z"
   },
   {
    "duration": 159,
    "start_time": "2023-01-10T14:28:09.341Z"
   },
   {
    "duration": 151,
    "start_time": "2023-01-10T14:28:15.939Z"
   },
   {
    "duration": 138,
    "start_time": "2023-01-10T14:28:22.275Z"
   },
   {
    "duration": 149,
    "start_time": "2023-01-10T14:28:28.306Z"
   },
   {
    "duration": 162,
    "start_time": "2023-01-10T14:29:05.488Z"
   },
   {
    "duration": 196,
    "start_time": "2023-01-10T14:29:27.639Z"
   },
   {
    "duration": 114,
    "start_time": "2023-01-10T14:29:38.722Z"
   },
   {
    "duration": 50,
    "start_time": "2023-01-11T12:34:36.877Z"
   },
   {
    "duration": 1235,
    "start_time": "2023-01-11T12:34:42.241Z"
   },
   {
    "duration": 934,
    "start_time": "2023-01-11T12:34:43.478Z"
   },
   {
    "duration": 23,
    "start_time": "2023-01-11T12:34:44.414Z"
   },
   {
    "duration": 7,
    "start_time": "2023-01-11T12:34:44.456Z"
   },
   {
    "duration": 24,
    "start_time": "2023-01-11T12:34:44.465Z"
   },
   {
    "duration": 15,
    "start_time": "2023-01-11T12:34:44.491Z"
   },
   {
    "duration": 86,
    "start_time": "2023-01-11T12:34:44.508Z"
   },
   {
    "duration": 92,
    "start_time": "2023-01-11T12:34:44.596Z"
   },
   {
    "duration": 37,
    "start_time": "2023-01-11T12:34:44.690Z"
   },
   {
    "duration": 86,
    "start_time": "2023-01-11T12:34:44.730Z"
   },
   {
    "duration": 50,
    "start_time": "2023-01-11T12:34:44.818Z"
   },
   {
    "duration": 38,
    "start_time": "2023-01-11T12:34:44.870Z"
   },
   {
    "duration": 69,
    "start_time": "2023-01-11T12:34:44.910Z"
   },
   {
    "duration": 34,
    "start_time": "2023-01-11T12:34:44.982Z"
   },
   {
    "duration": 57,
    "start_time": "2023-01-11T12:34:45.018Z"
   },
   {
    "duration": 36,
    "start_time": "2023-01-11T12:34:45.077Z"
   },
   {
    "duration": 42,
    "start_time": "2023-01-11T12:34:45.115Z"
   },
   {
    "duration": 9,
    "start_time": "2023-01-11T12:34:45.159Z"
   },
   {
    "duration": 7,
    "start_time": "2023-01-11T12:34:45.170Z"
   },
   {
    "duration": 139,
    "start_time": "2023-01-11T12:34:45.179Z"
   },
   {
    "duration": 3,
    "start_time": "2023-01-11T12:34:45.320Z"
   },
   {
    "duration": 36,
    "start_time": "2023-01-11T12:34:45.326Z"
   },
   {
    "duration": 29,
    "start_time": "2023-01-11T12:34:45.364Z"
   },
   {
    "duration": 28,
    "start_time": "2023-01-11T12:34:45.395Z"
   },
   {
    "duration": 211,
    "start_time": "2023-01-11T12:34:45.425Z"
   },
   {
    "duration": 172,
    "start_time": "2023-01-11T12:34:45.638Z"
   },
   {
    "duration": 174,
    "start_time": "2023-01-11T12:34:45.812Z"
   },
   {
    "duration": 153,
    "start_time": "2023-01-11T12:34:45.988Z"
   },
   {
    "duration": 171,
    "start_time": "2023-01-11T12:34:46.143Z"
   },
   {
    "duration": 171,
    "start_time": "2023-01-11T12:34:46.316Z"
   },
   {
    "duration": 161,
    "start_time": "2023-01-11T12:34:46.490Z"
   },
   {
    "duration": 169,
    "start_time": "2023-01-11T12:34:46.655Z"
   },
   {
    "duration": 148,
    "start_time": "2023-01-11T12:34:46.826Z"
   },
   {
    "duration": 214,
    "start_time": "2023-01-11T12:34:46.976Z"
   },
   {
    "duration": 6,
    "start_time": "2023-01-11T12:34:47.192Z"
   },
   {
    "duration": 11,
    "start_time": "2023-01-11T12:34:47.200Z"
   },
   {
    "duration": 105,
    "start_time": "2023-01-11T12:34:47.213Z"
   },
   {
    "duration": 95,
    "start_time": "2023-01-11T12:34:47.320Z"
   },
   {
    "duration": 8,
    "start_time": "2023-01-11T12:34:47.416Z"
   },
   {
    "duration": 8,
    "start_time": "2023-01-11T12:34:47.426Z"
   },
   {
    "duration": 23,
    "start_time": "2023-01-11T12:34:47.438Z"
   },
   {
    "duration": 10,
    "start_time": "2023-01-11T12:34:47.463Z"
   },
   {
    "duration": 98,
    "start_time": "2023-01-11T12:46:40.615Z"
   },
   {
    "duration": 99,
    "start_time": "2023-01-11T12:46:48.789Z"
   },
   {
    "duration": 99,
    "start_time": "2023-01-11T12:47:16.671Z"
   }
  ],
  "kernelspec": {
   "display_name": "Python 3 (ipykernel)",
   "language": "python",
   "name": "python3"
  },
  "language_info": {
   "codemirror_mode": {
    "name": "ipython",
    "version": 3
   },
   "file_extension": ".py",
   "mimetype": "text/x-python",
   "name": "python",
   "nbconvert_exporter": "python",
   "pygments_lexer": "ipython3",
   "version": "3.9.5"
  },
  "toc": {
   "base_numbering": 1,
   "nav_menu": {},
   "number_sections": true,
   "sideBar": true,
   "skip_h1_title": true,
   "title_cell": "Table of Contents",
   "title_sidebar": "Contents",
   "toc_cell": false,
   "toc_position": {
    "height": "calc(100% - 180px)",
    "left": "10px",
    "top": "150px",
    "width": "238.391px"
   },
   "toc_section_display": true,
   "toc_window_display": true
  }
 },
 "nbformat": 4,
 "nbformat_minor": 2
}
