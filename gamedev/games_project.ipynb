{
 "cells": [
  {
   "cell_type": "markdown",
   "metadata": {
    "toc": true
   },
   "source": [
    "<h1>Содержание<span class=\"tocSkip\"></span></h1>\n",
    "<div class=\"toc\"><ul class=\"toc-item\"><li><span><a href=\"#Импорт-данных,-общая-информация\" data-toc-modified-id=\"Импорт-данных,-общая-информация-1\"><span class=\"toc-item-num\">1&nbsp;&nbsp;</span>Импорт данных, общая информация</a></span></li><li><span><a href=\"#Предобработка-данных\" data-toc-modified-id=\"Предобработка-данных-2\"><span class=\"toc-item-num\">2&nbsp;&nbsp;</span>Предобработка данных</a></span><ul class=\"toc-item\"><li><span><a href=\"#Замена-названий-столбцов\" data-toc-modified-id=\"Замена-названий-столбцов-2.1\"><span class=\"toc-item-num\">2.1&nbsp;&nbsp;</span>Замена названий столбцов</a></span></li><li><span><a href=\"#Обработка-пропусков\" data-toc-modified-id=\"Обработка-пропусков-2.2\"><span class=\"toc-item-num\">2.2&nbsp;&nbsp;</span>Обработка пропусков</a></span></li><li><span><a href=\"#Проверка-дубликатов\" data-toc-modified-id=\"Проверка-дубликатов-2.3\"><span class=\"toc-item-num\">2.3&nbsp;&nbsp;</span>Проверка дубликатов</a></span></li><li><span><a href=\"#Расчет-и-добавление-данных\" data-toc-modified-id=\"Расчет-и-добавление-данных-2.4\"><span class=\"toc-item-num\">2.4&nbsp;&nbsp;</span>Расчет и добавление данных</a></span></li></ul></li><li><span><a href=\"#Исследовательский-анализ-данных\" data-toc-modified-id=\"Исследовательский-анализ-данных-3\"><span class=\"toc-item-num\">3&nbsp;&nbsp;</span>Исследовательский анализ данных</a></span><ul class=\"toc-item\"><li><span><a href=\"#Распределение-количества-выпускаемых-игр-по-годам\" data-toc-modified-id=\"Распределение-количества-выпускаемых-игр-по-годам-3.1\"><span class=\"toc-item-num\">3.1&nbsp;&nbsp;</span>Распределение количества выпускаемых игр по годам</a></span></li><li><span><a href=\"#Изучение-продаж-по-платформам\" data-toc-modified-id=\"Изучение-продаж-по-платформам-3.2\"><span class=\"toc-item-num\">3.2&nbsp;&nbsp;</span>Изучение продаж по платформам</a></span></li><li><span><a href=\"#Выбор-потенциально-прибыльных-платформ\" data-toc-modified-id=\"Выбор-потенциально-прибыльных-платформ-3.3\"><span class=\"toc-item-num\">3.3&nbsp;&nbsp;</span>Выбор потенциально прибыльных платформ</a></span></li><li><span><a href=\"#Глобальные-продажи-игр-в-разбивке-по-платформам\" data-toc-modified-id=\"Глобальные-продажи-игр-в-разбивке-по-платформам-3.4\"><span class=\"toc-item-num\">3.4&nbsp;&nbsp;</span>Глобальные продажи игр в разбивке по платформам</a></span></li><li><span><a href=\"#Влияние-на-продажи-отзывов-пользователей-и-критиков\" data-toc-modified-id=\"Влияние-на-продажи-отзывов-пользователей-и-критиков-3.5\"><span class=\"toc-item-num\">3.5&nbsp;&nbsp;</span>Влияние на продажи отзывов пользователей и критиков</a></span></li><li><span><a href=\"#Распределение-продаж-игр-по-жанрам\" data-toc-modified-id=\"Распределение-продаж-игр-по-жанрам-3.6\"><span class=\"toc-item-num\">3.6&nbsp;&nbsp;</span>Распределение продаж игр по жанрам</a></span></li></ul></li><li><span><a href=\"#Портрет-пользователей-по-регионам\" data-toc-modified-id=\"Портрет-пользователей-по-регионам-4\"><span class=\"toc-item-num\">4&nbsp;&nbsp;</span>Портрет пользователей по регионам</a></span><ul class=\"toc-item\"><li><span><a href=\"#Самые-популярные-платформы\" data-toc-modified-id=\"Самые-популярные-платформы-4.1\"><span class=\"toc-item-num\">4.1&nbsp;&nbsp;</span>Самые популярные платформы</a></span></li><li><span><a href=\"#Самые-популярные-жанры\" data-toc-modified-id=\"Самые-популярные-жанры-4.2\"><span class=\"toc-item-num\">4.2&nbsp;&nbsp;</span>Самые популярные жанры</a></span></li><li><span><a href=\"#Влияние-рейтинга-ESRB-на-продажи\" data-toc-modified-id=\"Влияние-рейтинга-ESRB-на-продажи-4.3\"><span class=\"toc-item-num\">4.3&nbsp;&nbsp;</span>Влияние рейтинга ESRB на продажи</a></span></li></ul></li><li><span><a href=\"#Проверка-гипотез\" data-toc-modified-id=\"Проверка-гипотез-5\"><span class=\"toc-item-num\">5&nbsp;&nbsp;</span>Проверка гипотез</a></span></li><li><span><a href=\"#Общий-вывод\" data-toc-modified-id=\"Общий-вывод-6\"><span class=\"toc-item-num\">6&nbsp;&nbsp;</span>Общий вывод</a></span></li></ul></div>"
   ]
  },
  {
   "cell_type": "markdown",
   "metadata": {},
   "source": [
    "**Описание проекта**\n",
    "\n",
    "Вы работаете в интернет-магазине «Стримчик», который продаёт по всему миру компьютерные игры. Из открытых источников доступны исторические данные о продажах игр, оценки пользователей и экспертов, жанры и платформы (например, Xbox или PlayStation). Вам нужно выявить определяющие успешность игры закономерности. Это позволит сделать ставку на потенциально популярный продукт и спланировать рекламные кампании.\n",
    "\n",
    "Перед вами данные до 2016 года. Представим, что сейчас декабрь 2016 г., и вы планируете кампанию на 2017-й. Нужно отработать принцип работы с данными. Неважно, прогнозируете ли вы продажи на 2017 год по данным 2016-го или же 2027-й — по данным 2026 года.\n",
    "\n",
    "В наборе данных попадается аббревиатура ESRB (Entertainment Software Rating Board) — это ассоциация, определяющая возрастной рейтинг компьютерных игр. ESRB оценивает игровой контент и присваивает ему подходящую возрастную категорию, например, «Для взрослых», «Для детей младшего возраста» или «Для подростков»."
   ]
  },
  {
   "cell_type": "markdown",
   "metadata": {},
   "source": [
    "**Описание данных**"
   ]
  },
  {
   "cell_type": "markdown",
   "metadata": {},
   "source": [
    "- Name — название игры \n",
    "- Platform — платформа \n",
    "- Year_of_Release — год выпуска \n",
    "- Genre — жанр игры\n",
    "- NA_sales — продажи в Северной Америке (миллионы проданных копий) \n",
    "- EU_sales — продажи в Европе (миллионы проданных копий)\n",
    "- JP_sales — продажи в Японии (миллионы проданных копий) \n",
    "- Other_sales — продажи в других странах (миллионы проданных копий) \n",
    "- Critic_Score — оценка критиков (максимум 100)\n",
    "- User_Score — оценка пользователей (максимум 10)\n",
    "- Rating — рейтинг от организации ESRB (англ. Entertainment Software Rating Board). Эта ассоциация определяет рейтинг компьютерных игр и присваивает им подходящую возрастную категорию.\n",
    "\n",
    "Данные за 2016 год могут быть неполными."
   ]
  },
  {
   "cell_type": "markdown",
   "metadata": {},
   "source": [
    "**Информация о рейтинге**\n",
    "\n",
    "- EC - *для детей от 3х лет*\n",
    "- E  - *для всех от 6 лет*\n",
    "- K-A - *тоже самое что E*\n",
    "- Е10+ - *для всех от 10 лет*\n",
    "- Т  -  *подросткам от 13 лет*\n",
    "- М   - *для взрослых от 17 лет*\n",
    "- AO -   *только для взрослых 18+*\n",
    "- RP  - *рейтинг ожидается*"
   ]
  },
  {
   "cell_type": "markdown",
   "metadata": {},
   "source": [
    "## Импорт данных, общая информация"
   ]
  },
  {
   "cell_type": "code",
   "execution_count": 1,
   "metadata": {},
   "outputs": [],
   "source": [
    "import pandas as pd\n",
    "import numpy as np\n",
    "import matplotlib.pyplot as plt\n",
    "from scipy import stats as st\n",
    "import warnings\n",
    "warnings.filterwarnings(\"ignore\")"
   ]
  },
  {
   "cell_type": "code",
   "execution_count": 2,
   "metadata": {},
   "outputs": [
    {
     "data": {
      "text/plain": [
       "(16715, 11)"
      ]
     },
     "execution_count": 2,
     "metadata": {},
     "output_type": "execute_result"
    }
   ],
   "source": [
    "data = pd.read_csv('/datasets/games.csv')\n",
    "data.shape"
   ]
  },
  {
   "cell_type": "code",
   "execution_count": 3,
   "metadata": {},
   "outputs": [
    {
     "data": {
      "text/html": [
       "<div>\n",
       "<style scoped>\n",
       "    .dataframe tbody tr th:only-of-type {\n",
       "        vertical-align: middle;\n",
       "    }\n",
       "\n",
       "    .dataframe tbody tr th {\n",
       "        vertical-align: top;\n",
       "    }\n",
       "\n",
       "    .dataframe thead th {\n",
       "        text-align: right;\n",
       "    }\n",
       "</style>\n",
       "<table border=\"1\" class=\"dataframe\">\n",
       "  <thead>\n",
       "    <tr style=\"text-align: right;\">\n",
       "      <th></th>\n",
       "      <th>Name</th>\n",
       "      <th>Platform</th>\n",
       "      <th>Year_of_Release</th>\n",
       "      <th>Genre</th>\n",
       "      <th>NA_sales</th>\n",
       "      <th>EU_sales</th>\n",
       "      <th>JP_sales</th>\n",
       "      <th>Other_sales</th>\n",
       "      <th>Critic_Score</th>\n",
       "      <th>User_Score</th>\n",
       "      <th>Rating</th>\n",
       "    </tr>\n",
       "  </thead>\n",
       "  <tbody>\n",
       "    <tr>\n",
       "      <th>0</th>\n",
       "      <td>Wii Sports</td>\n",
       "      <td>Wii</td>\n",
       "      <td>2006.0</td>\n",
       "      <td>Sports</td>\n",
       "      <td>41.36</td>\n",
       "      <td>28.96</td>\n",
       "      <td>3.77</td>\n",
       "      <td>8.45</td>\n",
       "      <td>76.0</td>\n",
       "      <td>8</td>\n",
       "      <td>E</td>\n",
       "    </tr>\n",
       "    <tr>\n",
       "      <th>1</th>\n",
       "      <td>Super Mario Bros.</td>\n",
       "      <td>NES</td>\n",
       "      <td>1985.0</td>\n",
       "      <td>Platform</td>\n",
       "      <td>29.08</td>\n",
       "      <td>3.58</td>\n",
       "      <td>6.81</td>\n",
       "      <td>0.77</td>\n",
       "      <td>NaN</td>\n",
       "      <td>NaN</td>\n",
       "      <td>NaN</td>\n",
       "    </tr>\n",
       "    <tr>\n",
       "      <th>2</th>\n",
       "      <td>Mario Kart Wii</td>\n",
       "      <td>Wii</td>\n",
       "      <td>2008.0</td>\n",
       "      <td>Racing</td>\n",
       "      <td>15.68</td>\n",
       "      <td>12.76</td>\n",
       "      <td>3.79</td>\n",
       "      <td>3.29</td>\n",
       "      <td>82.0</td>\n",
       "      <td>8.3</td>\n",
       "      <td>E</td>\n",
       "    </tr>\n",
       "    <tr>\n",
       "      <th>3</th>\n",
       "      <td>Wii Sports Resort</td>\n",
       "      <td>Wii</td>\n",
       "      <td>2009.0</td>\n",
       "      <td>Sports</td>\n",
       "      <td>15.61</td>\n",
       "      <td>10.93</td>\n",
       "      <td>3.28</td>\n",
       "      <td>2.95</td>\n",
       "      <td>80.0</td>\n",
       "      <td>8</td>\n",
       "      <td>E</td>\n",
       "    </tr>\n",
       "    <tr>\n",
       "      <th>4</th>\n",
       "      <td>Pokemon Red/Pokemon Blue</td>\n",
       "      <td>GB</td>\n",
       "      <td>1996.0</td>\n",
       "      <td>Role-Playing</td>\n",
       "      <td>11.27</td>\n",
       "      <td>8.89</td>\n",
       "      <td>10.22</td>\n",
       "      <td>1.00</td>\n",
       "      <td>NaN</td>\n",
       "      <td>NaN</td>\n",
       "      <td>NaN</td>\n",
       "    </tr>\n",
       "  </tbody>\n",
       "</table>\n",
       "</div>"
      ],
      "text/plain": [
       "                       Name Platform  Year_of_Release         Genre  NA_sales  \\\n",
       "0                Wii Sports      Wii           2006.0        Sports     41.36   \n",
       "1         Super Mario Bros.      NES           1985.0      Platform     29.08   \n",
       "2            Mario Kart Wii      Wii           2008.0        Racing     15.68   \n",
       "3         Wii Sports Resort      Wii           2009.0        Sports     15.61   \n",
       "4  Pokemon Red/Pokemon Blue       GB           1996.0  Role-Playing     11.27   \n",
       "\n",
       "   EU_sales  JP_sales  Other_sales  Critic_Score User_Score Rating  \n",
       "0     28.96      3.77         8.45          76.0          8      E  \n",
       "1      3.58      6.81         0.77           NaN        NaN    NaN  \n",
       "2     12.76      3.79         3.29          82.0        8.3      E  \n",
       "3     10.93      3.28         2.95          80.0          8      E  \n",
       "4      8.89     10.22         1.00           NaN        NaN    NaN  "
      ]
     },
     "execution_count": 3,
     "metadata": {},
     "output_type": "execute_result"
    }
   ],
   "source": [
    "data.head()"
   ]
  },
  {
   "cell_type": "code",
   "execution_count": 4,
   "metadata": {
    "scrolled": true
   },
   "outputs": [
    {
     "name": "stdout",
     "output_type": "stream",
     "text": [
      "<class 'pandas.core.frame.DataFrame'>\n",
      "RangeIndex: 16715 entries, 0 to 16714\n",
      "Data columns (total 11 columns):\n",
      " #   Column           Non-Null Count  Dtype  \n",
      "---  ------           --------------  -----  \n",
      " 0   Name             16713 non-null  object \n",
      " 1   Platform         16715 non-null  object \n",
      " 2   Year_of_Release  16446 non-null  float64\n",
      " 3   Genre            16713 non-null  object \n",
      " 4   NA_sales         16715 non-null  float64\n",
      " 5   EU_sales         16715 non-null  float64\n",
      " 6   JP_sales         16715 non-null  float64\n",
      " 7   Other_sales      16715 non-null  float64\n",
      " 8   Critic_Score     8137 non-null   float64\n",
      " 9   User_Score       10014 non-null  object \n",
      " 10  Rating           9949 non-null   object \n",
      "dtypes: float64(6), object(5)\n",
      "memory usage: 1.4+ MB\n"
     ]
    },
    {
     "data": {
      "text/html": [
       "<div>\n",
       "<style scoped>\n",
       "    .dataframe tbody tr th:only-of-type {\n",
       "        vertical-align: middle;\n",
       "    }\n",
       "\n",
       "    .dataframe tbody tr th {\n",
       "        vertical-align: top;\n",
       "    }\n",
       "\n",
       "    .dataframe thead th {\n",
       "        text-align: right;\n",
       "    }\n",
       "</style>\n",
       "<table border=\"1\" class=\"dataframe\">\n",
       "  <thead>\n",
       "    <tr style=\"text-align: right;\">\n",
       "      <th></th>\n",
       "      <th>Year_of_Release</th>\n",
       "      <th>NA_sales</th>\n",
       "      <th>EU_sales</th>\n",
       "      <th>JP_sales</th>\n",
       "      <th>Other_sales</th>\n",
       "      <th>Critic_Score</th>\n",
       "    </tr>\n",
       "  </thead>\n",
       "  <tbody>\n",
       "    <tr>\n",
       "      <th>count</th>\n",
       "      <td>16446.000000</td>\n",
       "      <td>16715.000000</td>\n",
       "      <td>16715.000000</td>\n",
       "      <td>16715.000000</td>\n",
       "      <td>16715.000000</td>\n",
       "      <td>8137.000000</td>\n",
       "    </tr>\n",
       "    <tr>\n",
       "      <th>mean</th>\n",
       "      <td>2006.484616</td>\n",
       "      <td>0.263377</td>\n",
       "      <td>0.145060</td>\n",
       "      <td>0.077617</td>\n",
       "      <td>0.047342</td>\n",
       "      <td>68.967679</td>\n",
       "    </tr>\n",
       "    <tr>\n",
       "      <th>std</th>\n",
       "      <td>5.877050</td>\n",
       "      <td>0.813604</td>\n",
       "      <td>0.503339</td>\n",
       "      <td>0.308853</td>\n",
       "      <td>0.186731</td>\n",
       "      <td>13.938165</td>\n",
       "    </tr>\n",
       "    <tr>\n",
       "      <th>min</th>\n",
       "      <td>1980.000000</td>\n",
       "      <td>0.000000</td>\n",
       "      <td>0.000000</td>\n",
       "      <td>0.000000</td>\n",
       "      <td>0.000000</td>\n",
       "      <td>13.000000</td>\n",
       "    </tr>\n",
       "    <tr>\n",
       "      <th>25%</th>\n",
       "      <td>2003.000000</td>\n",
       "      <td>0.000000</td>\n",
       "      <td>0.000000</td>\n",
       "      <td>0.000000</td>\n",
       "      <td>0.000000</td>\n",
       "      <td>60.000000</td>\n",
       "    </tr>\n",
       "    <tr>\n",
       "      <th>50%</th>\n",
       "      <td>2007.000000</td>\n",
       "      <td>0.080000</td>\n",
       "      <td>0.020000</td>\n",
       "      <td>0.000000</td>\n",
       "      <td>0.010000</td>\n",
       "      <td>71.000000</td>\n",
       "    </tr>\n",
       "    <tr>\n",
       "      <th>75%</th>\n",
       "      <td>2010.000000</td>\n",
       "      <td>0.240000</td>\n",
       "      <td>0.110000</td>\n",
       "      <td>0.040000</td>\n",
       "      <td>0.030000</td>\n",
       "      <td>79.000000</td>\n",
       "    </tr>\n",
       "    <tr>\n",
       "      <th>max</th>\n",
       "      <td>2016.000000</td>\n",
       "      <td>41.360000</td>\n",
       "      <td>28.960000</td>\n",
       "      <td>10.220000</td>\n",
       "      <td>10.570000</td>\n",
       "      <td>98.000000</td>\n",
       "    </tr>\n",
       "  </tbody>\n",
       "</table>\n",
       "</div>"
      ],
      "text/plain": [
       "       Year_of_Release      NA_sales      EU_sales      JP_sales  \\\n",
       "count     16446.000000  16715.000000  16715.000000  16715.000000   \n",
       "mean       2006.484616      0.263377      0.145060      0.077617   \n",
       "std           5.877050      0.813604      0.503339      0.308853   \n",
       "min        1980.000000      0.000000      0.000000      0.000000   \n",
       "25%        2003.000000      0.000000      0.000000      0.000000   \n",
       "50%        2007.000000      0.080000      0.020000      0.000000   \n",
       "75%        2010.000000      0.240000      0.110000      0.040000   \n",
       "max        2016.000000     41.360000     28.960000     10.220000   \n",
       "\n",
       "        Other_sales  Critic_Score  \n",
       "count  16715.000000   8137.000000  \n",
       "mean       0.047342     68.967679  \n",
       "std        0.186731     13.938165  \n",
       "min        0.000000     13.000000  \n",
       "25%        0.000000     60.000000  \n",
       "50%        0.010000     71.000000  \n",
       "75%        0.030000     79.000000  \n",
       "max       10.570000     98.000000  "
      ]
     },
     "execution_count": 4,
     "metadata": {},
     "output_type": "execute_result"
    }
   ],
   "source": [
    "data.info()\n",
    "\n",
    "data.describe()"
   ]
  },
  {
   "cell_type": "markdown",
   "metadata": {},
   "source": [
    "Таблица содержит 11 колонок, 16715 строк. Данные о выходе игр включают период с 1980 по 2016 год. Требуется предобработка: названия столбцов для удобства обращения привести к нижнему регистру, обработать пропуски и дубликаты, заменить тип данных в годе релиза на целочисленный."
   ]
  },
  {
   "cell_type": "markdown",
   "metadata": {},
   "source": [
    "## Предобработка данных"
   ]
  },
  {
   "cell_type": "markdown",
   "metadata": {},
   "source": [
    "### Замена названий столбцов"
   ]
  },
  {
   "cell_type": "code",
   "execution_count": 5,
   "metadata": {
    "scrolled": false
   },
   "outputs": [
    {
     "data": {
      "text/plain": [
       "Index(['Name', 'Platform', 'Year_of_Release', 'Genre', 'NA_sales', 'EU_sales',\n",
       "       'JP_sales', 'Other_sales', 'Critic_Score', 'User_Score', 'Rating'],\n",
       "      dtype='object')"
      ]
     },
     "execution_count": 5,
     "metadata": {},
     "output_type": "execute_result"
    }
   ],
   "source": [
    "data.columns # получаем названия столбцов"
   ]
  },
  {
   "cell_type": "code",
   "execution_count": 6,
   "metadata": {},
   "outputs": [],
   "source": [
    "data.columns = data.columns.str.lower()\n",
    "# приводим названия к нижнему регистру"
   ]
  },
  {
   "cell_type": "code",
   "execution_count": 7,
   "metadata": {
    "scrolled": false
   },
   "outputs": [
    {
     "data": {
      "text/plain": [
       "Index(['name', 'platform', 'year_of_release', 'genre', 'na_sales', 'eu_sales',\n",
       "       'jp_sales', 'other_sales', 'critic_score', 'user_score', 'rating'],\n",
       "      dtype='object')"
      ]
     },
     "execution_count": 7,
     "metadata": {},
     "output_type": "execute_result"
    }
   ],
   "source": [
    "data.columns # проверяем результат"
   ]
  },
  {
   "cell_type": "markdown",
   "metadata": {},
   "source": [
    "### Обработка пропусков"
   ]
  },
  {
   "cell_type": "code",
   "execution_count": 8,
   "metadata": {
    "scrolled": false
   },
   "outputs": [
    {
     "data": {
      "text/plain": [
       "name                  2\n",
       "platform              0\n",
       "year_of_release     269\n",
       "genre                 2\n",
       "na_sales              0\n",
       "eu_sales              0\n",
       "jp_sales              0\n",
       "other_sales           0\n",
       "critic_score       8578\n",
       "user_score         6701\n",
       "rating             6766\n",
       "dtype: int64"
      ]
     },
     "execution_count": 8,
     "metadata": {},
     "output_type": "execute_result"
    }
   ],
   "source": [
    "data.isna().sum()"
   ]
  },
  {
   "cell_type": "markdown",
   "metadata": {},
   "source": [
    "Есть пропуски в категориях названия и жанра, в годе выхода игры, а также оценки критиков и пользователей, и в рейтинге."
   ]
  },
  {
   "cell_type": "code",
   "execution_count": 9,
   "metadata": {
    "scrolled": false
   },
   "outputs": [
    {
     "data": {
      "text/html": [
       "<div>\n",
       "<style scoped>\n",
       "    .dataframe tbody tr th:only-of-type {\n",
       "        vertical-align: middle;\n",
       "    }\n",
       "\n",
       "    .dataframe tbody tr th {\n",
       "        vertical-align: top;\n",
       "    }\n",
       "\n",
       "    .dataframe thead th {\n",
       "        text-align: right;\n",
       "    }\n",
       "</style>\n",
       "<table border=\"1\" class=\"dataframe\">\n",
       "  <thead>\n",
       "    <tr style=\"text-align: right;\">\n",
       "      <th></th>\n",
       "      <th>name</th>\n",
       "      <th>platform</th>\n",
       "      <th>year_of_release</th>\n",
       "      <th>genre</th>\n",
       "      <th>na_sales</th>\n",
       "      <th>eu_sales</th>\n",
       "      <th>jp_sales</th>\n",
       "      <th>other_sales</th>\n",
       "      <th>critic_score</th>\n",
       "      <th>user_score</th>\n",
       "      <th>rating</th>\n",
       "    </tr>\n",
       "  </thead>\n",
       "  <tbody>\n",
       "    <tr>\n",
       "      <th>659</th>\n",
       "      <td>NaN</td>\n",
       "      <td>GEN</td>\n",
       "      <td>1993.0</td>\n",
       "      <td>NaN</td>\n",
       "      <td>1.78</td>\n",
       "      <td>0.53</td>\n",
       "      <td>0.00</td>\n",
       "      <td>0.08</td>\n",
       "      <td>NaN</td>\n",
       "      <td>NaN</td>\n",
       "      <td>NaN</td>\n",
       "    </tr>\n",
       "    <tr>\n",
       "      <th>14244</th>\n",
       "      <td>NaN</td>\n",
       "      <td>GEN</td>\n",
       "      <td>1993.0</td>\n",
       "      <td>NaN</td>\n",
       "      <td>0.00</td>\n",
       "      <td>0.00</td>\n",
       "      <td>0.03</td>\n",
       "      <td>0.00</td>\n",
       "      <td>NaN</td>\n",
       "      <td>NaN</td>\n",
       "      <td>NaN</td>\n",
       "    </tr>\n",
       "  </tbody>\n",
       "</table>\n",
       "</div>"
      ],
      "text/plain": [
       "      name platform  year_of_release genre  na_sales  eu_sales  jp_sales  \\\n",
       "659    NaN      GEN           1993.0   NaN      1.78      0.53      0.00   \n",
       "14244  NaN      GEN           1993.0   NaN      0.00      0.00      0.03   \n",
       "\n",
       "       other_sales  critic_score user_score rating  \n",
       "659           0.08           NaN        NaN    NaN  \n",
       "14244         0.00           NaN        NaN    NaN  "
      ]
     },
     "execution_count": 9,
     "metadata": {},
     "output_type": "execute_result"
    }
   ],
   "source": [
    "data[(data['name'].isna()) & (data['genre'].isna())]\n",
    "# проверим, совпадают ли пропуски в строках названия игры и жанра"
   ]
  },
  {
   "cell_type": "markdown",
   "metadata": {},
   "source": [
    "Похоже, что это одна и та же игра на консоли Sega Genesis, которая сначала вышла в Японии, а затем в остальных странах, вообще эти строки можно удалить, хоть у нее и хорошие продажи, но много пропущенных данных в других колонках, а в итоговый срез актуальных платформ такая старая консоль точно не войдет"
   ]
  },
  {
   "cell_type": "code",
   "execution_count": 10,
   "metadata": {
    "scrolled": true
   },
   "outputs": [],
   "source": [
    "data.drop(labels=[659, 14244], axis=0, inplace= True)\n",
    "# удаляем две строки с игрой "
   ]
  },
  {
   "cell_type": "markdown",
   "metadata": {},
   "source": [
    "Год релиза вероятно не указан потому, что у одной и той же игры могут быть разные даты выхода на разных платформах и регионах - например в 2007 на Xbox в USA и в 2008 на PS в остальных странах.\n",
    "\n",
    "Один из вариантов заполнения пропусков в `year_of_release` могло бы быть заполнение с помощью функции годом из названия игры, однако таких имен немного, а год может быть записан разными способами - двумя или четырьмя цифрами. Поэтому этот способ малоперспективен.\n",
    "\n",
    "Количество пропусков в этой колонке незначительное, поэтому эти значения можно удалить. "
   ]
  },
  {
   "cell_type": "code",
   "execution_count": 11,
   "metadata": {},
   "outputs": [],
   "source": [
    "data = data.dropna(subset=['year_of_release'])\n",
    "\n",
    "data['year_of_release'] = data['year_of_release'].astype('int')\n",
    "\n",
    "# удалим пропуски в годе релиза, заменим на целочисленный тип"
   ]
  },
  {
   "cell_type": "code",
   "execution_count": 12,
   "metadata": {},
   "outputs": [
    {
     "data": {
      "text/plain": [
       "array(['8', nan, '8.3', '8.5', '6.6', '8.4', '8.6', '7.7', '6.3', '7.4',\n",
       "       '8.2', '9', '7.9', '8.1', '8.7', '7.1', '3.4', '5.3', '4.8', '3.2',\n",
       "       '8.9', '6.4', '7.8', '7.5', '2.6', '7.2', '9.2', '7', '7.3', '4.3',\n",
       "       '7.6', '5.7', '5', '9.1', '6.5', 'tbd', '8.8', '6.9', '9.4', '6.8',\n",
       "       '6.1', '6.7', '5.4', '4', '4.9', '4.5', '9.3', '6.2', '4.2', '6',\n",
       "       '3.7', '4.1', '5.8', '5.6', '5.5', '4.4', '4.6', '5.9', '3.9',\n",
       "       '3.1', '2.9', '5.2', '3.3', '4.7', '5.1', '3.5', '2.5', '1.9', '3',\n",
       "       '2.7', '2.2', '2', '9.5', '2.1', '3.6', '2.8', '1.8', '3.8', '0',\n",
       "       '1.6', '9.6', '2.4', '1.7', '1.1', '0.3', '1.5', '0.7', '1.2',\n",
       "       '2.3', '0.5', '1.3', '0.2', '0.6', '1.4', '0.9', '1', '9.7'],\n",
       "      dtype=object)"
      ]
     },
     "execution_count": 12,
     "metadata": {},
     "output_type": "execute_result"
    }
   ],
   "source": [
    "data['user_score'].unique() \n",
    "# посмотрим уникальные значения оценок пользователей"
   ]
  },
  {
   "cell_type": "markdown",
   "metadata": {},
   "source": [
    "Пропусков в `critic_score` и `user_score` составляют весомую часть датесета, поэтому заменим отрицательным значением, чтобы не искажать эти данные, а в дальнейшем эти значения отфильтруем.\n",
    "\n",
    "Значение \"tbd\" в колонке `user_score` видимо означает \"To Be Determined\" - когда у игры недостаточно пользовательских оценок для формирования рейтинга. Поэтому его можно заменить на NaN и привести данные к типу *float*, так как иначе строка tbd не позволит это сделать."
   ]
  },
  {
   "cell_type": "code",
   "execution_count": 13,
   "metadata": {
    "scrolled": true
   },
   "outputs": [],
   "source": [
    "data.loc[data['user_score'] == 'tbd','user_score'] = np.nan\n",
    "\n",
    "data['user_score'] = data['user_score'].astype('float')\n",
    "\n",
    "# заменим значение tbd пропуском, приведем к типу float"
   ]
  },
  {
   "cell_type": "code",
   "execution_count": 14,
   "metadata": {},
   "outputs": [],
   "source": [
    "data['critic_score'] = data['critic_score'].fillna(-1)\n",
    "\n",
    "data['user_score'] = data['user_score'].fillna(-1)\n",
    "\n",
    "# заменяем пропуски в отзывах критиков и пользователей "
   ]
  },
  {
   "cell_type": "code",
   "execution_count": 15,
   "metadata": {
    "scrolled": true
   },
   "outputs": [
    {
     "data": {
      "text/plain": [
       "name                  0\n",
       "platform              0\n",
       "year_of_release       0\n",
       "genre                 0\n",
       "na_sales              0\n",
       "eu_sales              0\n",
       "jp_sales              0\n",
       "other_sales           0\n",
       "critic_score          0\n",
       "user_score            0\n",
       "rating             6676\n",
       "dtype: int64"
      ]
     },
     "execution_count": 15,
     "metadata": {},
     "output_type": "execute_result"
    }
   ],
   "source": [
    "data.isna().sum()"
   ]
  },
  {
   "cell_type": "markdown",
   "metadata": {},
   "source": [
    "Пропуски в колонке `rating` возникли по нескольким причинам: рейтинга может не быть у старых игр, так как ESRB была основана в 1994 году, а также из-за того, что видимо она оценивает только игры, выпущенные для США и Канады, поэтому если релиз к примеру был только для Японии, там совсем другая система оценки. \n",
    "\n",
    "Пропуски заполним категорией *'no_rating'*, K-A перезапишем как Е, так как это тоже самое \"Kids to Adults\", только более раняя маркировка. "
   ]
  },
  {
   "cell_type": "code",
   "execution_count": 16,
   "metadata": {},
   "outputs": [
    {
     "data": {
      "text/plain": [
       "array(['E', nan, 'M', 'T', 'E10+', 'K-A', 'AO', 'EC', 'RP'], dtype=object)"
      ]
     },
     "execution_count": 16,
     "metadata": {},
     "output_type": "execute_result"
    }
   ],
   "source": [
    "data['rating'].unique()\n",
    "# список значений рейтинга, добавим расшифровку в описание проекта"
   ]
  },
  {
   "cell_type": "code",
   "execution_count": 17,
   "metadata": {},
   "outputs": [],
   "source": [
    "data['rating'] = data['rating'].replace('K-A', 'E')\n",
    "# заменим дублирующие значения рейтинга\n",
    "\n",
    "data['rating'] = data['rating'].fillna('no_rating')\n",
    "# заполним пропуски в категориях рейтинга"
   ]
  },
  {
   "cell_type": "code",
   "execution_count": 18,
   "metadata": {
    "scrolled": true
   },
   "outputs": [
    {
     "name": "stdout",
     "output_type": "stream",
     "text": [
      "<class 'pandas.core.frame.DataFrame'>\n",
      "Int64Index: 16444 entries, 0 to 16714\n",
      "Data columns (total 11 columns):\n",
      " #   Column           Non-Null Count  Dtype  \n",
      "---  ------           --------------  -----  \n",
      " 0   name             16444 non-null  object \n",
      " 1   platform         16444 non-null  object \n",
      " 2   year_of_release  16444 non-null  int64  \n",
      " 3   genre            16444 non-null  object \n",
      " 4   na_sales         16444 non-null  float64\n",
      " 5   eu_sales         16444 non-null  float64\n",
      " 6   jp_sales         16444 non-null  float64\n",
      " 7   other_sales      16444 non-null  float64\n",
      " 8   critic_score     16444 non-null  float64\n",
      " 9   user_score       16444 non-null  float64\n",
      " 10  rating           16444 non-null  object \n",
      "dtypes: float64(6), int64(1), object(4)\n",
      "memory usage: 1.5+ MB\n"
     ]
    }
   ],
   "source": [
    "data.info()"
   ]
  },
  {
   "cell_type": "markdown",
   "metadata": {},
   "source": [
    "### Проверка дубликатов"
   ]
  },
  {
   "cell_type": "code",
   "execution_count": 19,
   "metadata": {},
   "outputs": [
    {
     "data": {
      "text/plain": [
       "0"
      ]
     },
     "execution_count": 19,
     "metadata": {},
     "output_type": "execute_result"
    }
   ],
   "source": [
    "data.duplicated().sum()"
   ]
  },
  {
   "cell_type": "markdown",
   "metadata": {},
   "source": [
    "Дубликатов не обнаружено, приступаем к дальнейшим расчетам."
   ]
  },
  {
   "cell_type": "markdown",
   "metadata": {},
   "source": [
    "### Расчет и добавление данных\n"
   ]
  },
  {
   "cell_type": "code",
   "execution_count": 20,
   "metadata": {},
   "outputs": [
    {
     "data": {
      "text/html": [
       "<div>\n",
       "<style scoped>\n",
       "    .dataframe tbody tr th:only-of-type {\n",
       "        vertical-align: middle;\n",
       "    }\n",
       "\n",
       "    .dataframe tbody tr th {\n",
       "        vertical-align: top;\n",
       "    }\n",
       "\n",
       "    .dataframe thead th {\n",
       "        text-align: right;\n",
       "    }\n",
       "</style>\n",
       "<table border=\"1\" class=\"dataframe\">\n",
       "  <thead>\n",
       "    <tr style=\"text-align: right;\">\n",
       "      <th></th>\n",
       "      <th>name</th>\n",
       "      <th>platform</th>\n",
       "      <th>year_of_release</th>\n",
       "      <th>genre</th>\n",
       "      <th>na_sales</th>\n",
       "      <th>eu_sales</th>\n",
       "      <th>jp_sales</th>\n",
       "      <th>other_sales</th>\n",
       "      <th>critic_score</th>\n",
       "      <th>user_score</th>\n",
       "      <th>rating</th>\n",
       "      <th>total_sales</th>\n",
       "    </tr>\n",
       "  </thead>\n",
       "  <tbody>\n",
       "    <tr>\n",
       "      <th>15525</th>\n",
       "      <td>Defendin' De Penguin</td>\n",
       "      <td>DS</td>\n",
       "      <td>2008</td>\n",
       "      <td>Strategy</td>\n",
       "      <td>0.02</td>\n",
       "      <td>0.0</td>\n",
       "      <td>0.0</td>\n",
       "      <td>0.0</td>\n",
       "      <td>-1.0</td>\n",
       "      <td>-1.0</td>\n",
       "      <td>no_rating</td>\n",
       "      <td>0.02</td>\n",
       "    </tr>\n",
       "  </tbody>\n",
       "</table>\n",
       "</div>"
      ],
      "text/plain": [
       "                       name platform  year_of_release     genre  na_sales  \\\n",
       "15525  Defendin' De Penguin       DS             2008  Strategy      0.02   \n",
       "\n",
       "       eu_sales  jp_sales  other_sales  critic_score  user_score     rating  \\\n",
       "15525       0.0       0.0          0.0          -1.0        -1.0  no_rating   \n",
       "\n",
       "       total_sales  \n",
       "15525         0.02  "
      ]
     },
     "execution_count": 20,
     "metadata": {},
     "output_type": "execute_result"
    }
   ],
   "source": [
    "data['total_sales'] = data[['na_sales', 'eu_sales', 'jp_sales', 'other_sales']].sum(axis = 1)\n",
    "\n",
    "# считаем суммарные продажи во всех регионах\n",
    "\n",
    "data.sample()"
   ]
  },
  {
   "cell_type": "markdown",
   "metadata": {},
   "source": [
    "**Вывод**\n",
    "\n",
    "Строки с пропусками в годе релиза удалены. Так как нет более адекватного способа заполнения, пропуски в оценке критиков и пользователей заменены \"заглушкой\" со значением -1. Строковое значение tbd в `user_score` переименовано в NaN и обработаны вместе с остальными пропусками в этой колонке. В таблицу добавлен новый столбец с общим количеством продаж во всех странах."
   ]
  },
  {
   "cell_type": "markdown",
   "metadata": {},
   "source": [
    "## Исследовательский анализ данных"
   ]
  },
  {
   "cell_type": "markdown",
   "metadata": {},
   "source": [
    "### Распределение количества выпускаемых игр по годам\n",
    "\n"
   ]
  },
  {
   "cell_type": "code",
   "execution_count": 21,
   "metadata": {
    "scrolled": true
   },
   "outputs": [
    {
     "data": {
      "image/png": "[encoded data removed]",
      "text/plain": [
       "<Figure size 720x288 with 1 Axes>"
      ]
     },
     "metadata": {
      "needs_background": "light"
     },
     "output_type": "display_data"
    }
   ],
   "source": [
    "data['year_of_release'].hist(bins=50, figsize=(10,4)) \n",
    "plt.title('Распределение релизов игр по годам')\n",
    "plt.xlabel('год выпуска')\n",
    "plt.ylabel('количество игр')\n",
    "plt.show()\n",
    "\n",
    "# посмотрим, сколько всего игр выпускалось в разные годы"
   ]
  },
  {
   "cell_type": "markdown",
   "metadata": {},
   "source": [
    "Пик расцвета игровой индустрии приходится примерно на 2006-2010 годы, именно в это время появились консоли 7 поколения - Xbox360 и PS3, случился скачок в графике и физике. Как следствие - битва за рынок и наибольшее количество релизов в данный период. Пик в 2010 определенно связан с появлением высокобюджетных игр triple-A, и их коммерческим успехом. После 2010 заметен очевидный спад продаж - возможно это последствия того, что разработка и рекламные кампании этого класса игр требовали больших затрат и могли не окупиться, поэтому производители не хотели рисковать.\n",
    "\n",
    "Вообще колебания графика могут быть связаны также с циклом жизни консолей - перед выходом новой версии количество выпускаемых игр снижается и разработчики уже трудятся над свежими релизами. Эту гипотезу можно проверить далее с помощью графиков продаж по конкретным консолям."
   ]
  },
  {
   "cell_type": "markdown",
   "metadata": {},
   "source": [
    "### Изучение продаж по платформам"
   ]
  },
  {
   "cell_type": "code",
   "execution_count": 22,
   "metadata": {
    "scrolled": true
   },
   "outputs": [
    {
     "data": {
      "text/html": [
       "<div>\n",
       "<style scoped>\n",
       "    .dataframe tbody tr th:only-of-type {\n",
       "        vertical-align: middle;\n",
       "    }\n",
       "\n",
       "    .dataframe tbody tr th {\n",
       "        vertical-align: top;\n",
       "    }\n",
       "\n",
       "    .dataframe thead th {\n",
       "        text-align: right;\n",
       "    }\n",
       "</style>\n",
       "<table border=\"1\" class=\"dataframe\">\n",
       "  <thead>\n",
       "    <tr style=\"text-align: right;\">\n",
       "      <th></th>\n",
       "      <th>platform</th>\n",
       "      <th>total_sales</th>\n",
       "    </tr>\n",
       "  </thead>\n",
       "  <tbody>\n",
       "    <tr>\n",
       "      <th>0</th>\n",
       "      <td>PS2</td>\n",
       "      <td>1233.56</td>\n",
       "    </tr>\n",
       "    <tr>\n",
       "      <th>1</th>\n",
       "      <td>X360</td>\n",
       "      <td>961.24</td>\n",
       "    </tr>\n",
       "    <tr>\n",
       "      <th>2</th>\n",
       "      <td>PS3</td>\n",
       "      <td>931.34</td>\n",
       "    </tr>\n",
       "    <tr>\n",
       "      <th>3</th>\n",
       "      <td>Wii</td>\n",
       "      <td>891.18</td>\n",
       "    </tr>\n",
       "    <tr>\n",
       "      <th>4</th>\n",
       "      <td>DS</td>\n",
       "      <td>802.78</td>\n",
       "    </tr>\n",
       "    <tr>\n",
       "      <th>5</th>\n",
       "      <td>PS</td>\n",
       "      <td>727.58</td>\n",
       "    </tr>\n",
       "    <tr>\n",
       "      <th>6</th>\n",
       "      <td>PS4</td>\n",
       "      <td>314.14</td>\n",
       "    </tr>\n",
       "    <tr>\n",
       "      <th>7</th>\n",
       "      <td>GBA</td>\n",
       "      <td>312.88</td>\n",
       "    </tr>\n",
       "    <tr>\n",
       "      <th>8</th>\n",
       "      <td>PSP</td>\n",
       "      <td>289.53</td>\n",
       "    </tr>\n",
       "    <tr>\n",
       "      <th>9</th>\n",
       "      <td>3DS</td>\n",
       "      <td>257.81</td>\n",
       "    </tr>\n",
       "  </tbody>\n",
       "</table>\n",
       "</div>"
      ],
      "text/plain": [
       "  platform  total_sales\n",
       "0      PS2      1233.56\n",
       "1     X360       961.24\n",
       "2      PS3       931.34\n",
       "3      Wii       891.18\n",
       "4       DS       802.78\n",
       "5       PS       727.58\n",
       "6      PS4       314.14\n",
       "7      GBA       312.88\n",
       "8      PSP       289.53\n",
       "9      3DS       257.81"
      ]
     },
     "execution_count": 22,
     "metadata": {},
     "output_type": "execute_result"
    }
   ],
   "source": [
    "top_platforms = data.pivot_table(\n",
    "    index='platform', \n",
    "    values='total_sales',\n",
    "    aggfunc='sum').sort_values(by='total_sales', ascending=False).reset_index()\n",
    "\n",
    "top_platforms.head(10)\n",
    "\n",
    "# выберем платформы с наибольшими суммарными продажами"
   ]
  },
  {
   "cell_type": "markdown",
   "metadata": {},
   "source": [
    "\n",
    "PlayStation 2 абсолютный лидер рынка на момент конца 2016 года, также в топе PlayStation 3, Xbox 360 и Nintendo Wii, в рейтинг попала портативная DS от Nintendo. \n",
    "\n",
    "Посмотрим, как распределются продажи игр по годам трех консолей разных брендов-конкурентов."
   ]
  },
  {
   "cell_type": "code",
   "execution_count": 23,
   "metadata": {
    "scrolled": false
   },
   "outputs": [
    {
     "data": {
      "image/png": "[encoded data removed]",
      "text/plain": [
       "<Figure size 720x288 with 1 Axes>"
      ]
     },
     "metadata": {
      "needs_background": "light"
     },
     "output_type": "display_data"
    }
   ],
   "source": [
    "data.query('platform == \"PS2\"').pivot_table(\n",
    "    index='year_of_release', \n",
    "    values='total_sales', \n",
    "    aggfunc='sum').plot(y='total_sales', kind='bar', figsize=(10,4))    \n",
    "\n",
    "\n",
    "plt.title('распределение продаж игр для PlayStation 2')\n",
    "plt.show()"
   ]
  },
  {
   "cell_type": "markdown",
   "metadata": {},
   "source": [
    "PS2 была выпущена в конце 2000 года, поэтому с 2001 виден резкий подъем продаж игр для нее. И хотя у этой консоли был один из самых длинных жизненных циклов - ее производство было прекращено в начале 2013 года, на графике резкий спад с 2006 года - именно тогда компания анонсировала выход новой PS3."
   ]
  },
  {
   "cell_type": "code",
   "execution_count": 24,
   "metadata": {
    "scrolled": true
   },
   "outputs": [
    {
     "data": {
      "image/png": "[encoded data removed]",
      "text/plain": [
       "<Figure size 720x288 with 1 Axes>"
      ]
     },
     "metadata": {
      "needs_background": "light"
     },
     "output_type": "display_data"
    }
   ],
   "source": [
    "data.query('platform == \"X360\"').pivot_table(\n",
    "    index='year_of_release', \n",
    "    values='total_sales', \n",
    "    aggfunc='sum').plot(y='total_sales', kind='bar', figsize=(10,4))    \n",
    "\n",
    "plt.title('распределение продаж игр для Xbox 360') \n",
    "plt.show()"
   ]
  },
  {
   "cell_type": "markdown",
   "metadata": {},
   "source": [
    "Xbox 360 поступил в продажу в конце 2005 года в Северной Америке, Европе и Японии и в 2006 в остальных странах. Небольшой провал на графике в 2009 году как раз может быть связан с ростом популярности конкурента - Nintendo Wii. \n",
    "В 2013 была выпущена консоль следующего поколения - Xbox One и продажи игр для предыдущей версии резко упали."
   ]
  },
  {
   "cell_type": "code",
   "execution_count": 25,
   "metadata": {
    "scrolled": true
   },
   "outputs": [
    {
     "data": {
      "image/png": "[encoded data removed]",
      "text/plain": [
       "<Figure size 720x288 with 1 Axes>"
      ]
     },
     "metadata": {
      "needs_background": "light"
     },
     "output_type": "display_data"
    }
   ],
   "source": [
    "data.query('platform == \"Wii\"').pivot_table(\n",
    "    index='year_of_release', \n",
    "    values='total_sales', \n",
    "    aggfunc='sum').plot(y='total_sales', kind='bar', figsize=(10,4)) \n",
    "\n",
    "plt.title('распределение продаж игр для Nintendo Wii')\n",
    "plt.show()"
   ]
  },
  {
   "cell_type": "markdown",
   "metadata": {},
   "source": [
    "Самая успешная консоль Nintendo вышла в 2006 году и как видно на графике, очень быстро стала популярной, что может быть связано с появлением принципиально нового геймплея - контроллера MotionPlus. Максимальный пик в 2009 - как раз тогда вышел сиквел спортивного симулятора Wii sports. В 2010 была анонсирована и выпущена Nintendo 3DS, и хотя она в отличие от Wii портативная, продажи игр начали резко снижаться."
   ]
  },
  {
   "cell_type": "markdown",
   "metadata": {},
   "source": [
    "**Вывод**\n",
    "\n",
    "Активная фаза жизни платформы составляет 5-7 лет, с анонсированием более новой версии наблюдается спад количества проданных игр. Обычно самые крутые игры выходят на 2-3 год после релиза, а пик продаж приходится на период 2-4 года после запуска консоли. \n",
    "\n",
    "Если мы прогнозируем продажи для рекламной кампании на 2017 год, то следует взять данные за последние 4 года, так как в 2013 были выпущены Xbox one и Playstation 4. И хотя после 4х лет релиза консоли продажи игр для нее уже начинают снижаться, на текущий момент анонса новых версий еще нет, а значит можно ожидать хороших результатов. А вот о грядущем выпуске Nintendo Switch в 2017 уже известно, так что стоит иметь в виду, что эра Wii U подходит к концу."
   ]
  },
  {
   "cell_type": "markdown",
   "metadata": {},
   "source": [
    "### Выбор потенциально прибыльных платформ"
   ]
  },
  {
   "cell_type": "code",
   "execution_count": 26,
   "metadata": {
    "scrolled": false
   },
   "outputs": [
    {
     "data": {
      "text/html": [
       "<div>\n",
       "<style scoped>\n",
       "    .dataframe tbody tr th:only-of-type {\n",
       "        vertical-align: middle;\n",
       "    }\n",
       "\n",
       "    .dataframe tbody tr th {\n",
       "        vertical-align: top;\n",
       "    }\n",
       "\n",
       "    .dataframe thead th {\n",
       "        text-align: right;\n",
       "    }\n",
       "</style>\n",
       "<table border=\"1\" class=\"dataframe\">\n",
       "  <thead>\n",
       "    <tr style=\"text-align: right;\">\n",
       "      <th></th>\n",
       "      <th>platform</th>\n",
       "      <th>total_sales</th>\n",
       "    </tr>\n",
       "  </thead>\n",
       "  <tbody>\n",
       "    <tr>\n",
       "      <th>0</th>\n",
       "      <td>PS4</td>\n",
       "      <td>314.14</td>\n",
       "    </tr>\n",
       "    <tr>\n",
       "      <th>1</th>\n",
       "      <td>PS3</td>\n",
       "      <td>181.43</td>\n",
       "    </tr>\n",
       "    <tr>\n",
       "      <th>2</th>\n",
       "      <td>XOne</td>\n",
       "      <td>159.32</td>\n",
       "    </tr>\n",
       "    <tr>\n",
       "      <th>3</th>\n",
       "      <td>3DS</td>\n",
       "      <td>143.25</td>\n",
       "    </tr>\n",
       "    <tr>\n",
       "      <th>4</th>\n",
       "      <td>X360</td>\n",
       "      <td>136.80</td>\n",
       "    </tr>\n",
       "    <tr>\n",
       "      <th>5</th>\n",
       "      <td>WiiU</td>\n",
       "      <td>64.63</td>\n",
       "    </tr>\n",
       "    <tr>\n",
       "      <th>6</th>\n",
       "      <td>PC</td>\n",
       "      <td>39.43</td>\n",
       "    </tr>\n",
       "    <tr>\n",
       "      <th>7</th>\n",
       "      <td>PSV</td>\n",
       "      <td>32.99</td>\n",
       "    </tr>\n",
       "    <tr>\n",
       "      <th>8</th>\n",
       "      <td>Wii</td>\n",
       "      <td>13.66</td>\n",
       "    </tr>\n",
       "    <tr>\n",
       "      <th>9</th>\n",
       "      <td>PSP</td>\n",
       "      <td>3.50</td>\n",
       "    </tr>\n",
       "  </tbody>\n",
       "</table>\n",
       "</div>"
      ],
      "text/plain": [
       "  platform  total_sales\n",
       "0      PS4       314.14\n",
       "1      PS3       181.43\n",
       "2     XOne       159.32\n",
       "3      3DS       143.25\n",
       "4     X360       136.80\n",
       "5     WiiU        64.63\n",
       "6       PC        39.43\n",
       "7      PSV        32.99\n",
       "8      Wii        13.66\n",
       "9      PSP         3.50"
      ]
     },
     "metadata": {},
     "output_type": "display_data"
    }
   ],
   "source": [
    "games = data.query('year_of_release >= 2013')\n",
    "# срез данных для анализа за актуальный период  \n",
    "\n",
    "platforms = games.pivot_table(\n",
    "    index='platform', \n",
    "    values='total_sales',\n",
    "    aggfunc='sum').sort_values(by='total_sales', ascending=False).reset_index()\n",
    "\n",
    "display(platforms.head(10))\n",
    "\n",
    "# платформы с наибольшими продажами за актуальный период"
   ]
  },
  {
   "cell_type": "code",
   "execution_count": 27,
   "metadata": {
    "scrolled": true
   },
   "outputs": [
    {
     "data": {
      "image/png": "[encoded data removed]",
      "text/plain": [
       "<Figure size 720x288 with 1 Axes>"
      ]
     },
     "metadata": {
      "needs_background": "light"
     },
     "output_type": "display_data"
    }
   ],
   "source": [
    "ax = games.query('platform == \"PS4\"').groupby('year_of_release').agg(\n",
    "    {'total_sales':'sum'}).plot(figsize=(10,4))\n",
    "\n",
    "games.query('platform == \"PS3\"').groupby('year_of_release').agg({'total_sales':'sum'}).plot(ax=ax)\n",
    "\n",
    "games.query('platform == \"XOne\"').groupby('year_of_release').agg({'total_sales':'sum'}).plot(ax=ax)\n",
    "\n",
    "games.query('platform == \"X360\"').groupby('year_of_release').agg({'total_sales':'sum'}).plot(ax=ax)\n",
    "\n",
    "games.query('platform == \"WiiU\"').groupby('year_of_release').agg({'total_sales':'sum'}).plot(ax=ax)\n",
    "\n",
    "plt.legend(['PS4', 'PS3', 'XOne', 'X360', 'WiiU'])\n",
    "plt.title('Динамика продаж игр для разных платформ')\n",
    "plt.show()\n"
   ]
  },
  {
   "cell_type": "code",
   "execution_count": 28,
   "metadata": {
    "scrolled": true
   },
   "outputs": [
    {
     "data": {
      "image/png": "[encoded data removed]",
      "text/plain": [
       "<Figure size 720x288 with 1 Axes>"
      ]
     },
     "metadata": {
      "needs_background": "light"
     },
     "output_type": "display_data"
    }
   ],
   "source": [
    "ax = games.query('platform == \"3DS\"').groupby('year_of_release').agg(\n",
    "    {'total_sales':'sum'}).plot(figsize=(10,4))\n",
    "\n",
    "games.query('platform == \"PSV\"').groupby('year_of_release').agg({'total_sales':'sum'}).plot(ax=ax)\n",
    "\n",
    "games.query('platform == \"PC\"').groupby('year_of_release').agg({'total_sales':'sum'}).plot(ax=ax)\n",
    "\n",
    "plt.legend(['3DS', 'PSV', 'PC'])\n",
    "plt.title('Динамика продаж игр для портативных консолей и ПК')\n",
    "plt.show()"
   ]
  },
  {
   "cell_type": "markdown",
   "metadata": {},
   "source": [
    "**Вывод**\n",
    "\n",
    "Предположения из выводов предыдущей части подтвердились - консоли предыдущего поколения PS3 и X360 стремительно падают. Хотя в продажах последних версий PS4 и XOne также наблюдается снижение, это может быть связано с отсутствием полных данных за 2016 год. PlayStation в целом уделывает Xbox. WiiU не получила ожидаемого успеха в том числе из-за провала маркетинговой кампании - пользователи ожидали гибридную консоль. Что касается портативных моделей, некогда очень популярная 3DS сдает позиции, так как вот-вот выйдет новая комбинированная консоль от Nintendo. Продажи игр для ПК стабильно не очень.\n",
    "\n",
    "Итог - делаем ставку в первую очередь на PS4, потом на XOne, ждем Nintendo Switch. Немного бюджета можно заложить на 3DS для тех, кто сразу не сможет позволить себе новинку а также на PC, чтобы охватить и эту категорию покупателей."
   ]
  },
  {
   "cell_type": "markdown",
   "metadata": {},
   "source": [
    "### Глобальные продажи игр в разбивке по платформам"
   ]
  },
  {
   "cell_type": "code",
   "execution_count": 29,
   "metadata": {
    "scrolled": false
   },
   "outputs": [
    {
     "data": {
      "image/png": "[encoded data removed]",
      "text/plain": [
       "<Figure size 720x360 with 1 Axes>"
      ]
     },
     "metadata": {
      "needs_background": "light"
     },
     "output_type": "display_data"
    }
   ],
   "source": [
    "games.boxplot(column='total_sales', by='platform', figsize=(10,5))\n",
    "\n",
    "plt.title('Глобальные продажи игр по платформам')\n",
    "plt.xlabel('платформы')\n",
    "plt.ylabel('продажи')\n",
    "plt.show()\n",
    "\n",
    "# строим диаграмму размаха, с выбросами"
   ]
  },
  {
   "cell_type": "code",
   "execution_count": 30,
   "metadata": {},
   "outputs": [
    {
     "data": {
      "image/png": "[encoded data removed]",
      "text/plain": [
       "<Figure size 720x360 with 1 Axes>"
      ]
     },
     "metadata": {
      "needs_background": "light"
     },
     "output_type": "display_data"
    }
   ],
   "source": [
    "games.boxplot(column='total_sales', by='platform', figsize=(10, 5))\n",
    "\n",
    "plt.title('Глобальные продажи игр по платформам')\n",
    "plt.ylim(0,1)\n",
    "plt.xlabel('платформы')\n",
    "plt.ylabel('продажи')\n",
    "plt.show()\n",
    "\n",
    "# масштабированная диаграмма размаха по тем же данным"
   ]
  },
  {
   "cell_type": "markdown",
   "metadata": {},
   "source": [
    "На этом графике видна одна из тенденций последних лет - консоли активно вытесняют ПК, так как игры для консолей приносят больше денег - и спиратить их невозможно.\n",
    "А также провал портативной PlayStation - ни одна игра для нее не продалась в количестве более чем 250 тысяч копий.\n",
    "Лидеры рынка платформы-ровесники типа XOne и PS4 демонстрируют схожие результаты - больше половины игр преодолели отметку в 200 тысяч продаж. "
   ]
  },
  {
   "cell_type": "markdown",
   "metadata": {},
   "source": [
    "### Влияние на продажи отзывов пользователей и критиков"
   ]
  },
  {
   "cell_type": "markdown",
   "metadata": {},
   "source": [
    "Выберем для анализа несколько платформ с высокими продажами игр, а также добавим ПК и одну портативную консоль для разнообразия. Помня о заглушке в -1 в оценке критиков и пользователей сделаем срез и напишем цикл для постороения графиков корреляции."
   ]
  },
  {
   "cell_type": "code",
   "execution_count": 31,
   "metadata": {},
   "outputs": [
    {
     "data": {
      "image/png": "[encoded data removed]",
      "text/plain": [
       "<Figure size 432x288 with 1 Axes>"
      ]
     },
     "metadata": {
      "needs_background": "light"
     },
     "output_type": "display_data"
    },
    {
     "data": {
      "image/png": "[encoded data removed]",
      "text/plain": [
       "<Figure size 432x288 with 1 Axes>"
      ]
     },
     "metadata": {
      "needs_background": "light"
     },
     "output_type": "display_data"
    },
    {
     "data": {
      "image/png": "[encoded data removed]",
      "text/plain": [
       "<Figure size 432x288 with 1 Axes>"
      ]
     },
     "metadata": {
      "needs_background": "light"
     },
     "output_type": "display_data"
    },
    {
     "data": {
      "image/png": "[encoded data removed]",
      "text/plain": [
       "<Figure size 432x288 with 1 Axes>"
      ]
     },
     "metadata": {
      "needs_background": "light"
     },
     "output_type": "display_data"
    },
    {
     "data": {
      "image/png": "[encoded data removed]",
      "text/plain": [
       "<Figure size 432x288 with 1 Axes>"
      ]
     },
     "metadata": {
      "needs_background": "light"
     },
     "output_type": "display_data"
    },
    {
     "data": {
      "image/png": "[encoded data removed]",
      "text/plain": [
       "<Figure size 432x288 with 1 Axes>"
      ]
     },
     "metadata": {
      "needs_background": "light"
     },
     "output_type": "display_data"
    },
    {
     "data": {
      "image/png": "[encoded data removed]",
      "text/plain": [
       "<Figure size 432x288 with 1 Axes>"
      ]
     },
     "metadata": {
      "needs_background": "light"
     },
     "output_type": "display_data"
    }
   ],
   "source": [
    "platform_list = ['PS4', 'PS3', 'X360', '3DS', 'XOne', 'WiiU', 'PC']\n",
    "# выбираем платформы для анализа\n",
    "\n",
    "for element in platform_list:\n",
    "    element_critic_score = games.query('platform == @element and critic_score != -1')\n",
    "    element_critic_score.plot(x='critic_score',\n",
    "                              y='total_sales', \n",
    "                              kind='scatter', \n",
    "                              alpha=0.5, \n",
    "                              grid=True,\n",
    "                              title=element)\n",
    "    \n",
    "# пишем функцию, которая выведет графики зависимости от отзывов критиков по списку платформ                            "
   ]
  },
  {
   "cell_type": "code",
   "execution_count": 32,
   "metadata": {
    "scrolled": true
   },
   "outputs": [
    {
     "data": {
      "image/png": "[encoded data removed]",
      "text/plain": [
       "<Figure size 432x288 with 1 Axes>"
      ]
     },
     "metadata": {
      "needs_background": "light"
     },
     "output_type": "display_data"
    },
    {
     "data": {
      "image/png": "[encoded data removed]",
      "text/plain": [
       "<Figure size 432x288 with 1 Axes>"
      ]
     },
     "metadata": {
      "needs_background": "light"
     },
     "output_type": "display_data"
    },
    {
     "data": {
      "image/png": "[encoded data removed]",
      "text/plain": [
       "<Figure size 432x288 with 1 Axes>"
      ]
     },
     "metadata": {
      "needs_background": "light"
     },
     "output_type": "display_data"
    },
    {
     "data": {
      "image/png": "[encoded data removed]",
      "text/plain": [
       "<Figure size 432x288 with 1 Axes>"
      ]
     },
     "metadata": {
      "needs_background": "light"
     },
     "output_type": "display_data"
    },
    {
     "data": {
      "image/png": "[encoded data removed]",
      "text/plain": [
       "<Figure size 432x288 with 1 Axes>"
      ]
     },
     "metadata": {
      "needs_background": "light"
     },
     "output_type": "display_data"
    },
    {
     "data": {
      "image/png": "[encoded data removed]",
      "text/plain": [
       "<Figure size 432x288 with 1 Axes>"
      ]
     },
     "metadata": {
      "needs_background": "light"
     },
     "output_type": "display_data"
    },
    {
     "data": {
      "image/png": "[encoded data removed]",
      "text/plain": [
       "<Figure size 432x288 with 1 Axes>"
      ]
     },
     "metadata": {
      "needs_background": "light"
     },
     "output_type": "display_data"
    }
   ],
   "source": [
    "for element in platform_list:\n",
    "    element_user_score = games.query('platform == @element and user_score != -1')\n",
    "    element_user_score.plot(x='user_score',\n",
    "                            y='total_sales', \n",
    "                            kind='scatter', \n",
    "                            alpha=0.5, \n",
    "                            grid=True,\n",
    "                            title=element)\n",
    "    \n",
    "# то же самое для графиков зависимости от пользовательских отзывов    "
   ]
  },
  {
   "cell_type": "code",
   "execution_count": 33,
   "metadata": {
    "scrolled": true
   },
   "outputs": [
    {
     "name": "stdout",
     "output_type": "stream",
     "text": [
      "Корреляция между отзывами критиков и продажами: 0.19603028294369382\n",
      "Корреляция между отзывами пользователей и продажами: -0.09384186952476739\n"
     ]
    }
   ],
   "source": [
    "print('Корреляция между отзывами критиков и продажами: {}'.format(\n",
    "    element_critic_score['total_sales'].corr(element_critic_score['critic_score'])))\n",
    "\n",
    "print('Корреляция между отзывами пользователей и продажами: {}'.format(\n",
    "    element_user_score['total_sales'].corr(element_user_score['user_score'])))\n"
   ]
  },
  {
   "cell_type": "markdown",
   "metadata": {},
   "source": [
    "Игры, получившие хорошую оценку у критиков в целом продаются лучше, чем те, что не добрали баллов. Это особенно наглядно для PS4, XOne, WiiU и даже для ПК. Для PS3 и X360 это не так показательно, ведь это платформы предыдущего поколения, а значит и продажи там значительно ниже. Однако на графиках также видно, что высокая оценка от критиков вовсе не означает, что игра будет хорошо продаваться. Как уже было сказано ранее, профессионалы предпочитают хорошо оценивать новинки.\n",
    "\n",
    "А вот что касается влияния на продажи пользовательских отзывов, и графики и отрицательная корреляция говорят о том, что прямой связи нет. Особенно это видно на графике для XOne и даже частично для PC. Игры могут собрать массу негативных отзывов от пользователей, но все равно стать бестселлерами. Судя по визуализации, пользователи вообще гораздо чаще критиков не стесняются оценивать игры как средненькие или даже плохие. Известны случаи, когда игроки обрушивали рейтинг из-за того, что были недовольны отсутствием локального языка или новым апдейтом игры."
   ]
  },
  {
   "cell_type": "markdown",
   "metadata": {},
   "source": [
    "### Распределение продаж игр по жанрам\n"
   ]
  },
  {
   "cell_type": "markdown",
   "metadata": {},
   "source": [
    "Для начала посмотрим, каких игр в выбранный период выпускалось больше всего. Затем оставим сводную таблицу медианных продаж по жанрам в порядке убывания, построим диаграмму размаха "
   ]
  },
  {
   "cell_type": "code",
   "execution_count": 34,
   "metadata": {},
   "outputs": [
    {
     "data": {
      "text/html": [
       "<div>\n",
       "<style scoped>\n",
       "    .dataframe tbody tr th:only-of-type {\n",
       "        vertical-align: middle;\n",
       "    }\n",
       "\n",
       "    .dataframe tbody tr th {\n",
       "        vertical-align: top;\n",
       "    }\n",
       "\n",
       "    .dataframe thead th {\n",
       "        text-align: right;\n",
       "    }\n",
       "</style>\n",
       "<table border=\"1\" class=\"dataframe\">\n",
       "  <thead>\n",
       "    <tr style=\"text-align: right;\">\n",
       "      <th></th>\n",
       "      <th>name</th>\n",
       "    </tr>\n",
       "    <tr>\n",
       "      <th>genre</th>\n",
       "      <th></th>\n",
       "    </tr>\n",
       "  </thead>\n",
       "  <tbody>\n",
       "    <tr>\n",
       "      <th>Action</th>\n",
       "      <td>766</td>\n",
       "    </tr>\n",
       "    <tr>\n",
       "      <th>Role-Playing</th>\n",
       "      <td>292</td>\n",
       "    </tr>\n",
       "    <tr>\n",
       "      <th>Adventure</th>\n",
       "      <td>245</td>\n",
       "    </tr>\n",
       "    <tr>\n",
       "      <th>Sports</th>\n",
       "      <td>214</td>\n",
       "    </tr>\n",
       "    <tr>\n",
       "      <th>Shooter</th>\n",
       "      <td>187</td>\n",
       "    </tr>\n",
       "    <tr>\n",
       "      <th>Misc</th>\n",
       "      <td>155</td>\n",
       "    </tr>\n",
       "    <tr>\n",
       "      <th>Racing</th>\n",
       "      <td>85</td>\n",
       "    </tr>\n",
       "    <tr>\n",
       "      <th>Fighting</th>\n",
       "      <td>80</td>\n",
       "    </tr>\n",
       "    <tr>\n",
       "      <th>Platform</th>\n",
       "      <td>74</td>\n",
       "    </tr>\n",
       "    <tr>\n",
       "      <th>Simulation</th>\n",
       "      <td>62</td>\n",
       "    </tr>\n",
       "    <tr>\n",
       "      <th>Strategy</th>\n",
       "      <td>56</td>\n",
       "    </tr>\n",
       "    <tr>\n",
       "      <th>Puzzle</th>\n",
       "      <td>17</td>\n",
       "    </tr>\n",
       "  </tbody>\n",
       "</table>\n",
       "</div>"
      ],
      "text/plain": [
       "              name\n",
       "genre             \n",
       "Action         766\n",
       "Role-Playing   292\n",
       "Adventure      245\n",
       "Sports         214\n",
       "Shooter        187\n",
       "Misc           155\n",
       "Racing          85\n",
       "Fighting        80\n",
       "Platform        74\n",
       "Simulation      62\n",
       "Strategy        56\n",
       "Puzzle          17"
      ]
     },
     "execution_count": 34,
     "metadata": {},
     "output_type": "execute_result"
    }
   ],
   "source": [
    "popular_genre = games.groupby('genre').agg(\n",
    "    {'name':'count'}).sort_values(\n",
    "     by='name', ascending=False)\n",
    "\n",
    "popular_genre # составляем список топ-жанров"
   ]
  },
  {
   "cell_type": "code",
   "execution_count": 35,
   "metadata": {
    "scrolled": true
   },
   "outputs": [
    {
     "data": {
      "text/html": [
       "<div>\n",
       "<style scoped>\n",
       "    .dataframe tbody tr th:only-of-type {\n",
       "        vertical-align: middle;\n",
       "    }\n",
       "\n",
       "    .dataframe tbody tr th {\n",
       "        vertical-align: top;\n",
       "    }\n",
       "\n",
       "    .dataframe thead th {\n",
       "        text-align: right;\n",
       "    }\n",
       "</style>\n",
       "<table border=\"1\" class=\"dataframe\">\n",
       "  <thead>\n",
       "    <tr style=\"text-align: right;\">\n",
       "      <th></th>\n",
       "      <th>genre</th>\n",
       "      <th>total_sales</th>\n",
       "    </tr>\n",
       "  </thead>\n",
       "  <tbody>\n",
       "    <tr>\n",
       "      <th>0</th>\n",
       "      <td>Shooter</td>\n",
       "      <td>0.450</td>\n",
       "    </tr>\n",
       "    <tr>\n",
       "      <th>1</th>\n",
       "      <td>Sports</td>\n",
       "      <td>0.240</td>\n",
       "    </tr>\n",
       "    <tr>\n",
       "      <th>2</th>\n",
       "      <td>Platform</td>\n",
       "      <td>0.225</td>\n",
       "    </tr>\n",
       "    <tr>\n",
       "      <th>3</th>\n",
       "      <td>Role-Playing</td>\n",
       "      <td>0.125</td>\n",
       "    </tr>\n",
       "    <tr>\n",
       "      <th>4</th>\n",
       "      <td>Fighting</td>\n",
       "      <td>0.125</td>\n",
       "    </tr>\n",
       "    <tr>\n",
       "      <th>5</th>\n",
       "      <td>Racing</td>\n",
       "      <td>0.120</td>\n",
       "    </tr>\n",
       "    <tr>\n",
       "      <th>6</th>\n",
       "      <td>Action</td>\n",
       "      <td>0.110</td>\n",
       "    </tr>\n",
       "    <tr>\n",
       "      <th>7</th>\n",
       "      <td>Simulation</td>\n",
       "      <td>0.100</td>\n",
       "    </tr>\n",
       "    <tr>\n",
       "      <th>8</th>\n",
       "      <td>Misc</td>\n",
       "      <td>0.100</td>\n",
       "    </tr>\n",
       "    <tr>\n",
       "      <th>9</th>\n",
       "      <td>Strategy</td>\n",
       "      <td>0.080</td>\n",
       "    </tr>\n",
       "    <tr>\n",
       "      <th>10</th>\n",
       "      <td>Puzzle</td>\n",
       "      <td>0.060</td>\n",
       "    </tr>\n",
       "    <tr>\n",
       "      <th>11</th>\n",
       "      <td>Adventure</td>\n",
       "      <td>0.030</td>\n",
       "    </tr>\n",
       "  </tbody>\n",
       "</table>\n",
       "</div>"
      ],
      "text/plain": [
       "           genre  total_sales\n",
       "0        Shooter        0.450\n",
       "1         Sports        0.240\n",
       "2       Platform        0.225\n",
       "3   Role-Playing        0.125\n",
       "4       Fighting        0.125\n",
       "5         Racing        0.120\n",
       "6         Action        0.110\n",
       "7     Simulation        0.100\n",
       "8           Misc        0.100\n",
       "9       Strategy        0.080\n",
       "10        Puzzle        0.060\n",
       "11     Adventure        0.030"
      ]
     },
     "execution_count": 35,
     "metadata": {},
     "output_type": "execute_result"
    }
   ],
   "source": [
    "sales_genre = games.pivot_table(index='genre', \n",
    "                                values='total_sales', \n",
    "                                aggfunc='median').sort_values(by='total_sales', \n",
    "                                                              ascending=False).reset_index()\n",
    "sales_genre # медианные продажи по жанрам"
   ]
  },
  {
   "cell_type": "code",
   "execution_count": 36,
   "metadata": {},
   "outputs": [
    {
     "data": {
      "image/png": "[encoded data removed]",
      "text/plain": [
       "<Figure size 864x360 with 1 Axes>"
      ]
     },
     "metadata": {
      "needs_background": "light"
     },
     "output_type": "display_data"
    }
   ],
   "source": [
    "games.boxplot(column='total_sales', by='genre', figsize=(12, 5))\n",
    "\n",
    "plt.title('распределение продаж по жанрам')\n",
    "plt.ylim(0, 2)\n",
    "plt.show()"
   ]
  },
  {
   "cell_type": "markdown",
   "metadata": {},
   "source": [
    "Самым коммерчески успешным жанром независимо от платформы является Shooter - медианные продажи составляют почти полмиллиона. Также высокие результаты у спортивных симуляторов и неожиданно у игр-платформеров, хотя последних выходит не так много, но видимо они все стабильно приносят высокий доход.\n",
    "\n",
    "А вот Action внезапно не такой прибыльный, хотя игр в этом жанре выпускается больше всего. Такая же ситуация с Adventure - приключений выпускается много, а продаются они довольно плохо, этот жанр можно назвать явным аутсайдером для вложений рекламного бюджета. Про Puzzle тоже стоит забыть, и выпускается их очень мало."
   ]
  },
  {
   "cell_type": "markdown",
   "metadata": {},
   "source": [
    "## Портрет пользователей по регионам"
   ]
  },
  {
   "cell_type": "markdown",
   "metadata": {},
   "source": [
    "### Самые популярные платформы "
   ]
  },
  {
   "cell_type": "code",
   "execution_count": 37,
   "metadata": {},
   "outputs": [
    {
     "data": {
      "text/html": [
       "<div>\n",
       "<style scoped>\n",
       "    .dataframe tbody tr th:only-of-type {\n",
       "        vertical-align: middle;\n",
       "    }\n",
       "\n",
       "    .dataframe tbody tr th {\n",
       "        vertical-align: top;\n",
       "    }\n",
       "\n",
       "    .dataframe thead th {\n",
       "        text-align: right;\n",
       "    }\n",
       "</style>\n",
       "<table border=\"1\" class=\"dataframe\">\n",
       "  <thead>\n",
       "    <tr style=\"text-align: right;\">\n",
       "      <th></th>\n",
       "      <th>na_sales</th>\n",
       "    </tr>\n",
       "    <tr>\n",
       "      <th>platform</th>\n",
       "      <th></th>\n",
       "    </tr>\n",
       "  </thead>\n",
       "  <tbody>\n",
       "    <tr>\n",
       "      <th>PS4</th>\n",
       "      <td>108.74</td>\n",
       "    </tr>\n",
       "    <tr>\n",
       "      <th>XOne</th>\n",
       "      <td>93.12</td>\n",
       "    </tr>\n",
       "    <tr>\n",
       "      <th>X360</th>\n",
       "      <td>81.66</td>\n",
       "    </tr>\n",
       "    <tr>\n",
       "      <th>PS3</th>\n",
       "      <td>63.50</td>\n",
       "    </tr>\n",
       "    <tr>\n",
       "      <th>3DS</th>\n",
       "      <td>38.20</td>\n",
       "    </tr>\n",
       "    <tr>\n",
       "      <th>WiiU</th>\n",
       "      <td>29.21</td>\n",
       "    </tr>\n",
       "    <tr>\n",
       "      <th>PC</th>\n",
       "      <td>11.11</td>\n",
       "    </tr>\n",
       "    <tr>\n",
       "      <th>Wii</th>\n",
       "      <td>6.56</td>\n",
       "    </tr>\n",
       "    <tr>\n",
       "      <th>PSV</th>\n",
       "      <td>5.04</td>\n",
       "    </tr>\n",
       "    <tr>\n",
       "      <th>DS</th>\n",
       "      <td>0.57</td>\n",
       "    </tr>\n",
       "    <tr>\n",
       "      <th>PSP</th>\n",
       "      <td>0.00</td>\n",
       "    </tr>\n",
       "  </tbody>\n",
       "</table>\n",
       "</div>"
      ],
      "text/plain": [
       "          na_sales\n",
       "platform          \n",
       "PS4         108.74\n",
       "XOne         93.12\n",
       "X360         81.66\n",
       "PS3          63.50\n",
       "3DS          38.20\n",
       "WiiU         29.21\n",
       "PC           11.11\n",
       "Wii           6.56\n",
       "PSV           5.04\n",
       "DS            0.57\n",
       "PSP           0.00"
      ]
     },
     "execution_count": 37,
     "metadata": {},
     "output_type": "execute_result"
    }
   ],
   "source": [
    "na_platform = games.groupby(by='platform').agg(\n",
    "    {'na_sales':'sum'}).sort_values(\n",
    "    by='na_sales', ascending=False)\n",
    "\n",
    "na_platform\n",
    "# считаем суммарные продажи по региону US"
   ]
  },
  {
   "cell_type": "code",
   "execution_count": 38,
   "metadata": {
    "scrolled": true
   },
   "outputs": [
    {
     "data": {
      "image/png": "[encoded data removed]",
      "text/plain": [
       "<Figure size 432x432 with 1 Axes>"
      ]
     },
     "metadata": {},
     "output_type": "display_data"
    }
   ],
   "source": [
    "na_platform.head(9).plot(y='na_sales', kind='pie', autopct = '%.0f%%', figsize=(6, 6))\n",
    "plt.title('Самые популярные платформы в Северной Америке')\n",
    "plt.show()\n",
    "# две последние строки рейтинга не отображаем - у них незначительные продажи"
   ]
  },
  {
   "cell_type": "code",
   "execution_count": 39,
   "metadata": {},
   "outputs": [
    {
     "data": {
      "text/html": [
       "<div>\n",
       "<style scoped>\n",
       "    .dataframe tbody tr th:only-of-type {\n",
       "        vertical-align: middle;\n",
       "    }\n",
       "\n",
       "    .dataframe tbody tr th {\n",
       "        vertical-align: top;\n",
       "    }\n",
       "\n",
       "    .dataframe thead th {\n",
       "        text-align: right;\n",
       "    }\n",
       "</style>\n",
       "<table border=\"1\" class=\"dataframe\">\n",
       "  <thead>\n",
       "    <tr style=\"text-align: right;\">\n",
       "      <th></th>\n",
       "      <th>eu_sales</th>\n",
       "    </tr>\n",
       "    <tr>\n",
       "      <th>platform</th>\n",
       "      <th></th>\n",
       "    </tr>\n",
       "  </thead>\n",
       "  <tbody>\n",
       "    <tr>\n",
       "      <th>PS4</th>\n",
       "      <td>141.09</td>\n",
       "    </tr>\n",
       "    <tr>\n",
       "      <th>PS3</th>\n",
       "      <td>67.81</td>\n",
       "    </tr>\n",
       "    <tr>\n",
       "      <th>XOne</th>\n",
       "      <td>51.59</td>\n",
       "    </tr>\n",
       "    <tr>\n",
       "      <th>X360</th>\n",
       "      <td>42.52</td>\n",
       "    </tr>\n",
       "    <tr>\n",
       "      <th>3DS</th>\n",
       "      <td>30.96</td>\n",
       "    </tr>\n",
       "    <tr>\n",
       "      <th>PC</th>\n",
       "      <td>25.36</td>\n",
       "    </tr>\n",
       "    <tr>\n",
       "      <th>WiiU</th>\n",
       "      <td>19.85</td>\n",
       "    </tr>\n",
       "    <tr>\n",
       "      <th>PSV</th>\n",
       "      <td>6.10</td>\n",
       "    </tr>\n",
       "    <tr>\n",
       "      <th>Wii</th>\n",
       "      <td>5.93</td>\n",
       "    </tr>\n",
       "    <tr>\n",
       "      <th>DS</th>\n",
       "      <td>0.85</td>\n",
       "    </tr>\n",
       "    <tr>\n",
       "      <th>PSP</th>\n",
       "      <td>0.17</td>\n",
       "    </tr>\n",
       "  </tbody>\n",
       "</table>\n",
       "</div>"
      ],
      "text/plain": [
       "          eu_sales\n",
       "platform          \n",
       "PS4         141.09\n",
       "PS3          67.81\n",
       "XOne         51.59\n",
       "X360         42.52\n",
       "3DS          30.96\n",
       "PC           25.36\n",
       "WiiU         19.85\n",
       "PSV           6.10\n",
       "Wii           5.93\n",
       "DS            0.85\n",
       "PSP           0.17"
      ]
     },
     "execution_count": 39,
     "metadata": {},
     "output_type": "execute_result"
    }
   ],
   "source": [
    "eu_platform = games.groupby(by='platform').agg(\n",
    "    {'eu_sales':'sum'}).sort_values(\n",
    "    by='eu_sales', ascending=False)\n",
    "\n",
    "eu_platform\n",
    "# считаем суммарные продажи по региону EU"
   ]
  },
  {
   "cell_type": "code",
   "execution_count": 40,
   "metadata": {},
   "outputs": [
    {
     "data": {
      "image/png": "[encoded data removed]",
      "text/plain": [
       "<Figure size 432x432 with 1 Axes>"
      ]
     },
     "metadata": {},
     "output_type": "display_data"
    }
   ],
   "source": [
    "eu_platform.head(9).plot(y='eu_sales', kind='pie', autopct = '%.0f%%', figsize=(6, 6))\n",
    "plt.title('Самые популярные платформы в Европе')\n",
    "plt.show()"
   ]
  },
  {
   "cell_type": "code",
   "execution_count": 41,
   "metadata": {},
   "outputs": [
    {
     "data": {
      "text/html": [
       "<div>\n",
       "<style scoped>\n",
       "    .dataframe tbody tr th:only-of-type {\n",
       "        vertical-align: middle;\n",
       "    }\n",
       "\n",
       "    .dataframe tbody tr th {\n",
       "        vertical-align: top;\n",
       "    }\n",
       "\n",
       "    .dataframe thead th {\n",
       "        text-align: right;\n",
       "    }\n",
       "</style>\n",
       "<table border=\"1\" class=\"dataframe\">\n",
       "  <thead>\n",
       "    <tr style=\"text-align: right;\">\n",
       "      <th></th>\n",
       "      <th>jp_sales</th>\n",
       "    </tr>\n",
       "    <tr>\n",
       "      <th>platform</th>\n",
       "      <th></th>\n",
       "    </tr>\n",
       "  </thead>\n",
       "  <tbody>\n",
       "    <tr>\n",
       "      <th>3DS</th>\n",
       "      <td>67.81</td>\n",
       "    </tr>\n",
       "    <tr>\n",
       "      <th>PS3</th>\n",
       "      <td>23.35</td>\n",
       "    </tr>\n",
       "    <tr>\n",
       "      <th>PSV</th>\n",
       "      <td>18.59</td>\n",
       "    </tr>\n",
       "    <tr>\n",
       "      <th>PS4</th>\n",
       "      <td>15.96</td>\n",
       "    </tr>\n",
       "    <tr>\n",
       "      <th>WiiU</th>\n",
       "      <td>10.88</td>\n",
       "    </tr>\n",
       "    <tr>\n",
       "      <th>PSP</th>\n",
       "      <td>3.29</td>\n",
       "    </tr>\n",
       "    <tr>\n",
       "      <th>X360</th>\n",
       "      <td>0.51</td>\n",
       "    </tr>\n",
       "    <tr>\n",
       "      <th>XOne</th>\n",
       "      <td>0.34</td>\n",
       "    </tr>\n",
       "    <tr>\n",
       "      <th>Wii</th>\n",
       "      <td>0.05</td>\n",
       "    </tr>\n",
       "    <tr>\n",
       "      <th>DS</th>\n",
       "      <td>0.00</td>\n",
       "    </tr>\n",
       "    <tr>\n",
       "      <th>PC</th>\n",
       "      <td>0.00</td>\n",
       "    </tr>\n",
       "  </tbody>\n",
       "</table>\n",
       "</div>"
      ],
      "text/plain": [
       "          jp_sales\n",
       "platform          \n",
       "3DS          67.81\n",
       "PS3          23.35\n",
       "PSV          18.59\n",
       "PS4          15.96\n",
       "WiiU         10.88\n",
       "PSP           3.29\n",
       "X360          0.51\n",
       "XOne          0.34\n",
       "Wii           0.05\n",
       "DS            0.00\n",
       "PC            0.00"
      ]
     },
     "execution_count": 41,
     "metadata": {},
     "output_type": "execute_result"
    }
   ],
   "source": [
    "jp_platform = games.groupby(by='platform').agg(\n",
    "    {'jp_sales':'sum'}).sort_values(\n",
    "    by='jp_sales', ascending=False)\n",
    "\n",
    "jp_platform\n",
    "# считаем суммарные продажи по региону JP"
   ]
  },
  {
   "cell_type": "code",
   "execution_count": 42,
   "metadata": {
    "scrolled": true
   },
   "outputs": [
    {
     "data": {
      "image/png": "[encoded data removed]",
      "text/plain": [
       "<Figure size 432x432 with 1 Axes>"
      ]
     },
     "metadata": {},
     "output_type": "display_data"
    }
   ],
   "source": [
    "jp_platform.head(6).plot(y='jp_sales', kind='pie', autopct = '%.0f%%', figsize=(6, 6))\n",
    "plt.title('Самые популярные платформы в Японии')\n",
    "plt.show()\n",
    "# здесь смотрим top-6 платформ"
   ]
  },
  {
   "cell_type": "markdown",
   "metadata": {},
   "source": [
    "Рынок США делят поровну производители PlayStation и Xbox  - суммарно продажи PS4 и PS3 составляют 40% от общих, как и у XOne и X360. В Европе же пользователи явно предпочитают продукцию компании PlayStation - продажи игр на консолях двух поколений составляют 53%, а у Xbox только 24%. Интересно, что продажи игр для PC в Европе выше, чем в США - есть предположение, что это связано с тем, что в некоторых странах ЕС вроде Германии довольно дорогой интернет и поэтому игры для персональных компьютеров еще пользуются спросом, ведт они не требуют постоянное и быстрое соединение с сетью. \n",
    "\n",
    "У Японии, как и у России, свой особый путь - в отличие от US и EU, здесь господствуют портативные консоли - около 61% суммарно, даже PSV, которая в других регионах не пользовалась успехом, здесь занимает 13%. Японцы больше всего ценят продукцию местного производителя Nintendo и в первую очередь его портативную консоль 3DS. Приставки PlayStation также пользуются спросом - на их общую долю приходится 43% рынка, игры для Xbox почти не продаются, для PC продажи нулевые."
   ]
  },
  {
   "cell_type": "markdown",
   "metadata": {},
   "source": [
    "### Самые популярные жанры"
   ]
  },
  {
   "cell_type": "code",
   "execution_count": 43,
   "metadata": {
    "scrolled": true
   },
   "outputs": [
    {
     "data": {
      "text/html": [
       "<div>\n",
       "<style scoped>\n",
       "    .dataframe tbody tr th:only-of-type {\n",
       "        vertical-align: middle;\n",
       "    }\n",
       "\n",
       "    .dataframe tbody tr th {\n",
       "        vertical-align: top;\n",
       "    }\n",
       "\n",
       "    .dataframe thead th {\n",
       "        text-align: right;\n",
       "    }\n",
       "</style>\n",
       "<table border=\"1\" class=\"dataframe\">\n",
       "  <thead>\n",
       "    <tr style=\"text-align: right;\">\n",
       "      <th></th>\n",
       "      <th>na_sales</th>\n",
       "    </tr>\n",
       "    <tr>\n",
       "      <th>genre</th>\n",
       "      <th></th>\n",
       "    </tr>\n",
       "  </thead>\n",
       "  <tbody>\n",
       "    <tr>\n",
       "      <th>Action</th>\n",
       "      <td>126.05</td>\n",
       "    </tr>\n",
       "    <tr>\n",
       "      <th>Shooter</th>\n",
       "      <td>109.74</td>\n",
       "    </tr>\n",
       "    <tr>\n",
       "      <th>Sports</th>\n",
       "      <td>65.27</td>\n",
       "    </tr>\n",
       "    <tr>\n",
       "      <th>Role-Playing</th>\n",
       "      <td>46.40</td>\n",
       "    </tr>\n",
       "    <tr>\n",
       "      <th>Misc</th>\n",
       "      <td>27.49</td>\n",
       "    </tr>\n",
       "    <tr>\n",
       "      <th>Platform</th>\n",
       "      <td>18.14</td>\n",
       "    </tr>\n",
       "    <tr>\n",
       "      <th>Fighting</th>\n",
       "      <td>15.55</td>\n",
       "    </tr>\n",
       "    <tr>\n",
       "      <th>Racing</th>\n",
       "      <td>12.96</td>\n",
       "    </tr>\n",
       "    <tr>\n",
       "      <th>Adventure</th>\n",
       "      <td>7.14</td>\n",
       "    </tr>\n",
       "    <tr>\n",
       "      <th>Simulation</th>\n",
       "      <td>4.86</td>\n",
       "    </tr>\n",
       "    <tr>\n",
       "      <th>Strategy</th>\n",
       "      <td>3.28</td>\n",
       "    </tr>\n",
       "    <tr>\n",
       "      <th>Puzzle</th>\n",
       "      <td>0.83</td>\n",
       "    </tr>\n",
       "  </tbody>\n",
       "</table>\n",
       "</div>"
      ],
      "text/plain": [
       "              na_sales\n",
       "genre                 \n",
       "Action          126.05\n",
       "Shooter         109.74\n",
       "Sports           65.27\n",
       "Role-Playing     46.40\n",
       "Misc             27.49\n",
       "Platform         18.14\n",
       "Fighting         15.55\n",
       "Racing           12.96\n",
       "Adventure         7.14\n",
       "Simulation        4.86\n",
       "Strategy          3.28\n",
       "Puzzle            0.83"
      ]
     },
     "execution_count": 43,
     "metadata": {},
     "output_type": "execute_result"
    }
   ],
   "source": [
    "na_genre = games.groupby(by='genre').agg(\n",
    "    {'na_sales':'sum'}).sort_values(\n",
    "    by='na_sales', ascending=False)\n",
    "\n",
    "na_genre\n",
    "# считаем продажи по жанрам в US"
   ]
  },
  {
   "cell_type": "code",
   "execution_count": 44,
   "metadata": {},
   "outputs": [
    {
     "data": {
      "image/png": "[encoded data removed]",
      "text/plain": [
       "<Figure size 432x432 with 1 Axes>"
      ]
     },
     "metadata": {},
     "output_type": "display_data"
    }
   ],
   "source": [
    "na_genre.head(10).plot(y='na_sales', kind='pie', autopct = '%.0f%%', figsize=(6, 6))\n",
    "plt.title('Самые популярные жанры игр в Северной Америке')\n",
    "plt.show()\n",
    "# выводим топ кроме последней строки puzzle - она менее 1%"
   ]
  },
  {
   "cell_type": "code",
   "execution_count": 45,
   "metadata": {
    "scrolled": true
   },
   "outputs": [
    {
     "data": {
      "text/html": [
       "<div>\n",
       "<style scoped>\n",
       "    .dataframe tbody tr th:only-of-type {\n",
       "        vertical-align: middle;\n",
       "    }\n",
       "\n",
       "    .dataframe tbody tr th {\n",
       "        vertical-align: top;\n",
       "    }\n",
       "\n",
       "    .dataframe thead th {\n",
       "        text-align: right;\n",
       "    }\n",
       "</style>\n",
       "<table border=\"1\" class=\"dataframe\">\n",
       "  <thead>\n",
       "    <tr style=\"text-align: right;\">\n",
       "      <th></th>\n",
       "      <th>eu_sales</th>\n",
       "    </tr>\n",
       "    <tr>\n",
       "      <th>genre</th>\n",
       "      <th></th>\n",
       "    </tr>\n",
       "  </thead>\n",
       "  <tbody>\n",
       "    <tr>\n",
       "      <th>Action</th>\n",
       "      <td>118.13</td>\n",
       "    </tr>\n",
       "    <tr>\n",
       "      <th>Shooter</th>\n",
       "      <td>87.86</td>\n",
       "    </tr>\n",
       "    <tr>\n",
       "      <th>Sports</th>\n",
       "      <td>60.52</td>\n",
       "    </tr>\n",
       "    <tr>\n",
       "      <th>Role-Playing</th>\n",
       "      <td>36.97</td>\n",
       "    </tr>\n",
       "    <tr>\n",
       "      <th>Racing</th>\n",
       "      <td>20.19</td>\n",
       "    </tr>\n",
       "    <tr>\n",
       "      <th>Misc</th>\n",
       "      <td>20.04</td>\n",
       "    </tr>\n",
       "    <tr>\n",
       "      <th>Platform</th>\n",
       "      <td>15.58</td>\n",
       "    </tr>\n",
       "    <tr>\n",
       "      <th>Simulation</th>\n",
       "      <td>10.92</td>\n",
       "    </tr>\n",
       "    <tr>\n",
       "      <th>Fighting</th>\n",
       "      <td>8.55</td>\n",
       "    </tr>\n",
       "    <tr>\n",
       "      <th>Adventure</th>\n",
       "      <td>8.25</td>\n",
       "    </tr>\n",
       "    <tr>\n",
       "      <th>Strategy</th>\n",
       "      <td>4.22</td>\n",
       "    </tr>\n",
       "    <tr>\n",
       "      <th>Puzzle</th>\n",
       "      <td>1.00</td>\n",
       "    </tr>\n",
       "  </tbody>\n",
       "</table>\n",
       "</div>"
      ],
      "text/plain": [
       "              eu_sales\n",
       "genre                 \n",
       "Action          118.13\n",
       "Shooter          87.86\n",
       "Sports           60.52\n",
       "Role-Playing     36.97\n",
       "Racing           20.19\n",
       "Misc             20.04\n",
       "Platform         15.58\n",
       "Simulation       10.92\n",
       "Fighting          8.55\n",
       "Adventure         8.25\n",
       "Strategy          4.22\n",
       "Puzzle            1.00"
      ]
     },
     "execution_count": 45,
     "metadata": {},
     "output_type": "execute_result"
    }
   ],
   "source": [
    "eu_genre = games.groupby(by='genre').agg(\n",
    "    {'eu_sales':'sum'}).sort_values(\n",
    "    by='eu_sales', ascending=False)\n",
    "\n",
    "eu_genre\n",
    "# считаем продажи по жанрам в EU"
   ]
  },
  {
   "cell_type": "code",
   "execution_count": 46,
   "metadata": {},
   "outputs": [
    {
     "data": {
      "image/png": "[encoded data removed]",
      "text/plain": [
       "<Figure size 432x432 with 1 Axes>"
      ]
     },
     "metadata": {},
     "output_type": "display_data"
    }
   ],
   "source": [
    "eu_genre.head(10).plot(y='eu_sales', kind='pie', autopct = '%.0f%%', figsize=(6, 6))\n",
    "plt.title('Самые популярные жанры игр в Европе')\n",
    "plt.show()\n",
    "# puzzle опять вне рейтинга"
   ]
  },
  {
   "cell_type": "code",
   "execution_count": 47,
   "metadata": {
    "scrolled": false
   },
   "outputs": [
    {
     "data": {
      "text/html": [
       "<div>\n",
       "<style scoped>\n",
       "    .dataframe tbody tr th:only-of-type {\n",
       "        vertical-align: middle;\n",
       "    }\n",
       "\n",
       "    .dataframe tbody tr th {\n",
       "        vertical-align: top;\n",
       "    }\n",
       "\n",
       "    .dataframe thead th {\n",
       "        text-align: right;\n",
       "    }\n",
       "</style>\n",
       "<table border=\"1\" class=\"dataframe\">\n",
       "  <thead>\n",
       "    <tr style=\"text-align: right;\">\n",
       "      <th></th>\n",
       "      <th>jp_sales</th>\n",
       "    </tr>\n",
       "    <tr>\n",
       "      <th>genre</th>\n",
       "      <th></th>\n",
       "    </tr>\n",
       "  </thead>\n",
       "  <tbody>\n",
       "    <tr>\n",
       "      <th>Role-Playing</th>\n",
       "      <td>51.04</td>\n",
       "    </tr>\n",
       "    <tr>\n",
       "      <th>Action</th>\n",
       "      <td>40.49</td>\n",
       "    </tr>\n",
       "    <tr>\n",
       "      <th>Misc</th>\n",
       "      <td>9.20</td>\n",
       "    </tr>\n",
       "    <tr>\n",
       "      <th>Fighting</th>\n",
       "      <td>7.65</td>\n",
       "    </tr>\n",
       "    <tr>\n",
       "      <th>Shooter</th>\n",
       "      <td>6.61</td>\n",
       "    </tr>\n",
       "    <tr>\n",
       "      <th>Adventure</th>\n",
       "      <td>5.82</td>\n",
       "    </tr>\n",
       "    <tr>\n",
       "      <th>Sports</th>\n",
       "      <td>5.41</td>\n",
       "    </tr>\n",
       "    <tr>\n",
       "      <th>Platform</th>\n",
       "      <td>4.79</td>\n",
       "    </tr>\n",
       "    <tr>\n",
       "      <th>Simulation</th>\n",
       "      <td>4.52</td>\n",
       "    </tr>\n",
       "    <tr>\n",
       "      <th>Racing</th>\n",
       "      <td>2.30</td>\n",
       "    </tr>\n",
       "    <tr>\n",
       "      <th>Strategy</th>\n",
       "      <td>1.77</td>\n",
       "    </tr>\n",
       "    <tr>\n",
       "      <th>Puzzle</th>\n",
       "      <td>1.18</td>\n",
       "    </tr>\n",
       "  </tbody>\n",
       "</table>\n",
       "</div>"
      ],
      "text/plain": [
       "              jp_sales\n",
       "genre                 \n",
       "Role-Playing     51.04\n",
       "Action           40.49\n",
       "Misc              9.20\n",
       "Fighting          7.65\n",
       "Shooter           6.61\n",
       "Adventure         5.82\n",
       "Sports            5.41\n",
       "Platform          4.79\n",
       "Simulation        4.52\n",
       "Racing            2.30\n",
       "Strategy          1.77\n",
       "Puzzle            1.18"
      ]
     },
     "execution_count": 47,
     "metadata": {},
     "output_type": "execute_result"
    }
   ],
   "source": [
    "jp_genre = games.groupby(by='genre').agg(\n",
    "    {'jp_sales':'sum'}).sort_values(\n",
    "    by='jp_sales', ascending=False)\n",
    "\n",
    "jp_genre\n",
    "# считаем продажи по жанрам в JP"
   ]
  },
  {
   "cell_type": "code",
   "execution_count": 48,
   "metadata": {},
   "outputs": [
    {
     "data": {
      "image/png": "[encoded data removed]",
      "text/plain": [
       "<Figure size 432x432 with 1 Axes>"
      ]
     },
     "metadata": {},
     "output_type": "display_data"
    }
   ],
   "source": [
    "jp_genre.head(10).plot(y='jp_sales', kind='pie', autopct = '%.0f%%', figsize=(6, 6))\n",
    "plt.title('Самые популярные жанры игр в Японии')\n",
    "plt.show()"
   ]
  },
  {
   "cell_type": "markdown",
   "metadata": {},
   "source": [
    "В Европе и Америке рейтинги выглядят похоже - *Action* самый продаваемый жанр игр, шутеры на втором месте, на третьем - *Sports*. В Японии ситуация кардинально отличается - лидируют *RPG*-игры, *Action* только вторые и остальные жанры распределены равномерно незначительно."
   ]
  },
  {
   "cell_type": "markdown",
   "metadata": {},
   "source": [
    "### Влияние рейтинга ESRB на продажи"
   ]
  },
  {
   "cell_type": "code",
   "execution_count": 49,
   "metadata": {
    "scrolled": true
   },
   "outputs": [
    {
     "data": {
      "image/png": "[encoded data removed]",
      "text/plain": [
       "<Figure size 432x288 with 1 Axes>"
      ]
     },
     "metadata": {
      "needs_background": "light"
     },
     "output_type": "display_data"
    }
   ],
   "source": [
    "games.groupby(by='rating').agg(\n",
    "    {'na_sales':'sum'}).sort_values(\n",
    "    by='na_sales', ascending=False).plot(kind='bar')\n",
    "\n",
    "plt.title('Продажи игр по рейтингу в Северной Америке')\n",
    "plt.show()"
   ]
  },
  {
   "cell_type": "code",
   "execution_count": 50,
   "metadata": {
    "scrolled": false
   },
   "outputs": [
    {
     "data": {
      "image/png": "[encoded data removed]",
      "text/plain": [
       "<Figure size 432x288 with 1 Axes>"
      ]
     },
     "metadata": {
      "needs_background": "light"
     },
     "output_type": "display_data"
    }
   ],
   "source": [
    "games.groupby(by='rating').agg(\n",
    "    {'eu_sales':'sum'}).sort_values(\n",
    "    by='eu_sales', ascending=False).plot(kind='bar')\n",
    "\n",
    "plt.title('Продажи игр по рейтингу в Европе')\n",
    "plt.show()"
   ]
  },
  {
   "cell_type": "code",
   "execution_count": 51,
   "metadata": {
    "scrolled": true
   },
   "outputs": [
    {
     "data": {
      "image/png": "[encoded data removed]",
      "text/plain": [
       "<Figure size 432x288 with 1 Axes>"
      ]
     },
     "metadata": {
      "needs_background": "light"
     },
     "output_type": "display_data"
    }
   ],
   "source": [
    "games.groupby(by='rating').agg(\n",
    "    {'jp_sales':'sum'}).sort_values(\n",
    "    by='jp_sales', ascending=False).plot(kind='bar')\n",
    "\n",
    "plt.title('Продажи игр по рейтингу в Японии')\n",
    "plt.show()"
   ]
  },
  {
   "cell_type": "markdown",
   "metadata": {},
   "source": [
    "В Северной Америке и Европе категория M - от 17 лет самая продаваемая, что неудивительно, c этим рейтингом выходит большинство популярных игр вроде Call of Duty. А поскольку система рейтингов часто носит рекомендательный характер, их могут покупать и подростки более младшего возраста. Игры вне рейтинга на втором месте для Америки и на третьем для Европы. В остальном распределения для этих регионов похожи - игры для подростков менее популярны, чем подходящие для всех, в том числе для детей.\n",
    "\n",
    "А вот в Японии игры без рейтинга на первом месте, что говорит о том, что несмотря на собственную культуру и любовь к локальным платформам, с большим отрывом там популярны продукты, выпущенные в США. Зато игры для подростков, хоть и с большим отрывом, на втором месте, в отличие от стран Европы и Северной Америки.\n",
    "\n",
    "А вообще в Европе другая организация оценки - PEGY, в Японии - CERO и данные могут быть не совсем валидны."
   ]
  },
  {
   "cell_type": "markdown",
   "metadata": {},
   "source": [
    "## Проверка гипотез"
   ]
  },
  {
   "cell_type": "markdown",
   "metadata": {},
   "source": [
    "- Средние пользовательские рейтинги платформ Xbox One и PC одинаковые;\n",
    "- Средние пользовательские рейтинги жанров Action и Sports разные.\n",
    "\n",
    "Так как генеральные совокупности в данном исследовании независимые, используем метод проверки гипотезы о равенстве среднего двух генеральных совокупностей по взятым из них выборкам.\n"
   ]
  },
  {
   "cell_type": "code",
   "execution_count": 52,
   "metadata": {},
   "outputs": [],
   "source": [
    "games_new = games.query('user_score != -1')\n",
    "\n",
    "# отфильтруем значения, которыми заполняли пропуски в пользовательском рейтинге"
   ]
  },
  {
   "cell_type": "markdown",
   "metadata": {},
   "source": [
    "**H0: средние пользовательские рейтинги платформ Xbox One и PC одинаковые**\n",
    "\n",
    "**H1: средние пользовательские рейтинги платформ Xbox One и PC разные**"
   ]
  },
  {
   "cell_type": "code",
   "execution_count": 53,
   "metadata": {
    "scrolled": false
   },
   "outputs": [
    {
     "name": "stdout",
     "output_type": "stream",
     "text": [
      "p-значение: 0.14012658403611647\n",
      "Не получилось отвергнуть нулевую гипотезу\n"
     ]
    }
   ],
   "source": [
    "xbox = games_new.query('platform == \"XOne\"')['user_score']  \n",
    "\n",
    "pc = games_new.query('platform == \"PC\"')['user_score']\n",
    "                   \n",
    "alpha = 0.01\n",
    "\n",
    "results = st.ttest_ind(xbox, pc)\n",
    "\n",
    "print('p-значение:', results.pvalue)\n",
    "\n",
    "if (results.pvalue < alpha):\n",
    "    print(\"Отвергаем нулевую гипотезу\")\n",
    "else:\n",
    "    print(\"Не получилось отвергнуть нулевую гипотезу\")\n"
   ]
  },
  {
   "cell_type": "code",
   "execution_count": 54,
   "metadata": {},
   "outputs": [
    {
     "data": {
      "text/html": [
       "<div>\n",
       "<style scoped>\n",
       "    .dataframe tbody tr th:only-of-type {\n",
       "        vertical-align: middle;\n",
       "    }\n",
       "\n",
       "    .dataframe tbody tr th {\n",
       "        vertical-align: top;\n",
       "    }\n",
       "\n",
       "    .dataframe thead th {\n",
       "        text-align: right;\n",
       "    }\n",
       "</style>\n",
       "<table border=\"1\" class=\"dataframe\">\n",
       "  <thead>\n",
       "    <tr style=\"text-align: right;\">\n",
       "      <th></th>\n",
       "      <th>user_score</th>\n",
       "    </tr>\n",
       "    <tr>\n",
       "      <th>platform</th>\n",
       "      <th></th>\n",
       "    </tr>\n",
       "  </thead>\n",
       "  <tbody>\n",
       "    <tr>\n",
       "      <th>DS</th>\n",
       "      <td>4.80</td>\n",
       "    </tr>\n",
       "    <tr>\n",
       "      <th>Wii</th>\n",
       "      <td>5.26</td>\n",
       "    </tr>\n",
       "    <tr>\n",
       "      <th>PSP</th>\n",
       "      <td>5.85</td>\n",
       "    </tr>\n",
       "    <tr>\n",
       "      <th>X360</th>\n",
       "      <td>5.99</td>\n",
       "    </tr>\n",
       "    <tr>\n",
       "      <th>PC</th>\n",
       "      <td>6.27</td>\n",
       "    </tr>\n",
       "    <tr>\n",
       "      <th>PS3</th>\n",
       "      <td>6.35</td>\n",
       "    </tr>\n",
       "    <tr>\n",
       "      <th>XOne</th>\n",
       "      <td>6.52</td>\n",
       "    </tr>\n",
       "    <tr>\n",
       "      <th>PS4</th>\n",
       "      <td>6.75</td>\n",
       "    </tr>\n",
       "    <tr>\n",
       "      <th>3DS</th>\n",
       "      <td>6.98</td>\n",
       "    </tr>\n",
       "    <tr>\n",
       "      <th>WiiU</th>\n",
       "      <td>7.02</td>\n",
       "    </tr>\n",
       "    <tr>\n",
       "      <th>PSV</th>\n",
       "      <td>7.53</td>\n",
       "    </tr>\n",
       "  </tbody>\n",
       "</table>\n",
       "</div>"
      ],
      "text/plain": [
       "          user_score\n",
       "platform            \n",
       "DS              4.80\n",
       "Wii             5.26\n",
       "PSP             5.85\n",
       "X360            5.99\n",
       "PC              6.27\n",
       "PS3             6.35\n",
       "XOne            6.52\n",
       "PS4             6.75\n",
       "3DS             6.98\n",
       "WiiU            7.02\n",
       "PSV             7.53"
      ]
     },
     "execution_count": 54,
     "metadata": {},
     "output_type": "execute_result"
    }
   ],
   "source": [
    "user_score_platform = games_new.groupby('platform').agg(\n",
    "    {'user_score':'mean'}).sort_values(by='user_score')\n",
    "\n",
    "user_score_platform.round(2)\n",
    "\n",
    "# посмотрим средние пользовательские рейтинги и по другим платформам"
   ]
  },
  {
   "cell_type": "markdown",
   "metadata": {},
   "source": [
    "Итог: Средние пользовательские рейтинги платформ Xbox One и PC если и не совсем одинаковые, то довольно приближенные\n"
   ]
  },
  {
   "cell_type": "markdown",
   "metadata": {},
   "source": [
    "**H0: средние пользовательские рейтинги жанров Action и Sports одинаковые**\n",
    "\n",
    "**H1: средние пользовательские рейтинги жанров Action и Sports разные**\n"
   ]
  },
  {
   "cell_type": "code",
   "execution_count": 55,
   "metadata": {
    "scrolled": true
   },
   "outputs": [
    {
     "name": "stdout",
     "output_type": "stream",
     "text": [
      "p-значение: 1.0517832389140023e-27\n",
      "Отвергаем нулевую гипотезу\n"
     ]
    }
   ],
   "source": [
    "action = games_new.query('genre == \"Action\"')['user_score']   \n",
    "\n",
    "sport = games_new.query('genre == \"Sports\"')['user_score']\n",
    "                   \n",
    "alpha = 0.01\n",
    "\n",
    "results = st.ttest_ind(action, sport)\n",
    "\n",
    "print('p-значение:', results.pvalue)\n",
    "\n",
    "if (results.pvalue < alpha):\n",
    "    print(\"Отвергаем нулевую гипотезу\")\n",
    "else:\n",
    "    print(\"Не получилось отвергнуть нулевую гипотезу\")"
   ]
  },
  {
   "cell_type": "code",
   "execution_count": 56,
   "metadata": {},
   "outputs": [
    {
     "data": {
      "text/html": [
       "<div>\n",
       "<style scoped>\n",
       "    .dataframe tbody tr th:only-of-type {\n",
       "        vertical-align: middle;\n",
       "    }\n",
       "\n",
       "    .dataframe tbody tr th {\n",
       "        vertical-align: top;\n",
       "    }\n",
       "\n",
       "    .dataframe thead th {\n",
       "        text-align: right;\n",
       "    }\n",
       "</style>\n",
       "<table border=\"1\" class=\"dataframe\">\n",
       "  <thead>\n",
       "    <tr style=\"text-align: right;\">\n",
       "      <th></th>\n",
       "      <th>user_score</th>\n",
       "    </tr>\n",
       "    <tr>\n",
       "      <th>genre</th>\n",
       "      <th></th>\n",
       "    </tr>\n",
       "  </thead>\n",
       "  <tbody>\n",
       "    <tr>\n",
       "      <th>Adventure</th>\n",
       "      <td>1.07</td>\n",
       "    </tr>\n",
       "    <tr>\n",
       "      <th>Misc</th>\n",
       "      <td>1.68</td>\n",
       "    </tr>\n",
       "    <tr>\n",
       "      <th>Puzzle</th>\n",
       "      <td>2.49</td>\n",
       "    </tr>\n",
       "    <tr>\n",
       "      <th>Simulation</th>\n",
       "      <td>2.53</td>\n",
       "    </tr>\n",
       "    <tr>\n",
       "      <th>Strategy</th>\n",
       "      <td>2.85</td>\n",
       "    </tr>\n",
       "    <tr>\n",
       "      <th>Role-Playing</th>\n",
       "      <td>2.90</td>\n",
       "    </tr>\n",
       "    <tr>\n",
       "      <th>Action</th>\n",
       "      <td>2.98</td>\n",
       "    </tr>\n",
       "    <tr>\n",
       "      <th>Sports</th>\n",
       "      <td>3.66</td>\n",
       "    </tr>\n",
       "    <tr>\n",
       "      <th>Fighting</th>\n",
       "      <td>3.82</td>\n",
       "    </tr>\n",
       "    <tr>\n",
       "      <th>Racing</th>\n",
       "      <td>4.41</td>\n",
       "    </tr>\n",
       "    <tr>\n",
       "      <th>Platform</th>\n",
       "      <td>5.05</td>\n",
       "    </tr>\n",
       "    <tr>\n",
       "      <th>Shooter</th>\n",
       "      <td>5.13</td>\n",
       "    </tr>\n",
       "  </tbody>\n",
       "</table>\n",
       "</div>"
      ],
      "text/plain": [
       "              user_score\n",
       "genre                   \n",
       "Adventure           1.07\n",
       "Misc                1.68\n",
       "Puzzle              2.49\n",
       "Simulation          2.53\n",
       "Strategy            2.85\n",
       "Role-Playing        2.90\n",
       "Action              2.98\n",
       "Sports              3.66\n",
       "Fighting            3.82\n",
       "Racing              4.41\n",
       "Platform            5.05\n",
       "Shooter             5.13"
      ]
     },
     "execution_count": 56,
     "metadata": {},
     "output_type": "execute_result"
    }
   ],
   "source": [
    "user_score_genre = games.groupby('genre').agg(\n",
    "    {'user_score':'mean'}).sort_values(by='user_score')\n",
    "\n",
    "user_score_genre.round(2)\n",
    "\n",
    "# посмотрим средние пользовательские рейтинги по жанрам"
   ]
  },
  {
   "cell_type": "markdown",
   "metadata": {},
   "source": [
    "Итог: с вероятностью почти в 100% рейтинги жанров Action и Sports разные, что также подтверждается и сводной таблицей со средним пользовательским рейтингом."
   ]
  },
  {
   "cell_type": "markdown",
   "metadata": {},
   "source": [
    "## Общий вывод"
   ]
  },
  {
   "cell_type": "markdown",
   "metadata": {},
   "source": [
    "**Закономерности, определяющие успешность игры следующие:**\n",
    "\n",
    "- **Платформа и год ее выхода.** Консоли могут быть успешными или напротив, не оправдать ожидания пользователей - соотвественно игры для них будут плохо продаваться. Лучше всего продажи игр идут после первого года выпуска консоли и держатся на пике как правило 2-3 года, а после объявления о будущем релизе новой версии начинают резко снижаться. \n",
    "\n",
    "Планируя рекламный бюджет на 2017, делаем ставку на PS4 и XOne в Северной Америке, в Европе на PS4, в Японии закладываем на новую консоль Nintendo Switch и немного на 3DS, так как не все пользователи смогут сразу приобрести новинку. Не забываем, что для Японии характерны в первую очередь портативные консоли.\n",
    "\n",
    "- **Хорошие отзывы критиков.** А вернее - отсутствие плохих. Критики как правило оценивают игры минимум на 7 баллов и оценка в 6 и тем более ниже говорит о том, что игра вышла совсем неудачная.\n",
    "\n",
    "Таким образом, все игры с рейтингом ниже 7 не рассмативаем совсем. На пользовательские рейтинги обращать внимание не стоит - игроки могут обрушить рейтинг самой успешной игры, если к примеру, недовольны ее вышедшим обновлением. \n",
    "\n",
    "- **Жанр игры.** Самые популярные в порядке убывания - Shooter, Sports, Platform\n",
    "\n",
    "Однако здесь стоит учитывать региональные различия - это актуально в основном для стран Северной Америки и Европы. Делаем выбор в пользу экшна, шутеров, спортивных симуляторов и платформеров типа Супер Марио. Для Японии лучшим вариантом будут игры в жанре RPG\n",
    "\n",
    "\n",
    "- **Рейтинг игры.** Лучше всего продаются те, что для всзрослых от 17 лет, то есть \"M\". Рейтинг \"E\" - \"для всех\" также очень востребован. В Японии помимо \"M\" хорошо пойдет категория \"T\"\n"
   ]
  },
  {
   "cell_type": "markdown",
   "metadata": {
    "toc": true
   },
   "source": [
    "<h1>Содержание<span class=\"tocSkip\"></span></h1>\n",
    "<div class=\"toc\"><ul class=\"toc-item\"><li><span><a href=\"#Импорт-данных,-общая-информация\" data-toc-modified-id=\"Импорт-данных,-общая-информация-1\"><span class=\"toc-item-num\">1&nbsp;&nbsp;</span>Импорт данных, общая информация</a></span></li><li><span><a href=\"#Предобработка-данных\" data-toc-modified-id=\"Предобработка-данных-2\"><span class=\"toc-item-num\">2&nbsp;&nbsp;</span>Предобработка данных</a></span><ul class=\"toc-item\"><li><span><a href=\"#Замена-названий-столбцов\" data-toc-modified-id=\"Замена-названий-столбцов-2.1\"><span class=\"toc-item-num\">2.1&nbsp;&nbsp;</span>Замена названий столбцов</a></span></li><li><span><a href=\"#Обработка-пропусков\" data-toc-modified-id=\"Обработка-пропусков-2.2\"><span class=\"toc-item-num\">2.2&nbsp;&nbsp;</span>Обработка пропусков</a></span></li><li><span><a href=\"#Проверка-дубликатов\" data-toc-modified-id=\"Проверка-дубликатов-2.3\"><span class=\"toc-item-num\">2.3&nbsp;&nbsp;</span>Проверка дубликатов</a></span></li><li><span><a href=\"#Расчет-и-добавление-данных\" data-toc-modified-id=\"Расчет-и-добавление-данных-2.4\"><span class=\"toc-item-num\">2.4&nbsp;&nbsp;</span>Расчет и добавление данных</a></span></li></ul></li><li><span><a href=\"#Исследовательский-анализ-данных\" data-toc-modified-id=\"Исследовательский-анализ-данных-3\"><span class=\"toc-item-num\">3&nbsp;&nbsp;</span>Исследовательский анализ данных</a></span><ul class=\"toc-item\"><li><span><a href=\"#Распределение-количества-выпускаемых-игр-по-годам\" data-toc-modified-id=\"Распределение-количества-выпускаемых-игр-по-годам-3.1\"><span class=\"toc-item-num\">3.1&nbsp;&nbsp;</span>Распределение количества выпускаемых игр по годам</a></span></li><li><span><a href=\"#Изучение-продаж-по-платформам\" data-toc-modified-id=\"Изучение-продаж-по-платформам-3.2\"><span class=\"toc-item-num\">3.2&nbsp;&nbsp;</span>Изучение продаж по платформам</a></span></li><li><span><a href=\"#Выбор-потенциально-прибыльных-платформ\" data-toc-modified-id=\"Выбор-потенциально-прибыльных-платформ-3.3\"><span class=\"toc-item-num\">3.3&nbsp;&nbsp;</span>Выбор потенциально прибыльных платформ</a></span></li><li><span><a href=\"#Глобальные-продажи-игр-в-разбивке-по-платформам\" data-toc-modified-id=\"Глобальные-продажи-игр-в-разбивке-по-платформам-3.4\"><span class=\"toc-item-num\">3.4&nbsp;&nbsp;</span>Глобальные продажи игр в разбивке по платформам</a></span></li><li><span><a href=\"#Влияние-на-продажи-отзывов-пользователей-и-критиков\" data-toc-modified-id=\"Влияние-на-продажи-отзывов-пользователей-и-критиков-3.5\"><span class=\"toc-item-num\">3.5&nbsp;&nbsp;</span>Влияние на продажи отзывов пользователей и критиков</a></span></li><li><span><a href=\"#Распределение-продаж-игр-по-жанрам\" data-toc-modified-id=\"Распределение-продаж-игр-по-жанрам-3.6\"><span class=\"toc-item-num\">3.6&nbsp;&nbsp;</span>Распределение продаж игр по жанрам</a></span></li></ul></li><li><span><a href=\"#Портрет-пользователей-по-регионам\" data-toc-modified-id=\"Портрет-пользователей-по-регионам-4\"><span class=\"toc-item-num\">4&nbsp;&nbsp;</span>Портрет пользователей по регионам</a></span><ul class=\"toc-item\"><li><span><a href=\"#Самые-популярные-платформы\" data-toc-modified-id=\"Самые-популярные-платформы-4.1\"><span class=\"toc-item-num\">4.1&nbsp;&nbsp;</span>Самые популярные платформы</a></span></li><li><span><a href=\"#Самые-популярные-жанры\" data-toc-modified-id=\"Самые-популярные-жанры-4.2\"><span class=\"toc-item-num\">4.2&nbsp;&nbsp;</span>Самые популярные жанры</a></span></li><li><span><a href=\"#Влияние-рейтинга-ESRB-на-продажи\" data-toc-modified-id=\"Влияние-рейтинга-ESRB-на-продажи-4.3\"><span class=\"toc-item-num\">4.3&nbsp;&nbsp;</span>Влияние рейтинга ESRB на продажи</a></span></li></ul></li><li><span><a href=\"#Проверка-гипотез\" data-toc-modified-id=\"Проверка-гипотез-5\"><span class=\"toc-item-num\">5&nbsp;&nbsp;</span>Проверка гипотез</a></span></li><li><span><a href=\"#Общий-вывод\" data-toc-modified-id=\"Общий-вывод-6\"><span class=\"toc-item-num\">6&nbsp;&nbsp;</span>Общий вывод</a></span></li></ul></div>"
   ]
  }
 ],
 "metadata": {
  "ExecuteTimeLog": [
   {
    "duration": 131,
    "start_time": "2022-03-22T14:31:07.839Z"
   },
   {
    "duration": 1161,
    "start_time": "2022-03-22T14:31:12.010Z"
   },
   {
    "duration": 73,
    "start_time": "2022-03-22T14:31:13.174Z"
   },
   {
    "duration": 43,
    "start_time": "2022-03-22T14:31:13.250Z"
   },
   {
    "duration": 60,
    "start_time": "2022-03-22T14:31:13.297Z"
   },
   {
    "duration": 5,
    "start_time": "2022-03-22T14:31:13.382Z"
   },
   {
    "duration": 7,
    "start_time": "2022-03-22T14:31:13.390Z"
   },
   {
    "duration": 10,
    "start_time": "2022-03-22T14:31:13.399Z"
   },
   {
    "duration": 30,
    "start_time": "2022-03-22T14:31:13.412Z"
   },
   {
    "duration": 59,
    "start_time": "2022-03-22T14:31:13.444Z"
   },
   {
    "duration": 28,
    "start_time": "2022-03-22T14:31:13.507Z"
   },
   {
    "duration": 36,
    "start_time": "2022-03-22T14:31:13.541Z"
   },
   {
    "duration": 8,
    "start_time": "2022-03-22T14:31:13.581Z"
   },
   {
    "duration": 12209,
    "start_time": "2022-03-22T14:31:13.592Z"
   },
   {
    "duration": 9,
    "start_time": "2022-03-22T14:31:25.804Z"
   },
   {
    "duration": 33,
    "start_time": "2022-03-22T14:31:25.816Z"
   },
   {
    "duration": 30,
    "start_time": "2022-03-22T14:31:25.852Z"
   },
   {
    "duration": 7,
    "start_time": "2022-03-22T14:31:25.884Z"
   },
   {
    "duration": 24,
    "start_time": "2022-03-22T14:31:25.894Z"
   },
   {
    "duration": 27,
    "start_time": "2022-03-22T14:31:25.920Z"
   },
   {
    "duration": 362,
    "start_time": "2022-03-22T14:31:25.950Z"
   },
   {
    "duration": 23,
    "start_time": "2022-03-22T14:31:26.315Z"
   },
   {
    "duration": 406,
    "start_time": "2022-03-22T14:31:26.341Z"
   },
   {
    "duration": 299,
    "start_time": "2022-03-22T14:31:26.749Z"
   },
   {
    "duration": 373,
    "start_time": "2022-03-22T14:31:27.050Z"
   },
   {
    "duration": 29,
    "start_time": "2022-03-22T14:31:27.425Z"
   },
   {
    "duration": 527,
    "start_time": "2022-03-22T14:31:27.457Z"
   },
   {
    "duration": 392,
    "start_time": "2022-03-22T14:31:27.987Z"
   },
   {
    "duration": 596,
    "start_time": "2022-03-22T14:31:28.388Z"
   },
   {
    "duration": 261,
    "start_time": "2022-03-22T14:31:28.987Z"
   },
   {
    "duration": 255,
    "start_time": "2022-03-22T14:31:29.251Z"
   },
   {
    "duration": 261,
    "start_time": "2022-03-22T14:31:29.508Z"
   },
   {
    "duration": 258,
    "start_time": "2022-03-22T14:31:29.772Z"
   },
   {
    "duration": 8,
    "start_time": "2022-03-22T14:31:30.032Z"
   },
   {
    "duration": 41,
    "start_time": "2022-03-22T14:31:30.043Z"
   },
   {
    "duration": 546,
    "start_time": "2022-03-22T14:31:30.086Z"
   },
   {
    "duration": 308,
    "start_time": "2022-03-22T14:31:30.634Z"
   },
   {
    "duration": 331,
    "start_time": "2022-03-22T14:31:30.944Z"
   },
   {
    "duration": 294,
    "start_time": "2022-03-22T14:31:31.282Z"
   },
   {
    "duration": 261,
    "start_time": "2022-03-22T14:31:31.578Z"
   },
   {
    "duration": 248,
    "start_time": "2022-03-22T14:31:31.842Z"
   },
   {
    "duration": 333,
    "start_time": "2022-03-22T14:31:32.093Z"
   },
   {
    "duration": 353,
    "start_time": "2022-03-22T14:31:32.429Z"
   },
   {
    "duration": 239,
    "start_time": "2022-03-22T14:31:32.785Z"
   },
   {
    "duration": 264,
    "start_time": "2022-03-22T14:31:33.026Z"
   },
   {
    "duration": 725,
    "start_time": "2022-03-22T14:33:13.062Z"
   },
   {
    "duration": 545,
    "start_time": "2022-03-22T14:33:32.782Z"
   },
   {
    "duration": 551,
    "start_time": "2022-03-22T14:33:42.915Z"
   },
   {
    "duration": 253,
    "start_time": "2022-03-22T14:37:34.106Z"
   },
   {
    "duration": 319,
    "start_time": "2022-03-22T14:38:07.738Z"
   },
   {
    "duration": 248,
    "start_time": "2022-03-22T14:38:43.242Z"
   },
   {
    "duration": 246,
    "start_time": "2022-03-22T14:39:43.991Z"
   },
   {
    "duration": 518,
    "start_time": "2022-03-22T14:40:13.027Z"
   },
   {
    "duration": 12,
    "start_time": "2022-03-22T15:03:04.550Z"
   },
   {
    "duration": 9647,
    "start_time": "2022-03-22T15:03:48.994Z"
   },
   {
    "duration": 4,
    "start_time": "2022-03-22T15:04:04.697Z"
   },
   {
    "duration": 4,
    "start_time": "2022-03-22T15:04:07.757Z"
   },
   {
    "duration": 49,
    "start_time": "2022-03-22T15:04:07.763Z"
   },
   {
    "duration": 20,
    "start_time": "2022-03-22T15:04:07.815Z"
   },
   {
    "duration": 91,
    "start_time": "2022-03-22T15:04:07.838Z"
   },
   {
    "duration": 6,
    "start_time": "2022-03-22T15:04:07.932Z"
   },
   {
    "duration": 42,
    "start_time": "2022-03-22T15:04:07.941Z"
   },
   {
    "duration": 6,
    "start_time": "2022-03-22T15:04:07.986Z"
   },
   {
    "duration": 17,
    "start_time": "2022-03-22T15:04:07.994Z"
   },
   {
    "duration": 21,
    "start_time": "2022-03-22T15:04:08.015Z"
   },
   {
    "duration": 44,
    "start_time": "2022-03-22T15:04:08.038Z"
   },
   {
    "duration": 34,
    "start_time": "2022-03-22T15:04:08.085Z"
   },
   {
    "duration": 7,
    "start_time": "2022-03-22T15:04:08.124Z"
   },
   {
    "duration": 12177,
    "start_time": "2022-03-22T15:04:08.133Z"
   },
   {
    "duration": 10,
    "start_time": "2022-03-22T15:04:20.314Z"
   },
   {
    "duration": 29,
    "start_time": "2022-03-22T15:04:20.327Z"
   },
   {
    "duration": 36,
    "start_time": "2022-03-22T15:04:20.359Z"
   },
   {
    "duration": 25,
    "start_time": "2022-03-22T15:04:20.407Z"
   },
   {
    "duration": 39,
    "start_time": "2022-03-22T15:04:20.435Z"
   },
   {
    "duration": 33,
    "start_time": "2022-03-22T15:04:20.477Z"
   },
   {
    "duration": 344,
    "start_time": "2022-03-22T15:04:20.513Z"
   },
   {
    "duration": 38,
    "start_time": "2022-03-22T15:04:20.860Z"
   },
   {
    "duration": 451,
    "start_time": "2022-03-22T15:04:20.901Z"
   },
   {
    "duration": 320,
    "start_time": "2022-03-22T15:04:21.355Z"
   },
   {
    "duration": 313,
    "start_time": "2022-03-22T15:04:21.686Z"
   },
   {
    "duration": 29,
    "start_time": "2022-03-22T15:04:22.002Z"
   },
   {
    "duration": 410,
    "start_time": "2022-03-22T15:04:22.033Z"
   },
   {
    "duration": 371,
    "start_time": "2022-03-22T15:04:22.446Z"
   },
   {
    "duration": 16,
    "start_time": "2022-03-22T15:04:22.820Z"
   },
   {
    "duration": 668,
    "start_time": "2022-03-22T15:04:22.838Z"
   },
   {
    "duration": 275,
    "start_time": "2022-03-22T15:04:23.509Z"
   },
   {
    "duration": 263,
    "start_time": "2022-03-22T15:04:23.788Z"
   },
   {
    "duration": 387,
    "start_time": "2022-03-22T15:04:24.053Z"
   },
   {
    "duration": 266,
    "start_time": "2022-03-22T15:04:24.442Z"
   },
   {
    "duration": 9,
    "start_time": "2022-03-22T15:04:24.711Z"
   },
   {
    "duration": 20,
    "start_time": "2022-03-22T15:04:24.722Z"
   },
   {
    "duration": 670,
    "start_time": "2022-03-22T15:04:24.744Z"
   },
   {
    "duration": 247,
    "start_time": "2022-03-22T15:04:25.417Z"
   },
   {
    "duration": 250,
    "start_time": "2022-03-22T15:04:25.666Z"
   },
   {
    "duration": 230,
    "start_time": "2022-03-22T15:04:25.919Z"
   },
   {
    "duration": 238,
    "start_time": "2022-03-22T15:04:26.152Z"
   },
   {
    "duration": 236,
    "start_time": "2022-03-22T15:04:26.393Z"
   },
   {
    "duration": 238,
    "start_time": "2022-03-22T15:04:26.632Z"
   },
   {
    "duration": 245,
    "start_time": "2022-03-22T15:04:26.873Z"
   },
   {
    "duration": 245,
    "start_time": "2022-03-22T15:04:27.121Z"
   },
   {
    "duration": 254,
    "start_time": "2022-03-22T15:04:27.369Z"
   },
   {
    "duration": 1132,
    "start_time": "2022-03-22T15:05:30.081Z"
   },
   {
    "duration": 78,
    "start_time": "2022-03-22T15:05:31.217Z"
   },
   {
    "duration": 35,
    "start_time": "2022-03-22T15:05:31.300Z"
   },
   {
    "duration": 88,
    "start_time": "2022-03-22T15:05:31.349Z"
   },
   {
    "duration": 5,
    "start_time": "2022-03-22T15:05:31.442Z"
   },
   {
    "duration": 29,
    "start_time": "2022-03-22T15:05:31.454Z"
   },
   {
    "duration": 30,
    "start_time": "2022-03-22T15:05:31.485Z"
   },
   {
    "duration": 48,
    "start_time": "2022-03-22T15:05:31.518Z"
   },
   {
    "duration": 51,
    "start_time": "2022-03-22T15:05:31.570Z"
   },
   {
    "duration": 28,
    "start_time": "2022-03-22T15:05:31.627Z"
   },
   {
    "duration": 55,
    "start_time": "2022-03-22T15:05:31.658Z"
   },
   {
    "duration": 8,
    "start_time": "2022-03-22T15:05:31.716Z"
   },
   {
    "duration": 11575,
    "start_time": "2022-03-22T15:05:31.726Z"
   },
   {
    "duration": 7,
    "start_time": "2022-03-22T15:05:43.304Z"
   },
   {
    "duration": 18,
    "start_time": "2022-03-22T15:05:43.313Z"
   },
   {
    "duration": 15,
    "start_time": "2022-03-22T15:05:43.334Z"
   },
   {
    "duration": 36,
    "start_time": "2022-03-22T15:05:43.353Z"
   },
   {
    "duration": 34,
    "start_time": "2022-03-22T15:05:43.392Z"
   },
   {
    "duration": 28,
    "start_time": "2022-03-22T15:05:43.429Z"
   },
   {
    "duration": 401,
    "start_time": "2022-03-22T15:05:43.483Z"
   },
   {
    "duration": 28,
    "start_time": "2022-03-22T15:05:43.887Z"
   },
   {
    "duration": 364,
    "start_time": "2022-03-22T15:05:43.918Z"
   },
   {
    "duration": 317,
    "start_time": "2022-03-22T15:05:44.285Z"
   },
   {
    "duration": 450,
    "start_time": "2022-03-22T15:05:44.605Z"
   },
   {
    "duration": 41,
    "start_time": "2022-03-22T15:05:45.059Z"
   },
   {
    "duration": 545,
    "start_time": "2022-03-22T15:05:45.103Z"
   },
   {
    "duration": 317,
    "start_time": "2022-03-22T15:05:45.651Z"
   },
   {
    "duration": 13,
    "start_time": "2022-03-22T15:05:45.982Z"
   },
   {
    "duration": 496,
    "start_time": "2022-03-22T15:05:45.998Z"
   },
   {
    "duration": 289,
    "start_time": "2022-03-22T15:05:46.496Z"
   },
   {
    "duration": 285,
    "start_time": "2022-03-22T15:05:46.788Z"
   },
   {
    "duration": 261,
    "start_time": "2022-03-22T15:05:47.076Z"
   },
   {
    "duration": 334,
    "start_time": "2022-03-22T15:05:47.340Z"
   },
   {
    "duration": 10,
    "start_time": "2022-03-22T15:05:47.683Z"
   },
   {
    "duration": 23,
    "start_time": "2022-03-22T15:05:47.696Z"
   },
   {
    "duration": 571,
    "start_time": "2022-03-22T15:05:47.722Z"
   },
   {
    "duration": 222,
    "start_time": "2022-03-22T15:05:48.295Z"
   },
   {
    "duration": 302,
    "start_time": "2022-03-22T15:05:48.520Z"
   },
   {
    "duration": 242,
    "start_time": "2022-03-22T15:05:48.824Z"
   },
   {
    "duration": 250,
    "start_time": "2022-03-22T15:05:49.069Z"
   },
   {
    "duration": 251,
    "start_time": "2022-03-22T15:05:49.322Z"
   },
   {
    "duration": 235,
    "start_time": "2022-03-22T15:05:49.575Z"
   },
   {
    "duration": 249,
    "start_time": "2022-03-22T15:05:49.813Z"
   },
   {
    "duration": 267,
    "start_time": "2022-03-22T15:05:50.065Z"
   },
   {
    "duration": 324,
    "start_time": "2022-03-22T15:05:50.335Z"
   },
   {
    "duration": 430,
    "start_time": "2022-03-22T15:43:05.833Z"
   },
   {
    "duration": 841,
    "start_time": "2022-03-22T15:50:19.700Z"
   },
   {
    "duration": 14,
    "start_time": "2022-03-22T16:02:14.816Z"
   },
   {
    "duration": 914,
    "start_time": "2022-03-22T16:29:01.030Z"
   },
   {
    "duration": 56,
    "start_time": "2022-03-22T16:29:01.946Z"
   },
   {
    "duration": 25,
    "start_time": "2022-03-22T16:29:02.005Z"
   },
   {
    "duration": 81,
    "start_time": "2022-03-22T16:29:02.033Z"
   },
   {
    "duration": 6,
    "start_time": "2022-03-22T16:29:02.116Z"
   },
   {
    "duration": 10,
    "start_time": "2022-03-22T16:29:02.124Z"
   },
   {
    "duration": 13,
    "start_time": "2022-03-22T16:29:02.137Z"
   },
   {
    "duration": 38,
    "start_time": "2022-03-22T16:29:02.152Z"
   },
   {
    "duration": 21,
    "start_time": "2022-03-22T16:29:02.192Z"
   },
   {
    "duration": 9,
    "start_time": "2022-03-22T16:29:02.217Z"
   },
   {
    "duration": 62,
    "start_time": "2022-03-22T16:29:02.229Z"
   },
   {
    "duration": 6,
    "start_time": "2022-03-22T16:29:02.294Z"
   },
   {
    "duration": 12451,
    "start_time": "2022-03-22T16:29:02.302Z"
   },
   {
    "duration": 7,
    "start_time": "2022-03-22T16:29:14.756Z"
   },
   {
    "duration": 23,
    "start_time": "2022-03-22T16:29:14.766Z"
   },
   {
    "duration": 29,
    "start_time": "2022-03-22T16:29:14.791Z"
   },
   {
    "duration": 41,
    "start_time": "2022-03-22T16:29:14.823Z"
   },
   {
    "duration": 39,
    "start_time": "2022-03-22T16:29:14.866Z"
   },
   {
    "duration": 43,
    "start_time": "2022-03-22T16:29:14.909Z"
   },
   {
    "duration": 461,
    "start_time": "2022-03-22T16:29:14.954Z"
   },
   {
    "duration": 24,
    "start_time": "2022-03-22T16:29:15.419Z"
   },
   {
    "duration": 366,
    "start_time": "2022-03-22T16:29:15.446Z"
   },
   {
    "duration": 346,
    "start_time": "2022-03-22T16:29:15.816Z"
   },
   {
    "duration": 655,
    "start_time": "2022-03-22T16:29:16.164Z"
   },
   {
    "duration": 77,
    "start_time": "2022-03-22T16:29:16.822Z"
   },
   {
    "duration": 1018,
    "start_time": "2022-03-22T16:29:16.902Z"
   },
   {
    "duration": 903,
    "start_time": "2022-03-22T16:29:17.923Z"
   },
   {
    "duration": 1112,
    "start_time": "2022-03-22T16:29:18.889Z"
   },
   {
    "duration": 593,
    "start_time": "2022-03-22T16:29:20.004Z"
   },
   {
    "duration": 517,
    "start_time": "2022-03-22T16:29:20.599Z"
   },
   {
    "duration": 501,
    "start_time": "2022-03-22T16:29:21.118Z"
   },
   {
    "duration": 498,
    "start_time": "2022-03-22T16:29:21.622Z"
   },
   {
    "duration": 66,
    "start_time": "2022-03-22T16:29:22.124Z"
   },
   {
    "duration": 19,
    "start_time": "2022-03-22T16:29:22.193Z"
   },
   {
    "duration": 1006,
    "start_time": "2022-03-22T16:29:22.215Z"
   },
   {
    "duration": 218,
    "start_time": "2022-03-22T16:29:23.223Z"
   },
   {
    "duration": 297,
    "start_time": "2022-03-22T16:29:23.444Z"
   },
   {
    "duration": 271,
    "start_time": "2022-03-22T16:29:23.744Z"
   },
   {
    "duration": 238,
    "start_time": "2022-03-22T16:29:24.017Z"
   },
   {
    "duration": 343,
    "start_time": "2022-03-22T16:29:24.257Z"
   },
   {
    "duration": 364,
    "start_time": "2022-03-22T16:29:24.606Z"
   },
   {
    "duration": 512,
    "start_time": "2022-03-22T16:29:24.973Z"
   },
   {
    "duration": 264,
    "start_time": "2022-03-22T16:29:25.488Z"
   },
   {
    "duration": 257,
    "start_time": "2022-03-22T16:29:25.754Z"
   },
   {
    "duration": 14263,
    "start_time": "2022-03-22T16:30:43.256Z"
   },
   {
    "duration": 130,
    "start_time": "2022-03-22T17:04:48.275Z"
   },
   {
    "duration": 487,
    "start_time": "2022-03-22T17:09:40.956Z"
   },
   {
    "duration": 106,
    "start_time": "2022-03-22T17:09:50.082Z"
   },
   {
    "duration": 12,
    "start_time": "2022-03-22T17:10:00.755Z"
   },
   {
    "duration": 233,
    "start_time": "2022-03-22T17:17:47.028Z"
   },
   {
    "duration": 44,
    "start_time": "2022-03-22T17:19:52.732Z"
   },
   {
    "duration": 6,
    "start_time": "2022-03-22T17:19:58.610Z"
   },
   {
    "duration": 328,
    "start_time": "2022-03-22T17:20:54.297Z"
   },
   {
    "duration": 77,
    "start_time": "2022-03-22T17:25:02.250Z"
   },
   {
    "duration": 20,
    "start_time": "2022-03-22T17:25:33.475Z"
   },
   {
    "duration": 5,
    "start_time": "2022-03-22T17:34:34.606Z"
   },
   {
    "duration": 10,
    "start_time": "2022-03-22T17:34:51.731Z"
   },
   {
    "duration": 14,
    "start_time": "2022-03-22T17:35:11.590Z"
   },
   {
    "duration": 39,
    "start_time": "2022-03-22T17:38:15.996Z"
   },
   {
    "duration": 24,
    "start_time": "2022-03-22T17:39:03.758Z"
   },
   {
    "duration": 7,
    "start_time": "2022-03-22T17:39:26.934Z"
   },
   {
    "duration": 14,
    "start_time": "2022-03-22T17:40:08.135Z"
   },
   {
    "duration": 19,
    "start_time": "2022-03-22T17:40:10.856Z"
   },
   {
    "duration": 15,
    "start_time": "2022-03-22T17:40:29.638Z"
   },
   {
    "duration": 13,
    "start_time": "2022-03-22T17:41:37.034Z"
   },
   {
    "duration": 13,
    "start_time": "2022-03-22T17:41:40.280Z"
   },
   {
    "duration": 7,
    "start_time": "2022-03-22T17:43:58.517Z"
   },
   {
    "duration": 14,
    "start_time": "2022-03-22T17:44:39.089Z"
   },
   {
    "duration": 23,
    "start_time": "2022-03-22T17:51:36.762Z"
   },
   {
    "duration": 15,
    "start_time": "2022-03-22T18:00:26.181Z"
   },
   {
    "duration": 15,
    "start_time": "2022-03-22T18:00:51.373Z"
   },
   {
    "duration": 13,
    "start_time": "2022-03-22T18:00:54.186Z"
   },
   {
    "duration": 14,
    "start_time": "2022-03-22T18:01:30.194Z"
   },
   {
    "duration": 13,
    "start_time": "2022-03-22T18:02:05.914Z"
   },
   {
    "duration": 1215,
    "start_time": "2022-03-23T19:28:55.436Z"
   },
   {
    "duration": 50,
    "start_time": "2022-03-23T19:28:56.653Z"
   },
   {
    "duration": 16,
    "start_time": "2022-03-23T19:28:56.705Z"
   },
   {
    "duration": 34,
    "start_time": "2022-03-23T19:28:56.723Z"
   },
   {
    "duration": 3,
    "start_time": "2022-03-23T19:28:56.759Z"
   },
   {
    "duration": 5,
    "start_time": "2022-03-23T19:28:56.763Z"
   },
   {
    "duration": 4,
    "start_time": "2022-03-23T19:28:56.770Z"
   },
   {
    "duration": 10,
    "start_time": "2022-03-23T19:28:56.800Z"
   },
   {
    "duration": 14,
    "start_time": "2022-03-23T19:28:56.811Z"
   },
   {
    "duration": 7,
    "start_time": "2022-03-23T19:28:56.828Z"
   },
   {
    "duration": 19,
    "start_time": "2022-03-23T19:28:56.837Z"
   },
   {
    "duration": 4,
    "start_time": "2022-03-23T19:28:56.858Z"
   },
   {
    "duration": 3999,
    "start_time": "2022-03-23T19:28:56.864Z"
   },
   {
    "duration": 5,
    "start_time": "2022-03-23T19:29:00.864Z"
   },
   {
    "duration": 15,
    "start_time": "2022-03-23T19:29:00.871Z"
   },
   {
    "duration": 14,
    "start_time": "2022-03-23T19:29:00.888Z"
   },
   {
    "duration": 6,
    "start_time": "2022-03-23T19:29:00.903Z"
   },
   {
    "duration": 16,
    "start_time": "2022-03-23T19:29:00.911Z"
   },
   {
    "duration": 20,
    "start_time": "2022-03-23T19:29:00.929Z"
   },
   {
    "duration": 194,
    "start_time": "2022-03-23T19:29:00.951Z"
   },
   {
    "duration": 16,
    "start_time": "2022-03-23T19:29:01.146Z"
   },
   {
    "duration": 184,
    "start_time": "2022-03-23T19:29:01.163Z"
   },
   {
    "duration": 182,
    "start_time": "2022-03-23T19:29:01.349Z"
   },
   {
    "duration": 153,
    "start_time": "2022-03-23T19:29:01.533Z"
   },
   {
    "duration": 20,
    "start_time": "2022-03-23T19:29:01.688Z"
   },
   {
    "duration": 215,
    "start_time": "2022-03-23T19:29:01.710Z"
   },
   {
    "duration": 163,
    "start_time": "2022-03-23T19:29:01.927Z"
   },
   {
    "duration": 271,
    "start_time": "2022-03-23T19:29:02.102Z"
   },
   {
    "duration": 154,
    "start_time": "2022-03-23T19:29:02.374Z"
   },
   {
    "duration": 155,
    "start_time": "2022-03-23T19:29:02.530Z"
   },
   {
    "duration": 141,
    "start_time": "2022-03-23T19:29:02.686Z"
   },
   {
    "duration": 140,
    "start_time": "2022-03-23T19:29:02.829Z"
   },
   {
    "duration": 6,
    "start_time": "2022-03-23T19:29:02.970Z"
   },
   {
    "duration": 25,
    "start_time": "2022-03-23T19:29:02.977Z"
   },
   {
    "duration": 281,
    "start_time": "2022-03-23T19:29:03.003Z"
   },
   {
    "duration": 127,
    "start_time": "2022-03-23T19:29:03.286Z"
   },
   {
    "duration": 203,
    "start_time": "2022-03-23T19:29:03.415Z"
   },
   {
    "duration": 132,
    "start_time": "2022-03-23T19:29:03.619Z"
   },
   {
    "duration": 133,
    "start_time": "2022-03-23T19:29:03.752Z"
   },
   {
    "duration": 143,
    "start_time": "2022-03-23T19:29:03.887Z"
   },
   {
    "duration": 125,
    "start_time": "2022-03-23T19:29:04.032Z"
   },
   {
    "duration": 134,
    "start_time": "2022-03-23T19:29:04.158Z"
   },
   {
    "duration": 129,
    "start_time": "2022-03-23T19:29:04.294Z"
   },
   {
    "duration": 146,
    "start_time": "2022-03-23T19:29:04.424Z"
   },
   {
    "duration": 5,
    "start_time": "2022-03-23T19:29:04.571Z"
   },
   {
    "duration": 9,
    "start_time": "2022-03-23T19:29:04.578Z"
   },
   {
    "duration": 8,
    "start_time": "2022-03-23T19:29:04.601Z"
   },
   {
    "duration": 1109,
    "start_time": "2022-03-23T19:30:41.620Z"
   },
   {
    "duration": 50,
    "start_time": "2022-03-23T19:30:42.731Z"
   },
   {
    "duration": 17,
    "start_time": "2022-03-23T19:30:42.783Z"
   },
   {
    "duration": 63,
    "start_time": "2022-03-23T19:30:42.803Z"
   },
   {
    "duration": 4,
    "start_time": "2022-03-23T19:30:42.868Z"
   },
   {
    "duration": 7,
    "start_time": "2022-03-23T19:30:42.874Z"
   },
   {
    "duration": 8,
    "start_time": "2022-03-23T19:30:42.883Z"
   },
   {
    "duration": 18,
    "start_time": "2022-03-23T19:30:42.892Z"
   },
   {
    "duration": 15,
    "start_time": "2022-03-23T19:30:42.912Z"
   },
   {
    "duration": 9,
    "start_time": "2022-03-23T19:30:42.929Z"
   },
   {
    "duration": 21,
    "start_time": "2022-03-23T19:30:42.940Z"
   },
   {
    "duration": 4,
    "start_time": "2022-03-23T19:30:42.963Z"
   },
   {
    "duration": 2974,
    "start_time": "2022-03-23T19:30:42.969Z"
   },
   {
    "duration": 5,
    "start_time": "2022-03-23T19:30:45.945Z"
   },
   {
    "duration": 8,
    "start_time": "2022-03-23T19:30:45.952Z"
   },
   {
    "duration": 5,
    "start_time": "2022-03-23T19:30:45.961Z"
   },
   {
    "duration": 5,
    "start_time": "2022-03-23T19:30:45.967Z"
   },
   {
    "duration": 38,
    "start_time": "2022-03-23T19:30:45.973Z"
   },
   {
    "duration": 16,
    "start_time": "2022-03-23T19:30:46.013Z"
   },
   {
    "duration": 188,
    "start_time": "2022-03-23T19:30:46.031Z"
   },
   {
    "duration": 14,
    "start_time": "2022-03-23T19:30:46.220Z"
   },
   {
    "duration": 174,
    "start_time": "2022-03-23T19:30:46.236Z"
   },
   {
    "duration": 168,
    "start_time": "2022-03-23T19:30:46.412Z"
   },
   {
    "duration": 147,
    "start_time": "2022-03-23T19:30:46.582Z"
   },
   {
    "duration": 16,
    "start_time": "2022-03-23T19:30:46.731Z"
   },
   {
    "duration": 216,
    "start_time": "2022-03-23T19:30:46.749Z"
   },
   {
    "duration": 164,
    "start_time": "2022-03-23T19:30:46.967Z"
   },
   {
    "duration": 268,
    "start_time": "2022-03-23T19:30:47.135Z"
   },
   {
    "duration": 146,
    "start_time": "2022-03-23T19:30:47.404Z"
   },
   {
    "duration": 143,
    "start_time": "2022-03-23T19:30:47.552Z"
   },
   {
    "duration": 144,
    "start_time": "2022-03-23T19:30:47.697Z"
   },
   {
    "duration": 158,
    "start_time": "2022-03-23T19:30:47.843Z"
   },
   {
    "duration": 6,
    "start_time": "2022-03-23T19:30:48.002Z"
   },
   {
    "duration": 27,
    "start_time": "2022-03-23T19:30:48.010Z"
   },
   {
    "duration": 343,
    "start_time": "2022-03-23T19:30:48.039Z"
   },
   {
    "duration": 131,
    "start_time": "2022-03-23T19:30:48.384Z"
   },
   {
    "duration": 209,
    "start_time": "2022-03-23T19:30:48.516Z"
   },
   {
    "duration": 137,
    "start_time": "2022-03-23T19:30:48.726Z"
   },
   {
    "duration": 141,
    "start_time": "2022-03-23T19:30:48.865Z"
   },
   {
    "duration": 134,
    "start_time": "2022-03-23T19:30:49.008Z"
   },
   {
    "duration": 126,
    "start_time": "2022-03-23T19:30:49.144Z"
   },
   {
    "duration": 135,
    "start_time": "2022-03-23T19:30:49.272Z"
   },
   {
    "duration": 134,
    "start_time": "2022-03-23T19:30:49.409Z"
   },
   {
    "duration": 134,
    "start_time": "2022-03-23T19:30:49.544Z"
   },
   {
    "duration": 4,
    "start_time": "2022-03-23T19:30:49.681Z"
   },
   {
    "duration": 25,
    "start_time": "2022-03-23T19:30:49.687Z"
   },
   {
    "duration": 8,
    "start_time": "2022-03-23T19:30:49.714Z"
   },
   {
    "duration": 1060,
    "start_time": "2022-04-03T21:59:00.486Z"
   },
   {
    "duration": 37,
    "start_time": "2022-04-03T21:59:01.548Z"
   },
   {
    "duration": 22,
    "start_time": "2022-04-03T21:59:01.587Z"
   },
   {
    "duration": 40,
    "start_time": "2022-04-03T21:59:01.611Z"
   },
   {
    "duration": 3,
    "start_time": "2022-04-03T21:59:01.653Z"
   },
   {
    "duration": 8,
    "start_time": "2022-04-03T21:59:01.657Z"
   },
   {
    "duration": 6,
    "start_time": "2022-04-03T21:59:01.666Z"
   },
   {
    "duration": 11,
    "start_time": "2022-04-03T21:59:01.673Z"
   },
   {
    "duration": 15,
    "start_time": "2022-04-03T21:59:01.709Z"
   },
   {
    "duration": 17,
    "start_time": "2022-04-03T21:59:01.726Z"
   },
   {
    "duration": 22,
    "start_time": "2022-04-03T21:59:01.745Z"
   },
   {
    "duration": 4,
    "start_time": "2022-04-03T21:59:01.769Z"
   },
   {
    "duration": 3274,
    "start_time": "2022-04-03T21:59:01.774Z"
   },
   {
    "duration": 5,
    "start_time": "2022-04-03T21:59:05.050Z"
   },
   {
    "duration": 8,
    "start_time": "2022-04-03T21:59:05.056Z"
   },
   {
    "duration": 5,
    "start_time": "2022-04-03T21:59:05.066Z"
   },
   {
    "duration": 4,
    "start_time": "2022-04-03T21:59:05.073Z"
   },
   {
    "duration": 36,
    "start_time": "2022-04-03T21:59:05.078Z"
   },
   {
    "duration": 17,
    "start_time": "2022-04-03T21:59:05.116Z"
   },
   {
    "duration": 213,
    "start_time": "2022-04-03T21:59:05.135Z"
   },
   {
    "duration": 15,
    "start_time": "2022-04-03T21:59:05.350Z"
   },
   {
    "duration": 201,
    "start_time": "2022-04-03T21:59:05.367Z"
   },
   {
    "duration": 195,
    "start_time": "2022-04-03T21:59:05.570Z"
   },
   {
    "duration": 175,
    "start_time": "2022-04-03T21:59:05.766Z"
   },
   {
    "duration": 18,
    "start_time": "2022-04-03T21:59:05.943Z"
   },
   {
    "duration": 246,
    "start_time": "2022-04-03T21:59:05.962Z"
   },
   {
    "duration": 186,
    "start_time": "2022-04-03T21:59:06.210Z"
   },
   {
    "duration": 275,
    "start_time": "2022-04-03T21:59:06.399Z"
   },
   {
    "duration": 165,
    "start_time": "2022-04-03T21:59:06.675Z"
   },
   {
    "duration": 160,
    "start_time": "2022-04-03T21:59:06.842Z"
   },
   {
    "duration": 169,
    "start_time": "2022-04-03T21:59:07.004Z"
   },
   {
    "duration": 156,
    "start_time": "2022-04-03T21:59:07.176Z"
   },
   {
    "duration": 6,
    "start_time": "2022-04-03T21:59:07.334Z"
   },
   {
    "duration": 12,
    "start_time": "2022-04-03T21:59:07.342Z"
   },
   {
    "duration": 350,
    "start_time": "2022-04-03T21:59:07.356Z"
   },
   {
    "duration": 146,
    "start_time": "2022-04-03T21:59:07.708Z"
   },
   {
    "duration": 218,
    "start_time": "2022-04-03T21:59:07.856Z"
   },
   {
    "duration": 147,
    "start_time": "2022-04-03T21:59:08.076Z"
   },
   {
    "duration": 151,
    "start_time": "2022-04-03T21:59:08.225Z"
   },
   {
    "duration": 154,
    "start_time": "2022-04-03T21:59:08.378Z"
   },
   {
    "duration": 147,
    "start_time": "2022-04-03T21:59:08.533Z"
   },
   {
    "duration": 156,
    "start_time": "2022-04-03T21:59:08.682Z"
   },
   {
    "duration": 142,
    "start_time": "2022-04-03T21:59:08.840Z"
   },
   {
    "duration": 150,
    "start_time": "2022-04-03T21:59:08.984Z"
   },
   {
    "duration": 5,
    "start_time": "2022-04-03T21:59:09.136Z"
   },
   {
    "duration": 11,
    "start_time": "2022-04-03T21:59:09.143Z"
   },
   {
    "duration": 8,
    "start_time": "2022-04-03T21:59:09.155Z"
   },
   {
    "duration": 1057,
    "start_time": "2022-04-03T22:12:55.992Z"
   },
   {
    "duration": 36,
    "start_time": "2022-04-03T22:12:57.051Z"
   },
   {
    "duration": 20,
    "start_time": "2022-04-03T22:12:57.089Z"
   },
   {
    "duration": 38,
    "start_time": "2022-04-03T22:12:57.111Z"
   },
   {
    "duration": 3,
    "start_time": "2022-04-03T22:12:57.151Z"
   },
   {
    "duration": 6,
    "start_time": "2022-04-03T22:12:57.155Z"
   },
   {
    "duration": 6,
    "start_time": "2022-04-03T22:12:57.162Z"
   },
   {
    "duration": 10,
    "start_time": "2022-04-03T22:12:57.169Z"
   },
   {
    "duration": 38,
    "start_time": "2022-04-03T22:12:57.180Z"
   },
   {
    "duration": 5,
    "start_time": "2022-04-03T22:12:57.220Z"
   },
   {
    "duration": 21,
    "start_time": "2022-04-03T22:12:57.226Z"
   },
   {
    "duration": 4,
    "start_time": "2022-04-03T22:12:57.249Z"
   },
   {
    "duration": 3312,
    "start_time": "2022-04-03T22:12:57.254Z"
   },
   {
    "duration": 5,
    "start_time": "2022-04-03T22:13:00.567Z"
   },
   {
    "duration": 11,
    "start_time": "2022-04-03T22:13:00.574Z"
   },
   {
    "duration": 7,
    "start_time": "2022-04-03T22:13:00.586Z"
   },
   {
    "duration": 20,
    "start_time": "2022-04-03T22:13:00.594Z"
   },
   {
    "duration": 18,
    "start_time": "2022-04-03T22:13:00.616Z"
   },
   {
    "duration": 20,
    "start_time": "2022-04-03T22:13:00.636Z"
   },
   {
    "duration": 83,
    "start_time": "2022-04-03T22:13:00.657Z"
   },
   {
    "duration": 203,
    "start_time": "2022-04-03T22:13:00.741Z"
   },
   {
    "duration": 15,
    "start_time": "2022-04-03T22:13:00.945Z"
   },
   {
    "duration": 196,
    "start_time": "2022-04-03T22:13:00.961Z"
   },
   {
    "duration": 192,
    "start_time": "2022-04-03T22:13:01.158Z"
   },
   {
    "duration": 170,
    "start_time": "2022-04-03T22:13:01.352Z"
   },
   {
    "duration": 18,
    "start_time": "2022-04-03T22:13:01.524Z"
   },
   {
    "duration": 243,
    "start_time": "2022-04-03T22:13:01.544Z"
   },
   {
    "duration": 186,
    "start_time": "2022-04-03T22:13:01.792Z"
   },
   {
    "duration": 271,
    "start_time": "2022-04-03T22:13:01.979Z"
   },
   {
    "duration": 162,
    "start_time": "2022-04-03T22:13:02.252Z"
   },
   {
    "duration": 163,
    "start_time": "2022-04-03T22:13:02.416Z"
   },
   {
    "duration": 163,
    "start_time": "2022-04-03T22:13:02.580Z"
   },
   {
    "duration": 164,
    "start_time": "2022-04-03T22:13:02.745Z"
   },
   {
    "duration": 6,
    "start_time": "2022-04-03T22:13:02.911Z"
   },
   {
    "duration": 12,
    "start_time": "2022-04-03T22:13:02.919Z"
   },
   {
    "duration": 346,
    "start_time": "2022-04-03T22:13:02.933Z"
   },
   {
    "duration": 147,
    "start_time": "2022-04-03T22:13:03.281Z"
   },
   {
    "duration": 229,
    "start_time": "2022-04-03T22:13:03.430Z"
   },
   {
    "duration": 150,
    "start_time": "2022-04-03T22:13:03.661Z"
   },
   {
    "duration": 154,
    "start_time": "2022-04-03T22:13:03.814Z"
   },
   {
    "duration": 149,
    "start_time": "2022-04-03T22:13:03.971Z"
   },
   {
    "duration": 148,
    "start_time": "2022-04-03T22:13:04.122Z"
   },
   {
    "duration": 144,
    "start_time": "2022-04-03T22:13:04.272Z"
   },
   {
    "duration": 147,
    "start_time": "2022-04-03T22:13:04.418Z"
   },
   {
    "duration": 152,
    "start_time": "2022-04-03T22:13:04.567Z"
   },
   {
    "duration": 6,
    "start_time": "2022-04-03T22:13:04.720Z"
   },
   {
    "duration": 13,
    "start_time": "2022-04-03T22:13:04.727Z"
   },
   {
    "duration": 8,
    "start_time": "2022-04-03T22:13:04.741Z"
   },
   {
    "duration": 9,
    "start_time": "2022-04-03T22:28:48.377Z"
   },
   {
    "duration": 51,
    "start_time": "2022-04-04T16:42:10.278Z"
   },
   {
    "duration": 1346,
    "start_time": "2022-04-04T16:42:15.563Z"
   },
   {
    "duration": 54,
    "start_time": "2022-04-04T16:42:16.912Z"
   },
   {
    "duration": 19,
    "start_time": "2022-04-04T16:42:16.968Z"
   },
   {
    "duration": 54,
    "start_time": "2022-04-04T16:42:16.988Z"
   },
   {
    "duration": 4,
    "start_time": "2022-04-04T16:42:17.044Z"
   },
   {
    "duration": 5,
    "start_time": "2022-04-04T16:42:17.050Z"
   },
   {
    "duration": 6,
    "start_time": "2022-04-04T16:42:17.056Z"
   },
   {
    "duration": 11,
    "start_time": "2022-04-04T16:42:17.064Z"
   },
   {
    "duration": 15,
    "start_time": "2022-04-04T16:42:17.077Z"
   },
   {
    "duration": 39,
    "start_time": "2022-04-04T16:42:17.093Z"
   },
   {
    "duration": 7,
    "start_time": "2022-04-04T16:42:17.134Z"
   },
   {
    "duration": 10,
    "start_time": "2022-04-04T16:42:17.142Z"
   },
   {
    "duration": 3524,
    "start_time": "2022-04-04T16:42:17.154Z"
   },
   {
    "duration": 5,
    "start_time": "2022-04-04T16:42:20.682Z"
   },
   {
    "duration": 15,
    "start_time": "2022-04-04T16:42:20.688Z"
   },
   {
    "duration": 5,
    "start_time": "2022-04-04T16:42:20.705Z"
   },
   {
    "duration": 9,
    "start_time": "2022-04-04T16:42:20.711Z"
   },
   {
    "duration": 23,
    "start_time": "2022-04-04T16:42:20.721Z"
   },
   {
    "duration": 16,
    "start_time": "2022-04-04T16:42:20.746Z"
   },
   {
    "duration": 103,
    "start_time": "2022-04-04T16:42:20.764Z"
   },
   {
    "duration": 230,
    "start_time": "2022-04-04T16:42:20.869Z"
   },
   {
    "duration": 30,
    "start_time": "2022-04-04T16:42:21.101Z"
   },
   {
    "duration": 220,
    "start_time": "2022-04-04T16:42:21.133Z"
   },
   {
    "duration": 215,
    "start_time": "2022-04-04T16:42:21.355Z"
   },
   {
    "duration": 205,
    "start_time": "2022-04-04T16:42:21.572Z"
   },
   {
    "duration": 17,
    "start_time": "2022-04-04T16:42:21.778Z"
   },
   {
    "duration": 266,
    "start_time": "2022-04-04T16:42:21.797Z"
   },
   {
    "duration": 199,
    "start_time": "2022-04-04T16:42:22.065Z"
   },
   {
    "duration": 306,
    "start_time": "2022-04-04T16:42:22.266Z"
   },
   {
    "duration": 178,
    "start_time": "2022-04-04T16:42:22.573Z"
   },
   {
    "duration": 173,
    "start_time": "2022-04-04T16:42:22.753Z"
   },
   {
    "duration": 171,
    "start_time": "2022-04-04T16:42:22.931Z"
   },
   {
    "duration": 161,
    "start_time": "2022-04-04T16:42:23.104Z"
   },
   {
    "duration": 6,
    "start_time": "2022-04-04T16:42:23.267Z"
   },
   {
    "duration": 17,
    "start_time": "2022-04-04T16:42:23.275Z"
   },
   {
    "duration": 368,
    "start_time": "2022-04-04T16:42:23.294Z"
   },
   {
    "duration": 153,
    "start_time": "2022-04-04T16:42:23.664Z"
   },
   {
    "duration": 171,
    "start_time": "2022-04-04T16:42:23.818Z"
   },
   {
    "duration": 174,
    "start_time": "2022-04-04T16:42:23.991Z"
   },
   {
    "duration": 258,
    "start_time": "2022-04-04T16:42:24.167Z"
   },
   {
    "duration": 169,
    "start_time": "2022-04-04T16:42:24.431Z"
   },
   {
    "duration": 155,
    "start_time": "2022-04-04T16:42:24.602Z"
   },
   {
    "duration": 163,
    "start_time": "2022-04-04T16:42:24.760Z"
   },
   {
    "duration": 156,
    "start_time": "2022-04-04T16:42:24.931Z"
   },
   {
    "duration": 168,
    "start_time": "2022-04-04T16:42:25.089Z"
   },
   {
    "duration": 9,
    "start_time": "2022-04-04T16:42:25.259Z"
   },
   {
    "duration": 10,
    "start_time": "2022-04-04T16:42:25.270Z"
   },
   {
    "duration": 12,
    "start_time": "2022-04-04T16:42:25.282Z"
   },
   {
    "duration": 41,
    "start_time": "2022-04-04T16:42:25.296Z"
   },
   {
    "duration": 14,
    "start_time": "2022-04-04T16:47:50.550Z"
   },
   {
    "duration": 6,
    "start_time": "2022-04-04T17:04:34.529Z"
   },
   {
    "duration": 7,
    "start_time": "2022-04-04T17:25:36.088Z"
   },
   {
    "duration": 4,
    "start_time": "2022-04-04T17:25:47.969Z"
   },
   {
    "duration": 2202,
    "start_time": "2022-04-04T17:25:47.975Z"
   },
   {
    "duration": 15,
    "start_time": "2022-04-04T17:25:50.179Z"
   },
   {
    "duration": 44,
    "start_time": "2022-04-04T17:25:50.196Z"
   },
   {
    "duration": 3,
    "start_time": "2022-04-04T17:25:50.242Z"
   },
   {
    "duration": 8,
    "start_time": "2022-04-04T17:25:50.247Z"
   },
   {
    "duration": 9,
    "start_time": "2022-04-04T17:25:50.257Z"
   },
   {
    "duration": 13,
    "start_time": "2022-04-04T17:25:50.267Z"
   },
   {
    "duration": 20,
    "start_time": "2022-04-04T17:25:50.282Z"
   },
   {
    "duration": 9,
    "start_time": "2022-04-04T17:25:50.304Z"
   },
   {
    "duration": 21,
    "start_time": "2022-04-04T17:25:50.314Z"
   },
   {
    "duration": 11,
    "start_time": "2022-04-04T17:25:50.336Z"
   },
   {
    "duration": 20,
    "start_time": "2022-04-04T17:25:50.349Z"
   },
   {
    "duration": 6,
    "start_time": "2022-04-04T17:25:50.373Z"
   },
   {
    "duration": 7,
    "start_time": "2022-04-04T17:25:50.381Z"
   },
   {
    "duration": 17,
    "start_time": "2022-04-04T17:25:50.390Z"
   },
   {
    "duration": 34,
    "start_time": "2022-04-04T17:25:50.409Z"
   },
   {
    "duration": 99,
    "start_time": "2022-04-04T17:25:50.445Z"
   },
   {
    "duration": 211,
    "start_time": "2022-04-04T17:25:50.545Z"
   },
   {
    "duration": 16,
    "start_time": "2022-04-04T17:25:50.758Z"
   },
   {
    "duration": 221,
    "start_time": "2022-04-04T17:25:50.776Z"
   },
   {
    "duration": 213,
    "start_time": "2022-04-04T17:25:50.999Z"
   },
   {
    "duration": 208,
    "start_time": "2022-04-04T17:25:51.214Z"
   },
   {
    "duration": 24,
    "start_time": "2022-04-04T17:25:51.424Z"
   },
   {
    "duration": 272,
    "start_time": "2022-04-04T17:25:51.449Z"
   },
   {
    "duration": 190,
    "start_time": "2022-04-04T17:25:51.722Z"
   },
   {
    "duration": 449,
    "start_time": "2022-04-04T17:25:51.913Z"
   },
   {
    "duration": 381,
    "start_time": "2022-04-04T17:25:52.363Z"
   },
   {
    "duration": 320,
    "start_time": "2022-04-04T17:25:52.745Z"
   },
   {
    "duration": 370,
    "start_time": "2022-04-04T17:25:53.067Z"
   },
   {
    "duration": 311,
    "start_time": "2022-04-04T17:25:53.439Z"
   },
   {
    "duration": 5,
    "start_time": "2022-04-04T17:25:53.752Z"
   },
   {
    "duration": 12,
    "start_time": "2022-04-04T17:25:53.759Z"
   },
   {
    "duration": 413,
    "start_time": "2022-04-04T17:25:53.773Z"
   },
   {
    "duration": 153,
    "start_time": "2022-04-04T17:25:54.188Z"
   },
   {
    "duration": 159,
    "start_time": "2022-04-04T17:25:54.342Z"
   },
   {
    "duration": 171,
    "start_time": "2022-04-04T17:25:54.502Z"
   },
   {
    "duration": 161,
    "start_time": "2022-04-04T17:25:54.674Z"
   },
   {
    "duration": 157,
    "start_time": "2022-04-04T17:25:54.836Z"
   },
   {
    "duration": 158,
    "start_time": "2022-04-04T17:25:54.994Z"
   },
   {
    "duration": 166,
    "start_time": "2022-04-04T17:25:55.156Z"
   },
   {
    "duration": 163,
    "start_time": "2022-04-04T17:25:55.323Z"
   },
   {
    "duration": 185,
    "start_time": "2022-04-04T17:25:55.487Z"
   },
   {
    "duration": 60,
    "start_time": "2022-04-04T17:25:55.673Z"
   },
   {
    "duration": 10,
    "start_time": "2022-04-04T17:25:55.735Z"
   },
   {
    "duration": 12,
    "start_time": "2022-04-04T17:25:55.747Z"
   },
   {
    "duration": 8,
    "start_time": "2022-04-04T17:25:55.761Z"
   },
   {
    "duration": 5,
    "start_time": "2022-04-04T17:26:51.480Z"
   },
   {
    "duration": 6,
    "start_time": "2022-04-04T17:26:54.840Z"
   },
   {
    "duration": 6,
    "start_time": "2022-04-04T17:27:05.960Z"
   },
   {
    "duration": 4,
    "start_time": "2022-04-04T17:27:12.321Z"
   },
   {
    "duration": 9,
    "start_time": "2022-04-04T17:27:36.985Z"
   },
   {
    "duration": 4,
    "start_time": "2022-04-04T17:37:22.365Z"
   },
   {
    "duration": 10,
    "start_time": "2022-04-04T17:37:23.205Z"
   },
   {
    "duration": 4,
    "start_time": "2022-04-04T17:42:28.963Z"
   },
   {
    "duration": 9,
    "start_time": "2022-04-04T17:42:30.282Z"
   },
   {
    "duration": 14,
    "start_time": "2022-04-04T17:43:08.018Z"
   },
   {
    "duration": 209,
    "start_time": "2022-04-04T17:45:02.039Z"
   },
   {
    "duration": 163,
    "start_time": "2022-04-04T17:45:29.026Z"
   },
   {
    "duration": 16,
    "start_time": "2022-04-04T17:49:06.555Z"
   },
   {
    "duration": 15,
    "start_time": "2022-04-04T17:49:15.882Z"
   },
   {
    "duration": 15,
    "start_time": "2022-04-04T17:49:29.431Z"
   },
   {
    "duration": 15,
    "start_time": "2022-04-04T17:49:42.235Z"
   },
   {
    "duration": 15,
    "start_time": "2022-04-04T17:52:56.327Z"
   },
   {
    "duration": 74,
    "start_time": "2022-04-04T17:57:04.051Z"
   },
   {
    "duration": 5,
    "start_time": "2022-04-04T18:02:08.723Z"
   },
   {
    "duration": 228,
    "start_time": "2022-04-04T18:25:13.978Z"
   },
   {
    "duration": 378,
    "start_time": "2022-04-04T18:25:22.238Z"
   },
   {
    "duration": 235,
    "start_time": "2022-04-04T18:28:13.847Z"
   },
   {
    "duration": 235,
    "start_time": "2022-04-04T18:28:37.723Z"
   },
   {
    "duration": 290,
    "start_time": "2022-04-04T18:31:04.527Z"
   },
   {
    "duration": 254,
    "start_time": "2022-04-04T18:31:19.611Z"
   },
   {
    "duration": 300,
    "start_time": "2022-04-04T18:31:29.859Z"
   },
   {
    "duration": 289,
    "start_time": "2022-04-04T18:31:43.731Z"
   },
   {
    "duration": 165,
    "start_time": "2022-04-04T19:13:22.884Z"
   },
   {
    "duration": 168,
    "start_time": "2022-04-04T19:17:15.848Z"
   },
   {
    "duration": 181,
    "start_time": "2022-04-04T19:18:03.749Z"
   },
   {
    "duration": 168,
    "start_time": "2022-04-04T19:18:10.252Z"
   },
   {
    "duration": 185,
    "start_time": "2022-04-04T19:18:46.852Z"
   },
   {
    "duration": 344,
    "start_time": "2022-04-04T19:20:39.424Z"
   },
   {
    "duration": 176,
    "start_time": "2022-04-04T19:40:02.156Z"
   },
   {
    "duration": 5,
    "start_time": "2022-04-04T20:15:22.228Z"
   },
   {
    "duration": 157,
    "start_time": "2022-04-04T20:15:23.060Z"
   },
   {
    "duration": 152,
    "start_time": "2022-04-04T20:16:27.052Z"
   },
   {
    "duration": 4,
    "start_time": "2022-04-04T20:17:42.779Z"
   },
   {
    "duration": 159,
    "start_time": "2022-04-04T20:17:44.644Z"
   },
   {
    "duration": 160,
    "start_time": "2022-04-04T20:17:51.543Z"
   },
   {
    "duration": 4,
    "start_time": "2022-04-04T20:17:56.497Z"
   },
   {
    "duration": 163,
    "start_time": "2022-04-04T20:17:57.244Z"
   },
   {
    "duration": 162,
    "start_time": "2022-04-04T20:18:03.048Z"
   },
   {
    "duration": 3,
    "start_time": "2022-04-04T20:18:06.498Z"
   },
   {
    "duration": 72,
    "start_time": "2022-04-04T20:18:06.503Z"
   },
   {
    "duration": 16,
    "start_time": "2022-04-04T20:18:06.576Z"
   },
   {
    "duration": 51,
    "start_time": "2022-04-04T20:18:06.594Z"
   },
   {
    "duration": 3,
    "start_time": "2022-04-04T20:18:06.648Z"
   },
   {
    "duration": 7,
    "start_time": "2022-04-04T20:18:06.653Z"
   },
   {
    "duration": 10,
    "start_time": "2022-04-04T20:18:06.661Z"
   },
   {
    "duration": 12,
    "start_time": "2022-04-04T20:18:06.673Z"
   },
   {
    "duration": 16,
    "start_time": "2022-04-04T20:18:06.687Z"
   },
   {
    "duration": 10,
    "start_time": "2022-04-04T20:18:06.732Z"
   },
   {
    "duration": 13,
    "start_time": "2022-04-04T20:18:06.745Z"
   },
   {
    "duration": 10,
    "start_time": "2022-04-04T20:18:06.760Z"
   },
   {
    "duration": 9,
    "start_time": "2022-04-04T20:18:06.772Z"
   },
   {
    "duration": 11,
    "start_time": "2022-04-04T20:18:06.785Z"
   },
   {
    "duration": 6,
    "start_time": "2022-04-04T20:18:06.798Z"
   },
   {
    "duration": 16,
    "start_time": "2022-04-04T20:18:06.832Z"
   },
   {
    "duration": 33,
    "start_time": "2022-04-04T20:18:06.849Z"
   },
   {
    "duration": 38,
    "start_time": "2022-04-04T20:18:06.884Z"
   },
   {
    "duration": 23,
    "start_time": "2022-04-04T20:18:06.924Z"
   },
   {
    "duration": 85,
    "start_time": "2022-04-04T20:18:06.949Z"
   },
   {
    "duration": 6,
    "start_time": "2022-04-04T20:18:07.036Z"
   },
   {
    "duration": 262,
    "start_time": "2022-04-04T20:18:07.044Z"
   },
   {
    "duration": 36,
    "start_time": "2022-04-04T20:18:07.308Z"
   },
   {
    "duration": 237,
    "start_time": "2022-04-04T20:18:07.346Z"
   },
   {
    "duration": 227,
    "start_time": "2022-04-04T20:18:07.585Z"
   },
   {
    "duration": 248,
    "start_time": "2022-04-04T20:18:07.813Z"
   },
   {
    "duration": 19,
    "start_time": "2022-04-04T20:18:08.063Z"
   },
   {
    "duration": 311,
    "start_time": "2022-04-04T20:18:08.084Z"
   },
   {
    "duration": 203,
    "start_time": "2022-04-04T20:18:08.397Z"
   },
   {
    "duration": 280,
    "start_time": "2022-04-04T20:18:08.602Z"
   },
   {
    "duration": 298,
    "start_time": "2022-04-04T20:18:08.884Z"
   },
   {
    "duration": 280,
    "start_time": "2022-04-04T20:18:09.183Z"
   },
   {
    "duration": 233,
    "start_time": "2022-04-04T20:18:09.465Z"
   },
   {
    "duration": 189,
    "start_time": "2022-04-04T20:18:09.700Z"
   },
   {
    "duration": 187,
    "start_time": "2022-04-04T20:18:09.890Z"
   },
   {
    "duration": 7,
    "start_time": "2022-04-04T20:18:10.078Z"
   },
   {
    "duration": 18,
    "start_time": "2022-04-04T20:18:10.086Z"
   },
   {
    "duration": 411,
    "start_time": "2022-04-04T20:18:10.106Z"
   },
   {
    "duration": 383,
    "start_time": "2022-04-04T20:18:10.519Z"
   },
   {
    "duration": 168,
    "start_time": "2022-04-04T20:18:10.904Z"
   },
   {
    "duration": 181,
    "start_time": "2022-04-04T20:18:11.076Z"
   },
   {
    "duration": 170,
    "start_time": "2022-04-04T20:18:11.259Z"
   },
   {
    "duration": 174,
    "start_time": "2022-04-04T20:18:11.431Z"
   },
   {
    "duration": 173,
    "start_time": "2022-04-04T20:18:11.607Z"
   },
   {
    "duration": 3,
    "start_time": "2022-04-04T20:18:11.782Z"
   },
   {
    "duration": 186,
    "start_time": "2022-04-04T20:18:11.787Z"
   },
   {
    "duration": 180,
    "start_time": "2022-04-04T20:18:11.975Z"
   },
   {
    "duration": 181,
    "start_time": "2022-04-04T20:18:12.157Z"
   },
   {
    "duration": 10,
    "start_time": "2022-04-04T20:18:12.340Z"
   },
   {
    "duration": 25,
    "start_time": "2022-04-04T20:18:12.352Z"
   },
   {
    "duration": 30,
    "start_time": "2022-04-04T20:18:12.379Z"
   },
   {
    "duration": 30,
    "start_time": "2022-04-04T20:18:12.411Z"
   },
   {
    "duration": 3,
    "start_time": "2022-04-04T20:26:07.229Z"
   },
   {
    "duration": 188,
    "start_time": "2022-04-04T20:26:08.005Z"
   },
   {
    "duration": 175,
    "start_time": "2022-04-04T20:26:12.009Z"
   },
   {
    "duration": 168,
    "start_time": "2022-04-04T20:26:12.766Z"
   },
   {
    "duration": 65,
    "start_time": "2022-04-04T20:34:46.370Z"
   },
   {
    "duration": 6718,
    "start_time": "2022-04-04T20:35:01.197Z"
   },
   {
    "duration": 1113,
    "start_time": "2022-04-04T20:35:36.124Z"
   },
   {
    "duration": 1110,
    "start_time": "2022-04-04T20:37:36.510Z"
   },
   {
    "duration": 183,
    "start_time": "2022-04-04T20:39:53.777Z"
   },
   {
    "duration": 269,
    "start_time": "2022-04-04T20:40:27.101Z"
   },
   {
    "duration": 1103,
    "start_time": "2022-04-04T20:40:56.648Z"
   },
   {
    "duration": 1386,
    "start_time": "2022-04-04T20:41:44.285Z"
   },
   {
    "duration": 1129,
    "start_time": "2022-04-04T20:42:39.885Z"
   },
   {
    "duration": 1132,
    "start_time": "2022-04-04T20:44:07.689Z"
   },
   {
    "duration": 178,
    "start_time": "2022-04-04T20:50:32.370Z"
   },
   {
    "duration": 181,
    "start_time": "2022-04-04T20:51:11.133Z"
   },
   {
    "duration": 1235,
    "start_time": "2022-04-04T20:51:17.429Z"
   },
   {
    "duration": 1229,
    "start_time": "2022-04-04T20:52:34.984Z"
   },
   {
    "duration": 1305,
    "start_time": "2022-04-04T20:56:19.192Z"
   },
   {
    "duration": 915,
    "start_time": "2022-04-04T20:56:49.908Z"
   },
   {
    "duration": 14,
    "start_time": "2022-04-05T10:11:11.693Z"
   },
   {
    "duration": 894,
    "start_time": "2022-04-05T10:12:16.032Z"
   },
   {
    "duration": 13,
    "start_time": "2022-04-05T10:12:16.968Z"
   },
   {
    "duration": 8,
    "start_time": "2022-04-05T10:12:33.064Z"
   },
   {
    "duration": 8,
    "start_time": "2022-04-05T10:13:27.156Z"
   },
   {
    "duration": 15,
    "start_time": "2022-04-05T10:13:27.936Z"
   },
   {
    "duration": 9,
    "start_time": "2022-04-05T10:14:43.328Z"
   },
   {
    "duration": 6,
    "start_time": "2022-04-05T10:18:23.268Z"
   },
   {
    "duration": 823,
    "start_time": "2022-04-05T10:30:30.200Z"
   },
   {
    "duration": 819,
    "start_time": "2022-04-05T10:32:33.423Z"
   },
   {
    "duration": 9,
    "start_time": "2022-04-05T10:41:15.142Z"
   },
   {
    "duration": 9,
    "start_time": "2022-04-05T10:41:44.454Z"
   },
   {
    "duration": 9,
    "start_time": "2022-04-05T10:42:13.049Z"
   },
   {
    "duration": 4,
    "start_time": "2022-04-05T10:43:06.078Z"
   },
   {
    "duration": 22,
    "start_time": "2022-04-05T10:46:38.189Z"
   },
   {
    "duration": 38,
    "start_time": "2022-04-05T10:46:59.313Z"
   },
   {
    "duration": 786,
    "start_time": "2022-04-05T10:47:37.094Z"
   },
   {
    "duration": 9,
    "start_time": "2022-04-05T10:47:41.757Z"
   },
   {
    "duration": 159,
    "start_time": "2022-04-05T10:48:24.093Z"
   },
   {
    "duration": 794,
    "start_time": "2022-04-05T10:48:35.217Z"
   },
   {
    "duration": 9,
    "start_time": "2022-04-05T10:48:36.121Z"
   },
   {
    "duration": 4,
    "start_time": "2022-04-05T10:48:48.925Z"
   },
   {
    "duration": 810,
    "start_time": "2022-04-05T10:50:49.278Z"
   },
   {
    "duration": 809,
    "start_time": "2022-04-05T10:52:12.941Z"
   },
   {
    "duration": 6,
    "start_time": "2022-04-05T10:52:25.949Z"
   },
   {
    "duration": 1159,
    "start_time": "2022-04-05T10:57:26.396Z"
   },
   {
    "duration": 822,
    "start_time": "2022-04-05T10:57:57.976Z"
   },
   {
    "duration": 829,
    "start_time": "2022-04-05T10:58:23.792Z"
   },
   {
    "duration": 802,
    "start_time": "2022-04-05T10:59:47.545Z"
   },
   {
    "duration": 4,
    "start_time": "2022-04-05T10:59:50.964Z"
   },
   {
    "duration": 58,
    "start_time": "2022-04-05T10:59:50.971Z"
   },
   {
    "duration": 15,
    "start_time": "2022-04-05T10:59:51.030Z"
   },
   {
    "duration": 43,
    "start_time": "2022-04-05T10:59:51.048Z"
   },
   {
    "duration": 4,
    "start_time": "2022-04-05T10:59:51.094Z"
   },
   {
    "duration": 32,
    "start_time": "2022-04-05T10:59:51.100Z"
   },
   {
    "duration": 14,
    "start_time": "2022-04-05T10:59:51.134Z"
   },
   {
    "duration": 12,
    "start_time": "2022-04-05T10:59:51.150Z"
   },
   {
    "duration": 17,
    "start_time": "2022-04-05T10:59:51.164Z"
   },
   {
    "duration": 7,
    "start_time": "2022-04-05T10:59:51.183Z"
   },
   {
    "duration": 14,
    "start_time": "2022-04-05T10:59:51.192Z"
   },
   {
    "duration": 27,
    "start_time": "2022-04-05T10:59:51.208Z"
   },
   {
    "duration": 6,
    "start_time": "2022-04-05T10:59:51.237Z"
   },
   {
    "duration": 10,
    "start_time": "2022-04-05T10:59:51.247Z"
   },
   {
    "duration": 6,
    "start_time": "2022-04-05T10:59:51.259Z"
   },
   {
    "duration": 6,
    "start_time": "2022-04-05T10:59:51.267Z"
   },
   {
    "duration": 18,
    "start_time": "2022-04-05T10:59:51.274Z"
   },
   {
    "duration": 20,
    "start_time": "2022-04-05T10:59:51.332Z"
   },
   {
    "duration": 17,
    "start_time": "2022-04-05T10:59:51.354Z"
   },
   {
    "duration": 106,
    "start_time": "2022-04-05T10:59:51.373Z"
   },
   {
    "duration": 5,
    "start_time": "2022-04-05T10:59:51.482Z"
   },
   {
    "duration": 248,
    "start_time": "2022-04-05T10:59:51.489Z"
   },
   {
    "duration": 17,
    "start_time": "2022-04-05T10:59:51.739Z"
   },
   {
    "duration": 223,
    "start_time": "2022-04-05T10:59:51.757Z"
   },
   {
    "duration": 226,
    "start_time": "2022-04-05T10:59:51.982Z"
   },
   {
    "duration": 215,
    "start_time": "2022-04-05T10:59:52.209Z"
   },
   {
    "duration": 20,
    "start_time": "2022-04-05T10:59:52.426Z"
   },
   {
    "duration": 270,
    "start_time": "2022-04-05T10:59:52.448Z"
   },
   {
    "duration": 203,
    "start_time": "2022-04-05T10:59:52.720Z"
   },
   {
    "duration": 425,
    "start_time": "2022-04-05T10:59:52.925Z"
   },
   {
    "duration": 587,
    "start_time": "2022-04-05T10:59:53.352Z"
   },
   {
    "duration": 1440,
    "start_time": "2022-04-05T10:59:53.940Z"
   },
   {
    "duration": 825,
    "start_time": "2022-04-05T10:59:55.381Z"
   },
   {
    "duration": 5,
    "start_time": "2022-04-05T10:59:56.208Z"
   },
   {
    "duration": 28,
    "start_time": "2022-04-05T10:59:56.215Z"
   },
   {
    "duration": 360,
    "start_time": "2022-04-05T10:59:56.244Z"
   },
   {
    "duration": 155,
    "start_time": "2022-04-05T10:59:56.606Z"
   },
   {
    "duration": 154,
    "start_time": "2022-04-05T10:59:56.763Z"
   },
   {
    "duration": 154,
    "start_time": "2022-04-05T10:59:56.919Z"
   },
   {
    "duration": 161,
    "start_time": "2022-04-05T10:59:57.075Z"
   },
   {
    "duration": 156,
    "start_time": "2022-04-05T10:59:57.240Z"
   },
   {
    "duration": 153,
    "start_time": "2022-04-05T10:59:57.398Z"
   },
   {
    "duration": 4,
    "start_time": "2022-04-05T10:59:57.553Z"
   },
   {
    "duration": 173,
    "start_time": "2022-04-05T10:59:57.559Z"
   },
   {
    "duration": 161,
    "start_time": "2022-04-05T10:59:57.733Z"
   },
   {
    "duration": 166,
    "start_time": "2022-04-05T10:59:57.895Z"
   },
   {
    "duration": 9,
    "start_time": "2022-04-05T10:59:58.063Z"
   },
   {
    "duration": 7,
    "start_time": "2022-04-05T10:59:58.073Z"
   },
   {
    "duration": 13,
    "start_time": "2022-04-05T10:59:58.082Z"
   },
   {
    "duration": 9,
    "start_time": "2022-04-05T10:59:58.097Z"
   },
   {
    "duration": 828,
    "start_time": "2022-04-05T11:00:29.216Z"
   },
   {
    "duration": 999,
    "start_time": "2022-04-05T11:02:37.640Z"
   },
   {
    "duration": 1013,
    "start_time": "2022-04-05T11:03:03.825Z"
   },
   {
    "duration": 1048,
    "start_time": "2022-04-05T11:03:59.792Z"
   },
   {
    "duration": 1381,
    "start_time": "2022-04-05T11:04:24.205Z"
   },
   {
    "duration": 999,
    "start_time": "2022-04-05T11:10:03.368Z"
   },
   {
    "duration": 973,
    "start_time": "2022-04-05T11:10:15.798Z"
   },
   {
    "duration": 986,
    "start_time": "2022-04-05T11:11:22.845Z"
   },
   {
    "duration": 1031,
    "start_time": "2022-04-05T11:12:44.890Z"
   },
   {
    "duration": 9,
    "start_time": "2022-04-05T11:13:23.657Z"
   },
   {
    "duration": 10,
    "start_time": "2022-04-05T11:13:50.375Z"
   },
   {
    "duration": 5,
    "start_time": "2022-04-05T11:14:09.598Z"
   },
   {
    "duration": 1017,
    "start_time": "2022-04-05T12:05:22.442Z"
   },
   {
    "duration": 1008,
    "start_time": "2022-04-05T12:06:17.206Z"
   },
   {
    "duration": 237,
    "start_time": "2022-04-05T12:17:28.243Z"
   },
   {
    "duration": 11,
    "start_time": "2022-04-05T12:30:35.309Z"
   },
   {
    "duration": 12,
    "start_time": "2022-04-05T12:32:17.529Z"
   },
   {
    "duration": 13,
    "start_time": "2022-04-05T12:32:37.820Z"
   },
   {
    "duration": 12,
    "start_time": "2022-04-05T12:33:01.405Z"
   },
   {
    "duration": 12,
    "start_time": "2022-04-05T12:35:24.425Z"
   },
   {
    "duration": 12,
    "start_time": "2022-04-05T12:36:17.637Z"
   },
   {
    "duration": 11,
    "start_time": "2022-04-05T12:36:25.821Z"
   },
   {
    "duration": 14,
    "start_time": "2022-04-05T12:42:58.025Z"
   },
   {
    "duration": 12,
    "start_time": "2022-04-05T12:43:12.313Z"
   },
   {
    "duration": 13,
    "start_time": "2022-04-05T12:50:55.558Z"
   },
   {
    "duration": 15,
    "start_time": "2022-04-05T12:51:02.602Z"
   },
   {
    "duration": 424,
    "start_time": "2022-04-05T12:51:19.459Z"
   },
   {
    "duration": 26,
    "start_time": "2022-04-05T12:56:14.082Z"
   },
   {
    "duration": 14,
    "start_time": "2022-04-05T12:57:04.251Z"
   },
   {
    "duration": 29,
    "start_time": "2022-04-05T12:57:17.036Z"
   },
   {
    "duration": 9,
    "start_time": "2022-04-05T12:57:59.532Z"
   },
   {
    "duration": 31,
    "start_time": "2022-04-05T12:58:07.409Z"
   },
   {
    "duration": 25,
    "start_time": "2022-04-05T12:58:39.638Z"
   },
   {
    "duration": 30,
    "start_time": "2022-04-05T12:58:50.618Z"
   },
   {
    "duration": 32,
    "start_time": "2022-04-05T12:59:01.206Z"
   },
   {
    "duration": 26,
    "start_time": "2022-04-05T12:59:12.878Z"
   },
   {
    "duration": 29,
    "start_time": "2022-04-05T12:59:24.250Z"
   },
   {
    "duration": 28,
    "start_time": "2022-04-05T12:59:54.442Z"
   },
   {
    "duration": 29,
    "start_time": "2022-04-05T13:00:01.869Z"
   },
   {
    "duration": 370,
    "start_time": "2022-04-05T13:10:01.379Z"
   },
   {
    "duration": 249,
    "start_time": "2022-04-05T13:12:21.615Z"
   },
   {
    "duration": 285,
    "start_time": "2022-04-05T13:12:33.631Z"
   },
   {
    "duration": 14,
    "start_time": "2022-04-05T13:14:41.011Z"
   },
   {
    "duration": 15,
    "start_time": "2022-04-05T13:15:25.887Z"
   },
   {
    "duration": 16,
    "start_time": "2022-04-05T13:15:42.519Z"
   },
   {
    "duration": 14,
    "start_time": "2022-04-05T13:15:49.532Z"
   },
   {
    "duration": 18,
    "start_time": "2022-04-05T13:16:34.555Z"
   },
   {
    "duration": 573,
    "start_time": "2022-04-05T13:18:46.216Z"
   },
   {
    "duration": 16,
    "start_time": "2022-04-05T13:20:21.755Z"
   },
   {
    "duration": 249,
    "start_time": "2022-04-05T13:20:40.556Z"
   },
   {
    "duration": 281,
    "start_time": "2022-04-05T13:20:48.756Z"
   },
   {
    "duration": 280,
    "start_time": "2022-04-05T13:28:38.069Z"
   },
   {
    "duration": 15,
    "start_time": "2022-04-05T13:29:14.533Z"
   },
   {
    "duration": 296,
    "start_time": "2022-04-05T13:29:30.977Z"
   },
   {
    "duration": 16,
    "start_time": "2022-04-05T13:33:26.406Z"
   },
   {
    "duration": 286,
    "start_time": "2022-04-05T13:33:45.017Z"
   },
   {
    "duration": 285,
    "start_time": "2022-04-05T13:35:07.394Z"
   },
   {
    "duration": 305,
    "start_time": "2022-04-05T13:35:20.357Z"
   },
   {
    "duration": 345,
    "start_time": "2022-04-05T13:35:36.394Z"
   },
   {
    "duration": 325,
    "start_time": "2022-04-05T13:44:35.462Z"
   },
   {
    "duration": 301,
    "start_time": "2022-04-05T13:44:50.774Z"
   },
   {
    "duration": 592,
    "start_time": "2022-04-05T13:44:57.917Z"
   },
   {
    "duration": 294,
    "start_time": "2022-04-05T13:45:12.998Z"
   },
   {
    "duration": 12,
    "start_time": "2022-04-05T13:54:09.143Z"
   },
   {
    "duration": 7,
    "start_time": "2022-04-05T13:54:22.462Z"
   },
   {
    "duration": 11,
    "start_time": "2022-04-05T13:54:37.419Z"
   },
   {
    "duration": 12,
    "start_time": "2022-04-05T13:56:45.886Z"
   },
   {
    "duration": 11,
    "start_time": "2022-04-05T13:56:54.978Z"
   },
   {
    "duration": 10,
    "start_time": "2022-04-05T13:57:18.410Z"
   },
   {
    "duration": 11,
    "start_time": "2022-04-05T13:57:40.594Z"
   },
   {
    "duration": 4,
    "start_time": "2022-04-05T14:16:13.326Z"
   },
   {
    "duration": 154,
    "start_time": "2022-04-05T14:16:16.599Z"
   },
   {
    "duration": 150,
    "start_time": "2022-04-05T14:16:17.367Z"
   },
   {
    "duration": 154,
    "start_time": "2022-04-05T14:16:18.290Z"
   },
   {
    "duration": 7,
    "start_time": "2022-04-05T14:29:50.123Z"
   },
   {
    "duration": 12,
    "start_time": "2022-04-05T14:30:02.076Z"
   },
   {
    "duration": 12,
    "start_time": "2022-04-05T14:30:23.339Z"
   },
   {
    "duration": 11,
    "start_time": "2022-04-05T14:30:52.879Z"
   },
   {
    "duration": 11,
    "start_time": "2022-04-05T14:31:17.847Z"
   },
   {
    "duration": 10,
    "start_time": "2022-04-05T14:37:16.643Z"
   },
   {
    "duration": 12,
    "start_time": "2022-04-05T14:38:03.634Z"
   },
   {
    "duration": 12,
    "start_time": "2022-04-05T14:39:10.822Z"
   },
   {
    "duration": 11,
    "start_time": "2022-04-05T14:39:41.415Z"
   },
   {
    "duration": 6,
    "start_time": "2022-04-05T14:41:33.586Z"
   },
   {
    "duration": 11,
    "start_time": "2022-04-05T14:41:38.330Z"
   },
   {
    "duration": 10,
    "start_time": "2022-04-05T14:41:46.615Z"
   },
   {
    "duration": 11,
    "start_time": "2022-04-05T14:41:49.698Z"
   },
   {
    "duration": 10,
    "start_time": "2022-04-05T14:43:12.255Z"
   },
   {
    "duration": 7,
    "start_time": "2022-04-05T14:44:02.438Z"
   },
   {
    "duration": 11,
    "start_time": "2022-04-05T14:44:23.330Z"
   },
   {
    "duration": 11,
    "start_time": "2022-04-05T14:46:11.278Z"
   },
   {
    "duration": 10,
    "start_time": "2022-04-05T14:58:30.946Z"
   },
   {
    "duration": 160,
    "start_time": "2022-04-05T15:13:22.877Z"
   },
   {
    "duration": 153,
    "start_time": "2022-04-05T15:14:00.157Z"
   },
   {
    "duration": 141,
    "start_time": "2022-04-05T15:14:22.596Z"
   },
   {
    "duration": 151,
    "start_time": "2022-04-05T15:14:50.085Z"
   },
   {
    "duration": 153,
    "start_time": "2022-04-05T15:15:09.657Z"
   },
   {
    "duration": 156,
    "start_time": "2022-04-05T15:15:24.968Z"
   },
   {
    "duration": 140,
    "start_time": "2022-04-05T15:15:36.276Z"
   },
   {
    "duration": 148,
    "start_time": "2022-04-05T15:15:44.280Z"
   },
   {
    "duration": 148,
    "start_time": "2022-04-05T15:16:54.040Z"
   },
   {
    "duration": 144,
    "start_time": "2022-04-05T15:17:30.961Z"
   },
   {
    "duration": 158,
    "start_time": "2022-04-05T15:21:00.520Z"
   },
   {
    "duration": 143,
    "start_time": "2022-04-05T15:21:13.604Z"
   },
   {
    "duration": 64,
    "start_time": "2023-01-11T15:18:07.089Z"
   },
   {
    "duration": 6,
    "start_time": "2023-01-11T15:18:10.518Z"
   },
   {
    "duration": 6,
    "start_time": "2023-01-11T15:18:11.075Z"
   },
   {
    "duration": 1118,
    "start_time": "2023-01-11T15:18:14.502Z"
   },
   {
    "duration": 102,
    "start_time": "2023-01-11T15:18:15.622Z"
   },
   {
    "duration": 61,
    "start_time": "2023-01-11T15:18:15.774Z"
   },
   {
    "duration": 6,
    "start_time": "2023-01-11T15:18:20.966Z"
   },
   {
    "duration": 74,
    "start_time": "2023-01-11T15:18:34.487Z"
   },
   {
    "duration": 20,
    "start_time": "2023-01-11T15:30:38.007Z"
   },
   {
    "duration": 5,
    "start_time": "2023-01-11T15:34:44.996Z"
   },
   {
    "duration": 4,
    "start_time": "2023-01-11T15:35:52.592Z"
   },
   {
    "duration": 6,
    "start_time": "2023-01-11T15:35:56.732Z"
   },
   {
    "duration": 4,
    "start_time": "2023-01-11T15:35:57.210Z"
   },
   {
    "duration": 4,
    "start_time": "2023-01-11T15:35:57.708Z"
   },
   {
    "duration": 11,
    "start_time": "2023-01-11T15:47:54.401Z"
   },
   {
    "duration": 11,
    "start_time": "2023-01-11T15:48:04.636Z"
   },
   {
    "duration": 7,
    "start_time": "2023-01-11T15:48:24.536Z"
   },
   {
    "duration": 6,
    "start_time": "2023-01-11T15:48:51.059Z"
   },
   {
    "duration": 3,
    "start_time": "2023-01-11T15:48:57.546Z"
   },
   {
    "duration": 61,
    "start_time": "2023-01-11T15:48:57.552Z"
   },
   {
    "duration": 19,
    "start_time": "2023-01-11T15:48:57.615Z"
   },
   {
    "duration": 46,
    "start_time": "2023-01-11T15:48:57.636Z"
   },
   {
    "duration": 4,
    "start_time": "2023-01-11T15:48:57.684Z"
   },
   {
    "duration": 7,
    "start_time": "2023-01-11T15:48:57.690Z"
   },
   {
    "duration": 8,
    "start_time": "2023-01-11T15:48:57.699Z"
   },
   {
    "duration": 13,
    "start_time": "2023-01-11T15:48:57.708Z"
   },
   {
    "duration": 46,
    "start_time": "2023-01-11T15:48:57.723Z"
   },
   {
    "duration": 8,
    "start_time": "2023-01-11T15:48:57.771Z"
   },
   {
    "duration": 12,
    "start_time": "2023-01-11T15:48:57.781Z"
   },
   {
    "duration": 7,
    "start_time": "2023-01-11T15:48:57.795Z"
   },
   {
    "duration": 14,
    "start_time": "2023-01-11T15:48:57.804Z"
   },
   {
    "duration": 34,
    "start_time": "2023-01-11T15:48:57.821Z"
   },
   {
    "duration": 12,
    "start_time": "2023-01-11T15:48:57.857Z"
   },
   {
    "duration": 6,
    "start_time": "2023-01-11T15:48:57.871Z"
   },
   {
    "duration": 7,
    "start_time": "2023-01-11T15:48:57.879Z"
   },
   {
    "duration": 16,
    "start_time": "2023-01-11T15:48:57.888Z"
   },
   {
    "duration": 53,
    "start_time": "2023-01-11T15:48:57.906Z"
   },
   {
    "duration": 18,
    "start_time": "2023-01-11T15:48:57.961Z"
   },
   {
    "duration": 117,
    "start_time": "2023-01-11T15:48:57.981Z"
   },
   {
    "duration": 5,
    "start_time": "2023-01-11T15:48:58.101Z"
   },
   {
    "duration": 248,
    "start_time": "2023-01-11T15:48:58.107Z"
   },
   {
    "duration": 15,
    "start_time": "2023-01-11T15:48:58.356Z"
   },
   {
    "duration": 229,
    "start_time": "2023-01-11T15:48:58.373Z"
   },
   {
    "duration": 213,
    "start_time": "2023-01-11T15:48:58.604Z"
   },
   {
    "duration": 210,
    "start_time": "2023-01-11T15:48:58.818Z"
   },
   {
    "duration": 33,
    "start_time": "2023-01-11T15:48:59.031Z"
   },
   {
    "duration": 268,
    "start_time": "2023-01-11T15:48:59.067Z"
   },
   {
    "duration": 194,
    "start_time": "2023-01-11T15:48:59.336Z"
   },
   {
    "duration": 252,
    "start_time": "2023-01-11T15:48:59.533Z"
   },
   {
    "duration": 397,
    "start_time": "2023-01-11T15:48:59.787Z"
   },
   {
    "duration": 1145,
    "start_time": "2023-01-11T15:49:00.186Z"
   },
   {
    "duration": 1080,
    "start_time": "2023-01-11T15:49:01.332Z"
   },
   {
    "duration": 5,
    "start_time": "2023-01-11T15:49:02.414Z"
   },
   {
    "duration": 35,
    "start_time": "2023-01-11T15:49:02.421Z"
   },
   {
    "duration": 14,
    "start_time": "2023-01-11T15:49:02.458Z"
   },
   {
    "duration": 328,
    "start_time": "2023-01-11T15:49:02.474Z"
   },
   {
    "duration": 268,
    "start_time": "2023-01-11T15:49:02.804Z"
   },
   {
    "duration": 171,
    "start_time": "2023-01-11T15:49:03.074Z"
   },
   {
    "duration": 162,
    "start_time": "2023-01-11T15:49:03.254Z"
   },
   {
    "duration": 172,
    "start_time": "2023-01-11T15:49:03.418Z"
   },
   {
    "duration": 187,
    "start_time": "2023-01-11T15:49:03.592Z"
   },
   {
    "duration": 165,
    "start_time": "2023-01-11T15:49:03.781Z"
   },
   {
    "duration": 8,
    "start_time": "2023-01-11T15:49:03.948Z"
   },
   {
    "duration": 191,
    "start_time": "2023-01-11T15:49:03.959Z"
   },
   {
    "duration": 166,
    "start_time": "2023-01-11T15:49:04.152Z"
   },
   {
    "duration": 186,
    "start_time": "2023-01-11T15:49:04.320Z"
   },
   {
    "duration": 17,
    "start_time": "2023-01-11T15:49:04.512Z"
   },
   {
    "duration": 23,
    "start_time": "2023-01-11T15:49:04.532Z"
   },
   {
    "duration": 23,
    "start_time": "2023-01-11T15:49:04.558Z"
   },
   {
    "duration": 45,
    "start_time": "2023-01-11T15:49:04.584Z"
   },
   {
    "duration": 21,
    "start_time": "2023-01-11T15:49:04.630Z"
   },
   {
    "duration": 37,
    "start_time": "2023-01-11T15:49:04.653Z"
   },
   {
    "duration": 5,
    "start_time": "2023-01-11T16:02:01.598Z"
   },
   {
    "duration": 6,
    "start_time": "2023-01-11T16:03:45.221Z"
   },
   {
    "duration": 16,
    "start_time": "2023-01-11T16:11:15.115Z"
   },
   {
    "duration": 23,
    "start_time": "2023-01-11T16:11:21.852Z"
   },
   {
    "duration": 8,
    "start_time": "2023-01-11T16:12:49.241Z"
   },
   {
    "duration": 211,
    "start_time": "2023-01-11T16:22:00.596Z"
   },
   {
    "duration": 44,
    "start_time": "2023-01-11T16:22:40.029Z"
   },
   {
    "duration": 211,
    "start_time": "2023-01-11T16:26:10.334Z"
   },
   {
    "duration": 347,
    "start_time": "2023-01-11T16:26:36.902Z"
   },
   {
    "duration": 18,
    "start_time": "2023-01-11T16:29:46.562Z"
   },
   {
    "duration": 189,
    "start_time": "2023-01-11T16:32:04.138Z"
   },
   {
    "duration": 214,
    "start_time": "2023-01-11T16:32:14.022Z"
   },
   {
    "duration": 286,
    "start_time": "2023-01-11T16:33:39.981Z"
   },
   {
    "duration": 345,
    "start_time": "2023-01-11T16:33:47.631Z"
   },
   {
    "duration": 224,
    "start_time": "2023-01-11T16:35:10.913Z"
   },
   {
    "duration": 361,
    "start_time": "2023-01-11T16:36:50.756Z"
   },
   {
    "duration": 248,
    "start_time": "2023-01-11T16:37:00.639Z"
   },
   {
    "duration": 210,
    "start_time": "2023-01-11T16:37:08.723Z"
   },
   {
    "duration": 215,
    "start_time": "2023-01-11T16:37:16.310Z"
   },
   {
    "duration": 275,
    "start_time": "2023-01-11T16:40:34.193Z"
   },
   {
    "duration": 279,
    "start_time": "2023-01-11T16:40:44.936Z"
   },
   {
    "duration": 467,
    "start_time": "2023-01-11T16:41:07.519Z"
   },
   {
    "duration": 269,
    "start_time": "2023-01-11T16:43:09.218Z"
   },
   {
    "duration": 295,
    "start_time": "2023-01-11T16:43:30.134Z"
   },
   {
    "duration": 211,
    "start_time": "2023-01-11T16:45:12.565Z"
   },
   {
    "duration": 269,
    "start_time": "2023-01-11T16:46:41.141Z"
   },
   {
    "duration": 288,
    "start_time": "2023-01-11T16:46:54.798Z"
   },
   {
    "duration": 280,
    "start_time": "2023-01-11T16:47:38.799Z"
   },
   {
    "duration": 399,
    "start_time": "2023-01-11T16:47:50.469Z"
   },
   {
    "duration": 4,
    "start_time": "2023-01-11T16:48:03.734Z"
   },
   {
    "duration": 66,
    "start_time": "2023-01-11T16:48:03.740Z"
   },
   {
    "duration": 17,
    "start_time": "2023-01-11T16:48:03.807Z"
   },
   {
    "duration": 54,
    "start_time": "2023-01-11T16:48:03.828Z"
   },
   {
    "duration": 5,
    "start_time": "2023-01-11T16:48:03.884Z"
   },
   {
    "duration": 8,
    "start_time": "2023-01-11T16:48:03.891Z"
   },
   {
    "duration": 13,
    "start_time": "2023-01-11T16:48:03.901Z"
   },
   {
    "duration": 41,
    "start_time": "2023-01-11T16:48:03.917Z"
   },
   {
    "duration": 26,
    "start_time": "2023-01-11T16:48:03.963Z"
   },
   {
    "duration": 9,
    "start_time": "2023-01-11T16:48:03.992Z"
   },
   {
    "duration": 13,
    "start_time": "2023-01-11T16:48:04.003Z"
   },
   {
    "duration": 37,
    "start_time": "2023-01-11T16:48:04.018Z"
   },
   {
    "duration": 16,
    "start_time": "2023-01-11T16:48:04.058Z"
   },
   {
    "duration": 6,
    "start_time": "2023-01-11T16:48:04.076Z"
   },
   {
    "duration": 12,
    "start_time": "2023-01-11T16:48:04.084Z"
   },
   {
    "duration": 6,
    "start_time": "2023-01-11T16:48:04.098Z"
   },
   {
    "duration": 50,
    "start_time": "2023-01-11T16:48:04.106Z"
   },
   {
    "duration": 27,
    "start_time": "2023-01-11T16:48:04.158Z"
   },
   {
    "duration": 16,
    "start_time": "2023-01-11T16:48:04.187Z"
   },
   {
    "duration": 53,
    "start_time": "2023-01-11T16:48:04.205Z"
   },
   {
    "duration": 262,
    "start_time": "2023-01-11T16:48:04.260Z"
   },
   {
    "duration": 41,
    "start_time": "2023-01-11T16:48:04.524Z"
   },
   {
    "duration": 356,
    "start_time": "2023-01-11T16:48:04.568Z"
   },
   {
    "duration": 237,
    "start_time": "2023-01-11T16:48:04.929Z"
   },
   {
    "duration": 230,
    "start_time": "2023-01-11T16:48:05.168Z"
   },
   {
    "duration": 21,
    "start_time": "2023-01-11T16:48:05.401Z"
   },
   {
    "duration": 322,
    "start_time": "2023-01-11T16:48:05.424Z"
   },
   {
    "duration": 242,
    "start_time": "2023-01-11T16:48:05.749Z"
   },
   {
    "duration": 351,
    "start_time": "2023-01-11T16:48:05.993Z"
   },
   {
    "duration": 296,
    "start_time": "2023-01-11T16:48:06.346Z"
   },
   {
    "duration": 1553,
    "start_time": "2023-01-11T16:48:06.644Z"
   },
   {
    "duration": 1256,
    "start_time": "2023-01-11T16:48:08.199Z"
   },
   {
    "duration": 6,
    "start_time": "2023-01-11T16:48:09.457Z"
   },
   {
    "duration": 19,
    "start_time": "2023-01-11T16:48:09.465Z"
   },
   {
    "duration": 22,
    "start_time": "2023-01-11T16:48:09.486Z"
   },
   {
    "duration": 351,
    "start_time": "2023-01-11T16:48:09.510Z"
   },
   {
    "duration": 165,
    "start_time": "2023-01-11T16:48:09.864Z"
   },
   {
    "duration": 242,
    "start_time": "2023-01-11T16:48:10.032Z"
   },
   {
    "duration": 184,
    "start_time": "2023-01-11T16:48:10.277Z"
   },
   {
    "duration": 185,
    "start_time": "2023-01-11T16:48:10.462Z"
   },
   {
    "duration": 186,
    "start_time": "2023-01-11T16:48:10.649Z"
   },
   {
    "duration": 332,
    "start_time": "2023-01-11T16:48:10.837Z"
   },
   {
    "duration": 5,
    "start_time": "2023-01-11T16:48:11.171Z"
   },
   {
    "duration": 192,
    "start_time": "2023-01-11T16:48:11.178Z"
   },
   {
    "duration": 210,
    "start_time": "2023-01-11T16:48:11.373Z"
   },
   {
    "duration": 197,
    "start_time": "2023-01-11T16:48:11.586Z"
   },
   {
    "duration": 13,
    "start_time": "2023-01-11T16:48:11.785Z"
   },
   {
    "duration": 14,
    "start_time": "2023-01-11T16:48:11.800Z"
   },
   {
    "duration": 39,
    "start_time": "2023-01-11T16:48:11.816Z"
   },
   {
    "duration": 13,
    "start_time": "2023-01-11T16:48:11.857Z"
   },
   {
    "duration": 13,
    "start_time": "2023-01-11T16:48:11.872Z"
   },
   {
    "duration": 18,
    "start_time": "2023-01-11T16:48:11.887Z"
   },
   {
    "duration": 276,
    "start_time": "2023-01-11T16:51:06.616Z"
   },
   {
    "duration": 1073,
    "start_time": "2023-01-11T16:59:19.723Z"
   },
   {
    "duration": 1255,
    "start_time": "2023-01-11T17:01:03.147Z"
   },
   {
    "duration": 7,
    "start_time": "2023-01-11T17:01:06.302Z"
   },
   {
    "duration": 322,
    "start_time": "2023-01-11T17:06:08.022Z"
   },
   {
    "duration": 22,
    "start_time": "2023-01-11T17:06:11.156Z"
   },
   {
    "duration": 296,
    "start_time": "2023-01-11T17:06:11.715Z"
   },
   {
    "duration": 302,
    "start_time": "2023-01-11T17:06:25.346Z"
   },
   {
    "duration": 325,
    "start_time": "2023-01-11T17:06:33.535Z"
   },
   {
    "duration": 154,
    "start_time": "2023-01-11T17:08:44.144Z"
   },
   {
    "duration": 149,
    "start_time": "2023-01-11T17:09:45.683Z"
   },
   {
    "duration": 156,
    "start_time": "2023-01-11T17:09:54.114Z"
   },
   {
    "duration": 207,
    "start_time": "2023-01-11T17:12:57.363Z"
   },
   {
    "duration": 147,
    "start_time": "2023-01-11T17:13:10.265Z"
   },
   {
    "duration": 164,
    "start_time": "2023-01-11T17:13:16.919Z"
   },
   {
    "duration": 154,
    "start_time": "2023-01-11T17:13:58.024Z"
   },
   {
    "duration": 152,
    "start_time": "2023-01-11T17:15:31.449Z"
   },
   {
    "duration": 338,
    "start_time": "2023-01-11T17:15:51.309Z"
   },
   {
    "duration": 12,
    "start_time": "2023-01-11T17:23:39.709Z"
   },
   {
    "duration": 11,
    "start_time": "2023-01-11T17:24:18.853Z"
   },
   {
    "duration": 45,
    "start_time": "2023-01-11T22:25:21.135Z"
   },
   {
    "duration": 1261,
    "start_time": "2023-01-11T22:25:27.699Z"
   },
   {
    "duration": 111,
    "start_time": "2023-01-11T22:25:28.962Z"
   },
   {
    "duration": 16,
    "start_time": "2023-01-11T22:25:29.074Z"
   },
   {
    "duration": 38,
    "start_time": "2023-01-11T22:25:29.092Z"
   },
   {
    "duration": 4,
    "start_time": "2023-01-11T22:25:29.131Z"
   },
   {
    "duration": 4,
    "start_time": "2023-01-11T22:25:29.137Z"
   },
   {
    "duration": 9,
    "start_time": "2023-01-11T22:25:29.143Z"
   },
   {
    "duration": 12,
    "start_time": "2023-01-11T22:25:29.153Z"
   },
   {
    "duration": 15,
    "start_time": "2023-01-11T22:25:29.167Z"
   },
   {
    "duration": 31,
    "start_time": "2023-01-11T22:25:29.185Z"
   },
   {
    "duration": 9,
    "start_time": "2023-01-11T22:25:29.217Z"
   },
   {
    "duration": 5,
    "start_time": "2023-01-11T22:25:29.228Z"
   },
   {
    "duration": 7,
    "start_time": "2023-01-11T22:25:29.234Z"
   },
   {
    "duration": 3,
    "start_time": "2023-01-11T22:25:29.242Z"
   },
   {
    "duration": 13,
    "start_time": "2023-01-11T22:25:29.247Z"
   },
   {
    "duration": 5,
    "start_time": "2023-01-11T22:25:29.262Z"
   },
   {
    "duration": 10,
    "start_time": "2023-01-11T22:25:29.268Z"
   },
   {
    "duration": 37,
    "start_time": "2023-01-11T22:25:29.280Z"
   },
   {
    "duration": 13,
    "start_time": "2023-01-11T22:25:29.319Z"
   },
   {
    "duration": 13,
    "start_time": "2023-01-11T22:25:29.333Z"
   },
   {
    "duration": 215,
    "start_time": "2023-01-11T22:25:29.349Z"
   },
   {
    "duration": 19,
    "start_time": "2023-01-11T22:25:29.566Z"
   },
   {
    "duration": 188,
    "start_time": "2023-01-11T22:25:29.586Z"
   },
   {
    "duration": 201,
    "start_time": "2023-01-11T22:25:29.775Z"
   },
   {
    "duration": 188,
    "start_time": "2023-01-11T22:25:29.978Z"
   },
   {
    "duration": 18,
    "start_time": "2023-01-11T22:25:30.167Z"
   },
   {
    "duration": 250,
    "start_time": "2023-01-11T22:25:30.186Z"
   },
   {
    "duration": 192,
    "start_time": "2023-01-11T22:25:30.439Z"
   },
   {
    "duration": 319,
    "start_time": "2023-01-11T22:25:30.632Z"
   },
   {
    "duration": 232,
    "start_time": "2023-01-11T22:25:30.952Z"
   },
   {
    "duration": 916,
    "start_time": "2023-01-11T22:25:31.185Z"
   },
   {
    "duration": 923,
    "start_time": "2023-01-11T22:25:32.103Z"
   },
   {
    "duration": 5,
    "start_time": "2023-01-11T22:25:33.028Z"
   },
   {
    "duration": 13,
    "start_time": "2023-01-11T22:25:33.034Z"
   },
   {
    "duration": 13,
    "start_time": "2023-01-11T22:25:33.048Z"
   },
   {
    "duration": 374,
    "start_time": "2023-01-11T22:25:33.063Z"
   },
   {
    "duration": 279,
    "start_time": "2023-01-11T22:25:33.439Z"
   },
   {
    "duration": 115,
    "start_time": "2023-01-11T22:25:33.720Z"
   },
   {
    "duration": 0,
    "start_time": "2023-01-11T22:25:33.836Z"
   },
   {
    "duration": 0,
    "start_time": "2023-01-11T22:25:33.837Z"
   },
   {
    "duration": 0,
    "start_time": "2023-01-11T22:25:33.838Z"
   },
   {
    "duration": 0,
    "start_time": "2023-01-11T22:25:33.839Z"
   },
   {
    "duration": 0,
    "start_time": "2023-01-11T22:25:33.840Z"
   },
   {
    "duration": 0,
    "start_time": "2023-01-11T22:25:33.841Z"
   },
   {
    "duration": 0,
    "start_time": "2023-01-11T22:25:33.842Z"
   },
   {
    "duration": 0,
    "start_time": "2023-01-11T22:25:33.843Z"
   },
   {
    "duration": 0,
    "start_time": "2023-01-11T22:25:33.844Z"
   },
   {
    "duration": 0,
    "start_time": "2023-01-11T22:25:33.845Z"
   },
   {
    "duration": 0,
    "start_time": "2023-01-11T22:25:33.846Z"
   },
   {
    "duration": 0,
    "start_time": "2023-01-11T22:25:33.847Z"
   },
   {
    "duration": 0,
    "start_time": "2023-01-11T22:25:33.847Z"
   },
   {
    "duration": 0,
    "start_time": "2023-01-11T22:25:33.848Z"
   },
   {
    "duration": 0,
    "start_time": "2023-01-11T22:25:33.849Z"
   },
   {
    "duration": 12,
    "start_time": "2023-01-11T22:26:19.777Z"
   },
   {
    "duration": 13,
    "start_time": "2023-01-11T22:28:43.881Z"
   },
   {
    "duration": 12,
    "start_time": "2023-01-11T22:36:21.720Z"
   },
   {
    "duration": 13,
    "start_time": "2023-01-11T22:36:35.821Z"
   },
   {
    "duration": 93,
    "start_time": "2023-01-11T22:36:40.019Z"
   },
   {
    "duration": 4,
    "start_time": "2023-01-11T22:37:01.109Z"
   },
   {
    "duration": 82,
    "start_time": "2023-01-11T22:37:01.115Z"
   },
   {
    "duration": 12,
    "start_time": "2023-01-11T22:37:01.199Z"
   },
   {
    "duration": 60,
    "start_time": "2023-01-11T22:37:01.213Z"
   },
   {
    "duration": 4,
    "start_time": "2023-01-11T22:37:01.275Z"
   },
   {
    "duration": 36,
    "start_time": "2023-01-11T22:37:01.280Z"
   },
   {
    "duration": 49,
    "start_time": "2023-01-11T22:37:01.318Z"
   },
   {
    "duration": 47,
    "start_time": "2023-01-11T22:37:01.368Z"
   },
   {
    "duration": 45,
    "start_time": "2023-01-11T22:37:01.417Z"
   },
   {
    "duration": 17,
    "start_time": "2023-01-11T22:37:01.464Z"
   },
   {
    "duration": 21,
    "start_time": "2023-01-11T22:37:01.482Z"
   },
   {
    "duration": 48,
    "start_time": "2023-01-11T22:37:01.504Z"
   },
   {
    "duration": 28,
    "start_time": "2023-01-11T22:37:01.554Z"
   },
   {
    "duration": 18,
    "start_time": "2023-01-11T22:37:01.583Z"
   },
   {
    "duration": 33,
    "start_time": "2023-01-11T22:37:01.603Z"
   },
   {
    "duration": 14,
    "start_time": "2023-01-11T22:37:01.637Z"
   },
   {
    "duration": 8,
    "start_time": "2023-01-11T22:37:01.653Z"
   },
   {
    "duration": 22,
    "start_time": "2023-01-11T22:37:01.663Z"
   },
   {
    "duration": 13,
    "start_time": "2023-01-11T22:37:01.687Z"
   },
   {
    "duration": 16,
    "start_time": "2023-01-11T22:37:01.702Z"
   },
   {
    "duration": 201,
    "start_time": "2023-01-11T22:37:01.719Z"
   },
   {
    "duration": 16,
    "start_time": "2023-01-11T22:37:01.922Z"
   },
   {
    "duration": 240,
    "start_time": "2023-01-11T22:37:01.939Z"
   },
   {
    "duration": 249,
    "start_time": "2023-01-11T22:37:02.181Z"
   },
   {
    "duration": 221,
    "start_time": "2023-01-11T22:37:02.433Z"
   },
   {
    "duration": 17,
    "start_time": "2023-01-11T22:37:02.655Z"
   },
   {
    "duration": 241,
    "start_time": "2023-01-11T22:37:02.673Z"
   },
   {
    "duration": 186,
    "start_time": "2023-01-11T22:37:02.918Z"
   },
   {
    "duration": 311,
    "start_time": "2023-01-11T22:37:03.106Z"
   },
   {
    "duration": 231,
    "start_time": "2023-01-11T22:37:03.418Z"
   },
   {
    "duration": 912,
    "start_time": "2023-01-11T22:37:03.651Z"
   },
   {
    "duration": 864,
    "start_time": "2023-01-11T22:37:04.565Z"
   },
   {
    "duration": 5,
    "start_time": "2023-01-11T22:37:05.431Z"
   },
   {
    "duration": 13,
    "start_time": "2023-01-11T22:37:05.437Z"
   },
   {
    "duration": 19,
    "start_time": "2023-01-11T22:37:05.451Z"
   },
   {
    "duration": 369,
    "start_time": "2023-01-11T22:37:05.472Z"
   },
   {
    "duration": 130,
    "start_time": "2023-01-11T22:37:05.842Z"
   },
   {
    "duration": 107,
    "start_time": "2023-01-11T22:37:05.973Z"
   },
   {
    "duration": 140,
    "start_time": "2023-01-11T22:37:06.082Z"
   },
   {
    "duration": 164,
    "start_time": "2023-01-11T22:37:06.224Z"
   },
   {
    "duration": 133,
    "start_time": "2023-01-11T22:37:06.390Z"
   },
   {
    "duration": 139,
    "start_time": "2023-01-11T22:37:06.524Z"
   },
   {
    "duration": 130,
    "start_time": "2023-01-11T22:37:06.664Z"
   },
   {
    "duration": 3,
    "start_time": "2023-01-11T22:37:06.796Z"
   },
   {
    "duration": 148,
    "start_time": "2023-01-11T22:37:06.800Z"
   },
   {
    "duration": 139,
    "start_time": "2023-01-11T22:37:06.950Z"
   },
   {
    "duration": 217,
    "start_time": "2023-01-11T22:37:07.091Z"
   },
   {
    "duration": 7,
    "start_time": "2023-01-11T22:37:07.316Z"
   },
   {
    "duration": 8,
    "start_time": "2023-01-11T22:37:07.325Z"
   },
   {
    "duration": 11,
    "start_time": "2023-01-11T22:37:07.335Z"
   },
   {
    "duration": 12,
    "start_time": "2023-01-11T22:37:07.347Z"
   },
   {
    "duration": 8,
    "start_time": "2023-01-11T22:37:07.360Z"
   },
   {
    "duration": 14,
    "start_time": "2023-01-11T22:37:07.369Z"
   },
   {
    "duration": 9,
    "start_time": "2023-01-11T22:37:36.953Z"
   },
   {
    "duration": 6,
    "start_time": "2023-01-11T22:37:53.779Z"
   },
   {
    "duration": 10,
    "start_time": "2023-01-11T22:37:58.061Z"
   },
   {
    "duration": 151,
    "start_time": "2023-01-11T22:38:25.694Z"
   },
   {
    "duration": 13,
    "start_time": "2023-01-11T22:38:34.653Z"
   },
   {
    "duration": 7,
    "start_time": "2023-01-11T22:39:24.500Z"
   },
   {
    "duration": 11,
    "start_time": "2023-01-11T22:39:40.289Z"
   },
   {
    "duration": 1355,
    "start_time": "2023-01-13T19:38:01.182Z"
   },
   {
    "duration": 473,
    "start_time": "2023-01-13T19:38:02.539Z"
   },
   {
    "duration": 20,
    "start_time": "2023-01-13T19:38:03.014Z"
   },
   {
    "duration": 41,
    "start_time": "2023-01-13T19:38:03.036Z"
   },
   {
    "duration": 5,
    "start_time": "2023-01-13T19:38:03.078Z"
   },
   {
    "duration": 5,
    "start_time": "2023-01-13T19:38:03.084Z"
   },
   {
    "duration": 7,
    "start_time": "2023-01-13T19:38:03.090Z"
   },
   {
    "duration": 12,
    "start_time": "2023-01-13T19:38:03.099Z"
   },
   {
    "duration": 38,
    "start_time": "2023-01-13T19:38:03.113Z"
   },
   {
    "duration": 10,
    "start_time": "2023-01-13T19:38:03.153Z"
   },
   {
    "duration": 9,
    "start_time": "2023-01-13T19:38:03.165Z"
   },
   {
    "duration": 18,
    "start_time": "2023-01-13T19:38:03.176Z"
   },
   {
    "duration": 23,
    "start_time": "2023-01-13T19:38:03.196Z"
   },
   {
    "duration": 12,
    "start_time": "2023-01-13T19:38:03.221Z"
   },
   {
    "duration": 23,
    "start_time": "2023-01-13T19:38:03.235Z"
   },
   {
    "duration": 16,
    "start_time": "2023-01-13T19:38:03.260Z"
   },
   {
    "duration": 15,
    "start_time": "2023-01-13T19:38:03.277Z"
   },
   {
    "duration": 29,
    "start_time": "2023-01-13T19:38:03.294Z"
   },
   {
    "duration": 20,
    "start_time": "2023-01-13T19:38:03.325Z"
   },
   {
    "duration": 19,
    "start_time": "2023-01-13T19:38:03.347Z"
   },
   {
    "duration": 506,
    "start_time": "2023-01-13T19:38:03.368Z"
   },
   {
    "duration": 70,
    "start_time": "2023-01-13T19:38:03.876Z"
   },
   {
    "duration": 413,
    "start_time": "2023-01-13T19:38:03.947Z"
   },
   {
    "duration": 415,
    "start_time": "2023-01-13T19:38:04.361Z"
   },
   {
    "duration": 401,
    "start_time": "2023-01-13T19:38:04.778Z"
   },
   {
    "duration": 71,
    "start_time": "2023-01-13T19:38:05.181Z"
   },
   {
    "duration": 257,
    "start_time": "2023-01-13T19:38:05.253Z"
   },
   {
    "duration": 200,
    "start_time": "2023-01-13T19:38:05.514Z"
   },
   {
    "duration": 258,
    "start_time": "2023-01-13T19:38:05.716Z"
   },
   {
    "duration": 337,
    "start_time": "2023-01-13T19:38:05.975Z"
   },
   {
    "duration": 1025,
    "start_time": "2023-01-13T19:38:06.314Z"
   },
   {
    "duration": 1055,
    "start_time": "2023-01-13T19:38:07.341Z"
   },
   {
    "duration": 6,
    "start_time": "2023-01-13T19:38:08.398Z"
   },
   {
    "duration": 14,
    "start_time": "2023-01-13T19:38:08.406Z"
   },
   {
    "duration": 19,
    "start_time": "2023-01-13T19:38:08.438Z"
   },
   {
    "duration": 450,
    "start_time": "2023-01-13T19:38:08.460Z"
   },
   {
    "duration": 181,
    "start_time": "2023-01-13T19:38:08.912Z"
   },
   {
    "duration": 11,
    "start_time": "2023-01-13T19:38:09.094Z"
   },
   {
    "duration": 200,
    "start_time": "2023-01-13T19:38:09.107Z"
   },
   {
    "duration": 153,
    "start_time": "2023-01-13T19:38:09.309Z"
   },
   {
    "duration": 164,
    "start_time": "2023-01-13T19:38:09.464Z"
   },
   {
    "duration": 168,
    "start_time": "2023-01-13T19:38:09.630Z"
   },
   {
    "duration": 163,
    "start_time": "2023-01-13T19:38:09.800Z"
   },
   {
    "duration": 5,
    "start_time": "2023-01-13T19:38:09.965Z"
   },
   {
    "duration": 167,
    "start_time": "2023-01-13T19:38:09.972Z"
   },
   {
    "duration": 168,
    "start_time": "2023-01-13T19:38:10.141Z"
   },
   {
    "duration": 168,
    "start_time": "2023-01-13T19:38:10.311Z"
   },
   {
    "duration": 8,
    "start_time": "2023-01-13T19:38:10.480Z"
   },
   {
    "duration": 10,
    "start_time": "2023-01-13T19:38:10.490Z"
   },
   {
    "duration": 14,
    "start_time": "2023-01-13T19:38:10.502Z"
   },
   {
    "duration": 18,
    "start_time": "2023-01-13T19:38:10.537Z"
   },
   {
    "duration": 24,
    "start_time": "2023-01-13T19:38:10.557Z"
   },
   {
    "duration": 15,
    "start_time": "2023-01-13T19:38:10.582Z"
   },
   {
    "duration": 1198,
    "start_time": "2023-01-13T19:38:45.607Z"
   },
   {
    "duration": 325,
    "start_time": "2023-01-13T19:38:59.103Z"
   },
   {
    "duration": 296,
    "start_time": "2023-01-13T19:39:53.808Z"
   },
   {
    "duration": 302,
    "start_time": "2023-01-13T19:40:07.438Z"
   },
   {
    "duration": 347,
    "start_time": "2023-01-13T19:40:20.837Z"
   },
   {
    "duration": 219,
    "start_time": "2023-01-13T19:41:06.748Z"
   },
   {
    "duration": 317,
    "start_time": "2023-01-13T19:58:16.646Z"
   },
   {
    "duration": 329,
    "start_time": "2023-01-13T19:58:33.904Z"
   },
   {
    "duration": 311,
    "start_time": "2023-01-13T19:59:00.046Z"
   },
   {
    "duration": 354,
    "start_time": "2023-01-13T19:59:29.711Z"
   },
   {
    "duration": 327,
    "start_time": "2023-01-13T20:00:12.956Z"
   },
   {
    "duration": 11,
    "start_time": "2023-01-13T20:00:26.933Z"
   },
   {
    "duration": 12,
    "start_time": "2023-01-13T20:04:33.449Z"
   },
   {
    "duration": 13,
    "start_time": "2023-01-13T20:04:49.497Z"
   },
   {
    "duration": 12,
    "start_time": "2023-01-13T20:04:54.855Z"
   },
   {
    "duration": 11,
    "start_time": "2023-01-13T20:08:33.182Z"
   },
   {
    "duration": 16,
    "start_time": "2023-01-13T20:08:41.856Z"
   },
   {
    "duration": 79,
    "start_time": "2023-01-13T20:09:51.170Z"
   },
   {
    "duration": 13,
    "start_time": "2023-01-13T20:10:20.332Z"
   },
   {
    "duration": 12,
    "start_time": "2023-01-13T20:15:42.843Z"
   },
   {
    "duration": 349,
    "start_time": "2023-01-13T20:15:48.594Z"
   },
   {
    "duration": 11,
    "start_time": "2023-01-13T20:16:15.679Z"
   },
   {
    "duration": 396,
    "start_time": "2023-01-13T20:16:18.634Z"
   },
   {
    "duration": 248,
    "start_time": "2023-01-13T20:16:54.542Z"
   },
   {
    "duration": 299,
    "start_time": "2023-01-13T20:17:48.104Z"
   },
   {
    "duration": 11,
    "start_time": "2023-01-13T20:20:06.425Z"
   },
   {
    "duration": 324,
    "start_time": "2023-01-13T20:20:07.216Z"
   },
   {
    "duration": 10,
    "start_time": "2023-01-13T20:20:20.934Z"
   },
   {
    "duration": 255,
    "start_time": "2023-01-13T20:20:21.832Z"
   },
   {
    "duration": 11,
    "start_time": "2023-01-13T20:20:43.105Z"
   },
   {
    "duration": 315,
    "start_time": "2023-01-13T20:20:48.762Z"
   },
   {
    "duration": 264,
    "start_time": "2023-01-13T20:21:10.417Z"
   },
   {
    "duration": 281,
    "start_time": "2023-01-13T20:21:35.904Z"
   },
   {
    "duration": 285,
    "start_time": "2023-01-13T20:21:45.910Z"
   },
   {
    "duration": 272,
    "start_time": "2023-01-13T20:24:16.012Z"
   },
   {
    "duration": 282,
    "start_time": "2023-01-13T20:24:25.542Z"
   },
   {
    "duration": 313,
    "start_time": "2023-01-13T20:24:37.342Z"
   },
   {
    "duration": 409,
    "start_time": "2023-01-13T20:24:49.941Z"
   },
   {
    "duration": 306,
    "start_time": "2023-01-13T20:24:58.159Z"
   },
   {
    "duration": 259,
    "start_time": "2023-01-13T20:25:05.569Z"
   },
   {
    "duration": 280,
    "start_time": "2023-01-13T20:25:11.809Z"
   },
   {
    "duration": 10,
    "start_time": "2023-01-13T20:26:16.543Z"
   },
   {
    "duration": 11,
    "start_time": "2023-01-13T20:26:21.236Z"
   },
   {
    "duration": 271,
    "start_time": "2023-01-13T20:26:21.871Z"
   },
   {
    "duration": 16,
    "start_time": "2023-01-13T20:28:06.046Z"
   },
   {
    "duration": 15,
    "start_time": "2023-01-13T20:28:13.322Z"
   },
   {
    "duration": 12,
    "start_time": "2023-01-13T20:28:30.489Z"
   },
   {
    "duration": 271,
    "start_time": "2023-01-13T20:29:17.313Z"
   },
   {
    "duration": 298,
    "start_time": "2023-01-13T20:29:27.462Z"
   },
   {
    "duration": 286,
    "start_time": "2023-01-13T20:29:37.927Z"
   },
   {
    "duration": 12,
    "start_time": "2023-01-13T20:30:44.718Z"
   },
   {
    "duration": 274,
    "start_time": "2023-01-13T20:31:32.943Z"
   },
   {
    "duration": 246,
    "start_time": "2023-01-13T20:32:01.991Z"
   },
   {
    "duration": 238,
    "start_time": "2023-01-13T20:32:06.814Z"
   },
   {
    "duration": 392,
    "start_time": "2023-01-13T20:32:18.889Z"
   },
   {
    "duration": 14,
    "start_time": "2023-01-13T20:52:42.731Z"
   },
   {
    "duration": 353,
    "start_time": "2023-01-13T20:53:42.210Z"
   },
   {
    "duration": 315,
    "start_time": "2023-01-13T20:53:47.994Z"
   },
   {
    "duration": 317,
    "start_time": "2023-01-13T20:54:03.446Z"
   },
   {
    "duration": 11,
    "start_time": "2023-01-13T20:56:36.179Z"
   },
   {
    "duration": 1183,
    "start_time": "2023-01-13T20:57:35.353Z"
   },
   {
    "duration": 330,
    "start_time": "2023-01-13T20:57:47.616Z"
   },
   {
    "duration": 335,
    "start_time": "2023-01-13T20:58:00.158Z"
   },
   {
    "duration": 331,
    "start_time": "2023-01-13T20:58:26.282Z"
   },
   {
    "duration": 12,
    "start_time": "2023-01-13T20:59:31.209Z"
   },
   {
    "duration": 298,
    "start_time": "2023-01-13T21:00:40.145Z"
   },
   {
    "duration": 352,
    "start_time": "2023-01-13T21:00:53.849Z"
   },
   {
    "duration": 307,
    "start_time": "2023-01-13T21:00:59.171Z"
   },
   {
    "duration": 380,
    "start_time": "2023-01-13T21:01:08.740Z"
   },
   {
    "duration": 3,
    "start_time": "2023-01-13T21:09:26.734Z"
   },
   {
    "duration": 73,
    "start_time": "2023-01-13T21:09:26.740Z"
   },
   {
    "duration": 24,
    "start_time": "2023-01-13T21:09:26.815Z"
   },
   {
    "duration": 152,
    "start_time": "2023-01-13T21:09:26.841Z"
   },
   {
    "duration": 4,
    "start_time": "2023-01-13T21:09:26.996Z"
   },
   {
    "duration": 20,
    "start_time": "2023-01-13T21:09:27.002Z"
   },
   {
    "duration": 24,
    "start_time": "2023-01-13T21:09:27.024Z"
   },
   {
    "duration": 14,
    "start_time": "2023-01-13T21:09:27.049Z"
   },
   {
    "duration": 16,
    "start_time": "2023-01-13T21:09:27.065Z"
   },
   {
    "duration": 9,
    "start_time": "2023-01-13T21:09:27.083Z"
   },
   {
    "duration": 10,
    "start_time": "2023-01-13T21:09:27.094Z"
   },
   {
    "duration": 8,
    "start_time": "2023-01-13T21:09:27.105Z"
   },
   {
    "duration": 22,
    "start_time": "2023-01-13T21:09:27.115Z"
   },
   {
    "duration": 5,
    "start_time": "2023-01-13T21:09:27.141Z"
   },
   {
    "duration": 19,
    "start_time": "2023-01-13T21:09:27.147Z"
   },
   {
    "duration": 6,
    "start_time": "2023-01-13T21:09:27.168Z"
   },
   {
    "duration": 9,
    "start_time": "2023-01-13T21:09:27.176Z"
   },
   {
    "duration": 19,
    "start_time": "2023-01-13T21:09:27.187Z"
   },
   {
    "duration": 40,
    "start_time": "2023-01-13T21:09:27.208Z"
   },
   {
    "duration": 19,
    "start_time": "2023-01-13T21:09:27.250Z"
   },
   {
    "duration": 252,
    "start_time": "2023-01-13T21:09:27.271Z"
   },
   {
    "duration": 23,
    "start_time": "2023-01-13T21:09:27.525Z"
   },
   {
    "duration": 210,
    "start_time": "2023-01-13T21:09:27.550Z"
   },
   {
    "duration": 215,
    "start_time": "2023-01-13T21:09:27.762Z"
   },
   {
    "duration": 209,
    "start_time": "2023-01-13T21:09:27.979Z"
   },
   {
    "duration": 19,
    "start_time": "2023-01-13T21:09:28.189Z"
   },
   {
    "duration": 271,
    "start_time": "2023-01-13T21:09:28.209Z"
   },
   {
    "duration": 190,
    "start_time": "2023-01-13T21:09:28.482Z"
   },
   {
    "duration": 284,
    "start_time": "2023-01-13T21:09:28.674Z"
   },
   {
    "duration": 281,
    "start_time": "2023-01-13T21:09:28.960Z"
   },
   {
    "duration": 1124,
    "start_time": "2023-01-13T21:09:29.243Z"
   },
   {
    "duration": 1020,
    "start_time": "2023-01-13T21:09:30.369Z"
   },
   {
    "duration": 6,
    "start_time": "2023-01-13T21:09:31.390Z"
   },
   {
    "duration": 14,
    "start_time": "2023-01-13T21:09:31.398Z"
   },
   {
    "duration": 33,
    "start_time": "2023-01-13T21:09:31.414Z"
   },
   {
    "duration": 280,
    "start_time": "2023-01-13T21:09:31.449Z"
   },
   {
    "duration": 17,
    "start_time": "2023-01-13T21:09:31.731Z"
   },
   {
    "duration": 285,
    "start_time": "2023-01-13T21:09:31.750Z"
   },
   {
    "duration": 12,
    "start_time": "2023-01-13T21:09:32.037Z"
   },
   {
    "duration": 401,
    "start_time": "2023-01-13T21:09:32.050Z"
   },
   {
    "duration": 10,
    "start_time": "2023-01-13T21:09:32.455Z"
   },
   {
    "duration": 231,
    "start_time": "2023-01-13T21:09:32.467Z"
   },
   {
    "duration": 11,
    "start_time": "2023-01-13T21:09:32.699Z"
   },
   {
    "duration": 325,
    "start_time": "2023-01-13T21:09:32.712Z"
   },
   {
    "duration": 12,
    "start_time": "2023-01-13T21:09:33.038Z"
   },
   {
    "duration": 323,
    "start_time": "2023-01-13T21:09:33.052Z"
   },
   {
    "duration": 11,
    "start_time": "2023-01-13T21:09:33.377Z"
   },
   {
    "duration": 325,
    "start_time": "2023-01-13T21:09:33.390Z"
   },
   {
    "duration": 322,
    "start_time": "2023-01-13T21:09:33.717Z"
   },
   {
    "duration": 310,
    "start_time": "2023-01-13T21:09:34.041Z"
   },
   {
    "duration": 329,
    "start_time": "2023-01-13T21:09:34.353Z"
   },
   {
    "duration": 60,
    "start_time": "2023-01-13T21:09:34.684Z"
   },
   {
    "duration": 9,
    "start_time": "2023-01-13T21:09:34.746Z"
   },
   {
    "duration": 15,
    "start_time": "2023-01-13T21:09:34.757Z"
   },
   {
    "duration": 67,
    "start_time": "2023-01-13T21:09:34.774Z"
   },
   {
    "duration": 13,
    "start_time": "2023-01-13T21:09:34.844Z"
   },
   {
    "duration": 14,
    "start_time": "2023-01-13T21:09:34.859Z"
   },
   {
    "duration": 1271,
    "start_time": "2023-01-18T15:19:51.506Z"
   },
   {
    "duration": 194,
    "start_time": "2023-01-18T15:19:52.779Z"
   },
   {
    "duration": 17,
    "start_time": "2023-01-18T15:19:52.975Z"
   },
   {
    "duration": 42,
    "start_time": "2023-01-18T15:19:52.994Z"
   },
   {
    "duration": 4,
    "start_time": "2023-01-18T15:19:53.038Z"
   },
   {
    "duration": 5,
    "start_time": "2023-01-18T15:19:53.044Z"
   },
   {
    "duration": 34,
    "start_time": "2023-01-18T15:19:53.050Z"
   },
   {
    "duration": 15,
    "start_time": "2023-01-18T15:19:53.086Z"
   },
   {
    "duration": 15,
    "start_time": "2023-01-18T15:19:53.103Z"
   },
   {
    "duration": 7,
    "start_time": "2023-01-18T15:19:53.120Z"
   },
   {
    "duration": 9,
    "start_time": "2023-01-18T15:19:53.129Z"
   },
   {
    "duration": 5,
    "start_time": "2023-01-18T15:19:53.140Z"
   },
   {
    "duration": 39,
    "start_time": "2023-01-18T15:19:53.147Z"
   },
   {
    "duration": 6,
    "start_time": "2023-01-18T15:19:53.191Z"
   },
   {
    "duration": 13,
    "start_time": "2023-01-18T15:19:53.199Z"
   },
   {
    "duration": 6,
    "start_time": "2023-01-18T15:19:53.214Z"
   },
   {
    "duration": 11,
    "start_time": "2023-01-18T15:19:53.222Z"
   },
   {
    "duration": 27,
    "start_time": "2023-01-18T15:19:53.235Z"
   },
   {
    "duration": 16,
    "start_time": "2023-01-18T15:19:53.281Z"
   },
   {
    "duration": 16,
    "start_time": "2023-01-18T15:19:53.298Z"
   },
   {
    "duration": 246,
    "start_time": "2023-01-18T15:19:53.315Z"
   },
   {
    "duration": 33,
    "start_time": "2023-01-18T15:19:53.563Z"
   },
   {
    "duration": 209,
    "start_time": "2023-01-18T15:19:53.598Z"
   },
   {
    "duration": 205,
    "start_time": "2023-01-18T15:19:53.809Z"
   },
   {
    "duration": 208,
    "start_time": "2023-01-18T15:19:54.016Z"
   },
   {
    "duration": 17,
    "start_time": "2023-01-18T15:19:54.226Z"
   },
   {
    "duration": 258,
    "start_time": "2023-01-18T15:19:54.245Z"
   },
   {
    "duration": 193,
    "start_time": "2023-01-18T15:19:54.505Z"
   },
   {
    "duration": 258,
    "start_time": "2023-01-18T15:19:54.700Z"
   },
   {
    "duration": 330,
    "start_time": "2023-01-18T15:19:54.960Z"
   },
   {
    "duration": 1217,
    "start_time": "2023-01-18T15:19:55.292Z"
   },
   {
    "duration": 1877,
    "start_time": "2023-01-18T15:19:56.511Z"
   },
   {
    "duration": 7,
    "start_time": "2023-01-18T15:19:58.389Z"
   },
   {
    "duration": 14,
    "start_time": "2023-01-18T15:19:58.397Z"
   },
   {
    "duration": 15,
    "start_time": "2023-01-18T15:19:58.413Z"
   },
   {
    "duration": 300,
    "start_time": "2023-01-18T15:19:58.430Z"
   },
   {
    "duration": 12,
    "start_time": "2023-01-18T15:19:58.731Z"
   },
   {
    "duration": 380,
    "start_time": "2023-01-18T15:19:58.745Z"
   },
   {
    "duration": 12,
    "start_time": "2023-01-18T15:19:59.126Z"
   },
   {
    "duration": 295,
    "start_time": "2023-01-18T15:19:59.140Z"
   },
   {
    "duration": 12,
    "start_time": "2023-01-18T15:19:59.438Z"
   },
   {
    "duration": 241,
    "start_time": "2023-01-18T15:19:59.451Z"
   },
   {
    "duration": 12,
    "start_time": "2023-01-18T15:19:59.694Z"
   },
   {
    "duration": 362,
    "start_time": "2023-01-18T15:19:59.707Z"
   },
   {
    "duration": 17,
    "start_time": "2023-01-18T15:20:00.071Z"
   },
   {
    "duration": 369,
    "start_time": "2023-01-18T15:20:00.090Z"
   },
   {
    "duration": 20,
    "start_time": "2023-01-18T15:20:00.461Z"
   },
   {
    "duration": 403,
    "start_time": "2023-01-18T15:20:00.484Z"
   },
   {
    "duration": 297,
    "start_time": "2023-01-18T15:20:00.889Z"
   },
   {
    "duration": 0,
    "start_time": "2023-01-18T15:20:01.189Z"
   },
   {
    "duration": 0,
    "start_time": "2023-01-18T15:20:01.190Z"
   },
   {
    "duration": 0,
    "start_time": "2023-01-18T15:20:01.192Z"
   },
   {
    "duration": 0,
    "start_time": "2023-01-18T15:20:01.194Z"
   },
   {
    "duration": 0,
    "start_time": "2023-01-18T15:20:01.196Z"
   },
   {
    "duration": 0,
    "start_time": "2023-01-18T15:20:01.197Z"
   },
   {
    "duration": 0,
    "start_time": "2023-01-18T15:20:01.199Z"
   },
   {
    "duration": 0,
    "start_time": "2023-01-18T15:20:01.200Z"
   },
   {
    "duration": 167,
    "start_time": "2023-01-18T15:20:16.307Z"
   },
   {
    "duration": 133,
    "start_time": "2023-01-18T15:20:25.802Z"
   },
   {
    "duration": 146,
    "start_time": "2023-01-18T15:20:31.202Z"
   },
   {
    "duration": 19,
    "start_time": "2023-01-18T15:27:35.000Z"
   },
   {
    "duration": 167,
    "start_time": "2023-01-18T15:27:39.354Z"
   },
   {
    "duration": 8,
    "start_time": "2023-01-18T15:27:48.588Z"
   },
   {
    "duration": 9,
    "start_time": "2023-01-18T15:29:41.816Z"
   },
   {
    "duration": 6,
    "start_time": "2023-01-18T15:29:45.788Z"
   },
   {
    "duration": 10,
    "start_time": "2023-01-18T15:29:51.316Z"
   },
   {
    "duration": 11,
    "start_time": "2023-01-18T15:29:54.255Z"
   },
   {
    "duration": 99,
    "start_time": "2023-01-18T15:30:31.355Z"
   },
   {
    "duration": 12,
    "start_time": "2023-01-18T15:30:32.291Z"
   },
   {
    "duration": 320,
    "start_time": "2023-01-18T15:56:52.703Z"
   },
   {
    "duration": 48,
    "start_time": "2023-01-18T16:12:57.897Z"
   },
   {
    "duration": 64,
    "start_time": "2023-01-18T16:14:02.697Z"
   },
   {
    "duration": 37,
    "start_time": "2023-01-18T16:14:35.082Z"
   },
   {
    "duration": 49,
    "start_time": "2023-01-18T16:20:49.134Z"
   },
   {
    "duration": 39,
    "start_time": "2023-01-18T16:20:52.897Z"
   },
   {
    "duration": 42,
    "start_time": "2023-01-18T16:21:03.998Z"
   },
   {
    "duration": 4,
    "start_time": "2023-01-18T16:21:09.545Z"
   },
   {
    "duration": 56,
    "start_time": "2023-01-18T16:21:09.551Z"
   },
   {
    "duration": 37,
    "start_time": "2023-01-18T16:21:09.609Z"
   },
   {
    "duration": 92,
    "start_time": "2023-01-18T16:21:09.648Z"
   },
   {
    "duration": 5,
    "start_time": "2023-01-18T16:21:09.742Z"
   },
   {
    "duration": 10,
    "start_time": "2023-01-18T16:21:09.749Z"
   },
   {
    "duration": 22,
    "start_time": "2023-01-18T16:21:09.761Z"
   },
   {
    "duration": 12,
    "start_time": "2023-01-18T16:21:09.785Z"
   },
   {
    "duration": 38,
    "start_time": "2023-01-18T16:21:09.800Z"
   },
   {
    "duration": 5,
    "start_time": "2023-01-18T16:21:09.841Z"
   },
   {
    "duration": 40,
    "start_time": "2023-01-18T16:21:09.848Z"
   },
   {
    "duration": 14,
    "start_time": "2023-01-18T16:21:09.890Z"
   },
   {
    "duration": 13,
    "start_time": "2023-01-18T16:21:09.906Z"
   },
   {
    "duration": 5,
    "start_time": "2023-01-18T16:21:09.920Z"
   },
   {
    "duration": 13,
    "start_time": "2023-01-18T16:21:09.926Z"
   },
   {
    "duration": 7,
    "start_time": "2023-01-18T16:21:09.941Z"
   },
   {
    "duration": 7,
    "start_time": "2023-01-18T16:21:09.949Z"
   },
   {
    "duration": 34,
    "start_time": "2023-01-18T16:21:09.957Z"
   },
   {
    "duration": 15,
    "start_time": "2023-01-18T16:21:09.993Z"
   },
   {
    "duration": 44,
    "start_time": "2023-01-18T16:21:10.010Z"
   },
   {
    "duration": 232,
    "start_time": "2023-01-18T16:21:10.082Z"
   },
   {
    "duration": 45,
    "start_time": "2023-01-18T16:21:10.316Z"
   },
   {
    "duration": 218,
    "start_time": "2023-01-18T16:21:10.363Z"
   },
   {
    "duration": 229,
    "start_time": "2023-01-18T16:21:10.585Z"
   },
   {
    "duration": 203,
    "start_time": "2023-01-18T16:21:10.816Z"
   },
   {
    "duration": 46,
    "start_time": "2023-01-18T16:21:11.021Z"
   },
   {
    "duration": 328,
    "start_time": "2023-01-18T16:21:11.081Z"
   },
   {
    "duration": 408,
    "start_time": "2023-01-18T16:21:11.411Z"
   },
   {
    "duration": 604,
    "start_time": "2023-01-18T16:21:11.821Z"
   },
   {
    "duration": 759,
    "start_time": "2023-01-18T16:21:12.427Z"
   },
   {
    "duration": 2096,
    "start_time": "2023-01-18T16:21:13.188Z"
   },
   {
    "duration": 1086,
    "start_time": "2023-01-18T16:21:15.286Z"
   },
   {
    "duration": 9,
    "start_time": "2023-01-18T16:21:16.374Z"
   },
   {
    "duration": 12,
    "start_time": "2023-01-18T16:21:16.385Z"
   },
   {
    "duration": 42,
    "start_time": "2023-01-18T16:21:16.399Z"
   },
   {
    "duration": 391,
    "start_time": "2023-01-18T16:21:16.442Z"
   },
   {
    "duration": 59,
    "start_time": "2023-01-18T16:21:16.836Z"
   },
   {
    "duration": 386,
    "start_time": "2023-01-18T16:21:16.897Z"
   },
   {
    "duration": 40,
    "start_time": "2023-01-18T16:21:17.286Z"
   },
   {
    "duration": 331,
    "start_time": "2023-01-18T16:21:17.328Z"
   },
   {
    "duration": 49,
    "start_time": "2023-01-18T16:21:17.660Z"
   },
   {
    "duration": 214,
    "start_time": "2023-01-18T16:21:17.711Z"
   },
   {
    "duration": 37,
    "start_time": "2023-01-18T16:21:17.927Z"
   },
   {
    "duration": 306,
    "start_time": "2023-01-18T16:21:17.981Z"
   },
   {
    "duration": 38,
    "start_time": "2023-01-18T16:21:18.289Z"
   },
   {
    "duration": 320,
    "start_time": "2023-01-18T16:21:18.328Z"
   },
   {
    "duration": 50,
    "start_time": "2023-01-18T16:21:18.650Z"
   },
   {
    "duration": 328,
    "start_time": "2023-01-18T16:21:18.702Z"
   },
   {
    "duration": 167,
    "start_time": "2023-01-18T16:21:19.032Z"
   },
   {
    "duration": 154,
    "start_time": "2023-01-18T16:21:19.202Z"
   },
   {
    "duration": 160,
    "start_time": "2023-01-18T16:21:19.358Z"
   },
   {
    "duration": 7,
    "start_time": "2023-01-18T16:21:19.520Z"
   },
   {
    "duration": 17,
    "start_time": "2023-01-18T16:21:19.529Z"
   },
   {
    "duration": 58,
    "start_time": "2023-01-18T16:21:19.548Z"
   },
   {
    "duration": 10,
    "start_time": "2023-01-18T16:21:19.607Z"
   },
   {
    "duration": 64,
    "start_time": "2023-01-18T16:21:19.619Z"
   },
   {
    "duration": 1134,
    "start_time": "2023-01-18T16:23:10.216Z"
   },
   {
    "duration": 56,
    "start_time": "2023-01-18T16:23:11.352Z"
   },
   {
    "duration": 19,
    "start_time": "2023-01-18T16:23:11.410Z"
   },
   {
    "duration": 58,
    "start_time": "2023-01-18T16:23:11.432Z"
   },
   {
    "duration": 4,
    "start_time": "2023-01-18T16:23:11.492Z"
   },
   {
    "duration": 8,
    "start_time": "2023-01-18T16:23:11.498Z"
   },
   {
    "duration": 13,
    "start_time": "2023-01-18T16:23:11.508Z"
   },
   {
    "duration": 19,
    "start_time": "2023-01-18T16:23:11.523Z"
   },
   {
    "duration": 20,
    "start_time": "2023-01-18T16:23:11.544Z"
   },
   {
    "duration": 27,
    "start_time": "2023-01-18T16:23:11.567Z"
   },
   {
    "duration": 15,
    "start_time": "2023-01-18T16:23:11.595Z"
   },
   {
    "duration": 17,
    "start_time": "2023-01-18T16:23:11.612Z"
   },
   {
    "duration": 15,
    "start_time": "2023-01-18T16:23:11.630Z"
   },
   {
    "duration": 10,
    "start_time": "2023-01-18T16:23:11.647Z"
   },
   {
    "duration": 29,
    "start_time": "2023-01-18T16:23:11.659Z"
   },
   {
    "duration": 13,
    "start_time": "2023-01-18T16:23:11.689Z"
   },
   {
    "duration": 25,
    "start_time": "2023-01-18T16:23:11.704Z"
   },
   {
    "duration": 45,
    "start_time": "2023-01-18T16:23:11.731Z"
   },
   {
    "duration": 20,
    "start_time": "2023-01-18T16:23:11.778Z"
   },
   {
    "duration": 27,
    "start_time": "2023-01-18T16:23:11.800Z"
   },
   {
    "duration": 220,
    "start_time": "2023-01-18T16:23:11.828Z"
   },
   {
    "duration": 15,
    "start_time": "2023-01-18T16:23:12.050Z"
   },
   {
    "duration": 199,
    "start_time": "2023-01-18T16:23:12.066Z"
   },
   {
    "duration": 198,
    "start_time": "2023-01-18T16:23:12.267Z"
   },
   {
    "duration": 191,
    "start_time": "2023-01-18T16:23:12.467Z"
   },
   {
    "duration": 27,
    "start_time": "2023-01-18T16:23:12.660Z"
   },
   {
    "duration": 257,
    "start_time": "2023-01-18T16:23:12.688Z"
   },
   {
    "duration": 202,
    "start_time": "2023-01-18T16:23:12.949Z"
   },
   {
    "duration": 259,
    "start_time": "2023-01-18T16:23:13.153Z"
   },
   {
    "duration": 345,
    "start_time": "2023-01-18T16:23:13.413Z"
   },
   {
    "duration": 1020,
    "start_time": "2023-01-18T16:23:13.760Z"
   },
   {
    "duration": 1005,
    "start_time": "2023-01-18T16:23:14.782Z"
   },
   {
    "duration": 7,
    "start_time": "2023-01-18T16:23:15.788Z"
   },
   {
    "duration": 32,
    "start_time": "2023-01-18T16:23:15.797Z"
   },
   {
    "duration": 50,
    "start_time": "2023-01-18T16:23:15.831Z"
   },
   {
    "duration": 403,
    "start_time": "2023-01-18T16:23:15.883Z"
   },
   {
    "duration": 13,
    "start_time": "2023-01-18T16:23:16.288Z"
   },
   {
    "duration": 300,
    "start_time": "2023-01-18T16:23:16.303Z"
   },
   {
    "duration": 10,
    "start_time": "2023-01-18T16:23:16.605Z"
   },
   {
    "duration": 667,
    "start_time": "2023-01-18T16:23:16.617Z"
   },
   {
    "duration": 12,
    "start_time": "2023-01-18T16:23:17.285Z"
   },
   {
    "duration": 418,
    "start_time": "2023-01-18T16:23:17.299Z"
   },
   {
    "duration": 65,
    "start_time": "2023-01-18T16:23:17.718Z"
   },
   {
    "duration": 637,
    "start_time": "2023-01-18T16:23:17.784Z"
   },
   {
    "duration": 68,
    "start_time": "2023-01-18T16:23:18.423Z"
   },
   {
    "duration": 353,
    "start_time": "2023-01-18T16:23:18.493Z"
   },
   {
    "duration": 11,
    "start_time": "2023-01-18T16:23:18.848Z"
   },
   {
    "duration": 356,
    "start_time": "2023-01-18T16:23:18.860Z"
   },
   {
    "duration": 165,
    "start_time": "2023-01-18T16:23:19.218Z"
   },
   {
    "duration": 155,
    "start_time": "2023-01-18T16:23:19.385Z"
   },
   {
    "duration": 166,
    "start_time": "2023-01-18T16:23:19.542Z"
   },
   {
    "duration": 5,
    "start_time": "2023-01-18T16:23:19.710Z"
   },
   {
    "duration": 12,
    "start_time": "2023-01-18T16:23:19.717Z"
   },
   {
    "duration": 15,
    "start_time": "2023-01-18T16:23:19.731Z"
   },
   {
    "duration": 33,
    "start_time": "2023-01-18T16:23:19.748Z"
   },
   {
    "duration": 15,
    "start_time": "2023-01-18T16:23:19.783Z"
   },
   {
    "duration": 18,
    "start_time": "2023-01-18T16:24:25.650Z"
   },
   {
    "duration": 12,
    "start_time": "2023-01-18T16:24:30.125Z"
   },
   {
    "duration": 10,
    "start_time": "2023-01-18T16:24:59.604Z"
   },
   {
    "duration": 12,
    "start_time": "2023-01-18T16:25:00.552Z"
   },
   {
    "duration": 1172,
    "start_time": "2023-01-18T16:33:17.297Z"
   },
   {
    "duration": 56,
    "start_time": "2023-01-18T16:33:18.472Z"
   },
   {
    "duration": 19,
    "start_time": "2023-01-18T16:33:18.529Z"
   },
   {
    "duration": 41,
    "start_time": "2023-01-18T16:33:18.550Z"
   },
   {
    "duration": 5,
    "start_time": "2023-01-18T16:33:18.593Z"
   },
   {
    "duration": 8,
    "start_time": "2023-01-18T16:33:18.600Z"
   },
   {
    "duration": 7,
    "start_time": "2023-01-18T16:33:18.610Z"
   },
   {
    "duration": 14,
    "start_time": "2023-01-18T16:33:18.619Z"
   },
   {
    "duration": 49,
    "start_time": "2023-01-18T16:33:18.634Z"
   },
   {
    "duration": 6,
    "start_time": "2023-01-18T16:33:18.687Z"
   },
   {
    "duration": 17,
    "start_time": "2023-01-18T16:33:18.695Z"
   },
   {
    "duration": 5,
    "start_time": "2023-01-18T16:33:18.714Z"
   },
   {
    "duration": 15,
    "start_time": "2023-01-18T16:33:18.721Z"
   },
   {
    "duration": 6,
    "start_time": "2023-01-18T16:33:18.738Z"
   },
   {
    "duration": 15,
    "start_time": "2023-01-18T16:33:18.746Z"
   },
   {
    "duration": 7,
    "start_time": "2023-01-18T16:33:18.781Z"
   },
   {
    "duration": 17,
    "start_time": "2023-01-18T16:33:18.790Z"
   },
   {
    "duration": 17,
    "start_time": "2023-01-18T16:33:18.810Z"
   },
   {
    "duration": 19,
    "start_time": "2023-01-18T16:33:18.829Z"
   },
   {
    "duration": 50,
    "start_time": "2023-01-18T16:33:18.850Z"
   },
   {
    "duration": 253,
    "start_time": "2023-01-18T16:33:18.902Z"
   },
   {
    "duration": 27,
    "start_time": "2023-01-18T16:33:19.157Z"
   },
   {
    "duration": 231,
    "start_time": "2023-01-18T16:33:19.186Z"
   },
   {
    "duration": 267,
    "start_time": "2023-01-18T16:33:19.419Z"
   },
   {
    "duration": 422,
    "start_time": "2023-01-18T16:33:19.688Z"
   },
   {
    "duration": 78,
    "start_time": "2023-01-18T16:33:20.113Z"
   },
   {
    "duration": 610,
    "start_time": "2023-01-18T16:33:20.193Z"
   },
   {
    "duration": 415,
    "start_time": "2023-01-18T16:33:20.806Z"
   },
   {
    "duration": 574,
    "start_time": "2023-01-18T16:33:21.223Z"
   },
   {
    "duration": 359,
    "start_time": "2023-01-18T16:33:21.799Z"
   },
   {
    "duration": 1080,
    "start_time": "2023-01-18T16:33:22.160Z"
   },
   {
    "duration": 1101,
    "start_time": "2023-01-18T16:33:23.243Z"
   },
   {
    "duration": 6,
    "start_time": "2023-01-18T16:33:24.346Z"
   },
   {
    "duration": 26,
    "start_time": "2023-01-18T16:33:24.354Z"
   },
   {
    "duration": 18,
    "start_time": "2023-01-18T16:33:24.382Z"
   },
   {
    "duration": 407,
    "start_time": "2023-01-18T16:33:24.402Z"
   },
   {
    "duration": 11,
    "start_time": "2023-01-18T16:33:24.811Z"
   },
   {
    "duration": 301,
    "start_time": "2023-01-18T16:33:24.824Z"
   },
   {
    "duration": 13,
    "start_time": "2023-01-18T16:33:25.127Z"
   },
   {
    "duration": 321,
    "start_time": "2023-01-18T16:33:25.141Z"
   },
   {
    "duration": 19,
    "start_time": "2023-01-18T16:33:25.463Z"
   },
   {
    "duration": 243,
    "start_time": "2023-01-18T16:33:25.484Z"
   },
   {
    "duration": 12,
    "start_time": "2023-01-18T16:33:25.730Z"
   },
   {
    "duration": 346,
    "start_time": "2023-01-18T16:33:25.744Z"
   },
   {
    "duration": 12,
    "start_time": "2023-01-18T16:33:26.092Z"
   },
   {
    "duration": 367,
    "start_time": "2023-01-18T16:33:26.106Z"
   },
   {
    "duration": 16,
    "start_time": "2023-01-18T16:33:26.475Z"
   },
   {
    "duration": 394,
    "start_time": "2023-01-18T16:33:26.493Z"
   },
   {
    "duration": 164,
    "start_time": "2023-01-18T16:33:26.889Z"
   },
   {
    "duration": 159,
    "start_time": "2023-01-18T16:33:27.055Z"
   },
   {
    "duration": 170,
    "start_time": "2023-01-18T16:33:27.216Z"
   },
   {
    "duration": 6,
    "start_time": "2023-01-18T16:33:27.389Z"
   },
   {
    "duration": 28,
    "start_time": "2023-01-18T16:33:27.397Z"
   },
   {
    "duration": 17,
    "start_time": "2023-01-18T16:33:27.427Z"
   },
   {
    "duration": 24,
    "start_time": "2023-01-18T16:33:27.446Z"
   },
   {
    "duration": 16,
    "start_time": "2023-01-18T16:33:27.473Z"
   }
  ],
  "kernelspec": {
   "display_name": "Python 3 (ipykernel)",
   "language": "python",
   "name": "python3"
  },
  "language_info": {
   "codemirror_mode": {
    "name": "ipython",
    "version": 3
   },
   "file_extension": ".py",
   "mimetype": "text/x-python",
   "name": "python",
   "nbconvert_exporter": "python",
   "pygments_lexer": "ipython3",
   "version": "3.9.5"
  },
  "toc": {
   "base_numbering": 1,
   "nav_menu": {},
   "number_sections": true,
   "sideBar": true,
   "skip_h1_title": true,
   "title_cell": "Содержание",
   "title_sidebar": "Contents",
   "toc_cell": true,
   "toc_position": {
    "height": "calc(100% - 180px)",
    "left": "10px",
    "top": "150px",
    "width": "238.391px"
   },
   "toc_section_display": true,
   "toc_window_display": true
  }
 },
 "nbformat": 4,
 "nbformat_minor": 2
}
